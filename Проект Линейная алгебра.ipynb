{
 "cells": [
  {
   "cell_type": "markdown",
   "metadata": {
    "toc": true
   },
   "source": [
    "<h1>Содержание<span class=\"tocSkip\"></span></h1>\n",
    "<div class=\"toc\"><ul class=\"toc-item\"><li><span><a href=\"#Загрузка-данных\" data-toc-modified-id=\"Загрузка-данных-1\"><span class=\"toc-item-num\">1&nbsp;&nbsp;</span>Загрузка данных</a></span></li><li><span><a href=\"#Умножение-матриц\" data-toc-modified-id=\"Умножение-матриц-2\"><span class=\"toc-item-num\">2&nbsp;&nbsp;</span>Умножение матриц</a></span></li><li><span><a href=\"#Алгоритм-преобразования\" data-toc-modified-id=\"Алгоритм-преобразования-3\"><span class=\"toc-item-num\">3&nbsp;&nbsp;</span>Алгоритм преобразования</a></span></li><li><span><a href=\"#Проверка-алгоритма\" data-toc-modified-id=\"Проверка-алгоритма-4\"><span class=\"toc-item-num\">4&nbsp;&nbsp;</span>Проверка алгоритма</a></span></li><li><span><a href=\"#Чек-лист-проверки\" data-toc-modified-id=\"Чек-лист-проверки-5\"><span class=\"toc-item-num\">5&nbsp;&nbsp;</span>Чек-лист проверки</a></span></li></ul></div>"
   ]
  },
  {
   "cell_type": "markdown",
   "metadata": {},
   "source": [
    "# Защита персональных данных клиентов"
   ]
  },
  {
   "cell_type": "markdown",
   "metadata": {},
   "source": [
    "Вам нужно защитить данные клиентов страховой компании «Хоть потоп». Разработайте такой метод преобразования данных, чтобы по ним было сложно восстановить персональную информацию. Обоснуйте корректность его работы.\n",
    "\n",
    "Нужно защитить данные, чтобы при преобразовании качество моделей машинного обучения не ухудшилось. Подбирать наилучшую модель не требуется."
   ]
  },
  {
   "cell_type": "markdown",
   "metadata": {},
   "source": [
    "## Загрузка данных"
   ]
  },
  {
   "cell_type": "code",
   "execution_count": 1,
   "metadata": {},
   "outputs": [],
   "source": [
    "import pandas as pd\n",
    "import numpy as np\n",
    "from sklearn.metrics import r2_score\n",
    "from numpy import linalg as LA"
   ]
  },
  {
   "cell_type": "code",
   "execution_count": 2,
   "metadata": {},
   "outputs": [],
   "source": [
    "data = pd.read_csv('/datasets/insurance.csv')"
   ]
  },
  {
   "cell_type": "code",
   "execution_count": 3,
   "metadata": {},
   "outputs": [
    {
     "data": {
      "text/html": [
       "<div>\n",
       "<style scoped>\n",
       "    .dataframe tbody tr th:only-of-type {\n",
       "        vertical-align: middle;\n",
       "    }\n",
       "\n",
       "    .dataframe tbody tr th {\n",
       "        vertical-align: top;\n",
       "    }\n",
       "\n",
       "    .dataframe thead th {\n",
       "        text-align: right;\n",
       "    }\n",
       "</style>\n",
       "<table border=\"1\" class=\"dataframe\">\n",
       "  <thead>\n",
       "    <tr style=\"text-align: right;\">\n",
       "      <th></th>\n",
       "      <th>Пол</th>\n",
       "      <th>Возраст</th>\n",
       "      <th>Зарплата</th>\n",
       "      <th>Члены семьи</th>\n",
       "      <th>Страховые выплаты</th>\n",
       "    </tr>\n",
       "  </thead>\n",
       "  <tbody>\n",
       "    <tr>\n",
       "      <th>0</th>\n",
       "      <td>1</td>\n",
       "      <td>41.0</td>\n",
       "      <td>49600.0</td>\n",
       "      <td>1</td>\n",
       "      <td>0</td>\n",
       "    </tr>\n",
       "    <tr>\n",
       "      <th>1</th>\n",
       "      <td>0</td>\n",
       "      <td>46.0</td>\n",
       "      <td>38000.0</td>\n",
       "      <td>1</td>\n",
       "      <td>1</td>\n",
       "    </tr>\n",
       "    <tr>\n",
       "      <th>2</th>\n",
       "      <td>0</td>\n",
       "      <td>29.0</td>\n",
       "      <td>21000.0</td>\n",
       "      <td>0</td>\n",
       "      <td>0</td>\n",
       "    </tr>\n",
       "    <tr>\n",
       "      <th>3</th>\n",
       "      <td>0</td>\n",
       "      <td>21.0</td>\n",
       "      <td>41700.0</td>\n",
       "      <td>2</td>\n",
       "      <td>0</td>\n",
       "    </tr>\n",
       "    <tr>\n",
       "      <th>4</th>\n",
       "      <td>1</td>\n",
       "      <td>28.0</td>\n",
       "      <td>26100.0</td>\n",
       "      <td>0</td>\n",
       "      <td>0</td>\n",
       "    </tr>\n",
       "  </tbody>\n",
       "</table>\n",
       "</div>"
      ],
      "text/plain": [
       "   Пол  Возраст  Зарплата  Члены семьи  Страховые выплаты\n",
       "0    1     41.0   49600.0            1                  0\n",
       "1    0     46.0   38000.0            1                  1\n",
       "2    0     29.0   21000.0            0                  0\n",
       "3    0     21.0   41700.0            2                  0\n",
       "4    1     28.0   26100.0            0                  0"
      ]
     },
     "execution_count": 3,
     "metadata": {},
     "output_type": "execute_result"
    }
   ],
   "source": [
    "data.head()"
   ]
  },
  {
   "cell_type": "code",
   "execution_count": 4,
   "metadata": {},
   "outputs": [],
   "source": [
    "data['Возраст'] = data['Возраст'].astype('int')\n",
    "data['Зарплата'] = data['Зарплата'].astype('int')"
   ]
  },
  {
   "cell_type": "code",
   "execution_count": 5,
   "metadata": {},
   "outputs": [
    {
     "data": {
      "text/html": [
       "<div>\n",
       "<style scoped>\n",
       "    .dataframe tbody tr th:only-of-type {\n",
       "        vertical-align: middle;\n",
       "    }\n",
       "\n",
       "    .dataframe tbody tr th {\n",
       "        vertical-align: top;\n",
       "    }\n",
       "\n",
       "    .dataframe thead th {\n",
       "        text-align: right;\n",
       "    }\n",
       "</style>\n",
       "<table border=\"1\" class=\"dataframe\">\n",
       "  <thead>\n",
       "    <tr style=\"text-align: right;\">\n",
       "      <th></th>\n",
       "      <th>Пол</th>\n",
       "      <th>Возраст</th>\n",
       "      <th>Зарплата</th>\n",
       "      <th>Члены семьи</th>\n",
       "      <th>Страховые выплаты</th>\n",
       "    </tr>\n",
       "  </thead>\n",
       "  <tbody>\n",
       "    <tr>\n",
       "      <th>0</th>\n",
       "      <td>1</td>\n",
       "      <td>41</td>\n",
       "      <td>49600</td>\n",
       "      <td>1</td>\n",
       "      <td>0</td>\n",
       "    </tr>\n",
       "    <tr>\n",
       "      <th>1</th>\n",
       "      <td>0</td>\n",
       "      <td>46</td>\n",
       "      <td>38000</td>\n",
       "      <td>1</td>\n",
       "      <td>1</td>\n",
       "    </tr>\n",
       "    <tr>\n",
       "      <th>2</th>\n",
       "      <td>0</td>\n",
       "      <td>29</td>\n",
       "      <td>21000</td>\n",
       "      <td>0</td>\n",
       "      <td>0</td>\n",
       "    </tr>\n",
       "    <tr>\n",
       "      <th>3</th>\n",
       "      <td>0</td>\n",
       "      <td>21</td>\n",
       "      <td>41700</td>\n",
       "      <td>2</td>\n",
       "      <td>0</td>\n",
       "    </tr>\n",
       "    <tr>\n",
       "      <th>4</th>\n",
       "      <td>1</td>\n",
       "      <td>28</td>\n",
       "      <td>26100</td>\n",
       "      <td>0</td>\n",
       "      <td>0</td>\n",
       "    </tr>\n",
       "    <tr>\n",
       "      <th>...</th>\n",
       "      <td>...</td>\n",
       "      <td>...</td>\n",
       "      <td>...</td>\n",
       "      <td>...</td>\n",
       "      <td>...</td>\n",
       "    </tr>\n",
       "    <tr>\n",
       "      <th>4995</th>\n",
       "      <td>0</td>\n",
       "      <td>28</td>\n",
       "      <td>35700</td>\n",
       "      <td>2</td>\n",
       "      <td>0</td>\n",
       "    </tr>\n",
       "    <tr>\n",
       "      <th>4996</th>\n",
       "      <td>0</td>\n",
       "      <td>34</td>\n",
       "      <td>52400</td>\n",
       "      <td>1</td>\n",
       "      <td>0</td>\n",
       "    </tr>\n",
       "    <tr>\n",
       "      <th>4997</th>\n",
       "      <td>0</td>\n",
       "      <td>20</td>\n",
       "      <td>33900</td>\n",
       "      <td>2</td>\n",
       "      <td>0</td>\n",
       "    </tr>\n",
       "    <tr>\n",
       "      <th>4998</th>\n",
       "      <td>1</td>\n",
       "      <td>22</td>\n",
       "      <td>32700</td>\n",
       "      <td>3</td>\n",
       "      <td>0</td>\n",
       "    </tr>\n",
       "    <tr>\n",
       "      <th>4999</th>\n",
       "      <td>1</td>\n",
       "      <td>28</td>\n",
       "      <td>40600</td>\n",
       "      <td>1</td>\n",
       "      <td>0</td>\n",
       "    </tr>\n",
       "  </tbody>\n",
       "</table>\n",
       "<p>5000 rows × 5 columns</p>\n",
       "</div>"
      ],
      "text/plain": [
       "      Пол  Возраст  Зарплата  Члены семьи  Страховые выплаты\n",
       "0       1       41     49600            1                  0\n",
       "1       0       46     38000            1                  1\n",
       "2       0       29     21000            0                  0\n",
       "3       0       21     41700            2                  0\n",
       "4       1       28     26100            0                  0\n",
       "...   ...      ...       ...          ...                ...\n",
       "4995    0       28     35700            2                  0\n",
       "4996    0       34     52400            1                  0\n",
       "4997    0       20     33900            2                  0\n",
       "4998    1       22     32700            3                  0\n",
       "4999    1       28     40600            1                  0\n",
       "\n",
       "[5000 rows x 5 columns]"
      ]
     },
     "execution_count": 5,
     "metadata": {},
     "output_type": "execute_result"
    }
   ],
   "source": [
    "data"
   ]
  },
  {
   "cell_type": "code",
   "execution_count": 6,
   "metadata": {},
   "outputs": [
    {
     "data": {
      "text/plain": [
       "Пол                  0\n",
       "Возраст              0\n",
       "Зарплата             0\n",
       "Члены семьи          0\n",
       "Страховые выплаты    0\n",
       "dtype: int64"
      ]
     },
     "execution_count": 6,
     "metadata": {},
     "output_type": "execute_result"
    }
   ],
   "source": [
    "data.isna().sum()"
   ]
  },
  {
   "cell_type": "code",
   "execution_count": 7,
   "metadata": {},
   "outputs": [
    {
     "data": {
      "text/plain": [
       "Index(['Пол', 'Возраст', 'Зарплата', 'Члены семьи', 'Страховые выплаты'], dtype='object')"
      ]
     },
     "execution_count": 7,
     "metadata": {},
     "output_type": "execute_result"
    }
   ],
   "source": [
    "data.columns"
   ]
  },
  {
   "cell_type": "code",
   "execution_count": 8,
   "metadata": {},
   "outputs": [],
   "source": [
    "def unique_data(data,name):\n",
    "    print(name,':',data[name].unique())"
   ]
  },
  {
   "cell_type": "code",
   "execution_count": 9,
   "metadata": {},
   "outputs": [
    {
     "name": "stdout",
     "output_type": "stream",
     "text": [
      "Пол : [1 0]\n",
      "Возраст : [41 46 29 21 28 43 39 25 36 32 38 23 40 34 26 42 27 33 47 30 19 31 22 20\n",
      " 24 18 37 48 45 44 52 49 35 56 65 55 57 54 50 53 51 58 59 60 61 62]\n",
      "Члены семьи : [1 0 2 4 3 5 6]\n",
      "Страховые выплаты : [0 1 2 3 5 4]\n"
     ]
    }
   ],
   "source": [
    "unique_data(data, 'Пол')\n",
    "unique_data(data, 'Возраст')\n",
    "unique_data(data, 'Члены семьи')\n",
    "unique_data(data, 'Страховые выплаты')"
   ]
  },
  {
   "cell_type": "code",
   "execution_count": 10,
   "metadata": {},
   "outputs": [],
   "source": [
    "def drive_hist(data,name):\n",
    "    data.hist(name, grid=True, figsize = (10,5))"
   ]
  },
  {
   "cell_type": "code",
   "execution_count": 11,
   "metadata": {},
   "outputs": [
    {
     "data": {
      "image/png": "[encoded data removed]",
      "text/plain": [
       "<Figure size 720x360 with 1 Axes>"
      ]
     },
     "metadata": {
      "needs_background": "light"
     },
     "output_type": "display_data"
    },
    {
     "data": {
      "image/png": "[encoded data removed]",
      "text/plain": [
       "<Figure size 720x360 with 1 Axes>"
      ]
     },
     "metadata": {
      "needs_background": "light"
     },
     "output_type": "display_data"
    },
    {
     "data": {
      "image/png": "[encoded data removed]",
      "text/plain": [
       "<Figure size 720x360 with 1 Axes>"
      ]
     },
     "metadata": {
      "needs_background": "light"
     },
     "output_type": "display_data"
    }
   ],
   "source": [
    "drive_hist(data, 'Зарплата')\n",
    "drive_hist(data, 'Возраст')\n",
    "drive_hist(data, 'Члены семьи')"
   ]
  },
  {
   "cell_type": "code",
   "execution_count": 12,
   "metadata": {
    "scrolled": true
   },
   "outputs": [
    {
     "name": "stdout",
     "output_type": "stream",
     "text": [
      "0.42494550308169177\n"
     ]
    }
   ],
   "source": [
    "features = data.drop(\"Страховые выплаты\", axis=1)\n",
    "target = data[\"Страховые выплаты\"]\n",
    "\n",
    "class LinearRegression:\n",
    "    def fit(self, train_features, train_target):\n",
    "        X = np.concatenate((np.ones((train_features.shape[0], 1)), train_features), axis=1)\n",
    "        y = train_target\n",
    "        w = np.linalg.inv(X.T.dot(X)).dot(X.T).dot(y)\n",
    "        self.w = w[1:]\n",
    "        self.w0 = w[0]\n",
    "\n",
    "    def predict(self, test_features):\n",
    "        return test_features.dot(self.w) + self.w0\n",
    "    \n",
    "model = LinearRegression()\n",
    "model.fit(features, target)\n",
    "predictions = model.predict(features)\n",
    "print(r2_score(target, predictions))"
   ]
  },
  {
   "cell_type": "markdown",
   "metadata": {},
   "source": [
    "## Умножение матриц"
   ]
  },
  {
   "cell_type": "markdown",
   "metadata": {},
   "source": [
    "В этом задании вы можете записывать формулы в *Jupyter Notebook.*\n",
    "\n",
    "Чтобы записать формулу внутри текста, окружите её символами доллара \\\\$; если снаружи —  двойными символами \\\\$\\\\$. Эти формулы записываются на языке вёрстки *LaTeX.* \n",
    "\n",
    "Для примера мы записали формулы линейной регрессии. Можете их скопировать и отредактировать, чтобы решить задачу.\n",
    "\n",
    "Работать в *LaTeX* необязательно."
   ]
  },
  {
   "cell_type": "markdown",
   "metadata": {},
   "source": [
    "Обозначения:\n",
    "\n",
    "- $X$ — матрица признаков (нулевой столбец состоит из единиц)\n",
    "\n",
    "- $y$ — вектор целевого признака\n",
    "\n",
    "- $P$ — матрица, на которую умножаются признаки\n",
    "\n",
    "- $w$ — вектор весов линейной регрессии (нулевой элемент равен сдвигу)"
   ]
  },
  {
   "cell_type": "markdown",
   "metadata": {},
   "source": [
    "Предсказания:\n",
    "\n",
    "$$\n",
    "a = Xw\n",
    "$$\n",
    "\n",
    "Задача обучения:\n",
    "\n",
    "$$\n",
    "w = \\arg\\min_w MSE(Xw, y)\n",
    "$$\n",
    "\n",
    "Формула обучения:\n",
    "\n",
    "$$\n",
    "w = (X^T X)^{-1} X^T y\n",
    "$$"
   ]
  },
  {
   "cell_type": "markdown",
   "metadata": {},
   "source": [
    "**Ответ:** Результат не изменится\n",
    "\n",
    "**Обоснование:**\n",
    "Упростим формулу обучения, раскроем скобки\n",
    "$\n",
    "w = (X^T X)^{-1} X^T y = X^{-1}(X^T)^{-1}X^Ty = X^{-1}y\n",
    "$\n",
    "\n",
    "Подставим в формулу предсказания\n",
    "$\n",
    "a=XX^{-1}y\n",
    "$\n",
    "\n",
    "Добавим обратимую матрицу\n",
    "$\n",
    "w1 = ((XA)^T(XA))^{-1}(XA)^Ty\n",
    "$\n",
    "\n",
    "Подставим в формулу предсказания и раскроем скобки\n",
    "\n",
    "$\n",
    "а1 = X_{1}((XA)^TXA)^{-1}(XA)^Ty = X_{1}(A^T X^T XA)^{-1}A^TX^Ty = X_{1}A^{-1}A(X^TX)^{-1}EX^Ty = X_{1}E(X^TX)^{-1}EX^Ty= X_{1}(X^TX)^{-1}X^Ty\n",
    "$"
   ]
  },
  {
   "cell_type": "markdown",
   "metadata": {},
   "source": [
    "## Алгоритм преобразования"
   ]
  },
  {
   "cell_type": "markdown",
   "metadata": {},
   "source": [
    "**Алгоритм**\n",
    "\n"
   ]
  },
  {
   "cell_type": "markdown",
   "metadata": {},
   "source": [
    "Для защиты данных я выбрала умножать матрицу признаков на обратимую матрицу, исходя из формул и доказательства выше. Обратимая матрица должна быть размерностью соответсвующая количеству признаков в нашем датасете (4х4)"
   ]
  },
  {
   "cell_type": "markdown",
   "metadata": {},
   "source": [
    "## Проверка алгоритма"
   ]
  },
  {
   "cell_type": "code",
   "execution_count": 13,
   "metadata": {},
   "outputs": [
    {
     "data": {
      "text/plain": [
       "array([[-3.20945977,  2.7224502 ,  1.1714817 ,  1.3520188 ],\n",
       "       [-5.60219836,  5.70707867, -1.00288556,  3.66764128],\n",
       "       [ 1.38471533,  0.45565777, -1.41434593, -1.10945644],\n",
       "       [ 7.56596055, -8.04889236,  1.33987298, -3.21249606]])"
      ]
     },
     "execution_count": 13,
     "metadata": {},
     "output_type": "execute_result"
    }
   ],
   "source": [
    "#создам матрицу 4х4\n",
    "inv_matrix = np.random.rand(4,4)\n",
    "#проверю на обратимость\n",
    "np.linalg.inv(inv_matrix)"
   ]
  },
  {
   "cell_type": "code",
   "execution_count": 14,
   "metadata": {},
   "outputs": [],
   "source": [
    "features_inv = features @ inv_matrix"
   ]
  },
  {
   "cell_type": "code",
   "execution_count": 15,
   "metadata": {},
   "outputs": [
    {
     "data": {
      "text/html": [
       "<div>\n",
       "<style scoped>\n",
       "    .dataframe tbody tr th:only-of-type {\n",
       "        vertical-align: middle;\n",
       "    }\n",
       "\n",
       "    .dataframe tbody tr th {\n",
       "        vertical-align: top;\n",
       "    }\n",
       "\n",
       "    .dataframe thead th {\n",
       "        text-align: right;\n",
       "    }\n",
       "</style>\n",
       "<table border=\"1\" class=\"dataframe\">\n",
       "  <thead>\n",
       "    <tr style=\"text-align: right;\">\n",
       "      <th></th>\n",
       "      <th>0</th>\n",
       "      <th>1</th>\n",
       "      <th>2</th>\n",
       "      <th>3</th>\n",
       "    </tr>\n",
       "  </thead>\n",
       "  <tbody>\n",
       "    <tr>\n",
       "      <th>0</th>\n",
       "      <td>44817.520064</td>\n",
       "      <td>7272.484294</td>\n",
       "      <td>17051.206286</td>\n",
       "      <td>21275.799624</td>\n",
       "    </tr>\n",
       "    <tr>\n",
       "      <th>1</th>\n",
       "      <td>34347.439343</td>\n",
       "      <td>5576.490549</td>\n",
       "      <td>13075.300353</td>\n",
       "      <td>16306.159863</td>\n",
       "    </tr>\n",
       "    <tr>\n",
       "      <th>2</th>\n",
       "      <td>18984.330072</td>\n",
       "      <td>3082.546688</td>\n",
       "      <td>7228.806999</td>\n",
       "      <td>9012.555824</td>\n",
       "    </tr>\n",
       "    <tr>\n",
       "      <th>3</th>\n",
       "      <td>37667.700891</td>\n",
       "      <td>6109.769999</td>\n",
       "      <td>14323.224687</td>\n",
       "      <td>17881.077297</td>\n",
       "    </tr>\n",
       "    <tr>\n",
       "      <th>4</th>\n",
       "      <td>23588.981688</td>\n",
       "      <td>3829.022647</td>\n",
       "      <td>8978.384532</td>\n",
       "      <td>11198.488936</td>\n",
       "    </tr>\n",
       "    <tr>\n",
       "      <th>...</th>\n",
       "      <td>...</td>\n",
       "      <td>...</td>\n",
       "      <td>...</td>\n",
       "      <td>...</td>\n",
       "    </tr>\n",
       "    <tr>\n",
       "      <th>4995</th>\n",
       "      <td>32256.179253</td>\n",
       "      <td>5234.465574</td>\n",
       "      <td>12270.996921</td>\n",
       "      <td>15313.004328</td>\n",
       "    </tr>\n",
       "    <tr>\n",
       "      <th>4996</th>\n",
       "      <td>47339.039326</td>\n",
       "      <td>7678.924154</td>\n",
       "      <td>18004.774975</td>\n",
       "      <td>22471.715214</td>\n",
       "    </tr>\n",
       "    <tr>\n",
       "      <th>4997</th>\n",
       "      <td>30624.415400</td>\n",
       "      <td>4968.290880</td>\n",
       "      <td>11646.642626</td>\n",
       "      <td>14537.994879</td>\n",
       "    </tr>\n",
       "    <tr>\n",
       "      <th>4998</th>\n",
       "      <td>29543.560181</td>\n",
       "      <td>4795.000464</td>\n",
       "      <td>11237.811493</td>\n",
       "      <td>14026.142635</td>\n",
       "    </tr>\n",
       "    <tr>\n",
       "      <th>4999</th>\n",
       "      <td>36680.908598</td>\n",
       "      <td>5951.190120</td>\n",
       "      <td>13952.654717</td>\n",
       "      <td>17413.016149</td>\n",
       "    </tr>\n",
       "  </tbody>\n",
       "</table>\n",
       "<p>5000 rows × 4 columns</p>\n",
       "</div>"
      ],
      "text/plain": [
       "                 0            1             2             3\n",
       "0     44817.520064  7272.484294  17051.206286  21275.799624\n",
       "1     34347.439343  5576.490549  13075.300353  16306.159863\n",
       "2     18984.330072  3082.546688   7228.806999   9012.555824\n",
       "3     37667.700891  6109.769999  14323.224687  17881.077297\n",
       "4     23588.981688  3829.022647   8978.384532  11198.488936\n",
       "...            ...          ...           ...           ...\n",
       "4995  32256.179253  5234.465574  12270.996921  15313.004328\n",
       "4996  47339.039326  7678.924154  18004.774975  22471.715214\n",
       "4997  30624.415400  4968.290880  11646.642626  14537.994879\n",
       "4998  29543.560181  4795.000464  11237.811493  14026.142635\n",
       "4999  36680.908598  5951.190120  13952.654717  17413.016149\n",
       "\n",
       "[5000 rows x 4 columns]"
      ]
     },
     "execution_count": 15,
     "metadata": {},
     "output_type": "execute_result"
    }
   ],
   "source": [
    "features_inv"
   ]
  },
  {
   "cell_type": "code",
   "execution_count": 16,
   "metadata": {},
   "outputs": [
    {
     "data": {
      "text/html": [
       "<div>\n",
       "<style scoped>\n",
       "    .dataframe tbody tr th:only-of-type {\n",
       "        vertical-align: middle;\n",
       "    }\n",
       "\n",
       "    .dataframe tbody tr th {\n",
       "        vertical-align: top;\n",
       "    }\n",
       "\n",
       "    .dataframe thead th {\n",
       "        text-align: right;\n",
       "    }\n",
       "</style>\n",
       "<table border=\"1\" class=\"dataframe\">\n",
       "  <thead>\n",
       "    <tr style=\"text-align: right;\">\n",
       "      <th></th>\n",
       "      <th>Пол</th>\n",
       "      <th>Возраст</th>\n",
       "      <th>Зарплата</th>\n",
       "      <th>Члены семьи</th>\n",
       "    </tr>\n",
       "  </thead>\n",
       "  <tbody>\n",
       "    <tr>\n",
       "      <th>0</th>\n",
       "      <td>1</td>\n",
       "      <td>41</td>\n",
       "      <td>49600</td>\n",
       "      <td>1</td>\n",
       "    </tr>\n",
       "    <tr>\n",
       "      <th>1</th>\n",
       "      <td>0</td>\n",
       "      <td>46</td>\n",
       "      <td>38000</td>\n",
       "      <td>1</td>\n",
       "    </tr>\n",
       "    <tr>\n",
       "      <th>2</th>\n",
       "      <td>0</td>\n",
       "      <td>29</td>\n",
       "      <td>21000</td>\n",
       "      <td>0</td>\n",
       "    </tr>\n",
       "    <tr>\n",
       "      <th>3</th>\n",
       "      <td>0</td>\n",
       "      <td>21</td>\n",
       "      <td>41700</td>\n",
       "      <td>2</td>\n",
       "    </tr>\n",
       "    <tr>\n",
       "      <th>4</th>\n",
       "      <td>1</td>\n",
       "      <td>28</td>\n",
       "      <td>26100</td>\n",
       "      <td>0</td>\n",
       "    </tr>\n",
       "    <tr>\n",
       "      <th>...</th>\n",
       "      <td>...</td>\n",
       "      <td>...</td>\n",
       "      <td>...</td>\n",
       "      <td>...</td>\n",
       "    </tr>\n",
       "    <tr>\n",
       "      <th>4995</th>\n",
       "      <td>0</td>\n",
       "      <td>28</td>\n",
       "      <td>35700</td>\n",
       "      <td>2</td>\n",
       "    </tr>\n",
       "    <tr>\n",
       "      <th>4996</th>\n",
       "      <td>0</td>\n",
       "      <td>34</td>\n",
       "      <td>52400</td>\n",
       "      <td>1</td>\n",
       "    </tr>\n",
       "    <tr>\n",
       "      <th>4997</th>\n",
       "      <td>0</td>\n",
       "      <td>20</td>\n",
       "      <td>33900</td>\n",
       "      <td>2</td>\n",
       "    </tr>\n",
       "    <tr>\n",
       "      <th>4998</th>\n",
       "      <td>1</td>\n",
       "      <td>22</td>\n",
       "      <td>32700</td>\n",
       "      <td>3</td>\n",
       "    </tr>\n",
       "    <tr>\n",
       "      <th>4999</th>\n",
       "      <td>1</td>\n",
       "      <td>28</td>\n",
       "      <td>40600</td>\n",
       "      <td>1</td>\n",
       "    </tr>\n",
       "  </tbody>\n",
       "</table>\n",
       "<p>5000 rows × 4 columns</p>\n",
       "</div>"
      ],
      "text/plain": [
       "      Пол  Возраст  Зарплата  Члены семьи\n",
       "0       1       41     49600            1\n",
       "1       0       46     38000            1\n",
       "2       0       29     21000            0\n",
       "3       0       21     41700            2\n",
       "4       1       28     26100            0\n",
       "...   ...      ...       ...          ...\n",
       "4995    0       28     35700            2\n",
       "4996    0       34     52400            1\n",
       "4997    0       20     33900            2\n",
       "4998    1       22     32700            3\n",
       "4999    1       28     40600            1\n",
       "\n",
       "[5000 rows x 4 columns]"
      ]
     },
     "execution_count": 16,
     "metadata": {},
     "output_type": "execute_result"
    }
   ],
   "source": [
    "features"
   ]
  },
  {
   "cell_type": "code",
   "execution_count": 17,
   "metadata": {},
   "outputs": [
    {
     "name": "stdout",
     "output_type": "stream",
     "text": [
      "0.42494550305663503\n"
     ]
    }
   ],
   "source": [
    "model = LinearRegression()\n",
    "model.fit(features_inv, target)\n",
    "predictions = model.predict(features_inv)\n",
    "print(r2_score(target, predictions))"
   ]
  },
  {
   "cell_type": "markdown",
   "metadata": {},
   "source": [
    "Вывод: Качество до и после преобразования не отличается"
   ]
  }
 ],
 "metadata": {
  "ExecuteTimeLog": [
   {
    "duration": 47,
    "start_time": "2023-03-10T12:46:34.715Z"
   },
   {
    "duration": 416,
    "start_time": "2023-03-10T12:46:47.607Z"
   },
   {
    "duration": 26,
    "start_time": "2023-03-10T12:46:48.025Z"
   },
   {
    "duration": 88,
    "start_time": "2023-03-10T12:46:51.809Z"
   },
   {
    "duration": 18,
    "start_time": "2023-03-10T12:47:01.769Z"
   },
   {
    "duration": 5,
    "start_time": "2023-03-10T12:47:38.315Z"
   },
   {
    "duration": 4,
    "start_time": "2023-03-10T12:47:53.184Z"
   },
   {
    "duration": 11,
    "start_time": "2023-03-10T12:47:57.581Z"
   },
   {
    "duration": 1270,
    "start_time": "2023-03-17T10:14:05.696Z"
   },
   {
    "duration": 81,
    "start_time": "2023-03-17T10:14:07.845Z"
   },
   {
    "duration": 25,
    "start_time": "2023-03-17T10:14:08.081Z"
   },
   {
    "duration": 5,
    "start_time": "2023-03-17T10:14:08.297Z"
   },
   {
    "duration": 16,
    "start_time": "2023-03-17T10:14:09.794Z"
   },
   {
    "duration": 128,
    "start_time": "2023-03-17T10:14:10.328Z"
   },
   {
    "duration": 4,
    "start_time": "2023-03-17T10:14:28.133Z"
   },
   {
    "duration": 15,
    "start_time": "2023-03-17T10:14:30.313Z"
   },
   {
    "duration": 52,
    "start_time": "2023-03-18T08:12:06.047Z"
   },
   {
    "duration": 1046,
    "start_time": "2023-03-18T08:12:08.593Z"
   },
   {
    "duration": 100,
    "start_time": "2023-03-18T08:12:09.641Z"
   },
   {
    "duration": 22,
    "start_time": "2023-03-18T08:12:09.743Z"
   },
   {
    "duration": 5,
    "start_time": "2023-03-18T08:12:09.767Z"
   },
   {
    "duration": 13,
    "start_time": "2023-03-18T08:12:09.774Z"
   },
   {
    "duration": 72,
    "start_time": "2023-03-18T08:12:09.789Z"
   },
   {
    "duration": 58,
    "start_time": "2023-03-18T08:19:11.977Z"
   },
   {
    "duration": 4,
    "start_time": "2023-03-18T08:19:36.843Z"
   },
   {
    "duration": 4,
    "start_time": "2023-03-18T08:19:54.374Z"
   },
   {
    "duration": 896,
    "start_time": "2023-03-18T08:20:12.300Z"
   },
   {
    "duration": 858,
    "start_time": "2023-03-18T08:20:58.738Z"
   },
   {
    "duration": 819,
    "start_time": "2023-03-18T08:21:04.478Z"
   },
   {
    "duration": 7,
    "start_time": "2023-03-18T08:23:38.901Z"
   },
   {
    "duration": 4,
    "start_time": "2023-03-18T08:25:29.958Z"
   },
   {
    "duration": 4,
    "start_time": "2023-03-18T08:25:38.104Z"
   },
   {
    "duration": 5,
    "start_time": "2023-03-18T08:28:47.295Z"
   },
   {
    "duration": 7,
    "start_time": "2023-03-18T08:28:56.603Z"
   },
   {
    "duration": 2193,
    "start_time": "2023-03-18T08:30:01.535Z"
   },
   {
    "duration": 6,
    "start_time": "2023-03-18T08:30:44.024Z"
   },
   {
    "duration": 5,
    "start_time": "2023-03-18T08:30:46.633Z"
   },
   {
    "duration": 5,
    "start_time": "2023-03-18T08:30:49.105Z"
   },
   {
    "duration": 4,
    "start_time": "2023-03-18T08:30:53.913Z"
   },
   {
    "duration": 5,
    "start_time": "2023-03-18T08:32:30.923Z"
   },
   {
    "duration": 4,
    "start_time": "2023-03-18T08:33:56.368Z"
   },
   {
    "duration": 4,
    "start_time": "2023-03-18T08:34:00.513Z"
   },
   {
    "duration": 3,
    "start_time": "2023-03-18T08:34:18.132Z"
   },
   {
    "duration": 5,
    "start_time": "2023-03-18T08:34:18.449Z"
   },
   {
    "duration": 6,
    "start_time": "2023-03-18T08:34:25.435Z"
   },
   {
    "duration": 13,
    "start_time": "2023-03-18T08:34:30.727Z"
   },
   {
    "duration": 2,
    "start_time": "2023-03-18T08:35:10.302Z"
   },
   {
    "duration": 6,
    "start_time": "2023-03-18T08:35:10.657Z"
   },
   {
    "duration": 14,
    "start_time": "2023-03-18T08:35:11.158Z"
   },
   {
    "duration": 4,
    "start_time": "2023-03-18T08:35:20.552Z"
   },
   {
    "duration": 11,
    "start_time": "2023-03-18T08:35:20.910Z"
   },
   {
    "duration": 8,
    "start_time": "2023-03-18T08:35:36.097Z"
   },
   {
    "duration": 2407,
    "start_time": "2023-03-18T08:39:17.513Z"
   },
   {
    "duration": 3,
    "start_time": "2023-03-18T08:40:40.890Z"
   },
   {
    "duration": 5,
    "start_time": "2023-03-18T08:40:41.396Z"
   },
   {
    "duration": 7,
    "start_time": "2023-03-18T08:40:41.632Z"
   },
   {
    "duration": 783,
    "start_time": "2023-03-18T08:40:42.012Z"
   },
   {
    "duration": 8,
    "start_time": "2023-03-18T08:41:52.432Z"
   },
   {
    "duration": 16,
    "start_time": "2023-03-18T08:41:56.115Z"
   },
   {
    "duration": 10,
    "start_time": "2023-03-18T08:44:53.252Z"
   },
   {
    "duration": 13,
    "start_time": "2023-03-18T08:45:06.437Z"
   },
   {
    "duration": 9,
    "start_time": "2023-03-18T08:45:18.076Z"
   },
   {
    "duration": 4,
    "start_time": "2023-03-18T08:45:25.858Z"
   },
   {
    "duration": 5,
    "start_time": "2023-03-18T08:45:37.999Z"
   },
   {
    "duration": 4,
    "start_time": "2023-03-18T08:47:24.890Z"
   },
   {
    "duration": 67,
    "start_time": "2023-03-18T08:49:46.461Z"
   },
   {
    "duration": 107,
    "start_time": "2023-03-18T08:49:54.650Z"
   },
   {
    "duration": 6,
    "start_time": "2023-03-18T08:50:38.403Z"
   },
   {
    "duration": 7,
    "start_time": "2023-03-18T08:50:53.348Z"
   },
   {
    "duration": 6,
    "start_time": "2023-03-18T08:50:58.252Z"
   },
   {
    "duration": 22,
    "start_time": "2023-03-18T08:52:09.459Z"
   },
   {
    "duration": 7,
    "start_time": "2023-03-18T08:52:17.161Z"
   },
   {
    "duration": 7,
    "start_time": "2023-03-18T08:52:21.782Z"
   },
   {
    "duration": 46,
    "start_time": "2023-03-18T08:53:03.290Z"
   },
   {
    "duration": 12,
    "start_time": "2023-03-18T08:53:06.229Z"
   },
   {
    "duration": 5,
    "start_time": "2023-03-18T08:53:09.249Z"
   },
   {
    "duration": 11,
    "start_time": "2023-03-18T08:54:27.620Z"
   },
   {
    "duration": 11,
    "start_time": "2023-03-18T08:54:58.737Z"
   },
   {
    "duration": 70,
    "start_time": "2023-03-18T08:55:05.867Z"
   },
   {
    "duration": 3,
    "start_time": "2023-03-18T08:55:47.238Z"
   },
   {
    "duration": 86,
    "start_time": "2023-03-18T08:55:47.649Z"
   },
   {
    "duration": 7,
    "start_time": "2023-03-18T08:56:24.068Z"
   },
   {
    "duration": 2,
    "start_time": "2023-03-18T08:56:37.867Z"
   },
   {
    "duration": 63,
    "start_time": "2023-03-18T08:56:38.194Z"
   },
   {
    "duration": 10,
    "start_time": "2023-03-18T08:56:38.974Z"
   },
   {
    "duration": 6,
    "start_time": "2023-03-18T08:56:49.605Z"
   },
   {
    "duration": 3,
    "start_time": "2023-03-18T08:57:01.943Z"
   },
   {
    "duration": 70,
    "start_time": "2023-03-18T08:57:02.288Z"
   },
   {
    "duration": 9,
    "start_time": "2023-03-18T08:57:02.624Z"
   },
   {
    "duration": 8,
    "start_time": "2023-03-18T08:59:11.947Z"
   },
   {
    "duration": 3,
    "start_time": "2023-03-18T08:59:29.057Z"
   },
   {
    "duration": 3,
    "start_time": "2023-03-18T08:59:29.584Z"
   },
   {
    "duration": 4,
    "start_time": "2023-03-18T08:59:33.375Z"
   },
   {
    "duration": 4,
    "start_time": "2023-03-18T09:02:27.302Z"
   },
   {
    "duration": 3,
    "start_time": "2023-03-18T09:02:33.587Z"
   },
   {
    "duration": 3,
    "start_time": "2023-03-18T09:06:29.286Z"
   },
   {
    "duration": 15,
    "start_time": "2023-03-18T09:06:31.271Z"
   },
   {
    "duration": 3,
    "start_time": "2023-03-18T09:06:43.223Z"
   },
   {
    "duration": 14,
    "start_time": "2023-03-18T09:06:48.038Z"
   },
   {
    "duration": 16,
    "start_time": "2023-03-18T09:07:13.742Z"
   },
   {
    "duration": 3,
    "start_time": "2023-03-18T09:07:17.409Z"
   },
   {
    "duration": 13,
    "start_time": "2023-03-18T09:07:18.878Z"
   },
   {
    "duration": 3,
    "start_time": "2023-03-18T09:07:40.621Z"
   },
   {
    "duration": 3,
    "start_time": "2023-03-18T09:07:41.185Z"
   },
   {
    "duration": 4,
    "start_time": "2023-03-18T09:07:41.532Z"
   },
   {
    "duration": 13,
    "start_time": "2023-03-18T09:07:42.164Z"
   },
   {
    "duration": 4,
    "start_time": "2023-03-18T09:08:24.291Z"
   },
   {
    "duration": 163,
    "start_time": "2023-03-18T09:08:26.529Z"
   },
   {
    "duration": 76,
    "start_time": "2023-03-18T09:08:38.184Z"
   },
   {
    "duration": 10,
    "start_time": "2023-03-18T09:09:04.271Z"
   },
   {
    "duration": 14,
    "start_time": "2023-03-18T09:09:07.675Z"
   },
   {
    "duration": 53,
    "start_time": "2023-03-18T09:09:30.040Z"
   },
   {
    "duration": 4,
    "start_time": "2023-03-18T09:09:43.253Z"
   },
   {
    "duration": 16,
    "start_time": "2023-03-18T09:09:43.860Z"
   },
   {
    "duration": 3,
    "start_time": "2023-03-18T09:09:55.939Z"
   },
   {
    "duration": 15,
    "start_time": "2023-03-18T09:10:03.364Z"
   },
   {
    "duration": 14,
    "start_time": "2023-03-18T09:11:30.533Z"
   },
   {
    "duration": 15,
    "start_time": "2023-03-18T09:11:37.086Z"
   },
   {
    "duration": 18,
    "start_time": "2023-03-18T09:11:45.596Z"
   },
   {
    "duration": 13,
    "start_time": "2023-03-18T09:12:23.861Z"
   },
   {
    "duration": 17,
    "start_time": "2023-03-18T09:12:49.088Z"
   },
   {
    "duration": 188,
    "start_time": "2023-03-18T09:14:00.666Z"
   },
   {
    "duration": 69,
    "start_time": "2023-03-18T09:14:28.545Z"
   },
   {
    "duration": 73,
    "start_time": "2023-03-18T09:16:31.382Z"
   },
   {
    "duration": 19,
    "start_time": "2023-03-18T09:16:41.114Z"
   },
   {
    "duration": 1305,
    "start_time": "2023-03-18T22:33:31.783Z"
   },
   {
    "duration": 30,
    "start_time": "2023-03-18T22:33:33.090Z"
   },
   {
    "duration": 18,
    "start_time": "2023-03-18T22:33:33.122Z"
   },
   {
    "duration": 6,
    "start_time": "2023-03-18T22:33:33.142Z"
   },
   {
    "duration": 27,
    "start_time": "2023-03-18T22:33:33.150Z"
   },
   {
    "duration": 12,
    "start_time": "2023-03-18T22:33:33.178Z"
   },
   {
    "duration": 236,
    "start_time": "2023-03-18T22:33:33.192Z"
   },
   {
    "duration": 5,
    "start_time": "2023-03-18T22:33:33.430Z"
   },
   {
    "duration": 1088,
    "start_time": "2023-03-19T08:19:35.337Z"
   },
   {
    "duration": 101,
    "start_time": "2023-03-19T08:19:36.427Z"
   },
   {
    "duration": 20,
    "start_time": "2023-03-19T08:19:36.533Z"
   },
   {
    "duration": 5,
    "start_time": "2023-03-19T08:19:36.554Z"
   },
   {
    "duration": 11,
    "start_time": "2023-03-19T08:19:36.560Z"
   },
   {
    "duration": 104,
    "start_time": "2023-03-19T08:19:36.572Z"
   },
   {
    "duration": 0,
    "start_time": "2023-03-19T08:19:36.677Z"
   },
   {
    "duration": 0,
    "start_time": "2023-03-19T08:19:36.679Z"
   },
   {
    "duration": 181,
    "start_time": "2023-03-19T08:21:20.294Z"
   },
   {
    "duration": 97,
    "start_time": "2023-03-19T08:21:33.307Z"
   },
   {
    "duration": 142,
    "start_time": "2023-03-19T08:21:35.134Z"
   },
   {
    "duration": 3,
    "start_time": "2023-03-19T08:22:32.805Z"
   },
   {
    "duration": 53,
    "start_time": "2023-03-19T08:23:20.513Z"
   },
   {
    "duration": 8,
    "start_time": "2023-03-19T08:23:30.502Z"
   },
   {
    "duration": 8,
    "start_time": "2023-03-19T08:39:12.845Z"
   },
   {
    "duration": 8,
    "start_time": "2023-03-19T08:39:22.805Z"
   },
   {
    "duration": 7,
    "start_time": "2023-03-19T08:39:23.071Z"
   },
   {
    "duration": 2,
    "start_time": "2023-03-19T08:39:25.914Z"
   },
   {
    "duration": 9,
    "start_time": "2023-03-19T08:39:26.214Z"
   },
   {
    "duration": 6,
    "start_time": "2023-03-19T08:41:02.295Z"
   },
   {
    "duration": 3,
    "start_time": "2023-03-19T08:41:20.259Z"
   },
   {
    "duration": 11,
    "start_time": "2023-03-19T08:41:24.734Z"
   },
   {
    "duration": 8,
    "start_time": "2023-03-19T08:41:35.351Z"
   },
   {
    "duration": 11,
    "start_time": "2023-03-19T08:41:40.572Z"
   },
   {
    "duration": 10,
    "start_time": "2023-03-19T08:42:05.093Z"
   },
   {
    "duration": 10,
    "start_time": "2023-03-19T08:43:17.305Z"
   },
   {
    "duration": 10,
    "start_time": "2023-03-19T08:43:21.761Z"
   },
   {
    "duration": 11,
    "start_time": "2023-03-19T08:43:35.630Z"
   },
   {
    "duration": 12,
    "start_time": "2023-03-19T08:43:39.555Z"
   },
   {
    "duration": 6,
    "start_time": "2023-03-19T08:44:20.057Z"
   },
   {
    "duration": 7,
    "start_time": "2023-03-19T08:44:23.248Z"
   },
   {
    "duration": 6,
    "start_time": "2023-03-19T08:44:25.364Z"
   },
   {
    "duration": 4,
    "start_time": "2023-03-19T08:44:26.206Z"
   },
   {
    "duration": 11,
    "start_time": "2023-03-19T08:44:26.802Z"
   },
   {
    "duration": 13,
    "start_time": "2023-03-19T08:44:29.099Z"
   },
   {
    "duration": 8,
    "start_time": "2023-03-19T08:44:30.035Z"
   },
   {
    "duration": 1054,
    "start_time": "2023-03-21T10:16:44.601Z"
   },
   {
    "duration": 109,
    "start_time": "2023-03-21T10:16:45.657Z"
   },
   {
    "duration": 23,
    "start_time": "2023-03-21T10:16:45.768Z"
   },
   {
    "duration": 6,
    "start_time": "2023-03-21T10:16:45.794Z"
   },
   {
    "duration": 17,
    "start_time": "2023-03-21T10:16:45.802Z"
   },
   {
    "duration": 24,
    "start_time": "2023-03-21T10:16:45.821Z"
   },
   {
    "duration": 99,
    "start_time": "2023-03-21T10:16:45.847Z"
   },
   {
    "duration": 95,
    "start_time": "2023-03-21T10:16:45.948Z"
   },
   {
    "duration": 98,
    "start_time": "2023-03-21T10:16:46.045Z"
   },
   {
    "duration": 16,
    "start_time": "2023-03-21T10:16:46.145Z"
   },
   {
    "duration": 11,
    "start_time": "2023-03-21T10:16:46.162Z"
   },
   {
    "duration": 9,
    "start_time": "2023-03-21T10:18:56.547Z"
   },
   {
    "duration": 6,
    "start_time": "2023-03-21T10:22:30.355Z"
   },
   {
    "duration": 6,
    "start_time": "2023-03-21T10:23:33.146Z"
   },
   {
    "duration": 7,
    "start_time": "2023-03-21T10:24:47.277Z"
   },
   {
    "duration": 2,
    "start_time": "2023-03-21T10:27:35.437Z"
   },
   {
    "duration": 4,
    "start_time": "2023-03-21T10:28:05.630Z"
   },
   {
    "duration": 3,
    "start_time": "2023-03-21T10:28:10.826Z"
   },
   {
    "duration": 3,
    "start_time": "2023-03-21T10:28:18.132Z"
   },
   {
    "duration": 4,
    "start_time": "2023-03-21T10:28:18.350Z"
   },
   {
    "duration": 4,
    "start_time": "2023-03-21T10:28:33.230Z"
   },
   {
    "duration": 5,
    "start_time": "2023-03-21T10:28:33.692Z"
   },
   {
    "duration": 3,
    "start_time": "2023-03-21T10:28:40.174Z"
   },
   {
    "duration": 110,
    "start_time": "2023-03-21T10:28:41.250Z"
   },
   {
    "duration": 3,
    "start_time": "2023-03-21T10:28:47.796Z"
   },
   {
    "duration": 3,
    "start_time": "2023-03-21T10:28:48.689Z"
   },
   {
    "duration": 3,
    "start_time": "2023-03-21T10:29:00.710Z"
   },
   {
    "duration": 4,
    "start_time": "2023-03-21T10:29:00.897Z"
   },
   {
    "duration": 8,
    "start_time": "2023-03-21T10:29:31.791Z"
   },
   {
    "duration": 2,
    "start_time": "2023-03-21T10:30:00.087Z"
   },
   {
    "duration": 505,
    "start_time": "2023-03-21T10:30:17.673Z"
   },
   {
    "duration": 7,
    "start_time": "2023-03-21T10:30:38.639Z"
   },
   {
    "duration": 716,
    "start_time": "2023-03-21T10:31:18.238Z"
   },
   {
    "duration": 1071,
    "start_time": "2023-03-21T10:57:30.247Z"
   },
   {
    "duration": 30,
    "start_time": "2023-03-21T10:57:31.320Z"
   },
   {
    "duration": 53,
    "start_time": "2023-03-21T10:57:31.352Z"
   },
   {
    "duration": 48,
    "start_time": "2023-03-21T10:57:31.406Z"
   },
   {
    "duration": 46,
    "start_time": "2023-03-21T10:57:31.457Z"
   },
   {
    "duration": 66,
    "start_time": "2023-03-21T10:57:31.505Z"
   },
   {
    "duration": 52,
    "start_time": "2023-03-21T10:57:31.573Z"
   },
   {
    "duration": 54,
    "start_time": "2023-03-21T10:57:31.626Z"
   },
   {
    "duration": 42,
    "start_time": "2023-03-21T10:57:31.682Z"
   },
   {
    "duration": 24,
    "start_time": "2023-03-21T10:57:31.726Z"
   },
   {
    "duration": 747,
    "start_time": "2023-03-21T10:57:31.752Z"
   },
   {
    "duration": 43,
    "start_time": "2023-03-21T10:57:32.501Z"
   },
   {
    "duration": 127,
    "start_time": "2023-03-21T10:57:32.547Z"
   },
   {
    "duration": 65,
    "start_time": "2023-03-21T10:57:32.678Z"
   },
   {
    "duration": 97,
    "start_time": "2023-03-21T10:57:32.746Z"
   },
   {
    "duration": 28,
    "start_time": "2023-03-21T10:57:32.844Z"
   },
   {
    "duration": 66,
    "start_time": "2023-03-21T10:57:32.874Z"
   },
   {
    "duration": 1099,
    "start_time": "2023-03-22T11:49:38.458Z"
   },
   {
    "duration": 78,
    "start_time": "2023-03-22T11:49:39.559Z"
   },
   {
    "duration": 22,
    "start_time": "2023-03-22T11:49:39.639Z"
   },
   {
    "duration": 6,
    "start_time": "2023-03-22T11:49:39.664Z"
   },
   {
    "duration": 15,
    "start_time": "2023-03-22T11:49:39.672Z"
   },
   {
    "duration": 10,
    "start_time": "2023-03-22T11:49:39.690Z"
   },
   {
    "duration": 5,
    "start_time": "2023-03-22T11:49:39.702Z"
   },
   {
    "duration": 5,
    "start_time": "2023-03-22T11:49:39.708Z"
   },
   {
    "duration": 9,
    "start_time": "2023-03-22T11:49:39.715Z"
   },
   {
    "duration": 8,
    "start_time": "2023-03-22T11:49:39.726Z"
   },
   {
    "duration": 945,
    "start_time": "2023-03-22T11:49:39.735Z"
   },
   {
    "duration": 13,
    "start_time": "2023-03-22T11:49:40.682Z"
   },
   {
    "duration": 81,
    "start_time": "2023-03-22T11:49:40.697Z"
   },
   {
    "duration": 95,
    "start_time": "2023-03-22T11:49:40.780Z"
   },
   {
    "duration": 98,
    "start_time": "2023-03-22T11:49:40.877Z"
   },
   {
    "duration": 10,
    "start_time": "2023-03-22T11:49:40.977Z"
   },
   {
    "duration": 9,
    "start_time": "2023-03-22T11:49:40.989Z"
   },
   {
    "duration": 1277,
    "start_time": "2023-03-22T17:50:07.526Z"
   },
   {
    "duration": 96,
    "start_time": "2023-03-22T17:50:08.806Z"
   },
   {
    "duration": 16,
    "start_time": "2023-03-22T17:50:08.904Z"
   },
   {
    "duration": 5,
    "start_time": "2023-03-22T17:50:08.922Z"
   },
   {
    "duration": 59,
    "start_time": "2023-03-22T17:50:08.929Z"
   },
   {
    "duration": 13,
    "start_time": "2023-03-22T17:50:08.990Z"
   },
   {
    "duration": 17,
    "start_time": "2023-03-22T17:50:09.005Z"
   },
   {
    "duration": 23,
    "start_time": "2023-03-22T17:50:09.024Z"
   },
   {
    "duration": 39,
    "start_time": "2023-03-22T17:50:09.048Z"
   },
   {
    "duration": 4,
    "start_time": "2023-03-22T17:50:09.089Z"
   },
   {
    "duration": 1080,
    "start_time": "2023-03-22T17:50:09.095Z"
   },
   {
    "duration": 13,
    "start_time": "2023-03-22T17:50:10.177Z"
   },
   {
    "duration": 102,
    "start_time": "2023-03-22T17:50:10.242Z"
   },
   {
    "duration": 83,
    "start_time": "2023-03-22T17:50:10.361Z"
   },
   {
    "duration": 23,
    "start_time": "2023-03-22T17:50:10.447Z"
   },
   {
    "duration": 20,
    "start_time": "2023-03-22T17:50:10.473Z"
   },
   {
    "duration": 10,
    "start_time": "2023-03-22T17:50:10.495Z"
   },
   {
    "duration": 1129,
    "start_time": "2023-03-22T17:50:53.374Z"
   },
   {
    "duration": 30,
    "start_time": "2023-03-22T17:50:54.507Z"
   },
   {
    "duration": 20,
    "start_time": "2023-03-22T17:50:54.539Z"
   },
   {
    "duration": 6,
    "start_time": "2023-03-22T17:50:54.563Z"
   },
   {
    "duration": 19,
    "start_time": "2023-03-22T17:50:54.571Z"
   },
   {
    "duration": 12,
    "start_time": "2023-03-22T17:50:54.592Z"
   },
   {
    "duration": 6,
    "start_time": "2023-03-22T17:50:54.607Z"
   },
   {
    "duration": 33,
    "start_time": "2023-03-22T17:50:54.615Z"
   },
   {
    "duration": 16,
    "start_time": "2023-03-22T17:50:54.650Z"
   },
   {
    "duration": 3,
    "start_time": "2023-03-22T17:50:54.668Z"
   },
   {
    "duration": 851,
    "start_time": "2023-03-22T17:50:54.673Z"
   },
   {
    "duration": 150,
    "start_time": "2023-03-22T17:50:55.526Z"
   },
   {
    "duration": 29,
    "start_time": "2023-03-22T17:50:55.742Z"
   },
   {
    "duration": 119,
    "start_time": "2023-03-22T17:50:55.779Z"
   },
   {
    "duration": 20,
    "start_time": "2023-03-22T17:50:55.900Z"
   },
   {
    "duration": 54,
    "start_time": "2023-03-22T17:50:55.947Z"
   },
   {
    "duration": 153,
    "start_time": "2023-03-22T17:50:56.004Z"
   },
   {
    "duration": 1610,
    "start_time": "2023-03-22T18:20:24.081Z"
   },
   {
    "duration": 30,
    "start_time": "2023-03-22T18:20:25.693Z"
   },
   {
    "duration": 49,
    "start_time": "2023-03-22T18:20:25.725Z"
   },
   {
    "duration": 6,
    "start_time": "2023-03-22T18:20:25.779Z"
   },
   {
    "duration": 20,
    "start_time": "2023-03-22T18:20:25.787Z"
   },
   {
    "duration": 15,
    "start_time": "2023-03-22T18:20:25.809Z"
   },
   {
    "duration": 30,
    "start_time": "2023-03-22T18:20:25.826Z"
   },
   {
    "duration": 26,
    "start_time": "2023-03-22T18:20:25.858Z"
   },
   {
    "duration": 15,
    "start_time": "2023-03-22T18:20:25.886Z"
   },
   {
    "duration": 18,
    "start_time": "2023-03-22T18:20:25.904Z"
   },
   {
    "duration": 1109,
    "start_time": "2023-03-22T18:20:25.924Z"
   },
   {
    "duration": 91,
    "start_time": "2023-03-22T18:20:27.052Z"
   },
   {
    "duration": 125,
    "start_time": "2023-03-22T18:20:27.158Z"
   },
   {
    "duration": 17,
    "start_time": "2023-03-22T18:20:27.285Z"
   },
   {
    "duration": 116,
    "start_time": "2023-03-22T18:20:27.341Z"
   },
   {
    "duration": 24,
    "start_time": "2023-03-22T18:20:27.459Z"
   },
   {
    "duration": 61,
    "start_time": "2023-03-22T18:20:27.485Z"
   }
  ],
  "kernelspec": {
   "display_name": "Python 3 (ipykernel)",
   "language": "python",
   "name": "python3"
  },
  "language_info": {
   "codemirror_mode": {
    "name": "ipython",
    "version": 3
   },
   "file_extension": ".py",
   "mimetype": "text/x-python",
   "name": "python",
   "nbconvert_exporter": "python",
   "pygments_lexer": "ipython3",
   "version": "3.9.7"
  },
  "toc": {
   "base_numbering": 1,
   "nav_menu": {},
   "number_sections": true,
   "sideBar": true,
   "skip_h1_title": true,
   "title_cell": "Содержание",
   "title_sidebar": "Contents",
   "toc_cell": true,
   "toc_position": {},
   "toc_section_display": true,
   "toc_window_display": true
  }
 },
 "nbformat": 4,
 "nbformat_minor": 2
}
