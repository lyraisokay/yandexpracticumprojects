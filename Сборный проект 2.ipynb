{
 "cells": [
  {
   "cell_type": "markdown",
   "metadata": {},
   "source": [
    "# Восстановление золота из руды"
   ]
  },
  {
   "cell_type": "markdown",
   "metadata": {},
   "source": [
    "Подготовьте прототип модели машинного обучения для «Цифры». Компания разрабатывает решения для эффективной работы промышленных предприятий.\n",
    "\n",
    "Модель должна предсказать коэффициент восстановления золота из золотосодержащей руды. Используйте данные с параметрами добычи и очистки. \n",
    "\n",
    "Модель поможет оптимизировать производство, чтобы не запускать предприятие с убыточными характеристиками.\n",
    "\n",
    "Вам нужно:\n",
    "\n",
    "1. Подготовить данные;\n",
    "2. Провести исследовательский анализ данных;\n",
    "3. Построить и обучить модель.\n",
    "\n",
    "Чтобы выполнить проект, обращайтесь к библиотекам *pandas*, *matplotlib* и *sklearn.* Вам поможет их документация."
   ]
  },
  {
   "cell_type": "code",
   "execution_count": 1,
   "metadata": {},
   "outputs": [],
   "source": [
    "import pandas as pd\n",
    "import numpy as np\n",
    "from sklearn.metrics import mean_absolute_error\n",
    "from matplotlib import pyplot as plt\n",
    "from sklearn.preprocessing import StandardScaler\n",
    "from sklearn.ensemble import RandomForestRegressor\n",
    "from sklearn.metrics import fbeta_score, make_scorer\n",
    "from sklearn.model_selection import GridSearchCV\n",
    "from sklearn.linear_model import LinearRegression\n",
    "import seaborn as sns\n",
    "from sklearn.dummy import DummyRegressor\n",
    "from catboost import CatBoostRegressor\n",
    "\n",
    "\n",
    "import warnings\n",
    "warnings.filterwarnings('ignore')"
   ]
  },
  {
   "cell_type": "markdown",
   "metadata": {},
   "source": [
    "## Подготовка данных"
   ]
  },
  {
   "cell_type": "markdown",
   "metadata": {},
   "source": [
    "### Откройте файлы и изучите их."
   ]
  },
  {
   "cell_type": "code",
   "execution_count": 2,
   "metadata": {},
   "outputs": [],
   "source": [
    "train = pd.read_csv('/datasets/gold_recovery_train_new.csv')\n",
    "test = pd.read_csv('/datasets/gold_recovery_test_new.csv')\n",
    "data = pd.read_csv('/datasets/gold_recovery_full_new.csv')"
   ]
  },
  {
   "cell_type": "code",
   "execution_count": 3,
   "metadata": {},
   "outputs": [
    {
     "data": {
      "text/html": [
       "<div>\n",
       "<style scoped>\n",
       "    .dataframe tbody tr th:only-of-type {\n",
       "        vertical-align: middle;\n",
       "    }\n",
       "\n",
       "    .dataframe tbody tr th {\n",
       "        vertical-align: top;\n",
       "    }\n",
       "\n",
       "    .dataframe thead th {\n",
       "        text-align: right;\n",
       "    }\n",
       "</style>\n",
       "<table border=\"1\" class=\"dataframe\">\n",
       "  <thead>\n",
       "    <tr style=\"text-align: right;\">\n",
       "      <th></th>\n",
       "      <th>date</th>\n",
       "      <th>final.output.concentrate_ag</th>\n",
       "      <th>final.output.concentrate_pb</th>\n",
       "      <th>final.output.concentrate_sol</th>\n",
       "      <th>final.output.concentrate_au</th>\n",
       "      <th>final.output.recovery</th>\n",
       "      <th>final.output.tail_ag</th>\n",
       "      <th>final.output.tail_pb</th>\n",
       "      <th>final.output.tail_sol</th>\n",
       "      <th>final.output.tail_au</th>\n",
       "      <th>...</th>\n",
       "      <th>secondary_cleaner.state.floatbank4_a_air</th>\n",
       "      <th>secondary_cleaner.state.floatbank4_a_level</th>\n",
       "      <th>secondary_cleaner.state.floatbank4_b_air</th>\n",
       "      <th>secondary_cleaner.state.floatbank4_b_level</th>\n",
       "      <th>secondary_cleaner.state.floatbank5_a_air</th>\n",
       "      <th>secondary_cleaner.state.floatbank5_a_level</th>\n",
       "      <th>secondary_cleaner.state.floatbank5_b_air</th>\n",
       "      <th>secondary_cleaner.state.floatbank5_b_level</th>\n",
       "      <th>secondary_cleaner.state.floatbank6_a_air</th>\n",
       "      <th>secondary_cleaner.state.floatbank6_a_level</th>\n",
       "    </tr>\n",
       "  </thead>\n",
       "  <tbody>\n",
       "    <tr>\n",
       "      <th>0</th>\n",
       "      <td>2016-01-15 00:00:00</td>\n",
       "      <td>6.055403</td>\n",
       "      <td>9.889648</td>\n",
       "      <td>5.507324</td>\n",
       "      <td>42.192020</td>\n",
       "      <td>70.541216</td>\n",
       "      <td>10.411962</td>\n",
       "      <td>0.895447</td>\n",
       "      <td>16.904297</td>\n",
       "      <td>2.143149</td>\n",
       "      <td>...</td>\n",
       "      <td>14.016835</td>\n",
       "      <td>-502.488007</td>\n",
       "      <td>12.099931</td>\n",
       "      <td>-504.715942</td>\n",
       "      <td>9.925633</td>\n",
       "      <td>-498.310211</td>\n",
       "      <td>8.079666</td>\n",
       "      <td>-500.470978</td>\n",
       "      <td>14.151341</td>\n",
       "      <td>-605.841980</td>\n",
       "    </tr>\n",
       "    <tr>\n",
       "      <th>1</th>\n",
       "      <td>2016-01-15 01:00:00</td>\n",
       "      <td>6.029369</td>\n",
       "      <td>9.968944</td>\n",
       "      <td>5.257781</td>\n",
       "      <td>42.701629</td>\n",
       "      <td>69.266198</td>\n",
       "      <td>10.462676</td>\n",
       "      <td>0.927452</td>\n",
       "      <td>16.634514</td>\n",
       "      <td>2.224930</td>\n",
       "      <td>...</td>\n",
       "      <td>13.992281</td>\n",
       "      <td>-505.503262</td>\n",
       "      <td>11.950531</td>\n",
       "      <td>-501.331529</td>\n",
       "      <td>10.039245</td>\n",
       "      <td>-500.169983</td>\n",
       "      <td>7.984757</td>\n",
       "      <td>-500.582168</td>\n",
       "      <td>13.998353</td>\n",
       "      <td>-599.787184</td>\n",
       "    </tr>\n",
       "    <tr>\n",
       "      <th>2</th>\n",
       "      <td>2016-01-15 02:00:00</td>\n",
       "      <td>6.055926</td>\n",
       "      <td>10.213995</td>\n",
       "      <td>5.383759</td>\n",
       "      <td>42.657501</td>\n",
       "      <td>68.116445</td>\n",
       "      <td>10.507046</td>\n",
       "      <td>0.953716</td>\n",
       "      <td>16.208849</td>\n",
       "      <td>2.257889</td>\n",
       "      <td>...</td>\n",
       "      <td>14.015015</td>\n",
       "      <td>-502.520901</td>\n",
       "      <td>11.912783</td>\n",
       "      <td>-501.133383</td>\n",
       "      <td>10.070913</td>\n",
       "      <td>-500.129135</td>\n",
       "      <td>8.013877</td>\n",
       "      <td>-500.517572</td>\n",
       "      <td>14.028663</td>\n",
       "      <td>-601.427363</td>\n",
       "    </tr>\n",
       "    <tr>\n",
       "      <th>3</th>\n",
       "      <td>2016-01-15 03:00:00</td>\n",
       "      <td>6.047977</td>\n",
       "      <td>9.977019</td>\n",
       "      <td>4.858634</td>\n",
       "      <td>42.689819</td>\n",
       "      <td>68.347543</td>\n",
       "      <td>10.422762</td>\n",
       "      <td>0.883763</td>\n",
       "      <td>16.532835</td>\n",
       "      <td>2.146849</td>\n",
       "      <td>...</td>\n",
       "      <td>14.036510</td>\n",
       "      <td>-500.857308</td>\n",
       "      <td>11.999550</td>\n",
       "      <td>-501.193686</td>\n",
       "      <td>9.970366</td>\n",
       "      <td>-499.201640</td>\n",
       "      <td>7.977324</td>\n",
       "      <td>-500.255908</td>\n",
       "      <td>14.005551</td>\n",
       "      <td>-599.996129</td>\n",
       "    </tr>\n",
       "    <tr>\n",
       "      <th>4</th>\n",
       "      <td>2016-01-15 04:00:00</td>\n",
       "      <td>6.148599</td>\n",
       "      <td>10.142511</td>\n",
       "      <td>4.939416</td>\n",
       "      <td>42.774141</td>\n",
       "      <td>66.927016</td>\n",
       "      <td>10.360302</td>\n",
       "      <td>0.792826</td>\n",
       "      <td>16.525686</td>\n",
       "      <td>2.055292</td>\n",
       "      <td>...</td>\n",
       "      <td>14.027298</td>\n",
       "      <td>-499.838632</td>\n",
       "      <td>11.953070</td>\n",
       "      <td>-501.053894</td>\n",
       "      <td>9.925709</td>\n",
       "      <td>-501.686727</td>\n",
       "      <td>7.894242</td>\n",
       "      <td>-500.356035</td>\n",
       "      <td>13.996647</td>\n",
       "      <td>-601.496691</td>\n",
       "    </tr>\n",
       "  </tbody>\n",
       "</table>\n",
       "<p>5 rows × 87 columns</p>\n",
       "</div>"
      ],
      "text/plain": [
       "                  date  final.output.concentrate_ag  \\\n",
       "0  2016-01-15 00:00:00                     6.055403   \n",
       "1  2016-01-15 01:00:00                     6.029369   \n",
       "2  2016-01-15 02:00:00                     6.055926   \n",
       "3  2016-01-15 03:00:00                     6.047977   \n",
       "4  2016-01-15 04:00:00                     6.148599   \n",
       "\n",
       "   final.output.concentrate_pb  final.output.concentrate_sol  \\\n",
       "0                     9.889648                      5.507324   \n",
       "1                     9.968944                      5.257781   \n",
       "2                    10.213995                      5.383759   \n",
       "3                     9.977019                      4.858634   \n",
       "4                    10.142511                      4.939416   \n",
       "\n",
       "   final.output.concentrate_au  final.output.recovery  final.output.tail_ag  \\\n",
       "0                    42.192020              70.541216             10.411962   \n",
       "1                    42.701629              69.266198             10.462676   \n",
       "2                    42.657501              68.116445             10.507046   \n",
       "3                    42.689819              68.347543             10.422762   \n",
       "4                    42.774141              66.927016             10.360302   \n",
       "\n",
       "   final.output.tail_pb  final.output.tail_sol  final.output.tail_au  ...  \\\n",
       "0              0.895447              16.904297              2.143149  ...   \n",
       "1              0.927452              16.634514              2.224930  ...   \n",
       "2              0.953716              16.208849              2.257889  ...   \n",
       "3              0.883763              16.532835              2.146849  ...   \n",
       "4              0.792826              16.525686              2.055292  ...   \n",
       "\n",
       "   secondary_cleaner.state.floatbank4_a_air  \\\n",
       "0                                 14.016835   \n",
       "1                                 13.992281   \n",
       "2                                 14.015015   \n",
       "3                                 14.036510   \n",
       "4                                 14.027298   \n",
       "\n",
       "   secondary_cleaner.state.floatbank4_a_level  \\\n",
       "0                                 -502.488007   \n",
       "1                                 -505.503262   \n",
       "2                                 -502.520901   \n",
       "3                                 -500.857308   \n",
       "4                                 -499.838632   \n",
       "\n",
       "   secondary_cleaner.state.floatbank4_b_air  \\\n",
       "0                                 12.099931   \n",
       "1                                 11.950531   \n",
       "2                                 11.912783   \n",
       "3                                 11.999550   \n",
       "4                                 11.953070   \n",
       "\n",
       "   secondary_cleaner.state.floatbank4_b_level  \\\n",
       "0                                 -504.715942   \n",
       "1                                 -501.331529   \n",
       "2                                 -501.133383   \n",
       "3                                 -501.193686   \n",
       "4                                 -501.053894   \n",
       "\n",
       "   secondary_cleaner.state.floatbank5_a_air  \\\n",
       "0                                  9.925633   \n",
       "1                                 10.039245   \n",
       "2                                 10.070913   \n",
       "3                                  9.970366   \n",
       "4                                  9.925709   \n",
       "\n",
       "   secondary_cleaner.state.floatbank5_a_level  \\\n",
       "0                                 -498.310211   \n",
       "1                                 -500.169983   \n",
       "2                                 -500.129135   \n",
       "3                                 -499.201640   \n",
       "4                                 -501.686727   \n",
       "\n",
       "   secondary_cleaner.state.floatbank5_b_air  \\\n",
       "0                                  8.079666   \n",
       "1                                  7.984757   \n",
       "2                                  8.013877   \n",
       "3                                  7.977324   \n",
       "4                                  7.894242   \n",
       "\n",
       "   secondary_cleaner.state.floatbank5_b_level  \\\n",
       "0                                 -500.470978   \n",
       "1                                 -500.582168   \n",
       "2                                 -500.517572   \n",
       "3                                 -500.255908   \n",
       "4                                 -500.356035   \n",
       "\n",
       "   secondary_cleaner.state.floatbank6_a_air  \\\n",
       "0                                 14.151341   \n",
       "1                                 13.998353   \n",
       "2                                 14.028663   \n",
       "3                                 14.005551   \n",
       "4                                 13.996647   \n",
       "\n",
       "   secondary_cleaner.state.floatbank6_a_level  \n",
       "0                                 -605.841980  \n",
       "1                                 -599.787184  \n",
       "2                                 -601.427363  \n",
       "3                                 -599.996129  \n",
       "4                                 -601.496691  \n",
       "\n",
       "[5 rows x 87 columns]"
      ]
     },
     "execution_count": 3,
     "metadata": {},
     "output_type": "execute_result"
    }
   ],
   "source": [
    "train.head()"
   ]
  },
  {
   "cell_type": "code",
   "execution_count": 4,
   "metadata": {},
   "outputs": [
    {
     "name": "stdout",
     "output_type": "stream",
     "text": [
      "<class 'pandas.core.frame.DataFrame'>\n",
      "RangeIndex: 14149 entries, 0 to 14148\n",
      "Data columns (total 87 columns):\n",
      " #   Column                                              Non-Null Count  Dtype  \n",
      "---  ------                                              --------------  -----  \n",
      " 0   date                                                14149 non-null  object \n",
      " 1   final.output.concentrate_ag                         14148 non-null  float64\n",
      " 2   final.output.concentrate_pb                         14148 non-null  float64\n",
      " 3   final.output.concentrate_sol                        13938 non-null  float64\n",
      " 4   final.output.concentrate_au                         14149 non-null  float64\n",
      " 5   final.output.recovery                               14149 non-null  float64\n",
      " 6   final.output.tail_ag                                14149 non-null  float64\n",
      " 7   final.output.tail_pb                                14049 non-null  float64\n",
      " 8   final.output.tail_sol                               14144 non-null  float64\n",
      " 9   final.output.tail_au                                14149 non-null  float64\n",
      " 10  primary_cleaner.input.sulfate                       14129 non-null  float64\n",
      " 11  primary_cleaner.input.depressant                    14117 non-null  float64\n",
      " 12  primary_cleaner.input.feed_size                     14149 non-null  float64\n",
      " 13  primary_cleaner.input.xanthate                      14049 non-null  float64\n",
      " 14  primary_cleaner.output.concentrate_ag               14149 non-null  float64\n",
      " 15  primary_cleaner.output.concentrate_pb               14063 non-null  float64\n",
      " 16  primary_cleaner.output.concentrate_sol              13863 non-null  float64\n",
      " 17  primary_cleaner.output.concentrate_au               14149 non-null  float64\n",
      " 18  primary_cleaner.output.tail_ag                      14148 non-null  float64\n",
      " 19  primary_cleaner.output.tail_pb                      14134 non-null  float64\n",
      " 20  primary_cleaner.output.tail_sol                     14103 non-null  float64\n",
      " 21  primary_cleaner.output.tail_au                      14149 non-null  float64\n",
      " 22  primary_cleaner.state.floatbank8_a_air              14145 non-null  float64\n",
      " 23  primary_cleaner.state.floatbank8_a_level            14148 non-null  float64\n",
      " 24  primary_cleaner.state.floatbank8_b_air              14145 non-null  float64\n",
      " 25  primary_cleaner.state.floatbank8_b_level            14148 non-null  float64\n",
      " 26  primary_cleaner.state.floatbank8_c_air              14147 non-null  float64\n",
      " 27  primary_cleaner.state.floatbank8_c_level            14148 non-null  float64\n",
      " 28  primary_cleaner.state.floatbank8_d_air              14146 non-null  float64\n",
      " 29  primary_cleaner.state.floatbank8_d_level            14148 non-null  float64\n",
      " 30  rougher.calculation.sulfate_to_au_concentrate       14148 non-null  float64\n",
      " 31  rougher.calculation.floatbank10_sulfate_to_au_feed  14148 non-null  float64\n",
      " 32  rougher.calculation.floatbank11_sulfate_to_au_feed  14148 non-null  float64\n",
      " 33  rougher.calculation.au_pb_ratio                     14149 non-null  float64\n",
      " 34  rougher.input.feed_ag                               14149 non-null  float64\n",
      " 35  rougher.input.feed_pb                               14049 non-null  float64\n",
      " 36  rougher.input.feed_rate                             14141 non-null  float64\n",
      " 37  rougher.input.feed_size                             14005 non-null  float64\n",
      " 38  rougher.input.feed_sol                              14071 non-null  float64\n",
      " 39  rougher.input.feed_au                               14149 non-null  float64\n",
      " 40  rougher.input.floatbank10_sulfate                   14120 non-null  float64\n",
      " 41  rougher.input.floatbank10_xanthate                  14141 non-null  float64\n",
      " 42  rougher.input.floatbank11_sulfate                   14113 non-null  float64\n",
      " 43  rougher.input.floatbank11_xanthate                  13721 non-null  float64\n",
      " 44  rougher.output.concentrate_ag                       14149 non-null  float64\n",
      " 45  rougher.output.concentrate_pb                       14149 non-null  float64\n",
      " 46  rougher.output.concentrate_sol                      14127 non-null  float64\n",
      " 47  rougher.output.concentrate_au                       14149 non-null  float64\n",
      " 48  rougher.output.recovery                             14149 non-null  float64\n",
      " 49  rougher.output.tail_ag                              14148 non-null  float64\n",
      " 50  rougher.output.tail_pb                              14149 non-null  float64\n",
      " 51  rougher.output.tail_sol                             14149 non-null  float64\n",
      " 52  rougher.output.tail_au                              14149 non-null  float64\n",
      " 53  rougher.state.floatbank10_a_air                     14148 non-null  float64\n",
      " 54  rougher.state.floatbank10_a_level                   14148 non-null  float64\n",
      " 55  rougher.state.floatbank10_b_air                     14148 non-null  float64\n",
      " 56  rougher.state.floatbank10_b_level                   14148 non-null  float64\n",
      " 57  rougher.state.floatbank10_c_air                     14148 non-null  float64\n",
      " 58  rougher.state.floatbank10_c_level                   14148 non-null  float64\n",
      " 59  rougher.state.floatbank10_d_air                     14149 non-null  float64\n",
      " 60  rougher.state.floatbank10_d_level                   14149 non-null  float64\n",
      " 61  rougher.state.floatbank10_e_air                     13713 non-null  float64\n",
      " 62  rougher.state.floatbank10_e_level                   14149 non-null  float64\n",
      " 63  rougher.state.floatbank10_f_air                     14149 non-null  float64\n",
      " 64  rougher.state.floatbank10_f_level                   14149 non-null  float64\n",
      " 65  secondary_cleaner.output.tail_ag                    14147 non-null  float64\n",
      " 66  secondary_cleaner.output.tail_pb                    14139 non-null  float64\n",
      " 67  secondary_cleaner.output.tail_sol                   12544 non-null  float64\n",
      " 68  secondary_cleaner.output.tail_au                    14149 non-null  float64\n",
      " 69  secondary_cleaner.state.floatbank2_a_air            13932 non-null  float64\n",
      " 70  secondary_cleaner.state.floatbank2_a_level          14148 non-null  float64\n",
      " 71  secondary_cleaner.state.floatbank2_b_air            14128 non-null  float64\n",
      " 72  secondary_cleaner.state.floatbank2_b_level          14148 non-null  float64\n",
      " 73  secondary_cleaner.state.floatbank3_a_air            14145 non-null  float64\n",
      " 74  secondary_cleaner.state.floatbank3_a_level          14148 non-null  float64\n",
      " 75  secondary_cleaner.state.floatbank3_b_air            14148 non-null  float64\n",
      " 76  secondary_cleaner.state.floatbank3_b_level          14148 non-null  float64\n",
      " 77  secondary_cleaner.state.floatbank4_a_air            14143 non-null  float64\n",
      " 78  secondary_cleaner.state.floatbank4_a_level          14148 non-null  float64\n",
      " 79  secondary_cleaner.state.floatbank4_b_air            14148 non-null  float64\n",
      " 80  secondary_cleaner.state.floatbank4_b_level          14148 non-null  float64\n",
      " 81  secondary_cleaner.state.floatbank5_a_air            14148 non-null  float64\n",
      " 82  secondary_cleaner.state.floatbank5_a_level          14148 non-null  float64\n",
      " 83  secondary_cleaner.state.floatbank5_b_air            14148 non-null  float64\n",
      " 84  secondary_cleaner.state.floatbank5_b_level          14148 non-null  float64\n",
      " 85  secondary_cleaner.state.floatbank6_a_air            14147 non-null  float64\n",
      " 86  secondary_cleaner.state.floatbank6_a_level          14148 non-null  float64\n",
      "dtypes: float64(86), object(1)\n",
      "memory usage: 9.4+ MB\n"
     ]
    }
   ],
   "source": [
    "train.info()"
   ]
  },
  {
   "cell_type": "code",
   "execution_count": 5,
   "metadata": {},
   "outputs": [
    {
     "data": {
      "text/html": [
       "<div>\n",
       "<style scoped>\n",
       "    .dataframe tbody tr th:only-of-type {\n",
       "        vertical-align: middle;\n",
       "    }\n",
       "\n",
       "    .dataframe tbody tr th {\n",
       "        vertical-align: top;\n",
       "    }\n",
       "\n",
       "    .dataframe thead th {\n",
       "        text-align: right;\n",
       "    }\n",
       "</style>\n",
       "<table border=\"1\" class=\"dataframe\">\n",
       "  <thead>\n",
       "    <tr style=\"text-align: right;\">\n",
       "      <th></th>\n",
       "      <th>date</th>\n",
       "      <th>primary_cleaner.input.sulfate</th>\n",
       "      <th>primary_cleaner.input.depressant</th>\n",
       "      <th>primary_cleaner.input.feed_size</th>\n",
       "      <th>primary_cleaner.input.xanthate</th>\n",
       "      <th>primary_cleaner.state.floatbank8_a_air</th>\n",
       "      <th>primary_cleaner.state.floatbank8_a_level</th>\n",
       "      <th>primary_cleaner.state.floatbank8_b_air</th>\n",
       "      <th>primary_cleaner.state.floatbank8_b_level</th>\n",
       "      <th>primary_cleaner.state.floatbank8_c_air</th>\n",
       "      <th>...</th>\n",
       "      <th>secondary_cleaner.state.floatbank4_a_air</th>\n",
       "      <th>secondary_cleaner.state.floatbank4_a_level</th>\n",
       "      <th>secondary_cleaner.state.floatbank4_b_air</th>\n",
       "      <th>secondary_cleaner.state.floatbank4_b_level</th>\n",
       "      <th>secondary_cleaner.state.floatbank5_a_air</th>\n",
       "      <th>secondary_cleaner.state.floatbank5_a_level</th>\n",
       "      <th>secondary_cleaner.state.floatbank5_b_air</th>\n",
       "      <th>secondary_cleaner.state.floatbank5_b_level</th>\n",
       "      <th>secondary_cleaner.state.floatbank6_a_air</th>\n",
       "      <th>secondary_cleaner.state.floatbank6_a_level</th>\n",
       "    </tr>\n",
       "  </thead>\n",
       "  <tbody>\n",
       "    <tr>\n",
       "      <th>0</th>\n",
       "      <td>2016-09-01 00:59:59</td>\n",
       "      <td>210.800909</td>\n",
       "      <td>14.993118</td>\n",
       "      <td>8.080000</td>\n",
       "      <td>1.005021</td>\n",
       "      <td>1398.981301</td>\n",
       "      <td>-500.225577</td>\n",
       "      <td>1399.144926</td>\n",
       "      <td>-499.919735</td>\n",
       "      <td>1400.102998</td>\n",
       "      <td>...</td>\n",
       "      <td>12.023554</td>\n",
       "      <td>-497.795834</td>\n",
       "      <td>8.016656</td>\n",
       "      <td>-501.289139</td>\n",
       "      <td>7.946562</td>\n",
       "      <td>-432.317850</td>\n",
       "      <td>4.872511</td>\n",
       "      <td>-500.037437</td>\n",
       "      <td>26.705889</td>\n",
       "      <td>-499.709414</td>\n",
       "    </tr>\n",
       "    <tr>\n",
       "      <th>1</th>\n",
       "      <td>2016-09-01 01:59:59</td>\n",
       "      <td>215.392455</td>\n",
       "      <td>14.987471</td>\n",
       "      <td>8.080000</td>\n",
       "      <td>0.990469</td>\n",
       "      <td>1398.777912</td>\n",
       "      <td>-500.057435</td>\n",
       "      <td>1398.055362</td>\n",
       "      <td>-499.778182</td>\n",
       "      <td>1396.151033</td>\n",
       "      <td>...</td>\n",
       "      <td>12.058140</td>\n",
       "      <td>-498.695773</td>\n",
       "      <td>8.130979</td>\n",
       "      <td>-499.634209</td>\n",
       "      <td>7.958270</td>\n",
       "      <td>-525.839648</td>\n",
       "      <td>4.878850</td>\n",
       "      <td>-500.162375</td>\n",
       "      <td>25.019940</td>\n",
       "      <td>-499.819438</td>\n",
       "    </tr>\n",
       "    <tr>\n",
       "      <th>2</th>\n",
       "      <td>2016-09-01 02:59:59</td>\n",
       "      <td>215.259946</td>\n",
       "      <td>12.884934</td>\n",
       "      <td>7.786667</td>\n",
       "      <td>0.996043</td>\n",
       "      <td>1398.493666</td>\n",
       "      <td>-500.868360</td>\n",
       "      <td>1398.860436</td>\n",
       "      <td>-499.764529</td>\n",
       "      <td>1398.075709</td>\n",
       "      <td>...</td>\n",
       "      <td>11.962366</td>\n",
       "      <td>-498.767484</td>\n",
       "      <td>8.096893</td>\n",
       "      <td>-500.827423</td>\n",
       "      <td>8.071056</td>\n",
       "      <td>-500.801673</td>\n",
       "      <td>4.905125</td>\n",
       "      <td>-499.828510</td>\n",
       "      <td>24.994862</td>\n",
       "      <td>-500.622559</td>\n",
       "    </tr>\n",
       "    <tr>\n",
       "      <th>3</th>\n",
       "      <td>2016-09-01 03:59:59</td>\n",
       "      <td>215.336236</td>\n",
       "      <td>12.006805</td>\n",
       "      <td>7.640000</td>\n",
       "      <td>0.863514</td>\n",
       "      <td>1399.618111</td>\n",
       "      <td>-498.863574</td>\n",
       "      <td>1397.440120</td>\n",
       "      <td>-499.211024</td>\n",
       "      <td>1400.129303</td>\n",
       "      <td>...</td>\n",
       "      <td>12.033091</td>\n",
       "      <td>-498.350935</td>\n",
       "      <td>8.074946</td>\n",
       "      <td>-499.474407</td>\n",
       "      <td>7.897085</td>\n",
       "      <td>-500.868509</td>\n",
       "      <td>4.931400</td>\n",
       "      <td>-499.963623</td>\n",
       "      <td>24.948919</td>\n",
       "      <td>-498.709987</td>\n",
       "    </tr>\n",
       "    <tr>\n",
       "      <th>4</th>\n",
       "      <td>2016-09-01 04:59:59</td>\n",
       "      <td>199.099327</td>\n",
       "      <td>10.682530</td>\n",
       "      <td>7.530000</td>\n",
       "      <td>0.805575</td>\n",
       "      <td>1401.268123</td>\n",
       "      <td>-500.808305</td>\n",
       "      <td>1398.128818</td>\n",
       "      <td>-499.504543</td>\n",
       "      <td>1402.172226</td>\n",
       "      <td>...</td>\n",
       "      <td>12.025367</td>\n",
       "      <td>-500.786497</td>\n",
       "      <td>8.054678</td>\n",
       "      <td>-500.397500</td>\n",
       "      <td>8.107890</td>\n",
       "      <td>-509.526725</td>\n",
       "      <td>4.957674</td>\n",
       "      <td>-500.360026</td>\n",
       "      <td>25.003331</td>\n",
       "      <td>-500.856333</td>\n",
       "    </tr>\n",
       "  </tbody>\n",
       "</table>\n",
       "<p>5 rows × 53 columns</p>\n",
       "</div>"
      ],
      "text/plain": [
       "                  date  primary_cleaner.input.sulfate  \\\n",
       "0  2016-09-01 00:59:59                     210.800909   \n",
       "1  2016-09-01 01:59:59                     215.392455   \n",
       "2  2016-09-01 02:59:59                     215.259946   \n",
       "3  2016-09-01 03:59:59                     215.336236   \n",
       "4  2016-09-01 04:59:59                     199.099327   \n",
       "\n",
       "   primary_cleaner.input.depressant  primary_cleaner.input.feed_size  \\\n",
       "0                         14.993118                         8.080000   \n",
       "1                         14.987471                         8.080000   \n",
       "2                         12.884934                         7.786667   \n",
       "3                         12.006805                         7.640000   \n",
       "4                         10.682530                         7.530000   \n",
       "\n",
       "   primary_cleaner.input.xanthate  primary_cleaner.state.floatbank8_a_air  \\\n",
       "0                        1.005021                             1398.981301   \n",
       "1                        0.990469                             1398.777912   \n",
       "2                        0.996043                             1398.493666   \n",
       "3                        0.863514                             1399.618111   \n",
       "4                        0.805575                             1401.268123   \n",
       "\n",
       "   primary_cleaner.state.floatbank8_a_level  \\\n",
       "0                               -500.225577   \n",
       "1                               -500.057435   \n",
       "2                               -500.868360   \n",
       "3                               -498.863574   \n",
       "4                               -500.808305   \n",
       "\n",
       "   primary_cleaner.state.floatbank8_b_air  \\\n",
       "0                             1399.144926   \n",
       "1                             1398.055362   \n",
       "2                             1398.860436   \n",
       "3                             1397.440120   \n",
       "4                             1398.128818   \n",
       "\n",
       "   primary_cleaner.state.floatbank8_b_level  \\\n",
       "0                               -499.919735   \n",
       "1                               -499.778182   \n",
       "2                               -499.764529   \n",
       "3                               -499.211024   \n",
       "4                               -499.504543   \n",
       "\n",
       "   primary_cleaner.state.floatbank8_c_air  ...  \\\n",
       "0                             1400.102998  ...   \n",
       "1                             1396.151033  ...   \n",
       "2                             1398.075709  ...   \n",
       "3                             1400.129303  ...   \n",
       "4                             1402.172226  ...   \n",
       "\n",
       "   secondary_cleaner.state.floatbank4_a_air  \\\n",
       "0                                 12.023554   \n",
       "1                                 12.058140   \n",
       "2                                 11.962366   \n",
       "3                                 12.033091   \n",
       "4                                 12.025367   \n",
       "\n",
       "   secondary_cleaner.state.floatbank4_a_level  \\\n",
       "0                                 -497.795834   \n",
       "1                                 -498.695773   \n",
       "2                                 -498.767484   \n",
       "3                                 -498.350935   \n",
       "4                                 -500.786497   \n",
       "\n",
       "   secondary_cleaner.state.floatbank4_b_air  \\\n",
       "0                                  8.016656   \n",
       "1                                  8.130979   \n",
       "2                                  8.096893   \n",
       "3                                  8.074946   \n",
       "4                                  8.054678   \n",
       "\n",
       "   secondary_cleaner.state.floatbank4_b_level  \\\n",
       "0                                 -501.289139   \n",
       "1                                 -499.634209   \n",
       "2                                 -500.827423   \n",
       "3                                 -499.474407   \n",
       "4                                 -500.397500   \n",
       "\n",
       "   secondary_cleaner.state.floatbank5_a_air  \\\n",
       "0                                  7.946562   \n",
       "1                                  7.958270   \n",
       "2                                  8.071056   \n",
       "3                                  7.897085   \n",
       "4                                  8.107890   \n",
       "\n",
       "   secondary_cleaner.state.floatbank5_a_level  \\\n",
       "0                                 -432.317850   \n",
       "1                                 -525.839648   \n",
       "2                                 -500.801673   \n",
       "3                                 -500.868509   \n",
       "4                                 -509.526725   \n",
       "\n",
       "   secondary_cleaner.state.floatbank5_b_air  \\\n",
       "0                                  4.872511   \n",
       "1                                  4.878850   \n",
       "2                                  4.905125   \n",
       "3                                  4.931400   \n",
       "4                                  4.957674   \n",
       "\n",
       "   secondary_cleaner.state.floatbank5_b_level  \\\n",
       "0                                 -500.037437   \n",
       "1                                 -500.162375   \n",
       "2                                 -499.828510   \n",
       "3                                 -499.963623   \n",
       "4                                 -500.360026   \n",
       "\n",
       "   secondary_cleaner.state.floatbank6_a_air  \\\n",
       "0                                 26.705889   \n",
       "1                                 25.019940   \n",
       "2                                 24.994862   \n",
       "3                                 24.948919   \n",
       "4                                 25.003331   \n",
       "\n",
       "   secondary_cleaner.state.floatbank6_a_level  \n",
       "0                                 -499.709414  \n",
       "1                                 -499.819438  \n",
       "2                                 -500.622559  \n",
       "3                                 -498.709987  \n",
       "4                                 -500.856333  \n",
       "\n",
       "[5 rows x 53 columns]"
      ]
     },
     "execution_count": 5,
     "metadata": {},
     "output_type": "execute_result"
    }
   ],
   "source": [
    "test.head()"
   ]
  },
  {
   "cell_type": "code",
   "execution_count": 6,
   "metadata": {},
   "outputs": [
    {
     "name": "stdout",
     "output_type": "stream",
     "text": [
      "<class 'pandas.core.frame.DataFrame'>\n",
      "RangeIndex: 5290 entries, 0 to 5289\n",
      "Data columns (total 53 columns):\n",
      " #   Column                                      Non-Null Count  Dtype  \n",
      "---  ------                                      --------------  -----  \n",
      " 0   date                                        5290 non-null   object \n",
      " 1   primary_cleaner.input.sulfate               5286 non-null   float64\n",
      " 2   primary_cleaner.input.depressant            5285 non-null   float64\n",
      " 3   primary_cleaner.input.feed_size             5290 non-null   float64\n",
      " 4   primary_cleaner.input.xanthate              5286 non-null   float64\n",
      " 5   primary_cleaner.state.floatbank8_a_air      5290 non-null   float64\n",
      " 6   primary_cleaner.state.floatbank8_a_level    5290 non-null   float64\n",
      " 7   primary_cleaner.state.floatbank8_b_air      5290 non-null   float64\n",
      " 8   primary_cleaner.state.floatbank8_b_level    5290 non-null   float64\n",
      " 9   primary_cleaner.state.floatbank8_c_air      5290 non-null   float64\n",
      " 10  primary_cleaner.state.floatbank8_c_level    5290 non-null   float64\n",
      " 11  primary_cleaner.state.floatbank8_d_air      5290 non-null   float64\n",
      " 12  primary_cleaner.state.floatbank8_d_level    5290 non-null   float64\n",
      " 13  rougher.input.feed_ag                       5290 non-null   float64\n",
      " 14  rougher.input.feed_pb                       5290 non-null   float64\n",
      " 15  rougher.input.feed_rate                     5287 non-null   float64\n",
      " 16  rougher.input.feed_size                     5289 non-null   float64\n",
      " 17  rougher.input.feed_sol                      5269 non-null   float64\n",
      " 18  rougher.input.feed_au                       5290 non-null   float64\n",
      " 19  rougher.input.floatbank10_sulfate           5285 non-null   float64\n",
      " 20  rougher.input.floatbank10_xanthate          5290 non-null   float64\n",
      " 21  rougher.input.floatbank11_sulfate           5282 non-null   float64\n",
      " 22  rougher.input.floatbank11_xanthate          5265 non-null   float64\n",
      " 23  rougher.state.floatbank10_a_air             5290 non-null   float64\n",
      " 24  rougher.state.floatbank10_a_level           5290 non-null   float64\n",
      " 25  rougher.state.floatbank10_b_air             5290 non-null   float64\n",
      " 26  rougher.state.floatbank10_b_level           5290 non-null   float64\n",
      " 27  rougher.state.floatbank10_c_air             5290 non-null   float64\n",
      " 28  rougher.state.floatbank10_c_level           5290 non-null   float64\n",
      " 29  rougher.state.floatbank10_d_air             5290 non-null   float64\n",
      " 30  rougher.state.floatbank10_d_level           5290 non-null   float64\n",
      " 31  rougher.state.floatbank10_e_air             5290 non-null   float64\n",
      " 32  rougher.state.floatbank10_e_level           5290 non-null   float64\n",
      " 33  rougher.state.floatbank10_f_air             5290 non-null   float64\n",
      " 34  rougher.state.floatbank10_f_level           5290 non-null   float64\n",
      " 35  secondary_cleaner.state.floatbank2_a_air    5287 non-null   float64\n",
      " 36  secondary_cleaner.state.floatbank2_a_level  5290 non-null   float64\n",
      " 37  secondary_cleaner.state.floatbank2_b_air    5288 non-null   float64\n",
      " 38  secondary_cleaner.state.floatbank2_b_level  5290 non-null   float64\n",
      " 39  secondary_cleaner.state.floatbank3_a_air    5281 non-null   float64\n",
      " 40  secondary_cleaner.state.floatbank3_a_level  5290 non-null   float64\n",
      " 41  secondary_cleaner.state.floatbank3_b_air    5290 non-null   float64\n",
      " 42  secondary_cleaner.state.floatbank3_b_level  5290 non-null   float64\n",
      " 43  secondary_cleaner.state.floatbank4_a_air    5290 non-null   float64\n",
      " 44  secondary_cleaner.state.floatbank4_a_level  5290 non-null   float64\n",
      " 45  secondary_cleaner.state.floatbank4_b_air    5290 non-null   float64\n",
      " 46  secondary_cleaner.state.floatbank4_b_level  5290 non-null   float64\n",
      " 47  secondary_cleaner.state.floatbank5_a_air    5290 non-null   float64\n",
      " 48  secondary_cleaner.state.floatbank5_a_level  5290 non-null   float64\n",
      " 49  secondary_cleaner.state.floatbank5_b_air    5290 non-null   float64\n",
      " 50  secondary_cleaner.state.floatbank5_b_level  5290 non-null   float64\n",
      " 51  secondary_cleaner.state.floatbank6_a_air    5290 non-null   float64\n",
      " 52  secondary_cleaner.state.floatbank6_a_level  5290 non-null   float64\n",
      "dtypes: float64(52), object(1)\n",
      "memory usage: 2.1+ MB\n"
     ]
    }
   ],
   "source": [
    "test.info()"
   ]
  },
  {
   "cell_type": "code",
   "execution_count": 7,
   "metadata": {},
   "outputs": [
    {
     "data": {
      "text/html": [
       "<div>\n",
       "<style scoped>\n",
       "    .dataframe tbody tr th:only-of-type {\n",
       "        vertical-align: middle;\n",
       "    }\n",
       "\n",
       "    .dataframe tbody tr th {\n",
       "        vertical-align: top;\n",
       "    }\n",
       "\n",
       "    .dataframe thead th {\n",
       "        text-align: right;\n",
       "    }\n",
       "</style>\n",
       "<table border=\"1\" class=\"dataframe\">\n",
       "  <thead>\n",
       "    <tr style=\"text-align: right;\">\n",
       "      <th></th>\n",
       "      <th>date</th>\n",
       "      <th>final.output.concentrate_ag</th>\n",
       "      <th>final.output.concentrate_pb</th>\n",
       "      <th>final.output.concentrate_sol</th>\n",
       "      <th>final.output.concentrate_au</th>\n",
       "      <th>final.output.recovery</th>\n",
       "      <th>final.output.tail_ag</th>\n",
       "      <th>final.output.tail_pb</th>\n",
       "      <th>final.output.tail_sol</th>\n",
       "      <th>final.output.tail_au</th>\n",
       "      <th>...</th>\n",
       "      <th>secondary_cleaner.state.floatbank4_a_air</th>\n",
       "      <th>secondary_cleaner.state.floatbank4_a_level</th>\n",
       "      <th>secondary_cleaner.state.floatbank4_b_air</th>\n",
       "      <th>secondary_cleaner.state.floatbank4_b_level</th>\n",
       "      <th>secondary_cleaner.state.floatbank5_a_air</th>\n",
       "      <th>secondary_cleaner.state.floatbank5_a_level</th>\n",
       "      <th>secondary_cleaner.state.floatbank5_b_air</th>\n",
       "      <th>secondary_cleaner.state.floatbank5_b_level</th>\n",
       "      <th>secondary_cleaner.state.floatbank6_a_air</th>\n",
       "      <th>secondary_cleaner.state.floatbank6_a_level</th>\n",
       "    </tr>\n",
       "  </thead>\n",
       "  <tbody>\n",
       "    <tr>\n",
       "      <th>0</th>\n",
       "      <td>2016-01-15 00:00:00</td>\n",
       "      <td>6.055403</td>\n",
       "      <td>9.889648</td>\n",
       "      <td>5.507324</td>\n",
       "      <td>42.192020</td>\n",
       "      <td>70.541216</td>\n",
       "      <td>10.411962</td>\n",
       "      <td>0.895447</td>\n",
       "      <td>16.904297</td>\n",
       "      <td>2.143149</td>\n",
       "      <td>...</td>\n",
       "      <td>14.016835</td>\n",
       "      <td>-502.488007</td>\n",
       "      <td>12.099931</td>\n",
       "      <td>-504.715942</td>\n",
       "      <td>9.925633</td>\n",
       "      <td>-498.310211</td>\n",
       "      <td>8.079666</td>\n",
       "      <td>-500.470978</td>\n",
       "      <td>14.151341</td>\n",
       "      <td>-605.841980</td>\n",
       "    </tr>\n",
       "    <tr>\n",
       "      <th>1</th>\n",
       "      <td>2016-01-15 01:00:00</td>\n",
       "      <td>6.029369</td>\n",
       "      <td>9.968944</td>\n",
       "      <td>5.257781</td>\n",
       "      <td>42.701629</td>\n",
       "      <td>69.266198</td>\n",
       "      <td>10.462676</td>\n",
       "      <td>0.927452</td>\n",
       "      <td>16.634514</td>\n",
       "      <td>2.224930</td>\n",
       "      <td>...</td>\n",
       "      <td>13.992281</td>\n",
       "      <td>-505.503262</td>\n",
       "      <td>11.950531</td>\n",
       "      <td>-501.331529</td>\n",
       "      <td>10.039245</td>\n",
       "      <td>-500.169983</td>\n",
       "      <td>7.984757</td>\n",
       "      <td>-500.582168</td>\n",
       "      <td>13.998353</td>\n",
       "      <td>-599.787184</td>\n",
       "    </tr>\n",
       "    <tr>\n",
       "      <th>2</th>\n",
       "      <td>2016-01-15 02:00:00</td>\n",
       "      <td>6.055926</td>\n",
       "      <td>10.213995</td>\n",
       "      <td>5.383759</td>\n",
       "      <td>42.657501</td>\n",
       "      <td>68.116445</td>\n",
       "      <td>10.507046</td>\n",
       "      <td>0.953716</td>\n",
       "      <td>16.208849</td>\n",
       "      <td>2.257889</td>\n",
       "      <td>...</td>\n",
       "      <td>14.015015</td>\n",
       "      <td>-502.520901</td>\n",
       "      <td>11.912783</td>\n",
       "      <td>-501.133383</td>\n",
       "      <td>10.070913</td>\n",
       "      <td>-500.129135</td>\n",
       "      <td>8.013877</td>\n",
       "      <td>-500.517572</td>\n",
       "      <td>14.028663</td>\n",
       "      <td>-601.427363</td>\n",
       "    </tr>\n",
       "    <tr>\n",
       "      <th>3</th>\n",
       "      <td>2016-01-15 03:00:00</td>\n",
       "      <td>6.047977</td>\n",
       "      <td>9.977019</td>\n",
       "      <td>4.858634</td>\n",
       "      <td>42.689819</td>\n",
       "      <td>68.347543</td>\n",
       "      <td>10.422762</td>\n",
       "      <td>0.883763</td>\n",
       "      <td>16.532835</td>\n",
       "      <td>2.146849</td>\n",
       "      <td>...</td>\n",
       "      <td>14.036510</td>\n",
       "      <td>-500.857308</td>\n",
       "      <td>11.999550</td>\n",
       "      <td>-501.193686</td>\n",
       "      <td>9.970366</td>\n",
       "      <td>-499.201640</td>\n",
       "      <td>7.977324</td>\n",
       "      <td>-500.255908</td>\n",
       "      <td>14.005551</td>\n",
       "      <td>-599.996129</td>\n",
       "    </tr>\n",
       "    <tr>\n",
       "      <th>4</th>\n",
       "      <td>2016-01-15 04:00:00</td>\n",
       "      <td>6.148599</td>\n",
       "      <td>10.142511</td>\n",
       "      <td>4.939416</td>\n",
       "      <td>42.774141</td>\n",
       "      <td>66.927016</td>\n",
       "      <td>10.360302</td>\n",
       "      <td>0.792826</td>\n",
       "      <td>16.525686</td>\n",
       "      <td>2.055292</td>\n",
       "      <td>...</td>\n",
       "      <td>14.027298</td>\n",
       "      <td>-499.838632</td>\n",
       "      <td>11.953070</td>\n",
       "      <td>-501.053894</td>\n",
       "      <td>9.925709</td>\n",
       "      <td>-501.686727</td>\n",
       "      <td>7.894242</td>\n",
       "      <td>-500.356035</td>\n",
       "      <td>13.996647</td>\n",
       "      <td>-601.496691</td>\n",
       "    </tr>\n",
       "  </tbody>\n",
       "</table>\n",
       "<p>5 rows × 87 columns</p>\n",
       "</div>"
      ],
      "text/plain": [
       "                  date  final.output.concentrate_ag  \\\n",
       "0  2016-01-15 00:00:00                     6.055403   \n",
       "1  2016-01-15 01:00:00                     6.029369   \n",
       "2  2016-01-15 02:00:00                     6.055926   \n",
       "3  2016-01-15 03:00:00                     6.047977   \n",
       "4  2016-01-15 04:00:00                     6.148599   \n",
       "\n",
       "   final.output.concentrate_pb  final.output.concentrate_sol  \\\n",
       "0                     9.889648                      5.507324   \n",
       "1                     9.968944                      5.257781   \n",
       "2                    10.213995                      5.383759   \n",
       "3                     9.977019                      4.858634   \n",
       "4                    10.142511                      4.939416   \n",
       "\n",
       "   final.output.concentrate_au  final.output.recovery  final.output.tail_ag  \\\n",
       "0                    42.192020              70.541216             10.411962   \n",
       "1                    42.701629              69.266198             10.462676   \n",
       "2                    42.657501              68.116445             10.507046   \n",
       "3                    42.689819              68.347543             10.422762   \n",
       "4                    42.774141              66.927016             10.360302   \n",
       "\n",
       "   final.output.tail_pb  final.output.tail_sol  final.output.tail_au  ...  \\\n",
       "0              0.895447              16.904297              2.143149  ...   \n",
       "1              0.927452              16.634514              2.224930  ...   \n",
       "2              0.953716              16.208849              2.257889  ...   \n",
       "3              0.883763              16.532835              2.146849  ...   \n",
       "4              0.792826              16.525686              2.055292  ...   \n",
       "\n",
       "   secondary_cleaner.state.floatbank4_a_air  \\\n",
       "0                                 14.016835   \n",
       "1                                 13.992281   \n",
       "2                                 14.015015   \n",
       "3                                 14.036510   \n",
       "4                                 14.027298   \n",
       "\n",
       "   secondary_cleaner.state.floatbank4_a_level  \\\n",
       "0                                 -502.488007   \n",
       "1                                 -505.503262   \n",
       "2                                 -502.520901   \n",
       "3                                 -500.857308   \n",
       "4                                 -499.838632   \n",
       "\n",
       "   secondary_cleaner.state.floatbank4_b_air  \\\n",
       "0                                 12.099931   \n",
       "1                                 11.950531   \n",
       "2                                 11.912783   \n",
       "3                                 11.999550   \n",
       "4                                 11.953070   \n",
       "\n",
       "   secondary_cleaner.state.floatbank4_b_level  \\\n",
       "0                                 -504.715942   \n",
       "1                                 -501.331529   \n",
       "2                                 -501.133383   \n",
       "3                                 -501.193686   \n",
       "4                                 -501.053894   \n",
       "\n",
       "   secondary_cleaner.state.floatbank5_a_air  \\\n",
       "0                                  9.925633   \n",
       "1                                 10.039245   \n",
       "2                                 10.070913   \n",
       "3                                  9.970366   \n",
       "4                                  9.925709   \n",
       "\n",
       "   secondary_cleaner.state.floatbank5_a_level  \\\n",
       "0                                 -498.310211   \n",
       "1                                 -500.169983   \n",
       "2                                 -500.129135   \n",
       "3                                 -499.201640   \n",
       "4                                 -501.686727   \n",
       "\n",
       "   secondary_cleaner.state.floatbank5_b_air  \\\n",
       "0                                  8.079666   \n",
       "1                                  7.984757   \n",
       "2                                  8.013877   \n",
       "3                                  7.977324   \n",
       "4                                  7.894242   \n",
       "\n",
       "   secondary_cleaner.state.floatbank5_b_level  \\\n",
       "0                                 -500.470978   \n",
       "1                                 -500.582168   \n",
       "2                                 -500.517572   \n",
       "3                                 -500.255908   \n",
       "4                                 -500.356035   \n",
       "\n",
       "   secondary_cleaner.state.floatbank6_a_air  \\\n",
       "0                                 14.151341   \n",
       "1                                 13.998353   \n",
       "2                                 14.028663   \n",
       "3                                 14.005551   \n",
       "4                                 13.996647   \n",
       "\n",
       "   secondary_cleaner.state.floatbank6_a_level  \n",
       "0                                 -605.841980  \n",
       "1                                 -599.787184  \n",
       "2                                 -601.427363  \n",
       "3                                 -599.996129  \n",
       "4                                 -601.496691  \n",
       "\n",
       "[5 rows x 87 columns]"
      ]
     },
     "execution_count": 7,
     "metadata": {},
     "output_type": "execute_result"
    }
   ],
   "source": [
    "data.head()"
   ]
  },
  {
   "cell_type": "code",
   "execution_count": 8,
   "metadata": {},
   "outputs": [
    {
     "name": "stdout",
     "output_type": "stream",
     "text": [
      "<class 'pandas.core.frame.DataFrame'>\n",
      "RangeIndex: 19439 entries, 0 to 19438\n",
      "Data columns (total 87 columns):\n",
      " #   Column                                              Non-Null Count  Dtype  \n",
      "---  ------                                              --------------  -----  \n",
      " 0   date                                                19439 non-null  object \n",
      " 1   final.output.concentrate_ag                         19438 non-null  float64\n",
      " 2   final.output.concentrate_pb                         19438 non-null  float64\n",
      " 3   final.output.concentrate_sol                        19228 non-null  float64\n",
      " 4   final.output.concentrate_au                         19439 non-null  float64\n",
      " 5   final.output.recovery                               19439 non-null  float64\n",
      " 6   final.output.tail_ag                                19438 non-null  float64\n",
      " 7   final.output.tail_pb                                19338 non-null  float64\n",
      " 8   final.output.tail_sol                               19433 non-null  float64\n",
      " 9   final.output.tail_au                                19439 non-null  float64\n",
      " 10  primary_cleaner.input.sulfate                       19415 non-null  float64\n",
      " 11  primary_cleaner.input.depressant                    19402 non-null  float64\n",
      " 12  primary_cleaner.input.feed_size                     19439 non-null  float64\n",
      " 13  primary_cleaner.input.xanthate                      19335 non-null  float64\n",
      " 14  primary_cleaner.output.concentrate_ag               19439 non-null  float64\n",
      " 15  primary_cleaner.output.concentrate_pb               19323 non-null  float64\n",
      " 16  primary_cleaner.output.concentrate_sol              19069 non-null  float64\n",
      " 17  primary_cleaner.output.concentrate_au               19439 non-null  float64\n",
      " 18  primary_cleaner.output.tail_ag                      19435 non-null  float64\n",
      " 19  primary_cleaner.output.tail_pb                      19418 non-null  float64\n",
      " 20  primary_cleaner.output.tail_sol                     19377 non-null  float64\n",
      " 21  primary_cleaner.output.tail_au                      19439 non-null  float64\n",
      " 22  primary_cleaner.state.floatbank8_a_air              19435 non-null  float64\n",
      " 23  primary_cleaner.state.floatbank8_a_level            19438 non-null  float64\n",
      " 24  primary_cleaner.state.floatbank8_b_air              19435 non-null  float64\n",
      " 25  primary_cleaner.state.floatbank8_b_level            19438 non-null  float64\n",
      " 26  primary_cleaner.state.floatbank8_c_air              19437 non-null  float64\n",
      " 27  primary_cleaner.state.floatbank8_c_level            19438 non-null  float64\n",
      " 28  primary_cleaner.state.floatbank8_d_air              19436 non-null  float64\n",
      " 29  primary_cleaner.state.floatbank8_d_level            19438 non-null  float64\n",
      " 30  rougher.calculation.sulfate_to_au_concentrate       19437 non-null  float64\n",
      " 31  rougher.calculation.floatbank10_sulfate_to_au_feed  19437 non-null  float64\n",
      " 32  rougher.calculation.floatbank11_sulfate_to_au_feed  19437 non-null  float64\n",
      " 33  rougher.calculation.au_pb_ratio                     19439 non-null  float64\n",
      " 34  rougher.input.feed_ag                               19439 non-null  float64\n",
      " 35  rougher.input.feed_pb                               19339 non-null  float64\n",
      " 36  rougher.input.feed_rate                             19428 non-null  float64\n",
      " 37  rougher.input.feed_size                             19294 non-null  float64\n",
      " 38  rougher.input.feed_sol                              19340 non-null  float64\n",
      " 39  rougher.input.feed_au                               19439 non-null  float64\n",
      " 40  rougher.input.floatbank10_sulfate                   19405 non-null  float64\n",
      " 41  rougher.input.floatbank10_xanthate                  19431 non-null  float64\n",
      " 42  rougher.input.floatbank11_sulfate                   19395 non-null  float64\n",
      " 43  rougher.input.floatbank11_xanthate                  18986 non-null  float64\n",
      " 44  rougher.output.concentrate_ag                       19439 non-null  float64\n",
      " 45  rougher.output.concentrate_pb                       19439 non-null  float64\n",
      " 46  rougher.output.concentrate_sol                      19416 non-null  float64\n",
      " 47  rougher.output.concentrate_au                       19439 non-null  float64\n",
      " 48  rougher.output.recovery                             19439 non-null  float64\n",
      " 49  rougher.output.tail_ag                              19438 non-null  float64\n",
      " 50  rougher.output.tail_pb                              19439 non-null  float64\n",
      " 51  rougher.output.tail_sol                             19439 non-null  float64\n",
      " 52  rougher.output.tail_au                              19439 non-null  float64\n",
      " 53  rougher.state.floatbank10_a_air                     19438 non-null  float64\n",
      " 54  rougher.state.floatbank10_a_level                   19438 non-null  float64\n",
      " 55  rougher.state.floatbank10_b_air                     19438 non-null  float64\n",
      " 56  rougher.state.floatbank10_b_level                   19438 non-null  float64\n",
      " 57  rougher.state.floatbank10_c_air                     19438 non-null  float64\n",
      " 58  rougher.state.floatbank10_c_level                   19438 non-null  float64\n",
      " 59  rougher.state.floatbank10_d_air                     19439 non-null  float64\n",
      " 60  rougher.state.floatbank10_d_level                   19439 non-null  float64\n",
      " 61  rougher.state.floatbank10_e_air                     19003 non-null  float64\n",
      " 62  rougher.state.floatbank10_e_level                   19439 non-null  float64\n",
      " 63  rougher.state.floatbank10_f_air                     19439 non-null  float64\n",
      " 64  rougher.state.floatbank10_f_level                   19439 non-null  float64\n",
      " 65  secondary_cleaner.output.tail_ag                    19437 non-null  float64\n",
      " 66  secondary_cleaner.output.tail_pb                    19427 non-null  float64\n",
      " 67  secondary_cleaner.output.tail_sol                   17691 non-null  float64\n",
      " 68  secondary_cleaner.output.tail_au                    19439 non-null  float64\n",
      " 69  secondary_cleaner.state.floatbank2_a_air            19219 non-null  float64\n",
      " 70  secondary_cleaner.state.floatbank2_a_level          19438 non-null  float64\n",
      " 71  secondary_cleaner.state.floatbank2_b_air            19416 non-null  float64\n",
      " 72  secondary_cleaner.state.floatbank2_b_level          19438 non-null  float64\n",
      " 73  secondary_cleaner.state.floatbank3_a_air            19426 non-null  float64\n",
      " 74  secondary_cleaner.state.floatbank3_a_level          19438 non-null  float64\n",
      " 75  secondary_cleaner.state.floatbank3_b_air            19438 non-null  float64\n",
      " 76  secondary_cleaner.state.floatbank3_b_level          19438 non-null  float64\n",
      " 77  secondary_cleaner.state.floatbank4_a_air            19433 non-null  float64\n",
      " 78  secondary_cleaner.state.floatbank4_a_level          19438 non-null  float64\n",
      " 79  secondary_cleaner.state.floatbank4_b_air            19438 non-null  float64\n",
      " 80  secondary_cleaner.state.floatbank4_b_level          19438 non-null  float64\n",
      " 81  secondary_cleaner.state.floatbank5_a_air            19438 non-null  float64\n",
      " 82  secondary_cleaner.state.floatbank5_a_level          19438 non-null  float64\n",
      " 83  secondary_cleaner.state.floatbank5_b_air            19438 non-null  float64\n",
      " 84  secondary_cleaner.state.floatbank5_b_level          19438 non-null  float64\n",
      " 85  secondary_cleaner.state.floatbank6_a_air            19437 non-null  float64\n",
      " 86  secondary_cleaner.state.floatbank6_a_level          19438 non-null  float64\n",
      "dtypes: float64(86), object(1)\n",
      "memory usage: 12.9+ MB\n"
     ]
    }
   ],
   "source": [
    "data.info()"
   ]
  },
  {
   "cell_type": "markdown",
   "metadata": {},
   "source": [
    "### Проверьте, что эффективность обогащения рассчитана правильно. Вычислите её на обучающей выборке для признака rougher.output.recovery. Найдите MAE между вашими расчётами и значением признака. Опишите выводы."
   ]
  },
  {
   "cell_type": "markdown",
   "metadata": {},
   "source": [
    "Проверим, что эффективность обогащения рассчитана правильно. Вычислим её на обучающей выборке для признака rougher.output.recovery. "
   ]
  },
  {
   "attachments": {
    "image.png": {
     "image/png": "[encoded data removed]"
    }
   },
   "cell_type": "markdown",
   "metadata": {},
   "source": [
    "![image.png](attachment:image.png)"
   ]
  },
  {
   "cell_type": "markdown",
   "metadata": {},
   "source": [
    "<br>C — доля золота в концентрате после флотации/очистки;\n",
    "<br>F — доля золота в сырье/концентрате до флотации/очистки;\n",
    "<br>T — доля золота в отвальных хвостах после флотации/очистки."
   ]
  },
  {
   "cell_type": "code",
   "execution_count": 9,
   "metadata": {},
   "outputs": [],
   "source": [
    "#выписала основные константы\n",
    "C = train['rougher.output.concentrate_au']\n",
    "F = train['rougher.input.feed_au']\n",
    "T = train['rougher.output.tail_au']"
   ]
  },
  {
   "cell_type": "code",
   "execution_count": 10,
   "metadata": {},
   "outputs": [],
   "source": [
    "#посчитала по формуле\n",
    "recovery = pd.Series\n",
    "recovery = ((C*(F-T))/(F*(C-T)))*100"
   ]
  },
  {
   "cell_type": "code",
   "execution_count": 11,
   "metadata": {},
   "outputs": [
    {
     "data": {
      "text/plain": [
       "0        87.107763\n",
       "1        86.843261\n",
       "2        86.842308\n",
       "3        87.226430\n",
       "4        86.688794\n",
       "           ...    \n",
       "14144    89.574376\n",
       "14145    87.724007\n",
       "14146    88.890579\n",
       "14147    89.858126\n",
       "14148    89.514960\n",
       "Length: 14149, dtype: float64"
      ]
     },
     "execution_count": 11,
     "metadata": {},
     "output_type": "execute_result"
    }
   ],
   "source": [
    "recovery"
   ]
  },
  {
   "cell_type": "code",
   "execution_count": 12,
   "metadata": {},
   "outputs": [
    {
     "data": {
      "text/plain": [
       "82.70450164550293"
      ]
     },
     "execution_count": 12,
     "metadata": {},
     "output_type": "execute_result"
    }
   ],
   "source": [
    "#проверила среднее рассчетное значение\n",
    "recovery.mean()"
   ]
  },
  {
   "cell_type": "code",
   "execution_count": 13,
   "metadata": {},
   "outputs": [
    {
     "data": {
      "text/plain": [
       "82.70450164550293"
      ]
     },
     "execution_count": 13,
     "metadata": {},
     "output_type": "execute_result"
    }
   ],
   "source": [
    "#среднее признака\n",
    "train['rougher.output.recovery'].mean()"
   ]
  },
  {
   "cell_type": "code",
   "execution_count": 14,
   "metadata": {},
   "outputs": [
    {
     "data": {
      "text/plain": [
       "9.73512347450521e-15"
      ]
     },
     "execution_count": 14,
     "metadata": {},
     "output_type": "execute_result"
    }
   ],
   "source": [
    "#MAE между расчётами и значением признака\n",
    "mean_absolute_error(recovery, train['rougher.output.recovery'])"
   ]
  },
  {
   "cell_type": "markdown",
   "metadata": {},
   "source": [
    "Получается, что среднее расчетное значение и среднее признака одинаковое. Средняя абсолютная ошибка маленькая, поэтому будем считать, что эффективность обогащения рассчитана верно."
   ]
  },
  {
   "cell_type": "markdown",
   "metadata": {},
   "source": [
    "### Проанализируйте признаки, недоступные в тестовой выборке. Что это за параметры? К какому типу относятся?"
   ]
  },
  {
   "cell_type": "code",
   "execution_count": 15,
   "metadata": {},
   "outputs": [],
   "source": [
    "train_columns = train.columns"
   ]
  },
  {
   "cell_type": "code",
   "execution_count": 16,
   "metadata": {},
   "outputs": [],
   "source": [
    "test_columns = test.columns"
   ]
  },
  {
   "cell_type": "code",
   "execution_count": 17,
   "metadata": {},
   "outputs": [
    {
     "data": {
      "text/plain": [
       "34"
      ]
     },
     "execution_count": 17,
     "metadata": {},
     "output_type": "execute_result"
    }
   ],
   "source": [
    "#получили разницу в 34 признака\n",
    "len(train_columns) - len(test_columns)"
   ]
  },
  {
   "cell_type": "code",
   "execution_count": 18,
   "metadata": {},
   "outputs": [
    {
     "name": "stdout",
     "output_type": "stream",
     "text": [
      "Разница: 34\n"
     ]
    }
   ],
   "source": [
    "#найдем какие признаки и проверим, все ли я правильно вычла\n",
    "diff = set(train_columns) - set(test_columns)\n",
    "print(\"Разница:\", len(diff))"
   ]
  },
  {
   "cell_type": "code",
   "execution_count": 19,
   "metadata": {},
   "outputs": [
    {
     "data": {
      "text/plain": [
       "{'final.output.concentrate_ag',\n",
       " 'final.output.concentrate_au',\n",
       " 'final.output.concentrate_pb',\n",
       " 'final.output.concentrate_sol',\n",
       " 'final.output.recovery',\n",
       " 'final.output.tail_ag',\n",
       " 'final.output.tail_au',\n",
       " 'final.output.tail_pb',\n",
       " 'final.output.tail_sol',\n",
       " 'primary_cleaner.output.concentrate_ag',\n",
       " 'primary_cleaner.output.concentrate_au',\n",
       " 'primary_cleaner.output.concentrate_pb',\n",
       " 'primary_cleaner.output.concentrate_sol',\n",
       " 'primary_cleaner.output.tail_ag',\n",
       " 'primary_cleaner.output.tail_au',\n",
       " 'primary_cleaner.output.tail_pb',\n",
       " 'primary_cleaner.output.tail_sol',\n",
       " 'rougher.calculation.au_pb_ratio',\n",
       " 'rougher.calculation.floatbank10_sulfate_to_au_feed',\n",
       " 'rougher.calculation.floatbank11_sulfate_to_au_feed',\n",
       " 'rougher.calculation.sulfate_to_au_concentrate',\n",
       " 'rougher.output.concentrate_ag',\n",
       " 'rougher.output.concentrate_au',\n",
       " 'rougher.output.concentrate_pb',\n",
       " 'rougher.output.concentrate_sol',\n",
       " 'rougher.output.recovery',\n",
       " 'rougher.output.tail_ag',\n",
       " 'rougher.output.tail_au',\n",
       " 'rougher.output.tail_pb',\n",
       " 'rougher.output.tail_sol',\n",
       " 'secondary_cleaner.output.tail_ag',\n",
       " 'secondary_cleaner.output.tail_au',\n",
       " 'secondary_cleaner.output.tail_pb',\n",
       " 'secondary_cleaner.output.tail_sol'}"
      ]
     },
     "execution_count": 19,
     "metadata": {},
     "output_type": "execute_result"
    }
   ],
   "source": [
    "diff"
   ]
  },
  {
   "cell_type": "markdown",
   "metadata": {},
   "source": [
    "### Проведите предобработку данных."
   ]
  },
  {
   "cell_type": "code",
   "execution_count": 21,
   "metadata": {},
   "outputs": [
    {
     "name": "stdout",
     "output_type": "stream",
     "text": [
      "Нулевые значения: date                                           0\n",
      "primary_cleaner.input.sulfate                  4\n",
      "primary_cleaner.input.depressant               5\n",
      "primary_cleaner.input.feed_size                0\n",
      "primary_cleaner.input.xanthate                 4\n",
      "primary_cleaner.state.floatbank8_a_air         0\n",
      "primary_cleaner.state.floatbank8_a_level       0\n",
      "primary_cleaner.state.floatbank8_b_air         0\n",
      "primary_cleaner.state.floatbank8_b_level       0\n",
      "primary_cleaner.state.floatbank8_c_air         0\n",
      "primary_cleaner.state.floatbank8_c_level       0\n",
      "primary_cleaner.state.floatbank8_d_air         0\n",
      "primary_cleaner.state.floatbank8_d_level       0\n",
      "rougher.input.feed_ag                          0\n",
      "rougher.input.feed_pb                          0\n",
      "rougher.input.feed_rate                        3\n",
      "rougher.input.feed_size                        1\n",
      "rougher.input.feed_sol                        21\n",
      "rougher.input.feed_au                          0\n",
      "rougher.input.floatbank10_sulfate              5\n",
      "rougher.input.floatbank10_xanthate             0\n",
      "rougher.input.floatbank11_sulfate              8\n",
      "rougher.input.floatbank11_xanthate            25\n",
      "rougher.state.floatbank10_a_air                0\n",
      "rougher.state.floatbank10_a_level              0\n",
      "rougher.state.floatbank10_b_air                0\n",
      "rougher.state.floatbank10_b_level              0\n",
      "rougher.state.floatbank10_c_air                0\n",
      "rougher.state.floatbank10_c_level              0\n",
      "rougher.state.floatbank10_d_air                0\n",
      "rougher.state.floatbank10_d_level              0\n",
      "rougher.state.floatbank10_e_air                0\n",
      "rougher.state.floatbank10_e_level              0\n",
      "rougher.state.floatbank10_f_air                0\n",
      "rougher.state.floatbank10_f_level              0\n",
      "secondary_cleaner.state.floatbank2_a_air       3\n",
      "secondary_cleaner.state.floatbank2_a_level     0\n",
      "secondary_cleaner.state.floatbank2_b_air       2\n",
      "secondary_cleaner.state.floatbank2_b_level     0\n",
      "secondary_cleaner.state.floatbank3_a_air       9\n",
      "secondary_cleaner.state.floatbank3_a_level     0\n",
      "secondary_cleaner.state.floatbank3_b_air       0\n",
      "secondary_cleaner.state.floatbank3_b_level     0\n",
      "secondary_cleaner.state.floatbank4_a_air       0\n",
      "secondary_cleaner.state.floatbank4_a_level     0\n",
      "secondary_cleaner.state.floatbank4_b_air       0\n",
      "secondary_cleaner.state.floatbank4_b_level     0\n",
      "secondary_cleaner.state.floatbank5_a_air       0\n",
      "secondary_cleaner.state.floatbank5_a_level     0\n",
      "secondary_cleaner.state.floatbank5_b_air       0\n",
      "secondary_cleaner.state.floatbank5_b_level     0\n",
      "secondary_cleaner.state.floatbank6_a_air       0\n",
      "secondary_cleaner.state.floatbank6_a_level     0\n",
      "dtype: int64\n",
      "\n",
      "\n",
      "Дубликаты: 0\n"
     ]
    }
   ],
   "source": [
    "print(\"Нулевые значения:\",test.isna().sum())\n",
    "print(\"\\n\")\n",
    "print(\"Дубликаты:\", test.duplicated().sum())"
   ]
  },
  {
   "cell_type": "code",
   "execution_count": 22,
   "metadata": {},
   "outputs": [
    {
     "name": "stdout",
     "output_type": "stream",
     "text": [
      "Нулевые значения: date                                            0\n",
      "final.output.concentrate_ag                     1\n",
      "final.output.concentrate_pb                     1\n",
      "final.output.concentrate_sol                  211\n",
      "final.output.concentrate_au                     0\n",
      "                                             ... \n",
      "secondary_cleaner.state.floatbank5_a_level      1\n",
      "secondary_cleaner.state.floatbank5_b_air        1\n",
      "secondary_cleaner.state.floatbank5_b_level      1\n",
      "secondary_cleaner.state.floatbank6_a_air        2\n",
      "secondary_cleaner.state.floatbank6_a_level      1\n",
      "Length: 87, dtype: int64\n",
      "\n",
      "\n",
      "Дубликаты: 0\n"
     ]
    }
   ],
   "source": [
    "print(\"Нулевые значения:\",train.isna().sum())\n",
    "print(\"\\n\")\n",
    "print(\"Дубликаты:\", train.duplicated().sum())"
   ]
  },
  {
   "cell_type": "code",
   "execution_count": 23,
   "metadata": {
    "scrolled": true
   },
   "outputs": [
    {
     "name": "stdout",
     "output_type": "stream",
     "text": [
      "Нулевые значения: date                                            0\n",
      "final.output.concentrate_ag                     1\n",
      "final.output.concentrate_pb                     1\n",
      "final.output.concentrate_sol                  211\n",
      "final.output.concentrate_au                     0\n",
      "                                             ... \n",
      "secondary_cleaner.state.floatbank5_a_level      1\n",
      "secondary_cleaner.state.floatbank5_b_air        1\n",
      "secondary_cleaner.state.floatbank5_b_level      1\n",
      "secondary_cleaner.state.floatbank6_a_air        2\n",
      "secondary_cleaner.state.floatbank6_a_level      1\n",
      "Length: 87, dtype: int64\n",
      "\n",
      "\n",
      "Дубликаты: 0\n"
     ]
    }
   ],
   "source": [
    "print(\"Нулевые значения:\",data.isna().sum())\n",
    "print(\"\\n\")\n",
    "print(\"Дубликаты:\", data.duplicated().sum())"
   ]
  },
  {
   "cell_type": "code",
   "execution_count": 24,
   "metadata": {},
   "outputs": [],
   "source": [
    "#нулевых значений не так уж и много, я решила заменить их нулями\n",
    "#test = test.fillna(0)\n",
    "#train = train.fillna(0)\n",
    "#data = data.fillna(0)"
   ]
  },
  {
   "cell_type": "code",
   "execution_count": 25,
   "metadata": {},
   "outputs": [],
   "source": [
    "test.ffill(axis='rows', inplace=True)\n",
    "train.ffill(axis='rows', inplace=True)\n",
    "data.ffill(axis='rows', inplace=True)"
   ]
  },
  {
   "cell_type": "code",
   "execution_count": 26,
   "metadata": {},
   "outputs": [
    {
     "name": "stdout",
     "output_type": "stream",
     "text": [
      "Нулевые значения: date                                          0\n",
      "final.output.concentrate_ag                   0\n",
      "final.output.concentrate_pb                   0\n",
      "final.output.concentrate_sol                  0\n",
      "final.output.concentrate_au                   0\n",
      "                                             ..\n",
      "secondary_cleaner.state.floatbank5_a_level    0\n",
      "secondary_cleaner.state.floatbank5_b_air      0\n",
      "secondary_cleaner.state.floatbank5_b_level    0\n",
      "secondary_cleaner.state.floatbank6_a_air      0\n",
      "secondary_cleaner.state.floatbank6_a_level    0\n",
      "Length: 87, dtype: int64\n",
      "\n",
      "\n",
      "Дубликаты: 0\n"
     ]
    }
   ],
   "source": [
    "print(\"Нулевые значения:\",data.isna().sum())\n",
    "print(\"\\n\")\n",
    "print(\"Дубликаты:\", data.duplicated().sum())"
   ]
  },
  {
   "cell_type": "code",
   "execution_count": 27,
   "metadata": {},
   "outputs": [
    {
     "name": "stdout",
     "output_type": "stream",
     "text": [
      "Нулевые значения: date                                          0\n",
      "final.output.concentrate_ag                   0\n",
      "final.output.concentrate_pb                   0\n",
      "final.output.concentrate_sol                  0\n",
      "final.output.concentrate_au                   0\n",
      "                                             ..\n",
      "secondary_cleaner.state.floatbank5_a_level    0\n",
      "secondary_cleaner.state.floatbank5_b_air      0\n",
      "secondary_cleaner.state.floatbank5_b_level    0\n",
      "secondary_cleaner.state.floatbank6_a_air      0\n",
      "secondary_cleaner.state.floatbank6_a_level    0\n",
      "Length: 87, dtype: int64\n",
      "\n",
      "\n",
      "Дубликаты: 0\n"
     ]
    }
   ],
   "source": [
    "print(\"Нулевые значения:\",train.isna().sum())\n",
    "print(\"\\n\")\n",
    "print(\"Дубликаты:\", train.duplicated().sum())"
   ]
  },
  {
   "cell_type": "code",
   "execution_count": 28,
   "metadata": {},
   "outputs": [
    {
     "name": "stdout",
     "output_type": "stream",
     "text": [
      "Нулевые значения: date                                          0\n",
      "primary_cleaner.input.sulfate                 0\n",
      "primary_cleaner.input.depressant              0\n",
      "primary_cleaner.input.feed_size               0\n",
      "primary_cleaner.input.xanthate                0\n",
      "primary_cleaner.state.floatbank8_a_air        0\n",
      "primary_cleaner.state.floatbank8_a_level      0\n",
      "primary_cleaner.state.floatbank8_b_air        0\n",
      "primary_cleaner.state.floatbank8_b_level      0\n",
      "primary_cleaner.state.floatbank8_c_air        0\n",
      "primary_cleaner.state.floatbank8_c_level      0\n",
      "primary_cleaner.state.floatbank8_d_air        0\n",
      "primary_cleaner.state.floatbank8_d_level      0\n",
      "rougher.input.feed_ag                         0\n",
      "rougher.input.feed_pb                         0\n",
      "rougher.input.feed_rate                       0\n",
      "rougher.input.feed_size                       0\n",
      "rougher.input.feed_sol                        0\n",
      "rougher.input.feed_au                         0\n",
      "rougher.input.floatbank10_sulfate             0\n",
      "rougher.input.floatbank10_xanthate            0\n",
      "rougher.input.floatbank11_sulfate             0\n",
      "rougher.input.floatbank11_xanthate            0\n",
      "rougher.state.floatbank10_a_air               0\n",
      "rougher.state.floatbank10_a_level             0\n",
      "rougher.state.floatbank10_b_air               0\n",
      "rougher.state.floatbank10_b_level             0\n",
      "rougher.state.floatbank10_c_air               0\n",
      "rougher.state.floatbank10_c_level             0\n",
      "rougher.state.floatbank10_d_air               0\n",
      "rougher.state.floatbank10_d_level             0\n",
      "rougher.state.floatbank10_e_air               0\n",
      "rougher.state.floatbank10_e_level             0\n",
      "rougher.state.floatbank10_f_air               0\n",
      "rougher.state.floatbank10_f_level             0\n",
      "secondary_cleaner.state.floatbank2_a_air      0\n",
      "secondary_cleaner.state.floatbank2_a_level    0\n",
      "secondary_cleaner.state.floatbank2_b_air      0\n",
      "secondary_cleaner.state.floatbank2_b_level    0\n",
      "secondary_cleaner.state.floatbank3_a_air      0\n",
      "secondary_cleaner.state.floatbank3_a_level    0\n",
      "secondary_cleaner.state.floatbank3_b_air      0\n",
      "secondary_cleaner.state.floatbank3_b_level    0\n",
      "secondary_cleaner.state.floatbank4_a_air      0\n",
      "secondary_cleaner.state.floatbank4_a_level    0\n",
      "secondary_cleaner.state.floatbank4_b_air      0\n",
      "secondary_cleaner.state.floatbank4_b_level    0\n",
      "secondary_cleaner.state.floatbank5_a_air      0\n",
      "secondary_cleaner.state.floatbank5_a_level    0\n",
      "secondary_cleaner.state.floatbank5_b_air      0\n",
      "secondary_cleaner.state.floatbank5_b_level    0\n",
      "secondary_cleaner.state.floatbank6_a_air      0\n",
      "secondary_cleaner.state.floatbank6_a_level    0\n",
      "dtype: int64\n",
      "\n",
      "\n",
      "Дубликаты: 0\n"
     ]
    }
   ],
   "source": [
    "print(\"Нулевые значения:\",test.isna().sum())\n",
    "print(\"\\n\")\n",
    "print(\"Дубликаты:\", test.duplicated().sum())"
   ]
  },
  {
   "cell_type": "markdown",
   "metadata": {},
   "source": [
    "Были изученны три датасета: обучающий, тестовый и с полными данными. Была проверена эффективность обогащения, данный признак расчитан верно. Всего в тестовой выборке отуствуют 34 признака, в отличии от обучающей. Это выходные и расчетные характеристики. Значит, их нельзя использовать при обучении, так как они еще не будут доступны к моменту начала процесса. Есть незначительные пропуски в данных."
   ]
  },
  {
   "cell_type": "markdown",
   "metadata": {},
   "source": [
    "## Анализ данных"
   ]
  },
  {
   "cell_type": "markdown",
   "metadata": {},
   "source": [
    "### Посмотрите, как меняется концентрация металлов (Au, Ag, Pb) на различных этапах очистки. Опишите выводы."
   ]
  },
  {
   "cell_type": "code",
   "execution_count": 29,
   "metadata": {},
   "outputs": [],
   "source": [
    "#не совсем поняла какую выборку использовать в данном задании, поэтому я буду обращаться к обучающей."
   ]
  },
  {
   "cell_type": "code",
   "execution_count": 30,
   "metadata": {},
   "outputs": [
    {
     "data": {
      "image/png": "[encoded data removed]",
      "text/plain": [
       "<Figure size 432x288 with 1 Axes>"
      ]
     },
     "metadata": {
      "needs_background": "light"
     },
     "output_type": "display_data"
    }
   ],
   "source": [
    "fig, ax = plt.subplots()\n",
    "\n",
    "au = ['В черновом', \n",
    "                   'В сырье', \n",
    "                   'После финальной очистки']\n",
    "counts = train[['rougher.output.concentrate_au', \n",
    "              'primary_cleaner.output.concentrate_au', \n",
    "              'final.output.concentrate_au']].mean()\n",
    "\n",
    "bar_labels = ['red', 'blue', 'green']\n",
    "bar_colors = ['tab:red', 'tab:blue', 'tab:green']\n",
    "\n",
    "ax.bar(au, counts, label=bar_labels, color=bar_colors)\n",
    "\n",
    "ax.set_ylabel('Концентрация')\n",
    "ax.set_title('Концентрация. Золото')\n",
    "\n",
    "plt.show()"
   ]
  },
  {
   "cell_type": "code",
   "execution_count": 31,
   "metadata": {},
   "outputs": [],
   "source": [
    "#Концентрация золота повышается после финальной очистки"
   ]
  },
  {
   "cell_type": "code",
   "execution_count": 32,
   "metadata": {},
   "outputs": [
    {
     "data": {
      "image/png": "[encoded data removed]",
      "text/plain": [
       "<Figure size 432x288 with 1 Axes>"
      ]
     },
     "metadata": {
      "needs_background": "light"
     },
     "output_type": "display_data"
    }
   ],
   "source": [
    "fig, ax = plt.subplots()\n",
    "\n",
    "ag = ['В черновом', \n",
    "                   'В сырье', \n",
    "                   'После финальной очистки']\n",
    "\n",
    "counts = train[['rougher.output.concentrate_ag', \n",
    "              'primary_cleaner.output.concentrate_ag', \n",
    "              'final.output.concentrate_ag']].mean()\n",
    "\n",
    "bar_labels = ['red', 'blue', 'green']\n",
    "bar_colors = ['tab:red', 'tab:blue', 'tab:green']\n",
    "\n",
    "ax.bar(au, counts, label=bar_labels, color=bar_colors)\n",
    "\n",
    "ax.set_ylabel('Концентрация')\n",
    "ax.set_title('Концентрация. Серебро')\n",
    "\n",
    "plt.show()"
   ]
  },
  {
   "cell_type": "code",
   "execution_count": 33,
   "metadata": {},
   "outputs": [],
   "source": [
    "#В черновом больше всего концентрации серебра, после финальной очистки самая минимальная концентрация"
   ]
  },
  {
   "cell_type": "code",
   "execution_count": 34,
   "metadata": {},
   "outputs": [
    {
     "data": {
      "image/png": "[encoded data removed]",
      "text/plain": [
       "<Figure size 432x288 with 1 Axes>"
      ]
     },
     "metadata": {
      "needs_background": "light"
     },
     "output_type": "display_data"
    }
   ],
   "source": [
    "fig, ax = plt.subplots()\n",
    "\n",
    "pb = ['В черновом', \n",
    "                   'В сырье', \n",
    "                   'После финальной очистки']\n",
    "\n",
    "counts = train[['rougher.output.concentrate_pb', \n",
    "              'primary_cleaner.output.concentrate_pb', \n",
    "              'final.output.concentrate_pb']].mean()\n",
    "\n",
    "bar_labels = ['red', 'blue', 'green']\n",
    "bar_colors = ['tab:red', 'tab:blue', 'tab:green']\n",
    "\n",
    "ax.bar(au, counts, label=bar_labels, color=bar_colors)\n",
    "\n",
    "ax.set_ylabel('Концентрация')\n",
    "ax.set_title('Концентрация. Свинец')\n",
    "\n",
    "plt.show()"
   ]
  },
  {
   "cell_type": "code",
   "execution_count": 35,
   "metadata": {},
   "outputs": [],
   "source": [
    "#В свинце концентрация понемногу растет с каждым этапом"
   ]
  },
  {
   "cell_type": "markdown",
   "metadata": {},
   "source": [
    "### Сравните распределения размеров гранул сырья на обучающей и тестовой выборках. Если распределения сильно отличаются друг от друга, оценка модели будет неправильной."
   ]
  },
  {
   "cell_type": "code",
   "execution_count": 36,
   "metadata": {},
   "outputs": [
    {
     "name": "stdout",
     "output_type": "stream",
     "text": [
      "count    14149.000000\n",
      "mean        60.239856\n",
      "std         23.005310\n",
      "min          9.659576\n",
      "25%         48.966751\n",
      "50%         55.269784\n",
      "75%         66.007526\n",
      "max        484.967466\n",
      "Name: rougher.input.feed_size, dtype: float64\n"
     ]
    },
    {
     "data": {
      "text/plain": [
       "<AxesSubplot:>"
      ]
     },
     "execution_count": 36,
     "metadata": {},
     "output_type": "execute_result"
    },
    {
     "data": {
      "image/png": "[encoded data removed]",
      "text/plain": [
       "<Figure size 432x288 with 1 Axes>"
      ]
     },
     "metadata": {
      "needs_background": "light"
     },
     "output_type": "display_data"
    }
   ],
   "source": [
    "print(train['rougher.input.feed_size'].describe())\n",
    "train['rougher.input.feed_size'].hist(bins=100)"
   ]
  },
  {
   "cell_type": "code",
   "execution_count": 37,
   "metadata": {},
   "outputs": [
    {
     "name": "stdout",
     "output_type": "stream",
     "text": [
      "count    5290.000000\n",
      "mean       55.952754\n",
      "std        19.080334\n",
      "min         0.046369\n",
      "25%        43.906504\n",
      "50%        50.846843\n",
      "75%        62.451165\n",
      "max       392.494040\n",
      "Name: rougher.input.feed_size, dtype: float64\n"
     ]
    },
    {
     "data": {
      "text/plain": [
       "<AxesSubplot:>"
      ]
     },
     "execution_count": 37,
     "metadata": {},
     "output_type": "execute_result"
    },
    {
     "data": {
      "image/png": "[encoded data removed]",
      "text/plain": [
       "<Figure size 432x288 with 1 Axes>"
      ]
     },
     "metadata": {
      "needs_background": "light"
     },
     "output_type": "display_data"
    }
   ],
   "source": [
    "print(test['rougher.input.feed_size'].describe())\n",
    "test['rougher.input.feed_size'].hist(bins=100)"
   ]
  },
  {
   "cell_type": "code",
   "execution_count": 38,
   "metadata": {},
   "outputs": [],
   "source": [
    "#по распределению на графиках и по среднему значению разница не велика. Будем считать, что примерно равны."
   ]
  },
  {
   "cell_type": "code",
   "execution_count": 39,
   "metadata": {},
   "outputs": [
    {
     "data": {
      "image/png": "[encoded data removed]",
      "text/plain": [
       "<Figure size 432x288 with 1 Axes>"
      ]
     },
     "metadata": {
      "needs_background": "light"
     },
     "output_type": "display_data"
    }
   ],
   "source": [
    "sns.distplot(train['rougher.input.feed_size'], bins=100)\n",
    "sns.distplot(test['rougher.input.feed_size'], bins=100)\n",
    "\n",
    "plt.xlabel('Размер частиц')\n",
    "plt.ylabel('Количество наблюдений')\n",
    "plt.show()"
   ]
  },
  {
   "cell_type": "markdown",
   "metadata": {},
   "source": [
    "### Исследуйте суммарную концентрацию всех веществ на разных стадиях: в сырье, в черновом и финальном концентратах."
   ]
  },
  {
   "cell_type": "code",
   "execution_count": 40,
   "metadata": {},
   "outputs": [],
   "source": [
    "#в сырье\n",
    "primary_cleaner = train[['primary_cleaner.output.concentrate_au',\n",
    "            'primary_cleaner.output.concentrate_ag',\n",
    "              'primary_cleaner.output.concentrate_pb',\n",
    "              'primary_cleaner.output.concentrate_sol']].sum(axis=1)"
   ]
  },
  {
   "cell_type": "code",
   "execution_count": 41,
   "metadata": {},
   "outputs": [
    {
     "data": {
      "text/plain": [
       "<AxesSubplot:ylabel='Count'>"
      ]
     },
     "execution_count": 41,
     "metadata": {},
     "output_type": "execute_result"
    },
    {
     "data": {
      "image/png": "[encoded data removed]",
      "text/plain": [
       "<Figure size 432x288 with 1 Axes>"
      ]
     },
     "metadata": {
      "needs_background": "light"
     },
     "output_type": "display_data"
    }
   ],
   "source": [
    "sns.histplot(primary_cleaner, fill=True, bins=100)"
   ]
  },
  {
   "cell_type": "code",
   "execution_count": 42,
   "metadata": {},
   "outputs": [],
   "source": [
    "#в черновом концентрате\n",
    "rougher_output = train[['rougher.output.concentrate_pb', \n",
    "                   'rougher.output.concentrate_ag', \n",
    "                   'rougher.output.concentrate_sol', \n",
    "                   'rougher.output.concentrate_au']].sum(axis=1)"
   ]
  },
  {
   "cell_type": "code",
   "execution_count": 43,
   "metadata": {},
   "outputs": [
    {
     "data": {
      "text/plain": [
       "<AxesSubplot:ylabel='Count'>"
      ]
     },
     "execution_count": 43,
     "metadata": {},
     "output_type": "execute_result"
    },
    {
     "data": {
      "image/png": "[encoded data removed]",
      "text/plain": [
       "<Figure size 432x288 with 1 Axes>"
      ]
     },
     "metadata": {
      "needs_background": "light"
     },
     "output_type": "display_data"
    }
   ],
   "source": [
    "sns.histplot(rougher_output, fill=True, bins=100)"
   ]
  },
  {
   "cell_type": "code",
   "execution_count": 44,
   "metadata": {},
   "outputs": [],
   "source": [
    "#в финальном концентрате\n",
    "final = train[['final.output.concentrate_pb', \n",
    "                   'final.output.concentrate_ag', \n",
    "                   'final.output.concentrate_sol', \n",
    "                   'final.output.concentrate_au']].sum(axis=1)"
   ]
  },
  {
   "cell_type": "code",
   "execution_count": 45,
   "metadata": {},
   "outputs": [
    {
     "data": {
      "text/plain": [
       "<AxesSubplot:ylabel='Count'>"
      ]
     },
     "execution_count": 45,
     "metadata": {},
     "output_type": "execute_result"
    },
    {
     "data": {
      "image/png": "[encoded data removed]",
      "text/plain": [
       "<Figure size 432x288 with 1 Axes>"
      ]
     },
     "metadata": {
      "needs_background": "light"
     },
     "output_type": "display_data"
    }
   ],
   "source": [
    "sns.histplot(final, fill=True, bins=100)"
   ]
  },
  {
   "cell_type": "markdown",
   "metadata": {},
   "source": [
    "## Модель"
   ]
  },
  {
   "cell_type": "markdown",
   "metadata": {},
   "source": [
    "### Напишите функцию для вычисления итоговой sMAPE"
   ]
  },
  {
   "attachments": {
    "image.png": {
     "image/png": "[encoded data removed]"
    }
   },
   "cell_type": "markdown",
   "metadata": {},
   "source": [
    "![image.png](attachment:image.png)"
   ]
  },
  {
   "attachments": {
    "image.png": {
     "image/png": "[encoded data removed]"
    }
   },
   "cell_type": "markdown",
   "metadata": {},
   "source": [
    "![image.png](attachment:image.png)"
   ]
  },
  {
   "cell_type": "code",
   "execution_count": 46,
   "metadata": {},
   "outputs": [],
   "source": [
    "def sMAPE(y_train_rougher, y_train_rougher_predicted, y_train_final, y_train_final_predicted):\n",
    "    sMAPE_rougher = np.mean(abs(y_train_rougher - y_train_rougher_predicted)/\n",
    "                            ((abs(y_train_rougher)+abs(y_train_rougher_predicted))/2))*100\n",
    "    sMAPE_final = np.mean(abs(y_train_final - y_train_final_predicted)/\n",
    "                            ((abs(y_train_final)+abs(y_train_final_predicted))/2))*100\n",
    "    final_sMAPE = sMAPE_rougher * 0.25 + sMAPE_final * 0.75\n",
    "    return final_sMAPE"
   ]
  },
  {
   "cell_type": "markdown",
   "metadata": {},
   "source": [
    "### Обучите разные модели и оцените их качество. Выберите лучшую модель и проверьте её на тестовой выборке. Опишите выводы"
   ]
  },
  {
   "cell_type": "code",
   "execution_count": 47,
   "metadata": {},
   "outputs": [],
   "source": [
    "# Сперва нужно привести все признаки к одному виду\n",
    "train = train.drop(set(train.columns)-set(test.columns), axis=1)"
   ]
  },
  {
   "cell_type": "code",
   "execution_count": 48,
   "metadata": {},
   "outputs": [],
   "source": [
    "# Добавим целевые признаки\n",
    "df = data[['date', 'rougher.output.recovery', 'final.output.recovery']]\n",
    "test = test.merge(df, how = 'left', on = 'date')\n",
    "train = train.merge(df, how = 'left', on = 'date')"
   ]
  },
  {
   "cell_type": "code",
   "execution_count": 49,
   "metadata": {},
   "outputs": [
    {
     "data": {
      "text/plain": [
       "0"
      ]
     },
     "execution_count": 49,
     "metadata": {},
     "output_type": "execute_result"
    }
   ],
   "source": [
    "# Разницы в признаках нет, можно разбивать на таргет и фичи\n",
    "len(train.columns) - len(test.columns)"
   ]
  },
  {
   "cell_type": "code",
   "execution_count": 50,
   "metadata": {},
   "outputs": [],
   "source": [
    "# Делим признаки на фичи и таргет:\n",
    "X_train_rougher = train.drop(['rougher.output.recovery', 'final.output.recovery', 'date'], axis=1)\n",
    "y_train_rougher = train['rougher.output.recovery']\n",
    "X_train_final = X_train_rougher\n",
    "y_train_final = train['final.output.recovery']"
   ]
  },
  {
   "cell_type": "code",
   "execution_count": 51,
   "metadata": {},
   "outputs": [],
   "source": [
    "# Масштабируем признаки:\n",
    "scaler = StandardScaler()\n",
    "scaler.fit(X_train_rougher)\n",
    "scaler.fit(X_train_final)\n",
    " \n",
    "X_train_rougher = scaler.transform(X_train_rougher)\n",
    "X_train_final = scaler.transform(X_train_final)"
   ]
  },
  {
   "cell_type": "markdown",
   "metadata": {},
   "source": [
    "#### RF"
   ]
  },
  {
   "cell_type": "code",
   "execution_count": 52,
   "metadata": {},
   "outputs": [],
   "source": [
    "# Зададим параметры модели:\n",
    "clf = RandomForestRegressor()\n",
    "param_grid = {'n_estimators': range(10, 41, 10),\n",
    "              'max_depth': range(1,8, 2)\n",
    "             }\n",
    "new_score = make_scorer(sMAPE, greater_is_better=False)\n",
    " \n",
    "grid_rougher = GridSearchCV(clf, param_grid, scoring=new_score, cv=5)\n",
    "grid_final = GridSearchCV(clf, param_grid, scoring=new_score, cv=5)"
   ]
  },
  {
   "cell_type": "code",
   "execution_count": 53,
   "metadata": {},
   "outputs": [
    {
     "data": {
      "text/plain": [
       "GridSearchCV(cv=5, estimator=RandomForestRegressor(),\n",
       "             param_grid={'max_depth': range(1, 8, 2),\n",
       "                         'n_estimators': range(10, 41, 10)},\n",
       "             scoring=make_scorer(sMAPE, greater_is_better=False))"
      ]
     },
     "execution_count": 53,
     "metadata": {},
     "output_type": "execute_result"
    }
   ],
   "source": [
    "# Обучаем модели\n",
    "grid_rougher.fit(X_train_rougher, y_train_rougher)\n",
    "grid_final.fit(X_train_final, y_train_final)"
   ]
  },
  {
   "cell_type": "code",
   "execution_count": 54,
   "metadata": {},
   "outputs": [],
   "source": [
    "y_train_rougher_predicted = grid_rougher.predict(X_train_rougher)\n",
    "y_train_final_predicted = grid_final.predict(X_train_final)"
   ]
  },
  {
   "cell_type": "code",
   "execution_count": 55,
   "metadata": {},
   "outputs": [],
   "source": [
    "data_rf = {'real_rougher' : y_train_rougher, 'predicted_rougher' : y_train_rougher_predicted,\n",
    "       'real_final' : y_train_final, 'predicted_final' : y_train_final_predicted}"
   ]
  },
  {
   "cell_type": "code",
   "execution_count": 56,
   "metadata": {},
   "outputs": [
    {
     "data": {
      "text/html": [
       "<div>\n",
       "<style scoped>\n",
       "    .dataframe tbody tr th:only-of-type {\n",
       "        vertical-align: middle;\n",
       "    }\n",
       "\n",
       "    .dataframe tbody tr th {\n",
       "        vertical-align: top;\n",
       "    }\n",
       "\n",
       "    .dataframe thead th {\n",
       "        text-align: right;\n",
       "    }\n",
       "</style>\n",
       "<table border=\"1\" class=\"dataframe\">\n",
       "  <thead>\n",
       "    <tr style=\"text-align: right;\">\n",
       "      <th></th>\n",
       "      <th>real_rougher</th>\n",
       "      <th>predicted_rougher</th>\n",
       "      <th>real_final</th>\n",
       "      <th>predicted_final</th>\n",
       "    </tr>\n",
       "  </thead>\n",
       "  <tbody>\n",
       "    <tr>\n",
       "      <th>0</th>\n",
       "      <td>87.107763</td>\n",
       "      <td>82.177834</td>\n",
       "      <td>70.541216</td>\n",
       "      <td>66.79303</td>\n",
       "    </tr>\n",
       "    <tr>\n",
       "      <th>1</th>\n",
       "      <td>86.843261</td>\n",
       "      <td>82.177834</td>\n",
       "      <td>69.266198</td>\n",
       "      <td>66.79303</td>\n",
       "    </tr>\n",
       "    <tr>\n",
       "      <th>2</th>\n",
       "      <td>86.842308</td>\n",
       "      <td>82.177834</td>\n",
       "      <td>68.116445</td>\n",
       "      <td>66.79303</td>\n",
       "    </tr>\n",
       "    <tr>\n",
       "      <th>3</th>\n",
       "      <td>87.226430</td>\n",
       "      <td>82.177834</td>\n",
       "      <td>68.347543</td>\n",
       "      <td>66.79303</td>\n",
       "    </tr>\n",
       "    <tr>\n",
       "      <th>4</th>\n",
       "      <td>86.688794</td>\n",
       "      <td>82.177834</td>\n",
       "      <td>66.927016</td>\n",
       "      <td>66.79303</td>\n",
       "    </tr>\n",
       "  </tbody>\n",
       "</table>\n",
       "</div>"
      ],
      "text/plain": [
       "   real_rougher  predicted_rougher  real_final  predicted_final\n",
       "0     87.107763          82.177834   70.541216         66.79303\n",
       "1     86.843261          82.177834   69.266198         66.79303\n",
       "2     86.842308          82.177834   68.116445         66.79303\n",
       "3     87.226430          82.177834   68.347543         66.79303\n",
       "4     86.688794          82.177834   66.927016         66.79303"
      ]
     },
     "metadata": {},
     "output_type": "display_data"
    },
    {
     "name": "stdout",
     "output_type": "stream",
     "text": [
      "sMAPE: 10.408694299251364\n"
     ]
    }
   ],
   "source": [
    "data_rf_res = pd.DataFrame(data_rf, columns = ['real_rougher', 'predicted_rougher', 'real_final', 'predicted_final'])\n",
    "display(data_rf_res.head())\n",
    "print('sMAPE:', sMAPE(y_train_rougher, y_train_rougher_predicted, y_train_final, y_train_final_predicted))"
   ]
  },
  {
   "cell_type": "markdown",
   "metadata": {},
   "source": [
    "#### LR"
   ]
  },
  {
   "cell_type": "code",
   "execution_count": 57,
   "metadata": {},
   "outputs": [],
   "source": [
    "lr_final = LinearRegression()\n",
    "lr_rougher = LinearRegression()"
   ]
  },
  {
   "cell_type": "code",
   "execution_count": 58,
   "metadata": {},
   "outputs": [
    {
     "data": {
      "text/plain": [
       "LinearRegression()"
      ]
     },
     "execution_count": 58,
     "metadata": {},
     "output_type": "execute_result"
    }
   ],
   "source": [
    "# Обучаем модели\n",
    "lr_rougher.fit(X_train_rougher, y_train_rougher)\n",
    "lr_final.fit(X_train_final, y_train_final)"
   ]
  },
  {
   "cell_type": "code",
   "execution_count": 59,
   "metadata": {},
   "outputs": [],
   "source": [
    "y_train_rougher_predicted_lr = lr_rougher.predict(X_train_rougher)\n",
    "y_train_final_predicted_lr = lr_final.predict(X_train_final)"
   ]
  },
  {
   "cell_type": "code",
   "execution_count": 60,
   "metadata": {},
   "outputs": [],
   "source": [
    "data_lr = {'real_rougher' : y_train_rougher, 'predicted_rougher' : y_train_rougher_predicted_lr,\n",
    "       'real_final' : y_train_final, 'predicted_final' : y_train_final_predicted_lr}"
   ]
  },
  {
   "cell_type": "code",
   "execution_count": 61,
   "metadata": {},
   "outputs": [
    {
     "data": {
      "text/html": [
       "<div>\n",
       "<style scoped>\n",
       "    .dataframe tbody tr th:only-of-type {\n",
       "        vertical-align: middle;\n",
       "    }\n",
       "\n",
       "    .dataframe tbody tr th {\n",
       "        vertical-align: top;\n",
       "    }\n",
       "\n",
       "    .dataframe thead th {\n",
       "        text-align: right;\n",
       "    }\n",
       "</style>\n",
       "<table border=\"1\" class=\"dataframe\">\n",
       "  <thead>\n",
       "    <tr style=\"text-align: right;\">\n",
       "      <th></th>\n",
       "      <th>real_rougher</th>\n",
       "      <th>predicted_rougher</th>\n",
       "      <th>real_final</th>\n",
       "      <th>predicted_final</th>\n",
       "    </tr>\n",
       "  </thead>\n",
       "  <tbody>\n",
       "    <tr>\n",
       "      <th>0</th>\n",
       "      <td>87.107763</td>\n",
       "      <td>83.230705</td>\n",
       "      <td>70.541216</td>\n",
       "      <td>63.647444</td>\n",
       "    </tr>\n",
       "    <tr>\n",
       "      <th>1</th>\n",
       "      <td>86.843261</td>\n",
       "      <td>81.555057</td>\n",
       "      <td>69.266198</td>\n",
       "      <td>63.799462</td>\n",
       "    </tr>\n",
       "    <tr>\n",
       "      <th>2</th>\n",
       "      <td>86.842308</td>\n",
       "      <td>80.692452</td>\n",
       "      <td>68.116445</td>\n",
       "      <td>63.963691</td>\n",
       "    </tr>\n",
       "    <tr>\n",
       "      <th>3</th>\n",
       "      <td>87.226430</td>\n",
       "      <td>80.653358</td>\n",
       "      <td>68.347543</td>\n",
       "      <td>63.883331</td>\n",
       "    </tr>\n",
       "    <tr>\n",
       "      <th>4</th>\n",
       "      <td>86.688794</td>\n",
       "      <td>80.447318</td>\n",
       "      <td>66.927016</td>\n",
       "      <td>62.863068</td>\n",
       "    </tr>\n",
       "  </tbody>\n",
       "</table>\n",
       "</div>"
      ],
      "text/plain": [
       "   real_rougher  predicted_rougher  real_final  predicted_final\n",
       "0     87.107763          83.230705   70.541216        63.647444\n",
       "1     86.843261          81.555057   69.266198        63.799462\n",
       "2     86.842308          80.692452   68.116445        63.963691\n",
       "3     87.226430          80.653358   68.347543        63.883331\n",
       "4     86.688794          80.447318   66.927016        62.863068"
      ]
     },
     "metadata": {},
     "output_type": "display_data"
    },
    {
     "name": "stdout",
     "output_type": "stream",
     "text": [
      "sMAPE: 9.272740074394875\n"
     ]
    }
   ],
   "source": [
    "data_lr_res = pd.DataFrame(data_lr, columns = ['real_rougher', 'predicted_rougher', 'real_final', 'predicted_final'])\n",
    "display(data_lr_res.head())\n",
    "print('sMAPE:', sMAPE(y_train_rougher, y_train_rougher_predicted_lr, y_train_final, y_train_final_predicted_lr))"
   ]
  },
  {
   "cell_type": "markdown",
   "metadata": {},
   "source": [
    "#### Catboost"
   ]
  },
  {
   "cell_type": "code",
   "execution_count": 73,
   "metadata": {},
   "outputs": [],
   "source": [
    "cat  = CatBoostRegressor()\n",
    "\n",
    "grid = {'learning_rate': [0.03, 0.1],\n",
    "        'depth': [4, 6, 10],\n",
    "        'l2_leaf_reg': [1, 3, 5, 7, 9]}\n",
    "\n",
    "new_score = make_scorer(sMAPE, greater_is_better=False)\n",
    "\n",
    "cat_rougher = GridSearchCV(cat, param_grid, scoring=new_score, cv=5)\n",
    "cat_final = GridSearchCV(cat, param_grid, scoring=new_score, cv=5)"
   ]
  },
  {
   "cell_type": "code",
   "execution_count": 74,
   "metadata": {
    "scrolled": true
   },
   "outputs": [
    {
     "name": "stdout",
     "output_type": "stream",
     "text": [
      "Learning rate set to 0.062229\n",
      "0:\tlearn: 14.2190100\ttotal: 24.4ms\tremaining: 24.4s\n",
      "1:\tlearn: 14.0078681\ttotal: 42.3ms\tremaining: 21.1s\n",
      "2:\tlearn: 13.8033049\ttotal: 60.6ms\tremaining: 20.2s\n",
      "3:\tlearn: 13.5903813\ttotal: 79.7ms\tremaining: 19.8s\n",
      "4:\tlearn: 13.4056456\ttotal: 98.3ms\tremaining: 19.6s\n",
      "5:\tlearn: 13.2302263\ttotal: 116ms\tremaining: 19.2s\n",
      "6:\tlearn: 13.0771384\ttotal: 134ms\tremaining: 19s\n",
      "7:\tlearn: 12.9237117\ttotal: 152ms\tremaining: 18.8s\n",
      "8:\tlearn: 12.7858792\ttotal: 169ms\tremaining: 18.7s\n",
      "9:\tlearn: 12.6578284\ttotal: 188ms\tremaining: 18.6s\n",
      "10:\tlearn: 12.5108016\ttotal: 206ms\tremaining: 18.5s\n",
      "11:\tlearn: 12.4070498\ttotal: 223ms\tremaining: 18.4s\n",
      "12:\tlearn: 12.3147943\ttotal: 241ms\tremaining: 18.3s\n",
      "13:\tlearn: 12.2298913\ttotal: 259ms\tremaining: 18.2s\n",
      "14:\tlearn: 12.1405965\ttotal: 278ms\tremaining: 18.2s\n",
      "15:\tlearn: 12.0324434\ttotal: 306ms\tremaining: 18.8s\n",
      "16:\tlearn: 11.9436277\ttotal: 324ms\tremaining: 18.7s\n",
      "17:\tlearn: 11.8616922\ttotal: 341ms\tremaining: 18.6s\n",
      "18:\tlearn: 11.7398002\ttotal: 358ms\tremaining: 18.5s\n",
      "19:\tlearn: 11.6672739\ttotal: 379ms\tremaining: 18.6s\n",
      "20:\tlearn: 11.5689641\ttotal: 395ms\tremaining: 18.4s\n",
      "21:\tlearn: 11.5112673\ttotal: 413ms\tremaining: 18.3s\n",
      "22:\tlearn: 11.4570627\ttotal: 429ms\tremaining: 18.2s\n",
      "23:\tlearn: 11.4042893\ttotal: 446ms\tremaining: 18.1s\n",
      "24:\tlearn: 11.3540743\ttotal: 463ms\tremaining: 18.1s\n",
      "25:\tlearn: 11.2828916\ttotal: 480ms\tremaining: 18s\n",
      "26:\tlearn: 11.2044344\ttotal: 498ms\tremaining: 18s\n",
      "27:\tlearn: 11.1625704\ttotal: 516ms\tremaining: 17.9s\n",
      "28:\tlearn: 11.1340943\ttotal: 534ms\tremaining: 17.9s\n",
      "29:\tlearn: 11.0989642\ttotal: 551ms\tremaining: 17.8s\n",
      "30:\tlearn: 11.0677886\ttotal: 570ms\tremaining: 17.8s\n",
      "31:\tlearn: 10.9996443\ttotal: 587ms\tremaining: 17.7s\n",
      "32:\tlearn: 10.9517709\ttotal: 615ms\tremaining: 18s\n",
      "33:\tlearn: 10.8933587\ttotal: 637ms\tremaining: 18.1s\n",
      "34:\tlearn: 10.8458851\ttotal: 654ms\tremaining: 18s\n",
      "35:\tlearn: 10.7960434\ttotal: 671ms\tremaining: 18s\n",
      "36:\tlearn: 10.7618012\ttotal: 689ms\tremaining: 17.9s\n",
      "37:\tlearn: 10.7036389\ttotal: 707ms\tremaining: 17.9s\n",
      "38:\tlearn: 10.6712243\ttotal: 737ms\tremaining: 18.2s\n",
      "39:\tlearn: 10.6514528\ttotal: 770ms\tremaining: 18.5s\n",
      "40:\tlearn: 10.6168594\ttotal: 798ms\tremaining: 18.7s\n",
      "41:\tlearn: 10.5707524\ttotal: 823ms\tremaining: 18.8s\n",
      "42:\tlearn: 10.5418553\ttotal: 839ms\tremaining: 18.7s\n",
      "43:\tlearn: 10.4865885\ttotal: 856ms\tremaining: 18.6s\n",
      "44:\tlearn: 10.4522487\ttotal: 873ms\tremaining: 18.5s\n",
      "45:\tlearn: 10.4161835\ttotal: 889ms\tremaining: 18.4s\n",
      "46:\tlearn: 10.3849442\ttotal: 906ms\tremaining: 18.4s\n",
      "47:\tlearn: 10.3653116\ttotal: 923ms\tremaining: 18.3s\n",
      "48:\tlearn: 10.3058672\ttotal: 939ms\tremaining: 18.2s\n",
      "49:\tlearn: 10.2908411\ttotal: 956ms\tremaining: 18.2s\n",
      "50:\tlearn: 10.2680265\ttotal: 972ms\tremaining: 18.1s\n",
      "51:\tlearn: 10.2473376\ttotal: 990ms\tremaining: 18s\n",
      "52:\tlearn: 10.2286465\ttotal: 1.01s\tremaining: 18s\n",
      "53:\tlearn: 10.2089476\ttotal: 1.02s\tremaining: 17.9s\n",
      "54:\tlearn: 10.1963234\ttotal: 1.04s\tremaining: 17.9s\n",
      "55:\tlearn: 10.1426686\ttotal: 1.06s\tremaining: 17.8s\n",
      "56:\tlearn: 10.1260370\ttotal: 1.07s\tremaining: 17.8s\n",
      "57:\tlearn: 10.0759549\ttotal: 1.09s\tremaining: 17.7s\n",
      "58:\tlearn: 10.0598060\ttotal: 1.11s\tremaining: 17.6s\n",
      "59:\tlearn: 10.0365607\ttotal: 1.12s\tremaining: 17.6s\n",
      "60:\tlearn: 10.0101862\ttotal: 1.14s\tremaining: 17.6s\n",
      "61:\tlearn: 9.9893858\ttotal: 1.16s\tremaining: 17.6s\n",
      "62:\tlearn: 9.9457740\ttotal: 1.18s\tremaining: 17.5s\n",
      "63:\tlearn: 9.9295258\ttotal: 1.19s\tremaining: 17.5s\n",
      "64:\tlearn: 9.9108016\ttotal: 1.21s\tremaining: 17.4s\n",
      "65:\tlearn: 9.8938883\ttotal: 1.23s\tremaining: 17.4s\n",
      "66:\tlearn: 9.8735993\ttotal: 1.24s\tremaining: 17.3s\n",
      "67:\tlearn: 9.8591729\ttotal: 1.26s\tremaining: 17.3s\n",
      "68:\tlearn: 9.8366774\ttotal: 1.28s\tremaining: 17.2s\n",
      "69:\tlearn: 9.8075071\ttotal: 1.29s\tremaining: 17.2s\n",
      "70:\tlearn: 9.7887789\ttotal: 1.31s\tremaining: 17.2s\n",
      "71:\tlearn: 9.7794076\ttotal: 1.33s\tremaining: 17.1s\n",
      "72:\tlearn: 9.7700163\ttotal: 1.34s\tremaining: 17.1s\n",
      "73:\tlearn: 9.7521738\ttotal: 1.36s\tremaining: 17s\n",
      "74:\tlearn: 9.7267431\ttotal: 1.38s\tremaining: 17s\n",
      "75:\tlearn: 9.7136374\ttotal: 1.39s\tremaining: 16.9s\n",
      "76:\tlearn: 9.6968902\ttotal: 1.41s\tremaining: 16.9s\n",
      "77:\tlearn: 9.6827742\ttotal: 1.43s\tremaining: 16.8s\n",
      "78:\tlearn: 9.6707270\ttotal: 1.44s\tremaining: 16.8s\n",
      "79:\tlearn: 9.6567818\ttotal: 1.46s\tremaining: 16.8s\n",
      "80:\tlearn: 9.6439170\ttotal: 1.47s\tremaining: 16.7s\n",
      "81:\tlearn: 9.6324994\ttotal: 1.49s\tremaining: 16.7s\n",
      "82:\tlearn: 9.6208687\ttotal: 1.5s\tremaining: 16.6s\n",
      "83:\tlearn: 9.6095156\ttotal: 1.52s\tremaining: 16.6s\n",
      "84:\tlearn: 9.5846520\ttotal: 1.54s\tremaining: 16.6s\n",
      "85:\tlearn: 9.5746839\ttotal: 1.55s\tremaining: 16.5s\n",
      "86:\tlearn: 9.5405638\ttotal: 1.57s\tremaining: 16.5s\n",
      "87:\tlearn: 9.5272311\ttotal: 1.59s\tremaining: 16.4s\n",
      "88:\tlearn: 9.5165223\ttotal: 1.61s\tremaining: 16.4s\n",
      "89:\tlearn: 9.5075320\ttotal: 1.63s\tremaining: 16.4s\n",
      "90:\tlearn: 9.4978271\ttotal: 1.64s\tremaining: 16.4s\n",
      "91:\tlearn: 9.4862420\ttotal: 1.66s\tremaining: 16.4s\n",
      "92:\tlearn: 9.4758859\ttotal: 1.67s\tremaining: 16.3s\n",
      "93:\tlearn: 9.4495276\ttotal: 1.69s\tremaining: 16.3s\n",
      "94:\tlearn: 9.4379099\ttotal: 1.71s\tremaining: 16.3s\n",
      "95:\tlearn: 9.4317554\ttotal: 1.73s\tremaining: 16.3s\n",
      "96:\tlearn: 9.4159740\ttotal: 1.75s\tremaining: 16.3s\n",
      "97:\tlearn: 9.4079902\ttotal: 1.76s\tremaining: 16.2s\n",
      "98:\tlearn: 9.3720822\ttotal: 1.78s\tremaining: 16.2s\n",
      "99:\tlearn: 9.3609226\ttotal: 1.8s\tremaining: 16.2s\n",
      "100:\tlearn: 9.3381867\ttotal: 1.81s\tremaining: 16.2s\n",
      "101:\tlearn: 9.3149545\ttotal: 1.83s\tremaining: 16.1s\n",
      "102:\tlearn: 9.3055414\ttotal: 1.85s\tremaining: 16.1s\n",
      "103:\tlearn: 9.2954870\ttotal: 1.86s\tremaining: 16.1s\n",
      "104:\tlearn: 9.2784074\ttotal: 1.88s\tremaining: 16s\n",
      "105:\tlearn: 9.2640697\ttotal: 1.9s\tremaining: 16s\n",
      "106:\tlearn: 9.2484656\ttotal: 1.92s\tremaining: 16s\n",
      "107:\tlearn: 9.2398180\ttotal: 1.93s\tremaining: 16s\n",
      "108:\tlearn: 9.2277906\ttotal: 1.95s\tremaining: 15.9s\n",
      "109:\tlearn: 9.1985928\ttotal: 1.97s\tremaining: 15.9s\n",
      "110:\tlearn: 9.1744508\ttotal: 1.98s\tremaining: 15.9s\n",
      "111:\tlearn: 9.1564076\ttotal: 2s\tremaining: 15.9s\n",
      "112:\tlearn: 9.1474889\ttotal: 2.02s\tremaining: 15.8s\n",
      "113:\tlearn: 9.1383600\ttotal: 2.03s\tremaining: 15.8s\n",
      "114:\tlearn: 9.1293044\ttotal: 2.05s\tremaining: 15.8s\n",
      "115:\tlearn: 9.1093994\ttotal: 2.07s\tremaining: 15.7s\n",
      "116:\tlearn: 9.1003578\ttotal: 2.08s\tremaining: 15.7s\n",
      "117:\tlearn: 9.0888286\ttotal: 2.1s\tremaining: 15.7s\n",
      "118:\tlearn: 9.0666769\ttotal: 2.12s\tremaining: 15.7s\n",
      "119:\tlearn: 9.0438710\ttotal: 2.13s\tremaining: 15.7s\n",
      "120:\tlearn: 9.0324897\ttotal: 2.15s\tremaining: 15.6s\n",
      "121:\tlearn: 9.0180399\ttotal: 2.17s\tremaining: 15.6s\n",
      "122:\tlearn: 8.9998864\ttotal: 2.19s\tremaining: 15.6s\n",
      "123:\tlearn: 8.9940231\ttotal: 2.2s\tremaining: 15.6s\n",
      "124:\tlearn: 8.9841445\ttotal: 2.22s\tremaining: 15.5s\n",
      "125:\tlearn: 8.9761873\ttotal: 2.24s\tremaining: 15.5s\n",
      "126:\tlearn: 8.9693859\ttotal: 2.25s\tremaining: 15.5s\n",
      "127:\tlearn: 8.9638316\ttotal: 2.27s\tremaining: 15.5s\n",
      "128:\tlearn: 8.9495040\ttotal: 2.29s\tremaining: 15.4s\n",
      "129:\tlearn: 8.9364216\ttotal: 2.3s\tremaining: 15.4s\n",
      "130:\tlearn: 8.9230203\ttotal: 2.32s\tremaining: 15.4s\n",
      "131:\tlearn: 8.9168105\ttotal: 2.34s\tremaining: 15.4s\n",
      "132:\tlearn: 8.9047825\ttotal: 2.35s\tremaining: 15.3s\n",
      "133:\tlearn: 8.8962823\ttotal: 2.37s\tremaining: 15.3s\n",
      "134:\tlearn: 8.8885705\ttotal: 2.38s\tremaining: 15.3s\n",
      "135:\tlearn: 8.8822423\ttotal: 2.4s\tremaining: 15.3s\n",
      "136:\tlearn: 8.8634448\ttotal: 2.42s\tremaining: 15.2s\n",
      "137:\tlearn: 8.8536468\ttotal: 2.44s\tremaining: 15.2s\n",
      "138:\tlearn: 8.8329070\ttotal: 2.45s\tremaining: 15.2s\n",
      "139:\tlearn: 8.8219748\ttotal: 2.47s\tremaining: 15.2s\n",
      "140:\tlearn: 8.8060840\ttotal: 2.49s\tremaining: 15.2s\n",
      "141:\tlearn: 8.7896597\ttotal: 2.51s\tremaining: 15.1s\n",
      "142:\tlearn: 8.7781863\ttotal: 2.53s\tremaining: 15.2s\n",
      "143:\tlearn: 8.7661802\ttotal: 2.55s\tremaining: 15.2s\n",
      "144:\tlearn: 8.7555939\ttotal: 2.57s\tremaining: 15.1s\n",
      "145:\tlearn: 8.7444051\ttotal: 2.58s\tremaining: 15.1s\n",
      "146:\tlearn: 8.7287507\ttotal: 2.6s\tremaining: 15.1s\n",
      "147:\tlearn: 8.7185938\ttotal: 2.62s\tremaining: 15.1s\n",
      "148:\tlearn: 8.7145962\ttotal: 2.64s\tremaining: 15.1s\n",
      "149:\tlearn: 8.7041151\ttotal: 2.66s\tremaining: 15.1s\n",
      "150:\tlearn: 8.7003802\ttotal: 2.67s\tremaining: 15s\n",
      "151:\tlearn: 8.6917186\ttotal: 2.69s\tremaining: 15s\n",
      "152:\tlearn: 8.6826593\ttotal: 2.71s\tremaining: 15s\n",
      "153:\tlearn: 8.6669093\ttotal: 2.73s\tremaining: 15s\n",
      "154:\tlearn: 8.6526747\ttotal: 2.75s\tremaining: 15s\n",
      "155:\tlearn: 8.6347922\ttotal: 2.76s\tremaining: 14.9s\n",
      "156:\tlearn: 8.6227885\ttotal: 2.78s\tremaining: 14.9s\n",
      "157:\tlearn: 8.6126917\ttotal: 2.8s\tremaining: 14.9s\n",
      "158:\tlearn: 8.6029935\ttotal: 2.82s\tremaining: 14.9s\n",
      "159:\tlearn: 8.5937986\ttotal: 2.83s\tremaining: 14.9s\n",
      "160:\tlearn: 8.5834166\ttotal: 2.85s\tremaining: 14.8s\n",
      "161:\tlearn: 8.5783263\ttotal: 2.86s\tremaining: 14.8s\n",
      "162:\tlearn: 8.5626823\ttotal: 2.88s\tremaining: 14.8s\n",
      "163:\tlearn: 8.5534055\ttotal: 2.9s\tremaining: 14.8s\n",
      "164:\tlearn: 8.5420958\ttotal: 2.92s\tremaining: 14.8s\n",
      "165:\tlearn: 8.5335866\ttotal: 2.93s\tremaining: 14.7s\n",
      "166:\tlearn: 8.5263507\ttotal: 2.95s\tremaining: 14.7s\n",
      "167:\tlearn: 8.5143434\ttotal: 2.96s\tremaining: 14.7s\n",
      "168:\tlearn: 8.4936238\ttotal: 2.98s\tremaining: 14.7s\n",
      "169:\tlearn: 8.4743878\ttotal: 3s\tremaining: 14.6s\n",
      "170:\tlearn: 8.4674804\ttotal: 3.02s\tremaining: 14.6s\n",
      "171:\tlearn: 8.4558011\ttotal: 3.03s\tremaining: 14.6s\n",
      "172:\tlearn: 8.4494147\ttotal: 3.05s\tremaining: 14.6s\n",
      "173:\tlearn: 8.4426475\ttotal: 3.06s\tremaining: 14.5s\n",
      "174:\tlearn: 8.4323400\ttotal: 3.08s\tremaining: 14.5s\n",
      "175:\tlearn: 8.4087042\ttotal: 3.09s\tremaining: 14.5s\n",
      "176:\tlearn: 8.3975355\ttotal: 3.11s\tremaining: 14.5s\n",
      "177:\tlearn: 8.3878282\ttotal: 3.13s\tremaining: 14.4s\n",
      "178:\tlearn: 8.3728765\ttotal: 3.14s\tremaining: 14.4s\n",
      "179:\tlearn: 8.3584509\ttotal: 3.16s\tremaining: 14.4s\n",
      "180:\tlearn: 8.3391453\ttotal: 3.17s\tremaining: 14.4s\n",
      "181:\tlearn: 8.3355167\ttotal: 3.19s\tremaining: 14.3s\n",
      "182:\tlearn: 8.3276179\ttotal: 3.21s\tremaining: 14.3s\n",
      "183:\tlearn: 8.3206160\ttotal: 3.22s\tremaining: 14.3s\n",
      "184:\tlearn: 8.2979699\ttotal: 3.24s\tremaining: 14.3s\n",
      "185:\tlearn: 8.2910265\ttotal: 3.25s\tremaining: 14.2s\n",
      "186:\tlearn: 8.2840232\ttotal: 3.27s\tremaining: 14.2s\n",
      "187:\tlearn: 8.2778217\ttotal: 3.29s\tremaining: 14.2s\n",
      "188:\tlearn: 8.2635696\ttotal: 3.3s\tremaining: 14.2s\n",
      "189:\tlearn: 8.2500278\ttotal: 3.32s\tremaining: 14.1s\n",
      "190:\tlearn: 8.2249609\ttotal: 3.34s\tremaining: 14.1s\n",
      "191:\tlearn: 8.2126114\ttotal: 3.36s\tremaining: 14.2s\n",
      "192:\tlearn: 8.1941487\ttotal: 3.38s\tremaining: 14.2s\n",
      "193:\tlearn: 8.1739150\ttotal: 3.4s\tremaining: 14.1s\n",
      "194:\tlearn: 8.1654388\ttotal: 3.42s\tremaining: 14.1s\n",
      "195:\tlearn: 8.1403450\ttotal: 3.44s\tremaining: 14.1s\n",
      "196:\tlearn: 8.1306112\ttotal: 3.47s\tremaining: 14.1s\n",
      "197:\tlearn: 8.1212057\ttotal: 3.5s\tremaining: 14.2s\n",
      "198:\tlearn: 8.1048347\ttotal: 3.52s\tremaining: 14.2s\n",
      "199:\tlearn: 8.0892810\ttotal: 3.55s\tremaining: 14.2s\n",
      "200:\tlearn: 8.0803127\ttotal: 3.56s\tremaining: 14.2s\n",
      "201:\tlearn: 8.0704197\ttotal: 3.58s\tremaining: 14.2s\n",
      "202:\tlearn: 8.0513283\ttotal: 3.6s\tremaining: 14.1s\n",
      "203:\tlearn: 8.0395944\ttotal: 3.62s\tremaining: 14.1s\n",
      "204:\tlearn: 8.0306550\ttotal: 3.64s\tremaining: 14.1s\n",
      "205:\tlearn: 8.0118077\ttotal: 3.66s\tremaining: 14.1s\n",
      "206:\tlearn: 8.0029525\ttotal: 3.67s\tremaining: 14.1s\n",
      "207:\tlearn: 7.9930198\ttotal: 3.69s\tremaining: 14s\n",
      "208:\tlearn: 7.9764843\ttotal: 3.71s\tremaining: 14s\n",
      "209:\tlearn: 7.9668365\ttotal: 3.73s\tremaining: 14s\n",
      "210:\tlearn: 7.9397887\ttotal: 3.75s\tremaining: 14s\n",
      "211:\tlearn: 7.9255700\ttotal: 3.76s\tremaining: 14s\n",
      "212:\tlearn: 7.9205628\ttotal: 3.78s\tremaining: 14s\n",
      "213:\tlearn: 7.9127784\ttotal: 3.8s\tremaining: 13.9s\n",
      "214:\tlearn: 7.8999597\ttotal: 3.81s\tremaining: 13.9s\n",
      "215:\tlearn: 7.8855773\ttotal: 3.83s\tremaining: 13.9s\n",
      "216:\tlearn: 7.8773617\ttotal: 3.85s\tremaining: 13.9s\n",
      "217:\tlearn: 7.8592276\ttotal: 3.86s\tremaining: 13.9s\n",
      "218:\tlearn: 7.8442075\ttotal: 3.88s\tremaining: 13.8s\n",
      "219:\tlearn: 7.8360288\ttotal: 3.9s\tremaining: 13.8s\n",
      "220:\tlearn: 7.8287206\ttotal: 3.91s\tremaining: 13.8s\n",
      "221:\tlearn: 7.8214185\ttotal: 3.93s\tremaining: 13.8s\n",
      "222:\tlearn: 7.8140426\ttotal: 3.95s\tremaining: 13.8s\n",
      "223:\tlearn: 7.8051188\ttotal: 3.97s\tremaining: 13.7s\n",
      "224:\tlearn: 7.7982710\ttotal: 3.98s\tremaining: 13.7s\n",
      "225:\tlearn: 7.7904251\ttotal: 4s\tremaining: 13.7s\n",
      "226:\tlearn: 7.7862974\ttotal: 4.02s\tremaining: 13.7s\n",
      "227:\tlearn: 7.7793714\ttotal: 4.03s\tremaining: 13.7s\n",
      "228:\tlearn: 7.7652821\ttotal: 4.05s\tremaining: 13.6s\n",
      "229:\tlearn: 7.7494742\ttotal: 4.06s\tremaining: 13.6s\n",
      "230:\tlearn: 7.7363814\ttotal: 4.08s\tremaining: 13.6s\n",
      "231:\tlearn: 7.7217798\ttotal: 4.1s\tremaining: 13.6s\n",
      "232:\tlearn: 7.7161339\ttotal: 4.11s\tremaining: 13.5s\n",
      "233:\tlearn: 7.7025289\ttotal: 4.13s\tremaining: 13.5s\n",
      "234:\tlearn: 7.6936982\ttotal: 4.15s\tremaining: 13.5s\n",
      "235:\tlearn: 7.6883606\ttotal: 4.17s\tremaining: 13.5s\n",
      "236:\tlearn: 7.6790876\ttotal: 4.18s\tremaining: 13.5s\n",
      "237:\tlearn: 7.6728108\ttotal: 4.2s\tremaining: 13.4s\n",
      "238:\tlearn: 7.6640133\ttotal: 4.21s\tremaining: 13.4s\n",
      "239:\tlearn: 7.6401567\ttotal: 4.23s\tremaining: 13.4s\n",
      "240:\tlearn: 7.6328860\ttotal: 4.25s\tremaining: 13.4s\n",
      "241:\tlearn: 7.6244032\ttotal: 4.26s\tremaining: 13.4s\n",
      "242:\tlearn: 7.6016098\ttotal: 4.28s\tremaining: 13.3s\n",
      "243:\tlearn: 7.5938120\ttotal: 4.3s\tremaining: 13.3s\n",
      "244:\tlearn: 7.5844040\ttotal: 4.32s\tremaining: 13.3s\n",
      "245:\tlearn: 7.5800893\ttotal: 4.33s\tremaining: 13.3s\n",
      "246:\tlearn: 7.5739699\ttotal: 4.35s\tremaining: 13.3s\n",
      "247:\tlearn: 7.5677243\ttotal: 4.37s\tremaining: 13.2s\n",
      "248:\tlearn: 7.5597024\ttotal: 4.38s\tremaining: 13.2s\n",
      "249:\tlearn: 7.5517271\ttotal: 4.4s\tremaining: 13.2s\n",
      "250:\tlearn: 7.5450607\ttotal: 4.41s\tremaining: 13.2s\n",
      "251:\tlearn: 7.5373501\ttotal: 4.43s\tremaining: 13.2s\n",
      "252:\tlearn: 7.5229855\ttotal: 4.45s\tremaining: 13.1s\n",
      "253:\tlearn: 7.5151682\ttotal: 4.46s\tremaining: 13.1s\n",
      "254:\tlearn: 7.5073433\ttotal: 4.48s\tremaining: 13.1s\n",
      "255:\tlearn: 7.4997652\ttotal: 4.5s\tremaining: 13.1s\n",
      "256:\tlearn: 7.4926188\ttotal: 4.51s\tremaining: 13.1s\n",
      "257:\tlearn: 7.4853960\ttotal: 4.53s\tremaining: 13s\n",
      "258:\tlearn: 7.4748651\ttotal: 4.55s\tremaining: 13s\n",
      "259:\tlearn: 7.4620191\ttotal: 4.58s\tremaining: 13s\n",
      "260:\tlearn: 7.4536420\ttotal: 4.61s\tremaining: 13s\n",
      "261:\tlearn: 7.4464264\ttotal: 4.63s\tremaining: 13s\n",
      "262:\tlearn: 7.4416211\ttotal: 4.64s\tremaining: 13s\n",
      "263:\tlearn: 7.4332816\ttotal: 4.66s\tremaining: 13s\n",
      "264:\tlearn: 7.4203483\ttotal: 4.68s\tremaining: 13s\n",
      "265:\tlearn: 7.4158992\ttotal: 4.7s\tremaining: 13s\n",
      "266:\tlearn: 7.4080960\ttotal: 4.71s\tremaining: 12.9s\n",
      "267:\tlearn: 7.4020778\ttotal: 4.73s\tremaining: 12.9s\n",
      "268:\tlearn: 7.3964670\ttotal: 4.74s\tremaining: 12.9s\n",
      "269:\tlearn: 7.3918073\ttotal: 4.76s\tremaining: 12.9s\n",
      "270:\tlearn: 7.3844897\ttotal: 4.78s\tremaining: 12.8s\n",
      "271:\tlearn: 7.3788886\ttotal: 4.79s\tremaining: 12.8s\n",
      "272:\tlearn: 7.3753629\ttotal: 4.81s\tremaining: 12.8s\n",
      "273:\tlearn: 7.3684369\ttotal: 4.82s\tremaining: 12.8s\n",
      "274:\tlearn: 7.3548631\ttotal: 4.84s\tremaining: 12.8s\n",
      "275:\tlearn: 7.3474447\ttotal: 4.86s\tremaining: 12.8s\n",
      "276:\tlearn: 7.3413669\ttotal: 4.89s\tremaining: 12.8s\n",
      "277:\tlearn: 7.3294895\ttotal: 4.91s\tremaining: 12.7s\n",
      "278:\tlearn: 7.3167645\ttotal: 4.93s\tremaining: 12.7s\n",
      "279:\tlearn: 7.3108151\ttotal: 4.95s\tremaining: 12.7s\n",
      "280:\tlearn: 7.3011612\ttotal: 4.97s\tremaining: 12.7s\n",
      "281:\tlearn: 7.2947901\ttotal: 4.99s\tremaining: 12.7s\n",
      "282:\tlearn: 7.2860821\ttotal: 5.01s\tremaining: 12.7s\n",
      "283:\tlearn: 7.2780142\ttotal: 5.04s\tremaining: 12.7s\n",
      "284:\tlearn: 7.2729587\ttotal: 5.07s\tremaining: 12.7s\n",
      "285:\tlearn: 7.2645716\ttotal: 5.08s\tremaining: 12.7s\n",
      "286:\tlearn: 7.2562880\ttotal: 5.1s\tremaining: 12.7s\n",
      "287:\tlearn: 7.2508656\ttotal: 5.12s\tremaining: 12.6s\n",
      "288:\tlearn: 7.2464048\ttotal: 5.13s\tremaining: 12.6s\n",
      "289:\tlearn: 7.2400821\ttotal: 5.15s\tremaining: 12.6s\n",
      "290:\tlearn: 7.2354066\ttotal: 5.17s\tremaining: 12.6s\n",
      "291:\tlearn: 7.2290108\ttotal: 5.18s\tremaining: 12.6s\n",
      "292:\tlearn: 7.2227233\ttotal: 5.2s\tremaining: 12.5s\n",
      "293:\tlearn: 7.2088360\ttotal: 5.22s\tremaining: 12.5s\n",
      "294:\tlearn: 7.1947518\ttotal: 5.23s\tremaining: 12.5s\n",
      "295:\tlearn: 7.1778494\ttotal: 5.25s\tremaining: 12.5s\n",
      "296:\tlearn: 7.1714092\ttotal: 5.27s\tremaining: 12.5s\n",
      "297:\tlearn: 7.1670358\ttotal: 5.28s\tremaining: 12.4s\n",
      "298:\tlearn: 7.1601015\ttotal: 5.3s\tremaining: 12.4s\n",
      "299:\tlearn: 7.1547003\ttotal: 5.32s\tremaining: 12.4s\n",
      "300:\tlearn: 7.1484102\ttotal: 5.33s\tremaining: 12.4s\n",
      "301:\tlearn: 7.1437505\ttotal: 5.35s\tremaining: 12.4s\n",
      "302:\tlearn: 7.1392783\ttotal: 5.37s\tremaining: 12.3s\n",
      "303:\tlearn: 7.1238645\ttotal: 5.38s\tremaining: 12.3s\n",
      "304:\tlearn: 7.1181418\ttotal: 5.4s\tremaining: 12.3s\n",
      "305:\tlearn: 7.1120281\ttotal: 5.42s\tremaining: 12.3s\n",
      "306:\tlearn: 7.0993243\ttotal: 5.43s\tremaining: 12.3s\n",
      "307:\tlearn: 7.0956772\ttotal: 5.45s\tremaining: 12.2s\n",
      "308:\tlearn: 7.0884873\ttotal: 5.47s\tremaining: 12.2s\n",
      "309:\tlearn: 7.0790268\ttotal: 5.49s\tremaining: 12.2s\n",
      "310:\tlearn: 7.0715079\ttotal: 5.5s\tremaining: 12.2s\n",
      "311:\tlearn: 7.0620402\ttotal: 5.52s\tremaining: 12.2s\n",
      "312:\tlearn: 7.0532859\ttotal: 5.54s\tremaining: 12.2s\n",
      "313:\tlearn: 7.0490538\ttotal: 5.56s\tremaining: 12.1s\n",
      "314:\tlearn: 7.0383132\ttotal: 5.57s\tremaining: 12.1s\n",
      "315:\tlearn: 7.0306773\ttotal: 5.59s\tremaining: 12.1s\n",
      "316:\tlearn: 7.0225915\ttotal: 5.61s\tremaining: 12.1s\n",
      "317:\tlearn: 7.0193226\ttotal: 5.63s\tremaining: 12.1s\n",
      "318:\tlearn: 7.0117188\ttotal: 5.64s\tremaining: 12s\n",
      "319:\tlearn: 7.0073148\ttotal: 5.66s\tremaining: 12s\n",
      "320:\tlearn: 6.9974797\ttotal: 5.68s\tremaining: 12s\n",
      "321:\tlearn: 6.9923160\ttotal: 5.7s\tremaining: 12s\n",
      "322:\tlearn: 6.9765329\ttotal: 5.72s\tremaining: 12s\n",
      "323:\tlearn: 6.9718306\ttotal: 5.73s\tremaining: 12s\n",
      "324:\tlearn: 6.9645088\ttotal: 5.75s\tremaining: 11.9s\n",
      "325:\tlearn: 6.9608008\ttotal: 5.77s\tremaining: 11.9s\n",
      "326:\tlearn: 6.9543811\ttotal: 5.79s\tremaining: 11.9s\n",
      "327:\tlearn: 6.9438849\ttotal: 5.8s\tremaining: 11.9s\n",
      "328:\tlearn: 6.9395385\ttotal: 5.82s\tremaining: 11.9s\n",
      "329:\tlearn: 6.9264625\ttotal: 5.84s\tremaining: 11.9s\n",
      "330:\tlearn: 6.9221302\ttotal: 5.86s\tremaining: 11.8s\n",
      "331:\tlearn: 6.9174620\ttotal: 5.87s\tremaining: 11.8s\n",
      "332:\tlearn: 6.9138168\ttotal: 5.89s\tremaining: 11.8s\n",
      "333:\tlearn: 6.9070670\ttotal: 5.91s\tremaining: 11.8s\n",
      "334:\tlearn: 6.8993650\ttotal: 5.92s\tremaining: 11.8s\n",
      "335:\tlearn: 6.8942936\ttotal: 5.94s\tremaining: 11.7s\n",
      "336:\tlearn: 6.8908098\ttotal: 5.96s\tremaining: 11.7s\n",
      "337:\tlearn: 6.8785318\ttotal: 5.98s\tremaining: 11.7s\n",
      "338:\tlearn: 6.8729619\ttotal: 6s\tremaining: 11.7s\n",
      "339:\tlearn: 6.8679719\ttotal: 6.01s\tremaining: 11.7s\n",
      "340:\tlearn: 6.8591134\ttotal: 6.03s\tremaining: 11.7s\n",
      "341:\tlearn: 6.8509438\ttotal: 6.05s\tremaining: 11.6s\n",
      "342:\tlearn: 6.8470454\ttotal: 6.07s\tremaining: 11.6s\n",
      "343:\tlearn: 6.8362594\ttotal: 6.09s\tremaining: 11.6s\n",
      "344:\tlearn: 6.8258674\ttotal: 6.1s\tremaining: 11.6s\n",
      "345:\tlearn: 6.8190924\ttotal: 6.12s\tremaining: 11.6s\n",
      "346:\tlearn: 6.8080354\ttotal: 6.14s\tremaining: 11.5s\n",
      "347:\tlearn: 6.8029659\ttotal: 6.15s\tremaining: 11.5s\n",
      "348:\tlearn: 6.7958944\ttotal: 6.17s\tremaining: 11.5s\n",
      "349:\tlearn: 6.7916933\ttotal: 6.19s\tremaining: 11.5s\n",
      "350:\tlearn: 6.7783644\ttotal: 6.21s\tremaining: 11.5s\n",
      "351:\tlearn: 6.7655155\ttotal: 6.22s\tremaining: 11.5s\n",
      "352:\tlearn: 6.7578817\ttotal: 6.24s\tremaining: 11.4s\n",
      "353:\tlearn: 6.7549080\ttotal: 6.26s\tremaining: 11.4s\n",
      "354:\tlearn: 6.7525011\ttotal: 6.27s\tremaining: 11.4s\n",
      "355:\tlearn: 6.7479096\ttotal: 6.29s\tremaining: 11.4s\n",
      "356:\tlearn: 6.7390507\ttotal: 6.31s\tremaining: 11.4s\n",
      "357:\tlearn: 6.7342646\ttotal: 6.32s\tremaining: 11.3s\n",
      "358:\tlearn: 6.7301061\ttotal: 6.34s\tremaining: 11.3s\n",
      "359:\tlearn: 6.7270100\ttotal: 6.35s\tremaining: 11.3s\n",
      "360:\tlearn: 6.7211216\ttotal: 6.37s\tremaining: 11.3s\n",
      "361:\tlearn: 6.7086556\ttotal: 6.39s\tremaining: 11.3s\n",
      "362:\tlearn: 6.7017946\ttotal: 6.4s\tremaining: 11.2s\n",
      "363:\tlearn: 6.6961545\ttotal: 6.42s\tremaining: 11.2s\n",
      "364:\tlearn: 6.6919064\ttotal: 6.44s\tremaining: 11.2s\n",
      "365:\tlearn: 6.6847158\ttotal: 6.46s\tremaining: 11.2s\n",
      "366:\tlearn: 6.6800348\ttotal: 6.47s\tremaining: 11.2s\n",
      "367:\tlearn: 6.6771119\ttotal: 6.49s\tremaining: 11.1s\n",
      "368:\tlearn: 6.6680665\ttotal: 6.51s\tremaining: 11.1s\n",
      "369:\tlearn: 6.6588557\ttotal: 6.53s\tremaining: 11.1s\n",
      "370:\tlearn: 6.6537459\ttotal: 6.55s\tremaining: 11.1s\n",
      "371:\tlearn: 6.6502759\ttotal: 6.57s\tremaining: 11.1s\n",
      "372:\tlearn: 6.6442140\ttotal: 6.58s\tremaining: 11.1s\n",
      "373:\tlearn: 6.6384707\ttotal: 6.6s\tremaining: 11.1s\n",
      "374:\tlearn: 6.6341888\ttotal: 6.62s\tremaining: 11s\n",
      "375:\tlearn: 6.6276658\ttotal: 6.64s\tremaining: 11s\n",
      "376:\tlearn: 6.6241279\ttotal: 6.66s\tremaining: 11s\n",
      "377:\tlearn: 6.6210604\ttotal: 6.67s\tremaining: 11s\n",
      "378:\tlearn: 6.6167786\ttotal: 6.69s\tremaining: 11s\n",
      "379:\tlearn: 6.6035684\ttotal: 6.7s\tremaining: 10.9s\n",
      "380:\tlearn: 6.5976445\ttotal: 6.72s\tremaining: 10.9s\n",
      "381:\tlearn: 6.5902262\ttotal: 6.74s\tremaining: 10.9s\n",
      "382:\tlearn: 6.5843254\ttotal: 6.75s\tremaining: 10.9s\n",
      "383:\tlearn: 6.5747211\ttotal: 6.77s\tremaining: 10.9s\n",
      "384:\tlearn: 6.5706680\ttotal: 6.79s\tremaining: 10.8s\n",
      "385:\tlearn: 6.5654249\ttotal: 6.81s\tremaining: 10.8s\n",
      "386:\tlearn: 6.5533657\ttotal: 6.83s\tremaining: 10.8s\n",
      "387:\tlearn: 6.5465593\ttotal: 6.84s\tremaining: 10.8s\n",
      "388:\tlearn: 6.5418313\ttotal: 6.86s\tremaining: 10.8s\n",
      "389:\tlearn: 6.5327131\ttotal: 6.88s\tremaining: 10.8s\n",
      "390:\tlearn: 6.5269417\ttotal: 6.89s\tremaining: 10.7s\n",
      "391:\tlearn: 6.5209590\ttotal: 6.91s\tremaining: 10.7s\n",
      "392:\tlearn: 6.5133928\ttotal: 6.92s\tremaining: 10.7s\n",
      "393:\tlearn: 6.5101743\ttotal: 6.94s\tremaining: 10.7s\n",
      "394:\tlearn: 6.5049225\ttotal: 6.96s\tremaining: 10.7s\n",
      "395:\tlearn: 6.4998895\ttotal: 6.97s\tremaining: 10.6s\n",
      "396:\tlearn: 6.4964720\ttotal: 6.99s\tremaining: 10.6s\n",
      "397:\tlearn: 6.4874907\ttotal: 7.01s\tremaining: 10.6s\n",
      "398:\tlearn: 6.4833550\ttotal: 7.02s\tremaining: 10.6s\n",
      "399:\tlearn: 6.4811719\ttotal: 7.04s\tremaining: 10.6s\n",
      "400:\tlearn: 6.4776839\ttotal: 7.06s\tremaining: 10.5s\n",
      "401:\tlearn: 6.4699678\ttotal: 7.07s\tremaining: 10.5s\n",
      "402:\tlearn: 6.4647332\ttotal: 7.09s\tremaining: 10.5s\n",
      "403:\tlearn: 6.4521660\ttotal: 7.11s\tremaining: 10.5s\n",
      "404:\tlearn: 6.4445355\ttotal: 7.12s\tremaining: 10.5s\n",
      "405:\tlearn: 6.4393929\ttotal: 7.14s\tremaining: 10.4s\n",
      "406:\tlearn: 6.4283705\ttotal: 7.16s\tremaining: 10.4s\n",
      "407:\tlearn: 6.4252236\ttotal: 7.17s\tremaining: 10.4s\n",
      "408:\tlearn: 6.4223922\ttotal: 7.19s\tremaining: 10.4s\n",
      "409:\tlearn: 6.4189431\ttotal: 7.2s\tremaining: 10.4s\n",
      "410:\tlearn: 6.4131694\ttotal: 7.22s\tremaining: 10.3s\n",
      "411:\tlearn: 6.4078831\ttotal: 7.24s\tremaining: 10.3s\n",
      "412:\tlearn: 6.3976093\ttotal: 7.25s\tremaining: 10.3s\n",
      "413:\tlearn: 6.3881013\ttotal: 7.27s\tremaining: 10.3s\n",
      "414:\tlearn: 6.3819174\ttotal: 7.28s\tremaining: 10.3s\n",
      "415:\tlearn: 6.3746194\ttotal: 7.3s\tremaining: 10.3s\n",
      "416:\tlearn: 6.3688090\ttotal: 7.32s\tremaining: 10.2s\n",
      "417:\tlearn: 6.3646236\ttotal: 7.33s\tremaining: 10.2s\n",
      "418:\tlearn: 6.3583884\ttotal: 7.35s\tremaining: 10.2s\n",
      "419:\tlearn: 6.3544973\ttotal: 7.37s\tremaining: 10.2s\n",
      "420:\tlearn: 6.3493010\ttotal: 7.38s\tremaining: 10.2s\n",
      "421:\tlearn: 6.3447462\ttotal: 7.4s\tremaining: 10.1s\n",
      "422:\tlearn: 6.3397999\ttotal: 7.42s\tremaining: 10.1s\n",
      "423:\tlearn: 6.3368521\ttotal: 7.43s\tremaining: 10.1s\n",
      "424:\tlearn: 6.3327722\ttotal: 7.45s\tremaining: 10.1s\n",
      "425:\tlearn: 6.3292956\ttotal: 7.47s\tremaining: 10.1s\n",
      "426:\tlearn: 6.3242498\ttotal: 7.49s\tremaining: 10.1s\n",
      "427:\tlearn: 6.3210442\ttotal: 7.51s\tremaining: 10s\n",
      "428:\tlearn: 6.3182547\ttotal: 7.53s\tremaining: 10s\n",
      "429:\tlearn: 6.3128053\ttotal: 7.54s\tremaining: 10s\n",
      "430:\tlearn: 6.3099340\ttotal: 7.56s\tremaining: 9.98s\n",
      "431:\tlearn: 6.3033056\ttotal: 7.58s\tremaining: 9.97s\n",
      "432:\tlearn: 6.2976481\ttotal: 7.6s\tremaining: 9.95s\n",
      "433:\tlearn: 6.2919443\ttotal: 7.62s\tremaining: 9.94s\n",
      "434:\tlearn: 6.2832028\ttotal: 7.63s\tremaining: 9.92s\n",
      "435:\tlearn: 6.2796352\ttotal: 7.65s\tremaining: 9.9s\n",
      "436:\tlearn: 6.2767090\ttotal: 7.67s\tremaining: 9.88s\n",
      "437:\tlearn: 6.2740668\ttotal: 7.68s\tremaining: 9.86s\n",
      "438:\tlearn: 6.2706108\ttotal: 7.7s\tremaining: 9.84s\n",
      "439:\tlearn: 6.2628552\ttotal: 7.71s\tremaining: 9.82s\n",
      "440:\tlearn: 6.2589241\ttotal: 7.73s\tremaining: 9.8s\n",
      "441:\tlearn: 6.2557814\ttotal: 7.75s\tremaining: 9.78s\n",
      "442:\tlearn: 6.2523394\ttotal: 7.76s\tremaining: 9.76s\n",
      "443:\tlearn: 6.2452335\ttotal: 7.78s\tremaining: 9.75s\n",
      "444:\tlearn: 6.2398214\ttotal: 7.8s\tremaining: 9.73s\n",
      "445:\tlearn: 6.2361177\ttotal: 7.82s\tremaining: 9.71s\n",
      "446:\tlearn: 6.2295301\ttotal: 7.83s\tremaining: 9.69s\n",
      "447:\tlearn: 6.2251138\ttotal: 7.85s\tremaining: 9.67s\n",
      "448:\tlearn: 6.2187748\ttotal: 7.87s\tremaining: 9.66s\n",
      "449:\tlearn: 6.2133791\ttotal: 7.88s\tremaining: 9.64s\n",
      "450:\tlearn: 6.2073654\ttotal: 7.9s\tremaining: 9.62s\n",
      "451:\tlearn: 6.1911446\ttotal: 7.92s\tremaining: 9.6s\n",
      "452:\tlearn: 6.1874871\ttotal: 7.94s\tremaining: 9.58s\n",
      "453:\tlearn: 6.1849980\ttotal: 7.95s\tremaining: 9.56s\n",
      "454:\tlearn: 6.1797388\ttotal: 7.97s\tremaining: 9.55s\n",
      "455:\tlearn: 6.1760013\ttotal: 7.99s\tremaining: 9.53s\n",
      "456:\tlearn: 6.1730544\ttotal: 8.01s\tremaining: 9.51s\n",
      "457:\tlearn: 6.1702331\ttotal: 8.02s\tremaining: 9.49s\n",
      "458:\tlearn: 6.1656562\ttotal: 8.04s\tremaining: 9.47s\n",
      "459:\tlearn: 6.1594193\ttotal: 8.05s\tremaining: 9.46s\n",
      "460:\tlearn: 6.1558850\ttotal: 8.07s\tremaining: 9.44s\n",
      "461:\tlearn: 6.1521766\ttotal: 8.09s\tremaining: 9.42s\n",
      "462:\tlearn: 6.1458315\ttotal: 8.1s\tremaining: 9.4s\n",
      "463:\tlearn: 6.1417821\ttotal: 8.12s\tremaining: 9.38s\n",
      "464:\tlearn: 6.1394328\ttotal: 8.14s\tremaining: 9.36s\n",
      "465:\tlearn: 6.1349587\ttotal: 8.16s\tremaining: 9.35s\n",
      "466:\tlearn: 6.1276089\ttotal: 8.17s\tremaining: 9.33s\n",
      "467:\tlearn: 6.1249388\ttotal: 8.19s\tremaining: 9.31s\n",
      "468:\tlearn: 6.1206304\ttotal: 8.21s\tremaining: 9.29s\n",
      "469:\tlearn: 6.1140670\ttotal: 8.22s\tremaining: 9.27s\n",
      "470:\tlearn: 6.1105758\ttotal: 8.24s\tremaining: 9.25s\n",
      "471:\tlearn: 6.1038638\ttotal: 8.25s\tremaining: 9.23s\n",
      "472:\tlearn: 6.0995387\ttotal: 8.27s\tremaining: 9.21s\n",
      "473:\tlearn: 6.0963170\ttotal: 8.29s\tremaining: 9.19s\n",
      "474:\tlearn: 6.0912964\ttotal: 8.3s\tremaining: 9.18s\n",
      "475:\tlearn: 6.0857210\ttotal: 8.32s\tremaining: 9.16s\n",
      "476:\tlearn: 6.0837753\ttotal: 8.34s\tremaining: 9.14s\n",
      "477:\tlearn: 6.0687229\ttotal: 8.36s\tremaining: 9.13s\n",
      "478:\tlearn: 6.0637025\ttotal: 8.37s\tremaining: 9.11s\n",
      "479:\tlearn: 6.0607304\ttotal: 8.39s\tremaining: 9.09s\n",
      "480:\tlearn: 6.0573832\ttotal: 8.4s\tremaining: 9.07s\n",
      "481:\tlearn: 6.0541746\ttotal: 8.42s\tremaining: 9.05s\n",
      "482:\tlearn: 6.0503461\ttotal: 8.44s\tremaining: 9.03s\n",
      "483:\tlearn: 6.0473703\ttotal: 8.46s\tremaining: 9.02s\n",
      "484:\tlearn: 6.0371070\ttotal: 8.47s\tremaining: 9s\n",
      "485:\tlearn: 6.0314696\ttotal: 8.49s\tremaining: 8.98s\n",
      "486:\tlearn: 6.0252397\ttotal: 8.51s\tremaining: 8.97s\n",
      "487:\tlearn: 6.0203287\ttotal: 8.53s\tremaining: 8.95s\n",
      "488:\tlearn: 6.0125851\ttotal: 8.54s\tremaining: 8.93s\n",
      "489:\tlearn: 6.0055647\ttotal: 8.56s\tremaining: 8.91s\n",
      "490:\tlearn: 6.0024718\ttotal: 8.58s\tremaining: 8.89s\n",
      "491:\tlearn: 5.9977383\ttotal: 8.6s\tremaining: 8.88s\n",
      "492:\tlearn: 5.9889232\ttotal: 8.61s\tremaining: 8.86s\n",
      "493:\tlearn: 5.9860335\ttotal: 8.63s\tremaining: 8.84s\n",
      "494:\tlearn: 5.9827637\ttotal: 8.65s\tremaining: 8.82s\n",
      "495:\tlearn: 5.9755138\ttotal: 8.66s\tremaining: 8.8s\n",
      "496:\tlearn: 5.9720798\ttotal: 8.68s\tremaining: 8.79s\n",
      "497:\tlearn: 5.9679654\ttotal: 8.7s\tremaining: 8.77s\n",
      "498:\tlearn: 5.9611545\ttotal: 8.71s\tremaining: 8.75s\n",
      "499:\tlearn: 5.9573220\ttotal: 8.73s\tremaining: 8.73s\n",
      "500:\tlearn: 5.9541249\ttotal: 8.75s\tremaining: 8.71s\n",
      "501:\tlearn: 5.9475506\ttotal: 8.77s\tremaining: 8.7s\n",
      "502:\tlearn: 5.9456612\ttotal: 8.78s\tremaining: 8.68s\n",
      "503:\tlearn: 5.9434052\ttotal: 8.8s\tremaining: 8.66s\n",
      "504:\tlearn: 5.9380718\ttotal: 8.82s\tremaining: 8.65s\n",
      "505:\tlearn: 5.9339014\ttotal: 8.84s\tremaining: 8.63s\n",
      "506:\tlearn: 5.9234450\ttotal: 8.86s\tremaining: 8.62s\n",
      "507:\tlearn: 5.9171204\ttotal: 8.88s\tremaining: 8.6s\n",
      "508:\tlearn: 5.9120210\ttotal: 8.9s\tremaining: 8.59s\n",
      "509:\tlearn: 5.8989731\ttotal: 8.92s\tremaining: 8.57s\n",
      "510:\tlearn: 5.8960724\ttotal: 8.94s\tremaining: 8.55s\n",
      "511:\tlearn: 5.8916588\ttotal: 8.95s\tremaining: 8.53s\n",
      "512:\tlearn: 5.8862442\ttotal: 8.97s\tremaining: 8.52s\n",
      "513:\tlearn: 5.8795305\ttotal: 8.99s\tremaining: 8.5s\n",
      "514:\tlearn: 5.8745101\ttotal: 9.01s\tremaining: 8.48s\n",
      "515:\tlearn: 5.8702538\ttotal: 9.03s\tremaining: 8.47s\n",
      "516:\tlearn: 5.8652693\ttotal: 9.04s\tremaining: 8.45s\n",
      "517:\tlearn: 5.8581489\ttotal: 9.06s\tremaining: 8.43s\n",
      "518:\tlearn: 5.8447020\ttotal: 9.08s\tremaining: 8.41s\n",
      "519:\tlearn: 5.8434182\ttotal: 9.09s\tremaining: 8.39s\n",
      "520:\tlearn: 5.8388244\ttotal: 9.11s\tremaining: 8.38s\n",
      "521:\tlearn: 5.8358282\ttotal: 9.13s\tremaining: 8.36s\n",
      "522:\tlearn: 5.8341410\ttotal: 9.14s\tremaining: 8.34s\n",
      "523:\tlearn: 5.8289710\ttotal: 9.16s\tremaining: 8.32s\n",
      "524:\tlearn: 5.8210666\ttotal: 9.18s\tremaining: 8.31s\n",
      "525:\tlearn: 5.8159368\ttotal: 9.2s\tremaining: 8.29s\n",
      "526:\tlearn: 5.8127407\ttotal: 9.22s\tremaining: 8.27s\n",
      "527:\tlearn: 5.8076775\ttotal: 9.23s\tremaining: 8.26s\n",
      "528:\tlearn: 5.8034253\ttotal: 9.25s\tremaining: 8.24s\n",
      "529:\tlearn: 5.8017162\ttotal: 9.27s\tremaining: 8.22s\n",
      "530:\tlearn: 5.7993664\ttotal: 9.29s\tremaining: 8.2s\n",
      "531:\tlearn: 5.7977551\ttotal: 9.3s\tremaining: 8.18s\n",
      "532:\tlearn: 5.7906775\ttotal: 9.32s\tremaining: 8.16s\n",
      "533:\tlearn: 5.7894454\ttotal: 9.33s\tremaining: 8.15s\n",
      "534:\tlearn: 5.7868212\ttotal: 9.35s\tremaining: 8.13s\n",
      "535:\tlearn: 5.7761201\ttotal: 9.37s\tremaining: 8.11s\n",
      "536:\tlearn: 5.7705282\ttotal: 9.39s\tremaining: 8.1s\n",
      "537:\tlearn: 5.7685427\ttotal: 9.41s\tremaining: 8.08s\n",
      "538:\tlearn: 5.7592664\ttotal: 9.43s\tremaining: 8.06s\n",
      "539:\tlearn: 5.7548335\ttotal: 9.45s\tremaining: 8.04s\n",
      "540:\tlearn: 5.7495939\ttotal: 9.46s\tremaining: 8.03s\n",
      "541:\tlearn: 5.7454347\ttotal: 9.48s\tremaining: 8.01s\n",
      "542:\tlearn: 5.7424898\ttotal: 9.5s\tremaining: 8s\n",
      "543:\tlearn: 5.7403475\ttotal: 9.52s\tremaining: 7.98s\n",
      "544:\tlearn: 5.7322314\ttotal: 9.54s\tremaining: 7.96s\n",
      "545:\tlearn: 5.7304337\ttotal: 9.55s\tremaining: 7.94s\n",
      "546:\tlearn: 5.7270809\ttotal: 9.57s\tremaining: 7.93s\n",
      "547:\tlearn: 5.7258314\ttotal: 9.59s\tremaining: 7.91s\n",
      "548:\tlearn: 5.7223362\ttotal: 9.61s\tremaining: 7.9s\n",
      "549:\tlearn: 5.7173056\ttotal: 9.63s\tremaining: 7.88s\n",
      "550:\tlearn: 5.7141997\ttotal: 9.65s\tremaining: 7.86s\n",
      "551:\tlearn: 5.7086452\ttotal: 9.67s\tremaining: 7.85s\n",
      "552:\tlearn: 5.7042150\ttotal: 9.69s\tremaining: 7.83s\n",
      "553:\tlearn: 5.7009340\ttotal: 9.7s\tremaining: 7.81s\n",
      "554:\tlearn: 5.6919793\ttotal: 9.72s\tremaining: 7.79s\n",
      "555:\tlearn: 5.6875925\ttotal: 9.74s\tremaining: 7.78s\n",
      "556:\tlearn: 5.6852826\ttotal: 9.76s\tremaining: 7.76s\n",
      "557:\tlearn: 5.6811953\ttotal: 9.78s\tremaining: 7.74s\n",
      "558:\tlearn: 5.6756066\ttotal: 9.79s\tremaining: 7.72s\n",
      "559:\tlearn: 5.6725027\ttotal: 9.81s\tremaining: 7.71s\n",
      "560:\tlearn: 5.6676822\ttotal: 9.83s\tremaining: 7.69s\n",
      "561:\tlearn: 5.6645838\ttotal: 9.84s\tremaining: 7.67s\n",
      "562:\tlearn: 5.6586483\ttotal: 9.86s\tremaining: 7.65s\n",
      "563:\tlearn: 5.6549536\ttotal: 9.88s\tremaining: 7.64s\n",
      "564:\tlearn: 5.6534651\ttotal: 9.89s\tremaining: 7.62s\n",
      "565:\tlearn: 5.6510485\ttotal: 9.91s\tremaining: 7.6s\n",
      "566:\tlearn: 5.6458649\ttotal: 9.93s\tremaining: 7.58s\n",
      "567:\tlearn: 5.6428958\ttotal: 9.95s\tremaining: 7.57s\n",
      "568:\tlearn: 5.6403416\ttotal: 9.96s\tremaining: 7.55s\n",
      "569:\tlearn: 5.6332568\ttotal: 9.98s\tremaining: 7.53s\n",
      "570:\tlearn: 5.6290410\ttotal: 10s\tremaining: 7.52s\n",
      "571:\tlearn: 5.6248910\ttotal: 10s\tremaining: 7.5s\n",
      "572:\tlearn: 5.6210718\ttotal: 10s\tremaining: 7.48s\n",
      "573:\tlearn: 5.6176566\ttotal: 10.1s\tremaining: 7.46s\n",
      "574:\tlearn: 5.6149143\ttotal: 10.1s\tremaining: 7.45s\n",
      "575:\tlearn: 5.6131813\ttotal: 10.1s\tremaining: 7.43s\n",
      "576:\tlearn: 5.6085696\ttotal: 10.1s\tremaining: 7.41s\n",
      "577:\tlearn: 5.6045041\ttotal: 10.1s\tremaining: 7.39s\n",
      "578:\tlearn: 5.6021387\ttotal: 10.1s\tremaining: 7.37s\n",
      "579:\tlearn: 5.5981644\ttotal: 10.2s\tremaining: 7.36s\n",
      "580:\tlearn: 5.5956528\ttotal: 10.2s\tremaining: 7.34s\n",
      "581:\tlearn: 5.5852523\ttotal: 10.2s\tremaining: 7.32s\n",
      "582:\tlearn: 5.5813246\ttotal: 10.2s\tremaining: 7.3s\n",
      "583:\tlearn: 5.5773960\ttotal: 10.2s\tremaining: 7.29s\n",
      "584:\tlearn: 5.5745838\ttotal: 10.2s\tremaining: 7.27s\n",
      "585:\tlearn: 5.5722244\ttotal: 10.3s\tremaining: 7.25s\n",
      "586:\tlearn: 5.5696316\ttotal: 10.3s\tremaining: 7.24s\n",
      "587:\tlearn: 5.5672019\ttotal: 10.3s\tremaining: 7.22s\n",
      "588:\tlearn: 5.5650993\ttotal: 10.3s\tremaining: 7.2s\n",
      "589:\tlearn: 5.5572058\ttotal: 10.3s\tremaining: 7.18s\n",
      "590:\tlearn: 5.5527577\ttotal: 10.4s\tremaining: 7.17s\n",
      "591:\tlearn: 5.5495862\ttotal: 10.4s\tremaining: 7.15s\n",
      "592:\tlearn: 5.5384673\ttotal: 10.4s\tremaining: 7.14s\n",
      "593:\tlearn: 5.5324258\ttotal: 10.4s\tremaining: 7.12s\n",
      "594:\tlearn: 5.5298155\ttotal: 10.4s\tremaining: 7.1s\n",
      "595:\tlearn: 5.5255583\ttotal: 10.5s\tremaining: 7.09s\n",
      "596:\tlearn: 5.5205809\ttotal: 10.5s\tremaining: 7.07s\n",
      "597:\tlearn: 5.5157140\ttotal: 10.5s\tremaining: 7.05s\n",
      "598:\tlearn: 5.5094009\ttotal: 10.5s\tremaining: 7.04s\n",
      "599:\tlearn: 5.5071021\ttotal: 10.5s\tremaining: 7.02s\n",
      "600:\tlearn: 5.5042257\ttotal: 10.5s\tremaining: 7s\n",
      "601:\tlearn: 5.4989772\ttotal: 10.6s\tremaining: 6.98s\n",
      "602:\tlearn: 5.4964896\ttotal: 10.6s\tremaining: 6.96s\n",
      "603:\tlearn: 5.4944753\ttotal: 10.6s\tremaining: 6.95s\n",
      "604:\tlearn: 5.4917709\ttotal: 10.6s\tremaining: 6.93s\n",
      "605:\tlearn: 5.4876945\ttotal: 10.6s\tremaining: 6.91s\n",
      "606:\tlearn: 5.4839241\ttotal: 10.6s\tremaining: 6.89s\n",
      "607:\tlearn: 5.4780709\ttotal: 10.7s\tremaining: 6.88s\n",
      "608:\tlearn: 5.4768669\ttotal: 10.7s\tremaining: 6.86s\n",
      "609:\tlearn: 5.4701801\ttotal: 10.7s\tremaining: 6.84s\n",
      "610:\tlearn: 5.4666407\ttotal: 10.7s\tremaining: 6.82s\n",
      "611:\tlearn: 5.4609701\ttotal: 10.7s\tremaining: 6.8s\n",
      "612:\tlearn: 5.4571941\ttotal: 10.7s\tremaining: 6.79s\n",
      "613:\tlearn: 5.4543990\ttotal: 10.8s\tremaining: 6.77s\n",
      "614:\tlearn: 5.4521242\ttotal: 10.8s\tremaining: 6.75s\n",
      "615:\tlearn: 5.4467079\ttotal: 10.8s\tremaining: 6.73s\n",
      "616:\tlearn: 5.4433400\ttotal: 10.8s\tremaining: 6.71s\n",
      "617:\tlearn: 5.4383098\ttotal: 10.8s\tremaining: 6.7s\n",
      "618:\tlearn: 5.4269826\ttotal: 10.8s\tremaining: 6.68s\n",
      "619:\tlearn: 5.4224988\ttotal: 10.9s\tremaining: 6.66s\n",
      "620:\tlearn: 5.4214537\ttotal: 10.9s\tremaining: 6.64s\n",
      "621:\tlearn: 5.4158111\ttotal: 10.9s\tremaining: 6.62s\n",
      "622:\tlearn: 5.4125004\ttotal: 10.9s\tremaining: 6.61s\n",
      "623:\tlearn: 5.4107531\ttotal: 10.9s\tremaining: 6.59s\n",
      "624:\tlearn: 5.4092807\ttotal: 11s\tremaining: 6.57s\n",
      "625:\tlearn: 5.4038821\ttotal: 11s\tremaining: 6.55s\n",
      "626:\tlearn: 5.4001525\ttotal: 11s\tremaining: 6.54s\n",
      "627:\tlearn: 5.3951988\ttotal: 11s\tremaining: 6.52s\n",
      "628:\tlearn: 5.3941724\ttotal: 11s\tremaining: 6.5s\n",
      "629:\tlearn: 5.3920798\ttotal: 11s\tremaining: 6.48s\n",
      "630:\tlearn: 5.3878366\ttotal: 11.1s\tremaining: 6.46s\n",
      "631:\tlearn: 5.3861033\ttotal: 11.1s\tremaining: 6.45s\n",
      "632:\tlearn: 5.3830442\ttotal: 11.1s\tremaining: 6.43s\n",
      "633:\tlearn: 5.3775827\ttotal: 11.1s\tremaining: 6.41s\n",
      "634:\tlearn: 5.3749469\ttotal: 11.1s\tremaining: 6.39s\n",
      "635:\tlearn: 5.3725441\ttotal: 11.1s\tremaining: 6.38s\n",
      "636:\tlearn: 5.3703131\ttotal: 11.2s\tremaining: 6.36s\n",
      "637:\tlearn: 5.3679517\ttotal: 11.2s\tremaining: 6.34s\n",
      "638:\tlearn: 5.3653230\ttotal: 11.2s\tremaining: 6.32s\n",
      "639:\tlearn: 5.3616668\ttotal: 11.2s\tremaining: 6.3s\n",
      "640:\tlearn: 5.3544062\ttotal: 11.2s\tremaining: 6.29s\n",
      "641:\tlearn: 5.3524800\ttotal: 11.2s\tremaining: 6.27s\n",
      "642:\tlearn: 5.3501558\ttotal: 11.3s\tremaining: 6.25s\n",
      "643:\tlearn: 5.3486008\ttotal: 11.3s\tremaining: 6.23s\n",
      "644:\tlearn: 5.3402110\ttotal: 11.3s\tremaining: 6.21s\n",
      "645:\tlearn: 5.3379438\ttotal: 11.3s\tremaining: 6.2s\n",
      "646:\tlearn: 5.3356758\ttotal: 11.3s\tremaining: 6.18s\n",
      "647:\tlearn: 5.3327730\ttotal: 11.3s\tremaining: 6.16s\n",
      "648:\tlearn: 5.3305124\ttotal: 11.4s\tremaining: 6.14s\n",
      "649:\tlearn: 5.3237938\ttotal: 11.4s\tremaining: 6.12s\n",
      "650:\tlearn: 5.3130064\ttotal: 11.4s\tremaining: 6.11s\n",
      "651:\tlearn: 5.3077313\ttotal: 11.4s\tremaining: 6.09s\n",
      "652:\tlearn: 5.3041740\ttotal: 11.4s\tremaining: 6.07s\n",
      "653:\tlearn: 5.3022700\ttotal: 11.4s\tremaining: 6.05s\n",
      "654:\tlearn: 5.2967240\ttotal: 11.5s\tremaining: 6.04s\n",
      "655:\tlearn: 5.2916419\ttotal: 11.5s\tremaining: 6.02s\n",
      "656:\tlearn: 5.2822156\ttotal: 11.5s\tremaining: 6s\n",
      "657:\tlearn: 5.2789459\ttotal: 11.5s\tremaining: 5.98s\n",
      "658:\tlearn: 5.2768835\ttotal: 11.5s\tremaining: 5.96s\n",
      "659:\tlearn: 5.2738776\ttotal: 11.5s\tremaining: 5.95s\n",
      "660:\tlearn: 5.2708840\ttotal: 11.6s\tremaining: 5.93s\n",
      "661:\tlearn: 5.2689236\ttotal: 11.6s\tremaining: 5.91s\n",
      "662:\tlearn: 5.2666992\ttotal: 11.6s\tremaining: 5.89s\n",
      "663:\tlearn: 5.2642728\ttotal: 11.6s\tremaining: 5.88s\n",
      "664:\tlearn: 5.2590874\ttotal: 11.6s\tremaining: 5.86s\n",
      "665:\tlearn: 5.2553704\ttotal: 11.7s\tremaining: 5.84s\n",
      "666:\tlearn: 5.2525221\ttotal: 11.7s\tremaining: 5.83s\n",
      "667:\tlearn: 5.2509070\ttotal: 11.7s\tremaining: 5.81s\n",
      "668:\tlearn: 5.2477635\ttotal: 11.7s\tremaining: 5.79s\n",
      "669:\tlearn: 5.2448758\ttotal: 11.7s\tremaining: 5.77s\n",
      "670:\tlearn: 5.2410261\ttotal: 11.7s\tremaining: 5.75s\n",
      "671:\tlearn: 5.2385364\ttotal: 11.8s\tremaining: 5.74s\n",
      "672:\tlearn: 5.2347630\ttotal: 11.8s\tremaining: 5.72s\n",
      "673:\tlearn: 5.2337341\ttotal: 11.8s\tremaining: 5.7s\n",
      "674:\tlearn: 5.2306421\ttotal: 11.8s\tremaining: 5.68s\n",
      "675:\tlearn: 5.2282068\ttotal: 11.8s\tremaining: 5.67s\n",
      "676:\tlearn: 5.2264215\ttotal: 11.8s\tremaining: 5.65s\n",
      "677:\tlearn: 5.2242322\ttotal: 11.9s\tremaining: 5.63s\n",
      "678:\tlearn: 5.2226729\ttotal: 11.9s\tremaining: 5.62s\n",
      "679:\tlearn: 5.2163450\ttotal: 11.9s\tremaining: 5.6s\n",
      "680:\tlearn: 5.2136636\ttotal: 11.9s\tremaining: 5.59s\n",
      "681:\tlearn: 5.2118278\ttotal: 11.9s\tremaining: 5.57s\n",
      "682:\tlearn: 5.2094457\ttotal: 12s\tremaining: 5.55s\n",
      "683:\tlearn: 5.2055004\ttotal: 12s\tremaining: 5.53s\n",
      "684:\tlearn: 5.2019430\ttotal: 12s\tremaining: 5.51s\n",
      "685:\tlearn: 5.2003221\ttotal: 12s\tremaining: 5.5s\n",
      "686:\tlearn: 5.1977381\ttotal: 12s\tremaining: 5.48s\n",
      "687:\tlearn: 5.1945044\ttotal: 12s\tremaining: 5.46s\n",
      "688:\tlearn: 5.1921720\ttotal: 12.1s\tremaining: 5.44s\n",
      "689:\tlearn: 5.1882142\ttotal: 12.1s\tremaining: 5.43s\n",
      "690:\tlearn: 5.1790824\ttotal: 12.1s\tremaining: 5.41s\n",
      "691:\tlearn: 5.1711040\ttotal: 12.1s\tremaining: 5.39s\n",
      "692:\tlearn: 5.1696600\ttotal: 12.1s\tremaining: 5.37s\n",
      "693:\tlearn: 5.1683249\ttotal: 12.1s\tremaining: 5.36s\n",
      "694:\tlearn: 5.1667738\ttotal: 12.2s\tremaining: 5.34s\n",
      "695:\tlearn: 5.1635508\ttotal: 12.2s\tremaining: 5.32s\n",
      "696:\tlearn: 5.1591036\ttotal: 12.2s\tremaining: 5.3s\n",
      "697:\tlearn: 5.1568381\ttotal: 12.2s\tremaining: 5.29s\n",
      "698:\tlearn: 5.1553705\ttotal: 12.2s\tremaining: 5.27s\n",
      "699:\tlearn: 5.1490785\ttotal: 12.3s\tremaining: 5.25s\n",
      "700:\tlearn: 5.1449020\ttotal: 12.3s\tremaining: 5.23s\n",
      "701:\tlearn: 5.1434917\ttotal: 12.3s\tremaining: 5.22s\n",
      "702:\tlearn: 5.1419863\ttotal: 12.3s\tremaining: 5.2s\n",
      "703:\tlearn: 5.1362933\ttotal: 12.3s\tremaining: 5.18s\n",
      "704:\tlearn: 5.1331281\ttotal: 12.3s\tremaining: 5.17s\n",
      "705:\tlearn: 5.1255676\ttotal: 12.4s\tremaining: 5.15s\n",
      "706:\tlearn: 5.1199879\ttotal: 12.4s\tremaining: 5.13s\n",
      "707:\tlearn: 5.1155321\ttotal: 12.4s\tremaining: 5.11s\n",
      "708:\tlearn: 5.1130449\ttotal: 12.4s\tremaining: 5.09s\n",
      "709:\tlearn: 5.1084497\ttotal: 12.4s\tremaining: 5.08s\n",
      "710:\tlearn: 5.1050719\ttotal: 12.4s\tremaining: 5.06s\n",
      "711:\tlearn: 5.1008854\ttotal: 12.5s\tremaining: 5.04s\n",
      "712:\tlearn: 5.0982543\ttotal: 12.5s\tremaining: 5.02s\n",
      "713:\tlearn: 5.0963007\ttotal: 12.5s\tremaining: 5s\n",
      "714:\tlearn: 5.0931677\ttotal: 12.5s\tremaining: 4.99s\n",
      "715:\tlearn: 5.0892408\ttotal: 12.5s\tremaining: 4.97s\n",
      "716:\tlearn: 5.0849021\ttotal: 12.5s\tremaining: 4.95s\n",
      "717:\tlearn: 5.0815274\ttotal: 12.6s\tremaining: 4.93s\n",
      "718:\tlearn: 5.0769049\ttotal: 12.6s\tremaining: 4.92s\n",
      "719:\tlearn: 5.0753896\ttotal: 12.6s\tremaining: 4.9s\n",
      "720:\tlearn: 5.0721224\ttotal: 12.6s\tremaining: 4.88s\n",
      "721:\tlearn: 5.0662188\ttotal: 12.6s\tremaining: 4.86s\n",
      "722:\tlearn: 5.0634515\ttotal: 12.6s\tremaining: 4.84s\n",
      "723:\tlearn: 5.0604512\ttotal: 12.7s\tremaining: 4.83s\n",
      "724:\tlearn: 5.0591211\ttotal: 12.7s\tremaining: 4.81s\n",
      "725:\tlearn: 5.0558315\ttotal: 12.7s\tremaining: 4.79s\n",
      "726:\tlearn: 5.0537200\ttotal: 12.7s\tremaining: 4.77s\n",
      "727:\tlearn: 5.0512470\ttotal: 12.7s\tremaining: 4.75s\n",
      "728:\tlearn: 5.0502618\ttotal: 12.7s\tremaining: 4.74s\n",
      "729:\tlearn: 5.0481403\ttotal: 12.8s\tremaining: 4.72s\n",
      "730:\tlearn: 5.0462960\ttotal: 12.8s\tremaining: 4.7s\n",
      "731:\tlearn: 5.0444230\ttotal: 12.8s\tremaining: 4.68s\n",
      "732:\tlearn: 5.0429676\ttotal: 12.8s\tremaining: 4.67s\n",
      "733:\tlearn: 5.0359321\ttotal: 12.8s\tremaining: 4.65s\n",
      "734:\tlearn: 5.0334889\ttotal: 12.8s\tremaining: 4.63s\n",
      "735:\tlearn: 5.0325447\ttotal: 12.9s\tremaining: 4.61s\n",
      "736:\tlearn: 5.0273561\ttotal: 12.9s\tremaining: 4.59s\n",
      "737:\tlearn: 5.0202342\ttotal: 12.9s\tremaining: 4.58s\n",
      "738:\tlearn: 5.0177832\ttotal: 12.9s\tremaining: 4.56s\n",
      "739:\tlearn: 5.0168007\ttotal: 12.9s\tremaining: 4.54s\n",
      "740:\tlearn: 5.0154756\ttotal: 12.9s\tremaining: 4.52s\n",
      "741:\tlearn: 5.0132893\ttotal: 13s\tremaining: 4.51s\n",
      "742:\tlearn: 5.0112543\ttotal: 13s\tremaining: 4.49s\n",
      "743:\tlearn: 5.0102299\ttotal: 13s\tremaining: 4.47s\n",
      "744:\tlearn: 5.0072390\ttotal: 13s\tremaining: 4.45s\n",
      "745:\tlearn: 5.0032513\ttotal: 13s\tremaining: 4.43s\n",
      "746:\tlearn: 4.9990729\ttotal: 13s\tremaining: 4.42s\n",
      "747:\tlearn: 4.9981406\ttotal: 13.1s\tremaining: 4.4s\n",
      "748:\tlearn: 4.9968065\ttotal: 13.1s\tremaining: 4.38s\n",
      "749:\tlearn: 4.9942086\ttotal: 13.1s\tremaining: 4.36s\n",
      "750:\tlearn: 4.9908773\ttotal: 13.1s\tremaining: 4.34s\n",
      "751:\tlearn: 4.9866094\ttotal: 13.1s\tremaining: 4.33s\n",
      "752:\tlearn: 4.9851997\ttotal: 13.1s\tremaining: 4.31s\n",
      "753:\tlearn: 4.9836094\ttotal: 13.2s\tremaining: 4.29s\n",
      "754:\tlearn: 4.9799528\ttotal: 13.2s\tremaining: 4.27s\n",
      "755:\tlearn: 4.9741413\ttotal: 13.2s\tremaining: 4.25s\n",
      "756:\tlearn: 4.9672507\ttotal: 13.2s\tremaining: 4.24s\n",
      "757:\tlearn: 4.9639561\ttotal: 13.2s\tremaining: 4.22s\n",
      "758:\tlearn: 4.9588135\ttotal: 13.2s\tremaining: 4.2s\n",
      "759:\tlearn: 4.9556105\ttotal: 13.3s\tremaining: 4.18s\n",
      "760:\tlearn: 4.9536021\ttotal: 13.3s\tremaining: 4.17s\n",
      "761:\tlearn: 4.9525675\ttotal: 13.3s\tremaining: 4.15s\n",
      "762:\tlearn: 4.9494132\ttotal: 13.3s\tremaining: 4.13s\n",
      "763:\tlearn: 4.9403805\ttotal: 13.3s\tremaining: 4.12s\n",
      "764:\tlearn: 4.9385416\ttotal: 13.3s\tremaining: 4.1s\n",
      "765:\tlearn: 4.9339045\ttotal: 13.4s\tremaining: 4.08s\n",
      "766:\tlearn: 4.9301191\ttotal: 13.4s\tremaining: 4.07s\n",
      "767:\tlearn: 4.9267965\ttotal: 13.4s\tremaining: 4.05s\n",
      "768:\tlearn: 4.9174545\ttotal: 13.4s\tremaining: 4.03s\n",
      "769:\tlearn: 4.9141956\ttotal: 13.4s\tremaining: 4.01s\n",
      "770:\tlearn: 4.9119585\ttotal: 13.5s\tremaining: 4s\n",
      "771:\tlearn: 4.9094969\ttotal: 13.5s\tremaining: 3.98s\n",
      "772:\tlearn: 4.9050965\ttotal: 13.5s\tremaining: 3.96s\n",
      "773:\tlearn: 4.9024069\ttotal: 13.5s\tremaining: 3.95s\n",
      "774:\tlearn: 4.9014287\ttotal: 13.5s\tremaining: 3.93s\n",
      "775:\tlearn: 4.9004497\ttotal: 13.6s\tremaining: 3.91s\n",
      "776:\tlearn: 4.8973936\ttotal: 13.6s\tremaining: 3.9s\n",
      "777:\tlearn: 4.8904016\ttotal: 13.6s\tremaining: 3.88s\n",
      "778:\tlearn: 4.8891589\ttotal: 13.6s\tremaining: 3.86s\n",
      "779:\tlearn: 4.8866377\ttotal: 13.6s\tremaining: 3.85s\n",
      "780:\tlearn: 4.8845327\ttotal: 13.7s\tremaining: 3.83s\n",
      "781:\tlearn: 4.8828481\ttotal: 13.7s\tremaining: 3.81s\n",
      "782:\tlearn: 4.8767827\ttotal: 13.7s\tremaining: 3.79s\n",
      "783:\tlearn: 4.8729657\ttotal: 13.7s\tremaining: 3.77s\n",
      "784:\tlearn: 4.8691454\ttotal: 13.7s\tremaining: 3.76s\n",
      "785:\tlearn: 4.8669619\ttotal: 13.7s\tremaining: 3.74s\n",
      "786:\tlearn: 4.8641149\ttotal: 13.8s\tremaining: 3.72s\n",
      "787:\tlearn: 4.8613847\ttotal: 13.8s\tremaining: 3.7s\n",
      "788:\tlearn: 4.8584969\ttotal: 13.8s\tremaining: 3.69s\n",
      "789:\tlearn: 4.8536468\ttotal: 13.8s\tremaining: 3.67s\n",
      "790:\tlearn: 4.8512690\ttotal: 13.8s\tremaining: 3.65s\n",
      "791:\tlearn: 4.8454673\ttotal: 13.8s\tremaining: 3.63s\n",
      "792:\tlearn: 4.8437321\ttotal: 13.9s\tremaining: 3.62s\n",
      "793:\tlearn: 4.8387928\ttotal: 13.9s\tremaining: 3.6s\n",
      "794:\tlearn: 4.8375048\ttotal: 13.9s\tremaining: 3.58s\n",
      "795:\tlearn: 4.8358100\ttotal: 13.9s\tremaining: 3.56s\n",
      "796:\tlearn: 4.8346552\ttotal: 13.9s\tremaining: 3.55s\n",
      "797:\tlearn: 4.8334475\ttotal: 13.9s\tremaining: 3.53s\n",
      "798:\tlearn: 4.8272610\ttotal: 14s\tremaining: 3.51s\n",
      "799:\tlearn: 4.8240388\ttotal: 14s\tremaining: 3.49s\n",
      "800:\tlearn: 4.8226835\ttotal: 14s\tremaining: 3.48s\n",
      "801:\tlearn: 4.8201169\ttotal: 14s\tremaining: 3.46s\n",
      "802:\tlearn: 4.8169101\ttotal: 14s\tremaining: 3.44s\n",
      "803:\tlearn: 4.8156446\ttotal: 14s\tremaining: 3.42s\n",
      "804:\tlearn: 4.8146313\ttotal: 14.1s\tremaining: 3.4s\n",
      "805:\tlearn: 4.8131047\ttotal: 14.1s\tremaining: 3.39s\n",
      "806:\tlearn: 4.8099229\ttotal: 14.1s\tremaining: 3.37s\n",
      "807:\tlearn: 4.8056522\ttotal: 14.1s\tremaining: 3.35s\n",
      "808:\tlearn: 4.8043210\ttotal: 14.1s\tremaining: 3.33s\n",
      "809:\tlearn: 4.8028284\ttotal: 14.1s\tremaining: 3.32s\n",
      "810:\tlearn: 4.8015477\ttotal: 14.2s\tremaining: 3.3s\n",
      "811:\tlearn: 4.7998498\ttotal: 14.2s\tremaining: 3.28s\n",
      "812:\tlearn: 4.7971575\ttotal: 14.2s\tremaining: 3.26s\n",
      "813:\tlearn: 4.7949978\ttotal: 14.2s\tremaining: 3.25s\n",
      "814:\tlearn: 4.7918792\ttotal: 14.2s\tremaining: 3.23s\n",
      "815:\tlearn: 4.7886359\ttotal: 14.2s\tremaining: 3.21s\n",
      "816:\tlearn: 4.7865731\ttotal: 14.3s\tremaining: 3.19s\n",
      "817:\tlearn: 4.7850317\ttotal: 14.3s\tremaining: 3.18s\n",
      "818:\tlearn: 4.7837502\ttotal: 14.3s\tremaining: 3.16s\n",
      "819:\tlearn: 4.7811861\ttotal: 14.3s\tremaining: 3.15s\n",
      "820:\tlearn: 4.7783370\ttotal: 14.3s\tremaining: 3.13s\n",
      "821:\tlearn: 4.7766984\ttotal: 14.4s\tremaining: 3.11s\n",
      "822:\tlearn: 4.7744698\ttotal: 14.4s\tremaining: 3.09s\n",
      "823:\tlearn: 4.7694254\ttotal: 14.4s\tremaining: 3.08s\n",
      "824:\tlearn: 4.7681749\ttotal: 14.4s\tremaining: 3.06s\n",
      "825:\tlearn: 4.7638668\ttotal: 14.5s\tremaining: 3.05s\n",
      "826:\tlearn: 4.7612356\ttotal: 14.5s\tremaining: 3.03s\n",
      "827:\tlearn: 4.7579304\ttotal: 14.5s\tremaining: 3.02s\n",
      "828:\tlearn: 4.7561513\ttotal: 14.6s\tremaining: 3s\n",
      "829:\tlearn: 4.7531623\ttotal: 14.6s\tremaining: 2.99s\n",
      "830:\tlearn: 4.7500575\ttotal: 14.6s\tremaining: 2.97s\n",
      "831:\tlearn: 4.7453125\ttotal: 14.6s\tremaining: 2.95s\n",
      "832:\tlearn: 4.7369986\ttotal: 14.6s\tremaining: 2.94s\n",
      "833:\tlearn: 4.7307026\ttotal: 14.7s\tremaining: 2.92s\n",
      "834:\tlearn: 4.7283883\ttotal: 14.7s\tremaining: 2.9s\n",
      "835:\tlearn: 4.7274726\ttotal: 14.7s\tremaining: 2.88s\n",
      "836:\tlearn: 4.7247871\ttotal: 14.7s\tremaining: 2.87s\n",
      "837:\tlearn: 4.7208148\ttotal: 14.7s\tremaining: 2.85s\n",
      "838:\tlearn: 4.7171837\ttotal: 14.7s\tremaining: 2.83s\n",
      "839:\tlearn: 4.7131169\ttotal: 14.8s\tremaining: 2.81s\n",
      "840:\tlearn: 4.7107660\ttotal: 14.8s\tremaining: 2.79s\n",
      "841:\tlearn: 4.7090903\ttotal: 14.8s\tremaining: 2.78s\n",
      "842:\tlearn: 4.7058033\ttotal: 14.8s\tremaining: 2.76s\n",
      "843:\tlearn: 4.7040127\ttotal: 14.8s\tremaining: 2.74s\n",
      "844:\tlearn: 4.7025580\ttotal: 14.8s\tremaining: 2.72s\n",
      "845:\tlearn: 4.6995708\ttotal: 14.9s\tremaining: 2.71s\n",
      "846:\tlearn: 4.6969857\ttotal: 14.9s\tremaining: 2.69s\n",
      "847:\tlearn: 4.6947600\ttotal: 14.9s\tremaining: 2.67s\n",
      "848:\tlearn: 4.6927066\ttotal: 14.9s\tremaining: 2.65s\n",
      "849:\tlearn: 4.6866991\ttotal: 14.9s\tremaining: 2.63s\n",
      "850:\tlearn: 4.6846226\ttotal: 14.9s\tremaining: 2.62s\n",
      "851:\tlearn: 4.6825980\ttotal: 15s\tremaining: 2.6s\n",
      "852:\tlearn: 4.6767384\ttotal: 15s\tremaining: 2.58s\n",
      "853:\tlearn: 4.6731600\ttotal: 15s\tremaining: 2.56s\n",
      "854:\tlearn: 4.6716236\ttotal: 15s\tremaining: 2.54s\n",
      "855:\tlearn: 4.6669735\ttotal: 15s\tremaining: 2.53s\n",
      "856:\tlearn: 4.6648844\ttotal: 15s\tremaining: 2.51s\n",
      "857:\tlearn: 4.6625880\ttotal: 15.1s\tremaining: 2.49s\n",
      "858:\tlearn: 4.6597691\ttotal: 15.1s\tremaining: 2.47s\n",
      "859:\tlearn: 4.6555957\ttotal: 15.1s\tremaining: 2.46s\n",
      "860:\tlearn: 4.6528202\ttotal: 15.1s\tremaining: 2.44s\n",
      "861:\tlearn: 4.6517217\ttotal: 15.1s\tremaining: 2.42s\n",
      "862:\tlearn: 4.6453814\ttotal: 15.1s\tremaining: 2.4s\n",
      "863:\tlearn: 4.6414900\ttotal: 15.2s\tremaining: 2.39s\n",
      "864:\tlearn: 4.6392644\ttotal: 15.2s\tremaining: 2.37s\n",
      "865:\tlearn: 4.6381798\ttotal: 15.2s\tremaining: 2.35s\n",
      "866:\tlearn: 4.6324540\ttotal: 15.2s\tremaining: 2.33s\n",
      "867:\tlearn: 4.6294436\ttotal: 15.2s\tremaining: 2.31s\n",
      "868:\tlearn: 4.6261659\ttotal: 15.2s\tremaining: 2.3s\n",
      "869:\tlearn: 4.6232272\ttotal: 15.3s\tremaining: 2.28s\n",
      "870:\tlearn: 4.6215671\ttotal: 15.3s\tremaining: 2.26s\n",
      "871:\tlearn: 4.6204832\ttotal: 15.3s\tremaining: 2.24s\n",
      "872:\tlearn: 4.6137419\ttotal: 15.3s\tremaining: 2.23s\n",
      "873:\tlearn: 4.6107624\ttotal: 15.3s\tremaining: 2.21s\n",
      "874:\tlearn: 4.6089566\ttotal: 15.3s\tremaining: 2.19s\n",
      "875:\tlearn: 4.6080065\ttotal: 15.4s\tremaining: 2.17s\n",
      "876:\tlearn: 4.5981348\ttotal: 15.4s\tremaining: 2.16s\n",
      "877:\tlearn: 4.5958516\ttotal: 15.4s\tremaining: 2.14s\n",
      "878:\tlearn: 4.5939704\ttotal: 15.4s\tremaining: 2.12s\n",
      "879:\tlearn: 4.5912110\ttotal: 15.4s\tremaining: 2.1s\n",
      "880:\tlearn: 4.5895497\ttotal: 15.4s\tremaining: 2.08s\n",
      "881:\tlearn: 4.5880852\ttotal: 15.5s\tremaining: 2.07s\n",
      "882:\tlearn: 4.5872319\ttotal: 15.5s\tremaining: 2.05s\n",
      "883:\tlearn: 4.5841355\ttotal: 15.5s\tremaining: 2.03s\n",
      "884:\tlearn: 4.5825112\ttotal: 15.5s\tremaining: 2.01s\n",
      "885:\tlearn: 4.5803040\ttotal: 15.5s\tremaining: 2s\n",
      "886:\tlearn: 4.5755391\ttotal: 15.5s\tremaining: 1.98s\n",
      "887:\tlearn: 4.5698482\ttotal: 15.6s\tremaining: 1.96s\n",
      "888:\tlearn: 4.5676897\ttotal: 15.6s\tremaining: 1.94s\n",
      "889:\tlearn: 4.5661513\ttotal: 15.6s\tremaining: 1.93s\n",
      "890:\tlearn: 4.5645905\ttotal: 15.6s\tremaining: 1.91s\n",
      "891:\tlearn: 4.5624510\ttotal: 15.6s\tremaining: 1.89s\n",
      "892:\tlearn: 4.5578625\ttotal: 15.6s\tremaining: 1.87s\n",
      "893:\tlearn: 4.5558947\ttotal: 15.7s\tremaining: 1.86s\n",
      "894:\tlearn: 4.5534821\ttotal: 15.7s\tremaining: 1.84s\n",
      "895:\tlearn: 4.5527364\ttotal: 15.7s\tremaining: 1.82s\n",
      "896:\tlearn: 4.5520080\ttotal: 15.7s\tremaining: 1.8s\n",
      "897:\tlearn: 4.5454872\ttotal: 15.7s\tremaining: 1.78s\n",
      "898:\tlearn: 4.5437737\ttotal: 15.7s\tremaining: 1.77s\n",
      "899:\tlearn: 4.5421326\ttotal: 15.8s\tremaining: 1.75s\n",
      "900:\tlearn: 4.5401625\ttotal: 15.8s\tremaining: 1.73s\n",
      "901:\tlearn: 4.5390554\ttotal: 15.8s\tremaining: 1.72s\n",
      "902:\tlearn: 4.5360135\ttotal: 15.8s\tremaining: 1.7s\n",
      "903:\tlearn: 4.5342664\ttotal: 15.8s\tremaining: 1.68s\n",
      "904:\tlearn: 4.5322005\ttotal: 15.8s\tremaining: 1.66s\n",
      "905:\tlearn: 4.5281215\ttotal: 15.9s\tremaining: 1.64s\n",
      "906:\tlearn: 4.5248039\ttotal: 15.9s\tremaining: 1.63s\n",
      "907:\tlearn: 4.5222971\ttotal: 15.9s\tremaining: 1.61s\n",
      "908:\tlearn: 4.5209269\ttotal: 15.9s\tremaining: 1.59s\n",
      "909:\tlearn: 4.5182105\ttotal: 15.9s\tremaining: 1.57s\n",
      "910:\tlearn: 4.5164300\ttotal: 15.9s\tremaining: 1.56s\n",
      "911:\tlearn: 4.5143111\ttotal: 16s\tremaining: 1.54s\n",
      "912:\tlearn: 4.5117536\ttotal: 16s\tremaining: 1.52s\n",
      "913:\tlearn: 4.5081760\ttotal: 16s\tremaining: 1.5s\n",
      "914:\tlearn: 4.5059177\ttotal: 16s\tremaining: 1.49s\n",
      "915:\tlearn: 4.5037254\ttotal: 16s\tremaining: 1.47s\n",
      "916:\tlearn: 4.4999582\ttotal: 16s\tremaining: 1.45s\n",
      "917:\tlearn: 4.4990872\ttotal: 16.1s\tremaining: 1.43s\n",
      "918:\tlearn: 4.4955531\ttotal: 16.1s\tremaining: 1.42s\n",
      "919:\tlearn: 4.4913049\ttotal: 16.1s\tremaining: 1.4s\n",
      "920:\tlearn: 4.4901588\ttotal: 16.1s\tremaining: 1.38s\n",
      "921:\tlearn: 4.4844344\ttotal: 16.1s\tremaining: 1.36s\n",
      "922:\tlearn: 4.4826947\ttotal: 16.1s\tremaining: 1.35s\n",
      "923:\tlearn: 4.4817774\ttotal: 16.2s\tremaining: 1.33s\n",
      "924:\tlearn: 4.4798772\ttotal: 16.2s\tremaining: 1.31s\n",
      "925:\tlearn: 4.4776100\ttotal: 16.2s\tremaining: 1.29s\n",
      "926:\tlearn: 4.4768329\ttotal: 16.2s\tremaining: 1.28s\n",
      "927:\tlearn: 4.4745376\ttotal: 16.2s\tremaining: 1.26s\n",
      "928:\tlearn: 4.4730837\ttotal: 16.3s\tremaining: 1.24s\n",
      "929:\tlearn: 4.4719069\ttotal: 16.3s\tremaining: 1.22s\n",
      "930:\tlearn: 4.4691227\ttotal: 16.3s\tremaining: 1.21s\n",
      "931:\tlearn: 4.4683448\ttotal: 16.3s\tremaining: 1.19s\n",
      "932:\tlearn: 4.4664571\ttotal: 16.3s\tremaining: 1.17s\n",
      "933:\tlearn: 4.4649768\ttotal: 16.3s\tremaining: 1.15s\n",
      "934:\tlearn: 4.4632440\ttotal: 16.4s\tremaining: 1.14s\n",
      "935:\tlearn: 4.4585036\ttotal: 16.4s\tremaining: 1.12s\n",
      "936:\tlearn: 4.4573685\ttotal: 16.4s\tremaining: 1.1s\n",
      "937:\tlearn: 4.4549239\ttotal: 16.4s\tremaining: 1.08s\n",
      "938:\tlearn: 4.4524820\ttotal: 16.4s\tremaining: 1.07s\n",
      "939:\tlearn: 4.4505569\ttotal: 16.4s\tremaining: 1.05s\n",
      "940:\tlearn: 4.4489497\ttotal: 16.5s\tremaining: 1.03s\n",
      "941:\tlearn: 4.4476356\ttotal: 16.5s\tremaining: 1.01s\n",
      "942:\tlearn: 4.4455871\ttotal: 16.5s\tremaining: 997ms\n",
      "943:\tlearn: 4.4441480\ttotal: 16.5s\tremaining: 979ms\n",
      "944:\tlearn: 4.4420490\ttotal: 16.5s\tremaining: 962ms\n",
      "945:\tlearn: 4.4391914\ttotal: 16.5s\tremaining: 944ms\n",
      "946:\tlearn: 4.4385857\ttotal: 16.6s\tremaining: 927ms\n",
      "947:\tlearn: 4.4338845\ttotal: 16.6s\tremaining: 909ms\n",
      "948:\tlearn: 4.4310493\ttotal: 16.6s\tremaining: 892ms\n",
      "949:\tlearn: 4.4284947\ttotal: 16.6s\tremaining: 875ms\n",
      "950:\tlearn: 4.4262820\ttotal: 16.6s\tremaining: 857ms\n",
      "951:\tlearn: 4.4233971\ttotal: 16.7s\tremaining: 840ms\n",
      "952:\tlearn: 4.4201728\ttotal: 16.7s\tremaining: 822ms\n",
      "953:\tlearn: 4.4182366\ttotal: 16.7s\tremaining: 805ms\n",
      "954:\tlearn: 4.4158637\ttotal: 16.7s\tremaining: 787ms\n",
      "955:\tlearn: 4.4141318\ttotal: 16.7s\tremaining: 770ms\n",
      "956:\tlearn: 4.4120434\ttotal: 16.7s\tremaining: 752ms\n",
      "957:\tlearn: 4.4106532\ttotal: 16.8s\tremaining: 735ms\n",
      "958:\tlearn: 4.4055222\ttotal: 16.8s\tremaining: 717ms\n",
      "959:\tlearn: 4.3985754\ttotal: 16.8s\tremaining: 700ms\n",
      "960:\tlearn: 4.3952061\ttotal: 16.8s\tremaining: 682ms\n",
      "961:\tlearn: 4.3929134\ttotal: 16.8s\tremaining: 665ms\n",
      "962:\tlearn: 4.3908043\ttotal: 16.9s\tremaining: 648ms\n",
      "963:\tlearn: 4.3900436\ttotal: 16.9s\tremaining: 631ms\n",
      "964:\tlearn: 4.3884268\ttotal: 16.9s\tremaining: 613ms\n",
      "965:\tlearn: 4.3864713\ttotal: 16.9s\tremaining: 595ms\n",
      "966:\tlearn: 4.3843042\ttotal: 16.9s\tremaining: 578ms\n",
      "967:\tlearn: 4.3837805\ttotal: 16.9s\tremaining: 560ms\n",
      "968:\tlearn: 4.3813740\ttotal: 17s\tremaining: 543ms\n",
      "969:\tlearn: 4.3788728\ttotal: 17s\tremaining: 525ms\n",
      "970:\tlearn: 4.3776046\ttotal: 17s\tremaining: 508ms\n",
      "971:\tlearn: 4.3768005\ttotal: 17s\tremaining: 490ms\n",
      "972:\tlearn: 4.3758830\ttotal: 17s\tremaining: 473ms\n",
      "973:\tlearn: 4.3749491\ttotal: 17s\tremaining: 455ms\n",
      "974:\tlearn: 4.3732497\ttotal: 17.1s\tremaining: 438ms\n",
      "975:\tlearn: 4.3714815\ttotal: 17.1s\tremaining: 420ms\n",
      "976:\tlearn: 4.3664330\ttotal: 17.1s\tremaining: 403ms\n",
      "977:\tlearn: 4.3655225\ttotal: 17.1s\tremaining: 385ms\n",
      "978:\tlearn: 4.3619536\ttotal: 17.1s\tremaining: 368ms\n",
      "979:\tlearn: 4.3587711\ttotal: 17.2s\tremaining: 350ms\n",
      "980:\tlearn: 4.3564243\ttotal: 17.2s\tremaining: 333ms\n",
      "981:\tlearn: 4.3481114\ttotal: 17.2s\tremaining: 315ms\n",
      "982:\tlearn: 4.3449248\ttotal: 17.2s\tremaining: 298ms\n",
      "983:\tlearn: 4.3427008\ttotal: 17.2s\tremaining: 280ms\n",
      "984:\tlearn: 4.3407225\ttotal: 17.3s\tremaining: 263ms\n",
      "985:\tlearn: 4.3393234\ttotal: 17.3s\tremaining: 245ms\n",
      "986:\tlearn: 4.3381762\ttotal: 17.3s\tremaining: 228ms\n",
      "987:\tlearn: 4.3350746\ttotal: 17.3s\tremaining: 210ms\n",
      "988:\tlearn: 4.3339174\ttotal: 17.3s\tremaining: 193ms\n",
      "989:\tlearn: 4.3321727\ttotal: 17.3s\tremaining: 175ms\n",
      "990:\tlearn: 4.3274915\ttotal: 17.4s\tremaining: 158ms\n",
      "991:\tlearn: 4.3260960\ttotal: 17.4s\tremaining: 140ms\n",
      "992:\tlearn: 4.3238580\ttotal: 17.4s\tremaining: 123ms\n",
      "993:\tlearn: 4.3211965\ttotal: 17.4s\tremaining: 105ms\n",
      "994:\tlearn: 4.3176927\ttotal: 17.4s\tremaining: 87.6ms\n",
      "995:\tlearn: 4.3153751\ttotal: 17.4s\tremaining: 70ms\n",
      "996:\tlearn: 4.3136246\ttotal: 17.5s\tremaining: 52.5ms\n",
      "997:\tlearn: 4.3115202\ttotal: 17.5s\tremaining: 35ms\n",
      "998:\tlearn: 4.3088437\ttotal: 17.5s\tremaining: 17.5ms\n",
      "999:\tlearn: 4.3054591\ttotal: 17.5s\tremaining: 0us\n",
      "Learning rate set to 0.062229\n",
      "0:\tlearn: 10.1046403\ttotal: 17.9ms\tremaining: 17.9s\n",
      "1:\tlearn: 9.9416163\ttotal: 35.1ms\tremaining: 17.5s\n",
      "2:\tlearn: 9.7910901\ttotal: 53.1ms\tremaining: 17.7s\n",
      "3:\tlearn: 9.6439420\ttotal: 71.6ms\tremaining: 17.8s\n",
      "4:\tlearn: 9.5061558\ttotal: 89.7ms\tremaining: 17.8s\n",
      "5:\tlearn: 9.3835283\ttotal: 108ms\tremaining: 18s\n",
      "6:\tlearn: 9.2828701\ttotal: 126ms\tremaining: 17.9s\n",
      "7:\tlearn: 9.1749989\ttotal: 145ms\tremaining: 18s\n",
      "8:\tlearn: 9.0785940\ttotal: 164ms\tremaining: 18s\n",
      "9:\tlearn: 8.9947656\ttotal: 182ms\tremaining: 18s\n",
      "10:\tlearn: 8.9127987\ttotal: 200ms\tremaining: 18s\n",
      "11:\tlearn: 8.8300237\ttotal: 219ms\tremaining: 18s\n",
      "12:\tlearn: 8.7674573\ttotal: 240ms\tremaining: 18.2s\n",
      "13:\tlearn: 8.6943099\ttotal: 259ms\tremaining: 18.2s\n",
      "14:\tlearn: 8.6251659\ttotal: 278ms\tremaining: 18.2s\n",
      "15:\tlearn: 8.5651483\ttotal: 296ms\tremaining: 18.2s\n",
      "16:\tlearn: 8.5101832\ttotal: 315ms\tremaining: 18.2s\n",
      "17:\tlearn: 8.4558216\ttotal: 333ms\tremaining: 18.1s\n",
      "18:\tlearn: 8.4070653\ttotal: 350ms\tremaining: 18.1s\n",
      "19:\tlearn: 8.3620935\ttotal: 366ms\tremaining: 18s\n",
      "20:\tlearn: 8.3201301\ttotal: 383ms\tremaining: 17.9s\n",
      "21:\tlearn: 8.2787553\ttotal: 400ms\tremaining: 17.8s\n",
      "22:\tlearn: 8.2397180\ttotal: 418ms\tremaining: 17.8s\n",
      "23:\tlearn: 8.2062333\ttotal: 437ms\tremaining: 17.8s\n",
      "24:\tlearn: 8.1659186\ttotal: 459ms\tremaining: 17.9s\n",
      "25:\tlearn: 8.1368314\ttotal: 475ms\tremaining: 17.8s\n",
      "26:\tlearn: 8.1038512\ttotal: 492ms\tremaining: 17.7s\n",
      "27:\tlearn: 8.0796919\ttotal: 511ms\tremaining: 17.7s\n",
      "28:\tlearn: 8.0570520\ttotal: 530ms\tremaining: 17.8s\n",
      "29:\tlearn: 8.0295234\ttotal: 547ms\tremaining: 17.7s\n",
      "30:\tlearn: 8.0039572\ttotal: 565ms\tremaining: 17.7s\n",
      "31:\tlearn: 7.9678926\ttotal: 582ms\tremaining: 17.6s\n",
      "32:\tlearn: 7.9413152\ttotal: 600ms\tremaining: 17.6s\n",
      "33:\tlearn: 7.9146112\ttotal: 618ms\tremaining: 17.5s\n",
      "34:\tlearn: 7.8948363\ttotal: 634ms\tremaining: 17.5s\n",
      "35:\tlearn: 7.8745550\ttotal: 651ms\tremaining: 17.4s\n",
      "36:\tlearn: 7.8508534\ttotal: 668ms\tremaining: 17.4s\n",
      "37:\tlearn: 7.8337465\ttotal: 686ms\tremaining: 17.4s\n",
      "38:\tlearn: 7.8113281\ttotal: 702ms\tremaining: 17.3s\n",
      "39:\tlearn: 7.7908128\ttotal: 719ms\tremaining: 17.2s\n",
      "40:\tlearn: 7.7690930\ttotal: 736ms\tremaining: 17.2s\n",
      "41:\tlearn: 7.7507603\ttotal: 756ms\tremaining: 17.2s\n",
      "42:\tlearn: 7.7348000\ttotal: 772ms\tremaining: 17.2s\n",
      "43:\tlearn: 7.7187128\ttotal: 788ms\tremaining: 17.1s\n",
      "44:\tlearn: 7.7009106\ttotal: 804ms\tremaining: 17.1s\n",
      "45:\tlearn: 7.6851015\ttotal: 819ms\tremaining: 17s\n",
      "46:\tlearn: 7.6660251\ttotal: 836ms\tremaining: 16.9s\n",
      "47:\tlearn: 7.6538480\ttotal: 852ms\tremaining: 16.9s\n",
      "48:\tlearn: 7.6386548\ttotal: 869ms\tremaining: 16.9s\n",
      "49:\tlearn: 7.6232686\ttotal: 886ms\tremaining: 16.8s\n",
      "50:\tlearn: 7.6082561\ttotal: 902ms\tremaining: 16.8s\n",
      "51:\tlearn: 7.5931723\ttotal: 919ms\tremaining: 16.8s\n",
      "52:\tlearn: 7.5820998\ttotal: 939ms\tremaining: 16.8s\n",
      "53:\tlearn: 7.5687344\ttotal: 956ms\tremaining: 16.7s\n",
      "54:\tlearn: 7.5552978\ttotal: 972ms\tremaining: 16.7s\n",
      "55:\tlearn: 7.5438185\ttotal: 988ms\tremaining: 16.7s\n",
      "56:\tlearn: 7.5298901\ttotal: 1s\tremaining: 16.6s\n",
      "57:\tlearn: 7.5210771\ttotal: 1.02s\tremaining: 16.6s\n",
      "58:\tlearn: 7.5097974\ttotal: 1.04s\tremaining: 16.5s\n",
      "59:\tlearn: 7.4997995\ttotal: 1.05s\tremaining: 16.5s\n",
      "60:\tlearn: 7.4882754\ttotal: 1.07s\tremaining: 16.4s\n",
      "61:\tlearn: 7.4731488\ttotal: 1.08s\tremaining: 16.4s\n",
      "62:\tlearn: 7.4581892\ttotal: 1.1s\tremaining: 16.4s\n",
      "63:\tlearn: 7.4456141\ttotal: 1.12s\tremaining: 16.4s\n",
      "64:\tlearn: 7.4360078\ttotal: 1.14s\tremaining: 16.4s\n",
      "65:\tlearn: 7.4244617\ttotal: 1.16s\tremaining: 16.4s\n",
      "66:\tlearn: 7.4143015\ttotal: 1.17s\tremaining: 16.3s\n",
      "67:\tlearn: 7.4046019\ttotal: 1.19s\tremaining: 16.3s\n",
      "68:\tlearn: 7.3955107\ttotal: 1.21s\tremaining: 16.3s\n",
      "69:\tlearn: 7.3849418\ttotal: 1.22s\tremaining: 16.2s\n",
      "70:\tlearn: 7.3703492\ttotal: 1.24s\tremaining: 16.2s\n",
      "71:\tlearn: 7.3597083\ttotal: 1.26s\tremaining: 16.2s\n",
      "72:\tlearn: 7.3503784\ttotal: 1.27s\tremaining: 16.2s\n",
      "73:\tlearn: 7.3416367\ttotal: 1.29s\tremaining: 16.2s\n",
      "74:\tlearn: 7.3329601\ttotal: 1.31s\tremaining: 16.1s\n",
      "75:\tlearn: 7.3224863\ttotal: 1.32s\tremaining: 16.1s\n",
      "76:\tlearn: 7.3078611\ttotal: 1.34s\tremaining: 16.1s\n",
      "77:\tlearn: 7.2957143\ttotal: 1.36s\tremaining: 16.1s\n",
      "78:\tlearn: 7.2834666\ttotal: 1.38s\tremaining: 16.1s\n",
      "79:\tlearn: 7.2717373\ttotal: 1.39s\tremaining: 16s\n",
      "80:\tlearn: 7.2640687\ttotal: 1.41s\tremaining: 16s\n",
      "81:\tlearn: 7.2543215\ttotal: 1.43s\tremaining: 16s\n",
      "82:\tlearn: 7.2453226\ttotal: 1.45s\tremaining: 16s\n",
      "83:\tlearn: 7.2369139\ttotal: 1.47s\tremaining: 16s\n",
      "84:\tlearn: 7.2258735\ttotal: 1.48s\tremaining: 16s\n",
      "85:\tlearn: 7.2159426\ttotal: 1.5s\tremaining: 15.9s\n",
      "86:\tlearn: 7.2029096\ttotal: 1.52s\tremaining: 15.9s\n",
      "87:\tlearn: 7.1932125\ttotal: 1.53s\tremaining: 15.9s\n",
      "88:\tlearn: 7.1826588\ttotal: 1.55s\tremaining: 15.9s\n",
      "89:\tlearn: 7.1714504\ttotal: 1.57s\tremaining: 15.9s\n",
      "90:\tlearn: 7.1612808\ttotal: 1.59s\tremaining: 15.9s\n",
      "91:\tlearn: 7.1537956\ttotal: 1.6s\tremaining: 15.8s\n",
      "92:\tlearn: 7.1433105\ttotal: 1.62s\tremaining: 15.8s\n",
      "93:\tlearn: 7.1341554\ttotal: 1.64s\tremaining: 15.8s\n",
      "94:\tlearn: 7.1274281\ttotal: 1.66s\tremaining: 15.8s\n",
      "95:\tlearn: 7.1212936\ttotal: 1.67s\tremaining: 15.8s\n",
      "96:\tlearn: 7.1094562\ttotal: 1.69s\tremaining: 15.8s\n",
      "97:\tlearn: 7.0989903\ttotal: 1.71s\tremaining: 15.8s\n",
      "98:\tlearn: 7.0897229\ttotal: 1.73s\tremaining: 15.8s\n",
      "99:\tlearn: 7.0807779\ttotal: 1.75s\tremaining: 15.7s\n",
      "100:\tlearn: 7.0711254\ttotal: 1.77s\tremaining: 15.7s\n",
      "101:\tlearn: 7.0625587\ttotal: 1.78s\tremaining: 15.7s\n",
      "102:\tlearn: 7.0549007\ttotal: 1.8s\tremaining: 15.7s\n",
      "103:\tlearn: 7.0473668\ttotal: 1.82s\tremaining: 15.7s\n",
      "104:\tlearn: 7.0395630\ttotal: 1.83s\tremaining: 15.6s\n",
      "105:\tlearn: 7.0289951\ttotal: 1.85s\tremaining: 15.6s\n",
      "106:\tlearn: 7.0226352\ttotal: 1.87s\tremaining: 15.6s\n",
      "107:\tlearn: 7.0166331\ttotal: 1.9s\tremaining: 15.7s\n",
      "108:\tlearn: 7.0061361\ttotal: 1.91s\tremaining: 15.6s\n",
      "109:\tlearn: 6.9987363\ttotal: 1.93s\tremaining: 15.6s\n",
      "110:\tlearn: 6.9912636\ttotal: 1.95s\tremaining: 15.6s\n",
      "111:\tlearn: 6.9833115\ttotal: 1.97s\tremaining: 15.6s\n",
      "112:\tlearn: 6.9771411\ttotal: 1.99s\tremaining: 15.6s\n",
      "113:\tlearn: 6.9705768\ttotal: 2s\tremaining: 15.6s\n",
      "114:\tlearn: 6.9626121\ttotal: 2.02s\tremaining: 15.6s\n",
      "115:\tlearn: 6.9517547\ttotal: 2.04s\tremaining: 15.6s\n",
      "116:\tlearn: 6.9444835\ttotal: 2.06s\tremaining: 15.5s\n",
      "117:\tlearn: 6.9355665\ttotal: 2.08s\tremaining: 15.5s\n",
      "118:\tlearn: 6.9294791\ttotal: 2.1s\tremaining: 15.5s\n",
      "119:\tlearn: 6.9233882\ttotal: 2.11s\tremaining: 15.5s\n",
      "120:\tlearn: 6.9178077\ttotal: 2.13s\tremaining: 15.5s\n",
      "121:\tlearn: 6.9090800\ttotal: 2.15s\tremaining: 15.4s\n",
      "122:\tlearn: 6.9036588\ttotal: 2.16s\tremaining: 15.4s\n",
      "123:\tlearn: 6.8943102\ttotal: 2.18s\tremaining: 15.4s\n",
      "124:\tlearn: 6.8864261\ttotal: 2.2s\tremaining: 15.4s\n",
      "125:\tlearn: 6.8806399\ttotal: 2.22s\tremaining: 15.4s\n",
      "126:\tlearn: 6.8768636\ttotal: 2.23s\tremaining: 15.4s\n",
      "127:\tlearn: 6.8715422\ttotal: 2.25s\tremaining: 15.3s\n",
      "128:\tlearn: 6.8653243\ttotal: 2.27s\tremaining: 15.3s\n",
      "129:\tlearn: 6.8604250\ttotal: 2.29s\tremaining: 15.3s\n",
      "130:\tlearn: 6.8542922\ttotal: 2.3s\tremaining: 15.3s\n",
      "131:\tlearn: 6.8500504\ttotal: 2.32s\tremaining: 15.3s\n",
      "132:\tlearn: 6.8425004\ttotal: 2.34s\tremaining: 15.2s\n",
      "133:\tlearn: 6.8330612\ttotal: 2.35s\tremaining: 15.2s\n",
      "134:\tlearn: 6.8277146\ttotal: 2.37s\tremaining: 15.2s\n",
      "135:\tlearn: 6.8244624\ttotal: 2.39s\tremaining: 15.2s\n",
      "136:\tlearn: 6.8176906\ttotal: 2.41s\tremaining: 15.2s\n",
      "137:\tlearn: 6.8101401\ttotal: 2.42s\tremaining: 15.1s\n",
      "138:\tlearn: 6.8039064\ttotal: 2.44s\tremaining: 15.1s\n",
      "139:\tlearn: 6.7961021\ttotal: 2.46s\tremaining: 15.1s\n",
      "140:\tlearn: 6.7906631\ttotal: 2.48s\tremaining: 15.1s\n",
      "141:\tlearn: 6.7843165\ttotal: 2.49s\tremaining: 15.1s\n",
      "142:\tlearn: 6.7803813\ttotal: 2.51s\tremaining: 15s\n",
      "143:\tlearn: 6.7744274\ttotal: 2.53s\tremaining: 15s\n",
      "144:\tlearn: 6.7685105\ttotal: 2.54s\tremaining: 15s\n",
      "145:\tlearn: 6.7629362\ttotal: 2.56s\tremaining: 15s\n",
      "146:\tlearn: 6.7519383\ttotal: 2.58s\tremaining: 15s\n",
      "147:\tlearn: 6.7444340\ttotal: 2.6s\tremaining: 15s\n",
      "148:\tlearn: 6.7386178\ttotal: 2.61s\tremaining: 14.9s\n",
      "149:\tlearn: 6.7315769\ttotal: 2.63s\tremaining: 14.9s\n",
      "150:\tlearn: 6.7257414\ttotal: 2.65s\tremaining: 14.9s\n",
      "151:\tlearn: 6.7212712\ttotal: 2.67s\tremaining: 14.9s\n",
      "152:\tlearn: 6.7143962\ttotal: 2.68s\tremaining: 14.9s\n",
      "153:\tlearn: 6.7072783\ttotal: 2.7s\tremaining: 14.8s\n",
      "154:\tlearn: 6.7002632\ttotal: 2.72s\tremaining: 14.8s\n",
      "155:\tlearn: 6.6938101\ttotal: 2.74s\tremaining: 14.8s\n",
      "156:\tlearn: 6.6865456\ttotal: 2.76s\tremaining: 14.8s\n",
      "157:\tlearn: 6.6782601\ttotal: 2.79s\tremaining: 14.9s\n",
      "158:\tlearn: 6.6709851\ttotal: 2.81s\tremaining: 14.8s\n",
      "159:\tlearn: 6.6651069\ttotal: 2.82s\tremaining: 14.8s\n",
      "160:\tlearn: 6.6603024\ttotal: 2.84s\tremaining: 14.8s\n",
      "161:\tlearn: 6.6546275\ttotal: 2.85s\tremaining: 14.8s\n",
      "162:\tlearn: 6.6485794\ttotal: 2.87s\tremaining: 14.7s\n",
      "163:\tlearn: 6.6426367\ttotal: 2.89s\tremaining: 14.7s\n",
      "164:\tlearn: 6.6323228\ttotal: 2.9s\tremaining: 14.7s\n",
      "165:\tlearn: 6.6275548\ttotal: 2.92s\tremaining: 14.7s\n",
      "166:\tlearn: 6.6207646\ttotal: 2.94s\tremaining: 14.7s\n",
      "167:\tlearn: 6.6140334\ttotal: 2.96s\tremaining: 14.6s\n",
      "168:\tlearn: 6.6080903\ttotal: 2.97s\tremaining: 14.6s\n",
      "169:\tlearn: 6.6045464\ttotal: 2.99s\tremaining: 14.6s\n",
      "170:\tlearn: 6.5985178\ttotal: 3.01s\tremaining: 14.6s\n",
      "171:\tlearn: 6.5912237\ttotal: 3.02s\tremaining: 14.6s\n",
      "172:\tlearn: 6.5851317\ttotal: 3.04s\tremaining: 14.5s\n",
      "173:\tlearn: 6.5766357\ttotal: 3.06s\tremaining: 14.5s\n",
      "174:\tlearn: 6.5674885\ttotal: 3.08s\tremaining: 14.5s\n",
      "175:\tlearn: 6.5622331\ttotal: 3.09s\tremaining: 14.5s\n",
      "176:\tlearn: 6.5536402\ttotal: 3.11s\tremaining: 14.4s\n",
      "177:\tlearn: 6.5501003\ttotal: 3.12s\tremaining: 14.4s\n",
      "178:\tlearn: 6.5459644\ttotal: 3.14s\tremaining: 14.4s\n",
      "179:\tlearn: 6.5407041\ttotal: 3.16s\tremaining: 14.4s\n",
      "180:\tlearn: 6.5345227\ttotal: 3.17s\tremaining: 14.4s\n",
      "181:\tlearn: 6.5269943\ttotal: 3.19s\tremaining: 14.3s\n",
      "182:\tlearn: 6.5221537\ttotal: 3.2s\tremaining: 14.3s\n",
      "183:\tlearn: 6.5158728\ttotal: 3.22s\tremaining: 14.3s\n",
      "184:\tlearn: 6.5100481\ttotal: 3.24s\tremaining: 14.3s\n",
      "185:\tlearn: 6.5043235\ttotal: 3.25s\tremaining: 14.2s\n",
      "186:\tlearn: 6.4989969\ttotal: 3.27s\tremaining: 14.2s\n",
      "187:\tlearn: 6.4902546\ttotal: 3.29s\tremaining: 14.2s\n",
      "188:\tlearn: 6.4843207\ttotal: 3.31s\tremaining: 14.2s\n",
      "189:\tlearn: 6.4816951\ttotal: 3.32s\tremaining: 14.2s\n",
      "190:\tlearn: 6.4738025\ttotal: 3.34s\tremaining: 14.2s\n",
      "191:\tlearn: 6.4670944\ttotal: 3.36s\tremaining: 14.1s\n",
      "192:\tlearn: 6.4610438\ttotal: 3.37s\tremaining: 14.1s\n",
      "193:\tlearn: 6.4557221\ttotal: 3.39s\tremaining: 14.1s\n",
      "194:\tlearn: 6.4479774\ttotal: 3.41s\tremaining: 14.1s\n",
      "195:\tlearn: 6.4414401\ttotal: 3.42s\tremaining: 14.1s\n",
      "196:\tlearn: 6.4337422\ttotal: 3.44s\tremaining: 14s\n",
      "197:\tlearn: 6.4302374\ttotal: 3.46s\tremaining: 14s\n",
      "198:\tlearn: 6.4215786\ttotal: 3.48s\tremaining: 14s\n",
      "199:\tlearn: 6.4143488\ttotal: 3.5s\tremaining: 14s\n",
      "200:\tlearn: 6.4097379\ttotal: 3.52s\tremaining: 14s\n",
      "201:\tlearn: 6.4039871\ttotal: 3.54s\tremaining: 14s\n",
      "202:\tlearn: 6.3993713\ttotal: 3.55s\tremaining: 14s\n",
      "203:\tlearn: 6.3964269\ttotal: 3.57s\tremaining: 13.9s\n",
      "204:\tlearn: 6.3920102\ttotal: 3.59s\tremaining: 13.9s\n",
      "205:\tlearn: 6.3861452\ttotal: 3.6s\tremaining: 13.9s\n",
      "206:\tlearn: 6.3802325\ttotal: 3.62s\tremaining: 13.9s\n",
      "207:\tlearn: 6.3743547\ttotal: 3.64s\tremaining: 13.9s\n",
      "208:\tlearn: 6.3684285\ttotal: 3.65s\tremaining: 13.8s\n",
      "209:\tlearn: 6.3642417\ttotal: 3.67s\tremaining: 13.8s\n",
      "210:\tlearn: 6.3598407\ttotal: 3.69s\tremaining: 13.8s\n",
      "211:\tlearn: 6.3529941\ttotal: 3.7s\tremaining: 13.8s\n",
      "212:\tlearn: 6.3470866\ttotal: 3.72s\tremaining: 13.8s\n",
      "213:\tlearn: 6.3413465\ttotal: 3.74s\tremaining: 13.7s\n",
      "214:\tlearn: 6.3359735\ttotal: 3.75s\tremaining: 13.7s\n",
      "215:\tlearn: 6.3300929\ttotal: 3.77s\tremaining: 13.7s\n",
      "216:\tlearn: 6.3245390\ttotal: 3.79s\tremaining: 13.7s\n",
      "217:\tlearn: 6.3191090\ttotal: 3.81s\tremaining: 13.6s\n",
      "218:\tlearn: 6.3129555\ttotal: 3.82s\tremaining: 13.6s\n",
      "219:\tlearn: 6.3107526\ttotal: 3.84s\tremaining: 13.6s\n",
      "220:\tlearn: 6.3046382\ttotal: 3.85s\tremaining: 13.6s\n",
      "221:\tlearn: 6.2997621\ttotal: 3.87s\tremaining: 13.6s\n",
      "222:\tlearn: 6.2946586\ttotal: 3.89s\tremaining: 13.5s\n",
      "223:\tlearn: 6.2884997\ttotal: 3.92s\tremaining: 13.6s\n",
      "224:\tlearn: 6.2827453\ttotal: 3.94s\tremaining: 13.6s\n",
      "225:\tlearn: 6.2765314\ttotal: 3.97s\tremaining: 13.6s\n",
      "226:\tlearn: 6.2711652\ttotal: 4s\tremaining: 13.6s\n",
      "227:\tlearn: 6.2642677\ttotal: 4.02s\tremaining: 13.6s\n",
      "228:\tlearn: 6.2588520\ttotal: 4.04s\tremaining: 13.6s\n",
      "229:\tlearn: 6.2549807\ttotal: 4.06s\tremaining: 13.6s\n",
      "230:\tlearn: 6.2499317\ttotal: 4.07s\tremaining: 13.6s\n",
      "231:\tlearn: 6.2453963\ttotal: 4.09s\tremaining: 13.5s\n",
      "232:\tlearn: 6.2409446\ttotal: 4.11s\tremaining: 13.5s\n",
      "233:\tlearn: 6.2351124\ttotal: 4.12s\tremaining: 13.5s\n",
      "234:\tlearn: 6.2279083\ttotal: 4.14s\tremaining: 13.5s\n",
      "235:\tlearn: 6.2217661\ttotal: 4.16s\tremaining: 13.5s\n",
      "236:\tlearn: 6.2173722\ttotal: 4.17s\tremaining: 13.4s\n",
      "237:\tlearn: 6.2112343\ttotal: 4.19s\tremaining: 13.4s\n",
      "238:\tlearn: 6.2045807\ttotal: 4.21s\tremaining: 13.4s\n",
      "239:\tlearn: 6.1989356\ttotal: 4.22s\tremaining: 13.4s\n",
      "240:\tlearn: 6.1902224\ttotal: 4.24s\tremaining: 13.3s\n",
      "241:\tlearn: 6.1848811\ttotal: 4.25s\tremaining: 13.3s\n",
      "242:\tlearn: 6.1785128\ttotal: 4.27s\tremaining: 13.3s\n",
      "243:\tlearn: 6.1732103\ttotal: 4.29s\tremaining: 13.3s\n",
      "244:\tlearn: 6.1679896\ttotal: 4.3s\tremaining: 13.3s\n",
      "245:\tlearn: 6.1621122\ttotal: 4.32s\tremaining: 13.2s\n",
      "246:\tlearn: 6.1578639\ttotal: 4.34s\tremaining: 13.2s\n",
      "247:\tlearn: 6.1516093\ttotal: 4.35s\tremaining: 13.2s\n",
      "248:\tlearn: 6.1461947\ttotal: 4.37s\tremaining: 13.2s\n",
      "249:\tlearn: 6.1409822\ttotal: 4.39s\tremaining: 13.2s\n",
      "250:\tlearn: 6.1369677\ttotal: 4.4s\tremaining: 13.1s\n",
      "251:\tlearn: 6.1319799\ttotal: 4.42s\tremaining: 13.1s\n",
      "252:\tlearn: 6.1266274\ttotal: 4.43s\tremaining: 13.1s\n",
      "253:\tlearn: 6.1221879\ttotal: 4.45s\tremaining: 13.1s\n",
      "254:\tlearn: 6.1156186\ttotal: 4.47s\tremaining: 13.1s\n",
      "255:\tlearn: 6.1064746\ttotal: 4.49s\tremaining: 13s\n",
      "256:\tlearn: 6.1029105\ttotal: 4.5s\tremaining: 13s\n",
      "257:\tlearn: 6.0974045\ttotal: 4.52s\tremaining: 13s\n",
      "258:\tlearn: 6.0897432\ttotal: 4.54s\tremaining: 13s\n",
      "259:\tlearn: 6.0825123\ttotal: 4.55s\tremaining: 13s\n",
      "260:\tlearn: 6.0766034\ttotal: 4.57s\tremaining: 12.9s\n",
      "261:\tlearn: 6.0722467\ttotal: 4.59s\tremaining: 12.9s\n",
      "262:\tlearn: 6.0657021\ttotal: 4.61s\tremaining: 12.9s\n",
      "263:\tlearn: 6.0623220\ttotal: 4.63s\tremaining: 12.9s\n",
      "264:\tlearn: 6.0577615\ttotal: 4.64s\tremaining: 12.9s\n",
      "265:\tlearn: 6.0534316\ttotal: 4.66s\tremaining: 12.9s\n",
      "266:\tlearn: 6.0487319\ttotal: 4.67s\tremaining: 12.8s\n",
      "267:\tlearn: 6.0420522\ttotal: 4.69s\tremaining: 12.8s\n",
      "268:\tlearn: 6.0362153\ttotal: 4.71s\tremaining: 12.8s\n",
      "269:\tlearn: 6.0308944\ttotal: 4.72s\tremaining: 12.8s\n",
      "270:\tlearn: 6.0258010\ttotal: 4.74s\tremaining: 12.8s\n",
      "271:\tlearn: 6.0205199\ttotal: 4.76s\tremaining: 12.7s\n",
      "272:\tlearn: 6.0165711\ttotal: 4.78s\tremaining: 12.7s\n",
      "273:\tlearn: 6.0133642\ttotal: 4.79s\tremaining: 12.7s\n",
      "274:\tlearn: 6.0108753\ttotal: 4.81s\tremaining: 12.7s\n",
      "275:\tlearn: 6.0066135\ttotal: 4.83s\tremaining: 12.7s\n",
      "276:\tlearn: 6.0027290\ttotal: 4.85s\tremaining: 12.7s\n",
      "277:\tlearn: 5.9996093\ttotal: 4.87s\tremaining: 12.6s\n",
      "278:\tlearn: 5.9943681\ttotal: 4.88s\tremaining: 12.6s\n",
      "279:\tlearn: 5.9903628\ttotal: 4.9s\tremaining: 12.6s\n",
      "280:\tlearn: 5.9868894\ttotal: 4.92s\tremaining: 12.6s\n",
      "281:\tlearn: 5.9812846\ttotal: 4.93s\tremaining: 12.6s\n",
      "282:\tlearn: 5.9779485\ttotal: 4.96s\tremaining: 12.6s\n",
      "283:\tlearn: 5.9749807\ttotal: 4.97s\tremaining: 12.5s\n",
      "284:\tlearn: 5.9710402\ttotal: 4.99s\tremaining: 12.5s\n",
      "285:\tlearn: 5.9652180\ttotal: 5.01s\tremaining: 12.5s\n",
      "286:\tlearn: 5.9596508\ttotal: 5.03s\tremaining: 12.5s\n",
      "287:\tlearn: 5.9559432\ttotal: 5.04s\tremaining: 12.5s\n",
      "288:\tlearn: 5.9508469\ttotal: 5.06s\tremaining: 12.5s\n",
      "289:\tlearn: 5.9468686\ttotal: 5.08s\tremaining: 12.4s\n",
      "290:\tlearn: 5.9437902\ttotal: 5.1s\tremaining: 12.4s\n",
      "291:\tlearn: 5.9373908\ttotal: 5.12s\tremaining: 12.4s\n",
      "292:\tlearn: 5.9328592\ttotal: 5.13s\tremaining: 12.4s\n",
      "293:\tlearn: 5.9274883\ttotal: 5.16s\tremaining: 12.4s\n",
      "294:\tlearn: 5.9233423\ttotal: 5.17s\tremaining: 12.4s\n",
      "295:\tlearn: 5.9223481\ttotal: 5.19s\tremaining: 12.3s\n",
      "296:\tlearn: 5.9182635\ttotal: 5.21s\tremaining: 12.3s\n",
      "297:\tlearn: 5.9134132\ttotal: 5.23s\tremaining: 12.3s\n",
      "298:\tlearn: 5.9092787\ttotal: 5.24s\tremaining: 12.3s\n",
      "299:\tlearn: 5.9049002\ttotal: 5.26s\tremaining: 12.3s\n",
      "300:\tlearn: 5.9005232\ttotal: 5.28s\tremaining: 12.3s\n",
      "301:\tlearn: 5.8978599\ttotal: 5.29s\tremaining: 12.2s\n",
      "302:\tlearn: 5.8927992\ttotal: 5.31s\tremaining: 12.2s\n",
      "303:\tlearn: 5.8867818\ttotal: 5.33s\tremaining: 12.2s\n",
      "304:\tlearn: 5.8837904\ttotal: 5.34s\tremaining: 12.2s\n",
      "305:\tlearn: 5.8796752\ttotal: 5.37s\tremaining: 12.2s\n",
      "306:\tlearn: 5.8739936\ttotal: 5.38s\tremaining: 12.2s\n",
      "307:\tlearn: 5.8687358\ttotal: 5.41s\tremaining: 12.2s\n",
      "308:\tlearn: 5.8644604\ttotal: 5.43s\tremaining: 12.1s\n",
      "309:\tlearn: 5.8595513\ttotal: 5.45s\tremaining: 12.1s\n",
      "310:\tlearn: 5.8550904\ttotal: 5.48s\tremaining: 12.1s\n",
      "311:\tlearn: 5.8515218\ttotal: 5.5s\tremaining: 12.1s\n",
      "312:\tlearn: 5.8464361\ttotal: 5.52s\tremaining: 12.1s\n",
      "313:\tlearn: 5.8396259\ttotal: 5.54s\tremaining: 12.1s\n",
      "314:\tlearn: 5.8358092\ttotal: 5.55s\tremaining: 12.1s\n",
      "315:\tlearn: 5.8319039\ttotal: 5.57s\tremaining: 12.1s\n",
      "316:\tlearn: 5.8273900\ttotal: 5.59s\tremaining: 12s\n",
      "317:\tlearn: 5.8221578\ttotal: 5.61s\tremaining: 12s\n",
      "318:\tlearn: 5.8162058\ttotal: 5.63s\tremaining: 12s\n",
      "319:\tlearn: 5.8133892\ttotal: 5.65s\tremaining: 12s\n",
      "320:\tlearn: 5.8093578\ttotal: 5.66s\tremaining: 12s\n",
      "321:\tlearn: 5.8058238\ttotal: 5.68s\tremaining: 12s\n",
      "322:\tlearn: 5.8026237\ttotal: 5.7s\tremaining: 11.9s\n",
      "323:\tlearn: 5.7994484\ttotal: 5.71s\tremaining: 11.9s\n",
      "324:\tlearn: 5.7961835\ttotal: 5.73s\tremaining: 11.9s\n",
      "325:\tlearn: 5.7923441\ttotal: 5.75s\tremaining: 11.9s\n",
      "326:\tlearn: 5.7893032\ttotal: 5.76s\tremaining: 11.9s\n",
      "327:\tlearn: 5.7845014\ttotal: 5.78s\tremaining: 11.8s\n",
      "328:\tlearn: 5.7794380\ttotal: 5.8s\tremaining: 11.8s\n",
      "329:\tlearn: 5.7761026\ttotal: 5.81s\tremaining: 11.8s\n",
      "330:\tlearn: 5.7738581\ttotal: 5.83s\tremaining: 11.8s\n",
      "331:\tlearn: 5.7699545\ttotal: 5.85s\tremaining: 11.8s\n",
      "332:\tlearn: 5.7675366\ttotal: 5.87s\tremaining: 11.8s\n",
      "333:\tlearn: 5.7639771\ttotal: 5.88s\tremaining: 11.7s\n",
      "334:\tlearn: 5.7609607\ttotal: 5.91s\tremaining: 11.7s\n",
      "335:\tlearn: 5.7569240\ttotal: 5.92s\tremaining: 11.7s\n",
      "336:\tlearn: 5.7542242\ttotal: 5.94s\tremaining: 11.7s\n",
      "337:\tlearn: 5.7510581\ttotal: 5.96s\tremaining: 11.7s\n",
      "338:\tlearn: 5.7460255\ttotal: 5.97s\tremaining: 11.6s\n",
      "339:\tlearn: 5.7413029\ttotal: 5.99s\tremaining: 11.6s\n",
      "340:\tlearn: 5.7370183\ttotal: 6.01s\tremaining: 11.6s\n",
      "341:\tlearn: 5.7330850\ttotal: 6.02s\tremaining: 11.6s\n",
      "342:\tlearn: 5.7274664\ttotal: 6.05s\tremaining: 11.6s\n",
      "343:\tlearn: 5.7235692\ttotal: 6.07s\tremaining: 11.6s\n",
      "344:\tlearn: 5.7196988\ttotal: 6.1s\tremaining: 11.6s\n",
      "345:\tlearn: 5.7169043\ttotal: 6.12s\tremaining: 11.6s\n",
      "346:\tlearn: 5.7133414\ttotal: 6.14s\tremaining: 11.6s\n",
      "347:\tlearn: 5.7098630\ttotal: 6.16s\tremaining: 11.6s\n",
      "348:\tlearn: 5.7045837\ttotal: 6.19s\tremaining: 11.5s\n",
      "349:\tlearn: 5.7007654\ttotal: 6.21s\tremaining: 11.5s\n",
      "350:\tlearn: 5.6969392\ttotal: 6.23s\tremaining: 11.5s\n",
      "351:\tlearn: 5.6916050\ttotal: 6.25s\tremaining: 11.5s\n",
      "352:\tlearn: 5.6874978\ttotal: 6.27s\tremaining: 11.5s\n",
      "353:\tlearn: 5.6831267\ttotal: 6.29s\tremaining: 11.5s\n",
      "354:\tlearn: 5.6790488\ttotal: 6.31s\tremaining: 11.5s\n",
      "355:\tlearn: 5.6747962\ttotal: 6.33s\tremaining: 11.4s\n",
      "356:\tlearn: 5.6701780\ttotal: 6.34s\tremaining: 11.4s\n",
      "357:\tlearn: 5.6664986\ttotal: 6.36s\tremaining: 11.4s\n",
      "358:\tlearn: 5.6624838\ttotal: 6.38s\tremaining: 11.4s\n",
      "359:\tlearn: 5.6601491\ttotal: 6.39s\tremaining: 11.4s\n",
      "360:\tlearn: 5.6556766\ttotal: 6.41s\tremaining: 11.4s\n",
      "361:\tlearn: 5.6511143\ttotal: 6.43s\tremaining: 11.3s\n",
      "362:\tlearn: 5.6475182\ttotal: 6.45s\tremaining: 11.3s\n",
      "363:\tlearn: 5.6446043\ttotal: 6.47s\tremaining: 11.3s\n",
      "364:\tlearn: 5.6409033\ttotal: 6.49s\tremaining: 11.3s\n",
      "365:\tlearn: 5.6377497\ttotal: 6.51s\tremaining: 11.3s\n",
      "366:\tlearn: 5.6336488\ttotal: 6.53s\tremaining: 11.3s\n",
      "367:\tlearn: 5.6281051\ttotal: 6.55s\tremaining: 11.2s\n",
      "368:\tlearn: 5.6227462\ttotal: 6.57s\tremaining: 11.2s\n",
      "369:\tlearn: 5.6183834\ttotal: 6.58s\tremaining: 11.2s\n",
      "370:\tlearn: 5.6143070\ttotal: 6.6s\tremaining: 11.2s\n",
      "371:\tlearn: 5.6108767\ttotal: 6.62s\tremaining: 11.2s\n",
      "372:\tlearn: 5.6085728\ttotal: 6.64s\tremaining: 11.2s\n",
      "373:\tlearn: 5.6042425\ttotal: 6.66s\tremaining: 11.1s\n",
      "374:\tlearn: 5.6002001\ttotal: 6.68s\tremaining: 11.1s\n",
      "375:\tlearn: 5.5958938\ttotal: 6.69s\tremaining: 11.1s\n",
      "376:\tlearn: 5.5927590\ttotal: 6.71s\tremaining: 11.1s\n",
      "377:\tlearn: 5.5898007\ttotal: 6.73s\tremaining: 11.1s\n",
      "378:\tlearn: 5.5861322\ttotal: 6.75s\tremaining: 11.1s\n",
      "379:\tlearn: 5.5833865\ttotal: 6.76s\tremaining: 11s\n",
      "380:\tlearn: 5.5786436\ttotal: 6.78s\tremaining: 11s\n",
      "381:\tlearn: 5.5753620\ttotal: 6.8s\tremaining: 11s\n",
      "382:\tlearn: 5.5730346\ttotal: 6.82s\tremaining: 11s\n",
      "383:\tlearn: 5.5682415\ttotal: 6.84s\tremaining: 11s\n",
      "384:\tlearn: 5.5636400\ttotal: 6.86s\tremaining: 10.9s\n",
      "385:\tlearn: 5.5592405\ttotal: 6.87s\tremaining: 10.9s\n",
      "386:\tlearn: 5.5560184\ttotal: 6.89s\tremaining: 10.9s\n",
      "387:\tlearn: 5.5512468\ttotal: 6.91s\tremaining: 10.9s\n",
      "388:\tlearn: 5.5474945\ttotal: 6.94s\tremaining: 10.9s\n",
      "389:\tlearn: 5.5431747\ttotal: 6.96s\tremaining: 10.9s\n",
      "390:\tlearn: 5.5394589\ttotal: 6.97s\tremaining: 10.9s\n",
      "391:\tlearn: 5.5363129\ttotal: 6.99s\tremaining: 10.8s\n",
      "392:\tlearn: 5.5324916\ttotal: 7.01s\tremaining: 10.8s\n",
      "393:\tlearn: 5.5282433\ttotal: 7.03s\tremaining: 10.8s\n",
      "394:\tlearn: 5.5231287\ttotal: 7.04s\tremaining: 10.8s\n",
      "395:\tlearn: 5.5198591\ttotal: 7.06s\tremaining: 10.8s\n",
      "396:\tlearn: 5.5173142\ttotal: 7.08s\tremaining: 10.7s\n",
      "397:\tlearn: 5.5154016\ttotal: 7.09s\tremaining: 10.7s\n",
      "398:\tlearn: 5.5117669\ttotal: 7.11s\tremaining: 10.7s\n",
      "399:\tlearn: 5.5070045\ttotal: 7.13s\tremaining: 10.7s\n",
      "400:\tlearn: 5.5028783\ttotal: 7.14s\tremaining: 10.7s\n",
      "401:\tlearn: 5.4999504\ttotal: 7.16s\tremaining: 10.7s\n",
      "402:\tlearn: 5.4943261\ttotal: 7.18s\tremaining: 10.6s\n",
      "403:\tlearn: 5.4900202\ttotal: 7.2s\tremaining: 10.6s\n",
      "404:\tlearn: 5.4887256\ttotal: 7.21s\tremaining: 10.6s\n",
      "405:\tlearn: 5.4852065\ttotal: 7.23s\tremaining: 10.6s\n",
      "406:\tlearn: 5.4809126\ttotal: 7.25s\tremaining: 10.6s\n",
      "407:\tlearn: 5.4777843\ttotal: 7.27s\tremaining: 10.5s\n",
      "408:\tlearn: 5.4744123\ttotal: 7.29s\tremaining: 10.5s\n",
      "409:\tlearn: 5.4719754\ttotal: 7.3s\tremaining: 10.5s\n",
      "410:\tlearn: 5.4681833\ttotal: 7.32s\tremaining: 10.5s\n",
      "411:\tlearn: 5.4660593\ttotal: 7.34s\tremaining: 10.5s\n",
      "412:\tlearn: 5.4617179\ttotal: 7.36s\tremaining: 10.5s\n",
      "413:\tlearn: 5.4594592\ttotal: 7.37s\tremaining: 10.4s\n",
      "414:\tlearn: 5.4554169\ttotal: 7.39s\tremaining: 10.4s\n",
      "415:\tlearn: 5.4524267\ttotal: 7.41s\tremaining: 10.4s\n",
      "416:\tlearn: 5.4496577\ttotal: 7.44s\tremaining: 10.4s\n",
      "417:\tlearn: 5.4485091\ttotal: 7.46s\tremaining: 10.4s\n",
      "418:\tlearn: 5.4448130\ttotal: 7.47s\tremaining: 10.4s\n",
      "419:\tlearn: 5.4401258\ttotal: 7.49s\tremaining: 10.3s\n",
      "420:\tlearn: 5.4365836\ttotal: 7.51s\tremaining: 10.3s\n",
      "421:\tlearn: 5.4309104\ttotal: 7.53s\tremaining: 10.3s\n",
      "422:\tlearn: 5.4273259\ttotal: 7.54s\tremaining: 10.3s\n",
      "423:\tlearn: 5.4234465\ttotal: 7.56s\tremaining: 10.3s\n",
      "424:\tlearn: 5.4219890\ttotal: 7.58s\tremaining: 10.2s\n",
      "425:\tlearn: 5.4174514\ttotal: 7.59s\tremaining: 10.2s\n",
      "426:\tlearn: 5.4127357\ttotal: 7.61s\tremaining: 10.2s\n",
      "427:\tlearn: 5.4085704\ttotal: 7.63s\tremaining: 10.2s\n",
      "428:\tlearn: 5.4043032\ttotal: 7.64s\tremaining: 10.2s\n",
      "429:\tlearn: 5.4019491\ttotal: 7.66s\tremaining: 10.2s\n",
      "430:\tlearn: 5.3996672\ttotal: 7.68s\tremaining: 10.1s\n",
      "431:\tlearn: 5.3968531\ttotal: 7.7s\tremaining: 10.1s\n",
      "432:\tlearn: 5.3905854\ttotal: 7.71s\tremaining: 10.1s\n",
      "433:\tlearn: 5.3881371\ttotal: 7.73s\tremaining: 10.1s\n",
      "434:\tlearn: 5.3827709\ttotal: 7.75s\tremaining: 10.1s\n",
      "435:\tlearn: 5.3799705\ttotal: 7.76s\tremaining: 10s\n",
      "436:\tlearn: 5.3775951\ttotal: 7.78s\tremaining: 10s\n",
      "437:\tlearn: 5.3733718\ttotal: 7.8s\tremaining: 10s\n",
      "438:\tlearn: 5.3713299\ttotal: 7.82s\tremaining: 9.99s\n",
      "439:\tlearn: 5.3680336\ttotal: 7.84s\tremaining: 9.97s\n",
      "440:\tlearn: 5.3647431\ttotal: 7.85s\tremaining: 9.95s\n",
      "441:\tlearn: 5.3605463\ttotal: 7.87s\tremaining: 9.94s\n",
      "442:\tlearn: 5.3553906\ttotal: 7.89s\tremaining: 9.92s\n",
      "443:\tlearn: 5.3520565\ttotal: 7.91s\tremaining: 9.9s\n",
      "444:\tlearn: 5.3488437\ttotal: 7.92s\tremaining: 9.88s\n",
      "445:\tlearn: 5.3439056\ttotal: 7.94s\tremaining: 9.86s\n",
      "446:\tlearn: 5.3413476\ttotal: 7.96s\tremaining: 9.84s\n",
      "447:\tlearn: 5.3389954\ttotal: 7.97s\tremaining: 9.82s\n",
      "448:\tlearn: 5.3379628\ttotal: 7.99s\tremaining: 9.8s\n",
      "449:\tlearn: 5.3348735\ttotal: 8.01s\tremaining: 9.79s\n",
      "450:\tlearn: 5.3337394\ttotal: 8.02s\tremaining: 9.77s\n",
      "451:\tlearn: 5.3308776\ttotal: 8.04s\tremaining: 9.75s\n",
      "452:\tlearn: 5.3267171\ttotal: 8.06s\tremaining: 9.74s\n",
      "453:\tlearn: 5.3257434\ttotal: 8.08s\tremaining: 9.72s\n",
      "454:\tlearn: 5.3231919\ttotal: 8.1s\tremaining: 9.7s\n",
      "455:\tlearn: 5.3193310\ttotal: 8.12s\tremaining: 9.68s\n",
      "456:\tlearn: 5.3138734\ttotal: 8.13s\tremaining: 9.66s\n",
      "457:\tlearn: 5.3127021\ttotal: 8.15s\tremaining: 9.64s\n",
      "458:\tlearn: 5.3099747\ttotal: 8.16s\tremaining: 9.62s\n",
      "459:\tlearn: 5.3058362\ttotal: 8.18s\tremaining: 9.61s\n",
      "460:\tlearn: 5.3028842\ttotal: 8.2s\tremaining: 9.59s\n",
      "461:\tlearn: 5.2990643\ttotal: 8.22s\tremaining: 9.57s\n",
      "462:\tlearn: 5.2955098\ttotal: 8.24s\tremaining: 9.55s\n",
      "463:\tlearn: 5.2913355\ttotal: 8.25s\tremaining: 9.53s\n",
      "464:\tlearn: 5.2888968\ttotal: 8.27s\tremaining: 9.52s\n",
      "465:\tlearn: 5.2859733\ttotal: 8.29s\tremaining: 9.5s\n",
      "466:\tlearn: 5.2830141\ttotal: 8.31s\tremaining: 9.48s\n",
      "467:\tlearn: 5.2796589\ttotal: 8.33s\tremaining: 9.47s\n",
      "468:\tlearn: 5.2767223\ttotal: 8.35s\tremaining: 9.45s\n",
      "469:\tlearn: 5.2716693\ttotal: 8.37s\tremaining: 9.43s\n",
      "470:\tlearn: 5.2683407\ttotal: 8.38s\tremaining: 9.41s\n",
      "471:\tlearn: 5.2649326\ttotal: 8.4s\tremaining: 9.4s\n",
      "472:\tlearn: 5.2593062\ttotal: 8.42s\tremaining: 9.38s\n",
      "473:\tlearn: 5.2543543\ttotal: 8.44s\tremaining: 9.36s\n",
      "474:\tlearn: 5.2517545\ttotal: 8.46s\tremaining: 9.35s\n",
      "475:\tlearn: 5.2476397\ttotal: 8.47s\tremaining: 9.33s\n",
      "476:\tlearn: 5.2445008\ttotal: 8.49s\tremaining: 9.31s\n",
      "477:\tlearn: 5.2415228\ttotal: 8.51s\tremaining: 9.29s\n",
      "478:\tlearn: 5.2390048\ttotal: 8.52s\tremaining: 9.27s\n",
      "479:\tlearn: 5.2359286\ttotal: 8.54s\tremaining: 9.26s\n",
      "480:\tlearn: 5.2332887\ttotal: 8.56s\tremaining: 9.24s\n",
      "481:\tlearn: 5.2291731\ttotal: 8.58s\tremaining: 9.22s\n",
      "482:\tlearn: 5.2241923\ttotal: 8.6s\tremaining: 9.2s\n",
      "483:\tlearn: 5.2224732\ttotal: 8.61s\tremaining: 9.18s\n",
      "484:\tlearn: 5.2193413\ttotal: 8.63s\tremaining: 9.16s\n",
      "485:\tlearn: 5.2161285\ttotal: 8.65s\tremaining: 9.15s\n",
      "486:\tlearn: 5.2129732\ttotal: 8.67s\tremaining: 9.13s\n",
      "487:\tlearn: 5.2095814\ttotal: 8.68s\tremaining: 9.11s\n",
      "488:\tlearn: 5.2074210\ttotal: 8.7s\tremaining: 9.09s\n",
      "489:\tlearn: 5.2044802\ttotal: 8.72s\tremaining: 9.07s\n",
      "490:\tlearn: 5.2016709\ttotal: 8.73s\tremaining: 9.05s\n",
      "491:\tlearn: 5.1989083\ttotal: 8.75s\tremaining: 9.04s\n",
      "492:\tlearn: 5.1969568\ttotal: 8.77s\tremaining: 9.02s\n",
      "493:\tlearn: 5.1942391\ttotal: 8.79s\tremaining: 9s\n",
      "494:\tlearn: 5.1913995\ttotal: 8.8s\tremaining: 8.98s\n",
      "495:\tlearn: 5.1891089\ttotal: 8.82s\tremaining: 8.96s\n",
      "496:\tlearn: 5.1873387\ttotal: 8.83s\tremaining: 8.94s\n",
      "497:\tlearn: 5.1840659\ttotal: 8.85s\tremaining: 8.93s\n",
      "498:\tlearn: 5.1816635\ttotal: 8.87s\tremaining: 8.91s\n",
      "499:\tlearn: 5.1792490\ttotal: 8.9s\tremaining: 8.9s\n",
      "500:\tlearn: 5.1761092\ttotal: 8.93s\tremaining: 8.89s\n",
      "501:\tlearn: 5.1736066\ttotal: 8.95s\tremaining: 8.88s\n",
      "502:\tlearn: 5.1698379\ttotal: 8.97s\tremaining: 8.86s\n",
      "503:\tlearn: 5.1647613\ttotal: 8.99s\tremaining: 8.85s\n",
      "504:\tlearn: 5.1612311\ttotal: 9.01s\tremaining: 8.83s\n",
      "505:\tlearn: 5.1574472\ttotal: 9.03s\tremaining: 8.81s\n",
      "506:\tlearn: 5.1545810\ttotal: 9.05s\tremaining: 8.8s\n",
      "507:\tlearn: 5.1516188\ttotal: 9.06s\tremaining: 8.78s\n",
      "508:\tlearn: 5.1471276\ttotal: 9.08s\tremaining: 8.76s\n",
      "509:\tlearn: 5.1440469\ttotal: 9.1s\tremaining: 8.74s\n",
      "510:\tlearn: 5.1412062\ttotal: 9.12s\tremaining: 8.72s\n",
      "511:\tlearn: 5.1383184\ttotal: 9.13s\tremaining: 8.71s\n",
      "512:\tlearn: 5.1353717\ttotal: 9.15s\tremaining: 8.69s\n",
      "513:\tlearn: 5.1333359\ttotal: 9.17s\tremaining: 8.67s\n",
      "514:\tlearn: 5.1296126\ttotal: 9.19s\tremaining: 8.65s\n",
      "515:\tlearn: 5.1239920\ttotal: 9.2s\tremaining: 8.63s\n",
      "516:\tlearn: 5.1189502\ttotal: 9.22s\tremaining: 8.61s\n",
      "517:\tlearn: 5.1173104\ttotal: 9.24s\tremaining: 8.59s\n",
      "518:\tlearn: 5.1133667\ttotal: 9.25s\tremaining: 8.58s\n",
      "519:\tlearn: 5.1106043\ttotal: 9.27s\tremaining: 8.56s\n",
      "520:\tlearn: 5.1076631\ttotal: 9.29s\tremaining: 8.54s\n",
      "521:\tlearn: 5.1050684\ttotal: 9.3s\tremaining: 8.52s\n",
      "522:\tlearn: 5.1020880\ttotal: 9.32s\tremaining: 8.5s\n",
      "523:\tlearn: 5.0999168\ttotal: 9.34s\tremaining: 8.48s\n",
      "524:\tlearn: 5.0969552\ttotal: 9.35s\tremaining: 8.46s\n",
      "525:\tlearn: 5.0941862\ttotal: 9.37s\tremaining: 8.44s\n",
      "526:\tlearn: 5.0908714\ttotal: 9.39s\tremaining: 8.43s\n",
      "527:\tlearn: 5.0883078\ttotal: 9.4s\tremaining: 8.41s\n",
      "528:\tlearn: 5.0858241\ttotal: 9.42s\tremaining: 8.39s\n",
      "529:\tlearn: 5.0826560\ttotal: 9.44s\tremaining: 8.37s\n",
      "530:\tlearn: 5.0794292\ttotal: 9.45s\tremaining: 8.35s\n",
      "531:\tlearn: 5.0759268\ttotal: 9.47s\tremaining: 8.33s\n",
      "532:\tlearn: 5.0747741\ttotal: 9.49s\tremaining: 8.31s\n",
      "533:\tlearn: 5.0722927\ttotal: 9.5s\tremaining: 8.29s\n",
      "534:\tlearn: 5.0703212\ttotal: 9.52s\tremaining: 8.27s\n",
      "535:\tlearn: 5.0683284\ttotal: 9.54s\tremaining: 8.26s\n",
      "536:\tlearn: 5.0649067\ttotal: 9.55s\tremaining: 8.24s\n",
      "537:\tlearn: 5.0587927\ttotal: 9.57s\tremaining: 8.22s\n",
      "538:\tlearn: 5.0561683\ttotal: 9.59s\tremaining: 8.2s\n",
      "539:\tlearn: 5.0535267\ttotal: 9.61s\tremaining: 8.18s\n",
      "540:\tlearn: 5.0512164\ttotal: 9.62s\tremaining: 8.16s\n",
      "541:\tlearn: 5.0471423\ttotal: 9.64s\tremaining: 8.14s\n",
      "542:\tlearn: 5.0446365\ttotal: 9.65s\tremaining: 8.13s\n",
      "543:\tlearn: 5.0426660\ttotal: 9.67s\tremaining: 8.11s\n",
      "544:\tlearn: 5.0409060\ttotal: 9.69s\tremaining: 8.09s\n",
      "545:\tlearn: 5.0384189\ttotal: 9.7s\tremaining: 8.07s\n",
      "546:\tlearn: 5.0356053\ttotal: 9.72s\tremaining: 8.05s\n",
      "547:\tlearn: 5.0336859\ttotal: 9.74s\tremaining: 8.03s\n",
      "548:\tlearn: 5.0301027\ttotal: 9.76s\tremaining: 8.02s\n",
      "549:\tlearn: 5.0269666\ttotal: 9.78s\tremaining: 8s\n",
      "550:\tlearn: 5.0254592\ttotal: 9.79s\tremaining: 7.98s\n",
      "551:\tlearn: 5.0222227\ttotal: 9.81s\tremaining: 7.96s\n",
      "552:\tlearn: 5.0207404\ttotal: 9.82s\tremaining: 7.94s\n",
      "553:\tlearn: 5.0185446\ttotal: 9.84s\tremaining: 7.92s\n",
      "554:\tlearn: 5.0160051\ttotal: 9.86s\tremaining: 7.9s\n",
      "555:\tlearn: 5.0142647\ttotal: 9.88s\tremaining: 7.88s\n",
      "556:\tlearn: 5.0115127\ttotal: 9.89s\tremaining: 7.87s\n",
      "557:\tlearn: 5.0091793\ttotal: 9.91s\tremaining: 7.85s\n",
      "558:\tlearn: 5.0079253\ttotal: 9.93s\tremaining: 7.83s\n",
      "559:\tlearn: 5.0048911\ttotal: 9.94s\tremaining: 7.81s\n",
      "560:\tlearn: 5.0024402\ttotal: 9.96s\tremaining: 7.79s\n",
      "561:\tlearn: 4.9997424\ttotal: 9.98s\tremaining: 7.78s\n",
      "562:\tlearn: 4.9978074\ttotal: 9.99s\tremaining: 7.76s\n",
      "563:\tlearn: 4.9944721\ttotal: 10s\tremaining: 7.74s\n",
      "564:\tlearn: 4.9937141\ttotal: 10s\tremaining: 7.72s\n",
      "565:\tlearn: 4.9917553\ttotal: 10s\tremaining: 7.71s\n",
      "566:\tlearn: 4.9888865\ttotal: 10.1s\tremaining: 7.7s\n",
      "567:\tlearn: 4.9854968\ttotal: 10.1s\tremaining: 7.68s\n",
      "568:\tlearn: 4.9824624\ttotal: 10.1s\tremaining: 7.67s\n",
      "569:\tlearn: 4.9799217\ttotal: 10.1s\tremaining: 7.65s\n",
      "570:\tlearn: 4.9774127\ttotal: 10.2s\tremaining: 7.63s\n",
      "571:\tlearn: 4.9738851\ttotal: 10.2s\tremaining: 7.62s\n",
      "572:\tlearn: 4.9701824\ttotal: 10.2s\tremaining: 7.6s\n",
      "573:\tlearn: 4.9691673\ttotal: 10.2s\tremaining: 7.58s\n",
      "574:\tlearn: 4.9668367\ttotal: 10.2s\tremaining: 7.56s\n",
      "575:\tlearn: 4.9644423\ttotal: 10.2s\tremaining: 7.54s\n",
      "576:\tlearn: 4.9615675\ttotal: 10.3s\tremaining: 7.52s\n",
      "577:\tlearn: 4.9599978\ttotal: 10.3s\tremaining: 7.5s\n",
      "578:\tlearn: 4.9575205\ttotal: 10.3s\tremaining: 7.49s\n",
      "579:\tlearn: 4.9552588\ttotal: 10.3s\tremaining: 7.47s\n",
      "580:\tlearn: 4.9517631\ttotal: 10.3s\tremaining: 7.45s\n",
      "581:\tlearn: 4.9486471\ttotal: 10.3s\tremaining: 7.43s\n",
      "582:\tlearn: 4.9464522\ttotal: 10.4s\tremaining: 7.41s\n",
      "583:\tlearn: 4.9442776\ttotal: 10.4s\tremaining: 7.39s\n",
      "584:\tlearn: 4.9406873\ttotal: 10.4s\tremaining: 7.38s\n",
      "585:\tlearn: 4.9388184\ttotal: 10.4s\tremaining: 7.36s\n",
      "586:\tlearn: 4.9341804\ttotal: 10.4s\tremaining: 7.34s\n",
      "587:\tlearn: 4.9312970\ttotal: 10.4s\tremaining: 7.32s\n",
      "588:\tlearn: 4.9287421\ttotal: 10.5s\tremaining: 7.3s\n",
      "589:\tlearn: 4.9260821\ttotal: 10.5s\tremaining: 7.28s\n",
      "590:\tlearn: 4.9227006\ttotal: 10.5s\tremaining: 7.27s\n",
      "591:\tlearn: 4.9211071\ttotal: 10.5s\tremaining: 7.25s\n",
      "592:\tlearn: 4.9199967\ttotal: 10.5s\tremaining: 7.23s\n",
      "593:\tlearn: 4.9180501\ttotal: 10.6s\tremaining: 7.21s\n",
      "594:\tlearn: 4.9168840\ttotal: 10.6s\tremaining: 7.19s\n",
      "595:\tlearn: 4.9138842\ttotal: 10.6s\tremaining: 7.17s\n",
      "596:\tlearn: 4.9100204\ttotal: 10.6s\tremaining: 7.16s\n",
      "597:\tlearn: 4.9090599\ttotal: 10.6s\tremaining: 7.14s\n",
      "598:\tlearn: 4.9072644\ttotal: 10.6s\tremaining: 7.12s\n",
      "599:\tlearn: 4.9059016\ttotal: 10.6s\tremaining: 7.1s\n",
      "600:\tlearn: 4.9043006\ttotal: 10.7s\tremaining: 7.08s\n",
      "601:\tlearn: 4.9024412\ttotal: 10.7s\tremaining: 7.06s\n",
      "602:\tlearn: 4.9002352\ttotal: 10.7s\tremaining: 7.04s\n",
      "603:\tlearn: 4.8977090\ttotal: 10.7s\tremaining: 7.03s\n",
      "604:\tlearn: 4.8958943\ttotal: 10.7s\tremaining: 7.01s\n",
      "605:\tlearn: 4.8927237\ttotal: 10.8s\tremaining: 6.99s\n",
      "606:\tlearn: 4.8889871\ttotal: 10.8s\tremaining: 6.97s\n",
      "607:\tlearn: 4.8858469\ttotal: 10.8s\tremaining: 6.95s\n",
      "608:\tlearn: 4.8826019\ttotal: 10.8s\tremaining: 6.94s\n",
      "609:\tlearn: 4.8800508\ttotal: 10.8s\tremaining: 6.92s\n",
      "610:\tlearn: 4.8781192\ttotal: 10.8s\tremaining: 6.9s\n",
      "611:\tlearn: 4.8770628\ttotal: 10.9s\tremaining: 6.88s\n",
      "612:\tlearn: 4.8745826\ttotal: 10.9s\tremaining: 6.86s\n",
      "613:\tlearn: 4.8730682\ttotal: 10.9s\tremaining: 6.84s\n",
      "614:\tlearn: 4.8714671\ttotal: 10.9s\tremaining: 6.82s\n",
      "615:\tlearn: 4.8701112\ttotal: 10.9s\tremaining: 6.81s\n",
      "616:\tlearn: 4.8677148\ttotal: 10.9s\tremaining: 6.79s\n",
      "617:\tlearn: 4.8646011\ttotal: 11s\tremaining: 6.77s\n",
      "618:\tlearn: 4.8631661\ttotal: 11s\tremaining: 6.75s\n",
      "619:\tlearn: 4.8617558\ttotal: 11s\tremaining: 6.73s\n",
      "620:\tlearn: 4.8599318\ttotal: 11s\tremaining: 6.71s\n",
      "621:\tlearn: 4.8573127\ttotal: 11s\tremaining: 6.7s\n",
      "622:\tlearn: 4.8546999\ttotal: 11s\tremaining: 6.68s\n",
      "623:\tlearn: 4.8518954\ttotal: 11.1s\tremaining: 6.66s\n",
      "624:\tlearn: 4.8482460\ttotal: 11.1s\tremaining: 6.64s\n",
      "625:\tlearn: 4.8454895\ttotal: 11.1s\tremaining: 6.63s\n",
      "626:\tlearn: 4.8416650\ttotal: 11.1s\tremaining: 6.61s\n",
      "627:\tlearn: 4.8404338\ttotal: 11.1s\tremaining: 6.59s\n",
      "628:\tlearn: 4.8383214\ttotal: 11.1s\tremaining: 6.57s\n",
      "629:\tlearn: 4.8354703\ttotal: 11.2s\tremaining: 6.55s\n",
      "630:\tlearn: 4.8340273\ttotal: 11.2s\tremaining: 6.53s\n",
      "631:\tlearn: 4.8301794\ttotal: 11.2s\tremaining: 6.51s\n",
      "632:\tlearn: 4.8276947\ttotal: 11.2s\tremaining: 6.5s\n",
      "633:\tlearn: 4.8253708\ttotal: 11.2s\tremaining: 6.48s\n",
      "634:\tlearn: 4.8224188\ttotal: 11.2s\tremaining: 6.46s\n",
      "635:\tlearn: 4.8204496\ttotal: 11.3s\tremaining: 6.44s\n",
      "636:\tlearn: 4.8174451\ttotal: 11.3s\tremaining: 6.42s\n",
      "637:\tlearn: 4.8156928\ttotal: 11.3s\tremaining: 6.4s\n",
      "638:\tlearn: 4.8118059\ttotal: 11.3s\tremaining: 6.38s\n",
      "639:\tlearn: 4.8097608\ttotal: 11.3s\tremaining: 6.37s\n",
      "640:\tlearn: 4.8058199\ttotal: 11.3s\tremaining: 6.35s\n",
      "641:\tlearn: 4.8020135\ttotal: 11.3s\tremaining: 6.33s\n",
      "642:\tlearn: 4.7997935\ttotal: 11.4s\tremaining: 6.31s\n",
      "643:\tlearn: 4.7973794\ttotal: 11.4s\tremaining: 6.29s\n",
      "644:\tlearn: 4.7950592\ttotal: 11.4s\tremaining: 6.27s\n",
      "645:\tlearn: 4.7928060\ttotal: 11.4s\tremaining: 6.25s\n",
      "646:\tlearn: 4.7910312\ttotal: 11.4s\tremaining: 6.24s\n",
      "647:\tlearn: 4.7867433\ttotal: 11.4s\tremaining: 6.22s\n",
      "648:\tlearn: 4.7846798\ttotal: 11.5s\tremaining: 6.2s\n",
      "649:\tlearn: 4.7816484\ttotal: 11.5s\tremaining: 6.18s\n",
      "650:\tlearn: 4.7787608\ttotal: 11.5s\tremaining: 6.16s\n",
      "651:\tlearn: 4.7761899\ttotal: 11.5s\tremaining: 6.15s\n",
      "652:\tlearn: 4.7733743\ttotal: 11.5s\tremaining: 6.13s\n",
      "653:\tlearn: 4.7699521\ttotal: 11.6s\tremaining: 6.11s\n",
      "654:\tlearn: 4.7671304\ttotal: 11.6s\tremaining: 6.09s\n",
      "655:\tlearn: 4.7635004\ttotal: 11.6s\tremaining: 6.07s\n",
      "656:\tlearn: 4.7600596\ttotal: 11.6s\tremaining: 6.06s\n",
      "657:\tlearn: 4.7579436\ttotal: 11.6s\tremaining: 6.04s\n",
      "658:\tlearn: 4.7555864\ttotal: 11.6s\tremaining: 6.02s\n",
      "659:\tlearn: 4.7541565\ttotal: 11.7s\tremaining: 6s\n",
      "660:\tlearn: 4.7513925\ttotal: 11.7s\tremaining: 5.99s\n",
      "661:\tlearn: 4.7478564\ttotal: 11.7s\tremaining: 5.97s\n",
      "662:\tlearn: 4.7448614\ttotal: 11.7s\tremaining: 5.95s\n",
      "663:\tlearn: 4.7412130\ttotal: 11.7s\tremaining: 5.93s\n",
      "664:\tlearn: 4.7390602\ttotal: 11.7s\tremaining: 5.92s\n",
      "665:\tlearn: 4.7378215\ttotal: 11.8s\tremaining: 5.9s\n",
      "666:\tlearn: 4.7359479\ttotal: 11.8s\tremaining: 5.88s\n",
      "667:\tlearn: 4.7339402\ttotal: 11.8s\tremaining: 5.86s\n",
      "668:\tlearn: 4.7314484\ttotal: 11.8s\tremaining: 5.84s\n",
      "669:\tlearn: 4.7282864\ttotal: 11.8s\tremaining: 5.83s\n",
      "670:\tlearn: 4.7257976\ttotal: 11.8s\tremaining: 5.81s\n",
      "671:\tlearn: 4.7233890\ttotal: 11.9s\tremaining: 5.79s\n",
      "672:\tlearn: 4.7201697\ttotal: 11.9s\tremaining: 5.77s\n",
      "673:\tlearn: 4.7170415\ttotal: 11.9s\tremaining: 5.76s\n",
      "674:\tlearn: 4.7144371\ttotal: 11.9s\tremaining: 5.74s\n",
      "675:\tlearn: 4.7123471\ttotal: 11.9s\tremaining: 5.72s\n",
      "676:\tlearn: 4.7099000\ttotal: 12s\tremaining: 5.7s\n",
      "677:\tlearn: 4.7071144\ttotal: 12s\tremaining: 5.69s\n",
      "678:\tlearn: 4.7047937\ttotal: 12s\tremaining: 5.67s\n",
      "679:\tlearn: 4.7028758\ttotal: 12s\tremaining: 5.65s\n",
      "680:\tlearn: 4.6991603\ttotal: 12s\tremaining: 5.63s\n",
      "681:\tlearn: 4.6971638\ttotal: 12s\tremaining: 5.61s\n",
      "682:\tlearn: 4.6948667\ttotal: 12.1s\tremaining: 5.6s\n",
      "683:\tlearn: 4.6923619\ttotal: 12.1s\tremaining: 5.58s\n",
      "684:\tlearn: 4.6902142\ttotal: 12.1s\tremaining: 5.56s\n",
      "685:\tlearn: 4.6886517\ttotal: 12.1s\tremaining: 5.54s\n",
      "686:\tlearn: 4.6864038\ttotal: 12.1s\tremaining: 5.53s\n",
      "687:\tlearn: 4.6842048\ttotal: 12.1s\tremaining: 5.51s\n",
      "688:\tlearn: 4.6828423\ttotal: 12.2s\tremaining: 5.49s\n",
      "689:\tlearn: 4.6815093\ttotal: 12.2s\tremaining: 5.47s\n",
      "690:\tlearn: 4.6800335\ttotal: 12.2s\tremaining: 5.45s\n",
      "691:\tlearn: 4.6781601\ttotal: 12.2s\tremaining: 5.43s\n",
      "692:\tlearn: 4.6745285\ttotal: 12.2s\tremaining: 5.42s\n",
      "693:\tlearn: 4.6708459\ttotal: 12.2s\tremaining: 5.4s\n",
      "694:\tlearn: 4.6699711\ttotal: 12.3s\tremaining: 5.38s\n",
      "695:\tlearn: 4.6672257\ttotal: 12.3s\tremaining: 5.36s\n",
      "696:\tlearn: 4.6639932\ttotal: 12.3s\tremaining: 5.34s\n",
      "697:\tlearn: 4.6615906\ttotal: 12.3s\tremaining: 5.33s\n",
      "698:\tlearn: 4.6583372\ttotal: 12.3s\tremaining: 5.31s\n",
      "699:\tlearn: 4.6555548\ttotal: 12.3s\tremaining: 5.29s\n",
      "700:\tlearn: 4.6537749\ttotal: 12.4s\tremaining: 5.27s\n",
      "701:\tlearn: 4.6520511\ttotal: 12.4s\tremaining: 5.25s\n",
      "702:\tlearn: 4.6508067\ttotal: 12.4s\tremaining: 5.24s\n",
      "703:\tlearn: 4.6493248\ttotal: 12.4s\tremaining: 5.22s\n",
      "704:\tlearn: 4.6469859\ttotal: 12.4s\tremaining: 5.2s\n",
      "705:\tlearn: 4.6445918\ttotal: 12.4s\tremaining: 5.18s\n",
      "706:\tlearn: 4.6424786\ttotal: 12.5s\tremaining: 5.16s\n",
      "707:\tlearn: 4.6404906\ttotal: 12.5s\tremaining: 5.14s\n",
      "708:\tlearn: 4.6385650\ttotal: 12.5s\tremaining: 5.13s\n",
      "709:\tlearn: 4.6359516\ttotal: 12.5s\tremaining: 5.11s\n",
      "710:\tlearn: 4.6340200\ttotal: 12.5s\tremaining: 5.09s\n",
      "711:\tlearn: 4.6324227\ttotal: 12.5s\tremaining: 5.08s\n",
      "712:\tlearn: 4.6309165\ttotal: 12.6s\tremaining: 5.06s\n",
      "713:\tlearn: 4.6288055\ttotal: 12.6s\tremaining: 5.04s\n",
      "714:\tlearn: 4.6269373\ttotal: 12.6s\tremaining: 5.02s\n",
      "715:\tlearn: 4.6245142\ttotal: 12.6s\tremaining: 5s\n",
      "716:\tlearn: 4.6229475\ttotal: 12.6s\tremaining: 4.99s\n",
      "717:\tlearn: 4.6187626\ttotal: 12.6s\tremaining: 4.97s\n",
      "718:\tlearn: 4.6166297\ttotal: 12.7s\tremaining: 4.95s\n",
      "719:\tlearn: 4.6153480\ttotal: 12.7s\tremaining: 4.93s\n",
      "720:\tlearn: 4.6139233\ttotal: 12.7s\tremaining: 4.91s\n",
      "721:\tlearn: 4.6114036\ttotal: 12.7s\tremaining: 4.89s\n",
      "722:\tlearn: 4.6097440\ttotal: 12.7s\tremaining: 4.88s\n",
      "723:\tlearn: 4.6074986\ttotal: 12.7s\tremaining: 4.86s\n",
      "724:\tlearn: 4.6065930\ttotal: 12.8s\tremaining: 4.84s\n",
      "725:\tlearn: 4.6043033\ttotal: 12.8s\tremaining: 4.83s\n",
      "726:\tlearn: 4.6028545\ttotal: 12.8s\tremaining: 4.81s\n",
      "727:\tlearn: 4.5990399\ttotal: 12.8s\tremaining: 4.79s\n",
      "728:\tlearn: 4.5974721\ttotal: 12.8s\tremaining: 4.77s\n",
      "729:\tlearn: 4.5950726\ttotal: 12.9s\tremaining: 4.75s\n",
      "730:\tlearn: 4.5918549\ttotal: 12.9s\tremaining: 4.74s\n",
      "731:\tlearn: 4.5907392\ttotal: 12.9s\tremaining: 4.72s\n",
      "732:\tlearn: 4.5889143\ttotal: 12.9s\tremaining: 4.7s\n",
      "733:\tlearn: 4.5879810\ttotal: 12.9s\tremaining: 4.68s\n",
      "734:\tlearn: 4.5858048\ttotal: 12.9s\tremaining: 4.66s\n",
      "735:\tlearn: 4.5831791\ttotal: 13s\tremaining: 4.65s\n",
      "736:\tlearn: 4.5813292\ttotal: 13s\tremaining: 4.63s\n",
      "737:\tlearn: 4.5791361\ttotal: 13s\tremaining: 4.61s\n",
      "738:\tlearn: 4.5745157\ttotal: 13s\tremaining: 4.59s\n",
      "739:\tlearn: 4.5717682\ttotal: 13s\tremaining: 4.57s\n",
      "740:\tlearn: 4.5683758\ttotal: 13s\tremaining: 4.56s\n",
      "741:\tlearn: 4.5661748\ttotal: 13.1s\tremaining: 4.54s\n",
      "742:\tlearn: 4.5644502\ttotal: 13.1s\tremaining: 4.52s\n",
      "743:\tlearn: 4.5623462\ttotal: 13.1s\tremaining: 4.5s\n",
      "744:\tlearn: 4.5607739\ttotal: 13.1s\tremaining: 4.49s\n",
      "745:\tlearn: 4.5589962\ttotal: 13.1s\tremaining: 4.47s\n",
      "746:\tlearn: 4.5565766\ttotal: 13.1s\tremaining: 4.45s\n",
      "747:\tlearn: 4.5541902\ttotal: 13.2s\tremaining: 4.43s\n",
      "748:\tlearn: 4.5526636\ttotal: 13.2s\tremaining: 4.41s\n",
      "749:\tlearn: 4.5490939\ttotal: 13.2s\tremaining: 4.4s\n",
      "750:\tlearn: 4.5462176\ttotal: 13.2s\tremaining: 4.38s\n",
      "751:\tlearn: 4.5442619\ttotal: 13.2s\tremaining: 4.36s\n",
      "752:\tlearn: 4.5429400\ttotal: 13.2s\tremaining: 4.34s\n",
      "753:\tlearn: 4.5399597\ttotal: 13.3s\tremaining: 4.32s\n",
      "754:\tlearn: 4.5368007\ttotal: 13.3s\tremaining: 4.31s\n",
      "755:\tlearn: 4.5360866\ttotal: 13.3s\tremaining: 4.29s\n",
      "756:\tlearn: 4.5338561\ttotal: 13.3s\tremaining: 4.27s\n",
      "757:\tlearn: 4.5313437\ttotal: 13.3s\tremaining: 4.25s\n",
      "758:\tlearn: 4.5272502\ttotal: 13.3s\tremaining: 4.23s\n",
      "759:\tlearn: 4.5242464\ttotal: 13.3s\tremaining: 4.21s\n",
      "760:\tlearn: 4.5226281\ttotal: 13.4s\tremaining: 4.2s\n",
      "761:\tlearn: 4.5211055\ttotal: 13.4s\tremaining: 4.18s\n",
      "762:\tlearn: 4.5186894\ttotal: 13.4s\tremaining: 4.16s\n",
      "763:\tlearn: 4.5174631\ttotal: 13.4s\tremaining: 4.14s\n",
      "764:\tlearn: 4.5154807\ttotal: 13.4s\tremaining: 4.13s\n",
      "765:\tlearn: 4.5137441\ttotal: 13.4s\tremaining: 4.11s\n",
      "766:\tlearn: 4.5114531\ttotal: 13.5s\tremaining: 4.09s\n",
      "767:\tlearn: 4.5082725\ttotal: 13.5s\tremaining: 4.07s\n",
      "768:\tlearn: 4.5054498\ttotal: 13.5s\tremaining: 4.05s\n",
      "769:\tlearn: 4.5038917\ttotal: 13.5s\tremaining: 4.04s\n",
      "770:\tlearn: 4.5027010\ttotal: 13.5s\tremaining: 4.02s\n",
      "771:\tlearn: 4.5008116\ttotal: 13.6s\tremaining: 4s\n",
      "772:\tlearn: 4.4984163\ttotal: 13.6s\tremaining: 3.99s\n",
      "773:\tlearn: 4.4963811\ttotal: 13.6s\tremaining: 3.97s\n",
      "774:\tlearn: 4.4942758\ttotal: 13.6s\tremaining: 3.95s\n",
      "775:\tlearn: 4.4919615\ttotal: 13.6s\tremaining: 3.93s\n",
      "776:\tlearn: 4.4887284\ttotal: 13.6s\tremaining: 3.92s\n",
      "777:\tlearn: 4.4873848\ttotal: 13.7s\tremaining: 3.9s\n",
      "778:\tlearn: 4.4861955\ttotal: 13.7s\tremaining: 3.88s\n",
      "779:\tlearn: 4.4850925\ttotal: 13.7s\tremaining: 3.86s\n",
      "780:\tlearn: 4.4837955\ttotal: 13.7s\tremaining: 3.84s\n",
      "781:\tlearn: 4.4805186\ttotal: 13.7s\tremaining: 3.83s\n",
      "782:\tlearn: 4.4790506\ttotal: 13.7s\tremaining: 3.81s\n",
      "783:\tlearn: 4.4764587\ttotal: 13.8s\tremaining: 3.79s\n",
      "784:\tlearn: 4.4750648\ttotal: 13.8s\tremaining: 3.77s\n",
      "785:\tlearn: 4.4728576\ttotal: 13.8s\tremaining: 3.76s\n",
      "786:\tlearn: 4.4706598\ttotal: 13.8s\tremaining: 3.74s\n",
      "787:\tlearn: 4.4693980\ttotal: 13.8s\tremaining: 3.72s\n",
      "788:\tlearn: 4.4666564\ttotal: 13.8s\tremaining: 3.7s\n",
      "789:\tlearn: 4.4656586\ttotal: 13.9s\tremaining: 3.68s\n",
      "790:\tlearn: 4.4632860\ttotal: 13.9s\tremaining: 3.67s\n",
      "791:\tlearn: 4.4615127\ttotal: 13.9s\tremaining: 3.65s\n",
      "792:\tlearn: 4.4586618\ttotal: 13.9s\tremaining: 3.63s\n",
      "793:\tlearn: 4.4567656\ttotal: 13.9s\tremaining: 3.61s\n",
      "794:\tlearn: 4.4560688\ttotal: 13.9s\tremaining: 3.6s\n",
      "795:\tlearn: 4.4532568\ttotal: 14s\tremaining: 3.58s\n",
      "796:\tlearn: 4.4523797\ttotal: 14s\tremaining: 3.56s\n",
      "797:\tlearn: 4.4502883\ttotal: 14s\tremaining: 3.54s\n",
      "798:\tlearn: 4.4480162\ttotal: 14s\tremaining: 3.52s\n",
      "799:\tlearn: 4.4459916\ttotal: 14s\tremaining: 3.51s\n",
      "800:\tlearn: 4.4440154\ttotal: 14s\tremaining: 3.49s\n",
      "801:\tlearn: 4.4422945\ttotal: 14.1s\tremaining: 3.47s\n",
      "802:\tlearn: 4.4405752\ttotal: 14.1s\tremaining: 3.45s\n",
      "803:\tlearn: 4.4385865\ttotal: 14.1s\tremaining: 3.43s\n",
      "804:\tlearn: 4.4366382\ttotal: 14.1s\tremaining: 3.42s\n",
      "805:\tlearn: 4.4353311\ttotal: 14.1s\tremaining: 3.4s\n",
      "806:\tlearn: 4.4334776\ttotal: 14.1s\tremaining: 3.38s\n",
      "807:\tlearn: 4.4304971\ttotal: 14.2s\tremaining: 3.36s\n",
      "808:\tlearn: 4.4294996\ttotal: 14.2s\tremaining: 3.34s\n",
      "809:\tlearn: 4.4270468\ttotal: 14.2s\tremaining: 3.33s\n",
      "810:\tlearn: 4.4250145\ttotal: 14.2s\tremaining: 3.31s\n",
      "811:\tlearn: 4.4215458\ttotal: 14.2s\tremaining: 3.29s\n",
      "812:\tlearn: 4.4196387\ttotal: 14.2s\tremaining: 3.27s\n",
      "813:\tlearn: 4.4180802\ttotal: 14.3s\tremaining: 3.26s\n",
      "814:\tlearn: 4.4141015\ttotal: 14.3s\tremaining: 3.24s\n",
      "815:\tlearn: 4.4122051\ttotal: 14.3s\tremaining: 3.22s\n",
      "816:\tlearn: 4.4105256\ttotal: 14.3s\tremaining: 3.2s\n",
      "817:\tlearn: 4.4070249\ttotal: 14.3s\tremaining: 3.18s\n",
      "818:\tlearn: 4.4050357\ttotal: 14.3s\tremaining: 3.17s\n",
      "819:\tlearn: 4.4031585\ttotal: 14.3s\tremaining: 3.15s\n",
      "820:\tlearn: 4.4016614\ttotal: 14.4s\tremaining: 3.13s\n",
      "821:\tlearn: 4.4002680\ttotal: 14.4s\tremaining: 3.11s\n",
      "822:\tlearn: 4.3987228\ttotal: 14.4s\tremaining: 3.1s\n",
      "823:\tlearn: 4.3966923\ttotal: 14.4s\tremaining: 3.08s\n",
      "824:\tlearn: 4.3945165\ttotal: 14.4s\tremaining: 3.06s\n",
      "825:\tlearn: 4.3921559\ttotal: 14.4s\tremaining: 3.04s\n",
      "826:\tlearn: 4.3893015\ttotal: 14.5s\tremaining: 3.02s\n",
      "827:\tlearn: 4.3875909\ttotal: 14.5s\tremaining: 3.01s\n",
      "828:\tlearn: 4.3857430\ttotal: 14.5s\tremaining: 2.99s\n",
      "829:\tlearn: 4.3847421\ttotal: 14.5s\tremaining: 2.97s\n",
      "830:\tlearn: 4.3830173\ttotal: 14.5s\tremaining: 2.96s\n",
      "831:\tlearn: 4.3817114\ttotal: 14.5s\tremaining: 2.94s\n",
      "832:\tlearn: 4.3801486\ttotal: 14.6s\tremaining: 2.92s\n",
      "833:\tlearn: 4.3783593\ttotal: 14.6s\tremaining: 2.9s\n",
      "834:\tlearn: 4.3770813\ttotal: 14.6s\tremaining: 2.88s\n",
      "835:\tlearn: 4.3741576\ttotal: 14.6s\tremaining: 2.87s\n",
      "836:\tlearn: 4.3719352\ttotal: 14.6s\tremaining: 2.85s\n",
      "837:\tlearn: 4.3700659\ttotal: 14.7s\tremaining: 2.83s\n",
      "838:\tlearn: 4.3678810\ttotal: 14.7s\tremaining: 2.81s\n",
      "839:\tlearn: 4.3656561\ttotal: 14.7s\tremaining: 2.8s\n",
      "840:\tlearn: 4.3635113\ttotal: 14.7s\tremaining: 2.78s\n",
      "841:\tlearn: 4.3625039\ttotal: 14.7s\tremaining: 2.76s\n",
      "842:\tlearn: 4.3608404\ttotal: 14.7s\tremaining: 2.75s\n",
      "843:\tlearn: 4.3601608\ttotal: 14.8s\tremaining: 2.73s\n",
      "844:\tlearn: 4.3584840\ttotal: 14.8s\tremaining: 2.71s\n",
      "845:\tlearn: 4.3575443\ttotal: 14.8s\tremaining: 2.69s\n",
      "846:\tlearn: 4.3547984\ttotal: 14.8s\tremaining: 2.67s\n",
      "847:\tlearn: 4.3540296\ttotal: 14.8s\tremaining: 2.66s\n",
      "848:\tlearn: 4.3524826\ttotal: 14.8s\tremaining: 2.64s\n",
      "849:\tlearn: 4.3503306\ttotal: 14.9s\tremaining: 2.62s\n",
      "850:\tlearn: 4.3491471\ttotal: 14.9s\tremaining: 2.6s\n",
      "851:\tlearn: 4.3474111\ttotal: 14.9s\tremaining: 2.59s\n",
      "852:\tlearn: 4.3457988\ttotal: 14.9s\tremaining: 2.57s\n",
      "853:\tlearn: 4.3444606\ttotal: 14.9s\tremaining: 2.55s\n",
      "854:\tlearn: 4.3424937\ttotal: 14.9s\tremaining: 2.53s\n",
      "855:\tlearn: 4.3403937\ttotal: 15s\tremaining: 2.52s\n",
      "856:\tlearn: 4.3383615\ttotal: 15s\tremaining: 2.5s\n",
      "857:\tlearn: 4.3362284\ttotal: 15s\tremaining: 2.48s\n",
      "858:\tlearn: 4.3341489\ttotal: 15s\tremaining: 2.46s\n",
      "859:\tlearn: 4.3313458\ttotal: 15s\tremaining: 2.45s\n",
      "860:\tlearn: 4.3302805\ttotal: 15s\tremaining: 2.43s\n",
      "861:\tlearn: 4.3283274\ttotal: 15.1s\tremaining: 2.41s\n",
      "862:\tlearn: 4.3255724\ttotal: 15.1s\tremaining: 2.39s\n",
      "863:\tlearn: 4.3247414\ttotal: 15.1s\tremaining: 2.38s\n",
      "864:\tlearn: 4.3236795\ttotal: 15.1s\tremaining: 2.36s\n",
      "865:\tlearn: 4.3225978\ttotal: 15.1s\tremaining: 2.34s\n",
      "866:\tlearn: 4.3204522\ttotal: 15.1s\tremaining: 2.32s\n",
      "867:\tlearn: 4.3194833\ttotal: 15.2s\tremaining: 2.3s\n",
      "868:\tlearn: 4.3181112\ttotal: 15.2s\tremaining: 2.29s\n",
      "869:\tlearn: 4.3143301\ttotal: 15.2s\tremaining: 2.27s\n",
      "870:\tlearn: 4.3134785\ttotal: 15.2s\tremaining: 2.25s\n",
      "871:\tlearn: 4.3119622\ttotal: 15.2s\tremaining: 2.23s\n",
      "872:\tlearn: 4.3100099\ttotal: 15.2s\tremaining: 2.22s\n",
      "873:\tlearn: 4.3086736\ttotal: 15.3s\tremaining: 2.2s\n",
      "874:\tlearn: 4.3073069\ttotal: 15.3s\tremaining: 2.18s\n",
      "875:\tlearn: 4.3046617\ttotal: 15.3s\tremaining: 2.16s\n",
      "876:\tlearn: 4.3032043\ttotal: 15.3s\tremaining: 2.15s\n",
      "877:\tlearn: 4.3001374\ttotal: 15.3s\tremaining: 2.13s\n",
      "878:\tlearn: 4.2979447\ttotal: 15.3s\tremaining: 2.11s\n",
      "879:\tlearn: 4.2951987\ttotal: 15.4s\tremaining: 2.09s\n",
      "880:\tlearn: 4.2936781\ttotal: 15.4s\tremaining: 2.08s\n",
      "881:\tlearn: 4.2919762\ttotal: 15.4s\tremaining: 2.06s\n",
      "882:\tlearn: 4.2902272\ttotal: 15.4s\tremaining: 2.04s\n",
      "883:\tlearn: 4.2878731\ttotal: 15.4s\tremaining: 2.02s\n",
      "884:\tlearn: 4.2852778\ttotal: 15.4s\tremaining: 2.01s\n",
      "885:\tlearn: 4.2837982\ttotal: 15.5s\tremaining: 1.99s\n",
      "886:\tlearn: 4.2822465\ttotal: 15.5s\tremaining: 1.97s\n",
      "887:\tlearn: 4.2816596\ttotal: 15.5s\tremaining: 1.95s\n",
      "888:\tlearn: 4.2804381\ttotal: 15.5s\tremaining: 1.94s\n",
      "889:\tlearn: 4.2788795\ttotal: 15.5s\tremaining: 1.92s\n",
      "890:\tlearn: 4.2771183\ttotal: 15.6s\tremaining: 1.9s\n",
      "891:\tlearn: 4.2757048\ttotal: 15.6s\tremaining: 1.89s\n",
      "892:\tlearn: 4.2738468\ttotal: 15.6s\tremaining: 1.87s\n",
      "893:\tlearn: 4.2717191\ttotal: 15.6s\tremaining: 1.85s\n",
      "894:\tlearn: 4.2692049\ttotal: 15.6s\tremaining: 1.83s\n",
      "895:\tlearn: 4.2677073\ttotal: 15.7s\tremaining: 1.82s\n",
      "896:\tlearn: 4.2658447\ttotal: 15.7s\tremaining: 1.8s\n",
      "897:\tlearn: 4.2638453\ttotal: 15.7s\tremaining: 1.78s\n",
      "898:\tlearn: 4.2623523\ttotal: 15.7s\tremaining: 1.77s\n",
      "899:\tlearn: 4.2607279\ttotal: 15.8s\tremaining: 1.75s\n",
      "900:\tlearn: 4.2577270\ttotal: 15.8s\tremaining: 1.73s\n",
      "901:\tlearn: 4.2556222\ttotal: 15.8s\tremaining: 1.72s\n",
      "902:\tlearn: 4.2533139\ttotal: 15.8s\tremaining: 1.7s\n",
      "903:\tlearn: 4.2507243\ttotal: 15.8s\tremaining: 1.68s\n",
      "904:\tlearn: 4.2487566\ttotal: 15.9s\tremaining: 1.67s\n",
      "905:\tlearn: 4.2463728\ttotal: 15.9s\tremaining: 1.65s\n",
      "906:\tlearn: 4.2447867\ttotal: 15.9s\tremaining: 1.63s\n",
      "907:\tlearn: 4.2441662\ttotal: 15.9s\tremaining: 1.61s\n",
      "908:\tlearn: 4.2429991\ttotal: 15.9s\tremaining: 1.59s\n",
      "909:\tlearn: 4.2403023\ttotal: 15.9s\tremaining: 1.58s\n",
      "910:\tlearn: 4.2391088\ttotal: 16s\tremaining: 1.56s\n",
      "911:\tlearn: 4.2377236\ttotal: 16s\tremaining: 1.54s\n",
      "912:\tlearn: 4.2361401\ttotal: 16s\tremaining: 1.52s\n",
      "913:\tlearn: 4.2344820\ttotal: 16s\tremaining: 1.51s\n",
      "914:\tlearn: 4.2324441\ttotal: 16s\tremaining: 1.49s\n",
      "915:\tlearn: 4.2306289\ttotal: 16s\tremaining: 1.47s\n",
      "916:\tlearn: 4.2288080\ttotal: 16.1s\tremaining: 1.45s\n",
      "917:\tlearn: 4.2267281\ttotal: 16.1s\tremaining: 1.44s\n",
      "918:\tlearn: 4.2247819\ttotal: 16.1s\tremaining: 1.42s\n",
      "919:\tlearn: 4.2230816\ttotal: 16.1s\tremaining: 1.4s\n",
      "920:\tlearn: 4.2215362\ttotal: 16.1s\tremaining: 1.38s\n",
      "921:\tlearn: 4.2201025\ttotal: 16.1s\tremaining: 1.36s\n",
      "922:\tlearn: 4.2181717\ttotal: 16.2s\tremaining: 1.35s\n",
      "923:\tlearn: 4.2166048\ttotal: 16.2s\tremaining: 1.33s\n",
      "924:\tlearn: 4.2142686\ttotal: 16.2s\tremaining: 1.31s\n",
      "925:\tlearn: 4.2122989\ttotal: 16.2s\tremaining: 1.3s\n",
      "926:\tlearn: 4.2102192\ttotal: 16.2s\tremaining: 1.28s\n",
      "927:\tlearn: 4.2085517\ttotal: 16.3s\tremaining: 1.26s\n",
      "928:\tlearn: 4.2065964\ttotal: 16.3s\tremaining: 1.24s\n",
      "929:\tlearn: 4.2053317\ttotal: 16.3s\tremaining: 1.23s\n",
      "930:\tlearn: 4.2041194\ttotal: 16.3s\tremaining: 1.21s\n",
      "931:\tlearn: 4.2021748\ttotal: 16.3s\tremaining: 1.19s\n",
      "932:\tlearn: 4.2007002\ttotal: 16.4s\tremaining: 1.17s\n",
      "933:\tlearn: 4.1987027\ttotal: 16.4s\tremaining: 1.16s\n",
      "934:\tlearn: 4.1966257\ttotal: 16.4s\tremaining: 1.14s\n",
      "935:\tlearn: 4.1952284\ttotal: 16.4s\tremaining: 1.12s\n",
      "936:\tlearn: 4.1932709\ttotal: 16.4s\tremaining: 1.1s\n",
      "937:\tlearn: 4.1907154\ttotal: 16.4s\tremaining: 1.09s\n",
      "938:\tlearn: 4.1890048\ttotal: 16.5s\tremaining: 1.07s\n",
      "939:\tlearn: 4.1865946\ttotal: 16.5s\tremaining: 1.05s\n",
      "940:\tlearn: 4.1840266\ttotal: 16.5s\tremaining: 1.03s\n",
      "941:\tlearn: 4.1816661\ttotal: 16.5s\tremaining: 1.02s\n",
      "942:\tlearn: 4.1798228\ttotal: 16.5s\tremaining: 999ms\n",
      "943:\tlearn: 4.1785723\ttotal: 16.5s\tremaining: 982ms\n",
      "944:\tlearn: 4.1776176\ttotal: 16.6s\tremaining: 964ms\n",
      "945:\tlearn: 4.1758052\ttotal: 16.6s\tremaining: 946ms\n",
      "946:\tlearn: 4.1738198\ttotal: 16.6s\tremaining: 929ms\n",
      "947:\tlearn: 4.1723122\ttotal: 16.6s\tremaining: 911ms\n",
      "948:\tlearn: 4.1711451\ttotal: 16.6s\tremaining: 893ms\n",
      "949:\tlearn: 4.1702483\ttotal: 16.6s\tremaining: 876ms\n",
      "950:\tlearn: 4.1682610\ttotal: 16.7s\tremaining: 858ms\n",
      "951:\tlearn: 4.1667888\ttotal: 16.7s\tremaining: 841ms\n",
      "952:\tlearn: 4.1652415\ttotal: 16.7s\tremaining: 823ms\n",
      "953:\tlearn: 4.1629268\ttotal: 16.7s\tremaining: 806ms\n",
      "954:\tlearn: 4.1608647\ttotal: 16.7s\tremaining: 788ms\n",
      "955:\tlearn: 4.1582584\ttotal: 16.7s\tremaining: 770ms\n",
      "956:\tlearn: 4.1576089\ttotal: 16.8s\tremaining: 753ms\n",
      "957:\tlearn: 4.1549386\ttotal: 16.8s\tremaining: 735ms\n",
      "958:\tlearn: 4.1539032\ttotal: 16.8s\tremaining: 718ms\n",
      "959:\tlearn: 4.1518237\ttotal: 16.8s\tremaining: 700ms\n",
      "960:\tlearn: 4.1505309\ttotal: 16.8s\tremaining: 683ms\n",
      "961:\tlearn: 4.1496574\ttotal: 16.8s\tremaining: 665ms\n",
      "962:\tlearn: 4.1477400\ttotal: 16.9s\tremaining: 648ms\n",
      "963:\tlearn: 4.1466868\ttotal: 16.9s\tremaining: 630ms\n",
      "964:\tlearn: 4.1456107\ttotal: 16.9s\tremaining: 613ms\n",
      "965:\tlearn: 4.1444392\ttotal: 16.9s\tremaining: 595ms\n",
      "966:\tlearn: 4.1427648\ttotal: 16.9s\tremaining: 577ms\n",
      "967:\tlearn: 4.1413003\ttotal: 16.9s\tremaining: 560ms\n",
      "968:\tlearn: 4.1391476\ttotal: 17s\tremaining: 542ms\n",
      "969:\tlearn: 4.1380130\ttotal: 17s\tremaining: 525ms\n",
      "970:\tlearn: 4.1359665\ttotal: 17s\tremaining: 507ms\n",
      "971:\tlearn: 4.1350948\ttotal: 17s\tremaining: 490ms\n",
      "972:\tlearn: 4.1338109\ttotal: 17s\tremaining: 472ms\n",
      "973:\tlearn: 4.1327650\ttotal: 17s\tremaining: 455ms\n",
      "974:\tlearn: 4.1312648\ttotal: 17.1s\tremaining: 437ms\n",
      "975:\tlearn: 4.1299124\ttotal: 17.1s\tremaining: 420ms\n",
      "976:\tlearn: 4.1283762\ttotal: 17.1s\tremaining: 402ms\n",
      "977:\tlearn: 4.1277502\ttotal: 17.1s\tremaining: 385ms\n",
      "978:\tlearn: 4.1262595\ttotal: 17.1s\tremaining: 367ms\n",
      "979:\tlearn: 4.1244851\ttotal: 17.1s\tremaining: 350ms\n",
      "980:\tlearn: 4.1222648\ttotal: 17.2s\tremaining: 332ms\n",
      "981:\tlearn: 4.1209901\ttotal: 17.2s\tremaining: 315ms\n",
      "982:\tlearn: 4.1200495\ttotal: 17.2s\tremaining: 297ms\n",
      "983:\tlearn: 4.1184696\ttotal: 17.2s\tremaining: 280ms\n",
      "984:\tlearn: 4.1158775\ttotal: 17.2s\tremaining: 262ms\n",
      "985:\tlearn: 4.1145722\ttotal: 17.2s\tremaining: 245ms\n",
      "986:\tlearn: 4.1132416\ttotal: 17.3s\tremaining: 227ms\n",
      "987:\tlearn: 4.1115493\ttotal: 17.3s\tremaining: 210ms\n",
      "988:\tlearn: 4.1093865\ttotal: 17.3s\tremaining: 192ms\n",
      "989:\tlearn: 4.1078714\ttotal: 17.3s\tremaining: 175ms\n",
      "990:\tlearn: 4.1061424\ttotal: 17.3s\tremaining: 157ms\n",
      "991:\tlearn: 4.1052365\ttotal: 17.3s\tremaining: 140ms\n",
      "992:\tlearn: 4.1036245\ttotal: 17.4s\tremaining: 122ms\n",
      "993:\tlearn: 4.1019855\ttotal: 17.4s\tremaining: 105ms\n",
      "994:\tlearn: 4.1005699\ttotal: 17.4s\tremaining: 87.4ms\n",
      "995:\tlearn: 4.0991304\ttotal: 17.4s\tremaining: 69.9ms\n",
      "996:\tlearn: 4.0970688\ttotal: 17.4s\tremaining: 52.4ms\n",
      "997:\tlearn: 4.0959622\ttotal: 17.4s\tremaining: 35ms\n",
      "998:\tlearn: 4.0942292\ttotal: 17.5s\tremaining: 17.5ms\n",
      "999:\tlearn: 4.0926307\ttotal: 17.5s\tremaining: 0us\n"
     ]
    },
    {
     "data": {
      "text/plain": [
       "<catboost.core.CatBoostRegressor at 0x7f9936f75490>"
      ]
     },
     "execution_count": 74,
     "metadata": {},
     "output_type": "execute_result"
    }
   ],
   "source": [
    "# Обучаем модели\n",
    "cat_rougher.fit(X_train_rougher, y_train_rougher)\n",
    "cat_final.fit(X_train_final, y_train_final)"
   ]
  },
  {
   "cell_type": "code",
   "execution_count": 80,
   "metadata": {},
   "outputs": [
    {
     "data": {
      "text/plain": [
       "{'nan_mode': 'Min',\n",
       " 'eval_metric': 'RMSE',\n",
       " 'iterations': 1000,\n",
       " 'sampling_frequency': 'PerTree',\n",
       " 'leaf_estimation_method': 'Newton',\n",
       " 'grow_policy': 'SymmetricTree',\n",
       " 'penalties_coefficient': 1,\n",
       " 'boosting_type': 'Plain',\n",
       " 'model_shrink_mode': 'Constant',\n",
       " 'feature_border_type': 'GreedyLogSum',\n",
       " 'bayesian_matrix_reg': 0.10000000149011612,\n",
       " 'force_unit_auto_pair_weights': False,\n",
       " 'l2_leaf_reg': 3,\n",
       " 'random_strength': 1,\n",
       " 'rsm': 1,\n",
       " 'boost_from_average': True,\n",
       " 'model_size_reg': 0.5,\n",
       " 'pool_metainfo_options': {'tags': {}},\n",
       " 'subsample': 0.800000011920929,\n",
       " 'use_best_model': False,\n",
       " 'random_seed': 0,\n",
       " 'depth': 6,\n",
       " 'posterior_sampling': False,\n",
       " 'border_count': 254,\n",
       " 'classes_count': 0,\n",
       " 'auto_class_weights': 'None',\n",
       " 'sparse_features_conflict_fraction': 0,\n",
       " 'leaf_estimation_backtracking': 'AnyImprovement',\n",
       " 'best_model_min_trees': 1,\n",
       " 'model_shrink_rate': 0,\n",
       " 'min_data_in_leaf': 1,\n",
       " 'loss_function': 'RMSE',\n",
       " 'learning_rate': 0.06222900003194809,\n",
       " 'score_function': 'Cosine',\n",
       " 'task_type': 'CPU',\n",
       " 'leaf_estimation_iterations': 1,\n",
       " 'bootstrap_type': 'MVS',\n",
       " 'max_leaves': 64}"
      ]
     },
     "execution_count": 80,
     "metadata": {},
     "output_type": "execute_result"
    }
   ],
   "source": [
    "cat_rougher.get_all_params()"
   ]
  },
  {
   "cell_type": "code",
   "execution_count": 81,
   "metadata": {},
   "outputs": [
    {
     "data": {
      "text/plain": [
       "{'nan_mode': 'Min',\n",
       " 'eval_metric': 'RMSE',\n",
       " 'iterations': 1000,\n",
       " 'sampling_frequency': 'PerTree',\n",
       " 'leaf_estimation_method': 'Newton',\n",
       " 'grow_policy': 'SymmetricTree',\n",
       " 'penalties_coefficient': 1,\n",
       " 'boosting_type': 'Plain',\n",
       " 'model_shrink_mode': 'Constant',\n",
       " 'feature_border_type': 'GreedyLogSum',\n",
       " 'bayesian_matrix_reg': 0.10000000149011612,\n",
       " 'force_unit_auto_pair_weights': False,\n",
       " 'l2_leaf_reg': 3,\n",
       " 'random_strength': 1,\n",
       " 'rsm': 1,\n",
       " 'boost_from_average': True,\n",
       " 'model_size_reg': 0.5,\n",
       " 'pool_metainfo_options': {'tags': {}},\n",
       " 'subsample': 0.800000011920929,\n",
       " 'use_best_model': False,\n",
       " 'random_seed': 0,\n",
       " 'depth': 6,\n",
       " 'posterior_sampling': False,\n",
       " 'border_count': 254,\n",
       " 'classes_count': 0,\n",
       " 'auto_class_weights': 'None',\n",
       " 'sparse_features_conflict_fraction': 0,\n",
       " 'leaf_estimation_backtracking': 'AnyImprovement',\n",
       " 'best_model_min_trees': 1,\n",
       " 'model_shrink_rate': 0,\n",
       " 'min_data_in_leaf': 1,\n",
       " 'loss_function': 'RMSE',\n",
       " 'learning_rate': 0.06222900003194809,\n",
       " 'score_function': 'Cosine',\n",
       " 'task_type': 'CPU',\n",
       " 'leaf_estimation_iterations': 1,\n",
       " 'bootstrap_type': 'MVS',\n",
       " 'max_leaves': 64}"
      ]
     },
     "execution_count": 81,
     "metadata": {},
     "output_type": "execute_result"
    }
   ],
   "source": [
    "cat_final.get_all_params()"
   ]
  },
  {
   "cell_type": "code",
   "execution_count": 82,
   "metadata": {},
   "outputs": [],
   "source": [
    "y_train_rougher_predicted_cat = cat_rougher.predict(X_train_rougher)\n",
    "y_train_final_predicted_cat = cat_final.predict(X_train_final)"
   ]
  },
  {
   "cell_type": "code",
   "execution_count": 83,
   "metadata": {},
   "outputs": [],
   "source": [
    "data_cat = {'real_rougher' : y_train_rougher, 'predicted_rougher' : y_train_rougher_predicted_cat,\n",
    "       'real_final' : y_train_final, 'predicted_final' : y_train_final_predicted_cat}"
   ]
  },
  {
   "cell_type": "code",
   "execution_count": 84,
   "metadata": {},
   "outputs": [
    {
     "data": {
      "text/html": [
       "<div>\n",
       "<style scoped>\n",
       "    .dataframe tbody tr th:only-of-type {\n",
       "        vertical-align: middle;\n",
       "    }\n",
       "\n",
       "    .dataframe tbody tr th {\n",
       "        vertical-align: top;\n",
       "    }\n",
       "\n",
       "    .dataframe thead th {\n",
       "        text-align: right;\n",
       "    }\n",
       "</style>\n",
       "<table border=\"1\" class=\"dataframe\">\n",
       "  <thead>\n",
       "    <tr style=\"text-align: right;\">\n",
       "      <th></th>\n",
       "      <th>real_rougher</th>\n",
       "      <th>predicted_rougher</th>\n",
       "      <th>real_final</th>\n",
       "      <th>predicted_final</th>\n",
       "    </tr>\n",
       "  </thead>\n",
       "  <tbody>\n",
       "    <tr>\n",
       "      <th>0</th>\n",
       "      <td>87.107763</td>\n",
       "      <td>83.068102</td>\n",
       "      <td>70.541216</td>\n",
       "      <td>67.016385</td>\n",
       "    </tr>\n",
       "    <tr>\n",
       "      <th>1</th>\n",
       "      <td>86.843261</td>\n",
       "      <td>83.020974</td>\n",
       "      <td>69.266198</td>\n",
       "      <td>66.298717</td>\n",
       "    </tr>\n",
       "    <tr>\n",
       "      <th>2</th>\n",
       "      <td>86.842308</td>\n",
       "      <td>84.934603</td>\n",
       "      <td>68.116445</td>\n",
       "      <td>67.059377</td>\n",
       "    </tr>\n",
       "    <tr>\n",
       "      <th>3</th>\n",
       "      <td>87.226430</td>\n",
       "      <td>82.739917</td>\n",
       "      <td>68.347543</td>\n",
       "      <td>66.788417</td>\n",
       "    </tr>\n",
       "    <tr>\n",
       "      <th>4</th>\n",
       "      <td>86.688794</td>\n",
       "      <td>82.359873</td>\n",
       "      <td>66.927016</td>\n",
       "      <td>66.204025</td>\n",
       "    </tr>\n",
       "  </tbody>\n",
       "</table>\n",
       "</div>"
      ],
      "text/plain": [
       "   real_rougher  predicted_rougher  real_final  predicted_final\n",
       "0     87.107763          83.068102   70.541216        67.016385\n",
       "1     86.843261          83.020974   69.266198        66.298717\n",
       "2     86.842308          84.934603   68.116445        67.059377\n",
       "3     87.226430          82.739917   68.347543        66.788417\n",
       "4     86.688794          82.359873   66.927016        66.204025"
      ]
     },
     "metadata": {},
     "output_type": "display_data"
    },
    {
     "name": "stdout",
     "output_type": "stream",
     "text": [
      "sMAPE: 5.553256381228492\n"
     ]
    }
   ],
   "source": [
    "data_cat_res = pd.DataFrame(data_cat, columns = ['real_rougher', 'predicted_rougher', 'real_final', 'predicted_final'])\n",
    "display(data_cat_res.head())\n",
    "print('sMAPE:', sMAPE(y_train_rougher, y_train_rougher_predicted_cat, y_train_final, y_train_final_predicted_cat))"
   ]
  },
  {
   "cell_type": "markdown",
   "metadata": {},
   "source": [
    "### Проверка на тесте"
   ]
  },
  {
   "cell_type": "code",
   "execution_count": 67,
   "metadata": {},
   "outputs": [],
   "source": [
    "X_test_rougher = test.drop(['rougher.output.recovery', 'final.output.recovery', 'date'], axis=1)\n",
    "y_test_rougher = test['rougher.output.recovery']\n",
    "X_test_final = X_test_rougher\n",
    "y_test_final = test['final.output.recovery']"
   ]
  },
  {
   "cell_type": "code",
   "execution_count": 68,
   "metadata": {},
   "outputs": [
    {
     "name": "stdout",
     "output_type": "stream",
     "text": [
      "Итоговое sMAPE на тестовой выборке: 23.233139919418083\n"
     ]
    }
   ],
   "source": [
    "y_rougher_predicted = cat_rougher.predict(X_test_rougher)\n",
    "y_final_predicted = cat_final.predict(X_test_final)\n",
    "\n",
    "print('Итоговое sMAPE на тестовой выборке:',sMAPE(\n",
    "    y_test_rougher, y_rougher_predicted, y_test_final, y_final_predicted).mean())"
   ]
  },
  {
   "cell_type": "code",
   "execution_count": 69,
   "metadata": {},
   "outputs": [],
   "source": [
    "base_rougher = DummyRegressor(strategy=\"median\")\n",
    "base_final = DummyRegressor(strategy=\"median\")"
   ]
  },
  {
   "cell_type": "code",
   "execution_count": 70,
   "metadata": {},
   "outputs": [
    {
     "data": {
      "text/plain": [
       "DummyRegressor(strategy='median')"
      ]
     },
     "execution_count": 70,
     "metadata": {},
     "output_type": "execute_result"
    }
   ],
   "source": [
    "base_rougher.fit(X_train_rougher, y_train_rougher)\n",
    "base_final.fit(X_train_final, y_train_final)"
   ]
  },
  {
   "cell_type": "code",
   "execution_count": 71,
   "metadata": {},
   "outputs": [],
   "source": [
    "base_rougher_pred = base_rougher.predict(X_test_rougher)\n",
    "base_final_pred = base_final.predict(X_test_final)"
   ]
  },
  {
   "cell_type": "code",
   "execution_count": 72,
   "metadata": {
    "scrolled": true
   },
   "outputs": [
    {
     "name": "stdout",
     "output_type": "stream",
     "text": [
      "Итоговое sMAPE на тестовой выборке: 9.47991919812286\n"
     ]
    }
   ],
   "source": [
    "print('Итоговое sMAPE на тестовой выборке:',sMAPE(\n",
    "    y_test_rougher, base_rougher_pred, y_test_final, base_final_pred).mean())"
   ]
  },
  {
   "cell_type": "markdown",
   "metadata": {},
   "source": [
    "## Вывод"
   ]
  },
  {
   "cell_type": "markdown",
   "metadata": {},
   "source": [
    "<b>Подготовка данных</b>\n",
    "<br>    Были изученны три датасета: обучающий, тестовый и с полными данными. Была проверена эффективность обогащения. Всего в тестовой выборке отуствуют 34 признака, в отличии от обучающей. В основном это все какие-то рассчетные признаки. Есть незначительные пропуски в данных.\n",
    "\n",
    "<b>Анализ данных</b>\n",
    "<br>        Сравнили распределение гранул сырья на обучающей и тестовой выборке. Они оказались примерно равномерными.\n",
    "    Исследовали суммарную концентрацию всех веществ на разных стадиях:\n",
    "    Самая высокая концентрация В сырье у золота.\n",
    "    В черновом - Feed_Sol\n",
    "    После финальной очистки - золото.\n",
    "    \n",
    "<b>Модель</b>\n",
    "<br>    Написали функцию для вычисения итоговой sMAPE. Обучили модели (рандомный лес, кэтбуст, линейная регрессия). По итогам был выбран кэтбуст. Итоговая sMAPE - 5.55.\n",
    "        Проверили модель на тестовых данных, sMAPE - 23.23    "
   ]
  }
 ],
 "metadata": {
  "ExecuteTimeLog": [
   {
    "duration": 414,
    "start_time": "2022-12-17T07:16:57.191Z"
   },
   {
    "duration": 1330,
    "start_time": "2022-12-17T07:17:08.188Z"
   },
   {
    "duration": 337,
    "start_time": "2022-12-17T07:18:11.819Z"
   },
   {
    "duration": 306,
    "start_time": "2022-12-17T07:18:14.858Z"
   },
   {
    "duration": 893,
    "start_time": "2022-12-17T07:18:38.672Z"
   },
   {
    "duration": 32,
    "start_time": "2022-12-17T07:18:45.718Z"
   },
   {
    "duration": 17,
    "start_time": "2022-12-17T07:18:54.438Z"
   },
   {
    "duration": 19,
    "start_time": "2022-12-17T07:19:12.079Z"
   },
   {
    "duration": 14,
    "start_time": "2022-12-17T07:19:19.107Z"
   },
   {
    "duration": 20,
    "start_time": "2022-12-17T07:19:38.455Z"
   },
   {
    "duration": 16,
    "start_time": "2022-12-17T07:19:45.475Z"
   },
   {
    "duration": 2,
    "start_time": "2022-12-17T07:44:53.330Z"
   },
   {
    "duration": 2,
    "start_time": "2022-12-17T07:45:23.778Z"
   },
   {
    "duration": 4,
    "start_time": "2022-12-17T07:45:29.267Z"
   },
   {
    "duration": 94,
    "start_time": "2022-12-17T07:45:51.273Z"
   },
   {
    "duration": 6,
    "start_time": "2022-12-17T07:45:55.328Z"
   },
   {
    "duration": 6,
    "start_time": "2022-12-17T07:46:00.412Z"
   },
   {
    "duration": 4,
    "start_time": "2022-12-17T07:46:09.413Z"
   },
   {
    "duration": 4,
    "start_time": "2022-12-17T07:46:25.535Z"
   },
   {
    "duration": 7,
    "start_time": "2022-12-17T07:47:05.728Z"
   },
   {
    "duration": 713,
    "start_time": "2022-12-17T07:47:30.854Z"
   },
   {
    "duration": 6,
    "start_time": "2022-12-17T07:47:34.225Z"
   },
   {
    "duration": 5,
    "start_time": "2022-12-17T07:54:50.513Z"
   },
   {
    "duration": 4,
    "start_time": "2022-12-17T07:55:00.681Z"
   },
   {
    "duration": 43,
    "start_time": "2022-12-17T07:56:39.068Z"
   },
   {
    "duration": 45,
    "start_time": "2022-12-17T20:06:57.141Z"
   },
   {
    "duration": 1014,
    "start_time": "2022-12-17T20:07:03.062Z"
   },
   {
    "duration": 3068,
    "start_time": "2022-12-17T20:07:04.078Z"
   },
   {
    "duration": 32,
    "start_time": "2022-12-17T20:07:07.148Z"
   },
   {
    "duration": 21,
    "start_time": "2022-12-17T20:07:07.182Z"
   },
   {
    "duration": 22,
    "start_time": "2022-12-17T20:07:07.205Z"
   },
   {
    "duration": 13,
    "start_time": "2022-12-17T20:07:07.229Z"
   },
   {
    "duration": 19,
    "start_time": "2022-12-17T20:07:07.244Z"
   },
   {
    "duration": 41,
    "start_time": "2022-12-17T20:07:07.264Z"
   },
   {
    "duration": 3,
    "start_time": "2022-12-17T20:07:07.306Z"
   },
   {
    "duration": 7,
    "start_time": "2022-12-17T20:07:07.311Z"
   },
   {
    "duration": 6,
    "start_time": "2022-12-17T20:07:07.320Z"
   },
   {
    "duration": 5,
    "start_time": "2022-12-17T20:07:07.327Z"
   },
   {
    "duration": 4,
    "start_time": "2022-12-17T20:07:07.334Z"
   },
   {
    "duration": 4,
    "start_time": "2022-12-17T20:07:07.418Z"
   },
   {
    "duration": 5,
    "start_time": "2022-12-17T20:07:08.353Z"
   },
   {
    "duration": 4,
    "start_time": "2022-12-17T20:07:08.758Z"
   },
   {
    "duration": 774,
    "start_time": "2022-12-17T20:07:09.384Z"
   },
   {
    "duration": 3,
    "start_time": "2022-12-17T20:09:30.895Z"
   },
   {
    "duration": 2,
    "start_time": "2022-12-17T20:09:36.911Z"
   },
   {
    "duration": 10,
    "start_time": "2022-12-17T20:10:13.043Z"
   },
   {
    "duration": 12,
    "start_time": "2022-12-17T20:10:29.276Z"
   },
   {
    "duration": 7,
    "start_time": "2022-12-17T20:17:23.183Z"
   },
   {
    "duration": 8,
    "start_time": "2022-12-17T20:17:36.928Z"
   },
   {
    "duration": 9,
    "start_time": "2022-12-17T20:17:49.993Z"
   },
   {
    "duration": 6983,
    "start_time": "2022-12-17T20:19:14.506Z"
   },
   {
    "duration": 23,
    "start_time": "2022-12-17T20:20:01.782Z"
   },
   {
    "duration": 22,
    "start_time": "2022-12-17T20:20:16.451Z"
   },
   {
    "duration": 22,
    "start_time": "2022-12-17T20:20:24.739Z"
   },
   {
    "duration": 21,
    "start_time": "2022-12-17T20:21:13.631Z"
   },
   {
    "duration": 21,
    "start_time": "2022-12-17T20:21:26.859Z"
   },
   {
    "duration": 118,
    "start_time": "2022-12-17T20:21:47.273Z"
   },
   {
    "duration": 116,
    "start_time": "2022-12-17T20:22:00.104Z"
   },
   {
    "duration": 89,
    "start_time": "2022-12-17T20:22:07.564Z"
   },
   {
    "duration": 12,
    "start_time": "2022-12-17T20:27:59.847Z"
   },
   {
    "duration": 3,
    "start_time": "2022-12-17T20:32:13.454Z"
   },
   {
    "duration": 345,
    "start_time": "2022-12-17T20:32:55.172Z"
   },
   {
    "duration": 125,
    "start_time": "2022-12-17T20:33:04.664Z"
   },
   {
    "duration": 16515,
    "start_time": "2022-12-17T20:34:28.707Z"
   },
   {
    "duration": 17234,
    "start_time": "2022-12-17T20:35:16.959Z"
   },
   {
    "duration": 502,
    "start_time": "2022-12-17T20:36:02.409Z"
   },
   {
    "duration": 465,
    "start_time": "2022-12-17T20:36:27.852Z"
   },
   {
    "duration": 433,
    "start_time": "2022-12-17T20:37:36.428Z"
   },
   {
    "duration": 424,
    "start_time": "2022-12-17T20:37:58.709Z"
   },
   {
    "duration": 3,
    "start_time": "2022-12-17T20:38:03.796Z"
   },
   {
    "duration": 8,
    "start_time": "2022-12-17T20:41:43.263Z"
   },
   {
    "duration": 10,
    "start_time": "2022-12-17T20:41:54.112Z"
   },
   {
    "duration": 125,
    "start_time": "2022-12-17T20:42:13.681Z"
   },
   {
    "duration": 147,
    "start_time": "2022-12-17T20:42:21.063Z"
   },
   {
    "duration": 127,
    "start_time": "2022-12-17T20:42:39.170Z"
   },
   {
    "duration": 26,
    "start_time": "2022-12-17T20:42:46.273Z"
   },
   {
    "duration": 138,
    "start_time": "2022-12-17T20:42:50.163Z"
   },
   {
    "duration": 124,
    "start_time": "2022-12-17T20:43:42.142Z"
   },
   {
    "duration": 418,
    "start_time": "2022-12-17T20:44:03.762Z"
   },
   {
    "duration": 347,
    "start_time": "2022-12-17T20:44:07.650Z"
   },
   {
    "duration": 12,
    "start_time": "2022-12-17T20:44:13.268Z"
   },
   {
    "duration": 132,
    "start_time": "2022-12-17T20:44:19.914Z"
   },
   {
    "duration": 144,
    "start_time": "2022-12-17T20:45:03.815Z"
   },
   {
    "duration": 1480,
    "start_time": "2022-12-19T07:27:34.714Z"
   },
   {
    "duration": 2010,
    "start_time": "2022-12-19T07:27:36.196Z"
   },
   {
    "duration": 25,
    "start_time": "2022-12-19T07:27:38.208Z"
   },
   {
    "duration": 21,
    "start_time": "2022-12-19T07:27:38.235Z"
   },
   {
    "duration": 20,
    "start_time": "2022-12-19T07:27:38.258Z"
   },
   {
    "duration": 13,
    "start_time": "2022-12-19T07:27:38.280Z"
   },
   {
    "duration": 19,
    "start_time": "2022-12-19T07:27:38.295Z"
   },
   {
    "duration": 46,
    "start_time": "2022-12-19T07:27:38.315Z"
   },
   {
    "duration": 3,
    "start_time": "2022-12-19T07:27:38.362Z"
   },
   {
    "duration": 8,
    "start_time": "2022-12-19T07:27:38.367Z"
   },
   {
    "duration": 5,
    "start_time": "2022-12-19T07:27:38.377Z"
   },
   {
    "duration": 6,
    "start_time": "2022-12-19T07:27:38.383Z"
   },
   {
    "duration": 6,
    "start_time": "2022-12-19T07:27:38.390Z"
   },
   {
    "duration": 9,
    "start_time": "2022-12-19T07:27:38.398Z"
   },
   {
    "duration": 5,
    "start_time": "2022-12-19T07:27:38.409Z"
   },
   {
    "duration": 6,
    "start_time": "2022-12-19T07:27:38.416Z"
   },
   {
    "duration": 30,
    "start_time": "2022-12-19T07:27:38.423Z"
   },
   {
    "duration": 3,
    "start_time": "2022-12-19T07:27:38.455Z"
   },
   {
    "duration": 7,
    "start_time": "2022-12-19T07:27:38.460Z"
   },
   {
    "duration": 25,
    "start_time": "2022-12-19T07:27:38.468Z"
   },
   {
    "duration": 138,
    "start_time": "2022-12-19T07:27:38.495Z"
   },
   {
    "duration": 104,
    "start_time": "2022-12-19T07:27:38.634Z"
   },
   {
    "duration": 32,
    "start_time": "2022-12-19T07:27:38.740Z"
   },
   {
    "duration": 2,
    "start_time": "2022-12-19T07:27:38.774Z"
   },
   {
    "duration": 186,
    "start_time": "2022-12-19T07:27:38.777Z"
   },
   {
    "duration": 196,
    "start_time": "2022-12-19T07:27:38.964Z"
   },
   {
    "duration": 169,
    "start_time": "2022-12-19T07:27:39.162Z"
   },
   {
    "duration": 299,
    "start_time": "2022-12-19T07:27:39.334Z"
   },
   {
    "duration": 241,
    "start_time": "2022-12-19T07:27:39.635Z"
   },
   {
    "duration": 110,
    "start_time": "2022-12-19T07:27:39.877Z"
   },
   {
    "duration": 123,
    "start_time": "2022-12-19T07:27:39.989Z"
   },
   {
    "duration": 123,
    "start_time": "2022-12-19T07:27:40.113Z"
   },
   {
    "duration": 3,
    "start_time": "2022-12-19T07:27:40.238Z"
   },
   {
    "duration": 13,
    "start_time": "2022-12-19T07:27:40.243Z"
   },
   {
    "duration": 55,
    "start_time": "2022-12-19T07:27:40.258Z"
   },
   {
    "duration": 3,
    "start_time": "2022-12-19T07:27:40.315Z"
   },
   {
    "duration": 818930,
    "start_time": "2022-12-19T07:27:40.320Z"
   },
   {
    "duration": 11,
    "start_time": "2022-12-19T07:41:19.252Z"
   },
   {
    "duration": 16,
    "start_time": "2022-12-19T07:41:19.264Z"
   },
   {
    "duration": 58,
    "start_time": "2022-12-19T07:41:19.282Z"
   },
   {
    "duration": 43,
    "start_time": "2022-12-19T07:41:19.341Z"
   },
   {
    "duration": 572,
    "start_time": "2022-12-19T07:41:19.386Z"
   },
   {
    "duration": 95,
    "start_time": "2022-12-19T07:41:19.960Z"
   },
   {
    "duration": 112,
    "start_time": "2022-12-19T07:41:20.060Z"
   },
   {
    "duration": 48,
    "start_time": "2022-12-19T07:41:20.253Z"
   },
   {
    "duration": 129,
    "start_time": "2022-12-19T07:41:20.302Z"
   },
   {
    "duration": 18,
    "start_time": "2022-12-19T07:42:43.263Z"
   },
   {
    "duration": 15,
    "start_time": "2022-12-19T07:43:09.808Z"
   },
   {
    "duration": 25,
    "start_time": "2022-12-19T07:45:26.415Z"
   },
   {
    "duration": 36,
    "start_time": "2022-12-19T07:45:50.227Z"
   },
   {
    "duration": 14,
    "start_time": "2022-12-19T07:45:57.952Z"
   },
   {
    "duration": 15,
    "start_time": "2022-12-19T07:46:02.911Z"
   },
   {
    "duration": 14,
    "start_time": "2022-12-19T07:46:26.541Z"
   },
   {
    "duration": 12,
    "start_time": "2022-12-19T07:46:42.323Z"
   },
   {
    "duration": 12,
    "start_time": "2022-12-19T07:48:40.145Z"
   },
   {
    "duration": 24,
    "start_time": "2022-12-19T07:48:52.017Z"
   },
   {
    "duration": 669,
    "start_time": "2022-12-19T07:49:10.896Z"
   },
   {
    "duration": 9,
    "start_time": "2022-12-19T07:49:29.414Z"
   },
   {
    "duration": 24,
    "start_time": "2022-12-19T07:49:29.853Z"
   },
   {
    "duration": 13,
    "start_time": "2022-12-19T07:49:41.619Z"
   },
   {
    "duration": 5,
    "start_time": "2022-12-19T07:50:45.993Z"
   },
   {
    "duration": 12,
    "start_time": "2022-12-19T07:51:07.943Z"
   },
   {
    "duration": 13,
    "start_time": "2022-12-19T07:51:08.631Z"
   },
   {
    "duration": 6,
    "start_time": "2022-12-19T07:51:32.853Z"
   },
   {
    "duration": 88767,
    "start_time": "2022-12-19T07:51:38.416Z"
   },
   {
    "duration": 0,
    "start_time": "2022-12-19T07:53:07.185Z"
   },
   {
    "duration": 1352,
    "start_time": "2022-12-19T07:53:24.423Z"
   },
   {
    "duration": 650,
    "start_time": "2022-12-19T07:53:25.776Z"
   },
   {
    "duration": 31,
    "start_time": "2022-12-19T07:53:26.428Z"
   },
   {
    "duration": 19,
    "start_time": "2022-12-19T07:53:26.461Z"
   },
   {
    "duration": 19,
    "start_time": "2022-12-19T07:53:26.482Z"
   },
   {
    "duration": 17,
    "start_time": "2022-12-19T07:53:26.503Z"
   },
   {
    "duration": 46,
    "start_time": "2022-12-19T07:53:26.522Z"
   },
   {
    "duration": 17,
    "start_time": "2022-12-19T07:53:26.570Z"
   },
   {
    "duration": 3,
    "start_time": "2022-12-19T07:53:26.589Z"
   },
   {
    "duration": 7,
    "start_time": "2022-12-19T07:53:26.595Z"
   },
   {
    "duration": 7,
    "start_time": "2022-12-19T07:53:26.603Z"
   },
   {
    "duration": 6,
    "start_time": "2022-12-19T07:53:26.612Z"
   },
   {
    "duration": 36,
    "start_time": "2022-12-19T07:53:26.620Z"
   },
   {
    "duration": 6,
    "start_time": "2022-12-19T07:53:26.659Z"
   },
   {
    "duration": 3,
    "start_time": "2022-12-19T07:53:26.666Z"
   },
   {
    "duration": 4,
    "start_time": "2022-12-19T07:53:26.671Z"
   },
   {
    "duration": 5,
    "start_time": "2022-12-19T07:53:26.676Z"
   },
   {
    "duration": 4,
    "start_time": "2022-12-19T07:53:26.683Z"
   },
   {
    "duration": 8,
    "start_time": "2022-12-19T07:53:26.689Z"
   },
   {
    "duration": 24,
    "start_time": "2022-12-19T07:53:26.699Z"
   },
   {
    "duration": 154,
    "start_time": "2022-12-19T07:53:26.724Z"
   },
   {
    "duration": 106,
    "start_time": "2022-12-19T07:53:26.879Z"
   },
   {
    "duration": 22,
    "start_time": "2022-12-19T07:53:26.987Z"
   },
   {
    "duration": 2,
    "start_time": "2022-12-19T07:53:27.011Z"
   },
   {
    "duration": 191,
    "start_time": "2022-12-19T07:53:27.014Z"
   },
   {
    "duration": 202,
    "start_time": "2022-12-19T07:53:27.207Z"
   },
   {
    "duration": 173,
    "start_time": "2022-12-19T07:53:27.411Z"
   },
   {
    "duration": 314,
    "start_time": "2022-12-19T07:53:27.589Z"
   },
   {
    "duration": 244,
    "start_time": "2022-12-19T07:53:27.904Z"
   },
   {
    "duration": 107,
    "start_time": "2022-12-19T07:53:28.153Z"
   },
   {
    "duration": 129,
    "start_time": "2022-12-19T07:53:28.262Z"
   },
   {
    "duration": 119,
    "start_time": "2022-12-19T07:53:28.393Z"
   },
   {
    "duration": 4,
    "start_time": "2022-12-19T07:53:28.513Z"
   },
   {
    "duration": 11,
    "start_time": "2022-12-19T07:53:28.518Z"
   },
   {
    "duration": 123,
    "start_time": "2022-12-19T07:53:28.530Z"
   },
   {
    "duration": 0,
    "start_time": "2022-12-19T07:53:28.655Z"
   },
   {
    "duration": 0,
    "start_time": "2022-12-19T07:53:28.656Z"
   },
   {
    "duration": 0,
    "start_time": "2022-12-19T07:53:28.657Z"
   },
   {
    "duration": 0,
    "start_time": "2022-12-19T07:53:28.658Z"
   },
   {
    "duration": 0,
    "start_time": "2022-12-19T07:53:28.659Z"
   },
   {
    "duration": 0,
    "start_time": "2022-12-19T07:53:28.659Z"
   },
   {
    "duration": 0,
    "start_time": "2022-12-19T07:53:28.660Z"
   },
   {
    "duration": 0,
    "start_time": "2022-12-19T07:53:28.661Z"
   },
   {
    "duration": 0,
    "start_time": "2022-12-19T07:53:28.662Z"
   },
   {
    "duration": 0,
    "start_time": "2022-12-19T07:53:28.663Z"
   },
   {
    "duration": 0,
    "start_time": "2022-12-19T07:53:28.664Z"
   },
   {
    "duration": 0,
    "start_time": "2022-12-19T07:53:28.665Z"
   },
   {
    "duration": 0,
    "start_time": "2022-12-19T07:53:28.666Z"
   },
   {
    "duration": 0,
    "start_time": "2022-12-19T07:53:28.668Z"
   },
   {
    "duration": 628,
    "start_time": "2022-12-19T07:56:24.689Z"
   },
   {
    "duration": 9,
    "start_time": "2022-12-19T07:56:33.670Z"
   },
   {
    "duration": 55,
    "start_time": "2022-12-19T07:56:34.485Z"
   },
   {
    "duration": 4,
    "start_time": "2022-12-19T07:56:38.084Z"
   },
   {
    "duration": 585,
    "start_time": "2022-12-19T07:56:38.322Z"
   },
   {
    "duration": 0,
    "start_time": "2022-12-19T07:56:38.908Z"
   },
   {
    "duration": 0,
    "start_time": "2022-12-19T07:56:38.909Z"
   },
   {
    "duration": 10,
    "start_time": "2022-12-19T07:56:38.941Z"
   },
   {
    "duration": 3,
    "start_time": "2022-12-19T07:56:39.337Z"
   },
   {
    "duration": 16,
    "start_time": "2022-12-19T07:56:39.520Z"
   },
   {
    "duration": 12,
    "start_time": "2022-12-19T07:56:39.727Z"
   },
   {
    "duration": 613,
    "start_time": "2022-12-19T07:57:00.472Z"
   },
   {
    "duration": 1301,
    "start_time": "2022-12-19T07:57:20.675Z"
   },
   {
    "duration": 684,
    "start_time": "2022-12-19T07:57:21.978Z"
   },
   {
    "duration": 25,
    "start_time": "2022-12-19T07:57:22.664Z"
   },
   {
    "duration": 17,
    "start_time": "2022-12-19T07:57:22.691Z"
   },
   {
    "duration": 19,
    "start_time": "2022-12-19T07:57:22.710Z"
   },
   {
    "duration": 12,
    "start_time": "2022-12-19T07:57:22.753Z"
   },
   {
    "duration": 19,
    "start_time": "2022-12-19T07:57:22.767Z"
   },
   {
    "duration": 17,
    "start_time": "2022-12-19T07:57:22.787Z"
   },
   {
    "duration": 3,
    "start_time": "2022-12-19T07:57:22.806Z"
   },
   {
    "duration": 8,
    "start_time": "2022-12-19T07:57:22.811Z"
   },
   {
    "duration": 35,
    "start_time": "2022-12-19T07:57:22.821Z"
   },
   {
    "duration": 6,
    "start_time": "2022-12-19T07:57:22.858Z"
   },
   {
    "duration": 8,
    "start_time": "2022-12-19T07:57:22.865Z"
   },
   {
    "duration": 6,
    "start_time": "2022-12-19T07:57:22.875Z"
   },
   {
    "duration": 14,
    "start_time": "2022-12-19T07:57:22.882Z"
   },
   {
    "duration": 5,
    "start_time": "2022-12-19T07:57:22.898Z"
   },
   {
    "duration": 7,
    "start_time": "2022-12-19T07:57:22.904Z"
   },
   {
    "duration": 5,
    "start_time": "2022-12-19T07:57:22.912Z"
   },
   {
    "duration": 9,
    "start_time": "2022-12-19T07:57:22.919Z"
   },
   {
    "duration": 41,
    "start_time": "2022-12-19T07:57:22.930Z"
   },
   {
    "duration": 131,
    "start_time": "2022-12-19T07:57:22.972Z"
   },
   {
    "duration": 101,
    "start_time": "2022-12-19T07:57:23.104Z"
   },
   {
    "duration": 22,
    "start_time": "2022-12-19T07:57:23.206Z"
   },
   {
    "duration": 3,
    "start_time": "2022-12-19T07:57:23.229Z"
   },
   {
    "duration": 172,
    "start_time": "2022-12-19T07:57:23.252Z"
   },
   {
    "duration": 198,
    "start_time": "2022-12-19T07:57:23.425Z"
   },
   {
    "duration": 169,
    "start_time": "2022-12-19T07:57:23.625Z"
   },
   {
    "duration": 300,
    "start_time": "2022-12-19T07:57:23.797Z"
   },
   {
    "duration": 267,
    "start_time": "2022-12-19T07:57:24.099Z"
   },
   {
    "duration": 108,
    "start_time": "2022-12-19T07:57:24.367Z"
   },
   {
    "duration": 137,
    "start_time": "2022-12-19T07:57:24.476Z"
   },
   {
    "duration": 114,
    "start_time": "2022-12-19T07:57:24.616Z"
   },
   {
    "duration": 3,
    "start_time": "2022-12-19T07:57:24.732Z"
   },
   {
    "duration": 21,
    "start_time": "2022-12-19T07:57:24.737Z"
   },
   {
    "duration": 52,
    "start_time": "2022-12-19T07:57:24.760Z"
   },
   {
    "duration": 4,
    "start_time": "2022-12-19T07:57:24.814Z"
   },
   {
    "duration": 810806,
    "start_time": "2022-12-19T07:57:24.819Z"
   },
   {
    "duration": 11,
    "start_time": "2022-12-19T08:10:55.627Z"
   },
   {
    "duration": 14,
    "start_time": "2022-12-19T08:10:55.639Z"
   },
   {
    "duration": 20,
    "start_time": "2022-12-19T08:10:55.654Z"
   },
   {
    "duration": 3,
    "start_time": "2022-12-19T08:10:55.676Z"
   },
   {
    "duration": 573,
    "start_time": "2022-12-19T08:10:55.680Z"
   },
   {
    "duration": 7,
    "start_time": "2022-12-19T08:10:56.255Z"
   },
   {
    "duration": 3,
    "start_time": "2022-12-19T08:10:56.353Z"
   },
   {
    "duration": 107,
    "start_time": "2022-12-19T08:10:56.357Z"
   },
   {
    "duration": 13,
    "start_time": "2022-12-19T08:10:56.465Z"
   },
   {
    "duration": 8,
    "start_time": "2022-12-19T08:10:56.480Z"
   },
   {
    "duration": 812468,
    "start_time": "2022-12-19T08:10:56.490Z"
   },
   {
    "duration": 862062,
    "start_time": "2022-12-19T08:57:24.005Z"
   },
   {
    "duration": 6,
    "start_time": "2022-12-19T09:14:41.408Z"
   },
   {
    "duration": 13,
    "start_time": "2022-12-19T09:15:33.691Z"
   },
   {
    "duration": 7,
    "start_time": "2022-12-19T09:15:33.917Z"
   },
   {
    "duration": 18,
    "start_time": "2022-12-19T09:15:35.382Z"
   },
   {
    "duration": 628,
    "start_time": "2022-12-19T09:16:11.308Z"
   },
   {
    "duration": 24,
    "start_time": "2022-12-19T09:16:18.826Z"
   },
   {
    "duration": 12,
    "start_time": "2022-12-19T09:16:19.220Z"
   },
   {
    "duration": 13,
    "start_time": "2022-12-19T09:16:19.752Z"
   },
   {
    "duration": 4,
    "start_time": "2022-12-19T09:17:09.375Z"
   },
   {
    "duration": 610,
    "start_time": "2022-12-19T09:17:49.471Z"
   },
   {
    "duration": 596,
    "start_time": "2022-12-19T09:18:08.560Z"
   },
   {
    "duration": 4,
    "start_time": "2022-12-19T09:18:10.611Z"
   },
   {
    "duration": 9,
    "start_time": "2022-12-19T09:18:13.600Z"
   },
   {
    "duration": 4,
    "start_time": "2022-12-19T09:18:14.074Z"
   },
   {
    "duration": 14,
    "start_time": "2022-12-19T09:18:16.933Z"
   },
   {
    "duration": 25,
    "start_time": "2022-12-19T09:18:21.880Z"
   },
   {
    "duration": 4,
    "start_time": "2022-12-19T09:18:23.442Z"
   },
   {
    "duration": 9,
    "start_time": "2022-12-19T09:18:24.838Z"
   },
   {
    "duration": 1375,
    "start_time": "2022-12-19T09:18:47.171Z"
   },
   {
    "duration": 666,
    "start_time": "2022-12-19T09:18:48.548Z"
   },
   {
    "duration": 26,
    "start_time": "2022-12-19T09:18:49.215Z"
   },
   {
    "duration": 17,
    "start_time": "2022-12-19T09:18:49.252Z"
   },
   {
    "duration": 22,
    "start_time": "2022-12-19T09:18:49.271Z"
   },
   {
    "duration": 46,
    "start_time": "2022-12-19T09:18:49.294Z"
   },
   {
    "duration": 24,
    "start_time": "2022-12-19T09:18:49.342Z"
   },
   {
    "duration": 49,
    "start_time": "2022-12-19T09:18:49.367Z"
   },
   {
    "duration": 5,
    "start_time": "2022-12-19T09:18:49.418Z"
   },
   {
    "duration": 25,
    "start_time": "2022-12-19T09:18:49.426Z"
   },
   {
    "duration": 26,
    "start_time": "2022-12-19T09:18:49.453Z"
   },
   {
    "duration": 29,
    "start_time": "2022-12-19T09:18:49.480Z"
   },
   {
    "duration": 32,
    "start_time": "2022-12-19T09:18:49.510Z"
   },
   {
    "duration": 26,
    "start_time": "2022-12-19T09:18:49.544Z"
   },
   {
    "duration": 32,
    "start_time": "2022-12-19T09:18:49.572Z"
   },
   {
    "duration": 22,
    "start_time": "2022-12-19T09:18:49.605Z"
   },
   {
    "duration": 36,
    "start_time": "2022-12-19T09:18:49.628Z"
   },
   {
    "duration": 16,
    "start_time": "2022-12-19T09:18:49.666Z"
   },
   {
    "duration": 33,
    "start_time": "2022-12-19T09:18:49.684Z"
   },
   {
    "duration": 41,
    "start_time": "2022-12-19T09:18:49.719Z"
   },
   {
    "duration": 130,
    "start_time": "2022-12-19T09:18:49.763Z"
   },
   {
    "duration": 105,
    "start_time": "2022-12-19T09:18:49.895Z"
   },
   {
    "duration": 22,
    "start_time": "2022-12-19T09:18:50.002Z"
   },
   {
    "duration": 24,
    "start_time": "2022-12-19T09:18:50.026Z"
   },
   {
    "duration": 211,
    "start_time": "2022-12-19T09:18:50.052Z"
   },
   {
    "duration": 219,
    "start_time": "2022-12-19T09:18:50.264Z"
   },
   {
    "duration": 202,
    "start_time": "2022-12-19T09:18:50.484Z"
   },
   {
    "duration": 314,
    "start_time": "2022-12-19T09:18:50.689Z"
   },
   {
    "duration": 258,
    "start_time": "2022-12-19T09:18:51.005Z"
   },
   {
    "duration": 114,
    "start_time": "2022-12-19T09:18:51.264Z"
   },
   {
    "duration": 126,
    "start_time": "2022-12-19T09:18:51.380Z"
   },
   {
    "duration": 120,
    "start_time": "2022-12-19T09:18:51.507Z"
   },
   {
    "duration": 4,
    "start_time": "2022-12-19T09:18:51.629Z"
   },
   {
    "duration": 20,
    "start_time": "2022-12-19T09:18:51.634Z"
   },
   {
    "duration": 58,
    "start_time": "2022-12-19T09:18:51.656Z"
   },
   {
    "duration": 4,
    "start_time": "2022-12-19T09:18:51.715Z"
   },
   {
    "duration": 33,
    "start_time": "2022-12-19T09:18:51.720Z"
   },
   {
    "duration": 53,
    "start_time": "2022-12-19T09:18:51.755Z"
   },
   {
    "duration": 4,
    "start_time": "2022-12-19T09:18:51.809Z"
   },
   {
    "duration": 497236,
    "start_time": "2022-12-19T09:18:51.814Z"
   },
   {
    "duration": 9,
    "start_time": "2022-12-19T09:27:09.052Z"
   },
   {
    "duration": 3,
    "start_time": "2022-12-19T09:27:09.063Z"
   },
   {
    "duration": 16,
    "start_time": "2022-12-19T09:27:09.067Z"
   },
   {
    "duration": 2,
    "start_time": "2022-12-19T09:27:09.085Z"
   },
   {
    "duration": 269,
    "start_time": "2022-12-19T09:27:09.088Z"
   },
   {
    "duration": 197,
    "start_time": "2022-12-19T09:27:09.358Z"
   },
   {
    "duration": 3,
    "start_time": "2022-12-19T09:27:09.557Z"
   },
   {
    "duration": 195,
    "start_time": "2022-12-19T09:27:09.562Z"
   },
   {
    "duration": 6,
    "start_time": "2022-12-19T09:27:09.759Z"
   },
   {
    "duration": 501713,
    "start_time": "2022-12-19T09:27:09.766Z"
   },
   {
    "duration": 85,
    "start_time": "2022-12-19T09:35:31.480Z"
   },
   {
    "duration": 0,
    "start_time": "2022-12-19T09:35:31.566Z"
   },
   {
    "duration": 147,
    "start_time": "2022-12-19T09:38:47.584Z"
   },
   {
    "duration": 4,
    "start_time": "2022-12-19T09:39:20.736Z"
   },
   {
    "duration": 9,
    "start_time": "2022-12-19T09:39:25.316Z"
   },
   {
    "duration": 4,
    "start_time": "2022-12-19T09:48:58.311Z"
   },
   {
    "duration": 9,
    "start_time": "2022-12-19T09:49:04.324Z"
   },
   {
    "duration": 4,
    "start_time": "2022-12-19T09:50:07.109Z"
   },
   {
    "duration": 10,
    "start_time": "2022-12-19T09:50:51.751Z"
   },
   {
    "duration": 1087371,
    "start_time": "2022-12-19T09:51:07.792Z"
   },
   {
    "duration": 2,
    "start_time": "2022-12-19T10:10:11.067Z"
   },
   {
    "duration": 164,
    "start_time": "2022-12-19T10:10:13.891Z"
   },
   {
    "duration": 16,
    "start_time": "2022-12-19T10:10:27.601Z"
   },
   {
    "duration": 3,
    "start_time": "2022-12-19T10:10:34.248Z"
   },
   {
    "duration": 23,
    "start_time": "2022-12-19T10:10:34.611Z"
   },
   {
    "duration": 2520,
    "start_time": "2022-12-19T10:11:37.049Z"
   },
   {
    "duration": 2046,
    "start_time": "2022-12-19T10:12:09.516Z"
   },
   {
    "duration": 19,
    "start_time": "2022-12-19T10:12:21.712Z"
   },
   {
    "duration": 4,
    "start_time": "2022-12-19T10:12:28.985Z"
   },
   {
    "duration": 4,
    "start_time": "2022-12-19T10:12:37.392Z"
   },
   {
    "duration": 2809,
    "start_time": "2022-12-19T10:13:12.452Z"
   },
   {
    "duration": 4,
    "start_time": "2022-12-19T10:14:13.517Z"
   },
   {
    "duration": 10,
    "start_time": "2022-12-19T10:15:33.973Z"
   },
   {
    "duration": 2525,
    "start_time": "2022-12-19T10:15:46.427Z"
   },
   {
    "duration": 1355,
    "start_time": "2022-12-19T10:17:53.848Z"
   },
   {
    "duration": 635,
    "start_time": "2022-12-19T10:17:55.204Z"
   },
   {
    "duration": 30,
    "start_time": "2022-12-19T10:17:55.841Z"
   },
   {
    "duration": 19,
    "start_time": "2022-12-19T10:17:55.873Z"
   },
   {
    "duration": 21,
    "start_time": "2022-12-19T10:17:55.894Z"
   },
   {
    "duration": 40,
    "start_time": "2022-12-19T10:17:55.918Z"
   },
   {
    "duration": 20,
    "start_time": "2022-12-19T10:17:55.961Z"
   },
   {
    "duration": 27,
    "start_time": "2022-12-19T10:17:55.983Z"
   },
   {
    "duration": 3,
    "start_time": "2022-12-19T10:17:56.012Z"
   },
   {
    "duration": 11,
    "start_time": "2022-12-19T10:17:56.018Z"
   },
   {
    "duration": 6,
    "start_time": "2022-12-19T10:17:56.052Z"
   },
   {
    "duration": 7,
    "start_time": "2022-12-19T10:17:56.059Z"
   },
   {
    "duration": 5,
    "start_time": "2022-12-19T10:17:56.068Z"
   },
   {
    "duration": 7,
    "start_time": "2022-12-19T10:17:56.075Z"
   },
   {
    "duration": 4,
    "start_time": "2022-12-19T10:17:56.084Z"
   },
   {
    "duration": 5,
    "start_time": "2022-12-19T10:17:56.090Z"
   },
   {
    "duration": 6,
    "start_time": "2022-12-19T10:17:56.097Z"
   },
   {
    "duration": 6,
    "start_time": "2022-12-19T10:17:56.105Z"
   },
   {
    "duration": 40,
    "start_time": "2022-12-19T10:17:56.113Z"
   },
   {
    "duration": 31,
    "start_time": "2022-12-19T10:17:56.155Z"
   },
   {
    "duration": 134,
    "start_time": "2022-12-19T10:17:56.188Z"
   },
   {
    "duration": 106,
    "start_time": "2022-12-19T10:17:56.324Z"
   },
   {
    "duration": 28,
    "start_time": "2022-12-19T10:17:56.432Z"
   },
   {
    "duration": 2,
    "start_time": "2022-12-19T10:17:56.462Z"
   },
   {
    "duration": 190,
    "start_time": "2022-12-19T10:17:56.466Z"
   },
   {
    "duration": 202,
    "start_time": "2022-12-19T10:17:56.657Z"
   },
   {
    "duration": 186,
    "start_time": "2022-12-19T10:17:56.861Z"
   },
   {
    "duration": 345,
    "start_time": "2022-12-19T10:17:57.050Z"
   },
   {
    "duration": 273,
    "start_time": "2022-12-19T10:17:57.396Z"
   },
   {
    "duration": 129,
    "start_time": "2022-12-19T10:17:57.671Z"
   },
   {
    "duration": 140,
    "start_time": "2022-12-19T10:17:57.802Z"
   },
   {
    "duration": 132,
    "start_time": "2022-12-19T10:17:57.944Z"
   },
   {
    "duration": 4,
    "start_time": "2022-12-19T10:17:58.077Z"
   },
   {
    "duration": 11,
    "start_time": "2022-12-19T10:17:58.083Z"
   },
   {
    "duration": 27,
    "start_time": "2022-12-19T10:17:58.096Z"
   },
   {
    "duration": 4,
    "start_time": "2022-12-19T10:17:58.125Z"
   },
   {
    "duration": 12,
    "start_time": "2022-12-19T10:17:58.152Z"
   },
   {
    "duration": 31,
    "start_time": "2022-12-19T10:17:58.166Z"
   },
   {
    "duration": 137,
    "start_time": "2022-12-19T10:17:58.199Z"
   },
   {
    "duration": 0,
    "start_time": "2022-12-19T10:17:58.338Z"
   },
   {
    "duration": 0,
    "start_time": "2022-12-19T10:17:58.341Z"
   },
   {
    "duration": 0,
    "start_time": "2022-12-19T10:17:58.343Z"
   },
   {
    "duration": 0,
    "start_time": "2022-12-19T10:17:58.352Z"
   },
   {
    "duration": 0,
    "start_time": "2022-12-19T10:17:58.353Z"
   },
   {
    "duration": 0,
    "start_time": "2022-12-19T10:17:58.355Z"
   },
   {
    "duration": 0,
    "start_time": "2022-12-19T10:17:58.356Z"
   },
   {
    "duration": 0,
    "start_time": "2022-12-19T10:17:58.358Z"
   },
   {
    "duration": 0,
    "start_time": "2022-12-19T10:17:58.360Z"
   },
   {
    "duration": 0,
    "start_time": "2022-12-19T10:17:58.363Z"
   },
   {
    "duration": 0,
    "start_time": "2022-12-19T10:17:58.365Z"
   },
   {
    "duration": 0,
    "start_time": "2022-12-19T10:17:58.366Z"
   },
   {
    "duration": 1346,
    "start_time": "2022-12-19T10:18:34.954Z"
   },
   {
    "duration": 642,
    "start_time": "2022-12-19T10:18:36.303Z"
   },
   {
    "duration": 31,
    "start_time": "2022-12-19T10:18:36.947Z"
   },
   {
    "duration": 22,
    "start_time": "2022-12-19T10:18:36.980Z"
   },
   {
    "duration": 21,
    "start_time": "2022-12-19T10:18:37.004Z"
   },
   {
    "duration": 36,
    "start_time": "2022-12-19T10:18:37.027Z"
   },
   {
    "duration": 20,
    "start_time": "2022-12-19T10:18:37.065Z"
   },
   {
    "duration": 17,
    "start_time": "2022-12-19T10:18:37.087Z"
   },
   {
    "duration": 3,
    "start_time": "2022-12-19T10:18:37.105Z"
   },
   {
    "duration": 7,
    "start_time": "2022-12-19T10:18:37.111Z"
   },
   {
    "duration": 37,
    "start_time": "2022-12-19T10:18:37.120Z"
   },
   {
    "duration": 7,
    "start_time": "2022-12-19T10:18:37.158Z"
   },
   {
    "duration": 7,
    "start_time": "2022-12-19T10:18:37.167Z"
   },
   {
    "duration": 7,
    "start_time": "2022-12-19T10:18:37.176Z"
   },
   {
    "duration": 8,
    "start_time": "2022-12-19T10:18:37.185Z"
   },
   {
    "duration": 6,
    "start_time": "2022-12-19T10:18:37.195Z"
   },
   {
    "duration": 7,
    "start_time": "2022-12-19T10:18:37.203Z"
   },
   {
    "duration": 9,
    "start_time": "2022-12-19T10:18:37.212Z"
   },
   {
    "duration": 31,
    "start_time": "2022-12-19T10:18:37.222Z"
   },
   {
    "duration": 25,
    "start_time": "2022-12-19T10:18:37.255Z"
   },
   {
    "duration": 139,
    "start_time": "2022-12-19T10:18:37.282Z"
   },
   {
    "duration": 109,
    "start_time": "2022-12-19T10:18:37.422Z"
   },
   {
    "duration": 32,
    "start_time": "2022-12-19T10:18:37.532Z"
   },
   {
    "duration": 2,
    "start_time": "2022-12-19T10:18:37.566Z"
   },
   {
    "duration": 190,
    "start_time": "2022-12-19T10:18:37.570Z"
   },
   {
    "duration": 196,
    "start_time": "2022-12-19T10:18:37.761Z"
   },
   {
    "duration": 173,
    "start_time": "2022-12-19T10:18:37.958Z"
   },
   {
    "duration": 307,
    "start_time": "2022-12-19T10:18:38.134Z"
   },
   {
    "duration": 255,
    "start_time": "2022-12-19T10:18:38.443Z"
   },
   {
    "duration": 108,
    "start_time": "2022-12-19T10:18:38.699Z"
   },
   {
    "duration": 139,
    "start_time": "2022-12-19T10:18:38.809Z"
   },
   {
    "duration": 129,
    "start_time": "2022-12-19T10:18:38.950Z"
   },
   {
    "duration": 3,
    "start_time": "2022-12-19T10:18:39.081Z"
   },
   {
    "duration": 9,
    "start_time": "2022-12-19T10:18:39.086Z"
   },
   {
    "duration": 32,
    "start_time": "2022-12-19T10:18:39.097Z"
   },
   {
    "duration": 4,
    "start_time": "2022-12-19T10:18:39.131Z"
   },
   {
    "duration": 28,
    "start_time": "2022-12-19T10:18:39.136Z"
   },
   {
    "duration": 33,
    "start_time": "2022-12-19T10:18:39.166Z"
   },
   {
    "duration": 3,
    "start_time": "2022-12-19T10:18:39.201Z"
   },
   {
    "duration": 504316,
    "start_time": "2022-12-19T10:18:39.205Z"
   },
   {
    "duration": 10,
    "start_time": "2022-12-19T10:27:03.522Z"
   },
   {
    "duration": 4,
    "start_time": "2022-12-19T10:27:03.533Z"
   },
   {
    "duration": 29,
    "start_time": "2022-12-19T10:27:03.538Z"
   },
   {
    "duration": 2,
    "start_time": "2022-12-19T10:27:03.568Z"
   },
   {
    "duration": 281,
    "start_time": "2022-12-19T10:27:03.572Z"
   },
   {
    "duration": 99,
    "start_time": "2022-12-19T10:27:03.855Z"
   },
   {
    "duration": 9,
    "start_time": "2022-12-19T10:27:03.957Z"
   },
   {
    "duration": 195,
    "start_time": "2022-12-19T10:27:03.968Z"
   },
   {
    "duration": 6,
    "start_time": "2022-12-19T10:27:04.165Z"
   },
   {
    "duration": 34939,
    "start_time": "2022-12-19T10:27:04.172Z"
   },
   {
    "duration": 0,
    "start_time": "2022-12-19T10:27:39.113Z"
   },
   {
    "duration": 14,
    "start_time": "2022-12-19T10:27:42.854Z"
   },
   {
    "duration": 8,
    "start_time": "2022-12-19T10:27:46.345Z"
   },
   {
    "duration": 3,
    "start_time": "2022-12-19T10:40:26.720Z"
   },
   {
    "duration": 17,
    "start_time": "2022-12-19T10:40:41.021Z"
   },
   {
    "duration": 15,
    "start_time": "2022-12-19T10:40:47.707Z"
   },
   {
    "duration": 14,
    "start_time": "2022-12-19T10:40:53.945Z"
   },
   {
    "duration": 16,
    "start_time": "2022-12-19T10:41:04.519Z"
   },
   {
    "duration": 5,
    "start_time": "2022-12-19T10:41:12.344Z"
   },
   {
    "duration": 660,
    "start_time": "2022-12-19T10:41:12.752Z"
   },
   {
    "duration": 22,
    "start_time": "2022-12-19T10:41:13.414Z"
   },
   {
    "duration": 20,
    "start_time": "2022-12-19T10:41:13.451Z"
   },
   {
    "duration": 24,
    "start_time": "2022-12-19T10:41:13.474Z"
   },
   {
    "duration": 14,
    "start_time": "2022-12-19T10:41:13.500Z"
   },
   {
    "duration": 49,
    "start_time": "2022-12-19T10:41:13.516Z"
   },
   {
    "duration": 18,
    "start_time": "2022-12-19T10:41:13.567Z"
   },
   {
    "duration": 3,
    "start_time": "2022-12-19T10:41:14.498Z"
   },
   {
    "duration": 5,
    "start_time": "2022-12-19T10:41:14.636Z"
   },
   {
    "duration": 5,
    "start_time": "2022-12-19T10:41:14.822Z"
   },
   {
    "duration": 5,
    "start_time": "2022-12-19T10:41:14.990Z"
   },
   {
    "duration": 5,
    "start_time": "2022-12-19T10:41:15.199Z"
   },
   {
    "duration": 6,
    "start_time": "2022-12-19T10:41:15.499Z"
   },
   {
    "duration": 3,
    "start_time": "2022-12-19T10:41:16.154Z"
   },
   {
    "duration": 3,
    "start_time": "2022-12-19T10:41:16.417Z"
   },
   {
    "duration": 5,
    "start_time": "2022-12-19T10:41:16.585Z"
   },
   {
    "duration": 4,
    "start_time": "2022-12-19T10:41:16.748Z"
   },
   {
    "duration": 4,
    "start_time": "2022-12-19T10:41:16.903Z"
   },
   {
    "duration": 3,
    "start_time": "2022-12-19T10:41:17.101Z"
   },
   {
    "duration": 24,
    "start_time": "2022-12-19T10:41:17.807Z"
   },
   {
    "duration": 120,
    "start_time": "2022-12-19T10:41:18.354Z"
   },
   {
    "duration": 91,
    "start_time": "2022-12-19T10:41:18.682Z"
   },
   {
    "duration": 26,
    "start_time": "2022-12-19T10:41:19.139Z"
   },
   {
    "duration": 3,
    "start_time": "2022-12-19T10:41:20.037Z"
   },
   {
    "duration": 172,
    "start_time": "2022-12-19T10:41:20.324Z"
   },
   {
    "duration": 2,
    "start_time": "2022-12-19T10:41:21.057Z"
   },
   {
    "duration": 200,
    "start_time": "2022-12-19T10:41:21.876Z"
   },
   {
    "duration": 10,
    "start_time": "2022-12-19T10:41:47.710Z"
   },
   {
    "duration": 191,
    "start_time": "2022-12-19T10:42:05.108Z"
   },
   {
    "duration": 544,
    "start_time": "2022-12-19T10:45:40.498Z"
   },
   {
    "duration": 305,
    "start_time": "2022-12-19T10:46:22.930Z"
   },
   {
    "duration": 288,
    "start_time": "2022-12-19T10:46:35.255Z"
   },
   {
    "duration": 284,
    "start_time": "2022-12-19T10:46:54.630Z"
   },
   {
    "duration": 1098,
    "start_time": "2022-12-19T10:47:02.927Z"
   },
   {
    "duration": 288,
    "start_time": "2022-12-19T10:47:09.007Z"
   },
   {
    "duration": 176,
    "start_time": "2022-12-19T10:48:28.699Z"
   },
   {
    "duration": 104,
    "start_time": "2022-12-19T10:48:41.490Z"
   },
   {
    "duration": 114,
    "start_time": "2022-12-19T10:49:45.098Z"
   },
   {
    "duration": 120,
    "start_time": "2022-12-19T10:50:17.128Z"
   },
   {
    "duration": 127,
    "start_time": "2022-12-19T10:50:48.161Z"
   },
   {
    "duration": 106,
    "start_time": "2022-12-19T10:51:01.687Z"
   },
   {
    "duration": 132,
    "start_time": "2022-12-19T10:51:09.290Z"
   },
   {
    "duration": 112,
    "start_time": "2022-12-19T10:51:38.922Z"
   },
   {
    "duration": 1331,
    "start_time": "2022-12-19T11:04:58.368Z"
   },
   {
    "duration": 726,
    "start_time": "2022-12-19T11:04:59.701Z"
   },
   {
    "duration": 27,
    "start_time": "2022-12-19T11:05:00.428Z"
   },
   {
    "duration": 30,
    "start_time": "2022-12-19T11:05:00.457Z"
   },
   {
    "duration": 29,
    "start_time": "2022-12-19T11:05:00.489Z"
   },
   {
    "duration": 37,
    "start_time": "2022-12-19T11:05:00.520Z"
   },
   {
    "duration": 28,
    "start_time": "2022-12-19T11:05:00.560Z"
   },
   {
    "duration": 35,
    "start_time": "2022-12-19T11:05:00.591Z"
   },
   {
    "duration": 3,
    "start_time": "2022-12-19T11:05:00.628Z"
   },
   {
    "duration": 20,
    "start_time": "2022-12-19T11:05:00.634Z"
   },
   {
    "duration": 10,
    "start_time": "2022-12-19T11:05:00.656Z"
   },
   {
    "duration": 9,
    "start_time": "2022-12-19T11:05:00.668Z"
   },
   {
    "duration": 17,
    "start_time": "2022-12-19T11:05:00.679Z"
   },
   {
    "duration": 11,
    "start_time": "2022-12-19T11:05:00.697Z"
   },
   {
    "duration": 9,
    "start_time": "2022-12-19T11:05:00.710Z"
   },
   {
    "duration": 13,
    "start_time": "2022-12-19T11:05:00.720Z"
   },
   {
    "duration": 13,
    "start_time": "2022-12-19T11:05:00.735Z"
   },
   {
    "duration": 37,
    "start_time": "2022-12-19T11:05:00.749Z"
   },
   {
    "duration": 12,
    "start_time": "2022-12-19T11:05:00.788Z"
   },
   {
    "duration": 11,
    "start_time": "2022-12-19T11:05:00.802Z"
   },
   {
    "duration": 38,
    "start_time": "2022-12-19T11:05:00.815Z"
   },
   {
    "duration": 133,
    "start_time": "2022-12-19T11:05:00.855Z"
   },
   {
    "duration": 109,
    "start_time": "2022-12-19T11:05:00.989Z"
   },
   {
    "duration": 22,
    "start_time": "2022-12-19T11:05:01.100Z"
   },
   {
    "duration": 3,
    "start_time": "2022-12-19T11:05:01.124Z"
   },
   {
    "duration": 136,
    "start_time": "2022-12-19T11:05:01.128Z"
   },
   {
    "duration": 3,
    "start_time": "2022-12-19T11:05:01.266Z"
   },
   {
    "duration": 127,
    "start_time": "2022-12-19T11:05:01.274Z"
   },
   {
    "duration": 2,
    "start_time": "2022-12-19T11:05:01.403Z"
   },
   {
    "duration": 123,
    "start_time": "2022-12-19T11:05:01.407Z"
   },
   {
    "duration": 2,
    "start_time": "2022-12-19T11:05:01.532Z"
   },
   {
    "duration": 382,
    "start_time": "2022-12-19T11:05:01.536Z"
   },
   {
    "duration": 292,
    "start_time": "2022-12-19T11:05:01.920Z"
   },
   {
    "duration": 3,
    "start_time": "2022-12-19T11:05:02.214Z"
   },
   {
    "duration": 122,
    "start_time": "2022-12-19T11:05:02.219Z"
   },
   {
    "duration": 10,
    "start_time": "2022-12-19T11:05:02.343Z"
   },
   {
    "duration": 201,
    "start_time": "2022-12-19T11:05:02.355Z"
   },
   {
    "duration": 2,
    "start_time": "2022-12-19T11:05:02.559Z"
   },
   {
    "duration": 170,
    "start_time": "2022-12-19T11:05:02.563Z"
   },
   {
    "duration": 3,
    "start_time": "2022-12-19T11:05:02.735Z"
   },
   {
    "duration": 22,
    "start_time": "2022-12-19T11:05:02.739Z"
   },
   {
    "duration": 14,
    "start_time": "2022-12-19T11:05:02.763Z"
   },
   {
    "duration": 35,
    "start_time": "2022-12-19T11:05:02.779Z"
   },
   {
    "duration": 4,
    "start_time": "2022-12-19T11:05:02.816Z"
   },
   {
    "duration": 14,
    "start_time": "2022-12-19T11:05:02.821Z"
   },
   {
    "duration": 44,
    "start_time": "2022-12-19T11:05:02.837Z"
   },
   {
    "duration": 4,
    "start_time": "2022-12-19T11:05:02.883Z"
   },
   {
    "duration": 143049,
    "start_time": "2022-12-19T11:05:02.888Z"
   },
   {
    "duration": 0,
    "start_time": "2022-12-19T11:07:25.939Z"
   },
   {
    "duration": 0,
    "start_time": "2022-12-19T11:07:25.941Z"
   },
   {
    "duration": 0,
    "start_time": "2022-12-19T11:07:25.943Z"
   },
   {
    "duration": 0,
    "start_time": "2022-12-19T11:07:25.952Z"
   },
   {
    "duration": 0,
    "start_time": "2022-12-19T11:07:25.954Z"
   },
   {
    "duration": 0,
    "start_time": "2022-12-19T11:07:25.956Z"
   },
   {
    "duration": 0,
    "start_time": "2022-12-19T11:07:25.957Z"
   },
   {
    "duration": 0,
    "start_time": "2022-12-19T11:07:25.959Z"
   },
   {
    "duration": 0,
    "start_time": "2022-12-19T11:07:25.960Z"
   },
   {
    "duration": 0,
    "start_time": "2022-12-19T11:07:25.962Z"
   },
   {
    "duration": 0,
    "start_time": "2022-12-19T11:07:25.963Z"
   },
   {
    "duration": 1435,
    "start_time": "2022-12-19T11:07:32.679Z"
   },
   {
    "duration": 797,
    "start_time": "2022-12-19T11:07:34.116Z"
   },
   {
    "duration": 30,
    "start_time": "2022-12-19T11:07:34.915Z"
   },
   {
    "duration": 34,
    "start_time": "2022-12-19T11:07:34.953Z"
   },
   {
    "duration": 30,
    "start_time": "2022-12-19T11:07:34.991Z"
   },
   {
    "duration": 20,
    "start_time": "2022-12-19T11:07:35.022Z"
   },
   {
    "duration": 29,
    "start_time": "2022-12-19T11:07:35.044Z"
   },
   {
    "duration": 28,
    "start_time": "2022-12-19T11:07:35.075Z"
   },
   {
    "duration": 2,
    "start_time": "2022-12-19T11:07:35.105Z"
   },
   {
    "duration": 9,
    "start_time": "2022-12-19T11:07:35.109Z"
   },
   {
    "duration": 7,
    "start_time": "2022-12-19T11:07:35.119Z"
   },
   {
    "duration": 37,
    "start_time": "2022-12-19T11:07:35.127Z"
   },
   {
    "duration": 17,
    "start_time": "2022-12-19T11:07:35.166Z"
   },
   {
    "duration": 7,
    "start_time": "2022-12-19T11:07:35.187Z"
   },
   {
    "duration": 4,
    "start_time": "2022-12-19T11:07:35.196Z"
   },
   {
    "duration": 7,
    "start_time": "2022-12-19T11:07:35.201Z"
   },
   {
    "duration": 5,
    "start_time": "2022-12-19T11:07:35.210Z"
   },
   {
    "duration": 6,
    "start_time": "2022-12-19T11:07:35.217Z"
   },
   {
    "duration": 6,
    "start_time": "2022-12-19T11:07:35.225Z"
   },
   {
    "duration": 4,
    "start_time": "2022-12-19T11:07:35.254Z"
   },
   {
    "duration": 39,
    "start_time": "2022-12-19T11:07:35.260Z"
   },
   {
    "duration": 126,
    "start_time": "2022-12-19T11:07:35.300Z"
   },
   {
    "duration": 114,
    "start_time": "2022-12-19T11:07:35.428Z"
   },
   {
    "duration": 29,
    "start_time": "2022-12-19T11:07:35.543Z"
   },
   {
    "duration": 9,
    "start_time": "2022-12-19T11:07:35.574Z"
   },
   {
    "duration": 128,
    "start_time": "2022-12-19T11:07:35.584Z"
   },
   {
    "duration": 3,
    "start_time": "2022-12-19T11:07:35.713Z"
   },
   {
    "duration": 126,
    "start_time": "2022-12-19T11:07:35.717Z"
   },
   {
    "duration": 9,
    "start_time": "2022-12-19T11:07:35.845Z"
   },
   {
    "duration": 128,
    "start_time": "2022-12-19T11:07:35.857Z"
   },
   {
    "duration": 2,
    "start_time": "2022-12-19T11:07:35.987Z"
   },
   {
    "duration": 354,
    "start_time": "2022-12-19T11:07:35.991Z"
   },
   {
    "duration": 303,
    "start_time": "2022-12-19T11:07:36.347Z"
   },
   {
    "duration": 3,
    "start_time": "2022-12-19T11:07:36.655Z"
   },
   {
    "duration": 124,
    "start_time": "2022-12-19T11:07:36.660Z"
   },
   {
    "duration": 4,
    "start_time": "2022-12-19T11:07:36.788Z"
   },
   {
    "duration": 147,
    "start_time": "2022-12-19T11:07:36.794Z"
   },
   {
    "duration": 3,
    "start_time": "2022-12-19T11:07:36.943Z"
   },
   {
    "duration": 159,
    "start_time": "2022-12-19T11:07:36.951Z"
   },
   {
    "duration": 2,
    "start_time": "2022-12-19T11:07:37.112Z"
   },
   {
    "duration": 8,
    "start_time": "2022-12-19T11:07:37.118Z"
   },
   {
    "duration": 14,
    "start_time": "2022-12-19T11:07:37.128Z"
   },
   {
    "duration": 45,
    "start_time": "2022-12-19T11:07:37.144Z"
   },
   {
    "duration": 4,
    "start_time": "2022-12-19T11:07:37.192Z"
   },
   {
    "duration": 18,
    "start_time": "2022-12-19T11:07:37.197Z"
   },
   {
    "duration": 54,
    "start_time": "2022-12-19T11:07:37.217Z"
   },
   {
    "duration": 134,
    "start_time": "2022-12-19T11:07:37.273Z"
   },
   {
    "duration": 0,
    "start_time": "2022-12-19T11:07:37.408Z"
   },
   {
    "duration": 0,
    "start_time": "2022-12-19T11:07:37.410Z"
   },
   {
    "duration": 0,
    "start_time": "2022-12-19T11:07:37.411Z"
   },
   {
    "duration": 0,
    "start_time": "2022-12-19T11:07:37.411Z"
   },
   {
    "duration": 0,
    "start_time": "2022-12-19T11:07:37.412Z"
   },
   {
    "duration": 0,
    "start_time": "2022-12-19T11:07:37.413Z"
   },
   {
    "duration": 1,
    "start_time": "2022-12-19T11:07:37.414Z"
   },
   {
    "duration": 0,
    "start_time": "2022-12-19T11:07:37.415Z"
   },
   {
    "duration": 0,
    "start_time": "2022-12-19T11:07:37.416Z"
   },
   {
    "duration": 0,
    "start_time": "2022-12-19T11:07:37.417Z"
   },
   {
    "duration": 0,
    "start_time": "2022-12-19T11:07:37.418Z"
   },
   {
    "duration": 0,
    "start_time": "2022-12-19T11:07:37.419Z"
   },
   {
    "duration": 5,
    "start_time": "2022-12-19T11:07:52.673Z"
   },
   {
    "duration": 4,
    "start_time": "2022-12-19T11:07:59.582Z"
   },
   {
    "duration": 513653,
    "start_time": "2022-12-19T11:08:00.156Z"
   },
   {
    "duration": 11,
    "start_time": "2022-12-19T11:16:33.811Z"
   },
   {
    "duration": 4,
    "start_time": "2022-12-19T11:16:33.823Z"
   },
   {
    "duration": 37,
    "start_time": "2022-12-19T11:16:33.828Z"
   },
   {
    "duration": 3,
    "start_time": "2022-12-19T11:16:33.867Z"
   },
   {
    "duration": 399,
    "start_time": "2022-12-19T11:16:33.872Z"
   },
   {
    "duration": 204,
    "start_time": "2022-12-19T11:16:34.354Z"
   },
   {
    "duration": 97,
    "start_time": "2022-12-19T11:16:34.560Z"
   },
   {
    "duration": 39,
    "start_time": "2022-12-19T11:16:34.659Z"
   },
   {
    "duration": 5,
    "start_time": "2022-12-19T11:16:34.701Z"
   },
   {
    "duration": 19,
    "start_time": "2022-12-19T11:16:34.708Z"
   },
   {
    "duration": 36,
    "start_time": "2022-12-19T11:16:34.729Z"
   },
   {
    "duration": 1575,
    "start_time": "2022-12-20T11:09:40.561Z"
   },
   {
    "duration": 2993,
    "start_time": "2022-12-20T11:09:42.138Z"
   },
   {
    "duration": 28,
    "start_time": "2022-12-20T11:09:45.133Z"
   },
   {
    "duration": 19,
    "start_time": "2022-12-20T11:09:45.164Z"
   },
   {
    "duration": 31,
    "start_time": "2022-12-20T11:09:45.185Z"
   },
   {
    "duration": 12,
    "start_time": "2022-12-20T11:09:45.218Z"
   },
   {
    "duration": 21,
    "start_time": "2022-12-20T11:09:45.232Z"
   },
   {
    "duration": 29,
    "start_time": "2022-12-20T11:09:45.254Z"
   },
   {
    "duration": 4,
    "start_time": "2022-12-20T11:09:46.337Z"
   },
   {
    "duration": 6,
    "start_time": "2022-12-20T11:09:47.494Z"
   },
   {
    "duration": 6,
    "start_time": "2022-12-20T11:09:47.723Z"
   },
   {
    "duration": 4,
    "start_time": "2022-12-20T11:09:47.965Z"
   },
   {
    "duration": 4,
    "start_time": "2022-12-20T11:09:48.246Z"
   },
   {
    "duration": 5,
    "start_time": "2022-12-20T11:09:48.578Z"
   },
   {
    "duration": 3,
    "start_time": "2022-12-20T11:09:51.314Z"
   },
   {
    "duration": 3,
    "start_time": "2022-12-20T11:09:51.570Z"
   },
   {
    "duration": 4,
    "start_time": "2022-12-20T11:09:51.855Z"
   },
   {
    "duration": 3,
    "start_time": "2022-12-20T11:09:52.210Z"
   },
   {
    "duration": 4,
    "start_time": "2022-12-20T11:09:53.838Z"
   },
   {
    "duration": 24,
    "start_time": "2022-12-20T11:09:56.660Z"
   },
   {
    "duration": 122,
    "start_time": "2022-12-20T11:09:56.953Z"
   },
   {
    "duration": 102,
    "start_time": "2022-12-20T11:09:57.694Z"
   },
   {
    "duration": 17,
    "start_time": "2022-12-20T11:10:04.429Z"
   },
   {
    "duration": 113,
    "start_time": "2022-12-20T11:10:12.841Z"
   },
   {
    "duration": 3,
    "start_time": "2022-12-20T11:10:23.302Z"
   },
   {
    "duration": 2,
    "start_time": "2022-12-20T11:10:27.143Z"
   },
   {
    "duration": 684,
    "start_time": "2022-12-20T11:10:55.066Z"
   },
   {
    "duration": 20,
    "start_time": "2022-12-20T11:10:55.981Z"
   },
   {
    "duration": 14,
    "start_time": "2022-12-20T11:11:03.293Z"
   },
   {
    "duration": 99,
    "start_time": "2022-12-20T11:11:03.770Z"
   },
   {
    "duration": 126,
    "start_time": "2022-12-20T11:11:14.245Z"
   },
   {
    "duration": 37,
    "start_time": "2022-12-20T11:11:23.380Z"
   },
   {
    "duration": 55,
    "start_time": "2022-12-20T11:16:18.557Z"
   },
   {
    "duration": 190,
    "start_time": "2022-12-20T11:18:37.321Z"
   },
   {
    "duration": 582,
    "start_time": "2022-12-20T11:19:30.999Z"
   },
   {
    "duration": 699,
    "start_time": "2022-12-20T11:19:44.936Z"
   },
   {
    "duration": 483,
    "start_time": "2022-12-20T11:19:48.497Z"
   },
   {
    "duration": 666,
    "start_time": "2022-12-20T11:19:56.815Z"
   },
   {
    "duration": 1355,
    "start_time": "2022-12-20T11:20:05.878Z"
   },
   {
    "duration": 374,
    "start_time": "2022-12-20T11:20:14.520Z"
   },
   {
    "duration": 498,
    "start_time": "2022-12-20T11:20:25.563Z"
   },
   {
    "duration": 701,
    "start_time": "2022-12-20T11:20:36.197Z"
   },
   {
    "duration": 10,
    "start_time": "2022-12-20T11:22:12.996Z"
   },
   {
    "duration": 416,
    "start_time": "2022-12-20T11:22:23.505Z"
   },
   {
    "duration": 261,
    "start_time": "2022-12-20T11:22:32.374Z"
   },
   {
    "duration": 799,
    "start_time": "2022-12-20T11:22:48.489Z"
   },
   {
    "duration": 750,
    "start_time": "2022-12-20T11:24:04.336Z"
   },
   {
    "duration": 5,
    "start_time": "2022-12-20T11:27:09.137Z"
   },
   {
    "duration": 169,
    "start_time": "2022-12-20T11:27:20.151Z"
   },
   {
    "duration": 657,
    "start_time": "2022-12-20T11:27:26.693Z"
   },
   {
    "duration": 10,
    "start_time": "2022-12-20T11:27:55.126Z"
   },
   {
    "duration": 10,
    "start_time": "2022-12-20T11:28:00.966Z"
   },
   {
    "duration": 280,
    "start_time": "2022-12-20T11:29:02.569Z"
   },
   {
    "duration": 291,
    "start_time": "2022-12-20T11:29:13.164Z"
   },
   {
    "duration": 517,
    "start_time": "2022-12-20T11:29:17.745Z"
   },
   {
    "duration": 265,
    "start_time": "2022-12-20T11:29:26.442Z"
   },
   {
    "duration": 289,
    "start_time": "2022-12-20T11:29:29.929Z"
   },
   {
    "duration": 5,
    "start_time": "2022-12-20T11:30:46.752Z"
   },
   {
    "duration": 271,
    "start_time": "2022-12-20T11:30:54.299Z"
   },
   {
    "duration": 5,
    "start_time": "2022-12-20T11:34:00.605Z"
   },
   {
    "duration": 954,
    "start_time": "2022-12-20T11:34:00.988Z"
   },
   {
    "duration": 6,
    "start_time": "2022-12-20T11:34:10.674Z"
   },
   {
    "duration": 386,
    "start_time": "2022-12-20T11:34:10.915Z"
   },
   {
    "duration": 8,
    "start_time": "2022-12-20T11:36:16.307Z"
   },
   {
    "duration": 283,
    "start_time": "2022-12-20T11:36:16.562Z"
   },
   {
    "duration": 10,
    "start_time": "2022-12-20T11:36:18.690Z"
   },
   {
    "duration": 5,
    "start_time": "2022-12-20T11:36:26.053Z"
   },
   {
    "duration": 5,
    "start_time": "2022-12-20T11:36:45.818Z"
   },
   {
    "duration": 345,
    "start_time": "2022-12-20T11:36:46.043Z"
   },
   {
    "duration": 6,
    "start_time": "2022-12-20T11:36:46.396Z"
   },
   {
    "duration": 322,
    "start_time": "2022-12-20T11:36:47.730Z"
   },
   {
    "duration": 3,
    "start_time": "2022-12-20T11:37:18.446Z"
   },
   {
    "duration": 8,
    "start_time": "2022-12-20T11:37:23.163Z"
   },
   {
    "duration": 29,
    "start_time": "2022-12-20T11:37:23.419Z"
   },
   {
    "duration": 4,
    "start_time": "2022-12-20T11:37:23.697Z"
   },
   {
    "duration": 14,
    "start_time": "2022-12-20T11:37:24.349Z"
   },
   {
    "duration": 34,
    "start_time": "2022-12-20T11:37:24.634Z"
   },
   {
    "duration": 4,
    "start_time": "2022-12-20T11:37:54.127Z"
   },
   {
    "duration": 542683,
    "start_time": "2022-12-20T11:37:57.489Z"
   },
   {
    "duration": 9,
    "start_time": "2022-12-20T11:47:00.174Z"
   },
   {
    "duration": 26,
    "start_time": "2022-12-20T11:47:00.185Z"
   },
   {
    "duration": 47,
    "start_time": "2022-12-20T11:47:00.213Z"
   },
   {
    "duration": 22,
    "start_time": "2022-12-20T12:05:57.069Z"
   },
   {
    "duration": 24,
    "start_time": "2022-12-20T12:06:28.068Z"
   },
   {
    "duration": 4,
    "start_time": "2022-12-20T12:06:50.867Z"
   },
   {
    "duration": 3,
    "start_time": "2022-12-20T12:06:55.466Z"
   },
   {
    "duration": 13,
    "start_time": "2022-12-20T12:06:59.073Z"
   },
   {
    "duration": 3,
    "start_time": "2022-12-20T12:06:59.329Z"
   },
   {
    "duration": 17,
    "start_time": "2022-12-20T12:07:01.014Z"
   },
   {
    "duration": 3,
    "start_time": "2022-12-20T12:07:04.205Z"
   },
   {
    "duration": 294,
    "start_time": "2022-12-20T12:07:04.409Z"
   },
   {
    "duration": 204,
    "start_time": "2022-12-20T12:07:04.704Z"
   },
   {
    "duration": 3,
    "start_time": "2022-12-20T12:07:04.998Z"
   },
   {
    "duration": 129,
    "start_time": "2022-12-20T12:07:05.003Z"
   },
   {
    "duration": 36104,
    "start_time": "2022-12-20T12:16:07.327Z"
   },
   {
    "duration": 46,
    "start_time": "2022-12-20T12:16:43.433Z"
   },
   {
    "duration": 3,
    "start_time": "2022-12-20T12:16:43.481Z"
   },
   {
    "duration": 16,
    "start_time": "2022-12-20T12:16:47.080Z"
   },
   {
    "duration": 14,
    "start_time": "2022-12-20T12:17:15.094Z"
   },
   {
    "duration": 7,
    "start_time": "2022-12-20T12:17:18.114Z"
   },
   {
    "duration": 36,
    "start_time": "2022-12-20T12:17:18.432Z"
   },
   {
    "duration": 4,
    "start_time": "2022-12-20T12:18:31.839Z"
   },
   {
    "duration": 3,
    "start_time": "2022-12-20T12:21:00.543Z"
   },
   {
    "duration": 7,
    "start_time": "2022-12-20T12:21:00.982Z"
   },
   {
    "duration": 3,
    "start_time": "2022-12-20T12:21:01.983Z"
   },
   {
    "duration": 9,
    "start_time": "2022-12-20T12:21:31.928Z"
   },
   {
    "duration": 1530,
    "start_time": "2022-12-20T13:07:15.711Z"
   },
   {
    "duration": 719,
    "start_time": "2022-12-20T13:07:17.243Z"
   },
   {
    "duration": 45,
    "start_time": "2022-12-20T13:07:17.964Z"
   },
   {
    "duration": 24,
    "start_time": "2022-12-20T13:07:18.012Z"
   },
   {
    "duration": 30,
    "start_time": "2022-12-20T13:07:18.038Z"
   },
   {
    "duration": 19,
    "start_time": "2022-12-20T13:07:18.096Z"
   },
   {
    "duration": 26,
    "start_time": "2022-12-20T13:07:18.117Z"
   },
   {
    "duration": 20,
    "start_time": "2022-12-20T13:07:18.145Z"
   },
   {
    "duration": 4,
    "start_time": "2022-12-20T13:07:18.166Z"
   },
   {
    "duration": 9,
    "start_time": "2022-12-20T13:07:18.198Z"
   },
   {
    "duration": 13,
    "start_time": "2022-12-20T13:07:18.209Z"
   },
   {
    "duration": 25,
    "start_time": "2022-12-20T13:07:18.223Z"
   },
   {
    "duration": 10,
    "start_time": "2022-12-20T13:07:18.250Z"
   },
   {
    "duration": 6,
    "start_time": "2022-12-20T13:07:18.262Z"
   },
   {
    "duration": 8,
    "start_time": "2022-12-20T13:07:18.269Z"
   },
   {
    "duration": 8,
    "start_time": "2022-12-20T13:07:18.279Z"
   },
   {
    "duration": 10,
    "start_time": "2022-12-20T13:07:18.297Z"
   },
   {
    "duration": 11,
    "start_time": "2022-12-20T13:07:18.309Z"
   },
   {
    "duration": 10,
    "start_time": "2022-12-20T13:07:18.322Z"
   },
   {
    "duration": 5,
    "start_time": "2022-12-20T13:07:18.334Z"
   },
   {
    "duration": 39,
    "start_time": "2022-12-20T13:07:18.341Z"
   },
   {
    "duration": 161,
    "start_time": "2022-12-20T13:07:18.382Z"
   },
   {
    "duration": 115,
    "start_time": "2022-12-20T13:07:18.545Z"
   },
   {
    "duration": 3,
    "start_time": "2022-12-20T13:07:18.662Z"
   },
   {
    "duration": 18,
    "start_time": "2022-12-20T13:07:18.666Z"
   },
   {
    "duration": 123,
    "start_time": "2022-12-20T13:07:18.686Z"
   },
   {
    "duration": 137,
    "start_time": "2022-12-20T13:07:18.810Z"
   },
   {
    "duration": 28,
    "start_time": "2022-12-20T13:07:18.951Z"
   },
   {
    "duration": 3,
    "start_time": "2022-12-20T13:07:18.997Z"
   },
   {
    "duration": 138,
    "start_time": "2022-12-20T13:07:19.001Z"
   },
   {
    "duration": 3,
    "start_time": "2022-12-20T13:07:19.141Z"
   },
   {
    "duration": 168,
    "start_time": "2022-12-20T13:07:19.146Z"
   },
   {
    "duration": 3,
    "start_time": "2022-12-20T13:07:19.317Z"
   },
   {
    "duration": 222,
    "start_time": "2022-12-20T13:07:19.322Z"
   },
   {
    "duration": 3,
    "start_time": "2022-12-20T13:07:19.546Z"
   },
   {
    "duration": 306,
    "start_time": "2022-12-20T13:07:19.550Z"
   },
   {
    "duration": 293,
    "start_time": "2022-12-20T13:07:19.858Z"
   },
   {
    "duration": 2,
    "start_time": "2022-12-20T13:07:20.153Z"
   },
   {
    "duration": 617,
    "start_time": "2022-12-20T13:07:20.157Z"
   },
   {
    "duration": 6,
    "start_time": "2022-12-20T13:07:20.775Z"
   },
   {
    "duration": 292,
    "start_time": "2022-12-20T13:07:20.783Z"
   },
   {
    "duration": 5,
    "start_time": "2022-12-20T13:07:21.078Z"
   },
   {
    "duration": 393,
    "start_time": "2022-12-20T13:07:21.085Z"
   },
   {
    "duration": 5,
    "start_time": "2022-12-20T13:07:21.480Z"
   },
   {
    "duration": 315,
    "start_time": "2022-12-20T13:07:21.496Z"
   },
   {
    "duration": 4,
    "start_time": "2022-12-20T13:07:21.813Z"
   },
   {
    "duration": 19,
    "start_time": "2022-12-20T13:07:21.819Z"
   },
   {
    "duration": 36,
    "start_time": "2022-12-20T13:07:21.840Z"
   },
   {
    "duration": 5,
    "start_time": "2022-12-20T13:07:21.877Z"
   },
   {
    "duration": 22,
    "start_time": "2022-12-20T13:07:21.884Z"
   },
   {
    "duration": 39,
    "start_time": "2022-12-20T13:07:21.908Z"
   },
   {
    "duration": 5,
    "start_time": "2022-12-20T13:07:21.950Z"
   },
   {
    "duration": 573165,
    "start_time": "2022-12-20T13:07:21.957Z"
   },
   {
    "duration": 15,
    "start_time": "2022-12-20T13:16:55.125Z"
   },
   {
    "duration": 8,
    "start_time": "2022-12-20T13:16:55.142Z"
   },
   {
    "duration": 26,
    "start_time": "2022-12-20T13:16:55.153Z"
   },
   {
    "duration": 16,
    "start_time": "2022-12-20T13:16:55.181Z"
   },
   {
    "duration": 401,
    "start_time": "2022-12-20T13:16:55.200Z"
   },
   {
    "duration": 194,
    "start_time": "2022-12-20T13:16:55.603Z"
   },
   {
    "duration": 102,
    "start_time": "2022-12-20T13:16:55.800Z"
   },
   {
    "duration": 21,
    "start_time": "2022-12-20T13:16:55.904Z"
   },
   {
    "duration": 3,
    "start_time": "2022-12-20T13:16:55.927Z"
   },
   {
    "duration": 38787,
    "start_time": "2022-12-20T13:16:55.932Z"
   },
   {
    "duration": 50,
    "start_time": "2022-12-20T13:17:34.721Z"
   },
   {
    "duration": 3,
    "start_time": "2022-12-20T13:17:34.773Z"
   },
   {
    "duration": 21,
    "start_time": "2022-12-20T13:17:34.778Z"
   },
   {
    "duration": 5,
    "start_time": "2022-12-20T13:17:34.800Z"
   },
   {
    "duration": 33,
    "start_time": "2022-12-20T13:17:34.807Z"
   },
   {
    "duration": 3,
    "start_time": "2022-12-20T13:17:34.842Z"
   },
   {
    "duration": 10,
    "start_time": "2022-12-20T13:17:34.847Z"
   },
   {
    "duration": 6,
    "start_time": "2022-12-20T13:17:34.859Z"
   },
   {
    "duration": 30,
    "start_time": "2022-12-20T13:17:34.867Z"
   },
   {
    "duration": 4,
    "start_time": "2022-12-20T13:27:48.289Z"
   },
   {
    "duration": 37378,
    "start_time": "2022-12-20T13:28:20.790Z"
   },
   {
    "duration": 4,
    "start_time": "2022-12-20T13:38:22.030Z"
   },
   {
    "duration": 127,
    "start_time": "2022-12-20T13:38:44.026Z"
   },
   {
    "duration": 4,
    "start_time": "2022-12-20T13:39:24.031Z"
   },
   {
    "duration": 68,
    "start_time": "2022-12-20T13:39:30.028Z"
   },
   {
    "duration": 4,
    "start_time": "2022-12-20T13:39:32.843Z"
   },
   {
    "duration": 5,
    "start_time": "2022-12-20T13:39:43.570Z"
   },
   {
    "duration": 7,
    "start_time": "2022-12-20T13:40:00.636Z"
   },
   {
    "duration": 44,
    "start_time": "2022-12-20T13:42:04.824Z"
   },
   {
    "duration": 3,
    "start_time": "2022-12-20T13:42:05.543Z"
   },
   {
    "duration": 22,
    "start_time": "2022-12-20T13:42:06.442Z"
   },
   {
    "duration": 2376,
    "start_time": "2022-12-20T14:42:45.477Z"
   },
   {
    "duration": 3026,
    "start_time": "2022-12-20T14:42:47.855Z"
   },
   {
    "duration": 27,
    "start_time": "2022-12-20T14:42:50.882Z"
   },
   {
    "duration": 20,
    "start_time": "2022-12-20T14:42:50.912Z"
   },
   {
    "duration": 45,
    "start_time": "2022-12-20T14:42:50.934Z"
   },
   {
    "duration": 18,
    "start_time": "2022-12-20T14:42:50.981Z"
   },
   {
    "duration": 27,
    "start_time": "2022-12-20T14:42:51.001Z"
   },
   {
    "duration": 48,
    "start_time": "2022-12-20T14:42:51.030Z"
   },
   {
    "duration": 4,
    "start_time": "2022-12-20T14:42:51.079Z"
   },
   {
    "duration": 9,
    "start_time": "2022-12-20T14:42:51.085Z"
   },
   {
    "duration": 6,
    "start_time": "2022-12-20T14:42:51.095Z"
   },
   {
    "duration": 7,
    "start_time": "2022-12-20T14:42:51.103Z"
   },
   {
    "duration": 5,
    "start_time": "2022-12-20T14:42:51.111Z"
   },
   {
    "duration": 11,
    "start_time": "2022-12-20T14:42:51.118Z"
   },
   {
    "duration": 4,
    "start_time": "2022-12-20T14:42:51.131Z"
   },
   {
    "duration": 5,
    "start_time": "2022-12-20T14:42:51.136Z"
   },
   {
    "duration": 10,
    "start_time": "2022-12-20T14:42:51.143Z"
   },
   {
    "duration": 27,
    "start_time": "2022-12-20T14:42:51.154Z"
   },
   {
    "duration": 13,
    "start_time": "2022-12-20T14:42:51.182Z"
   },
   {
    "duration": 16,
    "start_time": "2022-12-20T14:42:51.197Z"
   },
   {
    "duration": 37,
    "start_time": "2022-12-20T14:42:51.215Z"
   },
   {
    "duration": 131,
    "start_time": "2022-12-20T14:42:51.253Z"
   },
   {
    "duration": 117,
    "start_time": "2022-12-20T14:42:51.386Z"
   },
   {
    "duration": 3,
    "start_time": "2022-12-20T14:42:51.504Z"
   },
   {
    "duration": 24,
    "start_time": "2022-12-20T14:42:51.508Z"
   },
   {
    "duration": 119,
    "start_time": "2022-12-20T14:42:51.534Z"
   },
   {
    "duration": 138,
    "start_time": "2022-12-20T14:42:51.654Z"
   },
   {
    "duration": 26,
    "start_time": "2022-12-20T14:42:51.796Z"
   },
   {
    "duration": 4,
    "start_time": "2022-12-20T14:42:51.824Z"
   },
   {
    "duration": 143,
    "start_time": "2022-12-20T14:42:51.830Z"
   },
   {
    "duration": 2,
    "start_time": "2022-12-20T14:42:51.977Z"
   },
   {
    "duration": 126,
    "start_time": "2022-12-20T14:42:51.980Z"
   },
   {
    "duration": 3,
    "start_time": "2022-12-20T14:42:52.109Z"
   },
   {
    "duration": 206,
    "start_time": "2022-12-20T14:42:52.113Z"
   },
   {
    "duration": 3,
    "start_time": "2022-12-20T14:42:52.321Z"
   },
   {
    "duration": 272,
    "start_time": "2022-12-20T14:42:52.325Z"
   },
   {
    "duration": 272,
    "start_time": "2022-12-20T14:42:52.598Z"
   },
   {
    "duration": 6,
    "start_time": "2022-12-20T14:42:52.872Z"
   },
   {
    "duration": 674,
    "start_time": "2022-12-20T14:42:52.880Z"
   },
   {
    "duration": 4,
    "start_time": "2022-12-20T14:42:53.556Z"
   },
   {
    "duration": 286,
    "start_time": "2022-12-20T14:42:53.562Z"
   },
   {
    "duration": 6,
    "start_time": "2022-12-20T14:42:53.850Z"
   },
   {
    "duration": 383,
    "start_time": "2022-12-20T14:42:53.858Z"
   },
   {
    "duration": 6,
    "start_time": "2022-12-20T14:42:54.242Z"
   },
   {
    "duration": 288,
    "start_time": "2022-12-20T14:42:54.249Z"
   },
   {
    "duration": 4,
    "start_time": "2022-12-20T14:42:54.539Z"
   },
   {
    "duration": 13,
    "start_time": "2022-12-20T14:42:54.544Z"
   },
   {
    "duration": 41,
    "start_time": "2022-12-20T14:42:54.558Z"
   },
   {
    "duration": 4,
    "start_time": "2022-12-20T14:43:13.789Z"
   },
   {
    "duration": 5,
    "start_time": "2022-12-20T14:43:18.556Z"
   },
   {
    "duration": 33,
    "start_time": "2022-12-20T14:43:20.525Z"
   },
   {
    "duration": 30,
    "start_time": "2022-12-20T14:44:02.211Z"
   }
  ],
  "kernelspec": {
   "display_name": "Python 3 (ipykernel)",
   "language": "python",
   "name": "python3"
  },
  "language_info": {
   "codemirror_mode": {
    "name": "ipython",
    "version": 3
   },
   "file_extension": ".py",
   "mimetype": "text/x-python",
   "name": "python",
   "nbconvert_exporter": "python",
   "pygments_lexer": "ipython3",
   "version": "3.9.7"
  },
  "toc": {
   "base_numbering": 1,
   "nav_menu": {},
   "number_sections": true,
   "sideBar": true,
   "skip_h1_title": true,
   "title_cell": "Содержание",
   "title_sidebar": "Contents",
   "toc_cell": true,
   "toc_position": {
    "height": "calc(100% - 180px)",
    "left": "10px",
    "top": "150px",
    "width": "303.266px"
   },
   "toc_section_display": true,
   "toc_window_display": true
  }
 },
 "nbformat": 4,
 "nbformat_minor": 2
}
