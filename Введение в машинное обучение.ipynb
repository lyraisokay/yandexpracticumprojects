{
 "cells": [
  {
   "cell_type": "markdown",
   "metadata": {},
   "source": [
    "# Рекомендация тарифов"
   ]
  },
  {
   "cell_type": "markdown",
   "metadata": {},
   "source": [
    "В вашем распоряжении данные о поведении клиентов, которые уже перешли на эти тарифы (из проекта курса «Статистический анализ данных»). Нужно построить модель для задачи классификации, которая выберет подходящий тариф. Предобработка данных не понадобится — вы её уже сделали.\n",
    "\n",
    "Постройте модель с максимально большим значением *accuracy*. Чтобы сдать проект успешно, нужно довести долю правильных ответов по крайней мере до 0.75. Проверьте *accuracy* на тестовой выборке самостоятельно."
   ]
  },
  {
   "cell_type": "markdown",
   "metadata": {},
   "source": [
    "## Откройте и изучите файл"
   ]
  },
  {
   "cell_type": "code",
   "execution_count": 1,
   "metadata": {},
   "outputs": [],
   "source": [
    "import warnings\n",
    "warnings.filterwarnings('ignore')\n",
    "\n",
    "import pandas as pd\n",
    "import numpy as np\n",
    "from sklearn.dummy import DummyClassifier\n",
    "from sklearn.metrics import accuracy_score\n",
    "from sklearn.ensemble import RandomForestClassifier\n",
    "from sklearn.tree import DecisionTreeClassifier\n",
    "from sklearn.linear_model import LogisticRegression \n",
    "from sklearn.model_selection import train_test_split\n",
    "from sklearn.linear_model import LogisticRegression\n",
    "from sklearn.model_selection import GridSearchCV\n",
    "from sklearn.metrics import plot_confusion_matrix"
   ]
  },
  {
   "cell_type": "code",
   "execution_count": 2,
   "metadata": {},
   "outputs": [],
   "source": [
    "df = pd.read_csv('/datasets/users_behavior.csv')"
   ]
  },
  {
   "cell_type": "code",
   "execution_count": 3,
   "metadata": {},
   "outputs": [
    {
     "data": {
      "text/html": [
       "<div>\n",
       "<style scoped>\n",
       "    .dataframe tbody tr th:only-of-type {\n",
       "        vertical-align: middle;\n",
       "    }\n",
       "\n",
       "    .dataframe tbody tr th {\n",
       "        vertical-align: top;\n",
       "    }\n",
       "\n",
       "    .dataframe thead th {\n",
       "        text-align: right;\n",
       "    }\n",
       "</style>\n",
       "<table border=\"1\" class=\"dataframe\">\n",
       "  <thead>\n",
       "    <tr style=\"text-align: right;\">\n",
       "      <th></th>\n",
       "      <th>calls</th>\n",
       "      <th>minutes</th>\n",
       "      <th>messages</th>\n",
       "      <th>mb_used</th>\n",
       "      <th>is_ultra</th>\n",
       "    </tr>\n",
       "  </thead>\n",
       "  <tbody>\n",
       "    <tr>\n",
       "      <th>0</th>\n",
       "      <td>40.0</td>\n",
       "      <td>311.90</td>\n",
       "      <td>83.0</td>\n",
       "      <td>19915.42</td>\n",
       "      <td>0</td>\n",
       "    </tr>\n",
       "    <tr>\n",
       "      <th>1</th>\n",
       "      <td>85.0</td>\n",
       "      <td>516.75</td>\n",
       "      <td>56.0</td>\n",
       "      <td>22696.96</td>\n",
       "      <td>0</td>\n",
       "    </tr>\n",
       "    <tr>\n",
       "      <th>2</th>\n",
       "      <td>77.0</td>\n",
       "      <td>467.66</td>\n",
       "      <td>86.0</td>\n",
       "      <td>21060.45</td>\n",
       "      <td>0</td>\n",
       "    </tr>\n",
       "    <tr>\n",
       "      <th>3</th>\n",
       "      <td>106.0</td>\n",
       "      <td>745.53</td>\n",
       "      <td>81.0</td>\n",
       "      <td>8437.39</td>\n",
       "      <td>1</td>\n",
       "    </tr>\n",
       "    <tr>\n",
       "      <th>4</th>\n",
       "      <td>66.0</td>\n",
       "      <td>418.74</td>\n",
       "      <td>1.0</td>\n",
       "      <td>14502.75</td>\n",
       "      <td>0</td>\n",
       "    </tr>\n",
       "  </tbody>\n",
       "</table>\n",
       "</div>"
      ],
      "text/plain": [
       "   calls  minutes  messages   mb_used  is_ultra\n",
       "0   40.0   311.90      83.0  19915.42         0\n",
       "1   85.0   516.75      56.0  22696.96         0\n",
       "2   77.0   467.66      86.0  21060.45         0\n",
       "3  106.0   745.53      81.0   8437.39         1\n",
       "4   66.0   418.74       1.0  14502.75         0"
      ]
     },
     "execution_count": 3,
     "metadata": {},
     "output_type": "execute_result"
    }
   ],
   "source": [
    "df.head()"
   ]
  },
  {
   "cell_type": "code",
   "execution_count": 4,
   "metadata": {},
   "outputs": [
    {
     "name": "stdout",
     "output_type": "stream",
     "text": [
      "<class 'pandas.core.frame.DataFrame'>\n",
      "RangeIndex: 3214 entries, 0 to 3213\n",
      "Data columns (total 5 columns):\n",
      " #   Column    Non-Null Count  Dtype  \n",
      "---  ------    --------------  -----  \n",
      " 0   calls     3214 non-null   float64\n",
      " 1   minutes   3214 non-null   float64\n",
      " 2   messages  3214 non-null   float64\n",
      " 3   mb_used   3214 non-null   float64\n",
      " 4   is_ultra  3214 non-null   int64  \n",
      "dtypes: float64(4), int64(1)\n",
      "memory usage: 125.7 KB\n"
     ]
    }
   ],
   "source": [
    "df.info()"
   ]
  },
  {
   "cell_type": "markdown",
   "metadata": {},
   "source": [
    "<b>Поправила тип данных у <code>calls</code> и <code>messages</code>"
   ]
  },
  {
   "cell_type": "code",
   "execution_count": 5,
   "metadata": {},
   "outputs": [],
   "source": [
    "df.calls = df.calls.astype('int') \n",
    "df.messages = df.messages.astype('int') "
   ]
  },
  {
   "cell_type": "code",
   "execution_count": 6,
   "metadata": {},
   "outputs": [
    {
     "name": "stdout",
     "output_type": "stream",
     "text": [
      "<class 'pandas.core.frame.DataFrame'>\n",
      "RangeIndex: 3214 entries, 0 to 3213\n",
      "Data columns (total 5 columns):\n",
      " #   Column    Non-Null Count  Dtype  \n",
      "---  ------    --------------  -----  \n",
      " 0   calls     3214 non-null   int64  \n",
      " 1   minutes   3214 non-null   float64\n",
      " 2   messages  3214 non-null   int64  \n",
      " 3   mb_used   3214 non-null   float64\n",
      " 4   is_ultra  3214 non-null   int64  \n",
      "dtypes: float64(2), int64(3)\n",
      "memory usage: 125.7 KB\n"
     ]
    }
   ],
   "source": [
    "df.info()"
   ]
  },
  {
   "cell_type": "markdown",
   "metadata": {},
   "source": [
    "## Разбейте данные на выборки"
   ]
  },
  {
   "cell_type": "code",
   "execution_count": 7,
   "metadata": {},
   "outputs": [],
   "source": [
    "df_train, df_valid = train_test_split(df, test_size=0.20, random_state=12345) "
   ]
  },
  {
   "cell_type": "code",
   "execution_count": 8,
   "metadata": {},
   "outputs": [],
   "source": [
    "df_features_train = df_train.drop(['is_ultra'], axis=1)\n",
    "df_target_train = df_train['is_ultra']"
   ]
  },
  {
   "cell_type": "code",
   "execution_count": 9,
   "metadata": {},
   "outputs": [],
   "source": [
    "features_valid = df_valid.drop(['is_ultra'], axis=1)\n",
    "target_valid = df_valid['is_ultra']"
   ]
  },
  {
   "cell_type": "code",
   "execution_count": 10,
   "metadata": {},
   "outputs": [],
   "source": [
    "features_train, features_test,target_train, target_test  = train_test_split(df_features_train, df_target_train, \n",
    "                                                                            test_size = 0.25, random_state=12345, \n",
    "                                                                            stratify=df_target_train)"
   ]
  },
  {
   "cell_type": "code",
   "execution_count": 11,
   "metadata": {},
   "outputs": [
    {
     "name": "stdout",
     "output_type": "stream",
     "text": [
      "Количество строк в target_train по классам: [1336  592]\n",
      "Количество строк в target_test по классам: [446 197]\n"
     ]
    }
   ],
   "source": [
    "print(f\"Количество строк в target_train по классам: {np.bincount(target_train)}\")\n",
    "print(f\"Количество строк в target_test по классам: {np.bincount(target_test)}\")"
   ]
  },
  {
   "cell_type": "code",
   "execution_count": 12,
   "metadata": {},
   "outputs": [
    {
     "name": "stdout",
     "output_type": "stream",
     "text": [
      "Размер датасета (3214, 5) \n",
      " Признаки тренеровочной выборки (1928, 4) \n",
      " Таргет тренировочной выборки (1928,) \n",
      " Признаки валид. выборки (643, 4) \n",
      " Таргет валид. выборки (643,) \n",
      " Признаки тестовой (643, 4) \n",
      " Таргет тестовой (643, 4)\n"
     ]
    }
   ],
   "source": [
    "print('Размер датасета',df.shape,'\\n', 'Признаки тренеровочной выборки',features_train.shape,'\\n','Таргет тренировочной выборки', target_train.shape,'\\n','Признаки валид. выборки', features_valid.shape,'\\n','Таргет валид. выборки', target_valid.shape,'\\n','Признаки тестовой', features_test.shape,'\\n','Таргет тестовой', features_test.shape)"
   ]
  },
  {
   "cell_type": "markdown",
   "metadata": {},
   "source": [
    "<b>Вывод: Сперва разделила выборку на тренировочную и валидационную. Потом уже от тренировочной выделила тестовую."
   ]
  },
  {
   "cell_type": "markdown",
   "metadata": {},
   "source": [
    "## Исследуйте модели"
   ]
  },
  {
   "cell_type": "markdown",
   "metadata": {},
   "source": [
    "### RandomForestClassifier"
   ]
  },
  {
   "cell_type": "code",
   "execution_count": 13,
   "metadata": {},
   "outputs": [
    {
     "name": "stdout",
     "output_type": "stream",
     "text": [
      "Accuracy наилучшей модели на валидационной выборке: 0.802 \n",
      " Количество деревьев: 9 \n",
      " Максимальная глубина: 49\n"
     ]
    }
   ],
   "source": [
    "best_model = None\n",
    "best_result = 0\n",
    "best_est = 0\n",
    "best_depth = 0\n",
    "\n",
    "for est in range(1, 11):\n",
    "    for depth in range (1, 50):\n",
    "        model = RandomForestClassifier(random_state=12345, n_estimators=est, max_depth=depth)\n",
    "        model.fit(features_train, target_train)\n",
    "        result = model.score(features_valid, target_valid)\n",
    "        if result > best_result:\n",
    "            best_model = model\n",
    "            best_result = result\n",
    "            best_est = est\n",
    "            best_depth = depth\n",
    "\n",
    "print(\"Accuracy наилучшей модели на валидационной выборке:\", best_result.round(3), '\\n',\"Количество деревьев:\", best_est, '\\n',\"Максимальная глубина:\", depth)"
   ]
  },
  {
   "cell_type": "code",
   "execution_count": 14,
   "metadata": {},
   "outputs": [],
   "source": [
    "X = df.drop(['is_ultra'], axis=1)\n",
    "Y = df['is_ultra']"
   ]
  },
  {
   "cell_type": "code",
   "execution_count": 15,
   "metadata": {},
   "outputs": [],
   "source": [
    "X_train, X_test, Y_train, Y_test = train_test_split(X, Y, test_size = 0.25, random_state=12345)"
   ]
  },
  {
   "cell_type": "code",
   "execution_count": 16,
   "metadata": {},
   "outputs": [],
   "source": [
    "model_rf = RandomForestClassifier()"
   ]
  },
  {
   "cell_type": "code",
   "execution_count": 17,
   "metadata": {},
   "outputs": [],
   "source": [
    "params_rf = {\"n_estimators\" : [100, 200, 500], \n",
    "          \"criterion\" : ['gini', 'entropy', 'log_loss'], \n",
    "          'max_features': ['auto', 'sqrt', 'log2'],\n",
    "          'max_depth' : [4,5,6,7,8]\n",
    "         }"
   ]
  },
  {
   "cell_type": "code",
   "execution_count": 18,
   "metadata": {},
   "outputs": [],
   "source": [
    "gs_rf = GridSearchCV(estimator = model_rf,\n",
    "                  param_grid = params_rf,\n",
    "                  scoring = ['accuracy'],\n",
    "                  refit = 'accuracy',\n",
    "                  cv = 3,\n",
    "                  verbose = 4)"
   ]
  },
  {
   "cell_type": "code",
   "execution_count": 19,
   "metadata": {
    "scrolled": true
   },
   "outputs": [
    {
     "name": "stdout",
     "output_type": "stream",
     "text": [
      "Fitting 3 folds for each of 135 candidates, totalling 405 fits\n",
      "[CV 1/3] END criterion=gini, max_depth=4, max_features=auto, n_estimators=100; accuracy: (test=0.784) total time=   0.2s\n",
      "[CV 2/3] END criterion=gini, max_depth=4, max_features=auto, n_estimators=100; accuracy: (test=0.816) total time=   0.2s\n",
      "[CV 3/3] END criterion=gini, max_depth=4, max_features=auto, n_estimators=100; accuracy: (test=0.807) total time=   0.2s\n",
      "[CV 1/3] END criterion=gini, max_depth=4, max_features=auto, n_estimators=200; accuracy: (test=0.787) total time=   0.4s\n",
      "[CV 2/3] END criterion=gini, max_depth=4, max_features=auto, n_estimators=200; accuracy: (test=0.812) total time=   0.4s\n",
      "[CV 3/3] END criterion=gini, max_depth=4, max_features=auto, n_estimators=200; accuracy: (test=0.806) total time=   0.4s\n",
      "[CV 1/3] END criterion=gini, max_depth=4, max_features=auto, n_estimators=500; accuracy: (test=0.781) total time=   0.9s\n",
      "[CV 2/3] END criterion=gini, max_depth=4, max_features=auto, n_estimators=500; accuracy: (test=0.813) total time=   0.9s\n",
      "[CV 3/3] END criterion=gini, max_depth=4, max_features=auto, n_estimators=500; accuracy: (test=0.807) total time=   0.9s\n",
      "[CV 1/3] END criterion=gini, max_depth=4, max_features=sqrt, n_estimators=100; accuracy: (test=0.782) total time=   0.2s\n",
      "[CV 2/3] END criterion=gini, max_depth=4, max_features=sqrt, n_estimators=100; accuracy: (test=0.813) total time=   0.2s\n",
      "[CV 3/3] END criterion=gini, max_depth=4, max_features=sqrt, n_estimators=100; accuracy: (test=0.806) total time=   0.2s\n",
      "[CV 1/3] END criterion=gini, max_depth=4, max_features=sqrt, n_estimators=200; accuracy: (test=0.781) total time=   0.3s\n",
      "[CV 2/3] END criterion=gini, max_depth=4, max_features=sqrt, n_estimators=200; accuracy: (test=0.811) total time=   0.4s\n",
      "[CV 3/3] END criterion=gini, max_depth=4, max_features=sqrt, n_estimators=200; accuracy: (test=0.806) total time=   0.4s\n",
      "[CV 1/3] END criterion=gini, max_depth=4, max_features=sqrt, n_estimators=500; accuracy: (test=0.782) total time=   0.9s\n",
      "[CV 2/3] END criterion=gini, max_depth=4, max_features=sqrt, n_estimators=500; accuracy: (test=0.816) total time=   0.9s\n",
      "[CV 3/3] END criterion=gini, max_depth=4, max_features=sqrt, n_estimators=500; accuracy: (test=0.808) total time=   0.9s\n",
      "[CV 1/3] END criterion=gini, max_depth=4, max_features=log2, n_estimators=100; accuracy: (test=0.784) total time=   0.2s\n",
      "[CV 2/3] END criterion=gini, max_depth=4, max_features=log2, n_estimators=100; accuracy: (test=0.818) total time=   0.2s\n",
      "[CV 3/3] END criterion=gini, max_depth=4, max_features=log2, n_estimators=100; accuracy: (test=0.807) total time=   0.2s\n",
      "[CV 1/3] END criterion=gini, max_depth=4, max_features=log2, n_estimators=200; accuracy: (test=0.784) total time=   0.4s\n",
      "[CV 2/3] END criterion=gini, max_depth=4, max_features=log2, n_estimators=200; accuracy: (test=0.812) total time=   0.3s\n",
      "[CV 3/3] END criterion=gini, max_depth=4, max_features=log2, n_estimators=200; accuracy: (test=0.806) total time=   0.4s\n",
      "[CV 1/3] END criterion=gini, max_depth=4, max_features=log2, n_estimators=500; accuracy: (test=0.782) total time=   0.9s\n",
      "[CV 2/3] END criterion=gini, max_depth=4, max_features=log2, n_estimators=500; accuracy: (test=0.814) total time=   0.9s\n",
      "[CV 3/3] END criterion=gini, max_depth=4, max_features=log2, n_estimators=500; accuracy: (test=0.806) total time=   0.9s\n",
      "[CV 1/3] END criterion=gini, max_depth=5, max_features=auto, n_estimators=100; accuracy: (test=0.785) total time=   0.2s\n",
      "[CV 2/3] END criterion=gini, max_depth=5, max_features=auto, n_estimators=100; accuracy: (test=0.812) total time=   0.2s\n",
      "[CV 3/3] END criterion=gini, max_depth=5, max_features=auto, n_estimators=100; accuracy: (test=0.811) total time=   0.2s\n",
      "[CV 1/3] END criterion=gini, max_depth=5, max_features=auto, n_estimators=200; accuracy: (test=0.780) total time=   0.4s\n",
      "[CV 2/3] END criterion=gini, max_depth=5, max_features=auto, n_estimators=200; accuracy: (test=0.816) total time=   0.4s\n",
      "[CV 3/3] END criterion=gini, max_depth=5, max_features=auto, n_estimators=200; accuracy: (test=0.806) total time=   0.4s\n",
      "[CV 1/3] END criterion=gini, max_depth=5, max_features=auto, n_estimators=500; accuracy: (test=0.782) total time=   1.0s\n",
      "[CV 2/3] END criterion=gini, max_depth=5, max_features=auto, n_estimators=500; accuracy: (test=0.812) total time=   1.0s\n",
      "[CV 3/3] END criterion=gini, max_depth=5, max_features=auto, n_estimators=500; accuracy: (test=0.806) total time=   1.0s\n",
      "[CV 1/3] END criterion=gini, max_depth=5, max_features=sqrt, n_estimators=100; accuracy: (test=0.787) total time=   0.2s\n",
      "[CV 2/3] END criterion=gini, max_depth=5, max_features=sqrt, n_estimators=100; accuracy: (test=0.816) total time=   0.2s\n",
      "[CV 3/3] END criterion=gini, max_depth=5, max_features=sqrt, n_estimators=100; accuracy: (test=0.809) total time=   0.2s\n",
      "[CV 1/3] END criterion=gini, max_depth=5, max_features=sqrt, n_estimators=200; accuracy: (test=0.786) total time=   0.4s\n",
      "[CV 2/3] END criterion=gini, max_depth=5, max_features=sqrt, n_estimators=200; accuracy: (test=0.814) total time=   0.4s\n",
      "[CV 3/3] END criterion=gini, max_depth=5, max_features=sqrt, n_estimators=200; accuracy: (test=0.807) total time=   0.4s\n",
      "[CV 1/3] END criterion=gini, max_depth=5, max_features=sqrt, n_estimators=500; accuracy: (test=0.781) total time=   0.9s\n",
      "[CV 2/3] END criterion=gini, max_depth=5, max_features=sqrt, n_estimators=500; accuracy: (test=0.813) total time=   0.9s\n",
      "[CV 3/3] END criterion=gini, max_depth=5, max_features=sqrt, n_estimators=500; accuracy: (test=0.806) total time=   0.9s\n",
      "[CV 1/3] END criterion=gini, max_depth=5, max_features=log2, n_estimators=100; accuracy: (test=0.786) total time=   0.2s\n",
      "[CV 2/3] END criterion=gini, max_depth=5, max_features=log2, n_estimators=100; accuracy: (test=0.813) total time=   0.2s\n",
      "[CV 3/3] END criterion=gini, max_depth=5, max_features=log2, n_estimators=100; accuracy: (test=0.806) total time=   0.2s\n",
      "[CV 1/3] END criterion=gini, max_depth=5, max_features=log2, n_estimators=200; accuracy: (test=0.781) total time=   0.4s\n",
      "[CV 2/3] END criterion=gini, max_depth=5, max_features=log2, n_estimators=200; accuracy: (test=0.817) total time=   0.4s\n",
      "[CV 3/3] END criterion=gini, max_depth=5, max_features=log2, n_estimators=200; accuracy: (test=0.806) total time=   0.4s\n",
      "[CV 1/3] END criterion=gini, max_depth=5, max_features=log2, n_estimators=500; accuracy: (test=0.786) total time=   0.9s\n",
      "[CV 2/3] END criterion=gini, max_depth=5, max_features=log2, n_estimators=500; accuracy: (test=0.817) total time=   0.9s\n",
      "[CV 3/3] END criterion=gini, max_depth=5, max_features=log2, n_estimators=500; accuracy: (test=0.807) total time=   0.9s\n",
      "[CV 1/3] END criterion=gini, max_depth=6, max_features=auto, n_estimators=100; accuracy: (test=0.787) total time=   0.2s\n",
      "[CV 2/3] END criterion=gini, max_depth=6, max_features=auto, n_estimators=100; accuracy: (test=0.818) total time=   0.2s\n",
      "[CV 3/3] END criterion=gini, max_depth=6, max_features=auto, n_estimators=100; accuracy: (test=0.813) total time=   0.2s\n",
      "[CV 1/3] END criterion=gini, max_depth=6, max_features=auto, n_estimators=200; accuracy: (test=0.787) total time=   0.4s\n",
      "[CV 2/3] END criterion=gini, max_depth=6, max_features=auto, n_estimators=200; accuracy: (test=0.817) total time=   0.4s\n",
      "[CV 3/3] END criterion=gini, max_depth=6, max_features=auto, n_estimators=200; accuracy: (test=0.807) total time=   0.4s\n",
      "[CV 1/3] END criterion=gini, max_depth=6, max_features=auto, n_estimators=500; accuracy: (test=0.790) total time=   1.0s\n",
      "[CV 2/3] END criterion=gini, max_depth=6, max_features=auto, n_estimators=500; accuracy: (test=0.817) total time=   1.0s\n",
      "[CV 3/3] END criterion=gini, max_depth=6, max_features=auto, n_estimators=500; accuracy: (test=0.813) total time=   1.0s\n",
      "[CV 1/3] END criterion=gini, max_depth=6, max_features=sqrt, n_estimators=100; accuracy: (test=0.791) total time=   0.2s\n",
      "[CV 2/3] END criterion=gini, max_depth=6, max_features=sqrt, n_estimators=100; accuracy: (test=0.816) total time=   0.2s\n",
      "[CV 3/3] END criterion=gini, max_depth=6, max_features=sqrt, n_estimators=100; accuracy: (test=0.812) total time=   0.3s\n",
      "[CV 1/3] END criterion=gini, max_depth=6, max_features=sqrt, n_estimators=200; accuracy: (test=0.790) total time=   0.4s\n",
      "[CV 2/3] END criterion=gini, max_depth=6, max_features=sqrt, n_estimators=200; accuracy: (test=0.814) total time=   0.4s\n",
      "[CV 3/3] END criterion=gini, max_depth=6, max_features=sqrt, n_estimators=200; accuracy: (test=0.809) total time=   0.4s\n",
      "[CV 1/3] END criterion=gini, max_depth=6, max_features=sqrt, n_estimators=500; accuracy: (test=0.789) total time=   1.0s\n",
      "[CV 2/3] END criterion=gini, max_depth=6, max_features=sqrt, n_estimators=500; accuracy: (test=0.817) total time=   1.0s\n",
      "[CV 3/3] END criterion=gini, max_depth=6, max_features=sqrt, n_estimators=500; accuracy: (test=0.809) total time=   1.0s\n",
      "[CV 1/3] END criterion=gini, max_depth=6, max_features=log2, n_estimators=100; accuracy: (test=0.787) total time=   0.2s\n",
      "[CV 2/3] END criterion=gini, max_depth=6, max_features=log2, n_estimators=100; accuracy: (test=0.814) total time=   0.2s\n",
      "[CV 3/3] END criterion=gini, max_depth=6, max_features=log2, n_estimators=100; accuracy: (test=0.812) total time=   0.2s\n",
      "[CV 1/3] END criterion=gini, max_depth=6, max_features=log2, n_estimators=200; accuracy: (test=0.792) total time=   0.4s\n",
      "[CV 2/3] END criterion=gini, max_depth=6, max_features=log2, n_estimators=200; accuracy: (test=0.813) total time=   0.4s\n",
      "[CV 3/3] END criterion=gini, max_depth=6, max_features=log2, n_estimators=200; accuracy: (test=0.808) total time=   0.4s\n",
      "[CV 1/3] END criterion=gini, max_depth=6, max_features=log2, n_estimators=500; accuracy: (test=0.791) total time=   1.0s\n",
      "[CV 2/3] END criterion=gini, max_depth=6, max_features=log2, n_estimators=500; accuracy: (test=0.816) total time=   1.0s\n",
      "[CV 3/3] END criterion=gini, max_depth=6, max_features=log2, n_estimators=500; accuracy: (test=0.812) total time=   1.0s\n",
      "[CV 1/3] END criterion=gini, max_depth=7, max_features=auto, n_estimators=100; accuracy: (test=0.795) total time=   0.2s\n",
      "[CV 2/3] END criterion=gini, max_depth=7, max_features=auto, n_estimators=100; accuracy: (test=0.821) total time=   0.2s\n",
      "[CV 3/3] END criterion=gini, max_depth=7, max_features=auto, n_estimators=100; accuracy: (test=0.817) total time=   0.2s\n",
      "[CV 1/3] END criterion=gini, max_depth=7, max_features=auto, n_estimators=200; accuracy: (test=0.792) total time=   0.5s\n",
      "[CV 2/3] END criterion=gini, max_depth=7, max_features=auto, n_estimators=200; accuracy: (test=0.824) total time=   0.4s\n",
      "[CV 3/3] END criterion=gini, max_depth=7, max_features=auto, n_estimators=200; accuracy: (test=0.813) total time=   0.4s\n",
      "[CV 1/3] END criterion=gini, max_depth=7, max_features=auto, n_estimators=500; accuracy: (test=0.790) total time=   1.1s\n",
      "[CV 2/3] END criterion=gini, max_depth=7, max_features=auto, n_estimators=500; accuracy: (test=0.821) total time=   1.1s\n",
      "[CV 3/3] END criterion=gini, max_depth=7, max_features=auto, n_estimators=500; accuracy: (test=0.814) total time=   1.2s\n",
      "[CV 1/3] END criterion=gini, max_depth=7, max_features=sqrt, n_estimators=100; accuracy: (test=0.795) total time=   0.2s\n",
      "[CV 2/3] END criterion=gini, max_depth=7, max_features=sqrt, n_estimators=100; accuracy: (test=0.823) total time=   0.2s\n",
      "[CV 3/3] END criterion=gini, max_depth=7, max_features=sqrt, n_estimators=100; accuracy: (test=0.814) total time=   0.2s\n",
      "[CV 1/3] END criterion=gini, max_depth=7, max_features=sqrt, n_estimators=200; accuracy: (test=0.789) total time=   0.5s\n",
      "[CV 2/3] END criterion=gini, max_depth=7, max_features=sqrt, n_estimators=200; accuracy: (test=0.817) total time=   0.4s\n",
      "[CV 3/3] END criterion=gini, max_depth=7, max_features=sqrt, n_estimators=200; accuracy: (test=0.816) total time=   0.5s\n",
      "[CV 1/3] END criterion=gini, max_depth=7, max_features=sqrt, n_estimators=500; accuracy: (test=0.792) total time=   1.1s\n",
      "[CV 2/3] END criterion=gini, max_depth=7, max_features=sqrt, n_estimators=500; accuracy: (test=0.821) total time=   1.0s\n",
      "[CV 3/3] END criterion=gini, max_depth=7, max_features=sqrt, n_estimators=500; accuracy: (test=0.813) total time=   1.1s\n",
      "[CV 1/3] END criterion=gini, max_depth=7, max_features=log2, n_estimators=100; accuracy: (test=0.791) total time=   0.2s\n",
      "[CV 2/3] END criterion=gini, max_depth=7, max_features=log2, n_estimators=100; accuracy: (test=0.821) total time=   0.2s\n",
      "[CV 3/3] END criterion=gini, max_depth=7, max_features=log2, n_estimators=100; accuracy: (test=0.816) total time=   0.2s\n",
      "[CV 1/3] END criterion=gini, max_depth=7, max_features=log2, n_estimators=200; accuracy: (test=0.797) total time=   0.4s\n",
      "[CV 2/3] END criterion=gini, max_depth=7, max_features=log2, n_estimators=200; accuracy: (test=0.819) total time=   0.4s\n",
      "[CV 3/3] END criterion=gini, max_depth=7, max_features=log2, n_estimators=200; accuracy: (test=0.813) total time=   0.4s\n",
      "[CV 1/3] END criterion=gini, max_depth=7, max_features=log2, n_estimators=500; accuracy: (test=0.790) total time=   1.1s\n",
      "[CV 2/3] END criterion=gini, max_depth=7, max_features=log2, n_estimators=500; accuracy: (test=0.822) total time=   1.1s\n",
      "[CV 3/3] END criterion=gini, max_depth=7, max_features=log2, n_estimators=500; accuracy: (test=0.816) total time=   1.1s\n",
      "[CV 1/3] END criterion=gini, max_depth=8, max_features=auto, n_estimators=100; accuracy: (test=0.799) total time=   0.2s\n",
      "[CV 2/3] END criterion=gini, max_depth=8, max_features=auto, n_estimators=100; accuracy: (test=0.821) total time=   0.2s\n",
      "[CV 3/3] END criterion=gini, max_depth=8, max_features=auto, n_estimators=100; accuracy: (test=0.814) total time=   0.2s\n",
      "[CV 1/3] END criterion=gini, max_depth=8, max_features=auto, n_estimators=200; accuracy: (test=0.799) total time=   0.5s\n",
      "[CV 2/3] END criterion=gini, max_depth=8, max_features=auto, n_estimators=200; accuracy: (test=0.826) total time=   0.5s\n",
      "[CV 3/3] END criterion=gini, max_depth=8, max_features=auto, n_estimators=200; accuracy: (test=0.813) total time=   0.5s\n",
      "[CV 1/3] END criterion=gini, max_depth=8, max_features=auto, n_estimators=500; accuracy: (test=0.797) total time=   1.3s\n",
      "[CV 2/3] END criterion=gini, max_depth=8, max_features=auto, n_estimators=500; accuracy: (test=0.829) total time=   1.2s\n",
      "[CV 3/3] END criterion=gini, max_depth=8, max_features=auto, n_estimators=500; accuracy: (test=0.821) total time=   1.2s\n",
      "[CV 1/3] END criterion=gini, max_depth=8, max_features=sqrt, n_estimators=100; accuracy: (test=0.794) total time=   0.2s\n",
      "[CV 2/3] END criterion=gini, max_depth=8, max_features=sqrt, n_estimators=100; accuracy: (test=0.823) total time=   0.2s\n",
      "[CV 3/3] END criterion=gini, max_depth=8, max_features=sqrt, n_estimators=100; accuracy: (test=0.817) total time=   0.2s\n",
      "[CV 1/3] END criterion=gini, max_depth=8, max_features=sqrt, n_estimators=200; accuracy: (test=0.797) total time=   0.5s\n",
      "[CV 2/3] END criterion=gini, max_depth=8, max_features=sqrt, n_estimators=200; accuracy: (test=0.826) total time=   0.5s\n",
      "[CV 3/3] END criterion=gini, max_depth=8, max_features=sqrt, n_estimators=200; accuracy: (test=0.821) total time=   0.5s\n",
      "[CV 1/3] END criterion=gini, max_depth=8, max_features=sqrt, n_estimators=500; accuracy: (test=0.792) total time=   1.2s\n",
      "[CV 2/3] END criterion=gini, max_depth=8, max_features=sqrt, n_estimators=500; accuracy: (test=0.826) total time=   1.2s\n",
      "[CV 3/3] END criterion=gini, max_depth=8, max_features=sqrt, n_estimators=500; accuracy: (test=0.817) total time=   1.2s\n",
      "[CV 1/3] END criterion=gini, max_depth=8, max_features=log2, n_estimators=100; accuracy: (test=0.794) total time=   0.2s\n",
      "[CV 2/3] END criterion=gini, max_depth=8, max_features=log2, n_estimators=100; accuracy: (test=0.818) total time=   0.3s\n",
      "[CV 3/3] END criterion=gini, max_depth=8, max_features=log2, n_estimators=100; accuracy: (test=0.819) total time=   0.2s\n",
      "[CV 1/3] END criterion=gini, max_depth=8, max_features=log2, n_estimators=200; accuracy: (test=0.799) total time=   0.5s\n",
      "[CV 2/3] END criterion=gini, max_depth=8, max_features=log2, n_estimators=200; accuracy: (test=0.828) total time=   0.5s\n",
      "[CV 3/3] END criterion=gini, max_depth=8, max_features=log2, n_estimators=200; accuracy: (test=0.816) total time=   0.5s\n",
      "[CV 1/3] END criterion=gini, max_depth=8, max_features=log2, n_estimators=500; accuracy: (test=0.797) total time=   1.2s\n",
      "[CV 2/3] END criterion=gini, max_depth=8, max_features=log2, n_estimators=500; accuracy: (test=0.822) total time=   1.2s\n",
      "[CV 3/3] END criterion=gini, max_depth=8, max_features=log2, n_estimators=500; accuracy: (test=0.818) total time=   1.1s\n",
      "[CV 1/3] END criterion=entropy, max_depth=4, max_features=auto, n_estimators=100; accuracy: (test=0.781) total time=   0.2s\n",
      "[CV 2/3] END criterion=entropy, max_depth=4, max_features=auto, n_estimators=100; accuracy: (test=0.807) total time=   0.2s\n",
      "[CV 3/3] END criterion=entropy, max_depth=4, max_features=auto, n_estimators=100; accuracy: (test=0.808) total time=   0.2s\n",
      "[CV 1/3] END criterion=entropy, max_depth=4, max_features=auto, n_estimators=200; accuracy: (test=0.781) total time=   0.4s\n",
      "[CV 2/3] END criterion=entropy, max_depth=4, max_features=auto, n_estimators=200; accuracy: (test=0.806) total time=   0.4s\n",
      "[CV 3/3] END criterion=entropy, max_depth=4, max_features=auto, n_estimators=200; accuracy: (test=0.807) total time=   0.4s\n",
      "[CV 1/3] END criterion=entropy, max_depth=4, max_features=auto, n_estimators=500; accuracy: (test=0.781) total time=   0.9s\n",
      "[CV 2/3] END criterion=entropy, max_depth=4, max_features=auto, n_estimators=500; accuracy: (test=0.807) total time=   1.0s\n",
      "[CV 3/3] END criterion=entropy, max_depth=4, max_features=auto, n_estimators=500; accuracy: (test=0.807) total time=   1.0s\n",
      "[CV 1/3] END criterion=entropy, max_depth=4, max_features=sqrt, n_estimators=100; accuracy: (test=0.781) total time=   0.2s\n",
      "[CV 2/3] END criterion=entropy, max_depth=4, max_features=sqrt, n_estimators=100; accuracy: (test=0.813) total time=   0.2s\n",
      "[CV 3/3] END criterion=entropy, max_depth=4, max_features=sqrt, n_estimators=100; accuracy: (test=0.806) total time=   0.2s\n",
      "[CV 1/3] END criterion=entropy, max_depth=4, max_features=sqrt, n_estimators=200; accuracy: (test=0.785) total time=   0.4s\n",
      "[CV 2/3] END criterion=entropy, max_depth=4, max_features=sqrt, n_estimators=200; accuracy: (test=0.808) total time=   0.4s\n",
      "[CV 3/3] END criterion=entropy, max_depth=4, max_features=sqrt, n_estimators=200; accuracy: (test=0.807) total time=   0.4s\n",
      "[CV 1/3] END criterion=entropy, max_depth=4, max_features=sqrt, n_estimators=500; accuracy: (test=0.781) total time=   0.9s\n",
      "[CV 2/3] END criterion=entropy, max_depth=4, max_features=sqrt, n_estimators=500; accuracy: (test=0.806) total time=   1.0s\n",
      "[CV 3/3] END criterion=entropy, max_depth=4, max_features=sqrt, n_estimators=500; accuracy: (test=0.807) total time=   1.0s\n",
      "[CV 1/3] END criterion=entropy, max_depth=4, max_features=log2, n_estimators=100; accuracy: (test=0.781) total time=   0.2s\n",
      "[CV 2/3] END criterion=entropy, max_depth=4, max_features=log2, n_estimators=100; accuracy: (test=0.811) total time=   0.2s\n",
      "[CV 3/3] END criterion=entropy, max_depth=4, max_features=log2, n_estimators=100; accuracy: (test=0.807) total time=   0.2s\n",
      "[CV 1/3] END criterion=entropy, max_depth=4, max_features=log2, n_estimators=200; accuracy: (test=0.787) total time=   0.4s\n",
      "[CV 2/3] END criterion=entropy, max_depth=4, max_features=log2, n_estimators=200; accuracy: (test=0.811) total time=   0.4s\n",
      "[CV 3/3] END criterion=entropy, max_depth=4, max_features=log2, n_estimators=200; accuracy: (test=0.806) total time=   0.4s\n",
      "[CV 1/3] END criterion=entropy, max_depth=4, max_features=log2, n_estimators=500; accuracy: (test=0.784) total time=   0.9s\n",
      "[CV 2/3] END criterion=entropy, max_depth=4, max_features=log2, n_estimators=500; accuracy: (test=0.811) total time=   0.9s\n",
      "[CV 3/3] END criterion=entropy, max_depth=4, max_features=log2, n_estimators=500; accuracy: (test=0.808) total time=   0.9s\n",
      "[CV 1/3] END criterion=entropy, max_depth=5, max_features=auto, n_estimators=100; accuracy: (test=0.785) total time=   0.2s\n",
      "[CV 2/3] END criterion=entropy, max_depth=5, max_features=auto, n_estimators=100; accuracy: (test=0.809) total time=   0.2s\n",
      "[CV 3/3] END criterion=entropy, max_depth=5, max_features=auto, n_estimators=100; accuracy: (test=0.804) total time=   0.2s\n",
      "[CV 1/3] END criterion=entropy, max_depth=5, max_features=auto, n_estimators=200; accuracy: (test=0.789) total time=   0.4s\n",
      "[CV 2/3] END criterion=entropy, max_depth=5, max_features=auto, n_estimators=200; accuracy: (test=0.814) total time=   0.4s\n",
      "[CV 3/3] END criterion=entropy, max_depth=5, max_features=auto, n_estimators=200; accuracy: (test=0.808) total time=   0.4s\n",
      "[CV 1/3] END criterion=entropy, max_depth=5, max_features=auto, n_estimators=500; accuracy: (test=0.786) total time=   1.0s\n",
      "[CV 2/3] END criterion=entropy, max_depth=5, max_features=auto, n_estimators=500; accuracy: (test=0.813) total time=   1.1s\n",
      "[CV 3/3] END criterion=entropy, max_depth=5, max_features=auto, n_estimators=500; accuracy: (test=0.806) total time=   1.0s\n",
      "[CV 1/3] END criterion=entropy, max_depth=5, max_features=sqrt, n_estimators=100; accuracy: (test=0.784) total time=   0.2s\n",
      "[CV 2/3] END criterion=entropy, max_depth=5, max_features=sqrt, n_estimators=100; accuracy: (test=0.813) total time=   0.2s\n",
      "[CV 3/3] END criterion=entropy, max_depth=5, max_features=sqrt, n_estimators=100; accuracy: (test=0.808) total time=   0.2s\n",
      "[CV 1/3] END criterion=entropy, max_depth=5, max_features=sqrt, n_estimators=200; accuracy: (test=0.785) total time=   0.4s\n",
      "[CV 2/3] END criterion=entropy, max_depth=5, max_features=sqrt, n_estimators=200; accuracy: (test=0.814) total time=   0.4s\n",
      "[CV 3/3] END criterion=entropy, max_depth=5, max_features=sqrt, n_estimators=200; accuracy: (test=0.804) total time=   0.4s\n",
      "[CV 1/3] END criterion=entropy, max_depth=5, max_features=sqrt, n_estimators=500; accuracy: (test=0.782) total time=   1.0s\n",
      "[CV 2/3] END criterion=entropy, max_depth=5, max_features=sqrt, n_estimators=500; accuracy: (test=0.812) total time=   1.0s\n",
      "[CV 3/3] END criterion=entropy, max_depth=5, max_features=sqrt, n_estimators=500; accuracy: (test=0.807) total time=   1.0s\n",
      "[CV 1/3] END criterion=entropy, max_depth=5, max_features=log2, n_estimators=100; accuracy: (test=0.786) total time=   0.2s\n",
      "[CV 2/3] END criterion=entropy, max_depth=5, max_features=log2, n_estimators=100; accuracy: (test=0.816) total time=   0.2s\n",
      "[CV 3/3] END criterion=entropy, max_depth=5, max_features=log2, n_estimators=100; accuracy: (test=0.807) total time=   0.2s\n",
      "[CV 1/3] END criterion=entropy, max_depth=5, max_features=log2, n_estimators=200; accuracy: (test=0.790) total time=   0.4s\n",
      "[CV 2/3] END criterion=entropy, max_depth=5, max_features=log2, n_estimators=200; accuracy: (test=0.813) total time=   0.4s\n",
      "[CV 3/3] END criterion=entropy, max_depth=5, max_features=log2, n_estimators=200; accuracy: (test=0.806) total time=   0.4s\n",
      "[CV 1/3] END criterion=entropy, max_depth=5, max_features=log2, n_estimators=500; accuracy: (test=0.785) total time=   1.0s\n",
      "[CV 2/3] END criterion=entropy, max_depth=5, max_features=log2, n_estimators=500; accuracy: (test=0.812) total time=   1.0s\n",
      "[CV 3/3] END criterion=entropy, max_depth=5, max_features=log2, n_estimators=500; accuracy: (test=0.806) total time=   1.1s\n",
      "[CV 1/3] END criterion=entropy, max_depth=6, max_features=auto, n_estimators=100; accuracy: (test=0.789) total time=   0.2s\n",
      "[CV 2/3] END criterion=entropy, max_depth=6, max_features=auto, n_estimators=100; accuracy: (test=0.817) total time=   0.2s\n",
      "[CV 3/3] END criterion=entropy, max_depth=6, max_features=auto, n_estimators=100; accuracy: (test=0.813) total time=   0.2s\n",
      "[CV 1/3] END criterion=entropy, max_depth=6, max_features=auto, n_estimators=200; accuracy: (test=0.794) total time=   0.5s\n",
      "[CV 2/3] END criterion=entropy, max_depth=6, max_features=auto, n_estimators=200; accuracy: (test=0.817) total time=   0.5s\n",
      "[CV 3/3] END criterion=entropy, max_depth=6, max_features=auto, n_estimators=200; accuracy: (test=0.809) total time=   0.5s\n",
      "[CV 1/3] END criterion=entropy, max_depth=6, max_features=auto, n_estimators=500; accuracy: (test=0.792) total time=   1.1s\n",
      "[CV 2/3] END criterion=entropy, max_depth=6, max_features=auto, n_estimators=500; accuracy: (test=0.816) total time=   1.2s\n",
      "[CV 3/3] END criterion=entropy, max_depth=6, max_features=auto, n_estimators=500; accuracy: (test=0.813) total time=   1.1s\n",
      "[CV 1/3] END criterion=entropy, max_depth=6, max_features=sqrt, n_estimators=100; accuracy: (test=0.791) total time=   0.2s\n",
      "[CV 2/3] END criterion=entropy, max_depth=6, max_features=sqrt, n_estimators=100; accuracy: (test=0.819) total time=   0.2s\n",
      "[CV 3/3] END criterion=entropy, max_depth=6, max_features=sqrt, n_estimators=100; accuracy: (test=0.811) total time=   0.2s\n",
      "[CV 1/3] END criterion=entropy, max_depth=6, max_features=sqrt, n_estimators=200; accuracy: (test=0.792) total time=   0.4s\n",
      "[CV 2/3] END criterion=entropy, max_depth=6, max_features=sqrt, n_estimators=200; accuracy: (test=0.817) total time=   0.4s\n",
      "[CV 3/3] END criterion=entropy, max_depth=6, max_features=sqrt, n_estimators=200; accuracy: (test=0.812) total time=   0.5s\n",
      "[CV 1/3] END criterion=entropy, max_depth=6, max_features=sqrt, n_estimators=500; accuracy: (test=0.791) total time=   1.1s\n",
      "[CV 2/3] END criterion=entropy, max_depth=6, max_features=sqrt, n_estimators=500; accuracy: (test=0.816) total time=   1.1s\n",
      "[CV 3/3] END criterion=entropy, max_depth=6, max_features=sqrt, n_estimators=500; accuracy: (test=0.808) total time=   1.1s\n",
      "[CV 1/3] END criterion=entropy, max_depth=6, max_features=log2, n_estimators=100; accuracy: (test=0.794) total time=   0.2s\n",
      "[CV 2/3] END criterion=entropy, max_depth=6, max_features=log2, n_estimators=100; accuracy: (test=0.821) total time=   0.2s\n",
      "[CV 3/3] END criterion=entropy, max_depth=6, max_features=log2, n_estimators=100; accuracy: (test=0.809) total time=   0.3s\n",
      "[CV 1/3] END criterion=entropy, max_depth=6, max_features=log2, n_estimators=200; accuracy: (test=0.792) total time=   0.5s\n",
      "[CV 2/3] END criterion=entropy, max_depth=6, max_features=log2, n_estimators=200; accuracy: (test=0.816) total time=   0.5s\n",
      "[CV 3/3] END criterion=entropy, max_depth=6, max_features=log2, n_estimators=200; accuracy: (test=0.809) total time=   0.4s\n",
      "[CV 1/3] END criterion=entropy, max_depth=6, max_features=log2, n_estimators=500; accuracy: (test=0.792) total time=   1.1s\n",
      "[CV 2/3] END criterion=entropy, max_depth=6, max_features=log2, n_estimators=500; accuracy: (test=0.814) total time=   1.1s\n",
      "[CV 3/3] END criterion=entropy, max_depth=6, max_features=log2, n_estimators=500; accuracy: (test=0.809) total time=   1.1s\n",
      "[CV 1/3] END criterion=entropy, max_depth=7, max_features=auto, n_estimators=100; accuracy: (test=0.792) total time=   0.2s\n",
      "[CV 2/3] END criterion=entropy, max_depth=7, max_features=auto, n_estimators=100; accuracy: (test=0.824) total time=   0.2s\n",
      "[CV 3/3] END criterion=entropy, max_depth=7, max_features=auto, n_estimators=100; accuracy: (test=0.817) total time=   0.2s\n",
      "[CV 1/3] END criterion=entropy, max_depth=7, max_features=auto, n_estimators=200; accuracy: (test=0.794) total time=   0.5s\n",
      "[CV 2/3] END criterion=entropy, max_depth=7, max_features=auto, n_estimators=200; accuracy: (test=0.821) total time=   0.5s\n",
      "[CV 3/3] END criterion=entropy, max_depth=7, max_features=auto, n_estimators=200; accuracy: (test=0.817) total time=   0.5s\n",
      "[CV 1/3] END criterion=entropy, max_depth=7, max_features=auto, n_estimators=500; accuracy: (test=0.796) total time=   1.2s\n",
      "[CV 2/3] END criterion=entropy, max_depth=7, max_features=auto, n_estimators=500; accuracy: (test=0.823) total time=   1.2s\n",
      "[CV 3/3] END criterion=entropy, max_depth=7, max_features=auto, n_estimators=500; accuracy: (test=0.816) total time=   1.2s\n",
      "[CV 1/3] END criterion=entropy, max_depth=7, max_features=sqrt, n_estimators=100; accuracy: (test=0.797) total time=   0.2s\n",
      "[CV 2/3] END criterion=entropy, max_depth=7, max_features=sqrt, n_estimators=100; accuracy: (test=0.821) total time=   0.2s\n",
      "[CV 3/3] END criterion=entropy, max_depth=7, max_features=sqrt, n_estimators=100; accuracy: (test=0.812) total time=   0.2s\n",
      "[CV 1/3] END criterion=entropy, max_depth=7, max_features=sqrt, n_estimators=200; accuracy: (test=0.796) total time=   0.5s\n",
      "[CV 2/3] END criterion=entropy, max_depth=7, max_features=sqrt, n_estimators=200; accuracy: (test=0.819) total time=   0.5s\n",
      "[CV 3/3] END criterion=entropy, max_depth=7, max_features=sqrt, n_estimators=200; accuracy: (test=0.811) total time=   0.5s\n",
      "[CV 1/3] END criterion=entropy, max_depth=7, max_features=sqrt, n_estimators=500; accuracy: (test=0.796) total time=   1.2s\n",
      "[CV 2/3] END criterion=entropy, max_depth=7, max_features=sqrt, n_estimators=500; accuracy: (test=0.824) total time=   1.2s\n",
      "[CV 3/3] END criterion=entropy, max_depth=7, max_features=sqrt, n_estimators=500; accuracy: (test=0.814) total time=   1.2s\n",
      "[CV 1/3] END criterion=entropy, max_depth=7, max_features=log2, n_estimators=100; accuracy: (test=0.792) total time=   0.2s\n",
      "[CV 2/3] END criterion=entropy, max_depth=7, max_features=log2, n_estimators=100; accuracy: (test=0.821) total time=   0.3s\n",
      "[CV 3/3] END criterion=entropy, max_depth=7, max_features=log2, n_estimators=100; accuracy: (test=0.807) total time=   0.2s\n",
      "[CV 1/3] END criterion=entropy, max_depth=7, max_features=log2, n_estimators=200; accuracy: (test=0.796) total time=   0.5s\n",
      "[CV 2/3] END criterion=entropy, max_depth=7, max_features=log2, n_estimators=200; accuracy: (test=0.823) total time=   0.5s\n",
      "[CV 3/3] END criterion=entropy, max_depth=7, max_features=log2, n_estimators=200; accuracy: (test=0.816) total time=   0.5s\n",
      "[CV 1/3] END criterion=entropy, max_depth=7, max_features=log2, n_estimators=500; accuracy: (test=0.796) total time=   1.2s\n",
      "[CV 2/3] END criterion=entropy, max_depth=7, max_features=log2, n_estimators=500; accuracy: (test=0.824) total time=   1.3s\n",
      "[CV 3/3] END criterion=entropy, max_depth=7, max_features=log2, n_estimators=500; accuracy: (test=0.816) total time=   1.3s\n",
      "[CV 1/3] END criterion=entropy, max_depth=8, max_features=auto, n_estimators=100; accuracy: (test=0.806) total time=   0.3s\n",
      "[CV 2/3] END criterion=entropy, max_depth=8, max_features=auto, n_estimators=100; accuracy: (test=0.828) total time=   0.3s\n",
      "[CV 3/3] END criterion=entropy, max_depth=8, max_features=auto, n_estimators=100; accuracy: (test=0.821) total time=   0.3s\n",
      "[CV 1/3] END criterion=entropy, max_depth=8, max_features=auto, n_estimators=200; accuracy: (test=0.800) total time=   0.5s\n",
      "[CV 2/3] END criterion=entropy, max_depth=8, max_features=auto, n_estimators=200; accuracy: (test=0.824) total time=   0.6s\n",
      "[CV 3/3] END criterion=entropy, max_depth=8, max_features=auto, n_estimators=200; accuracy: (test=0.814) total time=   0.6s\n",
      "[CV 1/3] END criterion=entropy, max_depth=8, max_features=auto, n_estimators=500; accuracy: (test=0.799) total time=   1.3s\n",
      "[CV 2/3] END criterion=entropy, max_depth=8, max_features=auto, n_estimators=500; accuracy: (test=0.827) total time=   1.3s\n",
      "[CV 3/3] END criterion=entropy, max_depth=8, max_features=auto, n_estimators=500; accuracy: (test=0.814) total time=   1.3s\n",
      "[CV 1/3] END criterion=entropy, max_depth=8, max_features=sqrt, n_estimators=100; accuracy: (test=0.801) total time=   0.3s\n",
      "[CV 2/3] END criterion=entropy, max_depth=8, max_features=sqrt, n_estimators=100; accuracy: (test=0.828) total time=   0.3s\n",
      "[CV 3/3] END criterion=entropy, max_depth=8, max_features=sqrt, n_estimators=100; accuracy: (test=0.816) total time=   0.3s\n",
      "[CV 1/3] END criterion=entropy, max_depth=8, max_features=sqrt, n_estimators=200; accuracy: (test=0.800) total time=   0.5s\n",
      "[CV 2/3] END criterion=entropy, max_depth=8, max_features=sqrt, n_estimators=200; accuracy: (test=0.829) total time=   0.5s\n",
      "[CV 3/3] END criterion=entropy, max_depth=8, max_features=sqrt, n_estimators=200; accuracy: (test=0.821) total time=   0.5s\n",
      "[CV 1/3] END criterion=entropy, max_depth=8, max_features=sqrt, n_estimators=500; accuracy: (test=0.799) total time=   1.3s\n",
      "[CV 2/3] END criterion=entropy, max_depth=8, max_features=sqrt, n_estimators=500; accuracy: (test=0.823) total time=   1.3s\n",
      "[CV 3/3] END criterion=entropy, max_depth=8, max_features=sqrt, n_estimators=500; accuracy: (test=0.821) total time=   1.3s\n",
      "[CV 1/3] END criterion=entropy, max_depth=8, max_features=log2, n_estimators=100; accuracy: (test=0.800) total time=   0.3s\n",
      "[CV 2/3] END criterion=entropy, max_depth=8, max_features=log2, n_estimators=100; accuracy: (test=0.822) total time=   0.3s\n",
      "[CV 3/3] END criterion=entropy, max_depth=8, max_features=log2, n_estimators=100; accuracy: (test=0.818) total time=   0.3s\n",
      "[CV 1/3] END criterion=entropy, max_depth=8, max_features=log2, n_estimators=200; accuracy: (test=0.795) total time=   0.5s\n",
      "[CV 2/3] END criterion=entropy, max_depth=8, max_features=log2, n_estimators=200; accuracy: (test=0.828) total time=   0.6s\n",
      "[CV 3/3] END criterion=entropy, max_depth=8, max_features=log2, n_estimators=200; accuracy: (test=0.818) total time=   0.5s\n",
      "[CV 1/3] END criterion=entropy, max_depth=8, max_features=log2, n_estimators=500; accuracy: (test=0.797) total time=   1.3s\n",
      "[CV 2/3] END criterion=entropy, max_depth=8, max_features=log2, n_estimators=500; accuracy: (test=0.827) total time=   1.3s\n",
      "[CV 3/3] END criterion=entropy, max_depth=8, max_features=log2, n_estimators=500; accuracy: (test=0.819) total time=   1.4s\n",
      "[CV 1/3] END criterion=log_loss, max_depth=4, max_features=auto, n_estimators=100; accuracy: (test=nan) total time=   0.0s\n",
      "[CV 2/3] END criterion=log_loss, max_depth=4, max_features=auto, n_estimators=100; accuracy: (test=nan) total time=   0.0s\n",
      "[CV 3/3] END criterion=log_loss, max_depth=4, max_features=auto, n_estimators=100; accuracy: (test=nan) total time=   0.0s\n",
      "[CV 1/3] END criterion=log_loss, max_depth=4, max_features=auto, n_estimators=200; accuracy: (test=nan) total time=   0.0s\n",
      "[CV 2/3] END criterion=log_loss, max_depth=4, max_features=auto, n_estimators=200; accuracy: (test=nan) total time=   0.0s\n",
      "[CV 3/3] END criterion=log_loss, max_depth=4, max_features=auto, n_estimators=200; accuracy: (test=nan) total time=   0.0s\n",
      "[CV 1/3] END criterion=log_loss, max_depth=4, max_features=auto, n_estimators=500; accuracy: (test=nan) total time=   0.1s\n",
      "[CV 2/3] END criterion=log_loss, max_depth=4, max_features=auto, n_estimators=500; accuracy: (test=nan) total time=   0.1s\n",
      "[CV 3/3] END criterion=log_loss, max_depth=4, max_features=auto, n_estimators=500; accuracy: (test=nan) total time=   0.1s\n",
      "[CV 1/3] END criterion=log_loss, max_depth=4, max_features=sqrt, n_estimators=100; accuracy: (test=nan) total time=   0.0s\n",
      "[CV 2/3] END criterion=log_loss, max_depth=4, max_features=sqrt, n_estimators=100; accuracy: (test=nan) total time=   0.0s\n",
      "[CV 3/3] END criterion=log_loss, max_depth=4, max_features=sqrt, n_estimators=100; accuracy: (test=nan) total time=   0.0s\n",
      "[CV 1/3] END criterion=log_loss, max_depth=4, max_features=sqrt, n_estimators=200; accuracy: (test=nan) total time=   0.1s\n",
      "[CV 2/3] END criterion=log_loss, max_depth=4, max_features=sqrt, n_estimators=200; accuracy: (test=nan) total time=   0.0s\n",
      "[CV 3/3] END criterion=log_loss, max_depth=4, max_features=sqrt, n_estimators=200; accuracy: (test=nan) total time=   0.1s\n",
      "[CV 1/3] END criterion=log_loss, max_depth=4, max_features=sqrt, n_estimators=500; accuracy: (test=nan) total time=   0.1s\n",
      "[CV 2/3] END criterion=log_loss, max_depth=4, max_features=sqrt, n_estimators=500; accuracy: (test=nan) total time=   0.1s\n",
      "[CV 3/3] END criterion=log_loss, max_depth=4, max_features=sqrt, n_estimators=500; accuracy: (test=nan) total time=   0.1s\n",
      "[CV 1/3] END criterion=log_loss, max_depth=4, max_features=log2, n_estimators=100; accuracy: (test=nan) total time=   0.0s\n",
      "[CV 2/3] END criterion=log_loss, max_depth=4, max_features=log2, n_estimators=100; accuracy: (test=nan) total time=   0.0s\n",
      "[CV 3/3] END criterion=log_loss, max_depth=4, max_features=log2, n_estimators=100; accuracy: (test=nan) total time=   0.0s\n",
      "[CV 1/3] END criterion=log_loss, max_depth=4, max_features=log2, n_estimators=200; accuracy: (test=nan) total time=   0.0s\n",
      "[CV 2/3] END criterion=log_loss, max_depth=4, max_features=log2, n_estimators=200; accuracy: (test=nan) total time=   0.0s\n",
      "[CV 3/3] END criterion=log_loss, max_depth=4, max_features=log2, n_estimators=200; accuracy: (test=nan) total time=   0.1s\n",
      "[CV 1/3] END criterion=log_loss, max_depth=4, max_features=log2, n_estimators=500; accuracy: (test=nan) total time=   0.1s\n",
      "[CV 2/3] END criterion=log_loss, max_depth=4, max_features=log2, n_estimators=500; accuracy: (test=nan) total time=   0.1s\n",
      "[CV 3/3] END criterion=log_loss, max_depth=4, max_features=log2, n_estimators=500; accuracy: (test=nan) total time=   0.1s\n",
      "[CV 1/3] END criterion=log_loss, max_depth=5, max_features=auto, n_estimators=100; accuracy: (test=nan) total time=   0.0s\n",
      "[CV 2/3] END criterion=log_loss, max_depth=5, max_features=auto, n_estimators=100; accuracy: (test=nan) total time=   0.0s\n",
      "[CV 3/3] END criterion=log_loss, max_depth=5, max_features=auto, n_estimators=100; accuracy: (test=nan) total time=   0.0s\n",
      "[CV 1/3] END criterion=log_loss, max_depth=5, max_features=auto, n_estimators=200; accuracy: (test=nan) total time=   0.0s\n",
      "[CV 2/3] END criterion=log_loss, max_depth=5, max_features=auto, n_estimators=200; accuracy: (test=nan) total time=   0.0s\n",
      "[CV 3/3] END criterion=log_loss, max_depth=5, max_features=auto, n_estimators=200; accuracy: (test=nan) total time=   0.1s\n",
      "[CV 1/3] END criterion=log_loss, max_depth=5, max_features=auto, n_estimators=500; accuracy: (test=nan) total time=   0.1s\n",
      "[CV 2/3] END criterion=log_loss, max_depth=5, max_features=auto, n_estimators=500; accuracy: (test=nan) total time=   0.1s\n",
      "[CV 3/3] END criterion=log_loss, max_depth=5, max_features=auto, n_estimators=500; accuracy: (test=nan) total time=   0.1s\n",
      "[CV 1/3] END criterion=log_loss, max_depth=5, max_features=sqrt, n_estimators=100; accuracy: (test=nan) total time=   0.0s\n",
      "[CV 2/3] END criterion=log_loss, max_depth=5, max_features=sqrt, n_estimators=100; accuracy: (test=nan) total time=   0.0s\n",
      "[CV 3/3] END criterion=log_loss, max_depth=5, max_features=sqrt, n_estimators=100; accuracy: (test=nan) total time=   0.0s\n",
      "[CV 1/3] END criterion=log_loss, max_depth=5, max_features=sqrt, n_estimators=200; accuracy: (test=nan) total time=   0.0s\n",
      "[CV 2/3] END criterion=log_loss, max_depth=5, max_features=sqrt, n_estimators=200; accuracy: (test=nan) total time=   0.0s\n",
      "[CV 3/3] END criterion=log_loss, max_depth=5, max_features=sqrt, n_estimators=200; accuracy: (test=nan) total time=   0.0s\n",
      "[CV 1/3] END criterion=log_loss, max_depth=5, max_features=sqrt, n_estimators=500; accuracy: (test=nan) total time=   0.1s\n",
      "[CV 2/3] END criterion=log_loss, max_depth=5, max_features=sqrt, n_estimators=500; accuracy: (test=nan) total time=   0.1s\n",
      "[CV 3/3] END criterion=log_loss, max_depth=5, max_features=sqrt, n_estimators=500; accuracy: (test=nan) total time=   0.1s\n",
      "[CV 1/3] END criterion=log_loss, max_depth=5, max_features=log2, n_estimators=100; accuracy: (test=nan) total time=   0.0s\n",
      "[CV 2/3] END criterion=log_loss, max_depth=5, max_features=log2, n_estimators=100; accuracy: (test=nan) total time=   0.0s\n",
      "[CV 3/3] END criterion=log_loss, max_depth=5, max_features=log2, n_estimators=100; accuracy: (test=nan) total time=   0.0s\n",
      "[CV 1/3] END criterion=log_loss, max_depth=5, max_features=log2, n_estimators=200; accuracy: (test=nan) total time=   0.0s\n",
      "[CV 2/3] END criterion=log_loss, max_depth=5, max_features=log2, n_estimators=200; accuracy: (test=nan) total time=   0.1s\n",
      "[CV 3/3] END criterion=log_loss, max_depth=5, max_features=log2, n_estimators=200; accuracy: (test=nan) total time=   0.0s\n",
      "[CV 1/3] END criterion=log_loss, max_depth=5, max_features=log2, n_estimators=500; accuracy: (test=nan) total time=   0.1s\n",
      "[CV 2/3] END criterion=log_loss, max_depth=5, max_features=log2, n_estimators=500; accuracy: (test=nan) total time=   0.1s\n",
      "[CV 3/3] END criterion=log_loss, max_depth=5, max_features=log2, n_estimators=500; accuracy: (test=nan) total time=   0.1s\n",
      "[CV 1/3] END criterion=log_loss, max_depth=6, max_features=auto, n_estimators=100; accuracy: (test=nan) total time=   0.0s\n",
      "[CV 2/3] END criterion=log_loss, max_depth=6, max_features=auto, n_estimators=100; accuracy: (test=nan) total time=   0.0s\n",
      "[CV 3/3] END criterion=log_loss, max_depth=6, max_features=auto, n_estimators=100; accuracy: (test=nan) total time=   0.0s\n",
      "[CV 1/3] END criterion=log_loss, max_depth=6, max_features=auto, n_estimators=200; accuracy: (test=nan) total time=   0.0s\n",
      "[CV 2/3] END criterion=log_loss, max_depth=6, max_features=auto, n_estimators=200; accuracy: (test=nan) total time=   0.1s\n",
      "[CV 3/3] END criterion=log_loss, max_depth=6, max_features=auto, n_estimators=200; accuracy: (test=nan) total time=   0.0s\n",
      "[CV 1/3] END criterion=log_loss, max_depth=6, max_features=auto, n_estimators=500; accuracy: (test=nan) total time=   0.1s\n",
      "[CV 2/3] END criterion=log_loss, max_depth=6, max_features=auto, n_estimators=500; accuracy: (test=nan) total time=   0.1s\n",
      "[CV 3/3] END criterion=log_loss, max_depth=6, max_features=auto, n_estimators=500; accuracy: (test=nan) total time=   0.1s\n",
      "[CV 1/3] END criterion=log_loss, max_depth=6, max_features=sqrt, n_estimators=100; accuracy: (test=nan) total time=   0.0s\n",
      "[CV 2/3] END criterion=log_loss, max_depth=6, max_features=sqrt, n_estimators=100; accuracy: (test=nan) total time=   0.0s\n",
      "[CV 3/3] END criterion=log_loss, max_depth=6, max_features=sqrt, n_estimators=100; accuracy: (test=nan) total time=   0.0s\n",
      "[CV 1/3] END criterion=log_loss, max_depth=6, max_features=sqrt, n_estimators=200; accuracy: (test=nan) total time=   0.0s\n",
      "[CV 2/3] END criterion=log_loss, max_depth=6, max_features=sqrt, n_estimators=200; accuracy: (test=nan) total time=   0.1s\n",
      "[CV 3/3] END criterion=log_loss, max_depth=6, max_features=sqrt, n_estimators=200; accuracy: (test=nan) total time=   0.1s\n",
      "[CV 1/3] END criterion=log_loss, max_depth=6, max_features=sqrt, n_estimators=500; accuracy: (test=nan) total time=   0.1s\n",
      "[CV 2/3] END criterion=log_loss, max_depth=6, max_features=sqrt, n_estimators=500; accuracy: (test=nan) total time=   0.1s\n",
      "[CV 3/3] END criterion=log_loss, max_depth=6, max_features=sqrt, n_estimators=500; accuracy: (test=nan) total time=   0.1s\n",
      "[CV 1/3] END criterion=log_loss, max_depth=6, max_features=log2, n_estimators=100; accuracy: (test=nan) total time=   0.0s\n",
      "[CV 2/3] END criterion=log_loss, max_depth=6, max_features=log2, n_estimators=100; accuracy: (test=nan) total time=   0.0s\n",
      "[CV 3/3] END criterion=log_loss, max_depth=6, max_features=log2, n_estimators=100; accuracy: (test=nan) total time=   0.0s\n",
      "[CV 1/3] END criterion=log_loss, max_depth=6, max_features=log2, n_estimators=200; accuracy: (test=nan) total time=   0.0s\n",
      "[CV 2/3] END criterion=log_loss, max_depth=6, max_features=log2, n_estimators=200; accuracy: (test=nan) total time=   0.1s\n",
      "[CV 3/3] END criterion=log_loss, max_depth=6, max_features=log2, n_estimators=200; accuracy: (test=nan) total time=   0.1s\n",
      "[CV 1/3] END criterion=log_loss, max_depth=6, max_features=log2, n_estimators=500; accuracy: (test=nan) total time=   0.1s\n",
      "[CV 2/3] END criterion=log_loss, max_depth=6, max_features=log2, n_estimators=500; accuracy: (test=nan) total time=   0.1s\n",
      "[CV 3/3] END criterion=log_loss, max_depth=6, max_features=log2, n_estimators=500; accuracy: (test=nan) total time=   0.1s\n",
      "[CV 1/3] END criterion=log_loss, max_depth=7, max_features=auto, n_estimators=100; accuracy: (test=nan) total time=   0.0s\n",
      "[CV 2/3] END criterion=log_loss, max_depth=7, max_features=auto, n_estimators=100; accuracy: (test=nan) total time=   0.0s\n",
      "[CV 3/3] END criterion=log_loss, max_depth=7, max_features=auto, n_estimators=100; accuracy: (test=nan) total time=   0.0s\n",
      "[CV 1/3] END criterion=log_loss, max_depth=7, max_features=auto, n_estimators=200; accuracy: (test=nan) total time=   0.1s\n",
      "[CV 2/3] END criterion=log_loss, max_depth=7, max_features=auto, n_estimators=200; accuracy: (test=nan) total time=   0.0s\n",
      "[CV 3/3] END criterion=log_loss, max_depth=7, max_features=auto, n_estimators=200; accuracy: (test=nan) total time=   0.1s\n",
      "[CV 1/3] END criterion=log_loss, max_depth=7, max_features=auto, n_estimators=500; accuracy: (test=nan) total time=   0.1s\n",
      "[CV 2/3] END criterion=log_loss, max_depth=7, max_features=auto, n_estimators=500; accuracy: (test=nan) total time=   0.1s\n",
      "[CV 3/3] END criterion=log_loss, max_depth=7, max_features=auto, n_estimators=500; accuracy: (test=nan) total time=   0.1s\n",
      "[CV 1/3] END criterion=log_loss, max_depth=7, max_features=sqrt, n_estimators=100; accuracy: (test=nan) total time=   0.0s\n",
      "[CV 2/3] END criterion=log_loss, max_depth=7, max_features=sqrt, n_estimators=100; accuracy: (test=nan) total time=   0.0s\n",
      "[CV 3/3] END criterion=log_loss, max_depth=7, max_features=sqrt, n_estimators=100; accuracy: (test=nan) total time=   0.0s\n",
      "[CV 1/3] END criterion=log_loss, max_depth=7, max_features=sqrt, n_estimators=200; accuracy: (test=nan) total time=   0.0s\n",
      "[CV 2/3] END criterion=log_loss, max_depth=7, max_features=sqrt, n_estimators=200; accuracy: (test=nan) total time=   0.0s\n",
      "[CV 3/3] END criterion=log_loss, max_depth=7, max_features=sqrt, n_estimators=200; accuracy: (test=nan) total time=   0.0s\n",
      "[CV 1/3] END criterion=log_loss, max_depth=7, max_features=sqrt, n_estimators=500; accuracy: (test=nan) total time=   0.1s\n",
      "[CV 2/3] END criterion=log_loss, max_depth=7, max_features=sqrt, n_estimators=500; accuracy: (test=nan) total time=   0.1s\n",
      "[CV 3/3] END criterion=log_loss, max_depth=7, max_features=sqrt, n_estimators=500; accuracy: (test=nan) total time=   0.1s\n",
      "[CV 1/3] END criterion=log_loss, max_depth=7, max_features=log2, n_estimators=100; accuracy: (test=nan) total time=   0.0s\n",
      "[CV 2/3] END criterion=log_loss, max_depth=7, max_features=log2, n_estimators=100; accuracy: (test=nan) total time=   0.0s\n",
      "[CV 3/3] END criterion=log_loss, max_depth=7, max_features=log2, n_estimators=100; accuracy: (test=nan) total time=   0.0s\n",
      "[CV 1/3] END criterion=log_loss, max_depth=7, max_features=log2, n_estimators=200; accuracy: (test=nan) total time=   0.0s\n",
      "[CV 2/3] END criterion=log_loss, max_depth=7, max_features=log2, n_estimators=200; accuracy: (test=nan) total time=   0.1s\n",
      "[CV 3/3] END criterion=log_loss, max_depth=7, max_features=log2, n_estimators=200; accuracy: (test=nan) total time=   0.1s\n",
      "[CV 1/3] END criterion=log_loss, max_depth=7, max_features=log2, n_estimators=500; accuracy: (test=nan) total time=   0.1s\n",
      "[CV 2/3] END criterion=log_loss, max_depth=7, max_features=log2, n_estimators=500; accuracy: (test=nan) total time=   0.1s\n",
      "[CV 3/3] END criterion=log_loss, max_depth=7, max_features=log2, n_estimators=500; accuracy: (test=nan) total time=   0.1s\n",
      "[CV 1/3] END criterion=log_loss, max_depth=8, max_features=auto, n_estimators=100; accuracy: (test=nan) total time=   0.0s\n",
      "[CV 2/3] END criterion=log_loss, max_depth=8, max_features=auto, n_estimators=100; accuracy: (test=nan) total time=   0.0s\n",
      "[CV 3/3] END criterion=log_loss, max_depth=8, max_features=auto, n_estimators=100; accuracy: (test=nan) total time=   0.0s\n",
      "[CV 1/3] END criterion=log_loss, max_depth=8, max_features=auto, n_estimators=200; accuracy: (test=nan) total time=   0.1s\n",
      "[CV 2/3] END criterion=log_loss, max_depth=8, max_features=auto, n_estimators=200; accuracy: (test=nan) total time=   0.1s\n",
      "[CV 3/3] END criterion=log_loss, max_depth=8, max_features=auto, n_estimators=200; accuracy: (test=nan) total time=   0.1s\n",
      "[CV 1/3] END criterion=log_loss, max_depth=8, max_features=auto, n_estimators=500; accuracy: (test=nan) total time=   0.1s\n",
      "[CV 2/3] END criterion=log_loss, max_depth=8, max_features=auto, n_estimators=500; accuracy: (test=nan) total time=   0.1s\n",
      "[CV 3/3] END criterion=log_loss, max_depth=8, max_features=auto, n_estimators=500; accuracy: (test=nan) total time=   0.1s\n",
      "[CV 1/3] END criterion=log_loss, max_depth=8, max_features=sqrt, n_estimators=100; accuracy: (test=nan) total time=   0.0s\n",
      "[CV 2/3] END criterion=log_loss, max_depth=8, max_features=sqrt, n_estimators=100; accuracy: (test=nan) total time=   0.0s\n",
      "[CV 3/3] END criterion=log_loss, max_depth=8, max_features=sqrt, n_estimators=100; accuracy: (test=nan) total time=   0.0s\n",
      "[CV 1/3] END criterion=log_loss, max_depth=8, max_features=sqrt, n_estimators=200; accuracy: (test=nan) total time=   0.1s\n",
      "[CV 2/3] END criterion=log_loss, max_depth=8, max_features=sqrt, n_estimators=200; accuracy: (test=nan) total time=   0.1s\n",
      "[CV 3/3] END criterion=log_loss, max_depth=8, max_features=sqrt, n_estimators=200; accuracy: (test=nan) total time=   0.1s\n",
      "[CV 1/3] END criterion=log_loss, max_depth=8, max_features=sqrt, n_estimators=500; accuracy: (test=nan) total time=   0.1s\n",
      "[CV 2/3] END criterion=log_loss, max_depth=8, max_features=sqrt, n_estimators=500; accuracy: (test=nan) total time=   0.1s\n",
      "[CV 3/3] END criterion=log_loss, max_depth=8, max_features=sqrt, n_estimators=500; accuracy: (test=nan) total time=   0.1s\n",
      "[CV 1/3] END criterion=log_loss, max_depth=8, max_features=log2, n_estimators=100; accuracy: (test=nan) total time=   0.0s\n",
      "[CV 2/3] END criterion=log_loss, max_depth=8, max_features=log2, n_estimators=100; accuracy: (test=nan) total time=   0.0s\n",
      "[CV 3/3] END criterion=log_loss, max_depth=8, max_features=log2, n_estimators=100; accuracy: (test=nan) total time=   0.0s\n",
      "[CV 1/3] END criterion=log_loss, max_depth=8, max_features=log2, n_estimators=200; accuracy: (test=nan) total time=   0.1s\n",
      "[CV 2/3] END criterion=log_loss, max_depth=8, max_features=log2, n_estimators=200; accuracy: (test=nan) total time=   0.1s\n",
      "[CV 3/3] END criterion=log_loss, max_depth=8, max_features=log2, n_estimators=200; accuracy: (test=nan) total time=   0.1s\n",
      "[CV 1/3] END criterion=log_loss, max_depth=8, max_features=log2, n_estimators=500; accuracy: (test=nan) total time=   0.1s\n",
      "[CV 2/3] END criterion=log_loss, max_depth=8, max_features=log2, n_estimators=500; accuracy: (test=nan) total time=   0.1s\n",
      "[CV 3/3] END criterion=log_loss, max_depth=8, max_features=log2, n_estimators=500; accuracy: (test=nan) total time=   0.1s\n",
      "CPU times: user 2min 44s, sys: 975 ms, total: 2min 45s\n",
      "Wall time: 2min 46s\n"
     ]
    },
    {
     "data": {
      "text/plain": [
       "GridSearchCV(cv=3, estimator=RandomForestClassifier(),\n",
       "             param_grid={'criterion': ['gini', 'entropy', 'log_loss'],\n",
       "                         'max_depth': [4, 5, 6, 7, 8],\n",
       "                         'max_features': ['auto', 'sqrt', 'log2'],\n",
       "                         'n_estimators': [100, 200, 500]},\n",
       "             refit='accuracy', scoring=['accuracy'], verbose=4)"
      ]
     },
     "execution_count": 19,
     "metadata": {},
     "output_type": "execute_result"
    }
   ],
   "source": [
    "%%time\n",
    "gs_rf.fit(X_train, Y_train)"
   ]
  },
  {
   "cell_type": "code",
   "execution_count": 20,
   "metadata": {},
   "outputs": [],
   "source": [
    "best_est_rf = gs_rf.best_estimator_\n",
    "best_score_rf = gs_rf.best_score_"
   ]
  },
  {
   "cell_type": "code",
   "execution_count": 21,
   "metadata": {},
   "outputs": [
    {
     "name": "stdout",
     "output_type": "stream",
     "text": [
      "RandomForestClassifier(criterion='entropy', max_depth=8)\n",
      "0.8182623619139667\n"
     ]
    }
   ],
   "source": [
    "print(best_est_rf)\n",
    "print(best_score_rf)"
   ]
  },
  {
   "cell_type": "markdown",
   "metadata": {},
   "source": [
    "### Logistic Regression"
   ]
  },
  {
   "cell_type": "code",
   "execution_count": 22,
   "metadata": {},
   "outputs": [
    {
     "name": "stdout",
     "output_type": "stream",
     "text": [
      "Accuracy наилучшей модели на валидационной выборке: 0.7 \n",
      " Количество итераций: 100\n"
     ]
    }
   ],
   "source": [
    "best_model = None\n",
    "best_result = 0\n",
    "best_iteration = 0\n",
    "\n",
    "for iteration in range(100, 1000, 2500):\n",
    "    model = LogisticRegression(random_state=12345, max_iter=iteration)\n",
    "    model.fit(features_train, target_train)\n",
    "    result = model.score(features_valid, target_valid)\n",
    "    if result > best_result:\n",
    "        best_model = model\n",
    "        best_result = result\n",
    "        best_iteration = iteration\n",
    "\n",
    "print(\"Accuracy наилучшей модели на валидационной выборке:\", best_result.round(3), '\\n', \"Количество итераций:\", best_iteration)"
   ]
  },
  {
   "cell_type": "markdown",
   "metadata": {},
   "source": [
    "<div class=\"alert alert-info\">\n",
    "GridSearch для Logistic Regression"
   ]
  },
  {
   "cell_type": "code",
   "execution_count": 23,
   "metadata": {},
   "outputs": [],
   "source": [
    "model_log = LogisticRegression()"
   ]
  },
  {
   "cell_type": "code",
   "execution_count": 24,
   "metadata": {},
   "outputs": [],
   "source": [
    "params_log = {\"C\":np.logspace(-3,3,7), \n",
    "          \"penalty\":[\"l1\",\"l2\"],\n",
    "          \"solver\": ['newton-cg', 'lbfgs', 'liblinear', 'sag', 'saga'],\n",
    "          \"max_iter\": [100, 1000]\n",
    "         }"
   ]
  },
  {
   "cell_type": "code",
   "execution_count": 25,
   "metadata": {},
   "outputs": [],
   "source": [
    "gs_log = GridSearchCV(estimator = model_log,\n",
    "                  param_grid = params_log,\n",
    "                  scoring = ['accuracy'],\n",
    "                  refit = 'accuracy',\n",
    "                  cv = 5,\n",
    "                  verbose = 4)"
   ]
  },
  {
   "cell_type": "code",
   "execution_count": 26,
   "metadata": {
    "scrolled": true
   },
   "outputs": [
    {
     "name": "stdout",
     "output_type": "stream",
     "text": [
      "Fitting 5 folds for each of 140 candidates, totalling 700 fits\n",
      "[CV 1/5] END C=0.001, max_iter=100, penalty=l1, solver=newton-cg; accuracy: (test=nan) total time=   0.0s\n",
      "[CV 2/5] END C=0.001, max_iter=100, penalty=l1, solver=newton-cg; accuracy: (test=nan) total time=   0.0s\n",
      "[CV 3/5] END C=0.001, max_iter=100, penalty=l1, solver=newton-cg; accuracy: (test=nan) total time=   0.0s\n",
      "[CV 4/5] END C=0.001, max_iter=100, penalty=l1, solver=newton-cg; accuracy: (test=nan) total time=   0.0s\n",
      "[CV 5/5] END C=0.001, max_iter=100, penalty=l1, solver=newton-cg; accuracy: (test=nan) total time=   0.0s\n",
      "[CV 1/5] END C=0.001, max_iter=100, penalty=l1, solver=lbfgs; accuracy: (test=nan) total time=   0.0s\n",
      "[CV 2/5] END C=0.001, max_iter=100, penalty=l1, solver=lbfgs; accuracy: (test=nan) total time=   0.0s\n",
      "[CV 3/5] END C=0.001, max_iter=100, penalty=l1, solver=lbfgs; accuracy: (test=nan) total time=   0.0s\n",
      "[CV 4/5] END C=0.001, max_iter=100, penalty=l1, solver=lbfgs; accuracy: (test=nan) total time=   0.0s\n",
      "[CV 5/5] END C=0.001, max_iter=100, penalty=l1, solver=lbfgs; accuracy: (test=nan) total time=   0.0s\n",
      "[CV 1/5] END C=0.001, max_iter=100, penalty=l1, solver=liblinear; accuracy: (test=0.693) total time=   0.0s\n",
      "[CV 2/5] END C=0.001, max_iter=100, penalty=l1, solver=liblinear; accuracy: (test=0.697) total time=   0.0s\n",
      "[CV 3/5] END C=0.001, max_iter=100, penalty=l1, solver=liblinear; accuracy: (test=0.691) total time=   0.0s\n",
      "[CV 4/5] END C=0.001, max_iter=100, penalty=l1, solver=liblinear; accuracy: (test=0.693) total time=   0.0s\n",
      "[CV 5/5] END C=0.001, max_iter=100, penalty=l1, solver=liblinear; accuracy: (test=0.699) total time=   0.0s\n",
      "[CV 1/5] END C=0.001, max_iter=100, penalty=l1, solver=sag; accuracy: (test=nan) total time=   0.0s\n",
      "[CV 2/5] END C=0.001, max_iter=100, penalty=l1, solver=sag; accuracy: (test=nan) total time=   0.0s\n",
      "[CV 3/5] END C=0.001, max_iter=100, penalty=l1, solver=sag; accuracy: (test=nan) total time=   0.0s\n",
      "[CV 4/5] END C=0.001, max_iter=100, penalty=l1, solver=sag; accuracy: (test=nan) total time=   0.0s\n",
      "[CV 5/5] END C=0.001, max_iter=100, penalty=l1, solver=sag; accuracy: (test=nan) total time=   0.0s\n",
      "[CV 1/5] END C=0.001, max_iter=100, penalty=l1, solver=saga; accuracy: (test=0.693) total time=   0.0s\n",
      "[CV 2/5] END C=0.001, max_iter=100, penalty=l1, solver=saga; accuracy: (test=0.691) total time=   0.0s\n",
      "[CV 3/5] END C=0.001, max_iter=100, penalty=l1, solver=saga; accuracy: (test=0.691) total time=   0.0s\n",
      "[CV 4/5] END C=0.001, max_iter=100, penalty=l1, solver=saga; accuracy: (test=0.693) total time=   0.0s\n",
      "[CV 5/5] END C=0.001, max_iter=100, penalty=l1, solver=saga; accuracy: (test=0.691) total time=   0.0s\n",
      "[CV 1/5] END C=0.001, max_iter=100, penalty=l2, solver=newton-cg; accuracy: (test=0.728) total time=   0.1s\n",
      "[CV 2/5] END C=0.001, max_iter=100, penalty=l2, solver=newton-cg; accuracy: (test=0.737) total time=   0.1s\n",
      "[CV 3/5] END C=0.001, max_iter=100, penalty=l2, solver=newton-cg; accuracy: (test=0.741) total time=   0.1s\n",
      "[CV 4/5] END C=0.001, max_iter=100, penalty=l2, solver=newton-cg; accuracy: (test=0.745) total time=   0.1s\n",
      "[CV 5/5] END C=0.001, max_iter=100, penalty=l2, solver=newton-cg; accuracy: (test=0.755) total time=   0.1s\n",
      "[CV 1/5] END C=0.001, max_iter=100, penalty=l2, solver=lbfgs; accuracy: (test=0.697) total time=   0.0s\n",
      "[CV 2/5] END C=0.001, max_iter=100, penalty=l2, solver=lbfgs; accuracy: (test=0.737) total time=   0.0s\n",
      "[CV 3/5] END C=0.001, max_iter=100, penalty=l2, solver=lbfgs; accuracy: (test=0.741) total time=   0.0s\n",
      "[CV 4/5] END C=0.001, max_iter=100, penalty=l2, solver=lbfgs; accuracy: (test=0.745) total time=   0.0s\n",
      "[CV 5/5] END C=0.001, max_iter=100, penalty=l2, solver=lbfgs; accuracy: (test=0.755) total time=   0.0s\n",
      "[CV 1/5] END C=0.001, max_iter=100, penalty=l2, solver=liblinear; accuracy: (test=0.695) total time=   0.0s\n",
      "[CV 2/5] END C=0.001, max_iter=100, penalty=l2, solver=liblinear; accuracy: (test=0.701) total time=   0.0s\n",
      "[CV 3/5] END C=0.001, max_iter=100, penalty=l2, solver=liblinear; accuracy: (test=0.705) total time=   0.0s\n",
      "[CV 4/5] END C=0.001, max_iter=100, penalty=l2, solver=liblinear; accuracy: (test=0.699) total time=   0.0s\n",
      "[CV 5/5] END C=0.001, max_iter=100, penalty=l2, solver=liblinear; accuracy: (test=0.707) total time=   0.0s\n",
      "[CV 1/5] END C=0.001, max_iter=100, penalty=l2, solver=sag; accuracy: (test=0.693) total time=   0.0s\n",
      "[CV 2/5] END C=0.001, max_iter=100, penalty=l2, solver=sag; accuracy: (test=0.691) total time=   0.0s\n",
      "[CV 3/5] END C=0.001, max_iter=100, penalty=l2, solver=sag; accuracy: (test=0.691) total time=   0.0s\n",
      "[CV 4/5] END C=0.001, max_iter=100, penalty=l2, solver=sag; accuracy: (test=0.693) total time=   0.0s\n",
      "[CV 5/5] END C=0.001, max_iter=100, penalty=l2, solver=sag; accuracy: (test=0.691) total time=   0.0s\n",
      "[CV 1/5] END C=0.001, max_iter=100, penalty=l2, solver=saga; accuracy: (test=0.693) total time=   0.0s\n",
      "[CV 2/5] END C=0.001, max_iter=100, penalty=l2, solver=saga; accuracy: (test=0.691) total time=   0.0s\n",
      "[CV 3/5] END C=0.001, max_iter=100, penalty=l2, solver=saga; accuracy: (test=0.691) total time=   0.0s\n",
      "[CV 4/5] END C=0.001, max_iter=100, penalty=l2, solver=saga; accuracy: (test=0.693) total time=   0.0s\n",
      "[CV 5/5] END C=0.001, max_iter=100, penalty=l2, solver=saga; accuracy: (test=0.691) total time=   0.0s\n",
      "[CV 1/5] END C=0.001, max_iter=1000, penalty=l1, solver=newton-cg; accuracy: (test=nan) total time=   0.0s\n",
      "[CV 2/5] END C=0.001, max_iter=1000, penalty=l1, solver=newton-cg; accuracy: (test=nan) total time=   0.0s\n",
      "[CV 3/5] END C=0.001, max_iter=1000, penalty=l1, solver=newton-cg; accuracy: (test=nan) total time=   0.0s\n",
      "[CV 4/5] END C=0.001, max_iter=1000, penalty=l1, solver=newton-cg; accuracy: (test=nan) total time=   0.0s\n",
      "[CV 5/5] END C=0.001, max_iter=1000, penalty=l1, solver=newton-cg; accuracy: (test=nan) total time=   0.0s\n",
      "[CV 1/5] END C=0.001, max_iter=1000, penalty=l1, solver=lbfgs; accuracy: (test=nan) total time=   0.0s\n",
      "[CV 2/5] END C=0.001, max_iter=1000, penalty=l1, solver=lbfgs; accuracy: (test=nan) total time=   0.0s\n",
      "[CV 3/5] END C=0.001, max_iter=1000, penalty=l1, solver=lbfgs; accuracy: (test=nan) total time=   0.0s\n",
      "[CV 4/5] END C=0.001, max_iter=1000, penalty=l1, solver=lbfgs; accuracy: (test=nan) total time=   0.0s\n",
      "[CV 5/5] END C=0.001, max_iter=1000, penalty=l1, solver=lbfgs; accuracy: (test=nan) total time=   0.0s\n",
      "[CV 1/5] END C=0.001, max_iter=1000, penalty=l1, solver=liblinear; accuracy: (test=0.693) total time=   0.0s\n",
      "[CV 2/5] END C=0.001, max_iter=1000, penalty=l1, solver=liblinear; accuracy: (test=0.697) total time=   0.0s\n",
      "[CV 3/5] END C=0.001, max_iter=1000, penalty=l1, solver=liblinear; accuracy: (test=0.691) total time=   0.0s\n",
      "[CV 4/5] END C=0.001, max_iter=1000, penalty=l1, solver=liblinear; accuracy: (test=0.693) total time=   0.0s\n",
      "[CV 5/5] END C=0.001, max_iter=1000, penalty=l1, solver=liblinear; accuracy: (test=0.699) total time=   0.0s\n",
      "[CV 1/5] END C=0.001, max_iter=1000, penalty=l1, solver=sag; accuracy: (test=nan) total time=   0.0s\n",
      "[CV 2/5] END C=0.001, max_iter=1000, penalty=l1, solver=sag; accuracy: (test=nan) total time=   0.0s\n",
      "[CV 3/5] END C=0.001, max_iter=1000, penalty=l1, solver=sag; accuracy: (test=nan) total time=   0.0s\n",
      "[CV 4/5] END C=0.001, max_iter=1000, penalty=l1, solver=sag; accuracy: (test=nan) total time=   0.0s\n",
      "[CV 5/5] END C=0.001, max_iter=1000, penalty=l1, solver=sag; accuracy: (test=nan) total time=   0.0s\n",
      "[CV 1/5] END C=0.001, max_iter=1000, penalty=l1, solver=saga; accuracy: (test=0.693) total time=   0.2s\n",
      "[CV 2/5] END C=0.001, max_iter=1000, penalty=l1, solver=saga; accuracy: (test=0.693) total time=   0.2s\n",
      "[CV 3/5] END C=0.001, max_iter=1000, penalty=l1, solver=saga; accuracy: (test=0.691) total time=   0.2s\n",
      "[CV 4/5] END C=0.001, max_iter=1000, penalty=l1, solver=saga; accuracy: (test=0.691) total time=   0.2s\n",
      "[CV 5/5] END C=0.001, max_iter=1000, penalty=l1, solver=saga; accuracy: (test=0.695) total time=   0.2s\n",
      "[CV 1/5] END C=0.001, max_iter=1000, penalty=l2, solver=newton-cg; accuracy: (test=0.728) total time=   0.1s\n",
      "[CV 2/5] END C=0.001, max_iter=1000, penalty=l2, solver=newton-cg; accuracy: (test=0.737) total time=   0.1s\n",
      "[CV 3/5] END C=0.001, max_iter=1000, penalty=l2, solver=newton-cg; accuracy: (test=0.741) total time=   0.1s\n",
      "[CV 4/5] END C=0.001, max_iter=1000, penalty=l2, solver=newton-cg; accuracy: (test=0.745) total time=   0.1s\n",
      "[CV 5/5] END C=0.001, max_iter=1000, penalty=l2, solver=newton-cg; accuracy: (test=0.755) total time=   0.1s\n",
      "[CV 1/5] END C=0.001, max_iter=1000, penalty=l2, solver=lbfgs; accuracy: (test=0.697) total time=   0.0s\n",
      "[CV 2/5] END C=0.001, max_iter=1000, penalty=l2, solver=lbfgs; accuracy: (test=0.737) total time=   0.0s\n",
      "[CV 3/5] END C=0.001, max_iter=1000, penalty=l2, solver=lbfgs; accuracy: (test=0.741) total time=   0.0s\n",
      "[CV 4/5] END C=0.001, max_iter=1000, penalty=l2, solver=lbfgs; accuracy: (test=0.745) total time=   0.0s\n",
      "[CV 5/5] END C=0.001, max_iter=1000, penalty=l2, solver=lbfgs; accuracy: (test=0.755) total time=   0.0s\n",
      "[CV 1/5] END C=0.001, max_iter=1000, penalty=l2, solver=liblinear; accuracy: (test=0.695) total time=   0.0s\n",
      "[CV 2/5] END C=0.001, max_iter=1000, penalty=l2, solver=liblinear; accuracy: (test=0.701) total time=   0.0s\n",
      "[CV 3/5] END C=0.001, max_iter=1000, penalty=l2, solver=liblinear; accuracy: (test=0.705) total time=   0.0s\n",
      "[CV 4/5] END C=0.001, max_iter=1000, penalty=l2, solver=liblinear; accuracy: (test=0.699) total time=   0.0s\n",
      "[CV 5/5] END C=0.001, max_iter=1000, penalty=l2, solver=liblinear; accuracy: (test=0.707) total time=   0.0s\n",
      "[CV 1/5] END C=0.001, max_iter=1000, penalty=l2, solver=sag; accuracy: (test=0.693) total time=   0.2s\n",
      "[CV 2/5] END C=0.001, max_iter=1000, penalty=l2, solver=sag; accuracy: (test=0.697) total time=   0.2s\n",
      "[CV 3/5] END C=0.001, max_iter=1000, penalty=l2, solver=sag; accuracy: (test=0.693) total time=   0.2s\n",
      "[CV 4/5] END C=0.001, max_iter=1000, penalty=l2, solver=sag; accuracy: (test=0.693) total time=   0.2s\n",
      "[CV 5/5] END C=0.001, max_iter=1000, penalty=l2, solver=sag; accuracy: (test=0.699) total time=   0.2s\n",
      "[CV 1/5] END C=0.001, max_iter=1000, penalty=l2, solver=saga; accuracy: (test=0.691) total time=   0.2s\n",
      "[CV 2/5] END C=0.001, max_iter=1000, penalty=l2, solver=saga; accuracy: (test=0.695) total time=   0.2s\n",
      "[CV 3/5] END C=0.001, max_iter=1000, penalty=l2, solver=saga; accuracy: (test=0.691) total time=   0.2s\n",
      "[CV 4/5] END C=0.001, max_iter=1000, penalty=l2, solver=saga; accuracy: (test=0.689) total time=   0.2s\n",
      "[CV 5/5] END C=0.001, max_iter=1000, penalty=l2, solver=saga; accuracy: (test=0.697) total time=   0.2s\n",
      "[CV 1/5] END C=0.01, max_iter=100, penalty=l1, solver=newton-cg; accuracy: (test=nan) total time=   0.0s\n",
      "[CV 2/5] END C=0.01, max_iter=100, penalty=l1, solver=newton-cg; accuracy: (test=nan) total time=   0.0s\n",
      "[CV 3/5] END C=0.01, max_iter=100, penalty=l1, solver=newton-cg; accuracy: (test=nan) total time=   0.0s\n",
      "[CV 4/5] END C=0.01, max_iter=100, penalty=l1, solver=newton-cg; accuracy: (test=nan) total time=   0.0s\n",
      "[CV 5/5] END C=0.01, max_iter=100, penalty=l1, solver=newton-cg; accuracy: (test=nan) total time=   0.0s\n",
      "[CV 1/5] END C=0.01, max_iter=100, penalty=l1, solver=lbfgs; accuracy: (test=nan) total time=   0.0s\n",
      "[CV 2/5] END C=0.01, max_iter=100, penalty=l1, solver=lbfgs; accuracy: (test=nan) total time=   0.0s\n",
      "[CV 3/5] END C=0.01, max_iter=100, penalty=l1, solver=lbfgs; accuracy: (test=nan) total time=   0.0s\n",
      "[CV 4/5] END C=0.01, max_iter=100, penalty=l1, solver=lbfgs; accuracy: (test=nan) total time=   0.0s\n",
      "[CV 5/5] END C=0.01, max_iter=100, penalty=l1, solver=lbfgs; accuracy: (test=nan) total time=   0.0s\n",
      "[CV 1/5] END C=0.01, max_iter=100, penalty=l1, solver=liblinear; accuracy: (test=0.701) total time=   0.0s\n",
      "[CV 2/5] END C=0.01, max_iter=100, penalty=l1, solver=liblinear; accuracy: (test=0.691) total time=   0.0s\n",
      "[CV 3/5] END C=0.01, max_iter=100, penalty=l1, solver=liblinear; accuracy: (test=0.699) total time=   0.0s\n",
      "[CV 4/5] END C=0.01, max_iter=100, penalty=l1, solver=liblinear; accuracy: (test=0.695) total time=   0.0s\n",
      "[CV 5/5] END C=0.01, max_iter=100, penalty=l1, solver=liblinear; accuracy: (test=0.697) total time=   0.0s\n",
      "[CV 1/5] END C=0.01, max_iter=100, penalty=l1, solver=sag; accuracy: (test=nan) total time=   0.0s\n",
      "[CV 2/5] END C=0.01, max_iter=100, penalty=l1, solver=sag; accuracy: (test=nan) total time=   0.0s\n",
      "[CV 3/5] END C=0.01, max_iter=100, penalty=l1, solver=sag; accuracy: (test=nan) total time=   0.0s\n",
      "[CV 4/5] END C=0.01, max_iter=100, penalty=l1, solver=sag; accuracy: (test=nan) total time=   0.0s\n",
      "[CV 5/5] END C=0.01, max_iter=100, penalty=l1, solver=sag; accuracy: (test=nan) total time=   0.0s\n",
      "[CV 1/5] END C=0.01, max_iter=100, penalty=l1, solver=saga; accuracy: (test=0.693) total time=   0.0s\n",
      "[CV 2/5] END C=0.01, max_iter=100, penalty=l1, solver=saga; accuracy: (test=0.691) total time=   0.0s\n",
      "[CV 3/5] END C=0.01, max_iter=100, penalty=l1, solver=saga; accuracy: (test=0.691) total time=   0.0s\n",
      "[CV 4/5] END C=0.01, max_iter=100, penalty=l1, solver=saga; accuracy: (test=0.693) total time=   0.0s\n",
      "[CV 5/5] END C=0.01, max_iter=100, penalty=l1, solver=saga; accuracy: (test=0.691) total time=   0.0s\n",
      "[CV 1/5] END C=0.01, max_iter=100, penalty=l2, solver=newton-cg; accuracy: (test=0.728) total time=   0.1s\n",
      "[CV 2/5] END C=0.01, max_iter=100, penalty=l2, solver=newton-cg; accuracy: (test=0.737) total time=   0.1s\n",
      "[CV 3/5] END C=0.01, max_iter=100, penalty=l2, solver=newton-cg; accuracy: (test=0.741) total time=   0.1s\n",
      "[CV 4/5] END C=0.01, max_iter=100, penalty=l2, solver=newton-cg; accuracy: (test=0.743) total time=   0.1s\n",
      "[CV 5/5] END C=0.01, max_iter=100, penalty=l2, solver=newton-cg; accuracy: (test=0.755) total time=   0.1s\n",
      "[CV 1/5] END C=0.01, max_iter=100, penalty=l2, solver=lbfgs; accuracy: (test=0.730) total time=   0.0s\n",
      "[CV 2/5] END C=0.01, max_iter=100, penalty=l2, solver=lbfgs; accuracy: (test=0.737) total time=   0.0s\n",
      "[CV 3/5] END C=0.01, max_iter=100, penalty=l2, solver=lbfgs; accuracy: (test=0.741) total time=   0.0s\n",
      "[CV 4/5] END C=0.01, max_iter=100, penalty=l2, solver=lbfgs; accuracy: (test=0.743) total time=   0.0s\n",
      "[CV 5/5] END C=0.01, max_iter=100, penalty=l2, solver=lbfgs; accuracy: (test=0.755) total time=   0.0s\n",
      "[CV 1/5] END C=0.01, max_iter=100, penalty=l2, solver=liblinear; accuracy: (test=0.695) total time=   0.0s\n",
      "[CV 2/5] END C=0.01, max_iter=100, penalty=l2, solver=liblinear; accuracy: (test=0.691) total time=   0.0s\n",
      "[CV 3/5] END C=0.01, max_iter=100, penalty=l2, solver=liblinear; accuracy: (test=0.710) total time=   0.0s\n",
      "[CV 4/5] END C=0.01, max_iter=100, penalty=l2, solver=liblinear; accuracy: (test=0.699) total time=   0.0s\n",
      "[CV 5/5] END C=0.01, max_iter=100, penalty=l2, solver=liblinear; accuracy: (test=0.707) total time=   0.0s\n",
      "[CV 1/5] END C=0.01, max_iter=100, penalty=l2, solver=sag; accuracy: (test=0.693) total time=   0.0s\n",
      "[CV 2/5] END C=0.01, max_iter=100, penalty=l2, solver=sag; accuracy: (test=0.691) total time=   0.0s\n",
      "[CV 3/5] END C=0.01, max_iter=100, penalty=l2, solver=sag; accuracy: (test=0.691) total time=   0.0s\n",
      "[CV 4/5] END C=0.01, max_iter=100, penalty=l2, solver=sag; accuracy: (test=0.693) total time=   0.0s\n",
      "[CV 5/5] END C=0.01, max_iter=100, penalty=l2, solver=sag; accuracy: (test=0.691) total time=   0.0s\n",
      "[CV 1/5] END C=0.01, max_iter=100, penalty=l2, solver=saga; accuracy: (test=0.693) total time=   0.0s\n",
      "[CV 2/5] END C=0.01, max_iter=100, penalty=l2, solver=saga; accuracy: (test=0.691) total time=   0.0s\n",
      "[CV 3/5] END C=0.01, max_iter=100, penalty=l2, solver=saga; accuracy: (test=0.691) total time=   0.0s\n",
      "[CV 4/5] END C=0.01, max_iter=100, penalty=l2, solver=saga; accuracy: (test=0.693) total time=   0.0s\n",
      "[CV 5/5] END C=0.01, max_iter=100, penalty=l2, solver=saga; accuracy: (test=0.691) total time=   0.0s\n",
      "[CV 1/5] END C=0.01, max_iter=1000, penalty=l1, solver=newton-cg; accuracy: (test=nan) total time=   0.0s\n",
      "[CV 2/5] END C=0.01, max_iter=1000, penalty=l1, solver=newton-cg; accuracy: (test=nan) total time=   0.0s\n",
      "[CV 3/5] END C=0.01, max_iter=1000, penalty=l1, solver=newton-cg; accuracy: (test=nan) total time=   0.0s\n",
      "[CV 4/5] END C=0.01, max_iter=1000, penalty=l1, solver=newton-cg; accuracy: (test=nan) total time=   0.0s\n",
      "[CV 5/5] END C=0.01, max_iter=1000, penalty=l1, solver=newton-cg; accuracy: (test=nan) total time=   0.0s\n",
      "[CV 1/5] END C=0.01, max_iter=1000, penalty=l1, solver=lbfgs; accuracy: (test=nan) total time=   0.0s\n",
      "[CV 2/5] END C=0.01, max_iter=1000, penalty=l1, solver=lbfgs; accuracy: (test=nan) total time=   0.0s\n",
      "[CV 3/5] END C=0.01, max_iter=1000, penalty=l1, solver=lbfgs; accuracy: (test=nan) total time=   0.0s\n",
      "[CV 4/5] END C=0.01, max_iter=1000, penalty=l1, solver=lbfgs; accuracy: (test=nan) total time=   0.0s\n",
      "[CV 5/5] END C=0.01, max_iter=1000, penalty=l1, solver=lbfgs; accuracy: (test=nan) total time=   0.0s\n",
      "[CV 1/5] END C=0.01, max_iter=1000, penalty=l1, solver=liblinear; accuracy: (test=0.701) total time=   0.0s\n",
      "[CV 2/5] END C=0.01, max_iter=1000, penalty=l1, solver=liblinear; accuracy: (test=0.691) total time=   0.0s\n",
      "[CV 3/5] END C=0.01, max_iter=1000, penalty=l1, solver=liblinear; accuracy: (test=0.699) total time=   0.0s\n",
      "[CV 4/5] END C=0.01, max_iter=1000, penalty=l1, solver=liblinear; accuracy: (test=0.695) total time=   0.0s\n",
      "[CV 5/5] END C=0.01, max_iter=1000, penalty=l1, solver=liblinear; accuracy: (test=0.697) total time=   0.0s\n",
      "[CV 1/5] END C=0.01, max_iter=1000, penalty=l1, solver=sag; accuracy: (test=nan) total time=   0.0s\n",
      "[CV 2/5] END C=0.01, max_iter=1000, penalty=l1, solver=sag; accuracy: (test=nan) total time=   0.0s\n",
      "[CV 3/5] END C=0.01, max_iter=1000, penalty=l1, solver=sag; accuracy: (test=nan) total time=   0.0s\n",
      "[CV 4/5] END C=0.01, max_iter=1000, penalty=l1, solver=sag; accuracy: (test=nan) total time=   0.0s\n",
      "[CV 5/5] END C=0.01, max_iter=1000, penalty=l1, solver=sag; accuracy: (test=nan) total time=   0.0s\n",
      "[CV 1/5] END C=0.01, max_iter=1000, penalty=l1, solver=saga; accuracy: (test=0.691) total time=   0.2s\n",
      "[CV 2/5] END C=0.01, max_iter=1000, penalty=l1, solver=saga; accuracy: (test=0.695) total time=   0.2s\n",
      "[CV 3/5] END C=0.01, max_iter=1000, penalty=l1, solver=saga; accuracy: (test=0.691) total time=   0.2s\n",
      "[CV 4/5] END C=0.01, max_iter=1000, penalty=l1, solver=saga; accuracy: (test=0.691) total time=   0.2s\n",
      "[CV 5/5] END C=0.01, max_iter=1000, penalty=l1, solver=saga; accuracy: (test=0.697) total time=   0.2s\n",
      "[CV 1/5] END C=0.01, max_iter=1000, penalty=l2, solver=newton-cg; accuracy: (test=0.728) total time=   0.1s\n",
      "[CV 2/5] END C=0.01, max_iter=1000, penalty=l2, solver=newton-cg; accuracy: (test=0.737) total time=   0.1s\n",
      "[CV 3/5] END C=0.01, max_iter=1000, penalty=l2, solver=newton-cg; accuracy: (test=0.741) total time=   0.1s\n",
      "[CV 4/5] END C=0.01, max_iter=1000, penalty=l2, solver=newton-cg; accuracy: (test=0.743) total time=   0.1s\n",
      "[CV 5/5] END C=0.01, max_iter=1000, penalty=l2, solver=newton-cg; accuracy: (test=0.755) total time=   0.1s\n",
      "[CV 1/5] END C=0.01, max_iter=1000, penalty=l2, solver=lbfgs; accuracy: (test=0.728) total time=   0.0s\n",
      "[CV 2/5] END C=0.01, max_iter=1000, penalty=l2, solver=lbfgs; accuracy: (test=0.737) total time=   0.0s\n",
      "[CV 3/5] END C=0.01, max_iter=1000, penalty=l2, solver=lbfgs; accuracy: (test=0.741) total time=   0.0s\n",
      "[CV 4/5] END C=0.01, max_iter=1000, penalty=l2, solver=lbfgs; accuracy: (test=0.743) total time=   0.0s\n",
      "[CV 5/5] END C=0.01, max_iter=1000, penalty=l2, solver=lbfgs; accuracy: (test=0.755) total time=   0.0s\n",
      "[CV 1/5] END C=0.01, max_iter=1000, penalty=l2, solver=liblinear; accuracy: (test=0.695) total time=   0.0s\n",
      "[CV 2/5] END C=0.01, max_iter=1000, penalty=l2, solver=liblinear; accuracy: (test=0.691) total time=   0.0s\n",
      "[CV 3/5] END C=0.01, max_iter=1000, penalty=l2, solver=liblinear; accuracy: (test=0.710) total time=   0.0s\n",
      "[CV 4/5] END C=0.01, max_iter=1000, penalty=l2, solver=liblinear; accuracy: (test=0.699) total time=   0.0s\n",
      "[CV 5/5] END C=0.01, max_iter=1000, penalty=l2, solver=liblinear; accuracy: (test=0.707) total time=   0.0s\n",
      "[CV 1/5] END C=0.01, max_iter=1000, penalty=l2, solver=sag; accuracy: (test=0.693) total time=   0.2s\n",
      "[CV 2/5] END C=0.01, max_iter=1000, penalty=l2, solver=sag; accuracy: (test=0.697) total time=   0.1s\n",
      "[CV 3/5] END C=0.01, max_iter=1000, penalty=l2, solver=sag; accuracy: (test=0.693) total time=   0.2s\n",
      "[CV 4/5] END C=0.01, max_iter=1000, penalty=l2, solver=sag; accuracy: (test=0.693) total time=   0.2s\n",
      "[CV 5/5] END C=0.01, max_iter=1000, penalty=l2, solver=sag; accuracy: (test=0.699) total time=   0.2s\n",
      "[CV 1/5] END C=0.01, max_iter=1000, penalty=l2, solver=saga; accuracy: (test=0.691) total time=   0.2s\n",
      "[CV 2/5] END C=0.01, max_iter=1000, penalty=l2, solver=saga; accuracy: (test=0.695) total time=   0.2s\n",
      "[CV 3/5] END C=0.01, max_iter=1000, penalty=l2, solver=saga; accuracy: (test=0.691) total time=   0.2s\n",
      "[CV 4/5] END C=0.01, max_iter=1000, penalty=l2, solver=saga; accuracy: (test=0.689) total time=   0.2s\n",
      "[CV 5/5] END C=0.01, max_iter=1000, penalty=l2, solver=saga; accuracy: (test=0.697) total time=   0.2s\n",
      "[CV 1/5] END C=0.1, max_iter=100, penalty=l1, solver=newton-cg; accuracy: (test=nan) total time=   0.0s\n",
      "[CV 2/5] END C=0.1, max_iter=100, penalty=l1, solver=newton-cg; accuracy: (test=nan) total time=   0.0s\n",
      "[CV 3/5] END C=0.1, max_iter=100, penalty=l1, solver=newton-cg; accuracy: (test=nan) total time=   0.0s\n",
      "[CV 4/5] END C=0.1, max_iter=100, penalty=l1, solver=newton-cg; accuracy: (test=nan) total time=   0.0s\n",
      "[CV 5/5] END C=0.1, max_iter=100, penalty=l1, solver=newton-cg; accuracy: (test=nan) total time=   0.0s\n",
      "[CV 1/5] END C=0.1, max_iter=100, penalty=l1, solver=lbfgs; accuracy: (test=nan) total time=   0.0s\n",
      "[CV 2/5] END C=0.1, max_iter=100, penalty=l1, solver=lbfgs; accuracy: (test=nan) total time=   0.0s\n",
      "[CV 3/5] END C=0.1, max_iter=100, penalty=l1, solver=lbfgs; accuracy: (test=nan) total time=   0.0s\n",
      "[CV 4/5] END C=0.1, max_iter=100, penalty=l1, solver=lbfgs; accuracy: (test=nan) total time=   0.0s\n",
      "[CV 5/5] END C=0.1, max_iter=100, penalty=l1, solver=lbfgs; accuracy: (test=nan) total time=   0.0s\n",
      "[CV 1/5] END C=0.1, max_iter=100, penalty=l1, solver=liblinear; accuracy: (test=0.732) total time=   0.0s\n",
      "[CV 2/5] END C=0.1, max_iter=100, penalty=l1, solver=liblinear; accuracy: (test=0.734) total time=   0.0s\n",
      "[CV 3/5] END C=0.1, max_iter=100, penalty=l1, solver=liblinear; accuracy: (test=0.739) total time=   0.0s\n",
      "[CV 4/5] END C=0.1, max_iter=100, penalty=l1, solver=liblinear; accuracy: (test=0.737) total time=   0.0s\n",
      "[CV 5/5] END C=0.1, max_iter=100, penalty=l1, solver=liblinear; accuracy: (test=0.753) total time=   0.0s\n",
      "[CV 1/5] END C=0.1, max_iter=100, penalty=l1, solver=sag; accuracy: (test=nan) total time=   0.0s\n",
      "[CV 2/5] END C=0.1, max_iter=100, penalty=l1, solver=sag; accuracy: (test=nan) total time=   0.0s\n",
      "[CV 3/5] END C=0.1, max_iter=100, penalty=l1, solver=sag; accuracy: (test=nan) total time=   0.0s\n",
      "[CV 4/5] END C=0.1, max_iter=100, penalty=l1, solver=sag; accuracy: (test=nan) total time=   0.0s\n",
      "[CV 5/5] END C=0.1, max_iter=100, penalty=l1, solver=sag; accuracy: (test=nan) total time=   0.0s\n",
      "[CV 1/5] END C=0.1, max_iter=100, penalty=l1, solver=saga; accuracy: (test=0.693) total time=   0.0s\n",
      "[CV 2/5] END C=0.1, max_iter=100, penalty=l1, solver=saga; accuracy: (test=0.691) total time=   0.0s\n",
      "[CV 3/5] END C=0.1, max_iter=100, penalty=l1, solver=saga; accuracy: (test=0.691) total time=   0.0s\n",
      "[CV 4/5] END C=0.1, max_iter=100, penalty=l1, solver=saga; accuracy: (test=0.693) total time=   0.0s\n",
      "[CV 5/5] END C=0.1, max_iter=100, penalty=l1, solver=saga; accuracy: (test=0.691) total time=   0.0s\n",
      "[CV 1/5] END C=0.1, max_iter=100, penalty=l2, solver=newton-cg; accuracy: (test=0.728) total time=   0.1s\n",
      "[CV 2/5] END C=0.1, max_iter=100, penalty=l2, solver=newton-cg; accuracy: (test=0.737) total time=   0.1s\n",
      "[CV 3/5] END C=0.1, max_iter=100, penalty=l2, solver=newton-cg; accuracy: (test=0.741) total time=   0.1s\n",
      "[CV 4/5] END C=0.1, max_iter=100, penalty=l2, solver=newton-cg; accuracy: (test=0.743) total time=   0.1s\n",
      "[CV 5/5] END C=0.1, max_iter=100, penalty=l2, solver=newton-cg; accuracy: (test=0.755) total time=   0.1s\n",
      "[CV 1/5] END C=0.1, max_iter=100, penalty=l2, solver=lbfgs; accuracy: (test=0.695) total time=   0.0s\n",
      "[CV 2/5] END C=0.1, max_iter=100, penalty=l2, solver=lbfgs; accuracy: (test=0.737) total time=   0.0s\n",
      "[CV 3/5] END C=0.1, max_iter=100, penalty=l2, solver=lbfgs; accuracy: (test=0.741) total time=   0.0s\n",
      "[CV 4/5] END C=0.1, max_iter=100, penalty=l2, solver=lbfgs; accuracy: (test=0.743) total time=   0.0s\n",
      "[CV 5/5] END C=0.1, max_iter=100, penalty=l2, solver=lbfgs; accuracy: (test=0.755) total time=   0.0s\n",
      "[CV 1/5] END C=0.1, max_iter=100, penalty=l2, solver=liblinear; accuracy: (test=0.695) total time=   0.0s\n",
      "[CV 2/5] END C=0.1, max_iter=100, penalty=l2, solver=liblinear; accuracy: (test=0.728) total time=   0.0s\n",
      "[CV 3/5] END C=0.1, max_iter=100, penalty=l2, solver=liblinear; accuracy: (test=0.710) total time=   0.0s\n",
      "[CV 4/5] END C=0.1, max_iter=100, penalty=l2, solver=liblinear; accuracy: (test=0.699) total time=   0.0s\n",
      "[CV 5/5] END C=0.1, max_iter=100, penalty=l2, solver=liblinear; accuracy: (test=0.707) total time=   0.0s\n",
      "[CV 1/5] END C=0.1, max_iter=100, penalty=l2, solver=sag; accuracy: (test=0.693) total time=   0.0s\n",
      "[CV 2/5] END C=0.1, max_iter=100, penalty=l2, solver=sag; accuracy: (test=0.691) total time=   0.0s\n",
      "[CV 3/5] END C=0.1, max_iter=100, penalty=l2, solver=sag; accuracy: (test=0.691) total time=   0.0s\n",
      "[CV 4/5] END C=0.1, max_iter=100, penalty=l2, solver=sag; accuracy: (test=0.693) total time=   0.0s\n",
      "[CV 5/5] END C=0.1, max_iter=100, penalty=l2, solver=sag; accuracy: (test=0.691) total time=   0.0s\n",
      "[CV 1/5] END C=0.1, max_iter=100, penalty=l2, solver=saga; accuracy: (test=0.693) total time=   0.0s\n",
      "[CV 2/5] END C=0.1, max_iter=100, penalty=l2, solver=saga; accuracy: (test=0.691) total time=   0.0s\n",
      "[CV 3/5] END C=0.1, max_iter=100, penalty=l2, solver=saga; accuracy: (test=0.691) total time=   0.0s\n",
      "[CV 4/5] END C=0.1, max_iter=100, penalty=l2, solver=saga; accuracy: (test=0.693) total time=   0.0s\n",
      "[CV 5/5] END C=0.1, max_iter=100, penalty=l2, solver=saga; accuracy: (test=0.691) total time=   0.0s\n",
      "[CV 1/5] END C=0.1, max_iter=1000, penalty=l1, solver=newton-cg; accuracy: (test=nan) total time=   0.0s\n",
      "[CV 2/5] END C=0.1, max_iter=1000, penalty=l1, solver=newton-cg; accuracy: (test=nan) total time=   0.0s\n",
      "[CV 3/5] END C=0.1, max_iter=1000, penalty=l1, solver=newton-cg; accuracy: (test=nan) total time=   0.0s\n",
      "[CV 4/5] END C=0.1, max_iter=1000, penalty=l1, solver=newton-cg; accuracy: (test=nan) total time=   0.0s\n",
      "[CV 5/5] END C=0.1, max_iter=1000, penalty=l1, solver=newton-cg; accuracy: (test=nan) total time=   0.0s\n",
      "[CV 1/5] END C=0.1, max_iter=1000, penalty=l1, solver=lbfgs; accuracy: (test=nan) total time=   0.0s\n",
      "[CV 2/5] END C=0.1, max_iter=1000, penalty=l1, solver=lbfgs; accuracy: (test=nan) total time=   0.0s\n",
      "[CV 3/5] END C=0.1, max_iter=1000, penalty=l1, solver=lbfgs; accuracy: (test=nan) total time=   0.0s\n",
      "[CV 4/5] END C=0.1, max_iter=1000, penalty=l1, solver=lbfgs; accuracy: (test=nan) total time=   0.0s\n",
      "[CV 5/5] END C=0.1, max_iter=1000, penalty=l1, solver=lbfgs; accuracy: (test=nan) total time=   0.0s\n",
      "[CV 1/5] END C=0.1, max_iter=1000, penalty=l1, solver=liblinear; accuracy: (test=0.732) total time=   0.0s\n",
      "[CV 2/5] END C=0.1, max_iter=1000, penalty=l1, solver=liblinear; accuracy: (test=0.732) total time=   0.0s\n",
      "[CV 3/5] END C=0.1, max_iter=1000, penalty=l1, solver=liblinear; accuracy: (test=0.737) total time=   0.0s\n",
      "[CV 4/5] END C=0.1, max_iter=1000, penalty=l1, solver=liblinear; accuracy: (test=0.734) total time=   0.0s\n",
      "[CV 5/5] END C=0.1, max_iter=1000, penalty=l1, solver=liblinear; accuracy: (test=0.751) total time=   0.0s\n",
      "[CV 1/5] END C=0.1, max_iter=1000, penalty=l1, solver=sag; accuracy: (test=nan) total time=   0.0s\n",
      "[CV 2/5] END C=0.1, max_iter=1000, penalty=l1, solver=sag; accuracy: (test=nan) total time=   0.0s\n",
      "[CV 3/5] END C=0.1, max_iter=1000, penalty=l1, solver=sag; accuracy: (test=nan) total time=   0.0s\n",
      "[CV 4/5] END C=0.1, max_iter=1000, penalty=l1, solver=sag; accuracy: (test=nan) total time=   0.0s\n",
      "[CV 5/5] END C=0.1, max_iter=1000, penalty=l1, solver=sag; accuracy: (test=nan) total time=   0.0s\n",
      "[CV 1/5] END C=0.1, max_iter=1000, penalty=l1, solver=saga; accuracy: (test=0.691) total time=   0.2s\n",
      "[CV 2/5] END C=0.1, max_iter=1000, penalty=l1, solver=saga; accuracy: (test=0.695) total time=   0.2s\n",
      "[CV 3/5] END C=0.1, max_iter=1000, penalty=l1, solver=saga; accuracy: (test=0.691) total time=   0.2s\n",
      "[CV 4/5] END C=0.1, max_iter=1000, penalty=l1, solver=saga; accuracy: (test=0.689) total time=   0.2s\n",
      "[CV 5/5] END C=0.1, max_iter=1000, penalty=l1, solver=saga; accuracy: (test=0.697) total time=   0.2s\n",
      "[CV 1/5] END C=0.1, max_iter=1000, penalty=l2, solver=newton-cg; accuracy: (test=0.728) total time=   0.1s\n",
      "[CV 2/5] END C=0.1, max_iter=1000, penalty=l2, solver=newton-cg; accuracy: (test=0.737) total time=   0.1s\n",
      "[CV 3/5] END C=0.1, max_iter=1000, penalty=l2, solver=newton-cg; accuracy: (test=0.741) total time=   0.1s\n",
      "[CV 4/5] END C=0.1, max_iter=1000, penalty=l2, solver=newton-cg; accuracy: (test=0.743) total time=   0.1s\n",
      "[CV 5/5] END C=0.1, max_iter=1000, penalty=l2, solver=newton-cg; accuracy: (test=0.755) total time=   0.1s\n",
      "[CV 1/5] END C=0.1, max_iter=1000, penalty=l2, solver=lbfgs; accuracy: (test=0.695) total time=   0.0s\n",
      "[CV 2/5] END C=0.1, max_iter=1000, penalty=l2, solver=lbfgs; accuracy: (test=0.737) total time=   0.0s\n",
      "[CV 3/5] END C=0.1, max_iter=1000, penalty=l2, solver=lbfgs; accuracy: (test=0.741) total time=   0.0s\n",
      "[CV 4/5] END C=0.1, max_iter=1000, penalty=l2, solver=lbfgs; accuracy: (test=0.743) total time=   0.0s\n",
      "[CV 5/5] END C=0.1, max_iter=1000, penalty=l2, solver=lbfgs; accuracy: (test=0.755) total time=   0.0s\n",
      "[CV 1/5] END C=0.1, max_iter=1000, penalty=l2, solver=liblinear; accuracy: (test=0.695) total time=   0.0s\n",
      "[CV 2/5] END C=0.1, max_iter=1000, penalty=l2, solver=liblinear; accuracy: (test=0.728) total time=   0.0s\n",
      "[CV 3/5] END C=0.1, max_iter=1000, penalty=l2, solver=liblinear; accuracy: (test=0.710) total time=   0.0s\n",
      "[CV 4/5] END C=0.1, max_iter=1000, penalty=l2, solver=liblinear; accuracy: (test=0.699) total time=   0.0s\n",
      "[CV 5/5] END C=0.1, max_iter=1000, penalty=l2, solver=liblinear; accuracy: (test=0.707) total time=   0.0s\n",
      "[CV 1/5] END C=0.1, max_iter=1000, penalty=l2, solver=sag; accuracy: (test=0.693) total time=   0.2s\n",
      "[CV 2/5] END C=0.1, max_iter=1000, penalty=l2, solver=sag; accuracy: (test=0.697) total time=   0.2s\n",
      "[CV 3/5] END C=0.1, max_iter=1000, penalty=l2, solver=sag; accuracy: (test=0.693) total time=   0.2s\n",
      "[CV 4/5] END C=0.1, max_iter=1000, penalty=l2, solver=sag; accuracy: (test=0.693) total time=   0.2s\n",
      "[CV 5/5] END C=0.1, max_iter=1000, penalty=l2, solver=sag; accuracy: (test=0.699) total time=   0.2s\n",
      "[CV 1/5] END C=0.1, max_iter=1000, penalty=l2, solver=saga; accuracy: (test=0.691) total time=   0.2s\n",
      "[CV 2/5] END C=0.1, max_iter=1000, penalty=l2, solver=saga; accuracy: (test=0.695) total time=   0.2s\n",
      "[CV 3/5] END C=0.1, max_iter=1000, penalty=l2, solver=saga; accuracy: (test=0.691) total time=   0.2s\n",
      "[CV 4/5] END C=0.1, max_iter=1000, penalty=l2, solver=saga; accuracy: (test=0.689) total time=   0.2s\n",
      "[CV 5/5] END C=0.1, max_iter=1000, penalty=l2, solver=saga; accuracy: (test=0.697) total time=   0.2s\n",
      "[CV 1/5] END C=1.0, max_iter=100, penalty=l1, solver=newton-cg; accuracy: (test=nan) total time=   0.0s\n",
      "[CV 2/5] END C=1.0, max_iter=100, penalty=l1, solver=newton-cg; accuracy: (test=nan) total time=   0.0s\n",
      "[CV 3/5] END C=1.0, max_iter=100, penalty=l1, solver=newton-cg; accuracy: (test=nan) total time=   0.0s\n",
      "[CV 4/5] END C=1.0, max_iter=100, penalty=l1, solver=newton-cg; accuracy: (test=nan) total time=   0.0s\n",
      "[CV 5/5] END C=1.0, max_iter=100, penalty=l1, solver=newton-cg; accuracy: (test=nan) total time=   0.0s\n",
      "[CV 1/5] END C=1.0, max_iter=100, penalty=l1, solver=lbfgs; accuracy: (test=nan) total time=   0.0s\n",
      "[CV 2/5] END C=1.0, max_iter=100, penalty=l1, solver=lbfgs; accuracy: (test=nan) total time=   0.0s\n",
      "[CV 3/5] END C=1.0, max_iter=100, penalty=l1, solver=lbfgs; accuracy: (test=nan) total time=   0.0s\n",
      "[CV 4/5] END C=1.0, max_iter=100, penalty=l1, solver=lbfgs; accuracy: (test=nan) total time=   0.0s\n",
      "[CV 5/5] END C=1.0, max_iter=100, penalty=l1, solver=lbfgs; accuracy: (test=nan) total time=   0.0s\n",
      "[CV 1/5] END C=1.0, max_iter=100, penalty=l1, solver=liblinear; accuracy: (test=0.732) total time=   0.0s\n",
      "[CV 2/5] END C=1.0, max_iter=100, penalty=l1, solver=liblinear; accuracy: (test=0.734) total time=   0.0s\n",
      "[CV 3/5] END C=1.0, max_iter=100, penalty=l1, solver=liblinear; accuracy: (test=0.741) total time=   0.0s\n",
      "[CV 4/5] END C=1.0, max_iter=100, penalty=l1, solver=liblinear; accuracy: (test=0.743) total time=   0.0s\n",
      "[CV 5/5] END C=1.0, max_iter=100, penalty=l1, solver=liblinear; accuracy: (test=0.755) total time=   0.0s\n",
      "[CV 1/5] END C=1.0, max_iter=100, penalty=l1, solver=sag; accuracy: (test=nan) total time=   0.0s\n",
      "[CV 2/5] END C=1.0, max_iter=100, penalty=l1, solver=sag; accuracy: (test=nan) total time=   0.0s\n",
      "[CV 3/5] END C=1.0, max_iter=100, penalty=l1, solver=sag; accuracy: (test=nan) total time=   0.0s\n",
      "[CV 4/5] END C=1.0, max_iter=100, penalty=l1, solver=sag; accuracy: (test=nan) total time=   0.0s\n",
      "[CV 5/5] END C=1.0, max_iter=100, penalty=l1, solver=sag; accuracy: (test=nan) total time=   0.0s\n",
      "[CV 1/5] END C=1.0, max_iter=100, penalty=l1, solver=saga; accuracy: (test=0.693) total time=   0.0s\n",
      "[CV 2/5] END C=1.0, max_iter=100, penalty=l1, solver=saga; accuracy: (test=0.691) total time=   0.0s\n",
      "[CV 3/5] END C=1.0, max_iter=100, penalty=l1, solver=saga; accuracy: (test=0.691) total time=   0.0s\n",
      "[CV 4/5] END C=1.0, max_iter=100, penalty=l1, solver=saga; accuracy: (test=0.693) total time=   0.0s\n",
      "[CV 5/5] END C=1.0, max_iter=100, penalty=l1, solver=saga; accuracy: (test=0.691) total time=   0.0s\n",
      "[CV 1/5] END C=1.0, max_iter=100, penalty=l2, solver=newton-cg; accuracy: (test=0.728) total time=   0.1s\n",
      "[CV 2/5] END C=1.0, max_iter=100, penalty=l2, solver=newton-cg; accuracy: (test=0.737) total time=   0.1s\n",
      "[CV 3/5] END C=1.0, max_iter=100, penalty=l2, solver=newton-cg; accuracy: (test=0.741) total time=   0.1s\n",
      "[CV 4/5] END C=1.0, max_iter=100, penalty=l2, solver=newton-cg; accuracy: (test=0.743) total time=   0.1s\n",
      "[CV 5/5] END C=1.0, max_iter=100, penalty=l2, solver=newton-cg; accuracy: (test=0.755) total time=   0.1s\n",
      "[CV 1/5] END C=1.0, max_iter=100, penalty=l2, solver=lbfgs; accuracy: (test=0.728) total time=   0.0s\n",
      "[CV 2/5] END C=1.0, max_iter=100, penalty=l2, solver=lbfgs; accuracy: (test=0.734) total time=   0.0s\n",
      "[CV 3/5] END C=1.0, max_iter=100, penalty=l2, solver=lbfgs; accuracy: (test=0.741) total time=   0.0s\n",
      "[CV 4/5] END C=1.0, max_iter=100, penalty=l2, solver=lbfgs; accuracy: (test=0.743) total time=   0.0s\n",
      "[CV 5/5] END C=1.0, max_iter=100, penalty=l2, solver=lbfgs; accuracy: (test=0.755) total time=   0.0s\n",
      "[CV 1/5] END C=1.0, max_iter=100, penalty=l2, solver=liblinear; accuracy: (test=0.732) total time=   0.0s\n",
      "[CV 2/5] END C=1.0, max_iter=100, penalty=l2, solver=liblinear; accuracy: (test=0.728) total time=   0.0s\n",
      "[CV 3/5] END C=1.0, max_iter=100, penalty=l2, solver=liblinear; accuracy: (test=0.728) total time=   0.0s\n",
      "[CV 4/5] END C=1.0, max_iter=100, penalty=l2, solver=liblinear; accuracy: (test=0.699) total time=   0.0s\n",
      "[CV 5/5] END C=1.0, max_iter=100, penalty=l2, solver=liblinear; accuracy: (test=0.707) total time=   0.0s\n",
      "[CV 1/5] END C=1.0, max_iter=100, penalty=l2, solver=sag; accuracy: (test=0.693) total time=   0.0s\n",
      "[CV 2/5] END C=1.0, max_iter=100, penalty=l2, solver=sag; accuracy: (test=0.691) total time=   0.0s\n",
      "[CV 3/5] END C=1.0, max_iter=100, penalty=l2, solver=sag; accuracy: (test=0.691) total time=   0.0s\n",
      "[CV 4/5] END C=1.0, max_iter=100, penalty=l2, solver=sag; accuracy: (test=0.693) total time=   0.0s\n",
      "[CV 5/5] END C=1.0, max_iter=100, penalty=l2, solver=sag; accuracy: (test=0.691) total time=   0.0s\n",
      "[CV 1/5] END C=1.0, max_iter=100, penalty=l2, solver=saga; accuracy: (test=0.693) total time=   0.0s\n",
      "[CV 2/5] END C=1.0, max_iter=100, penalty=l2, solver=saga; accuracy: (test=0.691) total time=   0.0s\n",
      "[CV 3/5] END C=1.0, max_iter=100, penalty=l2, solver=saga; accuracy: (test=0.691) total time=   0.0s\n",
      "[CV 4/5] END C=1.0, max_iter=100, penalty=l2, solver=saga; accuracy: (test=0.693) total time=   0.0s\n",
      "[CV 5/5] END C=1.0, max_iter=100, penalty=l2, solver=saga; accuracy: (test=0.691) total time=   0.0s\n",
      "[CV 1/5] END C=1.0, max_iter=1000, penalty=l1, solver=newton-cg; accuracy: (test=nan) total time=   0.0s\n",
      "[CV 2/5] END C=1.0, max_iter=1000, penalty=l1, solver=newton-cg; accuracy: (test=nan) total time=   0.0s\n",
      "[CV 3/5] END C=1.0, max_iter=1000, penalty=l1, solver=newton-cg; accuracy: (test=nan) total time=   0.0s\n",
      "[CV 4/5] END C=1.0, max_iter=1000, penalty=l1, solver=newton-cg; accuracy: (test=nan) total time=   0.0s\n",
      "[CV 5/5] END C=1.0, max_iter=1000, penalty=l1, solver=newton-cg; accuracy: (test=nan) total time=   0.0s\n",
      "[CV 1/5] END C=1.0, max_iter=1000, penalty=l1, solver=lbfgs; accuracy: (test=nan) total time=   0.0s\n",
      "[CV 2/5] END C=1.0, max_iter=1000, penalty=l1, solver=lbfgs; accuracy: (test=nan) total time=   0.0s\n",
      "[CV 3/5] END C=1.0, max_iter=1000, penalty=l1, solver=lbfgs; accuracy: (test=nan) total time=   0.0s\n",
      "[CV 4/5] END C=1.0, max_iter=1000, penalty=l1, solver=lbfgs; accuracy: (test=nan) total time=   0.0s\n",
      "[CV 5/5] END C=1.0, max_iter=1000, penalty=l1, solver=lbfgs; accuracy: (test=nan) total time=   0.0s\n",
      "[CV 1/5] END C=1.0, max_iter=1000, penalty=l1, solver=liblinear; accuracy: (test=0.732) total time=   0.0s\n",
      "[CV 2/5] END C=1.0, max_iter=1000, penalty=l1, solver=liblinear; accuracy: (test=0.734) total time=   0.0s\n",
      "[CV 3/5] END C=1.0, max_iter=1000, penalty=l1, solver=liblinear; accuracy: (test=0.741) total time=   0.0s\n",
      "[CV 4/5] END C=1.0, max_iter=1000, penalty=l1, solver=liblinear; accuracy: (test=0.743) total time=   0.0s\n",
      "[CV 5/5] END C=1.0, max_iter=1000, penalty=l1, solver=liblinear; accuracy: (test=0.753) total time=   0.0s\n",
      "[CV 1/5] END C=1.0, max_iter=1000, penalty=l1, solver=sag; accuracy: (test=nan) total time=   0.0s\n",
      "[CV 2/5] END C=1.0, max_iter=1000, penalty=l1, solver=sag; accuracy: (test=nan) total time=   0.0s\n",
      "[CV 3/5] END C=1.0, max_iter=1000, penalty=l1, solver=sag; accuracy: (test=nan) total time=   0.0s\n",
      "[CV 4/5] END C=1.0, max_iter=1000, penalty=l1, solver=sag; accuracy: (test=nan) total time=   0.0s\n",
      "[CV 5/5] END C=1.0, max_iter=1000, penalty=l1, solver=sag; accuracy: (test=nan) total time=   0.0s\n",
      "[CV 1/5] END C=1.0, max_iter=1000, penalty=l1, solver=saga; accuracy: (test=0.691) total time=   0.2s\n",
      "[CV 2/5] END C=1.0, max_iter=1000, penalty=l1, solver=saga; accuracy: (test=0.695) total time=   0.2s\n",
      "[CV 3/5] END C=1.0, max_iter=1000, penalty=l1, solver=saga; accuracy: (test=0.691) total time=   0.2s\n",
      "[CV 4/5] END C=1.0, max_iter=1000, penalty=l1, solver=saga; accuracy: (test=0.689) total time=   0.2s\n",
      "[CV 5/5] END C=1.0, max_iter=1000, penalty=l1, solver=saga; accuracy: (test=0.697) total time=   0.2s\n",
      "[CV 1/5] END C=1.0, max_iter=1000, penalty=l2, solver=newton-cg; accuracy: (test=0.728) total time=   0.1s\n",
      "[CV 2/5] END C=1.0, max_iter=1000, penalty=l2, solver=newton-cg; accuracy: (test=0.737) total time=   0.1s\n",
      "[CV 3/5] END C=1.0, max_iter=1000, penalty=l2, solver=newton-cg; accuracy: (test=0.741) total time=   0.1s\n",
      "[CV 4/5] END C=1.0, max_iter=1000, penalty=l2, solver=newton-cg; accuracy: (test=0.743) total time=   0.1s\n",
      "[CV 5/5] END C=1.0, max_iter=1000, penalty=l2, solver=newton-cg; accuracy: (test=0.755) total time=   0.1s\n",
      "[CV 1/5] END C=1.0, max_iter=1000, penalty=l2, solver=lbfgs; accuracy: (test=0.728) total time=   0.0s\n",
      "[CV 2/5] END C=1.0, max_iter=1000, penalty=l2, solver=lbfgs; accuracy: (test=0.734) total time=   0.0s\n",
      "[CV 3/5] END C=1.0, max_iter=1000, penalty=l2, solver=lbfgs; accuracy: (test=0.741) total time=   0.0s\n",
      "[CV 4/5] END C=1.0, max_iter=1000, penalty=l2, solver=lbfgs; accuracy: (test=0.743) total time=   0.0s\n",
      "[CV 5/5] END C=1.0, max_iter=1000, penalty=l2, solver=lbfgs; accuracy: (test=0.755) total time=   0.0s\n",
      "[CV 1/5] END C=1.0, max_iter=1000, penalty=l2, solver=liblinear; accuracy: (test=0.732) total time=   0.0s\n",
      "[CV 2/5] END C=1.0, max_iter=1000, penalty=l2, solver=liblinear; accuracy: (test=0.728) total time=   0.0s\n",
      "[CV 3/5] END C=1.0, max_iter=1000, penalty=l2, solver=liblinear; accuracy: (test=0.728) total time=   0.0s\n",
      "[CV 4/5] END C=1.0, max_iter=1000, penalty=l2, solver=liblinear; accuracy: (test=0.699) total time=   0.0s\n",
      "[CV 5/5] END C=1.0, max_iter=1000, penalty=l2, solver=liblinear; accuracy: (test=0.707) total time=   0.0s\n",
      "[CV 1/5] END C=1.0, max_iter=1000, penalty=l2, solver=sag; accuracy: (test=0.693) total time=   0.2s\n",
      "[CV 2/5] END C=1.0, max_iter=1000, penalty=l2, solver=sag; accuracy: (test=0.697) total time=   0.2s\n",
      "[CV 3/5] END C=1.0, max_iter=1000, penalty=l2, solver=sag; accuracy: (test=0.693) total time=   0.2s\n",
      "[CV 4/5] END C=1.0, max_iter=1000, penalty=l2, solver=sag; accuracy: (test=0.693) total time=   0.2s\n",
      "[CV 5/5] END C=1.0, max_iter=1000, penalty=l2, solver=sag; accuracy: (test=0.699) total time=   0.2s\n",
      "[CV 1/5] END C=1.0, max_iter=1000, penalty=l2, solver=saga; accuracy: (test=0.691) total time=   0.2s\n",
      "[CV 2/5] END C=1.0, max_iter=1000, penalty=l2, solver=saga; accuracy: (test=0.695) total time=   0.2s\n",
      "[CV 3/5] END C=1.0, max_iter=1000, penalty=l2, solver=saga; accuracy: (test=0.691) total time=   0.2s\n",
      "[CV 4/5] END C=1.0, max_iter=1000, penalty=l2, solver=saga; accuracy: (test=0.689) total time=   0.2s\n",
      "[CV 5/5] END C=1.0, max_iter=1000, penalty=l2, solver=saga; accuracy: (test=0.697) total time=   0.2s\n",
      "[CV 1/5] END C=10.0, max_iter=100, penalty=l1, solver=newton-cg; accuracy: (test=nan) total time=   0.0s\n",
      "[CV 2/5] END C=10.0, max_iter=100, penalty=l1, solver=newton-cg; accuracy: (test=nan) total time=   0.0s\n",
      "[CV 3/5] END C=10.0, max_iter=100, penalty=l1, solver=newton-cg; accuracy: (test=nan) total time=   0.0s\n",
      "[CV 4/5] END C=10.0, max_iter=100, penalty=l1, solver=newton-cg; accuracy: (test=nan) total time=   0.0s\n",
      "[CV 5/5] END C=10.0, max_iter=100, penalty=l1, solver=newton-cg; accuracy: (test=nan) total time=   0.0s\n",
      "[CV 1/5] END C=10.0, max_iter=100, penalty=l1, solver=lbfgs; accuracy: (test=nan) total time=   0.0s\n",
      "[CV 2/5] END C=10.0, max_iter=100, penalty=l1, solver=lbfgs; accuracy: (test=nan) total time=   0.0s\n",
      "[CV 3/5] END C=10.0, max_iter=100, penalty=l1, solver=lbfgs; accuracy: (test=nan) total time=   0.0s\n",
      "[CV 4/5] END C=10.0, max_iter=100, penalty=l1, solver=lbfgs; accuracy: (test=nan) total time=   0.0s\n",
      "[CV 5/5] END C=10.0, max_iter=100, penalty=l1, solver=lbfgs; accuracy: (test=nan) total time=   0.0s\n",
      "[CV 1/5] END C=10.0, max_iter=100, penalty=l1, solver=liblinear; accuracy: (test=0.728) total time=   0.0s\n",
      "[CV 2/5] END C=10.0, max_iter=100, penalty=l1, solver=liblinear; accuracy: (test=0.737) total time=   0.0s\n",
      "[CV 3/5] END C=10.0, max_iter=100, penalty=l1, solver=liblinear; accuracy: (test=0.741) total time=   0.0s\n",
      "[CV 4/5] END C=10.0, max_iter=100, penalty=l1, solver=liblinear; accuracy: (test=0.743) total time=   0.0s\n",
      "[CV 5/5] END C=10.0, max_iter=100, penalty=l1, solver=liblinear; accuracy: (test=0.753) total time=   0.0s\n",
      "[CV 1/5] END C=10.0, max_iter=100, penalty=l1, solver=sag; accuracy: (test=nan) total time=   0.0s\n",
      "[CV 2/5] END C=10.0, max_iter=100, penalty=l1, solver=sag; accuracy: (test=nan) total time=   0.0s\n",
      "[CV 3/5] END C=10.0, max_iter=100, penalty=l1, solver=sag; accuracy: (test=nan) total time=   0.0s\n",
      "[CV 4/5] END C=10.0, max_iter=100, penalty=l1, solver=sag; accuracy: (test=nan) total time=   0.0s\n",
      "[CV 5/5] END C=10.0, max_iter=100, penalty=l1, solver=sag; accuracy: (test=nan) total time=   0.0s\n",
      "[CV 1/5] END C=10.0, max_iter=100, penalty=l1, solver=saga; accuracy: (test=0.693) total time=   0.0s\n",
      "[CV 2/5] END C=10.0, max_iter=100, penalty=l1, solver=saga; accuracy: (test=0.691) total time=   0.0s\n",
      "[CV 3/5] END C=10.0, max_iter=100, penalty=l1, solver=saga; accuracy: (test=0.691) total time=   0.0s\n",
      "[CV 4/5] END C=10.0, max_iter=100, penalty=l1, solver=saga; accuracy: (test=0.693) total time=   0.0s\n",
      "[CV 5/5] END C=10.0, max_iter=100, penalty=l1, solver=saga; accuracy: (test=0.691) total time=   0.0s\n",
      "[CV 1/5] END C=10.0, max_iter=100, penalty=l2, solver=newton-cg; accuracy: (test=0.728) total time=   0.1s\n",
      "[CV 2/5] END C=10.0, max_iter=100, penalty=l2, solver=newton-cg; accuracy: (test=0.737) total time=   0.1s\n",
      "[CV 3/5] END C=10.0, max_iter=100, penalty=l2, solver=newton-cg; accuracy: (test=0.741) total time=   0.1s\n",
      "[CV 4/5] END C=10.0, max_iter=100, penalty=l2, solver=newton-cg; accuracy: (test=0.743) total time=   0.1s\n",
      "[CV 5/5] END C=10.0, max_iter=100, penalty=l2, solver=newton-cg; accuracy: (test=0.755) total time=   0.1s\n",
      "[CV 1/5] END C=10.0, max_iter=100, penalty=l2, solver=lbfgs; accuracy: (test=0.695) total time=   0.0s\n",
      "[CV 2/5] END C=10.0, max_iter=100, penalty=l2, solver=lbfgs; accuracy: (test=0.737) total time=   0.0s\n",
      "[CV 3/5] END C=10.0, max_iter=100, penalty=l2, solver=lbfgs; accuracy: (test=0.741) total time=   0.0s\n",
      "[CV 4/5] END C=10.0, max_iter=100, penalty=l2, solver=lbfgs; accuracy: (test=0.743) total time=   0.0s\n",
      "[CV 5/5] END C=10.0, max_iter=100, penalty=l2, solver=lbfgs; accuracy: (test=0.755) total time=   0.0s\n",
      "[CV 1/5] END C=10.0, max_iter=100, penalty=l2, solver=liblinear; accuracy: (test=0.730) total time=   0.0s\n",
      "[CV 2/5] END C=10.0, max_iter=100, penalty=l2, solver=liblinear; accuracy: (test=0.728) total time=   0.0s\n",
      "[CV 3/5] END C=10.0, max_iter=100, penalty=l2, solver=liblinear; accuracy: (test=0.710) total time=   0.0s\n",
      "[CV 4/5] END C=10.0, max_iter=100, penalty=l2, solver=liblinear; accuracy: (test=0.699) total time=   0.0s\n",
      "[CV 5/5] END C=10.0, max_iter=100, penalty=l2, solver=liblinear; accuracy: (test=0.707) total time=   0.0s\n",
      "[CV 1/5] END C=10.0, max_iter=100, penalty=l2, solver=sag; accuracy: (test=0.693) total time=   0.0s\n",
      "[CV 2/5] END C=10.0, max_iter=100, penalty=l2, solver=sag; accuracy: (test=0.691) total time=   0.0s\n",
      "[CV 3/5] END C=10.0, max_iter=100, penalty=l2, solver=sag; accuracy: (test=0.691) total time=   0.0s\n",
      "[CV 4/5] END C=10.0, max_iter=100, penalty=l2, solver=sag; accuracy: (test=0.693) total time=   0.0s\n",
      "[CV 5/5] END C=10.0, max_iter=100, penalty=l2, solver=sag; accuracy: (test=0.691) total time=   0.0s\n",
      "[CV 1/5] END C=10.0, max_iter=100, penalty=l2, solver=saga; accuracy: (test=0.693) total time=   0.0s\n",
      "[CV 2/5] END C=10.0, max_iter=100, penalty=l2, solver=saga; accuracy: (test=0.691) total time=   0.0s\n",
      "[CV 3/5] END C=10.0, max_iter=100, penalty=l2, solver=saga; accuracy: (test=0.691) total time=   0.0s\n",
      "[CV 4/5] END C=10.0, max_iter=100, penalty=l2, solver=saga; accuracy: (test=0.693) total time=   0.0s\n",
      "[CV 5/5] END C=10.0, max_iter=100, penalty=l2, solver=saga; accuracy: (test=0.691) total time=   0.0s\n",
      "[CV 1/5] END C=10.0, max_iter=1000, penalty=l1, solver=newton-cg; accuracy: (test=nan) total time=   0.0s\n",
      "[CV 2/5] END C=10.0, max_iter=1000, penalty=l1, solver=newton-cg; accuracy: (test=nan) total time=   0.0s\n",
      "[CV 3/5] END C=10.0, max_iter=1000, penalty=l1, solver=newton-cg; accuracy: (test=nan) total time=   0.0s\n",
      "[CV 4/5] END C=10.0, max_iter=1000, penalty=l1, solver=newton-cg; accuracy: (test=nan) total time=   0.0s\n",
      "[CV 5/5] END C=10.0, max_iter=1000, penalty=l1, solver=newton-cg; accuracy: (test=nan) total time=   0.0s\n",
      "[CV 1/5] END C=10.0, max_iter=1000, penalty=l1, solver=lbfgs; accuracy: (test=nan) total time=   0.0s\n",
      "[CV 2/5] END C=10.0, max_iter=1000, penalty=l1, solver=lbfgs; accuracy: (test=nan) total time=   0.0s\n",
      "[CV 3/5] END C=10.0, max_iter=1000, penalty=l1, solver=lbfgs; accuracy: (test=nan) total time=   0.0s\n",
      "[CV 4/5] END C=10.0, max_iter=1000, penalty=l1, solver=lbfgs; accuracy: (test=nan) total time=   0.0s\n",
      "[CV 5/5] END C=10.0, max_iter=1000, penalty=l1, solver=lbfgs; accuracy: (test=nan) total time=   0.0s\n",
      "[CV 1/5] END C=10.0, max_iter=1000, penalty=l1, solver=liblinear; accuracy: (test=0.734) total time=   0.0s\n",
      "[CV 2/5] END C=10.0, max_iter=1000, penalty=l1, solver=liblinear; accuracy: (test=0.737) total time=   0.0s\n",
      "[CV 3/5] END C=10.0, max_iter=1000, penalty=l1, solver=liblinear; accuracy: (test=0.741) total time=   0.0s\n",
      "[CV 4/5] END C=10.0, max_iter=1000, penalty=l1, solver=liblinear; accuracy: (test=0.743) total time=   0.0s\n",
      "[CV 5/5] END C=10.0, max_iter=1000, penalty=l1, solver=liblinear; accuracy: (test=0.753) total time=   0.0s\n",
      "[CV 1/5] END C=10.0, max_iter=1000, penalty=l1, solver=sag; accuracy: (test=nan) total time=   0.0s\n",
      "[CV 2/5] END C=10.0, max_iter=1000, penalty=l1, solver=sag; accuracy: (test=nan) total time=   0.0s\n",
      "[CV 3/5] END C=10.0, max_iter=1000, penalty=l1, solver=sag; accuracy: (test=nan) total time=   0.0s\n",
      "[CV 4/5] END C=10.0, max_iter=1000, penalty=l1, solver=sag; accuracy: (test=nan) total time=   0.0s\n",
      "[CV 5/5] END C=10.0, max_iter=1000, penalty=l1, solver=sag; accuracy: (test=nan) total time=   0.0s\n",
      "[CV 1/5] END C=10.0, max_iter=1000, penalty=l1, solver=saga; accuracy: (test=0.691) total time=   0.2s\n",
      "[CV 2/5] END C=10.0, max_iter=1000, penalty=l1, solver=saga; accuracy: (test=0.695) total time=   0.2s\n",
      "[CV 3/5] END C=10.0, max_iter=1000, penalty=l1, solver=saga; accuracy: (test=0.691) total time=   0.2s\n",
      "[CV 4/5] END C=10.0, max_iter=1000, penalty=l1, solver=saga; accuracy: (test=0.689) total time=   0.2s\n",
      "[CV 5/5] END C=10.0, max_iter=1000, penalty=l1, solver=saga; accuracy: (test=0.697) total time=   0.2s\n",
      "[CV 1/5] END C=10.0, max_iter=1000, penalty=l2, solver=newton-cg; accuracy: (test=0.728) total time=   0.1s\n",
      "[CV 2/5] END C=10.0, max_iter=1000, penalty=l2, solver=newton-cg; accuracy: (test=0.737) total time=   0.1s\n",
      "[CV 3/5] END C=10.0, max_iter=1000, penalty=l2, solver=newton-cg; accuracy: (test=0.741) total time=   0.1s\n",
      "[CV 4/5] END C=10.0, max_iter=1000, penalty=l2, solver=newton-cg; accuracy: (test=0.743) total time=   0.1s\n",
      "[CV 5/5] END C=10.0, max_iter=1000, penalty=l2, solver=newton-cg; accuracy: (test=0.755) total time=   0.1s\n",
      "[CV 1/5] END C=10.0, max_iter=1000, penalty=l2, solver=lbfgs; accuracy: (test=0.695) total time=   0.0s\n",
      "[CV 2/5] END C=10.0, max_iter=1000, penalty=l2, solver=lbfgs; accuracy: (test=0.737) total time=   0.0s\n",
      "[CV 3/5] END C=10.0, max_iter=1000, penalty=l2, solver=lbfgs; accuracy: (test=0.741) total time=   0.0s\n",
      "[CV 4/5] END C=10.0, max_iter=1000, penalty=l2, solver=lbfgs; accuracy: (test=0.743) total time=   0.0s\n",
      "[CV 5/5] END C=10.0, max_iter=1000, penalty=l2, solver=lbfgs; accuracy: (test=0.755) total time=   0.0s\n",
      "[CV 1/5] END C=10.0, max_iter=1000, penalty=l2, solver=liblinear; accuracy: (test=0.730) total time=   0.0s\n",
      "[CV 2/5] END C=10.0, max_iter=1000, penalty=l2, solver=liblinear; accuracy: (test=0.728) total time=   0.0s\n",
      "[CV 3/5] END C=10.0, max_iter=1000, penalty=l2, solver=liblinear; accuracy: (test=0.710) total time=   0.0s\n",
      "[CV 4/5] END C=10.0, max_iter=1000, penalty=l2, solver=liblinear; accuracy: (test=0.699) total time=   0.0s\n",
      "[CV 5/5] END C=10.0, max_iter=1000, penalty=l2, solver=liblinear; accuracy: (test=0.707) total time=   0.0s\n",
      "[CV 1/5] END C=10.0, max_iter=1000, penalty=l2, solver=sag; accuracy: (test=0.693) total time=   0.2s\n",
      "[CV 2/5] END C=10.0, max_iter=1000, penalty=l2, solver=sag; accuracy: (test=0.697) total time=   0.2s\n",
      "[CV 3/5] END C=10.0, max_iter=1000, penalty=l2, solver=sag; accuracy: (test=0.693) total time=   0.2s\n",
      "[CV 4/5] END C=10.0, max_iter=1000, penalty=l2, solver=sag; accuracy: (test=0.693) total time=   0.2s\n",
      "[CV 5/5] END C=10.0, max_iter=1000, penalty=l2, solver=sag; accuracy: (test=0.699) total time=   0.2s\n",
      "[CV 1/5] END C=10.0, max_iter=1000, penalty=l2, solver=saga; accuracy: (test=0.691) total time=   0.2s\n",
      "[CV 2/5] END C=10.0, max_iter=1000, penalty=l2, solver=saga; accuracy: (test=0.695) total time=   0.2s\n",
      "[CV 3/5] END C=10.0, max_iter=1000, penalty=l2, solver=saga; accuracy: (test=0.691) total time=   0.2s\n",
      "[CV 4/5] END C=10.0, max_iter=1000, penalty=l2, solver=saga; accuracy: (test=0.689) total time=   0.2s\n",
      "[CV 5/5] END C=10.0, max_iter=1000, penalty=l2, solver=saga; accuracy: (test=0.697) total time=   0.2s\n",
      "[CV 1/5] END C=100.0, max_iter=100, penalty=l1, solver=newton-cg; accuracy: (test=nan) total time=   0.0s\n",
      "[CV 2/5] END C=100.0, max_iter=100, penalty=l1, solver=newton-cg; accuracy: (test=nan) total time=   0.0s\n",
      "[CV 3/5] END C=100.0, max_iter=100, penalty=l1, solver=newton-cg; accuracy: (test=nan) total time=   0.0s\n",
      "[CV 4/5] END C=100.0, max_iter=100, penalty=l1, solver=newton-cg; accuracy: (test=nan) total time=   0.0s\n",
      "[CV 5/5] END C=100.0, max_iter=100, penalty=l1, solver=newton-cg; accuracy: (test=nan) total time=   0.0s\n",
      "[CV 1/5] END C=100.0, max_iter=100, penalty=l1, solver=lbfgs; accuracy: (test=nan) total time=   0.0s\n",
      "[CV 2/5] END C=100.0, max_iter=100, penalty=l1, solver=lbfgs; accuracy: (test=nan) total time=   0.0s\n",
      "[CV 3/5] END C=100.0, max_iter=100, penalty=l1, solver=lbfgs; accuracy: (test=nan) total time=   0.0s\n",
      "[CV 4/5] END C=100.0, max_iter=100, penalty=l1, solver=lbfgs; accuracy: (test=nan) total time=   0.0s\n",
      "[CV 5/5] END C=100.0, max_iter=100, penalty=l1, solver=lbfgs; accuracy: (test=nan) total time=   0.0s\n",
      "[CV 1/5] END C=100.0, max_iter=100, penalty=l1, solver=liblinear; accuracy: (test=0.732) total time=   0.0s\n",
      "[CV 2/5] END C=100.0, max_iter=100, penalty=l1, solver=liblinear; accuracy: (test=0.739) total time=   0.0s\n",
      "[CV 3/5] END C=100.0, max_iter=100, penalty=l1, solver=liblinear; accuracy: (test=0.741) total time=   0.0s\n",
      "[CV 4/5] END C=100.0, max_iter=100, penalty=l1, solver=liblinear; accuracy: (test=0.743) total time=   0.0s\n",
      "[CV 5/5] END C=100.0, max_iter=100, penalty=l1, solver=liblinear; accuracy: (test=0.753) total time=   0.0s\n",
      "[CV 1/5] END C=100.0, max_iter=100, penalty=l1, solver=sag; accuracy: (test=nan) total time=   0.0s\n",
      "[CV 2/5] END C=100.0, max_iter=100, penalty=l1, solver=sag; accuracy: (test=nan) total time=   0.0s\n",
      "[CV 3/5] END C=100.0, max_iter=100, penalty=l1, solver=sag; accuracy: (test=nan) total time=   0.0s\n",
      "[CV 4/5] END C=100.0, max_iter=100, penalty=l1, solver=sag; accuracy: (test=nan) total time=   0.0s\n",
      "[CV 5/5] END C=100.0, max_iter=100, penalty=l1, solver=sag; accuracy: (test=nan) total time=   0.0s\n",
      "[CV 1/5] END C=100.0, max_iter=100, penalty=l1, solver=saga; accuracy: (test=0.693) total time=   0.0s\n",
      "[CV 2/5] END C=100.0, max_iter=100, penalty=l1, solver=saga; accuracy: (test=0.691) total time=   0.0s\n",
      "[CV 3/5] END C=100.0, max_iter=100, penalty=l1, solver=saga; accuracy: (test=0.691) total time=   0.0s\n",
      "[CV 4/5] END C=100.0, max_iter=100, penalty=l1, solver=saga; accuracy: (test=0.693) total time=   0.0s\n",
      "[CV 5/5] END C=100.0, max_iter=100, penalty=l1, solver=saga; accuracy: (test=0.691) total time=   0.0s\n",
      "[CV 1/5] END C=100.0, max_iter=100, penalty=l2, solver=newton-cg; accuracy: (test=0.728) total time=   0.1s\n",
      "[CV 2/5] END C=100.0, max_iter=100, penalty=l2, solver=newton-cg; accuracy: (test=0.737) total time=   0.1s\n",
      "[CV 3/5] END C=100.0, max_iter=100, penalty=l2, solver=newton-cg; accuracy: (test=0.741) total time=   0.1s\n",
      "[CV 4/5] END C=100.0, max_iter=100, penalty=l2, solver=newton-cg; accuracy: (test=0.743) total time=   0.1s\n",
      "[CV 5/5] END C=100.0, max_iter=100, penalty=l2, solver=newton-cg; accuracy: (test=0.755) total time=   0.1s\n",
      "[CV 1/5] END C=100.0, max_iter=100, penalty=l2, solver=lbfgs; accuracy: (test=0.695) total time=   0.0s\n",
      "[CV 2/5] END C=100.0, max_iter=100, penalty=l2, solver=lbfgs; accuracy: (test=0.737) total time=   0.0s\n",
      "[CV 3/5] END C=100.0, max_iter=100, penalty=l2, solver=lbfgs; accuracy: (test=0.741) total time=   0.0s\n",
      "[CV 4/5] END C=100.0, max_iter=100, penalty=l2, solver=lbfgs; accuracy: (test=0.743) total time=   0.0s\n",
      "[CV 5/5] END C=100.0, max_iter=100, penalty=l2, solver=lbfgs; accuracy: (test=0.755) total time=   0.0s\n",
      "[CV 1/5] END C=100.0, max_iter=100, penalty=l2, solver=liblinear; accuracy: (test=0.695) total time=   0.0s\n",
      "[CV 2/5] END C=100.0, max_iter=100, penalty=l2, solver=liblinear; accuracy: (test=0.728) total time=   0.0s\n",
      "[CV 3/5] END C=100.0, max_iter=100, penalty=l2, solver=liblinear; accuracy: (test=0.710) total time=   0.0s\n",
      "[CV 4/5] END C=100.0, max_iter=100, penalty=l2, solver=liblinear; accuracy: (test=0.699) total time=   0.0s\n",
      "[CV 5/5] END C=100.0, max_iter=100, penalty=l2, solver=liblinear; accuracy: (test=0.707) total time=   0.0s\n",
      "[CV 1/5] END C=100.0, max_iter=100, penalty=l2, solver=sag; accuracy: (test=0.693) total time=   0.0s\n",
      "[CV 2/5] END C=100.0, max_iter=100, penalty=l2, solver=sag; accuracy: (test=0.691) total time=   0.0s\n",
      "[CV 3/5] END C=100.0, max_iter=100, penalty=l2, solver=sag; accuracy: (test=0.691) total time=   0.0s\n",
      "[CV 4/5] END C=100.0, max_iter=100, penalty=l2, solver=sag; accuracy: (test=0.693) total time=   0.0s\n",
      "[CV 5/5] END C=100.0, max_iter=100, penalty=l2, solver=sag; accuracy: (test=0.691) total time=   0.0s\n",
      "[CV 1/5] END C=100.0, max_iter=100, penalty=l2, solver=saga; accuracy: (test=0.693) total time=   0.0s\n",
      "[CV 2/5] END C=100.0, max_iter=100, penalty=l2, solver=saga; accuracy: (test=0.691) total time=   0.0s\n",
      "[CV 3/5] END C=100.0, max_iter=100, penalty=l2, solver=saga; accuracy: (test=0.691) total time=   0.0s\n",
      "[CV 4/5] END C=100.0, max_iter=100, penalty=l2, solver=saga; accuracy: (test=0.693) total time=   0.0s\n",
      "[CV 5/5] END C=100.0, max_iter=100, penalty=l2, solver=saga; accuracy: (test=0.691) total time=   0.0s\n",
      "[CV 1/5] END C=100.0, max_iter=1000, penalty=l1, solver=newton-cg; accuracy: (test=nan) total time=   0.0s\n",
      "[CV 2/5] END C=100.0, max_iter=1000, penalty=l1, solver=newton-cg; accuracy: (test=nan) total time=   0.0s\n",
      "[CV 3/5] END C=100.0, max_iter=1000, penalty=l1, solver=newton-cg; accuracy: (test=nan) total time=   0.0s\n",
      "[CV 4/5] END C=100.0, max_iter=1000, penalty=l1, solver=newton-cg; accuracy: (test=nan) total time=   0.0s\n",
      "[CV 5/5] END C=100.0, max_iter=1000, penalty=l1, solver=newton-cg; accuracy: (test=nan) total time=   0.0s\n",
      "[CV 1/5] END C=100.0, max_iter=1000, penalty=l1, solver=lbfgs; accuracy: (test=nan) total time=   0.0s\n",
      "[CV 2/5] END C=100.0, max_iter=1000, penalty=l1, solver=lbfgs; accuracy: (test=nan) total time=   0.0s\n",
      "[CV 3/5] END C=100.0, max_iter=1000, penalty=l1, solver=lbfgs; accuracy: (test=nan) total time=   0.0s\n",
      "[CV 4/5] END C=100.0, max_iter=1000, penalty=l1, solver=lbfgs; accuracy: (test=nan) total time=   0.0s\n",
      "[CV 5/5] END C=100.0, max_iter=1000, penalty=l1, solver=lbfgs; accuracy: (test=nan) total time=   0.0s\n",
      "[CV 1/5] END C=100.0, max_iter=1000, penalty=l1, solver=liblinear; accuracy: (test=0.728) total time=   0.0s\n",
      "[CV 2/5] END C=100.0, max_iter=1000, penalty=l1, solver=liblinear; accuracy: (test=0.737) total time=   0.0s\n",
      "[CV 3/5] END C=100.0, max_iter=1000, penalty=l1, solver=liblinear; accuracy: (test=0.741) total time=   0.0s\n",
      "[CV 4/5] END C=100.0, max_iter=1000, penalty=l1, solver=liblinear; accuracy: (test=0.747) total time=   0.0s\n",
      "[CV 5/5] END C=100.0, max_iter=1000, penalty=l1, solver=liblinear; accuracy: (test=0.753) total time=   0.0s\n",
      "[CV 1/5] END C=100.0, max_iter=1000, penalty=l1, solver=sag; accuracy: (test=nan) total time=   0.0s\n",
      "[CV 2/5] END C=100.0, max_iter=1000, penalty=l1, solver=sag; accuracy: (test=nan) total time=   0.0s\n",
      "[CV 3/5] END C=100.0, max_iter=1000, penalty=l1, solver=sag; accuracy: (test=nan) total time=   0.0s\n",
      "[CV 4/5] END C=100.0, max_iter=1000, penalty=l1, solver=sag; accuracy: (test=nan) total time=   0.0s\n",
      "[CV 5/5] END C=100.0, max_iter=1000, penalty=l1, solver=sag; accuracy: (test=nan) total time=   0.0s\n",
      "[CV 1/5] END C=100.0, max_iter=1000, penalty=l1, solver=saga; accuracy: (test=0.691) total time=   0.2s\n",
      "[CV 2/5] END C=100.0, max_iter=1000, penalty=l1, solver=saga; accuracy: (test=0.695) total time=   0.2s\n",
      "[CV 3/5] END C=100.0, max_iter=1000, penalty=l1, solver=saga; accuracy: (test=0.691) total time=   0.2s\n",
      "[CV 4/5] END C=100.0, max_iter=1000, penalty=l1, solver=saga; accuracy: (test=0.689) total time=   0.2s\n",
      "[CV 5/5] END C=100.0, max_iter=1000, penalty=l1, solver=saga; accuracy: (test=0.697) total time=   0.2s\n",
      "[CV 1/5] END C=100.0, max_iter=1000, penalty=l2, solver=newton-cg; accuracy: (test=0.728) total time=   0.1s\n",
      "[CV 2/5] END C=100.0, max_iter=1000, penalty=l2, solver=newton-cg; accuracy: (test=0.737) total time=   0.1s\n",
      "[CV 3/5] END C=100.0, max_iter=1000, penalty=l2, solver=newton-cg; accuracy: (test=0.741) total time=   0.2s\n",
      "[CV 4/5] END C=100.0, max_iter=1000, penalty=l2, solver=newton-cg; accuracy: (test=0.743) total time=   0.1s\n",
      "[CV 5/5] END C=100.0, max_iter=1000, penalty=l2, solver=newton-cg; accuracy: (test=0.755) total time=   0.1s\n",
      "[CV 1/5] END C=100.0, max_iter=1000, penalty=l2, solver=lbfgs; accuracy: (test=0.695) total time=   0.0s\n",
      "[CV 2/5] END C=100.0, max_iter=1000, penalty=l2, solver=lbfgs; accuracy: (test=0.737) total time=   0.0s\n",
      "[CV 3/5] END C=100.0, max_iter=1000, penalty=l2, solver=lbfgs; accuracy: (test=0.741) total time=   0.0s\n",
      "[CV 4/5] END C=100.0, max_iter=1000, penalty=l2, solver=lbfgs; accuracy: (test=0.743) total time=   0.0s\n",
      "[CV 5/5] END C=100.0, max_iter=1000, penalty=l2, solver=lbfgs; accuracy: (test=0.755) total time=   0.0s\n",
      "[CV 1/5] END C=100.0, max_iter=1000, penalty=l2, solver=liblinear; accuracy: (test=0.695) total time=   0.0s\n",
      "[CV 2/5] END C=100.0, max_iter=1000, penalty=l2, solver=liblinear; accuracy: (test=0.728) total time=   0.0s\n",
      "[CV 3/5] END C=100.0, max_iter=1000, penalty=l2, solver=liblinear; accuracy: (test=0.710) total time=   0.0s\n",
      "[CV 4/5] END C=100.0, max_iter=1000, penalty=l2, solver=liblinear; accuracy: (test=0.699) total time=   0.0s\n",
      "[CV 5/5] END C=100.0, max_iter=1000, penalty=l2, solver=liblinear; accuracy: (test=0.707) total time=   0.0s\n",
      "[CV 1/5] END C=100.0, max_iter=1000, penalty=l2, solver=sag; accuracy: (test=0.693) total time=   0.2s\n",
      "[CV 2/5] END C=100.0, max_iter=1000, penalty=l2, solver=sag; accuracy: (test=0.697) total time=   0.2s\n",
      "[CV 3/5] END C=100.0, max_iter=1000, penalty=l2, solver=sag; accuracy: (test=0.693) total time=   0.2s\n",
      "[CV 4/5] END C=100.0, max_iter=1000, penalty=l2, solver=sag; accuracy: (test=0.693) total time=   0.2s\n",
      "[CV 5/5] END C=100.0, max_iter=1000, penalty=l2, solver=sag; accuracy: (test=0.699) total time=   0.2s\n",
      "[CV 1/5] END C=100.0, max_iter=1000, penalty=l2, solver=saga; accuracy: (test=0.691) total time=   0.2s\n",
      "[CV 2/5] END C=100.0, max_iter=1000, penalty=l2, solver=saga; accuracy: (test=0.695) total time=   0.2s\n",
      "[CV 3/5] END C=100.0, max_iter=1000, penalty=l2, solver=saga; accuracy: (test=0.691) total time=   0.2s\n",
      "[CV 4/5] END C=100.0, max_iter=1000, penalty=l2, solver=saga; accuracy: (test=0.689) total time=   0.2s\n",
      "[CV 5/5] END C=100.0, max_iter=1000, penalty=l2, solver=saga; accuracy: (test=0.697) total time=   0.2s\n",
      "[CV 1/5] END C=1000.0, max_iter=100, penalty=l1, solver=newton-cg; accuracy: (test=nan) total time=   0.0s\n",
      "[CV 2/5] END C=1000.0, max_iter=100, penalty=l1, solver=newton-cg; accuracy: (test=nan) total time=   0.0s\n",
      "[CV 3/5] END C=1000.0, max_iter=100, penalty=l1, solver=newton-cg; accuracy: (test=nan) total time=   0.0s\n",
      "[CV 4/5] END C=1000.0, max_iter=100, penalty=l1, solver=newton-cg; accuracy: (test=nan) total time=   0.0s\n",
      "[CV 5/5] END C=1000.0, max_iter=100, penalty=l1, solver=newton-cg; accuracy: (test=nan) total time=   0.0s\n",
      "[CV 1/5] END C=1000.0, max_iter=100, penalty=l1, solver=lbfgs; accuracy: (test=nan) total time=   0.0s\n",
      "[CV 2/5] END C=1000.0, max_iter=100, penalty=l1, solver=lbfgs; accuracy: (test=nan) total time=   0.0s\n",
      "[CV 3/5] END C=1000.0, max_iter=100, penalty=l1, solver=lbfgs; accuracy: (test=nan) total time=   0.0s\n",
      "[CV 4/5] END C=1000.0, max_iter=100, penalty=l1, solver=lbfgs; accuracy: (test=nan) total time=   0.0s\n",
      "[CV 5/5] END C=1000.0, max_iter=100, penalty=l1, solver=lbfgs; accuracy: (test=nan) total time=   0.0s\n",
      "[CV 1/5] END C=1000.0, max_iter=100, penalty=l1, solver=liblinear; accuracy: (test=0.732) total time=   0.0s\n",
      "[CV 2/5] END C=1000.0, max_iter=100, penalty=l1, solver=liblinear; accuracy: (test=0.737) total time=   0.0s\n",
      "[CV 3/5] END C=1000.0, max_iter=100, penalty=l1, solver=liblinear; accuracy: (test=0.741) total time=   0.0s\n",
      "[CV 4/5] END C=1000.0, max_iter=100, penalty=l1, solver=liblinear; accuracy: (test=0.747) total time=   0.0s\n",
      "[CV 5/5] END C=1000.0, max_iter=100, penalty=l1, solver=liblinear; accuracy: (test=0.753) total time=   0.0s\n",
      "[CV 1/5] END C=1000.0, max_iter=100, penalty=l1, solver=sag; accuracy: (test=nan) total time=   0.0s\n",
      "[CV 2/5] END C=1000.0, max_iter=100, penalty=l1, solver=sag; accuracy: (test=nan) total time=   0.0s\n",
      "[CV 3/5] END C=1000.0, max_iter=100, penalty=l1, solver=sag; accuracy: (test=nan) total time=   0.0s\n",
      "[CV 4/5] END C=1000.0, max_iter=100, penalty=l1, solver=sag; accuracy: (test=nan) total time=   0.0s\n",
      "[CV 5/5] END C=1000.0, max_iter=100, penalty=l1, solver=sag; accuracy: (test=nan) total time=   0.0s\n",
      "[CV 1/5] END C=1000.0, max_iter=100, penalty=l1, solver=saga; accuracy: (test=0.693) total time=   0.0s\n",
      "[CV 2/5] END C=1000.0, max_iter=100, penalty=l1, solver=saga; accuracy: (test=0.691) total time=   0.0s\n",
      "[CV 3/5] END C=1000.0, max_iter=100, penalty=l1, solver=saga; accuracy: (test=0.691) total time=   0.0s\n",
      "[CV 4/5] END C=1000.0, max_iter=100, penalty=l1, solver=saga; accuracy: (test=0.693) total time=   0.0s\n",
      "[CV 5/5] END C=1000.0, max_iter=100, penalty=l1, solver=saga; accuracy: (test=0.691) total time=   0.0s\n",
      "[CV 1/5] END C=1000.0, max_iter=100, penalty=l2, solver=newton-cg; accuracy: (test=0.728) total time=   0.1s\n",
      "[CV 2/5] END C=1000.0, max_iter=100, penalty=l2, solver=newton-cg; accuracy: (test=0.737) total time=   0.1s\n",
      "[CV 3/5] END C=1000.0, max_iter=100, penalty=l2, solver=newton-cg; accuracy: (test=0.741) total time=   0.2s\n",
      "[CV 4/5] END C=1000.0, max_iter=100, penalty=l2, solver=newton-cg; accuracy: (test=0.743) total time=   0.1s\n",
      "[CV 5/5] END C=1000.0, max_iter=100, penalty=l2, solver=newton-cg; accuracy: (test=0.755) total time=   0.1s\n",
      "[CV 1/5] END C=1000.0, max_iter=100, penalty=l2, solver=lbfgs; accuracy: (test=0.695) total time=   0.0s\n",
      "[CV 2/5] END C=1000.0, max_iter=100, penalty=l2, solver=lbfgs; accuracy: (test=0.737) total time=   0.0s\n",
      "[CV 3/5] END C=1000.0, max_iter=100, penalty=l2, solver=lbfgs; accuracy: (test=0.741) total time=   0.0s\n",
      "[CV 4/5] END C=1000.0, max_iter=100, penalty=l2, solver=lbfgs; accuracy: (test=0.743) total time=   0.0s\n",
      "[CV 5/5] END C=1000.0, max_iter=100, penalty=l2, solver=lbfgs; accuracy: (test=0.755) total time=   0.0s\n",
      "[CV 1/5] END C=1000.0, max_iter=100, penalty=l2, solver=liblinear; accuracy: (test=0.730) total time=   0.0s\n",
      "[CV 2/5] END C=1000.0, max_iter=100, penalty=l2, solver=liblinear; accuracy: (test=0.728) total time=   0.0s\n",
      "[CV 3/5] END C=1000.0, max_iter=100, penalty=l2, solver=liblinear; accuracy: (test=0.710) total time=   0.0s\n",
      "[CV 4/5] END C=1000.0, max_iter=100, penalty=l2, solver=liblinear; accuracy: (test=0.699) total time=   0.0s\n",
      "[CV 5/5] END C=1000.0, max_iter=100, penalty=l2, solver=liblinear; accuracy: (test=0.707) total time=   0.0s\n",
      "[CV 1/5] END C=1000.0, max_iter=100, penalty=l2, solver=sag; accuracy: (test=0.693) total time=   0.0s\n",
      "[CV 2/5] END C=1000.0, max_iter=100, penalty=l2, solver=sag; accuracy: (test=0.691) total time=   0.0s\n",
      "[CV 3/5] END C=1000.0, max_iter=100, penalty=l2, solver=sag; accuracy: (test=0.691) total time=   0.0s\n",
      "[CV 4/5] END C=1000.0, max_iter=100, penalty=l2, solver=sag; accuracy: (test=0.693) total time=   0.0s\n",
      "[CV 5/5] END C=1000.0, max_iter=100, penalty=l2, solver=sag; accuracy: (test=0.691) total time=   0.0s\n",
      "[CV 1/5] END C=1000.0, max_iter=100, penalty=l2, solver=saga; accuracy: (test=0.693) total time=   0.0s\n",
      "[CV 2/5] END C=1000.0, max_iter=100, penalty=l2, solver=saga; accuracy: (test=0.691) total time=   0.0s\n",
      "[CV 3/5] END C=1000.0, max_iter=100, penalty=l2, solver=saga; accuracy: (test=0.691) total time=   0.0s\n",
      "[CV 4/5] END C=1000.0, max_iter=100, penalty=l2, solver=saga; accuracy: (test=0.693) total time=   0.0s\n",
      "[CV 5/5] END C=1000.0, max_iter=100, penalty=l2, solver=saga; accuracy: (test=0.691) total time=   0.0s\n",
      "[CV 1/5] END C=1000.0, max_iter=1000, penalty=l1, solver=newton-cg; accuracy: (test=nan) total time=   0.0s\n",
      "[CV 2/5] END C=1000.0, max_iter=1000, penalty=l1, solver=newton-cg; accuracy: (test=nan) total time=   0.0s\n",
      "[CV 3/5] END C=1000.0, max_iter=1000, penalty=l1, solver=newton-cg; accuracy: (test=nan) total time=   0.0s\n",
      "[CV 4/5] END C=1000.0, max_iter=1000, penalty=l1, solver=newton-cg; accuracy: (test=nan) total time=   0.0s\n",
      "[CV 5/5] END C=1000.0, max_iter=1000, penalty=l1, solver=newton-cg; accuracy: (test=nan) total time=   0.0s\n",
      "[CV 1/5] END C=1000.0, max_iter=1000, penalty=l1, solver=lbfgs; accuracy: (test=nan) total time=   0.0s\n",
      "[CV 2/5] END C=1000.0, max_iter=1000, penalty=l1, solver=lbfgs; accuracy: (test=nan) total time=   0.0s\n",
      "[CV 3/5] END C=1000.0, max_iter=1000, penalty=l1, solver=lbfgs; accuracy: (test=nan) total time=   0.0s\n",
      "[CV 4/5] END C=1000.0, max_iter=1000, penalty=l1, solver=lbfgs; accuracy: (test=nan) total time=   0.0s\n",
      "[CV 5/5] END C=1000.0, max_iter=1000, penalty=l1, solver=lbfgs; accuracy: (test=nan) total time=   0.0s\n",
      "[CV 1/5] END C=1000.0, max_iter=1000, penalty=l1, solver=liblinear; accuracy: (test=0.728) total time=   0.0s\n",
      "[CV 2/5] END C=1000.0, max_iter=1000, penalty=l1, solver=liblinear; accuracy: (test=0.737) total time=   0.0s\n",
      "[CV 3/5] END C=1000.0, max_iter=1000, penalty=l1, solver=liblinear; accuracy: (test=0.741) total time=   0.0s\n",
      "[CV 4/5] END C=1000.0, max_iter=1000, penalty=l1, solver=liblinear; accuracy: (test=0.745) total time=   0.0s\n",
      "[CV 5/5] END C=1000.0, max_iter=1000, penalty=l1, solver=liblinear; accuracy: (test=0.753) total time=   0.0s\n",
      "[CV 1/5] END C=1000.0, max_iter=1000, penalty=l1, solver=sag; accuracy: (test=nan) total time=   0.0s\n",
      "[CV 2/5] END C=1000.0, max_iter=1000, penalty=l1, solver=sag; accuracy: (test=nan) total time=   0.0s\n",
      "[CV 3/5] END C=1000.0, max_iter=1000, penalty=l1, solver=sag; accuracy: (test=nan) total time=   0.0s\n",
      "[CV 4/5] END C=1000.0, max_iter=1000, penalty=l1, solver=sag; accuracy: (test=nan) total time=   0.0s\n",
      "[CV 5/5] END C=1000.0, max_iter=1000, penalty=l1, solver=sag; accuracy: (test=nan) total time=   0.0s\n",
      "[CV 1/5] END C=1000.0, max_iter=1000, penalty=l1, solver=saga; accuracy: (test=0.691) total time=   0.2s\n",
      "[CV 2/5] END C=1000.0, max_iter=1000, penalty=l1, solver=saga; accuracy: (test=0.695) total time=   0.2s\n",
      "[CV 3/5] END C=1000.0, max_iter=1000, penalty=l1, solver=saga; accuracy: (test=0.691) total time=   0.2s\n",
      "[CV 4/5] END C=1000.0, max_iter=1000, penalty=l1, solver=saga; accuracy: (test=0.689) total time=   0.2s\n",
      "[CV 5/5] END C=1000.0, max_iter=1000, penalty=l1, solver=saga; accuracy: (test=0.697) total time=   0.2s\n",
      "[CV 1/5] END C=1000.0, max_iter=1000, penalty=l2, solver=newton-cg; accuracy: (test=0.728) total time=   0.1s\n",
      "[CV 2/5] END C=1000.0, max_iter=1000, penalty=l2, solver=newton-cg; accuracy: (test=0.737) total time=   0.1s\n",
      "[CV 3/5] END C=1000.0, max_iter=1000, penalty=l2, solver=newton-cg; accuracy: (test=0.741) total time=   0.1s\n",
      "[CV 4/5] END C=1000.0, max_iter=1000, penalty=l2, solver=newton-cg; accuracy: (test=0.743) total time=   0.1s\n",
      "[CV 5/5] END C=1000.0, max_iter=1000, penalty=l2, solver=newton-cg; accuracy: (test=0.755) total time=   0.1s\n",
      "[CV 1/5] END C=1000.0, max_iter=1000, penalty=l2, solver=lbfgs; accuracy: (test=0.695) total time=   0.0s\n",
      "[CV 2/5] END C=1000.0, max_iter=1000, penalty=l2, solver=lbfgs; accuracy: (test=0.737) total time=   0.0s\n",
      "[CV 3/5] END C=1000.0, max_iter=1000, penalty=l2, solver=lbfgs; accuracy: (test=0.741) total time=   0.0s\n",
      "[CV 4/5] END C=1000.0, max_iter=1000, penalty=l2, solver=lbfgs; accuracy: (test=0.743) total time=   0.0s\n",
      "[CV 5/5] END C=1000.0, max_iter=1000, penalty=l2, solver=lbfgs; accuracy: (test=0.755) total time=   0.0s\n",
      "[CV 1/5] END C=1000.0, max_iter=1000, penalty=l2, solver=liblinear; accuracy: (test=0.730) total time=   0.0s\n",
      "[CV 2/5] END C=1000.0, max_iter=1000, penalty=l2, solver=liblinear; accuracy: (test=0.728) total time=   0.0s\n",
      "[CV 3/5] END C=1000.0, max_iter=1000, penalty=l2, solver=liblinear; accuracy: (test=0.710) total time=   0.0s\n",
      "[CV 4/5] END C=1000.0, max_iter=1000, penalty=l2, solver=liblinear; accuracy: (test=0.699) total time=   0.0s\n",
      "[CV 5/5] END C=1000.0, max_iter=1000, penalty=l2, solver=liblinear; accuracy: (test=0.707) total time=   0.0s\n",
      "[CV 1/5] END C=1000.0, max_iter=1000, penalty=l2, solver=sag; accuracy: (test=0.693) total time=   0.2s\n",
      "[CV 2/5] END C=1000.0, max_iter=1000, penalty=l2, solver=sag; accuracy: (test=0.697) total time=   0.2s\n",
      "[CV 3/5] END C=1000.0, max_iter=1000, penalty=l2, solver=sag; accuracy: (test=0.693) total time=   0.2s\n",
      "[CV 4/5] END C=1000.0, max_iter=1000, penalty=l2, solver=sag; accuracy: (test=0.693) total time=   0.2s\n",
      "[CV 5/5] END C=1000.0, max_iter=1000, penalty=l2, solver=sag; accuracy: (test=0.699) total time=   0.2s\n",
      "[CV 1/5] END C=1000.0, max_iter=1000, penalty=l2, solver=saga; accuracy: (test=0.691) total time=   0.2s\n",
      "[CV 2/5] END C=1000.0, max_iter=1000, penalty=l2, solver=saga; accuracy: (test=0.695) total time=   0.2s\n",
      "[CV 3/5] END C=1000.0, max_iter=1000, penalty=l2, solver=saga; accuracy: (test=0.691) total time=   0.2s\n",
      "[CV 4/5] END C=1000.0, max_iter=1000, penalty=l2, solver=saga; accuracy: (test=0.689) total time=   0.2s\n",
      "[CV 5/5] END C=1000.0, max_iter=1000, penalty=l2, solver=saga; accuracy: (test=0.697) total time=   0.2s\n",
      "CPU times: user 32.9 s, sys: 137 ms, total: 33 s\n",
      "Wall time: 33.4 s\n"
     ]
    },
    {
     "data": {
      "text/plain": [
       "GridSearchCV(cv=5, estimator=LogisticRegression(),\n",
       "             param_grid={'C': array([1.e-03, 1.e-02, 1.e-01, 1.e+00, 1.e+01, 1.e+02, 1.e+03]),\n",
       "                         'max_iter': [100, 1000], 'penalty': ['l1', 'l2'],\n",
       "                         'solver': ['newton-cg', 'lbfgs', 'liblinear', 'sag',\n",
       "                                    'saga']},\n",
       "             refit='accuracy', scoring=['accuracy'], verbose=4)"
      ]
     },
     "execution_count": 26,
     "metadata": {},
     "output_type": "execute_result"
    }
   ],
   "source": [
    "%%time\n",
    "gs_log.fit(X_train, Y_train)"
   ]
  },
  {
   "cell_type": "code",
   "execution_count": 27,
   "metadata": {},
   "outputs": [],
   "source": [
    "best_est_log = gs_log.best_estimator_\n",
    "best_score_log =gs_log.best_score_"
   ]
  },
  {
   "cell_type": "code",
   "execution_count": 28,
   "metadata": {},
   "outputs": [
    {
     "name": "stdout",
     "output_type": "stream",
     "text": [
      "LogisticRegression(C=1000.0, penalty='l1', solver='liblinear')\n",
      "0.7419087136929461\n"
     ]
    }
   ],
   "source": [
    "print(best_est_log)\n",
    "print(best_score_log)"
   ]
  },
  {
   "cell_type": "markdown",
   "metadata": {},
   "source": [
    "### Decision Tree Classifier"
   ]
  },
  {
   "cell_type": "code",
   "execution_count": 29,
   "metadata": {},
   "outputs": [
    {
     "name": "stdout",
     "output_type": "stream",
     "text": [
      "Accuracy наилучшей модели на валидационной выборке: 0.793 \n",
      " Максимальная глубина: 49 \n",
      " Критерий: gini \n",
      " Минимальное число объектов в листьях 1 \n",
      " Минимальное количество выборок: 4 \n",
      " Доля входных выборок: 0\n"
     ]
    }
   ],
   "source": [
    "best_model = None\n",
    "best_result = 0\n",
    "best_depth = 0\n",
    "best_criterion = 0\n",
    "best_min_leaf = 0\n",
    "best_split = 0\n",
    "best_weight = 0\n",
    "\n",
    "\n",
    "for depth in range(1, 50):\n",
    "    for criterion_name in ('gini', 'entropy'):\n",
    "        for min_leaf in range(1, 11):\n",
    "            for split in range(2, 11):\n",
    "                for weight in range(0,1):\n",
    "                    model = DecisionTreeClassifier(random_state=12345, max_depth=depth, \n",
    "                                           criterion=criterion_name, min_samples_leaf=min_leaf, \n",
    "                                            min_samples_split = split, min_weight_fraction_leaf = weight)\n",
    "                \n",
    "                    model.fit(features_train, target_train)\n",
    "                    result = model.score(features_valid, target_valid)\n",
    "                    if result > best_result:\n",
    "                        best_model = model\n",
    "                        best_result = result\n",
    "                        best_depth = depth\n",
    "                        best_criterion = criterion_name\n",
    "                        best_split = split\n",
    "                        best_min_leaf = min_leaf\n",
    "                        best_weight = weight\n",
    "print(\"Accuracy наилучшей модели на валидационной выборке:\", best_result.round(3), '\\n', \"Максимальная глубина:\",depth, '\\n','Критерий:', best_criterion, '\\n','Минимальное число объектов в листьях', best_min_leaf, '\\n','Минимальное количество выборок:', best_split, '\\n', 'Доля входных выборок:', best_weight)"
   ]
  },
  {
   "cell_type": "markdown",
   "metadata": {},
   "source": [
    "<div class=\"alert alert-info\">\n",
    "GridSearch для Decision Tree Classifier"
   ]
  },
  {
   "cell_type": "code",
   "execution_count": 30,
   "metadata": {},
   "outputs": [],
   "source": [
    "model_tree = DecisionTreeClassifier()"
   ]
  },
  {
   "cell_type": "code",
   "execution_count": 31,
   "metadata": {},
   "outputs": [],
   "source": [
    "params_tree = {\"max_depth\": [1, 2, 3, 4],\n",
    "          \"criterion\": ['gini', 'entropy'],\n",
    "         }"
   ]
  },
  {
   "cell_type": "code",
   "execution_count": 32,
   "metadata": {},
   "outputs": [],
   "source": [
    "gs_tree = GridSearchCV(estimator = model_tree,\n",
    "                  param_grid = params_tree,\n",
    "                  scoring = ['accuracy'],\n",
    "                  refit = 'accuracy',\n",
    "                  cv = 5,\n",
    "                  verbose = 4)"
   ]
  },
  {
   "cell_type": "code",
   "execution_count": 33,
   "metadata": {
    "scrolled": true
   },
   "outputs": [
    {
     "name": "stdout",
     "output_type": "stream",
     "text": [
      "Fitting 5 folds for each of 8 candidates, totalling 40 fits\n",
      "[CV 1/5] END criterion=gini, max_depth=1; accuracy: (test=0.743) total time=   0.0s\n",
      "[CV 2/5] END criterion=gini, max_depth=1; accuracy: (test=0.755) total time=   0.0s\n",
      "[CV 3/5] END criterion=gini, max_depth=1; accuracy: (test=0.749) total time=   0.0s\n",
      "[CV 4/5] END criterion=gini, max_depth=1; accuracy: (test=0.747) total time=   0.0s\n",
      "[CV 5/5] END criterion=gini, max_depth=1; accuracy: (test=0.770) total time=   0.0s\n",
      "[CV 1/5] END criterion=gini, max_depth=2; accuracy: (test=0.770) total time=   0.0s\n",
      "[CV 2/5] END criterion=gini, max_depth=2; accuracy: (test=0.770) total time=   0.0s\n",
      "[CV 3/5] END criterion=gini, max_depth=2; accuracy: (test=0.790) total time=   0.0s\n",
      "[CV 4/5] END criterion=gini, max_depth=2; accuracy: (test=0.766) total time=   0.0s\n",
      "[CV 5/5] END criterion=gini, max_depth=2; accuracy: (test=0.797) total time=   0.0s\n",
      "[CV 1/5] END criterion=gini, max_depth=3; accuracy: (test=0.774) total time=   0.0s\n",
      "[CV 2/5] END criterion=gini, max_depth=3; accuracy: (test=0.784) total time=   0.0s\n",
      "[CV 3/5] END criterion=gini, max_depth=3; accuracy: (test=0.815) total time=   0.0s\n",
      "[CV 4/5] END criterion=gini, max_depth=3; accuracy: (test=0.786) total time=   0.0s\n",
      "[CV 5/5] END criterion=gini, max_depth=3; accuracy: (test=0.815) total time=   0.0s\n",
      "[CV 1/5] END criterion=gini, max_depth=4; accuracy: (test=0.770) total time=   0.0s\n",
      "[CV 2/5] END criterion=gini, max_depth=4; accuracy: (test=0.780) total time=   0.0s\n",
      "[CV 3/5] END criterion=gini, max_depth=4; accuracy: (test=0.803) total time=   0.0s\n",
      "[CV 4/5] END criterion=gini, max_depth=4; accuracy: (test=0.766) total time=   0.0s\n",
      "[CV 5/5] END criterion=gini, max_depth=4; accuracy: (test=0.805) total time=   0.0s\n",
      "[CV 1/5] END criterion=entropy, max_depth=1; accuracy: (test=0.743) total time=   0.0s\n",
      "[CV 2/5] END criterion=entropy, max_depth=1; accuracy: (test=0.755) total time=   0.0s\n",
      "[CV 3/5] END criterion=entropy, max_depth=1; accuracy: (test=0.749) total time=   0.0s\n",
      "[CV 4/5] END criterion=entropy, max_depth=1; accuracy: (test=0.747) total time=   0.0s\n",
      "[CV 5/5] END criterion=entropy, max_depth=1; accuracy: (test=0.770) total time=   0.0s\n",
      "[CV 1/5] END criterion=entropy, max_depth=2; accuracy: (test=0.770) total time=   0.0s\n",
      "[CV 2/5] END criterion=entropy, max_depth=2; accuracy: (test=0.770) total time=   0.0s\n",
      "[CV 3/5] END criterion=entropy, max_depth=2; accuracy: (test=0.790) total time=   0.0s\n",
      "[CV 4/5] END criterion=entropy, max_depth=2; accuracy: (test=0.766) total time=   0.0s\n",
      "[CV 5/5] END criterion=entropy, max_depth=2; accuracy: (test=0.797) total time=   0.0s\n",
      "[CV 1/5] END criterion=entropy, max_depth=3; accuracy: (test=0.774) total time=   0.0s\n",
      "[CV 2/5] END criterion=entropy, max_depth=3; accuracy: (test=0.784) total time=   0.0s\n",
      "[CV 3/5] END criterion=entropy, max_depth=3; accuracy: (test=0.815) total time=   0.0s\n",
      "[CV 4/5] END criterion=entropy, max_depth=3; accuracy: (test=0.786) total time=   0.0s\n",
      "[CV 5/5] END criterion=entropy, max_depth=3; accuracy: (test=0.815) total time=   0.0s\n",
      "[CV 1/5] END criterion=entropy, max_depth=4; accuracy: (test=0.772) total time=   0.0s\n",
      "[CV 2/5] END criterion=entropy, max_depth=4; accuracy: (test=0.784) total time=   0.0s\n",
      "[CV 3/5] END criterion=entropy, max_depth=4; accuracy: (test=0.809) total time=   0.0s\n",
      "[CV 4/5] END criterion=entropy, max_depth=4; accuracy: (test=0.776) total time=   0.0s\n",
      "[CV 5/5] END criterion=entropy, max_depth=4; accuracy: (test=0.815) total time=   0.0s\n",
      "CPU times: user 231 ms, sys: 3.96 ms, total: 235 ms\n",
      "Wall time: 236 ms\n"
     ]
    },
    {
     "data": {
      "text/plain": [
       "GridSearchCV(cv=5, estimator=DecisionTreeClassifier(),\n",
       "             param_grid={'criterion': ['gini', 'entropy'],\n",
       "                         'max_depth': [1, 2, 3, 4]},\n",
       "             refit='accuracy', scoring=['accuracy'], verbose=4)"
      ]
     },
     "execution_count": 33,
     "metadata": {},
     "output_type": "execute_result"
    }
   ],
   "source": [
    "%%time\n",
    "gs_tree.fit(X_train, Y_train)"
   ]
  },
  {
   "cell_type": "code",
   "execution_count": 34,
   "metadata": {},
   "outputs": [],
   "source": [
    "best_est_tree = gs_tree.best_estimator_\n",
    "best_score_tree = gs_tree.best_score_"
   ]
  },
  {
   "cell_type": "code",
   "execution_count": 35,
   "metadata": {},
   "outputs": [
    {
     "name": "stdout",
     "output_type": "stream",
     "text": [
      "DecisionTreeClassifier(max_depth=3)\n",
      "0.7950207468879669\n"
     ]
    }
   ],
   "source": [
    "print(best_est_tree)\n",
    "print(best_score_tree)"
   ]
  },
  {
   "cell_type": "markdown",
   "metadata": {},
   "source": [
    "<div class=\"alert alert-info\">\n",
    "<BR><b>Вывод:</b>\n",
    "По результатам выбрала модель для дальнейшей работы -  RF"
   ]
  },
  {
   "cell_type": "markdown",
   "metadata": {},
   "source": [
    "## Проверьте модель на тестовой выборке"
   ]
  },
  {
   "cell_type": "markdown",
   "metadata": {},
   "source": [
    "Объединила train и valid, для проверки модели на тестовой выборке."
   ]
  },
  {
   "cell_type": "code",
   "execution_count": 36,
   "metadata": {},
   "outputs": [],
   "source": [
    "features = pd.concat([features_train, features_valid])\n",
    "target = pd.concat([target_train, target_valid])"
   ]
  },
  {
   "cell_type": "code",
   "execution_count": 37,
   "metadata": {},
   "outputs": [
    {
     "name": "stdout",
     "output_type": "stream",
     "text": [
      "RandomForestClassifier(criterion='entropy', max_depth=8)\n"
     ]
    }
   ],
   "source": [
    "print(best_est_rf)"
   ]
  },
  {
   "cell_type": "code",
   "execution_count": 38,
   "metadata": {},
   "outputs": [],
   "source": [
    "model = RandomForestClassifier(criterion='entropy', max_depth=8, max_features='sqrt')"
   ]
  },
  {
   "cell_type": "code",
   "execution_count": 39,
   "metadata": {},
   "outputs": [
    {
     "name": "stdout",
     "output_type": "stream",
     "text": [
      "Accuracy: 0.818\n"
     ]
    }
   ],
   "source": [
    "model.fit(features, target)\n",
    "predictions_test = model.predict(features_test)\n",
    "result_test = accuracy_score(target_test, predictions_test)\n",
    "print(\"Accuracy:\", result_test.round(3))"
   ]
  },
  {
   "cell_type": "markdown",
   "metadata": {},
   "source": [
    "<b>Вывод:</b> Accuracy 0.818,поставленной цели добились."
   ]
  },
  {
   "cell_type": "markdown",
   "metadata": {},
   "source": [
    "## (бонус) Проверьте модели на адекватность"
   ]
  },
  {
   "cell_type": "code",
   "execution_count": 40,
   "metadata": {},
   "outputs": [
    {
     "name": "stdout",
     "output_type": "stream",
     "text": [
      "Accuracy: 0.742\n"
     ]
    }
   ],
   "source": [
    "model = DecisionTreeClassifier(random_state=54321)\n",
    "\n",
    "model.fit(features, target)\n",
    "predictions_test = model.predict(features_test)\n",
    "result_test = accuracy_score(target_test, predictions_test)\n",
    "print(\"Accuracy:\", result_test.round(3))"
   ]
  },
  {
   "cell_type": "code",
   "execution_count": 41,
   "metadata": {},
   "outputs": [
    {
     "name": "stdout",
     "output_type": "stream",
     "text": [
      "Accuracy: 0.694\n"
     ]
    }
   ],
   "source": [
    "clf_dummy = DummyClassifier(random_state=54321) \n",
    "\n",
    "clf_dummy.fit(features, target)\n",
    "predictions_test = clf_dummy.predict(features_test)\n",
    "result_test = accuracy_score(target_test, predictions_test)\n",
    "print(\"Accuracy:\", result_test.round(3))"
   ]
  }
 ],
 "metadata": {
  "ExecuteTimeLog": [
   {
    "duration": 54,
    "start_time": "2022-11-13T18:53:59.132Z"
   },
   {
    "duration": 407,
    "start_time": "2022-11-13T18:54:01.732Z"
   },
   {
    "duration": 145,
    "start_time": "2022-11-13T18:54:18.096Z"
   },
   {
    "duration": 15,
    "start_time": "2022-11-13T18:54:25.160Z"
   },
   {
    "duration": 13,
    "start_time": "2022-11-13T18:54:34.129Z"
   },
   {
    "duration": 5,
    "start_time": "2022-11-13T19:02:55.693Z"
   },
   {
    "duration": 60,
    "start_time": "2022-11-13T20:07:27.754Z"
   },
   {
    "duration": 730,
    "start_time": "2022-11-13T20:07:36.254Z"
   },
   {
    "duration": 5,
    "start_time": "2022-11-13T20:07:39.532Z"
   },
   {
    "duration": 3,
    "start_time": "2022-11-13T20:56:08.548Z"
   },
   {
    "duration": 100,
    "start_time": "2022-11-13T21:26:05.992Z"
   },
   {
    "duration": 4,
    "start_time": "2022-11-13T21:26:11.544Z"
   },
   {
    "duration": 3,
    "start_time": "2022-11-13T21:35:43.289Z"
   },
   {
    "duration": 60,
    "start_time": "2022-11-13T21:35:45.881Z"
   },
   {
    "duration": 60,
    "start_time": "2022-11-13T21:36:38.414Z"
   },
   {
    "duration": 57,
    "start_time": "2022-11-13T21:36:56.552Z"
   },
   {
    "duration": 6598,
    "start_time": "2022-11-13T21:37:11.020Z"
   },
   {
    "duration": 3825,
    "start_time": "2022-11-13T21:44:55.646Z"
   },
   {
    "duration": 15,
    "start_time": "2022-11-13T21:57:13.377Z"
   },
   {
    "duration": 3,
    "start_time": "2022-11-13T22:01:11.625Z"
   },
   {
    "duration": 4094,
    "start_time": "2022-11-13T22:01:14.538Z"
   },
   {
    "duration": 10,
    "start_time": "2022-11-13T22:01:18.634Z"
   },
   {
    "duration": 327,
    "start_time": "2022-11-13T22:03:45.796Z"
   },
   {
    "duration": 7063,
    "start_time": "2022-11-13T22:12:16.568Z"
   },
   {
    "duration": 18228,
    "start_time": "2022-11-13T22:14:56.702Z"
   },
   {
    "duration": 344,
    "start_time": "2022-11-13T22:17:17.885Z"
   },
   {
    "duration": 51,
    "start_time": "2022-11-13T22:18:10.810Z"
   },
   {
    "duration": 46,
    "start_time": "2022-11-13T22:18:15.546Z"
   },
   {
    "duration": 46,
    "start_time": "2022-11-13T22:18:19.315Z"
   },
   {
    "duration": 73,
    "start_time": "2022-11-13T22:18:29.552Z"
   },
   {
    "duration": 77,
    "start_time": "2022-11-13T22:32:17.684Z"
   },
   {
    "duration": 17,
    "start_time": "2022-11-13T22:32:42.316Z"
   },
   {
    "duration": 11,
    "start_time": "2022-11-13T22:33:04.416Z"
   },
   {
    "duration": 11,
    "start_time": "2022-11-13T22:33:31.491Z"
   },
   {
    "duration": 7,
    "start_time": "2022-11-13T22:33:35.851Z"
   },
   {
    "duration": 14,
    "start_time": "2022-11-13T22:33:47.556Z"
   },
   {
    "duration": 48,
    "start_time": "2022-11-13T22:34:29.128Z"
   },
   {
    "duration": 14,
    "start_time": "2022-11-13T22:34:39.233Z"
   },
   {
    "duration": 11,
    "start_time": "2022-11-13T22:34:53.545Z"
   },
   {
    "duration": 18,
    "start_time": "2022-11-13T22:35:16.595Z"
   },
   {
    "duration": 45,
    "start_time": "2022-11-13T22:35:21.080Z"
   },
   {
    "duration": 111,
    "start_time": "2022-11-13T22:35:24.944Z"
   },
   {
    "duration": 4296,
    "start_time": "2022-11-13T22:50:11.931Z"
   },
   {
    "duration": 64,
    "start_time": "2022-11-14T08:17:54.075Z"
   },
   {
    "duration": 1271,
    "start_time": "2022-11-14T08:17:57.429Z"
   },
   {
    "duration": 62,
    "start_time": "2022-11-14T08:17:58.702Z"
   },
   {
    "duration": 22,
    "start_time": "2022-11-14T08:17:58.767Z"
   },
   {
    "duration": 25,
    "start_time": "2022-11-14T08:17:58.791Z"
   },
   {
    "duration": 4,
    "start_time": "2022-11-14T08:18:00.857Z"
   },
   {
    "duration": 6,
    "start_time": "2022-11-14T08:18:01.559Z"
   },
   {
    "duration": 35492,
    "start_time": "2022-11-14T08:18:02.503Z"
   },
   {
    "duration": 36141,
    "start_time": "2022-11-14T08:21:10.543Z"
   },
   {
    "duration": 135,
    "start_time": "2022-11-14T08:23:06.840Z"
   },
   {
    "duration": 28,
    "start_time": "2022-11-14T08:23:20.504Z"
   },
   {
    "duration": 35421,
    "start_time": "2022-11-14T08:23:42.142Z"
   },
   {
    "duration": 36177,
    "start_time": "2022-11-14T08:32:45.669Z"
   },
   {
    "duration": 332,
    "start_time": "2022-11-14T08:34:11.717Z"
   },
   {
    "duration": 83,
    "start_time": "2022-11-14T08:35:35.355Z"
   },
   {
    "duration": 163,
    "start_time": "2022-11-14T08:35:42.202Z"
   },
   {
    "duration": 13866,
    "start_time": "2022-11-14T08:35:50.248Z"
   },
   {
    "duration": 13721,
    "start_time": "2022-11-14T08:36:14.349Z"
   },
   {
    "duration": 11,
    "start_time": "2022-11-14T09:44:58.583Z"
   },
   {
    "duration": 51,
    "start_time": "2022-11-14T09:45:07.080Z"
   },
   {
    "duration": 73,
    "start_time": "2022-11-14T09:51:06.505Z"
   },
   {
    "duration": 597,
    "start_time": "2022-11-14T09:51:16.022Z"
   },
   {
    "duration": 75,
    "start_time": "2022-11-14T09:54:28.680Z"
   },
   {
    "duration": 24,
    "start_time": "2022-11-14T09:54:44.464Z"
   },
   {
    "duration": 1358,
    "start_time": "2022-11-14T09:54:59.169Z"
   },
   {
    "duration": 72,
    "start_time": "2022-11-14T09:57:59.413Z"
   },
   {
    "duration": 14,
    "start_time": "2022-11-14T09:58:12.965Z"
   },
   {
    "duration": 11,
    "start_time": "2022-11-14T09:58:25.511Z"
   },
   {
    "duration": 12,
    "start_time": "2022-11-14T09:58:31.924Z"
   },
   {
    "duration": 6,
    "start_time": "2022-11-14T09:58:42.368Z"
   },
   {
    "duration": 10,
    "start_time": "2022-11-14T09:58:45.572Z"
   },
   {
    "duration": 16,
    "start_time": "2022-11-14T09:58:51.080Z"
   },
   {
    "duration": 10,
    "start_time": "2022-11-14T09:59:07.116Z"
   },
   {
    "duration": 10657,
    "start_time": "2022-11-14T10:00:14.895Z"
   },
   {
    "duration": 12,
    "start_time": "2022-11-14T10:01:49.966Z"
   },
   {
    "duration": 16,
    "start_time": "2022-11-14T10:02:12.070Z"
   },
   {
    "duration": 12,
    "start_time": "2022-11-14T10:02:28.548Z"
   },
   {
    "duration": 17,
    "start_time": "2022-11-14T10:02:35.144Z"
   },
   {
    "duration": 85958,
    "start_time": "2022-11-14T10:02:47.366Z"
   },
   {
    "duration": 887652,
    "start_time": "2022-11-14T10:04:29.333Z"
   },
   {
    "duration": 107178,
    "start_time": "2022-11-14T11:12:54.539Z"
   },
   {
    "duration": 4,
    "start_time": "2022-11-14T11:21:54.627Z"
   },
   {
    "duration": 7,
    "start_time": "2022-11-14T11:21:54.915Z"
   },
   {
    "duration": 14,
    "start_time": "2022-11-14T11:22:00.685Z"
   },
   {
    "duration": 4,
    "start_time": "2022-11-14T11:22:09.410Z"
   },
   {
    "duration": 4,
    "start_time": "2022-11-14T11:22:17.508Z"
   },
   {
    "duration": 5,
    "start_time": "2022-11-14T11:22:26.797Z"
   },
   {
    "duration": 4,
    "start_time": "2022-11-14T11:23:00.017Z"
   },
   {
    "duration": 22,
    "start_time": "2022-11-14T11:25:37.763Z"
   },
   {
    "duration": 20,
    "start_time": "2022-11-14T11:25:41.479Z"
   },
   {
    "duration": 69,
    "start_time": "2022-11-14T11:25:45.373Z"
   },
   {
    "duration": 22,
    "start_time": "2022-11-14T11:25:49.401Z"
   },
   {
    "duration": 6,
    "start_time": "2022-11-14T11:25:54.387Z"
   },
   {
    "duration": 4,
    "start_time": "2022-11-14T11:25:54.588Z"
   },
   {
    "duration": 4,
    "start_time": "2022-11-14T11:25:54.754Z"
   },
   {
    "duration": 5,
    "start_time": "2022-11-14T11:25:54.903Z"
   },
   {
    "duration": 4,
    "start_time": "2022-11-14T11:25:55.051Z"
   },
   {
    "duration": 22,
    "start_time": "2022-11-14T11:25:55.598Z"
   },
   {
    "duration": 23,
    "start_time": "2022-11-14T11:26:14.003Z"
   },
   {
    "duration": 13,
    "start_time": "2022-11-14T11:26:14.254Z"
   },
   {
    "duration": 13,
    "start_time": "2022-11-14T11:26:14.472Z"
   },
   {
    "duration": 3,
    "start_time": "2022-11-14T11:26:14.876Z"
   },
   {
    "duration": 7,
    "start_time": "2022-11-14T11:26:15.055Z"
   },
   {
    "duration": 3,
    "start_time": "2022-11-14T11:26:15.233Z"
   },
   {
    "duration": 4,
    "start_time": "2022-11-14T11:26:15.401Z"
   },
   {
    "duration": 4,
    "start_time": "2022-11-14T11:26:15.583Z"
   },
   {
    "duration": 4,
    "start_time": "2022-11-14T11:26:15.991Z"
   },
   {
    "duration": 22,
    "start_time": "2022-11-14T11:26:16.770Z"
   },
   {
    "duration": 14,
    "start_time": "2022-11-14T11:26:29.222Z"
   },
   {
    "duration": 16,
    "start_time": "2022-11-14T11:27:13.792Z"
   },
   {
    "duration": 4,
    "start_time": "2022-11-14T11:27:19.190Z"
   },
   {
    "duration": 14,
    "start_time": "2022-11-14T11:27:19.587Z"
   },
   {
    "duration": 15,
    "start_time": "2022-11-14T11:27:30.434Z"
   },
   {
    "duration": 4,
    "start_time": "2022-11-14T11:28:58.737Z"
   },
   {
    "duration": 4,
    "start_time": "2022-11-14T11:28:59.022Z"
   },
   {
    "duration": 4,
    "start_time": "2022-11-14T11:29:01.903Z"
   },
   {
    "duration": 4,
    "start_time": "2022-11-14T11:29:02.674Z"
   },
   {
    "duration": 4,
    "start_time": "2022-11-14T11:29:03.175Z"
   },
   {
    "duration": 21,
    "start_time": "2022-11-14T11:29:40.508Z"
   },
   {
    "duration": 7,
    "start_time": "2022-11-14T11:30:52.216Z"
   },
   {
    "duration": 14,
    "start_time": "2022-11-14T11:31:16.747Z"
   },
   {
    "duration": 5,
    "start_time": "2022-11-14T11:32:08.489Z"
   },
   {
    "duration": 6,
    "start_time": "2022-11-14T11:32:24.211Z"
   },
   {
    "duration": 4,
    "start_time": "2022-11-14T11:33:29.606Z"
   },
   {
    "duration": 5,
    "start_time": "2022-11-14T11:33:30.675Z"
   },
   {
    "duration": 5,
    "start_time": "2022-11-14T11:33:31.132Z"
   },
   {
    "duration": 6,
    "start_time": "2022-11-14T11:33:31.618Z"
   },
   {
    "duration": 4,
    "start_time": "2022-11-14T11:33:32.177Z"
   },
   {
    "duration": 5,
    "start_time": "2022-11-14T11:34:03.125Z"
   },
   {
    "duration": 4,
    "start_time": "2022-11-14T11:34:03.637Z"
   },
   {
    "duration": 4,
    "start_time": "2022-11-14T11:34:03.917Z"
   },
   {
    "duration": 5,
    "start_time": "2022-11-14T11:34:04.259Z"
   },
   {
    "duration": 5,
    "start_time": "2022-11-14T11:34:04.678Z"
   },
   {
    "duration": 4,
    "start_time": "2022-11-14T11:34:05.172Z"
   },
   {
    "duration": 5,
    "start_time": "2022-11-14T11:34:12.174Z"
   },
   {
    "duration": 4,
    "start_time": "2022-11-14T11:34:12.435Z"
   },
   {
    "duration": 6,
    "start_time": "2022-11-14T11:34:12.657Z"
   },
   {
    "duration": 4,
    "start_time": "2022-11-14T11:34:12.849Z"
   },
   {
    "duration": 4,
    "start_time": "2022-11-14T11:34:13.051Z"
   },
   {
    "duration": 5,
    "start_time": "2022-11-14T11:34:13.637Z"
   },
   {
    "duration": 5,
    "start_time": "2022-11-14T11:34:14.091Z"
   },
   {
    "duration": 4,
    "start_time": "2022-11-14T11:34:14.578Z"
   },
   {
    "duration": 6,
    "start_time": "2022-11-14T11:34:27.546Z"
   },
   {
    "duration": 4,
    "start_time": "2022-11-14T11:34:28.484Z"
   },
   {
    "duration": 4,
    "start_time": "2022-11-14T11:34:28.877Z"
   },
   {
    "duration": 4,
    "start_time": "2022-11-14T11:34:29.200Z"
   },
   {
    "duration": 4,
    "start_time": "2022-11-14T11:34:29.535Z"
   },
   {
    "duration": 5,
    "start_time": "2022-11-14T11:34:29.889Z"
   },
   {
    "duration": 4,
    "start_time": "2022-11-14T11:34:30.275Z"
   },
   {
    "duration": 4,
    "start_time": "2022-11-14T11:34:30.646Z"
   },
   {
    "duration": 5,
    "start_time": "2022-11-14T11:34:39.828Z"
   },
   {
    "duration": 4,
    "start_time": "2022-11-14T11:34:40.124Z"
   },
   {
    "duration": 4,
    "start_time": "2022-11-14T11:34:40.391Z"
   },
   {
    "duration": 4,
    "start_time": "2022-11-14T11:34:40.652Z"
   },
   {
    "duration": 5,
    "start_time": "2022-11-14T11:34:40.910Z"
   },
   {
    "duration": 5,
    "start_time": "2022-11-14T11:34:41.200Z"
   },
   {
    "duration": 5,
    "start_time": "2022-11-14T11:34:41.846Z"
   },
   {
    "duration": 5,
    "start_time": "2022-11-14T11:34:42.800Z"
   },
   {
    "duration": 7,
    "start_time": "2022-11-14T11:34:48.911Z"
   },
   {
    "duration": 5,
    "start_time": "2022-11-14T11:34:49.152Z"
   },
   {
    "duration": 5,
    "start_time": "2022-11-14T11:34:49.346Z"
   },
   {
    "duration": 4,
    "start_time": "2022-11-14T11:34:49.527Z"
   },
   {
    "duration": 4,
    "start_time": "2022-11-14T11:34:49.706Z"
   },
   {
    "duration": 4,
    "start_time": "2022-11-14T11:34:49.894Z"
   },
   {
    "duration": 4,
    "start_time": "2022-11-14T11:34:50.072Z"
   },
   {
    "duration": 4,
    "start_time": "2022-11-14T11:34:50.242Z"
   },
   {
    "duration": 5,
    "start_time": "2022-11-14T11:36:02.012Z"
   },
   {
    "duration": 4,
    "start_time": "2022-11-14T11:36:07.699Z"
   },
   {
    "duration": 6,
    "start_time": "2022-11-14T11:36:18.388Z"
   },
   {
    "duration": 4,
    "start_time": "2022-11-14T11:36:18.720Z"
   },
   {
    "duration": 5,
    "start_time": "2022-11-14T11:36:19.106Z"
   },
   {
    "duration": 7,
    "start_time": "2022-11-14T11:36:25.826Z"
   },
   {
    "duration": 4,
    "start_time": "2022-11-14T11:36:26.079Z"
   },
   {
    "duration": 5,
    "start_time": "2022-11-14T11:36:26.493Z"
   },
   {
    "duration": 4,
    "start_time": "2022-11-14T11:36:27.573Z"
   },
   {
    "duration": 4,
    "start_time": "2022-11-14T11:36:27.869Z"
   },
   {
    "duration": 4,
    "start_time": "2022-11-14T11:36:28.126Z"
   },
   {
    "duration": 4,
    "start_time": "2022-11-14T11:36:28.423Z"
   },
   {
    "duration": 4,
    "start_time": "2022-11-14T11:36:28.756Z"
   },
   {
    "duration": 4,
    "start_time": "2022-11-14T11:36:29.180Z"
   },
   {
    "duration": 4,
    "start_time": "2022-11-14T11:36:31.079Z"
   },
   {
    "duration": 6,
    "start_time": "2022-11-14T11:36:38.031Z"
   },
   {
    "duration": 4,
    "start_time": "2022-11-14T11:36:38.354Z"
   },
   {
    "duration": 5,
    "start_time": "2022-11-14T11:37:48.627Z"
   },
   {
    "duration": 4,
    "start_time": "2022-11-14T11:37:48.876Z"
   },
   {
    "duration": 4,
    "start_time": "2022-11-14T11:37:49.147Z"
   },
   {
    "duration": 9,
    "start_time": "2022-11-14T11:37:49.502Z"
   },
   {
    "duration": 5,
    "start_time": "2022-11-14T11:37:59.646Z"
   },
   {
    "duration": 4,
    "start_time": "2022-11-14T11:38:00.448Z"
   },
   {
    "duration": 4,
    "start_time": "2022-11-14T11:38:00.857Z"
   },
   {
    "duration": 5,
    "start_time": "2022-11-14T11:38:01.274Z"
   },
   {
    "duration": 5,
    "start_time": "2022-11-14T11:38:02.005Z"
   },
   {
    "duration": 7,
    "start_time": "2022-11-14T11:38:18.729Z"
   },
   {
    "duration": 4,
    "start_time": "2022-11-14T11:38:19.000Z"
   },
   {
    "duration": 4,
    "start_time": "2022-11-14T11:38:19.241Z"
   },
   {
    "duration": 4,
    "start_time": "2022-11-14T11:38:19.492Z"
   },
   {
    "duration": 4,
    "start_time": "2022-11-14T11:38:19.749Z"
   },
   {
    "duration": 4,
    "start_time": "2022-11-14T11:38:20.191Z"
   },
   {
    "duration": 4,
    "start_time": "2022-11-14T11:38:20.802Z"
   },
   {
    "duration": 4,
    "start_time": "2022-11-14T11:38:21.199Z"
   },
   {
    "duration": 24,
    "start_time": "2022-11-14T11:38:29.493Z"
   },
   {
    "duration": 10,
    "start_time": "2022-11-14T11:38:29.684Z"
   },
   {
    "duration": 12,
    "start_time": "2022-11-14T11:38:29.830Z"
   },
   {
    "duration": 6,
    "start_time": "2022-11-14T11:38:32.926Z"
   },
   {
    "duration": 5,
    "start_time": "2022-11-14T11:38:36.514Z"
   },
   {
    "duration": 5,
    "start_time": "2022-11-14T11:38:37.555Z"
   },
   {
    "duration": 5,
    "start_time": "2022-11-14T11:38:39.788Z"
   },
   {
    "duration": 5,
    "start_time": "2022-11-14T11:38:59.581Z"
   },
   {
    "duration": 4,
    "start_time": "2022-11-14T11:38:59.850Z"
   },
   {
    "duration": 5,
    "start_time": "2022-11-14T11:39:00.106Z"
   },
   {
    "duration": 5,
    "start_time": "2022-11-14T11:39:00.360Z"
   },
   {
    "duration": 4,
    "start_time": "2022-11-14T11:39:00.700Z"
   },
   {
    "duration": 4,
    "start_time": "2022-11-14T11:39:01.047Z"
   },
   {
    "duration": 4,
    "start_time": "2022-11-14T11:39:01.491Z"
   },
   {
    "duration": 4,
    "start_time": "2022-11-14T11:39:01.982Z"
   },
   {
    "duration": 4,
    "start_time": "2022-11-14T11:39:06.608Z"
   },
   {
    "duration": 27,
    "start_time": "2022-11-14T11:39:06.813Z"
   },
   {
    "duration": 14,
    "start_time": "2022-11-14T11:39:06.966Z"
   },
   {
    "duration": 15,
    "start_time": "2022-11-14T11:39:07.119Z"
   },
   {
    "duration": 6,
    "start_time": "2022-11-14T11:39:07.440Z"
   },
   {
    "duration": 6,
    "start_time": "2022-11-14T11:39:07.599Z"
   },
   {
    "duration": 5,
    "start_time": "2022-11-14T11:39:07.760Z"
   },
   {
    "duration": 6,
    "start_time": "2022-11-14T11:39:07.934Z"
   },
   {
    "duration": 4,
    "start_time": "2022-11-14T11:39:08.124Z"
   },
   {
    "duration": 6,
    "start_time": "2022-11-14T11:39:08.280Z"
   },
   {
    "duration": 5,
    "start_time": "2022-11-14T11:39:08.441Z"
   },
   {
    "duration": 5,
    "start_time": "2022-11-14T11:39:08.592Z"
   },
   {
    "duration": 5,
    "start_time": "2022-11-14T11:40:05.681Z"
   },
   {
    "duration": 4,
    "start_time": "2022-11-14T11:40:06.024Z"
   },
   {
    "duration": 3,
    "start_time": "2022-11-14T11:40:06.276Z"
   },
   {
    "duration": 4,
    "start_time": "2022-11-14T11:40:06.580Z"
   },
   {
    "duration": 4,
    "start_time": "2022-11-14T11:40:06.967Z"
   },
   {
    "duration": 5,
    "start_time": "2022-11-14T11:40:12.042Z"
   },
   {
    "duration": 4,
    "start_time": "2022-11-14T11:40:12.236Z"
   },
   {
    "duration": 4,
    "start_time": "2022-11-14T11:40:12.400Z"
   },
   {
    "duration": 5,
    "start_time": "2022-11-14T11:40:12.564Z"
   },
   {
    "duration": 4,
    "start_time": "2022-11-14T11:40:12.720Z"
   },
   {
    "duration": 5,
    "start_time": "2022-11-14T11:40:12.874Z"
   },
   {
    "duration": 5,
    "start_time": "2022-11-14T11:40:13.051Z"
   },
   {
    "duration": 5,
    "start_time": "2022-11-14T11:40:15.974Z"
   },
   {
    "duration": 5,
    "start_time": "2022-11-14T11:40:29.508Z"
   },
   {
    "duration": 4,
    "start_time": "2022-11-14T11:40:29.970Z"
   },
   {
    "duration": 4,
    "start_time": "2022-11-14T11:40:30.262Z"
   },
   {
    "duration": 4,
    "start_time": "2022-11-14T11:40:30.524Z"
   },
   {
    "duration": 3,
    "start_time": "2022-11-14T11:40:30.786Z"
   },
   {
    "duration": 4,
    "start_time": "2022-11-14T11:40:31.063Z"
   },
   {
    "duration": 3,
    "start_time": "2022-11-14T11:40:31.563Z"
   },
   {
    "duration": 4,
    "start_time": "2022-11-14T11:40:32.023Z"
   },
   {
    "duration": 12,
    "start_time": "2022-11-14T11:40:33.880Z"
   },
   {
    "duration": 5,
    "start_time": "2022-11-14T11:41:19.767Z"
   },
   {
    "duration": 4,
    "start_time": "2022-11-14T11:41:19.981Z"
   },
   {
    "duration": 4,
    "start_time": "2022-11-14T11:41:20.165Z"
   },
   {
    "duration": 5,
    "start_time": "2022-11-14T11:41:20.342Z"
   },
   {
    "duration": 3,
    "start_time": "2022-11-14T11:41:20.516Z"
   },
   {
    "duration": 4,
    "start_time": "2022-11-14T11:41:20.695Z"
   },
   {
    "duration": 4,
    "start_time": "2022-11-14T11:41:20.870Z"
   },
   {
    "duration": 4,
    "start_time": "2022-11-14T11:41:21.548Z"
   },
   {
    "duration": 6,
    "start_time": "2022-11-14T11:41:25.376Z"
   },
   {
    "duration": 4,
    "start_time": "2022-11-14T11:41:25.600Z"
   },
   {
    "duration": 6,
    "start_time": "2022-11-14T11:41:25.822Z"
   },
   {
    "duration": 4,
    "start_time": "2022-11-14T11:41:26.012Z"
   },
   {
    "duration": 5,
    "start_time": "2022-11-14T11:41:26.207Z"
   },
   {
    "duration": 4,
    "start_time": "2022-11-14T11:41:26.576Z"
   },
   {
    "duration": 5,
    "start_time": "2022-11-14T11:41:26.867Z"
   },
   {
    "duration": 4,
    "start_time": "2022-11-14T11:41:27.327Z"
   },
   {
    "duration": 7,
    "start_time": "2022-11-14T11:41:34.265Z"
   },
   {
    "duration": 4,
    "start_time": "2022-11-14T11:41:34.506Z"
   },
   {
    "duration": 4,
    "start_time": "2022-11-14T11:41:34.726Z"
   },
   {
    "duration": 3,
    "start_time": "2022-11-14T11:41:35.000Z"
   },
   {
    "duration": 4,
    "start_time": "2022-11-14T11:41:35.479Z"
   },
   {
    "duration": 5,
    "start_time": "2022-11-14T11:41:40.268Z"
   },
   {
    "duration": 4,
    "start_time": "2022-11-14T11:41:40.543Z"
   },
   {
    "duration": 5,
    "start_time": "2022-11-14T11:41:40.785Z"
   },
   {
    "duration": 4,
    "start_time": "2022-11-14T11:41:41.019Z"
   },
   {
    "duration": 5,
    "start_time": "2022-11-14T11:41:41.694Z"
   },
   {
    "duration": 6,
    "start_time": "2022-11-14T11:41:46.078Z"
   },
   {
    "duration": 4,
    "start_time": "2022-11-14T11:41:46.296Z"
   },
   {
    "duration": 5,
    "start_time": "2022-11-14T11:41:46.480Z"
   },
   {
    "duration": 4,
    "start_time": "2022-11-14T11:41:46.661Z"
   },
   {
    "duration": 4,
    "start_time": "2022-11-14T11:41:46.846Z"
   },
   {
    "duration": 18,
    "start_time": "2022-11-14T11:41:58.721Z"
   },
   {
    "duration": 73,
    "start_time": "2022-11-14T11:43:12.111Z"
   },
   {
    "duration": 5,
    "start_time": "2022-11-14T11:43:15.730Z"
   },
   {
    "duration": 4,
    "start_time": "2022-11-14T11:43:16.036Z"
   },
   {
    "duration": 4,
    "start_time": "2022-11-14T11:43:16.289Z"
   },
   {
    "duration": 3,
    "start_time": "2022-11-14T11:43:16.539Z"
   },
   {
    "duration": 5,
    "start_time": "2022-11-14T11:43:16.830Z"
   },
   {
    "duration": 18,
    "start_time": "2022-11-14T11:43:17.312Z"
   },
   {
    "duration": 4,
    "start_time": "2022-11-14T11:46:36.506Z"
   },
   {
    "duration": 5,
    "start_time": "2022-11-14T11:47:06.902Z"
   },
   {
    "duration": 5,
    "start_time": "2022-11-14T11:47:31.732Z"
   },
   {
    "duration": 5,
    "start_time": "2022-11-14T11:47:32.025Z"
   },
   {
    "duration": 4,
    "start_time": "2022-11-14T11:47:32.302Z"
   },
   {
    "duration": 6,
    "start_time": "2022-11-14T11:47:32.563Z"
   },
   {
    "duration": 5,
    "start_time": "2022-11-14T11:47:32.829Z"
   },
   {
    "duration": 5,
    "start_time": "2022-11-14T11:47:33.163Z"
   },
   {
    "duration": 4,
    "start_time": "2022-11-14T11:47:33.620Z"
   },
   {
    "duration": 5,
    "start_time": "2022-11-14T11:47:34.052Z"
   },
   {
    "duration": 5,
    "start_time": "2022-11-14T11:47:34.561Z"
   },
   {
    "duration": 4,
    "start_time": "2022-11-14T11:47:35.931Z"
   },
   {
    "duration": 8,
    "start_time": "2022-11-14T11:47:54.289Z"
   },
   {
    "duration": 4,
    "start_time": "2022-11-14T11:47:54.589Z"
   },
   {
    "duration": 4,
    "start_time": "2022-11-14T11:47:54.925Z"
   },
   {
    "duration": 4,
    "start_time": "2022-11-14T11:47:55.318Z"
   },
   {
    "duration": 4,
    "start_time": "2022-11-14T11:47:57.447Z"
   },
   {
    "duration": 4,
    "start_time": "2022-11-14T11:47:57.919Z"
   },
   {
    "duration": 3,
    "start_time": "2022-11-14T11:47:58.317Z"
   },
   {
    "duration": 5,
    "start_time": "2022-11-14T11:48:20.215Z"
   },
   {
    "duration": 4,
    "start_time": "2022-11-14T11:48:20.504Z"
   },
   {
    "duration": 4,
    "start_time": "2022-11-14T11:48:20.910Z"
   },
   {
    "duration": 4,
    "start_time": "2022-11-14T11:48:21.437Z"
   },
   {
    "duration": 4,
    "start_time": "2022-11-14T11:48:21.913Z"
   },
   {
    "duration": 4,
    "start_time": "2022-11-14T11:48:22.360Z"
   },
   {
    "duration": 4,
    "start_time": "2022-11-14T11:48:22.941Z"
   },
   {
    "duration": 12209,
    "start_time": "2022-11-14T11:48:26.946Z"
   },
   {
    "duration": 78,
    "start_time": "2022-11-14T11:48:39.157Z"
   },
   {
    "duration": 90921,
    "start_time": "2022-11-14T11:48:39.238Z"
   },
   {
    "duration": 5,
    "start_time": "2022-11-14T11:50:10.161Z"
   },
   {
    "duration": 6,
    "start_time": "2022-11-14T11:51:22.081Z"
   },
   {
    "duration": 5,
    "start_time": "2022-11-14T11:51:36.187Z"
   },
   {
    "duration": 6,
    "start_time": "2022-11-14T11:53:29.043Z"
   },
   {
    "duration": 7,
    "start_time": "2022-11-14T11:53:46.892Z"
   },
   {
    "duration": 16,
    "start_time": "2022-11-14T11:56:19.092Z"
   },
   {
    "duration": 9,
    "start_time": "2022-11-14T11:58:30.868Z"
   },
   {
    "duration": 5,
    "start_time": "2022-11-14T11:58:47.640Z"
   },
   {
    "duration": 21,
    "start_time": "2022-11-14T11:58:58.762Z"
   },
   {
    "duration": 20,
    "start_time": "2022-11-14T11:59:08.175Z"
   },
   {
    "duration": 4,
    "start_time": "2022-11-14T12:03:27.321Z"
   },
   {
    "duration": 10,
    "start_time": "2022-11-14T12:03:29.957Z"
   },
   {
    "duration": 4,
    "start_time": "2022-11-14T12:03:50.967Z"
   },
   {
    "duration": 70,
    "start_time": "2022-11-14T12:04:33.219Z"
   },
   {
    "duration": 4,
    "start_time": "2022-11-14T12:04:47.207Z"
   },
   {
    "duration": 24,
    "start_time": "2022-11-14T12:04:47.436Z"
   },
   {
    "duration": 11,
    "start_time": "2022-11-14T12:04:47.649Z"
   },
   {
    "duration": 16,
    "start_time": "2022-11-14T12:04:48.195Z"
   },
   {
    "duration": 11,
    "start_time": "2022-11-14T12:04:54.499Z"
   },
   {
    "duration": 5,
    "start_time": "2022-11-14T12:04:55.434Z"
   },
   {
    "duration": 13,
    "start_time": "2022-11-14T12:04:59.871Z"
   },
   {
    "duration": 11976,
    "start_time": "2022-11-14T12:06:40.547Z"
   },
   {
    "duration": 43,
    "start_time": "2022-11-14T12:06:52.525Z"
   },
   {
    "duration": 12179,
    "start_time": "2022-11-14T12:08:44.092Z"
   },
   {
    "duration": 53,
    "start_time": "2022-11-14T12:08:56.273Z"
   },
   {
    "duration": 90783,
    "start_time": "2022-11-14T12:08:56.328Z"
   },
   {
    "duration": 11927,
    "start_time": "2022-11-14T12:10:27.113Z"
   },
   {
    "duration": 87,
    "start_time": "2022-11-14T12:11:04.249Z"
   },
   {
    "duration": 16,
    "start_time": "2022-11-14T12:11:14.432Z"
   },
   {
    "duration": 15,
    "start_time": "2022-11-14T12:11:24.266Z"
   },
   {
    "duration": 49,
    "start_time": "2022-11-14T12:11:35.182Z"
   },
   {
    "duration": 13,
    "start_time": "2022-11-14T12:11:42.326Z"
   },
   {
    "duration": 42,
    "start_time": "2022-11-14T12:12:01.132Z"
   },
   {
    "duration": 85,
    "start_time": "2022-11-14T12:26:07.019Z"
   },
   {
    "duration": 106,
    "start_time": "2022-11-14T12:26:16.986Z"
   },
   {
    "duration": 29,
    "start_time": "2022-11-14T12:26:38.820Z"
   },
   {
    "duration": 20,
    "start_time": "2022-11-14T12:26:41.987Z"
   },
   {
    "duration": 5,
    "start_time": "2022-11-14T12:26:44.981Z"
   },
   {
    "duration": 21,
    "start_time": "2022-11-14T12:26:45.291Z"
   },
   {
    "duration": 73,
    "start_time": "2022-11-14T12:26:46.552Z"
   },
   {
    "duration": 31,
    "start_time": "2022-11-14T12:26:47.424Z"
   },
   {
    "duration": 1315,
    "start_time": "2022-11-14T12:32:01.030Z"
   },
   {
    "duration": 469,
    "start_time": "2022-11-14T12:32:16.959Z"
   },
   {
    "duration": 432,
    "start_time": "2022-11-14T12:32:29.392Z"
   },
   {
    "duration": 492,
    "start_time": "2022-11-14T12:32:34.934Z"
   },
   {
    "duration": 445,
    "start_time": "2022-11-14T12:32:40.783Z"
   },
   {
    "duration": 482,
    "start_time": "2022-11-14T12:32:43.341Z"
   },
   {
    "duration": 4,
    "start_time": "2022-11-14T12:33:45.568Z"
   },
   {
    "duration": 617,
    "start_time": "2022-11-14T12:33:49.416Z"
   },
   {
    "duration": 25,
    "start_time": "2022-11-14T12:34:36.314Z"
   },
   {
    "duration": 12369,
    "start_time": "2022-11-14T12:34:51.533Z"
   },
   {
    "duration": 12239,
    "start_time": "2022-11-14T12:35:17.124Z"
   },
   {
    "duration": 12440,
    "start_time": "2022-11-14T12:36:02.525Z"
   },
   {
    "duration": 12008,
    "start_time": "2022-11-14T12:36:26.521Z"
   },
   {
    "duration": 43,
    "start_time": "2022-11-14T12:37:39.289Z"
   },
   {
    "duration": 91039,
    "start_time": "2022-11-14T12:37:52.383Z"
   },
   {
    "duration": 475,
    "start_time": "2022-11-14T12:40:10.352Z"
   },
   {
    "duration": 20,
    "start_time": "2022-11-14T12:40:13.863Z"
   },
   {
    "duration": 21,
    "start_time": "2022-11-14T12:45:12.694Z"
   },
   {
    "duration": 90542,
    "start_time": "2022-11-14T12:45:34.474Z"
   },
   {
    "duration": 21,
    "start_time": "2022-11-14T12:47:55.847Z"
   },
   {
    "duration": 17,
    "start_time": "2022-11-14T12:48:06.347Z"
   },
   {
    "duration": 91785,
    "start_time": "2022-11-14T12:48:16.419Z"
   },
   {
    "duration": 90549,
    "start_time": "2022-11-14T12:52:47.012Z"
   },
   {
    "duration": 22,
    "start_time": "2022-11-14T12:54:17.563Z"
   },
   {
    "duration": 1160,
    "start_time": "2022-11-14T13:13:36.781Z"
   },
   {
    "duration": 25,
    "start_time": "2022-11-14T13:13:37.943Z"
   },
   {
    "duration": 18,
    "start_time": "2022-11-14T13:13:37.970Z"
   },
   {
    "duration": 12,
    "start_time": "2022-11-14T13:13:37.989Z"
   },
   {
    "duration": 19,
    "start_time": "2022-11-14T13:13:38.003Z"
   },
   {
    "duration": 16,
    "start_time": "2022-11-14T13:13:38.024Z"
   },
   {
    "duration": 9,
    "start_time": "2022-11-14T13:13:38.042Z"
   },
   {
    "duration": 5,
    "start_time": "2022-11-14T13:13:38.143Z"
   },
   {
    "duration": 4,
    "start_time": "2022-11-14T13:13:38.281Z"
   },
   {
    "duration": 6,
    "start_time": "2022-11-14T13:13:38.420Z"
   },
   {
    "duration": 6,
    "start_time": "2022-11-14T13:13:38.566Z"
   },
   {
    "duration": 12900,
    "start_time": "2022-11-14T13:13:39.115Z"
   },
   {
    "duration": 55,
    "start_time": "2022-11-14T13:13:52.017Z"
   },
   {
    "duration": 94624,
    "start_time": "2022-11-14T13:13:52.075Z"
   },
   {
    "duration": 5,
    "start_time": "2022-11-14T13:15:26.702Z"
   },
   {
    "duration": 39,
    "start_time": "2022-11-14T13:15:26.708Z"
   },
   {
    "duration": 25,
    "start_time": "2022-11-14T13:15:26.749Z"
   },
   {
    "duration": 1089,
    "start_time": "2022-11-14T16:40:51.573Z"
   },
   {
    "duration": 129,
    "start_time": "2022-11-14T16:40:52.663Z"
   },
   {
    "duration": 15,
    "start_time": "2022-11-14T16:40:53.812Z"
   },
   {
    "duration": 12,
    "start_time": "2022-11-14T16:40:54.212Z"
   },
   {
    "duration": 7,
    "start_time": "2022-11-14T16:40:55.955Z"
   },
   {
    "duration": 9,
    "start_time": "2022-11-14T16:40:56.290Z"
   },
   {
    "duration": 5,
    "start_time": "2022-11-14T16:41:01.789Z"
   },
   {
    "duration": 4,
    "start_time": "2022-11-14T16:41:03.301Z"
   },
   {
    "duration": 4,
    "start_time": "2022-11-14T16:41:04.088Z"
   },
   {
    "duration": 6,
    "start_time": "2022-11-14T16:41:16.416Z"
   },
   {
    "duration": 5,
    "start_time": "2022-11-14T16:41:17.123Z"
   },
   {
    "duration": 11912,
    "start_time": "2022-11-14T16:45:35.372Z"
   },
   {
    "duration": 8,
    "start_time": "2022-11-14T20:25:26.438Z"
   },
   {
    "duration": 11,
    "start_time": "2022-11-14T20:27:34.371Z"
   },
   {
    "duration": 8,
    "start_time": "2022-11-14T20:28:07.406Z"
   },
   {
    "duration": 113,
    "start_time": "2022-11-14T20:33:42.261Z"
   },
   {
    "duration": 3,
    "start_time": "2022-11-14T20:33:46.824Z"
   },
   {
    "duration": 3,
    "start_time": "2022-11-14T20:33:47.124Z"
   },
   {
    "duration": 3,
    "start_time": "2022-11-14T20:33:47.696Z"
   },
   {
    "duration": 57537,
    "start_time": "2022-11-14T20:33:55.424Z"
   },
   {
    "duration": 4,
    "start_time": "2022-11-14T20:35:44.253Z"
   },
   {
    "duration": 4,
    "start_time": "2022-11-14T20:36:09.230Z"
   },
   {
    "duration": 5,
    "start_time": "2022-11-14T20:36:19.105Z"
   },
   {
    "duration": 44,
    "start_time": "2022-11-14T20:40:52.998Z"
   },
   {
    "duration": 9,
    "start_time": "2022-11-14T20:41:08.728Z"
   },
   {
    "duration": 3,
    "start_time": "2022-11-14T20:41:44.887Z"
   },
   {
    "duration": 2,
    "start_time": "2022-11-14T20:41:47.223Z"
   },
   {
    "duration": 2,
    "start_time": "2022-11-14T20:41:52.797Z"
   },
   {
    "duration": 559644,
    "start_time": "2022-11-14T20:41:58.170Z"
   },
   {
    "duration": 3,
    "start_time": "2022-11-14T20:51:30.738Z"
   },
   {
    "duration": 3,
    "start_time": "2022-11-14T20:51:31.174Z"
   },
   {
    "duration": 375045,
    "start_time": "2022-11-14T20:51:40.274Z"
   },
   {
    "duration": 4,
    "start_time": "2022-11-14T20:57:55.322Z"
   },
   {
    "duration": 7,
    "start_time": "2022-11-14T20:57:55.328Z"
   },
   {
    "duration": 3,
    "start_time": "2022-11-14T21:01:24.124Z"
   },
   {
    "duration": 3,
    "start_time": "2022-11-14T21:01:25.907Z"
   },
   {
    "duration": 3,
    "start_time": "2022-11-14T21:01:26.250Z"
   },
   {
    "duration": 23,
    "start_time": "2022-11-14T21:01:27.949Z"
   },
   {
    "duration": 2,
    "start_time": "2022-11-14T21:01:54.468Z"
   },
   {
    "duration": 3,
    "start_time": "2022-11-14T21:01:54.974Z"
   },
   {
    "duration": 25,
    "start_time": "2022-11-14T21:01:55.212Z"
   },
   {
    "duration": 3,
    "start_time": "2022-11-14T21:01:59.230Z"
   },
   {
    "duration": 3,
    "start_time": "2022-11-14T21:01:59.971Z"
   },
   {
    "duration": 21,
    "start_time": "2022-11-14T21:02:00.179Z"
   },
   {
    "duration": 3,
    "start_time": "2022-11-14T21:02:09.790Z"
   },
   {
    "duration": 3,
    "start_time": "2022-11-14T21:02:09.988Z"
   },
   {
    "duration": 30,
    "start_time": "2022-11-14T21:02:10.151Z"
   },
   {
    "duration": 3,
    "start_time": "2022-11-14T21:02:16.515Z"
   },
   {
    "duration": 4,
    "start_time": "2022-11-14T21:02:16.719Z"
   },
   {
    "duration": 21,
    "start_time": "2022-11-14T21:02:16.912Z"
   },
   {
    "duration": 5,
    "start_time": "2022-11-14T21:02:25.728Z"
   },
   {
    "duration": 4,
    "start_time": "2022-11-14T21:02:25.910Z"
   },
   {
    "duration": 26,
    "start_time": "2022-11-14T21:02:26.059Z"
   },
   {
    "duration": 2,
    "start_time": "2022-11-14T21:02:31.383Z"
   },
   {
    "duration": 3,
    "start_time": "2022-11-14T21:02:31.554Z"
   },
   {
    "duration": 18,
    "start_time": "2022-11-14T21:02:31.713Z"
   },
   {
    "duration": 3,
    "start_time": "2022-11-14T21:02:56.313Z"
   },
   {
    "duration": 4,
    "start_time": "2022-11-14T21:02:56.498Z"
   },
   {
    "duration": 441,
    "start_time": "2022-11-14T21:02:56.671Z"
   },
   {
    "duration": 3,
    "start_time": "2022-11-14T21:03:42.717Z"
   },
   {
    "duration": 3,
    "start_time": "2022-11-14T21:03:43.962Z"
   },
   {
    "duration": 73,
    "start_time": "2022-11-14T21:03:44.275Z"
   },
   {
    "duration": 3,
    "start_time": "2022-11-14T21:04:01.925Z"
   },
   {
    "duration": 4,
    "start_time": "2022-11-14T21:04:02.314Z"
   },
   {
    "duration": 80,
    "start_time": "2022-11-14T21:04:02.570Z"
   },
   {
    "duration": 2,
    "start_time": "2022-11-14T21:04:31.604Z"
   },
   {
    "duration": 2,
    "start_time": "2022-11-14T21:04:31.828Z"
   },
   {
    "duration": 226,
    "start_time": "2022-11-14T21:04:32.111Z"
   },
   {
    "duration": 3,
    "start_time": "2022-11-14T21:04:35.982Z"
   },
   {
    "duration": 3,
    "start_time": "2022-11-14T21:04:44.526Z"
   },
   {
    "duration": 6,
    "start_time": "2022-11-14T21:04:44.719Z"
   },
   {
    "duration": 3,
    "start_time": "2022-11-14T21:04:44.895Z"
   },
   {
    "duration": 3,
    "start_time": "2022-11-14T21:04:45.049Z"
   },
   {
    "duration": 2,
    "start_time": "2022-11-14T21:04:45.202Z"
   },
   {
    "duration": 91383,
    "start_time": "2022-11-14T21:04:45.424Z"
   },
   {
    "duration": 3,
    "start_time": "2022-11-14T21:07:49.852Z"
   },
   {
    "duration": 3,
    "start_time": "2022-11-14T21:07:50.089Z"
   },
   {
    "duration": 304515,
    "start_time": "2022-11-14T21:07:50.333Z"
   },
   {
    "duration": 9,
    "start_time": "2022-11-14T21:12:54.850Z"
   },
   {
    "duration": 2,
    "start_time": "2022-11-14T21:12:59.727Z"
   },
   {
    "duration": 13095,
    "start_time": "2022-11-14T21:13:00.118Z"
   },
   {
    "duration": 9,
    "start_time": "2022-11-14T21:13:13.215Z"
   },
   {
    "duration": 3,
    "start_time": "2022-11-14T21:13:14.750Z"
   },
   {
    "duration": 167253,
    "start_time": "2022-11-14T21:13:15.082Z"
   },
   {
    "duration": 3,
    "start_time": "2022-11-14T21:16:02.337Z"
   },
   {
    "duration": 4,
    "start_time": "2022-11-14T21:19:39.106Z"
   },
   {
    "duration": 4,
    "start_time": "2022-11-14T21:19:39.407Z"
   },
   {
    "duration": 3,
    "start_time": "2022-11-14T21:19:39.702Z"
   },
   {
    "duration": 3,
    "start_time": "2022-11-14T21:19:39.990Z"
   },
   {
    "duration": 3,
    "start_time": "2022-11-14T21:19:40.906Z"
   },
   {
    "duration": 168676,
    "start_time": "2022-11-14T21:19:41.478Z"
   },
   {
    "duration": 2,
    "start_time": "2022-11-14T21:22:30.156Z"
   },
   {
    "duration": 12,
    "start_time": "2022-11-14T21:22:30.160Z"
   },
   {
    "duration": 2,
    "start_time": "2022-11-14T21:23:52.237Z"
   },
   {
    "duration": 11,
    "start_time": "2022-11-14T21:23:52.518Z"
   },
   {
    "duration": 9,
    "start_time": "2022-11-14T21:23:52.785Z"
   },
   {
    "duration": 3,
    "start_time": "2022-11-14T21:24:12.588Z"
   },
   {
    "duration": 3,
    "start_time": "2022-11-14T21:24:29.621Z"
   },
   {
    "duration": 3,
    "start_time": "2022-11-14T21:24:29.877Z"
   },
   {
    "duration": 3,
    "start_time": "2022-11-14T21:24:31.635Z"
   },
   {
    "duration": 3,
    "start_time": "2022-11-14T21:24:31.848Z"
   },
   {
    "duration": 33049,
    "start_time": "2022-11-14T21:24:33.490Z"
   },
   {
    "duration": 3,
    "start_time": "2022-11-14T21:25:06.540Z"
   },
   {
    "duration": 14,
    "start_time": "2022-11-14T21:25:06.544Z"
   },
   {
    "duration": 9,
    "start_time": "2022-11-14T21:26:49.206Z"
   },
   {
    "duration": 3,
    "start_time": "2022-11-14T21:26:57.980Z"
   },
   {
    "duration": 3,
    "start_time": "2022-11-14T21:26:58.271Z"
   },
   {
    "duration": 8,
    "start_time": "2022-11-14T21:30:37.497Z"
   },
   {
    "duration": 9,
    "start_time": "2022-11-14T21:30:56.902Z"
   },
   {
    "duration": 2,
    "start_time": "2022-11-14T21:31:18.194Z"
   },
   {
    "duration": 3,
    "start_time": "2022-11-14T21:31:18.720Z"
   },
   {
    "duration": 3,
    "start_time": "2022-11-14T21:31:19.019Z"
   },
   {
    "duration": 230,
    "start_time": "2022-11-14T21:31:19.397Z"
   },
   {
    "duration": 3,
    "start_time": "2022-11-14T21:31:23.046Z"
   },
   {
    "duration": 3,
    "start_time": "2022-11-14T21:31:23.498Z"
   },
   {
    "duration": 3,
    "start_time": "2022-11-14T21:31:43.700Z"
   },
   {
    "duration": 30,
    "start_time": "2022-11-14T21:31:44.066Z"
   },
   {
    "duration": 9,
    "start_time": "2022-11-14T21:31:44.232Z"
   },
   {
    "duration": 10,
    "start_time": "2022-11-14T21:31:44.398Z"
   },
   {
    "duration": 4,
    "start_time": "2022-11-14T21:31:44.735Z"
   },
   {
    "duration": 12,
    "start_time": "2022-11-14T21:31:44.883Z"
   },
   {
    "duration": 5,
    "start_time": "2022-11-14T21:31:45.385Z"
   },
   {
    "duration": 4,
    "start_time": "2022-11-14T21:31:45.563Z"
   },
   {
    "duration": 4,
    "start_time": "2022-11-14T21:31:45.724Z"
   },
   {
    "duration": 6,
    "start_time": "2022-11-14T21:31:45.902Z"
   },
   {
    "duration": 4,
    "start_time": "2022-11-14T21:31:46.075Z"
   },
   {
    "duration": 10161,
    "start_time": "2022-11-14T21:31:47.273Z"
   },
   {
    "duration": 3,
    "start_time": "2022-11-14T21:31:57.436Z"
   },
   {
    "duration": 10,
    "start_time": "2022-11-14T21:31:57.441Z"
   },
   {
    "duration": 5,
    "start_time": "2022-11-14T21:31:57.453Z"
   },
   {
    "duration": 4,
    "start_time": "2022-11-14T21:31:57.460Z"
   },
   {
    "duration": 3,
    "start_time": "2022-11-14T21:31:57.476Z"
   },
   {
    "duration": 169879,
    "start_time": "2022-11-14T21:31:57.480Z"
   },
   {
    "duration": 2,
    "start_time": "2022-11-14T21:34:47.361Z"
   },
   {
    "duration": 12,
    "start_time": "2022-11-14T21:34:47.365Z"
   },
   {
    "duration": 24,
    "start_time": "2022-11-14T21:34:47.380Z"
   },
   {
    "duration": 2,
    "start_time": "2022-11-14T21:34:47.406Z"
   },
   {
    "duration": 5,
    "start_time": "2022-11-14T21:34:47.409Z"
   },
   {
    "duration": 5,
    "start_time": "2022-11-14T21:34:47.416Z"
   },
   {
    "duration": 31001,
    "start_time": "2022-11-14T21:34:47.422Z"
   },
   {
    "duration": 3,
    "start_time": "2022-11-14T21:35:18.425Z"
   },
   {
    "duration": 14,
    "start_time": "2022-11-14T21:35:18.429Z"
   },
   {
    "duration": 79317,
    "start_time": "2022-11-14T21:35:18.444Z"
   },
   {
    "duration": 3,
    "start_time": "2022-11-14T21:36:37.762Z"
   },
   {
    "duration": 27,
    "start_time": "2022-11-14T21:36:37.766Z"
   },
   {
    "duration": 17,
    "start_time": "2022-11-14T21:36:37.795Z"
   },
   {
    "duration": 265,
    "start_time": "2022-11-14T21:36:37.813Z"
   },
   {
    "duration": 2,
    "start_time": "2022-11-14T21:36:38.080Z"
   },
   {
    "duration": 31,
    "start_time": "2022-11-14T21:36:38.083Z"
   },
   {
    "duration": 970,
    "start_time": "2022-11-14T22:03:09.638Z"
   },
   {
    "duration": 30,
    "start_time": "2022-11-14T22:03:10.610Z"
   },
   {
    "duration": 15,
    "start_time": "2022-11-14T22:03:10.642Z"
   },
   {
    "duration": 10,
    "start_time": "2022-11-14T22:03:10.660Z"
   },
   {
    "duration": 6,
    "start_time": "2022-11-14T22:03:10.671Z"
   },
   {
    "duration": 11,
    "start_time": "2022-11-14T22:03:10.678Z"
   },
   {
    "duration": 5,
    "start_time": "2022-11-14T22:03:10.690Z"
   },
   {
    "duration": 8,
    "start_time": "2022-11-14T22:03:10.696Z"
   },
   {
    "duration": 6,
    "start_time": "2022-11-14T22:03:10.705Z"
   },
   {
    "duration": 8,
    "start_time": "2022-11-14T22:03:10.713Z"
   },
   {
    "duration": 6,
    "start_time": "2022-11-14T22:03:10.722Z"
   },
   {
    "duration": 10289,
    "start_time": "2022-11-14T22:03:10.729Z"
   },
   {
    "duration": 4,
    "start_time": "2022-11-14T22:03:21.020Z"
   },
   {
    "duration": 9,
    "start_time": "2022-11-14T22:03:21.025Z"
   },
   {
    "duration": 5,
    "start_time": "2022-11-14T22:03:21.036Z"
   },
   {
    "duration": 18,
    "start_time": "2022-11-14T22:03:21.043Z"
   },
   {
    "duration": 13,
    "start_time": "2022-11-14T22:03:21.062Z"
   },
   {
    "duration": 172615,
    "start_time": "2022-11-14T22:03:21.077Z"
   },
   {
    "duration": 3,
    "start_time": "2022-11-14T22:06:13.694Z"
   },
   {
    "duration": 36,
    "start_time": "2022-11-14T22:06:13.699Z"
   },
   {
    "duration": 59,
    "start_time": "2022-11-14T22:06:13.737Z"
   },
   {
    "duration": 13,
    "start_time": "2022-11-14T22:06:13.797Z"
   },
   {
    "duration": 15,
    "start_time": "2022-11-14T22:06:13.811Z"
   },
   {
    "duration": 19,
    "start_time": "2022-11-14T22:06:13.827Z"
   },
   {
    "duration": 32362,
    "start_time": "2022-11-14T22:06:13.847Z"
   },
   {
    "duration": 3,
    "start_time": "2022-11-14T22:06:46.210Z"
   },
   {
    "duration": 8,
    "start_time": "2022-11-14T22:06:46.214Z"
   },
   {
    "duration": 79156,
    "start_time": "2022-11-14T22:06:46.227Z"
   },
   {
    "duration": 3,
    "start_time": "2022-11-14T22:08:05.385Z"
   },
   {
    "duration": 7,
    "start_time": "2022-11-14T22:08:05.390Z"
   },
   {
    "duration": 12,
    "start_time": "2022-11-14T22:08:05.399Z"
   },
   {
    "duration": 270,
    "start_time": "2022-11-14T22:08:05.413Z"
   },
   {
    "duration": 3,
    "start_time": "2022-11-14T22:08:05.685Z"
   },
   {
    "duration": 9,
    "start_time": "2022-11-14T22:08:05.690Z"
   },
   {
    "duration": 8,
    "start_time": "2022-11-14T22:08:05.701Z"
   },
   {
    "duration": 27,
    "start_time": "2022-11-14T22:08:05.710Z"
   },
   {
    "duration": 38,
    "start_time": "2022-11-14T22:08:05.739Z"
   },
   {
    "duration": 5,
    "start_time": "2022-11-14T22:08:05.778Z"
   },
   {
    "duration": 97,
    "start_time": "2022-11-14T22:12:17.924Z"
   },
   {
    "duration": 17,
    "start_time": "2022-11-14T22:13:55.700Z"
   },
   {
    "duration": 47124,
    "start_time": "2022-11-14T22:14:02.642Z"
   },
   {
    "duration": 81726,
    "start_time": "2022-11-14T22:15:06.131Z"
   },
   {
    "duration": 4,
    "start_time": "2022-11-14T22:16:49.529Z"
   },
   {
    "duration": 84,
    "start_time": "2022-11-14T22:17:01.005Z"
   },
   {
    "duration": 55,
    "start_time": "2022-11-14T22:17:25.008Z"
   },
   {
    "duration": 2,
    "start_time": "2022-11-14T22:17:42.169Z"
   },
   {
    "duration": 389,
    "start_time": "2022-11-14T22:17:42.984Z"
   },
   {
    "duration": 17,
    "start_time": "2022-11-14T22:23:28.509Z"
   },
   {
    "duration": 3,
    "start_time": "2022-11-14T22:26:27.643Z"
   },
   {
    "duration": 6,
    "start_time": "2022-11-14T22:27:39.638Z"
   },
   {
    "duration": 10,
    "start_time": "2022-11-14T22:31:38.506Z"
   },
   {
    "duration": 3,
    "start_time": "2022-11-14T22:31:53.147Z"
   },
   {
    "duration": 501,
    "start_time": "2022-11-14T22:31:57.977Z"
   },
   {
    "duration": 21,
    "start_time": "2022-11-14T22:32:27.979Z"
   },
   {
    "duration": 199,
    "start_time": "2022-11-14T22:32:39.072Z"
   },
   {
    "duration": 120,
    "start_time": "2022-11-14T22:33:26.466Z"
   },
   {
    "duration": 6,
    "start_time": "2022-11-14T22:33:32.264Z"
   },
   {
    "duration": 5,
    "start_time": "2022-11-14T22:33:44.407Z"
   },
   {
    "duration": 5,
    "start_time": "2022-11-14T22:33:54.882Z"
   },
   {
    "duration": 5,
    "start_time": "2022-11-14T22:33:56.388Z"
   },
   {
    "duration": 138,
    "start_time": "2022-11-14T22:34:08.717Z"
   },
   {
    "duration": 1039,
    "start_time": "2022-11-14T22:36:53.539Z"
   },
   {
    "duration": 30,
    "start_time": "2022-11-14T22:36:54.581Z"
   },
   {
    "duration": 16,
    "start_time": "2022-11-14T22:36:54.612Z"
   },
   {
    "duration": 11,
    "start_time": "2022-11-14T22:36:54.629Z"
   },
   {
    "duration": 8,
    "start_time": "2022-11-14T22:36:54.641Z"
   },
   {
    "duration": 13,
    "start_time": "2022-11-14T22:36:54.650Z"
   },
   {
    "duration": 7,
    "start_time": "2022-11-14T22:36:54.664Z"
   },
   {
    "duration": 5,
    "start_time": "2022-11-14T22:36:54.672Z"
   },
   {
    "duration": 6,
    "start_time": "2022-11-14T22:36:54.678Z"
   },
   {
    "duration": 6,
    "start_time": "2022-11-14T22:36:54.686Z"
   },
   {
    "duration": 5,
    "start_time": "2022-11-14T22:36:54.693Z"
   },
   {
    "duration": 8,
    "start_time": "2022-11-14T22:36:54.699Z"
   },
   {
    "duration": 10578,
    "start_time": "2022-11-14T22:36:54.709Z"
   },
   {
    "duration": 5,
    "start_time": "2022-11-14T22:37:05.290Z"
   },
   {
    "duration": 16,
    "start_time": "2022-11-14T22:37:05.297Z"
   },
   {
    "duration": 9,
    "start_time": "2022-11-14T22:37:05.315Z"
   },
   {
    "duration": 22,
    "start_time": "2022-11-14T22:37:05.325Z"
   },
   {
    "duration": 13,
    "start_time": "2022-11-14T22:37:05.350Z"
   },
   {
    "duration": 136686,
    "start_time": "2022-11-14T22:37:05.364Z"
   },
   {
    "duration": 10,
    "start_time": "2022-11-14T22:39:22.052Z"
   },
   {
    "duration": 0,
    "start_time": "2022-11-14T22:39:22.064Z"
   },
   {
    "duration": 0,
    "start_time": "2022-11-14T22:39:22.065Z"
   },
   {
    "duration": 0,
    "start_time": "2022-11-14T22:39:22.066Z"
   },
   {
    "duration": 0,
    "start_time": "2022-11-14T22:39:22.068Z"
   },
   {
    "duration": 0,
    "start_time": "2022-11-14T22:39:22.069Z"
   },
   {
    "duration": 0,
    "start_time": "2022-11-14T22:39:22.071Z"
   },
   {
    "duration": 0,
    "start_time": "2022-11-14T22:39:22.072Z"
   },
   {
    "duration": 0,
    "start_time": "2022-11-14T22:39:22.073Z"
   },
   {
    "duration": 0,
    "start_time": "2022-11-14T22:39:22.074Z"
   },
   {
    "duration": 0,
    "start_time": "2022-11-14T22:39:22.076Z"
   },
   {
    "duration": 0,
    "start_time": "2022-11-14T22:39:22.077Z"
   },
   {
    "duration": 0,
    "start_time": "2022-11-14T22:39:22.078Z"
   },
   {
    "duration": 0,
    "start_time": "2022-11-14T22:39:22.080Z"
   },
   {
    "duration": 0,
    "start_time": "2022-11-14T22:39:22.081Z"
   },
   {
    "duration": 0,
    "start_time": "2022-11-14T22:39:22.082Z"
   },
   {
    "duration": 0,
    "start_time": "2022-11-14T22:39:22.084Z"
   },
   {
    "duration": 0,
    "start_time": "2022-11-14T22:39:22.085Z"
   },
   {
    "duration": 0,
    "start_time": "2022-11-14T22:39:22.086Z"
   },
   {
    "duration": 0,
    "start_time": "2022-11-14T22:39:22.087Z"
   },
   {
    "duration": 0,
    "start_time": "2022-11-14T22:39:22.090Z"
   },
   {
    "duration": 0,
    "start_time": "2022-11-14T22:39:22.091Z"
   },
   {
    "duration": 1014,
    "start_time": "2022-11-14T22:40:38.139Z"
   },
   {
    "duration": 30,
    "start_time": "2022-11-14T22:40:39.155Z"
   },
   {
    "duration": 14,
    "start_time": "2022-11-14T22:40:39.186Z"
   },
   {
    "duration": 10,
    "start_time": "2022-11-14T22:40:39.201Z"
   },
   {
    "duration": 3,
    "start_time": "2022-11-14T22:40:39.213Z"
   },
   {
    "duration": 11,
    "start_time": "2022-11-14T22:40:39.218Z"
   },
   {
    "duration": 7,
    "start_time": "2022-11-14T22:40:39.231Z"
   },
   {
    "duration": 5,
    "start_time": "2022-11-14T22:40:39.239Z"
   },
   {
    "duration": 31,
    "start_time": "2022-11-14T22:40:39.245Z"
   },
   {
    "duration": 7,
    "start_time": "2022-11-14T22:40:39.278Z"
   },
   {
    "duration": 3,
    "start_time": "2022-11-14T22:40:39.286Z"
   },
   {
    "duration": 6,
    "start_time": "2022-11-14T22:40:39.291Z"
   },
   {
    "duration": 10178,
    "start_time": "2022-11-14T22:40:39.298Z"
   },
   {
    "duration": 3,
    "start_time": "2022-11-14T22:40:49.477Z"
   },
   {
    "duration": 6,
    "start_time": "2022-11-14T22:40:49.482Z"
   },
   {
    "duration": 3,
    "start_time": "2022-11-14T22:40:49.490Z"
   },
   {
    "duration": 5,
    "start_time": "2022-11-14T22:40:49.494Z"
   },
   {
    "duration": 7,
    "start_time": "2022-11-14T22:40:49.500Z"
   },
   {
    "duration": 166157,
    "start_time": "2022-11-14T22:40:49.508Z"
   },
   {
    "duration": 3,
    "start_time": "2022-11-14T22:43:35.667Z"
   },
   {
    "duration": 5,
    "start_time": "2022-11-14T22:43:35.676Z"
   },
   {
    "duration": 40,
    "start_time": "2022-11-14T22:43:35.683Z"
   },
   {
    "duration": 3,
    "start_time": "2022-11-14T22:43:35.724Z"
   },
   {
    "duration": 12,
    "start_time": "2022-11-14T22:43:35.729Z"
   },
   {
    "duration": 34,
    "start_time": "2022-11-14T22:43:35.743Z"
   },
   {
    "duration": 33427,
    "start_time": "2022-11-14T22:43:35.778Z"
   },
   {
    "duration": 3,
    "start_time": "2022-11-14T22:44:09.206Z"
   },
   {
    "duration": 14,
    "start_time": "2022-11-14T22:44:09.212Z"
   },
   {
    "duration": 80518,
    "start_time": "2022-11-14T22:44:09.227Z"
   },
   {
    "duration": 3,
    "start_time": "2022-11-14T22:45:29.747Z"
   },
   {
    "duration": 4,
    "start_time": "2022-11-14T22:45:29.752Z"
   },
   {
    "duration": 5,
    "start_time": "2022-11-14T22:45:29.758Z"
   },
   {
    "duration": 251,
    "start_time": "2022-11-14T22:45:29.764Z"
   },
   {
    "duration": 3,
    "start_time": "2022-11-14T22:45:30.016Z"
   },
   {
    "duration": 14,
    "start_time": "2022-11-14T22:45:30.020Z"
   },
   {
    "duration": 15,
    "start_time": "2022-11-14T22:45:30.036Z"
   },
   {
    "duration": 14,
    "start_time": "2022-11-14T22:45:30.053Z"
   },
   {
    "duration": 23,
    "start_time": "2022-11-14T22:45:30.068Z"
   },
   {
    "duration": 378,
    "start_time": "2022-11-14T22:45:30.093Z"
   },
   {
    "duration": 17,
    "start_time": "2022-11-14T22:45:30.476Z"
   },
   {
    "duration": 13,
    "start_time": "2022-11-14T22:45:30.494Z"
   }
  ],
  "kernelspec": {
   "display_name": "Python 3 (ipykernel)",
   "language": "python",
   "name": "python3"
  },
  "language_info": {
   "codemirror_mode": {
    "name": "ipython",
    "version": 3
   },
   "file_extension": ".py",
   "mimetype": "text/x-python",
   "name": "python",
   "nbconvert_exporter": "python",
   "pygments_lexer": "ipython3",
   "version": "3.9.7"
  },
  "toc": {
   "base_numbering": 1,
   "nav_menu": {},
   "number_sections": true,
   "sideBar": true,
   "skip_h1_title": true,
   "title_cell": "Table of Contents",
   "title_sidebar": "Contents",
   "toc_cell": false,
   "toc_position": {},
   "toc_section_display": true,
   "toc_window_display": false
  }
 },
 "nbformat": 4,
 "nbformat_minor": 2
}
