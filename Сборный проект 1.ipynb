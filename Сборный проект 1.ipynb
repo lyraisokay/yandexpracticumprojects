{
 "cells": [
  {
   "cell_type": "markdown",
   "id": "2f786d59",
   "metadata": {},
   "source": [
    "# Описание проекта\n",
    "\n",
    "Вы работаете в интернет-магазине «Стримчик», который продаёт по всему миру компьютерные игры. Из открытых источников доступны исторические данные о продажах игр, оценки пользователей и экспертов, жанры и платформы (например, Xbox или PlayStation). Вам нужно выявить определяющие успешность игры закономерности. Это позволит сделать ставку на потенциально популярный продукт и спланировать рекламные кампании.\n",
    "Перед вами данные до 2016 года. Представим, что сейчас декабрь 2016 г., и вы планируете кампанию на 2017-й. Нужно отработать принцип работы с данными. Неважно, прогнозируете ли вы продажи на 2017 год по данным 2016-го или же 2027-й — по данным 2026 года.\n",
    "В наборе данных попадается аббревиатура ESRB (Entertainment Software Rating Board) — это ассоциация, определяющая возрастной рейтинг компьютерных игр. ESRB оценивает игровой контент и присваивает ему подходящую возрастную категорию, например, «Для взрослых», «Для детей младшего возраста» или «Для подростков»."
   ]
  },
  {
   "cell_type": "markdown",
   "id": "e87889f2",
   "metadata": {},
   "source": [
    "## Подготовьте данные"
   ]
  },
  {
   "cell_type": "code",
   "execution_count": 3,
   "id": "3c7d7177",
   "metadata": {},
   "outputs": [],
   "source": [
    "import pandas as pd\n",
    "import numpy as np\n",
    "import matplotlib.pyplot as plt\n",
    "import seaborn as sns\n",
    "import scipy.stats as st\n",
    "import statsmodels"
   ]
  },
  {
   "cell_type": "code",
   "execution_count": 4,
   "id": "3ad425a0",
   "metadata": {},
   "outputs": [],
   "source": [
    "data = pd.read_csv('/datasets/games.csv')"
   ]
  },
  {
   "cell_type": "code",
   "execution_count": 5,
   "id": "7530060d",
   "metadata": {},
   "outputs": [
    {
     "data": {
      "text/html": [
       "<div>\n",
       "<style scoped>\n",
       "    .dataframe tbody tr th:only-of-type {\n",
       "        vertical-align: middle;\n",
       "    }\n",
       "\n",
       "    .dataframe tbody tr th {\n",
       "        vertical-align: top;\n",
       "    }\n",
       "\n",
       "    .dataframe thead th {\n",
       "        text-align: right;\n",
       "    }\n",
       "</style>\n",
       "<table border=\"1\" class=\"dataframe\">\n",
       "  <thead>\n",
       "    <tr style=\"text-align: right;\">\n",
       "      <th></th>\n",
       "      <th>Name</th>\n",
       "      <th>Platform</th>\n",
       "      <th>Year_of_Release</th>\n",
       "      <th>Genre</th>\n",
       "      <th>NA_sales</th>\n",
       "      <th>EU_sales</th>\n",
       "      <th>JP_sales</th>\n",
       "      <th>Other_sales</th>\n",
       "      <th>Critic_Score</th>\n",
       "      <th>User_Score</th>\n",
       "      <th>Rating</th>\n",
       "    </tr>\n",
       "  </thead>\n",
       "  <tbody>\n",
       "    <tr>\n",
       "      <th>0</th>\n",
       "      <td>Wii Sports</td>\n",
       "      <td>Wii</td>\n",
       "      <td>2006.0</td>\n",
       "      <td>Sports</td>\n",
       "      <td>41.36</td>\n",
       "      <td>28.96</td>\n",
       "      <td>3.77</td>\n",
       "      <td>8.45</td>\n",
       "      <td>76.0</td>\n",
       "      <td>8</td>\n",
       "      <td>E</td>\n",
       "    </tr>\n",
       "    <tr>\n",
       "      <th>1</th>\n",
       "      <td>Super Mario Bros.</td>\n",
       "      <td>NES</td>\n",
       "      <td>1985.0</td>\n",
       "      <td>Platform</td>\n",
       "      <td>29.08</td>\n",
       "      <td>3.58</td>\n",
       "      <td>6.81</td>\n",
       "      <td>0.77</td>\n",
       "      <td>NaN</td>\n",
       "      <td>NaN</td>\n",
       "      <td>NaN</td>\n",
       "    </tr>\n",
       "    <tr>\n",
       "      <th>2</th>\n",
       "      <td>Mario Kart Wii</td>\n",
       "      <td>Wii</td>\n",
       "      <td>2008.0</td>\n",
       "      <td>Racing</td>\n",
       "      <td>15.68</td>\n",
       "      <td>12.76</td>\n",
       "      <td>3.79</td>\n",
       "      <td>3.29</td>\n",
       "      <td>82.0</td>\n",
       "      <td>8.3</td>\n",
       "      <td>E</td>\n",
       "    </tr>\n",
       "    <tr>\n",
       "      <th>3</th>\n",
       "      <td>Wii Sports Resort</td>\n",
       "      <td>Wii</td>\n",
       "      <td>2009.0</td>\n",
       "      <td>Sports</td>\n",
       "      <td>15.61</td>\n",
       "      <td>10.93</td>\n",
       "      <td>3.28</td>\n",
       "      <td>2.95</td>\n",
       "      <td>80.0</td>\n",
       "      <td>8</td>\n",
       "      <td>E</td>\n",
       "    </tr>\n",
       "    <tr>\n",
       "      <th>4</th>\n",
       "      <td>Pokemon Red/Pokemon Blue</td>\n",
       "      <td>GB</td>\n",
       "      <td>1996.0</td>\n",
       "      <td>Role-Playing</td>\n",
       "      <td>11.27</td>\n",
       "      <td>8.89</td>\n",
       "      <td>10.22</td>\n",
       "      <td>1.00</td>\n",
       "      <td>NaN</td>\n",
       "      <td>NaN</td>\n",
       "      <td>NaN</td>\n",
       "    </tr>\n",
       "    <tr>\n",
       "      <th>5</th>\n",
       "      <td>Tetris</td>\n",
       "      <td>GB</td>\n",
       "      <td>1989.0</td>\n",
       "      <td>Puzzle</td>\n",
       "      <td>23.20</td>\n",
       "      <td>2.26</td>\n",
       "      <td>4.22</td>\n",
       "      <td>0.58</td>\n",
       "      <td>NaN</td>\n",
       "      <td>NaN</td>\n",
       "      <td>NaN</td>\n",
       "    </tr>\n",
       "    <tr>\n",
       "      <th>6</th>\n",
       "      <td>New Super Mario Bros.</td>\n",
       "      <td>DS</td>\n",
       "      <td>2006.0</td>\n",
       "      <td>Platform</td>\n",
       "      <td>11.28</td>\n",
       "      <td>9.14</td>\n",
       "      <td>6.50</td>\n",
       "      <td>2.88</td>\n",
       "      <td>89.0</td>\n",
       "      <td>8.5</td>\n",
       "      <td>E</td>\n",
       "    </tr>\n",
       "    <tr>\n",
       "      <th>7</th>\n",
       "      <td>Wii Play</td>\n",
       "      <td>Wii</td>\n",
       "      <td>2006.0</td>\n",
       "      <td>Misc</td>\n",
       "      <td>13.96</td>\n",
       "      <td>9.18</td>\n",
       "      <td>2.93</td>\n",
       "      <td>2.84</td>\n",
       "      <td>58.0</td>\n",
       "      <td>6.6</td>\n",
       "      <td>E</td>\n",
       "    </tr>\n",
       "    <tr>\n",
       "      <th>8</th>\n",
       "      <td>New Super Mario Bros. Wii</td>\n",
       "      <td>Wii</td>\n",
       "      <td>2009.0</td>\n",
       "      <td>Platform</td>\n",
       "      <td>14.44</td>\n",
       "      <td>6.94</td>\n",
       "      <td>4.70</td>\n",
       "      <td>2.24</td>\n",
       "      <td>87.0</td>\n",
       "      <td>8.4</td>\n",
       "      <td>E</td>\n",
       "    </tr>\n",
       "    <tr>\n",
       "      <th>9</th>\n",
       "      <td>Duck Hunt</td>\n",
       "      <td>NES</td>\n",
       "      <td>1984.0</td>\n",
       "      <td>Shooter</td>\n",
       "      <td>26.93</td>\n",
       "      <td>0.63</td>\n",
       "      <td>0.28</td>\n",
       "      <td>0.47</td>\n",
       "      <td>NaN</td>\n",
       "      <td>NaN</td>\n",
       "      <td>NaN</td>\n",
       "    </tr>\n",
       "  </tbody>\n",
       "</table>\n",
       "</div>"
      ],
      "text/plain": [
       "                        Name Platform  Year_of_Release         Genre  \\\n",
       "0                 Wii Sports      Wii           2006.0        Sports   \n",
       "1          Super Mario Bros.      NES           1985.0      Platform   \n",
       "2             Mario Kart Wii      Wii           2008.0        Racing   \n",
       "3          Wii Sports Resort      Wii           2009.0        Sports   \n",
       "4   Pokemon Red/Pokemon Blue       GB           1996.0  Role-Playing   \n",
       "5                     Tetris       GB           1989.0        Puzzle   \n",
       "6      New Super Mario Bros.       DS           2006.0      Platform   \n",
       "7                   Wii Play      Wii           2006.0          Misc   \n",
       "8  New Super Mario Bros. Wii      Wii           2009.0      Platform   \n",
       "9                  Duck Hunt      NES           1984.0       Shooter   \n",
       "\n",
       "   NA_sales  EU_sales  JP_sales  Other_sales  Critic_Score User_Score Rating  \n",
       "0     41.36     28.96      3.77         8.45          76.0          8      E  \n",
       "1     29.08      3.58      6.81         0.77           NaN        NaN    NaN  \n",
       "2     15.68     12.76      3.79         3.29          82.0        8.3      E  \n",
       "3     15.61     10.93      3.28         2.95          80.0          8      E  \n",
       "4     11.27      8.89     10.22         1.00           NaN        NaN    NaN  \n",
       "5     23.20      2.26      4.22         0.58           NaN        NaN    NaN  \n",
       "6     11.28      9.14      6.50         2.88          89.0        8.5      E  \n",
       "7     13.96      9.18      2.93         2.84          58.0        6.6      E  \n",
       "8     14.44      6.94      4.70         2.24          87.0        8.4      E  \n",
       "9     26.93      0.63      0.28         0.47           NaN        NaN    NaN  "
      ]
     },
     "execution_count": 5,
     "metadata": {},
     "output_type": "execute_result"
    }
   ],
   "source": [
    "data.head(10)"
   ]
  },
  {
   "cell_type": "markdown",
   "id": "dea40888",
   "metadata": {},
   "source": [
    "##### 1.Замените названия столбцов (приведите к нижнему регистру);"
   ]
  },
  {
   "cell_type": "code",
   "execution_count": 6,
   "id": "02bc6d0b",
   "metadata": {},
   "outputs": [],
   "source": [
    "data.columns = data.columns.str.lower()"
   ]
  },
  {
   "cell_type": "code",
   "execution_count": 7,
   "id": "ed53af1b",
   "metadata": {},
   "outputs": [
    {
     "data": {
      "text/html": [
       "<div>\n",
       "<style scoped>\n",
       "    .dataframe tbody tr th:only-of-type {\n",
       "        vertical-align: middle;\n",
       "    }\n",
       "\n",
       "    .dataframe tbody tr th {\n",
       "        vertical-align: top;\n",
       "    }\n",
       "\n",
       "    .dataframe thead th {\n",
       "        text-align: right;\n",
       "    }\n",
       "</style>\n",
       "<table border=\"1\" class=\"dataframe\">\n",
       "  <thead>\n",
       "    <tr style=\"text-align: right;\">\n",
       "      <th></th>\n",
       "      <th>name</th>\n",
       "      <th>platform</th>\n",
       "      <th>year_of_release</th>\n",
       "      <th>genre</th>\n",
       "      <th>na_sales</th>\n",
       "      <th>eu_sales</th>\n",
       "      <th>jp_sales</th>\n",
       "      <th>other_sales</th>\n",
       "      <th>critic_score</th>\n",
       "      <th>user_score</th>\n",
       "      <th>rating</th>\n",
       "    </tr>\n",
       "  </thead>\n",
       "  <tbody>\n",
       "    <tr>\n",
       "      <th>0</th>\n",
       "      <td>Wii Sports</td>\n",
       "      <td>Wii</td>\n",
       "      <td>2006.0</td>\n",
       "      <td>Sports</td>\n",
       "      <td>41.36</td>\n",
       "      <td>28.96</td>\n",
       "      <td>3.77</td>\n",
       "      <td>8.45</td>\n",
       "      <td>76.0</td>\n",
       "      <td>8</td>\n",
       "      <td>E</td>\n",
       "    </tr>\n",
       "    <tr>\n",
       "      <th>1</th>\n",
       "      <td>Super Mario Bros.</td>\n",
       "      <td>NES</td>\n",
       "      <td>1985.0</td>\n",
       "      <td>Platform</td>\n",
       "      <td>29.08</td>\n",
       "      <td>3.58</td>\n",
       "      <td>6.81</td>\n",
       "      <td>0.77</td>\n",
       "      <td>NaN</td>\n",
       "      <td>NaN</td>\n",
       "      <td>NaN</td>\n",
       "    </tr>\n",
       "    <tr>\n",
       "      <th>2</th>\n",
       "      <td>Mario Kart Wii</td>\n",
       "      <td>Wii</td>\n",
       "      <td>2008.0</td>\n",
       "      <td>Racing</td>\n",
       "      <td>15.68</td>\n",
       "      <td>12.76</td>\n",
       "      <td>3.79</td>\n",
       "      <td>3.29</td>\n",
       "      <td>82.0</td>\n",
       "      <td>8.3</td>\n",
       "      <td>E</td>\n",
       "    </tr>\n",
       "    <tr>\n",
       "      <th>3</th>\n",
       "      <td>Wii Sports Resort</td>\n",
       "      <td>Wii</td>\n",
       "      <td>2009.0</td>\n",
       "      <td>Sports</td>\n",
       "      <td>15.61</td>\n",
       "      <td>10.93</td>\n",
       "      <td>3.28</td>\n",
       "      <td>2.95</td>\n",
       "      <td>80.0</td>\n",
       "      <td>8</td>\n",
       "      <td>E</td>\n",
       "    </tr>\n",
       "    <tr>\n",
       "      <th>4</th>\n",
       "      <td>Pokemon Red/Pokemon Blue</td>\n",
       "      <td>GB</td>\n",
       "      <td>1996.0</td>\n",
       "      <td>Role-Playing</td>\n",
       "      <td>11.27</td>\n",
       "      <td>8.89</td>\n",
       "      <td>10.22</td>\n",
       "      <td>1.00</td>\n",
       "      <td>NaN</td>\n",
       "      <td>NaN</td>\n",
       "      <td>NaN</td>\n",
       "    </tr>\n",
       "    <tr>\n",
       "      <th>5</th>\n",
       "      <td>Tetris</td>\n",
       "      <td>GB</td>\n",
       "      <td>1989.0</td>\n",
       "      <td>Puzzle</td>\n",
       "      <td>23.20</td>\n",
       "      <td>2.26</td>\n",
       "      <td>4.22</td>\n",
       "      <td>0.58</td>\n",
       "      <td>NaN</td>\n",
       "      <td>NaN</td>\n",
       "      <td>NaN</td>\n",
       "    </tr>\n",
       "    <tr>\n",
       "      <th>6</th>\n",
       "      <td>New Super Mario Bros.</td>\n",
       "      <td>DS</td>\n",
       "      <td>2006.0</td>\n",
       "      <td>Platform</td>\n",
       "      <td>11.28</td>\n",
       "      <td>9.14</td>\n",
       "      <td>6.50</td>\n",
       "      <td>2.88</td>\n",
       "      <td>89.0</td>\n",
       "      <td>8.5</td>\n",
       "      <td>E</td>\n",
       "    </tr>\n",
       "    <tr>\n",
       "      <th>7</th>\n",
       "      <td>Wii Play</td>\n",
       "      <td>Wii</td>\n",
       "      <td>2006.0</td>\n",
       "      <td>Misc</td>\n",
       "      <td>13.96</td>\n",
       "      <td>9.18</td>\n",
       "      <td>2.93</td>\n",
       "      <td>2.84</td>\n",
       "      <td>58.0</td>\n",
       "      <td>6.6</td>\n",
       "      <td>E</td>\n",
       "    </tr>\n",
       "    <tr>\n",
       "      <th>8</th>\n",
       "      <td>New Super Mario Bros. Wii</td>\n",
       "      <td>Wii</td>\n",
       "      <td>2009.0</td>\n",
       "      <td>Platform</td>\n",
       "      <td>14.44</td>\n",
       "      <td>6.94</td>\n",
       "      <td>4.70</td>\n",
       "      <td>2.24</td>\n",
       "      <td>87.0</td>\n",
       "      <td>8.4</td>\n",
       "      <td>E</td>\n",
       "    </tr>\n",
       "    <tr>\n",
       "      <th>9</th>\n",
       "      <td>Duck Hunt</td>\n",
       "      <td>NES</td>\n",
       "      <td>1984.0</td>\n",
       "      <td>Shooter</td>\n",
       "      <td>26.93</td>\n",
       "      <td>0.63</td>\n",
       "      <td>0.28</td>\n",
       "      <td>0.47</td>\n",
       "      <td>NaN</td>\n",
       "      <td>NaN</td>\n",
       "      <td>NaN</td>\n",
       "    </tr>\n",
       "  </tbody>\n",
       "</table>\n",
       "</div>"
      ],
      "text/plain": [
       "                        name platform  year_of_release         genre  \\\n",
       "0                 Wii Sports      Wii           2006.0        Sports   \n",
       "1          Super Mario Bros.      NES           1985.0      Platform   \n",
       "2             Mario Kart Wii      Wii           2008.0        Racing   \n",
       "3          Wii Sports Resort      Wii           2009.0        Sports   \n",
       "4   Pokemon Red/Pokemon Blue       GB           1996.0  Role-Playing   \n",
       "5                     Tetris       GB           1989.0        Puzzle   \n",
       "6      New Super Mario Bros.       DS           2006.0      Platform   \n",
       "7                   Wii Play      Wii           2006.0          Misc   \n",
       "8  New Super Mario Bros. Wii      Wii           2009.0      Platform   \n",
       "9                  Duck Hunt      NES           1984.0       Shooter   \n",
       "\n",
       "   na_sales  eu_sales  jp_sales  other_sales  critic_score user_score rating  \n",
       "0     41.36     28.96      3.77         8.45          76.0          8      E  \n",
       "1     29.08      3.58      6.81         0.77           NaN        NaN    NaN  \n",
       "2     15.68     12.76      3.79         3.29          82.0        8.3      E  \n",
       "3     15.61     10.93      3.28         2.95          80.0          8      E  \n",
       "4     11.27      8.89     10.22         1.00           NaN        NaN    NaN  \n",
       "5     23.20      2.26      4.22         0.58           NaN        NaN    NaN  \n",
       "6     11.28      9.14      6.50         2.88          89.0        8.5      E  \n",
       "7     13.96      9.18      2.93         2.84          58.0        6.6      E  \n",
       "8     14.44      6.94      4.70         2.24          87.0        8.4      E  \n",
       "9     26.93      0.63      0.28         0.47           NaN        NaN    NaN  "
      ]
     },
     "execution_count": 7,
     "metadata": {},
     "output_type": "execute_result"
    }
   ],
   "source": [
    "data.head(10)"
   ]
  },
  {
   "cell_type": "code",
   "execution_count": 8,
   "id": "036cf057",
   "metadata": {},
   "outputs": [
    {
     "name": "stdout",
     "output_type": "stream",
     "text": [
      "<class 'pandas.core.frame.DataFrame'>\n",
      "RangeIndex: 16715 entries, 0 to 16714\n",
      "Data columns (total 11 columns):\n",
      " #   Column           Non-Null Count  Dtype  \n",
      "---  ------           --------------  -----  \n",
      " 0   name             16713 non-null  object \n",
      " 1   platform         16715 non-null  object \n",
      " 2   year_of_release  16446 non-null  float64\n",
      " 3   genre            16713 non-null  object \n",
      " 4   na_sales         16715 non-null  float64\n",
      " 5   eu_sales         16715 non-null  float64\n",
      " 6   jp_sales         16715 non-null  float64\n",
      " 7   other_sales      16715 non-null  float64\n",
      " 8   critic_score     8137 non-null   float64\n",
      " 9   user_score       10014 non-null  object \n",
      " 10  rating           9949 non-null   object \n",
      "dtypes: float64(6), object(5)\n",
      "memory usage: 1.4+ MB\n"
     ]
    }
   ],
   "source": [
    "data.info()"
   ]
  },
  {
   "cell_type": "markdown",
   "id": "100dd375",
   "metadata": {},
   "source": [
    "##### <br>2.Преобразуйте данные в нужные типы. Опишите, в каких столбцах заменили тип данных и почему;"
   ]
  },
  {
   "cell_type": "code",
   "execution_count": 9,
   "id": "3ac65d1d",
   "metadata": {},
   "outputs": [
    {
     "data": {
      "text/plain": [
       "name                  2\n",
       "platform              0\n",
       "year_of_release     269\n",
       "genre                 2\n",
       "na_sales              0\n",
       "eu_sales              0\n",
       "jp_sales              0\n",
       "other_sales           0\n",
       "critic_score       8578\n",
       "user_score         6701\n",
       "rating             6766\n",
       "dtype: int64"
      ]
     },
     "execution_count": 9,
     "metadata": {},
     "output_type": "execute_result"
    }
   ],
   "source": [
    "data.isna().sum()"
   ]
  },
  {
   "cell_type": "code",
   "execution_count": 10,
   "id": "e1a5f321",
   "metadata": {},
   "outputs": [
    {
     "data": {
      "text/plain": [
       "array([76., nan, 82., 80., 89., 58., 87., 91., 61., 97., 95., 77., 88.,\n",
       "       83., 94., 93., 85., 86., 98., 96., 90., 84., 73., 74., 78., 92.,\n",
       "       71., 72., 68., 62., 49., 67., 81., 66., 56., 79., 70., 59., 64.,\n",
       "       75., 60., 63., 69., 50., 25., 42., 44., 55., 48., 57., 29., 47.,\n",
       "       65., 54., 20., 53., 37., 38., 33., 52., 30., 32., 43., 45., 51.,\n",
       "       40., 46., 39., 34., 35., 41., 36., 28., 31., 27., 26., 19., 23.,\n",
       "       24., 21., 17., 22., 13.])"
      ]
     },
     "execution_count": 10,
     "metadata": {},
     "output_type": "execute_result"
    }
   ],
   "source": [
    "data['critic_score'].unique()"
   ]
  },
  {
   "cell_type": "code",
   "execution_count": 11,
   "id": "7e29eac8",
   "metadata": {},
   "outputs": [
    {
     "data": {
      "text/plain": [
       "array(['8', nan, '8.3', '8.5', '6.6', '8.4', '8.6', '7.7', '6.3', '7.4',\n",
       "       '8.2', '9', '7.9', '8.1', '8.7', '7.1', '3.4', '5.3', '4.8', '3.2',\n",
       "       '8.9', '6.4', '7.8', '7.5', '2.6', '7.2', '9.2', '7', '7.3', '4.3',\n",
       "       '7.6', '5.7', '5', '9.1', '6.5', 'tbd', '8.8', '6.9', '9.4', '6.8',\n",
       "       '6.1', '6.7', '5.4', '4', '4.9', '4.5', '9.3', '6.2', '4.2', '6',\n",
       "       '3.7', '4.1', '5.8', '5.6', '5.5', '4.4', '4.6', '5.9', '3.9',\n",
       "       '3.1', '2.9', '5.2', '3.3', '4.7', '5.1', '3.5', '2.5', '1.9', '3',\n",
       "       '2.7', '2.2', '2', '9.5', '2.1', '3.6', '2.8', '1.8', '3.8', '0',\n",
       "       '1.6', '9.6', '2.4', '1.7', '1.1', '0.3', '1.5', '0.7', '1.2',\n",
       "       '2.3', '0.5', '1.3', '0.2', '0.6', '1.4', '0.9', '1', '9.7'],\n",
       "      dtype=object)"
      ]
     },
     "execution_count": 11,
     "metadata": {},
     "output_type": "execute_result"
    }
   ],
   "source": [
    "data['user_score'].unique()"
   ]
  },
  {
   "cell_type": "code",
   "execution_count": 12,
   "id": "49d7752c",
   "metadata": {},
   "outputs": [
    {
     "data": {
      "text/plain": [
       "array(['E', nan, 'M', 'T', 'E10+', 'K-A', 'AO', 'EC', 'RP'], dtype=object)"
      ]
     },
     "execution_count": 12,
     "metadata": {},
     "output_type": "execute_result"
    }
   ],
   "source": [
    "data['rating'].unique()"
   ]
  },
  {
   "cell_type": "code",
   "execution_count": 13,
   "id": "34916b80",
   "metadata": {},
   "outputs": [
    {
     "data": {
      "text/html": [
       "<div>\n",
       "<style scoped>\n",
       "    .dataframe tbody tr th:only-of-type {\n",
       "        vertical-align: middle;\n",
       "    }\n",
       "\n",
       "    .dataframe tbody tr th {\n",
       "        vertical-align: top;\n",
       "    }\n",
       "\n",
       "    .dataframe thead th {\n",
       "        text-align: right;\n",
       "    }\n",
       "</style>\n",
       "<table border=\"1\" class=\"dataframe\">\n",
       "  <thead>\n",
       "    <tr style=\"text-align: right;\">\n",
       "      <th></th>\n",
       "      <th>name</th>\n",
       "      <th>platform</th>\n",
       "      <th>year_of_release</th>\n",
       "      <th>genre</th>\n",
       "      <th>na_sales</th>\n",
       "      <th>eu_sales</th>\n",
       "      <th>jp_sales</th>\n",
       "      <th>other_sales</th>\n",
       "      <th>critic_score</th>\n",
       "      <th>user_score</th>\n",
       "      <th>rating</th>\n",
       "    </tr>\n",
       "  </thead>\n",
       "  <tbody>\n",
       "    <tr>\n",
       "      <th>119</th>\n",
       "      <td>Zumba Fitness</td>\n",
       "      <td>Wii</td>\n",
       "      <td>2010.0</td>\n",
       "      <td>Sports</td>\n",
       "      <td>3.45</td>\n",
       "      <td>2.59</td>\n",
       "      <td>0.0</td>\n",
       "      <td>0.66</td>\n",
       "      <td>NaN</td>\n",
       "      <td>tbd</td>\n",
       "      <td>E</td>\n",
       "    </tr>\n",
       "    <tr>\n",
       "      <th>301</th>\n",
       "      <td>Namco Museum: 50th Anniversary</td>\n",
       "      <td>PS2</td>\n",
       "      <td>2005.0</td>\n",
       "      <td>Misc</td>\n",
       "      <td>2.08</td>\n",
       "      <td>1.35</td>\n",
       "      <td>0.0</td>\n",
       "      <td>0.54</td>\n",
       "      <td>61.0</td>\n",
       "      <td>tbd</td>\n",
       "      <td>E10+</td>\n",
       "    </tr>\n",
       "    <tr>\n",
       "      <th>520</th>\n",
       "      <td>Zumba Fitness 2</td>\n",
       "      <td>Wii</td>\n",
       "      <td>2011.0</td>\n",
       "      <td>Sports</td>\n",
       "      <td>1.51</td>\n",
       "      <td>1.03</td>\n",
       "      <td>0.0</td>\n",
       "      <td>0.27</td>\n",
       "      <td>NaN</td>\n",
       "      <td>tbd</td>\n",
       "      <td>T</td>\n",
       "    </tr>\n",
       "    <tr>\n",
       "      <th>645</th>\n",
       "      <td>uDraw Studio</td>\n",
       "      <td>Wii</td>\n",
       "      <td>2010.0</td>\n",
       "      <td>Misc</td>\n",
       "      <td>1.65</td>\n",
       "      <td>0.57</td>\n",
       "      <td>0.0</td>\n",
       "      <td>0.20</td>\n",
       "      <td>71.0</td>\n",
       "      <td>tbd</td>\n",
       "      <td>E</td>\n",
       "    </tr>\n",
       "    <tr>\n",
       "      <th>657</th>\n",
       "      <td>Frogger's Adventures: Temple of the Frog</td>\n",
       "      <td>GBA</td>\n",
       "      <td>NaN</td>\n",
       "      <td>Adventure</td>\n",
       "      <td>2.15</td>\n",
       "      <td>0.18</td>\n",
       "      <td>0.0</td>\n",
       "      <td>0.07</td>\n",
       "      <td>73.0</td>\n",
       "      <td>tbd</td>\n",
       "      <td>E</td>\n",
       "    </tr>\n",
       "    <tr>\n",
       "      <th>...</th>\n",
       "      <td>...</td>\n",
       "      <td>...</td>\n",
       "      <td>...</td>\n",
       "      <td>...</td>\n",
       "      <td>...</td>\n",
       "      <td>...</td>\n",
       "      <td>...</td>\n",
       "      <td>...</td>\n",
       "      <td>...</td>\n",
       "      <td>...</td>\n",
       "      <td>...</td>\n",
       "    </tr>\n",
       "    <tr>\n",
       "      <th>16695</th>\n",
       "      <td>Planet Monsters</td>\n",
       "      <td>GBA</td>\n",
       "      <td>2001.0</td>\n",
       "      <td>Action</td>\n",
       "      <td>0.01</td>\n",
       "      <td>0.00</td>\n",
       "      <td>0.0</td>\n",
       "      <td>0.00</td>\n",
       "      <td>67.0</td>\n",
       "      <td>tbd</td>\n",
       "      <td>E</td>\n",
       "    </tr>\n",
       "    <tr>\n",
       "      <th>16697</th>\n",
       "      <td>Bust-A-Move 3000</td>\n",
       "      <td>GC</td>\n",
       "      <td>2003.0</td>\n",
       "      <td>Puzzle</td>\n",
       "      <td>0.01</td>\n",
       "      <td>0.00</td>\n",
       "      <td>0.0</td>\n",
       "      <td>0.00</td>\n",
       "      <td>53.0</td>\n",
       "      <td>tbd</td>\n",
       "      <td>E</td>\n",
       "    </tr>\n",
       "    <tr>\n",
       "      <th>16698</th>\n",
       "      <td>Mega Brain Boost</td>\n",
       "      <td>DS</td>\n",
       "      <td>2008.0</td>\n",
       "      <td>Puzzle</td>\n",
       "      <td>0.01</td>\n",
       "      <td>0.00</td>\n",
       "      <td>0.0</td>\n",
       "      <td>0.00</td>\n",
       "      <td>48.0</td>\n",
       "      <td>tbd</td>\n",
       "      <td>E</td>\n",
       "    </tr>\n",
       "    <tr>\n",
       "      <th>16704</th>\n",
       "      <td>Plushees</td>\n",
       "      <td>DS</td>\n",
       "      <td>2008.0</td>\n",
       "      <td>Simulation</td>\n",
       "      <td>0.01</td>\n",
       "      <td>0.00</td>\n",
       "      <td>0.0</td>\n",
       "      <td>0.00</td>\n",
       "      <td>NaN</td>\n",
       "      <td>tbd</td>\n",
       "      <td>E</td>\n",
       "    </tr>\n",
       "    <tr>\n",
       "      <th>16706</th>\n",
       "      <td>Men in Black II: Alien Escape</td>\n",
       "      <td>GC</td>\n",
       "      <td>2003.0</td>\n",
       "      <td>Shooter</td>\n",
       "      <td>0.01</td>\n",
       "      <td>0.00</td>\n",
       "      <td>0.0</td>\n",
       "      <td>0.00</td>\n",
       "      <td>NaN</td>\n",
       "      <td>tbd</td>\n",
       "      <td>T</td>\n",
       "    </tr>\n",
       "  </tbody>\n",
       "</table>\n",
       "<p>2424 rows × 11 columns</p>\n",
       "</div>"
      ],
      "text/plain": [
       "                                           name platform  year_of_release  \\\n",
       "119                               Zumba Fitness      Wii           2010.0   \n",
       "301              Namco Museum: 50th Anniversary      PS2           2005.0   \n",
       "520                             Zumba Fitness 2      Wii           2011.0   \n",
       "645                                uDraw Studio      Wii           2010.0   \n",
       "657    Frogger's Adventures: Temple of the Frog      GBA              NaN   \n",
       "...                                         ...      ...              ...   \n",
       "16695                           Planet Monsters      GBA           2001.0   \n",
       "16697                          Bust-A-Move 3000       GC           2003.0   \n",
       "16698                          Mega Brain Boost       DS           2008.0   \n",
       "16704                                  Plushees       DS           2008.0   \n",
       "16706             Men in Black II: Alien Escape       GC           2003.0   \n",
       "\n",
       "            genre  na_sales  eu_sales  jp_sales  other_sales  critic_score  \\\n",
       "119        Sports      3.45      2.59       0.0         0.66           NaN   \n",
       "301          Misc      2.08      1.35       0.0         0.54          61.0   \n",
       "520        Sports      1.51      1.03       0.0         0.27           NaN   \n",
       "645          Misc      1.65      0.57       0.0         0.20          71.0   \n",
       "657     Adventure      2.15      0.18       0.0         0.07          73.0   \n",
       "...           ...       ...       ...       ...          ...           ...   \n",
       "16695      Action      0.01      0.00       0.0         0.00          67.0   \n",
       "16697      Puzzle      0.01      0.00       0.0         0.00          53.0   \n",
       "16698      Puzzle      0.01      0.00       0.0         0.00          48.0   \n",
       "16704  Simulation      0.01      0.00       0.0         0.00           NaN   \n",
       "16706     Shooter      0.01      0.00       0.0         0.00           NaN   \n",
       "\n",
       "      user_score rating  \n",
       "119          tbd      E  \n",
       "301          tbd   E10+  \n",
       "520          tbd      T  \n",
       "645          tbd      E  \n",
       "657          tbd      E  \n",
       "...          ...    ...  \n",
       "16695        tbd      E  \n",
       "16697        tbd      E  \n",
       "16698        tbd      E  \n",
       "16704        tbd      E  \n",
       "16706        tbd      T  \n",
       "\n",
       "[2424 rows x 11 columns]"
      ]
     },
     "execution_count": 13,
     "metadata": {},
     "output_type": "execute_result"
    }
   ],
   "source": [
    "data[data['user_score'] == 'tbd']"
   ]
  },
  {
   "cell_type": "code",
   "execution_count": 14,
   "id": "216d69d6",
   "metadata": {},
   "outputs": [],
   "source": [
    "data['user_score'] = data['user_score'].replace('tbd', np.NaN).astype('float')"
   ]
  },
  {
   "cell_type": "code",
   "execution_count": 15,
   "id": "1e432c85",
   "metadata": {},
   "outputs": [],
   "source": [
    "data['critic_score'] = data['critic_score'].fillna(-1)\n",
    "data['user_score'] = data['user_score'].fillna(-1)\n",
    "data['rating'] = data['rating'].fillna('no_rating')"
   ]
  },
  {
   "cell_type": "code",
   "execution_count": 16,
   "id": "90ef9f1f",
   "metadata": {},
   "outputs": [],
   "source": [
    "data['year_of_release'] = data['year_of_release'].astype('Int64')"
   ]
  },
  {
   "cell_type": "markdown",
   "id": "3fbfdeb6",
   "metadata": {},
   "source": [
    "###### Вывод:"
   ]
  },
  {
   "cell_type": "markdown",
   "id": "6e85cc2a",
   "metadata": {},
   "source": [
    "<br>critic_score - Заполнить медианной и средним будет не получится. Произвели замену на пропущенных значений на -1.\n",
    "<br>users_score - Заполнить медианной и средним будет не получится. Произвели замену на пропущенных значений на -1. Тип заменен на float.\n",
    "<br>rating - Заполнить медианной и средним будет не получится. Произвели замену на пропущенных значений на 'no_rating'\n",
    "<br>year_of_release - Тип заменен на float.\n",
    "<br>year_of_release, genre и name - Не существенно много пропусков, оставила как есть."
   ]
  },
  {
   "cell_type": "code",
   "execution_count": 17,
   "id": "97cf547b",
   "metadata": {},
   "outputs": [
    {
     "data": {
      "text/plain": [
       "array([ 8. , -1. ,  8.3,  8.5,  6.6,  8.4,  8.6,  7.7,  6.3,  7.4,  8.2,\n",
       "        9. ,  7.9,  8.1,  8.7,  7.1,  3.4,  5.3,  4.8,  3.2,  8.9,  6.4,\n",
       "        7.8,  7.5,  2.6,  7.2,  9.2,  7. ,  7.3,  4.3,  7.6,  5.7,  5. ,\n",
       "        9.1,  6.5,  8.8,  6.9,  9.4,  6.8,  6.1,  6.7,  5.4,  4. ,  4.9,\n",
       "        4.5,  9.3,  6.2,  4.2,  6. ,  3.7,  4.1,  5.8,  5.6,  5.5,  4.4,\n",
       "        4.6,  5.9,  3.9,  3.1,  2.9,  5.2,  3.3,  4.7,  5.1,  3.5,  2.5,\n",
       "        1.9,  3. ,  2.7,  2.2,  2. ,  9.5,  2.1,  3.6,  2.8,  1.8,  3.8,\n",
       "        0. ,  1.6,  9.6,  2.4,  1.7,  1.1,  0.3,  1.5,  0.7,  1.2,  2.3,\n",
       "        0.5,  1.3,  0.2,  0.6,  1.4,  0.9,  1. ,  9.7])"
      ]
     },
     "execution_count": 17,
     "metadata": {},
     "output_type": "execute_result"
    }
   ],
   "source": [
    "data['user_score'].unique()"
   ]
  },
  {
   "cell_type": "code",
   "execution_count": 18,
   "id": "52c56ca7",
   "metadata": {},
   "outputs": [
    {
     "data": {
      "text/plain": [
       "array([76., -1., 82., 80., 89., 58., 87., 91., 61., 97., 95., 77., 88.,\n",
       "       83., 94., 93., 85., 86., 98., 96., 90., 84., 73., 74., 78., 92.,\n",
       "       71., 72., 68., 62., 49., 67., 81., 66., 56., 79., 70., 59., 64.,\n",
       "       75., 60., 63., 69., 50., 25., 42., 44., 55., 48., 57., 29., 47.,\n",
       "       65., 54., 20., 53., 37., 38., 33., 52., 30., 32., 43., 45., 51.,\n",
       "       40., 46., 39., 34., 35., 41., 36., 28., 31., 27., 26., 19., 23.,\n",
       "       24., 21., 17., 22., 13.])"
      ]
     },
     "execution_count": 18,
     "metadata": {},
     "output_type": "execute_result"
    }
   ],
   "source": [
    "data['critic_score'].unique()"
   ]
  },
  {
   "cell_type": "code",
   "execution_count": 19,
   "id": "a0ff5279",
   "metadata": {},
   "outputs": [
    {
     "data": {
      "text/plain": [
       "array(['E', 'no_rating', 'M', 'T', 'E10+', 'K-A', 'AO', 'EC', 'RP'],\n",
       "      dtype=object)"
      ]
     },
     "execution_count": 19,
     "metadata": {},
     "output_type": "execute_result"
    }
   ],
   "source": [
    "data['rating'].unique()"
   ]
  },
  {
   "cell_type": "markdown",
   "id": "1dbfc5ae",
   "metadata": {},
   "source": [
    "##### Посчитайте суммарные продажи во всех регионах и запишите их в отдельный столбец."
   ]
  },
  {
   "cell_type": "code",
   "execution_count": 20,
   "id": "a1062103",
   "metadata": {},
   "outputs": [],
   "source": [
    "data['world_sales'] = data['na_sales'] + data['eu_sales'] + data['jp_sales'] + data['other_sales']"
   ]
  },
  {
   "cell_type": "markdown",
   "id": "d8431127",
   "metadata": {},
   "source": [
    "## Проведите исследовательский анализ данных"
   ]
  },
  {
   "cell_type": "markdown",
   "id": "09962c8f",
   "metadata": {},
   "source": [
    "##### 1. Посмотрите, сколько игр выпускалось в разные годы. Важны ли данные за все периоды?"
   ]
  },
  {
   "cell_type": "code",
   "execution_count": 21,
   "id": "eb24dd34",
   "metadata": {},
   "outputs": [
    {
     "data": {
      "text/plain": [
       "<AxesSubplot:title={'center':'Динамика по количеству игр в год'}, xlabel='Год релиза', ylabel='Количество игр в год'>"
      ]
     },
     "execution_count": 21,
     "metadata": {},
     "output_type": "execute_result"
    },
    {
     "data": {
      "image/png": "[encoded data removed]",
      "text/plain": [
       "<Figure size 1080x360 with 1 Axes>"
      ]
     },
     "metadata": {
      "needs_background": "light"
     },
     "output_type": "display_data"
    }
   ],
   "source": [
    "data.groupby('year_of_release')['year_of_release'].count().plot(kind='bar', y='year_of_release', figsize=(15,5), title='Динамика по количеству игр в год', xlabel='Год релиза', ylabel='Количество игр в год')"
   ]
  },
  {
   "cell_type": "markdown",
   "id": "db04823f",
   "metadata": {},
   "source": [
    "C 1995 года игры набирают популярность. Пик приходится на 2008 - 2009 год. Мне кажется, что можно брать данные не за весь период, а начиная с 1995 года."
   ]
  },
  {
   "cell_type": "markdown",
   "id": "3ee3d740",
   "metadata": {},
   "source": [
    "##### 2.Посмотрите, как менялись продажи по платформам. Выберите платформы с наибольшими суммарными продажами и постройте распределение по годам. За какой характерный срок появляются новые и исчезают старые платформы?"
   ]
  },
  {
   "cell_type": "code",
   "execution_count": 22,
   "id": "f78542f5",
   "metadata": {},
   "outputs": [],
   "source": [
    "sales = data.pivot_table(index='platform', values='world_sales', aggfunc='sum').sort_values(by='world_sales', ascending=False)"
   ]
  },
  {
   "cell_type": "code",
   "execution_count": 23,
   "id": "1b7b3235",
   "metadata": {},
   "outputs": [
    {
     "data": {
      "text/plain": [
       "<AxesSubplot:title={'center':'Распределение по суммарным продажам'}, xlabel='Платформа', ylabel='Суммарные продажи'>"
      ]
     },
     "execution_count": 23,
     "metadata": {},
     "output_type": "execute_result"
    },
    {
     "data": {
      "image/png": "[encoded data removed]",
      "text/plain": [
       "<Figure size 936x288 with 1 Axes>"
      ]
     },
     "metadata": {
      "needs_background": "light"
     },
     "output_type": "display_data"
    }
   ],
   "source": [
    "sales.plot(kind='bar', figsize=(13,4), title='Распределение по суммарным продажам', xlabel='Платформа', ylabel='Суммарные продажи')"
   ]
  },
  {
   "cell_type": "markdown",
   "id": "5db8e0bd",
   "metadata": {},
   "source": [
    "<b>Выделим 3 платформы с наибольшими суммарными продажами"
   ]
  },
  {
   "cell_type": "code",
   "execution_count": 24,
   "id": "101ab457",
   "metadata": {},
   "outputs": [
    {
     "data": {
      "text/plain": [
       "<AxesSubplot:title={'center':'Распределение по суммарным продажам в год (PS2)'}, xlabel='Год релиза', ylabel='Суммарные продажи'>"
      ]
     },
     "execution_count": 24,
     "metadata": {},
     "output_type": "execute_result"
    },
    {
     "data": {
      "image/png": "[encoded data removed]",
      "text/plain": [
       "<Figure size 936x288 with 1 Axes>"
      ]
     },
     "metadata": {
      "needs_background": "light"
     },
     "output_type": "display_data"
    }
   ],
   "source": [
    "data[data['platform'] == 'PS2'].pivot_table(index='year_of_release', values='world_sales', aggfunc='sum').plot(kind='bar', figsize=(13,4),  title='Распределение по суммарным продажам в год (PS2)', xlabel='Год релиза', ylabel='Суммарные продажи')"
   ]
  },
  {
   "cell_type": "code",
   "execution_count": 25,
   "id": "bc7f2e9b",
   "metadata": {},
   "outputs": [
    {
     "data": {
      "text/plain": [
       "<AxesSubplot:title={'center':'Распределение по суммарным продажам в год (Х360)'}, xlabel='Год релиза', ylabel='Суммарные продажи'>"
      ]
     },
     "execution_count": 25,
     "metadata": {},
     "output_type": "execute_result"
    },
    {
     "data": {
      "image/png": "[encoded data removed]",
      "text/plain": [
       "<Figure size 936x288 with 1 Axes>"
      ]
     },
     "metadata": {
      "needs_background": "light"
     },
     "output_type": "display_data"
    }
   ],
   "source": [
    "data[data['platform'] == 'X360'].pivot_table(index='year_of_release', values='world_sales', aggfunc='sum').plot(kind='bar', figsize=(13,4), title='Распределение по суммарным продажам в год (Х360)', xlabel='Год релиза', ylabel='Суммарные продажи')"
   ]
  },
  {
   "cell_type": "code",
   "execution_count": 26,
   "id": "4a664c1e",
   "metadata": {},
   "outputs": [
    {
     "data": {
      "text/plain": [
       "<AxesSubplot:title={'center':'Распределение по суммарным продажам в год (PS3)'}, xlabel='Год релиза', ylabel='Суммарные продажи'>"
      ]
     },
     "execution_count": 26,
     "metadata": {},
     "output_type": "execute_result"
    },
    {
     "data": {
      "image/png": "[encoded data removed]",
      "text/plain": [
       "<Figure size 936x288 with 1 Axes>"
      ]
     },
     "metadata": {
      "needs_background": "light"
     },
     "output_type": "display_data"
    }
   ],
   "source": [
    "data[data['platform'] == 'PS3'].pivot_table(index='year_of_release', values='world_sales', aggfunc='sum').plot(kind='bar', figsize=(13,4), title='Распределение по суммарным продажам в год (PS3)', xlabel='Год релиза', ylabel='Суммарные продажи')"
   ]
  },
  {
   "cell_type": "code",
   "execution_count": 27,
   "id": "9c715434",
   "metadata": {},
   "outputs": [
    {
     "data": {
      "text/plain": [
       "<AxesSubplot:title={'center':'Распределение по суммарным продажам в год (Wii)'}, xlabel='Год релиза', ylabel='Суммарные продажи'>"
      ]
     },
     "execution_count": 27,
     "metadata": {},
     "output_type": "execute_result"
    },
    {
     "data": {
      "image/png": "[encoded data removed]",
      "text/plain": [
       "<Figure size 936x288 with 1 Axes>"
      ]
     },
     "metadata": {
      "needs_background": "light"
     },
     "output_type": "display_data"
    }
   ],
   "source": [
    "data[data['platform'] == 'Wii'].pivot_table(index='year_of_release', values='world_sales', aggfunc='sum').plot(kind='bar', figsize=(13,4), title='Распределение по суммарным продажам в год (Wii)', xlabel='Год релиза', ylabel='Суммарные продажи')"
   ]
  },
  {
   "cell_type": "code",
   "execution_count": 28,
   "id": "d98da6e4",
   "metadata": {},
   "outputs": [
    {
     "data": {
      "text/plain": [
       "<AxesSubplot:title={'center':'Распределение по суммарным продажам в год (DS)'}, xlabel='Год релиза', ylabel='Суммарные продажи'>"
      ]
     },
     "execution_count": 28,
     "metadata": {},
     "output_type": "execute_result"
    },
    {
     "data": {
      "image/png": "[encoded data removed]",
      "text/plain": [
       "<Figure size 936x288 with 1 Axes>"
      ]
     },
     "metadata": {
      "needs_background": "light"
     },
     "output_type": "display_data"
    }
   ],
   "source": [
    "data[data['platform'] == 'DS'].pivot_table(index='year_of_release', values='world_sales', aggfunc='sum').plot(kind='bar', figsize=(13,4), title='Распределение по суммарным продажам в год (DS)', xlabel='Год релиза', ylabel='Суммарные продажи')"
   ]
  },
  {
   "cell_type": "code",
   "execution_count": 29,
   "id": "ed96bf83",
   "metadata": {},
   "outputs": [
    {
     "data": {
      "text/plain": [
       "<AxesSubplot:title={'center':'Распределение по суммарным продажам в год (PS)'}, xlabel='Год релиза', ylabel='Суммарные продажи'>"
      ]
     },
     "execution_count": 29,
     "metadata": {},
     "output_type": "execute_result"
    },
    {
     "data": {
      "image/png": "[encoded data removed]",
      "text/plain": [
       "<Figure size 936x288 with 1 Axes>"
      ]
     },
     "metadata": {
      "needs_background": "light"
     },
     "output_type": "display_data"
    }
   ],
   "source": [
    "data[data['platform'] == 'PS'].pivot_table(index='year_of_release', values='world_sales', aggfunc='sum').plot(kind='bar', figsize=(13,4), title='Распределение по суммарным продажам в год (PS)', xlabel='Год релиза', ylabel='Суммарные продажи')"
   ]
  },
  {
   "cell_type": "markdown",
   "id": "a0c1bea5",
   "metadata": {},
   "source": [
    "С выходом PS3 продажи в PS2 начали падать в 2011 году. Так же, еще заметила, что после выхода новой платформы обычно первые 5 лет идет рост продаж, но потом идут 5 лет спада, на фоне выхода более новой платформы."
   ]
  },
  {
   "cell_type": "markdown",
   "id": "192a3c05",
   "metadata": {},
   "source": [
    "##### 3.Возьмите данные за соответствующий актуальный период. Актуальный период определите самостоятельно в результате исследования предыдущих вопросов. Основной фактор — эти данные помогут построить прогноз на 2017 год. Не учитывайте в работе данные за предыдущие годы."
   ]
  },
  {
   "cell_type": "code",
   "execution_count": 30,
   "id": "6539101f",
   "metadata": {},
   "outputs": [
    {
     "data": {
      "text/plain": [
       "<AxesSubplot:xlabel='year_of_release'>"
      ]
     },
     "execution_count": 30,
     "metadata": {},
     "output_type": "execute_result"
    },
    {
     "data": {
      "image/png": "[encoded data removed]",
      "text/plain": [
       "<Figure size 936x288 with 1 Axes>"
      ]
     },
     "metadata": {
      "needs_background": "light"
     },
     "output_type": "display_data"
    }
   ],
   "source": [
    "data.pivot_table(index='year_of_release', values='world_sales', aggfunc='sum').sort_values(by='year_of_release', ascending=False).plot(kind='bar', figsize=(13,4))"
   ]
  },
  {
   "cell_type": "code",
   "execution_count": 31,
   "id": "6b8c4b4f",
   "metadata": {},
   "outputs": [
    {
     "data": {
      "text/html": [
       "<div>\n",
       "<style scoped>\n",
       "    .dataframe tbody tr th:only-of-type {\n",
       "        vertical-align: middle;\n",
       "    }\n",
       "\n",
       "    .dataframe tbody tr th {\n",
       "        vertical-align: top;\n",
       "    }\n",
       "\n",
       "    .dataframe thead th {\n",
       "        text-align: right;\n",
       "    }\n",
       "</style>\n",
       "<table border=\"1\" class=\"dataframe\">\n",
       "  <thead>\n",
       "    <tr style=\"text-align: right;\">\n",
       "      <th></th>\n",
       "      <th>year_of_release</th>\n",
       "      <th>na_sales</th>\n",
       "      <th>eu_sales</th>\n",
       "      <th>jp_sales</th>\n",
       "      <th>other_sales</th>\n",
       "      <th>critic_score</th>\n",
       "      <th>user_score</th>\n",
       "      <th>world_sales</th>\n",
       "    </tr>\n",
       "  </thead>\n",
       "  <tbody>\n",
       "    <tr>\n",
       "      <th>count</th>\n",
       "      <td>16446.000000</td>\n",
       "      <td>16715.000000</td>\n",
       "      <td>16715.000000</td>\n",
       "      <td>16715.000000</td>\n",
       "      <td>16715.000000</td>\n",
       "      <td>16715.000000</td>\n",
       "      <td>16715.000000</td>\n",
       "      <td>16715.000000</td>\n",
       "    </tr>\n",
       "    <tr>\n",
       "      <th>mean</th>\n",
       "      <td>2006.484616</td>\n",
       "      <td>0.263377</td>\n",
       "      <td>0.145060</td>\n",
       "      <td>0.077617</td>\n",
       "      <td>0.047342</td>\n",
       "      <td>33.060844</td>\n",
       "      <td>2.689447</td>\n",
       "      <td>0.533396</td>\n",
       "    </tr>\n",
       "    <tr>\n",
       "      <th>std</th>\n",
       "      <td>5.877050</td>\n",
       "      <td>0.813604</td>\n",
       "      <td>0.503339</td>\n",
       "      <td>0.308853</td>\n",
       "      <td>0.186731</td>\n",
       "      <td>36.299555</td>\n",
       "      <td>4.169833</td>\n",
       "      <td>1.548261</td>\n",
       "    </tr>\n",
       "    <tr>\n",
       "      <th>min</th>\n",
       "      <td>1980.000000</td>\n",
       "      <td>0.000000</td>\n",
       "      <td>0.000000</td>\n",
       "      <td>0.000000</td>\n",
       "      <td>0.000000</td>\n",
       "      <td>-1.000000</td>\n",
       "      <td>-1.000000</td>\n",
       "      <td>0.000000</td>\n",
       "    </tr>\n",
       "    <tr>\n",
       "      <th>25%</th>\n",
       "      <td>2003.000000</td>\n",
       "      <td>0.000000</td>\n",
       "      <td>0.000000</td>\n",
       "      <td>0.000000</td>\n",
       "      <td>0.000000</td>\n",
       "      <td>-1.000000</td>\n",
       "      <td>-1.000000</td>\n",
       "      <td>0.060000</td>\n",
       "    </tr>\n",
       "    <tr>\n",
       "      <th>50%</th>\n",
       "      <td>2007.000000</td>\n",
       "      <td>0.080000</td>\n",
       "      <td>0.020000</td>\n",
       "      <td>0.000000</td>\n",
       "      <td>0.010000</td>\n",
       "      <td>-1.000000</td>\n",
       "      <td>-1.000000</td>\n",
       "      <td>0.170000</td>\n",
       "    </tr>\n",
       "    <tr>\n",
       "      <th>75%</th>\n",
       "      <td>2010.000000</td>\n",
       "      <td>0.240000</td>\n",
       "      <td>0.110000</td>\n",
       "      <td>0.040000</td>\n",
       "      <td>0.030000</td>\n",
       "      <td>70.000000</td>\n",
       "      <td>7.300000</td>\n",
       "      <td>0.470000</td>\n",
       "    </tr>\n",
       "    <tr>\n",
       "      <th>max</th>\n",
       "      <td>2016.000000</td>\n",
       "      <td>41.360000</td>\n",
       "      <td>28.960000</td>\n",
       "      <td>10.220000</td>\n",
       "      <td>10.570000</td>\n",
       "      <td>98.000000</td>\n",
       "      <td>9.700000</td>\n",
       "      <td>82.540000</td>\n",
       "    </tr>\n",
       "  </tbody>\n",
       "</table>\n",
       "</div>"
      ],
      "text/plain": [
       "       year_of_release      na_sales      eu_sales      jp_sales  \\\n",
       "count     16446.000000  16715.000000  16715.000000  16715.000000   \n",
       "mean       2006.484616      0.263377      0.145060      0.077617   \n",
       "std           5.877050      0.813604      0.503339      0.308853   \n",
       "min        1980.000000      0.000000      0.000000      0.000000   \n",
       "25%        2003.000000      0.000000      0.000000      0.000000   \n",
       "50%        2007.000000      0.080000      0.020000      0.000000   \n",
       "75%        2010.000000      0.240000      0.110000      0.040000   \n",
       "max        2016.000000     41.360000     28.960000     10.220000   \n",
       "\n",
       "        other_sales  critic_score    user_score   world_sales  \n",
       "count  16715.000000  16715.000000  16715.000000  16715.000000  \n",
       "mean       0.047342     33.060844      2.689447      0.533396  \n",
       "std        0.186731     36.299555      4.169833      1.548261  \n",
       "min        0.000000     -1.000000     -1.000000      0.000000  \n",
       "25%        0.000000     -1.000000     -1.000000      0.060000  \n",
       "50%        0.010000     -1.000000     -1.000000      0.170000  \n",
       "75%        0.030000     70.000000      7.300000      0.470000  \n",
       "max       10.570000     98.000000      9.700000     82.540000  "
      ]
     },
     "execution_count": 31,
     "metadata": {},
     "output_type": "execute_result"
    }
   ],
   "source": [
    "data.describe()"
   ]
  },
  {
   "cell_type": "markdown",
   "id": "37484d7b",
   "metadata": {},
   "source": [
    "Думаю, что нам нужен период после 2010 года. К этому времени уже упали продажи совсем стареньких платформ, появились новые, у которых еще не прошли 5 лет спада продаж."
   ]
  },
  {
   "cell_type": "code",
   "execution_count": 32,
   "id": "4047b283",
   "metadata": {},
   "outputs": [],
   "source": [
    "data_actual = data[data['year_of_release'] > 2011]"
   ]
  },
  {
   "cell_type": "code",
   "execution_count": 33,
   "id": "044e0fbd",
   "metadata": {},
   "outputs": [
    {
     "data": {
      "text/html": [
       "<div>\n",
       "<style scoped>\n",
       "    .dataframe tbody tr th:only-of-type {\n",
       "        vertical-align: middle;\n",
       "    }\n",
       "\n",
       "    .dataframe tbody tr th {\n",
       "        vertical-align: top;\n",
       "    }\n",
       "\n",
       "    .dataframe thead th {\n",
       "        text-align: right;\n",
       "    }\n",
       "</style>\n",
       "<table border=\"1\" class=\"dataframe\">\n",
       "  <thead>\n",
       "    <tr style=\"text-align: right;\">\n",
       "      <th></th>\n",
       "      <th>name</th>\n",
       "      <th>platform</th>\n",
       "      <th>year_of_release</th>\n",
       "      <th>genre</th>\n",
       "      <th>na_sales</th>\n",
       "      <th>eu_sales</th>\n",
       "      <th>jp_sales</th>\n",
       "      <th>other_sales</th>\n",
       "      <th>critic_score</th>\n",
       "      <th>user_score</th>\n",
       "      <th>rating</th>\n",
       "      <th>world_sales</th>\n",
       "    </tr>\n",
       "  </thead>\n",
       "  <tbody>\n",
       "    <tr>\n",
       "      <th>16</th>\n",
       "      <td>Grand Theft Auto V</td>\n",
       "      <td>PS3</td>\n",
       "      <td>2013</td>\n",
       "      <td>Action</td>\n",
       "      <td>7.02</td>\n",
       "      <td>9.09</td>\n",
       "      <td>0.98</td>\n",
       "      <td>3.96</td>\n",
       "      <td>97.0</td>\n",
       "      <td>8.2</td>\n",
       "      <td>M</td>\n",
       "      <td>21.05</td>\n",
       "    </tr>\n",
       "    <tr>\n",
       "      <th>23</th>\n",
       "      <td>Grand Theft Auto V</td>\n",
       "      <td>X360</td>\n",
       "      <td>2013</td>\n",
       "      <td>Action</td>\n",
       "      <td>9.66</td>\n",
       "      <td>5.14</td>\n",
       "      <td>0.06</td>\n",
       "      <td>1.41</td>\n",
       "      <td>97.0</td>\n",
       "      <td>8.1</td>\n",
       "      <td>M</td>\n",
       "      <td>16.27</td>\n",
       "    </tr>\n",
       "    <tr>\n",
       "      <th>31</th>\n",
       "      <td>Call of Duty: Black Ops 3</td>\n",
       "      <td>PS4</td>\n",
       "      <td>2015</td>\n",
       "      <td>Shooter</td>\n",
       "      <td>6.03</td>\n",
       "      <td>5.86</td>\n",
       "      <td>0.36</td>\n",
       "      <td>2.38</td>\n",
       "      <td>-1.0</td>\n",
       "      <td>-1.0</td>\n",
       "      <td>no_rating</td>\n",
       "      <td>14.63</td>\n",
       "    </tr>\n",
       "    <tr>\n",
       "      <th>33</th>\n",
       "      <td>Pokemon X/Pokemon Y</td>\n",
       "      <td>3DS</td>\n",
       "      <td>2013</td>\n",
       "      <td>Role-Playing</td>\n",
       "      <td>5.28</td>\n",
       "      <td>4.19</td>\n",
       "      <td>4.35</td>\n",
       "      <td>0.78</td>\n",
       "      <td>-1.0</td>\n",
       "      <td>-1.0</td>\n",
       "      <td>no_rating</td>\n",
       "      <td>14.60</td>\n",
       "    </tr>\n",
       "    <tr>\n",
       "      <th>34</th>\n",
       "      <td>Call of Duty: Black Ops II</td>\n",
       "      <td>PS3</td>\n",
       "      <td>2012</td>\n",
       "      <td>Shooter</td>\n",
       "      <td>4.99</td>\n",
       "      <td>5.73</td>\n",
       "      <td>0.65</td>\n",
       "      <td>2.42</td>\n",
       "      <td>83.0</td>\n",
       "      <td>5.3</td>\n",
       "      <td>M</td>\n",
       "      <td>13.79</td>\n",
       "    </tr>\n",
       "    <tr>\n",
       "      <th>...</th>\n",
       "      <td>...</td>\n",
       "      <td>...</td>\n",
       "      <td>...</td>\n",
       "      <td>...</td>\n",
       "      <td>...</td>\n",
       "      <td>...</td>\n",
       "      <td>...</td>\n",
       "      <td>...</td>\n",
       "      <td>...</td>\n",
       "      <td>...</td>\n",
       "      <td>...</td>\n",
       "      <td>...</td>\n",
       "    </tr>\n",
       "    <tr>\n",
       "      <th>16703</th>\n",
       "      <td>Strawberry Nauts</td>\n",
       "      <td>PSV</td>\n",
       "      <td>2016</td>\n",
       "      <td>Adventure</td>\n",
       "      <td>0.00</td>\n",
       "      <td>0.00</td>\n",
       "      <td>0.01</td>\n",
       "      <td>0.00</td>\n",
       "      <td>-1.0</td>\n",
       "      <td>-1.0</td>\n",
       "      <td>no_rating</td>\n",
       "      <td>0.01</td>\n",
       "    </tr>\n",
       "    <tr>\n",
       "      <th>16707</th>\n",
       "      <td>Aiyoku no Eustia</td>\n",
       "      <td>PSV</td>\n",
       "      <td>2014</td>\n",
       "      <td>Misc</td>\n",
       "      <td>0.00</td>\n",
       "      <td>0.00</td>\n",
       "      <td>0.01</td>\n",
       "      <td>0.00</td>\n",
       "      <td>-1.0</td>\n",
       "      <td>-1.0</td>\n",
       "      <td>no_rating</td>\n",
       "      <td>0.01</td>\n",
       "    </tr>\n",
       "    <tr>\n",
       "      <th>16710</th>\n",
       "      <td>Samurai Warriors: Sanada Maru</td>\n",
       "      <td>PS3</td>\n",
       "      <td>2016</td>\n",
       "      <td>Action</td>\n",
       "      <td>0.00</td>\n",
       "      <td>0.00</td>\n",
       "      <td>0.01</td>\n",
       "      <td>0.00</td>\n",
       "      <td>-1.0</td>\n",
       "      <td>-1.0</td>\n",
       "      <td>no_rating</td>\n",
       "      <td>0.01</td>\n",
       "    </tr>\n",
       "    <tr>\n",
       "      <th>16712</th>\n",
       "      <td>Haitaka no Psychedelica</td>\n",
       "      <td>PSV</td>\n",
       "      <td>2016</td>\n",
       "      <td>Adventure</td>\n",
       "      <td>0.00</td>\n",
       "      <td>0.00</td>\n",
       "      <td>0.01</td>\n",
       "      <td>0.00</td>\n",
       "      <td>-1.0</td>\n",
       "      <td>-1.0</td>\n",
       "      <td>no_rating</td>\n",
       "      <td>0.01</td>\n",
       "    </tr>\n",
       "    <tr>\n",
       "      <th>16714</th>\n",
       "      <td>Winning Post 8 2016</td>\n",
       "      <td>PSV</td>\n",
       "      <td>2016</td>\n",
       "      <td>Simulation</td>\n",
       "      <td>0.00</td>\n",
       "      <td>0.00</td>\n",
       "      <td>0.01</td>\n",
       "      <td>0.00</td>\n",
       "      <td>-1.0</td>\n",
       "      <td>-1.0</td>\n",
       "      <td>no_rating</td>\n",
       "      <td>0.01</td>\n",
       "    </tr>\n",
       "  </tbody>\n",
       "</table>\n",
       "<p>2886 rows × 12 columns</p>\n",
       "</div>"
      ],
      "text/plain": [
       "                                name platform  year_of_release         genre  \\\n",
       "16                Grand Theft Auto V      PS3             2013        Action   \n",
       "23                Grand Theft Auto V     X360             2013        Action   \n",
       "31         Call of Duty: Black Ops 3      PS4             2015       Shooter   \n",
       "33               Pokemon X/Pokemon Y      3DS             2013  Role-Playing   \n",
       "34        Call of Duty: Black Ops II      PS3             2012       Shooter   \n",
       "...                              ...      ...              ...           ...   \n",
       "16703               Strawberry Nauts      PSV             2016     Adventure   \n",
       "16707               Aiyoku no Eustia      PSV             2014          Misc   \n",
       "16710  Samurai Warriors: Sanada Maru      PS3             2016        Action   \n",
       "16712        Haitaka no Psychedelica      PSV             2016     Adventure   \n",
       "16714            Winning Post 8 2016      PSV             2016    Simulation   \n",
       "\n",
       "       na_sales  eu_sales  jp_sales  other_sales  critic_score  user_score  \\\n",
       "16         7.02      9.09      0.98         3.96          97.0         8.2   \n",
       "23         9.66      5.14      0.06         1.41          97.0         8.1   \n",
       "31         6.03      5.86      0.36         2.38          -1.0        -1.0   \n",
       "33         5.28      4.19      4.35         0.78          -1.0        -1.0   \n",
       "34         4.99      5.73      0.65         2.42          83.0         5.3   \n",
       "...         ...       ...       ...          ...           ...         ...   \n",
       "16703      0.00      0.00      0.01         0.00          -1.0        -1.0   \n",
       "16707      0.00      0.00      0.01         0.00          -1.0        -1.0   \n",
       "16710      0.00      0.00      0.01         0.00          -1.0        -1.0   \n",
       "16712      0.00      0.00      0.01         0.00          -1.0        -1.0   \n",
       "16714      0.00      0.00      0.01         0.00          -1.0        -1.0   \n",
       "\n",
       "          rating  world_sales  \n",
       "16             M        21.05  \n",
       "23             M        16.27  \n",
       "31     no_rating        14.63  \n",
       "33     no_rating        14.60  \n",
       "34             M        13.79  \n",
       "...          ...          ...  \n",
       "16703  no_rating         0.01  \n",
       "16707  no_rating         0.01  \n",
       "16710  no_rating         0.01  \n",
       "16712  no_rating         0.01  \n",
       "16714  no_rating         0.01  \n",
       "\n",
       "[2886 rows x 12 columns]"
      ]
     },
     "execution_count": 33,
     "metadata": {},
     "output_type": "execute_result"
    }
   ],
   "source": [
    "data_actual"
   ]
  },
  {
   "cell_type": "markdown",
   "id": "cb55fb8f",
   "metadata": {},
   "source": [
    "##### 4.Какие платформы лидируют по продажам, растут или падают? Выберите несколько потенциально прибыльных платформ.\n"
   ]
  },
  {
   "cell_type": "code",
   "execution_count": 34,
   "id": "ea9503fd",
   "metadata": {},
   "outputs": [
    {
     "data": {
      "text/html": [
       "<div>\n",
       "<style scoped>\n",
       "    .dataframe tbody tr th:only-of-type {\n",
       "        vertical-align: middle;\n",
       "    }\n",
       "\n",
       "    .dataframe tbody tr th {\n",
       "        vertical-align: top;\n",
       "    }\n",
       "\n",
       "    .dataframe thead th {\n",
       "        text-align: right;\n",
       "    }\n",
       "</style>\n",
       "<table border=\"1\" class=\"dataframe\">\n",
       "  <thead>\n",
       "    <tr style=\"text-align: right;\">\n",
       "      <th></th>\n",
       "      <th>world_sales</th>\n",
       "    </tr>\n",
       "    <tr>\n",
       "      <th>platform</th>\n",
       "      <th></th>\n",
       "    </tr>\n",
       "  </thead>\n",
       "  <tbody>\n",
       "    <tr>\n",
       "      <th>PS4</th>\n",
       "      <td>314.14</td>\n",
       "    </tr>\n",
       "    <tr>\n",
       "      <th>PS3</th>\n",
       "      <td>288.79</td>\n",
       "    </tr>\n",
       "    <tr>\n",
       "      <th>X360</th>\n",
       "      <td>236.54</td>\n",
       "    </tr>\n",
       "    <tr>\n",
       "      <th>3DS</th>\n",
       "      <td>194.61</td>\n",
       "    </tr>\n",
       "    <tr>\n",
       "      <th>XOne</th>\n",
       "      <td>159.32</td>\n",
       "    </tr>\n",
       "    <tr>\n",
       "      <th>WiiU</th>\n",
       "      <td>82.19</td>\n",
       "    </tr>\n",
       "    <tr>\n",
       "      <th>PC</th>\n",
       "      <td>62.65</td>\n",
       "    </tr>\n",
       "    <tr>\n",
       "      <th>PSV</th>\n",
       "      <td>49.18</td>\n",
       "    </tr>\n",
       "    <tr>\n",
       "      <th>Wii</th>\n",
       "      <td>35.37</td>\n",
       "    </tr>\n",
       "    <tr>\n",
       "      <th>DS</th>\n",
       "      <td>12.55</td>\n",
       "    </tr>\n",
       "  </tbody>\n",
       "</table>\n",
       "</div>"
      ],
      "text/plain": [
       "          world_sales\n",
       "platform             \n",
       "PS4            314.14\n",
       "PS3            288.79\n",
       "X360           236.54\n",
       "3DS            194.61\n",
       "XOne           159.32\n",
       "WiiU            82.19\n",
       "PC              62.65\n",
       "PSV             49.18\n",
       "Wii             35.37\n",
       "DS              12.55"
      ]
     },
     "execution_count": 34,
     "metadata": {},
     "output_type": "execute_result"
    }
   ],
   "source": [
    "data_actual.pivot_table(index='platform', values='world_sales', aggfunc='sum').sort_values(by='world_sales', ascending=False).head(10)"
   ]
  },
  {
   "cell_type": "code",
   "execution_count": 35,
   "id": "2a2ca2d0",
   "metadata": {},
   "outputs": [
    {
     "data": {
      "text/plain": [
       "<AxesSubplot:xlabel='platform'>"
      ]
     },
     "execution_count": 35,
     "metadata": {},
     "output_type": "execute_result"
    },
    {
     "data": {
      "image/png": "[encoded data removed]",
      "text/plain": [
       "<Figure size 936x288 with 1 Axes>"
      ]
     },
     "metadata": {
      "needs_background": "light"
     },
     "output_type": "display_data"
    }
   ],
   "source": [
    "data_actual.pivot_table(index='platform', values='world_sales', aggfunc='sum').sort_values(by='world_sales', ascending=False).plot(kind='bar', figsize=(13,4))"
   ]
  },
  {
   "cell_type": "code",
   "execution_count": 36,
   "id": "e4930670",
   "metadata": {},
   "outputs": [
    {
     "data": {
      "text/plain": [
       "<AxesSubplot:xlabel='year_of_release'>"
      ]
     },
     "execution_count": 36,
     "metadata": {},
     "output_type": "execute_result"
    },
    {
     "data": {
      "image/png": "[encoded data removed]",
      "text/plain": [
       "<Figure size 936x288 with 1 Axes>"
      ]
     },
     "metadata": {
      "needs_background": "light"
     },
     "output_type": "display_data"
    }
   ],
   "source": [
    "data_actual[data_actual['platform'] == 'PS4'].pivot_table(index='year_of_release', values='world_sales', aggfunc='sum').plot(kind='bar', figsize=(13,4))"
   ]
  },
  {
   "cell_type": "code",
   "execution_count": 37,
   "id": "76377b3a",
   "metadata": {},
   "outputs": [
    {
     "data": {
      "text/plain": [
       "<AxesSubplot:xlabel='year_of_release'>"
      ]
     },
     "execution_count": 37,
     "metadata": {},
     "output_type": "execute_result"
    },
    {
     "data": {
      "image/png": "[encoded data removed]",
      "text/plain": [
       "<Figure size 936x288 with 1 Axes>"
      ]
     },
     "metadata": {
      "needs_background": "light"
     },
     "output_type": "display_data"
    }
   ],
   "source": [
    "data_actual[data_actual['platform'] == 'PS3'].pivot_table(index='year_of_release', values='world_sales', aggfunc='sum').plot(kind='bar', figsize=(13,4))"
   ]
  },
  {
   "cell_type": "code",
   "execution_count": 38,
   "id": "539c0587",
   "metadata": {},
   "outputs": [
    {
     "data": {
      "text/plain": [
       "<AxesSubplot:xlabel='year_of_release'>"
      ]
     },
     "execution_count": 38,
     "metadata": {},
     "output_type": "execute_result"
    },
    {
     "data": {
      "image/png": "[encoded data removed]",
      "text/plain": [
       "<Figure size 936x288 with 1 Axes>"
      ]
     },
     "metadata": {
      "needs_background": "light"
     },
     "output_type": "display_data"
    }
   ],
   "source": [
    "data_actual[data_actual['platform'] == 'X360'].pivot_table(index='year_of_release', values='world_sales', aggfunc='sum').plot(kind='bar', figsize=(13,4))"
   ]
  },
  {
   "cell_type": "code",
   "execution_count": 39,
   "id": "38fb3a8b",
   "metadata": {},
   "outputs": [
    {
     "data": {
      "text/plain": [
       "<AxesSubplot:xlabel='year_of_release'>"
      ]
     },
     "execution_count": 39,
     "metadata": {},
     "output_type": "execute_result"
    },
    {
     "data": {
      "image/png": "[encoded data removed]",
      "text/plain": [
       "<Figure size 936x288 with 1 Axes>"
      ]
     },
     "metadata": {
      "needs_background": "light"
     },
     "output_type": "display_data"
    }
   ],
   "source": [
    "data_actual[data_actual['platform'] == '3DS'].pivot_table(index='year_of_release', values='world_sales', aggfunc='sum').plot(kind='bar', figsize=(13,4))"
   ]
  },
  {
   "cell_type": "code",
   "execution_count": 40,
   "id": "bd253ee4",
   "metadata": {},
   "outputs": [
    {
     "data": {
      "text/plain": [
       "<AxesSubplot:xlabel='year_of_release'>"
      ]
     },
     "execution_count": 40,
     "metadata": {},
     "output_type": "execute_result"
    },
    {
     "data": {
      "image/png": "[encoded data removed]",
      "text/plain": [
       "<Figure size 936x288 with 1 Axes>"
      ]
     },
     "metadata": {
      "needs_background": "light"
     },
     "output_type": "display_data"
    }
   ],
   "source": [
    "data_actual[data_actual['platform'] == 'XOne'].pivot_table(index='year_of_release', values='world_sales', aggfunc='sum').plot(kind='bar', figsize=(13,4))"
   ]
  },
  {
   "cell_type": "markdown",
   "id": "bc4bb9a2",
   "metadata": {},
   "source": [
    "Самой прибыльной я бы назвала из наших данных PS 4 и XOne, по сравнению с другими платформами у них еще не так сильно упали продажи."
   ]
  },
  {
   "cell_type": "markdown",
   "id": "1efb4d34",
   "metadata": {},
   "source": [
    "##### 5.Постройте график «ящик с усами» по глобальным продажам игр в разбивке по платформам. Опишите результат.\n"
   ]
  },
  {
   "cell_type": "code",
   "execution_count": 41,
   "id": "47a1b875",
   "metadata": {},
   "outputs": [
    {
     "data": {
      "text/plain": [
       "<AxesSubplot:xlabel='platform', ylabel='world_sales'>"
      ]
     },
     "execution_count": 41,
     "metadata": {},
     "output_type": "execute_result"
    },
    {
     "data": {
      "image/png": "[encoded data removed]",
      "text/plain": [
       "<Figure size 432x288 with 1 Axes>"
      ]
     },
     "metadata": {
      "needs_background": "light"
     },
     "output_type": "display_data"
    }
   ],
   "source": [
    "sns.boxplot(data=data_actual, x='platform', y='world_sales')"
   ]
  },
  {
   "cell_type": "markdown",
   "id": "2eec2651",
   "metadata": {},
   "source": [
    "Ничего не видно, много выбросов"
   ]
  },
  {
   "cell_type": "code",
   "execution_count": 42,
   "id": "5cdbd2c1",
   "metadata": {},
   "outputs": [
    {
     "data": {
      "image/png": "[encoded data removed]",
      "text/plain": [
       "<Figure size 432x288 with 1 Axes>"
      ]
     },
     "metadata": {
      "needs_background": "light"
     },
     "output_type": "display_data"
    }
   ],
   "source": [
    "sns.boxplot(data=data_actual, x='platform', y='world_sales')\n",
    "_ = plt.ylim(0, 5)"
   ]
  },
  {
   "cell_type": "code",
   "execution_count": 91,
   "id": "046b1b5d",
   "metadata": {},
   "outputs": [
    {
     "data": {
      "image/png": "[encoded data removed]",
      "text/plain": [
       "<Figure size 1440x1080 with 1 Axes>"
      ]
     },
     "metadata": {
      "needs_background": "light"
     },
     "output_type": "display_data"
    }
   ],
   "source": [
    "plt.figure(figsize=(20,15))\n",
    "sns.boxplot(data=data_actual, x='platform', y='world_sales')\n",
    "_ = plt.ylim(0, 2)"
   ]
  },
  {
   "cell_type": "markdown",
   "id": "7d588425",
   "metadata": {},
   "source": [
    "Медианна скачет у всех платформ. Выбросы - это фактически бестселлеры - самые популярные игры, поэтому добавила ограничения на графики."
   ]
  },
  {
   "cell_type": "code",
   "execution_count": 97,
   "id": "343f1187",
   "metadata": {},
   "outputs": [
    {
     "data": {
      "text/plain": [
       "count    392.000000\n",
       "mean       0.801378\n",
       "std        1.609456\n",
       "min        0.010000\n",
       "25%        0.060000\n",
       "50%        0.200000\n",
       "75%        0.730000\n",
       "max       14.630000\n",
       "Name: world_sales, dtype: float64"
      ]
     },
     "execution_count": 97,
     "metadata": {},
     "output_type": "execute_result"
    }
   ],
   "source": [
    "data_actual[data_actual['platform'] == 'PS4']['world_sales'].describe()"
   ]
  },
  {
   "cell_type": "code",
   "execution_count": 98,
   "id": "2986dbb8",
   "metadata": {},
   "outputs": [
    {
     "data": {
      "text/plain": [
       "count    493.000000\n",
       "mean       0.585781\n",
       "std        1.462855\n",
       "min        0.010000\n",
       "25%        0.050000\n",
       "50%        0.200000\n",
       "75%        0.610000\n",
       "max       21.050000\n",
       "Name: world_sales, dtype: float64"
      ]
     },
     "execution_count": 98,
     "metadata": {},
     "output_type": "execute_result"
    }
   ],
   "source": [
    "data_actual[data_actual['platform'] == 'PS3']['world_sales'].describe()"
   ]
  },
  {
   "cell_type": "code",
   "execution_count": 99,
   "id": "6a571dfc",
   "metadata": {},
   "outputs": [
    {
     "data": {
      "text/plain": [
       "count    54.000000\n",
       "mean      0.655000\n",
       "std       1.165447\n",
       "min       0.010000\n",
       "25%       0.062500\n",
       "50%       0.180000\n",
       "75%       0.687500\n",
       "max       6.760000\n",
       "Name: world_sales, dtype: float64"
      ]
     },
     "execution_count": 99,
     "metadata": {},
     "output_type": "execute_result"
    }
   ],
   "source": [
    "data_actual[data_actual['platform'] == 'Wii']['world_sales'].describe()"
   ]
  },
  {
   "cell_type": "code",
   "execution_count": 100,
   "id": "d44d02a3",
   "metadata": {},
   "outputs": [
    {
     "data": {
      "text/plain": [
       "count    247.000000\n",
       "mean       0.645020\n",
       "std        1.036139\n",
       "min        0.010000\n",
       "25%        0.060000\n",
       "50%        0.220000\n",
       "75%        0.685000\n",
       "max        7.390000\n",
       "Name: world_sales, dtype: float64"
      ]
     },
     "execution_count": 100,
     "metadata": {},
     "output_type": "execute_result"
    }
   ],
   "source": [
    "data_actual[data_actual['platform'] == 'XOne']['world_sales'].describe()"
   ]
  },
  {
   "cell_type": "code",
   "execution_count": 101,
   "id": "01b765a6",
   "metadata": {},
   "outputs": [
    {
     "data": {
      "text/plain": [
       "count    292.000000\n",
       "mean       0.810068\n",
       "std        1.712069\n",
       "min        0.010000\n",
       "25%        0.100000\n",
       "50%        0.310000\n",
       "75%        0.870000\n",
       "max       16.270000\n",
       "Name: world_sales, dtype: float64"
      ]
     },
     "execution_count": 101,
     "metadata": {},
     "output_type": "execute_result"
    }
   ],
   "source": [
    "data_actual[data_actual['platform'] == 'X360']['world_sales'].describe()"
   ]
  },
  {
   "cell_type": "markdown",
   "id": "80fd6b63",
   "metadata": {},
   "source": [
    "Самые популярные платформы по продажам, то получается:\n",
    "<br> PS4 медианное значение 200 тыс. Максимальное значение 14 млн. На квартиле 75% - 700 тыс.\n",
    "<br> X360 медианное значение 300 тыс. Максимальное значение 16 млн. На квартиле 75% - 870 тыс.\n",
    "<br> PS3 медианное значение 210 тыс. Максимальное значение 21 млн. На квартиле 75% - 610 тыс.\n",
    "<br> XOne медианное значение 220 тыс. Максимальное значение 7 млн. На квартиле 75% - 685 тыс.\n",
    "<br> Wii медианное значение 180 тыс. Максимальное значение 6 млн. На квартиле 75% - 687 тыс."
   ]
  },
  {
   "cell_type": "markdown",
   "id": "e4fe3604",
   "metadata": {},
   "source": [
    "##### 6. Посмотрите, как влияют на продажи внутри одной популярной платформы отзывы пользователей и критиков. Постройте диаграмму рассеяния и посчитайте корреляцию между отзывами и продажами. Сформулируйте выводы."
   ]
  },
  {
   "cell_type": "code",
   "execution_count": 44,
   "id": "b0117d62",
   "metadata": {},
   "outputs": [
    {
     "data": {
      "text/plain": [
       "<AxesSubplot:xlabel='user_score', ylabel='world_sales'>"
      ]
     },
     "execution_count": 44,
     "metadata": {},
     "output_type": "execute_result"
    },
    {
     "data": {
      "image/png": "[encoded data removed]",
      "text/plain": [
       "<Figure size 864x432 with 1 Axes>"
      ]
     },
     "metadata": {
      "needs_background": "light"
     },
     "output_type": "display_data"
    }
   ],
   "source": [
    "platform_name = data_actual[data_actual['platform'] == 'PS4']\n",
    "platform_name = data_actual[data_actual['user_score'] != -1]\n",
    "plt.figure(figsize=(12,6))\n",
    "sns.scatterplot(x='user_score', y='world_sales', data=platform_name)"
   ]
  },
  {
   "cell_type": "code",
   "execution_count": 45,
   "id": "ace71e75",
   "metadata": {},
   "outputs": [
    {
     "name": "stdout",
     "output_type": "stream",
     "text": [
      "\n",
      " Корреляция между оценкой пользователей и продажей по миру: 0.0044288176754932575 \n",
      " Корреляция между оценкой критиков и продажей по миру: 0.2007785293947467\n"
     ]
    }
   ],
   "source": [
    "user_corr = platform_name['user_score'].corr(platform_name['world_sales'])\n",
    "critic_corr = platform_name['critic_score'].corr(platform_name['world_sales'])\n",
    "print('\\n','Корреляция между оценкой пользователей и продажей по миру:', user_corr,'\\n','Корреляция между оценкой критиков и продажей по миру:', critic_corr)"
   ]
  },
  {
   "cell_type": "markdown",
   "id": "4c42bc8b",
   "metadata": {},
   "source": [
    "Не такая сильная, но есть зависимость между оценкой критиков и продажами по миру."
   ]
  },
  {
   "cell_type": "markdown",
   "id": "c15b2ff3",
   "metadata": {},
   "source": [
    "##### 7.Соотнесите выводы с продажами игр на других платформах."
   ]
  },
  {
   "cell_type": "markdown",
   "id": "698ee79a",
   "metadata": {},
   "source": [
    "В этом задании все таки надо строить распределения по всем платформам или будет достаточно общего?\n",
    "Я посмотрела общую картину для ответа."
   ]
  },
  {
   "cell_type": "code",
   "execution_count": 46,
   "id": "97e6da46",
   "metadata": {},
   "outputs": [
    {
     "data": {
      "text/plain": [
       "<AxesSubplot:>"
      ]
     },
     "execution_count": 46,
     "metadata": {},
     "output_type": "execute_result"
    },
    {
     "data": {
      "image/png": "[encoded data removed]",
      "text/plain": [
       "<Figure size 2160x2160 with 2 Axes>"
      ]
     },
     "metadata": {
      "needs_background": "light"
     },
     "output_type": "display_data"
    }
   ],
   "source": [
    "data_corr = data_actual[data_actual['user_score'] != -1]\n",
    "data_corr = data_corr[data_corr['critic_score'] != -1]\n",
    "\n",
    "corr = data_corr.corr()\n",
    "fig, ax = plt.subplots(figsize=(30,30))\n",
    "sns.heatmap(corr, annot=True, \n",
    "        xticklabels=corr.columns,\n",
    "        yticklabels=corr.columns,\n",
    "        ax=ax)"
   ]
  },
  {
   "cell_type": "markdown",
   "id": "4a89ad58",
   "metadata": {},
   "source": [
    "Тут тоже корреляция между отзывами критиков и продажами повыше, чем обычных пользователей. Еще заметила высокую корреляцию между отзывами критиков и пользователей. Отзывы критиков обычно раньше выходят, получается они влияют на мнение обычных пользователей."
   ]
  },
  {
   "cell_type": "code",
   "execution_count": 47,
   "id": "5a7b1d2d",
   "metadata": {},
   "outputs": [
    {
     "name": "stdout",
     "output_type": "stream",
     "text": [
      "\n",
      " Корреляция между оценкой пользователей и продажей по миру: -0.09400318326920852 \n",
      " Корреляция между оценкой критиков и продажей по миру: 0.41042203561296375\n"
     ]
    },
    {
     "data": {
      "image/png": "[encoded data removed]",
      "text/plain": [
       "<Figure size 864x432 with 1 Axes>"
      ]
     },
     "metadata": {
      "needs_background": "light"
     },
     "output_type": "display_data"
    }
   ],
   "source": [
    "xone_corr = data_corr[data_corr['platform'] == 'XOne']\n",
    "\n",
    "plt.figure(figsize=(12,6))\n",
    "sns.scatterplot(x='user_score', y='world_sales', data=xone_corr)\n",
    "\n",
    "user_corr = xone_corr['user_score'].corr(xone_corr['world_sales'])\n",
    "critic_corr = xone_corr['critic_score'].corr(xone_corr['world_sales'])\n",
    "print('\\n','Корреляция между оценкой пользователей и продажей по миру:', user_corr,'\\n','Корреляция между оценкой критиков и продажей по миру:', critic_corr)"
   ]
  },
  {
   "cell_type": "markdown",
   "id": "b09cdd03",
   "metadata": {},
   "source": [
    "XOne намного сильнее зависят от оценок критиков, намного выше, чем у PS4. А зависимость между оценкой пользователей вообще отрицательная. Получается оценки пользователей совсем не влияют на продажи на данной платформе?"
   ]
  },
  {
   "cell_type": "code",
   "execution_count": 48,
   "id": "56457f74",
   "metadata": {},
   "outputs": [
    {
     "name": "stdout",
     "output_type": "stream",
     "text": [
      "\n",
      " Корреляция между оценкой пользователей и продажей по миру: 0.20181255007655283 \n",
      " Корреляция между оценкой критиков и продажей по миру: 0.31055301915326294\n"
     ]
    },
    {
     "data": {
      "image/png": "[encoded data removed]",
      "text/plain": [
       "<Figure size 864x432 with 1 Axes>"
      ]
     },
     "metadata": {
      "needs_background": "light"
     },
     "output_type": "display_data"
    }
   ],
   "source": [
    "DS3_corr = data_corr[data_corr['platform'] == '3DS']\n",
    "\n",
    "plt.figure(figsize=(12,6))\n",
    "sns.scatterplot(x='user_score', y='world_sales', data=DS3_corr)\n",
    "\n",
    "user_corr = DS3_corr['user_score'].corr(DS3_corr['world_sales'])\n",
    "critic_corr = DS3_corr['critic_score'].corr(DS3_corr['world_sales'])\n",
    "print('\\n','Корреляция между оценкой пользователей и продажей по миру:', user_corr,'\\n','Корреляция между оценкой критиков и продажей по миру:', critic_corr)"
   ]
  },
  {
   "cell_type": "markdown",
   "id": "dfbd56ee",
   "metadata": {},
   "source": [
    "##### 8.Посмотрите на общее распределение игр по жанрам. Что можно сказать о самых прибыльных жанрах? Выделяются ли жанры с высокими и низкими продажами?"
   ]
  },
  {
   "cell_type": "code",
   "execution_count": 49,
   "id": "03f6a1c5",
   "metadata": {
    "scrolled": true
   },
   "outputs": [
    {
     "data": {
      "text/plain": [
       "<AxesSubplot:xlabel='genre'>"
      ]
     },
     "execution_count": 49,
     "metadata": {},
     "output_type": "execute_result"
    },
    {
     "data": {
      "image/png": "[encoded data removed]",
      "text/plain": [
       "<Figure size 936x288 with 1 Axes>"
      ]
     },
     "metadata": {
      "needs_background": "light"
     },
     "output_type": "display_data"
    }
   ],
   "source": [
    "data_actual.pivot_table(index='genre', values='world_sales', aggfunc='sum').sort_values(by='world_sales', ascending=False).plot(kind='bar', figsize=(13,4))"
   ]
  },
  {
   "cell_type": "code",
   "execution_count": 50,
   "id": "b98844bb",
   "metadata": {},
   "outputs": [
    {
     "data": {
      "text/plain": [
       "<AxesSubplot:xlabel='genre'>"
      ]
     },
     "execution_count": 50,
     "metadata": {},
     "output_type": "execute_result"
    },
    {
     "data": {
      "image/png": "[encoded data removed]",
      "text/plain": [
       "<Figure size 936x288 with 1 Axes>"
      ]
     },
     "metadata": {
      "needs_background": "light"
     },
     "output_type": "display_data"
    }
   ],
   "source": [
    "data_actual.pivot_table(index='genre', values='world_sales', aggfunc='median').sort_values(by='world_sales', ascending=False).plot(kind='bar', figsize=(13,4))"
   ]
  },
  {
   "cell_type": "code",
   "execution_count": 51,
   "id": "549f2928",
   "metadata": {},
   "outputs": [
    {
     "data": {
      "text/plain": [
       "<AxesSubplot:xlabel='year_of_release'>"
      ]
     },
     "execution_count": 51,
     "metadata": {},
     "output_type": "execute_result"
    },
    {
     "data": {
      "image/png": "[encoded data removed]",
      "text/plain": [
       "<Figure size 936x288 with 1 Axes>"
      ]
     },
     "metadata": {
      "needs_background": "light"
     },
     "output_type": "display_data"
    }
   ],
   "source": [
    "data_actual[data_actual['genre'] == 'Action'].pivot_table(index='year_of_release', values='world_sales', aggfunc='sum').plot(kind='bar', figsize=(13,4))"
   ]
  },
  {
   "cell_type": "code",
   "execution_count": 52,
   "id": "2d2d335c",
   "metadata": {},
   "outputs": [
    {
     "data": {
      "text/plain": [
       "<AxesSubplot:xlabel='year_of_release'>"
      ]
     },
     "execution_count": 52,
     "metadata": {},
     "output_type": "execute_result"
    },
    {
     "data": {
      "image/png": "[encoded data removed]",
      "text/plain": [
       "<Figure size 936x288 with 1 Axes>"
      ]
     },
     "metadata": {
      "needs_background": "light"
     },
     "output_type": "display_data"
    }
   ],
   "source": [
    "data_actual[data_actual['genre'] == 'Shooter'].pivot_table(index='year_of_release', values='world_sales', aggfunc='sum').plot(kind='bar', figsize=(13,4))"
   ]
  },
  {
   "cell_type": "code",
   "execution_count": 53,
   "id": "0965ef59",
   "metadata": {},
   "outputs": [
    {
     "data": {
      "text/plain": [
       "<AxesSubplot:xlabel='year_of_release'>"
      ]
     },
     "execution_count": 53,
     "metadata": {},
     "output_type": "execute_result"
    },
    {
     "data": {
      "image/png": "[encoded data removed]",
      "text/plain": [
       "<Figure size 936x288 with 1 Axes>"
      ]
     },
     "metadata": {
      "needs_background": "light"
     },
     "output_type": "display_data"
    }
   ],
   "source": [
    "data_actual[data_actual['genre'] == 'Puzzle'].pivot_table(index='year_of_release', values='world_sales', aggfunc='sum').plot(kind='bar', figsize=(13,4))"
   ]
  },
  {
   "cell_type": "markdown",
   "id": "91283e5a",
   "metadata": {},
   "source": [
    "Выделяются с самыми высокими продажами Action. Puzzle - самые низкие"
   ]
  },
  {
   "cell_type": "markdown",
   "id": "03b60faa",
   "metadata": {},
   "source": [
    "## Составьте портрет пользователя каждого региона\n",
    "\n",
    "Определите для пользователя каждого региона (NA, EU, JP):\n",
    "<br>1.Самые популярные платформы (топ-5). Опишите различия в долях продаж.\n",
    "<br>2.Самые популярные жанры (топ-5). Поясните разницу.\n",
    "<br>3.Влияет ли рейтинг ESRB на продажи в отдельном регионе?"
   ]
  },
  {
   "cell_type": "markdown",
   "id": "63c08713",
   "metadata": {},
   "source": [
    "North America"
   ]
  },
  {
   "cell_type": "code",
   "execution_count": 54,
   "id": "5ac2d143",
   "metadata": {},
   "outputs": [
    {
     "data": {
      "text/html": [
       "<div>\n",
       "<style scoped>\n",
       "    .dataframe tbody tr th:only-of-type {\n",
       "        vertical-align: middle;\n",
       "    }\n",
       "\n",
       "    .dataframe tbody tr th {\n",
       "        vertical-align: top;\n",
       "    }\n",
       "\n",
       "    .dataframe thead th {\n",
       "        text-align: right;\n",
       "    }\n",
       "</style>\n",
       "<table border=\"1\" class=\"dataframe\">\n",
       "  <thead>\n",
       "    <tr style=\"text-align: right;\">\n",
       "      <th></th>\n",
       "      <th>na_sales</th>\n",
       "    </tr>\n",
       "    <tr>\n",
       "      <th>platform</th>\n",
       "      <th></th>\n",
       "    </tr>\n",
       "  </thead>\n",
       "  <tbody>\n",
       "    <tr>\n",
       "      <th>X360</th>\n",
       "      <td>140.05</td>\n",
       "    </tr>\n",
       "    <tr>\n",
       "      <th>PS4</th>\n",
       "      <td>108.74</td>\n",
       "    </tr>\n",
       "    <tr>\n",
       "      <th>PS3</th>\n",
       "      <td>103.38</td>\n",
       "    </tr>\n",
       "    <tr>\n",
       "      <th>XOne</th>\n",
       "      <td>93.12</td>\n",
       "    </tr>\n",
       "    <tr>\n",
       "      <th>3DS</th>\n",
       "      <td>55.31</td>\n",
       "    </tr>\n",
       "  </tbody>\n",
       "</table>\n",
       "</div>"
      ],
      "text/plain": [
       "          na_sales\n",
       "platform          \n",
       "X360        140.05\n",
       "PS4         108.74\n",
       "PS3         103.38\n",
       "XOne         93.12\n",
       "3DS          55.31"
      ]
     },
     "execution_count": 54,
     "metadata": {},
     "output_type": "execute_result"
    }
   ],
   "source": [
    "data_actual.pivot_table(index='platform', values='na_sales', aggfunc='sum').sort_values(by='na_sales', ascending=False).head(5)"
   ]
  },
  {
   "cell_type": "code",
   "execution_count": 55,
   "id": "42933b98",
   "metadata": {},
   "outputs": [
    {
     "data": {
      "text/html": [
       "<div>\n",
       "<style scoped>\n",
       "    .dataframe tbody tr th:only-of-type {\n",
       "        vertical-align: middle;\n",
       "    }\n",
       "\n",
       "    .dataframe tbody tr th {\n",
       "        vertical-align: top;\n",
       "    }\n",
       "\n",
       "    .dataframe thead th {\n",
       "        text-align: right;\n",
       "    }\n",
       "</style>\n",
       "<table border=\"1\" class=\"dataframe\">\n",
       "  <thead>\n",
       "    <tr style=\"text-align: right;\">\n",
       "      <th></th>\n",
       "      <th>na_sales</th>\n",
       "    </tr>\n",
       "    <tr>\n",
       "      <th>genre</th>\n",
       "      <th></th>\n",
       "    </tr>\n",
       "  </thead>\n",
       "  <tbody>\n",
       "    <tr>\n",
       "      <th>Action</th>\n",
       "      <td>177.84</td>\n",
       "    </tr>\n",
       "    <tr>\n",
       "      <th>Shooter</th>\n",
       "      <td>144.77</td>\n",
       "    </tr>\n",
       "    <tr>\n",
       "      <th>Sports</th>\n",
       "      <td>81.53</td>\n",
       "    </tr>\n",
       "    <tr>\n",
       "      <th>Role-Playing</th>\n",
       "      <td>64.00</td>\n",
       "    </tr>\n",
       "    <tr>\n",
       "      <th>Misc</th>\n",
       "      <td>38.19</td>\n",
       "    </tr>\n",
       "  </tbody>\n",
       "</table>\n",
       "</div>"
      ],
      "text/plain": [
       "              na_sales\n",
       "genre                 \n",
       "Action          177.84\n",
       "Shooter         144.77\n",
       "Sports           81.53\n",
       "Role-Playing     64.00\n",
       "Misc             38.19"
      ]
     },
     "execution_count": 55,
     "metadata": {},
     "output_type": "execute_result"
    }
   ],
   "source": [
    "data_actual.pivot_table(index='genre', values='na_sales', aggfunc='sum').sort_values(by='na_sales', ascending=False).head(5)"
   ]
  },
  {
   "cell_type": "code",
   "execution_count": 56,
   "id": "5b24c602",
   "metadata": {},
   "outputs": [
    {
     "data": {
      "text/html": [
       "<div>\n",
       "<style scoped>\n",
       "    .dataframe tbody tr th:only-of-type {\n",
       "        vertical-align: middle;\n",
       "    }\n",
       "\n",
       "    .dataframe tbody tr th {\n",
       "        vertical-align: top;\n",
       "    }\n",
       "\n",
       "    .dataframe thead th {\n",
       "        text-align: right;\n",
       "    }\n",
       "</style>\n",
       "<table border=\"1\" class=\"dataframe\">\n",
       "  <thead>\n",
       "    <tr style=\"text-align: right;\">\n",
       "      <th></th>\n",
       "      <th>na_sales</th>\n",
       "    </tr>\n",
       "    <tr>\n",
       "      <th>rating</th>\n",
       "      <th></th>\n",
       "    </tr>\n",
       "  </thead>\n",
       "  <tbody>\n",
       "    <tr>\n",
       "      <th>M</th>\n",
       "      <td>231.57</td>\n",
       "    </tr>\n",
       "    <tr>\n",
       "      <th>E</th>\n",
       "      <td>114.37</td>\n",
       "    </tr>\n",
       "    <tr>\n",
       "      <th>no_rating</th>\n",
       "      <td>103.31</td>\n",
       "    </tr>\n",
       "    <tr>\n",
       "      <th>E10+</th>\n",
       "      <td>75.70</td>\n",
       "    </tr>\n",
       "    <tr>\n",
       "      <th>T</th>\n",
       "      <td>66.02</td>\n",
       "    </tr>\n",
       "  </tbody>\n",
       "</table>\n",
       "</div>"
      ],
      "text/plain": [
       "           na_sales\n",
       "rating             \n",
       "M            231.57\n",
       "E            114.37\n",
       "no_rating    103.31\n",
       "E10+          75.70\n",
       "T             66.02"
      ]
     },
     "execution_count": 56,
     "metadata": {},
     "output_type": "execute_result"
    }
   ],
   "source": [
    "data_actual.pivot_table(index='rating', values='na_sales', aggfunc='sum').sort_values(by='na_sales', ascending=False).head(5)"
   ]
  },
  {
   "cell_type": "code",
   "execution_count": 57,
   "id": "dcfd729b",
   "metadata": {},
   "outputs": [
    {
     "data": {
      "text/html": [
       "<div>\n",
       "<style scoped>\n",
       "    .dataframe tbody tr th:only-of-type {\n",
       "        vertical-align: middle;\n",
       "    }\n",
       "\n",
       "    .dataframe tbody tr th {\n",
       "        vertical-align: top;\n",
       "    }\n",
       "\n",
       "    .dataframe thead th {\n",
       "        text-align: right;\n",
       "    }\n",
       "</style>\n",
       "<table border=\"1\" class=\"dataframe\">\n",
       "  <thead>\n",
       "    <tr style=\"text-align: right;\">\n",
       "      <th></th>\n",
       "      <th>platform</th>\n",
       "      <th>na_sales</th>\n",
       "    </tr>\n",
       "  </thead>\n",
       "  <tbody>\n",
       "    <tr>\n",
       "      <th>0</th>\n",
       "      <td>3DS</td>\n",
       "      <td>24.75</td>\n",
       "    </tr>\n",
       "    <tr>\n",
       "      <th>1</th>\n",
       "      <td>PS4</td>\n",
       "      <td>23.77</td>\n",
       "    </tr>\n",
       "    <tr>\n",
       "      <th>2</th>\n",
       "      <td>XOne</td>\n",
       "      <td>14.63</td>\n",
       "    </tr>\n",
       "    <tr>\n",
       "      <th>3</th>\n",
       "      <td>X360</td>\n",
       "      <td>13.74</td>\n",
       "    </tr>\n",
       "    <tr>\n",
       "      <th>4</th>\n",
       "      <td>PS3</td>\n",
       "      <td>12.15</td>\n",
       "    </tr>\n",
       "  </tbody>\n",
       "</table>\n",
       "</div>"
      ],
      "text/plain": [
       "  platform  na_sales\n",
       "0      3DS     24.75\n",
       "1      PS4     23.77\n",
       "2     XOne     14.63\n",
       "3     X360     13.74\n",
       "4      PS3     12.15"
      ]
     },
     "execution_count": 57,
     "metadata": {},
     "output_type": "execute_result"
    }
   ],
   "source": [
    "no_rate_na = data_actual[data_actual['rating'] == 'no_rating']\n",
    "no_rate_na.pivot_table(index='platform', values='na_sales', aggfunc='sum').sort_values(by='na_sales', ascending=False).reset_index().rename_axis(None, axis=1).head(5)"
   ]
  },
  {
   "cell_type": "markdown",
   "id": "6f15077f",
   "metadata": {},
   "source": [
    "В Северной Америке выделяются следующие популярные платформы:\n",
    "<br>    X360, PS4, PS3, XOne, 3DS\n",
    "\n",
    "Жанры:\n",
    "<br>    Action, Shooter, Sport, Role-Playing, Misc\n",
    "\n",
    "Возрастной рейтинг:\n",
    "<br>    M (для взрослых), E (для всех), Игры без рейтинга, E10+ (для всех старше 10 лет), T (подросткам, старше 13 лет)\n",
    "\n",
    "Самые продаваемые игры на платформах без возрастного рейтинга:\n",
    "<br>   3DS, PS4, XOne, X360, PS3"
   ]
  },
  {
   "cell_type": "markdown",
   "id": "76c35adf",
   "metadata": {},
   "source": [
    "European Union\n"
   ]
  },
  {
   "cell_type": "code",
   "execution_count": 58,
   "id": "84e631a0",
   "metadata": {},
   "outputs": [
    {
     "data": {
      "text/html": [
       "<div>\n",
       "<style scoped>\n",
       "    .dataframe tbody tr th:only-of-type {\n",
       "        vertical-align: middle;\n",
       "    }\n",
       "\n",
       "    .dataframe tbody tr th {\n",
       "        vertical-align: top;\n",
       "    }\n",
       "\n",
       "    .dataframe thead th {\n",
       "        text-align: right;\n",
       "    }\n",
       "</style>\n",
       "<table border=\"1\" class=\"dataframe\">\n",
       "  <thead>\n",
       "    <tr style=\"text-align: right;\">\n",
       "      <th></th>\n",
       "      <th>eu_sales</th>\n",
       "    </tr>\n",
       "    <tr>\n",
       "      <th>platform</th>\n",
       "      <th></th>\n",
       "    </tr>\n",
       "  </thead>\n",
       "  <tbody>\n",
       "    <tr>\n",
       "      <th>PS4</th>\n",
       "      <td>141.09</td>\n",
       "    </tr>\n",
       "    <tr>\n",
       "      <th>PS3</th>\n",
       "      <td>106.86</td>\n",
       "    </tr>\n",
       "    <tr>\n",
       "      <th>X360</th>\n",
       "      <td>74.52</td>\n",
       "    </tr>\n",
       "    <tr>\n",
       "      <th>XOne</th>\n",
       "      <td>51.59</td>\n",
       "    </tr>\n",
       "    <tr>\n",
       "      <th>3DS</th>\n",
       "      <td>42.64</td>\n",
       "    </tr>\n",
       "  </tbody>\n",
       "</table>\n",
       "</div>"
      ],
      "text/plain": [
       "          eu_sales\n",
       "platform          \n",
       "PS4         141.09\n",
       "PS3         106.86\n",
       "X360         74.52\n",
       "XOne         51.59\n",
       "3DS          42.64"
      ]
     },
     "execution_count": 58,
     "metadata": {},
     "output_type": "execute_result"
    }
   ],
   "source": [
    "data_actual.pivot_table(index='platform', values='eu_sales', aggfunc='sum').sort_values(by='eu_sales', ascending=False).head(5)"
   ]
  },
  {
   "cell_type": "code",
   "execution_count": 59,
   "id": "37a4dda7",
   "metadata": {},
   "outputs": [
    {
     "data": {
      "text/html": [
       "<div>\n",
       "<style scoped>\n",
       "    .dataframe tbody tr th:only-of-type {\n",
       "        vertical-align: middle;\n",
       "    }\n",
       "\n",
       "    .dataframe tbody tr th {\n",
       "        vertical-align: top;\n",
       "    }\n",
       "\n",
       "    .dataframe thead th {\n",
       "        text-align: right;\n",
       "    }\n",
       "</style>\n",
       "<table border=\"1\" class=\"dataframe\">\n",
       "  <thead>\n",
       "    <tr style=\"text-align: right;\">\n",
       "      <th></th>\n",
       "      <th>eu_sales</th>\n",
       "    </tr>\n",
       "    <tr>\n",
       "      <th>rating</th>\n",
       "      <th></th>\n",
       "    </tr>\n",
       "  </thead>\n",
       "  <tbody>\n",
       "    <tr>\n",
       "      <th>M</th>\n",
       "      <td>193.96</td>\n",
       "    </tr>\n",
       "    <tr>\n",
       "      <th>E</th>\n",
       "      <td>113.03</td>\n",
       "    </tr>\n",
       "    <tr>\n",
       "      <th>no_rating</th>\n",
       "      <td>91.50</td>\n",
       "    </tr>\n",
       "    <tr>\n",
       "      <th>E10+</th>\n",
       "      <td>55.37</td>\n",
       "    </tr>\n",
       "    <tr>\n",
       "      <th>T</th>\n",
       "      <td>52.96</td>\n",
       "    </tr>\n",
       "  </tbody>\n",
       "</table>\n",
       "</div>"
      ],
      "text/plain": [
       "           eu_sales\n",
       "rating             \n",
       "M            193.96\n",
       "E            113.03\n",
       "no_rating     91.50\n",
       "E10+          55.37\n",
       "T             52.96"
      ]
     },
     "execution_count": 59,
     "metadata": {},
     "output_type": "execute_result"
    }
   ],
   "source": [
    "data_actual.pivot_table(index='rating', values='eu_sales', aggfunc='sum').sort_values(by='eu_sales', ascending=False).head(5)"
   ]
  },
  {
   "cell_type": "code",
   "execution_count": 60,
   "id": "488b54e9",
   "metadata": {},
   "outputs": [
    {
     "data": {
      "text/html": [
       "<div>\n",
       "<style scoped>\n",
       "    .dataframe tbody tr th:only-of-type {\n",
       "        vertical-align: middle;\n",
       "    }\n",
       "\n",
       "    .dataframe tbody tr th {\n",
       "        vertical-align: top;\n",
       "    }\n",
       "\n",
       "    .dataframe thead th {\n",
       "        text-align: right;\n",
       "    }\n",
       "</style>\n",
       "<table border=\"1\" class=\"dataframe\">\n",
       "  <thead>\n",
       "    <tr style=\"text-align: right;\">\n",
       "      <th></th>\n",
       "      <th>eu_sales</th>\n",
       "    </tr>\n",
       "    <tr>\n",
       "      <th>genre</th>\n",
       "      <th></th>\n",
       "    </tr>\n",
       "  </thead>\n",
       "  <tbody>\n",
       "    <tr>\n",
       "      <th>Action</th>\n",
       "      <td>159.34</td>\n",
       "    </tr>\n",
       "    <tr>\n",
       "      <th>Shooter</th>\n",
       "      <td>113.47</td>\n",
       "    </tr>\n",
       "    <tr>\n",
       "      <th>Sports</th>\n",
       "      <td>69.09</td>\n",
       "    </tr>\n",
       "    <tr>\n",
       "      <th>Role-Playing</th>\n",
       "      <td>48.53</td>\n",
       "    </tr>\n",
       "    <tr>\n",
       "      <th>Racing</th>\n",
       "      <td>27.29</td>\n",
       "    </tr>\n",
       "  </tbody>\n",
       "</table>\n",
       "</div>"
      ],
      "text/plain": [
       "              eu_sales\n",
       "genre                 \n",
       "Action          159.34\n",
       "Shooter         113.47\n",
       "Sports           69.09\n",
       "Role-Playing     48.53\n",
       "Racing           27.29"
      ]
     },
     "execution_count": 60,
     "metadata": {},
     "output_type": "execute_result"
    }
   ],
   "source": [
    "data_actual.pivot_table(index='genre', values='eu_sales', aggfunc='sum').sort_values(by='eu_sales', ascending=False).head(5)"
   ]
  },
  {
   "cell_type": "code",
   "execution_count": 61,
   "id": "e928f511",
   "metadata": {},
   "outputs": [
    {
     "data": {
      "text/html": [
       "<div>\n",
       "<style scoped>\n",
       "    .dataframe tbody tr th:only-of-type {\n",
       "        vertical-align: middle;\n",
       "    }\n",
       "\n",
       "    .dataframe tbody tr th {\n",
       "        vertical-align: top;\n",
       "    }\n",
       "\n",
       "    .dataframe thead th {\n",
       "        text-align: right;\n",
       "    }\n",
       "</style>\n",
       "<table border=\"1\" class=\"dataframe\">\n",
       "  <thead>\n",
       "    <tr style=\"text-align: right;\">\n",
       "      <th></th>\n",
       "      <th>platform</th>\n",
       "      <th>eu_sales</th>\n",
       "    </tr>\n",
       "  </thead>\n",
       "  <tbody>\n",
       "    <tr>\n",
       "      <th>0</th>\n",
       "      <td>PS4</td>\n",
       "      <td>27.99</td>\n",
       "    </tr>\n",
       "    <tr>\n",
       "      <th>1</th>\n",
       "      <td>3DS</td>\n",
       "      <td>20.21</td>\n",
       "    </tr>\n",
       "    <tr>\n",
       "      <th>2</th>\n",
       "      <td>PS3</td>\n",
       "      <td>12.44</td>\n",
       "    </tr>\n",
       "    <tr>\n",
       "      <th>3</th>\n",
       "      <td>XOne</td>\n",
       "      <td>8.30</td>\n",
       "    </tr>\n",
       "    <tr>\n",
       "      <th>4</th>\n",
       "      <td>X360</td>\n",
       "      <td>7.48</td>\n",
       "    </tr>\n",
       "  </tbody>\n",
       "</table>\n",
       "</div>"
      ],
      "text/plain": [
       "  platform  eu_sales\n",
       "0      PS4     27.99\n",
       "1      3DS     20.21\n",
       "2      PS3     12.44\n",
       "3     XOne      8.30\n",
       "4     X360      7.48"
      ]
     },
     "execution_count": 61,
     "metadata": {},
     "output_type": "execute_result"
    }
   ],
   "source": [
    "no_rate_eu = data_actual[data_actual['rating'] == 'no_rating']\n",
    "no_rate_eu.pivot_table(index='platform', values='eu_sales', aggfunc='sum').sort_values(by='eu_sales', ascending=False).reset_index().rename_axis(None, axis=1).head(5)"
   ]
  },
  {
   "cell_type": "markdown",
   "id": "128ff663",
   "metadata": {},
   "source": [
    "В Европе выделяются следующие популярные платформы:\n",
    "<br>   PS3, PS4, X360, Xone, 3DS\n",
    "\n",
    "Жанры:\n",
    "<br>    Action, Shooter, Sport, Role-playing, Racing\n",
    "\n",
    "Возрастной рейтинг:\n",
    "<br>    M (для взрослых), E (для всех), Игры без рейтинга, Т(подросткам), Е10+ (для всех, от 10 лет)\n",
    "\n",
    "Самые продаваемые игры на платформах без возрастного рейтинга:\n",
    "<br>   PS4, 3DS, PS3, XOne, X360"
   ]
  },
  {
   "cell_type": "markdown",
   "id": "7a53dfdb",
   "metadata": {},
   "source": [
    "Japanese"
   ]
  },
  {
   "cell_type": "code",
   "execution_count": 62,
   "id": "b41ac1fa",
   "metadata": {},
   "outputs": [
    {
     "data": {
      "text/html": [
       "<div>\n",
       "<style scoped>\n",
       "    .dataframe tbody tr th:only-of-type {\n",
       "        vertical-align: middle;\n",
       "    }\n",
       "\n",
       "    .dataframe tbody tr th {\n",
       "        vertical-align: top;\n",
       "    }\n",
       "\n",
       "    .dataframe thead th {\n",
       "        text-align: right;\n",
       "    }\n",
       "</style>\n",
       "<table border=\"1\" class=\"dataframe\">\n",
       "  <thead>\n",
       "    <tr style=\"text-align: right;\">\n",
       "      <th></th>\n",
       "      <th>jp_sales</th>\n",
       "    </tr>\n",
       "    <tr>\n",
       "      <th>genre</th>\n",
       "      <th></th>\n",
       "    </tr>\n",
       "  </thead>\n",
       "  <tbody>\n",
       "    <tr>\n",
       "      <th>Role-Playing</th>\n",
       "      <td>65.44</td>\n",
       "    </tr>\n",
       "    <tr>\n",
       "      <th>Action</th>\n",
       "      <td>52.80</td>\n",
       "    </tr>\n",
       "    <tr>\n",
       "      <th>Misc</th>\n",
       "      <td>12.86</td>\n",
       "    </tr>\n",
       "    <tr>\n",
       "      <th>Simulation</th>\n",
       "      <td>10.41</td>\n",
       "    </tr>\n",
       "    <tr>\n",
       "      <th>Fighting</th>\n",
       "      <td>9.44</td>\n",
       "    </tr>\n",
       "  </tbody>\n",
       "</table>\n",
       "</div>"
      ],
      "text/plain": [
       "              jp_sales\n",
       "genre                 \n",
       "Role-Playing     65.44\n",
       "Action           52.80\n",
       "Misc             12.86\n",
       "Simulation       10.41\n",
       "Fighting          9.44"
      ]
     },
     "execution_count": 62,
     "metadata": {},
     "output_type": "execute_result"
    }
   ],
   "source": [
    "data_actual.pivot_table(index='genre', values='jp_sales', aggfunc='sum').sort_values(by='jp_sales', ascending=False).head(5)"
   ]
  },
  {
   "cell_type": "code",
   "execution_count": 63,
   "id": "1e4ca07b",
   "metadata": {},
   "outputs": [
    {
     "data": {
      "text/html": [
       "<div>\n",
       "<style scoped>\n",
       "    .dataframe tbody tr th:only-of-type {\n",
       "        vertical-align: middle;\n",
       "    }\n",
       "\n",
       "    .dataframe tbody tr th {\n",
       "        vertical-align: top;\n",
       "    }\n",
       "\n",
       "    .dataframe thead th {\n",
       "        text-align: right;\n",
       "    }\n",
       "</style>\n",
       "<table border=\"1\" class=\"dataframe\">\n",
       "  <thead>\n",
       "    <tr style=\"text-align: right;\">\n",
       "      <th></th>\n",
       "      <th>jp_sales</th>\n",
       "    </tr>\n",
       "    <tr>\n",
       "      <th>rating</th>\n",
       "      <th></th>\n",
       "    </tr>\n",
       "  </thead>\n",
       "  <tbody>\n",
       "    <tr>\n",
       "      <th>no_rating</th>\n",
       "      <td>108.84</td>\n",
       "    </tr>\n",
       "    <tr>\n",
       "      <th>E</th>\n",
       "      <td>28.33</td>\n",
       "    </tr>\n",
       "    <tr>\n",
       "      <th>T</th>\n",
       "      <td>26.02</td>\n",
       "    </tr>\n",
       "    <tr>\n",
       "      <th>M</th>\n",
       "      <td>21.20</td>\n",
       "    </tr>\n",
       "    <tr>\n",
       "      <th>E10+</th>\n",
       "      <td>8.19</td>\n",
       "    </tr>\n",
       "  </tbody>\n",
       "</table>\n",
       "</div>"
      ],
      "text/plain": [
       "           jp_sales\n",
       "rating             \n",
       "no_rating    108.84\n",
       "E             28.33\n",
       "T             26.02\n",
       "M             21.20\n",
       "E10+           8.19"
      ]
     },
     "execution_count": 63,
     "metadata": {},
     "output_type": "execute_result"
    }
   ],
   "source": [
    "data_actual.pivot_table(index='rating', values='jp_sales', aggfunc='sum').sort_values(by='jp_sales', ascending=False).head(5)"
   ]
  },
  {
   "cell_type": "code",
   "execution_count": 64,
   "id": "88e0b369",
   "metadata": {},
   "outputs": [
    {
     "data": {
      "text/html": [
       "<div>\n",
       "<style scoped>\n",
       "    .dataframe tbody tr th:only-of-type {\n",
       "        vertical-align: middle;\n",
       "    }\n",
       "\n",
       "    .dataframe tbody tr th {\n",
       "        vertical-align: top;\n",
       "    }\n",
       "\n",
       "    .dataframe thead th {\n",
       "        text-align: right;\n",
       "    }\n",
       "</style>\n",
       "<table border=\"1\" class=\"dataframe\">\n",
       "  <thead>\n",
       "    <tr style=\"text-align: right;\">\n",
       "      <th></th>\n",
       "      <th>jp_sales</th>\n",
       "    </tr>\n",
       "    <tr>\n",
       "      <th>platform</th>\n",
       "      <th></th>\n",
       "    </tr>\n",
       "  </thead>\n",
       "  <tbody>\n",
       "    <tr>\n",
       "      <th>3DS</th>\n",
       "      <td>87.79</td>\n",
       "    </tr>\n",
       "    <tr>\n",
       "      <th>PS3</th>\n",
       "      <td>35.29</td>\n",
       "    </tr>\n",
       "    <tr>\n",
       "      <th>PSV</th>\n",
       "      <td>21.04</td>\n",
       "    </tr>\n",
       "    <tr>\n",
       "      <th>PS4</th>\n",
       "      <td>15.96</td>\n",
       "    </tr>\n",
       "    <tr>\n",
       "      <th>WiiU</th>\n",
       "      <td>13.01</td>\n",
       "    </tr>\n",
       "  </tbody>\n",
       "</table>\n",
       "</div>"
      ],
      "text/plain": [
       "          jp_sales\n",
       "platform          \n",
       "3DS          87.79\n",
       "PS3          35.29\n",
       "PSV          21.04\n",
       "PS4          15.96\n",
       "WiiU         13.01"
      ]
     },
     "execution_count": 64,
     "metadata": {},
     "output_type": "execute_result"
    }
   ],
   "source": [
    "data_actual.pivot_table(index='platform', values='jp_sales', aggfunc='sum').sort_values(by='jp_sales', ascending=False).head(5)"
   ]
  },
  {
   "cell_type": "code",
   "execution_count": 65,
   "id": "6421e4ca",
   "metadata": {},
   "outputs": [
    {
     "data": {
      "text/html": [
       "<div>\n",
       "<style scoped>\n",
       "    .dataframe tbody tr th:only-of-type {\n",
       "        vertical-align: middle;\n",
       "    }\n",
       "\n",
       "    .dataframe tbody tr th {\n",
       "        vertical-align: top;\n",
       "    }\n",
       "\n",
       "    .dataframe thead th {\n",
       "        text-align: right;\n",
       "    }\n",
       "</style>\n",
       "<table border=\"1\" class=\"dataframe\">\n",
       "  <thead>\n",
       "    <tr style=\"text-align: right;\">\n",
       "      <th></th>\n",
       "      <th>platform</th>\n",
       "      <th>jp_sales</th>\n",
       "    </tr>\n",
       "  </thead>\n",
       "  <tbody>\n",
       "    <tr>\n",
       "      <th>0</th>\n",
       "      <td>3DS</td>\n",
       "      <td>60.00</td>\n",
       "    </tr>\n",
       "    <tr>\n",
       "      <th>1</th>\n",
       "      <td>PSV</td>\n",
       "      <td>12.86</td>\n",
       "    </tr>\n",
       "    <tr>\n",
       "      <th>2</th>\n",
       "      <td>PS3</td>\n",
       "      <td>11.23</td>\n",
       "    </tr>\n",
       "    <tr>\n",
       "      <th>3</th>\n",
       "      <td>PSP</td>\n",
       "      <td>9.87</td>\n",
       "    </tr>\n",
       "    <tr>\n",
       "      <th>4</th>\n",
       "      <td>PS4</td>\n",
       "      <td>6.25</td>\n",
       "    </tr>\n",
       "  </tbody>\n",
       "</table>\n",
       "</div>"
      ],
      "text/plain": [
       "  platform  jp_sales\n",
       "0      3DS     60.00\n",
       "1      PSV     12.86\n",
       "2      PS3     11.23\n",
       "3      PSP      9.87\n",
       "4      PS4      6.25"
      ]
     },
     "execution_count": 65,
     "metadata": {},
     "output_type": "execute_result"
    }
   ],
   "source": [
    "no_rate_jp = data_actual[data_actual['rating'] == 'no_rating']\n",
    "no_rate_jp.pivot_table(index='platform', values='jp_sales', aggfunc='sum').sort_values(by='jp_sales', ascending=False).reset_index().rename_axis(None, axis=1).head(5)"
   ]
  },
  {
   "cell_type": "markdown",
   "id": "280ab0c7",
   "metadata": {},
   "source": [
    "Если в Европе и Северной Америке было более менее похожее поведение, то в Японии портрет совершенно отличается.\n",
    "\n",
    "В Японии выделяются следующие популярные платформы:\n",
    "<br>   3DS, PS3, PSV, PS4, WiiU\n",
    "\n",
    "Жанры:\n",
    "<br>    Role-playing, Action, Misc, Simulation, Fighting\n",
    "\n",
    "Возрастной рейтинг:\n",
    "<br>    Игры без рейтинга, E (для всех), Игры без рейтинга, Т(подросткам),  M (для взрослых), Е10+ (для всех, от 10 лет)\n",
    "\n",
    "Самые продаваемые игры на платформах без возрастного рейтинга:\n",
    "<br>   3DS, PSV, PS3, PSP, PS4"
   ]
  },
  {
   "cell_type": "markdown",
   "id": "b487f253",
   "metadata": {},
   "source": [
    "Как будто бы рейтинг ESRB влияет на продажи только в Европе и Северной Америке. В Японии больше отдают внимания ретро играм, у которых даже возрастного рейтинга нету."
   ]
  },
  {
   "cell_type": "markdown",
   "id": "1d07a217",
   "metadata": {},
   "source": [
    "## Проверьте гипотезы\n",
    "\n",
    "1.Средние пользовательские рейтинги платформ Xbox One и PC одинаковые;\n",
    "<br>2.Средние пользовательские рейтинги жанров Action (англ. «действие», экшен-игры) и Sports (англ. «спортивные соревнования») разные.\n",
    "<br>3.Задайте самостоятельно пороговое значение alpha.\n",
    "<br>4.Поясните:\n",
    "<br>4.1.Как вы сформулировали нулевую и альтернативную гипотезы;\n",
    "<br>4.2.Какой критерий применили для проверки гипотез и почему."
   ]
  },
  {
   "cell_type": "markdown",
   "id": "a66bb6e7",
   "metadata": {},
   "source": [
    "<b>Средние пользовательские рейтинги платформ Xbox One и PC одинаковые;"
   ]
  },
  {
   "cell_type": "markdown",
   "id": "b4feda34",
   "metadata": {},
   "source": [
    "<br>H0: средний пользовательский рейтинг жанров Xbox One и PC одинаковый\n",
    "<br>H1: средний пользовательский рейтинг жанров Xbox One и PC различается"
   ]
  },
  {
   "cell_type": "code",
   "execution_count": 66,
   "id": "54f0999c",
   "metadata": {},
   "outputs": [
    {
     "data": {
      "text/plain": [
       "array(['PS3', 'X360', 'PS4', '3DS', 'WiiU', 'Wii', 'XOne', 'PC', 'PSV',\n",
       "       'DS', 'PSP'], dtype=object)"
      ]
     },
     "execution_count": 66,
     "metadata": {},
     "output_type": "execute_result"
    }
   ],
   "source": [
    "data_corr['platform'].unique()"
   ]
  },
  {
   "cell_type": "code",
   "execution_count": 67,
   "id": "739d5663",
   "metadata": {},
   "outputs": [],
   "source": [
    "pc = data_corr[data_corr['platform']=='PC']['user_score']\n",
    "xone = data_corr[data_corr['platform']=='XOne']['user_score']"
   ]
  },
  {
   "cell_type": "code",
   "execution_count": 68,
   "id": "1533ad19",
   "metadata": {},
   "outputs": [
    {
     "data": {
      "text/plain": [
       "6.4543147208121825"
      ]
     },
     "execution_count": 68,
     "metadata": {},
     "output_type": "execute_result"
    }
   ],
   "source": [
    "pc.mean()"
   ]
  },
  {
   "cell_type": "code",
   "execution_count": 69,
   "id": "54b23a81",
   "metadata": {},
   "outputs": [
    {
     "data": {
      "text/plain": [
       "6.538181818181818"
      ]
     },
     "execution_count": 69,
     "metadata": {},
     "output_type": "execute_result"
    }
   ],
   "source": [
    "xone.mean()"
   ]
  },
  {
   "cell_type": "code",
   "execution_count": 70,
   "id": "090a6b95",
   "metadata": {},
   "outputs": [
    {
     "name": "stdout",
     "output_type": "stream",
     "text": [
      "p-значение: 0.5926561176517491\n",
      "Не получилось отвергнуть нулевую гипотезу\n"
     ]
    }
   ],
   "source": [
    "alpha = .05\n",
    "results = st.ttest_ind(xone, pc, equal_var=False)\n",
    "print('p-значение:', results.pvalue)\n",
    "\n",
    "if (results.pvalue < alpha):\n",
    "    print(\"Отвергаем нулевую гипотезу\")\n",
    "else:\n",
    "    print(\"Не получилось отвергнуть нулевую гипотезу\")"
   ]
  },
  {
   "cell_type": "markdown",
   "id": "730964b8",
   "metadata": {},
   "source": [
    "<b>Вывод: получается, что средние пользовательские рейтинги платформ Xbox One и PC одинаковые."
   ]
  },
  {
   "cell_type": "markdown",
   "id": "4c3cf098",
   "metadata": {},
   "source": [
    "<b>Средние пользовательские рейтинги жанров Action (англ. «действие», экшен-игры) и Sports (англ. «спортивные соревнования») разные."
   ]
  },
  {
   "cell_type": "markdown",
   "id": "cb9d94f9",
   "metadata": {},
   "source": [
    "<br>H0: средний пользовательский рейтинг жанров Action и Sports одинаковый\n",
    "<br>H1: средний пользовательский рейтинг жанров Action и Sports различается"
   ]
  },
  {
   "cell_type": "code",
   "execution_count": 71,
   "id": "9b540f2e",
   "metadata": {},
   "outputs": [
    {
     "data": {
      "text/plain": [
       "array(['Action', 'Shooter', 'Platform', 'Simulation', 'Sports',\n",
       "       'Role-Playing', 'Racing', 'Misc', 'Fighting', 'Strategy',\n",
       "       'Adventure', 'Puzzle'], dtype=object)"
      ]
     },
     "execution_count": 71,
     "metadata": {},
     "output_type": "execute_result"
    }
   ],
   "source": [
    "data_corr['genre'].unique()"
   ]
  },
  {
   "cell_type": "code",
   "execution_count": 72,
   "id": "48cc9d8f",
   "metadata": {},
   "outputs": [],
   "source": [
    "action = data_corr[data_corr['genre']=='Action']['user_score']\n",
    "sports = data_corr[data_corr['genre']=='Sports']['user_score']"
   ]
  },
  {
   "cell_type": "code",
   "execution_count": 73,
   "id": "9100dc49",
   "metadata": {},
   "outputs": [
    {
     "data": {
      "text/plain": [
       "6.899305555555555"
      ]
     },
     "execution_count": 73,
     "metadata": {},
     "output_type": "execute_result"
    }
   ],
   "source": [
    "action.mean()"
   ]
  },
  {
   "cell_type": "code",
   "execution_count": 74,
   "id": "100bf45d",
   "metadata": {},
   "outputs": [
    {
     "data": {
      "text/plain": [
       "5.819858156028368"
      ]
     },
     "execution_count": 74,
     "metadata": {},
     "output_type": "execute_result"
    }
   ],
   "source": [
    "sports.mean()"
   ]
  },
  {
   "cell_type": "code",
   "execution_count": 75,
   "id": "a072b987",
   "metadata": {},
   "outputs": [
    {
     "name": "stdout",
     "output_type": "stream",
     "text": [
      "p-значение: 5.858072645452818e-14\n",
      "Отвергаем нулевую гипотезу\n"
     ]
    }
   ],
   "source": [
    "alpha = .05\n",
    "results = st.ttest_ind(action, sports, equal_var=False)\n",
    "print('p-значение:', results.pvalue)\n",
    "\n",
    "if (results.pvalue < alpha):\n",
    "    print(\"Отвергаем нулевую гипотезу\")\n",
    "else:\n",
    "    print(\"Не получилось отвергнуть нулевую гипотезу\")"
   ]
  },
  {
   "cell_type": "markdown",
   "id": "660eb2f5",
   "metadata": {},
   "source": [
    "<b>Вывод: Получается, что средний пользовательский рейтинг жанров Action и Sports различается."
   ]
  },
  {
   "cell_type": "markdown",
   "id": "bac1a527",
   "metadata": {},
   "source": [
    "### Общий вывод"
   ]
  },
  {
   "cell_type": "markdown",
   "id": "20eda1e6",
   "metadata": {},
   "source": [
    "##### Обработка данных.\n",
    "Изучила вводные данные, сделала следующие выводы.:\n",
    "\n",
    "critic_score, users_score - Так как не все оценки успевают во время выходить, то присутствуют пропуски в датасете. Заполнить медианной и средним будет не получится, так как это может повлиять на общую картину оценок в данных, поэтому сделала замену на пропущенных значений на -1.\n",
    "rating - Возрастной рейтинг не у всех заполнен, особенно у стареньких игр. Возможно, что тогда и категории не присваивали.Сделала замену на пропущенных значений на 'no_rating'\n",
    "year_of_release - Тип заменен на float.\n",
    "year_of_release, genre и name - Не существенно много пропусков, оставила как есть.\n",
    "\n",
    "##### Исследовательский анализ данных\n",
    "\n",
    "C 1995 года игры набирают популярность. Пик приходится на 2008 - 2009 год. Мне кажется, что можно брать данные не за весь период, а начиная с 1995 года. С выходом выходом новой платформы обычно первые 5 лет идет рост продаж, но потом идут 5 лет спада, на фоне выхода уже более новой платформы.\n",
    "\n",
    "Для выбора самого актуального периода для прогноза на 2017 год, был выбран после 2011 года. Выбрав данный период мы обойдем часть выбросов в продажах:к этому времени уже упали продажи совсем стареньких платформ, появились новые, у которых еще не прошли 5 лет спада продаж. Самой прибыльной платформой в данный период можно назвать PS4,XOne, DS3 по сравнению с другими платформами у них еще не так сильно упали продажи.\n",
    "\n",
    "Есть зависимость между оценкой критиков и продажами по миру, а так же отметила высокую корреляцию между отзывами критиков и пользователей. Отзывы критиков обычно раньше выходят, получается они влияют на мнение обычных пользователей.\n",
    "Отметила, что среди популярных платформ у Xone самая высокая зависимость между оценкой критиков и продажами по миру.\n",
    "\n",
    "Выделяются с самыми высокими продажами Action за счет большего количества игр и большого количества бестселлеров. По медианным значениям лидирует Shooter, который имеет больше продаж в расчете на единицу игры.\n",
    "\n",
    "##### Портрет по регионам\n",
    "\n",
    "В <b>Северной Америке</b> выделяются следующие популярные платформы:\n",
    "X360, PS4, PS3, XOne, 3DS\n",
    "\n",
    "Жанры:\n",
    "Action, Shooter, Sport, Role-Playing, Misc\n",
    "\n",
    "Возрастной рейтинг:\n",
    "M (для взрослых), E (для всех), Игры без рейтинга, E10+ (для всех старше 10 лет), T (подросткам, старше 13 лет)\n",
    "\n",
    "Самые продаваемые игры на платформах без возрастного рейтинга:\n",
    "3DS, PS4, XOne, X360, PS3\n",
    "\n",
    "\n",
    "<br>В <b>Европе</b> выделяются следующие популярные платформы:\n",
    "PS3, PS4, X360, Xone, 3DS\n",
    "\n",
    "Жанры:\n",
    "Action, Shooter, Sport, Role-playing, Racing\n",
    "\n",
    "Возрастной рейтинг:\n",
    "M (для взрослых), E (для всех), Игры без рейтинга, Т(подросткам), Е10+ (для всех, от 10 лет)\n",
    "\n",
    "Самые продаваемые игры на платформах без возрастного рейтинга:\n",
    "PS4, 3DS, PS3, XOne, X360\n",
    "\n",
    "\n",
    "\n",
    "<br>В <b>Японии</b> выделяются следующие популярные платформы:\n",
    "3DS, PS3, PSV, PS4, WiiU\n",
    "\n",
    "Жанры:\n",
    "Role-playing, Action, Misc, Simulation, Fighting\n",
    "\n",
    "Возрастной рейтинг:\n",
    "Игры без рейтинга, E (для всех), Игры без рейтинга, Т(подросткам), M (для взрослых), Е10+ (для всех, от 10 лет)\n",
    "\n",
    "Самые продаваемые игры на платформах без возрастного рейтинга:\n",
    "3DS, PSV, PS3, PSP, PS4\n",
    "\n",
    "\n",
    "\n",
    "<br><b>Как будто бы рейтинг ESRB влияет на продажи только в Европе и Северной Америке. В Японии больше отдают предпочтение портативным платформам. В тоже время, в Европе и Америке наоборт больше предпочитают PS4 и XOne. Предположила, что в Японии покупают игры без рейтинга, потому что это совсем старенькие игры во время выхода которых возрастной рейтинговой системы и не было раньше.</b>\n",
    "##### Проверьте гипотезы\n",
    "Из проверок гипотез мы получили следующие выводы:\n",
    "\n",
    "<br>Средние пользовательские рейтинги платформ Xbox One и PC одинаковые.\n",
    "<br>Средний пользовательский рейтинг жанров Action и Sports различается."
   ]
  }
 ],
 "metadata": {
  "ExecuteTimeLog": [
   {
    "duration": 51,
    "start_time": "2022-10-21T19:37:38.229Z"
   },
   {
    "duration": 7,
    "start_time": "2022-10-21T19:37:41.129Z"
   },
   {
    "duration": 8,
    "start_time": "2022-10-21T19:37:41.478Z"
   },
   {
    "duration": 1343,
    "start_time": "2022-10-21T19:37:43.130Z"
   },
   {
    "duration": 73,
    "start_time": "2022-10-21T19:37:44.475Z"
   },
   {
    "duration": 21,
    "start_time": "2022-10-21T19:37:44.549Z"
   },
   {
    "duration": 5,
    "start_time": "2022-10-21T19:37:44.572Z"
   },
   {
    "duration": 18,
    "start_time": "2022-10-21T19:37:46.765Z"
   },
   {
    "duration": 18,
    "start_time": "2022-10-21T19:37:48.517Z"
   },
   {
    "duration": 10,
    "start_time": "2022-10-21T19:37:59.680Z"
   },
   {
    "duration": 6,
    "start_time": "2022-10-21T19:38:04.123Z"
   },
   {
    "duration": 23,
    "start_time": "2022-10-21T19:38:05.327Z"
   },
   {
    "duration": 7,
    "start_time": "2022-10-21T19:38:10.643Z"
   },
   {
    "duration": 4,
    "start_time": "2022-10-21T19:38:16.326Z"
   },
   {
    "duration": 6,
    "start_time": "2022-10-21T19:38:16.707Z"
   },
   {
    "duration": 5,
    "start_time": "2022-10-21T19:38:18.413Z"
   },
   {
    "duration": 5,
    "start_time": "2022-10-21T19:38:19.408Z"
   },
   {
    "duration": 24,
    "start_time": "2022-10-21T19:38:20.035Z"
   },
   {
    "duration": 4,
    "start_time": "2022-10-21T19:38:22.754Z"
   },
   {
    "duration": 6,
    "start_time": "2022-10-21T19:38:25.668Z"
   },
   {
    "duration": 4,
    "start_time": "2022-10-21T19:38:25.946Z"
   },
   {
    "duration": 5,
    "start_time": "2022-10-21T19:38:26.234Z"
   },
   {
    "duration": 9,
    "start_time": "2022-10-21T19:38:26.877Z"
   },
   {
    "duration": 41,
    "start_time": "2022-10-21T19:38:28.368Z"
   },
   {
    "duration": 7,
    "start_time": "2022-10-21T19:38:28.879Z"
   },
   {
    "duration": 15,
    "start_time": "2022-10-21T19:38:29.306Z"
   },
   {
    "duration": 76,
    "start_time": "2022-10-21T19:39:34.714Z"
   },
   {
    "duration": 9,
    "start_time": "2022-10-21T19:39:47.862Z"
   },
   {
    "duration": 21,
    "start_time": "2022-10-21T19:40:00.341Z"
   },
   {
    "duration": 805,
    "start_time": "2022-10-21T19:40:06.913Z"
   },
   {
    "duration": 11,
    "start_time": "2022-10-21T19:40:43.933Z"
   },
   {
    "duration": 164,
    "start_time": "2022-10-21T19:40:48.870Z"
   },
   {
    "duration": 31,
    "start_time": "2022-10-21T19:40:59.411Z"
   },
   {
    "duration": 12,
    "start_time": "2022-10-21T19:42:13.399Z"
   },
   {
    "duration": 432,
    "start_time": "2022-10-21T19:42:29.768Z"
   },
   {
    "duration": 926,
    "start_time": "2022-10-21T19:42:41.490Z"
   },
   {
    "duration": 366,
    "start_time": "2022-10-21T19:42:47.514Z"
   },
   {
    "duration": 791,
    "start_time": "2022-10-21T19:42:53.466Z"
   },
   {
    "duration": 14,
    "start_time": "2022-10-21T19:43:13.173Z"
   },
   {
    "duration": 9,
    "start_time": "2022-10-21T19:43:23.394Z"
   },
   {
    "duration": 768,
    "start_time": "2022-10-21T19:43:28.316Z"
   },
   {
    "duration": 285,
    "start_time": "2022-10-21T19:43:38.057Z"
   },
   {
    "duration": 15703,
    "start_time": "2022-10-21T19:43:50.279Z"
   },
   {
    "duration": 1251,
    "start_time": "2022-10-21T19:44:08.492Z"
   },
   {
    "duration": 139,
    "start_time": "2022-10-21T19:45:17.007Z"
   },
   {
    "duration": 334,
    "start_time": "2022-10-21T19:45:40.417Z"
   },
   {
    "duration": 321,
    "start_time": "2022-10-21T19:45:53.038Z"
   },
   {
    "duration": 50,
    "start_time": "2022-10-21T19:46:31.864Z"
   },
   {
    "duration": 278,
    "start_time": "2022-10-21T19:46:38.913Z"
   },
   {
    "duration": 11,
    "start_time": "2022-10-21T19:47:06.058Z"
   },
   {
    "duration": 17,
    "start_time": "2022-10-21T19:47:22.710Z"
   },
   {
    "duration": 5,
    "start_time": "2022-10-21T19:47:24.813Z"
   },
   {
    "duration": 1024,
    "start_time": "2022-10-21T19:47:40.301Z"
   },
   {
    "duration": 27,
    "start_time": "2022-10-21T19:48:25.377Z"
   },
   {
    "duration": 12,
    "start_time": "2022-10-21T19:48:33.618Z"
   },
   {
    "duration": 5,
    "start_time": "2022-10-21T19:48:34.197Z"
   },
   {
    "duration": 13,
    "start_time": "2022-10-21T19:49:05.218Z"
   },
   {
    "duration": 37,
    "start_time": "2022-10-21T19:49:11.197Z"
   },
   {
    "duration": 244,
    "start_time": "2022-10-21T19:49:16.832Z"
   },
   {
    "duration": 317,
    "start_time": "2022-10-21T19:49:21.369Z"
   },
   {
    "duration": 9,
    "start_time": "2022-10-21T19:49:32.449Z"
   },
   {
    "duration": 168,
    "start_time": "2022-10-21T19:49:40.760Z"
   },
   {
    "duration": 174,
    "start_time": "2022-10-21T19:49:53.052Z"
   },
   {
    "duration": 49,
    "start_time": "2022-10-21T19:52:25.801Z"
   },
   {
    "duration": 47,
    "start_time": "2022-10-21T19:53:44.809Z"
   },
   {
    "duration": 3,
    "start_time": "2022-10-21T19:53:53.779Z"
   },
   {
    "duration": 169,
    "start_time": "2022-10-21T19:54:06.452Z"
   },
   {
    "duration": 298,
    "start_time": "2022-10-21T19:54:30.641Z"
   },
   {
    "duration": 317,
    "start_time": "2022-10-21T19:55:46.045Z"
   },
   {
    "duration": 1537,
    "start_time": "2022-10-21T19:55:54.444Z"
   },
   {
    "duration": 1666,
    "start_time": "2022-10-21T19:57:30.808Z"
   },
   {
    "duration": 3243,
    "start_time": "2022-10-21T19:58:01.350Z"
   },
   {
    "duration": 3133,
    "start_time": "2022-10-21T19:58:43.280Z"
   },
   {
    "duration": 3791,
    "start_time": "2022-10-21T19:59:11.064Z"
   },
   {
    "duration": 47,
    "start_time": "2022-10-21T20:00:42.133Z"
   },
   {
    "duration": 18,
    "start_time": "2022-10-21T20:01:07.810Z"
   },
   {
    "duration": 15,
    "start_time": "2022-10-21T20:01:16.217Z"
   },
   {
    "duration": 16,
    "start_time": "2022-10-21T20:01:32.465Z"
   },
   {
    "duration": 135,
    "start_time": "2022-10-21T20:01:42.600Z"
   },
   {
    "duration": 15,
    "start_time": "2022-10-21T20:01:57.599Z"
   },
   {
    "duration": 197,
    "start_time": "2022-10-21T20:01:58.757Z"
   },
   {
    "duration": 11,
    "start_time": "2022-10-21T20:06:00.490Z"
   },
   {
    "duration": 10,
    "start_time": "2022-10-21T20:06:10.834Z"
   },
   {
    "duration": 12,
    "start_time": "2022-10-21T20:06:37.996Z"
   },
   {
    "duration": 5,
    "start_time": "2022-10-21T20:06:44.844Z"
   },
   {
    "duration": 1007,
    "start_time": "2022-10-21T20:06:52.027Z"
   },
   {
    "duration": 24,
    "start_time": "2022-10-21T20:07:12.914Z"
   },
   {
    "duration": 10,
    "start_time": "2022-10-21T20:07:34.084Z"
   },
   {
    "duration": 15,
    "start_time": "2022-10-21T20:07:41.489Z"
   },
   {
    "duration": 6,
    "start_time": "2022-10-21T20:07:41.791Z"
   },
   {
    "duration": 2002,
    "start_time": "2022-10-21T20:07:42.255Z"
   },
   {
    "duration": 1970,
    "start_time": "2022-10-21T20:07:47.609Z"
   },
   {
    "duration": 16,
    "start_time": "2022-10-21T20:08:12.708Z"
   },
   {
    "duration": 39,
    "start_time": "2022-10-21T20:08:16.990Z"
   },
   {
    "duration": 237,
    "start_time": "2022-10-21T20:08:23.961Z"
   },
   {
    "duration": 171,
    "start_time": "2022-10-21T20:08:36.512Z"
   },
   {
    "duration": 179,
    "start_time": "2022-10-21T20:08:39.850Z"
   },
   {
    "duration": 3294,
    "start_time": "2022-10-21T20:08:50.436Z"
   },
   {
    "duration": 49,
    "start_time": "2022-10-21T20:09:04.146Z"
   },
   {
    "duration": 17,
    "start_time": "2022-10-21T20:09:13.758Z"
   },
   {
    "duration": 188,
    "start_time": "2022-10-21T20:09:15.632Z"
   },
   {
    "duration": 4,
    "start_time": "2022-10-21T20:09:45.803Z"
   },
   {
    "duration": 23,
    "start_time": "2022-10-21T20:11:00.472Z"
   },
   {
    "duration": 4851,
    "start_time": "2022-10-21T20:11:12.938Z"
   },
   {
    "duration": 333,
    "start_time": "2022-10-21T20:11:35.422Z"
   },
   {
    "duration": 307,
    "start_time": "2022-10-21T20:11:40.589Z"
   },
   {
    "duration": 762,
    "start_time": "2022-10-21T20:12:07.573Z"
   },
   {
    "duration": 23,
    "start_time": "2022-10-21T20:12:39.946Z"
   },
   {
    "duration": 12,
    "start_time": "2022-10-21T20:13:34.643Z"
   },
   {
    "duration": 1914,
    "start_time": "2022-10-21T20:13:36.050Z"
   },
   {
    "duration": 24,
    "start_time": "2022-10-21T20:13:46.347Z"
   },
   {
    "duration": 12,
    "start_time": "2022-10-21T20:14:03.251Z"
   },
   {
    "duration": 12,
    "start_time": "2022-10-21T20:14:20.795Z"
   },
   {
    "duration": 6,
    "start_time": "2022-10-21T20:14:32.418Z"
   },
   {
    "duration": 21,
    "start_time": "2022-10-21T20:14:37.804Z"
   },
   {
    "duration": 1891,
    "start_time": "2022-10-21T20:14:45.939Z"
   },
   {
    "duration": 13,
    "start_time": "2022-10-21T20:15:09.292Z"
   },
   {
    "duration": 37,
    "start_time": "2022-10-21T20:15:14.383Z"
   },
   {
    "duration": 235,
    "start_time": "2022-10-21T20:15:19.003Z"
   },
   {
    "duration": 164,
    "start_time": "2022-10-21T20:15:24.996Z"
   },
   {
    "duration": 178,
    "start_time": "2022-10-21T20:15:26.616Z"
   },
   {
    "duration": 264,
    "start_time": "2022-10-21T20:15:28.403Z"
   },
   {
    "duration": 10,
    "start_time": "2022-10-21T20:15:32.698Z"
   },
   {
    "duration": 18,
    "start_time": "2022-10-21T20:15:44.042Z"
   },
   {
    "duration": 188,
    "start_time": "2022-10-21T20:15:49.270Z"
   },
   {
    "duration": 1252,
    "start_time": "2022-10-21T20:16:46.440Z"
   },
   {
    "duration": 45,
    "start_time": "2022-10-21T20:16:47.694Z"
   },
   {
    "duration": 21,
    "start_time": "2022-10-21T20:16:47.741Z"
   },
   {
    "duration": 16,
    "start_time": "2022-10-21T20:16:47.764Z"
   },
   {
    "duration": 35,
    "start_time": "2022-10-21T20:16:47.781Z"
   },
   {
    "duration": 32,
    "start_time": "2022-10-21T20:16:47.818Z"
   },
   {
    "duration": 15,
    "start_time": "2022-10-21T20:16:47.853Z"
   },
   {
    "duration": 5,
    "start_time": "2022-10-21T20:16:47.924Z"
   },
   {
    "duration": 24,
    "start_time": "2022-10-21T20:16:48.092Z"
   },
   {
    "duration": 8,
    "start_time": "2022-10-21T20:16:48.781Z"
   },
   {
    "duration": 4,
    "start_time": "2022-10-21T20:16:49.106Z"
   },
   {
    "duration": 5,
    "start_time": "2022-10-21T20:16:49.271Z"
   },
   {
    "duration": 6,
    "start_time": "2022-10-21T20:16:49.424Z"
   },
   {
    "duration": 5,
    "start_time": "2022-10-21T20:16:49.592Z"
   },
   {
    "duration": 24,
    "start_time": "2022-10-21T20:16:49.754Z"
   },
   {
    "duration": 5,
    "start_time": "2022-10-21T20:16:50.062Z"
   },
   {
    "duration": 6,
    "start_time": "2022-10-21T20:16:50.226Z"
   },
   {
    "duration": 5,
    "start_time": "2022-10-21T20:16:50.379Z"
   },
   {
    "duration": 5,
    "start_time": "2022-10-21T20:16:50.534Z"
   },
   {
    "duration": 10,
    "start_time": "2022-10-21T20:16:50.847Z"
   },
   {
    "duration": 40,
    "start_time": "2022-10-21T20:16:51.001Z"
   },
   {
    "duration": 7,
    "start_time": "2022-10-21T20:16:51.330Z"
   },
   {
    "duration": 20,
    "start_time": "2022-10-21T20:16:51.473Z"
   },
   {
    "duration": 347,
    "start_time": "2022-10-21T20:16:51.823Z"
   },
   {
    "duration": 292,
    "start_time": "2022-10-21T20:16:52.172Z"
   },
   {
    "duration": 13,
    "start_time": "2022-10-21T20:16:52.465Z"
   },
   {
    "duration": 319,
    "start_time": "2022-10-21T20:16:52.480Z"
   },
   {
    "duration": 12,
    "start_time": "2022-10-21T20:16:52.800Z"
   },
   {
    "duration": 120,
    "start_time": "2022-10-21T20:16:52.814Z"
   },
   {
    "duration": 0,
    "start_time": "2022-10-21T20:16:52.936Z"
   },
   {
    "duration": 11,
    "start_time": "2022-10-21T20:16:52.988Z"
   },
   {
    "duration": 9,
    "start_time": "2022-10-21T20:16:53.224Z"
   },
   {
    "duration": 11,
    "start_time": "2022-10-21T20:16:53.328Z"
   },
   {
    "duration": 11,
    "start_time": "2022-10-21T20:16:53.641Z"
   },
   {
    "duration": 10,
    "start_time": "2022-10-21T20:16:53.802Z"
   },
   {
    "duration": 10,
    "start_time": "2022-10-21T20:16:53.966Z"
   },
   {
    "duration": 181,
    "start_time": "2022-10-21T20:16:54.121Z"
   },
   {
    "duration": 24,
    "start_time": "2022-10-21T20:17:06.280Z"
   },
   {
    "duration": 9,
    "start_time": "2022-10-21T20:17:39.260Z"
   },
   {
    "duration": 11,
    "start_time": "2022-10-21T20:17:48.492Z"
   },
   {
    "duration": 24,
    "start_time": "2022-10-21T20:18:11.797Z"
   },
   {
    "duration": 23,
    "start_time": "2022-10-21T20:19:00.703Z"
   },
   {
    "duration": 20,
    "start_time": "2022-10-21T20:20:08.617Z"
   },
   {
    "duration": 711,
    "start_time": "2022-10-21T20:20:18.834Z"
   },
   {
    "duration": 109,
    "start_time": "2022-10-21T20:20:41.406Z"
   },
   {
    "duration": 1978,
    "start_time": "2022-10-21T20:20:49.508Z"
   },
   {
    "duration": 26,
    "start_time": "2022-10-21T20:20:59.076Z"
   },
   {
    "duration": 13,
    "start_time": "2022-10-21T20:21:02.951Z"
   },
   {
    "duration": 5,
    "start_time": "2022-10-21T20:21:04.796Z"
   },
   {
    "duration": 2038,
    "start_time": "2022-10-21T20:21:05.697Z"
   },
   {
    "duration": 13,
    "start_time": "2022-10-21T20:21:16.358Z"
   },
   {
    "duration": 38,
    "start_time": "2022-10-21T20:21:17.867Z"
   },
   {
    "duration": 229,
    "start_time": "2022-10-21T20:21:19.448Z"
   },
   {
    "duration": 157,
    "start_time": "2022-10-21T20:21:21.195Z"
   },
   {
    "duration": 162,
    "start_time": "2022-10-21T20:21:23.082Z"
   },
   {
    "duration": 3246,
    "start_time": "2022-10-21T20:21:23.848Z"
   },
   {
    "duration": 63,
    "start_time": "2022-10-21T20:21:31.639Z"
   },
   {
    "duration": 17,
    "start_time": "2022-10-21T20:21:34.417Z"
   },
   {
    "duration": 190,
    "start_time": "2022-10-21T20:21:35.236Z"
   },
   {
    "duration": 179,
    "start_time": "2022-10-21T20:21:44.892Z"
   },
   {
    "duration": 172,
    "start_time": "2022-10-21T20:21:49.690Z"
   },
   {
    "duration": 19,
    "start_time": "2022-10-21T20:21:59.173Z"
   },
   {
    "duration": 11,
    "start_time": "2022-10-21T20:22:12.126Z"
   },
   {
    "duration": 10,
    "start_time": "2022-10-21T20:22:12.657Z"
   },
   {
    "duration": 172,
    "start_time": "2022-10-21T20:22:16.110Z"
   },
   {
    "duration": 184,
    "start_time": "2022-10-21T20:22:21.078Z"
   },
   {
    "duration": 14,
    "start_time": "2022-10-21T20:23:25.729Z"
   },
   {
    "duration": 29,
    "start_time": "2022-10-21T20:23:41.036Z"
   },
   {
    "duration": 8,
    "start_time": "2022-10-21T20:25:03.701Z"
   },
   {
    "duration": 17,
    "start_time": "2022-10-21T20:25:56.268Z"
   },
   {
    "duration": 19,
    "start_time": "2022-10-21T20:26:01.645Z"
   },
   {
    "duration": 20,
    "start_time": "2022-10-21T20:26:12.292Z"
   },
   {
    "duration": 20,
    "start_time": "2022-10-21T20:26:26.593Z"
   },
   {
    "duration": 46,
    "start_time": "2022-10-21T20:26:33.198Z"
   },
   {
    "duration": 19,
    "start_time": "2022-10-21T20:26:35.770Z"
   },
   {
    "duration": 17,
    "start_time": "2022-10-21T20:26:42.417Z"
   },
   {
    "duration": 31,
    "start_time": "2022-10-21T20:27:14.618Z"
   },
   {
    "duration": 16,
    "start_time": "2022-10-21T20:27:21.836Z"
   },
   {
    "duration": 15,
    "start_time": "2022-10-21T20:27:27.438Z"
   },
   {
    "duration": 25,
    "start_time": "2022-10-21T20:27:31.646Z"
   },
   {
    "duration": 22,
    "start_time": "2022-10-21T20:28:28.514Z"
   },
   {
    "duration": 18,
    "start_time": "2022-10-21T20:28:35.089Z"
   },
   {
    "duration": 19,
    "start_time": "2022-10-21T20:29:24.541Z"
   },
   {
    "duration": 16,
    "start_time": "2022-10-21T20:29:35.741Z"
   },
   {
    "duration": 15,
    "start_time": "2022-10-21T20:31:23.251Z"
   },
   {
    "duration": 16,
    "start_time": "2022-10-21T20:31:32.241Z"
   },
   {
    "duration": 16,
    "start_time": "2022-10-21T20:31:32.513Z"
   },
   {
    "duration": 19,
    "start_time": "2022-10-21T20:31:33.060Z"
   },
   {
    "duration": 39,
    "start_time": "2022-10-21T20:32:09.855Z"
   },
   {
    "duration": 19,
    "start_time": "2022-10-21T20:32:16.531Z"
   },
   {
    "duration": 19,
    "start_time": "2022-10-21T20:32:35.175Z"
   },
   {
    "duration": 15,
    "start_time": "2022-10-21T20:32:35.842Z"
   },
   {
    "duration": 16,
    "start_time": "2022-10-21T20:32:36.130Z"
   },
   {
    "duration": 16,
    "start_time": "2022-10-21T20:32:36.518Z"
   },
   {
    "duration": 18,
    "start_time": "2022-10-21T20:32:36.906Z"
   },
   {
    "duration": 13,
    "start_time": "2022-10-21T20:32:57.519Z"
   },
   {
    "duration": 10,
    "start_time": "2022-10-21T20:33:08.122Z"
   },
   {
    "duration": 5,
    "start_time": "2022-10-21T20:33:08.374Z"
   },
   {
    "duration": 8,
    "start_time": "2022-10-21T20:33:13.166Z"
   },
   {
    "duration": 9,
    "start_time": "2022-10-21T20:33:15.626Z"
   },
   {
    "duration": 40,
    "start_time": "2022-10-21T20:33:26.152Z"
   },
   {
    "duration": 49,
    "start_time": "2022-10-21T20:33:32.672Z"
   },
   {
    "duration": 6,
    "start_time": "2022-10-21T20:33:36.945Z"
   },
   {
    "duration": 11,
    "start_time": "2022-10-21T20:34:06.063Z"
   },
   {
    "duration": 5,
    "start_time": "2022-10-21T20:34:09.549Z"
   },
   {
    "duration": 9,
    "start_time": "2022-10-21T20:34:11.255Z"
   },
   {
    "duration": 10,
    "start_time": "2022-10-21T20:34:11.522Z"
   },
   {
    "duration": 8,
    "start_time": "2022-10-21T20:34:20.652Z"
   },
   {
    "duration": 9,
    "start_time": "2022-10-21T20:34:59.186Z"
   },
   {
    "duration": 7,
    "start_time": "2022-10-21T20:35:08.474Z"
   },
   {
    "duration": 1953,
    "start_time": "2022-10-21T20:46:23.456Z"
   },
   {
    "duration": 328,
    "start_time": "2022-10-21T20:47:06.652Z"
   },
   {
    "duration": 11,
    "start_time": "2022-10-21T20:50:29.491Z"
   },
   {
    "duration": 37,
    "start_time": "2022-10-21T20:50:30.392Z"
   },
   {
    "duration": 229,
    "start_time": "2022-10-21T20:50:32.488Z"
   },
   {
    "duration": 12,
    "start_time": "2022-10-21T20:51:03.776Z"
   },
   {
    "duration": 24,
    "start_time": "2022-10-21T20:51:21.998Z"
   },
   {
    "duration": 10,
    "start_time": "2022-10-21T20:51:25.517Z"
   },
   {
    "duration": 12,
    "start_time": "2022-10-21T20:51:55.696Z"
   },
   {
    "duration": 12,
    "start_time": "2022-10-21T20:52:13.403Z"
   },
   {
    "duration": 11,
    "start_time": "2022-10-21T20:52:14.979Z"
   },
   {
    "duration": 221,
    "start_time": "2022-10-21T20:52:15.573Z"
   },
   {
    "duration": 4,
    "start_time": "2022-10-21T20:59:26.094Z"
   },
   {
    "duration": 37,
    "start_time": "2022-10-21T20:59:26.698Z"
   },
   {
    "duration": 16,
    "start_time": "2022-10-21T20:59:29.841Z"
   },
   {
    "duration": 4,
    "start_time": "2022-10-21T20:59:30.071Z"
   },
   {
    "duration": 17,
    "start_time": "2022-10-21T20:59:30.302Z"
   },
   {
    "duration": 16,
    "start_time": "2022-10-21T20:59:30.499Z"
   },
   {
    "duration": 11,
    "start_time": "2022-10-21T20:59:34.672Z"
   },
   {
    "duration": 10,
    "start_time": "2022-10-21T21:02:02.867Z"
   },
   {
    "duration": 11,
    "start_time": "2022-10-21T21:02:05.154Z"
   },
   {
    "duration": 10,
    "start_time": "2022-10-21T21:02:05.466Z"
   },
   {
    "duration": 47,
    "start_time": "2022-10-21T21:02:18.240Z"
   },
   {
    "duration": 247,
    "start_time": "2022-10-21T21:02:18.701Z"
   },
   {
    "duration": 1069,
    "start_time": "2022-10-21T21:09:18.004Z"
   },
   {
    "duration": 43,
    "start_time": "2022-10-21T21:09:19.076Z"
   },
   {
    "duration": 21,
    "start_time": "2022-10-21T21:09:19.120Z"
   },
   {
    "duration": 18,
    "start_time": "2022-10-21T21:09:19.142Z"
   },
   {
    "duration": 32,
    "start_time": "2022-10-21T21:09:19.162Z"
   },
   {
    "duration": 34,
    "start_time": "2022-10-21T21:09:19.196Z"
   },
   {
    "duration": 28,
    "start_time": "2022-10-21T21:09:19.232Z"
   },
   {
    "duration": 6,
    "start_time": "2022-10-21T21:09:19.544Z"
   },
   {
    "duration": 22,
    "start_time": "2022-10-21T21:09:19.581Z"
   },
   {
    "duration": 7,
    "start_time": "2022-10-21T21:09:19.717Z"
   },
   {
    "duration": 5,
    "start_time": "2022-10-21T21:09:19.778Z"
   },
   {
    "duration": 6,
    "start_time": "2022-10-21T21:09:19.809Z"
   },
   {
    "duration": 6,
    "start_time": "2022-10-21T21:09:19.845Z"
   },
   {
    "duration": 5,
    "start_time": "2022-10-21T21:09:19.877Z"
   },
   {
    "duration": 26,
    "start_time": "2022-10-21T21:09:19.903Z"
   },
   {
    "duration": 5,
    "start_time": "2022-10-21T21:09:19.967Z"
   },
   {
    "duration": 7,
    "start_time": "2022-10-21T21:09:19.998Z"
   },
   {
    "duration": 6,
    "start_time": "2022-10-21T21:09:20.047Z"
   },
   {
    "duration": 5,
    "start_time": "2022-10-21T21:09:20.094Z"
   },
   {
    "duration": 10,
    "start_time": "2022-10-21T21:09:20.149Z"
   },
   {
    "duration": 39,
    "start_time": "2022-10-21T21:09:20.178Z"
   },
   {
    "duration": 6,
    "start_time": "2022-10-21T21:09:20.232Z"
   },
   {
    "duration": 16,
    "start_time": "2022-10-21T21:09:20.269Z"
   },
   {
    "duration": 341,
    "start_time": "2022-10-21T21:09:20.344Z"
   },
   {
    "duration": 358,
    "start_time": "2022-10-21T21:09:20.687Z"
   },
   {
    "duration": 288,
    "start_time": "2022-10-21T21:09:21.047Z"
   },
   {
    "duration": 22,
    "start_time": "2022-10-21T21:09:21.337Z"
   },
   {
    "duration": 358,
    "start_time": "2022-10-21T21:09:21.361Z"
   },
   {
    "duration": 13,
    "start_time": "2022-10-21T21:09:21.721Z"
   },
   {
    "duration": 2051,
    "start_time": "2022-10-21T21:09:21.736Z"
   },
   {
    "duration": 26,
    "start_time": "2022-10-21T21:09:23.789Z"
   },
   {
    "duration": 12,
    "start_time": "2022-10-21T21:09:23.817Z"
   },
   {
    "duration": 25,
    "start_time": "2022-10-21T21:09:23.832Z"
   },
   {
    "duration": 2032,
    "start_time": "2022-10-21T21:09:23.859Z"
   },
   {
    "duration": 24,
    "start_time": "2022-10-21T21:09:25.893Z"
   },
   {
    "duration": 8,
    "start_time": "2022-10-21T21:09:25.919Z"
   },
   {
    "duration": 29,
    "start_time": "2022-10-21T21:09:25.928Z"
   },
   {
    "duration": 36,
    "start_time": "2022-10-21T21:09:25.959Z"
   },
   {
    "duration": 243,
    "start_time": "2022-10-21T21:09:25.997Z"
   },
   {
    "duration": 3165,
    "start_time": "2022-10-21T21:09:26.242Z"
   },
   {
    "duration": 57,
    "start_time": "2022-10-21T21:09:29.408Z"
   },
   {
    "duration": 10,
    "start_time": "2022-10-21T21:09:29.467Z"
   },
   {
    "duration": 8,
    "start_time": "2022-10-21T21:09:29.479Z"
   },
   {
    "duration": 208,
    "start_time": "2022-10-21T21:09:29.488Z"
   },
   {
    "duration": 16,
    "start_time": "2022-10-21T21:09:29.697Z"
   },
   {
    "duration": 14,
    "start_time": "2022-10-21T21:09:29.714Z"
   },
   {
    "duration": 37,
    "start_time": "2022-10-21T21:09:29.730Z"
   },
   {
    "duration": 16,
    "start_time": "2022-10-21T21:09:29.768Z"
   },
   {
    "duration": 12,
    "start_time": "2022-10-21T21:09:29.786Z"
   },
   {
    "duration": 13,
    "start_time": "2022-10-21T21:09:29.800Z"
   },
   {
    "duration": 45,
    "start_time": "2022-10-21T21:09:29.817Z"
   },
   {
    "duration": 18,
    "start_time": "2022-10-21T21:09:29.864Z"
   },
   {
    "duration": 16,
    "start_time": "2022-10-21T21:09:29.884Z"
   },
   {
    "duration": 16,
    "start_time": "2022-10-21T21:09:29.902Z"
   },
   {
    "duration": 44,
    "start_time": "2022-10-21T21:09:29.919Z"
   },
   {
    "duration": 19,
    "start_time": "2022-10-21T21:09:29.965Z"
   },
   {
    "duration": 5,
    "start_time": "2022-10-21T21:09:29.986Z"
   },
   {
    "duration": 54,
    "start_time": "2022-10-21T21:09:29.993Z"
   },
   {
    "duration": 20,
    "start_time": "2022-10-21T21:09:30.049Z"
   },
   {
    "duration": 21,
    "start_time": "2022-10-21T21:09:30.071Z"
   },
   {
    "duration": 24,
    "start_time": "2022-10-21T21:09:30.094Z"
   },
   {
    "duration": 30,
    "start_time": "2022-10-21T21:09:30.120Z"
   },
   {
    "duration": 46,
    "start_time": "2022-10-21T21:09:30.151Z"
   },
   {
    "duration": 29,
    "start_time": "2022-10-21T21:09:30.198Z"
   },
   {
    "duration": 54,
    "start_time": "2022-10-22T07:35:48.733Z"
   },
   {
    "duration": 1331,
    "start_time": "2022-10-25T06:14:56.569Z"
   },
   {
    "duration": 99,
    "start_time": "2022-10-25T06:14:57.902Z"
   },
   {
    "duration": 20,
    "start_time": "2022-10-25T06:14:58.002Z"
   },
   {
    "duration": 33,
    "start_time": "2022-10-25T06:14:58.024Z"
   },
   {
    "duration": 28,
    "start_time": "2022-10-25T06:14:58.059Z"
   },
   {
    "duration": 24,
    "start_time": "2022-10-25T06:14:58.089Z"
   },
   {
    "duration": 10,
    "start_time": "2022-10-25T06:14:58.115Z"
   },
   {
    "duration": 10,
    "start_time": "2022-10-25T06:14:58.127Z"
   },
   {
    "duration": 10,
    "start_time": "2022-10-25T06:14:58.139Z"
   },
   {
    "duration": 7,
    "start_time": "2022-10-25T06:14:58.151Z"
   },
   {
    "duration": 33,
    "start_time": "2022-10-25T06:14:58.160Z"
   },
   {
    "duration": 6,
    "start_time": "2022-10-25T06:14:58.195Z"
   },
   {
    "duration": 7,
    "start_time": "2022-10-25T06:14:58.202Z"
   },
   {
    "duration": 4,
    "start_time": "2022-10-25T06:14:58.213Z"
   },
   {
    "duration": 9,
    "start_time": "2022-10-25T06:14:58.218Z"
   },
   {
    "duration": 343,
    "start_time": "2022-10-25T06:14:58.229Z"
   },
   {
    "duration": 21,
    "start_time": "2022-10-25T06:14:58.573Z"
   },
   {
    "duration": 311,
    "start_time": "2022-10-25T06:14:58.599Z"
   },
   {
    "duration": 205,
    "start_time": "2022-10-25T06:14:58.912Z"
   },
   {
    "duration": 210,
    "start_time": "2022-10-25T06:14:59.118Z"
   },
   {
    "duration": 203,
    "start_time": "2022-10-25T06:14:59.330Z"
   },
   {
    "duration": 427,
    "start_time": "2022-10-25T06:14:59.535Z"
   },
   {
    "duration": 55,
    "start_time": "2022-10-25T06:14:59.964Z"
   },
   {
    "duration": 4,
    "start_time": "2022-10-25T06:15:00.021Z"
   },
   {
    "duration": 42,
    "start_time": "2022-10-25T06:15:00.027Z"
   },
   {
    "duration": 36,
    "start_time": "2022-10-25T06:15:00.071Z"
   },
   {
    "duration": 182,
    "start_time": "2022-10-25T06:15:00.109Z"
   },
   {
    "duration": 165,
    "start_time": "2022-10-25T06:15:00.292Z"
   },
   {
    "duration": 171,
    "start_time": "2022-10-25T06:15:00.459Z"
   },
   {
    "duration": 164,
    "start_time": "2022-10-25T06:15:00.632Z"
   },
   {
    "duration": 165,
    "start_time": "2022-10-25T06:15:00.797Z"
   },
   {
    "duration": 158,
    "start_time": "2022-10-25T06:15:00.963Z"
   },
   {
    "duration": 273,
    "start_time": "2022-10-25T06:15:01.123Z"
   },
   {
    "duration": 245,
    "start_time": "2022-10-25T06:15:01.397Z"
   },
   {
    "duration": 359,
    "start_time": "2022-10-25T06:15:01.643Z"
   },
   {
    "duration": 183,
    "start_time": "2022-10-25T06:15:02.003Z"
   },
   {
    "duration": 5,
    "start_time": "2022-10-25T06:15:02.192Z"
   },
   {
    "duration": 55,
    "start_time": "2022-10-25T06:15:02.198Z"
   },
   {
    "duration": 937,
    "start_time": "2022-10-25T06:15:02.255Z"
   },
   {
    "duration": 206,
    "start_time": "2022-10-25T06:15:03.194Z"
   },
   {
    "duration": 170,
    "start_time": "2022-10-25T06:15:03.404Z"
   },
   {
    "duration": 161,
    "start_time": "2022-10-25T06:15:03.576Z"
   },
   {
    "duration": 167,
    "start_time": "2022-10-25T06:15:03.739Z"
   },
   {
    "duration": 14,
    "start_time": "2022-10-25T06:15:03.907Z"
   },
   {
    "duration": 16,
    "start_time": "2022-10-25T06:15:03.922Z"
   },
   {
    "duration": 16,
    "start_time": "2022-10-25T06:15:03.940Z"
   },
   {
    "duration": 38,
    "start_time": "2022-10-25T06:15:03.958Z"
   },
   {
    "duration": 21,
    "start_time": "2022-10-25T06:15:03.997Z"
   },
   {
    "duration": 14,
    "start_time": "2022-10-25T06:15:04.020Z"
   },
   {
    "duration": 34,
    "start_time": "2022-10-25T06:15:04.035Z"
   },
   {
    "duration": 22,
    "start_time": "2022-10-25T06:15:04.071Z"
   },
   {
    "duration": 14,
    "start_time": "2022-10-25T06:15:04.095Z"
   },
   {
    "duration": 14,
    "start_time": "2022-10-25T06:15:04.110Z"
   },
   {
    "duration": 15,
    "start_time": "2022-10-25T06:15:04.125Z"
   },
   {
    "duration": 50,
    "start_time": "2022-10-25T06:15:04.141Z"
   },
   {
    "duration": 5,
    "start_time": "2022-10-25T06:15:04.193Z"
   },
   {
    "duration": 7,
    "start_time": "2022-10-25T06:15:04.199Z"
   },
   {
    "duration": 13,
    "start_time": "2022-10-25T06:15:04.207Z"
   },
   {
    "duration": 6,
    "start_time": "2022-10-25T06:15:04.221Z"
   },
   {
    "duration": 8,
    "start_time": "2022-10-25T06:15:04.228Z"
   },
   {
    "duration": 6,
    "start_time": "2022-10-25T06:15:04.237Z"
   },
   {
    "duration": 8,
    "start_time": "2022-10-25T06:15:04.244Z"
   },
   {
    "duration": 26,
    "start_time": "2022-10-25T06:15:04.253Z"
   },
   {
    "duration": 5,
    "start_time": "2022-10-25T06:15:04.288Z"
   },
   {
    "duration": 10,
    "start_time": "2022-10-25T06:15:04.295Z"
   },
   {
    "duration": 75,
    "start_time": "2022-10-25T07:24:18.407Z"
   },
   {
    "duration": 43,
    "start_time": "2022-10-25T07:25:19.673Z"
   },
   {
    "duration": 1345,
    "start_time": "2022-10-25T07:25:24.516Z"
   },
   {
    "duration": 95,
    "start_time": "2022-10-25T07:25:25.863Z"
   },
   {
    "duration": 19,
    "start_time": "2022-10-25T07:25:25.960Z"
   },
   {
    "duration": 4,
    "start_time": "2022-10-25T07:25:26.443Z"
   },
   {
    "duration": 25,
    "start_time": "2022-10-25T07:25:26.937Z"
   },
   {
    "duration": 16,
    "start_time": "2022-10-25T07:25:27.178Z"
   },
   {
    "duration": 10,
    "start_time": "2022-10-25T07:25:29.243Z"
   },
   {
    "duration": 5,
    "start_time": "2022-10-25T07:25:30.950Z"
   },
   {
    "duration": 5,
    "start_time": "2022-10-25T07:25:31.469Z"
   },
   {
    "duration": 6,
    "start_time": "2022-10-25T07:25:32.872Z"
   },
   {
    "duration": 23,
    "start_time": "2022-10-25T07:25:33.564Z"
   },
   {
    "duration": 7,
    "start_time": "2022-10-25T07:25:34.404Z"
   },
   {
    "duration": 6,
    "start_time": "2022-10-25T07:25:34.687Z"
   },
   {
    "duration": 5,
    "start_time": "2022-10-25T07:25:34.974Z"
   },
   {
    "duration": 5,
    "start_time": "2022-10-25T07:25:37.598Z"
   },
   {
    "duration": 918,
    "start_time": "2022-10-25T07:25:59.782Z"
   },
   {
    "duration": 5,
    "start_time": "2022-10-25T07:26:05.903Z"
   },
   {
    "duration": 7,
    "start_time": "2022-10-25T07:26:45.442Z"
   },
   {
    "duration": 345,
    "start_time": "2022-10-25T07:32:10.452Z"
   },
   {
    "duration": 53,
    "start_time": "2022-10-25T07:32:39.404Z"
   },
   {
    "duration": 320,
    "start_time": "2022-10-25T07:33:14.700Z"
   },
   {
    "duration": 313,
    "start_time": "2022-10-25T07:33:36.360Z"
   },
   {
    "duration": 11,
    "start_time": "2022-10-25T07:34:51.322Z"
   },
   {
    "duration": 15,
    "start_time": "2022-10-25T07:35:03.598Z"
   },
   {
    "duration": 1190,
    "start_time": "2022-10-25T07:35:17.960Z"
   },
   {
    "duration": 54,
    "start_time": "2022-10-25T07:35:19.153Z"
   },
   {
    "duration": 19,
    "start_time": "2022-10-25T07:35:19.209Z"
   },
   {
    "duration": 18,
    "start_time": "2022-10-25T07:35:19.230Z"
   },
   {
    "duration": 35,
    "start_time": "2022-10-25T07:35:19.250Z"
   },
   {
    "duration": 30,
    "start_time": "2022-10-25T07:35:19.287Z"
   },
   {
    "duration": 18,
    "start_time": "2022-10-25T07:35:19.319Z"
   },
   {
    "duration": 20,
    "start_time": "2022-10-25T07:35:19.343Z"
   },
   {
    "duration": 14,
    "start_time": "2022-10-25T07:35:19.365Z"
   },
   {
    "duration": 12,
    "start_time": "2022-10-25T07:35:19.381Z"
   },
   {
    "duration": 35,
    "start_time": "2022-10-25T07:35:19.395Z"
   },
   {
    "duration": 23,
    "start_time": "2022-10-25T07:35:19.432Z"
   },
   {
    "duration": 14,
    "start_time": "2022-10-25T07:35:19.457Z"
   },
   {
    "duration": 20,
    "start_time": "2022-10-25T07:35:19.472Z"
   },
   {
    "duration": 23,
    "start_time": "2022-10-25T07:35:19.494Z"
   },
   {
    "duration": 23,
    "start_time": "2022-10-25T07:35:19.519Z"
   },
   {
    "duration": 22,
    "start_time": "2022-10-25T07:35:19.547Z"
   },
   {
    "duration": 16,
    "start_time": "2022-10-25T07:35:19.570Z"
   },
   {
    "duration": 357,
    "start_time": "2022-10-25T07:35:19.587Z"
   },
   {
    "duration": 13,
    "start_time": "2022-10-25T07:35:19.951Z"
   },
   {
    "duration": 323,
    "start_time": "2022-10-25T07:35:19.965Z"
   },
   {
    "duration": 222,
    "start_time": "2022-10-25T07:35:20.290Z"
   },
   {
    "duration": 221,
    "start_time": "2022-10-25T07:35:20.513Z"
   },
   {
    "duration": 224,
    "start_time": "2022-10-25T07:35:20.736Z"
   },
   {
    "duration": 440,
    "start_time": "2022-10-25T07:35:20.963Z"
   },
   {
    "duration": 69,
    "start_time": "2022-10-25T07:35:21.405Z"
   },
   {
    "duration": 4,
    "start_time": "2022-10-25T07:35:21.475Z"
   },
   {
    "duration": 63,
    "start_time": "2022-10-25T07:35:21.482Z"
   },
   {
    "duration": 35,
    "start_time": "2022-10-25T07:35:21.547Z"
   },
   {
    "duration": 189,
    "start_time": "2022-10-25T07:35:21.584Z"
   },
   {
    "duration": 179,
    "start_time": "2022-10-25T07:35:21.775Z"
   },
   {
    "duration": 161,
    "start_time": "2022-10-25T07:35:21.956Z"
   },
   {
    "duration": 162,
    "start_time": "2022-10-25T07:35:22.118Z"
   },
   {
    "duration": 171,
    "start_time": "2022-10-25T07:35:22.282Z"
   },
   {
    "duration": 157,
    "start_time": "2022-10-25T07:35:22.454Z"
   },
   {
    "duration": 252,
    "start_time": "2022-10-25T07:35:22.613Z"
   },
   {
    "duration": 250,
    "start_time": "2022-10-25T07:35:22.866Z"
   },
   {
    "duration": 342,
    "start_time": "2022-10-25T07:35:23.117Z"
   },
   {
    "duration": 163,
    "start_time": "2022-10-25T07:35:23.461Z"
   },
   {
    "duration": 17,
    "start_time": "2022-10-25T07:35:23.625Z"
   },
   {
    "duration": 38,
    "start_time": "2022-10-25T07:35:23.643Z"
   },
   {
    "duration": 840,
    "start_time": "2022-10-25T07:35:23.683Z"
   },
   {
    "duration": 192,
    "start_time": "2022-10-25T07:35:24.525Z"
   },
   {
    "duration": 168,
    "start_time": "2022-10-25T07:35:24.718Z"
   },
   {
    "duration": 162,
    "start_time": "2022-10-25T07:35:24.887Z"
   },
   {
    "duration": 164,
    "start_time": "2022-10-25T07:35:25.051Z"
   },
   {
    "duration": 29,
    "start_time": "2022-10-25T07:35:25.216Z"
   },
   {
    "duration": 15,
    "start_time": "2022-10-25T07:35:25.251Z"
   },
   {
    "duration": 13,
    "start_time": "2022-10-25T07:35:25.267Z"
   },
   {
    "duration": 15,
    "start_time": "2022-10-25T07:35:25.282Z"
   },
   {
    "duration": 17,
    "start_time": "2022-10-25T07:35:25.299Z"
   },
   {
    "duration": 40,
    "start_time": "2022-10-25T07:35:25.318Z"
   },
   {
    "duration": 16,
    "start_time": "2022-10-25T07:35:25.360Z"
   },
   {
    "duration": 17,
    "start_time": "2022-10-25T07:35:25.377Z"
   },
   {
    "duration": 14,
    "start_time": "2022-10-25T07:35:25.396Z"
   },
   {
    "duration": 41,
    "start_time": "2022-10-25T07:35:25.412Z"
   },
   {
    "duration": 13,
    "start_time": "2022-10-25T07:35:25.455Z"
   },
   {
    "duration": 14,
    "start_time": "2022-10-25T07:35:25.470Z"
   },
   {
    "duration": 4,
    "start_time": "2022-10-25T07:35:25.485Z"
   },
   {
    "duration": 17,
    "start_time": "2022-10-25T07:35:25.491Z"
   },
   {
    "duration": 6,
    "start_time": "2022-10-25T07:35:25.510Z"
   },
   {
    "duration": 23,
    "start_time": "2022-10-25T07:35:25.517Z"
   },
   {
    "duration": 13,
    "start_time": "2022-10-25T07:35:25.544Z"
   },
   {
    "duration": 14,
    "start_time": "2022-10-25T07:35:25.559Z"
   },
   {
    "duration": 8,
    "start_time": "2022-10-25T07:35:25.575Z"
   },
   {
    "duration": 6,
    "start_time": "2022-10-25T07:35:25.585Z"
   },
   {
    "duration": 8,
    "start_time": "2022-10-25T07:35:25.593Z"
   },
   {
    "duration": 6,
    "start_time": "2022-10-25T07:35:25.603Z"
   },
   {
    "duration": 208,
    "start_time": "2022-10-25T07:36:28.207Z"
   },
   {
    "duration": 188,
    "start_time": "2022-10-25T07:36:38.868Z"
   },
   {
    "duration": 329,
    "start_time": "2022-10-25T07:37:15.434Z"
   },
   {
    "duration": 306,
    "start_time": "2022-10-25T07:37:40.552Z"
   },
   {
    "duration": 217,
    "start_time": "2022-10-25T07:37:58.088Z"
   },
   {
    "duration": 207,
    "start_time": "2022-10-25T07:38:33.010Z"
   },
   {
    "duration": 207,
    "start_time": "2022-10-25T07:38:43.573Z"
   },
   {
    "duration": 202,
    "start_time": "2022-10-25T07:38:56.785Z"
   },
   {
    "duration": 208,
    "start_time": "2022-10-25T07:39:18.687Z"
   },
   {
    "duration": 213,
    "start_time": "2022-10-25T07:39:54.737Z"
   },
   {
    "duration": 5,
    "start_time": "2022-10-25T07:43:09.921Z"
   },
   {
    "duration": 31,
    "start_time": "2022-10-25T07:43:13.235Z"
   },
   {
    "duration": 22,
    "start_time": "2022-10-25T07:43:17.335Z"
   },
   {
    "duration": 202,
    "start_time": "2022-10-25T07:43:18.997Z"
   },
   {
    "duration": 152,
    "start_time": "2022-10-25T07:43:20.675Z"
   },
   {
    "duration": 155,
    "start_time": "2022-10-25T07:43:22.098Z"
   },
   {
    "duration": 152,
    "start_time": "2022-10-25T07:43:23.128Z"
   },
   {
    "duration": 142,
    "start_time": "2022-10-25T07:43:36.276Z"
   },
   {
    "duration": 150,
    "start_time": "2022-10-25T07:43:43.176Z"
   },
   {
    "duration": 134,
    "start_time": "2022-10-25T07:43:53.898Z"
   },
   {
    "duration": 145,
    "start_time": "2022-10-25T07:44:00.363Z"
   },
   {
    "duration": 159,
    "start_time": "2022-10-25T07:44:00.722Z"
   },
   {
    "duration": 355,
    "start_time": "2022-10-25T07:44:07.896Z"
   },
   {
    "duration": 234,
    "start_time": "2022-10-25T07:44:08.794Z"
   },
   {
    "duration": 233,
    "start_time": "2022-10-25T07:44:10.772Z"
   },
   {
    "duration": 210,
    "start_time": "2022-10-25T07:44:44.343Z"
   },
   {
    "duration": 264,
    "start_time": "2022-10-25T07:45:31.189Z"
   },
   {
    "duration": 149,
    "start_time": "2022-10-25T07:48:20.875Z"
   },
   {
    "duration": 203,
    "start_time": "2022-10-25T07:49:14.137Z"
   },
   {
    "duration": 182,
    "start_time": "2022-10-25T07:49:31.635Z"
   },
   {
    "duration": 152,
    "start_time": "2022-10-25T07:50:10.538Z"
   },
   {
    "duration": 5,
    "start_time": "2022-10-25T07:50:56.945Z"
   },
   {
    "duration": 4,
    "start_time": "2022-10-25T07:50:57.308Z"
   },
   {
    "duration": 816,
    "start_time": "2022-10-25T07:51:09.795Z"
   },
   {
    "duration": 749,
    "start_time": "2022-10-25T07:52:03.224Z"
   },
   {
    "duration": 748,
    "start_time": "2022-10-25T07:52:15.401Z"
   },
   {
    "duration": 159,
    "start_time": "2022-10-25T07:59:35.017Z"
   },
   {
    "duration": 154,
    "start_time": "2022-10-25T08:00:11.465Z"
   },
   {
    "duration": 7,
    "start_time": "2022-10-25T08:01:35.673Z"
   },
   {
    "duration": 159,
    "start_time": "2022-10-25T08:02:35.136Z"
   },
   {
    "duration": 157,
    "start_time": "2022-10-25T08:03:17.964Z"
   },
   {
    "duration": 5,
    "start_time": "2022-10-25T08:07:33.486Z"
   },
   {
    "duration": 6,
    "start_time": "2022-10-25T08:07:50.060Z"
   },
   {
    "duration": 338,
    "start_time": "2022-10-25T08:08:34.006Z"
   },
   {
    "duration": 184,
    "start_time": "2022-10-25T08:10:29.678Z"
   },
   {
    "duration": 181,
    "start_time": "2022-10-25T08:11:17.437Z"
   },
   {
    "duration": 15,
    "start_time": "2022-10-25T08:12:59.178Z"
   },
   {
    "duration": 15,
    "start_time": "2022-10-25T08:12:59.448Z"
   },
   {
    "duration": 14,
    "start_time": "2022-10-25T08:12:59.664Z"
   },
   {
    "duration": 17,
    "start_time": "2022-10-25T08:12:59.851Z"
   },
   {
    "duration": 15,
    "start_time": "2022-10-25T08:13:00.454Z"
   },
   {
    "duration": 14,
    "start_time": "2022-10-25T08:13:00.607Z"
   },
   {
    "duration": 13,
    "start_time": "2022-10-25T08:13:00.751Z"
   },
   {
    "duration": 17,
    "start_time": "2022-10-25T08:13:00.891Z"
   },
   {
    "duration": 13,
    "start_time": "2022-10-25T08:13:01.372Z"
   },
   {
    "duration": 13,
    "start_time": "2022-10-25T08:13:01.520Z"
   },
   {
    "duration": 14,
    "start_time": "2022-10-25T08:13:01.689Z"
   },
   {
    "duration": 18,
    "start_time": "2022-10-25T08:13:02.018Z"
   },
   {
    "duration": 349,
    "start_time": "2022-10-25T08:30:11.189Z"
   },
   {
    "duration": 4,
    "start_time": "2022-10-25T08:31:11.425Z"
   },
   {
    "duration": 5,
    "start_time": "2022-10-25T08:31:57.959Z"
   },
   {
    "duration": 5,
    "start_time": "2022-10-25T08:32:15.189Z"
   },
   {
    "duration": 5,
    "start_time": "2022-10-25T08:32:16.450Z"
   },
   {
    "duration": 6,
    "start_time": "2022-10-25T08:32:17.222Z"
   },
   {
    "duration": 6,
    "start_time": "2022-10-25T08:32:19.143Z"
   },
   {
    "duration": 5,
    "start_time": "2022-10-25T08:32:33.548Z"
   },
   {
    "duration": 6,
    "start_time": "2022-10-25T08:32:49.816Z"
   },
   {
    "duration": 4,
    "start_time": "2022-10-25T08:32:50.434Z"
   },
   {
    "duration": 4,
    "start_time": "2022-10-25T08:32:50.890Z"
   },
   {
    "duration": 5,
    "start_time": "2022-10-25T08:32:52.722Z"
   },
   {
    "duration": 4,
    "start_time": "2022-10-25T08:53:56.888Z"
   },
   {
    "duration": 9,
    "start_time": "2022-10-25T08:53:57.180Z"
   },
   {
    "duration": 5,
    "start_time": "2022-10-25T08:53:57.451Z"
   },
   {
    "duration": 5,
    "start_time": "2022-10-25T08:53:57.790Z"
   },
   {
    "duration": 5,
    "start_time": "2022-10-25T08:53:58.268Z"
   },
   {
    "duration": 5,
    "start_time": "2022-10-25T08:54:01.621Z"
   },
   {
    "duration": 6,
    "start_time": "2022-10-25T08:54:01.787Z"
   },
   {
    "duration": 4,
    "start_time": "2022-10-25T08:54:01.978Z"
   },
   {
    "duration": 4,
    "start_time": "2022-10-25T08:54:02.151Z"
   },
   {
    "duration": 5,
    "start_time": "2022-10-25T08:54:02.336Z"
   },
   {
    "duration": 1129,
    "start_time": "2022-10-25T09:16:05.450Z"
   },
   {
    "duration": 55,
    "start_time": "2022-10-25T09:16:06.581Z"
   },
   {
    "duration": 21,
    "start_time": "2022-10-25T09:16:06.638Z"
   },
   {
    "duration": 3,
    "start_time": "2022-10-25T09:16:06.661Z"
   },
   {
    "duration": 30,
    "start_time": "2022-10-25T09:16:06.666Z"
   },
   {
    "duration": 19,
    "start_time": "2022-10-25T09:16:06.698Z"
   },
   {
    "duration": 23,
    "start_time": "2022-10-25T09:16:06.719Z"
   },
   {
    "duration": 5,
    "start_time": "2022-10-25T09:16:06.744Z"
   },
   {
    "duration": 7,
    "start_time": "2022-10-25T09:16:06.751Z"
   },
   {
    "duration": 12,
    "start_time": "2022-10-25T09:16:06.759Z"
   },
   {
    "duration": 26,
    "start_time": "2022-10-25T09:16:06.773Z"
   },
   {
    "duration": 6,
    "start_time": "2022-10-25T09:16:06.800Z"
   },
   {
    "duration": 31,
    "start_time": "2022-10-25T09:16:06.807Z"
   },
   {
    "duration": 4,
    "start_time": "2022-10-25T09:16:06.841Z"
   },
   {
    "duration": 20,
    "start_time": "2022-10-25T09:16:06.847Z"
   },
   {
    "duration": 16,
    "start_time": "2022-10-25T09:16:06.868Z"
   },
   {
    "duration": 20,
    "start_time": "2022-10-25T09:16:06.886Z"
   },
   {
    "duration": 27,
    "start_time": "2022-10-25T09:16:06.907Z"
   },
   {
    "duration": 385,
    "start_time": "2022-10-25T09:16:06.936Z"
   },
   {
    "duration": 22,
    "start_time": "2022-10-25T09:16:07.324Z"
   },
   {
    "duration": 313,
    "start_time": "2022-10-25T09:16:07.348Z"
   },
   {
    "duration": 218,
    "start_time": "2022-10-25T09:16:07.663Z"
   },
   {
    "duration": 210,
    "start_time": "2022-10-25T09:16:07.883Z"
   },
   {
    "duration": 203,
    "start_time": "2022-10-25T09:16:08.095Z"
   },
   {
    "duration": 226,
    "start_time": "2022-10-25T09:16:08.300Z"
   },
   {
    "duration": 293,
    "start_time": "2022-10-25T09:16:08.528Z"
   },
   {
    "duration": 195,
    "start_time": "2022-10-25T09:16:08.822Z"
   },
   {
    "duration": 307,
    "start_time": "2022-10-25T09:16:09.018Z"
   },
   {
    "duration": 45,
    "start_time": "2022-10-25T09:16:09.326Z"
   },
   {
    "duration": 4,
    "start_time": "2022-10-25T09:16:09.373Z"
   },
   {
    "duration": 24,
    "start_time": "2022-10-25T09:16:09.378Z"
   },
   {
    "duration": 36,
    "start_time": "2022-10-25T09:16:09.403Z"
   },
   {
    "duration": 185,
    "start_time": "2022-10-25T09:16:09.441Z"
   },
   {
    "duration": 155,
    "start_time": "2022-10-25T09:16:09.628Z"
   },
   {
    "duration": 149,
    "start_time": "2022-10-25T09:16:09.785Z"
   },
   {
    "duration": 145,
    "start_time": "2022-10-25T09:16:09.939Z"
   },
   {
    "duration": 139,
    "start_time": "2022-10-25T09:16:10.086Z"
   },
   {
    "duration": 165,
    "start_time": "2022-10-25T09:16:10.227Z"
   },
   {
    "duration": 313,
    "start_time": "2022-10-25T09:16:10.393Z"
   },
   {
    "duration": 221,
    "start_time": "2022-10-25T09:16:10.707Z"
   },
   {
    "duration": 246,
    "start_time": "2022-10-25T09:16:10.932Z"
   },
   {
    "duration": 149,
    "start_time": "2022-10-25T09:16:11.179Z"
   },
   {
    "duration": 10,
    "start_time": "2022-10-25T09:16:11.330Z"
   },
   {
    "duration": 827,
    "start_time": "2022-10-25T09:16:11.341Z"
   },
   {
    "duration": 163,
    "start_time": "2022-10-25T09:16:12.169Z"
   },
   {
    "duration": 166,
    "start_time": "2022-10-25T09:16:12.333Z"
   },
   {
    "duration": 190,
    "start_time": "2022-10-25T09:16:12.500Z"
   },
   {
    "duration": 197,
    "start_time": "2022-10-25T09:16:12.691Z"
   },
   {
    "duration": 154,
    "start_time": "2022-10-25T09:16:12.890Z"
   },
   {
    "duration": 159,
    "start_time": "2022-10-25T09:16:13.046Z"
   },
   {
    "duration": 268,
    "start_time": "2022-10-25T09:16:13.207Z"
   },
   {
    "duration": 15,
    "start_time": "2022-10-25T09:16:13.476Z"
   },
   {
    "duration": 15,
    "start_time": "2022-10-25T09:16:13.492Z"
   },
   {
    "duration": 34,
    "start_time": "2022-10-25T09:16:13.508Z"
   },
   {
    "duration": 14,
    "start_time": "2022-10-25T09:16:13.544Z"
   },
   {
    "duration": 12,
    "start_time": "2022-10-25T09:16:13.560Z"
   },
   {
    "duration": 13,
    "start_time": "2022-10-25T09:16:13.573Z"
   },
   {
    "duration": 16,
    "start_time": "2022-10-25T09:16:13.588Z"
   },
   {
    "duration": 42,
    "start_time": "2022-10-25T09:16:13.605Z"
   },
   {
    "duration": 15,
    "start_time": "2022-10-25T09:16:13.649Z"
   },
   {
    "duration": 15,
    "start_time": "2022-10-25T09:16:13.665Z"
   },
   {
    "duration": 14,
    "start_time": "2022-10-25T09:16:13.681Z"
   },
   {
    "duration": 45,
    "start_time": "2022-10-25T09:16:13.697Z"
   },
   {
    "duration": 4,
    "start_time": "2022-10-25T09:16:13.744Z"
   },
   {
    "duration": 9,
    "start_time": "2022-10-25T09:16:13.749Z"
   },
   {
    "duration": 7,
    "start_time": "2022-10-25T09:16:13.759Z"
   },
   {
    "duration": 7,
    "start_time": "2022-10-25T09:16:13.768Z"
   },
   {
    "duration": 6,
    "start_time": "2022-10-25T09:16:13.776Z"
   },
   {
    "duration": 9,
    "start_time": "2022-10-25T09:16:13.784Z"
   },
   {
    "duration": 6,
    "start_time": "2022-10-25T09:16:13.795Z"
   },
   {
    "duration": 8,
    "start_time": "2022-10-25T09:16:13.802Z"
   },
   {
    "duration": 29,
    "start_time": "2022-10-25T09:16:13.812Z"
   },
   {
    "duration": 7,
    "start_time": "2022-10-25T09:16:13.843Z"
   },
   {
    "duration": 46,
    "start_time": "2022-10-25T17:57:18.148Z"
   },
   {
    "duration": 6,
    "start_time": "2022-10-25T17:57:20.774Z"
   },
   {
    "duration": 1257,
    "start_time": "2022-10-25T17:57:31.687Z"
   },
   {
    "duration": 94,
    "start_time": "2022-10-25T17:57:32.945Z"
   },
   {
    "duration": 19,
    "start_time": "2022-10-25T17:57:33.040Z"
   },
   {
    "duration": 3,
    "start_time": "2022-10-25T17:57:33.060Z"
   },
   {
    "duration": 18,
    "start_time": "2022-10-25T17:57:33.065Z"
   },
   {
    "duration": 16,
    "start_time": "2022-10-25T17:57:33.085Z"
   },
   {
    "duration": 9,
    "start_time": "2022-10-25T17:57:33.103Z"
   },
   {
    "duration": 28,
    "start_time": "2022-10-25T17:57:33.114Z"
   },
   {
    "duration": 10,
    "start_time": "2022-10-25T17:57:33.143Z"
   },
   {
    "duration": 6,
    "start_time": "2022-10-25T17:57:33.154Z"
   },
   {
    "duration": 25,
    "start_time": "2022-10-25T17:57:33.162Z"
   },
   {
    "duration": 6,
    "start_time": "2022-10-25T17:57:33.189Z"
   },
   {
    "duration": 12,
    "start_time": "2022-10-25T17:57:33.196Z"
   },
   {
    "duration": 4,
    "start_time": "2022-10-25T17:57:33.211Z"
   },
   {
    "duration": 6,
    "start_time": "2022-10-25T17:57:33.239Z"
   },
   {
    "duration": 6,
    "start_time": "2022-10-25T17:57:33.247Z"
   },
   {
    "duration": 7,
    "start_time": "2022-10-25T17:57:33.254Z"
   },
   {
    "duration": 7,
    "start_time": "2022-10-25T17:57:33.262Z"
   },
   {
    "duration": 350,
    "start_time": "2022-10-25T17:57:33.270Z"
   },
   {
    "duration": 22,
    "start_time": "2022-10-25T17:57:33.622Z"
   },
   {
    "duration": 288,
    "start_time": "2022-10-25T17:57:33.646Z"
   },
   {
    "duration": 194,
    "start_time": "2022-10-25T17:57:33.936Z"
   },
   {
    "duration": 210,
    "start_time": "2022-10-25T17:57:34.132Z"
   },
   {
    "duration": 204,
    "start_time": "2022-10-25T17:57:34.344Z"
   },
   {
    "duration": 203,
    "start_time": "2022-10-25T17:57:34.550Z"
   },
   {
    "duration": 248,
    "start_time": "2022-10-25T17:57:34.755Z"
   },
   {
    "duration": 186,
    "start_time": "2022-10-25T17:57:35.005Z"
   },
   {
    "duration": 317,
    "start_time": "2022-10-25T17:57:35.193Z"
   },
   {
    "duration": 50,
    "start_time": "2022-10-25T17:57:35.511Z"
   },
   {
    "duration": 4,
    "start_time": "2022-10-25T17:57:35.562Z"
   },
   {
    "duration": 22,
    "start_time": "2022-10-25T17:57:35.567Z"
   },
   {
    "duration": 16,
    "start_time": "2022-10-25T17:57:35.591Z"
   },
   {
    "duration": 189,
    "start_time": "2022-10-25T17:57:35.608Z"
   },
   {
    "duration": 142,
    "start_time": "2022-10-25T17:57:35.798Z"
   },
   {
    "duration": 140,
    "start_time": "2022-10-25T17:57:35.941Z"
   },
   {
    "duration": 138,
    "start_time": "2022-10-25T17:57:36.083Z"
   },
   {
    "duration": 141,
    "start_time": "2022-10-25T17:57:36.222Z"
   },
   {
    "duration": 145,
    "start_time": "2022-10-25T17:57:36.365Z"
   },
   {
    "duration": 314,
    "start_time": "2022-10-25T17:57:36.512Z"
   },
   {
    "duration": 228,
    "start_time": "2022-10-25T17:57:36.828Z"
   },
   {
    "duration": 336,
    "start_time": "2022-10-25T17:57:37.061Z"
   },
   {
    "duration": 157,
    "start_time": "2022-10-25T17:57:37.399Z"
   },
   {
    "duration": 5,
    "start_time": "2022-10-25T17:57:37.558Z"
   },
   {
    "duration": 787,
    "start_time": "2022-10-25T17:57:37.564Z"
   },
   {
    "duration": 150,
    "start_time": "2022-10-25T17:57:38.353Z"
   },
   {
    "duration": 180,
    "start_time": "2022-10-25T17:57:38.504Z"
   },
   {
    "duration": 195,
    "start_time": "2022-10-25T17:57:38.685Z"
   },
   {
    "duration": 187,
    "start_time": "2022-10-25T17:57:38.881Z"
   },
   {
    "duration": 164,
    "start_time": "2022-10-25T17:57:39.070Z"
   },
   {
    "duration": 142,
    "start_time": "2022-10-25T17:57:39.238Z"
   },
   {
    "duration": 259,
    "start_time": "2022-10-25T17:57:39.382Z"
   },
   {
    "duration": 13,
    "start_time": "2022-10-25T17:57:39.643Z"
   },
   {
    "duration": 25,
    "start_time": "2022-10-25T17:57:39.658Z"
   },
   {
    "duration": 30,
    "start_time": "2022-10-25T17:57:39.685Z"
   },
   {
    "duration": 14,
    "start_time": "2022-10-25T17:57:39.717Z"
   },
   {
    "duration": 17,
    "start_time": "2022-10-25T17:57:39.733Z"
   },
   {
    "duration": 12,
    "start_time": "2022-10-25T17:57:39.752Z"
   },
   {
    "duration": 15,
    "start_time": "2022-10-25T17:57:39.765Z"
   },
   {
    "duration": 19,
    "start_time": "2022-10-25T17:57:39.781Z"
   },
   {
    "duration": 13,
    "start_time": "2022-10-25T17:57:39.802Z"
   },
   {
    "duration": 14,
    "start_time": "2022-10-25T17:57:39.839Z"
   },
   {
    "duration": 15,
    "start_time": "2022-10-25T17:57:39.855Z"
   },
   {
    "duration": 15,
    "start_time": "2022-10-25T17:57:39.872Z"
   },
   {
    "duration": 4,
    "start_time": "2022-10-25T17:57:39.889Z"
   },
   {
    "duration": 6,
    "start_time": "2022-10-25T17:57:39.895Z"
   },
   {
    "duration": 37,
    "start_time": "2022-10-25T17:57:39.902Z"
   },
   {
    "duration": 4,
    "start_time": "2022-10-25T17:57:39.941Z"
   },
   {
    "duration": 6,
    "start_time": "2022-10-25T17:57:39.947Z"
   },
   {
    "duration": 6,
    "start_time": "2022-10-25T17:57:39.955Z"
   },
   {
    "duration": 7,
    "start_time": "2022-10-25T17:57:39.962Z"
   },
   {
    "duration": 6,
    "start_time": "2022-10-25T17:57:39.970Z"
   },
   {
    "duration": 5,
    "start_time": "2022-10-25T17:57:39.978Z"
   },
   {
    "duration": 6,
    "start_time": "2022-10-25T17:57:39.985Z"
   },
   {
    "duration": 230,
    "start_time": "2022-10-25T17:58:15.433Z"
   },
   {
    "duration": 237,
    "start_time": "2022-10-25T17:58:23.886Z"
   },
   {
    "duration": 223,
    "start_time": "2022-10-25T17:58:27.920Z"
   },
   {
    "duration": 220,
    "start_time": "2022-10-25T17:58:35.356Z"
   },
   {
    "duration": 245,
    "start_time": "2022-10-25T17:58:48.180Z"
   },
   {
    "duration": 228,
    "start_time": "2022-10-25T17:58:52.933Z"
   },
   {
    "duration": 65,
    "start_time": "2022-10-25T18:07:10.234Z"
   },
   {
    "duration": 147,
    "start_time": "2022-10-25T18:07:21.784Z"
   },
   {
    "duration": 38,
    "start_time": "2022-10-25T18:10:14.257Z"
   },
   {
    "duration": 32,
    "start_time": "2022-10-25T18:11:01.031Z"
   },
   {
    "duration": 35,
    "start_time": "2022-10-25T18:12:01.023Z"
   },
   {
    "duration": 29,
    "start_time": "2022-10-25T18:12:44.582Z"
   },
   {
    "duration": 265,
    "start_time": "2022-10-25T18:13:40.226Z"
   },
   {
    "duration": 282,
    "start_time": "2022-10-25T18:13:44.132Z"
   },
   {
    "duration": 336,
    "start_time": "2022-10-25T18:13:55.247Z"
   },
   {
    "duration": 316,
    "start_time": "2022-10-25T18:14:04.462Z"
   },
   {
    "duration": 30,
    "start_time": "2022-10-25T18:15:55.745Z"
   },
   {
    "duration": 20,
    "start_time": "2022-10-25T18:16:51.733Z"
   },
   {
    "duration": 33,
    "start_time": "2022-10-25T18:17:02.319Z"
   },
   {
    "duration": 22,
    "start_time": "2022-10-25T18:17:23.531Z"
   },
   {
    "duration": 22,
    "start_time": "2022-10-25T18:17:31.273Z"
   },
   {
    "duration": 8,
    "start_time": "2022-10-25T18:19:04.648Z"
   },
   {
    "duration": 10,
    "start_time": "2022-10-25T18:19:12.565Z"
   },
   {
    "duration": 21,
    "start_time": "2022-10-25T18:19:15.463Z"
   },
   {
    "duration": 9,
    "start_time": "2022-10-25T18:19:18.018Z"
   },
   {
    "duration": 8,
    "start_time": "2022-10-25T18:19:21.137Z"
   }
  ],
  "kernelspec": {
   "display_name": "Python 3 (ipykernel)",
   "language": "python",
   "name": "python3"
  },
  "language_info": {
   "codemirror_mode": {
    "name": "ipython",
    "version": 3
   },
   "file_extension": ".py",
   "mimetype": "text/x-python",
   "name": "python",
   "nbconvert_exporter": "python",
   "pygments_lexer": "ipython3",
   "version": "3.9.7"
  },
  "toc": {
   "base_numbering": 1,
   "nav_menu": {},
   "number_sections": true,
   "sideBar": true,
   "skip_h1_title": true,
   "title_cell": "Table of Contents",
   "title_sidebar": "Contents",
   "toc_cell": false,
   "toc_position": {
    "height": "calc(100% - 180px)",
    "left": "10px",
    "top": "150px",
    "width": "306.4px"
   },
   "toc_section_display": true,
   "toc_window_display": true
  }
 },
 "nbformat": 4,
 "nbformat_minor": 5
}
