{
 "cells": [
  {
   "cell_type": "markdown",
   "id": "b033870a",
   "metadata": {
    "deletable": false,
    "editable": false,
    "id": "c81daeeb"
   },
   "source": [
    "# Исследование надежности заемщиков\n"
   ]
  },
  {
   "cell_type": "markdown",
   "id": "07681cef",
   "metadata": {
    "deletable": false,
    "editable": false,
    "id": "827c20bf"
   },
   "source": [
    "Во второй части проекта вы выполните шаги 3 и 4. Их вручную проверит ревьюер.\n",
    "Чтобы вам не пришлось писать код заново для шагов 1 и 2, мы добавили авторские решения в ячейки с кодом. \n",
    "\n"
   ]
  },
  {
   "cell_type": "markdown",
   "id": "0d9938a9",
   "metadata": {
    "deletable": false,
    "editable": false,
    "id": "744d7639"
   },
   "source": [
    "## Откройте таблицу и изучите общую информацию о данных"
   ]
  },
  {
   "cell_type": "markdown",
   "id": "489e4b42",
   "metadata": {
    "deletable": false,
    "editable": false,
    "id": "e7a14c31"
   },
   "source": [
    "**Задание 1. Импортируйте библиотеку pandas. Считайте данные из csv-файла в датафрейм и сохраните в переменную `data`. Путь к файлу:**\n",
    "\n",
    "`/datasets/data.csv`"
   ]
  },
  {
   "cell_type": "code",
   "execution_count": 1,
   "id": "5fc0dd92",
   "metadata": {
    "deletable": false,
    "id": "7bcf75c9"
   },
   "outputs": [],
   "source": [
    "import pandas as pd\n",
    "\n",
    "try:\n",
    "    data = pd.read_csv('/datasets/data.csv')\n",
    "except:\n",
    "    data = pd.read_csv('https://code.s3.yandex.net/datasets/data.csv')"
   ]
  },
  {
   "cell_type": "markdown",
   "id": "eaa15206",
   "metadata": {
    "deletable": false,
    "editable": false,
    "id": "b8038fe3"
   },
   "source": [
    "**Задание 2. Выведите первые 20 строчек датафрейма `data` на экран.**"
   ]
  },
  {
   "cell_type": "code",
   "execution_count": 2,
   "id": "e2a98595",
   "metadata": {
    "deletable": false,
    "id": "2a7cab99",
    "outputId": "1a8f3ef2-d323-4ec2-ddf7-89670b5944c4"
   },
   "outputs": [
    {
     "data": {
      "text/html": [
       "<div>\n",
       "<style scoped>\n",
       "    .dataframe tbody tr th:only-of-type {\n",
       "        vertical-align: middle;\n",
       "    }\n",
       "\n",
       "    .dataframe tbody tr th {\n",
       "        vertical-align: top;\n",
       "    }\n",
       "\n",
       "    .dataframe thead th {\n",
       "        text-align: right;\n",
       "    }\n",
       "</style>\n",
       "<table border=\"1\" class=\"dataframe\">\n",
       "  <thead>\n",
       "    <tr style=\"text-align: right;\">\n",
       "      <th></th>\n",
       "      <th>children</th>\n",
       "      <th>days_employed</th>\n",
       "      <th>dob_years</th>\n",
       "      <th>education</th>\n",
       "      <th>education_id</th>\n",
       "      <th>family_status</th>\n",
       "      <th>family_status_id</th>\n",
       "      <th>gender</th>\n",
       "      <th>income_type</th>\n",
       "      <th>debt</th>\n",
       "      <th>total_income</th>\n",
       "      <th>purpose</th>\n",
       "    </tr>\n",
       "  </thead>\n",
       "  <tbody>\n",
       "    <tr>\n",
       "      <th>0</th>\n",
       "      <td>1</td>\n",
       "      <td>-8437.673028</td>\n",
       "      <td>42</td>\n",
       "      <td>высшее</td>\n",
       "      <td>0</td>\n",
       "      <td>женат / замужем</td>\n",
       "      <td>0</td>\n",
       "      <td>F</td>\n",
       "      <td>сотрудник</td>\n",
       "      <td>0</td>\n",
       "      <td>253875.639453</td>\n",
       "      <td>покупка жилья</td>\n",
       "    </tr>\n",
       "    <tr>\n",
       "      <th>1</th>\n",
       "      <td>1</td>\n",
       "      <td>-4024.803754</td>\n",
       "      <td>36</td>\n",
       "      <td>среднее</td>\n",
       "      <td>1</td>\n",
       "      <td>женат / замужем</td>\n",
       "      <td>0</td>\n",
       "      <td>F</td>\n",
       "      <td>сотрудник</td>\n",
       "      <td>0</td>\n",
       "      <td>112080.014102</td>\n",
       "      <td>приобретение автомобиля</td>\n",
       "    </tr>\n",
       "    <tr>\n",
       "      <th>2</th>\n",
       "      <td>0</td>\n",
       "      <td>-5623.422610</td>\n",
       "      <td>33</td>\n",
       "      <td>Среднее</td>\n",
       "      <td>1</td>\n",
       "      <td>женат / замужем</td>\n",
       "      <td>0</td>\n",
       "      <td>M</td>\n",
       "      <td>сотрудник</td>\n",
       "      <td>0</td>\n",
       "      <td>145885.952297</td>\n",
       "      <td>покупка жилья</td>\n",
       "    </tr>\n",
       "    <tr>\n",
       "      <th>3</th>\n",
       "      <td>3</td>\n",
       "      <td>-4124.747207</td>\n",
       "      <td>32</td>\n",
       "      <td>среднее</td>\n",
       "      <td>1</td>\n",
       "      <td>женат / замужем</td>\n",
       "      <td>0</td>\n",
       "      <td>M</td>\n",
       "      <td>сотрудник</td>\n",
       "      <td>0</td>\n",
       "      <td>267628.550329</td>\n",
       "      <td>дополнительное образование</td>\n",
       "    </tr>\n",
       "    <tr>\n",
       "      <th>4</th>\n",
       "      <td>0</td>\n",
       "      <td>340266.072047</td>\n",
       "      <td>53</td>\n",
       "      <td>среднее</td>\n",
       "      <td>1</td>\n",
       "      <td>гражданский брак</td>\n",
       "      <td>1</td>\n",
       "      <td>F</td>\n",
       "      <td>пенсионер</td>\n",
       "      <td>0</td>\n",
       "      <td>158616.077870</td>\n",
       "      <td>сыграть свадьбу</td>\n",
       "    </tr>\n",
       "    <tr>\n",
       "      <th>5</th>\n",
       "      <td>0</td>\n",
       "      <td>-926.185831</td>\n",
       "      <td>27</td>\n",
       "      <td>высшее</td>\n",
       "      <td>0</td>\n",
       "      <td>гражданский брак</td>\n",
       "      <td>1</td>\n",
       "      <td>M</td>\n",
       "      <td>компаньон</td>\n",
       "      <td>0</td>\n",
       "      <td>255763.565419</td>\n",
       "      <td>покупка жилья</td>\n",
       "    </tr>\n",
       "    <tr>\n",
       "      <th>6</th>\n",
       "      <td>0</td>\n",
       "      <td>-2879.202052</td>\n",
       "      <td>43</td>\n",
       "      <td>высшее</td>\n",
       "      <td>0</td>\n",
       "      <td>женат / замужем</td>\n",
       "      <td>0</td>\n",
       "      <td>F</td>\n",
       "      <td>компаньон</td>\n",
       "      <td>0</td>\n",
       "      <td>240525.971920</td>\n",
       "      <td>операции с жильем</td>\n",
       "    </tr>\n",
       "    <tr>\n",
       "      <th>7</th>\n",
       "      <td>0</td>\n",
       "      <td>-152.779569</td>\n",
       "      <td>50</td>\n",
       "      <td>СРЕДНЕЕ</td>\n",
       "      <td>1</td>\n",
       "      <td>женат / замужем</td>\n",
       "      <td>0</td>\n",
       "      <td>M</td>\n",
       "      <td>сотрудник</td>\n",
       "      <td>0</td>\n",
       "      <td>135823.934197</td>\n",
       "      <td>образование</td>\n",
       "    </tr>\n",
       "    <tr>\n",
       "      <th>8</th>\n",
       "      <td>2</td>\n",
       "      <td>-6929.865299</td>\n",
       "      <td>35</td>\n",
       "      <td>ВЫСШЕЕ</td>\n",
       "      <td>0</td>\n",
       "      <td>гражданский брак</td>\n",
       "      <td>1</td>\n",
       "      <td>F</td>\n",
       "      <td>сотрудник</td>\n",
       "      <td>0</td>\n",
       "      <td>95856.832424</td>\n",
       "      <td>на проведение свадьбы</td>\n",
       "    </tr>\n",
       "    <tr>\n",
       "      <th>9</th>\n",
       "      <td>0</td>\n",
       "      <td>-2188.756445</td>\n",
       "      <td>41</td>\n",
       "      <td>среднее</td>\n",
       "      <td>1</td>\n",
       "      <td>женат / замужем</td>\n",
       "      <td>0</td>\n",
       "      <td>M</td>\n",
       "      <td>сотрудник</td>\n",
       "      <td>0</td>\n",
       "      <td>144425.938277</td>\n",
       "      <td>покупка жилья для семьи</td>\n",
       "    </tr>\n",
       "    <tr>\n",
       "      <th>10</th>\n",
       "      <td>2</td>\n",
       "      <td>-4171.483647</td>\n",
       "      <td>36</td>\n",
       "      <td>высшее</td>\n",
       "      <td>0</td>\n",
       "      <td>женат / замужем</td>\n",
       "      <td>0</td>\n",
       "      <td>M</td>\n",
       "      <td>компаньон</td>\n",
       "      <td>0</td>\n",
       "      <td>113943.491460</td>\n",
       "      <td>покупка недвижимости</td>\n",
       "    </tr>\n",
       "    <tr>\n",
       "      <th>11</th>\n",
       "      <td>0</td>\n",
       "      <td>-792.701887</td>\n",
       "      <td>40</td>\n",
       "      <td>среднее</td>\n",
       "      <td>1</td>\n",
       "      <td>женат / замужем</td>\n",
       "      <td>0</td>\n",
       "      <td>F</td>\n",
       "      <td>сотрудник</td>\n",
       "      <td>0</td>\n",
       "      <td>77069.234271</td>\n",
       "      <td>покупка коммерческой недвижимости</td>\n",
       "    </tr>\n",
       "    <tr>\n",
       "      <th>12</th>\n",
       "      <td>0</td>\n",
       "      <td>NaN</td>\n",
       "      <td>65</td>\n",
       "      <td>среднее</td>\n",
       "      <td>1</td>\n",
       "      <td>гражданский брак</td>\n",
       "      <td>1</td>\n",
       "      <td>M</td>\n",
       "      <td>пенсионер</td>\n",
       "      <td>0</td>\n",
       "      <td>NaN</td>\n",
       "      <td>сыграть свадьбу</td>\n",
       "    </tr>\n",
       "    <tr>\n",
       "      <th>13</th>\n",
       "      <td>0</td>\n",
       "      <td>-1846.641941</td>\n",
       "      <td>54</td>\n",
       "      <td>неоконченное высшее</td>\n",
       "      <td>2</td>\n",
       "      <td>женат / замужем</td>\n",
       "      <td>0</td>\n",
       "      <td>F</td>\n",
       "      <td>сотрудник</td>\n",
       "      <td>0</td>\n",
       "      <td>130458.228857</td>\n",
       "      <td>приобретение автомобиля</td>\n",
       "    </tr>\n",
       "    <tr>\n",
       "      <th>14</th>\n",
       "      <td>0</td>\n",
       "      <td>-1844.956182</td>\n",
       "      <td>56</td>\n",
       "      <td>высшее</td>\n",
       "      <td>0</td>\n",
       "      <td>гражданский брак</td>\n",
       "      <td>1</td>\n",
       "      <td>F</td>\n",
       "      <td>компаньон</td>\n",
       "      <td>1</td>\n",
       "      <td>165127.911772</td>\n",
       "      <td>покупка жилой недвижимости</td>\n",
       "    </tr>\n",
       "    <tr>\n",
       "      <th>15</th>\n",
       "      <td>1</td>\n",
       "      <td>-972.364419</td>\n",
       "      <td>26</td>\n",
       "      <td>среднее</td>\n",
       "      <td>1</td>\n",
       "      <td>женат / замужем</td>\n",
       "      <td>0</td>\n",
       "      <td>F</td>\n",
       "      <td>сотрудник</td>\n",
       "      <td>0</td>\n",
       "      <td>116820.904450</td>\n",
       "      <td>строительство собственной недвижимости</td>\n",
       "    </tr>\n",
       "    <tr>\n",
       "      <th>16</th>\n",
       "      <td>0</td>\n",
       "      <td>-1719.934226</td>\n",
       "      <td>35</td>\n",
       "      <td>среднее</td>\n",
       "      <td>1</td>\n",
       "      <td>женат / замужем</td>\n",
       "      <td>0</td>\n",
       "      <td>F</td>\n",
       "      <td>сотрудник</td>\n",
       "      <td>0</td>\n",
       "      <td>289202.704229</td>\n",
       "      <td>недвижимость</td>\n",
       "    </tr>\n",
       "    <tr>\n",
       "      <th>17</th>\n",
       "      <td>0</td>\n",
       "      <td>-2369.999720</td>\n",
       "      <td>33</td>\n",
       "      <td>высшее</td>\n",
       "      <td>0</td>\n",
       "      <td>гражданский брак</td>\n",
       "      <td>1</td>\n",
       "      <td>M</td>\n",
       "      <td>сотрудник</td>\n",
       "      <td>0</td>\n",
       "      <td>90410.586745</td>\n",
       "      <td>строительство недвижимости</td>\n",
       "    </tr>\n",
       "    <tr>\n",
       "      <th>18</th>\n",
       "      <td>0</td>\n",
       "      <td>400281.136913</td>\n",
       "      <td>53</td>\n",
       "      <td>среднее</td>\n",
       "      <td>1</td>\n",
       "      <td>вдовец / вдова</td>\n",
       "      <td>2</td>\n",
       "      <td>F</td>\n",
       "      <td>пенсионер</td>\n",
       "      <td>0</td>\n",
       "      <td>56823.777243</td>\n",
       "      <td>на покупку подержанного автомобиля</td>\n",
       "    </tr>\n",
       "    <tr>\n",
       "      <th>19</th>\n",
       "      <td>0</td>\n",
       "      <td>-10038.818549</td>\n",
       "      <td>48</td>\n",
       "      <td>СРЕДНЕЕ</td>\n",
       "      <td>1</td>\n",
       "      <td>в разводе</td>\n",
       "      <td>3</td>\n",
       "      <td>F</td>\n",
       "      <td>сотрудник</td>\n",
       "      <td>0</td>\n",
       "      <td>242831.107982</td>\n",
       "      <td>на покупку своего автомобиля</td>\n",
       "    </tr>\n",
       "  </tbody>\n",
       "</table>\n",
       "</div>"
      ],
      "text/plain": [
       "    children  days_employed  dob_years            education  education_id  \\\n",
       "0          1   -8437.673028         42               высшее             0   \n",
       "1          1   -4024.803754         36              среднее             1   \n",
       "2          0   -5623.422610         33              Среднее             1   \n",
       "3          3   -4124.747207         32              среднее             1   \n",
       "4          0  340266.072047         53              среднее             1   \n",
       "5          0    -926.185831         27               высшее             0   \n",
       "6          0   -2879.202052         43               высшее             0   \n",
       "7          0    -152.779569         50              СРЕДНЕЕ             1   \n",
       "8          2   -6929.865299         35               ВЫСШЕЕ             0   \n",
       "9          0   -2188.756445         41              среднее             1   \n",
       "10         2   -4171.483647         36               высшее             0   \n",
       "11         0    -792.701887         40              среднее             1   \n",
       "12         0            NaN         65              среднее             1   \n",
       "13         0   -1846.641941         54  неоконченное высшее             2   \n",
       "14         0   -1844.956182         56               высшее             0   \n",
       "15         1    -972.364419         26              среднее             1   \n",
       "16         0   -1719.934226         35              среднее             1   \n",
       "17         0   -2369.999720         33               высшее             0   \n",
       "18         0  400281.136913         53              среднее             1   \n",
       "19         0  -10038.818549         48              СРЕДНЕЕ             1   \n",
       "\n",
       "       family_status  family_status_id gender income_type  debt  \\\n",
       "0    женат / замужем                 0      F   сотрудник     0   \n",
       "1    женат / замужем                 0      F   сотрудник     0   \n",
       "2    женат / замужем                 0      M   сотрудник     0   \n",
       "3    женат / замужем                 0      M   сотрудник     0   \n",
       "4   гражданский брак                 1      F   пенсионер     0   \n",
       "5   гражданский брак                 1      M   компаньон     0   \n",
       "6    женат / замужем                 0      F   компаньон     0   \n",
       "7    женат / замужем                 0      M   сотрудник     0   \n",
       "8   гражданский брак                 1      F   сотрудник     0   \n",
       "9    женат / замужем                 0      M   сотрудник     0   \n",
       "10   женат / замужем                 0      M   компаньон     0   \n",
       "11   женат / замужем                 0      F   сотрудник     0   \n",
       "12  гражданский брак                 1      M   пенсионер     0   \n",
       "13   женат / замужем                 0      F   сотрудник     0   \n",
       "14  гражданский брак                 1      F   компаньон     1   \n",
       "15   женат / замужем                 0      F   сотрудник     0   \n",
       "16   женат / замужем                 0      F   сотрудник     0   \n",
       "17  гражданский брак                 1      M   сотрудник     0   \n",
       "18    вдовец / вдова                 2      F   пенсионер     0   \n",
       "19         в разводе                 3      F   сотрудник     0   \n",
       "\n",
       "     total_income                                 purpose  \n",
       "0   253875.639453                           покупка жилья  \n",
       "1   112080.014102                 приобретение автомобиля  \n",
       "2   145885.952297                           покупка жилья  \n",
       "3   267628.550329              дополнительное образование  \n",
       "4   158616.077870                         сыграть свадьбу  \n",
       "5   255763.565419                           покупка жилья  \n",
       "6   240525.971920                       операции с жильем  \n",
       "7   135823.934197                             образование  \n",
       "8    95856.832424                   на проведение свадьбы  \n",
       "9   144425.938277                 покупка жилья для семьи  \n",
       "10  113943.491460                    покупка недвижимости  \n",
       "11   77069.234271       покупка коммерческой недвижимости  \n",
       "12            NaN                         сыграть свадьбу  \n",
       "13  130458.228857                 приобретение автомобиля  \n",
       "14  165127.911772              покупка жилой недвижимости  \n",
       "15  116820.904450  строительство собственной недвижимости  \n",
       "16  289202.704229                            недвижимость  \n",
       "17   90410.586745              строительство недвижимости  \n",
       "18   56823.777243      на покупку подержанного автомобиля  \n",
       "19  242831.107982            на покупку своего автомобиля  "
      ]
     },
     "execution_count": 2,
     "metadata": {},
     "output_type": "execute_result"
    }
   ],
   "source": [
    "data.head(20)"
   ]
  },
  {
   "cell_type": "markdown",
   "id": "713a7aae",
   "metadata": {
    "deletable": false,
    "editable": false,
    "id": "1c12e233"
   },
   "source": [
    "**Задание 3. Выведите основную информацию о датафрейме с помощью метода `info()`.**"
   ]
  },
  {
   "cell_type": "code",
   "execution_count": 3,
   "id": "be520ac0",
   "metadata": {
    "deletable": false,
    "id": "2b757bca",
    "outputId": "15376089-8dad-46c9-b520-c05248d43158"
   },
   "outputs": [
    {
     "name": "stdout",
     "output_type": "stream",
     "text": [
      "<class 'pandas.core.frame.DataFrame'>\n",
      "RangeIndex: 21525 entries, 0 to 21524\n",
      "Data columns (total 12 columns):\n",
      " #   Column            Non-Null Count  Dtype  \n",
      "---  ------            --------------  -----  \n",
      " 0   children          21525 non-null  int64  \n",
      " 1   days_employed     19351 non-null  float64\n",
      " 2   dob_years         21525 non-null  int64  \n",
      " 3   education         21525 non-null  object \n",
      " 4   education_id      21525 non-null  int64  \n",
      " 5   family_status     21525 non-null  object \n",
      " 6   family_status_id  21525 non-null  int64  \n",
      " 7   gender            21525 non-null  object \n",
      " 8   income_type       21525 non-null  object \n",
      " 9   debt              21525 non-null  int64  \n",
      " 10  total_income      19351 non-null  float64\n",
      " 11  purpose           21525 non-null  object \n",
      "dtypes: float64(2), int64(5), object(5)\n",
      "memory usage: 2.0+ MB\n"
     ]
    }
   ],
   "source": [
    "data.info()"
   ]
  },
  {
   "cell_type": "markdown",
   "id": "193879a8",
   "metadata": {
    "deletable": false,
    "editable": false,
    "id": "333ec665"
   },
   "source": [
    "## Предобработка данных"
   ]
  },
  {
   "cell_type": "markdown",
   "id": "098d915e",
   "metadata": {
    "deletable": false,
    "editable": false,
    "id": "02d92d53"
   },
   "source": [
    "### Удаление пропусков"
   ]
  },
  {
   "cell_type": "markdown",
   "id": "8c0658b3",
   "metadata": {
    "deletable": false,
    "editable": false,
    "id": "cd84967c"
   },
   "source": [
    "**Задание 4. Выведите количество пропущенных значений для каждого столбца. Используйте комбинацию двух методов.**"
   ]
  },
  {
   "cell_type": "code",
   "execution_count": 4,
   "id": "dc19f982",
   "metadata": {
    "deletable": false,
    "id": "7f9b2309",
    "outputId": "81f4d817-781c-465c-ed15-91ce4446810d"
   },
   "outputs": [
    {
     "data": {
      "text/plain": [
       "children               0\n",
       "days_employed       2174\n",
       "dob_years              0\n",
       "education              0\n",
       "education_id           0\n",
       "family_status          0\n",
       "family_status_id       0\n",
       "gender                 0\n",
       "income_type            0\n",
       "debt                   0\n",
       "total_income        2174\n",
       "purpose                0\n",
       "dtype: int64"
      ]
     },
     "execution_count": 4,
     "metadata": {},
     "output_type": "execute_result"
    }
   ],
   "source": [
    "data.isna().sum()"
   ]
  },
  {
   "cell_type": "markdown",
   "id": "f808bc6b",
   "metadata": {
    "deletable": false,
    "editable": false,
    "id": "db86e27b"
   },
   "source": [
    "**Задание 5. В двух столбцах есть пропущенные значения. Один из них — `days_employed`. Пропуски в этом столбце вы обработаете на следующем этапе. Другой столбец с пропущенными значениями — `total_income` — хранит данные о доходах. На сумму дохода сильнее всего влияет тип занятости, поэтому заполнить пропуски в этом столбце нужно медианным значением по каждому типу из столбца `income_type`. Например, у человека с типом занятости `сотрудник` пропуск в столбце `total_income` должен быть заполнен медианным доходом среди всех записей с тем же типом.**"
   ]
  },
  {
   "cell_type": "code",
   "execution_count": 5,
   "id": "d81f09e2",
   "metadata": {
    "deletable": false,
    "id": "42006a93"
   },
   "outputs": [],
   "source": [
    "for t in data['income_type'].unique():\n",
    "    data.loc[(data['income_type'] == t) & (data['total_income'].isna()), 'total_income'] = \\\n",
    "    data.loc[(data['income_type'] == t), 'total_income'].median()"
   ]
  },
  {
   "cell_type": "markdown",
   "id": "99463a5f",
   "metadata": {
    "deletable": false,
    "editable": false,
    "id": "89da5ece"
   },
   "source": [
    "### Обработка аномальных значений"
   ]
  },
  {
   "cell_type": "markdown",
   "id": "5188ec20",
   "metadata": {
    "deletable": false,
    "editable": false,
    "id": "57964554"
   },
   "source": [
    "**Задание 6. В данных могут встречаться артефакты (аномалии) — значения, которые не отражают действительность и появились по какой-то ошибке. таким артефактом будет отрицательное количество дней трудового стажа в столбце `days_employed`. Для реальных данных это нормально. Обработайте значения в этом столбце: замените все отрицательные значения положительными с помощью метода `abs()`.**"
   ]
  },
  {
   "cell_type": "code",
   "execution_count": 6,
   "id": "616a0f81",
   "metadata": {
    "deletable": false,
    "id": "f6f055bf"
   },
   "outputs": [],
   "source": [
    "data['days_employed'] = data['days_employed'].abs()"
   ]
  },
  {
   "cell_type": "markdown",
   "id": "f5cfe87d",
   "metadata": {
    "deletable": false,
    "editable": false,
    "id": "6107dd2f"
   },
   "source": [
    "**Задание 7. Для каждого типа занятости выведите медианное значение трудового стажа `days_employed` в днях.**"
   ]
  },
  {
   "cell_type": "code",
   "execution_count": 7,
   "id": "1caf234d",
   "metadata": {
    "deletable": false,
    "id": "85a5faf6",
    "outputId": "801ef80e-522b-4668-f34e-565af7432bcf"
   },
   "outputs": [
    {
     "data": {
      "text/plain": [
       "income_type\n",
       "безработный        366413.652744\n",
       "в декрете            3296.759962\n",
       "госслужащий          2689.368353\n",
       "компаньон            1547.382223\n",
       "пенсионер          365213.306266\n",
       "предприниматель       520.848083\n",
       "сотрудник            1574.202821\n",
       "студент               578.751554\n",
       "Name: days_employed, dtype: float64"
      ]
     },
     "execution_count": 7,
     "metadata": {},
     "output_type": "execute_result"
    }
   ],
   "source": [
    "data.groupby('income_type')['days_employed'].agg('median')"
   ]
  },
  {
   "cell_type": "markdown",
   "id": "cfe0b0df",
   "metadata": {
    "deletable": false,
    "editable": false,
    "id": "38d1a030"
   },
   "source": [
    "У двух типов (безработные и пенсионеры) получатся аномально большие значения. Исправить такие значения сложно, поэтому оставьте их как есть. Тем более этот столбец не понадобится вам для исследования."
   ]
  },
  {
   "cell_type": "markdown",
   "id": "32a48bba",
   "metadata": {
    "deletable": false,
    "editable": false,
    "id": "d8a9f147"
   },
   "source": [
    "**Задание 8. Выведите перечень уникальных значений столбца `children`.**"
   ]
  },
  {
   "cell_type": "code",
   "execution_count": 8,
   "id": "77b6cbf6",
   "metadata": {
    "deletable": false,
    "id": "ef5056eb",
    "outputId": "6975b15c-7f95-4697-d16d-a0c79b657b03"
   },
   "outputs": [
    {
     "data": {
      "text/plain": [
       "array([ 1,  0,  3,  2, -1,  4, 20,  5])"
      ]
     },
     "execution_count": 8,
     "metadata": {},
     "output_type": "execute_result"
    }
   ],
   "source": [
    "data['children'].unique()"
   ]
  },
  {
   "cell_type": "markdown",
   "id": "5460a378",
   "metadata": {
    "deletable": false,
    "editable": false,
    "id": "40b9ebf2"
   },
   "source": [
    "**Задание 9. В столбце `children` есть два аномальных значения. Удалите строки, в которых встречаются такие аномальные значения из датафрейма `data`.**"
   ]
  },
  {
   "cell_type": "code",
   "execution_count": 9,
   "id": "cdb02a25",
   "metadata": {
    "deletable": false,
    "id": "3ff9801d"
   },
   "outputs": [],
   "source": [
    "data = data[(data['children'] != -1) & (data['children'] != 20)]"
   ]
  },
  {
   "cell_type": "markdown",
   "id": "abaa028c",
   "metadata": {
    "deletable": false,
    "editable": false,
    "id": "bbc4d0ce"
   },
   "source": [
    "**Задание 10. Ещё раз выведите перечень уникальных значений столбца `children`, чтобы убедиться, что артефакты удалены.**"
   ]
  },
  {
   "cell_type": "code",
   "execution_count": 10,
   "id": "fbc942ee",
   "metadata": {
    "deletable": false,
    "id": "ad4fa8b7",
    "outputId": "b2097101-d49d-44d9-901b-32a65c9463d1"
   },
   "outputs": [
    {
     "data": {
      "text/plain": [
       "array([1, 0, 3, 2, 4, 5])"
      ]
     },
     "execution_count": 10,
     "metadata": {},
     "output_type": "execute_result"
    }
   ],
   "source": [
    "data['children'].unique()"
   ]
  },
  {
   "cell_type": "markdown",
   "id": "46c5c329",
   "metadata": {
    "deletable": false,
    "editable": false,
    "id": "75440b63"
   },
   "source": [
    "### Удаление пропусков (продолжение)"
   ]
  },
  {
   "cell_type": "markdown",
   "id": "0527d512",
   "metadata": {
    "deletable": false,
    "editable": false,
    "id": "f4ea573f"
   },
   "source": [
    "**Задание 11. Заполните пропуски в столбце `days_employed` медианными значениями по каждого типа занятости `income_type`.**"
   ]
  },
  {
   "cell_type": "code",
   "execution_count": 11,
   "id": "04d716b4",
   "metadata": {
    "deletable": false,
    "id": "af6b1a7e"
   },
   "outputs": [],
   "source": [
    "for t in data['income_type'].unique():\n",
    "    data.loc[(data['income_type'] == t) & (data['days_employed'].isna()), 'days_employed'] = \\\n",
    "    data.loc[(data['income_type'] == t), 'days_employed'].median()"
   ]
  },
  {
   "cell_type": "markdown",
   "id": "ddfd3fb7",
   "metadata": {
    "deletable": false,
    "editable": false,
    "id": "2753f40d"
   },
   "source": [
    "**Задание 12. Убедитесь, что все пропуски заполнены. Проверьте себя и ещё раз выведите количество пропущенных значений для каждого столбца с помощью двух методов.**"
   ]
  },
  {
   "cell_type": "code",
   "execution_count": 12,
   "id": "d2569076",
   "metadata": {
    "deletable": false,
    "id": "55f78bc2",
    "outputId": "8da1e4e1-358e-4e87-98c9-f261bce0a7b2"
   },
   "outputs": [
    {
     "data": {
      "text/plain": [
       "children            0\n",
       "days_employed       0\n",
       "dob_years           0\n",
       "education           0\n",
       "education_id        0\n",
       "family_status       0\n",
       "family_status_id    0\n",
       "gender              0\n",
       "income_type         0\n",
       "debt                0\n",
       "total_income        0\n",
       "purpose             0\n",
       "dtype: int64"
      ]
     },
     "execution_count": 12,
     "metadata": {},
     "output_type": "execute_result"
    }
   ],
   "source": [
    "data.isna().sum()"
   ]
  },
  {
   "cell_type": "markdown",
   "id": "39906c96",
   "metadata": {
    "deletable": false,
    "editable": false,
    "id": "ddc81e43"
   },
   "source": [
    "### Изменение типов данных"
   ]
  },
  {
   "cell_type": "markdown",
   "id": "dae290da",
   "metadata": {
    "deletable": false,
    "editable": false,
    "id": "42d19d24"
   },
   "source": [
    "**Задание 13. Замените вещественный тип данных в столбце `total_income` на целочисленный с помощью метода `astype()`.**"
   ]
  },
  {
   "cell_type": "code",
   "execution_count": 13,
   "id": "a931cb51",
   "metadata": {
    "deletable": false,
    "id": "920b65ad"
   },
   "outputs": [],
   "source": [
    "data['total_income'] = data['total_income'].astype(int)"
   ]
  },
  {
   "cell_type": "markdown",
   "id": "5ca2b069",
   "metadata": {
    "deletable": false,
    "editable": false,
    "id": "80c420ba"
   },
   "source": [
    "### Обработка дубликатов"
   ]
  },
  {
   "cell_type": "markdown",
   "id": "ea0fb02b",
   "metadata": {
    "deletable": false,
    "editable": false
   },
   "source": [
    "**Задание 14. Обработайте неявные дубликаты в столбце `education`. В этом столбце есть одни и те же значения, но записанные по-разному: с использованием заглавных и строчных букв. Приведите их к нижнему регистру. Проверьте остальные столбцы.**"
   ]
  },
  {
   "cell_type": "code",
   "execution_count": 14,
   "id": "1c2a97fc",
   "metadata": {
    "deletable": false
   },
   "outputs": [],
   "source": [
    "data['education'] = data['education'].str.lower()"
   ]
  },
  {
   "cell_type": "markdown",
   "id": "ea9a893b",
   "metadata": {
    "deletable": false,
    "editable": false,
    "id": "dc587695"
   },
   "source": [
    "**Задание 15. Выведите на экран количество строк-дубликатов в данных. Если такие строки присутствуют, удалите их.**"
   ]
  },
  {
   "cell_type": "code",
   "execution_count": 15,
   "id": "98d231fb",
   "metadata": {
    "deletable": false,
    "id": "3ee445e4",
    "outputId": "9684deba-1934-42d1-99e1-cda61740f822"
   },
   "outputs": [
    {
     "data": {
      "text/plain": [
       "71"
      ]
     },
     "execution_count": 15,
     "metadata": {},
     "output_type": "execute_result"
    }
   ],
   "source": [
    "data.duplicated().sum()"
   ]
  },
  {
   "cell_type": "code",
   "execution_count": 16,
   "id": "c3b9eb74",
   "metadata": {
    "deletable": false,
    "id": "8575fe05"
   },
   "outputs": [],
   "source": [
    "data = data.drop_duplicates()"
   ]
  },
  {
   "cell_type": "markdown",
   "id": "95bdec01",
   "metadata": {
    "deletable": false,
    "editable": false,
    "id": "9904cf55"
   },
   "source": [
    "### Категоризация данных"
   ]
  },
  {
   "cell_type": "markdown",
   "id": "40167079",
   "metadata": {
    "deletable": false,
    "editable": false,
    "id": "72fcc8a2"
   },
   "source": [
    "**Задание 16. На основании диапазонов, указанных ниже, создайте в датафрейме `data` столбец `total_income_category` с категориями:**\n",
    "\n",
    "- 0–30000 — `'E'`;\n",
    "- 30001–50000 — `'D'`;\n",
    "- 50001–200000 — `'C'`;\n",
    "- 200001–1000000 — `'B'`;\n",
    "- 1000001 и выше — `'A'`.\n",
    "\n",
    "\n",
    "**Например, кредитополучателю с доходом 25000 нужно назначить категорию `'E'`, а клиенту, получающему 235000, — `'B'`. Используйте собственную функцию с именем `categorize_income()` и метод `apply()`.**"
   ]
  },
  {
   "cell_type": "code",
   "execution_count": 17,
   "id": "a7cc5dbd",
   "metadata": {
    "deletable": false,
    "id": "e1771346"
   },
   "outputs": [],
   "source": [
    "def categorize_income(income):\n",
    "    try:\n",
    "        if 0 <= income <= 30000:\n",
    "            return 'E'\n",
    "        elif 30001 <= income <= 50000:\n",
    "            return 'D'\n",
    "        elif 50001 <= income <= 200000:\n",
    "            return 'C'\n",
    "        elif 200001 <= income <= 1000000:\n",
    "            return 'B'\n",
    "        elif income >= 1000001:\n",
    "            return 'A'\n",
    "    except:\n",
    "        pass"
   ]
  },
  {
   "cell_type": "code",
   "execution_count": 18,
   "id": "fc3a836b",
   "metadata": {
    "deletable": false,
    "id": "d5f3586d"
   },
   "outputs": [],
   "source": [
    "data['total_income_category'] = data['total_income'].apply(categorize_income)"
   ]
  },
  {
   "cell_type": "markdown",
   "id": "326da20f",
   "metadata": {
    "deletable": false,
    "editable": false,
    "id": "dde49b5c"
   },
   "source": [
    "**Задание 17. Выведите на экран перечень уникальных целей взятия кредита из столбца `purpose`.**"
   ]
  },
  {
   "cell_type": "code",
   "execution_count": 19,
   "id": "b0d5a5cf",
   "metadata": {
    "deletable": false,
    "id": "f67ce9b3",
    "outputId": "673c12d9-7d7e-4ae0-9812-c622c89dd244"
   },
   "outputs": [
    {
     "data": {
      "text/plain": [
       "array(['покупка жилья', 'приобретение автомобиля',\n",
       "       'дополнительное образование', 'сыграть свадьбу',\n",
       "       'операции с жильем', 'образование', 'на проведение свадьбы',\n",
       "       'покупка жилья для семьи', 'покупка недвижимости',\n",
       "       'покупка коммерческой недвижимости', 'покупка жилой недвижимости',\n",
       "       'строительство собственной недвижимости', 'недвижимость',\n",
       "       'строительство недвижимости', 'на покупку подержанного автомобиля',\n",
       "       'на покупку своего автомобиля',\n",
       "       'операции с коммерческой недвижимостью',\n",
       "       'строительство жилой недвижимости', 'жилье',\n",
       "       'операции со своей недвижимостью', 'автомобили',\n",
       "       'заняться образованием', 'сделка с подержанным автомобилем',\n",
       "       'получение образования', 'автомобиль', 'свадьба',\n",
       "       'получение дополнительного образования', 'покупка своего жилья',\n",
       "       'операции с недвижимостью', 'получение высшего образования',\n",
       "       'свой автомобиль', 'сделка с автомобилем',\n",
       "       'профильное образование', 'высшее образование',\n",
       "       'покупка жилья для сдачи', 'на покупку автомобиля', 'ремонт жилью',\n",
       "       'заняться высшим образованием'], dtype=object)"
      ]
     },
     "execution_count": 19,
     "metadata": {},
     "output_type": "execute_result"
    }
   ],
   "source": [
    "data['purpose'].unique()"
   ]
  },
  {
   "cell_type": "markdown",
   "id": "adcdd747",
   "metadata": {
    "deletable": false,
    "editable": false,
    "id": "85d0aef0"
   },
   "source": [
    "**Задание 18. Создайте функцию, которая на основании данных из столбца `purpose` сформирует новый столбец `purpose_category`, в который войдут следующие категории:**\n",
    "\n",
    "- `'операции с автомобилем'`,\n",
    "- `'операции с недвижимостью'`,\n",
    "- `'проведение свадьбы'`,\n",
    "- `'получение образования'`.\n",
    "\n",
    "**Например, если в столбце `purpose` находится подстрока `'на покупку автомобиля'`, то в столбце `purpose_category` должна появиться строка `'операции с автомобилем'`.**\n",
    "\n",
    "**Используйте собственную функцию с именем `categorize_purpose()` и метод `apply()`. Изучите данные в столбце `purpose` и определите, какие подстроки помогут вам правильно определить категорию.**"
   ]
  },
  {
   "cell_type": "code",
   "execution_count": 20,
   "id": "021a8011",
   "metadata": {
    "deletable": false,
    "id": "e149fab4"
   },
   "outputs": [],
   "source": [
    "def categorize_purpose(row):\n",
    "    try:\n",
    "        if 'автом' in row:\n",
    "            return 'операции с автомобилем'\n",
    "        elif 'жил' in row or 'недвиж' in row:\n",
    "            return 'операции с недвижимостью'\n",
    "        elif 'свад' in row:\n",
    "            return 'проведение свадьбы'\n",
    "        elif 'образов' in row:\n",
    "            return 'получение образования'\n",
    "    except:\n",
    "        return 'нет категории'"
   ]
  },
  {
   "cell_type": "code",
   "execution_count": 21,
   "id": "805f7913",
   "metadata": {
    "deletable": false,
    "id": "bf36e69b"
   },
   "outputs": [],
   "source": [
    "data['purpose_category'] = data['purpose'].apply(categorize_purpose)"
   ]
  },
  {
   "cell_type": "markdown",
   "id": "92dd2043",
   "metadata": {
    "deletable": false,
    "editable": false,
    "id": "09b242bf"
   },
   "source": [
    "### Шаг 3. Исследуйте данные и ответьте на вопросы"
   ]
  },
  {
   "cell_type": "markdown",
   "id": "a52eeb89",
   "metadata": {
    "deletable": false,
    "editable": false,
    "id": "c5d66278"
   },
   "source": [
    "#### 3.1 Есть ли зависимость между количеством детей и возвратом кредита в срок?"
   ]
  },
  {
   "cell_type": "code",
   "execution_count": 22,
   "id": "6c2b2a91",
   "metadata": {},
   "outputs": [],
   "source": [
    "import matplotlib.pyplot as plt\n",
    "import seaborn as sns\n",
    "sns.set_theme()"
   ]
  },
  {
   "cell_type": "code",
   "execution_count": 23,
   "id": "a5d929b1",
   "metadata": {
    "deletable": false,
    "id": "2cacfc4a"
   },
   "outputs": [
    {
     "data": {
      "text/plain": [
       "<matplotlib.collections.PathCollection at 0x7f2d53017c70>"
      ]
     },
     "execution_count": 23,
     "metadata": {},
     "output_type": "execute_result"
    },
    {
     "data": {
      "image/png": "[encoded data removed]",
      "text/plain": [
       "<Figure size 432x288 with 1 Axes>"
      ]
     },
     "metadata": {},
     "output_type": "display_data"
    }
   ],
   "source": [
    "# Ваш код будет здесь. Вы можете создавать новые ячейки.\n",
    "kids = data.groupby('children').agg({'debt':'sum', 'children':'count'})\n",
    "\n",
    "\n",
    "plt.scatter(kids['children'], kids['debt'])"
   ]
  },
  {
   "cell_type": "code",
   "execution_count": 24,
   "id": "ccc3214f",
   "metadata": {},
   "outputs": [
    {
     "data": {
      "text/plain": [
       "<AxesSubplot:ylabel='children'>"
      ]
     },
     "execution_count": 24,
     "metadata": {},
     "output_type": "execute_result"
    },
    {
     "data": {
      "image/png": "[encoded data removed]",
      "text/plain": [
       "<Figure size 432x288 with 2 Axes>"
      ]
     },
     "metadata": {},
     "output_type": "display_data"
    }
   ],
   "source": [
    "sns.heatmap(kids, annot=True, fmt=\"d\", linewidths=.5, cmap= 'coolwarm')"
   ]
  },
  {
   "cell_type": "code",
   "execution_count": 25,
   "id": "949b9fe5",
   "metadata": {},
   "outputs": [
    {
     "data": {
      "text/html": [
       "<div>\n",
       "<style scoped>\n",
       "    .dataframe tbody tr th:only-of-type {\n",
       "        vertical-align: middle;\n",
       "    }\n",
       "\n",
       "    .dataframe tbody tr th {\n",
       "        vertical-align: top;\n",
       "    }\n",
       "\n",
       "    .dataframe thead th {\n",
       "        text-align: right;\n",
       "    }\n",
       "</style>\n",
       "<table border=\"1\" class=\"dataframe\">\n",
       "  <thead>\n",
       "    <tr style=\"text-align: right;\">\n",
       "      <th></th>\n",
       "      <th>debt</th>\n",
       "      <th>children</th>\n",
       "      <th>mean_children</th>\n",
       "    </tr>\n",
       "    <tr>\n",
       "      <th>children</th>\n",
       "      <th></th>\n",
       "      <th></th>\n",
       "      <th></th>\n",
       "    </tr>\n",
       "  </thead>\n",
       "  <tbody>\n",
       "    <tr>\n",
       "      <th>4</th>\n",
       "      <td>4</td>\n",
       "      <td>41</td>\n",
       "      <td>0.097561</td>\n",
       "    </tr>\n",
       "    <tr>\n",
       "      <th>2</th>\n",
       "      <td>194</td>\n",
       "      <td>2052</td>\n",
       "      <td>0.094542</td>\n",
       "    </tr>\n",
       "    <tr>\n",
       "      <th>1</th>\n",
       "      <td>444</td>\n",
       "      <td>4808</td>\n",
       "      <td>0.092346</td>\n",
       "    </tr>\n",
       "    <tr>\n",
       "      <th>3</th>\n",
       "      <td>27</td>\n",
       "      <td>330</td>\n",
       "      <td>0.081818</td>\n",
       "    </tr>\n",
       "    <tr>\n",
       "      <th>0</th>\n",
       "      <td>1063</td>\n",
       "      <td>14091</td>\n",
       "      <td>0.075438</td>\n",
       "    </tr>\n",
       "    <tr>\n",
       "      <th>5</th>\n",
       "      <td>0</td>\n",
       "      <td>9</td>\n",
       "      <td>0.000000</td>\n",
       "    </tr>\n",
       "  </tbody>\n",
       "</table>\n",
       "</div>"
      ],
      "text/plain": [
       "          debt  children  mean_children\n",
       "children                               \n",
       "4            4        41       0.097561\n",
       "2          194      2052       0.094542\n",
       "1          444      4808       0.092346\n",
       "3           27       330       0.081818\n",
       "0         1063     14091       0.075438\n",
       "5            0         9       0.000000"
      ]
     },
     "execution_count": 25,
     "metadata": {},
     "output_type": "execute_result"
    }
   ],
   "source": [
    "kids['mean_children'] = kids['debt'] / kids['children']\n",
    "kids.sort_values('mean_children', ascending = False)"
   ]
  },
  {
   "cell_type": "markdown",
   "id": "2d7392b5",
   "metadata": {
    "deletable": false,
    "id": "3a6b99ec"
   },
   "source": [
    "**Вывод:** "
   ]
  },
  {
   "cell_type": "markdown",
   "id": "0b0c876c",
   "metadata": {},
   "source": [
    "Чем больше количество детей, тем выше вероятность, что будет просрочка по выплатам. Возможно, что выборка несбалансированная. В таблице очень много людей у которых нет детей."
   ]
  },
  {
   "cell_type": "markdown",
   "id": "2135c105",
   "metadata": {
    "deletable": false,
    "editable": false,
    "id": "97be82ca"
   },
   "source": [
    "#### 3.2 Есть ли зависимость между семейным положением и возвратом кредита в срок?"
   ]
  },
  {
   "cell_type": "code",
   "execution_count": 26,
   "id": "e82bd12e",
   "metadata": {
    "deletable": false,
    "id": "dc3f7ee8"
   },
   "outputs": [
    {
     "data": {
      "text/plain": [
       "<matplotlib.collections.PathCollection at 0x7f2d4ae53610>"
      ]
     },
     "execution_count": 26,
     "metadata": {},
     "output_type": "execute_result"
    },
    {
     "data": {
      "image/png": "[encoded data removed]",
      "text/plain": [
       "<Figure size 432x288 with 1 Axes>"
      ]
     },
     "metadata": {},
     "output_type": "display_data"
    }
   ],
   "source": [
    "# Ваш код будет здесь. Вы можете создавать новые ячейки.\n",
    "family_status = data.groupby('family_status').agg({'debt':'sum', 'family_status':'count'})\n",
    "plt.scatter(family_status['family_status'], family_status['debt'])"
   ]
  },
  {
   "cell_type": "code",
   "execution_count": 27,
   "id": "af957d52",
   "metadata": {},
   "outputs": [
    {
     "data": {
      "text/plain": [
       "<AxesSubplot:ylabel='family_status'>"
      ]
     },
     "execution_count": 27,
     "metadata": {},
     "output_type": "execute_result"
    },
    {
     "data": {
      "image/png": "[encoded data removed]",
      "text/plain": [
       "<Figure size 432x288 with 2 Axes>"
      ]
     },
     "metadata": {},
     "output_type": "display_data"
    }
   ],
   "source": [
    "sns.heatmap(family_status, annot=True, fmt=\"d\", linewidths=.5, cmap= 'coolwarm')"
   ]
  },
  {
   "cell_type": "code",
   "execution_count": 28,
   "id": "493b7186",
   "metadata": {},
   "outputs": [
    {
     "data": {
      "text/html": [
       "<div>\n",
       "<style scoped>\n",
       "    .dataframe tbody tr th:only-of-type {\n",
       "        vertical-align: middle;\n",
       "    }\n",
       "\n",
       "    .dataframe tbody tr th {\n",
       "        vertical-align: top;\n",
       "    }\n",
       "\n",
       "    .dataframe thead th {\n",
       "        text-align: right;\n",
       "    }\n",
       "</style>\n",
       "<table border=\"1\" class=\"dataframe\">\n",
       "  <thead>\n",
       "    <tr style=\"text-align: right;\">\n",
       "      <th></th>\n",
       "      <th>debt</th>\n",
       "      <th>family_status</th>\n",
       "      <th>mean_family_status</th>\n",
       "    </tr>\n",
       "    <tr>\n",
       "      <th>family_status</th>\n",
       "      <th></th>\n",
       "      <th></th>\n",
       "      <th></th>\n",
       "    </tr>\n",
       "  </thead>\n",
       "  <tbody>\n",
       "    <tr>\n",
       "      <th>Не женат / не замужем</th>\n",
       "      <td>273</td>\n",
       "      <td>2796</td>\n",
       "      <td>0.097639</td>\n",
       "    </tr>\n",
       "    <tr>\n",
       "      <th>гражданский брак</th>\n",
       "      <td>385</td>\n",
       "      <td>4134</td>\n",
       "      <td>0.093130</td>\n",
       "    </tr>\n",
       "    <tr>\n",
       "      <th>женат / замужем</th>\n",
       "      <td>927</td>\n",
       "      <td>12261</td>\n",
       "      <td>0.075606</td>\n",
       "    </tr>\n",
       "    <tr>\n",
       "      <th>в разводе</th>\n",
       "      <td>84</td>\n",
       "      <td>1189</td>\n",
       "      <td>0.070648</td>\n",
       "    </tr>\n",
       "    <tr>\n",
       "      <th>вдовец / вдова</th>\n",
       "      <td>63</td>\n",
       "      <td>951</td>\n",
       "      <td>0.066246</td>\n",
       "    </tr>\n",
       "  </tbody>\n",
       "</table>\n",
       "</div>"
      ],
      "text/plain": [
       "                       debt  family_status  mean_family_status\n",
       "family_status                                                 \n",
       "Не женат / не замужем   273           2796            0.097639\n",
       "гражданский брак        385           4134            0.093130\n",
       "женат / замужем         927          12261            0.075606\n",
       "в разводе                84           1189            0.070648\n",
       "вдовец / вдова           63            951            0.066246"
      ]
     },
     "execution_count": 28,
     "metadata": {},
     "output_type": "execute_result"
    }
   ],
   "source": [
    "family_status['mean_family_status'] = family_status['debt'] / family_status['family_status']\n",
    "family_status.sort_values('mean_family_status', ascending = False)"
   ]
  },
  {
   "cell_type": "markdown",
   "id": "2a903020",
   "metadata": {
    "deletable": false,
    "id": "1cef7837"
   },
   "source": [
    "**Вывод:** "
   ]
  },
  {
   "cell_type": "markdown",
   "id": "4cb82d6c",
   "metadata": {},
   "source": [
    "Те кто не вступали в брак чаще не оплачивают кредит во время."
   ]
  },
  {
   "cell_type": "markdown",
   "id": "46b13dba",
   "metadata": {
    "deletable": false,
    "editable": false,
    "id": "1e8b2fca"
   },
   "source": [
    "#### 3.3 Есть ли зависимость между уровнем дохода и возвратом кредита в срок?"
   ]
  },
  {
   "cell_type": "markdown",
   "id": "6c9c22c2",
   "metadata": {},
   "source": [
    "Уровень дохода\n",
    "\n",
    "0–30000 — 'E';\n",
    "30001–50000 — 'D';\n",
    "50001–200000 — 'C';\n",
    "200001–1000000 — 'B';\n",
    "1000001 и выше — 'A'."
   ]
  },
  {
   "cell_type": "code",
   "execution_count": 29,
   "id": "76afcc3c",
   "metadata": {
    "deletable": false,
    "id": "cd7e3720"
   },
   "outputs": [],
   "source": [
    "# Ваш код будет здесь. Вы можете создавать новые ячейки.\n",
    "income = data.groupby('total_income_category').agg({'debt':'sum', 'total_income_category':'count'})"
   ]
  },
  {
   "cell_type": "code",
   "execution_count": 30,
   "id": "26d18b98",
   "metadata": {},
   "outputs": [
    {
     "data": {
      "text/plain": [
       "<AxesSubplot:ylabel='total_income_category'>"
      ]
     },
     "execution_count": 30,
     "metadata": {},
     "output_type": "execute_result"
    },
    {
     "data": {
      "image/png": "[encoded data removed]",
      "text/plain": [
       "<Figure size 432x288 with 2 Axes>"
      ]
     },
     "metadata": {},
     "output_type": "display_data"
    }
   ],
   "source": [
    "sns.heatmap(income, annot=True, fmt=\"d\", linewidths=.5, cmap= 'coolwarm')"
   ]
  },
  {
   "cell_type": "code",
   "execution_count": 31,
   "id": "6e77e2a1",
   "metadata": {},
   "outputs": [
    {
     "data": {
      "text/html": [
       "<div>\n",
       "<style scoped>\n",
       "    .dataframe tbody tr th:only-of-type {\n",
       "        vertical-align: middle;\n",
       "    }\n",
       "\n",
       "    .dataframe tbody tr th {\n",
       "        vertical-align: top;\n",
       "    }\n",
       "\n",
       "    .dataframe thead th {\n",
       "        text-align: right;\n",
       "    }\n",
       "</style>\n",
       "<table border=\"1\" class=\"dataframe\">\n",
       "  <thead>\n",
       "    <tr style=\"text-align: right;\">\n",
       "      <th></th>\n",
       "      <th>debt</th>\n",
       "      <th>total_income_category</th>\n",
       "      <th>mean_income</th>\n",
       "    </tr>\n",
       "    <tr>\n",
       "      <th>total_income_category</th>\n",
       "      <th></th>\n",
       "      <th></th>\n",
       "      <th></th>\n",
       "    </tr>\n",
       "  </thead>\n",
       "  <tbody>\n",
       "    <tr>\n",
       "      <th>E</th>\n",
       "      <td>2</td>\n",
       "      <td>22</td>\n",
       "      <td>0.090909</td>\n",
       "    </tr>\n",
       "    <tr>\n",
       "      <th>C</th>\n",
       "      <td>1353</td>\n",
       "      <td>15921</td>\n",
       "      <td>0.084982</td>\n",
       "    </tr>\n",
       "    <tr>\n",
       "      <th>A</th>\n",
       "      <td>2</td>\n",
       "      <td>25</td>\n",
       "      <td>0.080000</td>\n",
       "    </tr>\n",
       "    <tr>\n",
       "      <th>B</th>\n",
       "      <td>354</td>\n",
       "      <td>5014</td>\n",
       "      <td>0.070602</td>\n",
       "    </tr>\n",
       "    <tr>\n",
       "      <th>D</th>\n",
       "      <td>21</td>\n",
       "      <td>349</td>\n",
       "      <td>0.060172</td>\n",
       "    </tr>\n",
       "  </tbody>\n",
       "</table>\n",
       "</div>"
      ],
      "text/plain": [
       "                       debt  total_income_category  mean_income\n",
       "total_income_category                                          \n",
       "E                         2                     22     0.090909\n",
       "C                      1353                  15921     0.084982\n",
       "A                         2                     25     0.080000\n",
       "B                       354                   5014     0.070602\n",
       "D                        21                    349     0.060172"
      ]
     },
     "execution_count": 31,
     "metadata": {},
     "output_type": "execute_result"
    }
   ],
   "source": [
    "income['mean_income'] = income['debt'] / income['total_income_category']\n",
    "income.sort_values('mean_income', ascending = False)"
   ]
  },
  {
   "cell_type": "markdown",
   "id": "7add1458",
   "metadata": {
    "deletable": false,
    "id": "e8593def"
   },
   "source": [
    "**Вывод:** "
   ]
  },
  {
   "cell_type": "markdown",
   "id": "d92c20c8",
   "metadata": {},
   "source": [
    "Люди с уровнем дохода от 50001 до 200000 и от 0 до 30000 — чаще совершают просрочку платежа. \n",
    "С категорией 'C' звучит сомнительно, может опять же несбалансированная выборка."
   ]
  },
  {
   "cell_type": "markdown",
   "id": "637ba093",
   "metadata": {
    "deletable": false,
    "editable": false,
    "id": "99ecbd1f"
   },
   "source": [
    "#### 3.4 Как разные цели кредита влияют на его возврат в срок?"
   ]
  },
  {
   "cell_type": "code",
   "execution_count": 32,
   "id": "0e91f172",
   "metadata": {
    "deletable": false,
    "id": "2b687290"
   },
   "outputs": [
    {
     "data": {
      "text/plain": [
       "<matplotlib.collections.PathCollection at 0x7f2d4ace3400>"
      ]
     },
     "execution_count": 32,
     "metadata": {},
     "output_type": "execute_result"
    },
    {
     "data": {
      "image/png": "[encoded data removed]",
      "text/plain": [
       "<Figure size 432x288 with 1 Axes>"
      ]
     },
     "metadata": {},
     "output_type": "display_data"
    }
   ],
   "source": [
    "# Ваш код будет здесь. Вы можете создавать новые ячейки.\n",
    "purpose = data.groupby('purpose_category').agg({'debt':'sum', 'purpose_category':'count'})\n",
    "plt.scatter(purpose['purpose_category'], purpose['debt'])"
   ]
  },
  {
   "cell_type": "code",
   "execution_count": 33,
   "id": "3be1d1a3",
   "metadata": {},
   "outputs": [
    {
     "data": {
      "text/plain": [
       "<AxesSubplot:ylabel='purpose_category'>"
      ]
     },
     "execution_count": 33,
     "metadata": {},
     "output_type": "execute_result"
    },
    {
     "data": {
      "image/png": "[encoded data removed]",
      "text/plain": [
       "<Figure size 432x288 with 2 Axes>"
      ]
     },
     "metadata": {},
     "output_type": "display_data"
    }
   ],
   "source": [
    "sns.heatmap(purpose, annot=True, fmt=\"d\", linewidths=.5, cmap= 'coolwarm')"
   ]
  },
  {
   "cell_type": "code",
   "execution_count": 34,
   "id": "78970aa9",
   "metadata": {},
   "outputs": [
    {
     "data": {
      "text/html": [
       "<div>\n",
       "<style scoped>\n",
       "    .dataframe tbody tr th:only-of-type {\n",
       "        vertical-align: middle;\n",
       "    }\n",
       "\n",
       "    .dataframe tbody tr th {\n",
       "        vertical-align: top;\n",
       "    }\n",
       "\n",
       "    .dataframe thead th {\n",
       "        text-align: right;\n",
       "    }\n",
       "</style>\n",
       "<table border=\"1\" class=\"dataframe\">\n",
       "  <thead>\n",
       "    <tr style=\"text-align: right;\">\n",
       "      <th></th>\n",
       "      <th>debt</th>\n",
       "      <th>purpose_category</th>\n",
       "      <th>mean_purpose</th>\n",
       "    </tr>\n",
       "    <tr>\n",
       "      <th>purpose_category</th>\n",
       "      <th></th>\n",
       "      <th></th>\n",
       "      <th></th>\n",
       "    </tr>\n",
       "  </thead>\n",
       "  <tbody>\n",
       "    <tr>\n",
       "      <th>операции с автомобилем</th>\n",
       "      <td>400</td>\n",
       "      <td>4279</td>\n",
       "      <td>0.093480</td>\n",
       "    </tr>\n",
       "    <tr>\n",
       "      <th>получение образования</th>\n",
       "      <td>369</td>\n",
       "      <td>3988</td>\n",
       "      <td>0.092528</td>\n",
       "    </tr>\n",
       "    <tr>\n",
       "      <th>проведение свадьбы</th>\n",
       "      <td>183</td>\n",
       "      <td>2313</td>\n",
       "      <td>0.079118</td>\n",
       "    </tr>\n",
       "    <tr>\n",
       "      <th>операции с недвижимостью</th>\n",
       "      <td>780</td>\n",
       "      <td>10751</td>\n",
       "      <td>0.072551</td>\n",
       "    </tr>\n",
       "  </tbody>\n",
       "</table>\n",
       "</div>"
      ],
      "text/plain": [
       "                          debt  purpose_category  mean_purpose\n",
       "purpose_category                                              \n",
       "операции с автомобилем     400              4279      0.093480\n",
       "получение образования      369              3988      0.092528\n",
       "проведение свадьбы         183              2313      0.079118\n",
       "операции с недвижимостью   780             10751      0.072551"
      ]
     },
     "execution_count": 34,
     "metadata": {},
     "output_type": "execute_result"
    }
   ],
   "source": [
    "purpose['mean_purpose'] = purpose['debt'] / purpose['purpose_category']\n",
    "purpose.sort_values('mean_purpose', ascending = False)"
   ]
  },
  {
   "cell_type": "markdown",
   "id": "23744df6",
   "metadata": {
    "deletable": false,
    "id": "b4bb2ce6"
   },
   "source": [
    "**Вывод:** "
   ]
  },
  {
   "cell_type": "markdown",
   "id": "db6bf450",
   "metadata": {},
   "source": [
    "У кого кредит на автомобиль или образование чаще совершают просрочку по выплатам."
   ]
  },
  {
   "cell_type": "markdown",
   "id": "9b5461a9",
   "metadata": {
    "deletable": false,
    "editable": false,
    "id": "09c3ac4c"
   },
   "source": [
    "#### 3.5 Приведите возможные причины появления пропусков в исходных данных."
   ]
  },
  {
   "cell_type": "markdown",
   "id": "7c7b875a",
   "metadata": {
    "deletable": false,
    "id": "9da2ceda"
   },
   "source": [
    "*Ответ:* "
   ]
  },
  {
   "cell_type": "markdown",
   "id": "b804ce6d",
   "metadata": {},
   "source": [
    "Человеческий фактор: при заполнении данных человек мог опечататься или целеноправленно не написать информацию.\n",
    "Технический фактор: не правильно выбран формат данных, ошибка при копировании или чтении данных"
   ]
  },
  {
   "cell_type": "markdown",
   "id": "f9546141",
   "metadata": {
    "deletable": false,
    "editable": false,
    "id": "7b0487d6"
   },
   "source": [
    "#### 3.6 Объясните, почему заполнить пропуски медианным значением — лучшее решение для количественных переменных."
   ]
  },
  {
   "cell_type": "markdown",
   "id": "1c667b80",
   "metadata": {
    "deletable": false,
    "id": "7ecf2b8e"
   },
   "source": [
    "*Ответ:* "
   ]
  },
  {
   "cell_type": "markdown",
   "id": "c94609d0",
   "metadata": {},
   "source": [
    "Пропуски в количественных переменных характерными значениями. Это значения, характеризующие состояние выборки, — набора данных, выбранных для проведения исследования. Чтобы примерно оценить типичные значения выборки, годятся среднее арифметическое или медиана. Среднее значение некорректно характеризует данные, когда некоторые значения сильно выделяются среди большинства. В нашешм случае (уровень дохода, например) лучше всего было бы использовать медиану."
   ]
  },
  {
   "cell_type": "markdown",
   "id": "9ee7dd9c",
   "metadata": {
    "deletable": false,
    "editable": false,
    "id": "6db5255a"
   },
   "source": [
    "### Шаг 4: общий вывод."
   ]
  },
  {
   "cell_type": "markdown",
   "id": "7b8524c1",
   "metadata": {
    "deletable": false,
    "id": "bad65432"
   },
   "source": [
    "Напишите ваш общий вывод."
   ]
  },
  {
   "cell_type": "markdown",
   "id": "65eed636",
   "metadata": {},
   "source": [
    "<div class=\"alert alert-info\"> \n",
    "\n",
    "<br><b>Постановка задачи</b>\n",
    "    \n",
    "<br>Входные данные от банка — статистика о платёжеспособности клиентов. Нужно узнать, влияет ли семейное положение и количество детей клиента на факт погашения кредита в срок. Результаты исследования будут учтены при построении модели кредитного скоринга — специальной системы, которая оценивает способность потенциального заёмщика вернуть кредит банку.\n",
    "    \n",
    "    \n",
    "<br><b>Входные данные</b>\n",
    "    \n",
    "<br><code>children</code> — количество детей в семье\n",
    "<br><code>days_employed</code> — общий трудовой стаж в днях\n",
    "<br><code>dob_years</code> — возраст клиента в годах\n",
    "<br><code>education</code> — уровень образования клиента\n",
    "<br><code>education_id</code> — идентификатор уровня образования\n",
    "<br><code>family_status</code> — семейное положение\n",
    "<br><code>family_status_id</code> — идентификатор семейного положения\n",
    "<br><code>gender</code> — пол клиента\n",
    "<br><code>income_type</code> — тип занятости\n",
    "<br><code>debt</code> — имел ли задолженность по возврату кредитов\n",
    "<br><code>total_income</code> — ежемесячный доход\n",
    "<br><code>purpose</code> — цель получения кредита\n",
    "\n",
    "<br><b>Предобработка данных</b>\n",
    "    \n",
    "<br><b><em>Пропущенные значения</em></b>\n",
    "<br>В двух столбцах есть пропущенные значения:\n",
    "<br><code>days_employed</code>\n",
    "<br><code>total_income</code>   \n",
    "<br>На сумму дохода сильнее всего влияет тип занятости, поэтому было принято решение заполнить пропуски в этом столбце медианным значением по каждому типу из столбца <code>income_typeм</code>. Например, у человека с типом занятости сотрудник пропуск в столбце <code>total_income</code> должен быть заполнен медианным доходом среди всех записей с тем же типом.\n",
    "<br>В столбце <code>days_employed</code> отрицательное количество дней трудового стажа. Были заменины все отрицательные значения положительными с помощью метода <code>abs()</code>. Пропуски были заполнены медианным значением, аналогично, как и в <code>total_income</code>.\n",
    "\n",
    "<br><b><em>Артефакты и дубликаты</em></b>    \n",
    "\n",
    "<br>В столбце <code>children</code> есть два аномальных значения. Были удалены строки, в которых встречаются такие аномальные значения.\n",
    "<br>Был заменен вещественный тип данных в столбце <code>total_income</code> на целочисленный с помощью метода <code>astype()</code>.\n",
    "<br>Обработаны неявные дубликаты в столбце <code>education</code>. В этом столбце есть одни и те же значения, но записанные по-разному: с использованием заглавных и строчных букв. Приведено к нижнему регистру.\n",
    "    \n",
    "    \n",
    "<br><b><em>Создание категориальных признаков</em></b>\n",
    "    \n",
    "<br> На основании доходов созданы категории <code>total_income_category</code>:\n",
    "<br>0–30000 — 'E';\n",
    "<br>30001–50000 — 'D';\n",
    "<br>50001–200000 — 'C';\n",
    "<br>200001–1000000 — 'B';\n",
    "<br>1000001 и выше — 'A'.\n",
    "    \n",
    "    \n",
    "<br>На основании данных из столбца <code>purpose</code> сформирован новый столбец <code>purpose_category</code>, куда вошли следующие категории:\n",
    "<br>'операции с автомобилем',\n",
    "<br>'операции с недвижимостью',\n",
    "<br>'проведение свадьбы',\n",
    "<br>'получение образования'.\n",
    "    \n",
    "<br><b>Анализ данных</b>\n",
    "    \n",
    "<br>В результате анализа данных были сделаны следующие выводы:\n",
    "    \n",
    "<br><b><em>Семейное положение</em></b>: \n",
    "люди в браке чаще плятят в срок чем те, кто не бывали в браке. Люди в статусе \"в разводе\" и \"овдовец\\вдова\" платят в срок чаще, чем люди в браке. \n",
    "\n",
    "<br><b><em>Количество детей</em></b>:\n",
    "Чем больше детей, тем чаще платят не в срок, бездетные реже просрачивают оплату.\n",
    "\n",
    "<br><b><em>Уровень дохода</em></b>:\n",
    "Люди с уровнем дохода от 0 до 30000 — чаще совершают просрочку платежа. Тем временем люди с заработком от 30001 до 50000 реже всего допускают просрочку платежа.\n",
    "\n",
    "<br><b><em>Цель кредита</em></b>:\n",
    "У кого кредит на автомобиль или образование чаще совершают просрочку по выплатам. Люди, которые взяли кредит на недвижимость чаще платят в срок.\n",
    "   \n",
    "<br><b>Замечания и рекомендации</b>\n",
    "    \n",
    "<br>В работе с входными данными были обнаружены следующие проблемы:\n",
    "<br>1. Пропущенные значения в <code>days_employed</code> и <code>total_income</code>. <em>Решение: заполнить медианным значением.</em>\n",
    "<br>2. Аномальные значения в <code>children</code>. <em>Решение:Удалить строки с аномальными значениями</em>\n",
    "<br>3. Неявные дубликаты в столбце <code>education</code> и <code>purpose</code>. <em>Решение: приведение всех строк к одному регистру и разбиение признаков на категории. </em>\n",
    "\n",
    " </div>"
   ]
  }
 ],
 "metadata": {
  "ExecuteTimeLog": [
   {
    "duration": 406,
    "start_time": "2022-09-18T14:18:02.959Z"
   },
   {
    "duration": 28,
    "start_time": "2022-09-18T14:18:17.892Z"
   },
   {
    "duration": 19,
    "start_time": "2022-09-18T14:18:22.670Z"
   },
   {
    "duration": 16,
    "start_time": "2022-09-18T14:21:33.456Z"
   },
   {
    "duration": 67,
    "start_time": "2022-09-18T14:22:02.249Z"
   },
   {
    "duration": 15,
    "start_time": "2022-09-18T14:22:02.562Z"
   },
   {
    "duration": 13,
    "start_time": "2022-09-18T14:22:02.849Z"
   },
   {
    "duration": 9,
    "start_time": "2022-09-18T14:22:03.420Z"
   },
   {
    "duration": 35,
    "start_time": "2022-09-18T14:22:03.707Z"
   },
   {
    "duration": 5,
    "start_time": "2022-09-18T14:22:04.164Z"
   },
   {
    "duration": 21,
    "start_time": "2022-09-18T14:22:04.500Z"
   },
   {
    "duration": 4,
    "start_time": "2022-09-18T14:22:04.989Z"
   },
   {
    "duration": 7,
    "start_time": "2022-09-18T14:22:05.327Z"
   },
   {
    "duration": 7,
    "start_time": "2022-09-18T14:22:05.706Z"
   },
   {
    "duration": 31,
    "start_time": "2022-09-18T14:22:06.216Z"
   },
   {
    "duration": 8,
    "start_time": "2022-09-18T14:22:06.569Z"
   },
   {
    "duration": 4,
    "start_time": "2022-09-18T14:22:07.110Z"
   },
   {
    "duration": 16,
    "start_time": "2022-09-18T14:22:07.602Z"
   },
   {
    "duration": 20,
    "start_time": "2022-09-18T14:22:07.950Z"
   },
   {
    "duration": 16,
    "start_time": "2022-09-18T14:22:08.143Z"
   },
   {
    "duration": 3,
    "start_time": "2022-09-18T14:22:08.667Z"
   },
   {
    "duration": 8,
    "start_time": "2022-09-18T14:22:08.857Z"
   },
   {
    "duration": 8,
    "start_time": "2022-09-18T14:22:09.963Z"
   },
   {
    "duration": 3,
    "start_time": "2022-09-18T14:22:10.965Z"
   },
   {
    "duration": 8,
    "start_time": "2022-09-18T14:22:12.013Z"
   },
   {
    "duration": 20,
    "start_time": "2022-09-18T14:22:14.063Z"
   },
   {
    "duration": 13,
    "start_time": "2022-09-18T14:27:49.655Z"
   },
   {
    "duration": 17,
    "start_time": "2022-09-18T14:28:22.135Z"
   },
   {
    "duration": 7,
    "start_time": "2022-09-18T14:29:02.413Z"
   },
   {
    "duration": 28,
    "start_time": "2022-09-18T14:29:14.522Z"
   },
   {
    "duration": 80,
    "start_time": "2022-09-18T14:33:50.856Z"
   },
   {
    "duration": 9,
    "start_time": "2022-09-18T14:35:42.967Z"
   },
   {
    "duration": 8,
    "start_time": "2022-09-18T14:36:02.846Z"
   },
   {
    "duration": 11,
    "start_time": "2022-09-18T14:36:11.819Z"
   },
   {
    "duration": 14,
    "start_time": "2022-09-18T14:36:17.125Z"
   },
   {
    "duration": 6,
    "start_time": "2022-09-18T14:36:26.015Z"
   },
   {
    "duration": 10,
    "start_time": "2022-09-18T14:36:31.127Z"
   },
   {
    "duration": 65,
    "start_time": "2022-09-18T14:38:49.271Z"
   },
   {
    "duration": 12,
    "start_time": "2022-09-18T14:38:58.496Z"
   },
   {
    "duration": 24,
    "start_time": "2022-09-18T14:39:05.390Z"
   },
   {
    "duration": 4,
    "start_time": "2022-09-18T14:41:16.691Z"
   },
   {
    "duration": 7,
    "start_time": "2022-09-18T14:41:22.392Z"
   },
   {
    "duration": 784,
    "start_time": "2022-09-18T14:43:53.263Z"
   },
   {
    "duration": 11,
    "start_time": "2022-09-18T14:44:52.647Z"
   },
   {
    "duration": 9,
    "start_time": "2022-09-18T14:44:52.849Z"
   },
   {
    "duration": 8,
    "start_time": "2022-09-18T14:45:04.755Z"
   },
   {
    "duration": 9,
    "start_time": "2022-09-18T14:46:21.546Z"
   },
   {
    "duration": 9,
    "start_time": "2022-09-18T14:46:22.189Z"
   },
   {
    "duration": 12,
    "start_time": "2022-09-18T14:46:51.163Z"
   },
   {
    "duration": 14,
    "start_time": "2022-09-18T14:47:36.272Z"
   },
   {
    "duration": 13,
    "start_time": "2022-09-18T14:48:36.453Z"
   },
   {
    "duration": 5,
    "start_time": "2022-09-18T14:51:08.717Z"
   },
   {
    "duration": 151,
    "start_time": "2022-09-18T14:51:49.609Z"
   },
   {
    "duration": 381,
    "start_time": "2022-09-18T14:52:00.227Z"
   },
   {
    "duration": 139,
    "start_time": "2022-09-18T14:52:03.946Z"
   },
   {
    "duration": 474,
    "start_time": "2022-09-18T14:58:20.571Z"
   },
   {
    "duration": 324,
    "start_time": "2022-09-18T15:00:37.248Z"
   },
   {
    "duration": 233,
    "start_time": "2022-09-18T15:09:05.341Z"
   },
   {
    "duration": 257,
    "start_time": "2022-09-18T15:09:16.752Z"
   },
   {
    "duration": 1173,
    "start_time": "2022-09-18T15:10:33.809Z"
   },
   {
    "duration": 971,
    "start_time": "2022-09-18T15:10:45.918Z"
   },
   {
    "duration": 374,
    "start_time": "2022-09-18T15:11:24.509Z"
   },
   {
    "duration": 260,
    "start_time": "2022-09-18T15:12:02.008Z"
   },
   {
    "duration": 256,
    "start_time": "2022-09-18T15:12:22.953Z"
   },
   {
    "duration": 9,
    "start_time": "2022-09-18T15:12:29.053Z"
   },
   {
    "duration": 285,
    "start_time": "2022-09-18T15:17:22.288Z"
   },
   {
    "duration": 268,
    "start_time": "2022-09-18T15:18:02.695Z"
   },
   {
    "duration": 291,
    "start_time": "2022-09-18T15:18:33.553Z"
   },
   {
    "duration": 267,
    "start_time": "2022-09-18T15:25:08.653Z"
   },
   {
    "duration": 312,
    "start_time": "2022-09-18T15:27:29.971Z"
   },
   {
    "duration": 3,
    "start_time": "2022-09-18T15:28:48.654Z"
   },
   {
    "duration": 311,
    "start_time": "2022-09-18T15:28:50.178Z"
   },
   {
    "duration": 277,
    "start_time": "2022-09-18T15:29:03.451Z"
   },
   {
    "duration": 298,
    "start_time": "2022-09-18T15:29:09.629Z"
   },
   {
    "duration": 275,
    "start_time": "2022-09-18T15:29:16.791Z"
   },
   {
    "duration": 285,
    "start_time": "2022-09-18T15:29:21.763Z"
   },
   {
    "duration": 324,
    "start_time": "2022-09-18T15:30:30.961Z"
   },
   {
    "duration": 310,
    "start_time": "2022-09-18T15:30:56.046Z"
   },
   {
    "duration": 308,
    "start_time": "2022-09-18T15:31:39.124Z"
   },
   {
    "duration": 315,
    "start_time": "2022-09-18T15:32:06.496Z"
   },
   {
    "duration": 326,
    "start_time": "2022-09-18T15:32:21.081Z"
   },
   {
    "duration": 580,
    "start_time": "2022-09-18T15:32:28.154Z"
   },
   {
    "duration": 305,
    "start_time": "2022-09-18T15:32:35.899Z"
   },
   {
    "duration": 272,
    "start_time": "2022-09-18T15:33:58.450Z"
   },
   {
    "duration": 312,
    "start_time": "2022-09-18T15:34:05.579Z"
   },
   {
    "duration": 335,
    "start_time": "2022-09-18T15:34:37.992Z"
   },
   {
    "duration": 311,
    "start_time": "2022-09-18T15:34:44.255Z"
   },
   {
    "duration": 294,
    "start_time": "2022-09-18T15:34:50.150Z"
   },
   {
    "duration": 294,
    "start_time": "2022-09-18T15:35:01.057Z"
   },
   {
    "duration": 343,
    "start_time": "2022-09-18T15:35:20.477Z"
   },
   {
    "duration": 278,
    "start_time": "2022-09-18T15:35:27.522Z"
   },
   {
    "duration": 7,
    "start_time": "2022-09-18T15:35:32.338Z"
   },
   {
    "duration": 296,
    "start_time": "2022-09-18T15:36:00.371Z"
   },
   {
    "duration": 411,
    "start_time": "2022-09-18T15:36:15.475Z"
   },
   {
    "duration": 258,
    "start_time": "2022-09-18T15:36:32.510Z"
   },
   {
    "duration": 279,
    "start_time": "2022-09-18T15:36:35.026Z"
   },
   {
    "duration": 267,
    "start_time": "2022-09-18T15:37:06.085Z"
   },
   {
    "duration": 291,
    "start_time": "2022-09-18T15:37:07.051Z"
   },
   {
    "duration": 279,
    "start_time": "2022-09-18T15:37:30.103Z"
   },
   {
    "duration": 302,
    "start_time": "2022-09-18T15:37:40.086Z"
   },
   {
    "duration": 267,
    "start_time": "2022-09-18T15:38:00.288Z"
   },
   {
    "duration": 303,
    "start_time": "2022-09-18T15:38:07.092Z"
   },
   {
    "duration": 12,
    "start_time": "2022-09-18T15:41:56.877Z"
   },
   {
    "duration": 4,
    "start_time": "2022-09-18T15:42:23.295Z"
   },
   {
    "duration": 18,
    "start_time": "2022-09-18T15:42:24.259Z"
   },
   {
    "duration": 705,
    "start_time": "2022-09-18T15:42:33.363Z"
   },
   {
    "duration": 295,
    "start_time": "2022-09-18T15:42:50.576Z"
   },
   {
    "duration": 266,
    "start_time": "2022-09-18T15:42:55.963Z"
   },
   {
    "duration": 170,
    "start_time": "2022-09-18T15:43:52.563Z"
   },
   {
    "duration": 270,
    "start_time": "2022-09-18T15:44:01.260Z"
   },
   {
    "duration": 140,
    "start_time": "2022-09-18T15:44:40.912Z"
   },
   {
    "duration": 159,
    "start_time": "2022-09-18T15:46:03.559Z"
   },
   {
    "duration": 293,
    "start_time": "2022-09-18T15:46:06.366Z"
   },
   {
    "duration": 143,
    "start_time": "2022-09-18T15:46:38.916Z"
   },
   {
    "duration": 177,
    "start_time": "2022-09-18T15:48:50.815Z"
   },
   {
    "duration": 277,
    "start_time": "2022-09-18T15:48:56.289Z"
   },
   {
    "duration": 8,
    "start_time": "2022-09-18T15:49:04.062Z"
   },
   {
    "duration": 268,
    "start_time": "2022-09-18T15:49:07.882Z"
   },
   {
    "duration": 144,
    "start_time": "2022-09-18T15:49:47.273Z"
   },
   {
    "duration": 252,
    "start_time": "2022-09-18T15:49:50.019Z"
   },
   {
    "duration": 343,
    "start_time": "2022-09-18T15:49:54.280Z"
   },
   {
    "duration": 148,
    "start_time": "2022-09-18T15:52:58.364Z"
   },
   {
    "duration": 138,
    "start_time": "2022-09-18T15:53:09.035Z"
   },
   {
    "duration": 9,
    "start_time": "2022-09-18T15:53:29.166Z"
   },
   {
    "duration": 12,
    "start_time": "2022-09-18T15:55:07.917Z"
   },
   {
    "duration": 8,
    "start_time": "2022-09-18T15:55:16.749Z"
   },
   {
    "duration": 11,
    "start_time": "2022-09-18T15:58:56.312Z"
   },
   {
    "duration": 8,
    "start_time": "2022-09-18T16:01:19.044Z"
   },
   {
    "duration": 311,
    "start_time": "2022-09-18T16:01:23.176Z"
   },
   {
    "duration": 10,
    "start_time": "2022-09-18T16:03:56.915Z"
   },
   {
    "duration": 16,
    "start_time": "2022-09-18T16:11:00.303Z"
   },
   {
    "duration": 9,
    "start_time": "2022-09-18T16:23:19.215Z"
   },
   {
    "duration": 459,
    "start_time": "2022-09-18T17:44:53.499Z"
   },
   {
    "duration": 21,
    "start_time": "2022-09-18T17:44:53.960Z"
   },
   {
    "duration": 13,
    "start_time": "2022-09-18T17:44:53.982Z"
   },
   {
    "duration": 10,
    "start_time": "2022-09-18T17:44:53.996Z"
   },
   {
    "duration": 29,
    "start_time": "2022-09-18T17:44:54.008Z"
   },
   {
    "duration": 3,
    "start_time": "2022-09-18T17:44:54.038Z"
   },
   {
    "duration": 11,
    "start_time": "2022-09-18T17:44:54.042Z"
   },
   {
    "duration": 5,
    "start_time": "2022-09-18T17:44:54.055Z"
   },
   {
    "duration": 9,
    "start_time": "2022-09-18T17:44:54.061Z"
   },
   {
    "duration": 30,
    "start_time": "2022-09-18T17:44:54.071Z"
   },
   {
    "duration": 31,
    "start_time": "2022-09-18T17:44:54.103Z"
   },
   {
    "duration": 8,
    "start_time": "2022-09-18T17:44:54.136Z"
   },
   {
    "duration": 14,
    "start_time": "2022-09-18T17:44:54.146Z"
   },
   {
    "duration": 30,
    "start_time": "2022-09-18T17:44:54.163Z"
   },
   {
    "duration": 33,
    "start_time": "2022-09-18T17:44:54.195Z"
   },
   {
    "duration": 18,
    "start_time": "2022-09-18T17:44:54.229Z"
   },
   {
    "duration": 5,
    "start_time": "2022-09-18T17:44:54.249Z"
   },
   {
    "duration": 29,
    "start_time": "2022-09-18T17:44:54.255Z"
   },
   {
    "duration": 8,
    "start_time": "2022-09-18T17:44:54.286Z"
   },
   {
    "duration": 5,
    "start_time": "2022-09-18T17:44:54.295Z"
   },
   {
    "duration": 13,
    "start_time": "2022-09-18T17:44:54.302Z"
   },
   {
    "duration": 788,
    "start_time": "2022-09-18T17:44:54.317Z"
   },
   {
    "duration": 163,
    "start_time": "2022-09-18T17:44:55.106Z"
   },
   {
    "duration": 342,
    "start_time": "2022-09-18T17:44:55.270Z"
   },
   {
    "duration": 10,
    "start_time": "2022-09-18T17:44:55.614Z"
   },
   {
    "duration": 156,
    "start_time": "2022-09-18T17:44:55.626Z"
   },
   {
    "duration": 333,
    "start_time": "2022-09-18T17:44:55.783Z"
   },
   {
    "duration": 8,
    "start_time": "2022-09-18T17:44:56.118Z"
   },
   {
    "duration": 26,
    "start_time": "2022-09-18T17:44:56.127Z"
   },
   {
    "duration": 337,
    "start_time": "2022-09-18T17:44:56.154Z"
   },
   {
    "duration": 13,
    "start_time": "2022-09-18T17:44:56.493Z"
   },
   {
    "duration": 151,
    "start_time": "2022-09-18T17:44:56.507Z"
   },
   {
    "duration": 314,
    "start_time": "2022-09-18T17:44:56.660Z"
   },
   {
    "duration": 8,
    "start_time": "2022-09-18T17:44:56.976Z"
   },
   {
    "duration": 52,
    "start_time": "2022-09-19T11:22:46.959Z"
   },
   {
    "duration": 482,
    "start_time": "2022-09-19T15:20:06.814Z"
   },
   {
    "duration": 22,
    "start_time": "2022-09-19T15:20:07.298Z"
   },
   {
    "duration": 26,
    "start_time": "2022-09-19T15:20:07.321Z"
   },
   {
    "duration": 11,
    "start_time": "2022-09-19T15:20:07.349Z"
   },
   {
    "duration": 40,
    "start_time": "2022-09-19T15:20:07.362Z"
   },
   {
    "duration": 4,
    "start_time": "2022-09-19T15:20:07.404Z"
   },
   {
    "duration": 22,
    "start_time": "2022-09-19T15:20:07.409Z"
   },
   {
    "duration": 17,
    "start_time": "2022-09-19T15:20:07.432Z"
   },
   {
    "duration": 7,
    "start_time": "2022-09-19T15:20:07.451Z"
   },
   {
    "duration": 4,
    "start_time": "2022-09-19T15:20:07.462Z"
   },
   {
    "duration": 38,
    "start_time": "2022-09-19T15:20:07.467Z"
   },
   {
    "duration": 9,
    "start_time": "2022-09-19T15:20:07.506Z"
   },
   {
    "duration": 5,
    "start_time": "2022-09-19T15:20:07.516Z"
   },
   {
    "duration": 35,
    "start_time": "2022-09-19T15:20:07.522Z"
   },
   {
    "duration": 23,
    "start_time": "2022-09-19T15:20:07.559Z"
   },
   {
    "duration": 17,
    "start_time": "2022-09-19T15:20:07.583Z"
   },
   {
    "duration": 3,
    "start_time": "2022-09-19T15:20:07.602Z"
   },
   {
    "duration": 16,
    "start_time": "2022-09-19T15:20:07.607Z"
   },
   {
    "duration": 22,
    "start_time": "2022-09-19T15:20:07.625Z"
   },
   {
    "duration": 5,
    "start_time": "2022-09-19T15:20:07.649Z"
   },
   {
    "duration": 11,
    "start_time": "2022-09-19T15:20:07.656Z"
   },
   {
    "duration": 727,
    "start_time": "2022-09-19T15:20:07.669Z"
   },
   {
    "duration": 152,
    "start_time": "2022-09-19T15:20:08.398Z"
   },
   {
    "duration": 296,
    "start_time": "2022-09-19T15:20:08.552Z"
   },
   {
    "duration": 8,
    "start_time": "2022-09-19T15:20:08.850Z"
   },
   {
    "duration": 170,
    "start_time": "2022-09-19T15:20:08.860Z"
   },
   {
    "duration": 333,
    "start_time": "2022-09-19T15:20:09.033Z"
   },
   {
    "duration": 9,
    "start_time": "2022-09-19T15:20:09.371Z"
   },
   {
    "duration": 28,
    "start_time": "2022-09-19T15:20:09.382Z"
   },
   {
    "duration": 314,
    "start_time": "2022-09-19T15:20:09.411Z"
   },
   {
    "duration": 10,
    "start_time": "2022-09-19T15:20:09.726Z"
   },
   {
    "duration": 153,
    "start_time": "2022-09-19T15:20:09.747Z"
   },
   {
    "duration": 329,
    "start_time": "2022-09-19T15:20:09.902Z"
   },
   {
    "duration": 15,
    "start_time": "2022-09-19T15:20:10.232Z"
   },
   {
    "duration": 45,
    "start_time": "2022-09-19T15:37:05.506Z"
   }
  ],
  "colab": {
   "name": "dpp_template_part2.ipynb",
   "provenance": []
  },
  "kernelspec": {
   "display_name": "Python 3 (ipykernel)",
   "language": "python",
   "name": "python3"
  },
  "language_info": {
   "codemirror_mode": {
    "name": "ipython",
    "version": 3
   },
   "file_extension": ".py",
   "mimetype": "text/x-python",
   "name": "python",
   "nbconvert_exporter": "python",
   "pygments_lexer": "ipython3",
   "version": "3.9.7"
  },
  "toc": {
   "base_numbering": 1,
   "nav_menu": {},
   "number_sections": true,
   "sideBar": true,
   "skip_h1_title": true,
   "title_cell": "Table of Contents",
   "title_sidebar": "Contents",
   "toc_cell": false,
   "toc_position": {},
   "toc_section_display": true,
   "toc_window_display": false
  }
 },
 "nbformat": 4,
 "nbformat_minor": 5
}
