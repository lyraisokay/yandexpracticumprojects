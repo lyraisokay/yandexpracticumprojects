{
 "cells": [
  {
   "cell_type": "markdown",
   "metadata": {
    "toc": true
   },
   "source": [
    "<h1>Содержание<span class=\"tocSkip\"></span></h1>\n",
    "<div class=\"toc\"><ul class=\"toc-item\"><li><span><a href=\"#Подготовка-данных\" data-toc-modified-id=\"Подготовка-данных-1\"><span class=\"toc-item-num\">1&nbsp;&nbsp;</span>Подготовка данных</a></span><ul class=\"toc-item\"><li><span><a href=\"#Вывод\" data-toc-modified-id=\"Вывод-1.1\"><span class=\"toc-item-num\">1.1&nbsp;&nbsp;</span>Вывод</a></span></li></ul></li><li><span><a href=\"#Исследование-задачи\" data-toc-modified-id=\"Исследование-задачи-2\"><span class=\"toc-item-num\">2&nbsp;&nbsp;</span>Исследование задачи</a></span></li><li><span><a href=\"#Борьба-с-дисбалансом\" data-toc-modified-id=\"Борьба-с-дисбалансом-3\"><span class=\"toc-item-num\">3&nbsp;&nbsp;</span>Борьба с дисбалансом</a></span><ul class=\"toc-item\"><li><span><a href=\"#Способ-1.-Взвешивание-классов\" data-toc-modified-id=\"Способ-1.-Взвешивание-классов-3.1\"><span class=\"toc-item-num\">3.1&nbsp;&nbsp;</span>Способ 1. Взвешивание классов</a></span></li><li><span><a href=\"#Способ-2.-Увеличение-выборки.\" data-toc-modified-id=\"Способ-2.-Увеличение-выборки.-3.2\"><span class=\"toc-item-num\">3.2&nbsp;&nbsp;</span>Способ 2. Увеличение выборки.</a></span></li><li><span><a href=\"#Способ-3.-Уменьшение-выборки.\" data-toc-modified-id=\"Способ-3.-Уменьшение-выборки.-3.3\"><span class=\"toc-item-num\">3.3&nbsp;&nbsp;</span>Способ 3. Уменьшение выборки.</a></span></li></ul></li><li><span><a href=\"#Тестирование-модели\" data-toc-modified-id=\"Тестирование-модели-4\"><span class=\"toc-item-num\">4&nbsp;&nbsp;</span>Тестирование модели</a></span></li></ul></div>"
   ]
  },
  {
   "cell_type": "markdown",
   "metadata": {},
   "source": [
    "# Отток клиентов"
   ]
  },
  {
   "cell_type": "markdown",
   "metadata": {},
   "source": [
    "Из «Бета-Банка» стали уходить клиенты. Каждый месяц. Немного, но заметно. Банковские маркетологи посчитали: сохранять текущих клиентов дешевле, чем привлекать новых.\n",
    "\n",
    "Нужно спрогнозировать, уйдёт клиент из банка в ближайшее время или нет. Вам предоставлены исторические данные о поведении клиентов и расторжении договоров с банком. \n",
    "\n",
    "Постройте модель с предельно большим значением *F1*-меры. Чтобы сдать проект успешно, нужно довести метрику до 0.59. Проверьте *F1*-меру на тестовой выборке самостоятельно.\n",
    "\n",
    "Дополнительно измеряйте *AUC-ROC*, сравнивайте её значение с *F1*-мерой.\n",
    "\n",
    "Источник данных: [https://www.kaggle.com/barelydedicated/bank-customer-churn-modeling](https://www.kaggle.com/barelydedicated/bank-customer-churn-modeling)"
   ]
  },
  {
   "cell_type": "markdown",
   "metadata": {},
   "source": [
    "## Подготовка данных"
   ]
  },
  {
   "cell_type": "code",
   "execution_count": 1,
   "metadata": {},
   "outputs": [],
   "source": [
    "import numpy as np\n",
    "import pandas as pd\n",
    "import warnings\n",
    "warnings.filterwarnings('ignore')\n",
    "\n",
    "from sklearn.dummy import DummyClassifier\n",
    "from sklearn.ensemble import RandomForestClassifier\n",
    "from sklearn.metrics import f1_score\n",
    "from sklearn.model_selection import train_test_split\n",
    "from sklearn.model_selection import GridSearchCV\n",
    "from sklearn.preprocessing import OneHotEncoder\n",
    "from sklearn.metrics import confusion_matrix\n",
    "from sklearn.metrics import recall_score \n",
    "from sklearn.metrics import precision_score\n",
    "from sklearn.utils import shuffle\n",
    "from sklearn.metrics import roc_auc_score \n",
    "import matplotlib.pyplot as plt\n",
    "from sklearn.metrics import roc_curve \n",
    "from sklearn.linear_model import LogisticRegression "
   ]
  },
  {
   "cell_type": "code",
   "execution_count": 2,
   "metadata": {},
   "outputs": [],
   "source": [
    "data = pd.read_csv('/datasets/Churn.csv')"
   ]
  },
  {
   "cell_type": "code",
   "execution_count": 3,
   "metadata": {},
   "outputs": [
    {
     "data": {
      "text/html": [
       "<div>\n",
       "<style scoped>\n",
       "    .dataframe tbody tr th:only-of-type {\n",
       "        vertical-align: middle;\n",
       "    }\n",
       "\n",
       "    .dataframe tbody tr th {\n",
       "        vertical-align: top;\n",
       "    }\n",
       "\n",
       "    .dataframe thead th {\n",
       "        text-align: right;\n",
       "    }\n",
       "</style>\n",
       "<table border=\"1\" class=\"dataframe\">\n",
       "  <thead>\n",
       "    <tr style=\"text-align: right;\">\n",
       "      <th></th>\n",
       "      <th>RowNumber</th>\n",
       "      <th>CustomerId</th>\n",
       "      <th>Surname</th>\n",
       "      <th>CreditScore</th>\n",
       "      <th>Geography</th>\n",
       "      <th>Gender</th>\n",
       "      <th>Age</th>\n",
       "      <th>Tenure</th>\n",
       "      <th>Balance</th>\n",
       "      <th>NumOfProducts</th>\n",
       "      <th>HasCrCard</th>\n",
       "      <th>IsActiveMember</th>\n",
       "      <th>EstimatedSalary</th>\n",
       "      <th>Exited</th>\n",
       "    </tr>\n",
       "  </thead>\n",
       "  <tbody>\n",
       "    <tr>\n",
       "      <th>0</th>\n",
       "      <td>1</td>\n",
       "      <td>15634602</td>\n",
       "      <td>Hargrave</td>\n",
       "      <td>619</td>\n",
       "      <td>France</td>\n",
       "      <td>Female</td>\n",
       "      <td>42</td>\n",
       "      <td>2.0</td>\n",
       "      <td>0.00</td>\n",
       "      <td>1</td>\n",
       "      <td>1</td>\n",
       "      <td>1</td>\n",
       "      <td>101348.88</td>\n",
       "      <td>1</td>\n",
       "    </tr>\n",
       "    <tr>\n",
       "      <th>1</th>\n",
       "      <td>2</td>\n",
       "      <td>15647311</td>\n",
       "      <td>Hill</td>\n",
       "      <td>608</td>\n",
       "      <td>Spain</td>\n",
       "      <td>Female</td>\n",
       "      <td>41</td>\n",
       "      <td>1.0</td>\n",
       "      <td>83807.86</td>\n",
       "      <td>1</td>\n",
       "      <td>0</td>\n",
       "      <td>1</td>\n",
       "      <td>112542.58</td>\n",
       "      <td>0</td>\n",
       "    </tr>\n",
       "    <tr>\n",
       "      <th>2</th>\n",
       "      <td>3</td>\n",
       "      <td>15619304</td>\n",
       "      <td>Onio</td>\n",
       "      <td>502</td>\n",
       "      <td>France</td>\n",
       "      <td>Female</td>\n",
       "      <td>42</td>\n",
       "      <td>8.0</td>\n",
       "      <td>159660.80</td>\n",
       "      <td>3</td>\n",
       "      <td>1</td>\n",
       "      <td>0</td>\n",
       "      <td>113931.57</td>\n",
       "      <td>1</td>\n",
       "    </tr>\n",
       "    <tr>\n",
       "      <th>3</th>\n",
       "      <td>4</td>\n",
       "      <td>15701354</td>\n",
       "      <td>Boni</td>\n",
       "      <td>699</td>\n",
       "      <td>France</td>\n",
       "      <td>Female</td>\n",
       "      <td>39</td>\n",
       "      <td>1.0</td>\n",
       "      <td>0.00</td>\n",
       "      <td>2</td>\n",
       "      <td>0</td>\n",
       "      <td>0</td>\n",
       "      <td>93826.63</td>\n",
       "      <td>0</td>\n",
       "    </tr>\n",
       "    <tr>\n",
       "      <th>4</th>\n",
       "      <td>5</td>\n",
       "      <td>15737888</td>\n",
       "      <td>Mitchell</td>\n",
       "      <td>850</td>\n",
       "      <td>Spain</td>\n",
       "      <td>Female</td>\n",
       "      <td>43</td>\n",
       "      <td>2.0</td>\n",
       "      <td>125510.82</td>\n",
       "      <td>1</td>\n",
       "      <td>1</td>\n",
       "      <td>1</td>\n",
       "      <td>79084.10</td>\n",
       "      <td>0</td>\n",
       "    </tr>\n",
       "  </tbody>\n",
       "</table>\n",
       "</div>"
      ],
      "text/plain": [
       "   RowNumber  CustomerId   Surname  CreditScore Geography  Gender  Age  \\\n",
       "0          1    15634602  Hargrave          619    France  Female   42   \n",
       "1          2    15647311      Hill          608     Spain  Female   41   \n",
       "2          3    15619304      Onio          502    France  Female   42   \n",
       "3          4    15701354      Boni          699    France  Female   39   \n",
       "4          5    15737888  Mitchell          850     Spain  Female   43   \n",
       "\n",
       "   Tenure    Balance  NumOfProducts  HasCrCard  IsActiveMember  \\\n",
       "0     2.0       0.00              1          1               1   \n",
       "1     1.0   83807.86              1          0               1   \n",
       "2     8.0  159660.80              3          1               0   \n",
       "3     1.0       0.00              2          0               0   \n",
       "4     2.0  125510.82              1          1               1   \n",
       "\n",
       "   EstimatedSalary  Exited  \n",
       "0        101348.88       1  \n",
       "1        112542.58       0  \n",
       "2        113931.57       1  \n",
       "3         93826.63       0  \n",
       "4         79084.10       0  "
      ]
     },
     "execution_count": 3,
     "metadata": {},
     "output_type": "execute_result"
    }
   ],
   "source": [
    "data.head()"
   ]
  },
  {
   "cell_type": "code",
   "execution_count": 4,
   "metadata": {},
   "outputs": [
    {
     "name": "stdout",
     "output_type": "stream",
     "text": [
      "<class 'pandas.core.frame.DataFrame'>\n",
      "RangeIndex: 10000 entries, 0 to 9999\n",
      "Data columns (total 14 columns):\n",
      " #   Column           Non-Null Count  Dtype  \n",
      "---  ------           --------------  -----  \n",
      " 0   RowNumber        10000 non-null  int64  \n",
      " 1   CustomerId       10000 non-null  int64  \n",
      " 2   Surname          10000 non-null  object \n",
      " 3   CreditScore      10000 non-null  int64  \n",
      " 4   Geography        10000 non-null  object \n",
      " 5   Gender           10000 non-null  object \n",
      " 6   Age              10000 non-null  int64  \n",
      " 7   Tenure           9091 non-null   float64\n",
      " 8   Balance          10000 non-null  float64\n",
      " 9   NumOfProducts    10000 non-null  int64  \n",
      " 10  HasCrCard        10000 non-null  int64  \n",
      " 11  IsActiveMember   10000 non-null  int64  \n",
      " 12  EstimatedSalary  10000 non-null  float64\n",
      " 13  Exited           10000 non-null  int64  \n",
      "dtypes: float64(3), int64(8), object(3)\n",
      "memory usage: 1.1+ MB\n"
     ]
    }
   ],
   "source": [
    "data.info()"
   ]
  },
  {
   "cell_type": "markdown",
   "metadata": {},
   "source": [
    "<b>Признаки</b>\n",
    "<br><code>RowNumber</code> — индекс строки в данных\n",
    "<br><code>CustomerId</code> — уникальный идентификатор клиента\n",
    "<br><code>Surname</code> — фамилия\n",
    "<br><code>CreditScore</code> — кредитный рейтинг\n",
    "<br><code>Geography</code> — страна проживания\n",
    "<br><code>Gender</code> — пол\n",
    "<br><code>Age</code> — возраст\n",
    "<br><code>Tenure</code> — сколько лет человек является клиентом банка\n",
    "<br><code>Balance</code> — баланс на счёте\n",
    "<br><code>NumOfProducts</code> — количество продуктов банка, используемых клиентом\n",
    "<br><code>HasCrCard</code> — наличие кредитной карты\n",
    "<br><code>IsActiveMember</code> — активность клиента\n",
    "<br><code>EstimatedSalary</code> — предполагаемая зарплата"
   ]
  },
  {
   "cell_type": "markdown",
   "metadata": {},
   "source": [
    "<b>Целевой признак</b>\n",
    "<br><code>Exited</code> — факт ухода клиента"
   ]
  },
  {
   "cell_type": "code",
   "execution_count": 5,
   "metadata": {},
   "outputs": [
    {
     "data": {
      "text/plain": [
       "RowNumber            0\n",
       "CustomerId           0\n",
       "Surname              0\n",
       "CreditScore          0\n",
       "Geography            0\n",
       "Gender               0\n",
       "Age                  0\n",
       "Tenure             909\n",
       "Balance              0\n",
       "NumOfProducts        0\n",
       "HasCrCard            0\n",
       "IsActiveMember       0\n",
       "EstimatedSalary      0\n",
       "Exited               0\n",
       "dtype: int64"
      ]
     },
     "execution_count": 5,
     "metadata": {},
     "output_type": "execute_result"
    }
   ],
   "source": [
    "data.isna().sum()"
   ]
  },
  {
   "cell_type": "code",
   "execution_count": 6,
   "metadata": {},
   "outputs": [
    {
     "data": {
      "text/plain": [
       "1.0     952\n",
       "2.0     950\n",
       "8.0     933\n",
       "3.0     928\n",
       "5.0     927\n",
       "7.0     925\n",
       "4.0     885\n",
       "9.0     882\n",
       "6.0     881\n",
       "10.0    446\n",
       "0.0     382\n",
       "Name: Tenure, dtype: int64"
      ]
     },
     "execution_count": 6,
     "metadata": {},
     "output_type": "execute_result"
    }
   ],
   "source": [
    "data['Tenure'].value_counts()"
   ]
  },
  {
   "cell_type": "markdown",
   "metadata": {},
   "source": [
    "В признаке \"Сколько лет человек является клиентом банка\" 909 пропущенных значений, предлагаю их дропнуть."
   ]
  },
  {
   "cell_type": "code",
   "execution_count": 7,
   "metadata": {},
   "outputs": [],
   "source": [
    "data['Tenure'] = data['Tenure'].fillna(0)"
   ]
  },
  {
   "cell_type": "code",
   "execution_count": 8,
   "metadata": {},
   "outputs": [],
   "source": [
    "data['Tenure_mean'] = data['Tenure'].mean()"
   ]
  },
  {
   "cell_type": "code",
   "execution_count": 9,
   "metadata": {},
   "outputs": [
    {
     "data": {
      "text/plain": [
       "4.5434     1291\n",
       "1.0000      952\n",
       "2.0000      950\n",
       "8.0000      933\n",
       "3.0000      928\n",
       "5.0000      927\n",
       "7.0000      925\n",
       "4.0000      885\n",
       "9.0000      882\n",
       "6.0000      881\n",
       "10.0000     446\n",
       "Name: Tenure, dtype: int64"
      ]
     },
     "execution_count": 9,
     "metadata": {},
     "output_type": "execute_result"
    }
   ],
   "source": [
    "for tenure in data.index:\n",
    "    data.loc[(data['Tenure'] == 0), 'Tenure'] = data.loc[tenure, 'Tenure_mean']\n",
    "\n",
    "\n",
    "data['Tenure'].value_counts()"
   ]
  },
  {
   "cell_type": "code",
   "execution_count": 10,
   "metadata": {},
   "outputs": [
    {
     "data": {
      "text/plain": [
       "array([[<AxesSubplot:title={'center':'RowNumber'}>,\n",
       "        <AxesSubplot:title={'center':'CustomerId'}>,\n",
       "        <AxesSubplot:title={'center':'CreditScore'}>],\n",
       "       [<AxesSubplot:title={'center':'Age'}>,\n",
       "        <AxesSubplot:title={'center':'Tenure'}>,\n",
       "        <AxesSubplot:title={'center':'Balance'}>],\n",
       "       [<AxesSubplot:title={'center':'NumOfProducts'}>,\n",
       "        <AxesSubplot:title={'center':'HasCrCard'}>,\n",
       "        <AxesSubplot:title={'center':'IsActiveMember'}>],\n",
       "       [<AxesSubplot:title={'center':'EstimatedSalary'}>,\n",
       "        <AxesSubplot:title={'center':'Exited'}>,\n",
       "        <AxesSubplot:title={'center':'Tenure_mean'}>]], dtype=object)"
      ]
     },
     "execution_count": 10,
     "metadata": {},
     "output_type": "execute_result"
    },
    {
     "data": {
      "image/png": "[encoded data removed]",
      "text/plain": [
       "<Figure size 1080x1440 with 12 Axes>"
      ]
     },
     "metadata": {
      "needs_background": "light"
     },
     "output_type": "display_data"
    }
   ],
   "source": [
    "data.hist(figsize=(15, 20))"
   ]
  },
  {
   "cell_type": "code",
   "execution_count": 11,
   "metadata": {},
   "outputs": [
    {
     "data": {
      "text/html": [
       "<div>\n",
       "<style scoped>\n",
       "    .dataframe tbody tr th:only-of-type {\n",
       "        vertical-align: middle;\n",
       "    }\n",
       "\n",
       "    .dataframe tbody tr th {\n",
       "        vertical-align: top;\n",
       "    }\n",
       "\n",
       "    .dataframe thead th {\n",
       "        text-align: right;\n",
       "    }\n",
       "</style>\n",
       "<table border=\"1\" class=\"dataframe\">\n",
       "  <thead>\n",
       "    <tr style=\"text-align: right;\">\n",
       "      <th></th>\n",
       "      <th>RowNumber</th>\n",
       "      <th>CustomerId</th>\n",
       "      <th>CreditScore</th>\n",
       "      <th>Age</th>\n",
       "      <th>Tenure</th>\n",
       "      <th>Balance</th>\n",
       "      <th>NumOfProducts</th>\n",
       "      <th>HasCrCard</th>\n",
       "      <th>IsActiveMember</th>\n",
       "      <th>EstimatedSalary</th>\n",
       "      <th>Exited</th>\n",
       "      <th>Tenure_mean</th>\n",
       "    </tr>\n",
       "  </thead>\n",
       "  <tbody>\n",
       "    <tr>\n",
       "      <th>count</th>\n",
       "      <td>10000.00000</td>\n",
       "      <td>1.000000e+04</td>\n",
       "      <td>10000.000000</td>\n",
       "      <td>10000.000000</td>\n",
       "      <td>10000.000000</td>\n",
       "      <td>10000.000000</td>\n",
       "      <td>10000.000000</td>\n",
       "      <td>10000.00000</td>\n",
       "      <td>10000.000000</td>\n",
       "      <td>10000.000000</td>\n",
       "      <td>10000.000000</td>\n",
       "      <td>1.000000e+04</td>\n",
       "    </tr>\n",
       "    <tr>\n",
       "      <th>mean</th>\n",
       "      <td>5000.50000</td>\n",
       "      <td>1.569094e+07</td>\n",
       "      <td>650.528800</td>\n",
       "      <td>38.921800</td>\n",
       "      <td>5.129953</td>\n",
       "      <td>76485.889288</td>\n",
       "      <td>1.530200</td>\n",
       "      <td>0.70550</td>\n",
       "      <td>0.515100</td>\n",
       "      <td>100090.239881</td>\n",
       "      <td>0.203700</td>\n",
       "      <td>4.543400e+00</td>\n",
       "    </tr>\n",
       "    <tr>\n",
       "      <th>std</th>\n",
       "      <td>2886.89568</td>\n",
       "      <td>7.193619e+04</td>\n",
       "      <td>96.653299</td>\n",
       "      <td>10.487806</td>\n",
       "      <td>2.583137</td>\n",
       "      <td>62397.405202</td>\n",
       "      <td>0.581654</td>\n",
       "      <td>0.45584</td>\n",
       "      <td>0.499797</td>\n",
       "      <td>57510.492818</td>\n",
       "      <td>0.402769</td>\n",
       "      <td>8.882228e-16</td>\n",
       "    </tr>\n",
       "    <tr>\n",
       "      <th>min</th>\n",
       "      <td>1.00000</td>\n",
       "      <td>1.556570e+07</td>\n",
       "      <td>350.000000</td>\n",
       "      <td>18.000000</td>\n",
       "      <td>1.000000</td>\n",
       "      <td>0.000000</td>\n",
       "      <td>1.000000</td>\n",
       "      <td>0.00000</td>\n",
       "      <td>0.000000</td>\n",
       "      <td>11.580000</td>\n",
       "      <td>0.000000</td>\n",
       "      <td>4.543400e+00</td>\n",
       "    </tr>\n",
       "    <tr>\n",
       "      <th>25%</th>\n",
       "      <td>2500.75000</td>\n",
       "      <td>1.562853e+07</td>\n",
       "      <td>584.000000</td>\n",
       "      <td>32.000000</td>\n",
       "      <td>3.000000</td>\n",
       "      <td>0.000000</td>\n",
       "      <td>1.000000</td>\n",
       "      <td>0.00000</td>\n",
       "      <td>0.000000</td>\n",
       "      <td>51002.110000</td>\n",
       "      <td>0.000000</td>\n",
       "      <td>4.543400e+00</td>\n",
       "    </tr>\n",
       "    <tr>\n",
       "      <th>50%</th>\n",
       "      <td>5000.50000</td>\n",
       "      <td>1.569074e+07</td>\n",
       "      <td>652.000000</td>\n",
       "      <td>37.000000</td>\n",
       "      <td>4.543400</td>\n",
       "      <td>97198.540000</td>\n",
       "      <td>1.000000</td>\n",
       "      <td>1.00000</td>\n",
       "      <td>1.000000</td>\n",
       "      <td>100193.915000</td>\n",
       "      <td>0.000000</td>\n",
       "      <td>4.543400e+00</td>\n",
       "    </tr>\n",
       "    <tr>\n",
       "      <th>75%</th>\n",
       "      <td>7500.25000</td>\n",
       "      <td>1.575323e+07</td>\n",
       "      <td>718.000000</td>\n",
       "      <td>44.000000</td>\n",
       "      <td>7.000000</td>\n",
       "      <td>127644.240000</td>\n",
       "      <td>2.000000</td>\n",
       "      <td>1.00000</td>\n",
       "      <td>1.000000</td>\n",
       "      <td>149388.247500</td>\n",
       "      <td>0.000000</td>\n",
       "      <td>4.543400e+00</td>\n",
       "    </tr>\n",
       "    <tr>\n",
       "      <th>max</th>\n",
       "      <td>10000.00000</td>\n",
       "      <td>1.581569e+07</td>\n",
       "      <td>850.000000</td>\n",
       "      <td>92.000000</td>\n",
       "      <td>10.000000</td>\n",
       "      <td>250898.090000</td>\n",
       "      <td>4.000000</td>\n",
       "      <td>1.00000</td>\n",
       "      <td>1.000000</td>\n",
       "      <td>199992.480000</td>\n",
       "      <td>1.000000</td>\n",
       "      <td>4.543400e+00</td>\n",
       "    </tr>\n",
       "  </tbody>\n",
       "</table>\n",
       "</div>"
      ],
      "text/plain": [
       "         RowNumber    CustomerId   CreditScore           Age        Tenure  \\\n",
       "count  10000.00000  1.000000e+04  10000.000000  10000.000000  10000.000000   \n",
       "mean    5000.50000  1.569094e+07    650.528800     38.921800      5.129953   \n",
       "std     2886.89568  7.193619e+04     96.653299     10.487806      2.583137   \n",
       "min        1.00000  1.556570e+07    350.000000     18.000000      1.000000   \n",
       "25%     2500.75000  1.562853e+07    584.000000     32.000000      3.000000   \n",
       "50%     5000.50000  1.569074e+07    652.000000     37.000000      4.543400   \n",
       "75%     7500.25000  1.575323e+07    718.000000     44.000000      7.000000   \n",
       "max    10000.00000  1.581569e+07    850.000000     92.000000     10.000000   \n",
       "\n",
       "             Balance  NumOfProducts    HasCrCard  IsActiveMember  \\\n",
       "count   10000.000000   10000.000000  10000.00000    10000.000000   \n",
       "mean    76485.889288       1.530200      0.70550        0.515100   \n",
       "std     62397.405202       0.581654      0.45584        0.499797   \n",
       "min         0.000000       1.000000      0.00000        0.000000   \n",
       "25%         0.000000       1.000000      0.00000        0.000000   \n",
       "50%     97198.540000       1.000000      1.00000        1.000000   \n",
       "75%    127644.240000       2.000000      1.00000        1.000000   \n",
       "max    250898.090000       4.000000      1.00000        1.000000   \n",
       "\n",
       "       EstimatedSalary        Exited   Tenure_mean  \n",
       "count     10000.000000  10000.000000  1.000000e+04  \n",
       "mean     100090.239881      0.203700  4.543400e+00  \n",
       "std       57510.492818      0.402769  8.882228e-16  \n",
       "min          11.580000      0.000000  4.543400e+00  \n",
       "25%       51002.110000      0.000000  4.543400e+00  \n",
       "50%      100193.915000      0.000000  4.543400e+00  \n",
       "75%      149388.247500      0.000000  4.543400e+00  \n",
       "max      199992.480000      1.000000  4.543400e+00  "
      ]
     },
     "execution_count": 11,
     "metadata": {},
     "output_type": "execute_result"
    }
   ],
   "source": [
    "data.describe()"
   ]
  },
  {
   "cell_type": "code",
   "execution_count": 12,
   "metadata": {},
   "outputs": [
    {
     "data": {
      "text/plain": [
       "0.00         3617\n",
       "105473.74       2\n",
       "130170.82       2\n",
       "72594.00        1\n",
       "139723.90       1\n",
       "             ... \n",
       "130306.49       1\n",
       "92895.56        1\n",
       "132005.77       1\n",
       "166287.85       1\n",
       "104001.38       1\n",
       "Name: Balance, Length: 6382, dtype: int64"
      ]
     },
     "execution_count": 12,
     "metadata": {},
     "output_type": "execute_result"
    }
   ],
   "source": [
    "data['Balance'].value_counts()"
   ]
  },
  {
   "cell_type": "markdown",
   "metadata": {},
   "source": [
    "3617 записей с нулевым балансом. Заполню средним значением."
   ]
  },
  {
   "cell_type": "code",
   "execution_count": 13,
   "metadata": {},
   "outputs": [],
   "source": [
    "data['Balance_mean'] = data['Balance'].mean()"
   ]
  },
  {
   "cell_type": "code",
   "execution_count": 14,
   "metadata": {},
   "outputs": [
    {
     "data": {
      "text/plain": [
       "76485.889288     3617\n",
       "105473.740000       2\n",
       "130170.820000       2\n",
       "86102.270000        1\n",
       "170288.380000       1\n",
       "                 ... \n",
       "136525.990000       1\n",
       "130306.490000       1\n",
       "92895.560000        1\n",
       "132005.770000       1\n",
       "104001.380000       1\n",
       "Name: Balance, Length: 6382, dtype: int64"
      ]
     },
     "execution_count": 14,
     "metadata": {},
     "output_type": "execute_result"
    }
   ],
   "source": [
    "for balance in data.index:\n",
    "    data.loc[(data['Balance'] == 0), 'Balance'] = data.loc[balance, 'Balance_mean']\n",
    "\n",
    "\n",
    "data['Balance'].value_counts()"
   ]
  },
  {
   "cell_type": "code",
   "execution_count": 15,
   "metadata": {},
   "outputs": [
    {
     "data": {
      "text/plain": [
       "0    7963\n",
       "1    2037\n",
       "Name: Exited, dtype: int64"
      ]
     },
     "execution_count": 15,
     "metadata": {},
     "output_type": "execute_result"
    }
   ],
   "source": [
    "data['Exited'].value_counts()"
   ]
  },
  {
   "cell_type": "markdown",
   "metadata": {},
   "source": [
    "В целевом признаке класс «0» встречается чаще класса «1». Дисбаланс."
   ]
  },
  {
   "cell_type": "markdown",
   "metadata": {},
   "source": [
    "<b>Признаки</b>\n",
    "<br><code>RowNumber</code> — индекс строки в данных\n",
    "<br><code>CustomerId</code> — уникальный идентификатор клиента\n",
    "<br><code>Surname</code> — фамилия\n",
    "\n",
    "Можно дропнуть, они нам не пригодятся в исследовании."
   ]
  },
  {
   "cell_type": "code",
   "execution_count": 16,
   "metadata": {},
   "outputs": [],
   "source": [
    "data_to_ohe = data.drop(['RowNumber', 'CustomerId', 'Surname', 'Balance_mean', 'Tenure_mean'], axis=1)"
   ]
  },
  {
   "cell_type": "code",
   "execution_count": 17,
   "metadata": {},
   "outputs": [
    {
     "data": {
      "text/plain": [
       "CreditScore        0\n",
       "Geography          0\n",
       "Gender             0\n",
       "Age                0\n",
       "Tenure             0\n",
       "Balance            0\n",
       "NumOfProducts      0\n",
       "HasCrCard          0\n",
       "IsActiveMember     0\n",
       "EstimatedSalary    0\n",
       "Exited             0\n",
       "dtype: int64"
      ]
     },
     "execution_count": 17,
     "metadata": {},
     "output_type": "execute_result"
    }
   ],
   "source": [
    "data_to_ohe.isna().sum()"
   ]
  },
  {
   "cell_type": "markdown",
   "metadata": {},
   "source": [
    "Разобъем данные на выборки."
   ]
  },
  {
   "cell_type": "code",
   "execution_count": 18,
   "metadata": {},
   "outputs": [],
   "source": [
    "df_train, df_valid = train_test_split(data_to_ohe, test_size=0.20, random_state=12345) "
   ]
  },
  {
   "cell_type": "code",
   "execution_count": 19,
   "metadata": {},
   "outputs": [],
   "source": [
    "df_features_train = df_train.drop(['Exited'], axis=1)\n",
    "df_target_train = df_train['Exited']"
   ]
  },
  {
   "cell_type": "code",
   "execution_count": 20,
   "metadata": {},
   "outputs": [],
   "source": [
    "features_valid = df_valid.drop(['Exited'], axis=1)\n",
    "target_valid = df_valid['Exited']"
   ]
  },
  {
   "cell_type": "code",
   "execution_count": 21,
   "metadata": {},
   "outputs": [],
   "source": [
    "features_train, features_test,target_train, target_test  = train_test_split(df_features_train, df_target_train, \n",
    "                                                                            test_size = 0.25, random_state=12345, \n",
    "                                                                            stratify=df_target_train)"
   ]
  },
  {
   "cell_type": "code",
   "execution_count": 22,
   "metadata": {},
   "outputs": [],
   "source": [
    "features_train = pd.get_dummies(features_train, drop_first=True)\n",
    "features_valid = pd.get_dummies(features_valid, drop_first=True)\n",
    "features_test = pd.get_dummies(features_test, drop_first=True)"
   ]
  },
  {
   "cell_type": "code",
   "execution_count": 23,
   "metadata": {},
   "outputs": [
    {
     "name": "stdout",
     "output_type": "stream",
     "text": [
      "\n",
      " Размер датасета (10000, 11) \n",
      " Признаки тренеровочной выборки (6000, 11) \n",
      " Таргет тренировочной выборки (6000,) \n",
      " Признаки валид. выборки (2000, 11) \n",
      " Таргет валид. выборки (2000,) \n",
      " Признаки тестовой (2000, 11) \n",
      " Таргет тестовой (2000,)\n"
     ]
    }
   ],
   "source": [
    "print('\\n','Размер датасета',data_to_ohe.shape,'\\n', 'Признаки тренеровочной выборки',features_train.shape,'\\n','Таргет тренировочной выборки', target_train.shape,'\\n','Признаки валид. выборки', features_valid.shape,'\\n','Таргет валид. выборки', target_valid.shape,'\\n','Признаки тестовой', features_test.shape,'\\n','Таргет тестовой', target_test.shape)"
   ]
  },
  {
   "cell_type": "markdown",
   "metadata": {},
   "source": [
    "### Вывод\n",
    "Размер датасета небольшой. В целевом признаке несбалансированны классы: больше всего преобладает класс \"0\".\n",
    "В признаках есть пропуски, их немного, поэтому было принятно решение их дропнуть. Пустые значения в балансе были заполнены медианным значением.\n",
    "\n",
    "Сам датасет разделила на 3 выборки: тренировочную, валидационную и тестовую."
   ]
  },
  {
   "cell_type": "markdown",
   "metadata": {},
   "source": [
    "## Исследование задачи"
   ]
  },
  {
   "cell_type": "markdown",
   "metadata": {},
   "source": [
    "Подберем модель и параметры"
   ]
  },
  {
   "cell_type": "markdown",
   "metadata": {},
   "source": [
    "<b>Случайный лес"
   ]
  },
  {
   "cell_type": "code",
   "execution_count": 24,
   "metadata": {},
   "outputs": [],
   "source": [
    "model_rf = RandomForestClassifier()"
   ]
  },
  {
   "cell_type": "code",
   "execution_count": 25,
   "metadata": {},
   "outputs": [],
   "source": [
    "params_rf = {\"n_estimators\" : [10, 50, 100], \n",
    "          \"criterion\" : ['gini', 'entropy', 'log_loss'], \n",
    "          'max_features': ['auto', 'sqrt', 'log2'],\n",
    "          'max_depth' : [1,10,30,50,100]\n",
    "         }"
   ]
  },
  {
   "cell_type": "code",
   "execution_count": 26,
   "metadata": {},
   "outputs": [],
   "source": [
    "gs_rf = GridSearchCV(estimator = model_rf,\n",
    "                  param_grid = params_rf,\n",
    "                  cv = 3,\n",
    "                  verbose = 4)"
   ]
  },
  {
   "cell_type": "code",
   "execution_count": 27,
   "metadata": {
    "scrolled": true
   },
   "outputs": [
    {
     "name": "stdout",
     "output_type": "stream",
     "text": [
      "Fitting 3 folds for each of 135 candidates, totalling 405 fits\n",
      "[CV 1/3] END criterion=gini, max_depth=1, max_features=auto, n_estimators=10; total time=   0.0s\n",
      "[CV 2/3] END criterion=gini, max_depth=1, max_features=auto, n_estimators=10; total time=   0.0s\n",
      "[CV 3/3] END criterion=gini, max_depth=1, max_features=auto, n_estimators=10; total time=   0.0s\n",
      "[CV 1/3] END criterion=gini, max_depth=1, max_features=auto, n_estimators=50; total time=   0.1s\n",
      "[CV 2/3] END criterion=gini, max_depth=1, max_features=auto, n_estimators=50; total time=   0.1s\n",
      "[CV 3/3] END criterion=gini, max_depth=1, max_features=auto, n_estimators=50; total time=   0.1s\n",
      "[CV 1/3] END criterion=gini, max_depth=1, max_features=auto, n_estimators=100; total time=   0.2s\n",
      "[CV 2/3] END criterion=gini, max_depth=1, max_features=auto, n_estimators=100; total time=   0.2s\n",
      "[CV 3/3] END criterion=gini, max_depth=1, max_features=auto, n_estimators=100; total time=   0.2s\n",
      "[CV 1/3] END criterion=gini, max_depth=1, max_features=sqrt, n_estimators=10; total time=   0.0s\n",
      "[CV 2/3] END criterion=gini, max_depth=1, max_features=sqrt, n_estimators=10; total time=   0.0s\n",
      "[CV 3/3] END criterion=gini, max_depth=1, max_features=sqrt, n_estimators=10; total time=   0.0s\n",
      "[CV 1/3] END criterion=gini, max_depth=1, max_features=sqrt, n_estimators=50; total time=   0.1s\n",
      "[CV 2/3] END criterion=gini, max_depth=1, max_features=sqrt, n_estimators=50; total time=   0.1s\n",
      "[CV 3/3] END criterion=gini, max_depth=1, max_features=sqrt, n_estimators=50; total time=   0.1s\n",
      "[CV 1/3] END criterion=gini, max_depth=1, max_features=sqrt, n_estimators=100; total time=   0.2s\n",
      "[CV 2/3] END criterion=gini, max_depth=1, max_features=sqrt, n_estimators=100; total time=   0.2s\n",
      "[CV 3/3] END criterion=gini, max_depth=1, max_features=sqrt, n_estimators=100; total time=   0.2s\n",
      "[CV 1/3] END criterion=gini, max_depth=1, max_features=log2, n_estimators=10; total time=   0.0s\n",
      "[CV 2/3] END criterion=gini, max_depth=1, max_features=log2, n_estimators=10; total time=   0.0s\n",
      "[CV 3/3] END criterion=gini, max_depth=1, max_features=log2, n_estimators=10; total time=   0.0s\n",
      "[CV 1/3] END criterion=gini, max_depth=1, max_features=log2, n_estimators=50; total time=   0.1s\n",
      "[CV 2/3] END criterion=gini, max_depth=1, max_features=log2, n_estimators=50; total time=   0.1s\n",
      "[CV 3/3] END criterion=gini, max_depth=1, max_features=log2, n_estimators=50; total time=   0.1s\n",
      "[CV 1/3] END criterion=gini, max_depth=1, max_features=log2, n_estimators=100; total time=   0.2s\n",
      "[CV 2/3] END criterion=gini, max_depth=1, max_features=log2, n_estimators=100; total time=   0.2s\n",
      "[CV 3/3] END criterion=gini, max_depth=1, max_features=log2, n_estimators=100; total time=   0.2s\n",
      "[CV 1/3] END criterion=gini, max_depth=10, max_features=auto, n_estimators=10; total time=   0.0s\n",
      "[CV 2/3] END criterion=gini, max_depth=10, max_features=auto, n_estimators=10; total time=   0.0s\n",
      "[CV 3/3] END criterion=gini, max_depth=10, max_features=auto, n_estimators=10; total time=   0.0s\n",
      "[CV 1/3] END criterion=gini, max_depth=10, max_features=auto, n_estimators=50; total time=   0.2s\n",
      "[CV 2/3] END criterion=gini, max_depth=10, max_features=auto, n_estimators=50; total time=   0.2s\n",
      "[CV 3/3] END criterion=gini, max_depth=10, max_features=auto, n_estimators=50; total time=   0.2s\n",
      "[CV 1/3] END criterion=gini, max_depth=10, max_features=auto, n_estimators=100; total time=   0.4s\n",
      "[CV 2/3] END criterion=gini, max_depth=10, max_features=auto, n_estimators=100; total time=   0.4s\n",
      "[CV 3/3] END criterion=gini, max_depth=10, max_features=auto, n_estimators=100; total time=   0.4s\n",
      "[CV 1/3] END criterion=gini, max_depth=10, max_features=sqrt, n_estimators=10; total time=   0.1s\n",
      "[CV 2/3] END criterion=gini, max_depth=10, max_features=sqrt, n_estimators=10; total time=   0.0s\n",
      "[CV 3/3] END criterion=gini, max_depth=10, max_features=sqrt, n_estimators=10; total time=   0.0s\n",
      "[CV 1/3] END criterion=gini, max_depth=10, max_features=sqrt, n_estimators=50; total time=   0.2s\n",
      "[CV 2/3] END criterion=gini, max_depth=10, max_features=sqrt, n_estimators=50; total time=   0.2s\n",
      "[CV 3/3] END criterion=gini, max_depth=10, max_features=sqrt, n_estimators=50; total time=   0.2s\n",
      "[CV 1/3] END criterion=gini, max_depth=10, max_features=sqrt, n_estimators=100; total time=   0.4s\n",
      "[CV 2/3] END criterion=gini, max_depth=10, max_features=sqrt, n_estimators=100; total time=   0.4s\n",
      "[CV 3/3] END criterion=gini, max_depth=10, max_features=sqrt, n_estimators=100; total time=   0.4s\n",
      "[CV 1/3] END criterion=gini, max_depth=10, max_features=log2, n_estimators=10; total time=   0.1s\n",
      "[CV 2/3] END criterion=gini, max_depth=10, max_features=log2, n_estimators=10; total time=   0.0s\n",
      "[CV 3/3] END criterion=gini, max_depth=10, max_features=log2, n_estimators=10; total time=   0.1s\n",
      "[CV 1/3] END criterion=gini, max_depth=10, max_features=log2, n_estimators=50; total time=   0.2s\n",
      "[CV 2/3] END criterion=gini, max_depth=10, max_features=log2, n_estimators=50; total time=   0.2s\n",
      "[CV 3/3] END criterion=gini, max_depth=10, max_features=log2, n_estimators=50; total time=   0.2s\n",
      "[CV 1/3] END criterion=gini, max_depth=10, max_features=log2, n_estimators=100; total time=   0.4s\n",
      "[CV 2/3] END criterion=gini, max_depth=10, max_features=log2, n_estimators=100; total time=   0.4s\n",
      "[CV 3/3] END criterion=gini, max_depth=10, max_features=log2, n_estimators=100; total time=   0.4s\n",
      "[CV 1/3] END criterion=gini, max_depth=30, max_features=auto, n_estimators=10; total time=   0.1s\n",
      "[CV 2/3] END criterion=gini, max_depth=30, max_features=auto, n_estimators=10; total time=   0.1s\n",
      "[CV 3/3] END criterion=gini, max_depth=30, max_features=auto, n_estimators=10; total time=   0.1s\n",
      "[CV 1/3] END criterion=gini, max_depth=30, max_features=auto, n_estimators=50; total time=   0.3s\n",
      "[CV 2/3] END criterion=gini, max_depth=30, max_features=auto, n_estimators=50; total time=   0.3s\n",
      "[CV 3/3] END criterion=gini, max_depth=30, max_features=auto, n_estimators=50; total time=   0.3s\n",
      "[CV 1/3] END criterion=gini, max_depth=30, max_features=auto, n_estimators=100; total time=   0.5s\n",
      "[CV 2/3] END criterion=gini, max_depth=30, max_features=auto, n_estimators=100; total time=   0.5s\n",
      "[CV 3/3] END criterion=gini, max_depth=30, max_features=auto, n_estimators=100; total time=   0.5s\n",
      "[CV 1/3] END criterion=gini, max_depth=30, max_features=sqrt, n_estimators=10; total time=   0.1s\n",
      "[CV 2/3] END criterion=gini, max_depth=30, max_features=sqrt, n_estimators=10; total time=   0.1s\n",
      "[CV 3/3] END criterion=gini, max_depth=30, max_features=sqrt, n_estimators=10; total time=   0.1s\n",
      "[CV 1/3] END criterion=gini, max_depth=30, max_features=sqrt, n_estimators=50; total time=   0.2s\n",
      "[CV 2/3] END criterion=gini, max_depth=30, max_features=sqrt, n_estimators=50; total time=   0.3s\n",
      "[CV 3/3] END criterion=gini, max_depth=30, max_features=sqrt, n_estimators=50; total time=   0.3s\n",
      "[CV 1/3] END criterion=gini, max_depth=30, max_features=sqrt, n_estimators=100; total time=   0.5s\n",
      "[CV 2/3] END criterion=gini, max_depth=30, max_features=sqrt, n_estimators=100; total time=   0.5s\n",
      "[CV 3/3] END criterion=gini, max_depth=30, max_features=sqrt, n_estimators=100; total time=   0.5s\n",
      "[CV 1/3] END criterion=gini, max_depth=30, max_features=log2, n_estimators=10; total time=   0.1s\n",
      "[CV 2/3] END criterion=gini, max_depth=30, max_features=log2, n_estimators=10; total time=   0.1s\n",
      "[CV 3/3] END criterion=gini, max_depth=30, max_features=log2, n_estimators=10; total time=   0.1s\n",
      "[CV 1/3] END criterion=gini, max_depth=30, max_features=log2, n_estimators=50; total time=   0.3s\n",
      "[CV 2/3] END criterion=gini, max_depth=30, max_features=log2, n_estimators=50; total time=   0.3s\n",
      "[CV 3/3] END criterion=gini, max_depth=30, max_features=log2, n_estimators=50; total time=   0.3s\n",
      "[CV 1/3] END criterion=gini, max_depth=30, max_features=log2, n_estimators=100; total time=   0.5s\n",
      "[CV 2/3] END criterion=gini, max_depth=30, max_features=log2, n_estimators=100; total time=   0.5s\n",
      "[CV 3/3] END criterion=gini, max_depth=30, max_features=log2, n_estimators=100; total time=   0.5s\n",
      "[CV 1/3] END criterion=gini, max_depth=50, max_features=auto, n_estimators=10; total time=   0.1s\n",
      "[CV 2/3] END criterion=gini, max_depth=50, max_features=auto, n_estimators=10; total time=   0.1s\n",
      "[CV 3/3] END criterion=gini, max_depth=50, max_features=auto, n_estimators=10; total time=   0.1s\n",
      "[CV 1/3] END criterion=gini, max_depth=50, max_features=auto, n_estimators=50; total time=   0.3s\n",
      "[CV 2/3] END criterion=gini, max_depth=50, max_features=auto, n_estimators=50; total time=   0.3s\n",
      "[CV 3/3] END criterion=gini, max_depth=50, max_features=auto, n_estimators=50; total time=   0.3s\n",
      "[CV 1/3] END criterion=gini, max_depth=50, max_features=auto, n_estimators=100; total time=   0.5s\n",
      "[CV 2/3] END criterion=gini, max_depth=50, max_features=auto, n_estimators=100; total time=   0.5s\n",
      "[CV 3/3] END criterion=gini, max_depth=50, max_features=auto, n_estimators=100; total time=   0.5s\n",
      "[CV 1/3] END criterion=gini, max_depth=50, max_features=sqrt, n_estimators=10; total time=   0.1s\n",
      "[CV 2/3] END criterion=gini, max_depth=50, max_features=sqrt, n_estimators=10; total time=   0.1s\n",
      "[CV 3/3] END criterion=gini, max_depth=50, max_features=sqrt, n_estimators=10; total time=   0.1s\n",
      "[CV 1/3] END criterion=gini, max_depth=50, max_features=sqrt, n_estimators=50; total time=   0.3s\n",
      "[CV 2/3] END criterion=gini, max_depth=50, max_features=sqrt, n_estimators=50; total time=   0.3s\n",
      "[CV 3/3] END criterion=gini, max_depth=50, max_features=sqrt, n_estimators=50; total time=   0.3s\n",
      "[CV 1/3] END criterion=gini, max_depth=50, max_features=sqrt, n_estimators=100; total time=   0.5s\n",
      "[CV 2/3] END criterion=gini, max_depth=50, max_features=sqrt, n_estimators=100; total time=   0.5s\n",
      "[CV 3/3] END criterion=gini, max_depth=50, max_features=sqrt, n_estimators=100; total time=   0.5s\n",
      "[CV 1/3] END criterion=gini, max_depth=50, max_features=log2, n_estimators=10; total time=   0.1s\n",
      "[CV 2/3] END criterion=gini, max_depth=50, max_features=log2, n_estimators=10; total time=   0.1s\n",
      "[CV 3/3] END criterion=gini, max_depth=50, max_features=log2, n_estimators=10; total time=   0.1s\n",
      "[CV 1/3] END criterion=gini, max_depth=50, max_features=log2, n_estimators=50; total time=   0.3s\n",
      "[CV 2/3] END criterion=gini, max_depth=50, max_features=log2, n_estimators=50; total time=   0.3s\n",
      "[CV 3/3] END criterion=gini, max_depth=50, max_features=log2, n_estimators=50; total time=   0.3s\n",
      "[CV 1/3] END criterion=gini, max_depth=50, max_features=log2, n_estimators=100; total time=   0.5s\n",
      "[CV 2/3] END criterion=gini, max_depth=50, max_features=log2, n_estimators=100; total time=   0.5s\n",
      "[CV 3/3] END criterion=gini, max_depth=50, max_features=log2, n_estimators=100; total time=   0.5s\n",
      "[CV 1/3] END criterion=gini, max_depth=100, max_features=auto, n_estimators=10; total time=   0.1s\n",
      "[CV 2/3] END criterion=gini, max_depth=100, max_features=auto, n_estimators=10; total time=   0.1s\n",
      "[CV 3/3] END criterion=gini, max_depth=100, max_features=auto, n_estimators=10; total time=   0.1s\n",
      "[CV 1/3] END criterion=gini, max_depth=100, max_features=auto, n_estimators=50; total time=   0.3s\n",
      "[CV 2/3] END criterion=gini, max_depth=100, max_features=auto, n_estimators=50; total time=   0.3s\n",
      "[CV 3/3] END criterion=gini, max_depth=100, max_features=auto, n_estimators=50; total time=   0.3s\n",
      "[CV 1/3] END criterion=gini, max_depth=100, max_features=auto, n_estimators=100; total time=   0.5s\n",
      "[CV 2/3] END criterion=gini, max_depth=100, max_features=auto, n_estimators=100; total time=   0.5s\n",
      "[CV 3/3] END criterion=gini, max_depth=100, max_features=auto, n_estimators=100; total time=   0.5s\n",
      "[CV 1/3] END criterion=gini, max_depth=100, max_features=sqrt, n_estimators=10; total time=   0.1s\n",
      "[CV 2/3] END criterion=gini, max_depth=100, max_features=sqrt, n_estimators=10; total time=   0.1s\n",
      "[CV 3/3] END criterion=gini, max_depth=100, max_features=sqrt, n_estimators=10; total time=   0.1s\n",
      "[CV 1/3] END criterion=gini, max_depth=100, max_features=sqrt, n_estimators=50; total time=   0.3s\n",
      "[CV 2/3] END criterion=gini, max_depth=100, max_features=sqrt, n_estimators=50; total time=   0.3s\n",
      "[CV 3/3] END criterion=gini, max_depth=100, max_features=sqrt, n_estimators=50; total time=   0.3s\n",
      "[CV 1/3] END criterion=gini, max_depth=100, max_features=sqrt, n_estimators=100; total time=   0.5s\n",
      "[CV 2/3] END criterion=gini, max_depth=100, max_features=sqrt, n_estimators=100; total time=   0.5s\n",
      "[CV 3/3] END criterion=gini, max_depth=100, max_features=sqrt, n_estimators=100; total time=   0.5s\n",
      "[CV 1/3] END criterion=gini, max_depth=100, max_features=log2, n_estimators=10; total time=   0.1s\n",
      "[CV 2/3] END criterion=gini, max_depth=100, max_features=log2, n_estimators=10; total time=   0.1s\n",
      "[CV 3/3] END criterion=gini, max_depth=100, max_features=log2, n_estimators=10; total time=   0.1s\n",
      "[CV 1/3] END criterion=gini, max_depth=100, max_features=log2, n_estimators=50; total time=   0.3s\n",
      "[CV 2/3] END criterion=gini, max_depth=100, max_features=log2, n_estimators=50; total time=   0.3s\n",
      "[CV 3/3] END criterion=gini, max_depth=100, max_features=log2, n_estimators=50; total time=   0.3s\n",
      "[CV 1/3] END criterion=gini, max_depth=100, max_features=log2, n_estimators=100; total time=   0.5s\n",
      "[CV 2/3] END criterion=gini, max_depth=100, max_features=log2, n_estimators=100; total time=   0.5s\n",
      "[CV 3/3] END criterion=gini, max_depth=100, max_features=log2, n_estimators=100; total time=   0.5s\n",
      "[CV 1/3] END criterion=entropy, max_depth=1, max_features=auto, n_estimators=10; total time=   0.0s\n",
      "[CV 2/3] END criterion=entropy, max_depth=1, max_features=auto, n_estimators=10; total time=   0.0s\n",
      "[CV 3/3] END criterion=entropy, max_depth=1, max_features=auto, n_estimators=10; total time=   0.0s\n",
      "[CV 1/3] END criterion=entropy, max_depth=1, max_features=auto, n_estimators=50; total time=   0.1s\n",
      "[CV 2/3] END criterion=entropy, max_depth=1, max_features=auto, n_estimators=50; total time=   0.1s\n",
      "[CV 3/3] END criterion=entropy, max_depth=1, max_features=auto, n_estimators=50; total time=   0.1s\n",
      "[CV 1/3] END criterion=entropy, max_depth=1, max_features=auto, n_estimators=100; total time=   0.2s\n",
      "[CV 2/3] END criterion=entropy, max_depth=1, max_features=auto, n_estimators=100; total time=   0.2s\n",
      "[CV 3/3] END criterion=entropy, max_depth=1, max_features=auto, n_estimators=100; total time=   0.2s\n",
      "[CV 1/3] END criterion=entropy, max_depth=1, max_features=sqrt, n_estimators=10; total time=   0.0s\n",
      "[CV 2/3] END criterion=entropy, max_depth=1, max_features=sqrt, n_estimators=10; total time=   0.0s\n",
      "[CV 3/3] END criterion=entropy, max_depth=1, max_features=sqrt, n_estimators=10; total time=   0.0s\n",
      "[CV 1/3] END criterion=entropy, max_depth=1, max_features=sqrt, n_estimators=50; total time=   0.1s\n",
      "[CV 2/3] END criterion=entropy, max_depth=1, max_features=sqrt, n_estimators=50; total time=   0.1s\n",
      "[CV 3/3] END criterion=entropy, max_depth=1, max_features=sqrt, n_estimators=50; total time=   0.1s\n",
      "[CV 1/3] END criterion=entropy, max_depth=1, max_features=sqrt, n_estimators=100; total time=   0.2s\n",
      "[CV 2/3] END criterion=entropy, max_depth=1, max_features=sqrt, n_estimators=100; total time=   0.2s\n",
      "[CV 3/3] END criterion=entropy, max_depth=1, max_features=sqrt, n_estimators=100; total time=   0.2s\n",
      "[CV 1/3] END criterion=entropy, max_depth=1, max_features=log2, n_estimators=10; total time=   0.0s\n",
      "[CV 2/3] END criterion=entropy, max_depth=1, max_features=log2, n_estimators=10; total time=   0.0s\n",
      "[CV 3/3] END criterion=entropy, max_depth=1, max_features=log2, n_estimators=10; total time=   0.0s\n",
      "[CV 1/3] END criterion=entropy, max_depth=1, max_features=log2, n_estimators=50; total time=   0.1s\n",
      "[CV 2/3] END criterion=entropy, max_depth=1, max_features=log2, n_estimators=50; total time=   0.1s\n",
      "[CV 3/3] END criterion=entropy, max_depth=1, max_features=log2, n_estimators=50; total time=   0.1s\n",
      "[CV 1/3] END criterion=entropy, max_depth=1, max_features=log2, n_estimators=100; total time=   0.2s\n",
      "[CV 2/3] END criterion=entropy, max_depth=1, max_features=log2, n_estimators=100; total time=   0.2s\n",
      "[CV 3/3] END criterion=entropy, max_depth=1, max_features=log2, n_estimators=100; total time=   0.2s\n",
      "[CV 1/3] END criterion=entropy, max_depth=10, max_features=auto, n_estimators=10; total time=   0.1s\n",
      "[CV 2/3] END criterion=entropy, max_depth=10, max_features=auto, n_estimators=10; total time=   0.1s\n",
      "[CV 3/3] END criterion=entropy, max_depth=10, max_features=auto, n_estimators=10; total time=   0.1s\n",
      "[CV 1/3] END criterion=entropy, max_depth=10, max_features=auto, n_estimators=50; total time=   0.3s\n",
      "[CV 2/3] END criterion=entropy, max_depth=10, max_features=auto, n_estimators=50; total time=   0.3s\n",
      "[CV 3/3] END criterion=entropy, max_depth=10, max_features=auto, n_estimators=50; total time=   0.3s\n",
      "[CV 1/3] END criterion=entropy, max_depth=10, max_features=auto, n_estimators=100; total time=   0.5s\n",
      "[CV 2/3] END criterion=entropy, max_depth=10, max_features=auto, n_estimators=100; total time=   0.5s\n",
      "[CV 3/3] END criterion=entropy, max_depth=10, max_features=auto, n_estimators=100; total time=   0.5s\n",
      "[CV 1/3] END criterion=entropy, max_depth=10, max_features=sqrt, n_estimators=10; total time=   0.1s\n",
      "[CV 2/3] END criterion=entropy, max_depth=10, max_features=sqrt, n_estimators=10; total time=   0.1s\n",
      "[CV 3/3] END criterion=entropy, max_depth=10, max_features=sqrt, n_estimators=10; total time=   0.1s\n",
      "[CV 1/3] END criterion=entropy, max_depth=10, max_features=sqrt, n_estimators=50; total time=   0.3s\n",
      "[CV 2/3] END criterion=entropy, max_depth=10, max_features=sqrt, n_estimators=50; total time=   0.3s\n",
      "[CV 3/3] END criterion=entropy, max_depth=10, max_features=sqrt, n_estimators=50; total time=   0.3s\n",
      "[CV 1/3] END criterion=entropy, max_depth=10, max_features=sqrt, n_estimators=100; total time=   0.5s\n",
      "[CV 2/3] END criterion=entropy, max_depth=10, max_features=sqrt, n_estimators=100; total time=   0.5s\n",
      "[CV 3/3] END criterion=entropy, max_depth=10, max_features=sqrt, n_estimators=100; total time=   0.5s\n",
      "[CV 1/3] END criterion=entropy, max_depth=10, max_features=log2, n_estimators=10; total time=   0.1s\n",
      "[CV 2/3] END criterion=entropy, max_depth=10, max_features=log2, n_estimators=10; total time=   0.1s\n",
      "[CV 3/3] END criterion=entropy, max_depth=10, max_features=log2, n_estimators=10; total time=   0.1s\n",
      "[CV 1/3] END criterion=entropy, max_depth=10, max_features=log2, n_estimators=50; total time=   0.3s\n",
      "[CV 2/3] END criterion=entropy, max_depth=10, max_features=log2, n_estimators=50; total time=   0.2s\n",
      "[CV 3/3] END criterion=entropy, max_depth=10, max_features=log2, n_estimators=50; total time=   0.2s\n",
      "[CV 1/3] END criterion=entropy, max_depth=10, max_features=log2, n_estimators=100; total time=   0.5s\n",
      "[CV 2/3] END criterion=entropy, max_depth=10, max_features=log2, n_estimators=100; total time=   0.5s\n",
      "[CV 3/3] END criterion=entropy, max_depth=10, max_features=log2, n_estimators=100; total time=   0.5s\n",
      "[CV 1/3] END criterion=entropy, max_depth=30, max_features=auto, n_estimators=10; total time=   0.1s\n",
      "[CV 2/3] END criterion=entropy, max_depth=30, max_features=auto, n_estimators=10; total time=   0.1s\n",
      "[CV 3/3] END criterion=entropy, max_depth=30, max_features=auto, n_estimators=10; total time=   0.1s\n",
      "[CV 1/3] END criterion=entropy, max_depth=30, max_features=auto, n_estimators=50; total time=   0.3s\n",
      "[CV 2/3] END criterion=entropy, max_depth=30, max_features=auto, n_estimators=50; total time=   0.3s\n",
      "[CV 3/3] END criterion=entropy, max_depth=30, max_features=auto, n_estimators=50; total time=   0.3s\n",
      "[CV 1/3] END criterion=entropy, max_depth=30, max_features=auto, n_estimators=100; total time=   0.6s\n",
      "[CV 2/3] END criterion=entropy, max_depth=30, max_features=auto, n_estimators=100; total time=   0.6s\n",
      "[CV 3/3] END criterion=entropy, max_depth=30, max_features=auto, n_estimators=100; total time=   0.6s\n",
      "[CV 1/3] END criterion=entropy, max_depth=30, max_features=sqrt, n_estimators=10; total time=   0.1s\n",
      "[CV 2/3] END criterion=entropy, max_depth=30, max_features=sqrt, n_estimators=10; total time=   0.1s\n",
      "[CV 3/3] END criterion=entropy, max_depth=30, max_features=sqrt, n_estimators=10; total time=   0.1s\n",
      "[CV 1/3] END criterion=entropy, max_depth=30, max_features=sqrt, n_estimators=50; total time=   0.3s\n",
      "[CV 2/3] END criterion=entropy, max_depth=30, max_features=sqrt, n_estimators=50; total time=   0.3s\n",
      "[CV 3/3] END criterion=entropy, max_depth=30, max_features=sqrt, n_estimators=50; total time=   0.3s\n",
      "[CV 1/3] END criterion=entropy, max_depth=30, max_features=sqrt, n_estimators=100; total time=   0.6s\n",
      "[CV 2/3] END criterion=entropy, max_depth=30, max_features=sqrt, n_estimators=100; total time=   0.6s\n",
      "[CV 3/3] END criterion=entropy, max_depth=30, max_features=sqrt, n_estimators=100; total time=   0.5s\n",
      "[CV 1/3] END criterion=entropy, max_depth=30, max_features=log2, n_estimators=10; total time=   0.1s\n",
      "[CV 2/3] END criterion=entropy, max_depth=30, max_features=log2, n_estimators=10; total time=   0.1s\n",
      "[CV 3/3] END criterion=entropy, max_depth=30, max_features=log2, n_estimators=10; total time=   0.1s\n",
      "[CV 1/3] END criterion=entropy, max_depth=30, max_features=log2, n_estimators=50; total time=   0.3s\n",
      "[CV 2/3] END criterion=entropy, max_depth=30, max_features=log2, n_estimators=50; total time=   0.3s\n",
      "[CV 3/3] END criterion=entropy, max_depth=30, max_features=log2, n_estimators=50; total time=   0.3s\n",
      "[CV 1/3] END criterion=entropy, max_depth=30, max_features=log2, n_estimators=100; total time=   0.6s\n",
      "[CV 2/3] END criterion=entropy, max_depth=30, max_features=log2, n_estimators=100; total time=   0.6s\n",
      "[CV 3/3] END criterion=entropy, max_depth=30, max_features=log2, n_estimators=100; total time=   0.6s\n",
      "[CV 1/3] END criterion=entropy, max_depth=50, max_features=auto, n_estimators=10; total time=   0.1s\n",
      "[CV 2/3] END criterion=entropy, max_depth=50, max_features=auto, n_estimators=10; total time=   0.1s\n",
      "[CV 3/3] END criterion=entropy, max_depth=50, max_features=auto, n_estimators=10; total time=   0.1s\n",
      "[CV 1/3] END criterion=entropy, max_depth=50, max_features=auto, n_estimators=50; total time=   0.3s\n",
      "[CV 2/3] END criterion=entropy, max_depth=50, max_features=auto, n_estimators=50; total time=   0.3s\n",
      "[CV 3/3] END criterion=entropy, max_depth=50, max_features=auto, n_estimators=50; total time=   0.3s\n",
      "[CV 1/3] END criterion=entropy, max_depth=50, max_features=auto, n_estimators=100; total time=   0.6s\n",
      "[CV 2/3] END criterion=entropy, max_depth=50, max_features=auto, n_estimators=100; total time=   0.6s\n",
      "[CV 3/3] END criterion=entropy, max_depth=50, max_features=auto, n_estimators=100; total time=   0.6s\n",
      "[CV 1/3] END criterion=entropy, max_depth=50, max_features=sqrt, n_estimators=10; total time=   0.1s\n",
      "[CV 2/3] END criterion=entropy, max_depth=50, max_features=sqrt, n_estimators=10; total time=   0.1s\n",
      "[CV 3/3] END criterion=entropy, max_depth=50, max_features=sqrt, n_estimators=10; total time=   0.1s\n",
      "[CV 1/3] END criterion=entropy, max_depth=50, max_features=sqrt, n_estimators=50; total time=   0.3s\n",
      "[CV 2/3] END criterion=entropy, max_depth=50, max_features=sqrt, n_estimators=50; total time=   0.3s\n",
      "[CV 3/3] END criterion=entropy, max_depth=50, max_features=sqrt, n_estimators=50; total time=   0.3s\n",
      "[CV 1/3] END criterion=entropy, max_depth=50, max_features=sqrt, n_estimators=100; total time=   0.6s\n",
      "[CV 2/3] END criterion=entropy, max_depth=50, max_features=sqrt, n_estimators=100; total time=   0.6s\n",
      "[CV 3/3] END criterion=entropy, max_depth=50, max_features=sqrt, n_estimators=100; total time=   0.6s\n",
      "[CV 1/3] END criterion=entropy, max_depth=50, max_features=log2, n_estimators=10; total time=   0.1s\n",
      "[CV 2/3] END criterion=entropy, max_depth=50, max_features=log2, n_estimators=10; total time=   0.1s\n",
      "[CV 3/3] END criterion=entropy, max_depth=50, max_features=log2, n_estimators=10; total time=   0.1s\n",
      "[CV 1/3] END criterion=entropy, max_depth=50, max_features=log2, n_estimators=50; total time=   0.3s\n",
      "[CV 2/3] END criterion=entropy, max_depth=50, max_features=log2, n_estimators=50; total time=   0.3s\n",
      "[CV 3/3] END criterion=entropy, max_depth=50, max_features=log2, n_estimators=50; total time=   0.3s\n",
      "[CV 1/3] END criterion=entropy, max_depth=50, max_features=log2, n_estimators=100; total time=   0.6s\n",
      "[CV 2/3] END criterion=entropy, max_depth=50, max_features=log2, n_estimators=100; total time=   0.6s\n",
      "[CV 3/3] END criterion=entropy, max_depth=50, max_features=log2, n_estimators=100; total time=   0.6s\n",
      "[CV 1/3] END criterion=entropy, max_depth=100, max_features=auto, n_estimators=10; total time=   0.1s\n",
      "[CV 2/3] END criterion=entropy, max_depth=100, max_features=auto, n_estimators=10; total time=   0.1s\n",
      "[CV 3/3] END criterion=entropy, max_depth=100, max_features=auto, n_estimators=10; total time=   0.1s\n",
      "[CV 1/3] END criterion=entropy, max_depth=100, max_features=auto, n_estimators=50; total time=   0.3s\n",
      "[CV 2/3] END criterion=entropy, max_depth=100, max_features=auto, n_estimators=50; total time=   0.3s\n",
      "[CV 3/3] END criterion=entropy, max_depth=100, max_features=auto, n_estimators=50; total time=   0.3s\n",
      "[CV 1/3] END criterion=entropy, max_depth=100, max_features=auto, n_estimators=100; total time=   0.6s\n",
      "[CV 2/3] END criterion=entropy, max_depth=100, max_features=auto, n_estimators=100; total time=   0.6s\n",
      "[CV 3/3] END criterion=entropy, max_depth=100, max_features=auto, n_estimators=100; total time=   0.5s\n",
      "[CV 1/3] END criterion=entropy, max_depth=100, max_features=sqrt, n_estimators=10; total time=   0.1s\n",
      "[CV 2/3] END criterion=entropy, max_depth=100, max_features=sqrt, n_estimators=10; total time=   0.1s\n",
      "[CV 3/3] END criterion=entropy, max_depth=100, max_features=sqrt, n_estimators=10; total time=   0.1s\n",
      "[CV 1/3] END criterion=entropy, max_depth=100, max_features=sqrt, n_estimators=50; total time=   0.3s\n",
      "[CV 2/3] END criterion=entropy, max_depth=100, max_features=sqrt, n_estimators=50; total time=   0.3s\n",
      "[CV 3/3] END criterion=entropy, max_depth=100, max_features=sqrt, n_estimators=50; total time=   0.3s\n",
      "[CV 1/3] END criterion=entropy, max_depth=100, max_features=sqrt, n_estimators=100; total time=   0.6s\n",
      "[CV 2/3] END criterion=entropy, max_depth=100, max_features=sqrt, n_estimators=100; total time=   0.6s\n",
      "[CV 3/3] END criterion=entropy, max_depth=100, max_features=sqrt, n_estimators=100; total time=   0.6s\n",
      "[CV 1/3] END criterion=entropy, max_depth=100, max_features=log2, n_estimators=10; total time=   0.1s\n",
      "[CV 2/3] END criterion=entropy, max_depth=100, max_features=log2, n_estimators=10; total time=   0.1s\n",
      "[CV 3/3] END criterion=entropy, max_depth=100, max_features=log2, n_estimators=10; total time=   0.1s\n",
      "[CV 1/3] END criterion=entropy, max_depth=100, max_features=log2, n_estimators=50; total time=   0.3s\n",
      "[CV 2/3] END criterion=entropy, max_depth=100, max_features=log2, n_estimators=50; total time=   0.3s\n",
      "[CV 3/3] END criterion=entropy, max_depth=100, max_features=log2, n_estimators=50; total time=   0.3s\n",
      "[CV 1/3] END criterion=entropy, max_depth=100, max_features=log2, n_estimators=100; total time=   0.6s\n",
      "[CV 2/3] END criterion=entropy, max_depth=100, max_features=log2, n_estimators=100; total time=   0.6s\n",
      "[CV 3/3] END criterion=entropy, max_depth=100, max_features=log2, n_estimators=100; total time=   0.6s\n",
      "[CV 1/3] END criterion=log_loss, max_depth=1, max_features=auto, n_estimators=10; total time=   0.0s\n",
      "[CV 2/3] END criterion=log_loss, max_depth=1, max_features=auto, n_estimators=10; total time=   0.0s\n",
      "[CV 3/3] END criterion=log_loss, max_depth=1, max_features=auto, n_estimators=10; total time=   0.0s\n",
      "[CV 1/3] END criterion=log_loss, max_depth=1, max_features=auto, n_estimators=50; total time=   0.0s\n",
      "[CV 2/3] END criterion=log_loss, max_depth=1, max_features=auto, n_estimators=50; total time=   0.0s\n",
      "[CV 3/3] END criterion=log_loss, max_depth=1, max_features=auto, n_estimators=50; total time=   0.0s\n",
      "[CV 1/3] END criterion=log_loss, max_depth=1, max_features=auto, n_estimators=100; total time=   0.0s\n",
      "[CV 2/3] END criterion=log_loss, max_depth=1, max_features=auto, n_estimators=100; total time=   0.0s\n",
      "[CV 3/3] END criterion=log_loss, max_depth=1, max_features=auto, n_estimators=100; total time=   0.0s\n",
      "[CV 1/3] END criterion=log_loss, max_depth=1, max_features=sqrt, n_estimators=10; total time=   0.0s\n",
      "[CV 2/3] END criterion=log_loss, max_depth=1, max_features=sqrt, n_estimators=10; total time=   0.0s\n",
      "[CV 3/3] END criterion=log_loss, max_depth=1, max_features=sqrt, n_estimators=10; total time=   0.0s\n",
      "[CV 1/3] END criterion=log_loss, max_depth=1, max_features=sqrt, n_estimators=50; total time=   0.0s\n",
      "[CV 2/3] END criterion=log_loss, max_depth=1, max_features=sqrt, n_estimators=50; total time=   0.0s\n",
      "[CV 3/3] END criterion=log_loss, max_depth=1, max_features=sqrt, n_estimators=50; total time=   0.0s\n",
      "[CV 1/3] END criterion=log_loss, max_depth=1, max_features=sqrt, n_estimators=100; total time=   0.0s\n",
      "[CV 2/3] END criterion=log_loss, max_depth=1, max_features=sqrt, n_estimators=100; total time=   0.0s\n",
      "[CV 3/3] END criterion=log_loss, max_depth=1, max_features=sqrt, n_estimators=100; total time=   0.0s\n",
      "[CV 1/3] END criterion=log_loss, max_depth=1, max_features=log2, n_estimators=10; total time=   0.0s\n",
      "[CV 2/3] END criterion=log_loss, max_depth=1, max_features=log2, n_estimators=10; total time=   0.0s\n",
      "[CV 3/3] END criterion=log_loss, max_depth=1, max_features=log2, n_estimators=10; total time=   0.0s\n",
      "[CV 1/3] END criterion=log_loss, max_depth=1, max_features=log2, n_estimators=50; total time=   0.0s\n",
      "[CV 2/3] END criterion=log_loss, max_depth=1, max_features=log2, n_estimators=50; total time=   0.0s\n",
      "[CV 3/3] END criterion=log_loss, max_depth=1, max_features=log2, n_estimators=50; total time=   0.0s\n",
      "[CV 1/3] END criterion=log_loss, max_depth=1, max_features=log2, n_estimators=100; total time=   0.0s\n",
      "[CV 2/3] END criterion=log_loss, max_depth=1, max_features=log2, n_estimators=100; total time=   0.0s\n",
      "[CV 3/3] END criterion=log_loss, max_depth=1, max_features=log2, n_estimators=100; total time=   0.0s\n",
      "[CV 1/3] END criterion=log_loss, max_depth=10, max_features=auto, n_estimators=10; total time=   0.0s\n",
      "[CV 2/3] END criterion=log_loss, max_depth=10, max_features=auto, n_estimators=10; total time=   0.0s\n",
      "[CV 3/3] END criterion=log_loss, max_depth=10, max_features=auto, n_estimators=10; total time=   0.0s\n",
      "[CV 1/3] END criterion=log_loss, max_depth=10, max_features=auto, n_estimators=50; total time=   0.0s\n",
      "[CV 2/3] END criterion=log_loss, max_depth=10, max_features=auto, n_estimators=50; total time=   0.0s\n",
      "[CV 3/3] END criterion=log_loss, max_depth=10, max_features=auto, n_estimators=50; total time=   0.0s\n",
      "[CV 1/3] END criterion=log_loss, max_depth=10, max_features=auto, n_estimators=100; total time=   0.0s\n",
      "[CV 2/3] END criterion=log_loss, max_depth=10, max_features=auto, n_estimators=100; total time=   0.0s\n",
      "[CV 3/3] END criterion=log_loss, max_depth=10, max_features=auto, n_estimators=100; total time=   0.0s\n",
      "[CV 1/3] END criterion=log_loss, max_depth=10, max_features=sqrt, n_estimators=10; total time=   0.0s\n",
      "[CV 2/3] END criterion=log_loss, max_depth=10, max_features=sqrt, n_estimators=10; total time=   0.0s\n",
      "[CV 3/3] END criterion=log_loss, max_depth=10, max_features=sqrt, n_estimators=10; total time=   0.0s\n",
      "[CV 1/3] END criterion=log_loss, max_depth=10, max_features=sqrt, n_estimators=50; total time=   0.0s\n",
      "[CV 2/3] END criterion=log_loss, max_depth=10, max_features=sqrt, n_estimators=50; total time=   0.0s\n",
      "[CV 3/3] END criterion=log_loss, max_depth=10, max_features=sqrt, n_estimators=50; total time=   0.0s\n",
      "[CV 1/3] END criterion=log_loss, max_depth=10, max_features=sqrt, n_estimators=100; total time=   0.0s\n",
      "[CV 2/3] END criterion=log_loss, max_depth=10, max_features=sqrt, n_estimators=100; total time=   0.0s\n",
      "[CV 3/3] END criterion=log_loss, max_depth=10, max_features=sqrt, n_estimators=100; total time=   0.0s\n",
      "[CV 1/3] END criterion=log_loss, max_depth=10, max_features=log2, n_estimators=10; total time=   0.0s\n",
      "[CV 2/3] END criterion=log_loss, max_depth=10, max_features=log2, n_estimators=10; total time=   0.0s\n",
      "[CV 3/3] END criterion=log_loss, max_depth=10, max_features=log2, n_estimators=10; total time=   0.0s\n",
      "[CV 1/3] END criterion=log_loss, max_depth=10, max_features=log2, n_estimators=50; total time=   0.0s\n",
      "[CV 2/3] END criterion=log_loss, max_depth=10, max_features=log2, n_estimators=50; total time=   0.0s\n",
      "[CV 3/3] END criterion=log_loss, max_depth=10, max_features=log2, n_estimators=50; total time=   0.0s\n",
      "[CV 1/3] END criterion=log_loss, max_depth=10, max_features=log2, n_estimators=100; total time=   0.0s\n",
      "[CV 2/3] END criterion=log_loss, max_depth=10, max_features=log2, n_estimators=100; total time=   0.0s\n",
      "[CV 3/3] END criterion=log_loss, max_depth=10, max_features=log2, n_estimators=100; total time=   0.0s\n",
      "[CV 1/3] END criterion=log_loss, max_depth=30, max_features=auto, n_estimators=10; total time=   0.0s\n",
      "[CV 2/3] END criterion=log_loss, max_depth=30, max_features=auto, n_estimators=10; total time=   0.0s\n",
      "[CV 3/3] END criterion=log_loss, max_depth=30, max_features=auto, n_estimators=10; total time=   0.0s\n",
      "[CV 1/3] END criterion=log_loss, max_depth=30, max_features=auto, n_estimators=50; total time=   0.0s\n",
      "[CV 2/3] END criterion=log_loss, max_depth=30, max_features=auto, n_estimators=50; total time=   0.0s\n",
      "[CV 3/3] END criterion=log_loss, max_depth=30, max_features=auto, n_estimators=50; total time=   0.0s\n",
      "[CV 1/3] END criterion=log_loss, max_depth=30, max_features=auto, n_estimators=100; total time=   0.0s\n",
      "[CV 2/3] END criterion=log_loss, max_depth=30, max_features=auto, n_estimators=100; total time=   0.0s\n",
      "[CV 3/3] END criterion=log_loss, max_depth=30, max_features=auto, n_estimators=100; total time=   0.0s\n",
      "[CV 1/3] END criterion=log_loss, max_depth=30, max_features=sqrt, n_estimators=10; total time=   0.0s\n",
      "[CV 2/3] END criterion=log_loss, max_depth=30, max_features=sqrt, n_estimators=10; total time=   0.0s\n",
      "[CV 3/3] END criterion=log_loss, max_depth=30, max_features=sqrt, n_estimators=10; total time=   0.0s\n",
      "[CV 1/3] END criterion=log_loss, max_depth=30, max_features=sqrt, n_estimators=50; total time=   0.0s\n",
      "[CV 2/3] END criterion=log_loss, max_depth=30, max_features=sqrt, n_estimators=50; total time=   0.0s\n",
      "[CV 3/3] END criterion=log_loss, max_depth=30, max_features=sqrt, n_estimators=50; total time=   0.0s\n",
      "[CV 1/3] END criterion=log_loss, max_depth=30, max_features=sqrt, n_estimators=100; total time=   0.0s\n",
      "[CV 2/3] END criterion=log_loss, max_depth=30, max_features=sqrt, n_estimators=100; total time=   0.0s\n",
      "[CV 3/3] END criterion=log_loss, max_depth=30, max_features=sqrt, n_estimators=100; total time=   0.0s\n",
      "[CV 1/3] END criterion=log_loss, max_depth=30, max_features=log2, n_estimators=10; total time=   0.0s\n",
      "[CV 2/3] END criterion=log_loss, max_depth=30, max_features=log2, n_estimators=10; total time=   0.0s\n",
      "[CV 3/3] END criterion=log_loss, max_depth=30, max_features=log2, n_estimators=10; total time=   0.0s\n",
      "[CV 1/3] END criterion=log_loss, max_depth=30, max_features=log2, n_estimators=50; total time=   0.0s\n",
      "[CV 2/3] END criterion=log_loss, max_depth=30, max_features=log2, n_estimators=50; total time=   0.0s\n",
      "[CV 3/3] END criterion=log_loss, max_depth=30, max_features=log2, n_estimators=50; total time=   0.0s\n",
      "[CV 1/3] END criterion=log_loss, max_depth=30, max_features=log2, n_estimators=100; total time=   0.0s\n",
      "[CV 2/3] END criterion=log_loss, max_depth=30, max_features=log2, n_estimators=100; total time=   0.0s\n",
      "[CV 3/3] END criterion=log_loss, max_depth=30, max_features=log2, n_estimators=100; total time=   0.0s\n",
      "[CV 1/3] END criterion=log_loss, max_depth=50, max_features=auto, n_estimators=10; total time=   0.0s\n",
      "[CV 2/3] END criterion=log_loss, max_depth=50, max_features=auto, n_estimators=10; total time=   0.0s\n",
      "[CV 3/3] END criterion=log_loss, max_depth=50, max_features=auto, n_estimators=10; total time=   0.0s\n",
      "[CV 1/3] END criterion=log_loss, max_depth=50, max_features=auto, n_estimators=50; total time=   0.0s\n",
      "[CV 2/3] END criterion=log_loss, max_depth=50, max_features=auto, n_estimators=50; total time=   0.0s\n",
      "[CV 3/3] END criterion=log_loss, max_depth=50, max_features=auto, n_estimators=50; total time=   0.0s\n",
      "[CV 1/3] END criterion=log_loss, max_depth=50, max_features=auto, n_estimators=100; total time=   0.0s\n",
      "[CV 2/3] END criterion=log_loss, max_depth=50, max_features=auto, n_estimators=100; total time=   0.0s\n",
      "[CV 3/3] END criterion=log_loss, max_depth=50, max_features=auto, n_estimators=100; total time=   0.0s\n",
      "[CV 1/3] END criterion=log_loss, max_depth=50, max_features=sqrt, n_estimators=10; total time=   0.0s\n",
      "[CV 2/3] END criterion=log_loss, max_depth=50, max_features=sqrt, n_estimators=10; total time=   0.0s\n",
      "[CV 3/3] END criterion=log_loss, max_depth=50, max_features=sqrt, n_estimators=10; total time=   0.0s\n",
      "[CV 1/3] END criterion=log_loss, max_depth=50, max_features=sqrt, n_estimators=50; total time=   0.0s\n",
      "[CV 2/3] END criterion=log_loss, max_depth=50, max_features=sqrt, n_estimators=50; total time=   0.0s\n",
      "[CV 3/3] END criterion=log_loss, max_depth=50, max_features=sqrt, n_estimators=50; total time=   0.0s\n",
      "[CV 1/3] END criterion=log_loss, max_depth=50, max_features=sqrt, n_estimators=100; total time=   0.0s\n",
      "[CV 2/3] END criterion=log_loss, max_depth=50, max_features=sqrt, n_estimators=100; total time=   0.0s\n",
      "[CV 3/3] END criterion=log_loss, max_depth=50, max_features=sqrt, n_estimators=100; total time=   0.0s\n",
      "[CV 1/3] END criterion=log_loss, max_depth=50, max_features=log2, n_estimators=10; total time=   0.0s\n",
      "[CV 2/3] END criterion=log_loss, max_depth=50, max_features=log2, n_estimators=10; total time=   0.0s\n",
      "[CV 3/3] END criterion=log_loss, max_depth=50, max_features=log2, n_estimators=10; total time=   0.0s\n",
      "[CV 1/3] END criterion=log_loss, max_depth=50, max_features=log2, n_estimators=50; total time=   0.0s\n",
      "[CV 2/3] END criterion=log_loss, max_depth=50, max_features=log2, n_estimators=50; total time=   0.0s\n",
      "[CV 3/3] END criterion=log_loss, max_depth=50, max_features=log2, n_estimators=50; total time=   0.0s\n",
      "[CV 1/3] END criterion=log_loss, max_depth=50, max_features=log2, n_estimators=100; total time=   0.0s\n",
      "[CV 2/3] END criterion=log_loss, max_depth=50, max_features=log2, n_estimators=100; total time=   0.0s\n",
      "[CV 3/3] END criterion=log_loss, max_depth=50, max_features=log2, n_estimators=100; total time=   0.0s\n",
      "[CV 1/3] END criterion=log_loss, max_depth=100, max_features=auto, n_estimators=10; total time=   0.0s\n",
      "[CV 2/3] END criterion=log_loss, max_depth=100, max_features=auto, n_estimators=10; total time=   0.0s\n",
      "[CV 3/3] END criterion=log_loss, max_depth=100, max_features=auto, n_estimators=10; total time=   0.0s\n",
      "[CV 1/3] END criterion=log_loss, max_depth=100, max_features=auto, n_estimators=50; total time=   0.0s\n",
      "[CV 2/3] END criterion=log_loss, max_depth=100, max_features=auto, n_estimators=50; total time=   0.0s\n",
      "[CV 3/3] END criterion=log_loss, max_depth=100, max_features=auto, n_estimators=50; total time=   0.0s\n",
      "[CV 1/3] END criterion=log_loss, max_depth=100, max_features=auto, n_estimators=100; total time=   0.0s\n",
      "[CV 2/3] END criterion=log_loss, max_depth=100, max_features=auto, n_estimators=100; total time=   0.0s\n",
      "[CV 3/3] END criterion=log_loss, max_depth=100, max_features=auto, n_estimators=100; total time=   0.0s\n",
      "[CV 1/3] END criterion=log_loss, max_depth=100, max_features=sqrt, n_estimators=10; total time=   0.0s\n",
      "[CV 2/3] END criterion=log_loss, max_depth=100, max_features=sqrt, n_estimators=10; total time=   0.0s\n",
      "[CV 3/3] END criterion=log_loss, max_depth=100, max_features=sqrt, n_estimators=10; total time=   0.0s\n",
      "[CV 1/3] END criterion=log_loss, max_depth=100, max_features=sqrt, n_estimators=50; total time=   0.0s\n",
      "[CV 2/3] END criterion=log_loss, max_depth=100, max_features=sqrt, n_estimators=50; total time=   0.0s\n",
      "[CV 3/3] END criterion=log_loss, max_depth=100, max_features=sqrt, n_estimators=50; total time=   0.0s\n",
      "[CV 1/3] END criterion=log_loss, max_depth=100, max_features=sqrt, n_estimators=100; total time=   0.0s\n",
      "[CV 2/3] END criterion=log_loss, max_depth=100, max_features=sqrt, n_estimators=100; total time=   0.0s\n",
      "[CV 3/3] END criterion=log_loss, max_depth=100, max_features=sqrt, n_estimators=100; total time=   0.0s\n",
      "[CV 1/3] END criterion=log_loss, max_depth=100, max_features=log2, n_estimators=10; total time=   0.0s\n",
      "[CV 2/3] END criterion=log_loss, max_depth=100, max_features=log2, n_estimators=10; total time=   0.0s\n",
      "[CV 3/3] END criterion=log_loss, max_depth=100, max_features=log2, n_estimators=10; total time=   0.0s\n",
      "[CV 1/3] END criterion=log_loss, max_depth=100, max_features=log2, n_estimators=50; total time=   0.0s\n",
      "[CV 2/3] END criterion=log_loss, max_depth=100, max_features=log2, n_estimators=50; total time=   0.0s\n",
      "[CV 3/3] END criterion=log_loss, max_depth=100, max_features=log2, n_estimators=50; total time=   0.0s\n",
      "[CV 1/3] END criterion=log_loss, max_depth=100, max_features=log2, n_estimators=100; total time=   0.0s\n",
      "[CV 2/3] END criterion=log_loss, max_depth=100, max_features=log2, n_estimators=100; total time=   0.0s\n",
      "[CV 3/3] END criterion=log_loss, max_depth=100, max_features=log2, n_estimators=100; total time=   0.0s\n",
      "CPU times: user 1min 10s, sys: 565 ms, total: 1min 10s\n",
      "Wall time: 1min 10s\n"
     ]
    },
    {
     "data": {
      "text/plain": [
       "GridSearchCV(cv=3, estimator=RandomForestClassifier(),\n",
       "             param_grid={'criterion': ['gini', 'entropy', 'log_loss'],\n",
       "                         'max_depth': [1, 10, 30, 50, 100],\n",
       "                         'max_features': ['auto', 'sqrt', 'log2'],\n",
       "                         'n_estimators': [10, 50, 100]},\n",
       "             verbose=4)"
      ]
     },
     "execution_count": 27,
     "metadata": {},
     "output_type": "execute_result"
    }
   ],
   "source": [
    "%%time\n",
    "gs_rf.fit(features_train, target_train)"
   ]
  },
  {
   "cell_type": "code",
   "execution_count": 28,
   "metadata": {},
   "outputs": [],
   "source": [
    "best_gs_rf = gs_rf.best_estimator_"
   ]
  },
  {
   "cell_type": "code",
   "execution_count": 29,
   "metadata": {},
   "outputs": [
    {
     "name": "stdout",
     "output_type": "stream",
     "text": [
      "RandomForestClassifier(max_depth=10, max_features='sqrt')\n"
     ]
    }
   ],
   "source": [
    "print(best_gs_rf)"
   ]
  },
  {
   "cell_type": "markdown",
   "metadata": {},
   "source": [
    "Попробуем посмотреть, как протестируется модель с дисбалансом"
   ]
  },
  {
   "cell_type": "code",
   "execution_count": 30,
   "metadata": {},
   "outputs": [
    {
     "name": "stdout",
     "output_type": "stream",
     "text": [
      "F1: 0.5531914893617021\n",
      "CPU times: user 839 ms, sys: 3.95 ms, total: 843 ms\n",
      "Wall time: 855 ms\n"
     ]
    }
   ],
   "source": [
    "%%time\n",
    "model = RandomForestClassifier(criterion='entropy', max_depth=30, max_features='log2', random_state=12345)\n",
    "model.fit(features_train, target_train)\n",
    "predicted_valid = model.predict(features_valid)\n",
    "print(\"F1:\", f1_score(target_valid, predicted_valid))"
   ]
  },
  {
   "cell_type": "markdown",
   "metadata": {},
   "source": [
    "## Борьба с дисбалансом"
   ]
  },
  {
   "cell_type": "markdown",
   "metadata": {},
   "source": [
    "### Способ 1. Взвешивание классов"
   ]
  },
  {
   "cell_type": "markdown",
   "metadata": {},
   "source": [
    "Рандомный лес"
   ]
  },
  {
   "cell_type": "code",
   "execution_count": 31,
   "metadata": {},
   "outputs": [
    {
     "name": "stdout",
     "output_type": "stream",
     "text": [
      "F1: 0.5371775417298938\n"
     ]
    }
   ],
   "source": [
    "model = RandomForestClassifier(random_state=12345, class_weight='balanced')\n",
    "model.fit(features_train, target_train)\n",
    "predicted_valid = model.predict(features_valid)\n",
    "print(\"F1:\", f1_score(target_valid, predicted_valid))"
   ]
  },
  {
   "cell_type": "markdown",
   "metadata": {},
   "source": [
    "Логичстическая регрессия"
   ]
  },
  {
   "cell_type": "code",
   "execution_count": 32,
   "metadata": {},
   "outputs": [
    {
     "name": "stdout",
     "output_type": "stream",
     "text": [
      "F1: 0.4435736677115987\n"
     ]
    }
   ],
   "source": [
    "model = LogisticRegression(random_state=12345, class_weight='balanced')\n",
    "model.fit(features_train, target_train)\n",
    "predicted_valid = model.predict(features_valid)\n",
    "print(\"F1:\", f1_score(target_valid, predicted_valid))"
   ]
  },
  {
   "cell_type": "markdown",
   "metadata": {},
   "source": [
    "### Способ 2. Увеличение выборки."
   ]
  },
  {
   "cell_type": "code",
   "execution_count": 33,
   "metadata": {},
   "outputs": [],
   "source": [
    "def upsample(features, target, repeat):\n",
    "    features_zeros = features[target == 0]\n",
    "    features_ones = features[target == 1]\n",
    "    target_zeros = target[target == 0]\n",
    "    target_ones = target[target == 1]\n",
    "\n",
    "    features_upsampled = pd.concat([features_zeros] + [features_ones] * repeat)\n",
    "    target_upsampled = pd.concat([target_zeros] + [target_ones] * repeat)\n",
    "    \n",
    "    features_upsampled, target_upsampled = shuffle(\n",
    "        features_upsampled, target_upsampled, random_state=12345)\n",
    "    \n",
    "    return features_upsampled, target_upsampled"
   ]
  },
  {
   "cell_type": "code",
   "execution_count": 34,
   "metadata": {},
   "outputs": [
    {
     "data": {
      "text/plain": [
       "0    4792\n",
       "1    1208\n",
       "Name: Exited, dtype: int64"
      ]
     },
     "execution_count": 34,
     "metadata": {},
     "output_type": "execute_result"
    }
   ],
   "source": [
    "target_train.value_counts()"
   ]
  },
  {
   "cell_type": "code",
   "execution_count": 35,
   "metadata": {},
   "outputs": [],
   "source": [
    "features_upsampled, target_upsampled = upsample(features_train, target_train, 4)"
   ]
  },
  {
   "cell_type": "code",
   "execution_count": 37,
   "metadata": {},
   "outputs": [
    {
     "data": {
      "text/plain": [
       "1    4832\n",
       "0    4792\n",
       "Name: Exited, dtype: int64"
      ]
     },
     "execution_count": 37,
     "metadata": {},
     "output_type": "execute_result"
    }
   ],
   "source": [
    "target_upsampled.value_counts()"
   ]
  },
  {
   "cell_type": "markdown",
   "metadata": {},
   "source": [
    "Рандомный лес"
   ]
  },
  {
   "cell_type": "code",
   "execution_count": 38,
   "metadata": {},
   "outputs": [
    {
     "name": "stdout",
     "output_type": "stream",
     "text": [
      "F1: 0.5849802371541503\n"
     ]
    }
   ],
   "source": [
    "model = RandomForestClassifier(random_state=12345)\n",
    "model.fit(features_upsampled, target_upsampled)\n",
    "predicted_valid = model.predict(features_valid)\n",
    "\n",
    "print(\"F1:\", f1_score(target_valid, predicted_valid))"
   ]
  },
  {
   "cell_type": "markdown",
   "metadata": {},
   "source": [
    "Логистическая регрессия"
   ]
  },
  {
   "cell_type": "code",
   "execution_count": 39,
   "metadata": {},
   "outputs": [
    {
     "name": "stdout",
     "output_type": "stream",
     "text": [
      "F1: 0.08677685950413223\n"
     ]
    }
   ],
   "source": [
    "model = LogisticRegression(random_state=12345)\n",
    "model.fit(features_train, target_train)\n",
    "predicted_valid = model.predict(features_valid)\n",
    "print(\"F1:\", f1_score(target_valid, predicted_valid))"
   ]
  },
  {
   "cell_type": "markdown",
   "metadata": {},
   "source": [
    "### Способ 3. Уменьшение выборки."
   ]
  },
  {
   "cell_type": "code",
   "execution_count": 40,
   "metadata": {},
   "outputs": [],
   "source": [
    "def downsample(features, target, fraction):\n",
    "    features_zeros = features[target == 0]\n",
    "    features_ones = features[target == 1]\n",
    "    target_zeros = target[target == 0]\n",
    "    target_ones = target[target == 1]\n",
    "\n",
    "    features_downsampled = pd.concat(\n",
    "        [features_zeros.sample(frac=fraction, random_state=12345)] + [features_ones])\n",
    "    target_downsampled = pd.concat(\n",
    "        [target_zeros.sample(frac=fraction, random_state=12345)] + [target_ones])\n",
    "    \n",
    "    features_downsampled, target_downsampled = shuffle(\n",
    "        features_downsampled, target_downsampled, random_state=12345)\n",
    "    \n",
    "    return features_downsampled, target_downsampled"
   ]
  },
  {
   "cell_type": "code",
   "execution_count": 41,
   "metadata": {},
   "outputs": [
    {
     "data": {
      "text/plain": [
       "0    4792\n",
       "1    1208\n",
       "Name: Exited, dtype: int64"
      ]
     },
     "execution_count": 41,
     "metadata": {},
     "output_type": "execute_result"
    }
   ],
   "source": [
    "target_train.value_counts()"
   ]
  },
  {
   "cell_type": "code",
   "execution_count": 42,
   "metadata": {},
   "outputs": [],
   "source": [
    "features_downsampled, target_downsampled = downsample(features_train, target_train, 0.3)"
   ]
  },
  {
   "cell_type": "code",
   "execution_count": 43,
   "metadata": {},
   "outputs": [
    {
     "data": {
      "text/plain": [
       "0    1438\n",
       "1    1208\n",
       "Name: Exited, dtype: int64"
      ]
     },
     "execution_count": 43,
     "metadata": {},
     "output_type": "execute_result"
    }
   ],
   "source": [
    "target_downsampled.value_counts()"
   ]
  },
  {
   "cell_type": "markdown",
   "metadata": {},
   "source": [
    "Рандомный лес"
   ]
  },
  {
   "cell_type": "code",
   "execution_count": 44,
   "metadata": {},
   "outputs": [
    {
     "name": "stdout",
     "output_type": "stream",
     "text": [
      "F1: 0.6140177690029616\n"
     ]
    }
   ],
   "source": [
    "model = RandomForestClassifier(random_state=12345)\n",
    "model.fit(features_downsampled, target_downsampled)\n",
    "predicted_valid = model.predict(features_valid)\n",
    "print(\"F1:\", f1_score(target_valid, predicted_valid))"
   ]
  },
  {
   "cell_type": "markdown",
   "metadata": {},
   "source": [
    "Логистическая регрессия"
   ]
  },
  {
   "cell_type": "code",
   "execution_count": 45,
   "metadata": {},
   "outputs": [
    {
     "name": "stdout",
     "output_type": "stream",
     "text": [
      "F1: 0.08677685950413223\n"
     ]
    }
   ],
   "source": [
    "model = LogisticRegression(random_state=12345)\n",
    "model.fit(features_train, target_train)\n",
    "predicted_valid = model.predict(features_valid)\n",
    "print(\"F1:\", f1_score(target_valid, predicted_valid))"
   ]
  },
  {
   "cell_type": "markdown",
   "metadata": {},
   "source": [
    "## Тестирование модели"
   ]
  },
  {
   "cell_type": "code",
   "execution_count": 46,
   "metadata": {},
   "outputs": [],
   "source": [
    "features = pd.concat([features_train, features_valid])\n",
    "target = pd.concat([target_train, target_valid])"
   ]
  },
  {
   "cell_type": "code",
   "execution_count": 47,
   "metadata": {},
   "outputs": [],
   "source": [
    "def downsample(features, target, fraction):\n",
    "    features_zeros = features[target == 0]\n",
    "    features_ones = features[target == 1]\n",
    "    target_zeros = target[target == 0]\n",
    "    target_ones = target[target == 1]\n",
    "\n",
    "    features_downsampled = pd.concat(\n",
    "        [features_zeros.sample(frac=fraction, random_state=12345)] + [features_ones])\n",
    "    target_downsampled = pd.concat(\n",
    "        [target_zeros.sample(frac=fraction, random_state=12345)] + [target_ones])\n",
    "    \n",
    "    features_downsampled, target_downsampled = shuffle(\n",
    "        features_downsampled, target_downsampled, random_state=12345)\n",
    "    \n",
    "    return features_downsampled, target_downsampled"
   ]
  },
  {
   "cell_type": "code",
   "execution_count": 48,
   "metadata": {},
   "outputs": [],
   "source": [
    "features_downsampled, target_downsampled = downsample(features_train, target_train, 0.3)"
   ]
  },
  {
   "cell_type": "code",
   "execution_count": 49,
   "metadata": {},
   "outputs": [],
   "source": [
    "params_rf = {\"n_estimators\" : [10, 50, 100, 200], \n",
    "          \"criterion\" : ['gini', 'entropy', 'log_loss'], \n",
    "          'max_features': ['auto', 'sqrt', 'log2'],\n",
    "          'max_depth' : [1,10,30,50,100]\n",
    "         }"
   ]
  },
  {
   "cell_type": "code",
   "execution_count": 50,
   "metadata": {},
   "outputs": [],
   "source": [
    "gs_rf = GridSearchCV(estimator = model_rf,\n",
    "                  param_grid = params_rf,\n",
    "                  cv = 3,\n",
    "                  verbose = 4)"
   ]
  },
  {
   "cell_type": "code",
   "execution_count": 51,
   "metadata": {
    "scrolled": true
   },
   "outputs": [
    {
     "name": "stdout",
     "output_type": "stream",
     "text": [
      "Fitting 3 folds for each of 180 candidates, totalling 540 fits\n",
      "[CV 1/3] END criterion=gini, max_depth=1, max_features=auto, n_estimators=10; total time=   0.0s\n",
      "[CV 2/3] END criterion=gini, max_depth=1, max_features=auto, n_estimators=10; total time=   0.0s\n",
      "[CV 3/3] END criterion=gini, max_depth=1, max_features=auto, n_estimators=10; total time=   0.0s\n",
      "[CV 1/3] END criterion=gini, max_depth=1, max_features=auto, n_estimators=50; total time=   0.1s\n",
      "[CV 2/3] END criterion=gini, max_depth=1, max_features=auto, n_estimators=50; total time=   0.1s\n",
      "[CV 3/3] END criterion=gini, max_depth=1, max_features=auto, n_estimators=50; total time=   0.1s\n",
      "[CV 1/3] END criterion=gini, max_depth=1, max_features=auto, n_estimators=100; total time=   0.2s\n",
      "[CV 2/3] END criterion=gini, max_depth=1, max_features=auto, n_estimators=100; total time=   0.2s\n",
      "[CV 3/3] END criterion=gini, max_depth=1, max_features=auto, n_estimators=100; total time=   0.2s\n",
      "[CV 1/3] END criterion=gini, max_depth=1, max_features=auto, n_estimators=200; total time=   0.5s\n",
      "[CV 2/3] END criterion=gini, max_depth=1, max_features=auto, n_estimators=200; total time=   0.5s\n",
      "[CV 3/3] END criterion=gini, max_depth=1, max_features=auto, n_estimators=200; total time=   0.5s\n",
      "[CV 1/3] END criterion=gini, max_depth=1, max_features=sqrt, n_estimators=10; total time=   0.0s\n",
      "[CV 2/3] END criterion=gini, max_depth=1, max_features=sqrt, n_estimators=10; total time=   0.0s\n",
      "[CV 3/3] END criterion=gini, max_depth=1, max_features=sqrt, n_estimators=10; total time=   0.0s\n",
      "[CV 1/3] END criterion=gini, max_depth=1, max_features=sqrt, n_estimators=50; total time=   0.1s\n",
      "[CV 2/3] END criterion=gini, max_depth=1, max_features=sqrt, n_estimators=50; total time=   0.1s\n",
      "[CV 3/3] END criterion=gini, max_depth=1, max_features=sqrt, n_estimators=50; total time=   0.1s\n",
      "[CV 1/3] END criterion=gini, max_depth=1, max_features=sqrt, n_estimators=100; total time=   0.3s\n",
      "[CV 2/3] END criterion=gini, max_depth=1, max_features=sqrt, n_estimators=100; total time=   0.3s\n",
      "[CV 3/3] END criterion=gini, max_depth=1, max_features=sqrt, n_estimators=100; total time=   0.3s\n",
      "[CV 1/3] END criterion=gini, max_depth=1, max_features=sqrt, n_estimators=200; total time=   0.5s\n",
      "[CV 2/3] END criterion=gini, max_depth=1, max_features=sqrt, n_estimators=200; total time=   0.5s\n",
      "[CV 3/3] END criterion=gini, max_depth=1, max_features=sqrt, n_estimators=200; total time=   0.5s\n",
      "[CV 1/3] END criterion=gini, max_depth=1, max_features=log2, n_estimators=10; total time=   0.0s\n",
      "[CV 2/3] END criterion=gini, max_depth=1, max_features=log2, n_estimators=10; total time=   0.0s\n",
      "[CV 3/3] END criterion=gini, max_depth=1, max_features=log2, n_estimators=10; total time=   0.0s\n",
      "[CV 1/3] END criterion=gini, max_depth=1, max_features=log2, n_estimators=50; total time=   0.1s\n",
      "[CV 2/3] END criterion=gini, max_depth=1, max_features=log2, n_estimators=50; total time=   0.1s\n",
      "[CV 3/3] END criterion=gini, max_depth=1, max_features=log2, n_estimators=50; total time=   0.1s\n",
      "[CV 1/3] END criterion=gini, max_depth=1, max_features=log2, n_estimators=100; total time=   0.3s\n",
      "[CV 2/3] END criterion=gini, max_depth=1, max_features=log2, n_estimators=100; total time=   0.2s\n",
      "[CV 3/3] END criterion=gini, max_depth=1, max_features=log2, n_estimators=100; total time=   0.2s\n",
      "[CV 1/3] END criterion=gini, max_depth=1, max_features=log2, n_estimators=200; total time=   0.5s\n",
      "[CV 2/3] END criterion=gini, max_depth=1, max_features=log2, n_estimators=200; total time=   0.5s\n",
      "[CV 3/3] END criterion=gini, max_depth=1, max_features=log2, n_estimators=200; total time=   0.5s\n",
      "[CV 1/3] END criterion=gini, max_depth=10, max_features=auto, n_estimators=10; total time=   0.1s\n",
      "[CV 2/3] END criterion=gini, max_depth=10, max_features=auto, n_estimators=10; total time=   0.1s\n",
      "[CV 3/3] END criterion=gini, max_depth=10, max_features=auto, n_estimators=10; total time=   0.1s\n",
      "[CV 1/3] END criterion=gini, max_depth=10, max_features=auto, n_estimators=50; total time=   0.4s\n",
      "[CV 2/3] END criterion=gini, max_depth=10, max_features=auto, n_estimators=50; total time=   0.3s\n",
      "[CV 3/3] END criterion=gini, max_depth=10, max_features=auto, n_estimators=50; total time=   0.3s\n",
      "[CV 1/3] END criterion=gini, max_depth=10, max_features=auto, n_estimators=100; total time=   0.6s\n",
      "[CV 2/3] END criterion=gini, max_depth=10, max_features=auto, n_estimators=100; total time=   0.6s\n",
      "[CV 3/3] END criterion=gini, max_depth=10, max_features=auto, n_estimators=100; total time=   0.6s\n",
      "[CV 1/3] END criterion=gini, max_depth=10, max_features=auto, n_estimators=200; total time=   1.2s\n",
      "[CV 2/3] END criterion=gini, max_depth=10, max_features=auto, n_estimators=200; total time=   1.2s\n",
      "[CV 3/3] END criterion=gini, max_depth=10, max_features=auto, n_estimators=200; total time=   1.3s\n",
      "[CV 1/3] END criterion=gini, max_depth=10, max_features=sqrt, n_estimators=10; total time=   0.1s\n",
      "[CV 2/3] END criterion=gini, max_depth=10, max_features=sqrt, n_estimators=10; total time=   0.1s\n",
      "[CV 3/3] END criterion=gini, max_depth=10, max_features=sqrt, n_estimators=10; total time=   0.1s\n",
      "[CV 1/3] END criterion=gini, max_depth=10, max_features=sqrt, n_estimators=50; total time=   0.3s\n",
      "[CV 2/3] END criterion=gini, max_depth=10, max_features=sqrt, n_estimators=50; total time=   0.3s\n",
      "[CV 3/3] END criterion=gini, max_depth=10, max_features=sqrt, n_estimators=50; total time=   0.3s\n",
      "[CV 1/3] END criterion=gini, max_depth=10, max_features=sqrt, n_estimators=100; total time=   0.6s\n",
      "[CV 2/3] END criterion=gini, max_depth=10, max_features=sqrt, n_estimators=100; total time=   0.6s\n",
      "[CV 3/3] END criterion=gini, max_depth=10, max_features=sqrt, n_estimators=100; total time=   0.6s\n",
      "[CV 1/3] END criterion=gini, max_depth=10, max_features=sqrt, n_estimators=200; total time=   1.2s\n",
      "[CV 2/3] END criterion=gini, max_depth=10, max_features=sqrt, n_estimators=200; total time=   1.2s\n",
      "[CV 3/3] END criterion=gini, max_depth=10, max_features=sqrt, n_estimators=200; total time=   1.2s\n",
      "[CV 1/3] END criterion=gini, max_depth=10, max_features=log2, n_estimators=10; total time=   0.1s\n",
      "[CV 2/3] END criterion=gini, max_depth=10, max_features=log2, n_estimators=10; total time=   0.1s\n",
      "[CV 3/3] END criterion=gini, max_depth=10, max_features=log2, n_estimators=10; total time=   0.1s\n",
      "[CV 1/3] END criterion=gini, max_depth=10, max_features=log2, n_estimators=50; total time=   0.3s\n",
      "[CV 2/3] END criterion=gini, max_depth=10, max_features=log2, n_estimators=50; total time=   0.3s\n",
      "[CV 3/3] END criterion=gini, max_depth=10, max_features=log2, n_estimators=50; total time=   0.3s\n",
      "[CV 1/3] END criterion=gini, max_depth=10, max_features=log2, n_estimators=100; total time=   0.6s\n",
      "[CV 2/3] END criterion=gini, max_depth=10, max_features=log2, n_estimators=100; total time=   0.6s\n",
      "[CV 3/3] END criterion=gini, max_depth=10, max_features=log2, n_estimators=100; total time=   0.6s\n",
      "[CV 1/3] END criterion=gini, max_depth=10, max_features=log2, n_estimators=200; total time=   1.2s\n",
      "[CV 2/3] END criterion=gini, max_depth=10, max_features=log2, n_estimators=200; total time=   1.2s\n",
      "[CV 3/3] END criterion=gini, max_depth=10, max_features=log2, n_estimators=200; total time=   1.3s\n",
      "[CV 1/3] END criterion=gini, max_depth=30, max_features=auto, n_estimators=10; total time=   0.1s\n",
      "[CV 2/3] END criterion=gini, max_depth=30, max_features=auto, n_estimators=10; total time=   0.1s\n",
      "[CV 3/3] END criterion=gini, max_depth=30, max_features=auto, n_estimators=10; total time=   0.1s\n",
      "[CV 1/3] END criterion=gini, max_depth=30, max_features=auto, n_estimators=50; total time=   0.4s\n",
      "[CV 2/3] END criterion=gini, max_depth=30, max_features=auto, n_estimators=50; total time=   0.4s\n",
      "[CV 3/3] END criterion=gini, max_depth=30, max_features=auto, n_estimators=50; total time=   0.4s\n",
      "[CV 1/3] END criterion=gini, max_depth=30, max_features=auto, n_estimators=100; total time=   0.7s\n",
      "[CV 2/3] END criterion=gini, max_depth=30, max_features=auto, n_estimators=100; total time=   0.7s\n",
      "[CV 3/3] END criterion=gini, max_depth=30, max_features=auto, n_estimators=100; total time=   0.7s\n",
      "[CV 1/3] END criterion=gini, max_depth=30, max_features=auto, n_estimators=200; total time=   1.5s\n",
      "[CV 2/3] END criterion=gini, max_depth=30, max_features=auto, n_estimators=200; total time=   1.5s\n",
      "[CV 3/3] END criterion=gini, max_depth=30, max_features=auto, n_estimators=200; total time=   1.5s\n",
      "[CV 1/3] END criterion=gini, max_depth=30, max_features=sqrt, n_estimators=10; total time=   0.1s\n",
      "[CV 2/3] END criterion=gini, max_depth=30, max_features=sqrt, n_estimators=10; total time=   0.1s\n",
      "[CV 3/3] END criterion=gini, max_depth=30, max_features=sqrt, n_estimators=10; total time=   0.1s\n",
      "[CV 1/3] END criterion=gini, max_depth=30, max_features=sqrt, n_estimators=50; total time=   0.4s\n",
      "[CV 2/3] END criterion=gini, max_depth=30, max_features=sqrt, n_estimators=50; total time=   0.4s\n",
      "[CV 3/3] END criterion=gini, max_depth=30, max_features=sqrt, n_estimators=50; total time=   0.4s\n",
      "[CV 1/3] END criterion=gini, max_depth=30, max_features=sqrt, n_estimators=100; total time=   0.8s\n",
      "[CV 2/3] END criterion=gini, max_depth=30, max_features=sqrt, n_estimators=100; total time=   0.7s\n",
      "[CV 3/3] END criterion=gini, max_depth=30, max_features=sqrt, n_estimators=100; total time=   0.8s\n",
      "[CV 1/3] END criterion=gini, max_depth=30, max_features=sqrt, n_estimators=200; total time=   1.6s\n",
      "[CV 2/3] END criterion=gini, max_depth=30, max_features=sqrt, n_estimators=200; total time=   1.5s\n",
      "[CV 3/3] END criterion=gini, max_depth=30, max_features=sqrt, n_estimators=200; total time=   1.5s\n",
      "[CV 1/3] END criterion=gini, max_depth=30, max_features=log2, n_estimators=10; total time=   0.1s\n",
      "[CV 2/3] END criterion=gini, max_depth=30, max_features=log2, n_estimators=10; total time=   0.1s\n",
      "[CV 3/3] END criterion=gini, max_depth=30, max_features=log2, n_estimators=10; total time=   0.1s\n",
      "[CV 1/3] END criterion=gini, max_depth=30, max_features=log2, n_estimators=50; total time=   0.4s\n",
      "[CV 2/3] END criterion=gini, max_depth=30, max_features=log2, n_estimators=50; total time=   0.4s\n",
      "[CV 3/3] END criterion=gini, max_depth=30, max_features=log2, n_estimators=50; total time=   0.4s\n",
      "[CV 1/3] END criterion=gini, max_depth=30, max_features=log2, n_estimators=100; total time=   0.8s\n",
      "[CV 2/3] END criterion=gini, max_depth=30, max_features=log2, n_estimators=100; total time=   0.7s\n",
      "[CV 3/3] END criterion=gini, max_depth=30, max_features=log2, n_estimators=100; total time=   0.8s\n",
      "[CV 1/3] END criterion=gini, max_depth=30, max_features=log2, n_estimators=200; total time=   1.5s\n",
      "[CV 2/3] END criterion=gini, max_depth=30, max_features=log2, n_estimators=200; total time=   1.6s\n",
      "[CV 3/3] END criterion=gini, max_depth=30, max_features=log2, n_estimators=200; total time=   1.5s\n",
      "[CV 1/3] END criterion=gini, max_depth=50, max_features=auto, n_estimators=10; total time=   0.1s\n",
      "[CV 2/3] END criterion=gini, max_depth=50, max_features=auto, n_estimators=10; total time=   0.1s\n",
      "[CV 3/3] END criterion=gini, max_depth=50, max_features=auto, n_estimators=10; total time=   0.1s\n",
      "[CV 1/3] END criterion=gini, max_depth=50, max_features=auto, n_estimators=50; total time=   0.4s\n",
      "[CV 2/3] END criterion=gini, max_depth=50, max_features=auto, n_estimators=50; total time=   0.4s\n",
      "[CV 3/3] END criterion=gini, max_depth=50, max_features=auto, n_estimators=50; total time=   0.4s\n",
      "[CV 1/3] END criterion=gini, max_depth=50, max_features=auto, n_estimators=100; total time=   0.7s\n",
      "[CV 2/3] END criterion=gini, max_depth=50, max_features=auto, n_estimators=100; total time=   0.7s\n",
      "[CV 3/3] END criterion=gini, max_depth=50, max_features=auto, n_estimators=100; total time=   0.7s\n",
      "[CV 1/3] END criterion=gini, max_depth=50, max_features=auto, n_estimators=200; total time=   1.5s\n",
      "[CV 2/3] END criterion=gini, max_depth=50, max_features=auto, n_estimators=200; total time=   1.5s\n",
      "[CV 3/3] END criterion=gini, max_depth=50, max_features=auto, n_estimators=200; total time=   1.5s\n",
      "[CV 1/3] END criterion=gini, max_depth=50, max_features=sqrt, n_estimators=10; total time=   0.1s\n",
      "[CV 2/3] END criterion=gini, max_depth=50, max_features=sqrt, n_estimators=10; total time=   0.1s\n",
      "[CV 3/3] END criterion=gini, max_depth=50, max_features=sqrt, n_estimators=10; total time=   0.1s\n",
      "[CV 1/3] END criterion=gini, max_depth=50, max_features=sqrt, n_estimators=50; total time=   0.4s\n",
      "[CV 2/3] END criterion=gini, max_depth=50, max_features=sqrt, n_estimators=50; total time=   0.4s\n",
      "[CV 3/3] END criterion=gini, max_depth=50, max_features=sqrt, n_estimators=50; total time=   0.4s\n",
      "[CV 1/3] END criterion=gini, max_depth=50, max_features=sqrt, n_estimators=100; total time=   0.7s\n",
      "[CV 2/3] END criterion=gini, max_depth=50, max_features=sqrt, n_estimators=100; total time=   0.7s\n",
      "[CV 3/3] END criterion=gini, max_depth=50, max_features=sqrt, n_estimators=100; total time=   0.7s\n",
      "[CV 1/3] END criterion=gini, max_depth=50, max_features=sqrt, n_estimators=200; total time=   1.4s\n",
      "[CV 2/3] END criterion=gini, max_depth=50, max_features=sqrt, n_estimators=200; total time=   1.5s\n",
      "[CV 3/3] END criterion=gini, max_depth=50, max_features=sqrt, n_estimators=200; total time=   1.5s\n",
      "[CV 1/3] END criterion=gini, max_depth=50, max_features=log2, n_estimators=10; total time=   0.1s\n",
      "[CV 2/3] END criterion=gini, max_depth=50, max_features=log2, n_estimators=10; total time=   0.1s\n",
      "[CV 3/3] END criterion=gini, max_depth=50, max_features=log2, n_estimators=10; total time=   0.1s\n",
      "[CV 1/3] END criterion=gini, max_depth=50, max_features=log2, n_estimators=50; total time=   0.4s\n",
      "[CV 2/3] END criterion=gini, max_depth=50, max_features=log2, n_estimators=50; total time=   0.4s\n",
      "[CV 3/3] END criterion=gini, max_depth=50, max_features=log2, n_estimators=50; total time=   0.4s\n",
      "[CV 1/3] END criterion=gini, max_depth=50, max_features=log2, n_estimators=100; total time=   0.7s\n",
      "[CV 2/3] END criterion=gini, max_depth=50, max_features=log2, n_estimators=100; total time=   0.7s\n",
      "[CV 3/3] END criterion=gini, max_depth=50, max_features=log2, n_estimators=100; total time=   0.7s\n",
      "[CV 1/3] END criterion=gini, max_depth=50, max_features=log2, n_estimators=200; total time=   1.5s\n",
      "[CV 2/3] END criterion=gini, max_depth=50, max_features=log2, n_estimators=200; total time=   1.5s\n",
      "[CV 3/3] END criterion=gini, max_depth=50, max_features=log2, n_estimators=200; total time=   1.5s\n",
      "[CV 1/3] END criterion=gini, max_depth=100, max_features=auto, n_estimators=10; total time=   0.1s\n",
      "[CV 2/3] END criterion=gini, max_depth=100, max_features=auto, n_estimators=10; total time=   0.1s\n",
      "[CV 3/3] END criterion=gini, max_depth=100, max_features=auto, n_estimators=10; total time=   0.1s\n",
      "[CV 1/3] END criterion=gini, max_depth=100, max_features=auto, n_estimators=50; total time=   0.4s\n",
      "[CV 2/3] END criterion=gini, max_depth=100, max_features=auto, n_estimators=50; total time=   0.4s\n",
      "[CV 3/3] END criterion=gini, max_depth=100, max_features=auto, n_estimators=50; total time=   0.4s\n",
      "[CV 1/3] END criterion=gini, max_depth=100, max_features=auto, n_estimators=100; total time=   0.7s\n",
      "[CV 2/3] END criterion=gini, max_depth=100, max_features=auto, n_estimators=100; total time=   0.7s\n",
      "[CV 3/3] END criterion=gini, max_depth=100, max_features=auto, n_estimators=100; total time=   0.7s\n",
      "[CV 1/3] END criterion=gini, max_depth=100, max_features=auto, n_estimators=200; total time=   1.5s\n",
      "[CV 2/3] END criterion=gini, max_depth=100, max_features=auto, n_estimators=200; total time=   1.4s\n",
      "[CV 3/3] END criterion=gini, max_depth=100, max_features=auto, n_estimators=200; total time=   1.4s\n",
      "[CV 1/3] END criterion=gini, max_depth=100, max_features=sqrt, n_estimators=10; total time=   0.1s\n",
      "[CV 2/3] END criterion=gini, max_depth=100, max_features=sqrt, n_estimators=10; total time=   0.1s\n",
      "[CV 3/3] END criterion=gini, max_depth=100, max_features=sqrt, n_estimators=10; total time=   0.1s\n",
      "[CV 1/3] END criterion=gini, max_depth=100, max_features=sqrt, n_estimators=50; total time=   0.4s\n",
      "[CV 2/3] END criterion=gini, max_depth=100, max_features=sqrt, n_estimators=50; total time=   0.4s\n",
      "[CV 3/3] END criterion=gini, max_depth=100, max_features=sqrt, n_estimators=50; total time=   0.4s\n",
      "[CV 1/3] END criterion=gini, max_depth=100, max_features=sqrt, n_estimators=100; total time=   0.7s\n",
      "[CV 2/3] END criterion=gini, max_depth=100, max_features=sqrt, n_estimators=100; total time=   0.7s\n",
      "[CV 3/3] END criterion=gini, max_depth=100, max_features=sqrt, n_estimators=100; total time=   0.8s\n",
      "[CV 1/3] END criterion=gini, max_depth=100, max_features=sqrt, n_estimators=200; total time=   1.4s\n",
      "[CV 2/3] END criterion=gini, max_depth=100, max_features=sqrt, n_estimators=200; total time=   1.5s\n",
      "[CV 3/3] END criterion=gini, max_depth=100, max_features=sqrt, n_estimators=200; total time=   1.5s\n",
      "[CV 1/3] END criterion=gini, max_depth=100, max_features=log2, n_estimators=10; total time=   0.1s\n",
      "[CV 2/3] END criterion=gini, max_depth=100, max_features=log2, n_estimators=10; total time=   0.1s\n",
      "[CV 3/3] END criterion=gini, max_depth=100, max_features=log2, n_estimators=10; total time=   0.1s\n",
      "[CV 1/3] END criterion=gini, max_depth=100, max_features=log2, n_estimators=50; total time=   0.4s\n",
      "[CV 2/3] END criterion=gini, max_depth=100, max_features=log2, n_estimators=50; total time=   0.4s\n",
      "[CV 3/3] END criterion=gini, max_depth=100, max_features=log2, n_estimators=50; total time=   0.4s\n",
      "[CV 1/3] END criterion=gini, max_depth=100, max_features=log2, n_estimators=100; total time=   0.7s\n",
      "[CV 2/3] END criterion=gini, max_depth=100, max_features=log2, n_estimators=100; total time=   0.7s\n",
      "[CV 3/3] END criterion=gini, max_depth=100, max_features=log2, n_estimators=100; total time=   0.7s\n",
      "[CV 1/3] END criterion=gini, max_depth=100, max_features=log2, n_estimators=200; total time=   1.5s\n",
      "[CV 2/3] END criterion=gini, max_depth=100, max_features=log2, n_estimators=200; total time=   1.5s\n",
      "[CV 3/3] END criterion=gini, max_depth=100, max_features=log2, n_estimators=200; total time=   1.5s\n",
      "[CV 1/3] END criterion=entropy, max_depth=1, max_features=auto, n_estimators=10; total time=   0.0s\n",
      "[CV 2/3] END criterion=entropy, max_depth=1, max_features=auto, n_estimators=10; total time=   0.0s\n",
      "[CV 3/3] END criterion=entropy, max_depth=1, max_features=auto, n_estimators=10; total time=   0.0s\n",
      "[CV 1/3] END criterion=entropy, max_depth=1, max_features=auto, n_estimators=50; total time=   0.1s\n",
      "[CV 2/3] END criterion=entropy, max_depth=1, max_features=auto, n_estimators=50; total time=   0.1s\n",
      "[CV 3/3] END criterion=entropy, max_depth=1, max_features=auto, n_estimators=50; total time=   0.1s\n",
      "[CV 1/3] END criterion=entropy, max_depth=1, max_features=auto, n_estimators=100; total time=   0.3s\n",
      "[CV 2/3] END criterion=entropy, max_depth=1, max_features=auto, n_estimators=100; total time=   0.3s\n",
      "[CV 3/3] END criterion=entropy, max_depth=1, max_features=auto, n_estimators=100; total time=   0.2s\n",
      "[CV 1/3] END criterion=entropy, max_depth=1, max_features=auto, n_estimators=200; total time=   0.5s\n",
      "[CV 2/3] END criterion=entropy, max_depth=1, max_features=auto, n_estimators=200; total time=   0.5s\n",
      "[CV 3/3] END criterion=entropy, max_depth=1, max_features=auto, n_estimators=200; total time=   0.5s\n",
      "[CV 1/3] END criterion=entropy, max_depth=1, max_features=sqrt, n_estimators=10; total time=   0.0s\n",
      "[CV 2/3] END criterion=entropy, max_depth=1, max_features=sqrt, n_estimators=10; total time=   0.0s\n",
      "[CV 3/3] END criterion=entropy, max_depth=1, max_features=sqrt, n_estimators=10; total time=   0.0s\n",
      "[CV 1/3] END criterion=entropy, max_depth=1, max_features=sqrt, n_estimators=50; total time=   0.1s\n",
      "[CV 2/3] END criterion=entropy, max_depth=1, max_features=sqrt, n_estimators=50; total time=   0.1s\n",
      "[CV 3/3] END criterion=entropy, max_depth=1, max_features=sqrt, n_estimators=50; total time=   0.1s\n",
      "[CV 1/3] END criterion=entropy, max_depth=1, max_features=sqrt, n_estimators=100; total time=   0.2s\n",
      "[CV 2/3] END criterion=entropy, max_depth=1, max_features=sqrt, n_estimators=100; total time=   0.3s\n",
      "[CV 3/3] END criterion=entropy, max_depth=1, max_features=sqrt, n_estimators=100; total time=   0.2s\n",
      "[CV 1/3] END criterion=entropy, max_depth=1, max_features=sqrt, n_estimators=200; total time=   0.5s\n",
      "[CV 2/3] END criterion=entropy, max_depth=1, max_features=sqrt, n_estimators=200; total time=   0.5s\n",
      "[CV 3/3] END criterion=entropy, max_depth=1, max_features=sqrt, n_estimators=200; total time=   0.5s\n",
      "[CV 1/3] END criterion=entropy, max_depth=1, max_features=log2, n_estimators=10; total time=   0.0s\n",
      "[CV 2/3] END criterion=entropy, max_depth=1, max_features=log2, n_estimators=10; total time=   0.0s\n",
      "[CV 3/3] END criterion=entropy, max_depth=1, max_features=log2, n_estimators=10; total time=   0.0s\n",
      "[CV 1/3] END criterion=entropy, max_depth=1, max_features=log2, n_estimators=50; total time=   0.1s\n",
      "[CV 2/3] END criterion=entropy, max_depth=1, max_features=log2, n_estimators=50; total time=   0.1s\n",
      "[CV 3/3] END criterion=entropy, max_depth=1, max_features=log2, n_estimators=50; total time=   0.1s\n",
      "[CV 1/3] END criterion=entropy, max_depth=1, max_features=log2, n_estimators=100; total time=   0.2s\n",
      "[CV 2/3] END criterion=entropy, max_depth=1, max_features=log2, n_estimators=100; total time=   0.2s\n",
      "[CV 3/3] END criterion=entropy, max_depth=1, max_features=log2, n_estimators=100; total time=   0.3s\n",
      "[CV 1/3] END criterion=entropy, max_depth=1, max_features=log2, n_estimators=200; total time=   0.5s\n",
      "[CV 2/3] END criterion=entropy, max_depth=1, max_features=log2, n_estimators=200; total time=   0.5s\n",
      "[CV 3/3] END criterion=entropy, max_depth=1, max_features=log2, n_estimators=200; total time=   0.5s\n",
      "[CV 1/3] END criterion=entropy, max_depth=10, max_features=auto, n_estimators=10; total time=   0.1s\n",
      "[CV 2/3] END criterion=entropy, max_depth=10, max_features=auto, n_estimators=10; total time=   0.1s\n",
      "[CV 3/3] END criterion=entropy, max_depth=10, max_features=auto, n_estimators=10; total time=   0.1s\n",
      "[CV 1/3] END criterion=entropy, max_depth=10, max_features=auto, n_estimators=50; total time=   0.3s\n",
      "[CV 2/3] END criterion=entropy, max_depth=10, max_features=auto, n_estimators=50; total time=   0.3s\n",
      "[CV 3/3] END criterion=entropy, max_depth=10, max_features=auto, n_estimators=50; total time=   0.3s\n",
      "[CV 1/3] END criterion=entropy, max_depth=10, max_features=auto, n_estimators=100; total time=   0.7s\n",
      "[CV 2/3] END criterion=entropy, max_depth=10, max_features=auto, n_estimators=100; total time=   0.7s\n",
      "[CV 3/3] END criterion=entropy, max_depth=10, max_features=auto, n_estimators=100; total time=   0.7s\n",
      "[CV 1/3] END criterion=entropy, max_depth=10, max_features=auto, n_estimators=200; total time=   1.3s\n",
      "[CV 2/3] END criterion=entropy, max_depth=10, max_features=auto, n_estimators=200; total time=   1.3s\n",
      "[CV 3/3] END criterion=entropy, max_depth=10, max_features=auto, n_estimators=200; total time=   1.4s\n",
      "[CV 1/3] END criterion=entropy, max_depth=10, max_features=sqrt, n_estimators=10; total time=   0.1s\n",
      "[CV 2/3] END criterion=entropy, max_depth=10, max_features=sqrt, n_estimators=10; total time=   0.1s\n",
      "[CV 3/3] END criterion=entropy, max_depth=10, max_features=sqrt, n_estimators=10; total time=   0.1s\n",
      "[CV 1/3] END criterion=entropy, max_depth=10, max_features=sqrt, n_estimators=50; total time=   0.3s\n",
      "[CV 2/3] END criterion=entropy, max_depth=10, max_features=sqrt, n_estimators=50; total time=   0.3s\n",
      "[CV 3/3] END criterion=entropy, max_depth=10, max_features=sqrt, n_estimators=50; total time=   0.3s\n",
      "[CV 1/3] END criterion=entropy, max_depth=10, max_features=sqrt, n_estimators=100; total time=   0.7s\n",
      "[CV 2/3] END criterion=entropy, max_depth=10, max_features=sqrt, n_estimators=100; total time=   0.7s\n",
      "[CV 3/3] END criterion=entropy, max_depth=10, max_features=sqrt, n_estimators=100; total time=   0.7s\n",
      "[CV 1/3] END criterion=entropy, max_depth=10, max_features=sqrt, n_estimators=200; total time=   1.3s\n",
      "[CV 2/3] END criterion=entropy, max_depth=10, max_features=sqrt, n_estimators=200; total time=   1.4s\n",
      "[CV 3/3] END criterion=entropy, max_depth=10, max_features=sqrt, n_estimators=200; total time=   1.4s\n",
      "[CV 1/3] END criterion=entropy, max_depth=10, max_features=log2, n_estimators=10; total time=   0.1s\n",
      "[CV 2/3] END criterion=entropy, max_depth=10, max_features=log2, n_estimators=10; total time=   0.1s\n",
      "[CV 3/3] END criterion=entropy, max_depth=10, max_features=log2, n_estimators=10; total time=   0.1s\n",
      "[CV 1/3] END criterion=entropy, max_depth=10, max_features=log2, n_estimators=50; total time=   0.3s\n",
      "[CV 2/3] END criterion=entropy, max_depth=10, max_features=log2, n_estimators=50; total time=   0.3s\n",
      "[CV 3/3] END criterion=entropy, max_depth=10, max_features=log2, n_estimators=50; total time=   0.4s\n",
      "[CV 1/3] END criterion=entropy, max_depth=10, max_features=log2, n_estimators=100; total time=   0.7s\n",
      "[CV 2/3] END criterion=entropy, max_depth=10, max_features=log2, n_estimators=100; total time=   0.7s\n",
      "[CV 3/3] END criterion=entropy, max_depth=10, max_features=log2, n_estimators=100; total time=   0.7s\n",
      "[CV 1/3] END criterion=entropy, max_depth=10, max_features=log2, n_estimators=200; total time=   1.4s\n",
      "[CV 2/3] END criterion=entropy, max_depth=10, max_features=log2, n_estimators=200; total time=   1.4s\n",
      "[CV 3/3] END criterion=entropy, max_depth=10, max_features=log2, n_estimators=200; total time=   1.4s\n",
      "[CV 1/3] END criterion=entropy, max_depth=30, max_features=auto, n_estimators=10; total time=   0.1s\n",
      "[CV 2/3] END criterion=entropy, max_depth=30, max_features=auto, n_estimators=10; total time=   0.1s\n",
      "[CV 3/3] END criterion=entropy, max_depth=30, max_features=auto, n_estimators=10; total time=   0.1s\n",
      "[CV 1/3] END criterion=entropy, max_depth=30, max_features=auto, n_estimators=50; total time=   0.4s\n",
      "[CV 2/3] END criterion=entropy, max_depth=30, max_features=auto, n_estimators=50; total time=   0.4s\n",
      "[CV 3/3] END criterion=entropy, max_depth=30, max_features=auto, n_estimators=50; total time=   0.4s\n",
      "[CV 1/3] END criterion=entropy, max_depth=30, max_features=auto, n_estimators=100; total time=   0.9s\n",
      "[CV 2/3] END criterion=entropy, max_depth=30, max_features=auto, n_estimators=100; total time=   0.9s\n",
      "[CV 3/3] END criterion=entropy, max_depth=30, max_features=auto, n_estimators=100; total time=   0.9s\n",
      "[CV 1/3] END criterion=entropy, max_depth=30, max_features=auto, n_estimators=200; total time=   1.7s\n",
      "[CV 2/3] END criterion=entropy, max_depth=30, max_features=auto, n_estimators=200; total time=   1.7s\n",
      "[CV 3/3] END criterion=entropy, max_depth=30, max_features=auto, n_estimators=200; total time=   1.7s\n",
      "[CV 1/3] END criterion=entropy, max_depth=30, max_features=sqrt, n_estimators=10; total time=   0.1s\n",
      "[CV 2/3] END criterion=entropy, max_depth=30, max_features=sqrt, n_estimators=10; total time=   0.1s\n",
      "[CV 3/3] END criterion=entropy, max_depth=30, max_features=sqrt, n_estimators=10; total time=   0.1s\n",
      "[CV 1/3] END criterion=entropy, max_depth=30, max_features=sqrt, n_estimators=50; total time=   0.4s\n",
      "[CV 2/3] END criterion=entropy, max_depth=30, max_features=sqrt, n_estimators=50; total time=   0.4s\n",
      "[CV 3/3] END criterion=entropy, max_depth=30, max_features=sqrt, n_estimators=50; total time=   0.4s\n",
      "[CV 1/3] END criterion=entropy, max_depth=30, max_features=sqrt, n_estimators=100; total time=   0.9s\n",
      "[CV 2/3] END criterion=entropy, max_depth=30, max_features=sqrt, n_estimators=100; total time=   0.8s\n",
      "[CV 3/3] END criterion=entropy, max_depth=30, max_features=sqrt, n_estimators=100; total time=   0.8s\n",
      "[CV 1/3] END criterion=entropy, max_depth=30, max_features=sqrt, n_estimators=200; total time=   1.7s\n",
      "[CV 2/3] END criterion=entropy, max_depth=30, max_features=sqrt, n_estimators=200; total time=   1.7s\n",
      "[CV 3/3] END criterion=entropy, max_depth=30, max_features=sqrt, n_estimators=200; total time=   1.7s\n",
      "[CV 1/3] END criterion=entropy, max_depth=30, max_features=log2, n_estimators=10; total time=   0.1s\n",
      "[CV 2/3] END criterion=entropy, max_depth=30, max_features=log2, n_estimators=10; total time=   0.1s\n",
      "[CV 3/3] END criterion=entropy, max_depth=30, max_features=log2, n_estimators=10; total time=   0.1s\n",
      "[CV 1/3] END criterion=entropy, max_depth=30, max_features=log2, n_estimators=50; total time=   0.4s\n",
      "[CV 2/3] END criterion=entropy, max_depth=30, max_features=log2, n_estimators=50; total time=   0.4s\n",
      "[CV 3/3] END criterion=entropy, max_depth=30, max_features=log2, n_estimators=50; total time=   0.4s\n",
      "[CV 1/3] END criterion=entropy, max_depth=30, max_features=log2, n_estimators=100; total time=   0.9s\n",
      "[CV 2/3] END criterion=entropy, max_depth=30, max_features=log2, n_estimators=100; total time=   0.9s\n",
      "[CV 3/3] END criterion=entropy, max_depth=30, max_features=log2, n_estimators=100; total time=   0.9s\n",
      "[CV 1/3] END criterion=entropy, max_depth=30, max_features=log2, n_estimators=200; total time=   1.7s\n",
      "[CV 2/3] END criterion=entropy, max_depth=30, max_features=log2, n_estimators=200; total time=   1.7s\n",
      "[CV 3/3] END criterion=entropy, max_depth=30, max_features=log2, n_estimators=200; total time=   1.8s\n",
      "[CV 1/3] END criterion=entropy, max_depth=50, max_features=auto, n_estimators=10; total time=   0.1s\n",
      "[CV 2/3] END criterion=entropy, max_depth=50, max_features=auto, n_estimators=10; total time=   0.1s\n",
      "[CV 3/3] END criterion=entropy, max_depth=50, max_features=auto, n_estimators=10; total time=   0.1s\n",
      "[CV 1/3] END criterion=entropy, max_depth=50, max_features=auto, n_estimators=50; total time=   0.4s\n",
      "[CV 2/3] END criterion=entropy, max_depth=50, max_features=auto, n_estimators=50; total time=   0.4s\n",
      "[CV 3/3] END criterion=entropy, max_depth=50, max_features=auto, n_estimators=50; total time=   0.4s\n",
      "[CV 1/3] END criterion=entropy, max_depth=50, max_features=auto, n_estimators=100; total time=   0.8s\n",
      "[CV 2/3] END criterion=entropy, max_depth=50, max_features=auto, n_estimators=100; total time=   0.9s\n",
      "[CV 3/3] END criterion=entropy, max_depth=50, max_features=auto, n_estimators=100; total time=   0.8s\n",
      "[CV 1/3] END criterion=entropy, max_depth=50, max_features=auto, n_estimators=200; total time=   1.6s\n",
      "[CV 2/3] END criterion=entropy, max_depth=50, max_features=auto, n_estimators=200; total time=   1.6s\n",
      "[CV 3/3] END criterion=entropy, max_depth=50, max_features=auto, n_estimators=200; total time=   1.6s\n",
      "[CV 1/3] END criterion=entropy, max_depth=50, max_features=sqrt, n_estimators=10; total time=   0.1s\n",
      "[CV 2/3] END criterion=entropy, max_depth=50, max_features=sqrt, n_estimators=10; total time=   0.1s\n",
      "[CV 3/3] END criterion=entropy, max_depth=50, max_features=sqrt, n_estimators=10; total time=   0.1s\n",
      "[CV 1/3] END criterion=entropy, max_depth=50, max_features=sqrt, n_estimators=50; total time=   0.4s\n",
      "[CV 2/3] END criterion=entropy, max_depth=50, max_features=sqrt, n_estimators=50; total time=   0.4s\n",
      "[CV 3/3] END criterion=entropy, max_depth=50, max_features=sqrt, n_estimators=50; total time=   0.4s\n",
      "[CV 1/3] END criterion=entropy, max_depth=50, max_features=sqrt, n_estimators=100; total time=   0.8s\n",
      "[CV 2/3] END criterion=entropy, max_depth=50, max_features=sqrt, n_estimators=100; total time=   0.9s\n",
      "[CV 3/3] END criterion=entropy, max_depth=50, max_features=sqrt, n_estimators=100; total time=   0.8s\n",
      "[CV 1/3] END criterion=entropy, max_depth=50, max_features=sqrt, n_estimators=200; total time=   1.7s\n",
      "[CV 2/3] END criterion=entropy, max_depth=50, max_features=sqrt, n_estimators=200; total time=   1.7s\n",
      "[CV 3/3] END criterion=entropy, max_depth=50, max_features=sqrt, n_estimators=200; total time=   1.7s\n",
      "[CV 1/3] END criterion=entropy, max_depth=50, max_features=log2, n_estimators=10; total time=   0.1s\n",
      "[CV 2/3] END criterion=entropy, max_depth=50, max_features=log2, n_estimators=10; total time=   0.1s\n",
      "[CV 3/3] END criterion=entropy, max_depth=50, max_features=log2, n_estimators=10; total time=   0.1s\n",
      "[CV 1/3] END criterion=entropy, max_depth=50, max_features=log2, n_estimators=50; total time=   0.4s\n",
      "[CV 2/3] END criterion=entropy, max_depth=50, max_features=log2, n_estimators=50; total time=   0.4s\n",
      "[CV 3/3] END criterion=entropy, max_depth=50, max_features=log2, n_estimators=50; total time=   0.5s\n",
      "[CV 1/3] END criterion=entropy, max_depth=50, max_features=log2, n_estimators=100; total time=   0.8s\n",
      "[CV 2/3] END criterion=entropy, max_depth=50, max_features=log2, n_estimators=100; total time=   0.8s\n",
      "[CV 3/3] END criterion=entropy, max_depth=50, max_features=log2, n_estimators=100; total time=   0.8s\n",
      "[CV 1/3] END criterion=entropy, max_depth=50, max_features=log2, n_estimators=200; total time=   1.6s\n",
      "[CV 2/3] END criterion=entropy, max_depth=50, max_features=log2, n_estimators=200; total time=   1.6s\n",
      "[CV 3/3] END criterion=entropy, max_depth=50, max_features=log2, n_estimators=200; total time=   1.7s\n",
      "[CV 1/3] END criterion=entropy, max_depth=100, max_features=auto, n_estimators=10; total time=   0.1s\n",
      "[CV 2/3] END criterion=entropy, max_depth=100, max_features=auto, n_estimators=10; total time=   0.1s\n",
      "[CV 3/3] END criterion=entropy, max_depth=100, max_features=auto, n_estimators=10; total time=   0.1s\n",
      "[CV 1/3] END criterion=entropy, max_depth=100, max_features=auto, n_estimators=50; total time=   0.4s\n",
      "[CV 2/3] END criterion=entropy, max_depth=100, max_features=auto, n_estimators=50; total time=   0.5s\n",
      "[CV 3/3] END criterion=entropy, max_depth=100, max_features=auto, n_estimators=50; total time=   0.4s\n",
      "[CV 1/3] END criterion=entropy, max_depth=100, max_features=auto, n_estimators=100; total time=   0.9s\n",
      "[CV 2/3] END criterion=entropy, max_depth=100, max_features=auto, n_estimators=100; total time=   0.8s\n",
      "[CV 3/3] END criterion=entropy, max_depth=100, max_features=auto, n_estimators=100; total time=   0.8s\n",
      "[CV 1/3] END criterion=entropy, max_depth=100, max_features=auto, n_estimators=200; total time=   1.7s\n",
      "[CV 2/3] END criterion=entropy, max_depth=100, max_features=auto, n_estimators=200; total time=   1.6s\n",
      "[CV 3/3] END criterion=entropy, max_depth=100, max_features=auto, n_estimators=200; total time=   1.7s\n",
      "[CV 1/3] END criterion=entropy, max_depth=100, max_features=sqrt, n_estimators=10; total time=   0.1s\n",
      "[CV 2/3] END criterion=entropy, max_depth=100, max_features=sqrt, n_estimators=10; total time=   0.1s\n",
      "[CV 3/3] END criterion=entropy, max_depth=100, max_features=sqrt, n_estimators=10; total time=   0.1s\n",
      "[CV 1/3] END criterion=entropy, max_depth=100, max_features=sqrt, n_estimators=50; total time=   0.4s\n",
      "[CV 2/3] END criterion=entropy, max_depth=100, max_features=sqrt, n_estimators=50; total time=   0.4s\n",
      "[CV 3/3] END criterion=entropy, max_depth=100, max_features=sqrt, n_estimators=50; total time=   0.4s\n",
      "[CV 1/3] END criterion=entropy, max_depth=100, max_features=sqrt, n_estimators=100; total time=   0.8s\n",
      "[CV 2/3] END criterion=entropy, max_depth=100, max_features=sqrt, n_estimators=100; total time=   0.9s\n",
      "[CV 3/3] END criterion=entropy, max_depth=100, max_features=sqrt, n_estimators=100; total time=   0.8s\n",
      "[CV 1/3] END criterion=entropy, max_depth=100, max_features=sqrt, n_estimators=200; total time=   1.6s\n",
      "[CV 2/3] END criterion=entropy, max_depth=100, max_features=sqrt, n_estimators=200; total time=   1.7s\n",
      "[CV 3/3] END criterion=entropy, max_depth=100, max_features=sqrt, n_estimators=200; total time=   1.7s\n",
      "[CV 1/3] END criterion=entropy, max_depth=100, max_features=log2, n_estimators=10; total time=   0.1s\n",
      "[CV 2/3] END criterion=entropy, max_depth=100, max_features=log2, n_estimators=10; total time=   0.1s\n",
      "[CV 3/3] END criterion=entropy, max_depth=100, max_features=log2, n_estimators=10; total time=   0.1s\n",
      "[CV 1/3] END criterion=entropy, max_depth=100, max_features=log2, n_estimators=50; total time=   0.4s\n",
      "[CV 2/3] END criterion=entropy, max_depth=100, max_features=log2, n_estimators=50; total time=   0.4s\n",
      "[CV 3/3] END criterion=entropy, max_depth=100, max_features=log2, n_estimators=50; total time=   0.4s\n",
      "[CV 1/3] END criterion=entropy, max_depth=100, max_features=log2, n_estimators=100; total time=   0.9s\n",
      "[CV 2/3] END criterion=entropy, max_depth=100, max_features=log2, n_estimators=100; total time=   0.8s\n",
      "[CV 3/3] END criterion=entropy, max_depth=100, max_features=log2, n_estimators=100; total time=   0.9s\n",
      "[CV 1/3] END criterion=entropy, max_depth=100, max_features=log2, n_estimators=200; total time=   1.7s\n",
      "[CV 2/3] END criterion=entropy, max_depth=100, max_features=log2, n_estimators=200; total time=   1.8s\n",
      "[CV 3/3] END criterion=entropy, max_depth=100, max_features=log2, n_estimators=200; total time=   1.7s\n",
      "[CV 1/3] END criterion=log_loss, max_depth=1, max_features=auto, n_estimators=10; total time=   0.0s\n",
      "[CV 2/3] END criterion=log_loss, max_depth=1, max_features=auto, n_estimators=10; total time=   0.0s\n",
      "[CV 3/3] END criterion=log_loss, max_depth=1, max_features=auto, n_estimators=10; total time=   0.0s\n",
      "[CV 1/3] END criterion=log_loss, max_depth=1, max_features=auto, n_estimators=50; total time=   0.0s\n",
      "[CV 2/3] END criterion=log_loss, max_depth=1, max_features=auto, n_estimators=50; total time=   0.0s\n",
      "[CV 3/3] END criterion=log_loss, max_depth=1, max_features=auto, n_estimators=50; total time=   0.0s\n",
      "[CV 1/3] END criterion=log_loss, max_depth=1, max_features=auto, n_estimators=100; total time=   0.0s\n",
      "[CV 2/3] END criterion=log_loss, max_depth=1, max_features=auto, n_estimators=100; total time=   0.0s\n",
      "[CV 3/3] END criterion=log_loss, max_depth=1, max_features=auto, n_estimators=100; total time=   0.0s\n",
      "[CV 1/3] END criterion=log_loss, max_depth=1, max_features=auto, n_estimators=200; total time=   0.1s\n",
      "[CV 2/3] END criterion=log_loss, max_depth=1, max_features=auto, n_estimators=200; total time=   0.1s\n",
      "[CV 3/3] END criterion=log_loss, max_depth=1, max_features=auto, n_estimators=200; total time=   0.1s\n",
      "[CV 1/3] END criterion=log_loss, max_depth=1, max_features=sqrt, n_estimators=10; total time=   0.0s\n",
      "[CV 2/3] END criterion=log_loss, max_depth=1, max_features=sqrt, n_estimators=10; total time=   0.0s\n",
      "[CV 3/3] END criterion=log_loss, max_depth=1, max_features=sqrt, n_estimators=10; total time=   0.0s\n",
      "[CV 1/3] END criterion=log_loss, max_depth=1, max_features=sqrt, n_estimators=50; total time=   0.0s\n",
      "[CV 2/3] END criterion=log_loss, max_depth=1, max_features=sqrt, n_estimators=50; total time=   0.0s\n",
      "[CV 3/3] END criterion=log_loss, max_depth=1, max_features=sqrt, n_estimators=50; total time=   0.0s\n",
      "[CV 1/3] END criterion=log_loss, max_depth=1, max_features=sqrt, n_estimators=100; total time=   0.0s\n",
      "[CV 2/3] END criterion=log_loss, max_depth=1, max_features=sqrt, n_estimators=100; total time=   0.0s\n",
      "[CV 3/3] END criterion=log_loss, max_depth=1, max_features=sqrt, n_estimators=100; total time=   0.0s\n",
      "[CV 1/3] END criterion=log_loss, max_depth=1, max_features=sqrt, n_estimators=200; total time=   0.1s\n",
      "[CV 2/3] END criterion=log_loss, max_depth=1, max_features=sqrt, n_estimators=200; total time=   0.1s\n",
      "[CV 3/3] END criterion=log_loss, max_depth=1, max_features=sqrt, n_estimators=200; total time=   0.1s\n",
      "[CV 1/3] END criterion=log_loss, max_depth=1, max_features=log2, n_estimators=10; total time=   0.0s\n",
      "[CV 2/3] END criterion=log_loss, max_depth=1, max_features=log2, n_estimators=10; total time=   0.0s\n",
      "[CV 3/3] END criterion=log_loss, max_depth=1, max_features=log2, n_estimators=10; total time=   0.0s\n",
      "[CV 1/3] END criterion=log_loss, max_depth=1, max_features=log2, n_estimators=50; total time=   0.0s\n",
      "[CV 2/3] END criterion=log_loss, max_depth=1, max_features=log2, n_estimators=50; total time=   0.0s\n",
      "[CV 3/3] END criterion=log_loss, max_depth=1, max_features=log2, n_estimators=50; total time=   0.0s\n",
      "[CV 1/3] END criterion=log_loss, max_depth=1, max_features=log2, n_estimators=100; total time=   0.0s\n",
      "[CV 2/3] END criterion=log_loss, max_depth=1, max_features=log2, n_estimators=100; total time=   0.0s\n",
      "[CV 3/3] END criterion=log_loss, max_depth=1, max_features=log2, n_estimators=100; total time=   0.0s\n",
      "[CV 1/3] END criterion=log_loss, max_depth=1, max_features=log2, n_estimators=200; total time=   0.1s\n",
      "[CV 2/3] END criterion=log_loss, max_depth=1, max_features=log2, n_estimators=200; total time=   0.1s\n",
      "[CV 3/3] END criterion=log_loss, max_depth=1, max_features=log2, n_estimators=200; total time=   0.1s\n",
      "[CV 1/3] END criterion=log_loss, max_depth=10, max_features=auto, n_estimators=10; total time=   0.0s\n",
      "[CV 2/3] END criterion=log_loss, max_depth=10, max_features=auto, n_estimators=10; total time=   0.0s\n",
      "[CV 3/3] END criterion=log_loss, max_depth=10, max_features=auto, n_estimators=10; total time=   0.0s\n",
      "[CV 1/3] END criterion=log_loss, max_depth=10, max_features=auto, n_estimators=50; total time=   0.0s\n",
      "[CV 2/3] END criterion=log_loss, max_depth=10, max_features=auto, n_estimators=50; total time=   0.0s\n",
      "[CV 3/3] END criterion=log_loss, max_depth=10, max_features=auto, n_estimators=50; total time=   0.0s\n",
      "[CV 1/3] END criterion=log_loss, max_depth=10, max_features=auto, n_estimators=100; total time=   0.0s\n",
      "[CV 2/3] END criterion=log_loss, max_depth=10, max_features=auto, n_estimators=100; total time=   0.0s\n",
      "[CV 3/3] END criterion=log_loss, max_depth=10, max_features=auto, n_estimators=100; total time=   0.0s\n",
      "[CV 1/3] END criterion=log_loss, max_depth=10, max_features=auto, n_estimators=200; total time=   0.1s\n",
      "[CV 2/3] END criterion=log_loss, max_depth=10, max_features=auto, n_estimators=200; total time=   0.1s\n",
      "[CV 3/3] END criterion=log_loss, max_depth=10, max_features=auto, n_estimators=200; total time=   0.1s\n",
      "[CV 1/3] END criterion=log_loss, max_depth=10, max_features=sqrt, n_estimators=10; total time=   0.0s\n",
      "[CV 2/3] END criterion=log_loss, max_depth=10, max_features=sqrt, n_estimators=10; total time=   0.0s\n",
      "[CV 3/3] END criterion=log_loss, max_depth=10, max_features=sqrt, n_estimators=10; total time=   0.0s\n",
      "[CV 1/3] END criterion=log_loss, max_depth=10, max_features=sqrt, n_estimators=50; total time=   0.0s\n",
      "[CV 2/3] END criterion=log_loss, max_depth=10, max_features=sqrt, n_estimators=50; total time=   0.0s\n",
      "[CV 3/3] END criterion=log_loss, max_depth=10, max_features=sqrt, n_estimators=50; total time=   0.0s\n",
      "[CV 1/3] END criterion=log_loss, max_depth=10, max_features=sqrt, n_estimators=100; total time=   0.0s\n",
      "[CV 2/3] END criterion=log_loss, max_depth=10, max_features=sqrt, n_estimators=100; total time=   0.0s\n",
      "[CV 3/3] END criterion=log_loss, max_depth=10, max_features=sqrt, n_estimators=100; total time=   0.0s\n",
      "[CV 1/3] END criterion=log_loss, max_depth=10, max_features=sqrt, n_estimators=200; total time=   0.1s\n",
      "[CV 2/3] END criterion=log_loss, max_depth=10, max_features=sqrt, n_estimators=200; total time=   0.1s\n",
      "[CV 3/3] END criterion=log_loss, max_depth=10, max_features=sqrt, n_estimators=200; total time=   0.1s\n",
      "[CV 1/3] END criterion=log_loss, max_depth=10, max_features=log2, n_estimators=10; total time=   0.0s\n",
      "[CV 2/3] END criterion=log_loss, max_depth=10, max_features=log2, n_estimators=10; total time=   0.0s\n",
      "[CV 3/3] END criterion=log_loss, max_depth=10, max_features=log2, n_estimators=10; total time=   0.0s\n",
      "[CV 1/3] END criterion=log_loss, max_depth=10, max_features=log2, n_estimators=50; total time=   0.0s\n",
      "[CV 2/3] END criterion=log_loss, max_depth=10, max_features=log2, n_estimators=50; total time=   0.0s\n",
      "[CV 3/3] END criterion=log_loss, max_depth=10, max_features=log2, n_estimators=50; total time=   0.0s\n",
      "[CV 1/3] END criterion=log_loss, max_depth=10, max_features=log2, n_estimators=100; total time=   0.0s\n",
      "[CV 2/3] END criterion=log_loss, max_depth=10, max_features=log2, n_estimators=100; total time=   0.0s\n",
      "[CV 3/3] END criterion=log_loss, max_depth=10, max_features=log2, n_estimators=100; total time=   0.0s\n",
      "[CV 1/3] END criterion=log_loss, max_depth=10, max_features=log2, n_estimators=200; total time=   0.1s\n",
      "[CV 2/3] END criterion=log_loss, max_depth=10, max_features=log2, n_estimators=200; total time=   0.1s\n",
      "[CV 3/3] END criterion=log_loss, max_depth=10, max_features=log2, n_estimators=200; total time=   0.1s\n",
      "[CV 1/3] END criterion=log_loss, max_depth=30, max_features=auto, n_estimators=10; total time=   0.0s\n",
      "[CV 2/3] END criterion=log_loss, max_depth=30, max_features=auto, n_estimators=10; total time=   0.0s\n",
      "[CV 3/3] END criterion=log_loss, max_depth=30, max_features=auto, n_estimators=10; total time=   0.0s\n",
      "[CV 1/3] END criterion=log_loss, max_depth=30, max_features=auto, n_estimators=50; total time=   0.0s\n",
      "[CV 2/3] END criterion=log_loss, max_depth=30, max_features=auto, n_estimators=50; total time=   0.0s\n",
      "[CV 3/3] END criterion=log_loss, max_depth=30, max_features=auto, n_estimators=50; total time=   0.0s\n",
      "[CV 1/3] END criterion=log_loss, max_depth=30, max_features=auto, n_estimators=100; total time=   0.0s\n",
      "[CV 2/3] END criterion=log_loss, max_depth=30, max_features=auto, n_estimators=100; total time=   0.0s\n",
      "[CV 3/3] END criterion=log_loss, max_depth=30, max_features=auto, n_estimators=100; total time=   0.0s\n",
      "[CV 1/3] END criterion=log_loss, max_depth=30, max_features=auto, n_estimators=200; total time=   0.1s\n",
      "[CV 2/3] END criterion=log_loss, max_depth=30, max_features=auto, n_estimators=200; total time=   0.1s\n",
      "[CV 3/3] END criterion=log_loss, max_depth=30, max_features=auto, n_estimators=200; total time=   0.1s\n",
      "[CV 1/3] END criterion=log_loss, max_depth=30, max_features=sqrt, n_estimators=10; total time=   0.0s\n",
      "[CV 2/3] END criterion=log_loss, max_depth=30, max_features=sqrt, n_estimators=10; total time=   0.0s\n",
      "[CV 3/3] END criterion=log_loss, max_depth=30, max_features=sqrt, n_estimators=10; total time=   0.0s\n",
      "[CV 1/3] END criterion=log_loss, max_depth=30, max_features=sqrt, n_estimators=50; total time=   0.0s\n",
      "[CV 2/3] END criterion=log_loss, max_depth=30, max_features=sqrt, n_estimators=50; total time=   0.0s\n",
      "[CV 3/3] END criterion=log_loss, max_depth=30, max_features=sqrt, n_estimators=50; total time=   0.0s\n",
      "[CV 1/3] END criterion=log_loss, max_depth=30, max_features=sqrt, n_estimators=100; total time=   0.0s\n",
      "[CV 2/3] END criterion=log_loss, max_depth=30, max_features=sqrt, n_estimators=100; total time=   0.0s\n",
      "[CV 3/3] END criterion=log_loss, max_depth=30, max_features=sqrt, n_estimators=100; total time=   0.0s\n",
      "[CV 1/3] END criterion=log_loss, max_depth=30, max_features=sqrt, n_estimators=200; total time=   0.1s\n",
      "[CV 2/3] END criterion=log_loss, max_depth=30, max_features=sqrt, n_estimators=200; total time=   0.1s\n",
      "[CV 3/3] END criterion=log_loss, max_depth=30, max_features=sqrt, n_estimators=200; total time=   0.1s\n",
      "[CV 1/3] END criterion=log_loss, max_depth=30, max_features=log2, n_estimators=10; total time=   0.0s\n",
      "[CV 2/3] END criterion=log_loss, max_depth=30, max_features=log2, n_estimators=10; total time=   0.0s\n",
      "[CV 3/3] END criterion=log_loss, max_depth=30, max_features=log2, n_estimators=10; total time=   0.0s\n",
      "[CV 1/3] END criterion=log_loss, max_depth=30, max_features=log2, n_estimators=50; total time=   0.0s\n",
      "[CV 2/3] END criterion=log_loss, max_depth=30, max_features=log2, n_estimators=50; total time=   0.0s\n",
      "[CV 3/3] END criterion=log_loss, max_depth=30, max_features=log2, n_estimators=50; total time=   0.0s\n",
      "[CV 1/3] END criterion=log_loss, max_depth=30, max_features=log2, n_estimators=100; total time=   0.0s\n",
      "[CV 2/3] END criterion=log_loss, max_depth=30, max_features=log2, n_estimators=100; total time=   0.0s\n",
      "[CV 3/3] END criterion=log_loss, max_depth=30, max_features=log2, n_estimators=100; total time=   0.0s\n",
      "[CV 1/3] END criterion=log_loss, max_depth=30, max_features=log2, n_estimators=200; total time=   0.1s\n",
      "[CV 2/3] END criterion=log_loss, max_depth=30, max_features=log2, n_estimators=200; total time=   0.1s\n",
      "[CV 3/3] END criterion=log_loss, max_depth=30, max_features=log2, n_estimators=200; total time=   0.1s\n",
      "[CV 1/3] END criterion=log_loss, max_depth=50, max_features=auto, n_estimators=10; total time=   0.0s\n",
      "[CV 2/3] END criterion=log_loss, max_depth=50, max_features=auto, n_estimators=10; total time=   0.0s\n",
      "[CV 3/3] END criterion=log_loss, max_depth=50, max_features=auto, n_estimators=10; total time=   0.0s\n",
      "[CV 1/3] END criterion=log_loss, max_depth=50, max_features=auto, n_estimators=50; total time=   0.0s\n",
      "[CV 2/3] END criterion=log_loss, max_depth=50, max_features=auto, n_estimators=50; total time=   0.0s\n",
      "[CV 3/3] END criterion=log_loss, max_depth=50, max_features=auto, n_estimators=50; total time=   0.0s\n",
      "[CV 1/3] END criterion=log_loss, max_depth=50, max_features=auto, n_estimators=100; total time=   0.0s\n",
      "[CV 2/3] END criterion=log_loss, max_depth=50, max_features=auto, n_estimators=100; total time=   0.0s\n",
      "[CV 3/3] END criterion=log_loss, max_depth=50, max_features=auto, n_estimators=100; total time=   0.0s\n",
      "[CV 1/3] END criterion=log_loss, max_depth=50, max_features=auto, n_estimators=200; total time=   0.1s\n",
      "[CV 2/3] END criterion=log_loss, max_depth=50, max_features=auto, n_estimators=200; total time=   0.1s\n",
      "[CV 3/3] END criterion=log_loss, max_depth=50, max_features=auto, n_estimators=200; total time=   0.1s\n",
      "[CV 1/3] END criterion=log_loss, max_depth=50, max_features=sqrt, n_estimators=10; total time=   0.0s\n",
      "[CV 2/3] END criterion=log_loss, max_depth=50, max_features=sqrt, n_estimators=10; total time=   0.0s\n",
      "[CV 3/3] END criterion=log_loss, max_depth=50, max_features=sqrt, n_estimators=10; total time=   0.0s\n",
      "[CV 1/3] END criterion=log_loss, max_depth=50, max_features=sqrt, n_estimators=50; total time=   0.0s\n",
      "[CV 2/3] END criterion=log_loss, max_depth=50, max_features=sqrt, n_estimators=50; total time=   0.0s\n",
      "[CV 3/3] END criterion=log_loss, max_depth=50, max_features=sqrt, n_estimators=50; total time=   0.0s\n",
      "[CV 1/3] END criterion=log_loss, max_depth=50, max_features=sqrt, n_estimators=100; total time=   0.0s\n",
      "[CV 2/3] END criterion=log_loss, max_depth=50, max_features=sqrt, n_estimators=100; total time=   0.0s\n",
      "[CV 3/3] END criterion=log_loss, max_depth=50, max_features=sqrt, n_estimators=100; total time=   0.0s\n",
      "[CV 1/3] END criterion=log_loss, max_depth=50, max_features=sqrt, n_estimators=200; total time=   0.1s\n",
      "[CV 2/3] END criterion=log_loss, max_depth=50, max_features=sqrt, n_estimators=200; total time=   0.1s\n",
      "[CV 3/3] END criterion=log_loss, max_depth=50, max_features=sqrt, n_estimators=200; total time=   0.1s\n",
      "[CV 1/3] END criterion=log_loss, max_depth=50, max_features=log2, n_estimators=10; total time=   0.0s\n",
      "[CV 2/3] END criterion=log_loss, max_depth=50, max_features=log2, n_estimators=10; total time=   0.0s\n",
      "[CV 3/3] END criterion=log_loss, max_depth=50, max_features=log2, n_estimators=10; total time=   0.0s\n",
      "[CV 1/3] END criterion=log_loss, max_depth=50, max_features=log2, n_estimators=50; total time=   0.0s\n",
      "[CV 2/3] END criterion=log_loss, max_depth=50, max_features=log2, n_estimators=50; total time=   0.0s\n",
      "[CV 3/3] END criterion=log_loss, max_depth=50, max_features=log2, n_estimators=50; total time=   0.0s\n",
      "[CV 1/3] END criterion=log_loss, max_depth=50, max_features=log2, n_estimators=100; total time=   0.0s\n",
      "[CV 2/3] END criterion=log_loss, max_depth=50, max_features=log2, n_estimators=100; total time=   0.0s\n",
      "[CV 3/3] END criterion=log_loss, max_depth=50, max_features=log2, n_estimators=100; total time=   0.0s\n",
      "[CV 1/3] END criterion=log_loss, max_depth=50, max_features=log2, n_estimators=200; total time=   0.1s\n",
      "[CV 2/3] END criterion=log_loss, max_depth=50, max_features=log2, n_estimators=200; total time=   0.1s\n",
      "[CV 3/3] END criterion=log_loss, max_depth=50, max_features=log2, n_estimators=200; total time=   0.1s\n",
      "[CV 1/3] END criterion=log_loss, max_depth=100, max_features=auto, n_estimators=10; total time=   0.0s\n",
      "[CV 2/3] END criterion=log_loss, max_depth=100, max_features=auto, n_estimators=10; total time=   0.0s\n",
      "[CV 3/3] END criterion=log_loss, max_depth=100, max_features=auto, n_estimators=10; total time=   0.0s\n",
      "[CV 1/3] END criterion=log_loss, max_depth=100, max_features=auto, n_estimators=50; total time=   0.0s\n",
      "[CV 2/3] END criterion=log_loss, max_depth=100, max_features=auto, n_estimators=50; total time=   0.0s\n",
      "[CV 3/3] END criterion=log_loss, max_depth=100, max_features=auto, n_estimators=50; total time=   0.0s\n",
      "[CV 1/3] END criterion=log_loss, max_depth=100, max_features=auto, n_estimators=100; total time=   0.0s\n",
      "[CV 2/3] END criterion=log_loss, max_depth=100, max_features=auto, n_estimators=100; total time=   0.0s\n",
      "[CV 3/3] END criterion=log_loss, max_depth=100, max_features=auto, n_estimators=100; total time=   0.0s\n",
      "[CV 1/3] END criterion=log_loss, max_depth=100, max_features=auto, n_estimators=200; total time=   0.1s\n",
      "[CV 2/3] END criterion=log_loss, max_depth=100, max_features=auto, n_estimators=200; total time=   0.1s\n",
      "[CV 3/3] END criterion=log_loss, max_depth=100, max_features=auto, n_estimators=200; total time=   0.1s\n",
      "[CV 1/3] END criterion=log_loss, max_depth=100, max_features=sqrt, n_estimators=10; total time=   0.0s\n",
      "[CV 2/3] END criterion=log_loss, max_depth=100, max_features=sqrt, n_estimators=10; total time=   0.0s\n",
      "[CV 3/3] END criterion=log_loss, max_depth=100, max_features=sqrt, n_estimators=10; total time=   0.0s\n",
      "[CV 1/3] END criterion=log_loss, max_depth=100, max_features=sqrt, n_estimators=50; total time=   0.0s\n",
      "[CV 2/3] END criterion=log_loss, max_depth=100, max_features=sqrt, n_estimators=50; total time=   0.0s\n",
      "[CV 3/3] END criterion=log_loss, max_depth=100, max_features=sqrt, n_estimators=50; total time=   0.0s\n",
      "[CV 1/3] END criterion=log_loss, max_depth=100, max_features=sqrt, n_estimators=100; total time=   0.0s\n",
      "[CV 2/3] END criterion=log_loss, max_depth=100, max_features=sqrt, n_estimators=100; total time=   0.0s\n",
      "[CV 3/3] END criterion=log_loss, max_depth=100, max_features=sqrt, n_estimators=100; total time=   0.0s\n",
      "[CV 1/3] END criterion=log_loss, max_depth=100, max_features=sqrt, n_estimators=200; total time=   0.1s\n",
      "[CV 2/3] END criterion=log_loss, max_depth=100, max_features=sqrt, n_estimators=200; total time=   0.1s\n",
      "[CV 3/3] END criterion=log_loss, max_depth=100, max_features=sqrt, n_estimators=200; total time=   0.1s\n",
      "[CV 1/3] END criterion=log_loss, max_depth=100, max_features=log2, n_estimators=10; total time=   0.0s\n",
      "[CV 2/3] END criterion=log_loss, max_depth=100, max_features=log2, n_estimators=10; total time=   0.0s\n",
      "[CV 3/3] END criterion=log_loss, max_depth=100, max_features=log2, n_estimators=10; total time=   0.0s\n",
      "[CV 1/3] END criterion=log_loss, max_depth=100, max_features=log2, n_estimators=50; total time=   0.0s\n",
      "[CV 2/3] END criterion=log_loss, max_depth=100, max_features=log2, n_estimators=50; total time=   0.0s\n",
      "[CV 3/3] END criterion=log_loss, max_depth=100, max_features=log2, n_estimators=50; total time=   0.0s\n",
      "[CV 1/3] END criterion=log_loss, max_depth=100, max_features=log2, n_estimators=100; total time=   0.0s\n",
      "[CV 2/3] END criterion=log_loss, max_depth=100, max_features=log2, n_estimators=100; total time=   0.0s\n",
      "[CV 3/3] END criterion=log_loss, max_depth=100, max_features=log2, n_estimators=100; total time=   0.0s\n",
      "[CV 1/3] END criterion=log_loss, max_depth=100, max_features=log2, n_estimators=200; total time=   0.1s\n",
      "[CV 2/3] END criterion=log_loss, max_depth=100, max_features=log2, n_estimators=200; total time=   0.1s\n",
      "[CV 3/3] END criterion=log_loss, max_depth=100, max_features=log2, n_estimators=200; total time=   0.1s\n",
      "CPU times: user 3min 37s, sys: 1.76 s, total: 3min 39s\n",
      "Wall time: 3min 40s\n"
     ]
    },
    {
     "data": {
      "text/plain": [
       "GridSearchCV(cv=3, estimator=RandomForestClassifier(),\n",
       "             param_grid={'criterion': ['gini', 'entropy', 'log_loss'],\n",
       "                         'max_depth': [1, 10, 30, 50, 100],\n",
       "                         'max_features': ['auto', 'sqrt', 'log2'],\n",
       "                         'n_estimators': [10, 50, 100, 200]},\n",
       "             verbose=4)"
      ]
     },
     "execution_count": 51,
     "metadata": {},
     "output_type": "execute_result"
    }
   ],
   "source": [
    "%%time\n",
    "gs_rf.fit(features_upsampled, target_upsampled)"
   ]
  },
  {
   "cell_type": "code",
   "execution_count": 52,
   "metadata": {},
   "outputs": [],
   "source": [
    "best_est_rf = gs_rf.best_estimator_"
   ]
  },
  {
   "cell_type": "code",
   "execution_count": 53,
   "metadata": {},
   "outputs": [
    {
     "name": "stdout",
     "output_type": "stream",
     "text": [
      "RandomForestClassifier(criterion='entropy', max_depth=50, max_features='sqrt')\n"
     ]
    }
   ],
   "source": [
    "print(best_est_rf)"
   ]
  },
  {
   "cell_type": "code",
   "execution_count": 54,
   "metadata": {},
   "outputs": [
    {
     "data": {
      "text/plain": [
       "RandomForestClassifier(criterion='entropy', max_depth=50, max_features='sqrt',\n",
       "                       random_state=12345)"
      ]
     },
     "execution_count": 54,
     "metadata": {},
     "output_type": "execute_result"
    }
   ],
   "source": [
    "model = RandomForestClassifier(criterion='entropy', max_depth=50, max_features='sqrt', random_state=12345)\n",
    "model.fit(features_upsampled, target_upsampled)"
   ]
  },
  {
   "cell_type": "code",
   "execution_count": 55,
   "metadata": {},
   "outputs": [],
   "source": [
    "predictions_test = model.predict(features_test)"
   ]
  },
  {
   "cell_type": "code",
   "execution_count": 56,
   "metadata": {},
   "outputs": [
    {
     "name": "stdout",
     "output_type": "stream",
     "text": [
      "F1: 0.6057298772169168\n"
     ]
    }
   ],
   "source": [
    "print(\"F1:\", f1_score(target_test, predictions_test))"
   ]
  },
  {
   "cell_type": "markdown",
   "metadata": {},
   "source": [
    "ROC-Кривая"
   ]
  },
  {
   "cell_type": "code",
   "execution_count": 57,
   "metadata": {},
   "outputs": [
    {
     "name": "stdout",
     "output_type": "stream",
     "text": [
      "0.8434797227878131\n"
     ]
    }
   ],
   "source": [
    "probabilities_test = model.predict_proba(features_test)\n",
    "probabilities_one_test = probabilities_test[:, 1]\n",
    "\n",
    "auc_roc = roc_auc_score(target_test, probabilities_one_test, average=None)\n",
    "\n",
    "print(auc_roc)"
   ]
  },
  {
   "cell_type": "code",
   "execution_count": 58,
   "metadata": {},
   "outputs": [
    {
     "data": {
      "text/plain": [
       "<Figure size 432x288 with 0 Axes>"
      ]
     },
     "metadata": {},
     "output_type": "display_data"
    },
    {
     "data": {
      "image/png": "[encoded data removed]",
      "text/plain": [
       "<Figure size 432x288 with 1 Axes>"
      ]
     },
     "metadata": {
      "needs_background": "light"
     },
     "output_type": "display_data"
    }
   ],
   "source": [
    "plt.figure()\n",
    "\n",
    "fpr, tpr, thresholds = roc_curve(target_test, probabilities_one_test) \n",
    "\n",
    "plt.figure()\n",
    "plt.plot(fpr, tpr)\n",
    "\n",
    "\n",
    "plt.plot([0.0, 1.0], [0.0, 1.0], linestyle='--')\n",
    "\n",
    "\n",
    "plt.xlim([0.0, 1.0])\n",
    "plt.ylim([0.0, 1.0])\n",
    "\n",
    "\n",
    "\n",
    "plt.xlabel('False Positive Rate')\n",
    "plt.ylabel('True Positive Rate')\n",
    "\n",
    "\n",
    "plt.title('ROC-кривая')\n",
    "plt.show()"
   ]
  },
  {
   "cell_type": "markdown",
   "metadata": {},
   "source": [
    "<div class=\"alert alert-block alert-info\">\n",
    "<b>Вывод:</b>\n",
    "\n",
    "<br>В данной работе мы сделали:\n",
    "    \n",
    "<br>Загрузили и подготовили данные. Заменили средним значением такие признаки, как: баланс на счёте и сколько лет человек является клиентом банка. Дропнули признаки, которые не окажут влияния на обучение модели.\n",
    "    \n",
    "<br>Исследовали баланс классов - в данных большой дисбаланс классов. Класс \"0\" превосходит почти в 4 раза. После обучения модели без учёта дисбаланса получили F1 - 0.55.\n",
    "    \n",
    "<br>Улучшили качество модели подбором параметров и учили дисбаланс классов (уменьшением выборки). Добились F1 - 0.60 и ROC AUC 0.84.\n",
    "</div>"
   ]
  },
  {
   "cell_type": "markdown",
   "metadata": {},
   "source": [
    "<div class=\"alert alert-block alert-info\">\n",
    "Рекомендации:\n",
    "        Проверять на адекватность данные: большой дисбаланс в таргете, есть пропущенные значения в признаках.\n",
    "</div>"
   ]
  }
 ],
 "metadata": {
  "ExecuteTimeLog": [
   {
    "duration": 446,
    "start_time": "2022-11-30T09:28:38.562Z"
   },
   {
    "duration": 76,
    "start_time": "2022-11-30T09:28:50.527Z"
   },
   {
    "duration": 13,
    "start_time": "2022-11-30T09:28:58.090Z"
   },
   {
    "duration": 62,
    "start_time": "2022-11-30T09:41:39.343Z"
   },
   {
    "duration": 3,
    "start_time": "2022-11-30T09:41:49.512Z"
   },
   {
    "duration": 11,
    "start_time": "2022-11-30T09:42:32.739Z"
   },
   {
    "duration": 6,
    "start_time": "2022-11-30T09:42:39.311Z"
   },
   {
    "duration": 7,
    "start_time": "2022-11-30T09:56:42.295Z"
   },
   {
    "duration": 1779,
    "start_time": "2022-11-30T09:58:06.825Z"
   },
   {
    "duration": 10,
    "start_time": "2022-11-30T09:58:36.081Z"
   },
   {
    "duration": 874,
    "start_time": "2022-11-30T09:59:13.504Z"
   },
   {
    "duration": 7,
    "start_time": "2022-11-30T09:59:20.445Z"
   },
   {
    "duration": 7,
    "start_time": "2022-11-30T09:59:40.881Z"
   },
   {
    "duration": 14,
    "start_time": "2022-11-30T09:59:54.151Z"
   },
   {
    "duration": 8,
    "start_time": "2022-11-30T10:00:28.755Z"
   },
   {
    "duration": 43,
    "start_time": "2022-11-30T10:01:51.752Z"
   },
   {
    "duration": 702,
    "start_time": "2022-11-30T10:04:19.082Z"
   },
   {
    "duration": 14,
    "start_time": "2022-11-30T10:05:47.871Z"
   },
   {
    "duration": 52,
    "start_time": "2022-11-30T10:07:29.375Z"
   },
   {
    "duration": 3,
    "start_time": "2022-11-30T10:08:21.672Z"
   },
   {
    "duration": 12,
    "start_time": "2022-11-30T10:08:26.884Z"
   },
   {
    "duration": 26,
    "start_time": "2022-11-30T10:08:30.406Z"
   },
   {
    "duration": 11,
    "start_time": "2022-11-30T10:10:03.585Z"
   },
   {
    "duration": 8,
    "start_time": "2022-11-30T10:10:10.236Z"
   },
   {
    "duration": 5,
    "start_time": "2022-11-30T10:10:14.158Z"
   },
   {
    "duration": 205,
    "start_time": "2022-11-30T10:13:27.509Z"
   },
   {
    "duration": 26,
    "start_time": "2022-11-30T10:13:28.205Z"
   },
   {
    "duration": 112,
    "start_time": "2022-11-30T10:14:49.168Z"
   },
   {
    "duration": 19,
    "start_time": "2022-11-30T10:15:36.244Z"
   },
   {
    "duration": 6,
    "start_time": "2022-11-30T10:15:44.617Z"
   },
   {
    "duration": 221,
    "start_time": "2022-11-30T10:15:45.771Z"
   },
   {
    "duration": 35,
    "start_time": "2022-11-30T10:15:47.277Z"
   },
   {
    "duration": 21,
    "start_time": "2022-11-30T10:16:01.078Z"
   },
   {
    "duration": 10,
    "start_time": "2022-11-30T10:16:27.132Z"
   },
   {
    "duration": 11,
    "start_time": "2022-11-30T10:17:09.282Z"
   },
   {
    "duration": 34,
    "start_time": "2022-11-30T10:17:19.342Z"
   },
   {
    "duration": 29,
    "start_time": "2022-11-30T10:18:07.956Z"
   },
   {
    "duration": 7,
    "start_time": "2022-11-30T10:18:15.374Z"
   },
   {
    "duration": 1737,
    "start_time": "2022-11-30T10:18:19.773Z"
   },
   {
    "duration": 65,
    "start_time": "2022-11-30T10:18:26.169Z"
   },
   {
    "duration": 7,
    "start_time": "2022-11-30T10:18:28.866Z"
   },
   {
    "duration": 8,
    "start_time": "2022-11-30T10:18:31.630Z"
   },
   {
    "duration": 6,
    "start_time": "2022-11-30T10:18:34.935Z"
   },
   {
    "duration": 20,
    "start_time": "2022-11-30T10:18:37.006Z"
   },
   {
    "duration": 18,
    "start_time": "2022-11-30T10:18:54.462Z"
   },
   {
    "duration": 183,
    "start_time": "2022-11-30T10:18:54.842Z"
   },
   {
    "duration": 26,
    "start_time": "2022-11-30T10:18:55.329Z"
   },
   {
    "duration": 11,
    "start_time": "2022-11-30T10:19:03.162Z"
   },
   {
    "duration": 20,
    "start_time": "2022-11-30T10:19:03.679Z"
   },
   {
    "duration": 6,
    "start_time": "2022-11-30T10:19:37.168Z"
   },
   {
    "duration": 7,
    "start_time": "2022-11-30T10:19:39.180Z"
   },
   {
    "duration": 3,
    "start_time": "2022-11-30T10:19:40.726Z"
   },
   {
    "duration": 4,
    "start_time": "2022-11-30T10:19:44.218Z"
   },
   {
    "duration": 4,
    "start_time": "2022-11-30T10:19:46.149Z"
   },
   {
    "duration": 291491,
    "start_time": "2022-11-30T10:19:54.218Z"
   },
   {
    "duration": 3,
    "start_time": "2022-11-30T10:25:38.036Z"
   },
   {
    "duration": 4,
    "start_time": "2022-11-30T10:25:38.506Z"
   },
   {
    "duration": 5,
    "start_time": "2022-11-30T10:31:22.628Z"
   },
   {
    "duration": 5,
    "start_time": "2022-11-30T10:34:09.092Z"
   },
   {
    "duration": 5,
    "start_time": "2022-11-30T10:34:19.500Z"
   },
   {
    "duration": 8,
    "start_time": "2022-11-30T10:34:19.818Z"
   },
   {
    "duration": 3,
    "start_time": "2022-11-30T10:34:22.390Z"
   },
   {
    "duration": 4,
    "start_time": "2022-11-30T10:34:22.824Z"
   },
   {
    "duration": 3,
    "start_time": "2022-11-30T10:34:33.973Z"
   },
   {
    "duration": 133192,
    "start_time": "2022-11-30T10:34:47.095Z"
   },
   {
    "duration": 2,
    "start_time": "2022-11-30T10:37:00.290Z"
   },
   {
    "duration": 13,
    "start_time": "2022-11-30T10:37:00.297Z"
   },
   {
    "duration": 73,
    "start_time": "2022-11-30T10:38:00.409Z"
   },
   {
    "duration": 3,
    "start_time": "2022-11-30T10:41:17.355Z"
   },
   {
    "duration": 6,
    "start_time": "2022-11-30T10:41:17.632Z"
   },
   {
    "duration": 3,
    "start_time": "2022-11-30T10:43:08.284Z"
   },
   {
    "duration": 25,
    "start_time": "2022-11-30T10:43:08.488Z"
   },
   {
    "duration": 17,
    "start_time": "2022-11-30T10:43:42.210Z"
   },
   {
    "duration": 25,
    "start_time": "2022-11-30T10:43:59.904Z"
   },
   {
    "duration": 7,
    "start_time": "2022-11-30T10:44:34.360Z"
   },
   {
    "duration": 118,
    "start_time": "2022-11-30T10:47:27.516Z"
   },
   {
    "duration": 6,
    "start_time": "2022-11-30T10:47:31.400Z"
   },
   {
    "duration": 82,
    "start_time": "2022-11-30T10:47:33.103Z"
   },
   {
    "duration": 4,
    "start_time": "2022-11-30T11:01:40.438Z"
   },
   {
    "duration": 25,
    "start_time": "2022-11-30T11:01:46.494Z"
   },
   {
    "duration": 5,
    "start_time": "2022-11-30T11:02:02.554Z"
   },
   {
    "duration": 8,
    "start_time": "2022-11-30T11:02:06.997Z"
   },
   {
    "duration": 13,
    "start_time": "2022-11-30T11:02:07.244Z"
   },
   {
    "duration": 5,
    "start_time": "2022-11-30T11:04:42.244Z"
   },
   {
    "duration": 13,
    "start_time": "2022-11-30T11:04:42.802Z"
   },
   {
    "duration": 72,
    "start_time": "2022-11-30T11:04:43.231Z"
   },
   {
    "duration": 6,
    "start_time": "2022-11-30T11:04:49.330Z"
   },
   {
    "duration": 2,
    "start_time": "2022-11-30T11:04:53.159Z"
   },
   {
    "duration": 4,
    "start_time": "2022-11-30T11:04:53.484Z"
   },
   {
    "duration": 4,
    "start_time": "2022-11-30T11:04:53.953Z"
   },
   {
    "duration": 9,
    "start_time": "2022-11-30T11:04:55.701Z"
   },
   {
    "duration": 201815,
    "start_time": "2022-11-30T11:05:06.075Z"
   },
   {
    "duration": 2,
    "start_time": "2022-11-30T11:08:27.896Z"
   },
   {
    "duration": 8,
    "start_time": "2022-11-30T11:08:27.899Z"
   },
   {
    "duration": 92,
    "start_time": "2022-11-30T11:08:27.909Z"
   },
   {
    "duration": 1099,
    "start_time": "2022-11-30T11:08:53.848Z"
   },
   {
    "duration": 1123,
    "start_time": "2022-11-30T11:09:23.850Z"
   },
   {
    "duration": 1549,
    "start_time": "2022-11-30T11:11:14.257Z"
   },
   {
    "duration": 5,
    "start_time": "2022-11-30T11:12:09.916Z"
   },
   {
    "duration": 31,
    "start_time": "2022-11-30T11:12:10.621Z"
   },
   {
    "duration": 17,
    "start_time": "2022-11-30T11:12:19.750Z"
   },
   {
    "duration": 6849,
    "start_time": "2022-11-30T11:12:20.810Z"
   },
   {
    "duration": 5015,
    "start_time": "2022-11-30T11:13:24.372Z"
   },
   {
    "duration": 4,
    "start_time": "2022-11-30T11:13:45.344Z"
   },
   {
    "duration": 204,
    "start_time": "2022-11-30T11:13:45.784Z"
   },
   {
    "duration": 139,
    "start_time": "2022-11-30T11:13:46.104Z"
   },
   {
    "duration": 81576,
    "start_time": "2022-11-30T11:13:46.573Z"
   },
   {
    "duration": 9,
    "start_time": "2022-11-30T11:16:41.525Z"
   },
   {
    "duration": 7,
    "start_time": "2022-11-30T11:16:53.536Z"
   },
   {
    "duration": 804,
    "start_time": "2022-11-30T11:16:55.076Z"
   },
   {
    "duration": 10,
    "start_time": "2022-11-30T11:18:40.054Z"
   },
   {
    "duration": 6,
    "start_time": "2022-11-30T11:18:40.621Z"
   },
   {
    "duration": 15,
    "start_time": "2022-11-30T11:18:51.084Z"
   },
   {
    "duration": 1536,
    "start_time": "2022-11-30T11:19:12.427Z"
   },
   {
    "duration": 9,
    "start_time": "2022-11-30T11:20:37.646Z"
   },
   {
    "duration": 6,
    "start_time": "2022-11-30T11:20:38.294Z"
   },
   {
    "duration": 11,
    "start_time": "2022-11-30T11:20:41.213Z"
   },
   {
    "duration": 323,
    "start_time": "2022-11-30T11:20:50.063Z"
   },
   {
    "duration": 9,
    "start_time": "2022-11-30T11:23:01.936Z"
   },
   {
    "duration": 6,
    "start_time": "2022-11-30T11:23:02.258Z"
   },
   {
    "duration": 18,
    "start_time": "2022-11-30T11:23:02.804Z"
   },
   {
    "duration": 4,
    "start_time": "2022-11-30T11:23:03.526Z"
   },
   {
    "duration": 4,
    "start_time": "2022-11-30T11:23:05.405Z"
   },
   {
    "duration": 251510,
    "start_time": "2022-11-30T11:23:06.076Z"
   },
   {
    "duration": 3,
    "start_time": "2022-11-30T11:27:17.596Z"
   },
   {
    "duration": 25,
    "start_time": "2022-11-30T11:27:17.600Z"
   },
   {
    "duration": 1141,
    "start_time": "2022-11-30T11:27:17.627Z"
   },
   {
    "duration": 1185,
    "start_time": "2022-11-30T12:51:33.925Z"
   },
   {
    "duration": 1157,
    "start_time": "2022-12-01T06:51:26.484Z"
   },
   {
    "duration": 87,
    "start_time": "2022-12-01T06:51:27.643Z"
   },
   {
    "duration": 19,
    "start_time": "2022-12-01T06:51:27.733Z"
   },
   {
    "duration": 12,
    "start_time": "2022-12-01T06:51:29.497Z"
   },
   {
    "duration": 9,
    "start_time": "2022-12-01T06:51:32.681Z"
   },
   {
    "duration": 7,
    "start_time": "2022-12-01T06:51:51.998Z"
   },
   {
    "duration": 8,
    "start_time": "2022-12-01T06:52:06.893Z"
   },
   {
    "duration": 2013,
    "start_time": "2022-12-01T06:52:07.190Z"
   },
   {
    "duration": 43,
    "start_time": "2022-12-01T06:52:09.205Z"
   },
   {
    "duration": 7,
    "start_time": "2022-12-01T06:52:12.187Z"
   },
   {
    "duration": 7,
    "start_time": "2022-12-01T06:52:17.728Z"
   },
   {
    "duration": 4,
    "start_time": "2022-12-01T06:52:23.100Z"
   },
   {
    "duration": 18,
    "start_time": "2022-12-01T06:52:23.546Z"
   },
   {
    "duration": 11,
    "start_time": "2022-12-01T06:52:27.999Z"
   },
   {
    "duration": 18,
    "start_time": "2022-12-01T06:52:28.947Z"
   },
   {
    "duration": 5,
    "start_time": "2022-12-01T06:52:53.846Z"
   },
   {
    "duration": 10,
    "start_time": "2022-12-01T06:53:05.716Z"
   },
   {
    "duration": 4,
    "start_time": "2022-12-01T06:53:06.463Z"
   },
   {
    "duration": 21,
    "start_time": "2022-12-01T06:53:17.496Z"
   },
   {
    "duration": 8,
    "start_time": "2022-12-01T06:53:30.082Z"
   },
   {
    "duration": 3,
    "start_time": "2022-12-01T06:53:32.263Z"
   },
   {
    "duration": 4,
    "start_time": "2022-12-01T06:53:34.683Z"
   },
   {
    "duration": 4,
    "start_time": "2022-12-01T06:53:35.018Z"
   },
   {
    "duration": 129015,
    "start_time": "2022-12-01T06:53:36.676Z"
   },
   {
    "duration": 5,
    "start_time": "2022-12-01T06:55:45.692Z"
   },
   {
    "duration": 14,
    "start_time": "2022-12-01T06:55:45.699Z"
   },
   {
    "duration": 71,
    "start_time": "2022-12-01T06:55:45.715Z"
   },
   {
    "duration": 68,
    "start_time": "2022-12-01T09:44:50.193Z"
   },
   {
    "duration": 7,
    "start_time": "2022-12-01T09:44:55.706Z"
   },
   {
    "duration": 794,
    "start_time": "2022-12-01T09:44:56.035Z"
   },
   {
    "duration": 7,
    "start_time": "2022-12-01T09:44:58.260Z"
   },
   {
    "duration": 4,
    "start_time": "2022-12-01T09:44:58.514Z"
   },
   {
    "duration": 16,
    "start_time": "2022-12-01T09:45:00.138Z"
   },
   {
    "duration": 1418,
    "start_time": "2022-12-01T09:45:00.995Z"
   },
   {
    "duration": 7,
    "start_time": "2022-12-01T09:45:02.415Z"
   },
   {
    "duration": 5,
    "start_time": "2022-12-01T09:45:03.543Z"
   },
   {
    "duration": 10,
    "start_time": "2022-12-01T09:45:03.823Z"
   },
   {
    "duration": 303,
    "start_time": "2022-12-01T09:45:04.135Z"
   },
   {
    "duration": 8,
    "start_time": "2022-12-01T09:45:06.229Z"
   },
   {
    "duration": 4,
    "start_time": "2022-12-01T09:45:06.559Z"
   },
   {
    "duration": 14,
    "start_time": "2022-12-01T09:45:07.339Z"
   },
   {
    "duration": 3,
    "start_time": "2022-12-01T09:45:07.572Z"
   },
   {
    "duration": 3,
    "start_time": "2022-12-01T09:45:07.945Z"
   },
   {
    "duration": 235805,
    "start_time": "2022-12-01T09:45:08.958Z"
   },
   {
    "duration": 3,
    "start_time": "2022-12-01T09:49:04.765Z"
   },
   {
    "duration": 19,
    "start_time": "2022-12-01T09:49:04.770Z"
   },
   {
    "duration": 1074,
    "start_time": "2022-12-01T09:49:04.792Z"
   },
   {
    "duration": 1066,
    "start_time": "2022-12-01T09:52:19.366Z"
   },
   {
    "duration": 1083,
    "start_time": "2022-12-01T09:52:25.542Z"
   },
   {
    "duration": 1091,
    "start_time": "2022-12-01T09:54:43.090Z"
   },
   {
    "duration": 1094,
    "start_time": "2022-12-01T09:55:50.105Z"
   },
   {
    "duration": 1136,
    "start_time": "2022-12-01T09:55:58.102Z"
   },
   {
    "duration": 1147,
    "start_time": "2022-12-01T09:56:04.960Z"
   },
   {
    "duration": 1103,
    "start_time": "2022-12-01T09:56:14.650Z"
   },
   {
    "duration": 5,
    "start_time": "2022-12-01T10:02:57.218Z"
   },
   {
    "duration": 4,
    "start_time": "2022-12-01T10:02:57.633Z"
   },
   {
    "duration": 4,
    "start_time": "2022-12-01T10:02:57.966Z"
   },
   {
    "duration": 7,
    "start_time": "2022-12-01T10:02:58.297Z"
   },
   {
    "duration": 109,
    "start_time": "2022-12-01T10:02:58.635Z"
   },
   {
    "duration": 6,
    "start_time": "2022-12-01T10:03:09.308Z"
   },
   {
    "duration": 5,
    "start_time": "2022-12-01T10:03:58.039Z"
   },
   {
    "duration": 6,
    "start_time": "2022-12-01T10:04:04.526Z"
   },
   {
    "duration": 3,
    "start_time": "2022-12-01T10:04:10.048Z"
   },
   {
    "duration": 3,
    "start_time": "2022-12-01T10:04:10.357Z"
   },
   {
    "duration": 3,
    "start_time": "2022-12-01T10:04:11.205Z"
   },
   {
    "duration": 109362,
    "start_time": "2022-12-01T10:04:14.141Z"
   },
   {
    "duration": 3,
    "start_time": "2022-12-01T10:06:03.505Z"
   },
   {
    "duration": 11,
    "start_time": "2022-12-01T10:06:03.510Z"
   },
   {
    "duration": 3,
    "start_time": "2022-12-01T10:06:37.697Z"
   },
   {
    "duration": 4,
    "start_time": "2022-12-01T10:06:37.926Z"
   },
   {
    "duration": 79,
    "start_time": "2022-12-01T10:06:41.202Z"
   },
   {
    "duration": 58,
    "start_time": "2022-12-01T10:06:58.769Z"
   },
   {
    "duration": 72,
    "start_time": "2022-12-01T10:07:12.412Z"
   },
   {
    "duration": 70,
    "start_time": "2022-12-01T10:09:41.797Z"
   },
   {
    "duration": 10,
    "start_time": "2022-12-01T10:10:02.860Z"
   },
   {
    "duration": 72,
    "start_time": "2022-12-01T10:10:07.627Z"
   },
   {
    "duration": 60,
    "start_time": "2022-12-01T10:10:14.969Z"
   },
   {
    "duration": 9,
    "start_time": "2022-12-01T10:10:22.614Z"
   },
   {
    "duration": 17,
    "start_time": "2022-12-01T10:10:25.969Z"
   },
   {
    "duration": 3,
    "start_time": "2022-12-01T10:12:02.270Z"
   },
   {
    "duration": 110347,
    "start_time": "2022-12-01T10:13:53.195Z"
   },
   {
    "duration": 3,
    "start_time": "2022-12-01T10:15:43.544Z"
   },
   {
    "duration": 6,
    "start_time": "2022-12-01T10:15:43.549Z"
   },
   {
    "duration": 69,
    "start_time": "2022-12-01T10:15:43.557Z"
   },
   {
    "duration": 18,
    "start_time": "2022-12-01T10:15:43.628Z"
   },
   {
    "duration": 54,
    "start_time": "2022-12-01T10:16:26.308Z"
   },
   {
    "duration": 17,
    "start_time": "2022-12-01T10:16:26.639Z"
   },
   {
    "duration": 59,
    "start_time": "2022-12-01T10:16:33.109Z"
   },
   {
    "duration": 9,
    "start_time": "2022-12-01T10:16:41.726Z"
   },
   {
    "duration": 56,
    "start_time": "2022-12-01T10:16:44.729Z"
   },
   {
    "duration": 5,
    "start_time": "2022-12-01T10:16:49.680Z"
   },
   {
    "duration": 14,
    "start_time": "2022-12-01T10:17:30.656Z"
   },
   {
    "duration": 11,
    "start_time": "2022-12-01T10:17:40.469Z"
   },
   {
    "duration": 622,
    "start_time": "2022-12-01T10:17:45.366Z"
   },
   {
    "duration": 22,
    "start_time": "2022-12-01T10:17:45.990Z"
   },
   {
    "duration": 5,
    "start_time": "2022-12-01T10:18:05.371Z"
   },
   {
    "duration": 4,
    "start_time": "2022-12-01T10:18:19.912Z"
   },
   {
    "duration": 38,
    "start_time": "2022-12-01T10:18:20.234Z"
   },
   {
    "duration": 13,
    "start_time": "2022-12-01T10:18:20.566Z"
   },
   {
    "duration": 12,
    "start_time": "2022-12-01T10:18:21.457Z"
   },
   {
    "duration": 11,
    "start_time": "2022-12-01T10:18:22.441Z"
   },
   {
    "duration": 6,
    "start_time": "2022-12-01T10:18:22.696Z"
   },
   {
    "duration": 7,
    "start_time": "2022-12-01T10:18:23.246Z"
   },
   {
    "duration": 1523,
    "start_time": "2022-12-01T10:18:23.495Z"
   },
   {
    "duration": 40,
    "start_time": "2022-12-01T10:18:25.021Z"
   },
   {
    "duration": 7,
    "start_time": "2022-12-01T10:18:25.063Z"
   },
   {
    "duration": 6,
    "start_time": "2022-12-01T10:18:31.076Z"
   },
   {
    "duration": 4,
    "start_time": "2022-12-01T10:18:34.448Z"
   },
   {
    "duration": 22,
    "start_time": "2022-12-01T10:18:35.148Z"
   },
   {
    "duration": 10,
    "start_time": "2022-12-01T10:18:37.737Z"
   },
   {
    "duration": 22,
    "start_time": "2022-12-01T10:18:38.319Z"
   },
   {
    "duration": 23,
    "start_time": "2022-12-01T10:18:45.173Z"
   },
   {
    "duration": 6,
    "start_time": "2022-12-01T10:18:46.863Z"
   },
   {
    "duration": 4,
    "start_time": "2022-12-01T10:18:47.393Z"
   },
   {
    "duration": 4,
    "start_time": "2022-12-01T10:18:50.001Z"
   },
   {
    "duration": 9,
    "start_time": "2022-12-01T10:18:50.520Z"
   },
   {
    "duration": 6,
    "start_time": "2022-12-01T10:18:51.007Z"
   },
   {
    "duration": 2,
    "start_time": "2022-12-01T10:19:00.822Z"
   },
   {
    "duration": 4,
    "start_time": "2022-12-01T10:19:01.215Z"
   },
   {
    "duration": 2,
    "start_time": "2022-12-01T10:19:03.174Z"
   },
   {
    "duration": 17,
    "start_time": "2022-12-01T10:19:14.237Z"
   },
   {
    "duration": 5,
    "start_time": "2022-12-01T10:19:20.930Z"
   },
   {
    "duration": 18,
    "start_time": "2022-12-01T10:19:32.247Z"
   },
   {
    "duration": 61,
    "start_time": "2022-12-01T10:20:01.909Z"
   },
   {
    "duration": 16,
    "start_time": "2022-12-01T10:20:02.515Z"
   },
   {
    "duration": 17,
    "start_time": "2022-12-01T10:20:11.083Z"
   },
   {
    "duration": 66,
    "start_time": "2022-12-01T10:22:37.791Z"
   },
   {
    "duration": 3,
    "start_time": "2022-12-01T10:25:21.785Z"
   },
   {
    "duration": 3,
    "start_time": "2022-12-01T10:25:22.083Z"
   },
   {
    "duration": 138477,
    "start_time": "2022-12-01T10:25:22.783Z"
   },
   {
    "duration": 767,
    "start_time": "2022-12-01T10:29:54.123Z"
   },
   {
    "duration": 4,
    "start_time": "2022-12-01T10:30:04.760Z"
   },
   {
    "duration": 3,
    "start_time": "2022-12-01T10:30:41.834Z"
   },
   {
    "duration": 4767,
    "start_time": "2022-12-01T10:30:42.177Z"
   },
   {
    "duration": 5,
    "start_time": "2022-12-01T10:31:05.421Z"
   },
   {
    "duration": 5,
    "start_time": "2022-12-01T10:31:17.126Z"
   },
   {
    "duration": 20,
    "start_time": "2022-12-01T10:31:18.958Z"
   },
   {
    "duration": 11,
    "start_time": "2022-12-01T10:31:20.915Z"
   },
   {
    "duration": 21,
    "start_time": "2022-12-01T10:31:21.508Z"
   },
   {
    "duration": 6,
    "start_time": "2022-12-01T10:31:24.406Z"
   },
   {
    "duration": 4,
    "start_time": "2022-12-01T10:31:24.678Z"
   },
   {
    "duration": 4,
    "start_time": "2022-12-01T10:31:24.927Z"
   },
   {
    "duration": 7,
    "start_time": "2022-12-01T10:31:25.154Z"
   },
   {
    "duration": 6,
    "start_time": "2022-12-01T10:31:25.930Z"
   },
   {
    "duration": 3,
    "start_time": "2022-12-01T10:31:28.331Z"
   },
   {
    "duration": 3,
    "start_time": "2022-12-01T10:31:28.624Z"
   },
   {
    "duration": 3,
    "start_time": "2022-12-01T10:31:29.311Z"
   },
   {
    "duration": 139476,
    "start_time": "2022-12-01T10:31:29.705Z"
   },
   {
    "duration": 2,
    "start_time": "2022-12-01T10:33:49.183Z"
   },
   {
    "duration": 5,
    "start_time": "2022-12-01T10:33:49.195Z"
   },
   {
    "duration": 74,
    "start_time": "2022-12-01T11:44:43.523Z"
   },
   {
    "duration": 7,
    "start_time": "2022-12-01T11:45:20.189Z"
   },
   {
    "duration": 780,
    "start_time": "2022-12-01T11:45:20.504Z"
   },
   {
    "duration": 7,
    "start_time": "2022-12-01T11:45:27.211Z"
   },
   {
    "duration": 4,
    "start_time": "2022-12-01T11:45:27.490Z"
   },
   {
    "duration": 18,
    "start_time": "2022-12-01T11:45:27.777Z"
   },
   {
    "duration": 1449,
    "start_time": "2022-12-01T11:45:28.133Z"
   },
   {
    "duration": 8,
    "start_time": "2022-12-01T11:45:32.076Z"
   },
   {
    "duration": 5,
    "start_time": "2022-12-01T11:45:32.470Z"
   },
   {
    "duration": 12,
    "start_time": "2022-12-01T11:45:32.976Z"
   },
   {
    "duration": 319,
    "start_time": "2022-12-01T11:45:33.527Z"
   },
   {
    "duration": 9,
    "start_time": "2022-12-01T11:45:35.820Z"
   },
   {
    "duration": 4,
    "start_time": "2022-12-01T11:45:36.033Z"
   },
   {
    "duration": 18,
    "start_time": "2022-12-01T11:45:36.231Z"
   },
   {
    "duration": 5,
    "start_time": "2022-12-01T11:45:36.427Z"
   },
   {
    "duration": 3,
    "start_time": "2022-12-01T11:45:36.624Z"
   },
   {
    "duration": 181578,
    "start_time": "2022-12-01T11:45:37.144Z"
   },
   {
    "duration": 9,
    "start_time": "2022-12-01T11:48:38.724Z"
   },
   {
    "duration": 0,
    "start_time": "2022-12-01T11:48:38.735Z"
   },
   {
    "duration": 0,
    "start_time": "2022-12-01T11:48:38.738Z"
   },
   {
    "duration": 0,
    "start_time": "2022-12-01T11:48:38.739Z"
   },
   {
    "duration": 3,
    "start_time": "2022-12-01T11:48:41.500Z"
   },
   {
    "duration": 4,
    "start_time": "2022-12-01T11:48:41.792Z"
   },
   {
    "duration": 326525,
    "start_time": "2022-12-01T11:48:42.839Z"
   },
   {
    "duration": 3,
    "start_time": "2022-12-01T11:54:09.367Z"
   },
   {
    "duration": 30,
    "start_time": "2022-12-01T11:54:09.371Z"
   },
   {
    "duration": 1277,
    "start_time": "2022-12-01T11:54:09.407Z"
   },
   {
    "duration": 1111,
    "start_time": "2022-12-01T11:54:28.680Z"
   },
   {
    "duration": 7,
    "start_time": "2022-12-01T12:00:55.510Z"
   },
   {
    "duration": 5,
    "start_time": "2022-12-01T12:01:00.283Z"
   },
   {
    "duration": 17,
    "start_time": "2022-12-01T12:01:01.365Z"
   },
   {
    "duration": 3,
    "start_time": "2022-12-01T12:01:02.128Z"
   },
   {
    "duration": 3,
    "start_time": "2022-12-01T12:01:04.857Z"
   },
   {
    "duration": 447565,
    "start_time": "2022-12-01T12:01:06.810Z"
   },
   {
    "duration": 3,
    "start_time": "2022-12-01T12:08:34.377Z"
   },
   {
    "duration": 35,
    "start_time": "2022-12-01T12:08:34.381Z"
   },
   {
    "duration": 223,
    "start_time": "2022-12-01T12:11:11.763Z"
   },
   {
    "duration": 204,
    "start_time": "2022-12-01T12:11:34.145Z"
   },
   {
    "duration": 13,
    "start_time": "2022-12-01T12:11:43.327Z"
   },
   {
    "duration": 6,
    "start_time": "2022-12-01T12:11:58.867Z"
   },
   {
    "duration": 1065,
    "start_time": "2022-12-01T12:12:37.156Z"
   },
   {
    "duration": 41,
    "start_time": "2022-12-01T12:12:38.223Z"
   },
   {
    "duration": 18,
    "start_time": "2022-12-01T12:12:38.266Z"
   },
   {
    "duration": 18,
    "start_time": "2022-12-01T12:12:38.286Z"
   },
   {
    "duration": 7,
    "start_time": "2022-12-01T12:12:38.311Z"
   },
   {
    "duration": 6,
    "start_time": "2022-12-01T12:12:38.320Z"
   },
   {
    "duration": 9,
    "start_time": "2022-12-01T12:12:38.328Z"
   },
   {
    "duration": 1850,
    "start_time": "2022-12-01T12:12:38.339Z"
   },
   {
    "duration": 52,
    "start_time": "2022-12-01T12:12:40.190Z"
   },
   {
    "duration": 6,
    "start_time": "2022-12-01T12:12:40.245Z"
   },
   {
    "duration": 4,
    "start_time": "2022-12-01T12:12:40.253Z"
   },
   {
    "duration": 4566,
    "start_time": "2022-12-01T12:12:40.258Z"
   },
   {
    "duration": 5,
    "start_time": "2022-12-01T12:12:44.826Z"
   },
   {
    "duration": 35,
    "start_time": "2022-12-01T12:12:44.832Z"
   },
   {
    "duration": 43,
    "start_time": "2022-12-01T12:12:44.869Z"
   },
   {
    "duration": 27,
    "start_time": "2022-12-01T12:12:44.913Z"
   },
   {
    "duration": 44,
    "start_time": "2022-12-01T12:12:44.942Z"
   },
   {
    "duration": 43,
    "start_time": "2022-12-01T12:12:44.989Z"
   },
   {
    "duration": 47,
    "start_time": "2022-12-01T12:12:45.034Z"
   },
   {
    "duration": 40,
    "start_time": "2022-12-01T12:12:45.082Z"
   },
   {
    "duration": 33,
    "start_time": "2022-12-01T12:12:45.124Z"
   },
   {
    "duration": 14,
    "start_time": "2022-12-01T12:12:45.159Z"
   },
   {
    "duration": 9,
    "start_time": "2022-12-01T12:12:45.175Z"
   },
   {
    "duration": 40,
    "start_time": "2022-12-01T12:12:45.186Z"
   },
   {
    "duration": 22,
    "start_time": "2022-12-01T12:12:45.228Z"
   },
   {
    "duration": 141319,
    "start_time": "2022-12-01T12:12:45.251Z"
   },
   {
    "duration": 3,
    "start_time": "2022-12-01T12:15:06.571Z"
   },
   {
    "duration": 6,
    "start_time": "2022-12-01T12:15:06.577Z"
   },
   {
    "duration": 70,
    "start_time": "2022-12-01T12:15:06.585Z"
   },
   {
    "duration": 7,
    "start_time": "2022-12-01T12:15:06.657Z"
   },
   {
    "duration": 786,
    "start_time": "2022-12-01T12:15:06.666Z"
   },
   {
    "duration": 8,
    "start_time": "2022-12-01T12:15:07.453Z"
   },
   {
    "duration": 17,
    "start_time": "2022-12-01T12:15:07.462Z"
   },
   {
    "duration": 21,
    "start_time": "2022-12-01T12:15:07.481Z"
   },
   {
    "duration": 1525,
    "start_time": "2022-12-01T12:15:07.504Z"
   },
   {
    "duration": 7,
    "start_time": "2022-12-01T12:15:09.031Z"
   },
   {
    "duration": 5,
    "start_time": "2022-12-01T12:15:09.039Z"
   },
   {
    "duration": 22,
    "start_time": "2022-12-01T12:15:09.046Z"
   },
   {
    "duration": 340,
    "start_time": "2022-12-01T12:15:09.071Z"
   },
   {
    "duration": 6,
    "start_time": "2022-12-01T12:15:09.413Z"
   },
   {
    "duration": 6,
    "start_time": "2022-12-01T12:15:09.421Z"
   },
   {
    "duration": 28,
    "start_time": "2022-12-01T12:15:09.429Z"
   },
   {
    "duration": 3,
    "start_time": "2022-12-01T12:15:09.459Z"
   },
   {
    "duration": 7,
    "start_time": "2022-12-01T12:15:09.464Z"
   },
   {
    "duration": 424016,
    "start_time": "2022-12-01T12:15:09.473Z"
   },
   {
    "duration": 7,
    "start_time": "2022-12-01T12:22:13.490Z"
   },
   {
    "duration": 11,
    "start_time": "2022-12-01T12:22:13.498Z"
   },
   {
    "duration": 199,
    "start_time": "2022-12-01T12:22:13.511Z"
   },
   {
    "duration": 11,
    "start_time": "2022-12-01T12:22:13.712Z"
   },
   {
    "duration": 6,
    "start_time": "2022-12-01T12:22:13.724Z"
   },
   {
    "duration": 7,
    "start_time": "2022-12-01T12:42:43.998Z"
   },
   {
    "duration": 725,
    "start_time": "2022-12-01T12:44:00.377Z"
   },
   {
    "duration": 736,
    "start_time": "2022-12-01T12:44:18.703Z"
   },
   {
    "duration": 9,
    "start_time": "2022-12-01T12:44:22.104Z"
   },
   {
    "duration": 776,
    "start_time": "2022-12-01T12:44:26.110Z"
   },
   {
    "duration": 9,
    "start_time": "2022-12-01T12:45:21.367Z"
   },
   {
    "duration": 43,
    "start_time": "2022-12-01T12:47:21.205Z"
   },
   {
    "duration": 7,
    "start_time": "2022-12-01T12:47:27.893Z"
   },
   {
    "duration": 1143,
    "start_time": "2022-12-01T12:47:34.096Z"
   },
   {
    "duration": 42,
    "start_time": "2022-12-01T12:47:35.241Z"
   },
   {
    "duration": 22,
    "start_time": "2022-12-01T12:47:35.285Z"
   },
   {
    "duration": 15,
    "start_time": "2022-12-01T12:47:35.309Z"
   },
   {
    "duration": 8,
    "start_time": "2022-12-01T12:47:35.327Z"
   },
   {
    "duration": 15,
    "start_time": "2022-12-01T12:47:35.337Z"
   },
   {
    "duration": 13,
    "start_time": "2022-12-01T12:47:35.355Z"
   },
   {
    "duration": 2048,
    "start_time": "2022-12-01T12:47:35.370Z"
   },
   {
    "duration": 45,
    "start_time": "2022-12-01T12:47:37.421Z"
   },
   {
    "duration": 7,
    "start_time": "2022-12-01T12:47:37.468Z"
   },
   {
    "duration": 21,
    "start_time": "2022-12-01T12:47:37.478Z"
   },
   {
    "duration": 4599,
    "start_time": "2022-12-01T12:47:37.501Z"
   },
   {
    "duration": 6,
    "start_time": "2022-12-01T12:47:42.102Z"
   },
   {
    "duration": 15,
    "start_time": "2022-12-01T12:47:42.112Z"
   },
   {
    "duration": 28,
    "start_time": "2022-12-01T12:47:42.129Z"
   },
   {
    "duration": 14,
    "start_time": "2022-12-01T12:47:42.159Z"
   },
   {
    "duration": 39,
    "start_time": "2022-12-01T12:47:42.175Z"
   },
   {
    "duration": 7,
    "start_time": "2022-12-01T12:47:42.215Z"
   },
   {
    "duration": 7,
    "start_time": "2022-12-01T12:47:42.223Z"
   },
   {
    "duration": 6,
    "start_time": "2022-12-01T12:47:42.231Z"
   },
   {
    "duration": 12,
    "start_time": "2022-12-01T12:47:42.239Z"
   },
   {
    "duration": 6,
    "start_time": "2022-12-01T12:47:42.253Z"
   },
   {
    "duration": 38,
    "start_time": "2022-12-01T12:47:42.260Z"
   },
   {
    "duration": 3,
    "start_time": "2022-12-01T12:47:42.300Z"
   },
   {
    "duration": 11,
    "start_time": "2022-12-01T12:47:42.304Z"
   },
   {
    "duration": 138272,
    "start_time": "2022-12-01T12:47:42.317Z"
   },
   {
    "duration": 7,
    "start_time": "2022-12-01T12:50:00.591Z"
   },
   {
    "duration": 31,
    "start_time": "2022-12-01T12:50:00.600Z"
   },
   {
    "duration": 633,
    "start_time": "2022-12-01T12:50:00.633Z"
   },
   {
    "duration": 658,
    "start_time": "2022-12-01T12:50:01.268Z"
   },
   {
    "duration": 4,
    "start_time": "2022-12-01T12:50:01.928Z"
   },
   {
    "duration": 20,
    "start_time": "2022-12-01T12:50:01.933Z"
   },
   {
    "duration": 1210,
    "start_time": "2022-12-01T12:50:01.955Z"
   },
   {
    "duration": 4,
    "start_time": "2022-12-01T12:50:03.166Z"
   },
   {
    "duration": 16,
    "start_time": "2022-12-01T12:50:03.172Z"
   },
   {
    "duration": 282,
    "start_time": "2022-12-01T12:50:03.190Z"
   },
   {
    "duration": 5,
    "start_time": "2022-12-01T12:50:03.474Z"
   },
   {
    "duration": 17,
    "start_time": "2022-12-01T12:50:03.481Z"
   },
   {
    "duration": 15,
    "start_time": "2022-12-01T12:50:03.500Z"
   },
   {
    "duration": 3,
    "start_time": "2022-12-01T12:50:03.517Z"
   },
   {
    "duration": 3,
    "start_time": "2022-12-01T12:50:03.524Z"
   },
   {
    "duration": 336189,
    "start_time": "2022-12-01T12:50:03.528Z"
   },
   {
    "duration": 3,
    "start_time": "2022-12-01T12:55:39.719Z"
   },
   {
    "duration": 11,
    "start_time": "2022-12-01T12:55:39.723Z"
   },
   {
    "duration": 181,
    "start_time": "2022-12-01T12:55:39.736Z"
   },
   {
    "duration": 12,
    "start_time": "2022-12-01T12:55:39.919Z"
   },
   {
    "duration": 6,
    "start_time": "2022-12-01T12:55:39.934Z"
   },
   {
    "duration": 86,
    "start_time": "2022-12-01T12:58:02.669Z"
   },
   {
    "duration": 20,
    "start_time": "2022-12-01T12:58:07.812Z"
   },
   {
    "duration": 4,
    "start_time": "2022-12-01T12:58:23.840Z"
   },
   {
    "duration": 14,
    "start_time": "2022-12-01T12:58:29.096Z"
   },
   {
    "duration": 11,
    "start_time": "2022-12-01T12:59:39.152Z"
   },
   {
    "duration": 4,
    "start_time": "2022-12-01T13:00:02.173Z"
   },
   {
    "duration": 127,
    "start_time": "2022-12-01T13:00:06.384Z"
   },
   {
    "duration": 122,
    "start_time": "2022-12-01T13:00:43.748Z"
   },
   {
    "duration": 129,
    "start_time": "2022-12-01T13:02:11.346Z"
   },
   {
    "duration": 4,
    "start_time": "2022-12-01T13:06:17.608Z"
   },
   {
    "duration": 3,
    "start_time": "2022-12-01T13:06:18.035Z"
   },
   {
    "duration": 138187,
    "start_time": "2022-12-01T13:06:18.931Z"
   },
   {
    "duration": 2,
    "start_time": "2022-12-01T13:08:37.121Z"
   },
   {
    "duration": 11,
    "start_time": "2022-12-01T13:08:37.125Z"
   },
   {
    "duration": 617,
    "start_time": "2022-12-01T13:10:38.751Z"
   },
   {
    "duration": 604,
    "start_time": "2022-12-01T13:10:44.036Z"
   },
   {
    "duration": 6,
    "start_time": "2022-12-01T13:10:53.657Z"
   },
   {
    "duration": 5,
    "start_time": "2022-12-01T13:10:54.236Z"
   },
   {
    "duration": 17,
    "start_time": "2022-12-01T13:10:54.651Z"
   },
   {
    "duration": 3,
    "start_time": "2022-12-01T13:10:55.651Z"
   },
   {
    "duration": 4,
    "start_time": "2022-12-01T13:10:56.376Z"
   },
   {
    "duration": 338294,
    "start_time": "2022-12-01T13:10:59.022Z"
   },
   {
    "duration": 3,
    "start_time": "2022-12-01T13:16:37.317Z"
   },
   {
    "duration": 8,
    "start_time": "2022-12-01T13:16:37.321Z"
   },
   {
    "duration": 152,
    "start_time": "2022-12-01T13:18:44.653Z"
   },
   {
    "duration": 12,
    "start_time": "2022-12-01T13:18:45.474Z"
   },
   {
    "duration": 6,
    "start_time": "2022-12-01T13:18:46.019Z"
   },
   {
    "duration": 13,
    "start_time": "2022-12-01T13:18:48.589Z"
   },
   {
    "duration": 125,
    "start_time": "2022-12-01T13:18:48.788Z"
   },
   {
    "duration": 130,
    "start_time": "2022-12-01T13:31:39.075Z"
   },
   {
    "duration": 51,
    "start_time": "2022-12-03T13:08:46.291Z"
   },
   {
    "duration": 1540,
    "start_time": "2022-12-03T13:08:50.027Z"
   },
   {
    "duration": 94,
    "start_time": "2022-12-03T13:08:51.569Z"
   },
   {
    "duration": 20,
    "start_time": "2022-12-03T13:08:51.665Z"
   },
   {
    "duration": 16,
    "start_time": "2022-12-03T13:08:51.687Z"
   },
   {
    "duration": 8,
    "start_time": "2022-12-03T13:08:53.853Z"
   },
   {
    "duration": 7,
    "start_time": "2022-12-03T13:08:55.773Z"
   },
   {
    "duration": 4,
    "start_time": "2022-12-03T13:08:58.576Z"
   },
   {
    "duration": 5137,
    "start_time": "2022-12-03T13:08:59.293Z"
   },
   {
    "duration": 1732,
    "start_time": "2022-12-03T13:09:10.184Z"
   },
   {
    "duration": 53,
    "start_time": "2022-12-03T13:09:19.373Z"
   },
   {
    "duration": 7,
    "start_time": "2022-12-03T13:09:19.785Z"
   },
   {
    "duration": 4,
    "start_time": "2022-12-03T13:09:22.264Z"
   },
   {
    "duration": 5066,
    "start_time": "2022-12-03T13:09:23.142Z"
   },
   {
    "duration": 6,
    "start_time": "2022-12-03T13:09:28.212Z"
   },
   {
    "duration": 6,
    "start_time": "2022-12-03T13:09:43.639Z"
   },
   {
    "duration": 21,
    "start_time": "2022-12-03T13:09:45.141Z"
   },
   {
    "duration": 8,
    "start_time": "2022-12-03T13:12:54.811Z"
   },
   {
    "duration": 6,
    "start_time": "2022-12-03T13:12:55.668Z"
   },
   {
    "duration": 5,
    "start_time": "2022-12-03T13:12:56.210Z"
   },
   {
    "duration": 8,
    "start_time": "2022-12-03T13:12:57.271Z"
   },
   {
    "duration": 22,
    "start_time": "2022-12-03T13:13:05.637Z"
   },
   {
    "duration": 76,
    "start_time": "2022-12-03T13:13:06.611Z"
   },
   {
    "duration": 7,
    "start_time": "2022-12-03T13:13:13.688Z"
   },
   {
    "duration": 4,
    "start_time": "2022-12-03T13:13:24.204Z"
   },
   {
    "duration": 4,
    "start_time": "2022-12-03T13:13:24.840Z"
   },
   {
    "duration": 3,
    "start_time": "2022-12-03T13:13:25.389Z"
   },
   {
    "duration": 2191,
    "start_time": "2022-12-03T13:13:26.276Z"
   },
   {
    "duration": 3,
    "start_time": "2022-12-03T13:13:29.767Z"
   },
   {
    "duration": 4,
    "start_time": "2022-12-03T13:13:30.146Z"
   },
   {
    "duration": 17,
    "start_time": "2022-12-03T13:13:31.440Z"
   },
   {
    "duration": 6,
    "start_time": "2022-12-03T13:13:43.670Z"
   },
   {
    "duration": 46,
    "start_time": "2022-12-03T13:13:44.054Z"
   },
   {
    "duration": 14,
    "start_time": "2022-12-03T13:13:44.212Z"
   },
   {
    "duration": 18,
    "start_time": "2022-12-03T13:13:44.392Z"
   },
   {
    "duration": 10,
    "start_time": "2022-12-03T13:13:44.840Z"
   },
   {
    "duration": 7,
    "start_time": "2022-12-03T13:13:45.015Z"
   },
   {
    "duration": 5,
    "start_time": "2022-12-03T13:13:45.495Z"
   },
   {
    "duration": 5181,
    "start_time": "2022-12-03T13:13:45.659Z"
   },
   {
    "duration": 1621,
    "start_time": "2022-12-03T13:13:50.842Z"
   },
   {
    "duration": 57,
    "start_time": "2022-12-03T13:13:52.465Z"
   },
   {
    "duration": 8,
    "start_time": "2022-12-03T13:13:52.524Z"
   },
   {
    "duration": 21,
    "start_time": "2022-12-03T13:13:52.534Z"
   },
   {
    "duration": 5261,
    "start_time": "2022-12-03T13:13:52.557Z"
   },
   {
    "duration": 6,
    "start_time": "2022-12-03T13:13:57.820Z"
   },
   {
    "duration": 7,
    "start_time": "2022-12-03T13:13:57.827Z"
   },
   {
    "duration": 20,
    "start_time": "2022-12-03T13:13:57.836Z"
   },
   {
    "duration": 6,
    "start_time": "2022-12-03T13:13:57.859Z"
   },
   {
    "duration": 5,
    "start_time": "2022-12-03T13:13:57.867Z"
   },
   {
    "duration": 43,
    "start_time": "2022-12-03T13:13:57.873Z"
   },
   {
    "duration": 15,
    "start_time": "2022-12-03T13:13:57.917Z"
   },
   {
    "duration": 24,
    "start_time": "2022-12-03T13:13:57.934Z"
   },
   {
    "duration": 8,
    "start_time": "2022-12-03T13:13:57.959Z"
   },
   {
    "duration": 3,
    "start_time": "2022-12-03T13:14:37.760Z"
   },
   {
    "duration": 5,
    "start_time": "2022-12-03T13:14:38.050Z"
   },
   {
    "duration": 4,
    "start_time": "2022-12-03T13:14:38.365Z"
   },
   {
    "duration": 2044,
    "start_time": "2022-12-03T13:14:38.740Z"
   },
   {
    "duration": 3,
    "start_time": "2022-12-03T13:14:40.930Z"
   },
   {
    "duration": 4,
    "start_time": "2022-12-03T13:14:41.324Z"
   },
   {
    "duration": 21,
    "start_time": "2022-12-03T13:14:44.754Z"
   },
   {
    "duration": 18,
    "start_time": "2022-12-03T13:15:10.450Z"
   },
   {
    "duration": 4,
    "start_time": "2022-12-03T13:15:34.280Z"
   },
   {
    "duration": 9,
    "start_time": "2022-12-03T13:16:20.069Z"
   },
   {
    "duration": 7,
    "start_time": "2022-12-03T13:16:46.389Z"
   },
   {
    "duration": 4,
    "start_time": "2022-12-03T13:16:50.464Z"
   },
   {
    "duration": 5007,
    "start_time": "2022-12-03T13:16:51.212Z"
   },
   {
    "duration": 1820,
    "start_time": "2022-12-03T13:16:56.221Z"
   },
   {
    "duration": 52,
    "start_time": "2022-12-03T13:16:58.043Z"
   },
   {
    "duration": 7,
    "start_time": "2022-12-03T13:16:58.112Z"
   },
   {
    "duration": 7,
    "start_time": "2022-12-03T13:16:58.120Z"
   },
   {
    "duration": 5427,
    "start_time": "2022-12-03T13:16:58.129Z"
   },
   {
    "duration": 7,
    "start_time": "2022-12-03T13:17:03.557Z"
   },
   {
    "duration": 14,
    "start_time": "2022-12-03T13:17:03.566Z"
   },
   {
    "duration": 7,
    "start_time": "2022-12-03T13:17:09.593Z"
   },
   {
    "duration": 7,
    "start_time": "2022-12-03T13:17:26.132Z"
   },
   {
    "duration": 5,
    "start_time": "2022-12-03T13:17:32.205Z"
   },
   {
    "duration": 5,
    "start_time": "2022-12-03T13:17:32.604Z"
   },
   {
    "duration": 5268,
    "start_time": "2022-12-03T13:17:32.859Z"
   },
   {
    "duration": 2030,
    "start_time": "2022-12-03T13:17:38.129Z"
   },
   {
    "duration": 69,
    "start_time": "2022-12-03T13:17:40.161Z"
   },
   {
    "duration": 7,
    "start_time": "2022-12-03T13:17:40.232Z"
   },
   {
    "duration": 5,
    "start_time": "2022-12-03T13:17:40.241Z"
   },
   {
    "duration": 5516,
    "start_time": "2022-12-03T13:17:40.248Z"
   },
   {
    "duration": 6,
    "start_time": "2022-12-03T13:17:45.766Z"
   },
   {
    "duration": 15,
    "start_time": "2022-12-03T13:17:45.774Z"
   },
   {
    "duration": 33,
    "start_time": "2022-12-03T13:17:45.791Z"
   },
   {
    "duration": 20,
    "start_time": "2022-12-03T13:17:45.827Z"
   },
   {
    "duration": 15,
    "start_time": "2022-12-03T13:17:45.849Z"
   },
   {
    "duration": 8,
    "start_time": "2022-12-03T13:17:45.865Z"
   },
   {
    "duration": 17,
    "start_time": "2022-12-03T13:17:45.875Z"
   },
   {
    "duration": 37,
    "start_time": "2022-12-03T13:17:45.894Z"
   },
   {
    "duration": 21,
    "start_time": "2022-12-03T13:17:45.933Z"
   },
   {
    "duration": 8,
    "start_time": "2022-12-03T13:17:45.956Z"
   },
   {
    "duration": 19,
    "start_time": "2022-12-03T13:17:45.966Z"
   },
   {
    "duration": 19,
    "start_time": "2022-12-03T13:17:45.987Z"
   },
   {
    "duration": 2383,
    "start_time": "2022-12-03T13:17:46.008Z"
   },
   {
    "duration": 4,
    "start_time": "2022-12-03T13:17:48.393Z"
   },
   {
    "duration": 7,
    "start_time": "2022-12-03T13:17:48.399Z"
   },
   {
    "duration": 19,
    "start_time": "2022-12-03T13:17:48.408Z"
   },
   {
    "duration": 5,
    "start_time": "2022-12-03T13:20:18.832Z"
   },
   {
    "duration": 39,
    "start_time": "2022-12-03T13:20:19.195Z"
   },
   {
    "duration": 13,
    "start_time": "2022-12-03T13:20:19.356Z"
   },
   {
    "duration": 13,
    "start_time": "2022-12-03T13:20:19.503Z"
   },
   {
    "duration": 8,
    "start_time": "2022-12-03T13:20:19.938Z"
   },
   {
    "duration": 7,
    "start_time": "2022-12-03T13:20:20.066Z"
   },
   {
    "duration": 785,
    "start_time": "2022-12-03T13:20:20.492Z"
   },
   {
    "duration": 0,
    "start_time": "2022-12-03T13:20:21.279Z"
   },
   {
    "duration": 0,
    "start_time": "2022-12-03T13:20:21.281Z"
   },
   {
    "duration": 0,
    "start_time": "2022-12-03T13:20:21.282Z"
   },
   {
    "duration": 43,
    "start_time": "2022-12-03T13:20:21.413Z"
   },
   {
    "duration": 7,
    "start_time": "2022-12-03T13:20:21.572Z"
   },
   {
    "duration": 4,
    "start_time": "2022-12-03T13:20:21.904Z"
   },
   {
    "duration": 5266,
    "start_time": "2022-12-03T13:20:22.069Z"
   },
   {
    "duration": 6,
    "start_time": "2022-12-03T13:20:27.338Z"
   },
   {
    "duration": 23,
    "start_time": "2022-12-03T13:20:27.345Z"
   },
   {
    "duration": 0,
    "start_time": "2022-12-03T13:20:27.370Z"
   },
   {
    "duration": 5,
    "start_time": "2022-12-03T13:20:52.563Z"
   },
   {
    "duration": 6,
    "start_time": "2022-12-03T13:20:53.446Z"
   },
   {
    "duration": 5411,
    "start_time": "2022-12-03T13:20:53.882Z"
   },
   {
    "duration": 1761,
    "start_time": "2022-12-03T13:20:59.295Z"
   },
   {
    "duration": 81,
    "start_time": "2022-12-03T13:21:01.058Z"
   },
   {
    "duration": 8,
    "start_time": "2022-12-03T13:21:01.141Z"
   },
   {
    "duration": 14,
    "start_time": "2022-12-03T13:21:01.150Z"
   },
   {
    "duration": 5319,
    "start_time": "2022-12-03T13:21:01.166Z"
   },
   {
    "duration": 8,
    "start_time": "2022-12-03T13:21:06.487Z"
   },
   {
    "duration": 16,
    "start_time": "2022-12-03T13:21:06.499Z"
   },
   {
    "duration": 15,
    "start_time": "2022-12-03T13:21:06.518Z"
   },
   {
    "duration": 23,
    "start_time": "2022-12-03T13:21:06.536Z"
   },
   {
    "duration": 12,
    "start_time": "2022-12-03T13:21:06.561Z"
   },
   {
    "duration": 21,
    "start_time": "2022-12-03T13:21:06.576Z"
   },
   {
    "duration": 19,
    "start_time": "2022-12-03T13:21:06.600Z"
   },
   {
    "duration": 46,
    "start_time": "2022-12-03T13:21:06.621Z"
   },
   {
    "duration": 6,
    "start_time": "2022-12-03T13:21:06.669Z"
   },
   {
    "duration": 14,
    "start_time": "2022-12-03T13:21:06.677Z"
   },
   {
    "duration": 17,
    "start_time": "2022-12-03T13:21:06.693Z"
   },
   {
    "duration": 24,
    "start_time": "2022-12-03T13:21:06.712Z"
   },
   {
    "duration": 164646,
    "start_time": "2022-12-03T13:21:06.738Z"
   },
   {
    "duration": 2,
    "start_time": "2022-12-03T13:23:51.386Z"
   },
   {
    "duration": 22,
    "start_time": "2022-12-03T13:23:51.390Z"
   },
   {
    "duration": 732,
    "start_time": "2022-12-03T13:23:51.414Z"
   },
   {
    "duration": 728,
    "start_time": "2022-12-03T13:24:33.379Z"
   },
   {
    "duration": 4,
    "start_time": "2022-12-03T13:24:36.804Z"
   },
   {
    "duration": 20,
    "start_time": "2022-12-03T13:24:37.261Z"
   },
   {
    "duration": 1311,
    "start_time": "2022-12-03T13:24:37.678Z"
   },
   {
    "duration": 6,
    "start_time": "2022-12-03T13:25:03.467Z"
   },
   {
    "duration": 5,
    "start_time": "2022-12-03T13:25:21.758Z"
   },
   {
    "duration": 6,
    "start_time": "2022-12-03T13:25:31.460Z"
   },
   {
    "duration": 12,
    "start_time": "2022-12-03T13:25:31.772Z"
   },
   {
    "duration": 1045,
    "start_time": "2022-12-03T13:25:32.271Z"
   },
   {
    "duration": 6,
    "start_time": "2022-12-03T13:25:33.319Z"
   },
   {
    "duration": 5,
    "start_time": "2022-12-03T13:25:52.446Z"
   },
   {
    "duration": 21,
    "start_time": "2022-12-03T13:25:52.764Z"
   },
   {
    "duration": 15,
    "start_time": "2022-12-03T13:25:58.272Z"
   },
   {
    "duration": 481,
    "start_time": "2022-12-03T13:25:58.927Z"
   },
   {
    "duration": 6,
    "start_time": "2022-12-03T13:26:29.625Z"
   },
   {
    "duration": 5,
    "start_time": "2022-12-03T13:26:30.068Z"
   },
   {
    "duration": 13,
    "start_time": "2022-12-03T13:26:30.408Z"
   },
   {
    "duration": 4,
    "start_time": "2022-12-03T13:26:30.706Z"
   },
   {
    "duration": 3,
    "start_time": "2022-12-03T13:26:31.024Z"
   },
   {
    "duration": 233343,
    "start_time": "2022-12-03T13:26:32.934Z"
   },
   {
    "duration": 3,
    "start_time": "2022-12-03T13:30:26.280Z"
   },
   {
    "duration": 18,
    "start_time": "2022-12-03T13:30:26.284Z"
   },
   {
    "duration": 139,
    "start_time": "2022-12-03T13:30:26.304Z"
   },
   {
    "duration": 16,
    "start_time": "2022-12-03T13:30:26.446Z"
   },
   {
    "duration": 14,
    "start_time": "2022-12-03T13:30:26.464Z"
   },
   {
    "duration": 94,
    "start_time": "2022-12-03T13:30:26.481Z"
   },
   {
    "duration": 162,
    "start_time": "2022-12-03T13:30:26.577Z"
   },
   {
    "duration": 1029,
    "start_time": "2022-12-03T13:31:18.024Z"
   },
   {
    "duration": 76,
    "start_time": "2022-12-03T13:31:19.056Z"
   },
   {
    "duration": 7,
    "start_time": "2022-12-03T13:31:19.251Z"
   },
   {
    "duration": 65,
    "start_time": "2022-12-03T13:31:21.599Z"
   },
   {
    "duration": 151,
    "start_time": "2022-12-03T13:31:22.153Z"
   },
   {
    "duration": 6,
    "start_time": "2022-12-03T13:33:57.516Z"
   },
   {
    "duration": 12,
    "start_time": "2022-12-03T13:33:57.921Z"
   },
   {
    "duration": 996,
    "start_time": "2022-12-03T13:33:58.349Z"
   },
   {
    "duration": 4,
    "start_time": "2022-12-03T13:34:05.095Z"
   },
   {
    "duration": 12,
    "start_time": "2022-12-03T13:34:05.404Z"
   },
   {
    "duration": 431,
    "start_time": "2022-12-03T13:34:05.712Z"
   },
   {
    "duration": 1332,
    "start_time": "2022-12-03T13:34:34.052Z"
   },
   {
    "duration": 40,
    "start_time": "2022-12-03T13:34:35.386Z"
   },
   {
    "duration": 17,
    "start_time": "2022-12-03T13:34:35.428Z"
   },
   {
    "duration": 13,
    "start_time": "2022-12-03T13:34:35.447Z"
   },
   {
    "duration": 7,
    "start_time": "2022-12-03T13:34:35.462Z"
   },
   {
    "duration": 17,
    "start_time": "2022-12-03T13:34:35.470Z"
   },
   {
    "duration": 6,
    "start_time": "2022-12-03T13:34:35.489Z"
   },
   {
    "duration": 4,
    "start_time": "2022-12-03T13:34:35.513Z"
   },
   {
    "duration": 5297,
    "start_time": "2022-12-03T13:34:35.519Z"
   },
   {
    "duration": 1770,
    "start_time": "2022-12-03T13:34:40.818Z"
   },
   {
    "duration": 47,
    "start_time": "2022-12-03T13:34:42.589Z"
   },
   {
    "duration": 7,
    "start_time": "2022-12-03T13:34:42.637Z"
   },
   {
    "duration": 4,
    "start_time": "2022-12-03T13:34:42.646Z"
   },
   {
    "duration": 5241,
    "start_time": "2022-12-03T13:34:42.653Z"
   },
   {
    "duration": 6,
    "start_time": "2022-12-03T13:34:47.896Z"
   },
   {
    "duration": 12,
    "start_time": "2022-12-03T13:34:47.904Z"
   },
   {
    "duration": 8,
    "start_time": "2022-12-03T13:34:47.918Z"
   },
   {
    "duration": 6,
    "start_time": "2022-12-03T13:34:47.928Z"
   },
   {
    "duration": 6,
    "start_time": "2022-12-03T13:34:47.936Z"
   },
   {
    "duration": 10,
    "start_time": "2022-12-03T13:34:47.943Z"
   },
   {
    "duration": 11,
    "start_time": "2022-12-03T13:34:47.955Z"
   },
   {
    "duration": 59,
    "start_time": "2022-12-03T13:34:47.968Z"
   },
   {
    "duration": 7,
    "start_time": "2022-12-03T13:34:48.029Z"
   },
   {
    "duration": 5,
    "start_time": "2022-12-03T13:34:48.037Z"
   },
   {
    "duration": 6,
    "start_time": "2022-12-03T13:34:48.043Z"
   },
   {
    "duration": 9,
    "start_time": "2022-12-03T13:34:48.050Z"
   },
   {
    "duration": 160785,
    "start_time": "2022-12-03T13:34:48.061Z"
   },
   {
    "duration": 3,
    "start_time": "2022-12-03T13:37:28.849Z"
   },
   {
    "duration": 11,
    "start_time": "2022-12-03T13:37:28.854Z"
   },
   {
    "duration": 733,
    "start_time": "2022-12-03T13:37:28.867Z"
   },
   {
    "duration": 738,
    "start_time": "2022-12-03T13:37:29.602Z"
   },
   {
    "duration": 5,
    "start_time": "2022-12-03T13:37:30.342Z"
   },
   {
    "duration": 40,
    "start_time": "2022-12-03T13:37:30.348Z"
   },
   {
    "duration": 1003,
    "start_time": "2022-12-03T13:37:30.389Z"
   },
   {
    "duration": 4,
    "start_time": "2022-12-03T13:37:31.394Z"
   },
   {
    "duration": 18,
    "start_time": "2022-12-03T13:37:31.399Z"
   },
   {
    "duration": 458,
    "start_time": "2022-12-03T13:37:31.419Z"
   },
   {
    "duration": 6,
    "start_time": "2022-12-03T13:37:31.879Z"
   },
   {
    "duration": 7,
    "start_time": "2022-12-03T13:37:31.887Z"
   },
   {
    "duration": 24,
    "start_time": "2022-12-03T13:37:31.895Z"
   },
   {
    "duration": 3,
    "start_time": "2022-12-03T13:37:31.923Z"
   },
   {
    "duration": 6,
    "start_time": "2022-12-03T13:37:31.927Z"
   },
   {
    "duration": 221424,
    "start_time": "2022-12-03T13:37:31.934Z"
   },
   {
    "duration": 4,
    "start_time": "2022-12-03T13:41:13.360Z"
   },
   {
    "duration": 7,
    "start_time": "2022-12-03T13:41:13.366Z"
   },
   {
    "duration": 979,
    "start_time": "2022-12-03T13:41:13.375Z"
   },
   {
    "duration": 69,
    "start_time": "2022-12-03T13:41:14.356Z"
   },
   {
    "duration": 5,
    "start_time": "2022-12-03T13:41:14.427Z"
   },
   {
    "duration": 78,
    "start_time": "2022-12-03T13:41:14.434Z"
   },
   {
    "duration": 146,
    "start_time": "2022-12-03T13:41:14.514Z"
   },
   {
    "duration": 567,
    "start_time": "2022-12-03T13:42:03.677Z"
   },
   {
    "duration": 32,
    "start_time": "2022-12-03T13:42:04.245Z"
   },
   {
    "duration": 6,
    "start_time": "2022-12-03T13:42:04.325Z"
   },
   {
    "duration": 35,
    "start_time": "2022-12-03T13:42:07.984Z"
   },
   {
    "duration": 134,
    "start_time": "2022-12-03T13:42:08.566Z"
   },
   {
    "duration": 42,
    "start_time": "2022-12-03T13:42:48.418Z"
   },
   {
    "duration": 6,
    "start_time": "2022-12-03T13:44:10.119Z"
   },
   {
    "duration": 6,
    "start_time": "2022-12-03T13:44:20.174Z"
   },
   {
    "duration": 6,
    "start_time": "2022-12-03T13:44:24.878Z"
   },
   {
    "duration": 16,
    "start_time": "2022-12-03T13:44:25.183Z"
   },
   {
    "duration": 7,
    "start_time": "2022-12-03T13:44:25.525Z"
   },
   {
    "duration": 1109,
    "start_time": "2022-12-03T13:44:26.837Z"
   },
   {
    "duration": 17,
    "start_time": "2022-12-03T13:44:32.983Z"
   },
   {
    "duration": 6,
    "start_time": "2022-12-03T13:44:33.409Z"
   },
   {
    "duration": 1449,
    "start_time": "2022-12-03T13:44:35.233Z"
   },
   {
    "duration": 4,
    "start_time": "2022-12-03T13:44:37.917Z"
   },
   {
    "duration": 15,
    "start_time": "2022-12-03T13:44:38.271Z"
   },
   {
    "duration": 6,
    "start_time": "2022-12-03T13:44:38.702Z"
   },
   {
    "duration": 4,
    "start_time": "2022-12-03T13:44:53.460Z"
   },
   {
    "duration": 7,
    "start_time": "2022-12-03T13:45:00.981Z"
   },
   {
    "duration": 13,
    "start_time": "2022-12-03T13:45:02.149Z"
   },
   {
    "duration": 6,
    "start_time": "2022-12-03T13:45:03.091Z"
   },
   {
    "duration": 1417,
    "start_time": "2022-12-03T13:45:04.604Z"
   },
   {
    "duration": 13,
    "start_time": "2022-12-03T13:45:10.504Z"
   },
   {
    "duration": 6,
    "start_time": "2022-12-03T13:45:10.817Z"
   },
   {
    "duration": 1017,
    "start_time": "2022-12-03T13:45:11.409Z"
   },
   {
    "duration": 4,
    "start_time": "2022-12-03T13:45:36.091Z"
   },
   {
    "duration": 7,
    "start_time": "2022-12-03T13:45:36.537Z"
   },
   {
    "duration": 11,
    "start_time": "2022-12-03T13:45:37.990Z"
   },
   {
    "duration": 6,
    "start_time": "2022-12-03T13:45:38.340Z"
   },
   {
    "duration": 478,
    "start_time": "2022-12-03T13:45:39.122Z"
   },
   {
    "duration": 12,
    "start_time": "2022-12-03T13:45:45.902Z"
   },
   {
    "duration": 6,
    "start_time": "2022-12-03T13:45:46.223Z"
   },
   {
    "duration": 519,
    "start_time": "2022-12-03T13:45:47.071Z"
   },
   {
    "duration": 11,
    "start_time": "2022-12-03T13:45:51.799Z"
   },
   {
    "duration": 6,
    "start_time": "2022-12-03T13:45:52.120Z"
   },
   {
    "duration": 12,
    "start_time": "2022-12-03T13:45:55.892Z"
   },
   {
    "duration": 7,
    "start_time": "2022-12-03T13:45:56.403Z"
   },
   {
    "duration": 10,
    "start_time": "2022-12-03T13:46:00.003Z"
   },
   {
    "duration": 5,
    "start_time": "2022-12-03T13:46:00.323Z"
   },
   {
    "duration": 11,
    "start_time": "2022-12-03T13:46:03.290Z"
   },
   {
    "duration": 6,
    "start_time": "2022-12-03T13:46:04.066Z"
   },
   {
    "duration": 419,
    "start_time": "2022-12-03T13:46:04.994Z"
   },
   {
    "duration": 6,
    "start_time": "2022-12-03T13:46:11.804Z"
   },
   {
    "duration": 5,
    "start_time": "2022-12-03T13:46:12.852Z"
   },
   {
    "duration": 12,
    "start_time": "2022-12-03T13:46:18.316Z"
   },
   {
    "duration": 4,
    "start_time": "2022-12-03T13:46:18.962Z"
   },
   {
    "duration": 4,
    "start_time": "2022-12-03T13:46:19.347Z"
   },
   {
    "duration": 229200,
    "start_time": "2022-12-03T13:46:20.441Z"
   },
   {
    "duration": 3,
    "start_time": "2022-12-03T13:50:09.643Z"
   },
   {
    "duration": 16,
    "start_time": "2022-12-03T13:50:09.649Z"
   },
   {
    "duration": 704,
    "start_time": "2022-12-03T13:50:09.669Z"
   },
   {
    "duration": 33,
    "start_time": "2022-12-03T13:50:10.375Z"
   },
   {
    "duration": 7,
    "start_time": "2022-12-03T13:50:10.413Z"
   },
   {
    "duration": 47,
    "start_time": "2022-12-03T13:50:10.422Z"
   },
   {
    "duration": 144,
    "start_time": "2022-12-03T13:50:10.472Z"
   },
   {
    "duration": 511,
    "start_time": "2022-12-03T13:51:05.594Z"
   },
   {
    "duration": 33,
    "start_time": "2022-12-03T13:51:11.897Z"
   },
   {
    "duration": 7,
    "start_time": "2022-12-03T13:51:12.076Z"
   },
   {
    "duration": 5,
    "start_time": "2022-12-03T13:58:56.348Z"
   },
   {
    "duration": 4,
    "start_time": "2022-12-03T13:58:56.645Z"
   },
   {
    "duration": 75840,
    "start_time": "2022-12-03T13:58:56.927Z"
   },
   {
    "duration": 2,
    "start_time": "2022-12-03T14:00:12.769Z"
   },
   {
    "duration": 8,
    "start_time": "2022-12-03T14:00:12.773Z"
   },
   {
    "duration": 802,
    "start_time": "2022-12-03T14:00:12.782Z"
   },
   {
    "duration": 782,
    "start_time": "2022-12-03T16:10:06.596Z"
   },
   {
    "duration": 120,
    "start_time": "2022-12-03T16:10:08.044Z"
   },
   {
    "duration": 4,
    "start_time": "2022-12-03T16:11:27.765Z"
   },
   {
    "duration": 2,
    "start_time": "2022-12-03T16:12:03.948Z"
   },
   {
    "duration": 5,
    "start_time": "2022-12-03T16:12:05.702Z"
   },
   {
    "duration": 3,
    "start_time": "2022-12-03T16:12:06.576Z"
   },
   {
    "duration": 52,
    "start_time": "2022-12-03T16:12:07.148Z"
   },
   {
    "duration": 1846995,
    "start_time": "2022-12-03T16:12:20.032Z"
   },
   {
    "duration": 4,
    "start_time": "2022-12-03T16:43:07.033Z"
   },
   {
    "duration": 6,
    "start_time": "2022-12-03T16:43:07.113Z"
   },
   {
    "duration": 949,
    "start_time": "2022-12-03T16:43:07.121Z"
   },
   {
    "duration": 61,
    "start_time": "2022-12-03T17:18:52.270Z"
   },
   {
    "duration": 3,
    "start_time": "2022-12-03T17:19:02.192Z"
   },
   {
    "duration": 3,
    "start_time": "2022-12-03T17:19:02.485Z"
   },
   {
    "duration": 292488,
    "start_time": "2022-12-03T17:19:02.826Z"
   },
   {
    "duration": 3,
    "start_time": "2022-12-03T17:23:55.316Z"
   },
   {
    "duration": 99,
    "start_time": "2022-12-03T17:23:55.321Z"
   },
   {
    "duration": 5784,
    "start_time": "2022-12-03T17:24:35.130Z"
   },
   {
    "duration": 441,
    "start_time": "2022-12-03T17:32:44.272Z"
   },
   {
    "duration": 417,
    "start_time": "2022-12-03T17:33:39.108Z"
   },
   {
    "duration": 1297,
    "start_time": "2022-12-03T17:34:30.965Z"
   },
   {
    "duration": 42,
    "start_time": "2022-12-03T17:34:32.264Z"
   },
   {
    "duration": 18,
    "start_time": "2022-12-03T17:34:32.307Z"
   },
   {
    "duration": 13,
    "start_time": "2022-12-03T17:34:32.327Z"
   },
   {
    "duration": 7,
    "start_time": "2022-12-03T17:34:32.342Z"
   },
   {
    "duration": 7,
    "start_time": "2022-12-03T17:34:32.350Z"
   },
   {
    "duration": 6,
    "start_time": "2022-12-03T17:34:32.358Z"
   },
   {
    "duration": 5,
    "start_time": "2022-12-03T17:34:32.366Z"
   },
   {
    "duration": 5064,
    "start_time": "2022-12-03T17:34:32.372Z"
   },
   {
    "duration": 1628,
    "start_time": "2022-12-03T17:34:37.439Z"
   },
   {
    "duration": 45,
    "start_time": "2022-12-03T17:34:39.069Z"
   },
   {
    "duration": 7,
    "start_time": "2022-12-03T17:34:39.115Z"
   },
   {
    "duration": 6,
    "start_time": "2022-12-03T17:34:39.123Z"
   },
   {
    "duration": 4895,
    "start_time": "2022-12-03T17:34:39.130Z"
   },
   {
    "duration": 6,
    "start_time": "2022-12-03T17:34:44.027Z"
   },
   {
    "duration": 23,
    "start_time": "2022-12-03T17:34:44.035Z"
   },
   {
    "duration": 30,
    "start_time": "2022-12-03T17:34:44.060Z"
   },
   {
    "duration": 5,
    "start_time": "2022-12-03T17:34:44.092Z"
   },
   {
    "duration": 8,
    "start_time": "2022-12-03T17:34:44.099Z"
   },
   {
    "duration": 16,
    "start_time": "2022-12-03T17:34:44.109Z"
   },
   {
    "duration": 17,
    "start_time": "2022-12-03T17:34:44.127Z"
   },
   {
    "duration": 28,
    "start_time": "2022-12-03T17:34:44.146Z"
   },
   {
    "duration": 7,
    "start_time": "2022-12-03T17:34:44.175Z"
   },
   {
    "duration": 8,
    "start_time": "2022-12-03T17:34:44.184Z"
   },
   {
    "duration": 20,
    "start_time": "2022-12-03T17:34:44.194Z"
   },
   {
    "duration": 13,
    "start_time": "2022-12-03T17:34:44.216Z"
   },
   {
    "duration": 70963,
    "start_time": "2022-12-03T17:34:44.231Z"
   },
   {
    "duration": 3,
    "start_time": "2022-12-03T17:35:55.199Z"
   },
   {
    "duration": 3,
    "start_time": "2022-12-03T17:35:55.212Z"
   },
   {
    "duration": 861,
    "start_time": "2022-12-03T17:35:55.217Z"
   },
   {
    "duration": 756,
    "start_time": "2022-12-03T17:35:56.080Z"
   },
   {
    "duration": 977,
    "start_time": "2022-12-03T17:35:56.839Z"
   },
   {
    "duration": 95,
    "start_time": "2022-12-03T17:35:57.818Z"
   },
   {
    "duration": 12,
    "start_time": "2022-12-03T17:35:57.915Z"
   },
   {
    "duration": 17,
    "start_time": "2022-12-03T17:35:57.929Z"
   },
   {
    "duration": 130,
    "start_time": "2022-12-03T17:35:57.947Z"
   },
   {
    "duration": 0,
    "start_time": "2022-12-03T17:35:58.078Z"
   },
   {
    "duration": 0,
    "start_time": "2022-12-03T17:35:58.080Z"
   },
   {
    "duration": 0,
    "start_time": "2022-12-03T17:35:58.081Z"
   },
   {
    "duration": 0,
    "start_time": "2022-12-03T17:35:58.083Z"
   },
   {
    "duration": 0,
    "start_time": "2022-12-03T17:35:58.084Z"
   },
   {
    "duration": 0,
    "start_time": "2022-12-03T17:35:58.085Z"
   },
   {
    "duration": 0,
    "start_time": "2022-12-03T17:35:58.087Z"
   },
   {
    "duration": 0,
    "start_time": "2022-12-03T17:35:58.087Z"
   },
   {
    "duration": 0,
    "start_time": "2022-12-03T17:35:58.089Z"
   },
   {
    "duration": 0,
    "start_time": "2022-12-03T17:35:58.090Z"
   },
   {
    "duration": 0,
    "start_time": "2022-12-03T17:35:58.112Z"
   },
   {
    "duration": 0,
    "start_time": "2022-12-03T17:35:58.113Z"
   },
   {
    "duration": 0,
    "start_time": "2022-12-03T17:35:58.115Z"
   },
   {
    "duration": 0,
    "start_time": "2022-12-03T17:35:58.116Z"
   },
   {
    "duration": 0,
    "start_time": "2022-12-03T17:35:58.117Z"
   },
   {
    "duration": 0,
    "start_time": "2022-12-03T17:35:58.118Z"
   },
   {
    "duration": 0,
    "start_time": "2022-12-03T17:35:58.119Z"
   },
   {
    "duration": 0,
    "start_time": "2022-12-03T17:35:58.121Z"
   },
   {
    "duration": 0,
    "start_time": "2022-12-03T17:35:58.123Z"
   },
   {
    "duration": 0,
    "start_time": "2022-12-03T17:35:58.124Z"
   },
   {
    "duration": 0,
    "start_time": "2022-12-03T17:35:58.125Z"
   },
   {
    "duration": 5,
    "start_time": "2022-12-03T17:36:40.667Z"
   },
   {
    "duration": 985,
    "start_time": "2022-12-03T17:36:47.531Z"
   },
   {
    "duration": 403,
    "start_time": "2022-12-03T17:36:48.518Z"
   },
   {
    "duration": 4,
    "start_time": "2022-12-03T17:37:02.864Z"
   },
   {
    "duration": 6,
    "start_time": "2022-12-03T17:37:03.406Z"
   },
   {
    "duration": 11,
    "start_time": "2022-12-03T17:37:04.754Z"
   },
   {
    "duration": 6,
    "start_time": "2022-12-03T17:37:06.450Z"
   },
   {
    "duration": 413,
    "start_time": "2022-12-03T17:37:09.196Z"
   },
   {
    "duration": 820,
    "start_time": "2022-12-03T17:37:10.492Z"
   },
   {
    "duration": 7,
    "start_time": "2022-12-03T17:37:14.558Z"
   },
   {
    "duration": 5,
    "start_time": "2022-12-03T17:37:15.816Z"
   },
   {
    "duration": 13,
    "start_time": "2022-12-03T17:37:26.179Z"
   },
   {
    "duration": 3,
    "start_time": "2022-12-03T17:37:26.802Z"
   },
   {
    "duration": 3,
    "start_time": "2022-12-03T17:37:28.513Z"
   },
   {
    "duration": 220046,
    "start_time": "2022-12-03T17:37:28.845Z"
   },
   {
    "duration": 2,
    "start_time": "2022-12-03T17:41:08.893Z"
   },
   {
    "duration": 16,
    "start_time": "2022-12-03T17:41:08.897Z"
   },
   {
    "duration": 1094,
    "start_time": "2022-12-03T17:41:36.256Z"
   },
   {
    "duration": 60,
    "start_time": "2022-12-03T17:41:39.454Z"
   },
   {
    "duration": 6,
    "start_time": "2022-12-03T17:41:40.170Z"
   },
   {
    "duration": 60,
    "start_time": "2022-12-03T17:41:42.434Z"
   },
   {
    "duration": 131,
    "start_time": "2022-12-03T17:41:43.324Z"
   },
   {
    "duration": 51,
    "start_time": "2022-12-03T17:48:47.988Z"
   }
  ],
  "kernelspec": {
   "display_name": "Python 3 (ipykernel)",
   "language": "python",
   "name": "python3"
  },
  "language_info": {
   "codemirror_mode": {
    "name": "ipython",
    "version": 3
   },
   "file_extension": ".py",
   "mimetype": "text/x-python",
   "name": "python",
   "nbconvert_exporter": "python",
   "pygments_lexer": "ipython3",
   "version": "3.9.7"
  },
  "toc": {
   "base_numbering": 1,
   "nav_menu": {},
   "number_sections": true,
   "sideBar": true,
   "skip_h1_title": true,
   "title_cell": "Содержание",
   "title_sidebar": "Contents",
   "toc_cell": true,
   "toc_position": {
    "height": "calc(100% - 180px)",
    "left": "10px",
    "top": "150px",
    "width": "165px"
   },
   "toc_section_display": true,
   "toc_window_display": true
  }
 },
 "nbformat": 4,
 "nbformat_minor": 2
}
