{
 "cells": [
  {
   "cell_type": "markdown",
   "metadata": {},
   "source": [
    "# Выбор локации для скважины"
   ]
  },
  {
   "cell_type": "markdown",
   "metadata": {},
   "source": [
    "Допустим, вы работаете в добывающей компании «ГлавРосГосНефть». Нужно решить, где бурить новую скважину.\n",
    "\n",
    "Вам предоставлены пробы нефти в трёх регионах: в каждом 10 000 месторождений, где измерили качество нефти и объём её запасов. Постройте модель машинного обучения, которая поможет определить регион, где добыча принесёт наибольшую прибыль. Проанализируйте возможную прибыль и риски техникой *Bootstrap.*\n",
    "\n",
    "Шаги для выбора локации:\n",
    "\n",
    "- В избранном регионе ищут месторождения, для каждого определяют значения признаков;\n",
    "- Строят модель и оценивают объём запасов;\n",
    "- Выбирают месторождения с самым высокими оценками значений. Количество месторождений зависит от бюджета компании и стоимости разработки одной скважины;\n",
    "- Прибыль равна суммарной прибыли отобранных месторождений."
   ]
  },
  {
   "cell_type": "code",
   "execution_count": 1,
   "metadata": {},
   "outputs": [],
   "source": [
    "import pandas as pd\n",
    "import numpy as np\n",
    "from sklearn.model_selection import train_test_split\n",
    "from sklearn.metrics import mean_squared_error\n",
    "from sklearn.linear_model import LinearRegression\n",
    "from math import sqrt"
   ]
  },
  {
   "cell_type": "markdown",
   "metadata": {},
   "source": [
    "## Загрузка и подготовка данных"
   ]
  },
  {
   "cell_type": "code",
   "execution_count": 2,
   "metadata": {},
   "outputs": [],
   "source": [
    "geo_data_0 = pd.read_csv('/datasets/geo_data_0.csv')"
   ]
  },
  {
   "cell_type": "code",
   "execution_count": 3,
   "metadata": {},
   "outputs": [
    {
     "data": {
      "text/html": [
       "<div>\n",
       "<style scoped>\n",
       "    .dataframe tbody tr th:only-of-type {\n",
       "        vertical-align: middle;\n",
       "    }\n",
       "\n",
       "    .dataframe tbody tr th {\n",
       "        vertical-align: top;\n",
       "    }\n",
       "\n",
       "    .dataframe thead th {\n",
       "        text-align: right;\n",
       "    }\n",
       "</style>\n",
       "<table border=\"1\" class=\"dataframe\">\n",
       "  <thead>\n",
       "    <tr style=\"text-align: right;\">\n",
       "      <th></th>\n",
       "      <th>id</th>\n",
       "      <th>f0</th>\n",
       "      <th>f1</th>\n",
       "      <th>f2</th>\n",
       "      <th>product</th>\n",
       "    </tr>\n",
       "  </thead>\n",
       "  <tbody>\n",
       "    <tr>\n",
       "      <th>0</th>\n",
       "      <td>txEyH</td>\n",
       "      <td>0.705745</td>\n",
       "      <td>-0.497823</td>\n",
       "      <td>1.221170</td>\n",
       "      <td>105.280062</td>\n",
       "    </tr>\n",
       "    <tr>\n",
       "      <th>1</th>\n",
       "      <td>2acmU</td>\n",
       "      <td>1.334711</td>\n",
       "      <td>-0.340164</td>\n",
       "      <td>4.365080</td>\n",
       "      <td>73.037750</td>\n",
       "    </tr>\n",
       "    <tr>\n",
       "      <th>2</th>\n",
       "      <td>409Wp</td>\n",
       "      <td>1.022732</td>\n",
       "      <td>0.151990</td>\n",
       "      <td>1.419926</td>\n",
       "      <td>85.265647</td>\n",
       "    </tr>\n",
       "    <tr>\n",
       "      <th>3</th>\n",
       "      <td>iJLyR</td>\n",
       "      <td>-0.032172</td>\n",
       "      <td>0.139033</td>\n",
       "      <td>2.978566</td>\n",
       "      <td>168.620776</td>\n",
       "    </tr>\n",
       "    <tr>\n",
       "      <th>4</th>\n",
       "      <td>Xdl7t</td>\n",
       "      <td>1.988431</td>\n",
       "      <td>0.155413</td>\n",
       "      <td>4.751769</td>\n",
       "      <td>154.036647</td>\n",
       "    </tr>\n",
       "  </tbody>\n",
       "</table>\n",
       "</div>"
      ],
      "text/plain": [
       "      id        f0        f1        f2     product\n",
       "0  txEyH  0.705745 -0.497823  1.221170  105.280062\n",
       "1  2acmU  1.334711 -0.340164  4.365080   73.037750\n",
       "2  409Wp  1.022732  0.151990  1.419926   85.265647\n",
       "3  iJLyR -0.032172  0.139033  2.978566  168.620776\n",
       "4  Xdl7t  1.988431  0.155413  4.751769  154.036647"
      ]
     },
     "execution_count": 3,
     "metadata": {},
     "output_type": "execute_result"
    }
   ],
   "source": [
    "geo_data_0.head()"
   ]
  },
  {
   "cell_type": "code",
   "execution_count": 4,
   "metadata": {},
   "outputs": [
    {
     "data": {
      "text/plain": [
       "array([[<AxesSubplot:title={'center':'f0'}>,\n",
       "        <AxesSubplot:title={'center':'f1'}>],\n",
       "       [<AxesSubplot:title={'center':'f2'}>,\n",
       "        <AxesSubplot:title={'center':'product'}>]], dtype=object)"
      ]
     },
     "execution_count": 4,
     "metadata": {},
     "output_type": "execute_result"
    },
    {
     "data": {
      "image/png": "[encoded data removed]",
      "text/plain": [
       "<Figure size 432x288 with 4 Axes>"
      ]
     },
     "metadata": {
      "needs_background": "light"
     },
     "output_type": "display_data"
    }
   ],
   "source": [
    "geo_data_0.hist()"
   ]
  },
  {
   "cell_type": "code",
   "execution_count": 5,
   "metadata": {},
   "outputs": [
    {
     "name": "stdout",
     "output_type": "stream",
     "text": [
      "<class 'pandas.core.frame.DataFrame'>\n",
      "RangeIndex: 100000 entries, 0 to 99999\n",
      "Data columns (total 5 columns):\n",
      " #   Column   Non-Null Count   Dtype  \n",
      "---  ------   --------------   -----  \n",
      " 0   id       100000 non-null  object \n",
      " 1   f0       100000 non-null  float64\n",
      " 2   f1       100000 non-null  float64\n",
      " 3   f2       100000 non-null  float64\n",
      " 4   product  100000 non-null  float64\n",
      "dtypes: float64(4), object(1)\n",
      "memory usage: 3.8+ MB\n"
     ]
    }
   ],
   "source": [
    "geo_data_0.info()"
   ]
  },
  {
   "cell_type": "code",
   "execution_count": 6,
   "metadata": {},
   "outputs": [
    {
     "data": {
      "text/html": [
       "<div>\n",
       "<style scoped>\n",
       "    .dataframe tbody tr th:only-of-type {\n",
       "        vertical-align: middle;\n",
       "    }\n",
       "\n",
       "    .dataframe tbody tr th {\n",
       "        vertical-align: top;\n",
       "    }\n",
       "\n",
       "    .dataframe thead th {\n",
       "        text-align: right;\n",
       "    }\n",
       "</style>\n",
       "<table border=\"1\" class=\"dataframe\">\n",
       "  <thead>\n",
       "    <tr style=\"text-align: right;\">\n",
       "      <th></th>\n",
       "      <th>f0</th>\n",
       "      <th>f1</th>\n",
       "      <th>f2</th>\n",
       "      <th>product</th>\n",
       "    </tr>\n",
       "  </thead>\n",
       "  <tbody>\n",
       "    <tr>\n",
       "      <th>count</th>\n",
       "      <td>100000.000000</td>\n",
       "      <td>100000.000000</td>\n",
       "      <td>100000.000000</td>\n",
       "      <td>100000.000000</td>\n",
       "    </tr>\n",
       "    <tr>\n",
       "      <th>mean</th>\n",
       "      <td>0.500419</td>\n",
       "      <td>0.250143</td>\n",
       "      <td>2.502647</td>\n",
       "      <td>92.500000</td>\n",
       "    </tr>\n",
       "    <tr>\n",
       "      <th>std</th>\n",
       "      <td>0.871832</td>\n",
       "      <td>0.504433</td>\n",
       "      <td>3.248248</td>\n",
       "      <td>44.288691</td>\n",
       "    </tr>\n",
       "    <tr>\n",
       "      <th>min</th>\n",
       "      <td>-1.408605</td>\n",
       "      <td>-0.848218</td>\n",
       "      <td>-12.088328</td>\n",
       "      <td>0.000000</td>\n",
       "    </tr>\n",
       "    <tr>\n",
       "      <th>25%</th>\n",
       "      <td>-0.072580</td>\n",
       "      <td>-0.200881</td>\n",
       "      <td>0.287748</td>\n",
       "      <td>56.497507</td>\n",
       "    </tr>\n",
       "    <tr>\n",
       "      <th>50%</th>\n",
       "      <td>0.502360</td>\n",
       "      <td>0.250252</td>\n",
       "      <td>2.515969</td>\n",
       "      <td>91.849972</td>\n",
       "    </tr>\n",
       "    <tr>\n",
       "      <th>75%</th>\n",
       "      <td>1.073581</td>\n",
       "      <td>0.700646</td>\n",
       "      <td>4.715088</td>\n",
       "      <td>128.564089</td>\n",
       "    </tr>\n",
       "    <tr>\n",
       "      <th>max</th>\n",
       "      <td>2.362331</td>\n",
       "      <td>1.343769</td>\n",
       "      <td>16.003790</td>\n",
       "      <td>185.364347</td>\n",
       "    </tr>\n",
       "  </tbody>\n",
       "</table>\n",
       "</div>"
      ],
      "text/plain": [
       "                  f0             f1             f2        product\n",
       "count  100000.000000  100000.000000  100000.000000  100000.000000\n",
       "mean        0.500419       0.250143       2.502647      92.500000\n",
       "std         0.871832       0.504433       3.248248      44.288691\n",
       "min        -1.408605      -0.848218     -12.088328       0.000000\n",
       "25%        -0.072580      -0.200881       0.287748      56.497507\n",
       "50%         0.502360       0.250252       2.515969      91.849972\n",
       "75%         1.073581       0.700646       4.715088     128.564089\n",
       "max         2.362331       1.343769      16.003790     185.364347"
      ]
     },
     "execution_count": 6,
     "metadata": {},
     "output_type": "execute_result"
    }
   ],
   "source": [
    "#среднее значение по добыче 91.84\n",
    "geo_data_0.describe()"
   ]
  },
  {
   "cell_type": "code",
   "execution_count": 7,
   "metadata": {},
   "outputs": [],
   "source": [
    "#дропнем столбец с ИД, в исследовании не понадобится\n",
    "data_0 = geo_data_0.drop(['id'], axis=1)"
   ]
  },
  {
   "cell_type": "code",
   "execution_count": 8,
   "metadata": {},
   "outputs": [],
   "source": [
    "features_0 = data_0.drop(['product'], axis=1)\n",
    "target_0 = data_0['product']"
   ]
  },
  {
   "cell_type": "code",
   "execution_count": 9,
   "metadata": {},
   "outputs": [],
   "source": [
    "features_train_0, features_valid_0, target_train_0, target_valid_0  = train_test_split(features_0, target_0, \n",
    "                                                                            test_size = 0.25, random_state=12345)"
   ]
  },
  {
   "cell_type": "code",
   "execution_count": 10,
   "metadata": {},
   "outputs": [
    {
     "name": "stdout",
     "output_type": "stream",
     "text": [
      "\n",
      " Размер датасета (100000, 4) \n",
      " Признаки тренеровочной выборки (75000, 3) \n",
      " Таргет тренировочной выборки (75000,) \n",
      " Признаки валид. выборки (25000, 3) \n",
      " Таргет валид. выборки (25000,)\n"
     ]
    }
   ],
   "source": [
    "#проверим размер выборки\n",
    "print('\\n','Размер датасета',data_0.shape,\n",
    "      '\\n', 'Признаки тренеровочной выборки',features_train_0.shape,\n",
    "      '\\n','Таргет тренировочной выборки', target_train_0.shape,\n",
    "      '\\n','Признаки валид. выборки', features_valid_0.shape,\n",
    "      '\\n','Таргет валид. выборки', target_valid_0.shape)"
   ]
  },
  {
   "cell_type": "markdown",
   "metadata": {},
   "source": [
    "<b>geo_data_1"
   ]
  },
  {
   "cell_type": "code",
   "execution_count": 11,
   "metadata": {},
   "outputs": [],
   "source": [
    "#далее я потвторяю все тоже самое для оставшихся датасетов"
   ]
  },
  {
   "cell_type": "code",
   "execution_count": 12,
   "metadata": {},
   "outputs": [],
   "source": [
    "geo_data_1 = pd.read_csv('/datasets/geo_data_1.csv')"
   ]
  },
  {
   "cell_type": "code",
   "execution_count": 13,
   "metadata": {},
   "outputs": [
    {
     "data": {
      "text/html": [
       "<div>\n",
       "<style scoped>\n",
       "    .dataframe tbody tr th:only-of-type {\n",
       "        vertical-align: middle;\n",
       "    }\n",
       "\n",
       "    .dataframe tbody tr th {\n",
       "        vertical-align: top;\n",
       "    }\n",
       "\n",
       "    .dataframe thead th {\n",
       "        text-align: right;\n",
       "    }\n",
       "</style>\n",
       "<table border=\"1\" class=\"dataframe\">\n",
       "  <thead>\n",
       "    <tr style=\"text-align: right;\">\n",
       "      <th></th>\n",
       "      <th>id</th>\n",
       "      <th>f0</th>\n",
       "      <th>f1</th>\n",
       "      <th>f2</th>\n",
       "      <th>product</th>\n",
       "    </tr>\n",
       "  </thead>\n",
       "  <tbody>\n",
       "    <tr>\n",
       "      <th>0</th>\n",
       "      <td>kBEdx</td>\n",
       "      <td>-15.001348</td>\n",
       "      <td>-8.276000</td>\n",
       "      <td>-0.005876</td>\n",
       "      <td>3.179103</td>\n",
       "    </tr>\n",
       "    <tr>\n",
       "      <th>1</th>\n",
       "      <td>62mP7</td>\n",
       "      <td>14.272088</td>\n",
       "      <td>-3.475083</td>\n",
       "      <td>0.999183</td>\n",
       "      <td>26.953261</td>\n",
       "    </tr>\n",
       "    <tr>\n",
       "      <th>2</th>\n",
       "      <td>vyE1P</td>\n",
       "      <td>6.263187</td>\n",
       "      <td>-5.948386</td>\n",
       "      <td>5.001160</td>\n",
       "      <td>134.766305</td>\n",
       "    </tr>\n",
       "    <tr>\n",
       "      <th>3</th>\n",
       "      <td>KcrkZ</td>\n",
       "      <td>-13.081196</td>\n",
       "      <td>-11.506057</td>\n",
       "      <td>4.999415</td>\n",
       "      <td>137.945408</td>\n",
       "    </tr>\n",
       "    <tr>\n",
       "      <th>4</th>\n",
       "      <td>AHL4O</td>\n",
       "      <td>12.702195</td>\n",
       "      <td>-8.147433</td>\n",
       "      <td>5.004363</td>\n",
       "      <td>134.766305</td>\n",
       "    </tr>\n",
       "  </tbody>\n",
       "</table>\n",
       "</div>"
      ],
      "text/plain": [
       "      id         f0         f1        f2     product\n",
       "0  kBEdx -15.001348  -8.276000 -0.005876    3.179103\n",
       "1  62mP7  14.272088  -3.475083  0.999183   26.953261\n",
       "2  vyE1P   6.263187  -5.948386  5.001160  134.766305\n",
       "3  KcrkZ -13.081196 -11.506057  4.999415  137.945408\n",
       "4  AHL4O  12.702195  -8.147433  5.004363  134.766305"
      ]
     },
     "execution_count": 13,
     "metadata": {},
     "output_type": "execute_result"
    }
   ],
   "source": [
    "geo_data_1.head()"
   ]
  },
  {
   "cell_type": "code",
   "execution_count": 14,
   "metadata": {},
   "outputs": [
    {
     "data": {
      "text/plain": [
       "array([[<AxesSubplot:title={'center':'f0'}>,\n",
       "        <AxesSubplot:title={'center':'f1'}>],\n",
       "       [<AxesSubplot:title={'center':'f2'}>,\n",
       "        <AxesSubplot:title={'center':'product'}>]], dtype=object)"
      ]
     },
     "execution_count": 14,
     "metadata": {},
     "output_type": "execute_result"
    },
    {
     "data": {
      "image/png": "[encoded data removed]",
      "text/plain": [
       "<Figure size 432x288 with 4 Axes>"
      ]
     },
     "metadata": {
      "needs_background": "light"
     },
     "output_type": "display_data"
    }
   ],
   "source": [
    "geo_data_1.hist()"
   ]
  },
  {
   "cell_type": "code",
   "execution_count": 15,
   "metadata": {},
   "outputs": [
    {
     "data": {
      "text/html": [
       "<div>\n",
       "<style scoped>\n",
       "    .dataframe tbody tr th:only-of-type {\n",
       "        vertical-align: middle;\n",
       "    }\n",
       "\n",
       "    .dataframe tbody tr th {\n",
       "        vertical-align: top;\n",
       "    }\n",
       "\n",
       "    .dataframe thead th {\n",
       "        text-align: right;\n",
       "    }\n",
       "</style>\n",
       "<table border=\"1\" class=\"dataframe\">\n",
       "  <thead>\n",
       "    <tr style=\"text-align: right;\">\n",
       "      <th></th>\n",
       "      <th>f0</th>\n",
       "      <th>f1</th>\n",
       "      <th>f2</th>\n",
       "      <th>product</th>\n",
       "    </tr>\n",
       "  </thead>\n",
       "  <tbody>\n",
       "    <tr>\n",
       "      <th>count</th>\n",
       "      <td>100000.000000</td>\n",
       "      <td>100000.000000</td>\n",
       "      <td>100000.000000</td>\n",
       "      <td>100000.000000</td>\n",
       "    </tr>\n",
       "    <tr>\n",
       "      <th>mean</th>\n",
       "      <td>1.141296</td>\n",
       "      <td>-4.796579</td>\n",
       "      <td>2.494541</td>\n",
       "      <td>68.825000</td>\n",
       "    </tr>\n",
       "    <tr>\n",
       "      <th>std</th>\n",
       "      <td>8.965932</td>\n",
       "      <td>5.119872</td>\n",
       "      <td>1.703572</td>\n",
       "      <td>45.944423</td>\n",
       "    </tr>\n",
       "    <tr>\n",
       "      <th>min</th>\n",
       "      <td>-31.609576</td>\n",
       "      <td>-26.358598</td>\n",
       "      <td>-0.018144</td>\n",
       "      <td>0.000000</td>\n",
       "    </tr>\n",
       "    <tr>\n",
       "      <th>25%</th>\n",
       "      <td>-6.298551</td>\n",
       "      <td>-8.267985</td>\n",
       "      <td>1.000021</td>\n",
       "      <td>26.953261</td>\n",
       "    </tr>\n",
       "    <tr>\n",
       "      <th>50%</th>\n",
       "      <td>1.153055</td>\n",
       "      <td>-4.813172</td>\n",
       "      <td>2.011479</td>\n",
       "      <td>57.085625</td>\n",
       "    </tr>\n",
       "    <tr>\n",
       "      <th>75%</th>\n",
       "      <td>8.621015</td>\n",
       "      <td>-1.332816</td>\n",
       "      <td>3.999904</td>\n",
       "      <td>107.813044</td>\n",
       "    </tr>\n",
       "    <tr>\n",
       "      <th>max</th>\n",
       "      <td>29.421755</td>\n",
       "      <td>18.734063</td>\n",
       "      <td>5.019721</td>\n",
       "      <td>137.945408</td>\n",
       "    </tr>\n",
       "  </tbody>\n",
       "</table>\n",
       "</div>"
      ],
      "text/plain": [
       "                  f0             f1             f2        product\n",
       "count  100000.000000  100000.000000  100000.000000  100000.000000\n",
       "mean        1.141296      -4.796579       2.494541      68.825000\n",
       "std         8.965932       5.119872       1.703572      45.944423\n",
       "min       -31.609576     -26.358598      -0.018144       0.000000\n",
       "25%        -6.298551      -8.267985       1.000021      26.953261\n",
       "50%         1.153055      -4.813172       2.011479      57.085625\n",
       "75%         8.621015      -1.332816       3.999904     107.813044\n",
       "max        29.421755      18.734063       5.019721     137.945408"
      ]
     },
     "execution_count": 15,
     "metadata": {},
     "output_type": "execute_result"
    }
   ],
   "source": [
    "#средее значение по добыче 57.08\n",
    "geo_data_1.describe()"
   ]
  },
  {
   "cell_type": "code",
   "execution_count": 16,
   "metadata": {},
   "outputs": [],
   "source": [
    "data_1 = geo_data_1.drop(['id'], axis=1)"
   ]
  },
  {
   "cell_type": "code",
   "execution_count": 17,
   "metadata": {},
   "outputs": [],
   "source": [
    "features_1 = data_1.drop(['product'], axis=1)\n",
    "target_1 = data_1['product']"
   ]
  },
  {
   "cell_type": "code",
   "execution_count": 18,
   "metadata": {},
   "outputs": [],
   "source": [
    "features_train_1, features_valid_1, target_train_1, target_valid_1  = train_test_split(features_1, target_1, \n",
    "                                                                            test_size = 0.25, random_state=12345)"
   ]
  },
  {
   "cell_type": "code",
   "execution_count": 19,
   "metadata": {},
   "outputs": [
    {
     "name": "stdout",
     "output_type": "stream",
     "text": [
      "\n",
      " Размер датасета (100000, 4) \n",
      " Признаки тренеровочной выборки (75000, 3) \n",
      " Таргет тренировочной выборки (75000,) \n",
      " Признаки валид. выборки (25000, 3) \n",
      " Таргет валид. выборки (25000,)\n"
     ]
    }
   ],
   "source": [
    "print('\\n','Размер датасета',data_1.shape,\n",
    "      '\\n', 'Признаки тренеровочной выборки',features_train_1.shape,\n",
    "      '\\n','Таргет тренировочной выборки', target_train_1.shape,\n",
    "      '\\n', 'Признаки валид. выборки', features_valid_1.shape,\n",
    "      '\\n','Таргет валид. выборки',  target_valid_1.shape)"
   ]
  },
  {
   "cell_type": "markdown",
   "metadata": {},
   "source": [
    "<b>geo_data_2"
   ]
  },
  {
   "cell_type": "code",
   "execution_count": 20,
   "metadata": {},
   "outputs": [],
   "source": [
    "geo_data_2 = pd.read_csv('/datasets/geo_data_2.csv')"
   ]
  },
  {
   "cell_type": "code",
   "execution_count": 21,
   "metadata": {},
   "outputs": [
    {
     "data": {
      "text/html": [
       "<div>\n",
       "<style scoped>\n",
       "    .dataframe tbody tr th:only-of-type {\n",
       "        vertical-align: middle;\n",
       "    }\n",
       "\n",
       "    .dataframe tbody tr th {\n",
       "        vertical-align: top;\n",
       "    }\n",
       "\n",
       "    .dataframe thead th {\n",
       "        text-align: right;\n",
       "    }\n",
       "</style>\n",
       "<table border=\"1\" class=\"dataframe\">\n",
       "  <thead>\n",
       "    <tr style=\"text-align: right;\">\n",
       "      <th></th>\n",
       "      <th>id</th>\n",
       "      <th>f0</th>\n",
       "      <th>f1</th>\n",
       "      <th>f2</th>\n",
       "      <th>product</th>\n",
       "    </tr>\n",
       "  </thead>\n",
       "  <tbody>\n",
       "    <tr>\n",
       "      <th>0</th>\n",
       "      <td>fwXo0</td>\n",
       "      <td>-1.146987</td>\n",
       "      <td>0.963328</td>\n",
       "      <td>-0.828965</td>\n",
       "      <td>27.758673</td>\n",
       "    </tr>\n",
       "    <tr>\n",
       "      <th>1</th>\n",
       "      <td>WJtFt</td>\n",
       "      <td>0.262778</td>\n",
       "      <td>0.269839</td>\n",
       "      <td>-2.530187</td>\n",
       "      <td>56.069697</td>\n",
       "    </tr>\n",
       "    <tr>\n",
       "      <th>2</th>\n",
       "      <td>ovLUW</td>\n",
       "      <td>0.194587</td>\n",
       "      <td>0.289035</td>\n",
       "      <td>-5.586433</td>\n",
       "      <td>62.871910</td>\n",
       "    </tr>\n",
       "    <tr>\n",
       "      <th>3</th>\n",
       "      <td>q6cA6</td>\n",
       "      <td>2.236060</td>\n",
       "      <td>-0.553760</td>\n",
       "      <td>0.930038</td>\n",
       "      <td>114.572842</td>\n",
       "    </tr>\n",
       "    <tr>\n",
       "      <th>4</th>\n",
       "      <td>WPMUX</td>\n",
       "      <td>-0.515993</td>\n",
       "      <td>1.716266</td>\n",
       "      <td>5.899011</td>\n",
       "      <td>149.600746</td>\n",
       "    </tr>\n",
       "  </tbody>\n",
       "</table>\n",
       "</div>"
      ],
      "text/plain": [
       "      id        f0        f1        f2     product\n",
       "0  fwXo0 -1.146987  0.963328 -0.828965   27.758673\n",
       "1  WJtFt  0.262778  0.269839 -2.530187   56.069697\n",
       "2  ovLUW  0.194587  0.289035 -5.586433   62.871910\n",
       "3  q6cA6  2.236060 -0.553760  0.930038  114.572842\n",
       "4  WPMUX -0.515993  1.716266  5.899011  149.600746"
      ]
     },
     "execution_count": 21,
     "metadata": {},
     "output_type": "execute_result"
    }
   ],
   "source": [
    "geo_data_2.head()"
   ]
  },
  {
   "cell_type": "code",
   "execution_count": 22,
   "metadata": {},
   "outputs": [
    {
     "data": {
      "text/plain": [
       "array([[<AxesSubplot:title={'center':'f0'}>,\n",
       "        <AxesSubplot:title={'center':'f1'}>],\n",
       "       [<AxesSubplot:title={'center':'f2'}>,\n",
       "        <AxesSubplot:title={'center':'product'}>]], dtype=object)"
      ]
     },
     "execution_count": 22,
     "metadata": {},
     "output_type": "execute_result"
    },
    {
     "data": {
      "image/png": "[encoded data removed]",
      "text/plain": [
       "<Figure size 432x288 with 4 Axes>"
      ]
     },
     "metadata": {
      "needs_background": "light"
     },
     "output_type": "display_data"
    }
   ],
   "source": [
    "geo_data_2.hist()"
   ]
  },
  {
   "cell_type": "code",
   "execution_count": 23,
   "metadata": {},
   "outputs": [
    {
     "data": {
      "text/html": [
       "<div>\n",
       "<style scoped>\n",
       "    .dataframe tbody tr th:only-of-type {\n",
       "        vertical-align: middle;\n",
       "    }\n",
       "\n",
       "    .dataframe tbody tr th {\n",
       "        vertical-align: top;\n",
       "    }\n",
       "\n",
       "    .dataframe thead th {\n",
       "        text-align: right;\n",
       "    }\n",
       "</style>\n",
       "<table border=\"1\" class=\"dataframe\">\n",
       "  <thead>\n",
       "    <tr style=\"text-align: right;\">\n",
       "      <th></th>\n",
       "      <th>f0</th>\n",
       "      <th>f1</th>\n",
       "      <th>f2</th>\n",
       "      <th>product</th>\n",
       "    </tr>\n",
       "  </thead>\n",
       "  <tbody>\n",
       "    <tr>\n",
       "      <th>count</th>\n",
       "      <td>100000.000000</td>\n",
       "      <td>100000.000000</td>\n",
       "      <td>100000.000000</td>\n",
       "      <td>100000.000000</td>\n",
       "    </tr>\n",
       "    <tr>\n",
       "      <th>mean</th>\n",
       "      <td>0.002023</td>\n",
       "      <td>-0.002081</td>\n",
       "      <td>2.495128</td>\n",
       "      <td>95.000000</td>\n",
       "    </tr>\n",
       "    <tr>\n",
       "      <th>std</th>\n",
       "      <td>1.732045</td>\n",
       "      <td>1.730417</td>\n",
       "      <td>3.473445</td>\n",
       "      <td>44.749921</td>\n",
       "    </tr>\n",
       "    <tr>\n",
       "      <th>min</th>\n",
       "      <td>-8.760004</td>\n",
       "      <td>-7.084020</td>\n",
       "      <td>-11.970335</td>\n",
       "      <td>0.000000</td>\n",
       "    </tr>\n",
       "    <tr>\n",
       "      <th>25%</th>\n",
       "      <td>-1.162288</td>\n",
       "      <td>-1.174820</td>\n",
       "      <td>0.130359</td>\n",
       "      <td>59.450441</td>\n",
       "    </tr>\n",
       "    <tr>\n",
       "      <th>50%</th>\n",
       "      <td>0.009424</td>\n",
       "      <td>-0.009482</td>\n",
       "      <td>2.484236</td>\n",
       "      <td>94.925613</td>\n",
       "    </tr>\n",
       "    <tr>\n",
       "      <th>75%</th>\n",
       "      <td>1.158535</td>\n",
       "      <td>1.163678</td>\n",
       "      <td>4.858794</td>\n",
       "      <td>130.595027</td>\n",
       "    </tr>\n",
       "    <tr>\n",
       "      <th>max</th>\n",
       "      <td>7.238262</td>\n",
       "      <td>7.844801</td>\n",
       "      <td>16.739402</td>\n",
       "      <td>190.029838</td>\n",
       "    </tr>\n",
       "  </tbody>\n",
       "</table>\n",
       "</div>"
      ],
      "text/plain": [
       "                  f0             f1             f2        product\n",
       "count  100000.000000  100000.000000  100000.000000  100000.000000\n",
       "mean        0.002023      -0.002081       2.495128      95.000000\n",
       "std         1.732045       1.730417       3.473445      44.749921\n",
       "min        -8.760004      -7.084020     -11.970335       0.000000\n",
       "25%        -1.162288      -1.174820       0.130359      59.450441\n",
       "50%         0.009424      -0.009482       2.484236      94.925613\n",
       "75%         1.158535       1.163678       4.858794     130.595027\n",
       "max         7.238262       7.844801      16.739402     190.029838"
      ]
     },
     "execution_count": 23,
     "metadata": {},
     "output_type": "execute_result"
    }
   ],
   "source": [
    "#среднее значение по добыче 94.92\n",
    "geo_data_2.describe()"
   ]
  },
  {
   "cell_type": "code",
   "execution_count": 24,
   "metadata": {},
   "outputs": [],
   "source": [
    "data_2 = geo_data_2.drop(['id'], axis=1)"
   ]
  },
  {
   "cell_type": "code",
   "execution_count": 25,
   "metadata": {},
   "outputs": [],
   "source": [
    "features_2 = data_2.drop(['product'], axis=1)\n",
    "target_2 = data_2['product']"
   ]
  },
  {
   "cell_type": "code",
   "execution_count": 26,
   "metadata": {},
   "outputs": [],
   "source": [
    "features_train_2, features_valid_2, target_train_2, target_valid_2  = train_test_split(features_2, target_2, \n",
    "                                                                            test_size = 0.25, random_state=12345)"
   ]
  },
  {
   "cell_type": "code",
   "execution_count": 27,
   "metadata": {},
   "outputs": [
    {
     "name": "stdout",
     "output_type": "stream",
     "text": [
      "\n",
      " Размер датасета (100000, 4) \n",
      " Признаки тренеровочной выборки (75000, 3) \n",
      " Таргет тренировочной выборки (75000,) \n",
      " Признаки валид. выборки (25000, 3) \n",
      " Таргет валид. выборки (25000,)\n"
     ]
    }
   ],
   "source": [
    "print('\\n','Размер датасета',data_2.shape,\n",
    "      '\\n', 'Признаки тренеровочной выборки',features_train_2.shape,\n",
    "      '\\n','Таргет тренировочной выборки', target_train_2.shape,\n",
    "      '\\n', 'Признаки валид. выборки', features_valid_2.shape,\n",
    "      '\\n','Таргет валид. выборки',  target_valid_2.shape)"
   ]
  },
  {
   "cell_type": "markdown",
   "metadata": {},
   "source": [
    "## Обучение и проверка модели"
   ]
  },
  {
   "cell_type": "markdown",
   "metadata": {},
   "source": [
    "<b>region_0"
   ]
  },
  {
   "cell_type": "code",
   "execution_count": 28,
   "metadata": {},
   "outputs": [
    {
     "name": "stdout",
     "output_type": "stream",
     "text": [
      "RMSE:  37.5794217150813\n",
      "Средний запас предсказанного сырья:  92.59256778438035\n",
      "(25000,) (25000,)\n"
     ]
    }
   ],
   "source": [
    "#так как мы используем линейную регрессию в данном исследовании, то я\n",
    "#пропустила этап подбора параметров, т.к. в ЛР мало параметров для подбора.\n",
    "\n",
    "model = LinearRegression()\n",
    "model.fit(features_train_0, target_train_0)\n",
    "predicted_valid_0 = model.predict(features_valid_0)\n",
    "\n",
    "#создала отдельный массив данных по предикту и таргету для дальнейших расчетов.\n",
    "predictions_0 = pd.Series(predicted_valid_0)\n",
    "target_valid_0.reset_index(drop=True, inplace=True)\n",
    "\n",
    "print(\"RMSE: \", sqrt(mean_squared_error(target_valid_0, predictions_0)))\n",
    "print(\"Средний запас предсказанного сырья: \", predictions_0.mean())\n",
    "print(predictions_0.shape, target_valid_0.shape)"
   ]
  },
  {
   "cell_type": "markdown",
   "metadata": {},
   "source": [
    "<b>region_1"
   ]
  },
  {
   "cell_type": "code",
   "execution_count": 29,
   "metadata": {},
   "outputs": [
    {
     "name": "stdout",
     "output_type": "stream",
     "text": [
      "RMSE:  0.893099286775617\n",
      "Средний запас предсказанного сырья:  68.728546895446\n",
      "(25000,) (25000,)\n"
     ]
    }
   ],
   "source": [
    "model = LinearRegression()\n",
    "model.fit(features_train_1, target_train_1)\n",
    "predicted_valid_1 = model.predict(features_valid_1)\n",
    "\n",
    "\n",
    "#создала отдельный массив данных по предикту и таргету для дальнейших расчетов.\n",
    "predictions_1 = pd.Series(predicted_valid_1)\n",
    "target_valid_1.reset_index(drop=True, inplace=True)\n",
    "\n",
    "print(\"RMSE: \", sqrt(mean_squared_error(target_valid_1, predictions_1)))\n",
    "print(\"Средний запас предсказанного сырья: \", predictions_1.mean())\n",
    "print(predictions_1.shape, target_valid_2.shape)"
   ]
  },
  {
   "cell_type": "code",
   "execution_count": 30,
   "metadata": {},
   "outputs": [],
   "source": [
    "#Хорошие метрики для региона_1"
   ]
  },
  {
   "cell_type": "markdown",
   "metadata": {},
   "source": [
    "<b>region_2"
   ]
  },
  {
   "cell_type": "code",
   "execution_count": 31,
   "metadata": {},
   "outputs": [
    {
     "name": "stdout",
     "output_type": "stream",
     "text": [
      "RMSE:  40.02970873393434\n",
      "Средний запас предсказанного сырья:  94.96504596800489\n",
      "(25000,) (25000,)\n"
     ]
    }
   ],
   "source": [
    "model = LinearRegression()\n",
    "model.fit(features_train_2, target_train_2)\n",
    "predicted_valid_2 = model.predict(features_valid_2)\n",
    "\n",
    "\n",
    "#создала отдельный массив данных по предикту и таргету для дальнейших расчетов.\n",
    "predictions_2 = pd.Series(predicted_valid_2)\n",
    "target_valid_2.reset_index(drop=True, inplace=True)\n",
    "\n",
    "print(\"RMSE: \", sqrt(mean_squared_error(target_valid_2, predictions_2)))\n",
    "print(\"Средний запас предсказанного сырья: \", predictions_2.mean())\n",
    "print(predictions_2.shape, target_valid_2.shape)"
   ]
  },
  {
   "cell_type": "markdown",
   "metadata": {},
   "source": [
    "<b>Вывод</b>\n",
    "\n",
    "Модель лучше всего предсказывает по данным в Регионе 1, но средние показатели по добыче там намного ниже, чем в других регионах."
   ]
  },
  {
   "cell_type": "markdown",
   "metadata": {},
   "source": [
    "## Подготовка к расчёту прибыли"
   ]
  },
  {
   "cell_type": "code",
   "execution_count": 32,
   "metadata": {},
   "outputs": [],
   "source": [
    "#Все ключевые значения для расчётов\n",
    "budget =  10*(10**9)\n",
    "income_per_bar = 450000\n",
    "points = 200"
   ]
  },
  {
   "cell_type": "code",
   "execution_count": 33,
   "metadata": {},
   "outputs": [
    {
     "data": {
      "text/plain": [
       "111"
      ]
     },
     "execution_count": 33,
     "metadata": {},
     "output_type": "execute_result"
    }
   ],
   "source": [
    "#достаточный объём сырья для безубыточной разработки новой скважины\n",
    "volume_for_revenue = (budget/income_per_bar)/points\n",
    "round(volume_for_revenue)"
   ]
  },
  {
   "cell_type": "code",
   "execution_count": 34,
   "metadata": {},
   "outputs": [
    {
     "name": "stdout",
     "output_type": "stream",
     "text": [
      "Регион 0 \n",
      " count    100000.000000\n",
      "mean         92.500000\n",
      "std          44.288691\n",
      "min           0.000000\n",
      "25%          56.497507\n",
      "50%          91.849972\n",
      "75%         128.564089\n",
      "max         185.364347\n",
      "Name: product, dtype: float64 \n",
      " Регион 1 \n",
      " count    100000.000000\n",
      "mean         68.825000\n",
      "std          45.944423\n",
      "min           0.000000\n",
      "25%          26.953261\n",
      "50%          57.085625\n",
      "75%         107.813044\n",
      "max         137.945408\n",
      "Name: product, dtype: float64 \n",
      " Регион 2 \n",
      " count    100000.000000\n",
      "mean         95.000000\n",
      "std          44.749921\n",
      "min           0.000000\n",
      "25%          59.450441\n",
      "50%          94.925613\n",
      "75%         130.595027\n",
      "max         190.029838\n",
      "Name: product, dtype: float64\n"
     ]
    }
   ],
   "source": [
    "#сравним полученный объём сырья со средним запасом в каждом регионе\n",
    "print(\"Регион 0\", \"\\n\",\n",
    "    data_0['product'].describe(), \n",
    "      \"\\n\", \"Регион 1\", \"\\n\",\n",
    "      data_1['product'].describe(), \n",
    "      \"\\n\", \"Регион 2\", \"\\n\",\n",
    "      data_2['product'].describe())"
   ]
  },
  {
   "cell_type": "markdown",
   "metadata": {},
   "source": [
    "## Расчёт прибыли и рисков "
   ]
  },
  {
   "cell_type": "code",
   "execution_count": 35,
   "metadata": {},
   "outputs": [],
   "source": [
    "#Напишем функцию для расчёта прибыли по выбранным скважинам и предсказаниям модели\n",
    "\n",
    "def income(target, pred):\n",
    "    #print(target, pred)\n",
    "    sort_predict = pd.Series(pred).sort_values(ascending=False).head(200)\n",
    "    sort_target = (target.reset_index(drop = True)[sort_predict.index])\n",
    "    #print(sort_predict, sort_target)\n",
    "    return sort_target.sum() * income_per_bar - budget"
   ]
  },
  {
   "cell_type": "code",
   "execution_count": 36,
   "metadata": {},
   "outputs": [
    {
     "name": "stdout",
     "output_type": "stream",
     "text": [
      "Прибыль в регионе 0: 3320826043.1398506\n"
     ]
    }
   ],
   "source": [
    "print(\"Прибыль в регионе 0:\",income(target_valid_0, predictions_0))"
   ]
  },
  {
   "cell_type": "code",
   "execution_count": 37,
   "metadata": {},
   "outputs": [
    {
     "name": "stdout",
     "output_type": "stream",
     "text": [
      "Прибыль в регионе 1: 2415086696.681511\n"
     ]
    }
   ],
   "source": [
    "print(\"Прибыль в регионе 1:\",income(target_valid_1,predictions_1))"
   ]
  },
  {
   "cell_type": "code",
   "execution_count": 38,
   "metadata": {},
   "outputs": [
    {
     "name": "stdout",
     "output_type": "stream",
     "text": [
      "Прибыль в регионе 2: 2710349963.5998325\n"
     ]
    }
   ],
   "source": [
    "print(\"Прибыль в регионе 2:\",income(target_valid_2,predictions_2))"
   ]
  },
  {
   "cell_type": "code",
   "execution_count": 39,
   "metadata": {},
   "outputs": [],
   "source": [
    "#Посчитали риски и прибыль для каждого региона:\n",
    "\n",
    "def risk_and_profit(target, pred):\n",
    "    state = np.random.RandomState(12345)\n",
    "    values = []\n",
    "    predicitons = pd.Series(pred)\n",
    "    for i in range(1000):\n",
    "        pred_subsumple = pred.sample(n=500, replace=True, random_state=state)\n",
    "        values.append(income(target, pred_subsumple))\n",
    "\n",
    "\n",
    "    values = pd.Series(values)\n",
    "    lower = values.quantile(0.025)\n",
    "    upper = values.quantile(0.975)\n",
    "    \n",
    "    print(\"Средняя прибыль:\", values.mean())\n",
    "    print(\"Риски потерь:\", (values < 0).mean())\n",
    "    print(\"95% интервал от\", lower, \"до\", upper)"
   ]
  },
  {
   "cell_type": "code",
   "execution_count": 40,
   "metadata": {},
   "outputs": [
    {
     "name": "stdout",
     "output_type": "stream",
     "text": [
      "Средняя прибыль: 396164984.8023711\n",
      "Риски потерь: 0.069\n",
      "95% интервал от -111215545.89049526 до 909766941.5534226\n",
      "None\n"
     ]
    }
   ],
   "source": [
    "print(risk_and_profit(target_valid_0,predictions_0))"
   ]
  },
  {
   "cell_type": "code",
   "execution_count": 41,
   "metadata": {},
   "outputs": [
    {
     "name": "stdout",
     "output_type": "stream",
     "text": [
      "Средняя прибыль: 456045105.7866608\n",
      "Риски потерь: 0.015\n",
      "95% интервал от 33820509.39898363 до 852289453.866036\n",
      "None\n"
     ]
    }
   ],
   "source": [
    "print(risk_and_profit(target_valid_1, predictions_1))"
   ]
  },
  {
   "cell_type": "code",
   "execution_count": 42,
   "metadata": {},
   "outputs": [
    {
     "name": "stdout",
     "output_type": "stream",
     "text": [
      "Средняя прибыль: 404403866.5683568\n",
      "Риски потерь: 0.076\n",
      "95% интервал от -163350413.39560106 до 950359574.9237995\n",
      "None\n"
     ]
    }
   ],
   "source": [
    "print(risk_and_profit(target_valid_2,predictions_2))"
   ]
  },
  {
   "cell_type": "markdown",
   "metadata": {},
   "source": [
    "<b>Из полученных данных, предположим, что лучше всего подойтет регион 1:\n",
    "Нету риска потерь, высокая средняя прибыль. Приемлимый 95% интервал.</b>"
   ]
  }
 ],
 "metadata": {
  "ExecuteTimeLog": [
   {
    "duration": 398,
    "start_time": "2022-12-14T15:43:11.293Z"
   },
   {
    "duration": 67,
    "start_time": "2022-12-14T15:43:34.610Z"
   },
   {
    "duration": 234,
    "start_time": "2022-12-14T15:43:41.022Z"
   },
   {
    "duration": 21,
    "start_time": "2022-12-14T15:43:46.782Z"
   },
   {
    "duration": 7,
    "start_time": "2022-12-14T15:44:01.476Z"
   },
   {
    "duration": 10,
    "start_time": "2022-12-14T15:44:04.149Z"
   },
   {
    "duration": 238,
    "start_time": "2022-12-14T15:44:33.649Z"
   },
   {
    "duration": 10,
    "start_time": "2022-12-14T15:44:33.890Z"
   },
   {
    "duration": 238,
    "start_time": "2022-12-14T15:44:35.912Z"
   },
   {
    "duration": 10,
    "start_time": "2022-12-14T15:44:36.437Z"
   },
   {
    "duration": 901,
    "start_time": "2022-12-14T15:45:51.931Z"
   },
   {
    "duration": 19,
    "start_time": "2022-12-14T15:46:08.122Z"
   },
   {
    "duration": 39,
    "start_time": "2022-12-14T15:46:31.411Z"
   },
   {
    "duration": 370,
    "start_time": "2022-12-14T15:47:04.865Z"
   },
   {
    "duration": 37,
    "start_time": "2022-12-14T15:47:12.081Z"
   },
   {
    "duration": 41,
    "start_time": "2022-12-14T15:47:40.429Z"
   },
   {
    "duration": 555,
    "start_time": "2022-12-14T15:47:50.109Z"
   },
   {
    "duration": 656,
    "start_time": "2022-12-14T16:12:54.583Z"
   },
   {
    "duration": 6,
    "start_time": "2022-12-14T16:13:04.734Z"
   },
   {
    "duration": 12,
    "start_time": "2022-12-14T16:13:05.087Z"
   },
   {
    "duration": 6,
    "start_time": "2022-12-14T16:13:05.555Z"
   },
   {
    "duration": 4,
    "start_time": "2022-12-14T16:13:05.913Z"
   },
   {
    "duration": 52,
    "start_time": "2022-12-14T16:13:06.234Z"
   },
   {
    "duration": 11,
    "start_time": "2022-12-14T16:13:06.557Z"
   },
   {
    "duration": 25,
    "start_time": "2022-12-14T16:13:22.248Z"
   },
   {
    "duration": 10,
    "start_time": "2022-12-14T16:13:30.720Z"
   },
   {
    "duration": 6,
    "start_time": "2022-12-14T16:13:31.363Z"
   },
   {
    "duration": 6,
    "start_time": "2022-12-14T16:26:18.544Z"
   },
   {
    "duration": 12,
    "start_time": "2022-12-14T16:26:18.816Z"
   },
   {
    "duration": 6,
    "start_time": "2022-12-14T16:26:19.088Z"
   },
   {
    "duration": 5,
    "start_time": "2022-12-14T16:26:19.387Z"
   },
   {
    "duration": 14,
    "start_time": "2022-12-14T16:26:19.739Z"
   },
   {
    "duration": 7,
    "start_time": "2022-12-14T16:26:20.385Z"
   },
   {
    "duration": 7,
    "start_time": "2022-12-14T16:29:29.620Z"
   },
   {
    "duration": 12,
    "start_time": "2022-12-14T16:29:29.940Z"
   },
   {
    "duration": 6,
    "start_time": "2022-12-14T16:29:30.231Z"
   },
   {
    "duration": 4,
    "start_time": "2022-12-14T16:29:30.499Z"
   },
   {
    "duration": 14,
    "start_time": "2022-12-14T16:29:30.815Z"
   },
   {
    "duration": 6,
    "start_time": "2022-12-14T16:29:31.290Z"
   },
   {
    "duration": 6,
    "start_time": "2022-12-14T16:33:22.031Z"
   },
   {
    "duration": 5,
    "start_time": "2022-12-14T16:33:22.326Z"
   },
   {
    "duration": 7,
    "start_time": "2022-12-14T16:33:22.669Z"
   },
   {
    "duration": 6,
    "start_time": "2022-12-14T16:33:33.738Z"
   },
   {
    "duration": 5,
    "start_time": "2022-12-14T16:34:12.492Z"
   },
   {
    "duration": 6,
    "start_time": "2022-12-14T16:35:08.170Z"
   },
   {
    "duration": 9,
    "start_time": "2022-12-14T16:35:14.312Z"
   },
   {
    "duration": 9,
    "start_time": "2022-12-14T16:36:01.748Z"
   },
   {
    "duration": 6,
    "start_time": "2022-12-14T16:36:11.022Z"
   },
   {
    "duration": 4,
    "start_time": "2022-12-14T16:36:11.259Z"
   },
   {
    "duration": 6,
    "start_time": "2022-12-14T16:36:11.576Z"
   },
   {
    "duration": 5,
    "start_time": "2022-12-14T16:36:16.731Z"
   },
   {
    "duration": 22,
    "start_time": "2022-12-14T16:41:37.896Z"
   },
   {
    "duration": 13,
    "start_time": "2022-12-14T16:45:23.270Z"
   },
   {
    "duration": 11,
    "start_time": "2022-12-14T16:45:37.358Z"
   },
   {
    "duration": 3,
    "start_time": "2022-12-14T16:46:03.235Z"
   },
   {
    "duration": 28,
    "start_time": "2022-12-14T16:46:08.550Z"
   },
   {
    "duration": 31,
    "start_time": "2022-12-14T16:46:33.997Z"
   },
   {
    "duration": 22,
    "start_time": "2022-12-14T16:47:06.882Z"
   },
   {
    "duration": 9,
    "start_time": "2022-12-14T16:47:07.172Z"
   },
   {
    "duration": 22,
    "start_time": "2022-12-14T16:47:34.335Z"
   },
   {
    "duration": 24,
    "start_time": "2022-12-14T16:48:51.869Z"
   },
   {
    "duration": 1154,
    "start_time": "2022-12-14T16:48:57.983Z"
   },
   {
    "duration": 9,
    "start_time": "2022-12-14T16:49:01.841Z"
   },
   {
    "duration": 10,
    "start_time": "2022-12-14T16:49:43.857Z"
   },
   {
    "duration": 4,
    "start_time": "2022-12-14T16:49:50.201Z"
   },
   {
    "duration": 10,
    "start_time": "2022-12-14T16:50:48.490Z"
   },
   {
    "duration": 60,
    "start_time": "2022-12-14T16:50:57.978Z"
   },
   {
    "duration": 27,
    "start_time": "2022-12-14T16:51:33.917Z"
   },
   {
    "duration": 8,
    "start_time": "2022-12-14T16:51:43.474Z"
   },
   {
    "duration": 41,
    "start_time": "2022-12-14T16:52:54.504Z"
   },
   {
    "duration": 16,
    "start_time": "2022-12-14T16:53:05.726Z"
   },
   {
    "duration": 14,
    "start_time": "2022-12-14T16:56:48.990Z"
   },
   {
    "duration": 17,
    "start_time": "2022-12-14T16:57:12.818Z"
   },
   {
    "duration": 1117,
    "start_time": "2022-12-14T16:57:35.013Z"
   },
   {
    "duration": 146,
    "start_time": "2022-12-14T16:57:36.132Z"
   },
   {
    "duration": 16,
    "start_time": "2022-12-14T16:57:36.280Z"
   },
   {
    "duration": 646,
    "start_time": "2022-12-14T16:57:36.297Z"
   },
   {
    "duration": 16,
    "start_time": "2022-12-14T16:57:36.945Z"
   },
   {
    "duration": 41,
    "start_time": "2022-12-14T16:57:36.963Z"
   },
   {
    "duration": 29,
    "start_time": "2022-12-14T16:57:37.006Z"
   },
   {
    "duration": 116,
    "start_time": "2022-12-14T16:57:37.037Z"
   },
   {
    "duration": 0,
    "start_time": "2022-12-14T16:57:37.155Z"
   },
   {
    "duration": 0,
    "start_time": "2022-12-14T16:57:37.157Z"
   },
   {
    "duration": 0,
    "start_time": "2022-12-14T16:57:37.158Z"
   },
   {
    "duration": 0,
    "start_time": "2022-12-14T16:57:37.159Z"
   },
   {
    "duration": 0,
    "start_time": "2022-12-14T16:57:37.160Z"
   },
   {
    "duration": 0,
    "start_time": "2022-12-14T16:57:37.161Z"
   },
   {
    "duration": 0,
    "start_time": "2022-12-14T16:57:37.162Z"
   },
   {
    "duration": 0,
    "start_time": "2022-12-14T16:57:37.163Z"
   },
   {
    "duration": 0,
    "start_time": "2022-12-14T16:57:37.164Z"
   },
   {
    "duration": 0,
    "start_time": "2022-12-14T16:57:37.166Z"
   },
   {
    "duration": 0,
    "start_time": "2022-12-14T16:57:37.167Z"
   },
   {
    "duration": 0,
    "start_time": "2022-12-14T16:57:37.168Z"
   },
   {
    "duration": 0,
    "start_time": "2022-12-14T16:57:37.169Z"
   },
   {
    "duration": 0,
    "start_time": "2022-12-14T16:57:37.170Z"
   },
   {
    "duration": 0,
    "start_time": "2022-12-14T16:57:37.171Z"
   },
   {
    "duration": 0,
    "start_time": "2022-12-14T16:57:37.172Z"
   },
   {
    "duration": 0,
    "start_time": "2022-12-14T16:57:37.173Z"
   },
   {
    "duration": 0,
    "start_time": "2022-12-14T16:57:37.175Z"
   },
   {
    "duration": 0,
    "start_time": "2022-12-14T16:57:37.176Z"
   },
   {
    "duration": 0,
    "start_time": "2022-12-14T16:57:37.177Z"
   },
   {
    "duration": 0,
    "start_time": "2022-12-14T16:57:37.178Z"
   },
   {
    "duration": 6,
    "start_time": "2022-12-14T16:58:05.262Z"
   },
   {
    "duration": 15,
    "start_time": "2022-12-14T16:58:05.496Z"
   },
   {
    "duration": 5,
    "start_time": "2022-12-14T16:58:05.814Z"
   },
   {
    "duration": 147,
    "start_time": "2022-12-14T16:58:09.569Z"
   },
   {
    "duration": 10,
    "start_time": "2022-12-14T16:58:10.024Z"
   },
   {
    "duration": 375,
    "start_time": "2022-12-14T16:58:10.783Z"
   },
   {
    "duration": 41,
    "start_time": "2022-12-14T16:58:12.943Z"
   },
   {
    "duration": 6,
    "start_time": "2022-12-14T16:58:14.254Z"
   },
   {
    "duration": 6,
    "start_time": "2022-12-14T16:58:26.170Z"
   },
   {
    "duration": 13,
    "start_time": "2022-12-14T16:58:27.527Z"
   },
   {
    "duration": 6,
    "start_time": "2022-12-14T16:58:29.389Z"
   },
   {
    "duration": 147,
    "start_time": "2022-12-14T16:58:45.131Z"
   },
   {
    "duration": 10,
    "start_time": "2022-12-14T16:58:45.430Z"
   },
   {
    "duration": 361,
    "start_time": "2022-12-14T16:58:45.860Z"
   },
   {
    "duration": 36,
    "start_time": "2022-12-14T16:58:46.439Z"
   },
   {
    "duration": 4,
    "start_time": "2022-12-14T16:58:48.033Z"
   },
   {
    "duration": 5,
    "start_time": "2022-12-14T16:58:59.064Z"
   },
   {
    "duration": 14,
    "start_time": "2022-12-14T16:58:59.735Z"
   },
   {
    "duration": 10,
    "start_time": "2022-12-14T16:59:00.171Z"
   },
   {
    "duration": 13,
    "start_time": "2022-12-14T16:59:28.060Z"
   },
   {
    "duration": 10,
    "start_time": "2022-12-14T16:59:28.828Z"
   },
   {
    "duration": 11,
    "start_time": "2022-12-14T16:59:35.932Z"
   },
   {
    "duration": 6,
    "start_time": "2022-12-14T16:59:36.194Z"
   },
   {
    "duration": 82,
    "start_time": "2022-12-14T16:59:36.957Z"
   },
   {
    "duration": 93,
    "start_time": "2022-12-14T16:59:37.143Z"
   },
   {
    "duration": 17,
    "start_time": "2022-12-14T16:59:37.337Z"
   },
   {
    "duration": 52,
    "start_time": "2022-12-14T17:05:36.388Z"
   },
   {
    "duration": 4,
    "start_time": "2022-12-14T17:06:25.283Z"
   },
   {
    "duration": 21,
    "start_time": "2022-12-14T17:07:08.048Z"
   },
   {
    "duration": 18,
    "start_time": "2022-12-14T17:07:35.414Z"
   },
   {
    "duration": 22,
    "start_time": "2022-12-14T17:08:02.648Z"
   },
   {
    "duration": 3,
    "start_time": "2022-12-14T17:15:41.586Z"
   },
   {
    "duration": 4,
    "start_time": "2022-12-14T19:27:10.676Z"
   },
   {
    "duration": 9,
    "start_time": "2022-12-14T19:27:28.781Z"
   },
   {
    "duration": 3,
    "start_time": "2022-12-14T19:27:42.982Z"
   },
   {
    "duration": 4,
    "start_time": "2022-12-14T19:27:48.390Z"
   },
   {
    "duration": 51,
    "start_time": "2022-12-14T19:31:38.540Z"
   },
   {
    "duration": 3,
    "start_time": "2022-12-14T19:31:43.140Z"
   },
   {
    "duration": 3,
    "start_time": "2022-12-14T19:31:59.420Z"
   },
   {
    "duration": 3,
    "start_time": "2022-12-14T19:37:01.047Z"
   },
   {
    "duration": 4,
    "start_time": "2022-12-14T19:37:46.781Z"
   },
   {
    "duration": 4,
    "start_time": "2022-12-14T19:37:53.990Z"
   },
   {
    "duration": 11,
    "start_time": "2022-12-14T19:37:59.527Z"
   },
   {
    "duration": 9,
    "start_time": "2022-12-14T19:38:04.893Z"
   },
   {
    "duration": 4,
    "start_time": "2022-12-14T19:40:06.329Z"
   },
   {
    "duration": 12,
    "start_time": "2022-12-14T19:43:52.689Z"
   },
   {
    "duration": 10,
    "start_time": "2022-12-14T19:43:56.948Z"
   },
   {
    "duration": 11,
    "start_time": "2022-12-14T19:44:00.790Z"
   },
   {
    "duration": 22,
    "start_time": "2022-12-14T19:44:24.583Z"
   },
   {
    "duration": 25,
    "start_time": "2022-12-14T19:44:31.808Z"
   },
   {
    "duration": 24,
    "start_time": "2022-12-14T19:44:47.372Z"
   },
   {
    "duration": 25,
    "start_time": "2022-12-14T19:45:39.019Z"
   },
   {
    "duration": 25,
    "start_time": "2022-12-14T19:45:58.872Z"
   },
   {
    "duration": 6,
    "start_time": "2022-12-14T19:53:09.645Z"
   },
   {
    "duration": 14,
    "start_time": "2022-12-14T19:54:02.088Z"
   },
   {
    "duration": 5,
    "start_time": "2022-12-14T19:54:12.185Z"
   },
   {
    "duration": 33,
    "start_time": "2022-12-14T19:54:12.461Z"
   },
   {
    "duration": 4,
    "start_time": "2022-12-14T19:54:25.928Z"
   },
   {
    "duration": 18,
    "start_time": "2022-12-14T19:54:26.280Z"
   },
   {
    "duration": 21,
    "start_time": "2022-12-14T19:54:48.750Z"
   },
   {
    "duration": 4,
    "start_time": "2022-12-14T19:55:35.349Z"
   },
   {
    "duration": 12,
    "start_time": "2022-12-14T19:55:51.161Z"
   },
   {
    "duration": 18,
    "start_time": "2022-12-14T19:55:51.371Z"
   },
   {
    "duration": 18,
    "start_time": "2022-12-14T19:57:07.229Z"
   },
   {
    "duration": 11,
    "start_time": "2022-12-14T20:12:00.916Z"
   },
   {
    "duration": 1620,
    "start_time": "2022-12-14T20:12:11.915Z"
   },
   {
    "duration": 1515,
    "start_time": "2022-12-14T20:12:35.366Z"
   },
   {
    "duration": 424194,
    "start_time": "2022-12-14T20:12:49.298Z"
   },
   {
    "duration": 233,
    "start_time": "2022-12-14T20:21:29.129Z"
   },
   {
    "duration": 5,
    "start_time": "2022-12-14T20:24:13.787Z"
   },
   {
    "duration": 42,
    "start_time": "2022-12-14T20:24:49.762Z"
   },
   {
    "duration": 49,
    "start_time": "2022-12-14T20:24:58.249Z"
   },
   {
    "duration": 13,
    "start_time": "2022-12-14T20:25:03.217Z"
   },
   {
    "duration": 4,
    "start_time": "2022-12-14T20:25:41.428Z"
   },
   {
    "duration": 12789,
    "start_time": "2022-12-14T20:25:42.133Z"
   },
   {
    "duration": 4,
    "start_time": "2022-12-14T20:26:32.178Z"
   },
   {
    "duration": 11857,
    "start_time": "2022-12-14T20:26:33.949Z"
   },
   {
    "duration": 6874,
    "start_time": "2022-12-14T20:27:58.622Z"
   },
   {
    "duration": 7415,
    "start_time": "2022-12-14T20:28:05.498Z"
   },
   {
    "duration": 5,
    "start_time": "2022-12-14T20:28:23.961Z"
   },
   {
    "duration": 4,
    "start_time": "2022-12-14T20:29:38.862Z"
   },
   {
    "duration": 13549,
    "start_time": "2022-12-14T20:29:39.256Z"
   },
   {
    "duration": 0,
    "start_time": "2022-12-14T20:29:52.807Z"
   },
   {
    "duration": 0,
    "start_time": "2022-12-14T20:29:52.808Z"
   },
   {
    "duration": 5,
    "start_time": "2022-12-14T20:30:18.532Z"
   },
   {
    "duration": 13788,
    "start_time": "2022-12-14T20:30:18.747Z"
   },
   {
    "duration": 7167,
    "start_time": "2022-12-14T20:30:32.539Z"
   },
   {
    "duration": 7290,
    "start_time": "2022-12-14T20:30:39.707Z"
   },
   {
    "duration": 1161,
    "start_time": "2022-12-14T20:31:06.883Z"
   },
   {
    "duration": 149,
    "start_time": "2022-12-14T20:31:08.047Z"
   },
   {
    "duration": 20,
    "start_time": "2022-12-14T20:31:08.198Z"
   },
   {
    "duration": 687,
    "start_time": "2022-12-14T20:31:08.221Z"
   },
   {
    "duration": 32,
    "start_time": "2022-12-14T20:31:08.910Z"
   },
   {
    "duration": 49,
    "start_time": "2022-12-14T20:31:08.945Z"
   },
   {
    "duration": 5,
    "start_time": "2022-12-14T20:31:08.996Z"
   },
   {
    "duration": 45,
    "start_time": "2022-12-14T20:31:09.004Z"
   },
   {
    "duration": 22,
    "start_time": "2022-12-14T20:31:09.052Z"
   },
   {
    "duration": 11,
    "start_time": "2022-12-14T20:31:09.078Z"
   },
   {
    "duration": 200,
    "start_time": "2022-12-14T20:31:09.091Z"
   },
   {
    "duration": 13,
    "start_time": "2022-12-14T20:31:09.293Z"
   },
   {
    "duration": 420,
    "start_time": "2022-12-14T20:31:09.308Z"
   },
   {
    "duration": 45,
    "start_time": "2022-12-14T20:31:09.730Z"
   },
   {
    "duration": 10,
    "start_time": "2022-12-14T20:31:09.776Z"
   },
   {
    "duration": 22,
    "start_time": "2022-12-14T20:31:09.787Z"
   },
   {
    "duration": 28,
    "start_time": "2022-12-14T20:31:09.811Z"
   },
   {
    "duration": 7,
    "start_time": "2022-12-14T20:31:09.841Z"
   },
   {
    "duration": 159,
    "start_time": "2022-12-14T20:31:09.851Z"
   },
   {
    "duration": 26,
    "start_time": "2022-12-14T20:31:10.012Z"
   },
   {
    "duration": 439,
    "start_time": "2022-12-14T20:31:10.040Z"
   },
   {
    "duration": 54,
    "start_time": "2022-12-14T20:31:10.481Z"
   },
   {
    "duration": 6,
    "start_time": "2022-12-14T20:31:10.538Z"
   },
   {
    "duration": 11,
    "start_time": "2022-12-14T20:31:10.546Z"
   },
   {
    "duration": 36,
    "start_time": "2022-12-14T20:31:10.559Z"
   },
   {
    "duration": 11,
    "start_time": "2022-12-14T20:31:10.597Z"
   },
   {
    "duration": 39,
    "start_time": "2022-12-14T20:31:10.609Z"
   },
   {
    "duration": 202,
    "start_time": "2022-12-14T20:31:10.737Z"
   },
   {
    "duration": 117,
    "start_time": "2022-12-14T20:31:10.941Z"
   },
   {
    "duration": 101,
    "start_time": "2022-12-14T20:31:11.139Z"
   },
   {
    "duration": 19,
    "start_time": "2022-12-14T20:31:11.243Z"
   },
   {
    "duration": 40,
    "start_time": "2022-12-14T20:31:11.263Z"
   },
   {
    "duration": 4,
    "start_time": "2022-12-14T20:31:11.306Z"
   },
   {
    "duration": 43,
    "start_time": "2022-12-14T20:31:11.313Z"
   },
   {
    "duration": 15,
    "start_time": "2022-12-14T20:31:11.358Z"
   },
   {
    "duration": 22,
    "start_time": "2022-12-14T20:31:11.375Z"
   },
   {
    "duration": 123,
    "start_time": "2022-12-14T20:31:11.400Z"
   },
   {
    "duration": 13613,
    "start_time": "2022-12-14T20:31:11.525Z"
   },
   {
    "duration": 7354,
    "start_time": "2022-12-14T20:31:25.140Z"
   },
   {
    "duration": 7563,
    "start_time": "2022-12-14T20:31:32.497Z"
   },
   {
    "duration": 4,
    "start_time": "2022-12-14T20:33:22.877Z"
   },
   {
    "duration": 13378,
    "start_time": "2022-12-14T20:33:23.465Z"
   },
   {
    "duration": 7291,
    "start_time": "2022-12-14T20:33:36.846Z"
   },
   {
    "duration": 7342,
    "start_time": "2022-12-14T20:33:44.139Z"
   },
   {
    "duration": 6,
    "start_time": "2022-12-14T20:35:52.405Z"
   },
   {
    "duration": 116,
    "start_time": "2022-12-14T20:35:52.982Z"
   },
   {
    "duration": 4,
    "start_time": "2022-12-14T20:36:11.423Z"
   },
   {
    "duration": 40,
    "start_time": "2022-12-14T20:36:12.499Z"
   },
   {
    "duration": 5,
    "start_time": "2022-12-14T20:38:45.651Z"
   },
   {
    "duration": 25,
    "start_time": "2022-12-14T20:38:46.146Z"
   },
   {
    "duration": 6,
    "start_time": "2022-12-14T20:40:04.855Z"
   },
   {
    "duration": 32,
    "start_time": "2022-12-14T20:40:05.424Z"
   },
   {
    "duration": 4,
    "start_time": "2022-12-14T20:40:16.281Z"
   },
   {
    "duration": 29,
    "start_time": "2022-12-14T20:40:16.649Z"
   },
   {
    "duration": 4,
    "start_time": "2022-12-14T20:41:13.084Z"
   },
   {
    "duration": 28,
    "start_time": "2022-12-14T20:41:13.330Z"
   },
   {
    "duration": 1095,
    "start_time": "2022-12-14T20:41:33.665Z"
   },
   {
    "duration": 145,
    "start_time": "2022-12-14T20:41:34.764Z"
   },
   {
    "duration": 16,
    "start_time": "2022-12-14T20:41:34.912Z"
   },
   {
    "duration": 663,
    "start_time": "2022-12-14T20:41:34.938Z"
   },
   {
    "duration": 15,
    "start_time": "2022-12-14T20:41:35.603Z"
   },
   {
    "duration": 52,
    "start_time": "2022-12-14T20:41:35.620Z"
   },
   {
    "duration": 5,
    "start_time": "2022-12-14T20:41:35.673Z"
   },
   {
    "duration": 22,
    "start_time": "2022-12-14T20:41:35.679Z"
   },
   {
    "duration": 45,
    "start_time": "2022-12-14T20:41:35.704Z"
   },
   {
    "duration": 22,
    "start_time": "2022-12-14T20:41:35.750Z"
   },
   {
    "duration": 175,
    "start_time": "2022-12-14T20:41:35.774Z"
   },
   {
    "duration": 11,
    "start_time": "2022-12-14T20:41:35.952Z"
   },
   {
    "duration": 394,
    "start_time": "2022-12-14T20:41:35.964Z"
   },
   {
    "duration": 39,
    "start_time": "2022-12-14T20:41:36.360Z"
   },
   {
    "duration": 4,
    "start_time": "2022-12-14T20:41:36.401Z"
   },
   {
    "duration": 37,
    "start_time": "2022-12-14T20:41:36.407Z"
   },
   {
    "duration": 15,
    "start_time": "2022-12-14T20:41:36.446Z"
   },
   {
    "duration": 8,
    "start_time": "2022-12-14T20:41:36.462Z"
   },
   {
    "duration": 143,
    "start_time": "2022-12-14T20:41:36.472Z"
   },
   {
    "duration": 9,
    "start_time": "2022-12-14T20:41:36.616Z"
   },
   {
    "duration": 402,
    "start_time": "2022-12-14T20:41:36.627Z"
   },
   {
    "duration": 42,
    "start_time": "2022-12-14T20:41:37.031Z"
   },
   {
    "duration": 4,
    "start_time": "2022-12-14T20:41:37.075Z"
   },
   {
    "duration": 16,
    "start_time": "2022-12-14T20:41:37.081Z"
   },
   {
    "duration": 50,
    "start_time": "2022-12-14T20:41:37.098Z"
   },
   {
    "duration": 13,
    "start_time": "2022-12-14T20:41:37.150Z"
   },
   {
    "duration": 71,
    "start_time": "2022-12-14T20:41:37.166Z"
   },
   {
    "duration": 114,
    "start_time": "2022-12-14T20:41:37.238Z"
   },
   {
    "duration": 211,
    "start_time": "2022-12-14T20:41:37.354Z"
   },
   {
    "duration": 83,
    "start_time": "2022-12-14T20:41:37.568Z"
   },
   {
    "duration": 101,
    "start_time": "2022-12-14T20:41:37.654Z"
   },
   {
    "duration": 29,
    "start_time": "2022-12-14T20:41:37.757Z"
   },
   {
    "duration": 3,
    "start_time": "2022-12-14T20:41:37.788Z"
   },
   {
    "duration": 22,
    "start_time": "2022-12-14T20:41:37.793Z"
   },
   {
    "duration": 38,
    "start_time": "2022-12-14T20:41:37.817Z"
   },
   {
    "duration": 28,
    "start_time": "2022-12-14T20:41:37.856Z"
   },
   {
    "duration": 83,
    "start_time": "2022-12-14T20:41:37.886Z"
   },
   {
    "duration": 132,
    "start_time": "2022-12-14T20:41:37.971Z"
   },
   {
    "duration": 0,
    "start_time": "2022-12-14T20:41:38.105Z"
   },
   {
    "duration": 0,
    "start_time": "2022-12-14T20:41:38.106Z"
   },
   {
    "duration": 4,
    "start_time": "2022-12-14T21:02:03.149Z"
   },
   {
    "duration": 17,
    "start_time": "2022-12-14T21:02:03.726Z"
   },
   {
    "duration": 7,
    "start_time": "2022-12-14T21:02:12.470Z"
   },
   {
    "duration": 17,
    "start_time": "2022-12-14T21:02:12.660Z"
   },
   {
    "duration": 6,
    "start_time": "2022-12-14T21:02:27.365Z"
   },
   {
    "duration": 12531,
    "start_time": "2022-12-14T21:02:27.729Z"
   },
   {
    "duration": 6970,
    "start_time": "2022-12-14T21:02:40.262Z"
   },
   {
    "duration": 7019,
    "start_time": "2022-12-14T21:02:47.236Z"
   },
   {
    "duration": 3,
    "start_time": "2022-12-14T21:04:35.175Z"
   },
   {
    "duration": 5,
    "start_time": "2022-12-14T21:04:36.621Z"
   },
   {
    "duration": 1256,
    "start_time": "2022-12-14T21:04:37.261Z"
   },
   {
    "duration": 1283,
    "start_time": "2022-12-14T21:04:38.520Z"
   },
   {
    "duration": 1258,
    "start_time": "2022-12-14T21:04:39.805Z"
   },
   {
    "duration": 4,
    "start_time": "2022-12-14T21:06:03.644Z"
   },
   {
    "duration": 18,
    "start_time": "2022-12-14T21:06:03.974Z"
   },
   {
    "duration": 11,
    "start_time": "2022-12-14T21:06:04.970Z"
   },
   {
    "duration": 16,
    "start_time": "2022-12-14T21:06:05.609Z"
   },
   {
    "duration": 3,
    "start_time": "2022-12-14T21:10:34.660Z"
   },
   {
    "duration": 17,
    "start_time": "2022-12-14T21:10:39.005Z"
   },
   {
    "duration": 16,
    "start_time": "2022-12-14T21:10:48.549Z"
   },
   {
    "duration": 11,
    "start_time": "2022-12-14T21:11:02.750Z"
   },
   {
    "duration": 3,
    "start_time": "2022-12-14T21:11:14.761Z"
   },
   {
    "duration": 20,
    "start_time": "2022-12-14T21:11:15.029Z"
   },
   {
    "duration": 15,
    "start_time": "2022-12-14T21:11:15.413Z"
   },
   {
    "duration": 21,
    "start_time": "2022-12-14T21:11:16.005Z"
   },
   {
    "duration": 4,
    "start_time": "2022-12-14T21:11:18.329Z"
   },
   {
    "duration": 12417,
    "start_time": "2022-12-14T21:11:18.689Z"
   },
   {
    "duration": 6480,
    "start_time": "2022-12-14T21:18:25.326Z"
   },
   {
    "duration": 12246,
    "start_time": "2022-12-14T21:18:31.808Z"
   },
   {
    "duration": 6,
    "start_time": "2022-12-14T21:41:33.535Z"
   },
   {
    "duration": 7,
    "start_time": "2022-12-14T21:41:40.266Z"
   },
   {
    "duration": 32,
    "start_time": "2022-12-14T21:42:11.746Z"
   },
   {
    "duration": 3,
    "start_time": "2022-12-14T21:42:32.862Z"
   },
   {
    "duration": 21,
    "start_time": "2022-12-14T21:42:33.114Z"
   },
   {
    "duration": 59,
    "start_time": "2022-12-14T21:48:40.842Z"
   },
   {
    "duration": 3,
    "start_time": "2022-12-14T21:48:44.707Z"
   },
   {
    "duration": 7,
    "start_time": "2022-12-14T21:48:45.323Z"
   },
   {
    "duration": 8,
    "start_time": "2022-12-14T21:48:48.463Z"
   },
   {
    "duration": 8,
    "start_time": "2022-12-14T21:48:49.129Z"
   },
   {
    "duration": 5,
    "start_time": "2022-12-14T21:48:55.019Z"
   },
   {
    "duration": 1351,
    "start_time": "2022-12-14T21:48:55.616Z"
   },
   {
    "duration": 1245,
    "start_time": "2022-12-14T21:48:56.970Z"
   },
   {
    "duration": 1206,
    "start_time": "2022-12-14T21:48:58.217Z"
   },
   {
    "duration": 1109,
    "start_time": "2022-12-15T07:10:59.428Z"
   },
   {
    "duration": 592,
    "start_time": "2022-12-15T07:11:00.540Z"
   },
   {
    "duration": 21,
    "start_time": "2022-12-15T07:11:01.134Z"
   },
   {
    "duration": 833,
    "start_time": "2022-12-15T07:11:01.157Z"
   },
   {
    "duration": 30,
    "start_time": "2022-12-15T07:11:01.992Z"
   },
   {
    "duration": 37,
    "start_time": "2022-12-15T07:11:02.024Z"
   },
   {
    "duration": 5,
    "start_time": "2022-12-15T07:11:02.062Z"
   },
   {
    "duration": 18,
    "start_time": "2022-12-15T07:11:02.068Z"
   },
   {
    "duration": 28,
    "start_time": "2022-12-15T07:11:02.088Z"
   },
   {
    "duration": 5,
    "start_time": "2022-12-15T07:11:02.119Z"
   },
   {
    "duration": 599,
    "start_time": "2022-12-15T07:11:02.126Z"
   },
   {
    "duration": 10,
    "start_time": "2022-12-15T07:11:02.727Z"
   },
   {
    "duration": 372,
    "start_time": "2022-12-15T07:11:02.739Z"
   },
   {
    "duration": 41,
    "start_time": "2022-12-15T07:11:03.112Z"
   },
   {
    "duration": 4,
    "start_time": "2022-12-15T07:11:03.155Z"
   },
   {
    "duration": 9,
    "start_time": "2022-12-15T07:11:03.161Z"
   },
   {
    "duration": 16,
    "start_time": "2022-12-15T07:11:03.171Z"
   },
   {
    "duration": 6,
    "start_time": "2022-12-15T07:11:03.189Z"
   },
   {
    "duration": 546,
    "start_time": "2022-12-15T07:11:03.222Z"
   },
   {
    "duration": 9,
    "start_time": "2022-12-15T07:11:03.770Z"
   },
   {
    "duration": 353,
    "start_time": "2022-12-15T07:11:03.781Z"
   },
   {
    "duration": 45,
    "start_time": "2022-12-15T07:11:04.137Z"
   },
   {
    "duration": 5,
    "start_time": "2022-12-15T07:11:04.184Z"
   },
   {
    "duration": 32,
    "start_time": "2022-12-15T07:11:04.191Z"
   },
   {
    "duration": 25,
    "start_time": "2022-12-15T07:11:04.226Z"
   },
   {
    "duration": 20,
    "start_time": "2022-12-15T07:11:04.253Z"
   },
   {
    "duration": 149,
    "start_time": "2022-12-15T07:11:04.275Z"
   },
   {
    "duration": 100,
    "start_time": "2022-12-15T07:11:04.428Z"
   },
   {
    "duration": 193,
    "start_time": "2022-12-15T07:11:04.530Z"
   },
   {
    "duration": 3,
    "start_time": "2022-12-15T07:11:04.725Z"
   },
   {
    "duration": 121,
    "start_time": "2022-12-15T07:11:04.731Z"
   },
   {
    "duration": 33,
    "start_time": "2022-12-15T07:11:04.853Z"
   },
   {
    "duration": 6,
    "start_time": "2022-12-15T07:11:04.888Z"
   },
   {
    "duration": 15,
    "start_time": "2022-12-15T07:11:04.896Z"
   },
   {
    "duration": 8,
    "start_time": "2022-12-15T07:11:04.913Z"
   },
   {
    "duration": 14,
    "start_time": "2022-12-15T07:11:04.923Z"
   },
   {
    "duration": 98,
    "start_time": "2022-12-15T07:11:04.938Z"
   },
   {
    "duration": 1322,
    "start_time": "2022-12-15T07:11:05.038Z"
   },
   {
    "duration": 1274,
    "start_time": "2022-12-15T07:11:06.362Z"
   },
   {
    "duration": 1259,
    "start_time": "2022-12-15T07:11:07.638Z"
   },
   {
    "duration": 4,
    "start_time": "2022-12-15T07:16:32.793Z"
   },
   {
    "duration": 115,
    "start_time": "2022-12-15T07:16:33.140Z"
   },
   {
    "duration": 4,
    "start_time": "2022-12-15T07:21:07.959Z"
   },
   {
    "duration": 22,
    "start_time": "2022-12-15T07:21:08.296Z"
   },
   {
    "duration": 3,
    "start_time": "2022-12-15T07:21:27.048Z"
   },
   {
    "duration": 23,
    "start_time": "2022-12-15T07:21:27.428Z"
   },
   {
    "duration": 5,
    "start_time": "2022-12-15T07:21:36.186Z"
   },
   {
    "duration": 7,
    "start_time": "2022-12-15T07:21:36.530Z"
   },
   {
    "duration": 5,
    "start_time": "2022-12-15T07:26:17.773Z"
   },
   {
    "duration": 19,
    "start_time": "2022-12-15T07:26:34.322Z"
   },
   {
    "duration": 6,
    "start_time": "2022-12-15T07:26:46.107Z"
   },
   {
    "duration": 29,
    "start_time": "2022-12-15T07:26:46.310Z"
   },
   {
    "duration": 4,
    "start_time": "2022-12-15T07:28:32.256Z"
   },
   {
    "duration": 10,
    "start_time": "2022-12-15T07:28:33.125Z"
   },
   {
    "duration": 5,
    "start_time": "2022-12-15T07:28:35.760Z"
   },
   {
    "duration": 21,
    "start_time": "2022-12-15T07:28:36.715Z"
   },
   {
    "duration": 9,
    "start_time": "2022-12-15T07:28:42.249Z"
   },
   {
    "duration": 8,
    "start_time": "2022-12-15T07:28:42.789Z"
   },
   {
    "duration": 5,
    "start_time": "2022-12-15T07:28:45.828Z"
   },
   {
    "duration": 10,
    "start_time": "2022-12-15T07:28:46.162Z"
   },
   {
    "duration": 10,
    "start_time": "2022-12-15T07:28:46.789Z"
   },
   {
    "duration": 9,
    "start_time": "2022-12-15T07:28:47.144Z"
   },
   {
    "duration": 5,
    "start_time": "2022-12-15T07:34:38.073Z"
   },
   {
    "duration": 18,
    "start_time": "2022-12-15T07:34:40.929Z"
   },
   {
    "duration": 4,
    "start_time": "2022-12-15T07:34:50.785Z"
   },
   {
    "duration": 11,
    "start_time": "2022-12-15T07:34:51.011Z"
   },
   {
    "duration": 9,
    "start_time": "2022-12-15T07:34:52.304Z"
   },
   {
    "duration": 10,
    "start_time": "2022-12-15T07:34:53.187Z"
   },
   {
    "duration": 5,
    "start_time": "2022-12-15T07:34:55.164Z"
   },
   {
    "duration": 20,
    "start_time": "2022-12-15T07:34:56.827Z"
   },
   {
    "duration": 19,
    "start_time": "2022-12-15T07:37:35.255Z"
   },
   {
    "duration": 21,
    "start_time": "2022-12-15T07:37:35.803Z"
   },
   {
    "duration": 5,
    "start_time": "2022-12-15T07:37:57.744Z"
   },
   {
    "duration": 21,
    "start_time": "2022-12-15T07:38:25.251Z"
   },
   {
    "duration": 3,
    "start_time": "2022-12-15T07:38:44.821Z"
   },
   {
    "duration": 8,
    "start_time": "2022-12-15T07:38:58.569Z"
   },
   {
    "duration": 4,
    "start_time": "2022-12-15T07:39:05.305Z"
   },
   {
    "duration": 4,
    "start_time": "2022-12-15T07:39:11.065Z"
   },
   {
    "duration": 4,
    "start_time": "2022-12-15T07:39:15.833Z"
   },
   {
    "duration": 5,
    "start_time": "2022-12-15T07:40:01.780Z"
   },
   {
    "duration": 20,
    "start_time": "2022-12-15T07:40:02.337Z"
   },
   {
    "duration": 5,
    "start_time": "2022-12-15T07:40:55.225Z"
   },
   {
    "duration": 14,
    "start_time": "2022-12-15T07:40:55.585Z"
   },
   {
    "duration": 5,
    "start_time": "2022-12-15T07:41:08.238Z"
   },
   {
    "duration": 1726,
    "start_time": "2022-12-15T07:41:08.503Z"
   },
   {
    "duration": 18,
    "start_time": "2022-12-15T07:41:21.448Z"
   },
   {
    "duration": 18,
    "start_time": "2022-12-15T07:41:36.271Z"
   },
   {
    "duration": 1664,
    "start_time": "2022-12-15T07:41:51.936Z"
   },
   {
    "duration": 1757,
    "start_time": "2022-12-15T07:41:59.495Z"
   },
   {
    "duration": 5,
    "start_time": "2022-12-15T07:44:47.155Z"
   },
   {
    "duration": 16,
    "start_time": "2022-12-15T07:44:47.463Z"
   },
   {
    "duration": 11,
    "start_time": "2022-12-15T07:47:17.461Z"
   },
   {
    "duration": 11,
    "start_time": "2022-12-15T07:47:32.137Z"
   },
   {
    "duration": 13,
    "start_time": "2022-12-15T07:48:09.444Z"
   },
   {
    "duration": 5,
    "start_time": "2022-12-15T07:48:17.048Z"
   },
   {
    "duration": 1755,
    "start_time": "2022-12-15T07:48:26.695Z"
   },
   {
    "duration": 6,
    "start_time": "2022-12-15T07:48:44.704Z"
   },
   {
    "duration": 1754,
    "start_time": "2022-12-15T07:48:46.119Z"
   },
   {
    "duration": 4,
    "start_time": "2022-12-15T07:49:23.031Z"
   },
   {
    "duration": 5,
    "start_time": "2022-12-15T07:49:28.318Z"
   },
   {
    "duration": 1687,
    "start_time": "2022-12-15T07:49:28.543Z"
   },
   {
    "duration": 3,
    "start_time": "2022-12-15T07:50:01.727Z"
   },
   {
    "duration": 1756,
    "start_time": "2022-12-15T07:50:14.873Z"
   },
   {
    "duration": 5,
    "start_time": "2022-12-15T07:50:38.484Z"
   },
   {
    "duration": 1761,
    "start_time": "2022-12-15T07:50:38.721Z"
   },
   {
    "duration": 5,
    "start_time": "2022-12-15T07:50:49.352Z"
   },
   {
    "duration": 1724,
    "start_time": "2022-12-15T07:50:49.550Z"
   },
   {
    "duration": 1723,
    "start_time": "2022-12-15T07:50:51.275Z"
   },
   {
    "duration": 1788,
    "start_time": "2022-12-15T07:50:53.000Z"
   },
   {
    "duration": 1688,
    "start_time": "2022-12-15T07:51:09.072Z"
   },
   {
    "duration": 1771,
    "start_time": "2022-12-15T07:51:18.971Z"
   },
   {
    "duration": 3,
    "start_time": "2022-12-15T07:51:26.663Z"
   },
   {
    "duration": 1121,
    "start_time": "2022-12-15T07:51:54.203Z"
   },
   {
    "duration": 154,
    "start_time": "2022-12-15T07:51:55.326Z"
   },
   {
    "duration": 18,
    "start_time": "2022-12-15T07:51:55.481Z"
   },
   {
    "duration": 632,
    "start_time": "2022-12-15T07:51:55.501Z"
   },
   {
    "duration": 14,
    "start_time": "2022-12-15T07:51:56.135Z"
   },
   {
    "duration": 63,
    "start_time": "2022-12-15T07:51:56.151Z"
   },
   {
    "duration": 4,
    "start_time": "2022-12-15T07:51:56.215Z"
   },
   {
    "duration": 15,
    "start_time": "2022-12-15T07:51:56.221Z"
   },
   {
    "duration": 29,
    "start_time": "2022-12-15T07:51:56.237Z"
   },
   {
    "duration": 28,
    "start_time": "2022-12-15T07:51:56.269Z"
   },
   {
    "duration": 147,
    "start_time": "2022-12-15T07:51:56.299Z"
   },
   {
    "duration": 9,
    "start_time": "2022-12-15T07:51:56.448Z"
   },
   {
    "duration": 374,
    "start_time": "2022-12-15T07:51:56.459Z"
   },
   {
    "duration": 36,
    "start_time": "2022-12-15T07:51:56.834Z"
   },
   {
    "duration": 4,
    "start_time": "2022-12-15T07:51:56.872Z"
   },
   {
    "duration": 7,
    "start_time": "2022-12-15T07:51:56.878Z"
   },
   {
    "duration": 35,
    "start_time": "2022-12-15T07:51:56.887Z"
   },
   {
    "duration": 5,
    "start_time": "2022-12-15T07:51:56.924Z"
   },
   {
    "duration": 139,
    "start_time": "2022-12-15T07:51:56.930Z"
   },
   {
    "duration": 9,
    "start_time": "2022-12-15T07:51:57.071Z"
   },
   {
    "duration": 352,
    "start_time": "2022-12-15T07:51:57.081Z"
   },
   {
    "duration": 35,
    "start_time": "2022-12-15T07:51:57.434Z"
   },
   {
    "duration": 5,
    "start_time": "2022-12-15T07:51:57.471Z"
   },
   {
    "duration": 10,
    "start_time": "2022-12-15T07:51:57.477Z"
   },
   {
    "duration": 36,
    "start_time": "2022-12-15T07:51:57.489Z"
   },
   {
    "duration": 5,
    "start_time": "2022-12-15T07:51:57.527Z"
   },
   {
    "duration": 23,
    "start_time": "2022-12-15T07:51:57.534Z"
   },
   {
    "duration": 165,
    "start_time": "2022-12-15T07:51:57.560Z"
   },
   {
    "duration": 111,
    "start_time": "2022-12-15T07:51:57.727Z"
   },
   {
    "duration": 83,
    "start_time": "2022-12-15T07:51:57.840Z"
   },
   {
    "duration": 12,
    "start_time": "2022-12-15T07:51:57.925Z"
   },
   {
    "duration": 25,
    "start_time": "2022-12-15T07:51:58.022Z"
   },
   {
    "duration": 3,
    "start_time": "2022-12-15T07:51:58.049Z"
   },
   {
    "duration": 17,
    "start_time": "2022-12-15T07:51:58.054Z"
   },
   {
    "duration": 9,
    "start_time": "2022-12-15T07:51:58.073Z"
   },
   {
    "duration": 10,
    "start_time": "2022-12-15T07:51:58.084Z"
   },
   {
    "duration": 85,
    "start_time": "2022-12-15T07:51:58.122Z"
   },
   {
    "duration": 1749,
    "start_time": "2022-12-15T07:51:58.209Z"
   },
   {
    "duration": 1769,
    "start_time": "2022-12-15T07:51:59.960Z"
   },
   {
    "duration": 1760,
    "start_time": "2022-12-15T07:52:01.731Z"
   },
   {
    "duration": 4,
    "start_time": "2022-12-15T08:01:47.117Z"
   },
   {
    "duration": 1714,
    "start_time": "2022-12-15T08:01:47.431Z"
   },
   {
    "duration": 1676,
    "start_time": "2022-12-15T08:01:49.147Z"
   },
   {
    "duration": 1709,
    "start_time": "2022-12-15T08:01:50.825Z"
   },
   {
    "duration": 5,
    "start_time": "2022-12-15T08:04:35.057Z"
   },
   {
    "duration": 1779,
    "start_time": "2022-12-15T08:04:35.396Z"
   },
   {
    "duration": 1739,
    "start_time": "2022-12-15T08:04:37.443Z"
   },
   {
    "duration": 1759,
    "start_time": "2022-12-15T08:04:39.183Z"
   },
   {
    "duration": 4,
    "start_time": "2022-12-15T08:07:50.259Z"
   },
   {
    "duration": 11,
    "start_time": "2022-12-15T08:07:50.474Z"
   },
   {
    "duration": 11,
    "start_time": "2022-12-15T08:07:50.984Z"
   },
   {
    "duration": 10,
    "start_time": "2022-12-15T08:07:52.525Z"
   },
   {
    "duration": 5,
    "start_time": "2022-12-15T08:07:53.448Z"
   },
   {
    "duration": 1729,
    "start_time": "2022-12-15T08:07:54.924Z"
   },
   {
    "duration": 1716,
    "start_time": "2022-12-15T08:07:56.656Z"
   },
   {
    "duration": 1715,
    "start_time": "2022-12-15T08:07:58.374Z"
   },
   {
    "duration": 22,
    "start_time": "2022-12-15T08:16:32.279Z"
   },
   {
    "duration": 49,
    "start_time": "2022-12-15T08:17:05.476Z"
   },
   {
    "duration": 15,
    "start_time": "2022-12-15T08:17:38.196Z"
   },
   {
    "duration": 15,
    "start_time": "2022-12-15T08:17:48.272Z"
   },
   {
    "duration": 3,
    "start_time": "2022-12-15T08:17:48.978Z"
   },
   {
    "duration": 5,
    "start_time": "2022-12-15T08:17:49.545Z"
   },
   {
    "duration": 24,
    "start_time": "2022-12-15T08:17:50.676Z"
   },
   {
    "duration": 4,
    "start_time": "2022-12-15T08:17:53.954Z"
   },
   {
    "duration": 13,
    "start_time": "2022-12-15T08:17:54.300Z"
   },
   {
    "duration": 10,
    "start_time": "2022-12-15T08:17:54.631Z"
   },
   {
    "duration": 11,
    "start_time": "2022-12-15T08:17:55.994Z"
   },
   {
    "duration": 5,
    "start_time": "2022-12-15T08:17:56.615Z"
   },
   {
    "duration": 1719,
    "start_time": "2022-12-15T08:17:58.012Z"
   },
   {
    "duration": 1739,
    "start_time": "2022-12-15T08:17:59.733Z"
   },
   {
    "duration": 1746,
    "start_time": "2022-12-15T08:18:01.474Z"
   },
   {
    "duration": 5,
    "start_time": "2022-12-15T08:23:17.171Z"
   },
   {
    "duration": 1746,
    "start_time": "2022-12-15T08:23:17.406Z"
   },
   {
    "duration": 1711,
    "start_time": "2022-12-15T08:23:19.155Z"
   },
   {
    "duration": 1703,
    "start_time": "2022-12-15T08:23:20.867Z"
   },
   {
    "duration": 5,
    "start_time": "2022-12-15T09:02:03.455Z"
   },
   {
    "duration": 1852,
    "start_time": "2022-12-15T09:02:03.674Z"
   },
   {
    "duration": 6,
    "start_time": "2022-12-15T09:03:09.814Z"
   },
   {
    "duration": 1795,
    "start_time": "2022-12-15T09:03:10.411Z"
   },
   {
    "duration": 5,
    "start_time": "2022-12-15T09:09:29.014Z"
   },
   {
    "duration": 1629,
    "start_time": "2022-12-15T09:09:29.177Z"
   },
   {
    "duration": 1516,
    "start_time": "2022-12-15T09:09:40.294Z"
   },
   {
    "duration": 1516,
    "start_time": "2022-12-15T09:09:41.812Z"
   },
   {
    "duration": 5,
    "start_time": "2022-12-15T09:10:38.829Z"
   },
   {
    "duration": 1534,
    "start_time": "2022-12-15T09:10:39.082Z"
   },
   {
    "duration": 1534,
    "start_time": "2022-12-15T09:10:40.618Z"
   },
   {
    "duration": 1507,
    "start_time": "2022-12-15T09:10:42.154Z"
   },
   {
    "duration": 4,
    "start_time": "2022-12-15T09:15:31.856Z"
   },
   {
    "duration": 1489,
    "start_time": "2022-12-15T09:15:32.044Z"
   },
   {
    "duration": 1553,
    "start_time": "2022-12-15T09:15:33.535Z"
   },
   {
    "duration": 1554,
    "start_time": "2022-12-15T09:15:35.089Z"
   },
   {
    "duration": 1039,
    "start_time": "2022-12-15T09:16:16.772Z"
   },
   {
    "duration": 142,
    "start_time": "2022-12-15T09:16:17.814Z"
   },
   {
    "duration": 18,
    "start_time": "2022-12-15T09:16:17.957Z"
   },
   {
    "duration": 615,
    "start_time": "2022-12-15T09:16:17.977Z"
   },
   {
    "duration": 16,
    "start_time": "2022-12-15T09:16:18.594Z"
   },
   {
    "duration": 47,
    "start_time": "2022-12-15T09:16:18.622Z"
   },
   {
    "duration": 4,
    "start_time": "2022-12-15T09:16:18.671Z"
   },
   {
    "duration": 20,
    "start_time": "2022-12-15T09:16:18.677Z"
   },
   {
    "duration": 32,
    "start_time": "2022-12-15T09:16:18.699Z"
   },
   {
    "duration": 28,
    "start_time": "2022-12-15T09:16:18.733Z"
   },
   {
    "duration": 154,
    "start_time": "2022-12-15T09:16:18.763Z"
   },
   {
    "duration": 10,
    "start_time": "2022-12-15T09:16:18.919Z"
   },
   {
    "duration": 463,
    "start_time": "2022-12-15T09:16:18.931Z"
   },
   {
    "duration": 47,
    "start_time": "2022-12-15T09:16:19.396Z"
   },
   {
    "duration": 4,
    "start_time": "2022-12-15T09:16:19.445Z"
   },
   {
    "duration": 23,
    "start_time": "2022-12-15T09:16:19.451Z"
   },
   {
    "duration": 42,
    "start_time": "2022-12-15T09:16:19.475Z"
   },
   {
    "duration": 16,
    "start_time": "2022-12-15T09:16:19.519Z"
   },
   {
    "duration": 148,
    "start_time": "2022-12-15T09:16:19.537Z"
   },
   {
    "duration": 9,
    "start_time": "2022-12-15T09:16:19.686Z"
   },
   {
    "duration": 393,
    "start_time": "2022-12-15T09:16:19.697Z"
   },
   {
    "duration": 45,
    "start_time": "2022-12-15T09:16:20.092Z"
   },
   {
    "duration": 4,
    "start_time": "2022-12-15T09:16:20.138Z"
   },
   {
    "duration": 23,
    "start_time": "2022-12-15T09:16:20.144Z"
   },
   {
    "duration": 40,
    "start_time": "2022-12-15T09:16:20.169Z"
   },
   {
    "duration": 9,
    "start_time": "2022-12-15T09:16:20.211Z"
   },
   {
    "duration": 37,
    "start_time": "2022-12-15T09:16:20.223Z"
   },
   {
    "duration": 127,
    "start_time": "2022-12-15T09:16:20.321Z"
   },
   {
    "duration": 185,
    "start_time": "2022-12-15T09:16:20.450Z"
   },
   {
    "duration": 86,
    "start_time": "2022-12-15T09:16:20.637Z"
   },
   {
    "duration": 107,
    "start_time": "2022-12-15T09:16:20.729Z"
   },
   {
    "duration": 51,
    "start_time": "2022-12-15T09:16:20.838Z"
   },
   {
    "duration": 13,
    "start_time": "2022-12-15T09:16:20.891Z"
   },
   {
    "duration": 27,
    "start_time": "2022-12-15T09:16:20.906Z"
   },
   {
    "duration": 37,
    "start_time": "2022-12-15T09:16:20.934Z"
   },
   {
    "duration": 23,
    "start_time": "2022-12-15T09:16:20.973Z"
   },
   {
    "duration": 87,
    "start_time": "2022-12-15T09:16:20.997Z"
   },
   {
    "duration": 1628,
    "start_time": "2022-12-15T09:16:21.086Z"
   },
   {
    "duration": 1790,
    "start_time": "2022-12-15T09:16:22.716Z"
   },
   {
    "duration": 1628,
    "start_time": "2022-12-15T09:16:24.508Z"
   },
   {
    "duration": 94,
    "start_time": "2022-12-15T10:08:39.036Z"
   },
   {
    "duration": 53,
    "start_time": "2022-12-15T10:08:39.295Z"
   },
   {
    "duration": 5,
    "start_time": "2022-12-15T10:08:44.850Z"
   },
   {
    "duration": 6,
    "start_time": "2022-12-15T10:08:45.240Z"
   },
   {
    "duration": 6,
    "start_time": "2022-12-15T10:08:45.687Z"
   },
   {
    "duration": 6,
    "start_time": "2022-12-15T10:08:50.882Z"
   },
   {
    "duration": 6,
    "start_time": "2022-12-15T10:08:51.147Z"
   },
   {
    "duration": 7,
    "start_time": "2022-12-15T10:08:51.600Z"
   },
   {
    "duration": 1058,
    "start_time": "2022-12-15T10:09:15.647Z"
   },
   {
    "duration": 558,
    "start_time": "2022-12-15T10:09:16.706Z"
   },
   {
    "duration": 15,
    "start_time": "2022-12-15T10:09:17.265Z"
   },
   {
    "duration": 723,
    "start_time": "2022-12-15T10:09:17.282Z"
   },
   {
    "duration": 27,
    "start_time": "2022-12-15T10:09:18.007Z"
   },
   {
    "duration": 41,
    "start_time": "2022-12-15T10:09:18.035Z"
   },
   {
    "duration": 4,
    "start_time": "2022-12-15T10:09:18.078Z"
   },
   {
    "duration": 8,
    "start_time": "2022-12-15T10:09:18.085Z"
   },
   {
    "duration": 31,
    "start_time": "2022-12-15T10:09:18.095Z"
   },
   {
    "duration": 5,
    "start_time": "2022-12-15T10:09:18.129Z"
   },
   {
    "duration": 10,
    "start_time": "2022-12-15T10:09:18.135Z"
   },
   {
    "duration": 557,
    "start_time": "2022-12-15T10:09:18.146Z"
   },
   {
    "duration": 10,
    "start_time": "2022-12-15T10:09:18.704Z"
   },
   {
    "duration": 325,
    "start_time": "2022-12-15T10:09:18.716Z"
   },
   {
    "duration": 35,
    "start_time": "2022-12-15T10:09:19.043Z"
   },
   {
    "duration": 4,
    "start_time": "2022-12-15T10:09:19.079Z"
   },
   {
    "duration": 35,
    "start_time": "2022-12-15T10:09:19.085Z"
   },
   {
    "duration": 26,
    "start_time": "2022-12-15T10:09:19.122Z"
   },
   {
    "duration": 18,
    "start_time": "2022-12-15T10:09:19.149Z"
   },
   {
    "duration": 547,
    "start_time": "2022-12-15T10:09:19.169Z"
   },
   {
    "duration": 9,
    "start_time": "2022-12-15T10:09:19.718Z"
   },
   {
    "duration": 446,
    "start_time": "2022-12-15T10:09:19.728Z"
   },
   {
    "duration": 32,
    "start_time": "2022-12-15T10:09:20.176Z"
   },
   {
    "duration": 17,
    "start_time": "2022-12-15T10:09:20.209Z"
   },
   {
    "duration": 18,
    "start_time": "2022-12-15T10:09:20.228Z"
   },
   {
    "duration": 38,
    "start_time": "2022-12-15T10:09:20.247Z"
   },
   {
    "duration": 20,
    "start_time": "2022-12-15T10:09:20.287Z"
   },
   {
    "duration": 116,
    "start_time": "2022-12-15T10:09:20.311Z"
   },
   {
    "duration": 116,
    "start_time": "2022-12-15T10:09:20.429Z"
   },
   {
    "duration": 181,
    "start_time": "2022-12-15T10:09:20.546Z"
   },
   {
    "duration": 30,
    "start_time": "2022-12-15T10:09:20.729Z"
   },
   {
    "duration": 176,
    "start_time": "2022-12-15T10:09:20.760Z"
   },
   {
    "duration": 32,
    "start_time": "2022-12-15T10:09:20.938Z"
   },
   {
    "duration": 69,
    "start_time": "2022-12-15T10:09:20.972Z"
   },
   {
    "duration": 7,
    "start_time": "2022-12-15T10:09:21.043Z"
   },
   {
    "duration": 45,
    "start_time": "2022-12-15T10:09:21.052Z"
   },
   {
    "duration": 14,
    "start_time": "2022-12-15T10:09:21.100Z"
   },
   {
    "duration": 31,
    "start_time": "2022-12-15T10:09:21.116Z"
   },
   {
    "duration": 72,
    "start_time": "2022-12-15T10:09:21.149Z"
   },
   {
    "duration": 0,
    "start_time": "2022-12-15T10:09:21.223Z"
   },
   {
    "duration": 0,
    "start_time": "2022-12-15T10:09:21.225Z"
   },
   {
    "duration": 0,
    "start_time": "2022-12-15T10:09:21.226Z"
   },
   {
    "duration": 0,
    "start_time": "2022-12-15T10:09:21.227Z"
   },
   {
    "duration": 72,
    "start_time": "2022-12-15T10:09:35.739Z"
   },
   {
    "duration": 6,
    "start_time": "2022-12-15T10:09:44.704Z"
   },
   {
    "duration": 1627,
    "start_time": "2022-12-15T10:09:45.223Z"
   },
   {
    "duration": 1456,
    "start_time": "2022-12-15T10:09:46.852Z"
   },
   {
    "duration": 1516,
    "start_time": "2022-12-15T10:09:48.310Z"
   },
   {
    "duration": 13353,
    "start_time": "2022-12-15T17:19:41.845Z"
   },
   {
    "duration": 589,
    "start_time": "2022-12-15T17:19:55.200Z"
   },
   {
    "duration": 15,
    "start_time": "2022-12-15T17:19:55.791Z"
   },
   {
    "duration": 741,
    "start_time": "2022-12-15T17:19:55.808Z"
   },
   {
    "duration": 22,
    "start_time": "2022-12-15T17:19:56.552Z"
   },
   {
    "duration": 63,
    "start_time": "2022-12-15T17:19:56.576Z"
   },
   {
    "duration": 5,
    "start_time": "2022-12-15T17:19:56.642Z"
   },
   {
    "duration": 11,
    "start_time": "2022-12-15T17:19:56.649Z"
   },
   {
    "duration": 18,
    "start_time": "2022-12-15T17:19:56.662Z"
   },
   {
    "duration": 5,
    "start_time": "2022-12-15T17:19:56.682Z"
   },
   {
    "duration": 24,
    "start_time": "2022-12-15T17:19:56.689Z"
   },
   {
    "duration": 593,
    "start_time": "2022-12-15T17:19:56.715Z"
   },
   {
    "duration": 10,
    "start_time": "2022-12-15T17:19:57.310Z"
   },
   {
    "duration": 370,
    "start_time": "2022-12-15T17:19:57.324Z"
   },
   {
    "duration": 43,
    "start_time": "2022-12-15T17:19:57.696Z"
   },
   {
    "duration": 4,
    "start_time": "2022-12-15T17:19:57.741Z"
   },
   {
    "duration": 22,
    "start_time": "2022-12-15T17:19:57.746Z"
   },
   {
    "duration": 23,
    "start_time": "2022-12-15T17:19:57.770Z"
   },
   {
    "duration": 19,
    "start_time": "2022-12-15T17:19:57.795Z"
   },
   {
    "duration": 551,
    "start_time": "2022-12-15T17:19:57.816Z"
   },
   {
    "duration": 8,
    "start_time": "2022-12-15T17:19:58.369Z"
   },
   {
    "duration": 442,
    "start_time": "2022-12-15T17:19:58.379Z"
   },
   {
    "duration": 33,
    "start_time": "2022-12-15T17:19:58.823Z"
   },
   {
    "duration": 13,
    "start_time": "2022-12-15T17:19:58.858Z"
   },
   {
    "duration": 21,
    "start_time": "2022-12-15T17:19:58.873Z"
   },
   {
    "duration": 40,
    "start_time": "2022-12-15T17:19:58.896Z"
   },
   {
    "duration": 41,
    "start_time": "2022-12-15T17:19:58.938Z"
   },
   {
    "duration": 233,
    "start_time": "2022-12-15T17:19:58.980Z"
   },
   {
    "duration": 48,
    "start_time": "2022-12-15T17:19:59.215Z"
   },
   {
    "duration": 152,
    "start_time": "2022-12-15T17:19:59.264Z"
   },
   {
    "duration": 40,
    "start_time": "2022-12-15T17:19:59.418Z"
   },
   {
    "duration": 173,
    "start_time": "2022-12-15T17:19:59.460Z"
   },
   {
    "duration": 33,
    "start_time": "2022-12-15T17:19:59.634Z"
   },
   {
    "duration": 58,
    "start_time": "2022-12-15T17:19:59.669Z"
   },
   {
    "duration": 6,
    "start_time": "2022-12-15T17:19:59.729Z"
   },
   {
    "duration": 30,
    "start_time": "2022-12-15T17:19:59.736Z"
   },
   {
    "duration": 31,
    "start_time": "2022-12-15T17:19:59.767Z"
   },
   {
    "duration": 22,
    "start_time": "2022-12-15T17:19:59.800Z"
   },
   {
    "duration": 34,
    "start_time": "2022-12-15T17:19:59.824Z"
   },
   {
    "duration": 1584,
    "start_time": "2022-12-15T17:19:59.860Z"
   },
   {
    "duration": 1437,
    "start_time": "2022-12-15T17:20:01.448Z"
   },
   {
    "duration": 1473,
    "start_time": "2022-12-15T17:20:02.886Z"
   },
   {
    "duration": 1101,
    "start_time": "2022-12-15T20:00:11.143Z"
   },
   {
    "duration": 1134,
    "start_time": "2022-12-15T20:01:13.630Z"
   },
   {
    "duration": 701,
    "start_time": "2022-12-15T20:01:14.767Z"
   },
   {
    "duration": 22,
    "start_time": "2022-12-15T20:01:15.470Z"
   },
   {
    "duration": 1192,
    "start_time": "2022-12-15T20:01:15.495Z"
   },
   {
    "duration": 25,
    "start_time": "2022-12-15T20:01:16.690Z"
   },
   {
    "duration": 70,
    "start_time": "2022-12-15T20:01:16.718Z"
   },
   {
    "duration": 4,
    "start_time": "2022-12-15T20:01:16.791Z"
   },
   {
    "duration": 30,
    "start_time": "2022-12-15T20:01:16.805Z"
   },
   {
    "duration": 39,
    "start_time": "2022-12-15T20:01:16.838Z"
   },
   {
    "duration": 21,
    "start_time": "2022-12-15T20:01:16.880Z"
   },
   {
    "duration": 38,
    "start_time": "2022-12-15T20:01:16.903Z"
   },
   {
    "duration": 706,
    "start_time": "2022-12-15T20:01:16.943Z"
   },
   {
    "duration": 13,
    "start_time": "2022-12-15T20:01:17.651Z"
   },
   {
    "duration": 460,
    "start_time": "2022-12-15T20:01:17.666Z"
   },
   {
    "duration": 52,
    "start_time": "2022-12-15T20:01:18.128Z"
   },
   {
    "duration": 5,
    "start_time": "2022-12-15T20:01:18.183Z"
   },
   {
    "duration": 40,
    "start_time": "2022-12-15T20:01:18.191Z"
   },
   {
    "duration": 82,
    "start_time": "2022-12-15T20:01:18.233Z"
   },
   {
    "duration": 46,
    "start_time": "2022-12-15T20:01:18.317Z"
   },
   {
    "duration": 661,
    "start_time": "2022-12-15T20:01:18.365Z"
   },
   {
    "duration": 13,
    "start_time": "2022-12-15T20:01:19.028Z"
   },
   {
    "duration": 573,
    "start_time": "2022-12-15T20:01:19.043Z"
   },
   {
    "duration": 43,
    "start_time": "2022-12-15T20:01:19.620Z"
   },
   {
    "duration": 6,
    "start_time": "2022-12-15T20:01:19.665Z"
   },
   {
    "duration": 12,
    "start_time": "2022-12-15T20:01:19.673Z"
   },
   {
    "duration": 58,
    "start_time": "2022-12-15T20:01:19.687Z"
   },
   {
    "duration": 24,
    "start_time": "2022-12-15T20:01:19.747Z"
   },
   {
    "duration": 49,
    "start_time": "2022-12-15T20:01:19.775Z"
   },
   {
    "duration": 138,
    "start_time": "2022-12-15T20:01:19.906Z"
   },
   {
    "duration": 0,
    "start_time": "2022-12-15T20:01:20.047Z"
   },
   {
    "duration": 0,
    "start_time": "2022-12-15T20:01:20.049Z"
   },
   {
    "duration": 0,
    "start_time": "2022-12-15T20:01:20.051Z"
   },
   {
    "duration": 0,
    "start_time": "2022-12-15T20:01:20.053Z"
   },
   {
    "duration": 0,
    "start_time": "2022-12-15T20:01:20.054Z"
   },
   {
    "duration": 0,
    "start_time": "2022-12-15T20:01:20.055Z"
   },
   {
    "duration": 0,
    "start_time": "2022-12-15T20:01:20.056Z"
   },
   {
    "duration": 0,
    "start_time": "2022-12-15T20:01:20.057Z"
   },
   {
    "duration": 0,
    "start_time": "2022-12-15T20:01:20.060Z"
   },
   {
    "duration": 0,
    "start_time": "2022-12-15T20:01:20.061Z"
   },
   {
    "duration": 0,
    "start_time": "2022-12-15T20:01:20.062Z"
   },
   {
    "duration": 0,
    "start_time": "2022-12-15T20:01:20.064Z"
   },
   {
    "duration": 0,
    "start_time": "2022-12-15T20:01:20.065Z"
   },
   {
    "duration": 25,
    "start_time": "2022-12-15T20:01:35.484Z"
   },
   {
    "duration": 2,
    "start_time": "2022-12-15T20:01:36.458Z"
   },
   {
    "duration": 103,
    "start_time": "2022-12-15T20:01:40.003Z"
   },
   {
    "duration": 3,
    "start_time": "2022-12-15T20:01:44.205Z"
   },
   {
    "duration": 4,
    "start_time": "2022-12-15T20:01:44.459Z"
   },
   {
    "duration": 24,
    "start_time": "2022-12-15T20:01:44.741Z"
   },
   {
    "duration": 5,
    "start_time": "2022-12-15T20:03:16.688Z"
   },
   {
    "duration": 10,
    "start_time": "2022-12-15T20:03:17.041Z"
   },
   {
    "duration": 10,
    "start_time": "2022-12-15T20:03:17.209Z"
   },
   {
    "duration": 18,
    "start_time": "2022-12-15T20:03:17.358Z"
   },
   {
    "duration": 7,
    "start_time": "2022-12-15T20:03:17.521Z"
   },
   {
    "duration": 1638,
    "start_time": "2022-12-15T20:03:17.833Z"
   },
   {
    "duration": 1490,
    "start_time": "2022-12-15T20:03:19.473Z"
   },
   {
    "duration": 1553,
    "start_time": "2022-12-15T20:03:20.965Z"
   },
   {
    "duration": 4,
    "start_time": "2022-12-15T20:12:48.786Z"
   },
   {
    "duration": 11,
    "start_time": "2022-12-15T20:12:50.160Z"
   },
   {
    "duration": 10,
    "start_time": "2022-12-15T20:12:51.488Z"
   },
   {
    "duration": 8,
    "start_time": "2022-12-15T20:12:52.166Z"
   },
   {
    "duration": 5,
    "start_time": "2022-12-15T20:12:53.178Z"
   },
   {
    "duration": 4,
    "start_time": "2022-12-15T20:12:59.041Z"
   },
   {
    "duration": 12,
    "start_time": "2022-12-15T20:12:59.776Z"
   },
   {
    "duration": 11,
    "start_time": "2022-12-15T20:13:00.203Z"
   },
   {
    "duration": 11,
    "start_time": "2022-12-15T20:13:00.611Z"
   },
   {
    "duration": 5,
    "start_time": "2022-12-15T20:13:00.946Z"
   },
   {
    "duration": 1488,
    "start_time": "2022-12-15T20:13:01.778Z"
   },
   {
    "duration": 1554,
    "start_time": "2022-12-15T20:13:03.268Z"
   },
   {
    "duration": 1510,
    "start_time": "2022-12-15T20:13:04.824Z"
   },
   {
    "duration": 1321,
    "start_time": "2022-12-15T20:13:34.617Z"
   },
   {
    "duration": 191,
    "start_time": "2022-12-15T20:13:35.941Z"
   },
   {
    "duration": 22,
    "start_time": "2022-12-15T20:13:36.134Z"
   },
   {
    "duration": 821,
    "start_time": "2022-12-15T20:13:36.158Z"
   },
   {
    "duration": 30,
    "start_time": "2022-12-15T20:13:36.981Z"
   },
   {
    "duration": 48,
    "start_time": "2022-12-15T20:13:37.013Z"
   },
   {
    "duration": 5,
    "start_time": "2022-12-15T20:13:37.063Z"
   },
   {
    "duration": 14,
    "start_time": "2022-12-15T20:13:37.070Z"
   },
   {
    "duration": 17,
    "start_time": "2022-12-15T20:13:37.104Z"
   },
   {
    "duration": 7,
    "start_time": "2022-12-15T20:13:37.124Z"
   },
   {
    "duration": 6,
    "start_time": "2022-12-15T20:13:37.132Z"
   },
   {
    "duration": 182,
    "start_time": "2022-12-15T20:13:37.140Z"
   },
   {
    "duration": 11,
    "start_time": "2022-12-15T20:13:37.324Z"
   },
   {
    "duration": 491,
    "start_time": "2022-12-15T20:13:37.336Z"
   },
   {
    "duration": 46,
    "start_time": "2022-12-15T20:13:37.829Z"
   },
   {
    "duration": 6,
    "start_time": "2022-12-15T20:13:37.878Z"
   },
   {
    "duration": 26,
    "start_time": "2022-12-15T20:13:37.885Z"
   },
   {
    "duration": 22,
    "start_time": "2022-12-15T20:13:37.914Z"
   },
   {
    "duration": 4,
    "start_time": "2022-12-15T20:13:37.938Z"
   },
   {
    "duration": 185,
    "start_time": "2022-12-15T20:13:37.945Z"
   },
   {
    "duration": 12,
    "start_time": "2022-12-15T20:13:38.133Z"
   },
   {
    "duration": 502,
    "start_time": "2022-12-15T20:13:38.146Z"
   },
   {
    "duration": 46,
    "start_time": "2022-12-15T20:13:38.649Z"
   },
   {
    "duration": 5,
    "start_time": "2022-12-15T20:13:38.703Z"
   },
   {
    "duration": 22,
    "start_time": "2022-12-15T20:13:38.710Z"
   },
   {
    "duration": 38,
    "start_time": "2022-12-15T20:13:38.734Z"
   },
   {
    "duration": 6,
    "start_time": "2022-12-15T20:13:38.774Z"
   },
   {
    "duration": 43,
    "start_time": "2022-12-15T20:13:38.784Z"
   },
   {
    "duration": 204,
    "start_time": "2022-12-15T20:13:38.828Z"
   },
   {
    "duration": 177,
    "start_time": "2022-12-15T20:13:39.036Z"
   },
   {
    "duration": 52,
    "start_time": "2022-12-15T20:13:39.215Z"
   },
   {
    "duration": 142,
    "start_time": "2022-12-15T20:13:39.270Z"
   },
   {
    "duration": 20,
    "start_time": "2022-12-15T20:13:39.414Z"
   },
   {
    "duration": 47,
    "start_time": "2022-12-15T20:13:39.436Z"
   },
   {
    "duration": 5,
    "start_time": "2022-12-15T20:13:39.485Z"
   },
   {
    "duration": 35,
    "start_time": "2022-12-15T20:13:39.492Z"
   },
   {
    "duration": 19,
    "start_time": "2022-12-15T20:13:39.530Z"
   },
   {
    "duration": 28,
    "start_time": "2022-12-15T20:13:39.552Z"
   },
   {
    "duration": 103,
    "start_time": "2022-12-15T20:13:39.583Z"
   },
   {
    "duration": 2299,
    "start_time": "2022-12-15T20:13:39.698Z"
   },
   {
    "duration": 1917,
    "start_time": "2022-12-15T20:13:42.004Z"
   },
   {
    "duration": 2040,
    "start_time": "2022-12-15T20:13:43.923Z"
   },
   {
    "duration": 1080,
    "start_time": "2022-12-16T06:20:56.956Z"
   },
   {
    "duration": 603,
    "start_time": "2022-12-16T06:20:58.038Z"
   },
   {
    "duration": 18,
    "start_time": "2022-12-16T06:20:58.643Z"
   },
   {
    "duration": 803,
    "start_time": "2022-12-16T06:20:58.663Z"
   },
   {
    "duration": 17,
    "start_time": "2022-12-16T06:20:59.468Z"
   },
   {
    "duration": 55,
    "start_time": "2022-12-16T06:20:59.486Z"
   },
   {
    "duration": 5,
    "start_time": "2022-12-16T06:20:59.542Z"
   },
   {
    "duration": 15,
    "start_time": "2022-12-16T06:20:59.549Z"
   },
   {
    "duration": 20,
    "start_time": "2022-12-16T06:20:59.566Z"
   },
   {
    "duration": 6,
    "start_time": "2022-12-16T06:20:59.590Z"
   },
   {
    "duration": 23,
    "start_time": "2022-12-16T06:20:59.598Z"
   },
   {
    "duration": 578,
    "start_time": "2022-12-16T06:20:59.623Z"
   },
   {
    "duration": 10,
    "start_time": "2022-12-16T06:21:00.202Z"
   },
   {
    "duration": 384,
    "start_time": "2022-12-16T06:21:00.214Z"
   },
   {
    "duration": 42,
    "start_time": "2022-12-16T06:21:00.600Z"
   },
   {
    "duration": 4,
    "start_time": "2022-12-16T06:21:00.644Z"
   },
   {
    "duration": 22,
    "start_time": "2022-12-16T06:21:00.650Z"
   },
   {
    "duration": 28,
    "start_time": "2022-12-16T06:21:00.673Z"
   },
   {
    "duration": 5,
    "start_time": "2022-12-16T06:21:00.703Z"
   },
   {
    "duration": 568,
    "start_time": "2022-12-16T06:21:00.710Z"
   },
   {
    "duration": 10,
    "start_time": "2022-12-16T06:21:01.279Z"
   },
   {
    "duration": 324,
    "start_time": "2022-12-16T06:21:01.291Z"
   },
   {
    "duration": 34,
    "start_time": "2022-12-16T06:21:01.617Z"
   },
   {
    "duration": 4,
    "start_time": "2022-12-16T06:21:01.653Z"
   },
   {
    "duration": 14,
    "start_time": "2022-12-16T06:21:01.658Z"
   },
   {
    "duration": 18,
    "start_time": "2022-12-16T06:21:01.674Z"
   },
   {
    "duration": 19,
    "start_time": "2022-12-16T06:21:01.693Z"
   },
   {
    "duration": 196,
    "start_time": "2022-12-16T06:21:01.716Z"
   },
   {
    "duration": 99,
    "start_time": "2022-12-16T06:21:01.914Z"
   },
   {
    "duration": 3,
    "start_time": "2022-12-16T06:21:02.016Z"
   },
   {
    "duration": 126,
    "start_time": "2022-12-16T06:21:02.020Z"
   },
   {
    "duration": 170,
    "start_time": "2022-12-16T06:21:02.147Z"
   },
   {
    "duration": 7,
    "start_time": "2022-12-16T06:21:02.319Z"
   },
   {
    "duration": 30,
    "start_time": "2022-12-16T06:21:02.328Z"
   },
   {
    "duration": 3,
    "start_time": "2022-12-16T06:21:02.360Z"
   },
   {
    "duration": 16,
    "start_time": "2022-12-16T06:21:02.365Z"
   },
   {
    "duration": 8,
    "start_time": "2022-12-16T06:21:02.383Z"
   },
   {
    "duration": 26,
    "start_time": "2022-12-16T06:21:02.393Z"
   },
   {
    "duration": 94,
    "start_time": "2022-12-16T06:21:02.420Z"
   },
   {
    "duration": 1457,
    "start_time": "2022-12-16T06:21:02.515Z"
   },
   {
    "duration": 1404,
    "start_time": "2022-12-16T06:21:03.974Z"
   },
   {
    "duration": 1411,
    "start_time": "2022-12-16T06:21:05.379Z"
   },
   {
    "duration": 4,
    "start_time": "2022-12-16T07:00:31.589Z"
   },
   {
    "duration": 8,
    "start_time": "2022-12-16T07:00:32.939Z"
   },
   {
    "duration": 13,
    "start_time": "2022-12-16T07:00:34.675Z"
   },
   {
    "duration": 8,
    "start_time": "2022-12-16T07:00:35.149Z"
   },
   {
    "duration": 4,
    "start_time": "2022-12-16T07:03:01.516Z"
   },
   {
    "duration": 8,
    "start_time": "2022-12-16T07:03:02.666Z"
   },
   {
    "duration": 7,
    "start_time": "2022-12-16T07:03:03.839Z"
   },
   {
    "duration": 8,
    "start_time": "2022-12-16T07:03:04.855Z"
   },
   {
    "duration": 5,
    "start_time": "2022-12-16T07:03:05.769Z"
   },
   {
    "duration": 1231,
    "start_time": "2022-12-16T07:03:06.450Z"
   },
   {
    "duration": 1235,
    "start_time": "2022-12-16T07:03:07.683Z"
   },
   {
    "duration": 1238,
    "start_time": "2022-12-16T07:03:08.920Z"
   },
   {
    "duration": 4,
    "start_time": "2022-12-16T07:04:42.121Z"
   },
   {
    "duration": 104,
    "start_time": "2022-12-16T07:05:11.713Z"
   },
   {
    "duration": 4,
    "start_time": "2022-12-16T07:05:22.391Z"
   },
   {
    "duration": 825,
    "start_time": "2022-12-16T07:05:22.649Z"
   },
   {
    "duration": 6,
    "start_time": "2022-12-16T07:06:15.668Z"
   },
   {
    "duration": 12,
    "start_time": "2022-12-16T07:06:19.188Z"
   },
   {
    "duration": 5,
    "start_time": "2022-12-16T07:07:52.334Z"
   },
   {
    "duration": 13,
    "start_time": "2022-12-16T07:07:55.766Z"
   },
   {
    "duration": 5,
    "start_time": "2022-12-16T07:08:16.282Z"
   },
   {
    "duration": 815,
    "start_time": "2022-12-16T07:08:20.384Z"
   },
   {
    "duration": 811,
    "start_time": "2022-12-16T07:08:23.989Z"
   },
   {
    "duration": 973,
    "start_time": "2022-12-16T07:08:25.710Z"
   },
   {
    "duration": 1044,
    "start_time": "2022-12-16T07:09:46.844Z"
   },
   {
    "duration": 135,
    "start_time": "2022-12-16T07:09:47.890Z"
   },
   {
    "duration": 16,
    "start_time": "2022-12-16T07:09:48.026Z"
   },
   {
    "duration": 607,
    "start_time": "2022-12-16T07:09:48.044Z"
   },
   {
    "duration": 15,
    "start_time": "2022-12-16T07:09:48.652Z"
   },
   {
    "duration": 56,
    "start_time": "2022-12-16T07:09:48.669Z"
   },
   {
    "duration": 14,
    "start_time": "2022-12-16T07:09:48.727Z"
   },
   {
    "duration": 29,
    "start_time": "2022-12-16T07:09:48.743Z"
   },
   {
    "duration": 26,
    "start_time": "2022-12-16T07:09:48.773Z"
   },
   {
    "duration": 4,
    "start_time": "2022-12-16T07:09:48.801Z"
   },
   {
    "duration": 6,
    "start_time": "2022-12-16T07:09:48.807Z"
   },
   {
    "duration": 131,
    "start_time": "2022-12-16T07:09:48.814Z"
   },
   {
    "duration": 10,
    "start_time": "2022-12-16T07:09:48.946Z"
   },
   {
    "duration": 369,
    "start_time": "2022-12-16T07:09:48.957Z"
   },
   {
    "duration": 35,
    "start_time": "2022-12-16T07:09:49.328Z"
   },
   {
    "duration": 4,
    "start_time": "2022-12-16T07:09:49.364Z"
   },
   {
    "duration": 11,
    "start_time": "2022-12-16T07:09:49.370Z"
   },
   {
    "duration": 32,
    "start_time": "2022-12-16T07:09:49.383Z"
   },
   {
    "duration": 5,
    "start_time": "2022-12-16T07:09:49.416Z"
   },
   {
    "duration": 142,
    "start_time": "2022-12-16T07:09:49.422Z"
   },
   {
    "duration": 9,
    "start_time": "2022-12-16T07:09:49.566Z"
   },
   {
    "duration": 367,
    "start_time": "2022-12-16T07:09:49.576Z"
   },
   {
    "duration": 34,
    "start_time": "2022-12-16T07:09:49.945Z"
   },
   {
    "duration": 4,
    "start_time": "2022-12-16T07:09:49.981Z"
   },
   {
    "duration": 25,
    "start_time": "2022-12-16T07:09:49.987Z"
   },
   {
    "duration": 24,
    "start_time": "2022-12-16T07:09:50.015Z"
   },
   {
    "duration": 6,
    "start_time": "2022-12-16T07:09:50.041Z"
   },
   {
    "duration": 65,
    "start_time": "2022-12-16T07:09:50.051Z"
   },
   {
    "duration": 112,
    "start_time": "2022-12-16T07:09:50.120Z"
   },
   {
    "duration": 119,
    "start_time": "2022-12-16T07:09:50.319Z"
   },
   {
    "duration": 42,
    "start_time": "2022-12-16T07:09:50.440Z"
   },
   {
    "duration": 97,
    "start_time": "2022-12-16T07:09:50.517Z"
   },
   {
    "duration": 27,
    "start_time": "2022-12-16T07:09:50.616Z"
   },
   {
    "duration": 48,
    "start_time": "2022-12-16T07:09:50.645Z"
   },
   {
    "duration": 10,
    "start_time": "2022-12-16T07:09:50.695Z"
   },
   {
    "duration": 34,
    "start_time": "2022-12-16T07:09:50.706Z"
   },
   {
    "duration": 29,
    "start_time": "2022-12-16T07:09:50.742Z"
   },
   {
    "duration": 118,
    "start_time": "2022-12-16T07:09:50.773Z"
   },
   {
    "duration": 7,
    "start_time": "2022-12-16T07:09:50.892Z"
   },
   {
    "duration": 22,
    "start_time": "2022-12-16T07:09:50.901Z"
   },
   {
    "duration": 846,
    "start_time": "2022-12-16T07:09:50.925Z"
   },
   {
    "duration": 838,
    "start_time": "2022-12-16T07:09:51.773Z"
   },
   {
    "duration": 1019,
    "start_time": "2022-12-16T07:09:52.612Z"
   },
   {
    "duration": 89,
    "start_time": "2022-12-16T07:11:05.008Z"
   },
   {
    "duration": 5,
    "start_time": "2022-12-16T07:11:11.485Z"
   },
   {
    "duration": 812,
    "start_time": "2022-12-16T07:11:13.463Z"
   },
   {
    "duration": 820,
    "start_time": "2022-12-16T07:11:15.325Z"
   },
   {
    "duration": 1015,
    "start_time": "2022-12-16T07:11:16.147Z"
   },
   {
    "duration": 4,
    "start_time": "2022-12-16T07:13:05.947Z"
   },
   {
    "duration": 11,
    "start_time": "2022-12-16T07:13:07.893Z"
   },
   {
    "duration": 12,
    "start_time": "2022-12-16T07:13:08.265Z"
   },
   {
    "duration": 3,
    "start_time": "2022-12-16T07:13:26.522Z"
   },
   {
    "duration": 8,
    "start_time": "2022-12-16T07:13:28.619Z"
   },
   {
    "duration": 7,
    "start_time": "2022-12-16T07:13:28.973Z"
   },
   {
    "duration": 8,
    "start_time": "2022-12-16T07:13:30.150Z"
   },
   {
    "duration": 6,
    "start_time": "2022-12-16T07:13:30.405Z"
   },
   {
    "duration": 821,
    "start_time": "2022-12-16T07:13:35.592Z"
   },
   {
    "duration": 854,
    "start_time": "2022-12-16T07:13:36.415Z"
   },
   {
    "duration": 974,
    "start_time": "2022-12-16T07:13:37.271Z"
   },
   {
    "duration": 4779,
    "start_time": "2022-12-17T05:58:21.732Z"
   },
   {
    "duration": 176,
    "start_time": "2022-12-17T05:58:26.514Z"
   },
   {
    "duration": 18,
    "start_time": "2022-12-17T05:58:26.691Z"
   },
   {
    "duration": 921,
    "start_time": "2022-12-17T05:58:26.711Z"
   },
   {
    "duration": 27,
    "start_time": "2022-12-17T05:58:27.635Z"
   },
   {
    "duration": 50,
    "start_time": "2022-12-17T05:58:27.665Z"
   },
   {
    "duration": 5,
    "start_time": "2022-12-17T05:58:27.717Z"
   },
   {
    "duration": 25,
    "start_time": "2022-12-17T05:58:27.725Z"
   },
   {
    "duration": 21,
    "start_time": "2022-12-17T05:58:27.753Z"
   },
   {
    "duration": 6,
    "start_time": "2022-12-17T05:58:27.776Z"
   },
   {
    "duration": 12,
    "start_time": "2022-12-17T05:58:27.784Z"
   },
   {
    "duration": 166,
    "start_time": "2022-12-17T05:58:27.798Z"
   },
   {
    "duration": 10,
    "start_time": "2022-12-17T05:58:27.965Z"
   },
   {
    "duration": 388,
    "start_time": "2022-12-17T05:58:27.978Z"
   },
   {
    "duration": 39,
    "start_time": "2022-12-17T05:58:28.368Z"
   },
   {
    "duration": 5,
    "start_time": "2022-12-17T05:58:28.408Z"
   },
   {
    "duration": 9,
    "start_time": "2022-12-17T05:58:28.415Z"
   },
   {
    "duration": 32,
    "start_time": "2022-12-17T05:58:28.426Z"
   },
   {
    "duration": 5,
    "start_time": "2022-12-17T05:58:28.459Z"
   },
   {
    "duration": 146,
    "start_time": "2022-12-17T05:58:28.466Z"
   },
   {
    "duration": 11,
    "start_time": "2022-12-17T05:58:28.614Z"
   },
   {
    "duration": 453,
    "start_time": "2022-12-17T05:58:28.627Z"
   },
   {
    "duration": 93,
    "start_time": "2022-12-17T05:58:29.082Z"
   },
   {
    "duration": 4,
    "start_time": "2022-12-17T05:58:29.177Z"
   },
   {
    "duration": 8,
    "start_time": "2022-12-17T05:58:29.183Z"
   },
   {
    "duration": 23,
    "start_time": "2022-12-17T05:58:29.192Z"
   },
   {
    "duration": 6,
    "start_time": "2022-12-17T05:58:29.217Z"
   },
   {
    "duration": 114,
    "start_time": "2022-12-17T05:58:29.250Z"
   },
   {
    "duration": 209,
    "start_time": "2022-12-17T05:58:29.452Z"
   },
   {
    "duration": 190,
    "start_time": "2022-12-17T05:58:29.664Z"
   },
   {
    "duration": 51,
    "start_time": "2022-12-17T05:58:29.862Z"
   },
   {
    "duration": 4,
    "start_time": "2022-12-17T05:58:29.915Z"
   },
   {
    "duration": 47,
    "start_time": "2022-12-17T05:58:29.923Z"
   },
   {
    "duration": 105,
    "start_time": "2022-12-17T05:58:29.972Z"
   },
   {
    "duration": 4,
    "start_time": "2022-12-17T05:58:30.079Z"
   },
   {
    "duration": 24,
    "start_time": "2022-12-17T05:58:30.085Z"
   },
   {
    "duration": 8,
    "start_time": "2022-12-17T05:58:30.111Z"
   },
   {
    "duration": 9,
    "start_time": "2022-12-17T05:58:30.121Z"
   },
   {
    "duration": 8,
    "start_time": "2022-12-17T05:58:30.152Z"
   },
   {
    "duration": 1148,
    "start_time": "2022-12-17T05:58:30.163Z"
   },
   {
    "duration": 888,
    "start_time": "2022-12-17T05:58:31.315Z"
   },
   {
    "duration": 1004,
    "start_time": "2022-12-17T05:58:32.205Z"
   },
   {
    "duration": 8,
    "start_time": "2022-12-17T06:01:42.098Z"
   },
   {
    "duration": 7,
    "start_time": "2022-12-17T06:01:54.751Z"
   },
   {
    "duration": 888,
    "start_time": "2022-12-17T06:02:03.949Z"
   },
   {
    "duration": 1030,
    "start_time": "2022-12-17T06:02:08.202Z"
   },
   {
    "duration": 44,
    "start_time": "2022-12-17T06:17:53.645Z"
   },
   {
    "duration": 1118,
    "start_time": "2022-12-17T06:18:03.595Z"
   },
   {
    "duration": 577,
    "start_time": "2022-12-17T06:18:04.715Z"
   },
   {
    "duration": 17,
    "start_time": "2022-12-17T06:18:05.293Z"
   },
   {
    "duration": 739,
    "start_time": "2022-12-17T06:18:05.313Z"
   },
   {
    "duration": 18,
    "start_time": "2022-12-17T06:18:06.055Z"
   },
   {
    "duration": 59,
    "start_time": "2022-12-17T06:18:06.075Z"
   },
   {
    "duration": 5,
    "start_time": "2022-12-17T06:18:06.136Z"
   },
   {
    "duration": 11,
    "start_time": "2022-12-17T06:18:06.143Z"
   },
   {
    "duration": 29,
    "start_time": "2022-12-17T06:18:06.156Z"
   },
   {
    "duration": 5,
    "start_time": "2022-12-17T06:18:06.188Z"
   },
   {
    "duration": 3,
    "start_time": "2022-12-17T06:18:06.195Z"
   },
   {
    "duration": 557,
    "start_time": "2022-12-17T06:18:06.200Z"
   },
   {
    "duration": 11,
    "start_time": "2022-12-17T06:18:06.758Z"
   },
   {
    "duration": 359,
    "start_time": "2022-12-17T06:18:06.770Z"
   },
   {
    "duration": 36,
    "start_time": "2022-12-17T06:18:07.131Z"
   },
   {
    "duration": 4,
    "start_time": "2022-12-17T06:18:07.169Z"
   },
   {
    "duration": 12,
    "start_time": "2022-12-17T06:18:07.174Z"
   },
   {
    "duration": 29,
    "start_time": "2022-12-17T06:18:07.187Z"
   },
   {
    "duration": 4,
    "start_time": "2022-12-17T06:18:07.218Z"
   },
   {
    "duration": 535,
    "start_time": "2022-12-17T06:18:07.223Z"
   },
   {
    "duration": 9,
    "start_time": "2022-12-17T06:18:07.760Z"
   },
   {
    "duration": 324,
    "start_time": "2022-12-17T06:18:07.770Z"
   },
   {
    "duration": 44,
    "start_time": "2022-12-17T06:18:08.095Z"
   },
   {
    "duration": 4,
    "start_time": "2022-12-17T06:18:08.140Z"
   },
   {
    "duration": 10,
    "start_time": "2022-12-17T06:18:08.146Z"
   },
   {
    "duration": 15,
    "start_time": "2022-12-17T06:18:08.158Z"
   },
   {
    "duration": 5,
    "start_time": "2022-12-17T06:18:08.174Z"
   },
   {
    "duration": 136,
    "start_time": "2022-12-17T06:18:08.183Z"
   },
   {
    "duration": 105,
    "start_time": "2022-12-17T06:18:08.321Z"
   },
   {
    "duration": 86,
    "start_time": "2022-12-17T06:18:08.427Z"
   },
   {
    "duration": 112,
    "start_time": "2022-12-17T06:18:08.515Z"
   },
   {
    "duration": 84,
    "start_time": "2022-12-17T06:18:08.629Z"
   },
   {
    "duration": 7,
    "start_time": "2022-12-17T06:18:08.716Z"
   },
   {
    "duration": 27,
    "start_time": "2022-12-17T06:18:08.814Z"
   },
   {
    "duration": 3,
    "start_time": "2022-12-17T06:18:08.843Z"
   },
   {
    "duration": 17,
    "start_time": "2022-12-17T06:18:08.847Z"
   },
   {
    "duration": 6,
    "start_time": "2022-12-17T06:18:08.866Z"
   },
   {
    "duration": 7,
    "start_time": "2022-12-17T06:18:08.874Z"
   },
   {
    "duration": 107,
    "start_time": "2022-12-17T06:18:08.882Z"
   },
   {
    "duration": 799,
    "start_time": "2022-12-17T06:18:08.991Z"
   },
   {
    "duration": 838,
    "start_time": "2022-12-17T06:18:09.791Z"
   },
   {
    "duration": 811,
    "start_time": "2022-12-17T06:18:10.631Z"
   }
  ],
  "kernelspec": {
   "display_name": "Python 3 (ipykernel)",
   "language": "python",
   "name": "python3"
  },
  "language_info": {
   "codemirror_mode": {
    "name": "ipython",
    "version": 3
   },
   "file_extension": ".py",
   "mimetype": "text/x-python",
   "name": "python",
   "nbconvert_exporter": "python",
   "pygments_lexer": "ipython3",
   "version": "3.9.7"
  },
  "toc": {
   "base_numbering": 1,
   "nav_menu": {},
   "number_sections": true,
   "sideBar": true,
   "skip_h1_title": true,
   "title_cell": "Table of Contents",
   "title_sidebar": "Contents",
   "toc_cell": false,
   "toc_position": {},
   "toc_section_display": true,
   "toc_window_display": false
  }
 },
 "nbformat": 4,
 "nbformat_minor": 2
}
