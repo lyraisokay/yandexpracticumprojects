{
 "cells": [
  {
   "cell_type": "markdown",
   "metadata": {
    "toc": true
   },
   "source": [
    "<h1>Содержание<span class=\"tocSkip\"></span></h1>\n",
    "<div class=\"toc\"><ul class=\"toc-item\"><li><span><a href=\"#Подготовка\" data-toc-modified-id=\"Подготовка-1\"><span class=\"toc-item-num\">1&nbsp;&nbsp;</span>Подготовка</a></span></li><li><span><a href=\"#Обучение\" data-toc-modified-id=\"Обучение-2\"><span class=\"toc-item-num\">2&nbsp;&nbsp;</span>Обучение</a></span><ul class=\"toc-item\"><li><span><a href=\"#Logistic-Regression\" data-toc-modified-id=\"Logistic-Regression-2.1\"><span class=\"toc-item-num\">2.1&nbsp;&nbsp;</span>Logistic Regression</a></span></li><li><span><a href=\"#Random-Forest\" data-toc-modified-id=\"Random-Forest-2.2\"><span class=\"toc-item-num\">2.2&nbsp;&nbsp;</span>Random Forest</a></span></li></ul></li><li><span><a href=\"#Выводы\" data-toc-modified-id=\"Выводы-3\"><span class=\"toc-item-num\">3&nbsp;&nbsp;</span>Выводы</a></span></li><li><span><a href=\"#Чек-лист-проверки\" data-toc-modified-id=\"Чек-лист-проверки-4\"><span class=\"toc-item-num\">4&nbsp;&nbsp;</span>Чек-лист проверки</a></span></li></ul></div>"
   ]
  },
  {
   "cell_type": "markdown",
   "metadata": {},
   "source": [
    "# Проект для «Викишоп»"
   ]
  },
  {
   "cell_type": "markdown",
   "metadata": {},
   "source": [
    "Интернет-магазин «Викишоп» запускает новый сервис. Теперь пользователи могут редактировать и дополнять описания товаров, как в вики-сообществах. То есть клиенты предлагают свои правки и комментируют изменения других. Магазину нужен инструмент, который будет искать токсичные комментарии и отправлять их на модерацию. \n",
    "\n",
    "Обучите модель классифицировать комментарии на позитивные и негативные. В вашем распоряжении набор данных с разметкой о токсичности правок.\n",
    "\n",
    "Постройте модель со значением метрики качества *F1* не меньше 0.75. \n",
    "\n",
    "**Инструкция по выполнению проекта**\n",
    "\n",
    "1. Загрузите и подготовьте данные.\n",
    "2. Обучите разные модели. \n",
    "3. Сделайте выводы.\n",
    "\n",
    "Для выполнения проекта применять *BERT* необязательно, но вы можете попробовать.\n",
    "\n",
    "**Описание данных**\n",
    "\n",
    "Данные находятся в файле `toxic_comments.csv`. Столбец *text* в нём содержит текст комментария, а *toxic* — целевой признак."
   ]
  },
  {
   "cell_type": "markdown",
   "metadata": {},
   "source": [
    "## Подготовка"
   ]
  },
  {
   "cell_type": "code",
   "execution_count": 3,
   "metadata": {},
   "outputs": [
    {
     "name": "stdout",
     "output_type": "stream",
     "text": [
      "Requirement already satisfied: spacy in /opt/conda/lib/python3.9/site-packages (3.2.0)\n",
      "Requirement already satisfied: catalogue<2.1.0,>=2.0.6 in /opt/conda/lib/python3.9/site-packages (from spacy) (2.0.8)\n",
      "Requirement already satisfied: blis<0.8.0,>=0.4.0 in /opt/conda/lib/python3.9/site-packages (from spacy) (0.7.8)\n",
      "Requirement already satisfied: typer<0.5.0,>=0.3.0 in /opt/conda/lib/python3.9/site-packages (from spacy) (0.4.2)\n",
      "Requirement already satisfied: preshed<3.1.0,>=3.0.2 in /opt/conda/lib/python3.9/site-packages (from spacy) (3.0.7)\n",
      "Requirement already satisfied: cymem<2.1.0,>=2.0.2 in /opt/conda/lib/python3.9/site-packages (from spacy) (2.0.6)\n",
      "Requirement already satisfied: requests<3.0.0,>=2.13.0 in /opt/conda/lib/python3.9/site-packages (from spacy) (2.25.1)\n",
      "Requirement already satisfied: spacy-legacy<3.1.0,>=3.0.8 in /opt/conda/lib/python3.9/site-packages (from spacy) (3.0.10)\n",
      "Requirement already satisfied: thinc<8.1.0,>=8.0.12 in /opt/conda/lib/python3.9/site-packages (from spacy) (8.0.17)\n",
      "Requirement already satisfied: packaging>=20.0 in /opt/conda/lib/python3.9/site-packages (from spacy) (21.3)\n",
      "Requirement already satisfied: langcodes<4.0.0,>=3.2.0 in /opt/conda/lib/python3.9/site-packages (from spacy) (3.3.0)\n",
      "Requirement already satisfied: srsly<3.0.0,>=2.4.1 in /opt/conda/lib/python3.9/site-packages (from spacy) (2.4.4)\n",
      "Requirement already satisfied: pathy>=0.3.5 in /opt/conda/lib/python3.9/site-packages (from spacy) (0.6.2)\n",
      "Requirement already satisfied: setuptools in /opt/conda/lib/python3.9/site-packages (from spacy) (49.6.0.post20210108)\n",
      "Requirement already satisfied: spacy-loggers<2.0.0,>=1.0.0 in /opt/conda/lib/python3.9/site-packages (from spacy) (1.0.3)\n",
      "Requirement already satisfied: wasabi<1.1.0,>=0.8.1 in /opt/conda/lib/python3.9/site-packages (from spacy) (0.10.1)\n",
      "Requirement already satisfied: murmurhash<1.1.0,>=0.28.0 in /opt/conda/lib/python3.9/site-packages (from spacy) (1.0.8)\n",
      "Requirement already satisfied: tqdm<5.0.0,>=4.38.0 in /opt/conda/lib/python3.9/site-packages (from spacy) (4.61.2)\n",
      "Requirement already satisfied: jinja2 in /opt/conda/lib/python3.9/site-packages (from spacy) (3.0.1)\n",
      "Requirement already satisfied: numpy>=1.15.0 in /opt/conda/lib/python3.9/site-packages (from spacy) (1.21.1)\n",
      "Requirement already satisfied: pydantic!=1.8,!=1.8.1,<1.9.0,>=1.7.4 in /opt/conda/lib/python3.9/site-packages (from spacy) (1.8.2)\n",
      "Requirement already satisfied: pyparsing!=3.0.5,>=2.0.2 in /opt/conda/lib/python3.9/site-packages (from packaging>=20.0->spacy) (2.4.7)\n",
      "Requirement already satisfied: smart-open<6.0.0,>=5.2.1 in /opt/conda/lib/python3.9/site-packages (from pathy>=0.3.5->spacy) (5.2.1)\n",
      "Requirement already satisfied: typing-extensions>=3.7.4.3 in /opt/conda/lib/python3.9/site-packages (from pydantic!=1.8,!=1.8.1,<1.9.0,>=1.7.4->spacy) (4.3.0)\n",
      "Requirement already satisfied: certifi>=2017.4.17 in /opt/conda/lib/python3.9/site-packages (from requests<3.0.0,>=2.13.0->spacy) (2022.6.15)\n",
      "Requirement already satisfied: chardet<5,>=3.0.2 in /opt/conda/lib/python3.9/site-packages (from requests<3.0.0,>=2.13.0->spacy) (4.0.0)\n",
      "Requirement already satisfied: urllib3<1.27,>=1.21.1 in /opt/conda/lib/python3.9/site-packages (from requests<3.0.0,>=2.13.0->spacy) (1.26.6)\n",
      "Requirement already satisfied: idna<3,>=2.5 in /opt/conda/lib/python3.9/site-packages (from requests<3.0.0,>=2.13.0->spacy) (2.10)\n",
      "Requirement already satisfied: click<9.0.0,>=7.1.1 in /opt/conda/lib/python3.9/site-packages (from typer<0.5.0,>=0.3.0->spacy) (8.1.3)\n",
      "Requirement already satisfied: MarkupSafe>=2.0 in /opt/conda/lib/python3.9/site-packages (from jinja2->spacy) (2.1.1)\n",
      "Collecting download\n",
      "  Downloading download-0.3.5-py3-none-any.whl (8.8 kB)\n",
      "Requirement already satisfied: en_core_web_sm in /opt/conda/lib/python3.9/site-packages (3.2.0)\n",
      "Requirement already satisfied: tqdm in /opt/conda/lib/python3.9/site-packages (from download) (4.61.2)\n",
      "Requirement already satisfied: six in /opt/conda/lib/python3.9/site-packages (from download) (1.16.0)\n",
      "Requirement already satisfied: requests in /opt/conda/lib/python3.9/site-packages (from download) (2.25.1)\n",
      "Requirement already satisfied: spacy<3.3.0,>=3.2.0 in /opt/conda/lib/python3.9/site-packages (from en_core_web_sm) (3.2.0)\n",
      "Requirement already satisfied: wasabi<1.1.0,>=0.8.1 in /opt/conda/lib/python3.9/site-packages (from spacy<3.3.0,>=3.2.0->en_core_web_sm) (0.10.1)\n",
      "Requirement already satisfied: preshed<3.1.0,>=3.0.2 in /opt/conda/lib/python3.9/site-packages (from spacy<3.3.0,>=3.2.0->en_core_web_sm) (3.0.7)\n",
      "Requirement already satisfied: thinc<8.1.0,>=8.0.12 in /opt/conda/lib/python3.9/site-packages (from spacy<3.3.0,>=3.2.0->en_core_web_sm) (8.0.17)\n",
      "Requirement already satisfied: cymem<2.1.0,>=2.0.2 in /opt/conda/lib/python3.9/site-packages (from spacy<3.3.0,>=3.2.0->en_core_web_sm) (2.0.6)\n",
      "Requirement already satisfied: srsly<3.0.0,>=2.4.1 in /opt/conda/lib/python3.9/site-packages (from spacy<3.3.0,>=3.2.0->en_core_web_sm) (2.4.4)\n",
      "Requirement already satisfied: setuptools in /opt/conda/lib/python3.9/site-packages (from spacy<3.3.0,>=3.2.0->en_core_web_sm) (49.6.0.post20210108)\n",
      "Requirement already satisfied: blis<0.8.0,>=0.4.0 in /opt/conda/lib/python3.9/site-packages (from spacy<3.3.0,>=3.2.0->en_core_web_sm) (0.7.8)\n",
      "Requirement already satisfied: jinja2 in /opt/conda/lib/python3.9/site-packages (from spacy<3.3.0,>=3.2.0->en_core_web_sm) (3.0.1)\n",
      "Requirement already satisfied: numpy>=1.15.0 in /opt/conda/lib/python3.9/site-packages (from spacy<3.3.0,>=3.2.0->en_core_web_sm) (1.21.1)\n",
      "Requirement already satisfied: langcodes<4.0.0,>=3.2.0 in /opt/conda/lib/python3.9/site-packages (from spacy<3.3.0,>=3.2.0->en_core_web_sm) (3.3.0)\n",
      "Requirement already satisfied: catalogue<2.1.0,>=2.0.6 in /opt/conda/lib/python3.9/site-packages (from spacy<3.3.0,>=3.2.0->en_core_web_sm) (2.0.8)\n",
      "Requirement already satisfied: typer<0.5.0,>=0.3.0 in /opt/conda/lib/python3.9/site-packages (from spacy<3.3.0,>=3.2.0->en_core_web_sm) (0.4.2)\n",
      "Requirement already satisfied: spacy-loggers<2.0.0,>=1.0.0 in /opt/conda/lib/python3.9/site-packages (from spacy<3.3.0,>=3.2.0->en_core_web_sm) (1.0.3)\n",
      "Requirement already satisfied: spacy-legacy<3.1.0,>=3.0.8 in /opt/conda/lib/python3.9/site-packages (from spacy<3.3.0,>=3.2.0->en_core_web_sm) (3.0.10)\n",
      "Requirement already satisfied: murmurhash<1.1.0,>=0.28.0 in /opt/conda/lib/python3.9/site-packages (from spacy<3.3.0,>=3.2.0->en_core_web_sm) (1.0.8)\n",
      "Requirement already satisfied: pathy>=0.3.5 in /opt/conda/lib/python3.9/site-packages (from spacy<3.3.0,>=3.2.0->en_core_web_sm) (0.6.2)\n",
      "Requirement already satisfied: pydantic!=1.8,!=1.8.1,<1.9.0,>=1.7.4 in /opt/conda/lib/python3.9/site-packages (from spacy<3.3.0,>=3.2.0->en_core_web_sm) (1.8.2)\n",
      "Requirement already satisfied: packaging>=20.0 in /opt/conda/lib/python3.9/site-packages (from spacy<3.3.0,>=3.2.0->en_core_web_sm) (21.3)\n",
      "Requirement already satisfied: pyparsing!=3.0.5,>=2.0.2 in /opt/conda/lib/python3.9/site-packages (from packaging>=20.0->spacy<3.3.0,>=3.2.0->en_core_web_sm) (2.4.7)\n",
      "Requirement already satisfied: smart-open<6.0.0,>=5.2.1 in /opt/conda/lib/python3.9/site-packages (from pathy>=0.3.5->spacy<3.3.0,>=3.2.0->en_core_web_sm) (5.2.1)\n",
      "Requirement already satisfied: typing-extensions>=3.7.4.3 in /opt/conda/lib/python3.9/site-packages (from pydantic!=1.8,!=1.8.1,<1.9.0,>=1.7.4->spacy<3.3.0,>=3.2.0->en_core_web_sm) (4.3.0)\n",
      "Requirement already satisfied: idna<3,>=2.5 in /opt/conda/lib/python3.9/site-packages (from requests->download) (2.10)\n",
      "Requirement already satisfied: urllib3<1.27,>=1.21.1 in /opt/conda/lib/python3.9/site-packages (from requests->download) (1.26.6)\n",
      "Requirement already satisfied: chardet<5,>=3.0.2 in /opt/conda/lib/python3.9/site-packages (from requests->download) (4.0.0)\n",
      "Requirement already satisfied: certifi>=2017.4.17 in /opt/conda/lib/python3.9/site-packages (from requests->download) (2022.6.15)\n",
      "Requirement already satisfied: click<9.0.0,>=7.1.1 in /opt/conda/lib/python3.9/site-packages (from typer<0.5.0,>=0.3.0->spacy<3.3.0,>=3.2.0->en_core_web_sm) (8.1.3)\n",
      "Requirement already satisfied: MarkupSafe>=2.0 in /opt/conda/lib/python3.9/site-packages (from jinja2->spacy<3.3.0,>=3.2.0->en_core_web_sm) (2.1.1)\n",
      "Installing collected packages: download\n",
      "Successfully installed download-0.3.5\n"
     ]
    }
   ],
   "source": [
    "!/opt/conda/bin/python -m pip install spacy\n",
    "!/opt/conda/bin/python -m pip install download en_core_web_sm\n",
    "\n",
    "\n",
    "\n",
    "import en_core_web_sm\n",
    "\n",
    "import warnings\n",
    "import spacy\n",
    "import pandas as pd\n",
    "import numpy as np\n",
    "import nltk\n",
    "from nltk.corpus import stopwords as nltk_stopwords\n",
    "import re\n",
    "from tqdm import notebook\n",
    "from sklearn.linear_model import LogisticRegression\n",
    "from sklearn.ensemble import RandomForestClassifier\n",
    "from catboost import CatBoostClassifier\n",
    "from sklearn.model_selection import cross_val_score, train_test_split, GridSearchCV\n",
    "from sklearn.metrics import f1_score\n",
    "from sklearn.feature_extraction.text import TfidfTransformer, CountVectorizer\n",
    "from sklearn.pipeline import Pipeline\n",
    "\n",
    "\n",
    "nlp = spacy.load(\"en_core_web_sm\")\n",
    "warnings.filterwarnings('ignore')"
   ]
  },
  {
   "cell_type": "code",
   "execution_count": 4,
   "metadata": {},
   "outputs": [],
   "source": [
    "data = pd.read_csv('/datasets/toxic_comments.csv', index_col=0)"
   ]
  },
  {
   "cell_type": "code",
   "execution_count": 5,
   "metadata": {},
   "outputs": [
    {
     "name": "stdout",
     "output_type": "stream",
     "text": [
      "<class 'pandas.core.frame.DataFrame'>\n",
      "Int64Index: 159292 entries, 0 to 159450\n",
      "Data columns (total 2 columns):\n",
      " #   Column  Non-Null Count   Dtype \n",
      "---  ------  --------------   ----- \n",
      " 0   text    159292 non-null  object\n",
      " 1   toxic   159292 non-null  int64 \n",
      "dtypes: int64(1), object(1)\n",
      "memory usage: 3.6+ MB\n"
     ]
    }
   ],
   "source": [
    "data.info()"
   ]
  },
  {
   "cell_type": "code",
   "execution_count": 6,
   "metadata": {},
   "outputs": [
    {
     "data": {
      "text/html": [
       "<div>\n",
       "<style scoped>\n",
       "    .dataframe tbody tr th:only-of-type {\n",
       "        vertical-align: middle;\n",
       "    }\n",
       "\n",
       "    .dataframe tbody tr th {\n",
       "        vertical-align: top;\n",
       "    }\n",
       "\n",
       "    .dataframe thead th {\n",
       "        text-align: right;\n",
       "    }\n",
       "</style>\n",
       "<table border=\"1\" class=\"dataframe\">\n",
       "  <thead>\n",
       "    <tr style=\"text-align: right;\">\n",
       "      <th></th>\n",
       "      <th>text</th>\n",
       "      <th>toxic</th>\n",
       "    </tr>\n",
       "  </thead>\n",
       "  <tbody>\n",
       "    <tr>\n",
       "      <th>0</th>\n",
       "      <td>Explanation\\nWhy the edits made under my usern...</td>\n",
       "      <td>0</td>\n",
       "    </tr>\n",
       "    <tr>\n",
       "      <th>1</th>\n",
       "      <td>D'aww! He matches this background colour I'm s...</td>\n",
       "      <td>0</td>\n",
       "    </tr>\n",
       "    <tr>\n",
       "      <th>2</th>\n",
       "      <td>Hey man, I'm really not trying to edit war. It...</td>\n",
       "      <td>0</td>\n",
       "    </tr>\n",
       "    <tr>\n",
       "      <th>3</th>\n",
       "      <td>\"\\nMore\\nI can't make any real suggestions on ...</td>\n",
       "      <td>0</td>\n",
       "    </tr>\n",
       "    <tr>\n",
       "      <th>4</th>\n",
       "      <td>You, sir, are my hero. Any chance you remember...</td>\n",
       "      <td>0</td>\n",
       "    </tr>\n",
       "    <tr>\n",
       "      <th>...</th>\n",
       "      <td>...</td>\n",
       "      <td>...</td>\n",
       "    </tr>\n",
       "    <tr>\n",
       "      <th>159446</th>\n",
       "      <td>\":::::And for the second time of asking, when ...</td>\n",
       "      <td>0</td>\n",
       "    </tr>\n",
       "    <tr>\n",
       "      <th>159447</th>\n",
       "      <td>You should be ashamed of yourself \\n\\nThat is ...</td>\n",
       "      <td>0</td>\n",
       "    </tr>\n",
       "    <tr>\n",
       "      <th>159448</th>\n",
       "      <td>Spitzer \\n\\nUmm, theres no actual article for ...</td>\n",
       "      <td>0</td>\n",
       "    </tr>\n",
       "    <tr>\n",
       "      <th>159449</th>\n",
       "      <td>And it looks like it was actually you who put ...</td>\n",
       "      <td>0</td>\n",
       "    </tr>\n",
       "    <tr>\n",
       "      <th>159450</th>\n",
       "      <td>\"\\nAnd ... I really don't think you understand...</td>\n",
       "      <td>0</td>\n",
       "    </tr>\n",
       "  </tbody>\n",
       "</table>\n",
       "<p>159292 rows × 2 columns</p>\n",
       "</div>"
      ],
      "text/plain": [
       "                                                     text  toxic\n",
       "0       Explanation\\nWhy the edits made under my usern...      0\n",
       "1       D'aww! He matches this background colour I'm s...      0\n",
       "2       Hey man, I'm really not trying to edit war. It...      0\n",
       "3       \"\\nMore\\nI can't make any real suggestions on ...      0\n",
       "4       You, sir, are my hero. Any chance you remember...      0\n",
       "...                                                   ...    ...\n",
       "159446  \":::::And for the second time of asking, when ...      0\n",
       "159447  You should be ashamed of yourself \\n\\nThat is ...      0\n",
       "159448  Spitzer \\n\\nUmm, theres no actual article for ...      0\n",
       "159449  And it looks like it was actually you who put ...      0\n",
       "159450  \"\\nAnd ... I really don't think you understand...      0\n",
       "\n",
       "[159292 rows x 2 columns]"
      ]
     },
     "execution_count": 6,
     "metadata": {},
     "output_type": "execute_result"
    }
   ],
   "source": [
    "data"
   ]
  },
  {
   "cell_type": "code",
   "execution_count": 7,
   "metadata": {},
   "outputs": [],
   "source": [
    "def clear_text(text):\n",
    "    clear_text = re.sub(r'[^a-zA-Z ]', ' ', text) \n",
    "    clear_text =\" \".join(clear_text.split())\n",
    "    return clear_text"
   ]
  },
  {
   "cell_type": "code",
   "execution_count": 8,
   "metadata": {},
   "outputs": [],
   "source": [
    "data['text'] = data['text'].apply(clear_text)"
   ]
  },
  {
   "cell_type": "code",
   "execution_count": 9,
   "metadata": {},
   "outputs": [
    {
     "data": {
      "text/plain": [
       "0         Explanation Why the edits made under my userna...\n",
       "1         D aww He matches this background colour I m se...\n",
       "2         Hey man I m really not trying to edit war It s...\n",
       "3         More I can t make any real suggestions on impr...\n",
       "4         You sir are my hero Any chance you remember wh...\n",
       "                                ...                        \n",
       "159446    And for the second time of asking when your vi...\n",
       "159447    You should be ashamed of yourself That is a ho...\n",
       "159448    Spitzer Umm theres no actual article for prost...\n",
       "159449    And it looks like it was actually you who put ...\n",
       "159450    And I really don t think you understand I came...\n",
       "Name: text, Length: 159292, dtype: object"
      ]
     },
     "execution_count": 9,
     "metadata": {},
     "output_type": "execute_result"
    }
   ],
   "source": [
    "data.text"
   ]
  },
  {
   "cell_type": "code",
   "execution_count": 10,
   "metadata": {},
   "outputs": [],
   "source": [
    "nlp = en_core_web_sm.load()\n",
    "\n",
    "def lemmetaze(text):\n",
    "        doc = nlp(text)\n",
    "        text_data=\" \".join([token.lemma_ for token in doc])\n",
    "        return text_data"
   ]
  },
  {
   "cell_type": "code",
   "execution_count": 11,
   "metadata": {},
   "outputs": [
    {
     "name": "stdout",
     "output_type": "stream",
     "text": [
      "                                                text\n",
      "0  The striped bats are hanging on their feet for...\n",
      "1      you should be ashamed of yourself went worked\n",
      "0    the stripe bat be hang on their foot for good\n",
      "1        you should be ashamed of yourself go work\n",
      "Name: text, dtype: object\n"
     ]
    }
   ],
   "source": [
    "sentence1 = \"The striped bats are hanging on their feet for best\"\n",
    "sentence2 = \"you should be ashamed of yourself went worked\"\n",
    "df_my = pd.DataFrame([sentence1, sentence2], columns = ['text'])\n",
    "\n",
    "print(df_my)\n",
    "\n",
    "\n",
    "print(df_my['text'].apply(lemmetaze))"
   ]
  },
  {
   "cell_type": "code",
   "execution_count": 13,
   "metadata": {},
   "outputs": [],
   "source": [
    "data['text'] = data['text'].apply(lemmetaze)"
   ]
  },
  {
   "cell_type": "code",
   "execution_count": 14,
   "metadata": {},
   "outputs": [
    {
     "data": {
      "text/html": [
       "<div>\n",
       "<style scoped>\n",
       "    .dataframe tbody tr th:only-of-type {\n",
       "        vertical-align: middle;\n",
       "    }\n",
       "\n",
       "    .dataframe tbody tr th {\n",
       "        vertical-align: top;\n",
       "    }\n",
       "\n",
       "    .dataframe thead th {\n",
       "        text-align: right;\n",
       "    }\n",
       "</style>\n",
       "<table border=\"1\" class=\"dataframe\">\n",
       "  <thead>\n",
       "    <tr style=\"text-align: right;\">\n",
       "      <th></th>\n",
       "      <th>text</th>\n",
       "      <th>toxic</th>\n",
       "    </tr>\n",
       "  </thead>\n",
       "  <tbody>\n",
       "    <tr>\n",
       "      <th>0</th>\n",
       "      <td>explanation why the edit make under my usernam...</td>\n",
       "      <td>0</td>\n",
       "    </tr>\n",
       "    <tr>\n",
       "      <th>1</th>\n",
       "      <td>d aww he match this background colour I m seem...</td>\n",
       "      <td>0</td>\n",
       "    </tr>\n",
       "    <tr>\n",
       "      <th>2</th>\n",
       "      <td>hey man I m really not try to edit war it s ju...</td>\n",
       "      <td>0</td>\n",
       "    </tr>\n",
       "    <tr>\n",
       "      <th>3</th>\n",
       "      <td>More I can t make any real suggestion on impro...</td>\n",
       "      <td>0</td>\n",
       "    </tr>\n",
       "    <tr>\n",
       "      <th>4</th>\n",
       "      <td>you sir be my hero any chance you remember wha...</td>\n",
       "      <td>0</td>\n",
       "    </tr>\n",
       "    <tr>\n",
       "      <th>...</th>\n",
       "      <td>...</td>\n",
       "      <td>...</td>\n",
       "    </tr>\n",
       "    <tr>\n",
       "      <th>159446</th>\n",
       "      <td>and for the second time of ask when your view ...</td>\n",
       "      <td>0</td>\n",
       "    </tr>\n",
       "    <tr>\n",
       "      <th>159447</th>\n",
       "      <td>you should be ashamed of yourself that be a ho...</td>\n",
       "      <td>0</td>\n",
       "    </tr>\n",
       "    <tr>\n",
       "      <th>159448</th>\n",
       "      <td>Spitzer Umm there s no actual article for pros...</td>\n",
       "      <td>0</td>\n",
       "    </tr>\n",
       "    <tr>\n",
       "      <th>159449</th>\n",
       "      <td>and it look like it be actually you who put on...</td>\n",
       "      <td>0</td>\n",
       "    </tr>\n",
       "    <tr>\n",
       "      <th>159450</th>\n",
       "      <td>and I really don t think you understand I come...</td>\n",
       "      <td>0</td>\n",
       "    </tr>\n",
       "  </tbody>\n",
       "</table>\n",
       "<p>159292 rows × 2 columns</p>\n",
       "</div>"
      ],
      "text/plain": [
       "                                                     text  toxic\n",
       "0       explanation why the edit make under my usernam...      0\n",
       "1       d aww he match this background colour I m seem...      0\n",
       "2       hey man I m really not try to edit war it s ju...      0\n",
       "3       More I can t make any real suggestion on impro...      0\n",
       "4       you sir be my hero any chance you remember wha...      0\n",
       "...                                                   ...    ...\n",
       "159446  and for the second time of ask when your view ...      0\n",
       "159447  you should be ashamed of yourself that be a ho...      0\n",
       "159448  Spitzer Umm there s no actual article for pros...      0\n",
       "159449  and it look like it be actually you who put on...      0\n",
       "159450  and I really don t think you understand I come...      0\n",
       "\n",
       "[159292 rows x 2 columns]"
      ]
     },
     "execution_count": 14,
     "metadata": {},
     "output_type": "execute_result"
    }
   ],
   "source": [
    "data"
   ]
  },
  {
   "cell_type": "code",
   "execution_count": 15,
   "metadata": {},
   "outputs": [],
   "source": [
    "features = data['text']\n",
    "target = data['toxic']"
   ]
  },
  {
   "cell_type": "markdown",
   "metadata": {},
   "source": [
    "## Обучение"
   ]
  },
  {
   "cell_type": "code",
   "execution_count": 16,
   "metadata": {},
   "outputs": [],
   "source": [
    "features_train, features_test, target_train, target_test = train_test_split(features, target, \n",
    "                                                                            random_state=42,\n",
    "                                                                            test_size=0.25,\n",
    "                                                                            stratify=target)"
   ]
  },
  {
   "cell_type": "code",
   "execution_count": 17,
   "metadata": {},
   "outputs": [
    {
     "name": "stderr",
     "output_type": "stream",
     "text": [
      "[nltk_data] Downloading package stopwords to /home/jovyan/nltk_data...\n",
      "[nltk_data]   Package stopwords is already up-to-date!\n"
     ]
    }
   ],
   "source": [
    "nltk.download('stopwords')\n",
    "\n",
    "stopwords = set(nltk_stopwords.words('english'))\n",
    "\n",
    "#count_tf_idf = TfidfVectorizer(stop_words=stopwords)                             \n",
    "#tf_idf_train = count_tf_idf.fit_transform(features_train)\n",
    "#tf_idf_test = count_tf_idf.transform(features_test)"
   ]
  },
  {
   "cell_type": "markdown",
   "metadata": {},
   "source": [
    "<div class=\"alert alert-info\"> <b>Комментарий студента:</b> закомментила тут, потому что делаем потом тоже самое в pipeline"
   ]
  },
  {
   "cell_type": "markdown",
   "metadata": {},
   "source": [
    "### Logistic Regression"
   ]
  },
  {
   "cell_type": "code",
   "execution_count": 19,
   "metadata": {},
   "outputs": [
    {
     "name": "stdout",
     "output_type": "stream",
     "text": [
      "Лучшие параметры: {'model__C': 10, 'model__penalty': 'l2'}\n",
      "F1: 0.7753037963091165\n"
     ]
    }
   ],
   "source": [
    "params={'model__C':[5,10],\n",
    "        'model__penalty':['l1','l2']}\n",
    "pipeline = Pipeline([\n",
    "    ('vect', CountVectorizer(stop_words=stopwords,ngram_range=(1,1))),\n",
    "    ('tfidf', TfidfTransformer()),\n",
    "    ('model',LogisticRegression(random_state=42))])\n",
    "grid = GridSearchCV(pipeline, cv=5, n_jobs=-1, param_grid=params ,scoring='f1')\n",
    "grid.fit(features_train, target_train)\n",
    "\n",
    "print(\"Лучшие параметры:\",grid.best_params_)\n",
    "print(\"F1:\",grid.best_score_)"
   ]
  },
  {
   "cell_type": "markdown",
   "metadata": {},
   "source": [
    "### Random Forest"
   ]
  },
  {
   "cell_type": "code",
   "execution_count": 30,
   "metadata": {},
   "outputs": [],
   "source": [
    "params_rf={'classifier__n_estimators': [20, 30, 50],\n",
    "            'classifier__max_depth': [2, 4],\n",
    "            'classifier__min_samples_leaf': [2, 4]}"
   ]
  },
  {
   "cell_type": "code",
   "execution_count": 31,
   "metadata": {},
   "outputs": [],
   "source": [
    "pipeline_rf = Pipeline([\n",
    "    ('vect', CountVectorizer(stop_words=stopwords,ngram_range=(1,1))),\n",
    "    ('tfidf', TfidfTransformer()),\n",
    "    ('classifier', RandomForestClassifier(random_state = 42))])"
   ]
  },
  {
   "cell_type": "code",
   "execution_count": 32,
   "metadata": {
    "scrolled": false
   },
   "outputs": [
    {
     "data": {
      "text/plain": [
       "GridSearchCV(cv=5,\n",
       "             estimator=Pipeline(steps=[('vect',\n",
       "                                        CountVectorizer(stop_words={'a',\n",
       "                                                                    'about',\n",
       "                                                                    'above',\n",
       "                                                                    'after',\n",
       "                                                                    'again',\n",
       "                                                                    'against',\n",
       "                                                                    'ain',\n",
       "                                                                    'all', 'am',\n",
       "                                                                    'an', 'and',\n",
       "                                                                    'any',\n",
       "                                                                    'are',\n",
       "                                                                    'aren',\n",
       "                                                                    \"aren't\",\n",
       "                                                                    'as', 'at',\n",
       "                                                                    'be',\n",
       "                                                                    'because',\n",
       "                                                                    'been',\n",
       "                                                                    'before',\n",
       "                                                                    'being',\n",
       "                                                                    'below',\n",
       "                                                                    'between',\n",
       "                                                                    'both',\n",
       "                                                                    'but', 'by',\n",
       "                                                                    'can',\n",
       "                                                                    'couldn',\n",
       "                                                                    \"couldn't\", ...})),\n",
       "                                       ('tfidf', TfidfTransformer()),\n",
       "                                       ('classifier',\n",
       "                                        RandomForestClassifier(random_state=42))]),\n",
       "             param_grid={'classifier__max_depth': [2, 4],\n",
       "                         'classifier__min_samples_leaf': [2, 4],\n",
       "                         'classifier__n_estimators': [20, 30, 50]},\n",
       "             scoring='f1')"
      ]
     },
     "execution_count": 32,
     "metadata": {},
     "output_type": "execute_result"
    }
   ],
   "source": [
    "grid_rf = GridSearchCV(pipeline_rf, cv=5, param_grid=params_rf ,scoring='f1')\n",
    "grid_rf.fit(features_train, target_train)"
   ]
  },
  {
   "cell_type": "code",
   "execution_count": 33,
   "metadata": {},
   "outputs": [
    {
     "name": "stdout",
     "output_type": "stream",
     "text": [
      "Лучшие параметры: {'classifier__max_depth': 2, 'classifier__min_samples_leaf': 2, 'classifier__n_estimators': 20}\n",
      "F1: 0.0\n"
     ]
    }
   ],
   "source": [
    "print(\"Лучшие параметры:\",grid_rf.best_params_)\n",
    "print(\"F1:\",grid_rf.best_score_)"
   ]
  },
  {
   "cell_type": "markdown",
   "metadata": {},
   "source": [
    "## Выводы"
   ]
  },
  {
   "cell_type": "code",
   "execution_count": 36,
   "metadata": {},
   "outputs": [
    {
     "data": {
      "text/plain": [
       "Pipeline(steps=[('vect',\n",
       "                 CountVectorizer(stop_words={'a', 'about', 'above', 'after',\n",
       "                                             'again', 'against', 'ain', 'all',\n",
       "                                             'am', 'an', 'and', 'any', 'are',\n",
       "                                             'aren', \"aren't\", 'as', 'at', 'be',\n",
       "                                             'because', 'been', 'before',\n",
       "                                             'being', 'below', 'between',\n",
       "                                             'both', 'but', 'by', 'can',\n",
       "                                             'couldn', \"couldn't\", ...})),\n",
       "                ('tfidf', TfidfTransformer()),\n",
       "                ('model', LogisticRegression(C=10, random_state=42))])"
      ]
     },
     "execution_count": 36,
     "metadata": {},
     "output_type": "execute_result"
    }
   ],
   "source": [
    "grid.best_estimator_"
   ]
  },
  {
   "cell_type": "code",
   "execution_count": 37,
   "metadata": {},
   "outputs": [
    {
     "data": {
      "text/plain": [
       "0.7774242633835938"
      ]
     },
     "execution_count": 37,
     "metadata": {},
     "output_type": "execute_result"
    }
   ],
   "source": [
    "pred = grid.predict(features_test)\n",
    "f1_score(pred, target_test)"
   ]
  },
  {
   "cell_type": "markdown",
   "metadata": {},
   "source": [
    "<b>Вывод</b>\n",
    "\n",
    "В ходе проекта:\n",
    "<br>Мы изучиили данные. Очистили текст от лишних символов, лемматизировали текст, убрали стоп слова.\n",
    "Обучили две модели - логистическую регрессию и рандомный лес. На валидационной выборке мы выбрали логистическую регрессию - она показала результат - F1 0.77. Потом модель проверили на тестовой выборке, результат - 0.78."
   ]
  }
 ],
 "metadata": {
  "ExecuteTimeLog": [
   {
    "duration": 401,
    "start_time": "2023-06-06T16:23:50.086Z"
   },
   {
    "duration": 158,
    "start_time": "2023-06-06T16:23:50.573Z"
   },
   {
    "duration": 2466,
    "start_time": "2023-06-06T16:24:06.207Z"
   },
   {
    "duration": 33,
    "start_time": "2023-06-06T16:24:13.417Z"
   },
   {
    "duration": 19,
    "start_time": "2023-06-06T17:46:38.590Z"
   },
   {
    "duration": 431,
    "start_time": "2023-06-06T17:46:59.731Z"
   },
   {
    "duration": 2440,
    "start_time": "2023-06-06T17:47:00.164Z"
   },
   {
    "duration": 38,
    "start_time": "2023-06-06T17:47:02.606Z"
   },
   {
    "duration": 22,
    "start_time": "2023-06-06T17:47:02.647Z"
   },
   {
    "duration": 387,
    "start_time": "2023-06-06T17:48:25.087Z"
   },
   {
    "duration": 2385,
    "start_time": "2023-06-06T17:48:25.476Z"
   },
   {
    "duration": 32,
    "start_time": "2023-06-06T17:48:27.863Z"
   },
   {
    "duration": 18,
    "start_time": "2023-06-06T17:48:27.897Z"
   },
   {
    "duration": 73,
    "start_time": "2023-06-06T17:49:27.354Z"
   },
   {
    "duration": 11,
    "start_time": "2023-06-06T17:50:16.560Z"
   },
   {
    "duration": 720,
    "start_time": "2023-06-06T17:50:53.004Z"
   },
   {
    "duration": 13,
    "start_time": "2023-06-06T17:52:18.395Z"
   },
   {
    "duration": 911,
    "start_time": "2023-06-06T17:52:29.095Z"
   },
   {
    "duration": 196,
    "start_time": "2023-06-06T17:52:48.355Z"
   },
   {
    "duration": 1717,
    "start_time": "2023-06-06T17:58:38.259Z"
   },
   {
    "duration": 751,
    "start_time": "2023-06-06T17:59:21.433Z"
   },
   {
    "duration": 37,
    "start_time": "2023-06-06T17:59:36.993Z"
   },
   {
    "duration": 3006,
    "start_time": "2023-06-06T17:59:50.153Z"
   },
   {
    "duration": 4,
    "start_time": "2023-06-06T18:00:07.167Z"
   },
   {
    "duration": 856,
    "start_time": "2023-06-06T18:00:10.457Z"
   },
   {
    "duration": 17611,
    "start_time": "2023-06-06T18:00:23.805Z"
   },
   {
    "duration": 164,
    "start_time": "2023-06-06T18:00:41.418Z"
   },
   {
    "duration": 231,
    "start_time": "2023-06-06T18:02:13.892Z"
   },
   {
    "duration": 823,
    "start_time": "2023-06-06T18:02:21.459Z"
   },
   {
    "duration": 53,
    "start_time": "2023-06-06T18:02:47.661Z"
   },
   {
    "duration": 4,
    "start_time": "2023-06-06T18:03:08.897Z"
   },
   {
    "duration": 20,
    "start_time": "2023-06-06T18:03:31.319Z"
   },
   {
    "duration": 3,
    "start_time": "2023-06-06T18:03:51.495Z"
   },
   {
    "duration": 13,
    "start_time": "2023-06-06T18:03:53.193Z"
   },
   {
    "duration": 184,
    "start_time": "2023-06-06T18:04:26.178Z"
   },
   {
    "duration": 10,
    "start_time": "2023-06-06T18:08:54.176Z"
   },
   {
    "duration": 9,
    "start_time": "2023-06-06T18:09:01.943Z"
   },
   {
    "duration": 6,
    "start_time": "2023-06-06T18:09:08.035Z"
   },
   {
    "duration": 756,
    "start_time": "2023-06-06T18:09:40.575Z"
   },
   {
    "duration": 45,
    "start_time": "2023-06-06T18:10:21.660Z"
   },
   {
    "duration": 35,
    "start_time": "2023-06-06T18:11:11.200Z"
   },
   {
    "duration": 13,
    "start_time": "2023-06-06T18:13:59.874Z"
   },
   {
    "duration": 21,
    "start_time": "2023-06-06T18:14:09.726Z"
   },
   {
    "duration": 21,
    "start_time": "2023-06-06T18:14:19.378Z"
   },
   {
    "duration": 4,
    "start_time": "2023-06-06T18:14:41.995Z"
   },
   {
    "duration": 17,
    "start_time": "2023-06-06T18:15:04.152Z"
   },
   {
    "duration": 3,
    "start_time": "2023-06-06T18:15:32.307Z"
   },
   {
    "duration": 6,
    "start_time": "2023-06-06T18:18:46.537Z"
   },
   {
    "duration": 29,
    "start_time": "2023-06-06T18:20:42.105Z"
   },
   {
    "duration": 2,
    "start_time": "2023-06-06T18:21:39.108Z"
   },
   {
    "duration": 21,
    "start_time": "2023-06-06T18:22:08.108Z"
   },
   {
    "duration": 47,
    "start_time": "2023-06-06T18:22:46.287Z"
   },
   {
    "duration": 20,
    "start_time": "2023-06-06T18:22:52.045Z"
   },
   {
    "duration": 37,
    "start_time": "2023-06-06T18:25:43.127Z"
   },
   {
    "duration": 33,
    "start_time": "2023-06-06T18:25:57.857Z"
   },
   {
    "duration": 32,
    "start_time": "2023-06-06T18:26:05.218Z"
   },
   {
    "duration": 38,
    "start_time": "2023-06-06T18:26:29.830Z"
   },
   {
    "duration": 20,
    "start_time": "2023-06-06T18:26:38.095Z"
   },
   {
    "duration": 19,
    "start_time": "2023-06-06T18:26:49.825Z"
   },
   {
    "duration": 6,
    "start_time": "2023-06-06T18:26:54.250Z"
   },
   {
    "duration": 7,
    "start_time": "2023-06-06T18:27:17.499Z"
   },
   {
    "duration": 11,
    "start_time": "2023-06-06T18:28:02.527Z"
   },
   {
    "duration": 8,
    "start_time": "2023-06-06T18:28:03.504Z"
   },
   {
    "duration": 21,
    "start_time": "2023-06-06T18:29:42.026Z"
   },
   {
    "duration": 7,
    "start_time": "2023-06-06T18:29:42.661Z"
   },
   {
    "duration": 30,
    "start_time": "2023-06-06T18:29:54.320Z"
   },
   {
    "duration": 7,
    "start_time": "2023-06-06T18:29:54.577Z"
   },
   {
    "duration": 19,
    "start_time": "2023-06-06T18:30:03.380Z"
   },
   {
    "duration": 8,
    "start_time": "2023-06-06T18:30:14.904Z"
   },
   {
    "duration": 7,
    "start_time": "2023-06-06T18:30:16.052Z"
   },
   {
    "duration": 9,
    "start_time": "2023-06-06T18:30:19.636Z"
   },
   {
    "duration": 6,
    "start_time": "2023-06-06T18:30:19.882Z"
   },
   {
    "duration": 6,
    "start_time": "2023-06-06T18:30:27.395Z"
   },
   {
    "duration": 29,
    "start_time": "2023-06-06T18:30:27.676Z"
   },
   {
    "duration": 22,
    "start_time": "2023-06-06T18:30:28.009Z"
   },
   {
    "duration": 6,
    "start_time": "2023-06-06T18:30:28.275Z"
   },
   {
    "duration": 11,
    "start_time": "2023-06-06T18:30:28.480Z"
   },
   {
    "duration": 7,
    "start_time": "2023-06-06T18:30:28.754Z"
   },
   {
    "duration": 3220,
    "start_time": "2023-06-07T08:06:40.329Z"
   },
   {
    "duration": 5043,
    "start_time": "2023-06-07T08:06:43.552Z"
   },
   {
    "duration": 45,
    "start_time": "2023-06-07T08:06:48.602Z"
   },
   {
    "duration": 145,
    "start_time": "2023-06-07T08:06:48.650Z"
   },
   {
    "duration": 2841,
    "start_time": "2023-06-07T08:06:48.798Z"
   },
   {
    "duration": 6,
    "start_time": "2023-06-07T08:06:51.641Z"
   },
   {
    "duration": 871,
    "start_time": "2023-06-07T08:06:51.661Z"
   },
   {
    "duration": 30,
    "start_time": "2023-06-07T08:06:52.535Z"
   },
   {
    "duration": 20,
    "start_time": "2023-06-07T08:06:52.567Z"
   },
   {
    "duration": 97,
    "start_time": "2023-06-07T08:06:52.593Z"
   },
   {
    "duration": 10345,
    "start_time": "2023-06-07T08:06:52.692Z"
   },
   {
    "duration": 41260,
    "start_time": "2023-06-07T08:07:03.039Z"
   },
   {
    "duration": 87,
    "start_time": "2023-06-07T08:07:44.301Z"
   },
   {
    "duration": 216113,
    "start_time": "2023-06-07T08:07:44.391Z"
   },
   {
    "duration": 0,
    "start_time": "2023-06-07T08:11:20.507Z"
   },
   {
    "duration": 4,
    "start_time": "2023-06-07T08:12:03.551Z"
   },
   {
    "duration": 6,
    "start_time": "2023-06-07T08:12:21.004Z"
   },
   {
    "duration": 130436,
    "start_time": "2023-06-07T08:12:39.493Z"
   },
   {
    "duration": 14,
    "start_time": "2023-06-07T08:14:49.931Z"
   },
   {
    "duration": 181026,
    "start_time": "2023-06-07T08:15:31.775Z"
   },
   {
    "duration": 14,
    "start_time": "2023-06-07T08:18:32.803Z"
   },
   {
    "duration": 4,
    "start_time": "2023-06-07T08:18:34.544Z"
   },
   {
    "duration": 3813,
    "start_time": "2023-06-07T08:24:31.203Z"
   },
   {
    "duration": 1507,
    "start_time": "2023-06-07T08:24:35.019Z"
   },
   {
    "duration": 54,
    "start_time": "2023-06-07T08:24:36.528Z"
   },
   {
    "duration": 26,
    "start_time": "2023-06-07T08:24:36.584Z"
   },
   {
    "duration": 3093,
    "start_time": "2023-06-07T08:24:36.616Z"
   },
   {
    "duration": 6,
    "start_time": "2023-06-07T08:24:39.715Z"
   },
   {
    "duration": 1069,
    "start_time": "2023-06-07T08:24:39.723Z"
   },
   {
    "duration": 18,
    "start_time": "2023-06-07T08:24:40.795Z"
   },
   {
    "duration": 27,
    "start_time": "2023-06-07T08:24:40.815Z"
   },
   {
    "duration": 123,
    "start_time": "2023-06-07T08:24:40.845Z"
   },
   {
    "duration": 10648,
    "start_time": "2023-06-07T08:24:40.971Z"
   },
   {
    "duration": 4,
    "start_time": "2023-06-07T08:24:51.622Z"
   },
   {
    "duration": 5105,
    "start_time": "2023-06-07T08:38:37.016Z"
   },
   {
    "duration": 2732,
    "start_time": "2023-06-07T08:38:42.123Z"
   },
   {
    "duration": 45,
    "start_time": "2023-06-07T08:38:44.864Z"
   },
   {
    "duration": 19,
    "start_time": "2023-06-07T08:38:44.911Z"
   },
   {
    "duration": 2349,
    "start_time": "2023-06-07T08:38:44.933Z"
   },
   {
    "duration": 13,
    "start_time": "2023-06-07T08:38:47.284Z"
   },
   {
    "duration": 1215,
    "start_time": "2023-06-07T08:38:47.299Z"
   },
   {
    "duration": 16,
    "start_time": "2023-06-07T08:38:48.516Z"
   },
   {
    "duration": 12,
    "start_time": "2023-06-07T08:38:48.533Z"
   },
   {
    "duration": 91,
    "start_time": "2023-06-07T08:38:48.547Z"
   },
   {
    "duration": 8849,
    "start_time": "2023-06-07T08:38:48.640Z"
   },
   {
    "duration": 3,
    "start_time": "2023-06-07T08:38:57.493Z"
   },
   {
    "duration": 26070,
    "start_time": "2023-06-07T08:38:57.498Z"
   },
   {
    "duration": 9,
    "start_time": "2023-06-07T08:39:23.571Z"
   },
   {
    "duration": 206,
    "start_time": "2023-06-07T08:39:23.584Z"
   },
   {
    "duration": 8887,
    "start_time": "2023-06-07T08:42:59.539Z"
   },
   {
    "duration": 4979,
    "start_time": "2023-06-07T08:43:30.227Z"
   },
   {
    "duration": 7,
    "start_time": "2023-06-07T08:44:05.792Z"
   },
   {
    "duration": 12,
    "start_time": "2023-06-07T08:45:08.036Z"
   },
   {
    "duration": 11,
    "start_time": "2023-06-07T08:45:22.518Z"
   },
   {
    "duration": 42,
    "start_time": "2023-06-07T08:45:41.948Z"
   },
   {
    "duration": 6,
    "start_time": "2023-06-07T08:45:45.225Z"
   },
   {
    "duration": 9,
    "start_time": "2023-06-07T08:45:46.499Z"
   },
   {
    "duration": 21,
    "start_time": "2023-06-07T08:47:13.016Z"
   },
   {
    "duration": 9198,
    "start_time": "2023-06-07T08:47:38.308Z"
   },
   {
    "duration": 9184,
    "start_time": "2023-06-07T08:47:59.914Z"
   },
   {
    "duration": 5,
    "start_time": "2023-06-07T08:49:42.073Z"
   },
   {
    "duration": 9,
    "start_time": "2023-06-07T08:49:42.631Z"
   },
   {
    "duration": 245,
    "start_time": "2023-06-07T08:51:51.148Z"
   },
   {
    "duration": 25767,
    "start_time": "2023-06-07T08:51:51.702Z"
   },
   {
    "duration": 676,
    "start_time": "2023-06-07T08:52:17.470Z"
   },
   {
    "duration": 507,
    "start_time": "2023-06-07T08:53:20.574Z"
   },
   {
    "duration": 3,
    "start_time": "2023-06-07T08:53:28.027Z"
   },
   {
    "duration": 163488,
    "start_time": "2023-06-07T08:53:29.510Z"
   },
   {
    "duration": 4,
    "start_time": "2023-06-07T08:56:39.306Z"
   },
   {
    "duration": 82137,
    "start_time": "2023-06-07T08:56:40.219Z"
   },
   {
    "duration": 4,
    "start_time": "2023-06-07T08:58:21.088Z"
   },
   {
    "duration": 206,
    "start_time": "2023-06-07T08:58:21.953Z"
   },
   {
    "duration": 371784,
    "start_time": "2023-06-07T08:58:34.173Z"
   },
   {
    "duration": 4,
    "start_time": "2023-06-07T09:04:45.962Z"
   },
   {
    "duration": 9630,
    "start_time": "2023-06-07T09:04:45.968Z"
   },
   {
    "duration": 6,
    "start_time": "2023-06-07T09:04:55.600Z"
   },
   {
    "duration": 19,
    "start_time": "2023-06-07T09:04:55.607Z"
   },
   {
    "duration": 117,
    "start_time": "2023-06-07T09:12:08.896Z"
   },
   {
    "duration": 15,
    "start_time": "2023-06-07T09:12:13.688Z"
   },
   {
    "duration": 35,
    "start_time": "2023-06-07T09:12:44.540Z"
   },
   {
    "duration": 3,
    "start_time": "2023-06-07T09:12:50.720Z"
   },
   {
    "duration": 193271,
    "start_time": "2023-06-07T09:12:51.946Z"
   },
   {
    "duration": 8,
    "start_time": "2023-06-07T09:16:05.219Z"
   },
   {
    "duration": 18,
    "start_time": "2023-06-07T09:17:55.970Z"
   },
   {
    "duration": 14,
    "start_time": "2023-06-07T09:18:06.178Z"
   },
   {
    "duration": 1076,
    "start_time": "2023-06-07T09:18:32.051Z"
   },
   {
    "duration": 4,
    "start_time": "2023-06-07T09:19:47.187Z"
   },
   {
    "duration": 1521783,
    "start_time": "2023-06-07T09:19:47.392Z"
   },
   {
    "duration": 19,
    "start_time": "2023-06-07T09:45:09.178Z"
   },
   {
    "duration": 0,
    "start_time": "2023-06-07T09:45:09.199Z"
   },
   {
    "duration": 4,
    "start_time": "2023-06-07T09:45:31.665Z"
   },
   {
    "duration": 1143732,
    "start_time": "2023-06-07T09:45:32.370Z"
   },
   {
    "duration": 15,
    "start_time": "2023-06-07T10:04:36.104Z"
   },
   {
    "duration": 0,
    "start_time": "2023-06-07T10:04:36.122Z"
   },
   {
    "duration": 0,
    "start_time": "2023-06-07T10:04:36.122Z"
   },
   {
    "duration": 14,
    "start_time": "2023-06-07T10:04:57.155Z"
   },
   {
    "duration": 7,
    "start_time": "2023-06-07T10:05:01.700Z"
   },
   {
    "duration": 2738,
    "start_time": "2023-06-07T10:07:28.487Z"
   },
   {
    "duration": 908,
    "start_time": "2023-06-07T10:07:31.229Z"
   },
   {
    "duration": 43,
    "start_time": "2023-06-07T10:07:32.139Z"
   },
   {
    "duration": 27,
    "start_time": "2023-06-07T10:07:32.183Z"
   },
   {
    "duration": 2122,
    "start_time": "2023-06-07T10:07:32.213Z"
   },
   {
    "duration": 6,
    "start_time": "2023-06-07T10:07:34.337Z"
   },
   {
    "duration": 856,
    "start_time": "2023-06-07T10:07:34.357Z"
   },
   {
    "duration": 21,
    "start_time": "2023-06-07T10:07:35.217Z"
   },
   {
    "duration": 24,
    "start_time": "2023-06-07T10:07:35.241Z"
   },
   {
    "duration": 62,
    "start_time": "2023-06-07T10:07:35.268Z"
   },
   {
    "duration": 8085,
    "start_time": "2023-06-07T10:07:35.332Z"
   },
   {
    "duration": 4,
    "start_time": "2023-06-07T10:07:43.419Z"
   },
   {
    "duration": 26922,
    "start_time": "2023-06-07T10:07:43.425Z"
   },
   {
    "duration": 5,
    "start_time": "2023-06-07T10:08:10.358Z"
   },
   {
    "duration": 10031,
    "start_time": "2023-06-07T10:08:10.365Z"
   },
   {
    "duration": 3,
    "start_time": "2023-06-07T10:08:20.399Z"
   },
   {
    "duration": 186917,
    "start_time": "2023-06-07T10:08:20.405Z"
   },
   {
    "duration": 4,
    "start_time": "2023-06-07T10:11:27.325Z"
   },
   {
    "duration": 1096,
    "start_time": "2023-06-07T10:11:27.330Z"
   },
   {
    "duration": 42203,
    "start_time": "2023-06-07T10:11:28.428Z"
   },
   {
    "duration": 0,
    "start_time": "2023-06-07T10:12:10.633Z"
   },
   {
    "duration": 0,
    "start_time": "2023-06-07T10:12:10.636Z"
   },
   {
    "duration": 0,
    "start_time": "2023-06-07T10:12:10.638Z"
   },
   {
    "duration": 0,
    "start_time": "2023-06-07T10:12:10.639Z"
   },
   {
    "duration": 16,
    "start_time": "2023-06-07T10:12:20.184Z"
   },
   {
    "duration": 1435,
    "start_time": "2023-06-07T10:12:40.035Z"
   },
   {
    "duration": 11,
    "start_time": "2023-06-07T10:12:50.330Z"
   },
   {
    "duration": 309000,
    "start_time": "2023-06-07T10:13:04.341Z"
   },
   {
    "duration": 1002,
    "start_time": "2023-06-07T10:18:13.343Z"
   },
   {
    "duration": 1411,
    "start_time": "2023-06-07T10:18:14.347Z"
   },
   {
    "duration": 17,
    "start_time": "2023-06-07T10:18:15.761Z"
   },
   {
    "duration": 2484,
    "start_time": "2023-06-07T10:19:04.889Z"
   },
   {
    "duration": 833,
    "start_time": "2023-06-07T10:19:07.375Z"
   },
   {
    "duration": 58,
    "start_time": "2023-06-07T10:19:08.211Z"
   },
   {
    "duration": 17,
    "start_time": "2023-06-07T10:19:08.271Z"
   },
   {
    "duration": 2106,
    "start_time": "2023-06-07T10:19:08.290Z"
   },
   {
    "duration": 5,
    "start_time": "2023-06-07T10:19:10.398Z"
   },
   {
    "duration": 785,
    "start_time": "2023-06-07T10:19:10.405Z"
   },
   {
    "duration": 16,
    "start_time": "2023-06-07T10:19:11.193Z"
   },
   {
    "duration": 4,
    "start_time": "2023-06-07T10:19:11.211Z"
   },
   {
    "duration": 83,
    "start_time": "2023-06-07T10:19:11.217Z"
   },
   {
    "duration": 7422,
    "start_time": "2023-06-07T10:19:11.303Z"
   },
   {
    "duration": 5,
    "start_time": "2023-06-07T10:19:18.727Z"
   },
   {
    "duration": 26704,
    "start_time": "2023-06-07T10:19:18.734Z"
   },
   {
    "duration": 5,
    "start_time": "2023-06-07T10:19:45.440Z"
   },
   {
    "duration": 1426,
    "start_time": "2023-06-07T10:19:45.457Z"
   },
   {
    "duration": 5,
    "start_time": "2023-06-07T10:19:46.885Z"
   },
   {
    "duration": 187491,
    "start_time": "2023-06-07T10:19:46.893Z"
   },
   {
    "duration": 4,
    "start_time": "2023-06-07T10:22:54.387Z"
   },
   {
    "duration": 1179,
    "start_time": "2023-06-07T10:22:54.394Z"
   },
   {
    "duration": 11,
    "start_time": "2023-06-07T10:22:55.575Z"
   },
   {
    "duration": 161,
    "start_time": "2023-06-07T10:22:55.588Z"
   },
   {
    "duration": 5,
    "start_time": "2023-06-07T10:22:55.752Z"
   },
   {
    "duration": 8,
    "start_time": "2023-06-07T10:23:46.904Z"
   },
   {
    "duration": 24,
    "start_time": "2023-06-07T10:25:42.865Z"
   },
   {
    "duration": 7135,
    "start_time": "2023-06-07T10:25:44.425Z"
   },
   {
    "duration": 3,
    "start_time": "2023-06-07T10:25:51.572Z"
   },
   {
    "duration": 102724,
    "start_time": "2023-06-07T10:25:58.904Z"
   },
   {
    "duration": 5,
    "start_time": "2023-06-07T10:27:41.629Z"
   },
   {
    "duration": 5,
    "start_time": "2023-06-07T10:27:53.201Z"
   },
   {
    "duration": 1802,
    "start_time": "2023-06-07T10:28:01.959Z"
   },
   {
    "duration": 4,
    "start_time": "2023-06-07T10:28:07.972Z"
   },
   {
    "duration": 508694,
    "start_time": "2023-06-07T10:28:11.405Z"
   },
   {
    "duration": 3,
    "start_time": "2023-06-07T10:36:40.102Z"
   },
   {
    "duration": 1091,
    "start_time": "2023-06-07T10:36:40.107Z"
   },
   {
    "duration": 6,
    "start_time": "2023-06-07T10:36:41.201Z"
   },
   {
    "duration": 9,
    "start_time": "2023-06-07T10:36:41.208Z"
   },
   {
    "duration": 26,
    "start_time": "2023-06-07T10:50:05.483Z"
   },
   {
    "duration": 2772,
    "start_time": "2023-06-07T11:28:21.499Z"
   },
   {
    "duration": 873,
    "start_time": "2023-06-07T11:28:24.274Z"
   },
   {
    "duration": 47,
    "start_time": "2023-06-07T11:28:25.149Z"
   },
   {
    "duration": 29,
    "start_time": "2023-06-07T11:28:25.198Z"
   },
   {
    "duration": 2425,
    "start_time": "2023-06-07T11:28:25.717Z"
   },
   {
    "duration": 6,
    "start_time": "2023-06-07T11:28:28.144Z"
   },
   {
    "duration": 903,
    "start_time": "2023-06-07T11:28:28.164Z"
   },
   {
    "duration": 25,
    "start_time": "2023-06-07T11:28:29.069Z"
   },
   {
    "duration": 3,
    "start_time": "2023-06-07T11:28:29.587Z"
   },
   {
    "duration": 50,
    "start_time": "2023-06-07T11:28:31.613Z"
   },
   {
    "duration": 9163,
    "start_time": "2023-06-07T11:28:32.074Z"
   },
   {
    "duration": 51,
    "start_time": "2023-06-07T11:28:41.240Z"
   },
   {
    "duration": 61,
    "start_time": "2023-06-07T11:28:41.293Z"
   },
   {
    "duration": 0,
    "start_time": "2023-06-07T11:28:41.356Z"
   },
   {
    "duration": 0,
    "start_time": "2023-06-07T11:28:41.357Z"
   },
   {
    "duration": 2196667,
    "start_time": "2023-06-07T11:28:55.419Z"
   },
   {
    "duration": 33,
    "start_time": "2023-06-07T12:05:32.089Z"
   },
   {
    "duration": 0,
    "start_time": "2023-06-07T12:05:32.125Z"
   },
   {
    "duration": 6,
    "start_time": "2023-06-07T12:07:07.281Z"
   },
   {
    "duration": 1821568,
    "start_time": "2023-06-07T12:07:08.182Z"
   },
   {
    "duration": 48,
    "start_time": "2023-06-07T12:37:29.753Z"
   },
   {
    "duration": 0,
    "start_time": "2023-06-07T12:37:29.803Z"
   },
   {
    "duration": 5,
    "start_time": "2023-06-07T12:37:42.044Z"
   },
   {
    "duration": 1726265,
    "start_time": "2023-06-07T12:37:42.408Z"
   },
   {
    "duration": 4,
    "start_time": "2023-06-07T13:06:28.676Z"
   },
   {
    "duration": 24,
    "start_time": "2023-06-07T13:06:28.681Z"
   },
   {
    "duration": 112407,
    "start_time": "2023-06-07T13:07:06.546Z"
   },
   {
    "duration": 5,
    "start_time": "2023-06-07T13:11:53.524Z"
   },
   {
    "duration": 6,
    "start_time": "2023-06-07T13:12:16.635Z"
   },
   {
    "duration": 4,
    "start_time": "2023-06-07T13:12:26.720Z"
   },
   {
    "duration": 5,
    "start_time": "2023-06-07T13:12:29.746Z"
   },
   {
    "duration": 3577,
    "start_time": "2023-06-07T13:15:04.828Z"
   },
   {
    "duration": 1244,
    "start_time": "2023-06-07T13:15:08.411Z"
   },
   {
    "duration": 70,
    "start_time": "2023-06-07T13:15:09.658Z"
   },
   {
    "duration": 56,
    "start_time": "2023-06-07T13:15:09.732Z"
   },
   {
    "duration": 3388,
    "start_time": "2023-06-07T13:15:09.795Z"
   },
   {
    "duration": 15,
    "start_time": "2023-06-07T13:15:13.190Z"
   },
   {
    "duration": 1020,
    "start_time": "2023-06-07T13:15:13.208Z"
   },
   {
    "duration": 16,
    "start_time": "2023-06-07T13:15:14.231Z"
   },
   {
    "duration": 24,
    "start_time": "2023-06-07T13:15:14.250Z"
   },
   {
    "duration": 122,
    "start_time": "2023-06-07T13:15:14.276Z"
   },
   {
    "duration": 9733,
    "start_time": "2023-06-07T13:15:14.400Z"
   },
   {
    "duration": 3,
    "start_time": "2023-06-07T13:15:24.136Z"
   },
   {
    "duration": 106700,
    "start_time": "2023-06-07T13:15:24.141Z"
   },
   {
    "duration": 4,
    "start_time": "2023-06-07T13:17:10.845Z"
   },
   {
    "duration": 2032,
    "start_time": "2023-06-07T13:17:10.866Z"
   },
   {
    "duration": 33,
    "start_time": "2023-06-07T13:17:12.900Z"
   },
   {
    "duration": 3,
    "start_time": "2023-06-07T13:17:12.936Z"
   },
   {
    "duration": 111734,
    "start_time": "2023-06-07T13:17:12.941Z"
   },
   {
    "duration": 13,
    "start_time": "2023-06-07T13:19:04.683Z"
   },
   {
    "duration": 549821,
    "start_time": "2023-06-07T13:19:04.697Z"
   },
   {
    "duration": 5,
    "start_time": "2023-06-07T13:28:14.520Z"
   },
   {
    "duration": 1258,
    "start_time": "2023-06-07T13:28:14.527Z"
   },
   {
    "duration": 8,
    "start_time": "2023-06-07T13:28:15.787Z"
   },
   {
    "duration": 15,
    "start_time": "2023-06-07T13:28:15.797Z"
   },
   {
    "duration": 5,
    "start_time": "2023-06-07T13:30:41.945Z"
   },
   {
    "duration": 7369,
    "start_time": "2023-06-07T15:07:47.701Z"
   },
   {
    "duration": 5301,
    "start_time": "2023-06-07T15:07:55.073Z"
   },
   {
    "duration": 916,
    "start_time": "2023-06-07T15:08:09.830Z"
   },
   {
    "duration": 37,
    "start_time": "2023-06-07T15:09:55.055Z"
   },
   {
    "duration": 22,
    "start_time": "2023-06-07T15:09:57.302Z"
   },
   {
    "duration": 2529,
    "start_time": "2023-06-07T15:10:01.106Z"
   },
   {
    "duration": 1570,
    "start_time": "2023-06-07T15:10:38.423Z"
   },
   {
    "duration": 13,
    "start_time": "2023-06-07T15:10:40.006Z"
   },
   {
    "duration": 1920,
    "start_time": "2023-06-07T15:10:41.938Z"
   },
   {
    "duration": 10352,
    "start_time": "2023-06-07T15:12:23.424Z"
   },
   {
    "duration": 100,
    "start_time": "2023-06-07T15:16:58.796Z"
   },
   {
    "duration": 25,
    "start_time": "2023-06-07T15:21:53.726Z"
   },
   {
    "duration": 75,
    "start_time": "2023-06-07T15:22:00.541Z"
   },
   {
    "duration": 35,
    "start_time": "2023-06-07T15:22:45.265Z"
   },
   {
    "duration": 81,
    "start_time": "2023-06-07T15:22:54.990Z"
   },
   {
    "duration": 6,
    "start_time": "2023-06-07T15:35:41.442Z"
   },
   {
    "duration": 28,
    "start_time": "2023-06-07T15:36:10.948Z"
   },
   {
    "duration": 6,
    "start_time": "2023-06-07T15:36:20.652Z"
   },
   {
    "duration": 9,
    "start_time": "2023-06-07T15:36:30.269Z"
   },
   {
    "duration": 1208,
    "start_time": "2023-06-07T15:40:03.997Z"
   },
   {
    "duration": 45,
    "start_time": "2023-06-07T15:48:12.708Z"
   },
   {
    "duration": 57,
    "start_time": "2023-06-07T15:48:21.942Z"
   },
   {
    "duration": 90,
    "start_time": "2023-06-07T15:48:29.315Z"
   },
   {
    "duration": 64,
    "start_time": "2023-06-07T15:48:36.283Z"
   },
   {
    "duration": 824,
    "start_time": "2023-06-07T15:51:57.544Z"
   },
   {
    "duration": 33,
    "start_time": "2023-06-07T15:52:13.605Z"
   },
   {
    "duration": 1131,
    "start_time": "2023-06-07T15:53:16.847Z"
   },
   {
    "duration": 30,
    "start_time": "2023-06-07T15:53:35.011Z"
   },
   {
    "duration": 19,
    "start_time": "2023-06-07T15:54:16.085Z"
   },
   {
    "duration": 19,
    "start_time": "2023-06-07T15:54:34.268Z"
   },
   {
    "duration": 871,
    "start_time": "2023-06-07T15:54:57.277Z"
   },
   {
    "duration": 51,
    "start_time": "2023-06-07T15:55:33.602Z"
   },
   {
    "duration": 25,
    "start_time": "2023-06-07T15:55:49.579Z"
   },
   {
    "duration": 28,
    "start_time": "2023-06-07T15:56:18.521Z"
   },
   {
    "duration": 25,
    "start_time": "2023-06-07T15:56:28.148Z"
   },
   {
    "duration": 35,
    "start_time": "2023-06-07T15:57:08.607Z"
   },
   {
    "duration": 841,
    "start_time": "2023-06-07T15:57:21.425Z"
   },
   {
    "duration": 3,
    "start_time": "2023-06-07T15:57:28.588Z"
   },
   {
    "duration": 3,
    "start_time": "2023-06-07T15:57:45.802Z"
   },
   {
    "duration": 54,
    "start_time": "2023-06-07T15:57:49.574Z"
   },
   {
    "duration": 45,
    "start_time": "2023-06-07T15:57:54.090Z"
   },
   {
    "duration": 56,
    "start_time": "2023-06-07T15:57:58.032Z"
   },
   {
    "duration": 46,
    "start_time": "2023-06-07T15:58:02.946Z"
   },
   {
    "duration": 4,
    "start_time": "2023-06-07T15:58:17.225Z"
   },
   {
    "duration": 882,
    "start_time": "2023-06-07T15:58:30.300Z"
   },
   {
    "duration": 4,
    "start_time": "2023-06-07T15:59:30.265Z"
   },
   {
    "duration": 6,
    "start_time": "2023-06-07T15:59:33.885Z"
   },
   {
    "duration": 66,
    "start_time": "2023-06-07T15:59:54.171Z"
   },
   {
    "duration": 7,
    "start_time": "2023-06-07T15:59:57.763Z"
   },
   {
    "duration": 25,
    "start_time": "2023-06-07T16:00:04.135Z"
   },
   {
    "duration": 4,
    "start_time": "2023-06-07T16:00:09.826Z"
   },
   {
    "duration": 5,
    "start_time": "2023-06-07T16:01:12.700Z"
   },
   {
    "duration": 30252,
    "start_time": "2023-06-07T16:01:31.575Z"
   },
   {
    "duration": 32,
    "start_time": "2023-06-07T16:02:17.596Z"
   },
   {
    "duration": 216788,
    "start_time": "2023-06-07T16:02:38.696Z"
   },
   {
    "duration": 41,
    "start_time": "2023-06-07T16:06:43.638Z"
   },
   {
    "duration": 307937,
    "start_time": "2023-06-07T16:06:46.302Z"
   },
   {
    "duration": 2,
    "start_time": "2023-06-07T16:12:17.441Z"
   },
   {
    "duration": 39,
    "start_time": "2023-06-07T16:12:26.610Z"
   },
   {
    "duration": 11,
    "start_time": "2023-06-07T16:12:35.002Z"
   },
   {
    "duration": 6,
    "start_time": "2023-06-07T16:12:41.919Z"
   },
   {
    "duration": 832,
    "start_time": "2023-06-07T16:12:57.821Z"
   },
   {
    "duration": 2179,
    "start_time": "2023-06-07T16:13:00.836Z"
   },
   {
    "duration": 5,
    "start_time": "2023-06-07T16:13:03.017Z"
   },
   {
    "duration": 3,
    "start_time": "2023-06-07T16:13:09.533Z"
   },
   {
    "duration": 5,
    "start_time": "2023-06-07T16:13:16.754Z"
   },
   {
    "duration": 42,
    "start_time": "2023-06-07T16:13:22.651Z"
   },
   {
    "duration": 10,
    "start_time": "2023-06-07T16:13:25.622Z"
   },
   {
    "duration": 5,
    "start_time": "2023-06-07T16:13:26.355Z"
   },
   {
    "duration": 38,
    "start_time": "2023-06-07T16:13:49.002Z"
   },
   {
    "duration": 387,
    "start_time": "2023-06-07T16:13:52.538Z"
   },
   {
    "duration": 4,
    "start_time": "2023-06-07T16:13:52.952Z"
   },
   {
    "duration": 44,
    "start_time": "2023-06-07T16:14:09.974Z"
   },
   {
    "duration": 19,
    "start_time": "2023-06-07T16:14:13.007Z"
   },
   {
    "duration": 4,
    "start_time": "2023-06-07T16:14:15.222Z"
   },
   {
    "duration": 13162,
    "start_time": "2023-06-07T16:15:50.244Z"
   },
   {
    "duration": 10196,
    "start_time": "2023-06-07T16:16:25.197Z"
   },
   {
    "duration": 2168,
    "start_time": "2023-06-07T16:16:58.355Z"
   },
   {
    "duration": 119,
    "start_time": "2023-06-07T16:17:16.426Z"
   },
   {
    "duration": 230,
    "start_time": "2023-06-07T16:17:28.992Z"
   },
   {
    "duration": 5,
    "start_time": "2023-06-07T16:17:37.036Z"
   },
   {
    "duration": 37,
    "start_time": "2023-06-07T16:18:11.155Z"
   },
   {
    "duration": 3,
    "start_time": "2023-06-07T16:19:14.010Z"
   },
   {
    "duration": 4,
    "start_time": "2023-06-07T16:19:39.139Z"
   },
   {
    "duration": 211,
    "start_time": "2023-06-07T16:20:02.772Z"
   },
   {
    "duration": 4,
    "start_time": "2023-06-07T16:20:07.741Z"
   },
   {
    "duration": 8055,
    "start_time": "2023-06-07T16:20:34.993Z"
   },
   {
    "duration": 12,
    "start_time": "2023-06-07T16:20:48.683Z"
   },
   {
    "duration": 107,
    "start_time": "2023-06-07T16:21:13.638Z"
   },
   {
    "duration": 869,
    "start_time": "2023-06-07T16:21:32.467Z"
   },
   {
    "duration": 68,
    "start_time": "2023-06-07T16:21:34.959Z"
   },
   {
    "duration": 25,
    "start_time": "2023-06-07T16:21:46.970Z"
   },
   {
    "duration": 13,
    "start_time": "2023-06-07T16:22:01.540Z"
   },
   {
    "duration": 3,
    "start_time": "2023-06-07T16:22:32.139Z"
   },
   {
    "duration": 48,
    "start_time": "2023-06-07T16:23:10.461Z"
   },
   {
    "duration": 32,
    "start_time": "2023-06-07T16:23:39.841Z"
   },
   {
    "duration": 35,
    "start_time": "2023-06-07T16:24:10.266Z"
   },
   {
    "duration": 5,
    "start_time": "2023-06-07T16:24:21.939Z"
   },
   {
    "duration": 3,
    "start_time": "2023-06-07T16:24:27.049Z"
   },
   {
    "duration": 7,
    "start_time": "2023-06-07T16:24:29.780Z"
   },
   {
    "duration": 799,
    "start_time": "2023-06-07T16:24:40.391Z"
   },
   {
    "duration": 2088,
    "start_time": "2023-06-07T16:24:45.673Z"
   },
   {
    "duration": 15,
    "start_time": "2023-06-07T16:24:47.764Z"
   },
   {
    "duration": 3,
    "start_time": "2023-06-07T16:25:01.673Z"
   },
   {
    "duration": 5,
    "start_time": "2023-06-07T16:25:02.057Z"
   },
   {
    "duration": 6080,
    "start_time": "2023-06-07T16:25:05.812Z"
   },
   {
    "duration": 77,
    "start_time": "2023-06-07T16:25:27.123Z"
   },
   {
    "duration": 59,
    "start_time": "2023-06-07T16:25:41.211Z"
   },
   {
    "duration": 5,
    "start_time": "2023-06-07T16:26:38.140Z"
   },
   {
    "duration": 101,
    "start_time": "2023-06-07T16:28:45.615Z"
   },
   {
    "duration": 63,
    "start_time": "2023-06-07T16:29:19.741Z"
   },
   {
    "duration": 4,
    "start_time": "2023-06-07T16:29:24.070Z"
   },
   {
    "duration": 49,
    "start_time": "2023-06-07T16:30:21.362Z"
   },
   {
    "duration": 4,
    "start_time": "2023-06-07T16:30:40.149Z"
   },
   {
    "duration": 31,
    "start_time": "2023-06-07T16:31:28.396Z"
   },
   {
    "duration": 12,
    "start_time": "2023-06-07T16:32:43.842Z"
   },
   {
    "duration": 4,
    "start_time": "2023-06-07T16:33:17.748Z"
   },
   {
    "duration": 80,
    "start_time": "2023-06-07T16:33:20.939Z"
   },
   {
    "duration": 4,
    "start_time": "2023-06-07T16:33:21.460Z"
   },
   {
    "duration": 105,
    "start_time": "2023-06-07T16:33:45.599Z"
   },
   {
    "duration": 71,
    "start_time": "2023-06-07T16:34:23.159Z"
   },
   {
    "duration": 5,
    "start_time": "2023-06-07T16:34:26.313Z"
   },
   {
    "duration": 74,
    "start_time": "2023-06-07T16:35:58.121Z"
   },
   {
    "duration": 32,
    "start_time": "2023-06-07T16:39:10.215Z"
   },
   {
    "duration": 32,
    "start_time": "2023-06-07T16:39:21.900Z"
   },
   {
    "duration": 4,
    "start_time": "2023-06-07T16:40:45.099Z"
   },
   {
    "duration": 32,
    "start_time": "2023-06-07T16:40:56.795Z"
   },
   {
    "duration": 3,
    "start_time": "2023-06-07T16:41:06.565Z"
   },
   {
    "duration": 36,
    "start_time": "2023-06-07T16:41:07.316Z"
   },
   {
    "duration": 1141,
    "start_time": "2023-06-07T16:41:18.614Z"
   },
   {
    "duration": 39,
    "start_time": "2023-06-07T16:41:26.020Z"
   },
   {
    "duration": 4,
    "start_time": "2023-06-07T16:42:30.805Z"
   },
   {
    "duration": 4,
    "start_time": "2023-06-07T16:42:32.938Z"
   },
   {
    "duration": 4,
    "start_time": "2023-06-07T16:42:42.940Z"
   },
   {
    "duration": 46,
    "start_time": "2023-06-07T16:42:49.260Z"
   },
   {
    "duration": 9,
    "start_time": "2023-06-07T16:42:54.676Z"
   },
   {
    "duration": 5,
    "start_time": "2023-06-07T16:43:23.455Z"
   },
   {
    "duration": 525,
    "start_time": "2023-06-07T16:43:24.183Z"
   },
   {
    "duration": 54,
    "start_time": "2023-06-07T16:44:12.943Z"
   },
   {
    "duration": 485,
    "start_time": "2023-06-07T16:44:18.947Z"
   },
   {
    "duration": 4,
    "start_time": "2023-06-07T16:44:36.742Z"
   },
   {
    "duration": 531,
    "start_time": "2023-06-07T16:45:11.620Z"
   },
   {
    "duration": 472,
    "start_time": "2023-06-07T16:46:48.475Z"
   },
   {
    "duration": 5,
    "start_time": "2023-06-07T16:46:50.626Z"
   },
   {
    "duration": 92,
    "start_time": "2023-06-07T16:47:18.960Z"
   },
   {
    "duration": 6,
    "start_time": "2023-06-07T16:47:27.306Z"
   },
   {
    "duration": 458,
    "start_time": "2023-06-07T16:47:53.693Z"
   },
   {
    "duration": 4,
    "start_time": "2023-06-07T16:47:54.301Z"
   },
   {
    "duration": 66,
    "start_time": "2023-06-07T16:47:55.399Z"
   },
   {
    "duration": 5,
    "start_time": "2023-06-07T16:47:55.999Z"
   },
   {
    "duration": 14,
    "start_time": "2023-06-07T16:49:03.632Z"
   },
   {
    "duration": 480,
    "start_time": "2023-06-07T16:49:30.207Z"
   },
   {
    "duration": 6,
    "start_time": "2023-06-07T16:49:30.689Z"
   },
   {
    "duration": 110,
    "start_time": "2023-06-07T16:49:31.796Z"
   },
   {
    "duration": 5,
    "start_time": "2023-06-07T16:49:32.630Z"
   },
   {
    "duration": 16,
    "start_time": "2023-06-07T16:56:15.567Z"
   },
   {
    "duration": 43,
    "start_time": "2023-06-07T16:57:39.817Z"
   },
   {
    "duration": 48,
    "start_time": "2023-06-07T16:58:02.692Z"
   },
   {
    "duration": 56,
    "start_time": "2023-06-07T16:59:15.441Z"
   },
   {
    "duration": 97,
    "start_time": "2023-06-07T16:59:21.735Z"
   },
   {
    "duration": 86,
    "start_time": "2023-06-07T16:59:27.313Z"
   },
   {
    "duration": 59,
    "start_time": "2023-06-07T16:59:51.549Z"
   },
   {
    "duration": 5,
    "start_time": "2023-06-07T16:59:56.046Z"
   },
   {
    "duration": 5,
    "start_time": "2023-06-07T17:00:04.065Z"
   },
   {
    "duration": 976408,
    "start_time": "2023-06-07T17:00:33.222Z"
   },
   {
    "duration": 7,
    "start_time": "2023-06-07T17:16:52.580Z"
   },
   {
    "duration": 24,
    "start_time": "2023-06-07T17:16:55.704Z"
   },
   {
    "duration": 23,
    "start_time": "2023-06-07T17:17:02.491Z"
   },
   {
    "duration": 27,
    "start_time": "2023-06-07T17:18:37.405Z"
   },
   {
    "duration": 21,
    "start_time": "2023-06-07T17:19:43.921Z"
   },
   {
    "duration": 21,
    "start_time": "2023-06-07T17:20:26.721Z"
   },
   {
    "duration": 8261,
    "start_time": "2023-06-07T17:20:35.398Z"
   },
   {
    "duration": 51,
    "start_time": "2023-06-07T17:20:45.499Z"
   },
   {
    "duration": 42,
    "start_time": "2023-06-07T17:20:46.706Z"
   },
   {
    "duration": 26,
    "start_time": "2023-06-07T17:20:52.488Z"
   },
   {
    "duration": 21,
    "start_time": "2023-06-07T17:21:23.761Z"
   },
   {
    "duration": 5,
    "start_time": "2023-06-07T17:22:36.082Z"
   },
   {
    "duration": 981,
    "start_time": "2023-06-07T17:22:44.739Z"
   },
   {
    "duration": 168,
    "start_time": "2023-06-07T17:23:01.062Z"
   },
   {
    "duration": 3,
    "start_time": "2023-06-07T17:23:29.257Z"
   },
   {
    "duration": 112,
    "start_time": "2023-06-07T17:23:33.209Z"
   },
   {
    "duration": 146,
    "start_time": "2023-06-07T17:24:18.559Z"
   },
   {
    "duration": 19861,
    "start_time": "2023-06-07T17:25:52.317Z"
   },
   {
    "duration": 1024,
    "start_time": "2023-06-07T17:26:12.180Z"
   },
   {
    "duration": 44,
    "start_time": "2023-06-07T17:26:13.206Z"
   },
   {
    "duration": 20,
    "start_time": "2023-06-07T17:26:13.252Z"
   },
   {
    "duration": 2699,
    "start_time": "2023-06-07T17:26:13.283Z"
   },
   {
    "duration": 35,
    "start_time": "2023-06-07T17:26:15.990Z"
   },
   {
    "duration": 4,
    "start_time": "2023-06-07T17:26:16.032Z"
   },
   {
    "duration": 746,
    "start_time": "2023-06-07T17:26:16.038Z"
   },
   {
    "duration": 2693,
    "start_time": "2023-06-07T17:26:57.540Z"
   },
   {
    "duration": 595,
    "start_time": "2023-06-07T17:27:04.676Z"
   },
   {
    "duration": 93,
    "start_time": "2023-06-07T17:28:21.976Z"
   },
   {
    "duration": 42,
    "start_time": "2023-06-07T17:28:43.614Z"
   },
   {
    "duration": 6,
    "start_time": "2023-06-07T17:28:57.705Z"
   },
   {
    "duration": 4,
    "start_time": "2023-06-07T17:29:19.926Z"
   },
   {
    "duration": 64,
    "start_time": "2023-06-07T17:29:28.193Z"
   },
   {
    "duration": 3,
    "start_time": "2023-06-07T17:29:33.152Z"
   },
   {
    "duration": 484,
    "start_time": "2023-06-07T17:29:56.796Z"
   },
   {
    "duration": 3,
    "start_time": "2023-06-07T17:30:10.305Z"
   },
   {
    "duration": 6986,
    "start_time": "2023-06-07T17:30:33.393Z"
   },
   {
    "duration": 6,
    "start_time": "2023-06-07T17:30:45.453Z"
   },
   {
    "duration": 432,
    "start_time": "2023-06-07T17:31:06.107Z"
   },
   {
    "duration": 51,
    "start_time": "2023-06-07T17:31:06.582Z"
   },
   {
    "duration": 7,
    "start_time": "2023-06-07T17:31:07.343Z"
   },
   {
    "duration": 3,
    "start_time": "2023-06-07T17:31:12.694Z"
   },
   {
    "duration": 654,
    "start_time": "2023-06-07T17:31:13.057Z"
   },
   {
    "duration": 32,
    "start_time": "2023-06-07T17:31:13.712Z"
   },
   {
    "duration": 6,
    "start_time": "2023-06-07T17:31:14.005Z"
   },
   {
    "duration": 17,
    "start_time": "2023-06-07T17:31:28.477Z"
   },
   {
    "duration": 5,
    "start_time": "2023-06-07T17:31:28.761Z"
   },
   {
    "duration": 10,
    "start_time": "2023-06-07T17:31:37.445Z"
   },
   {
    "duration": 851,
    "start_time": "2023-06-07T17:31:44.997Z"
   },
   {
    "duration": 12,
    "start_time": "2023-06-07T17:31:49.059Z"
   },
   {
    "duration": 4,
    "start_time": "2023-06-07T17:31:51.997Z"
   },
   {
    "duration": 1992,
    "start_time": "2023-06-07T17:31:52.875Z"
   },
   {
    "duration": 6,
    "start_time": "2023-06-07T17:31:59.954Z"
   },
   {
    "duration": 3,
    "start_time": "2023-06-07T17:32:03.226Z"
   },
   {
    "duration": 5,
    "start_time": "2023-06-07T17:32:03.700Z"
   },
   {
    "duration": 456,
    "start_time": "2023-06-07T17:32:15.275Z"
   },
   {
    "duration": 93,
    "start_time": "2023-06-07T17:32:15.733Z"
   },
   {
    "duration": 9,
    "start_time": "2023-06-07T17:32:15.985Z"
   },
   {
    "duration": 4,
    "start_time": "2023-06-07T17:32:46.232Z"
   },
   {
    "duration": 9,
    "start_time": "2023-06-07T17:32:56.480Z"
   },
   {
    "duration": 5,
    "start_time": "2023-06-07T17:32:56.869Z"
   },
   {
    "duration": 789,
    "start_time": "2023-06-07T17:33:13.106Z"
   },
   {
    "duration": 4,
    "start_time": "2023-06-07T17:33:17.118Z"
   },
   {
    "duration": 2162,
    "start_time": "2023-06-07T17:33:17.421Z"
   },
   {
    "duration": 14,
    "start_time": "2023-06-07T17:33:19.587Z"
   },
   {
    "duration": 3,
    "start_time": "2023-06-07T17:33:24.930Z"
   },
   {
    "duration": 18,
    "start_time": "2023-06-07T17:33:25.273Z"
   },
   {
    "duration": 467,
    "start_time": "2023-06-07T17:33:27.996Z"
   },
   {
    "duration": 84,
    "start_time": "2023-06-07T17:33:29.432Z"
   },
   {
    "duration": 6,
    "start_time": "2023-06-07T17:33:30.163Z"
   },
   {
    "duration": 589892,
    "start_time": "2023-06-07T17:34:33.149Z"
   },
   {
    "duration": 0,
    "start_time": "2023-06-07T17:44:23.043Z"
   },
   {
    "duration": 10794,
    "start_time": "2023-06-07T17:44:29.760Z"
   },
   {
    "duration": 2552,
    "start_time": "2023-06-07T17:45:04.377Z"
   },
   {
    "duration": 665,
    "start_time": "2023-06-07T17:45:23.819Z"
   },
   {
    "duration": 138,
    "start_time": "2023-06-07T17:45:36.216Z"
   },
   {
    "duration": 864,
    "start_time": "2023-06-07T17:46:13.879Z"
   },
   {
    "duration": 3,
    "start_time": "2023-06-07T17:46:18.736Z"
   },
   {
    "duration": 2298,
    "start_time": "2023-06-07T17:46:19.108Z"
   },
   {
    "duration": 4,
    "start_time": "2023-06-07T17:46:32.805Z"
   },
   {
    "duration": 9,
    "start_time": "2023-06-07T17:46:41.005Z"
   },
   {
    "duration": 9,
    "start_time": "2023-06-07T17:46:44.856Z"
   },
   {
    "duration": 6,
    "start_time": "2023-06-07T17:46:53.422Z"
   },
   {
    "duration": 519,
    "start_time": "2023-06-07T17:47:04.607Z"
   },
   {
    "duration": 3,
    "start_time": "2023-06-07T17:47:07.474Z"
   },
   {
    "duration": 9,
    "start_time": "2023-06-07T17:47:07.714Z"
   },
   {
    "duration": 828,
    "start_time": "2023-06-07T17:47:24.647Z"
   },
   {
    "duration": 4,
    "start_time": "2023-06-07T17:47:31.004Z"
   },
   {
    "duration": 6,
    "start_time": "2023-06-07T17:47:31.262Z"
   },
   {
    "duration": 4,
    "start_time": "2023-06-07T17:47:35.696Z"
   },
   {
    "duration": 2137,
    "start_time": "2023-06-07T17:47:35.907Z"
   },
   {
    "duration": 5,
    "start_time": "2023-06-07T17:47:38.046Z"
   },
   {
    "duration": 3,
    "start_time": "2023-06-07T17:47:40.191Z"
   },
   {
    "duration": 5,
    "start_time": "2023-06-07T17:47:40.822Z"
   },
   {
    "duration": 413,
    "start_time": "2023-06-07T17:47:42.992Z"
   },
   {
    "duration": 83,
    "start_time": "2023-06-07T17:47:43.491Z"
   },
   {
    "duration": 5,
    "start_time": "2023-06-07T17:47:43.891Z"
   },
   {
    "duration": 8,
    "start_time": "2023-06-07T17:47:59.206Z"
   },
   {
    "duration": 760,
    "start_time": "2023-06-07T17:48:31.475Z"
   },
   {
    "duration": 43,
    "start_time": "2023-06-07T17:48:32.237Z"
   },
   {
    "duration": 12,
    "start_time": "2023-06-07T17:48:32.285Z"
   },
   {
    "duration": 3,
    "start_time": "2023-06-07T17:48:35.394Z"
   },
   {
    "duration": 1986,
    "start_time": "2023-06-07T17:48:35.776Z"
   },
   {
    "duration": 6,
    "start_time": "2023-06-07T17:48:37.764Z"
   },
   {
    "duration": 51,
    "start_time": "2023-06-07T17:49:52.813Z"
   },
   {
    "duration": 3703,
    "start_time": "2023-06-07T17:50:17.938Z"
   },
   {
    "duration": 5254,
    "start_time": "2023-06-07T17:50:33.992Z"
   },
   {
    "duration": 478,
    "start_time": "2023-06-07T17:51:05.281Z"
   },
   {
    "duration": 6,
    "start_time": "2023-06-07T17:51:30.595Z"
   },
   {
    "duration": 6,
    "start_time": "2023-06-07T17:51:37.699Z"
   },
   {
    "duration": 3,
    "start_time": "2023-06-07T17:51:48.011Z"
   },
   {
    "duration": 7,
    "start_time": "2023-06-07T17:51:48.960Z"
   },
   {
    "duration": 417,
    "start_time": "2023-06-07T17:52:31.754Z"
   },
   {
    "duration": 76,
    "start_time": "2023-06-07T17:52:32.195Z"
   },
   {
    "duration": 8,
    "start_time": "2023-06-07T17:52:35.476Z"
   },
   {
    "duration": 431,
    "start_time": "2023-06-07T17:52:59.322Z"
   },
   {
    "duration": 72,
    "start_time": "2023-06-07T17:53:02.182Z"
   },
   {
    "duration": 7,
    "start_time": "2023-06-07T17:53:04.805Z"
   },
   {
    "duration": 436,
    "start_time": "2023-06-07T17:53:36.571Z"
   },
   {
    "duration": 65,
    "start_time": "2023-06-07T17:53:39.515Z"
   },
   {
    "duration": 6,
    "start_time": "2023-06-07T17:53:43.623Z"
   },
   {
    "duration": 3,
    "start_time": "2023-06-07T17:53:45.492Z"
   },
   {
    "duration": 9,
    "start_time": "2023-06-07T17:53:46.591Z"
   },
   {
    "duration": 782,
    "start_time": "2023-06-07T17:54:03.677Z"
   },
   {
    "duration": 36,
    "start_time": "2023-06-07T17:54:04.461Z"
   },
   {
    "duration": 17,
    "start_time": "2023-06-07T17:54:05.492Z"
   },
   {
    "duration": 4,
    "start_time": "2023-06-07T17:54:07.571Z"
   },
   {
    "duration": 1962,
    "start_time": "2023-06-07T17:54:08.052Z"
   },
   {
    "duration": 5,
    "start_time": "2023-06-07T17:54:10.017Z"
   },
   {
    "duration": 436,
    "start_time": "2023-06-07T17:54:10.024Z"
   },
   {
    "duration": 2389210,
    "start_time": "2023-06-07T17:54:11.296Z"
   },
   {
    "duration": 10,
    "start_time": "2023-06-07T18:36:26.256Z"
   },
   {
    "duration": 3,
    "start_time": "2023-06-07T18:36:42.155Z"
   },
   {
    "duration": 34,
    "start_time": "2023-06-07T18:36:43.287Z"
   },
   {
    "duration": 7362,
    "start_time": "2023-06-07T18:36:47.942Z"
   },
   {
    "duration": 7,
    "start_time": "2023-06-07T18:36:59.455Z"
   },
   {
    "duration": 100044,
    "start_time": "2023-06-07T18:37:04.497Z"
   },
   {
    "duration": 4,
    "start_time": "2023-06-07T18:38:44.543Z"
   },
   {
    "duration": 4,
    "start_time": "2023-06-07T18:39:32.464Z"
   },
   {
    "duration": 4,
    "start_time": "2023-06-07T18:39:58.225Z"
   },
   {
    "duration": 497392,
    "start_time": "2023-06-07T18:40:00.857Z"
   },
   {
    "duration": 4,
    "start_time": "2023-06-07T18:48:18.251Z"
   },
   {
    "duration": 1919,
    "start_time": "2023-06-07T18:51:41.491Z"
   },
   {
    "duration": 1079,
    "start_time": "2023-06-07T18:51:46.616Z"
   },
   {
    "duration": 55573,
    "start_time": "2023-06-07T18:51:48.642Z"
   },
   {
    "duration": 0,
    "start_time": "2023-06-07T18:52:44.217Z"
   },
   {
    "duration": 0,
    "start_time": "2023-06-07T18:52:44.218Z"
   },
   {
    "duration": 1711,
    "start_time": "2023-06-07T18:52:53.880Z"
   },
   {
    "duration": 25,
    "start_time": "2023-06-07T18:54:43.658Z"
   },
   {
    "duration": 49,
    "start_time": "2023-06-07T18:55:05.614Z"
   },
   {
    "duration": 40,
    "start_time": "2023-06-07T18:55:38.472Z"
   },
   {
    "duration": 24,
    "start_time": "2023-06-07T18:56:35.958Z"
   },
   {
    "duration": 18824,
    "start_time": "2023-06-07T19:00:44.647Z"
   },
   {
    "duration": 4555,
    "start_time": "2023-06-07T19:01:03.473Z"
   },
   {
    "duration": 3,
    "start_time": "2023-06-07T19:01:08.030Z"
   },
   {
    "duration": 2158,
    "start_time": "2023-06-07T19:01:08.035Z"
   },
   {
    "duration": 23,
    "start_time": "2023-06-07T19:01:10.198Z"
   },
   {
    "duration": 14,
    "start_time": "2023-06-07T19:01:10.223Z"
   },
   {
    "duration": 19,
    "start_time": "2023-06-07T19:01:10.239Z"
   },
   {
    "duration": 322,
    "start_time": "2023-06-07T19:01:18.594Z"
   },
   {
    "duration": 921942,
    "start_time": "2023-06-07T19:01:23.914Z"
   },
   {
    "duration": 12145,
    "start_time": "2023-06-07T19:16:53.682Z"
   },
   {
    "duration": 59,
    "start_time": "2023-06-07T19:21:19.643Z"
   },
   {
    "duration": 21996,
    "start_time": "2023-06-07T19:21:23.535Z"
   },
   {
    "duration": 4520,
    "start_time": "2023-06-07T19:21:45.533Z"
   },
   {
    "duration": 43,
    "start_time": "2023-06-07T19:21:50.054Z"
   },
   {
    "duration": 40,
    "start_time": "2023-06-07T19:21:50.098Z"
   },
   {
    "duration": 3,
    "start_time": "2023-06-07T19:21:50.139Z"
   },
   {
    "duration": 2272,
    "start_time": "2023-06-07T19:21:50.144Z"
   },
   {
    "duration": 10,
    "start_time": "2023-06-07T19:21:52.417Z"
   },
   {
    "duration": 14,
    "start_time": "2023-06-07T19:21:52.429Z"
   },
   {
    "duration": 19,
    "start_time": "2023-06-07T19:21:52.444Z"
   },
   {
    "duration": 270,
    "start_time": "2023-06-07T19:21:52.466Z"
   },
   {
    "duration": 76,
    "start_time": "2023-06-07T19:32:52.540Z"
   },
   {
    "duration": 40,
    "start_time": "2023-06-07T19:34:10.231Z"
   },
   {
    "duration": 4650,
    "start_time": "2023-06-07T19:34:32.598Z"
   },
   {
    "duration": 3998,
    "start_time": "2023-06-07T19:34:37.250Z"
   },
   {
    "duration": 35,
    "start_time": "2023-06-07T19:34:49.146Z"
   },
   {
    "duration": 15,
    "start_time": "2023-06-07T19:34:49.903Z"
   },
   {
    "duration": 3,
    "start_time": "2023-06-07T19:34:51.850Z"
   },
   {
    "duration": 2118,
    "start_time": "2023-06-07T19:34:52.240Z"
   },
   {
    "duration": 5,
    "start_time": "2023-06-07T19:34:54.360Z"
   },
   {
    "duration": 3,
    "start_time": "2023-06-07T19:35:00.651Z"
   },
   {
    "duration": 305,
    "start_time": "2023-06-07T19:35:02.442Z"
   },
   {
    "duration": 59,
    "start_time": "2023-06-07T19:35:16.002Z"
   },
   {
    "duration": 58,
    "start_time": "2023-06-07T19:35:39.906Z"
   },
   {
    "duration": 203,
    "start_time": "2023-06-07T19:35:43.247Z"
   },
   {
    "duration": 10,
    "start_time": "2023-06-07T19:43:17.405Z"
   },
   {
    "duration": 7362,
    "start_time": "2023-06-08T18:06:49.900Z"
   },
   {
    "duration": 132,
    "start_time": "2023-06-08T18:08:02.328Z"
   },
   {
    "duration": 6847,
    "start_time": "2023-06-08T18:10:03.107Z"
   },
   {
    "duration": 4192,
    "start_time": "2023-06-08T18:11:01.966Z"
   },
   {
    "duration": 26,
    "start_time": "2023-06-08T18:11:29.271Z"
   },
   {
    "duration": 21,
    "start_time": "2023-06-08T18:11:30.559Z"
   },
   {
    "duration": 13,
    "start_time": "2023-06-08T18:11:33.117Z"
   },
   {
    "duration": 2338,
    "start_time": "2023-06-08T18:11:33.420Z"
   },
   {
    "duration": 5,
    "start_time": "2023-06-08T18:11:35.761Z"
   },
   {
    "duration": 506,
    "start_time": "2023-06-08T18:11:36.736Z"
   },
   {
    "duration": 37,
    "start_time": "2023-06-08T18:11:47.101Z"
   },
   {
    "duration": 342323,
    "start_time": "2023-06-08T18:13:38.411Z"
   },
   {
    "duration": 0,
    "start_time": "2023-06-08T18:19:20.735Z"
   },
   {
    "duration": 0,
    "start_time": "2023-06-08T18:19:20.736Z"
   },
   {
    "duration": 0,
    "start_time": "2023-06-08T18:19:20.737Z"
   },
   {
    "duration": 0,
    "start_time": "2023-06-08T18:19:20.737Z"
   },
   {
    "duration": 0,
    "start_time": "2023-06-08T18:19:20.738Z"
   },
   {
    "duration": 0,
    "start_time": "2023-06-08T18:19:20.739Z"
   },
   {
    "duration": 2126577,
    "start_time": "2023-06-08T18:19:22.549Z"
   },
   {
    "duration": 26,
    "start_time": "2023-06-08T18:54:49.128Z"
   },
   {
    "duration": 3,
    "start_time": "2023-06-08T19:01:35.108Z"
   },
   {
    "duration": 99,
    "start_time": "2023-06-08T19:01:35.841Z"
   },
   {
    "duration": 172,
    "start_time": "2023-06-08T19:01:38.852Z"
   },
   {
    "duration": 156,
    "start_time": "2023-06-08T19:01:42.875Z"
   },
   {
    "duration": 643846,
    "start_time": "2023-06-08T19:01:52.019Z"
   },
   {
    "duration": 6,
    "start_time": "2023-06-08T19:15:27.167Z"
   },
   {
    "duration": 151,
    "start_time": "2023-06-08T19:15:27.603Z"
   },
   {
    "duration": 91,
    "start_time": "2023-06-08T19:17:35.683Z"
   },
   {
    "duration": 64,
    "start_time": "2023-06-08T19:17:54.615Z"
   },
   {
    "duration": 9,
    "start_time": "2023-06-08T19:18:48.202Z"
   },
   {
    "duration": 3,
    "start_time": "2023-06-08T19:19:01.848Z"
   },
   {
    "duration": 84,
    "start_time": "2023-06-08T19:19:07.387Z"
   },
   {
    "duration": 15,
    "start_time": "2023-06-08T19:19:39.939Z"
   },
   {
    "duration": 19,
    "start_time": "2023-06-08T19:19:50.215Z"
   },
   {
    "duration": 77,
    "start_time": "2023-06-08T19:20:06.441Z"
   },
   {
    "duration": 6,
    "start_time": "2023-06-08T19:24:37.716Z"
   },
   {
    "duration": 4,
    "start_time": "2023-06-08T19:24:38.354Z"
   },
   {
    "duration": 504410,
    "start_time": "2023-06-08T19:24:39.936Z"
   },
   {
    "duration": 6,
    "start_time": "2023-06-08T19:33:04.347Z"
   },
   {
    "duration": 113,
    "start_time": "2023-06-08T19:33:04.354Z"
   },
   {
    "duration": 2314,
    "start_time": "2023-06-08T19:33:21.254Z"
   },
   {
    "duration": 11,
    "start_time": "2023-06-08T19:33:48.352Z"
   },
   {
    "duration": 2386,
    "start_time": "2023-06-08T19:33:58.952Z"
   }
  ],
  "kernelspec": {
   "display_name": "Python 3 (ipykernel)",
   "language": "python",
   "name": "python3"
  },
  "language_info": {
   "codemirror_mode": {
    "name": "ipython",
    "version": 3
   },
   "file_extension": ".py",
   "mimetype": "text/x-python",
   "name": "python",
   "nbconvert_exporter": "python",
   "pygments_lexer": "ipython3",
   "version": "3.9.7"
  },
  "toc": {
   "base_numbering": 1,
   "nav_menu": {},
   "number_sections": true,
   "sideBar": true,
   "skip_h1_title": true,
   "title_cell": "Содержание",
   "title_sidebar": "Contents",
   "toc_cell": true,
   "toc_position": {
    "height": "calc(100% - 180px)",
    "left": "10px",
    "top": "150px",
    "width": "302.391px"
   },
   "toc_section_display": true,
   "toc_window_display": false
  }
 },
 "nbformat": 4,
 "nbformat_minor": 2
}
