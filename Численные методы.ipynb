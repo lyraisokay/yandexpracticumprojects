{
 "cells": [
  {
   "cell_type": "markdown",
   "metadata": {},
   "source": [
    "# Определение стоимости автомобилей"
   ]
  },
  {
   "cell_type": "markdown",
   "metadata": {},
   "source": [
    "Сервис по продаже автомобилей с пробегом «Не бит, не крашен» разрабатывает приложение для привлечения новых клиентов. В нём можно быстро узнать рыночную стоимость своего автомобиля. В вашем распоряжении исторические данные: технические характеристики, комплектации и цены автомобилей. Вам нужно построить модель для определения стоимости. \n",
    "\n",
    "Заказчику важны:\n",
    "\n",
    "- качество предсказания;\n",
    "- скорость предсказания;\n",
    "- время обучения."
   ]
  },
  {
   "cell_type": "markdown",
   "metadata": {},
   "source": [
    "<b>Признаки</b>\n",
    "\n",
    "<br>DateCrawled — дата скачивания анкеты из базы\n",
    "<br>VehicleType — тип автомобильного кузова\n",
    "<br>RegistrationYear — год регистрации автомобиля\n",
    "<br>Gearbox — тип коробки передач\n",
    "<br>Power — мощность (л. с.)\n",
    "<br>Model — модель автомобиля\n",
    "<br>Kilometer — пробег (км)\n",
    "<br>RegistrationMonth — месяц регистрации автомобиля\n",
    "<br>FuelType — тип топлива\n",
    "<br>Brand — марка автомобиля\n",
    "<br>Repaired — была машина в ремонте или нет\n",
    "<br>DateCreated — дата создания анкеты\n",
    "<br>NumberOfPictures — количество фотографий автомобиля\n",
    "<br>PostalCode — почтовый индекс владельца анкеты (пользователя)\n",
    "<br>LastSeen — дата последней активности пользователя\n",
    "\n",
    "<br><b>Целевой признак</b>\n",
    "<br>Price — цена (евро)"
   ]
  },
  {
   "cell_type": "markdown",
   "metadata": {},
   "source": [
    "## Подготовка данных"
   ]
  },
  {
   "cell_type": "code",
   "execution_count": 1,
   "metadata": {},
   "outputs": [],
   "source": [
    "import numpy as np\n",
    "import pandas as pd\n",
    "import warnings\n",
    "warnings.filterwarnings('ignore')\n",
    "import datetime as DT\n",
    "import matplotlib.pyplot as plt\n",
    "\n",
    "from sklearn.dummy import DummyClassifier\n",
    "from catboost import CatBoostRegressor\n",
    "from sklearn.model_selection import train_test_split\n",
    "from sklearn.model_selection import GridSearchCV\n",
    "from sklearn.preprocessing import OneHotEncoder\n",
    "import lightgbm as lgb\n",
    "from sklearn.metrics import mean_squared_error\n",
    "from sklearn.ensemble import RandomForestRegressor\n",
    "from sklearn.preprocessing import OrdinalEncoder\n"
   ]
  },
  {
   "cell_type": "code",
   "execution_count": 2,
   "metadata": {},
   "outputs": [],
   "source": [
    "data = pd.read_csv('/datasets/autos.csv')"
   ]
  },
  {
   "cell_type": "code",
   "execution_count": 3,
   "metadata": {},
   "outputs": [
    {
     "data": {
      "text/html": [
       "<div>\n",
       "<style scoped>\n",
       "    .dataframe tbody tr th:only-of-type {\n",
       "        vertical-align: middle;\n",
       "    }\n",
       "\n",
       "    .dataframe tbody tr th {\n",
       "        vertical-align: top;\n",
       "    }\n",
       "\n",
       "    .dataframe thead th {\n",
       "        text-align: right;\n",
       "    }\n",
       "</style>\n",
       "<table border=\"1\" class=\"dataframe\">\n",
       "  <thead>\n",
       "    <tr style=\"text-align: right;\">\n",
       "      <th></th>\n",
       "      <th>DateCrawled</th>\n",
       "      <th>Price</th>\n",
       "      <th>VehicleType</th>\n",
       "      <th>RegistrationYear</th>\n",
       "      <th>Gearbox</th>\n",
       "      <th>Power</th>\n",
       "      <th>Model</th>\n",
       "      <th>Kilometer</th>\n",
       "      <th>RegistrationMonth</th>\n",
       "      <th>FuelType</th>\n",
       "      <th>Brand</th>\n",
       "      <th>Repaired</th>\n",
       "      <th>DateCreated</th>\n",
       "      <th>NumberOfPictures</th>\n",
       "      <th>PostalCode</th>\n",
       "      <th>LastSeen</th>\n",
       "    </tr>\n",
       "  </thead>\n",
       "  <tbody>\n",
       "    <tr>\n",
       "      <th>0</th>\n",
       "      <td>2016-03-24 11:52:17</td>\n",
       "      <td>480</td>\n",
       "      <td>NaN</td>\n",
       "      <td>1993</td>\n",
       "      <td>manual</td>\n",
       "      <td>0</td>\n",
       "      <td>golf</td>\n",
       "      <td>150000</td>\n",
       "      <td>0</td>\n",
       "      <td>petrol</td>\n",
       "      <td>volkswagen</td>\n",
       "      <td>NaN</td>\n",
       "      <td>2016-03-24 00:00:00</td>\n",
       "      <td>0</td>\n",
       "      <td>70435</td>\n",
       "      <td>2016-04-07 03:16:57</td>\n",
       "    </tr>\n",
       "    <tr>\n",
       "      <th>1</th>\n",
       "      <td>2016-03-24 10:58:45</td>\n",
       "      <td>18300</td>\n",
       "      <td>coupe</td>\n",
       "      <td>2011</td>\n",
       "      <td>manual</td>\n",
       "      <td>190</td>\n",
       "      <td>NaN</td>\n",
       "      <td>125000</td>\n",
       "      <td>5</td>\n",
       "      <td>gasoline</td>\n",
       "      <td>audi</td>\n",
       "      <td>yes</td>\n",
       "      <td>2016-03-24 00:00:00</td>\n",
       "      <td>0</td>\n",
       "      <td>66954</td>\n",
       "      <td>2016-04-07 01:46:50</td>\n",
       "    </tr>\n",
       "    <tr>\n",
       "      <th>2</th>\n",
       "      <td>2016-03-14 12:52:21</td>\n",
       "      <td>9800</td>\n",
       "      <td>suv</td>\n",
       "      <td>2004</td>\n",
       "      <td>auto</td>\n",
       "      <td>163</td>\n",
       "      <td>grand</td>\n",
       "      <td>125000</td>\n",
       "      <td>8</td>\n",
       "      <td>gasoline</td>\n",
       "      <td>jeep</td>\n",
       "      <td>NaN</td>\n",
       "      <td>2016-03-14 00:00:00</td>\n",
       "      <td>0</td>\n",
       "      <td>90480</td>\n",
       "      <td>2016-04-05 12:47:46</td>\n",
       "    </tr>\n",
       "    <tr>\n",
       "      <th>3</th>\n",
       "      <td>2016-03-17 16:54:04</td>\n",
       "      <td>1500</td>\n",
       "      <td>small</td>\n",
       "      <td>2001</td>\n",
       "      <td>manual</td>\n",
       "      <td>75</td>\n",
       "      <td>golf</td>\n",
       "      <td>150000</td>\n",
       "      <td>6</td>\n",
       "      <td>petrol</td>\n",
       "      <td>volkswagen</td>\n",
       "      <td>no</td>\n",
       "      <td>2016-03-17 00:00:00</td>\n",
       "      <td>0</td>\n",
       "      <td>91074</td>\n",
       "      <td>2016-03-17 17:40:17</td>\n",
       "    </tr>\n",
       "    <tr>\n",
       "      <th>4</th>\n",
       "      <td>2016-03-31 17:25:20</td>\n",
       "      <td>3600</td>\n",
       "      <td>small</td>\n",
       "      <td>2008</td>\n",
       "      <td>manual</td>\n",
       "      <td>69</td>\n",
       "      <td>fabia</td>\n",
       "      <td>90000</td>\n",
       "      <td>7</td>\n",
       "      <td>gasoline</td>\n",
       "      <td>skoda</td>\n",
       "      <td>no</td>\n",
       "      <td>2016-03-31 00:00:00</td>\n",
       "      <td>0</td>\n",
       "      <td>60437</td>\n",
       "      <td>2016-04-06 10:17:21</td>\n",
       "    </tr>\n",
       "  </tbody>\n",
       "</table>\n",
       "</div>"
      ],
      "text/plain": [
       "           DateCrawled  Price VehicleType  RegistrationYear Gearbox  Power  \\\n",
       "0  2016-03-24 11:52:17    480         NaN              1993  manual      0   \n",
       "1  2016-03-24 10:58:45  18300       coupe              2011  manual    190   \n",
       "2  2016-03-14 12:52:21   9800         suv              2004    auto    163   \n",
       "3  2016-03-17 16:54:04   1500       small              2001  manual     75   \n",
       "4  2016-03-31 17:25:20   3600       small              2008  manual     69   \n",
       "\n",
       "   Model  Kilometer  RegistrationMonth  FuelType       Brand Repaired  \\\n",
       "0   golf     150000                  0    petrol  volkswagen      NaN   \n",
       "1    NaN     125000                  5  gasoline        audi      yes   \n",
       "2  grand     125000                  8  gasoline        jeep      NaN   \n",
       "3   golf     150000                  6    petrol  volkswagen       no   \n",
       "4  fabia      90000                  7  gasoline       skoda       no   \n",
       "\n",
       "           DateCreated  NumberOfPictures  PostalCode             LastSeen  \n",
       "0  2016-03-24 00:00:00                 0       70435  2016-04-07 03:16:57  \n",
       "1  2016-03-24 00:00:00                 0       66954  2016-04-07 01:46:50  \n",
       "2  2016-03-14 00:00:00                 0       90480  2016-04-05 12:47:46  \n",
       "3  2016-03-17 00:00:00                 0       91074  2016-03-17 17:40:17  \n",
       "4  2016-03-31 00:00:00                 0       60437  2016-04-06 10:17:21  "
      ]
     },
     "execution_count": 3,
     "metadata": {},
     "output_type": "execute_result"
    }
   ],
   "source": [
    "data.head()"
   ]
  },
  {
   "cell_type": "code",
   "execution_count": 4,
   "metadata": {},
   "outputs": [
    {
     "name": "stdout",
     "output_type": "stream",
     "text": [
      "<class 'pandas.core.frame.DataFrame'>\n",
      "RangeIndex: 354369 entries, 0 to 354368\n",
      "Data columns (total 16 columns):\n",
      " #   Column             Non-Null Count   Dtype \n",
      "---  ------             --------------   ----- \n",
      " 0   DateCrawled        354369 non-null  object\n",
      " 1   Price              354369 non-null  int64 \n",
      " 2   VehicleType        316879 non-null  object\n",
      " 3   RegistrationYear   354369 non-null  int64 \n",
      " 4   Gearbox            334536 non-null  object\n",
      " 5   Power              354369 non-null  int64 \n",
      " 6   Model              334664 non-null  object\n",
      " 7   Kilometer          354369 non-null  int64 \n",
      " 8   RegistrationMonth  354369 non-null  int64 \n",
      " 9   FuelType           321474 non-null  object\n",
      " 10  Brand              354369 non-null  object\n",
      " 11  Repaired           283215 non-null  object\n",
      " 12  DateCreated        354369 non-null  object\n",
      " 13  NumberOfPictures   354369 non-null  int64 \n",
      " 14  PostalCode         354369 non-null  int64 \n",
      " 15  LastSeen           354369 non-null  object\n",
      "dtypes: int64(7), object(9)\n",
      "memory usage: 43.3+ MB\n"
     ]
    }
   ],
   "source": [
    "data.info()"
   ]
  },
  {
   "cell_type": "code",
   "execution_count": 5,
   "metadata": {},
   "outputs": [
    {
     "data": {
      "text/plain": [
       "DateCrawled              0\n",
       "Price                    0\n",
       "VehicleType          37490\n",
       "RegistrationYear         0\n",
       "Gearbox              19833\n",
       "Power                    0\n",
       "Model                19705\n",
       "Kilometer                0\n",
       "RegistrationMonth        0\n",
       "FuelType             32895\n",
       "Brand                    0\n",
       "Repaired             71154\n",
       "DateCreated              0\n",
       "NumberOfPictures         0\n",
       "PostalCode               0\n",
       "LastSeen                 0\n",
       "dtype: int64"
      ]
     },
     "execution_count": 5,
     "metadata": {},
     "output_type": "execute_result"
    }
   ],
   "source": [
    "data.isna().sum()"
   ]
  },
  {
   "cell_type": "markdown",
   "metadata": {},
   "source": [
    "Много пропущенных значений:\n",
    "\n",
    "<br>VehicleType — тип автомобильного кузова\n",
    "<br>Gearbox — тип коробки передач\n",
    "<br>Model — модель автомобиля\n",
    "<br>FuelType — тип топлива\n",
    "<br>Repaired — была машина в ремонте или нет"
   ]
  },
  {
   "cell_type": "code",
   "execution_count": 6,
   "metadata": {},
   "outputs": [
    {
     "data": {
      "text/plain": [
       "sedan          91457\n",
       "small          79831\n",
       "wagon          65166\n",
       "bus            28775\n",
       "convertible    20203\n",
       "coupe          16163\n",
       "suv            11996\n",
       "other           3288\n",
       "Name: VehicleType, dtype: int64"
      ]
     },
     "execution_count": 6,
     "metadata": {},
     "output_type": "execute_result"
    }
   ],
   "source": [
    "data['VehicleType'].value_counts()"
   ]
  },
  {
   "cell_type": "code",
   "execution_count": 7,
   "metadata": {},
   "outputs": [
    {
     "data": {
      "text/plain": [
       "manual    268251\n",
       "auto       66285\n",
       "Name: Gearbox, dtype: int64"
      ]
     },
     "execution_count": 7,
     "metadata": {},
     "output_type": "execute_result"
    }
   ],
   "source": [
    "data['Gearbox'].value_counts()"
   ]
  },
  {
   "cell_type": "code",
   "execution_count": 8,
   "metadata": {},
   "outputs": [
    {
     "data": {
      "text/plain": [
       "golf                  29232\n",
       "other                 24421\n",
       "3er                   19761\n",
       "polo                  13066\n",
       "corsa                 12570\n",
       "                      ...  \n",
       "i3                        8\n",
       "serie_3                   4\n",
       "rangerover                4\n",
       "range_rover_evoque        2\n",
       "serie_1                   2\n",
       "Name: Model, Length: 250, dtype: int64"
      ]
     },
     "execution_count": 8,
     "metadata": {},
     "output_type": "execute_result"
    }
   ],
   "source": [
    "data['Model'].value_counts()"
   ]
  },
  {
   "cell_type": "code",
   "execution_count": 9,
   "metadata": {},
   "outputs": [
    {
     "data": {
      "text/plain": [
       "petrol      216352\n",
       "gasoline     98720\n",
       "lpg           5310\n",
       "cng            565\n",
       "hybrid         233\n",
       "other          204\n",
       "electric        90\n",
       "Name: FuelType, dtype: int64"
      ]
     },
     "execution_count": 9,
     "metadata": {},
     "output_type": "execute_result"
    }
   ],
   "source": [
    "data['FuelType'].value_counts()"
   ]
  },
  {
   "cell_type": "code",
   "execution_count": 10,
   "metadata": {},
   "outputs": [
    {
     "data": {
      "text/plain": [
       "no     247161\n",
       "yes     36054\n",
       "Name: Repaired, dtype: int64"
      ]
     },
     "execution_count": 10,
     "metadata": {},
     "output_type": "execute_result"
    }
   ],
   "source": [
    "data['Repaired'].value_counts() "
   ]
  },
  {
   "cell_type": "markdown",
   "metadata": {},
   "source": [
    "Тут самый часто встречаемый вариант \"no\", попробуем заменить пропуски на него.\n"
   ]
  },
  {
   "cell_type": "code",
   "execution_count": 11,
   "metadata": {},
   "outputs": [],
   "source": [
    "data['Repaired'] = data['Repaired'].fillna(\"no\")"
   ]
  },
  {
   "cell_type": "code",
   "execution_count": 12,
   "metadata": {},
   "outputs": [
    {
     "data": {
      "text/plain": [
       "5"
      ]
     },
     "execution_count": 12,
     "metadata": {},
     "output_type": "execute_result"
    }
   ],
   "source": [
    "data.duplicated().sum()"
   ]
  },
  {
   "cell_type": "markdown",
   "metadata": {},
   "source": [
    "Я бы предложила дропнуть все пропущенные значения и дубликаты"
   ]
  },
  {
   "cell_type": "code",
   "execution_count": 13,
   "metadata": {},
   "outputs": [],
   "source": [
    "data = data.dropna()\n",
    "data = data.drop_duplicates()"
   ]
  },
  {
   "cell_type": "code",
   "execution_count": 14,
   "metadata": {},
   "outputs": [
    {
     "name": "stdout",
     "output_type": "stream",
     "text": [
      "<class 'pandas.core.frame.DataFrame'>\n",
      "Int64Index: 284121 entries, 2 to 354368\n",
      "Data columns (total 16 columns):\n",
      " #   Column             Non-Null Count   Dtype \n",
      "---  ------             --------------   ----- \n",
      " 0   DateCrawled        284121 non-null  object\n",
      " 1   Price              284121 non-null  int64 \n",
      " 2   VehicleType        284121 non-null  object\n",
      " 3   RegistrationYear   284121 non-null  int64 \n",
      " 4   Gearbox            284121 non-null  object\n",
      " 5   Power              284121 non-null  int64 \n",
      " 6   Model              284121 non-null  object\n",
      " 7   Kilometer          284121 non-null  int64 \n",
      " 8   RegistrationMonth  284121 non-null  int64 \n",
      " 9   FuelType           284121 non-null  object\n",
      " 10  Brand              284121 non-null  object\n",
      " 11  Repaired           284121 non-null  object\n",
      " 12  DateCreated        284121 non-null  object\n",
      " 13  NumberOfPictures   284121 non-null  int64 \n",
      " 14  PostalCode         284121 non-null  int64 \n",
      " 15  LastSeen           284121 non-null  object\n",
      "dtypes: int64(7), object(9)\n",
      "memory usage: 36.9+ MB\n"
     ]
    }
   ],
   "source": [
    "data.info()"
   ]
  },
  {
   "cell_type": "code",
   "execution_count": 15,
   "metadata": {},
   "outputs": [
    {
     "data": {
      "text/plain": [
       "DateCrawled          0\n",
       "Price                0\n",
       "VehicleType          0\n",
       "RegistrationYear     0\n",
       "Gearbox              0\n",
       "Power                0\n",
       "Model                0\n",
       "Kilometer            0\n",
       "RegistrationMonth    0\n",
       "FuelType             0\n",
       "Brand                0\n",
       "Repaired             0\n",
       "DateCreated          0\n",
       "NumberOfPictures     0\n",
       "PostalCode           0\n",
       "LastSeen             0\n",
       "dtype: int64"
      ]
     },
     "execution_count": 15,
     "metadata": {},
     "output_type": "execute_result"
    }
   ],
   "source": [
    "data.isna().sum()"
   ]
  },
  {
   "cell_type": "markdown",
   "metadata": {},
   "source": [
    "Посмотрим данные с датами"
   ]
  },
  {
   "cell_type": "code",
   "execution_count": 16,
   "metadata": {},
   "outputs": [
    {
     "name": "stdout",
     "output_type": "stream",
     "text": [
      "2016-03-05 14:06:22\n",
      "2016-04-07 14:36:58\n"
     ]
    }
   ],
   "source": [
    "print(data['DateCrawled'].min())\n",
    "print(data['DateCrawled'].max())"
   ]
  },
  {
   "cell_type": "code",
   "execution_count": 17,
   "metadata": {},
   "outputs": [
    {
     "name": "stdout",
     "output_type": "stream",
     "text": [
      "2015-03-20 00:00:00\n",
      "2016-04-07 00:00:00\n"
     ]
    }
   ],
   "source": [
    "print(data['DateCreated'].min())\n",
    "print(data['DateCreated'].max())"
   ]
  },
  {
   "cell_type": "code",
   "execution_count": 18,
   "metadata": {},
   "outputs": [
    {
     "name": "stdout",
     "output_type": "stream",
     "text": [
      "2016-03-05 14:15:16\n",
      "2016-04-07 14:58:51\n"
     ]
    }
   ],
   "source": [
    "print(data['LastSeen'].min())\n",
    "print(data['LastSeen'].max())"
   ]
  },
  {
   "cell_type": "code",
   "execution_count": 19,
   "metadata": {},
   "outputs": [
    {
     "data": {
      "text/plain": [
       "3     29692\n",
       "6     26596\n",
       "4     24856\n",
       "5     24627\n",
       "7     23126\n",
       "10    22355\n",
       "12    20670\n",
       "9     20547\n",
       "11    20500\n",
       "1     19609\n",
       "8     19218\n",
       "2     18302\n",
       "0     14023\n",
       "Name: RegistrationMonth, dtype: int64"
      ]
     },
     "execution_count": 19,
     "metadata": {},
     "output_type": "execute_result"
    }
   ],
   "source": [
    "data['RegistrationMonth'].value_counts()"
   ]
  },
  {
   "cell_type": "markdown",
   "metadata": {},
   "source": [
    "Месяц 0 предлагаю дропнуть"
   ]
  },
  {
   "cell_type": "code",
   "execution_count": 20,
   "metadata": {},
   "outputs": [],
   "source": [
    "#data = data[data['RegistrationMonth']> 0]\n",
    "data = data.drop(['RegistrationMonth'], axis=1)"
   ]
  },
  {
   "cell_type": "code",
   "execution_count": 21,
   "metadata": {},
   "outputs": [
    {
     "data": {
      "text/plain": [
       "1999    19675\n",
       "2006    18170\n",
       "2003    17901\n",
       "2005    17877\n",
       "2004    17852\n",
       "        ...  \n",
       "1931        1\n",
       "1928        1\n",
       "1927        1\n",
       "1947        1\n",
       "1919        1\n",
       "Name: RegistrationYear, Length: 88, dtype: int64"
      ]
     },
     "execution_count": 21,
     "metadata": {},
     "output_type": "execute_result"
    }
   ],
   "source": [
    "data['RegistrationYear'].value_counts()"
   ]
  },
  {
   "cell_type": "code",
   "execution_count": 22,
   "metadata": {},
   "outputs": [
    {
     "name": "stdout",
     "output_type": "stream",
     "text": [
      "1910\n",
      "2018\n"
     ]
    }
   ],
   "source": [
    "print(data['RegistrationYear'].min())\n",
    "print(data['RegistrationYear'].max())"
   ]
  },
  {
   "cell_type": "markdown",
   "metadata": {},
   "source": [
    "Предлагаю взять данные хотя бы от 2000 года."
   ]
  },
  {
   "cell_type": "code",
   "execution_count": 23,
   "metadata": {},
   "outputs": [
    {
     "data": {
      "text/plain": [
       "2006    18170\n",
       "2003    17901\n",
       "2005    17877\n",
       "2004    17852\n",
       "2001    17813\n",
       "2000    17247\n",
       "2002    17080\n",
       "2007    15704\n",
       "2008    14215\n",
       "2009    13530\n",
       "2010    10083\n",
       "2011     9374\n",
       "2012     6798\n",
       "2013     3891\n",
       "2014     2374\n",
       "2015     1035\n",
       "2016      149\n",
       "Name: RegistrationYear, dtype: int64"
      ]
     },
     "execution_count": 23,
     "metadata": {},
     "output_type": "execute_result"
    }
   ],
   "source": [
    "data = data[data['RegistrationYear']> 1999]\n",
    "data = data[data['RegistrationYear']< 2017]\n",
    "data['RegistrationYear'].value_counts()"
   ]
  },
  {
   "cell_type": "code",
   "execution_count": 24,
   "metadata": {},
   "outputs": [
    {
     "data": {
      "text/plain": [
       "Price               0\n",
       "VehicleType         0\n",
       "RegistrationYear    0\n",
       "Gearbox             0\n",
       "Power               0\n",
       "Model               0\n",
       "Kilometer           0\n",
       "FuelType            0\n",
       "Brand               0\n",
       "Repaired            0\n",
       "NumberOfPictures    0\n",
       "dtype: int64"
      ]
     },
     "execution_count": 24,
     "metadata": {},
     "output_type": "execute_result"
    }
   ],
   "source": [
    "data_to_ohe = data.drop(['DateCrawled', 'LastSeen', 'DateCreated', 'PostalCode'], axis=1)\n",
    "data_to_ohe.isna().sum()"
   ]
  },
  {
   "cell_type": "markdown",
   "metadata": {},
   "source": [
    "## Обучение моделей"
   ]
  },
  {
   "cell_type": "code",
   "execution_count": 28,
   "metadata": {},
   "outputs": [],
   "source": [
    "df_train, df_valid = train_test_split(data_to_ohe, test_size=0.20, random_state=12345) "
   ]
  },
  {
   "cell_type": "code",
   "execution_count": 29,
   "metadata": {},
   "outputs": [],
   "source": [
    "df_features_train = df_train.drop(['Price'], axis=1)\n",
    "df_target_train = df_train['Price']\n",
    "features_valid = df_valid.drop(['Price'], axis=1)\n",
    "target_valid = df_valid['Price']"
   ]
  },
  {
   "cell_type": "code",
   "execution_count": 30,
   "metadata": {},
   "outputs": [],
   "source": [
    "features_train, features_test,target_train, target_test  = train_test_split(df_features_train, df_target_train, \n",
    "                                                                            test_size = 0.25, random_state=12345)"
   ]
  },
  {
   "cell_type": "code",
   "execution_count": 31,
   "metadata": {},
   "outputs": [],
   "source": [
    "features_train_ohe = pd.get_dummies(features_train, drop_first=True)\n",
    "features_valid_ohe = pd.get_dummies(features_valid, drop_first=True)\n",
    "features_test_ohe = pd.get_dummies(features_test, drop_first=True)\n",
    "# после прямого кодирования кол-во признаков в выборках будет отличаться\n",
    "# поэтому стоит удалить лишние признаки в каждой выборке\n",
    "\n",
    "# Найдем общие признаки между обучающей, валидационной и тестовой выборками\n",
    "common_columns = set(features_train_ohe.columns) & set(features_valid_ohe.columns) & set(features_test_ohe.columns)\n",
    "\n",
    "# Оставим в каждой выборке только общие признаки\n",
    "features_train_ohe = features_train_ohe[list(common_columns)]\n",
    "features_valid_ohe = features_valid_ohe[list(common_columns)]\n",
    "features_test_ohe = features_test_ohe[list(common_columns)]"
   ]
  },
  {
   "cell_type": "code",
   "execution_count": 32,
   "metadata": {},
   "outputs": [
    {
     "name": "stdout",
     "output_type": "stream",
     "text": [
      "\n",
      " Размер датасета (201093, 11) \n",
      " Признаки тренеровочной выборки (120655, 10) \n",
      " Таргет тренировочной выборки (120655,) \n",
      " Признаки валид. выборки (40219, 10) \n",
      " Таргет валид. выборки (40219,) \n",
      " Признаки тестовой (40219, 10) \n",
      " Таргет тестовой (40219,)\n"
     ]
    }
   ],
   "source": [
    "print('\\n','Размер датасета',data_to_ohe.shape,'\\n', 'Признаки тренеровочной выборки',features_train.shape,'\\n','Таргет тренировочной выборки', target_train.shape,'\\n','Признаки валид. выборки', features_valid.shape,'\\n','Таргет валид. выборки', target_valid.shape,'\\n','Признаки тестовой', features_test.shape,'\\n','Таргет тестовой', target_test.shape)\n"
   ]
  },
  {
   "cell_type": "markdown",
   "metadata": {},
   "source": [
    "### GBM"
   ]
  },
  {
   "cell_type": "markdown",
   "metadata": {},
   "source": [
    "Хотелось бы сразу написать комментарий почему я не стала добавлять грид сёрч по gbm. Потому что там время на подбор параметров у меня уходило почти 2-3 часа, не хочу замедлять отработку кода своего ноутбука, поэтому я вручную просто подобрала параметры для модели."
   ]
  },
  {
   "cell_type": "code",
   "execution_count": 33,
   "metadata": {},
   "outputs": [],
   "source": [
    "gbm = lgb.LGBMRegressor(random_state=12345,max_depth = 10, n_estimators = 500, learning_rate=0.1)"
   ]
  },
  {
   "cell_type": "code",
   "execution_count": 34,
   "metadata": {},
   "outputs": [
    {
     "name": "stdout",
     "output_type": "stream",
     "text": [
      "CPU times: user 13.5 s, sys: 179 ms, total: 13.7 s\n",
      "Wall time: 13.9 s\n"
     ]
    },
    {
     "data": {
      "text/plain": [
       "LGBMRegressor(max_depth=10, n_estimators=500, random_state=12345)"
      ]
     },
     "execution_count": 34,
     "metadata": {},
     "output_type": "execute_result"
    }
   ],
   "source": [
    "%%time\n",
    "gbm.fit(features_train_ohe, target_train)"
   ]
  },
  {
   "cell_type": "code",
   "execution_count": 35,
   "metadata": {},
   "outputs": [
    {
     "name": "stdout",
     "output_type": "stream",
     "text": [
      "CPU times: user 1.37 s, sys: 56.3 ms, total: 1.42 s\n",
      "Wall time: 1.41 s\n"
     ]
    }
   ],
   "source": [
    "%%time\n",
    "predict = gbm.predict(features_valid_ohe)"
   ]
  },
  {
   "cell_type": "code",
   "execution_count": 36,
   "metadata": {},
   "outputs": [
    {
     "name": "stdout",
     "output_type": "stream",
     "text": [
      "RMSE: 1695.22\n"
     ]
    }
   ],
   "source": [
    "mse = mean_squared_error(target_valid, predict)\n",
    "rmse = mse**(0.5)\n",
    "print(\"RMSE: %.2f\" % rmse) "
   ]
  },
  {
   "cell_type": "markdown",
   "metadata": {},
   "source": [
    "### Catboost"
   ]
  },
  {
   "cell_type": "code",
   "execution_count": 3,
   "metadata": {},
   "outputs": [
    {
     "ename": "NameError",
     "evalue": "name 'CatBoostRegressor' is not defined",
     "output_type": "error",
     "traceback": [
      "\u001b[0;31m---------------------------------------------------------------------------\u001b[0m",
      "\u001b[0;31mNameError\u001b[0m                                 Traceback (most recent call last)",
      "\u001b[0;32m/tmp/ipykernel_70/1600756715.py\u001b[0m in \u001b[0;36m<module>\u001b[0;34m\u001b[0m\n\u001b[0;32m----> 1\u001b[0;31m \u001b[0mcatboost\u001b[0m \u001b[0;34m=\u001b[0m \u001b[0mCatBoostRegressor\u001b[0m\u001b[0;34m(\u001b[0m\u001b[0;34m)\u001b[0m\u001b[0;34m\u001b[0m\u001b[0;34m\u001b[0m\u001b[0m\n\u001b[0m\u001b[1;32m      2\u001b[0m params_cat = {'learning_rate': [0.03, 0.1, 0.2],\n\u001b[1;32m      3\u001b[0m         'depth': [4, 6, 10]}\n\u001b[1;32m      4\u001b[0m \u001b[0;34m\u001b[0m\u001b[0m\n\u001b[1;32m      5\u001b[0m grid_catboost = catboost.grid_search(params_cat,\n",
      "\u001b[0;31mNameError\u001b[0m: name 'CatBoostRegressor' is not defined"
     ]
    }
   ],
   "source": [
    "catboost = CatBoostRegressor()\n",
    "params_cat = {'learning_rate': [0.03, 0.1, 0.2],\n",
    "        'depth': [4, 6, 10],\n",
    "        'loss_function': ['RMSE']}\n",
    "\n",
    "grid_catboost = catboost.grid_search(params_cat,\n",
    "                                       X=features_train_ohe,\n",
    "                                       y=target_train,\n",
    "                                       plot=True)"
   ]
  },
  {
   "cell_type": "code",
   "execution_count": 38,
   "metadata": {},
   "outputs": [
    {
     "data": {
      "text/plain": [
       "{'depth': 10, 'learning_rate': 0.2}"
      ]
     },
     "execution_count": 38,
     "metadata": {},
     "output_type": "execute_result"
    }
   ],
   "source": [
    "grid_catboost[\"params\"]"
   ]
  },
  {
   "cell_type": "markdown",
   "metadata": {},
   "source": [
    "Замерим время обучения с подобранными параметрами."
   ]
  },
  {
   "cell_type": "code",
   "execution_count": 39,
   "metadata": {
    "scrolled": true
   },
   "outputs": [
    {
     "name": "stdout",
     "output_type": "stream",
     "text": [
      "0:\tlearn: 4101.7892994\ttotal: 41.1ms\tremaining: 41s\n",
      "1:\tlearn: 3602.7947641\ttotal: 76.7ms\tremaining: 38.3s\n",
      "2:\tlearn: 3208.8514754\ttotal: 119ms\tremaining: 39.4s\n",
      "3:\tlearn: 2904.7913350\ttotal: 154ms\tremaining: 38.2s\n",
      "4:\tlearn: 2688.9645443\ttotal: 188ms\tremaining: 37.4s\n",
      "5:\tlearn: 2508.5826306\ttotal: 236ms\tremaining: 39s\n",
      "6:\tlearn: 2375.1547334\ttotal: 271ms\tremaining: 38.4s\n",
      "7:\tlearn: 2277.3322156\ttotal: 313ms\tremaining: 38.8s\n",
      "8:\tlearn: 2202.3515827\ttotal: 350ms\tremaining: 38.5s\n",
      "9:\tlearn: 2142.4230577\ttotal: 386ms\tremaining: 38.2s\n",
      "10:\tlearn: 2090.0910778\ttotal: 430ms\tremaining: 38.7s\n",
      "11:\tlearn: 2052.4742381\ttotal: 468ms\tremaining: 38.6s\n",
      "12:\tlearn: 2019.9557966\ttotal: 514ms\tremaining: 39s\n",
      "13:\tlearn: 1995.5642245\ttotal: 549ms\tremaining: 38.7s\n",
      "14:\tlearn: 1976.5826869\ttotal: 583ms\tremaining: 38.3s\n",
      "15:\tlearn: 1963.0218188\ttotal: 629ms\tremaining: 38.7s\n",
      "16:\tlearn: 1944.9961047\ttotal: 663ms\tremaining: 38.4s\n",
      "17:\tlearn: 1930.5889864\ttotal: 710ms\tremaining: 38.7s\n",
      "18:\tlearn: 1920.1499254\ttotal: 748ms\tremaining: 38.6s\n",
      "19:\tlearn: 1911.1119691\ttotal: 784ms\tremaining: 38.4s\n",
      "20:\tlearn: 1902.2760547\ttotal: 834ms\tremaining: 38.9s\n",
      "21:\tlearn: 1895.6876983\ttotal: 872ms\tremaining: 38.8s\n",
      "22:\tlearn: 1888.7868943\ttotal: 919ms\tremaining: 39s\n",
      "23:\tlearn: 1882.3305955\ttotal: 955ms\tremaining: 38.8s\n",
      "24:\tlearn: 1876.9333100\ttotal: 998ms\tremaining: 38.9s\n",
      "25:\tlearn: 1869.2801762\ttotal: 1.03s\tremaining: 38.8s\n",
      "26:\tlearn: 1864.2243114\ttotal: 1.07s\tremaining: 38.6s\n",
      "27:\tlearn: 1858.0979804\ttotal: 1.12s\tremaining: 38.9s\n",
      "28:\tlearn: 1852.5344277\ttotal: 1.15s\tremaining: 38.7s\n",
      "29:\tlearn: 1849.5635256\ttotal: 1.2s\tremaining: 38.6s\n",
      "30:\tlearn: 1845.3119781\ttotal: 1.23s\tremaining: 38.5s\n",
      "31:\tlearn: 1842.1247859\ttotal: 1.27s\tremaining: 38.3s\n",
      "32:\tlearn: 1837.6816880\ttotal: 1.32s\tremaining: 38.6s\n",
      "33:\tlearn: 1830.9756295\ttotal: 1.35s\tremaining: 38.4s\n",
      "34:\tlearn: 1828.2480996\ttotal: 1.39s\tremaining: 38.4s\n",
      "35:\tlearn: 1824.4410733\ttotal: 1.43s\tremaining: 38.3s\n",
      "36:\tlearn: 1821.0537473\ttotal: 1.46s\tremaining: 38.1s\n",
      "37:\tlearn: 1816.4649600\ttotal: 1.51s\tremaining: 38.1s\n",
      "38:\tlearn: 1811.7545195\ttotal: 1.55s\tremaining: 38.3s\n",
      "39:\tlearn: 1807.7694566\ttotal: 1.6s\tremaining: 38.3s\n",
      "40:\tlearn: 1804.6464962\ttotal: 1.63s\tremaining: 38.2s\n",
      "41:\tlearn: 1802.8099275\ttotal: 1.67s\tremaining: 38s\n",
      "42:\tlearn: 1801.0669411\ttotal: 1.72s\tremaining: 38.2s\n",
      "43:\tlearn: 1798.0326553\ttotal: 1.75s\tremaining: 38s\n",
      "44:\tlearn: 1793.5316211\ttotal: 1.79s\tremaining: 38s\n",
      "45:\tlearn: 1791.3534751\ttotal: 1.83s\tremaining: 37.9s\n",
      "46:\tlearn: 1788.6652580\ttotal: 1.86s\tremaining: 37.7s\n",
      "47:\tlearn: 1786.8696273\ttotal: 1.9s\tremaining: 37.7s\n",
      "48:\tlearn: 1784.0487288\ttotal: 1.93s\tremaining: 37.5s\n",
      "49:\tlearn: 1780.4531189\ttotal: 1.97s\tremaining: 37.3s\n",
      "50:\tlearn: 1777.9446058\ttotal: 2.01s\tremaining: 37.3s\n",
      "51:\tlearn: 1775.8346353\ttotal: 2.04s\tremaining: 37.2s\n",
      "52:\tlearn: 1772.5559355\ttotal: 2.08s\tremaining: 37.1s\n",
      "53:\tlearn: 1770.1265471\ttotal: 2.11s\tremaining: 37s\n",
      "54:\tlearn: 1768.5467029\ttotal: 2.15s\tremaining: 36.9s\n",
      "55:\tlearn: 1766.1318448\ttotal: 2.2s\tremaining: 37s\n",
      "56:\tlearn: 1763.7732740\ttotal: 2.23s\tremaining: 36.9s\n",
      "57:\tlearn: 1760.9961920\ttotal: 2.27s\tremaining: 36.9s\n",
      "58:\tlearn: 1759.6194210\ttotal: 2.31s\tremaining: 36.8s\n",
      "59:\tlearn: 1756.2886653\ttotal: 2.34s\tremaining: 36.7s\n",
      "60:\tlearn: 1754.1186220\ttotal: 2.38s\tremaining: 36.7s\n",
      "61:\tlearn: 1751.0120610\ttotal: 2.42s\tremaining: 36.6s\n",
      "62:\tlearn: 1748.8389493\ttotal: 2.45s\tremaining: 36.5s\n",
      "63:\tlearn: 1744.9157382\ttotal: 2.5s\tremaining: 36.5s\n",
      "64:\tlearn: 1741.9290383\ttotal: 2.53s\tremaining: 36.4s\n",
      "65:\tlearn: 1740.1074598\ttotal: 2.57s\tremaining: 36.4s\n",
      "66:\tlearn: 1738.5271021\ttotal: 2.61s\tremaining: 36.3s\n",
      "67:\tlearn: 1737.0962879\ttotal: 2.64s\tremaining: 36.2s\n",
      "68:\tlearn: 1735.6686114\ttotal: 2.68s\tremaining: 36.2s\n",
      "69:\tlearn: 1733.1035203\ttotal: 2.72s\tremaining: 36.1s\n",
      "70:\tlearn: 1732.0928318\ttotal: 2.75s\tremaining: 36s\n",
      "71:\tlearn: 1730.6327270\ttotal: 2.8s\tremaining: 36.1s\n",
      "72:\tlearn: 1728.7919695\ttotal: 2.83s\tremaining: 36s\n",
      "73:\tlearn: 1726.7717893\ttotal: 2.88s\tremaining: 36s\n",
      "74:\tlearn: 1724.6284937\ttotal: 2.91s\tremaining: 35.9s\n",
      "75:\tlearn: 1722.3501938\ttotal: 2.95s\tremaining: 35.9s\n",
      "76:\tlearn: 1720.4661714\ttotal: 2.99s\tremaining: 35.9s\n",
      "77:\tlearn: 1718.2521703\ttotal: 3.03s\tremaining: 35.8s\n",
      "78:\tlearn: 1716.2209347\ttotal: 3.07s\tremaining: 35.8s\n",
      "79:\tlearn: 1714.4917418\ttotal: 3.11s\tremaining: 35.8s\n",
      "80:\tlearn: 1712.3990750\ttotal: 3.15s\tremaining: 35.7s\n",
      "81:\tlearn: 1710.4671127\ttotal: 3.18s\tremaining: 35.6s\n",
      "82:\tlearn: 1708.9108118\ttotal: 3.22s\tremaining: 35.5s\n",
      "83:\tlearn: 1707.1306384\ttotal: 3.26s\tremaining: 35.5s\n",
      "84:\tlearn: 1705.6936719\ttotal: 3.29s\tremaining: 35.4s\n",
      "85:\tlearn: 1703.8316684\ttotal: 3.32s\tremaining: 35.3s\n",
      "86:\tlearn: 1702.4621288\ttotal: 3.37s\tremaining: 35.3s\n",
      "87:\tlearn: 1701.0879856\ttotal: 3.4s\tremaining: 35.2s\n",
      "88:\tlearn: 1700.2278949\ttotal: 3.44s\tremaining: 35.2s\n",
      "89:\tlearn: 1699.0939353\ttotal: 3.47s\tremaining: 35.1s\n",
      "90:\tlearn: 1697.9051698\ttotal: 3.51s\tremaining: 35s\n",
      "91:\tlearn: 1696.9241186\ttotal: 3.55s\tremaining: 35s\n",
      "92:\tlearn: 1695.2001997\ttotal: 3.58s\tremaining: 35s\n",
      "93:\tlearn: 1693.8994190\ttotal: 3.62s\tremaining: 34.9s\n",
      "94:\tlearn: 1692.5312099\ttotal: 3.66s\tremaining: 34.8s\n",
      "95:\tlearn: 1691.2529569\ttotal: 3.69s\tremaining: 34.7s\n",
      "96:\tlearn: 1689.4630396\ttotal: 3.72s\tremaining: 34.7s\n",
      "97:\tlearn: 1688.2344430\ttotal: 3.76s\tremaining: 34.6s\n",
      "98:\tlearn: 1686.8009781\ttotal: 3.8s\tremaining: 34.6s\n",
      "99:\tlearn: 1685.9965797\ttotal: 3.84s\tremaining: 34.5s\n",
      "100:\tlearn: 1684.0899319\ttotal: 3.87s\tremaining: 34.4s\n",
      "101:\tlearn: 1682.7913864\ttotal: 3.9s\tremaining: 34.3s\n",
      "102:\tlearn: 1681.2084059\ttotal: 3.95s\tremaining: 34.4s\n",
      "103:\tlearn: 1680.0875842\ttotal: 3.98s\tremaining: 34.3s\n",
      "104:\tlearn: 1678.8998537\ttotal: 4.02s\tremaining: 34.3s\n",
      "105:\tlearn: 1677.4129190\ttotal: 4.06s\tremaining: 34.2s\n",
      "106:\tlearn: 1676.0334793\ttotal: 4.09s\tremaining: 34.2s\n",
      "107:\tlearn: 1674.8307163\ttotal: 4.13s\tremaining: 34.1s\n",
      "108:\tlearn: 1673.5213085\ttotal: 4.17s\tremaining: 34.1s\n",
      "109:\tlearn: 1671.6820772\ttotal: 4.2s\tremaining: 34s\n",
      "110:\tlearn: 1670.6225416\ttotal: 4.25s\tremaining: 34s\n",
      "111:\tlearn: 1669.6483108\ttotal: 4.28s\tremaining: 33.9s\n",
      "112:\tlearn: 1668.8841338\ttotal: 4.32s\tremaining: 33.9s\n",
      "113:\tlearn: 1667.6071444\ttotal: 4.35s\tremaining: 33.8s\n",
      "114:\tlearn: 1666.0508653\ttotal: 4.39s\tremaining: 33.8s\n",
      "115:\tlearn: 1664.9800566\ttotal: 4.43s\tremaining: 33.8s\n",
      "116:\tlearn: 1663.9206326\ttotal: 4.46s\tremaining: 33.7s\n",
      "117:\tlearn: 1663.1962710\ttotal: 4.5s\tremaining: 33.6s\n",
      "118:\tlearn: 1661.8772557\ttotal: 4.54s\tremaining: 33.6s\n",
      "119:\tlearn: 1660.6356068\ttotal: 4.58s\tremaining: 33.6s\n",
      "120:\tlearn: 1659.5384507\ttotal: 4.62s\tremaining: 33.6s\n",
      "121:\tlearn: 1658.7314109\ttotal: 4.66s\tremaining: 33.5s\n",
      "122:\tlearn: 1657.5522439\ttotal: 4.69s\tremaining: 33.5s\n",
      "123:\tlearn: 1656.3091512\ttotal: 4.74s\tremaining: 33.5s\n",
      "124:\tlearn: 1655.4403360\ttotal: 4.78s\tremaining: 33.4s\n",
      "125:\tlearn: 1654.0504770\ttotal: 4.82s\tremaining: 33.5s\n",
      "126:\tlearn: 1653.0105709\ttotal: 4.86s\tremaining: 33.4s\n",
      "127:\tlearn: 1652.2755980\ttotal: 4.9s\tremaining: 33.4s\n",
      "128:\tlearn: 1650.8565878\ttotal: 4.94s\tremaining: 33.4s\n",
      "129:\tlearn: 1649.4450023\ttotal: 4.97s\tremaining: 33.3s\n",
      "130:\tlearn: 1648.4059040\ttotal: 5.02s\tremaining: 33.3s\n",
      "131:\tlearn: 1647.3736216\ttotal: 5.05s\tremaining: 33.2s\n",
      "132:\tlearn: 1646.8809498\ttotal: 5.09s\tremaining: 33.2s\n",
      "133:\tlearn: 1646.1818518\ttotal: 5.13s\tremaining: 33.2s\n",
      "134:\tlearn: 1645.4789612\ttotal: 5.17s\tremaining: 33.1s\n",
      "135:\tlearn: 1644.6572493\ttotal: 5.21s\tremaining: 33.1s\n",
      "136:\tlearn: 1643.4578104\ttotal: 5.25s\tremaining: 33.1s\n",
      "137:\tlearn: 1642.2808548\ttotal: 5.28s\tremaining: 33s\n",
      "138:\tlearn: 1641.2538335\ttotal: 5.32s\tremaining: 33s\n",
      "139:\tlearn: 1640.5139367\ttotal: 5.36s\tremaining: 32.9s\n",
      "140:\tlearn: 1640.0120593\ttotal: 5.39s\tremaining: 32.9s\n",
      "141:\tlearn: 1639.3467763\ttotal: 5.43s\tremaining: 32.8s\n",
      "142:\tlearn: 1638.3139759\ttotal: 5.46s\tremaining: 32.7s\n",
      "143:\tlearn: 1637.3075317\ttotal: 5.5s\tremaining: 32.7s\n",
      "144:\tlearn: 1636.5111707\ttotal: 5.54s\tremaining: 32.7s\n",
      "145:\tlearn: 1635.7996180\ttotal: 5.57s\tremaining: 32.6s\n",
      "146:\tlearn: 1634.5557679\ttotal: 5.61s\tremaining: 32.6s\n",
      "147:\tlearn: 1633.8511192\ttotal: 5.64s\tremaining: 32.5s\n",
      "148:\tlearn: 1632.9569131\ttotal: 5.68s\tremaining: 32.4s\n",
      "149:\tlearn: 1631.7531648\ttotal: 5.72s\tremaining: 32.4s\n",
      "150:\tlearn: 1630.0673554\ttotal: 5.75s\tremaining: 32.3s\n",
      "151:\tlearn: 1629.3474178\ttotal: 5.79s\tremaining: 32.3s\n",
      "152:\tlearn: 1628.6845821\ttotal: 5.83s\tremaining: 32.3s\n",
      "153:\tlearn: 1627.8534478\ttotal: 5.87s\tremaining: 32.2s\n",
      "154:\tlearn: 1627.0551664\ttotal: 5.92s\tremaining: 32.2s\n",
      "155:\tlearn: 1626.1034202\ttotal: 5.95s\tremaining: 32.2s\n",
      "156:\tlearn: 1625.0058238\ttotal: 5.99s\tremaining: 32.2s\n",
      "157:\tlearn: 1624.1354233\ttotal: 6.03s\tremaining: 32.1s\n",
      "158:\tlearn: 1623.3447561\ttotal: 6.06s\tremaining: 32.1s\n",
      "159:\tlearn: 1622.5435543\ttotal: 6.1s\tremaining: 32s\n",
      "160:\tlearn: 1621.9197373\ttotal: 6.14s\tremaining: 32s\n",
      "161:\tlearn: 1621.3047206\ttotal: 6.18s\tremaining: 32s\n",
      "162:\tlearn: 1620.4856819\ttotal: 6.22s\tremaining: 31.9s\n",
      "163:\tlearn: 1619.5584485\ttotal: 6.25s\tremaining: 31.9s\n",
      "164:\tlearn: 1619.0722993\ttotal: 6.29s\tremaining: 31.8s\n",
      "165:\tlearn: 1617.7050614\ttotal: 6.32s\tremaining: 31.8s\n",
      "166:\tlearn: 1616.9848509\ttotal: 6.35s\tremaining: 31.7s\n",
      "167:\tlearn: 1616.5482273\ttotal: 6.39s\tremaining: 31.7s\n",
      "168:\tlearn: 1615.3896457\ttotal: 6.43s\tremaining: 31.6s\n",
      "169:\tlearn: 1614.6838428\ttotal: 6.46s\tremaining: 31.5s\n",
      "170:\tlearn: 1613.9184157\ttotal: 6.5s\tremaining: 31.5s\n",
      "171:\tlearn: 1613.4457693\ttotal: 6.54s\tremaining: 31.5s\n",
      "172:\tlearn: 1612.8418944\ttotal: 6.58s\tremaining: 31.4s\n",
      "173:\tlearn: 1612.2550955\ttotal: 6.61s\tremaining: 31.4s\n",
      "174:\tlearn: 1611.6090034\ttotal: 6.64s\tremaining: 31.3s\n",
      "175:\tlearn: 1610.6473949\ttotal: 6.69s\tremaining: 31.3s\n",
      "176:\tlearn: 1610.0548573\ttotal: 6.72s\tremaining: 31.3s\n",
      "177:\tlearn: 1609.0644541\ttotal: 6.75s\tremaining: 31.2s\n",
      "178:\tlearn: 1608.4590338\ttotal: 6.8s\tremaining: 31.2s\n",
      "179:\tlearn: 1607.7148721\ttotal: 6.83s\tremaining: 31.1s\n",
      "180:\tlearn: 1606.9452253\ttotal: 6.87s\tremaining: 31.1s\n",
      "181:\tlearn: 1606.5214131\ttotal: 6.9s\tremaining: 31s\n",
      "182:\tlearn: 1605.5421796\ttotal: 6.94s\tremaining: 31s\n",
      "183:\tlearn: 1604.9438937\ttotal: 6.97s\tremaining: 30.9s\n",
      "184:\tlearn: 1604.1132604\ttotal: 7.01s\tremaining: 30.9s\n",
      "185:\tlearn: 1603.4405055\ttotal: 7.04s\tremaining: 30.8s\n",
      "186:\tlearn: 1602.9207372\ttotal: 7.08s\tremaining: 30.8s\n",
      "187:\tlearn: 1602.7125552\ttotal: 7.12s\tremaining: 30.7s\n",
      "188:\tlearn: 1601.7967233\ttotal: 7.15s\tremaining: 30.7s\n",
      "189:\tlearn: 1601.1140188\ttotal: 7.19s\tremaining: 30.6s\n",
      "190:\tlearn: 1600.1638942\ttotal: 7.22s\tremaining: 30.6s\n",
      "191:\tlearn: 1599.5589654\ttotal: 7.26s\tremaining: 30.5s\n",
      "192:\tlearn: 1598.7839851\ttotal: 7.29s\tremaining: 30.5s\n",
      "193:\tlearn: 1597.9694900\ttotal: 7.32s\tremaining: 30.4s\n",
      "194:\tlearn: 1597.5850115\ttotal: 7.36s\tremaining: 30.4s\n",
      "195:\tlearn: 1597.0144359\ttotal: 7.39s\tremaining: 30.3s\n",
      "196:\tlearn: 1595.9694058\ttotal: 7.43s\tremaining: 30.3s\n",
      "197:\tlearn: 1594.9759214\ttotal: 7.47s\tremaining: 30.3s\n",
      "198:\tlearn: 1594.3621028\ttotal: 7.5s\tremaining: 30.2s\n",
      "199:\tlearn: 1593.1223572\ttotal: 7.54s\tremaining: 30.1s\n",
      "200:\tlearn: 1592.4308804\ttotal: 7.58s\tremaining: 30.1s\n",
      "201:\tlearn: 1591.6857308\ttotal: 7.62s\tremaining: 30.1s\n",
      "202:\tlearn: 1591.1989457\ttotal: 7.66s\tremaining: 30.1s\n",
      "203:\tlearn: 1590.4415134\ttotal: 7.7s\tremaining: 30.1s\n",
      "204:\tlearn: 1589.4648706\ttotal: 7.76s\tremaining: 30.1s\n",
      "205:\tlearn: 1588.8944538\ttotal: 7.8s\tremaining: 30.1s\n",
      "206:\tlearn: 1588.3216554\ttotal: 7.83s\tremaining: 30s\n",
      "207:\tlearn: 1587.5214751\ttotal: 7.87s\tremaining: 30s\n",
      "208:\tlearn: 1586.7726965\ttotal: 7.91s\tremaining: 29.9s\n",
      "209:\tlearn: 1586.5278420\ttotal: 7.94s\tremaining: 29.9s\n",
      "210:\tlearn: 1586.0043036\ttotal: 7.98s\tremaining: 29.8s\n",
      "211:\tlearn: 1585.3872535\ttotal: 8.01s\tremaining: 29.8s\n",
      "212:\tlearn: 1584.8042852\ttotal: 8.05s\tremaining: 29.7s\n",
      "213:\tlearn: 1584.2067021\ttotal: 8.08s\tremaining: 29.7s\n",
      "214:\tlearn: 1583.7311394\ttotal: 8.11s\tremaining: 29.6s\n",
      "215:\tlearn: 1583.1569399\ttotal: 8.15s\tremaining: 29.6s\n",
      "216:\tlearn: 1582.4893494\ttotal: 8.18s\tremaining: 29.5s\n",
      "217:\tlearn: 1582.0703136\ttotal: 8.22s\tremaining: 29.5s\n",
      "218:\tlearn: 1581.6330469\ttotal: 8.26s\tremaining: 29.5s\n",
      "219:\tlearn: 1581.1259138\ttotal: 8.29s\tremaining: 29.4s\n",
      "220:\tlearn: 1580.1890538\ttotal: 8.32s\tremaining: 29.3s\n",
      "221:\tlearn: 1579.8244957\ttotal: 8.37s\tremaining: 29.3s\n",
      "222:\tlearn: 1579.5865425\ttotal: 8.4s\tremaining: 29.3s\n",
      "223:\tlearn: 1579.2246006\ttotal: 8.44s\tremaining: 29.2s\n",
      "224:\tlearn: 1578.7635495\ttotal: 8.47s\tremaining: 29.2s\n",
      "225:\tlearn: 1578.2766813\ttotal: 8.51s\tremaining: 29.1s\n",
      "226:\tlearn: 1577.8568748\ttotal: 8.54s\tremaining: 29.1s\n",
      "227:\tlearn: 1576.6526810\ttotal: 8.58s\tremaining: 29s\n",
      "228:\tlearn: 1576.1331390\ttotal: 8.61s\tremaining: 29s\n",
      "229:\tlearn: 1575.4442928\ttotal: 8.65s\tremaining: 29s\n",
      "230:\tlearn: 1574.8982702\ttotal: 8.68s\tremaining: 28.9s\n",
      "231:\tlearn: 1574.5292608\ttotal: 8.71s\tremaining: 28.9s\n",
      "232:\tlearn: 1573.5094377\ttotal: 8.75s\tremaining: 28.8s\n",
      "233:\tlearn: 1573.2327134\ttotal: 8.79s\tremaining: 28.8s\n",
      "234:\tlearn: 1573.0240679\ttotal: 8.83s\tremaining: 28.7s\n",
      "235:\tlearn: 1572.0671166\ttotal: 8.87s\tremaining: 28.7s\n",
      "236:\tlearn: 1571.5017810\ttotal: 8.9s\tremaining: 28.7s\n",
      "237:\tlearn: 1570.7567885\ttotal: 8.95s\tremaining: 28.6s\n",
      "238:\tlearn: 1570.1634126\ttotal: 8.98s\tremaining: 28.6s\n",
      "239:\tlearn: 1569.8657499\ttotal: 9.01s\tremaining: 28.5s\n",
      "240:\tlearn: 1569.3376739\ttotal: 9.05s\tremaining: 28.5s\n",
      "241:\tlearn: 1568.9310961\ttotal: 9.08s\tremaining: 28.4s\n",
      "242:\tlearn: 1568.2300341\ttotal: 9.11s\tremaining: 28.4s\n",
      "243:\tlearn: 1567.8671822\ttotal: 9.15s\tremaining: 28.4s\n",
      "244:\tlearn: 1567.3995904\ttotal: 9.19s\tremaining: 28.3s\n",
      "245:\tlearn: 1567.0609100\ttotal: 9.23s\tremaining: 28.3s\n",
      "246:\tlearn: 1566.2607301\ttotal: 9.26s\tremaining: 28.2s\n",
      "247:\tlearn: 1565.9043635\ttotal: 9.3s\tremaining: 28.2s\n",
      "248:\tlearn: 1565.1421573\ttotal: 9.33s\tremaining: 28.2s\n",
      "249:\tlearn: 1564.8189021\ttotal: 9.37s\tremaining: 28.1s\n",
      "250:\tlearn: 1564.3408549\ttotal: 9.4s\tremaining: 28s\n",
      "251:\tlearn: 1563.6702656\ttotal: 9.45s\tremaining: 28s\n",
      "252:\tlearn: 1562.9213010\ttotal: 9.48s\tremaining: 28s\n",
      "253:\tlearn: 1562.5823307\ttotal: 9.52s\tremaining: 28s\n",
      "254:\tlearn: 1562.1628020\ttotal: 9.56s\tremaining: 27.9s\n",
      "255:\tlearn: 1561.5869925\ttotal: 9.6s\tremaining: 27.9s\n",
      "256:\tlearn: 1560.9901592\ttotal: 9.64s\tremaining: 27.9s\n",
      "257:\tlearn: 1560.4852343\ttotal: 9.68s\tremaining: 27.8s\n",
      "258:\tlearn: 1560.0880340\ttotal: 9.71s\tremaining: 27.8s\n",
      "259:\tlearn: 1559.3148202\ttotal: 9.75s\tremaining: 27.7s\n",
      "260:\tlearn: 1558.6203722\ttotal: 9.78s\tremaining: 27.7s\n",
      "261:\tlearn: 1558.1503575\ttotal: 9.82s\tremaining: 27.6s\n",
      "262:\tlearn: 1557.5870226\ttotal: 9.85s\tremaining: 27.6s\n",
      "263:\tlearn: 1557.0187354\ttotal: 9.88s\tremaining: 27.6s\n",
      "264:\tlearn: 1556.7757694\ttotal: 9.92s\tremaining: 27.5s\n",
      "265:\tlearn: 1556.0687849\ttotal: 9.96s\tremaining: 27.5s\n",
      "266:\tlearn: 1555.4454127\ttotal: 9.99s\tremaining: 27.4s\n",
      "267:\tlearn: 1554.4126601\ttotal: 10s\tremaining: 27.4s\n",
      "268:\tlearn: 1554.1839567\ttotal: 10.1s\tremaining: 27.3s\n",
      "269:\tlearn: 1553.8943424\ttotal: 10.1s\tremaining: 27.3s\n",
      "270:\tlearn: 1553.3892013\ttotal: 10.1s\tremaining: 27.3s\n",
      "271:\tlearn: 1553.1131262\ttotal: 10.2s\tremaining: 27.2s\n",
      "272:\tlearn: 1552.4083454\ttotal: 10.2s\tremaining: 27.2s\n",
      "273:\tlearn: 1551.9974516\ttotal: 10.2s\tremaining: 27.1s\n",
      "274:\tlearn: 1551.7514857\ttotal: 10.3s\tremaining: 27.1s\n",
      "275:\tlearn: 1551.0773797\ttotal: 10.3s\tremaining: 27.1s\n",
      "276:\tlearn: 1550.6948876\ttotal: 10.3s\tremaining: 27s\n",
      "277:\tlearn: 1550.4212719\ttotal: 10.4s\tremaining: 27s\n",
      "278:\tlearn: 1549.8180240\ttotal: 10.4s\tremaining: 26.9s\n",
      "279:\tlearn: 1549.3575800\ttotal: 10.5s\tremaining: 26.9s\n",
      "280:\tlearn: 1548.9705296\ttotal: 10.5s\tremaining: 26.8s\n",
      "281:\tlearn: 1548.5675924\ttotal: 10.5s\tremaining: 26.8s\n",
      "282:\tlearn: 1548.3046105\ttotal: 10.6s\tremaining: 26.8s\n",
      "283:\tlearn: 1548.0722462\ttotal: 10.6s\tremaining: 26.7s\n",
      "284:\tlearn: 1547.4500510\ttotal: 10.6s\tremaining: 26.7s\n",
      "285:\tlearn: 1547.1505886\ttotal: 10.7s\tremaining: 26.6s\n",
      "286:\tlearn: 1546.8291885\ttotal: 10.7s\tremaining: 26.6s\n",
      "287:\tlearn: 1546.4545584\ttotal: 10.7s\tremaining: 26.6s\n",
      "288:\tlearn: 1546.1700758\ttotal: 10.8s\tremaining: 26.5s\n",
      "289:\tlearn: 1545.7658698\ttotal: 10.8s\tremaining: 26.5s\n",
      "290:\tlearn: 1545.2667803\ttotal: 10.9s\tremaining: 26.4s\n",
      "291:\tlearn: 1544.7677110\ttotal: 10.9s\tremaining: 26.4s\n",
      "292:\tlearn: 1544.4819454\ttotal: 10.9s\tremaining: 26.4s\n",
      "293:\tlearn: 1543.9297710\ttotal: 11s\tremaining: 26.3s\n",
      "294:\tlearn: 1543.4888330\ttotal: 11s\tremaining: 26.3s\n",
      "295:\tlearn: 1543.0703382\ttotal: 11s\tremaining: 26.2s\n",
      "296:\tlearn: 1542.5745494\ttotal: 11.1s\tremaining: 26.2s\n",
      "297:\tlearn: 1542.3119276\ttotal: 11.1s\tremaining: 26.1s\n",
      "298:\tlearn: 1541.9151916\ttotal: 11.1s\tremaining: 26.1s\n",
      "299:\tlearn: 1541.5852394\ttotal: 11.2s\tremaining: 26s\n",
      "300:\tlearn: 1541.3634487\ttotal: 11.2s\tremaining: 26s\n",
      "301:\tlearn: 1540.8766997\ttotal: 11.2s\tremaining: 26s\n",
      "302:\tlearn: 1540.4729557\ttotal: 11.3s\tremaining: 25.9s\n",
      "303:\tlearn: 1539.8279566\ttotal: 11.3s\tremaining: 25.9s\n",
      "304:\tlearn: 1539.2306569\ttotal: 11.3s\tremaining: 25.9s\n",
      "305:\tlearn: 1538.7292592\ttotal: 11.4s\tremaining: 25.8s\n",
      "306:\tlearn: 1538.2755356\ttotal: 11.4s\tremaining: 25.8s\n",
      "307:\tlearn: 1537.6028067\ttotal: 11.4s\tremaining: 25.7s\n",
      "308:\tlearn: 1537.3560052\ttotal: 11.5s\tremaining: 25.7s\n",
      "309:\tlearn: 1536.4775672\ttotal: 11.5s\tremaining: 25.7s\n",
      "310:\tlearn: 1536.2584324\ttotal: 11.6s\tremaining: 25.6s\n",
      "311:\tlearn: 1536.0490798\ttotal: 11.6s\tremaining: 25.6s\n",
      "312:\tlearn: 1535.8019860\ttotal: 11.6s\tremaining: 25.5s\n",
      "313:\tlearn: 1535.3093160\ttotal: 11.7s\tremaining: 25.5s\n",
      "314:\tlearn: 1534.9000180\ttotal: 11.7s\tremaining: 25.5s\n",
      "315:\tlearn: 1534.6712569\ttotal: 11.7s\tremaining: 25.4s\n",
      "316:\tlearn: 1534.2474816\ttotal: 11.8s\tremaining: 25.4s\n",
      "317:\tlearn: 1533.8640687\ttotal: 11.8s\tremaining: 25.4s\n",
      "318:\tlearn: 1533.0878793\ttotal: 11.9s\tremaining: 25.4s\n",
      "319:\tlearn: 1532.7097209\ttotal: 11.9s\tremaining: 25.3s\n",
      "320:\tlearn: 1532.2261379\ttotal: 12s\tremaining: 25.3s\n",
      "321:\tlearn: 1531.8466739\ttotal: 12s\tremaining: 25.2s\n",
      "322:\tlearn: 1531.5792179\ttotal: 12s\tremaining: 25.2s\n",
      "323:\tlearn: 1531.4209103\ttotal: 12.1s\tremaining: 25.1s\n",
      "324:\tlearn: 1530.8816162\ttotal: 12.1s\tremaining: 25.1s\n",
      "325:\tlearn: 1530.1909980\ttotal: 12.1s\tremaining: 25.1s\n",
      "326:\tlearn: 1529.5455269\ttotal: 12.1s\tremaining: 25s\n",
      "327:\tlearn: 1529.1783790\ttotal: 12.2s\tremaining: 25s\n",
      "328:\tlearn: 1528.6778066\ttotal: 12.2s\tremaining: 24.9s\n",
      "329:\tlearn: 1528.1744827\ttotal: 12.2s\tremaining: 24.9s\n",
      "330:\tlearn: 1528.0169638\ttotal: 12.3s\tremaining: 24.8s\n",
      "331:\tlearn: 1527.6798150\ttotal: 12.3s\tremaining: 24.8s\n",
      "332:\tlearn: 1527.3788269\ttotal: 12.3s\tremaining: 24.7s\n",
      "333:\tlearn: 1526.9460535\ttotal: 12.4s\tremaining: 24.7s\n",
      "334:\tlearn: 1526.6695934\ttotal: 12.4s\tremaining: 24.6s\n",
      "335:\tlearn: 1526.4094818\ttotal: 12.4s\tremaining: 24.6s\n",
      "336:\tlearn: 1526.1997488\ttotal: 12.5s\tremaining: 24.5s\n",
      "337:\tlearn: 1525.9761691\ttotal: 12.5s\tremaining: 24.5s\n",
      "338:\tlearn: 1525.5041537\ttotal: 12.5s\tremaining: 24.4s\n",
      "339:\tlearn: 1525.1481611\ttotal: 12.6s\tremaining: 24.4s\n",
      "340:\tlearn: 1524.7609533\ttotal: 12.6s\tremaining: 24.3s\n",
      "341:\tlearn: 1523.5831710\ttotal: 12.6s\tremaining: 24.3s\n",
      "342:\tlearn: 1523.3813745\ttotal: 12.7s\tremaining: 24.3s\n",
      "343:\tlearn: 1522.8574945\ttotal: 12.7s\tremaining: 24.2s\n",
      "344:\tlearn: 1522.3830063\ttotal: 12.7s\tremaining: 24.2s\n",
      "345:\tlearn: 1521.8776471\ttotal: 12.8s\tremaining: 24.1s\n",
      "346:\tlearn: 1521.7434277\ttotal: 12.8s\tremaining: 24.1s\n",
      "347:\tlearn: 1521.4033646\ttotal: 12.8s\tremaining: 24.1s\n",
      "348:\tlearn: 1521.0039697\ttotal: 12.9s\tremaining: 24s\n",
      "349:\tlearn: 1520.3871811\ttotal: 12.9s\tremaining: 24s\n",
      "350:\tlearn: 1520.1333763\ttotal: 12.9s\tremaining: 23.9s\n",
      "351:\tlearn: 1519.8012523\ttotal: 13s\tremaining: 23.9s\n",
      "352:\tlearn: 1519.1854127\ttotal: 13s\tremaining: 23.8s\n",
      "353:\tlearn: 1518.7957909\ttotal: 13s\tremaining: 23.8s\n",
      "354:\tlearn: 1518.4216200\ttotal: 13.1s\tremaining: 23.7s\n",
      "355:\tlearn: 1518.0148726\ttotal: 13.1s\tremaining: 23.7s\n",
      "356:\tlearn: 1517.6686786\ttotal: 13.1s\tremaining: 23.7s\n",
      "357:\tlearn: 1517.3302647\ttotal: 13.2s\tremaining: 23.6s\n",
      "358:\tlearn: 1517.0816270\ttotal: 13.2s\tremaining: 23.6s\n",
      "359:\tlearn: 1516.6723770\ttotal: 13.2s\tremaining: 23.6s\n",
      "360:\tlearn: 1515.9085629\ttotal: 13.3s\tremaining: 23.5s\n",
      "361:\tlearn: 1515.4804467\ttotal: 13.3s\tremaining: 23.5s\n",
      "362:\tlearn: 1515.1218574\ttotal: 13.4s\tremaining: 23.5s\n",
      "363:\tlearn: 1514.8030017\ttotal: 13.4s\tremaining: 23.4s\n",
      "364:\tlearn: 1514.0705636\ttotal: 13.4s\tremaining: 23.4s\n",
      "365:\tlearn: 1513.7026848\ttotal: 13.5s\tremaining: 23.4s\n",
      "366:\tlearn: 1513.4532003\ttotal: 13.5s\tremaining: 23.3s\n",
      "367:\tlearn: 1513.3660553\ttotal: 13.6s\tremaining: 23.3s\n",
      "368:\tlearn: 1512.9640790\ttotal: 13.6s\tremaining: 23.2s\n",
      "369:\tlearn: 1512.5458167\ttotal: 13.6s\tremaining: 23.2s\n",
      "370:\tlearn: 1511.8984184\ttotal: 13.7s\tremaining: 23.2s\n",
      "371:\tlearn: 1511.5881899\ttotal: 13.7s\tremaining: 23.1s\n",
      "372:\tlearn: 1511.3497147\ttotal: 13.7s\tremaining: 23.1s\n",
      "373:\tlearn: 1511.0804483\ttotal: 13.8s\tremaining: 23s\n",
      "374:\tlearn: 1510.8849495\ttotal: 13.8s\tremaining: 23s\n",
      "375:\tlearn: 1510.6864502\ttotal: 13.8s\tremaining: 23s\n",
      "376:\tlearn: 1510.4539530\ttotal: 13.9s\tremaining: 22.9s\n",
      "377:\tlearn: 1510.1070784\ttotal: 13.9s\tremaining: 22.9s\n",
      "378:\tlearn: 1509.6434532\ttotal: 13.9s\tremaining: 22.8s\n",
      "379:\tlearn: 1509.3790544\ttotal: 14s\tremaining: 22.8s\n",
      "380:\tlearn: 1509.1317052\ttotal: 14s\tremaining: 22.8s\n",
      "381:\tlearn: 1508.7092787\ttotal: 14s\tremaining: 22.7s\n",
      "382:\tlearn: 1508.4502096\ttotal: 14.1s\tremaining: 22.7s\n",
      "383:\tlearn: 1507.5725030\ttotal: 14.1s\tremaining: 22.6s\n",
      "384:\tlearn: 1507.2635422\ttotal: 14.2s\tremaining: 22.6s\n",
      "385:\tlearn: 1506.8205911\ttotal: 14.2s\tremaining: 22.6s\n",
      "386:\tlearn: 1506.4167027\ttotal: 14.2s\tremaining: 22.5s\n",
      "387:\tlearn: 1505.4387467\ttotal: 14.3s\tremaining: 22.5s\n",
      "388:\tlearn: 1505.1943659\ttotal: 14.3s\tremaining: 22.4s\n",
      "389:\tlearn: 1505.0713629\ttotal: 14.3s\tremaining: 22.4s\n",
      "390:\tlearn: 1504.7275248\ttotal: 14.4s\tremaining: 22.4s\n",
      "391:\tlearn: 1504.5250907\ttotal: 14.4s\tremaining: 22.3s\n",
      "392:\tlearn: 1504.1335646\ttotal: 14.4s\tremaining: 22.3s\n",
      "393:\tlearn: 1503.8924073\ttotal: 14.5s\tremaining: 22.2s\n",
      "394:\tlearn: 1503.4067152\ttotal: 14.5s\tremaining: 22.2s\n",
      "395:\tlearn: 1503.1657148\ttotal: 14.5s\tremaining: 22.2s\n",
      "396:\tlearn: 1502.9433684\ttotal: 14.6s\tremaining: 22.1s\n",
      "397:\tlearn: 1502.6636554\ttotal: 14.6s\tremaining: 22.1s\n",
      "398:\tlearn: 1502.4371255\ttotal: 14.6s\tremaining: 22s\n",
      "399:\tlearn: 1502.2526005\ttotal: 14.7s\tremaining: 22s\n",
      "400:\tlearn: 1501.9205895\ttotal: 14.7s\tremaining: 22s\n",
      "401:\tlearn: 1501.5434824\ttotal: 14.7s\tremaining: 21.9s\n",
      "402:\tlearn: 1501.1864386\ttotal: 14.8s\tremaining: 21.9s\n",
      "403:\tlearn: 1500.8906250\ttotal: 14.8s\tremaining: 21.8s\n",
      "404:\tlearn: 1500.4352775\ttotal: 14.8s\tremaining: 21.8s\n",
      "405:\tlearn: 1500.1662604\ttotal: 14.9s\tremaining: 21.8s\n",
      "406:\tlearn: 1499.8711473\ttotal: 14.9s\tremaining: 21.7s\n",
      "407:\tlearn: 1499.5563102\ttotal: 14.9s\tremaining: 21.7s\n",
      "408:\tlearn: 1499.2154467\ttotal: 15s\tremaining: 21.7s\n",
      "409:\tlearn: 1499.0368979\ttotal: 15s\tremaining: 21.6s\n",
      "410:\tlearn: 1498.5741957\ttotal: 15.1s\tremaining: 21.6s\n",
      "411:\tlearn: 1498.3671275\ttotal: 15.1s\tremaining: 21.5s\n",
      "412:\tlearn: 1498.1823395\ttotal: 15.1s\tremaining: 21.5s\n",
      "413:\tlearn: 1498.0045360\ttotal: 15.2s\tremaining: 21.5s\n",
      "414:\tlearn: 1497.7212674\ttotal: 15.2s\tremaining: 21.4s\n",
      "415:\tlearn: 1497.1678191\ttotal: 15.2s\tremaining: 21.4s\n",
      "416:\tlearn: 1496.8927845\ttotal: 15.3s\tremaining: 21.3s\n",
      "417:\tlearn: 1496.7235170\ttotal: 15.3s\tremaining: 21.3s\n",
      "418:\tlearn: 1496.4734087\ttotal: 15.3s\tremaining: 21.3s\n",
      "419:\tlearn: 1496.2164295\ttotal: 15.4s\tremaining: 21.2s\n",
      "420:\tlearn: 1495.8411847\ttotal: 15.4s\tremaining: 21.2s\n",
      "421:\tlearn: 1495.4892504\ttotal: 15.4s\tremaining: 21.2s\n",
      "422:\tlearn: 1495.0219209\ttotal: 15.5s\tremaining: 21.1s\n",
      "423:\tlearn: 1494.7682702\ttotal: 15.5s\tremaining: 21.1s\n",
      "424:\tlearn: 1494.5162664\ttotal: 15.5s\tremaining: 21s\n",
      "425:\tlearn: 1493.8062405\ttotal: 15.6s\tremaining: 21s\n",
      "426:\tlearn: 1493.5559555\ttotal: 15.6s\tremaining: 21s\n",
      "427:\tlearn: 1493.2624359\ttotal: 15.7s\tremaining: 20.9s\n",
      "428:\tlearn: 1492.8932158\ttotal: 15.7s\tremaining: 20.9s\n",
      "429:\tlearn: 1492.3813134\ttotal: 15.7s\tremaining: 20.9s\n",
      "430:\tlearn: 1491.9732661\ttotal: 15.8s\tremaining: 20.8s\n",
      "431:\tlearn: 1491.6863900\ttotal: 15.8s\tremaining: 20.8s\n",
      "432:\tlearn: 1491.3446461\ttotal: 15.8s\tremaining: 20.7s\n",
      "433:\tlearn: 1491.0453067\ttotal: 15.9s\tremaining: 20.7s\n",
      "434:\tlearn: 1490.8749763\ttotal: 15.9s\tremaining: 20.7s\n",
      "435:\tlearn: 1490.5585258\ttotal: 16s\tremaining: 20.7s\n",
      "436:\tlearn: 1490.4245052\ttotal: 16s\tremaining: 20.6s\n",
      "437:\tlearn: 1490.1700122\ttotal: 16s\tremaining: 20.6s\n",
      "438:\tlearn: 1489.8024978\ttotal: 16.1s\tremaining: 20.6s\n",
      "439:\tlearn: 1489.6612308\ttotal: 16.1s\tremaining: 20.5s\n",
      "440:\tlearn: 1489.5119427\ttotal: 16.2s\tremaining: 20.5s\n",
      "441:\tlearn: 1489.1461550\ttotal: 16.2s\tremaining: 20.5s\n",
      "442:\tlearn: 1488.6486923\ttotal: 16.2s\tremaining: 20.4s\n",
      "443:\tlearn: 1488.4104946\ttotal: 16.3s\tremaining: 20.4s\n",
      "444:\tlearn: 1487.9284082\ttotal: 16.3s\tremaining: 20.4s\n",
      "445:\tlearn: 1487.7154798\ttotal: 16.4s\tremaining: 20.3s\n",
      "446:\tlearn: 1487.0977835\ttotal: 16.4s\tremaining: 20.3s\n",
      "447:\tlearn: 1486.8725946\ttotal: 16.4s\tremaining: 20.2s\n",
      "448:\tlearn: 1486.5058700\ttotal: 16.5s\tremaining: 20.2s\n",
      "449:\tlearn: 1486.0489841\ttotal: 16.5s\tremaining: 20.2s\n",
      "450:\tlearn: 1485.7273794\ttotal: 16.5s\tremaining: 20.1s\n",
      "451:\tlearn: 1485.2996366\ttotal: 16.6s\tremaining: 20.1s\n",
      "452:\tlearn: 1484.8323679\ttotal: 16.6s\tremaining: 20s\n",
      "453:\tlearn: 1484.5061333\ttotal: 16.6s\tremaining: 20s\n",
      "454:\tlearn: 1483.8851143\ttotal: 16.7s\tremaining: 20s\n",
      "455:\tlearn: 1483.5001590\ttotal: 16.7s\tremaining: 19.9s\n",
      "456:\tlearn: 1483.1170848\ttotal: 16.7s\tremaining: 19.9s\n",
      "457:\tlearn: 1482.9528702\ttotal: 16.8s\tremaining: 19.9s\n",
      "458:\tlearn: 1482.6305071\ttotal: 16.8s\tremaining: 19.8s\n",
      "459:\tlearn: 1482.1359960\ttotal: 16.9s\tremaining: 19.8s\n",
      "460:\tlearn: 1481.8202266\ttotal: 16.9s\tremaining: 19.7s\n",
      "461:\tlearn: 1481.6243220\ttotal: 16.9s\tremaining: 19.7s\n",
      "462:\tlearn: 1481.2185907\ttotal: 17s\tremaining: 19.7s\n",
      "463:\tlearn: 1481.0733033\ttotal: 17s\tremaining: 19.6s\n",
      "464:\tlearn: 1480.6794289\ttotal: 17s\tremaining: 19.6s\n",
      "465:\tlearn: 1480.2694376\ttotal: 17.1s\tremaining: 19.6s\n",
      "466:\tlearn: 1480.0376570\ttotal: 17.1s\tremaining: 19.5s\n",
      "467:\tlearn: 1479.8240343\ttotal: 17.1s\tremaining: 19.5s\n",
      "468:\tlearn: 1479.7156997\ttotal: 17.2s\tremaining: 19.5s\n",
      "469:\tlearn: 1479.2322433\ttotal: 17.2s\tremaining: 19.4s\n",
      "470:\tlearn: 1479.0143534\ttotal: 17.3s\tremaining: 19.4s\n",
      "471:\tlearn: 1478.7012408\ttotal: 17.3s\tremaining: 19.3s\n",
      "472:\tlearn: 1478.5755884\ttotal: 17.4s\tremaining: 19.3s\n",
      "473:\tlearn: 1478.1966072\ttotal: 17.4s\tremaining: 19.3s\n",
      "474:\tlearn: 1478.0645930\ttotal: 17.4s\tremaining: 19.3s\n",
      "475:\tlearn: 1477.6837613\ttotal: 17.5s\tremaining: 19.2s\n",
      "476:\tlearn: 1477.6130924\ttotal: 17.5s\tremaining: 19.2s\n",
      "477:\tlearn: 1477.4736338\ttotal: 17.5s\tremaining: 19.2s\n",
      "478:\tlearn: 1477.2200458\ttotal: 17.6s\tremaining: 19.1s\n",
      "479:\tlearn: 1477.0173268\ttotal: 17.6s\tremaining: 19.1s\n",
      "480:\tlearn: 1476.9139046\ttotal: 17.6s\tremaining: 19s\n",
      "481:\tlearn: 1476.5830592\ttotal: 17.7s\tremaining: 19s\n",
      "482:\tlearn: 1476.3434833\ttotal: 17.7s\tremaining: 19s\n",
      "483:\tlearn: 1475.9263967\ttotal: 17.8s\tremaining: 18.9s\n",
      "484:\tlearn: 1475.6069120\ttotal: 17.8s\tremaining: 18.9s\n",
      "485:\tlearn: 1475.3525897\ttotal: 17.8s\tremaining: 18.9s\n",
      "486:\tlearn: 1474.9797556\ttotal: 17.9s\tremaining: 18.8s\n",
      "487:\tlearn: 1474.2926819\ttotal: 17.9s\tremaining: 18.8s\n",
      "488:\tlearn: 1474.1969976\ttotal: 17.9s\tremaining: 18.7s\n",
      "489:\tlearn: 1473.8514035\ttotal: 18s\tremaining: 18.7s\n",
      "490:\tlearn: 1473.6993859\ttotal: 18s\tremaining: 18.7s\n",
      "491:\tlearn: 1473.4301552\ttotal: 18s\tremaining: 18.6s\n",
      "492:\tlearn: 1473.0748925\ttotal: 18.1s\tremaining: 18.6s\n",
      "493:\tlearn: 1472.6060600\ttotal: 18.1s\tremaining: 18.5s\n",
      "494:\tlearn: 1472.4485706\ttotal: 18.1s\tremaining: 18.5s\n",
      "495:\tlearn: 1471.8781002\ttotal: 18.2s\tremaining: 18.5s\n",
      "496:\tlearn: 1471.6535812\ttotal: 18.2s\tremaining: 18.4s\n",
      "497:\tlearn: 1471.3777934\ttotal: 18.2s\tremaining: 18.4s\n",
      "498:\tlearn: 1471.0017062\ttotal: 18.3s\tremaining: 18.4s\n",
      "499:\tlearn: 1470.6443070\ttotal: 18.3s\tremaining: 18.3s\n",
      "500:\tlearn: 1470.4805484\ttotal: 18.4s\tremaining: 18.3s\n",
      "501:\tlearn: 1470.1628355\ttotal: 18.4s\tremaining: 18.3s\n",
      "502:\tlearn: 1470.0314245\ttotal: 18.4s\tremaining: 18.2s\n",
      "503:\tlearn: 1469.6602436\ttotal: 18.5s\tremaining: 18.2s\n",
      "504:\tlearn: 1469.3452793\ttotal: 18.5s\tremaining: 18.1s\n",
      "505:\tlearn: 1469.0543577\ttotal: 18.5s\tremaining: 18.1s\n",
      "506:\tlearn: 1468.9271663\ttotal: 18.6s\tremaining: 18.1s\n",
      "507:\tlearn: 1468.6929083\ttotal: 18.6s\tremaining: 18s\n",
      "508:\tlearn: 1468.6257135\ttotal: 18.7s\tremaining: 18s\n",
      "509:\tlearn: 1468.3931102\ttotal: 18.7s\tremaining: 18s\n",
      "510:\tlearn: 1468.0582867\ttotal: 18.7s\tremaining: 17.9s\n",
      "511:\tlearn: 1467.9244748\ttotal: 18.8s\tremaining: 17.9s\n",
      "512:\tlearn: 1467.5146902\ttotal: 18.8s\tremaining: 17.8s\n",
      "513:\tlearn: 1467.3067208\ttotal: 18.8s\tremaining: 17.8s\n",
      "514:\tlearn: 1467.1247830\ttotal: 18.9s\tremaining: 17.8s\n",
      "515:\tlearn: 1466.7170892\ttotal: 18.9s\tremaining: 17.7s\n",
      "516:\tlearn: 1466.3634550\ttotal: 18.9s\tremaining: 17.7s\n",
      "517:\tlearn: 1466.2514335\ttotal: 19s\tremaining: 17.7s\n",
      "518:\tlearn: 1465.9714199\ttotal: 19s\tremaining: 17.6s\n",
      "519:\tlearn: 1465.4812452\ttotal: 19s\tremaining: 17.6s\n",
      "520:\tlearn: 1465.1650928\ttotal: 19.1s\tremaining: 17.5s\n",
      "521:\tlearn: 1464.9716102\ttotal: 19.1s\tremaining: 17.5s\n",
      "522:\tlearn: 1464.8758829\ttotal: 19.2s\tremaining: 17.5s\n",
      "523:\tlearn: 1464.6798771\ttotal: 19.2s\tremaining: 17.4s\n",
      "524:\tlearn: 1464.4900008\ttotal: 19.2s\tremaining: 17.4s\n",
      "525:\tlearn: 1464.0168176\ttotal: 19.3s\tremaining: 17.4s\n",
      "526:\tlearn: 1463.7260734\ttotal: 19.3s\tremaining: 17.3s\n",
      "527:\tlearn: 1463.5149457\ttotal: 19.3s\tremaining: 17.3s\n",
      "528:\tlearn: 1463.1693871\ttotal: 19.4s\tremaining: 17.3s\n",
      "529:\tlearn: 1462.8977071\ttotal: 19.4s\tremaining: 17.2s\n",
      "530:\tlearn: 1462.5491427\ttotal: 19.4s\tremaining: 17.2s\n",
      "531:\tlearn: 1462.3821323\ttotal: 19.5s\tremaining: 17.1s\n",
      "532:\tlearn: 1462.2004821\ttotal: 19.5s\tremaining: 17.1s\n",
      "533:\tlearn: 1461.7906658\ttotal: 19.6s\tremaining: 17.1s\n",
      "534:\tlearn: 1461.6052928\ttotal: 19.6s\tremaining: 17s\n",
      "535:\tlearn: 1461.3039955\ttotal: 19.6s\tremaining: 17s\n",
      "536:\tlearn: 1461.0378587\ttotal: 19.7s\tremaining: 17s\n",
      "537:\tlearn: 1460.7834846\ttotal: 19.7s\tremaining: 16.9s\n",
      "538:\tlearn: 1460.4853861\ttotal: 19.7s\tremaining: 16.9s\n",
      "539:\tlearn: 1460.2198463\ttotal: 19.8s\tremaining: 16.8s\n",
      "540:\tlearn: 1460.0937082\ttotal: 19.8s\tremaining: 16.8s\n",
      "541:\tlearn: 1459.9482443\ttotal: 19.8s\tremaining: 16.8s\n",
      "542:\tlearn: 1459.5526644\ttotal: 19.9s\tremaining: 16.7s\n",
      "543:\tlearn: 1459.3514784\ttotal: 19.9s\tremaining: 16.7s\n",
      "544:\tlearn: 1459.2299382\ttotal: 20s\tremaining: 16.7s\n",
      "545:\tlearn: 1459.0936655\ttotal: 20s\tremaining: 16.6s\n",
      "546:\tlearn: 1458.9258492\ttotal: 20s\tremaining: 16.6s\n",
      "547:\tlearn: 1458.8124418\ttotal: 20.1s\tremaining: 16.5s\n",
      "548:\tlearn: 1458.5150671\ttotal: 20.1s\tremaining: 16.5s\n",
      "549:\tlearn: 1458.1074858\ttotal: 20.1s\tremaining: 16.5s\n",
      "550:\tlearn: 1457.8844577\ttotal: 20.2s\tremaining: 16.4s\n",
      "551:\tlearn: 1457.6793953\ttotal: 20.2s\tremaining: 16.4s\n",
      "552:\tlearn: 1457.4172102\ttotal: 20.2s\tremaining: 16.4s\n",
      "553:\tlearn: 1457.1879525\ttotal: 20.3s\tremaining: 16.3s\n",
      "554:\tlearn: 1456.9313074\ttotal: 20.3s\tremaining: 16.3s\n",
      "555:\tlearn: 1456.7739483\ttotal: 20.4s\tremaining: 16.3s\n",
      "556:\tlearn: 1456.4910218\ttotal: 20.4s\tremaining: 16.2s\n",
      "557:\tlearn: 1456.3155303\ttotal: 20.4s\tremaining: 16.2s\n",
      "558:\tlearn: 1456.1805969\ttotal: 20.5s\tremaining: 16.1s\n",
      "559:\tlearn: 1456.0013073\ttotal: 20.5s\tremaining: 16.1s\n",
      "560:\tlearn: 1455.7103974\ttotal: 20.5s\tremaining: 16.1s\n",
      "561:\tlearn: 1455.3275164\ttotal: 20.6s\tremaining: 16s\n",
      "562:\tlearn: 1455.1372412\ttotal: 20.6s\tremaining: 16s\n",
      "563:\tlearn: 1454.9412545\ttotal: 20.6s\tremaining: 16s\n",
      "564:\tlearn: 1454.7736703\ttotal: 20.7s\tremaining: 15.9s\n",
      "565:\tlearn: 1454.5086903\ttotal: 20.7s\tremaining: 15.9s\n",
      "566:\tlearn: 1453.9387226\ttotal: 20.8s\tremaining: 15.9s\n",
      "567:\tlearn: 1453.7335221\ttotal: 20.8s\tremaining: 15.8s\n",
      "568:\tlearn: 1453.4588111\ttotal: 20.8s\tremaining: 15.8s\n",
      "569:\tlearn: 1453.2270626\ttotal: 20.9s\tremaining: 15.7s\n",
      "570:\tlearn: 1453.0908716\ttotal: 20.9s\tremaining: 15.7s\n",
      "571:\tlearn: 1452.9127950\ttotal: 20.9s\tremaining: 15.7s\n",
      "572:\tlearn: 1452.4337762\ttotal: 21s\tremaining: 15.6s\n",
      "573:\tlearn: 1452.2676674\ttotal: 21s\tremaining: 15.6s\n",
      "574:\tlearn: 1452.1114171\ttotal: 21s\tremaining: 15.6s\n",
      "575:\tlearn: 1452.0031293\ttotal: 21.1s\tremaining: 15.5s\n",
      "576:\tlearn: 1451.7807108\ttotal: 21.1s\tremaining: 15.5s\n",
      "577:\tlearn: 1451.6195507\ttotal: 21.2s\tremaining: 15.4s\n",
      "578:\tlearn: 1451.4552186\ttotal: 21.2s\tremaining: 15.4s\n",
      "579:\tlearn: 1451.2508265\ttotal: 21.2s\tremaining: 15.4s\n",
      "580:\tlearn: 1451.0554508\ttotal: 21.3s\tremaining: 15.3s\n",
      "581:\tlearn: 1450.8345690\ttotal: 21.3s\tremaining: 15.3s\n",
      "582:\tlearn: 1450.7033317\ttotal: 21.3s\tremaining: 15.3s\n",
      "583:\tlearn: 1450.4146310\ttotal: 21.4s\tremaining: 15.2s\n",
      "584:\tlearn: 1450.2604279\ttotal: 21.4s\tremaining: 15.2s\n",
      "585:\tlearn: 1449.7771774\ttotal: 21.4s\tremaining: 15.1s\n",
      "586:\tlearn: 1449.3391614\ttotal: 21.5s\tremaining: 15.1s\n",
      "587:\tlearn: 1449.1592387\ttotal: 21.5s\tremaining: 15.1s\n",
      "588:\tlearn: 1449.0477204\ttotal: 21.6s\tremaining: 15s\n",
      "589:\tlearn: 1448.7690109\ttotal: 21.6s\tremaining: 15s\n",
      "590:\tlearn: 1448.6813112\ttotal: 21.6s\tremaining: 15s\n",
      "591:\tlearn: 1448.3928912\ttotal: 21.7s\tremaining: 14.9s\n",
      "592:\tlearn: 1448.2689166\ttotal: 21.7s\tremaining: 14.9s\n",
      "593:\tlearn: 1448.0975601\ttotal: 21.7s\tremaining: 14.9s\n",
      "594:\tlearn: 1447.8463592\ttotal: 21.8s\tremaining: 14.8s\n",
      "595:\tlearn: 1447.5793186\ttotal: 21.8s\tremaining: 14.8s\n",
      "596:\tlearn: 1447.3093937\ttotal: 21.9s\tremaining: 14.8s\n",
      "597:\tlearn: 1446.8765370\ttotal: 21.9s\tremaining: 14.7s\n",
      "598:\tlearn: 1446.6232441\ttotal: 21.9s\tremaining: 14.7s\n",
      "599:\tlearn: 1446.4643555\ttotal: 22s\tremaining: 14.7s\n",
      "600:\tlearn: 1446.3294212\ttotal: 22s\tremaining: 14.6s\n",
      "601:\tlearn: 1446.1546937\ttotal: 22.1s\tremaining: 14.6s\n",
      "602:\tlearn: 1445.7858058\ttotal: 22.1s\tremaining: 14.6s\n",
      "603:\tlearn: 1445.5436422\ttotal: 22.1s\tremaining: 14.5s\n",
      "604:\tlearn: 1445.4550636\ttotal: 22.2s\tremaining: 14.5s\n",
      "605:\tlearn: 1444.8887768\ttotal: 22.2s\tremaining: 14.4s\n",
      "606:\tlearn: 1444.4647001\ttotal: 22.3s\tremaining: 14.4s\n",
      "607:\tlearn: 1444.1891142\ttotal: 22.3s\tremaining: 14.4s\n",
      "608:\tlearn: 1444.0403996\ttotal: 22.3s\tremaining: 14.3s\n",
      "609:\tlearn: 1443.8047429\ttotal: 22.4s\tremaining: 14.3s\n",
      "610:\tlearn: 1443.4904828\ttotal: 22.4s\tremaining: 14.3s\n",
      "611:\tlearn: 1443.3923934\ttotal: 22.4s\tremaining: 14.2s\n",
      "612:\tlearn: 1443.1823382\ttotal: 22.5s\tremaining: 14.2s\n",
      "613:\tlearn: 1443.0085690\ttotal: 22.5s\tremaining: 14.2s\n",
      "614:\tlearn: 1442.9281259\ttotal: 22.6s\tremaining: 14.1s\n",
      "615:\tlearn: 1442.6373879\ttotal: 22.6s\tremaining: 14.1s\n",
      "616:\tlearn: 1442.3084426\ttotal: 22.6s\tremaining: 14s\n",
      "617:\tlearn: 1441.8478376\ttotal: 22.7s\tremaining: 14s\n",
      "618:\tlearn: 1441.6636412\ttotal: 22.7s\tremaining: 14s\n",
      "619:\tlearn: 1441.4588209\ttotal: 22.7s\tremaining: 13.9s\n",
      "620:\tlearn: 1441.3095386\ttotal: 22.8s\tremaining: 13.9s\n",
      "621:\tlearn: 1441.2023939\ttotal: 22.8s\tremaining: 13.9s\n",
      "622:\tlearn: 1441.1549672\ttotal: 22.8s\tremaining: 13.8s\n",
      "623:\tlearn: 1440.9205508\ttotal: 22.9s\tremaining: 13.8s\n",
      "624:\tlearn: 1440.6505179\ttotal: 22.9s\tremaining: 13.8s\n",
      "625:\tlearn: 1440.5261081\ttotal: 23s\tremaining: 13.7s\n",
      "626:\tlearn: 1440.3347557\ttotal: 23s\tremaining: 13.7s\n",
      "627:\tlearn: 1440.1232226\ttotal: 23s\tremaining: 13.7s\n",
      "628:\tlearn: 1439.8966251\ttotal: 23.1s\tremaining: 13.6s\n",
      "629:\tlearn: 1439.7590218\ttotal: 23.1s\tremaining: 13.6s\n",
      "630:\tlearn: 1439.5698449\ttotal: 23.2s\tremaining: 13.5s\n",
      "631:\tlearn: 1439.2825781\ttotal: 23.2s\tremaining: 13.5s\n",
      "632:\tlearn: 1438.9870847\ttotal: 23.2s\tremaining: 13.5s\n",
      "633:\tlearn: 1438.8997128\ttotal: 23.3s\tremaining: 13.4s\n",
      "634:\tlearn: 1438.5064295\ttotal: 23.3s\tremaining: 13.4s\n",
      "635:\tlearn: 1438.3067430\ttotal: 23.4s\tremaining: 13.4s\n",
      "636:\tlearn: 1438.0007165\ttotal: 23.4s\tremaining: 13.3s\n",
      "637:\tlearn: 1437.6493743\ttotal: 23.4s\tremaining: 13.3s\n",
      "638:\tlearn: 1437.4203500\ttotal: 23.5s\tremaining: 13.3s\n",
      "639:\tlearn: 1437.1417909\ttotal: 23.5s\tremaining: 13.2s\n",
      "640:\tlearn: 1436.9929248\ttotal: 23.5s\tremaining: 13.2s\n",
      "641:\tlearn: 1436.8852979\ttotal: 23.6s\tremaining: 13.2s\n",
      "642:\tlearn: 1436.5858643\ttotal: 23.6s\tremaining: 13.1s\n",
      "643:\tlearn: 1436.4073535\ttotal: 23.7s\tremaining: 13.1s\n",
      "644:\tlearn: 1436.1310139\ttotal: 23.7s\tremaining: 13s\n",
      "645:\tlearn: 1436.0598487\ttotal: 23.7s\tremaining: 13s\n",
      "646:\tlearn: 1435.7901320\ttotal: 23.8s\tremaining: 13s\n",
      "647:\tlearn: 1435.7355091\ttotal: 23.8s\tremaining: 12.9s\n",
      "648:\tlearn: 1435.5291665\ttotal: 23.9s\tremaining: 12.9s\n",
      "649:\tlearn: 1435.3029611\ttotal: 23.9s\tremaining: 12.9s\n",
      "650:\tlearn: 1435.1317693\ttotal: 23.9s\tremaining: 12.8s\n",
      "651:\tlearn: 1434.9478249\ttotal: 24s\tremaining: 12.8s\n",
      "652:\tlearn: 1434.7097388\ttotal: 24s\tremaining: 12.8s\n",
      "653:\tlearn: 1434.5115814\ttotal: 24.1s\tremaining: 12.7s\n",
      "654:\tlearn: 1434.3785168\ttotal: 24.1s\tremaining: 12.7s\n",
      "655:\tlearn: 1434.0766943\ttotal: 24.1s\tremaining: 12.7s\n",
      "656:\tlearn: 1433.9287454\ttotal: 24.2s\tremaining: 12.6s\n",
      "657:\tlearn: 1433.6890145\ttotal: 24.2s\tremaining: 12.6s\n",
      "658:\tlearn: 1433.4826901\ttotal: 24.3s\tremaining: 12.6s\n",
      "659:\tlearn: 1433.2747527\ttotal: 24.3s\tremaining: 12.5s\n",
      "660:\tlearn: 1433.1679838\ttotal: 24.3s\tremaining: 12.5s\n",
      "661:\tlearn: 1432.8118172\ttotal: 24.4s\tremaining: 12.4s\n",
      "662:\tlearn: 1432.7459034\ttotal: 24.4s\tremaining: 12.4s\n",
      "663:\tlearn: 1432.5450351\ttotal: 24.5s\tremaining: 12.4s\n",
      "664:\tlearn: 1432.3763535\ttotal: 24.5s\tremaining: 12.3s\n",
      "665:\tlearn: 1432.2625284\ttotal: 24.5s\tremaining: 12.3s\n",
      "666:\tlearn: 1432.0383615\ttotal: 24.6s\tremaining: 12.3s\n",
      "667:\tlearn: 1431.6648831\ttotal: 24.6s\tremaining: 12.2s\n",
      "668:\tlearn: 1431.4293584\ttotal: 24.6s\tremaining: 12.2s\n",
      "669:\tlearn: 1431.0729500\ttotal: 24.7s\tremaining: 12.2s\n",
      "670:\tlearn: 1430.9237515\ttotal: 24.7s\tremaining: 12.1s\n",
      "671:\tlearn: 1430.7304652\ttotal: 24.8s\tremaining: 12.1s\n",
      "672:\tlearn: 1430.4382107\ttotal: 24.8s\tremaining: 12.1s\n",
      "673:\tlearn: 1430.3228222\ttotal: 24.8s\tremaining: 12s\n",
      "674:\tlearn: 1430.1788896\ttotal: 24.9s\tremaining: 12s\n",
      "675:\tlearn: 1429.7955863\ttotal: 24.9s\tremaining: 11.9s\n",
      "676:\tlearn: 1429.6204696\ttotal: 24.9s\tremaining: 11.9s\n",
      "677:\tlearn: 1429.3859356\ttotal: 25s\tremaining: 11.9s\n",
      "678:\tlearn: 1429.2396741\ttotal: 25s\tremaining: 11.8s\n",
      "679:\tlearn: 1428.9369754\ttotal: 25.1s\tremaining: 11.8s\n",
      "680:\tlearn: 1428.8352693\ttotal: 25.1s\tremaining: 11.8s\n",
      "681:\tlearn: 1428.6769021\ttotal: 25.1s\tremaining: 11.7s\n",
      "682:\tlearn: 1428.5401389\ttotal: 25.2s\tremaining: 11.7s\n",
      "683:\tlearn: 1428.3030459\ttotal: 25.2s\tremaining: 11.6s\n",
      "684:\tlearn: 1428.0047593\ttotal: 25.2s\tremaining: 11.6s\n",
      "685:\tlearn: 1427.6614854\ttotal: 25.3s\tremaining: 11.6s\n",
      "686:\tlearn: 1427.4912960\ttotal: 25.3s\tremaining: 11.5s\n",
      "687:\tlearn: 1427.3722268\ttotal: 25.3s\tremaining: 11.5s\n",
      "688:\tlearn: 1427.2352494\ttotal: 25.4s\tremaining: 11.5s\n",
      "689:\tlearn: 1427.0840848\ttotal: 25.4s\tremaining: 11.4s\n",
      "690:\tlearn: 1426.9379148\ttotal: 25.4s\tremaining: 11.4s\n",
      "691:\tlearn: 1426.6409174\ttotal: 25.5s\tremaining: 11.3s\n",
      "692:\tlearn: 1426.4339375\ttotal: 25.5s\tremaining: 11.3s\n",
      "693:\tlearn: 1426.1177052\ttotal: 25.6s\tremaining: 11.3s\n",
      "694:\tlearn: 1425.9516242\ttotal: 25.6s\tremaining: 11.2s\n",
      "695:\tlearn: 1425.5736347\ttotal: 25.6s\tremaining: 11.2s\n",
      "696:\tlearn: 1425.4609414\ttotal: 25.7s\tremaining: 11.2s\n",
      "697:\tlearn: 1425.3544400\ttotal: 25.7s\tremaining: 11.1s\n",
      "698:\tlearn: 1425.2834872\ttotal: 25.7s\tremaining: 11.1s\n",
      "699:\tlearn: 1424.8819716\ttotal: 25.8s\tremaining: 11s\n",
      "700:\tlearn: 1424.7137633\ttotal: 25.8s\tremaining: 11s\n",
      "701:\tlearn: 1424.5328009\ttotal: 25.9s\tremaining: 11s\n",
      "702:\tlearn: 1424.2803939\ttotal: 25.9s\tremaining: 10.9s\n",
      "703:\tlearn: 1424.0190693\ttotal: 25.9s\tremaining: 10.9s\n",
      "704:\tlearn: 1423.8085325\ttotal: 26s\tremaining: 10.9s\n",
      "705:\tlearn: 1423.5702382\ttotal: 26s\tremaining: 10.8s\n",
      "706:\tlearn: 1423.3564331\ttotal: 26.1s\tremaining: 10.8s\n",
      "707:\tlearn: 1423.2255134\ttotal: 26.1s\tremaining: 10.8s\n",
      "708:\tlearn: 1423.0400877\ttotal: 26.2s\tremaining: 10.8s\n",
      "709:\tlearn: 1422.7304214\ttotal: 26.2s\tremaining: 10.7s\n",
      "710:\tlearn: 1422.5790377\ttotal: 26.3s\tremaining: 10.7s\n",
      "711:\tlearn: 1422.3114345\ttotal: 26.3s\tremaining: 10.6s\n",
      "712:\tlearn: 1422.0474872\ttotal: 26.4s\tremaining: 10.6s\n",
      "713:\tlearn: 1421.8554321\ttotal: 26.4s\tremaining: 10.6s\n",
      "714:\tlearn: 1421.7618613\ttotal: 26.4s\tremaining: 10.5s\n",
      "715:\tlearn: 1421.5562167\ttotal: 26.5s\tremaining: 10.5s\n",
      "716:\tlearn: 1421.4429833\ttotal: 26.5s\tremaining: 10.5s\n",
      "717:\tlearn: 1421.2671551\ttotal: 26.6s\tremaining: 10.4s\n",
      "718:\tlearn: 1421.1163212\ttotal: 26.6s\tremaining: 10.4s\n",
      "719:\tlearn: 1421.0324963\ttotal: 26.6s\tremaining: 10.4s\n",
      "720:\tlearn: 1420.7465369\ttotal: 26.7s\tremaining: 10.3s\n",
      "721:\tlearn: 1420.5204188\ttotal: 26.7s\tremaining: 10.3s\n",
      "722:\tlearn: 1420.3576348\ttotal: 26.8s\tremaining: 10.3s\n",
      "723:\tlearn: 1420.0700564\ttotal: 26.8s\tremaining: 10.2s\n",
      "724:\tlearn: 1419.8188979\ttotal: 26.9s\tremaining: 10.2s\n",
      "725:\tlearn: 1419.5558660\ttotal: 26.9s\tremaining: 10.2s\n",
      "726:\tlearn: 1419.4229410\ttotal: 26.9s\tremaining: 10.1s\n",
      "727:\tlearn: 1419.3323789\ttotal: 27s\tremaining: 10.1s\n",
      "728:\tlearn: 1419.0973764\ttotal: 27s\tremaining: 10.1s\n",
      "729:\tlearn: 1418.9590303\ttotal: 27.1s\tremaining: 10s\n",
      "730:\tlearn: 1418.8373704\ttotal: 27.1s\tremaining: 9.98s\n",
      "731:\tlearn: 1418.6680970\ttotal: 27.2s\tremaining: 9.95s\n",
      "732:\tlearn: 1418.5028442\ttotal: 27.2s\tremaining: 9.92s\n",
      "733:\tlearn: 1418.4317870\ttotal: 27.3s\tremaining: 9.89s\n",
      "734:\tlearn: 1418.2208668\ttotal: 27.3s\tremaining: 9.85s\n",
      "735:\tlearn: 1417.9951509\ttotal: 27.4s\tremaining: 9.81s\n",
      "736:\tlearn: 1417.8641684\ttotal: 27.4s\tremaining: 9.78s\n",
      "737:\tlearn: 1417.6637473\ttotal: 27.4s\tremaining: 9.74s\n",
      "738:\tlearn: 1417.4729561\ttotal: 27.5s\tremaining: 9.71s\n",
      "739:\tlearn: 1417.2663449\ttotal: 27.5s\tremaining: 9.67s\n",
      "740:\tlearn: 1417.1249908\ttotal: 27.6s\tremaining: 9.63s\n",
      "741:\tlearn: 1416.7768462\ttotal: 27.6s\tremaining: 9.6s\n",
      "742:\tlearn: 1416.5911661\ttotal: 27.6s\tremaining: 9.56s\n",
      "743:\tlearn: 1416.4636476\ttotal: 27.7s\tremaining: 9.52s\n",
      "744:\tlearn: 1416.3175718\ttotal: 27.7s\tremaining: 9.48s\n",
      "745:\tlearn: 1416.1378338\ttotal: 27.8s\tremaining: 9.45s\n",
      "746:\tlearn: 1415.9431942\ttotal: 27.8s\tremaining: 9.41s\n",
      "747:\tlearn: 1415.8469656\ttotal: 27.8s\tremaining: 9.38s\n",
      "748:\tlearn: 1415.6943277\ttotal: 27.9s\tremaining: 9.34s\n",
      "749:\tlearn: 1415.6206626\ttotal: 27.9s\tremaining: 9.3s\n",
      "750:\tlearn: 1415.3801023\ttotal: 28s\tremaining: 9.27s\n",
      "751:\tlearn: 1415.2550472\ttotal: 28s\tremaining: 9.23s\n",
      "752:\tlearn: 1414.9010335\ttotal: 28s\tremaining: 9.19s\n",
      "753:\tlearn: 1414.7871088\ttotal: 28.1s\tremaining: 9.16s\n",
      "754:\tlearn: 1414.6340111\ttotal: 28.1s\tremaining: 9.12s\n",
      "755:\tlearn: 1414.4694764\ttotal: 28.1s\tremaining: 9.09s\n",
      "756:\tlearn: 1414.2643422\ttotal: 28.2s\tremaining: 9.05s\n",
      "757:\tlearn: 1414.1475312\ttotal: 28.2s\tremaining: 9.01s\n",
      "758:\tlearn: 1413.9269754\ttotal: 28.3s\tremaining: 8.97s\n",
      "759:\tlearn: 1413.7372219\ttotal: 28.3s\tremaining: 8.94s\n",
      "760:\tlearn: 1413.6337075\ttotal: 28.3s\tremaining: 8.9s\n",
      "761:\tlearn: 1413.4788091\ttotal: 28.4s\tremaining: 8.86s\n",
      "762:\tlearn: 1413.2535635\ttotal: 28.4s\tremaining: 8.83s\n",
      "763:\tlearn: 1413.1519440\ttotal: 28.5s\tremaining: 8.79s\n",
      "764:\tlearn: 1412.8811660\ttotal: 28.5s\tremaining: 8.75s\n",
      "765:\tlearn: 1412.7747972\ttotal: 28.5s\tremaining: 8.72s\n",
      "766:\tlearn: 1412.6852058\ttotal: 28.6s\tremaining: 8.68s\n",
      "767:\tlearn: 1412.4854934\ttotal: 28.6s\tremaining: 8.64s\n",
      "768:\tlearn: 1412.2922741\ttotal: 28.7s\tremaining: 8.61s\n",
      "769:\tlearn: 1412.0664306\ttotal: 28.7s\tremaining: 8.57s\n",
      "770:\tlearn: 1411.9040941\ttotal: 28.7s\tremaining: 8.54s\n",
      "771:\tlearn: 1411.7101912\ttotal: 28.8s\tremaining: 8.5s\n",
      "772:\tlearn: 1411.1951317\ttotal: 28.8s\tremaining: 8.46s\n",
      "773:\tlearn: 1410.9098197\ttotal: 28.9s\tremaining: 8.43s\n",
      "774:\tlearn: 1410.7696615\ttotal: 28.9s\tremaining: 8.39s\n",
      "775:\tlearn: 1410.5275971\ttotal: 29s\tremaining: 8.36s\n",
      "776:\tlearn: 1410.2563573\ttotal: 29s\tremaining: 8.32s\n",
      "777:\tlearn: 1410.1967151\ttotal: 29.1s\tremaining: 8.29s\n",
      "778:\tlearn: 1410.0769591\ttotal: 29.1s\tremaining: 8.25s\n",
      "779:\tlearn: 1409.8966354\ttotal: 29.1s\tremaining: 8.22s\n",
      "780:\tlearn: 1409.7441445\ttotal: 29.2s\tremaining: 8.18s\n",
      "781:\tlearn: 1409.3328561\ttotal: 29.2s\tremaining: 8.14s\n",
      "782:\tlearn: 1409.0176544\ttotal: 29.3s\tremaining: 8.11s\n",
      "783:\tlearn: 1408.8709816\ttotal: 29.3s\tremaining: 8.07s\n",
      "784:\tlearn: 1408.6332428\ttotal: 29.3s\tremaining: 8.04s\n",
      "785:\tlearn: 1408.4740984\ttotal: 29.4s\tremaining: 8s\n",
      "786:\tlearn: 1408.3468821\ttotal: 29.4s\tremaining: 7.96s\n",
      "787:\tlearn: 1408.1309974\ttotal: 29.5s\tremaining: 7.92s\n",
      "788:\tlearn: 1408.0727648\ttotal: 29.5s\tremaining: 7.89s\n",
      "789:\tlearn: 1407.8303288\ttotal: 29.5s\tremaining: 7.85s\n",
      "790:\tlearn: 1407.4853367\ttotal: 29.6s\tremaining: 7.81s\n",
      "791:\tlearn: 1407.3569298\ttotal: 29.6s\tremaining: 7.77s\n",
      "792:\tlearn: 1407.2579959\ttotal: 29.6s\tremaining: 7.74s\n",
      "793:\tlearn: 1407.0858068\ttotal: 29.7s\tremaining: 7.7s\n",
      "794:\tlearn: 1406.9724730\ttotal: 29.7s\tremaining: 7.66s\n",
      "795:\tlearn: 1406.8057548\ttotal: 29.8s\tremaining: 7.62s\n",
      "796:\tlearn: 1406.5174278\ttotal: 29.8s\tremaining: 7.59s\n",
      "797:\tlearn: 1406.2521484\ttotal: 29.8s\tremaining: 7.55s\n",
      "798:\tlearn: 1405.8225888\ttotal: 29.9s\tremaining: 7.51s\n",
      "799:\tlearn: 1405.6088812\ttotal: 29.9s\tremaining: 7.47s\n",
      "800:\tlearn: 1405.4995085\ttotal: 29.9s\tremaining: 7.44s\n",
      "801:\tlearn: 1405.2592924\ttotal: 30s\tremaining: 7.4s\n",
      "802:\tlearn: 1405.0240515\ttotal: 30s\tremaining: 7.36s\n",
      "803:\tlearn: 1404.8525116\ttotal: 30.1s\tremaining: 7.33s\n",
      "804:\tlearn: 1404.6588747\ttotal: 30.1s\tremaining: 7.29s\n",
      "805:\tlearn: 1404.4262969\ttotal: 30.1s\tremaining: 7.25s\n",
      "806:\tlearn: 1404.3039588\ttotal: 30.2s\tremaining: 7.21s\n",
      "807:\tlearn: 1404.1914743\ttotal: 30.2s\tremaining: 7.18s\n",
      "808:\tlearn: 1403.9814126\ttotal: 30.2s\tremaining: 7.14s\n",
      "809:\tlearn: 1403.7759424\ttotal: 30.3s\tremaining: 7.1s\n",
      "810:\tlearn: 1403.4905688\ttotal: 30.3s\tremaining: 7.07s\n",
      "811:\tlearn: 1403.3112307\ttotal: 30.4s\tremaining: 7.03s\n",
      "812:\tlearn: 1403.2698426\ttotal: 30.4s\tremaining: 6.99s\n",
      "813:\tlearn: 1402.9750311\ttotal: 30.4s\tremaining: 6.95s\n",
      "814:\tlearn: 1402.8188273\ttotal: 30.5s\tremaining: 6.92s\n",
      "815:\tlearn: 1402.7163036\ttotal: 30.5s\tremaining: 6.88s\n",
      "816:\tlearn: 1402.6668125\ttotal: 30.5s\tremaining: 6.84s\n",
      "817:\tlearn: 1402.4372430\ttotal: 30.6s\tremaining: 6.8s\n",
      "818:\tlearn: 1402.2873903\ttotal: 30.6s\tremaining: 6.77s\n",
      "819:\tlearn: 1402.0444059\ttotal: 30.7s\tremaining: 6.73s\n",
      "820:\tlearn: 1401.9244752\ttotal: 30.7s\tremaining: 6.7s\n",
      "821:\tlearn: 1401.7509765\ttotal: 30.7s\tremaining: 6.66s\n",
      "822:\tlearn: 1401.7104077\ttotal: 30.8s\tremaining: 6.62s\n",
      "823:\tlearn: 1401.5499634\ttotal: 30.8s\tremaining: 6.58s\n",
      "824:\tlearn: 1401.4330089\ttotal: 30.9s\tremaining: 6.55s\n",
      "825:\tlearn: 1401.3718524\ttotal: 30.9s\tremaining: 6.51s\n",
      "826:\tlearn: 1401.2156937\ttotal: 30.9s\tremaining: 6.47s\n",
      "827:\tlearn: 1401.0874793\ttotal: 31s\tremaining: 6.43s\n",
      "828:\tlearn: 1400.8033096\ttotal: 31s\tremaining: 6.4s\n",
      "829:\tlearn: 1400.6359451\ttotal: 31.1s\tremaining: 6.36s\n",
      "830:\tlearn: 1400.4809612\ttotal: 31.1s\tremaining: 6.32s\n",
      "831:\tlearn: 1400.4089188\ttotal: 31.1s\tremaining: 6.29s\n",
      "832:\tlearn: 1400.1287001\ttotal: 31.2s\tremaining: 6.25s\n",
      "833:\tlearn: 1399.9456313\ttotal: 31.2s\tremaining: 6.21s\n",
      "834:\tlearn: 1399.8317120\ttotal: 31.2s\tremaining: 6.17s\n",
      "835:\tlearn: 1399.7376724\ttotal: 31.3s\tremaining: 6.14s\n",
      "836:\tlearn: 1399.5078106\ttotal: 31.3s\tremaining: 6.1s\n",
      "837:\tlearn: 1399.3710388\ttotal: 31.4s\tremaining: 6.06s\n",
      "838:\tlearn: 1398.8978852\ttotal: 31.4s\tremaining: 6.02s\n",
      "839:\tlearn: 1398.7458166\ttotal: 31.4s\tremaining: 5.99s\n",
      "840:\tlearn: 1398.5631462\ttotal: 31.5s\tremaining: 5.95s\n",
      "841:\tlearn: 1398.2533815\ttotal: 31.5s\tremaining: 5.91s\n",
      "842:\tlearn: 1398.1149948\ttotal: 31.5s\tremaining: 5.87s\n",
      "843:\tlearn: 1397.9300045\ttotal: 31.6s\tremaining: 5.83s\n",
      "844:\tlearn: 1397.7958807\ttotal: 31.6s\tremaining: 5.8s\n",
      "845:\tlearn: 1397.6140912\ttotal: 31.6s\tremaining: 5.76s\n",
      "846:\tlearn: 1397.3760956\ttotal: 31.7s\tremaining: 5.72s\n",
      "847:\tlearn: 1397.2819719\ttotal: 31.7s\tremaining: 5.68s\n",
      "848:\tlearn: 1396.7757315\ttotal: 31.7s\tremaining: 5.64s\n",
      "849:\tlearn: 1396.6310104\ttotal: 31.8s\tremaining: 5.61s\n",
      "850:\tlearn: 1396.4133073\ttotal: 31.8s\tremaining: 5.57s\n",
      "851:\tlearn: 1396.3300906\ttotal: 31.9s\tremaining: 5.53s\n",
      "852:\tlearn: 1396.2340018\ttotal: 31.9s\tremaining: 5.5s\n",
      "853:\tlearn: 1395.9877977\ttotal: 31.9s\tremaining: 5.46s\n",
      "854:\tlearn: 1395.6785463\ttotal: 32s\tremaining: 5.42s\n",
      "855:\tlearn: 1395.5000628\ttotal: 32s\tremaining: 5.38s\n",
      "856:\tlearn: 1395.3972675\ttotal: 32s\tremaining: 5.34s\n",
      "857:\tlearn: 1395.2034500\ttotal: 32.1s\tremaining: 5.31s\n",
      "858:\tlearn: 1395.0648695\ttotal: 32.1s\tremaining: 5.27s\n",
      "859:\tlearn: 1394.9553364\ttotal: 32.1s\tremaining: 5.23s\n",
      "860:\tlearn: 1394.8505761\ttotal: 32.2s\tremaining: 5.2s\n",
      "861:\tlearn: 1394.5463739\ttotal: 32.2s\tremaining: 5.16s\n",
      "862:\tlearn: 1394.3384982\ttotal: 32.3s\tremaining: 5.12s\n",
      "863:\tlearn: 1394.1780791\ttotal: 32.3s\tremaining: 5.08s\n",
      "864:\tlearn: 1393.9534160\ttotal: 32.3s\tremaining: 5.05s\n",
      "865:\tlearn: 1393.8612676\ttotal: 32.4s\tremaining: 5.01s\n",
      "866:\tlearn: 1393.6895824\ttotal: 32.4s\tremaining: 4.97s\n",
      "867:\tlearn: 1393.4907782\ttotal: 32.4s\tremaining: 4.93s\n",
      "868:\tlearn: 1393.3365760\ttotal: 32.5s\tremaining: 4.9s\n",
      "869:\tlearn: 1392.9119379\ttotal: 32.5s\tremaining: 4.86s\n",
      "870:\tlearn: 1392.8111463\ttotal: 32.5s\tremaining: 4.82s\n",
      "871:\tlearn: 1392.7276131\ttotal: 32.6s\tremaining: 4.78s\n",
      "872:\tlearn: 1392.5506666\ttotal: 32.6s\tremaining: 4.75s\n",
      "873:\tlearn: 1392.4265760\ttotal: 32.7s\tremaining: 4.71s\n",
      "874:\tlearn: 1392.2978265\ttotal: 32.7s\tremaining: 4.67s\n",
      "875:\tlearn: 1392.1463140\ttotal: 32.7s\tremaining: 4.63s\n",
      "876:\tlearn: 1391.8885739\ttotal: 32.8s\tremaining: 4.6s\n",
      "877:\tlearn: 1391.7406476\ttotal: 32.8s\tremaining: 4.56s\n",
      "878:\tlearn: 1391.6173737\ttotal: 32.9s\tremaining: 4.52s\n",
      "879:\tlearn: 1391.4041413\ttotal: 32.9s\tremaining: 4.49s\n",
      "880:\tlearn: 1391.2003909\ttotal: 32.9s\tremaining: 4.45s\n",
      "881:\tlearn: 1390.8763403\ttotal: 33s\tremaining: 4.41s\n",
      "882:\tlearn: 1390.6649011\ttotal: 33s\tremaining: 4.37s\n",
      "883:\tlearn: 1390.3435796\ttotal: 33s\tremaining: 4.33s\n",
      "884:\tlearn: 1390.1804131\ttotal: 33.1s\tremaining: 4.3s\n",
      "885:\tlearn: 1390.0779138\ttotal: 33.1s\tremaining: 4.26s\n",
      "886:\tlearn: 1389.8367547\ttotal: 33.1s\tremaining: 4.22s\n",
      "887:\tlearn: 1389.7785795\ttotal: 33.2s\tremaining: 4.18s\n",
      "888:\tlearn: 1389.6487309\ttotal: 33.2s\tremaining: 4.14s\n",
      "889:\tlearn: 1389.5485744\ttotal: 33.2s\tremaining: 4.11s\n",
      "890:\tlearn: 1389.3719589\ttotal: 33.3s\tremaining: 4.07s\n",
      "891:\tlearn: 1389.2441668\ttotal: 33.3s\tremaining: 4.03s\n",
      "892:\tlearn: 1389.1623339\ttotal: 33.4s\tremaining: 4s\n",
      "893:\tlearn: 1389.0762403\ttotal: 33.4s\tremaining: 3.96s\n",
      "894:\tlearn: 1388.8417541\ttotal: 33.4s\tremaining: 3.92s\n",
      "895:\tlearn: 1388.5132826\ttotal: 33.5s\tremaining: 3.88s\n",
      "896:\tlearn: 1388.3398806\ttotal: 33.5s\tremaining: 3.85s\n",
      "897:\tlearn: 1388.1198894\ttotal: 33.5s\tremaining: 3.81s\n",
      "898:\tlearn: 1387.9058599\ttotal: 33.6s\tremaining: 3.77s\n",
      "899:\tlearn: 1387.7957202\ttotal: 33.6s\tremaining: 3.73s\n",
      "900:\tlearn: 1387.5717214\ttotal: 33.6s\tremaining: 3.7s\n",
      "901:\tlearn: 1387.4601370\ttotal: 33.7s\tremaining: 3.66s\n",
      "902:\tlearn: 1387.3197753\ttotal: 33.7s\tremaining: 3.62s\n",
      "903:\tlearn: 1387.1785943\ttotal: 33.7s\tremaining: 3.58s\n",
      "904:\tlearn: 1386.9835780\ttotal: 33.8s\tremaining: 3.55s\n",
      "905:\tlearn: 1386.4993493\ttotal: 33.8s\tremaining: 3.51s\n",
      "906:\tlearn: 1386.3992563\ttotal: 33.9s\tremaining: 3.47s\n",
      "907:\tlearn: 1386.2997820\ttotal: 33.9s\tremaining: 3.43s\n",
      "908:\tlearn: 1386.1663256\ttotal: 33.9s\tremaining: 3.4s\n",
      "909:\tlearn: 1385.9725915\ttotal: 34s\tremaining: 3.36s\n",
      "910:\tlearn: 1385.8158785\ttotal: 34s\tremaining: 3.32s\n",
      "911:\tlearn: 1385.5948574\ttotal: 34.1s\tremaining: 3.29s\n",
      "912:\tlearn: 1385.4563274\ttotal: 34.1s\tremaining: 3.25s\n",
      "913:\tlearn: 1385.3351912\ttotal: 34.1s\tremaining: 3.21s\n",
      "914:\tlearn: 1385.2382215\ttotal: 34.2s\tremaining: 3.17s\n",
      "915:\tlearn: 1385.0744388\ttotal: 34.2s\tremaining: 3.14s\n",
      "916:\tlearn: 1384.9762005\ttotal: 34.3s\tremaining: 3.1s\n",
      "917:\tlearn: 1384.6587124\ttotal: 34.3s\tremaining: 3.06s\n",
      "918:\tlearn: 1384.4557296\ttotal: 34.3s\tremaining: 3.02s\n",
      "919:\tlearn: 1384.3116450\ttotal: 34.4s\tremaining: 2.99s\n",
      "920:\tlearn: 1384.2567230\ttotal: 34.4s\tremaining: 2.95s\n",
      "921:\tlearn: 1384.0594457\ttotal: 34.4s\tremaining: 2.91s\n",
      "922:\tlearn: 1383.9607865\ttotal: 34.5s\tremaining: 2.88s\n",
      "923:\tlearn: 1383.7034673\ttotal: 34.5s\tremaining: 2.84s\n",
      "924:\tlearn: 1383.5736315\ttotal: 34.5s\tremaining: 2.8s\n",
      "925:\tlearn: 1383.4048361\ttotal: 34.6s\tremaining: 2.76s\n",
      "926:\tlearn: 1383.1123255\ttotal: 34.6s\tremaining: 2.73s\n",
      "927:\tlearn: 1383.0139912\ttotal: 34.7s\tremaining: 2.69s\n",
      "928:\tlearn: 1382.9060894\ttotal: 34.7s\tremaining: 2.65s\n",
      "929:\tlearn: 1382.7253791\ttotal: 34.7s\tremaining: 2.61s\n",
      "930:\tlearn: 1382.6163844\ttotal: 34.8s\tremaining: 2.58s\n",
      "931:\tlearn: 1382.4348515\ttotal: 34.8s\tremaining: 2.54s\n",
      "932:\tlearn: 1382.3542774\ttotal: 34.8s\tremaining: 2.5s\n",
      "933:\tlearn: 1382.1640742\ttotal: 34.9s\tremaining: 2.46s\n",
      "934:\tlearn: 1381.9478418\ttotal: 34.9s\tremaining: 2.43s\n",
      "935:\tlearn: 1381.7718684\ttotal: 34.9s\tremaining: 2.39s\n",
      "936:\tlearn: 1381.5546644\ttotal: 35s\tremaining: 2.35s\n",
      "937:\tlearn: 1381.1620768\ttotal: 35s\tremaining: 2.31s\n",
      "938:\tlearn: 1381.0091812\ttotal: 35.1s\tremaining: 2.28s\n",
      "939:\tlearn: 1380.9208194\ttotal: 35.1s\tremaining: 2.24s\n",
      "940:\tlearn: 1380.8886447\ttotal: 35.1s\tremaining: 2.2s\n",
      "941:\tlearn: 1380.8079773\ttotal: 35.2s\tremaining: 2.17s\n",
      "942:\tlearn: 1380.5633257\ttotal: 35.2s\tremaining: 2.13s\n",
      "943:\tlearn: 1380.3071076\ttotal: 35.2s\tremaining: 2.09s\n",
      "944:\tlearn: 1380.1732156\ttotal: 35.3s\tremaining: 2.05s\n",
      "945:\tlearn: 1380.0431870\ttotal: 35.3s\tremaining: 2.02s\n",
      "946:\tlearn: 1379.9064472\ttotal: 35.3s\tremaining: 1.98s\n",
      "947:\tlearn: 1379.8412074\ttotal: 35.4s\tremaining: 1.94s\n",
      "948:\tlearn: 1379.7018966\ttotal: 35.4s\tremaining: 1.9s\n",
      "949:\tlearn: 1379.5825524\ttotal: 35.5s\tremaining: 1.87s\n",
      "950:\tlearn: 1379.3494510\ttotal: 35.5s\tremaining: 1.83s\n",
      "951:\tlearn: 1379.2769432\ttotal: 35.6s\tremaining: 1.79s\n",
      "952:\tlearn: 1379.2155240\ttotal: 35.6s\tremaining: 1.75s\n",
      "953:\tlearn: 1379.0538484\ttotal: 35.6s\tremaining: 1.72s\n",
      "954:\tlearn: 1378.8529083\ttotal: 35.7s\tremaining: 1.68s\n",
      "955:\tlearn: 1378.6666701\ttotal: 35.7s\tremaining: 1.64s\n",
      "956:\tlearn: 1378.5382087\ttotal: 35.7s\tremaining: 1.6s\n",
      "957:\tlearn: 1378.4376413\ttotal: 35.8s\tremaining: 1.57s\n",
      "958:\tlearn: 1378.3650526\ttotal: 35.8s\tremaining: 1.53s\n",
      "959:\tlearn: 1378.1799048\ttotal: 35.8s\tremaining: 1.49s\n",
      "960:\tlearn: 1378.0437584\ttotal: 35.9s\tremaining: 1.46s\n",
      "961:\tlearn: 1377.9737656\ttotal: 35.9s\tremaining: 1.42s\n",
      "962:\tlearn: 1377.7595776\ttotal: 36s\tremaining: 1.38s\n",
      "963:\tlearn: 1377.5834682\ttotal: 36s\tremaining: 1.34s\n",
      "964:\tlearn: 1377.3527952\ttotal: 36s\tremaining: 1.31s\n",
      "965:\tlearn: 1377.2459293\ttotal: 36.1s\tremaining: 1.27s\n",
      "966:\tlearn: 1377.1295976\ttotal: 36.1s\tremaining: 1.23s\n",
      "967:\tlearn: 1376.9739774\ttotal: 36.2s\tremaining: 1.2s\n",
      "968:\tlearn: 1376.8150457\ttotal: 36.2s\tremaining: 1.16s\n",
      "969:\tlearn: 1376.6894618\ttotal: 36.2s\tremaining: 1.12s\n",
      "970:\tlearn: 1376.5662563\ttotal: 36.3s\tremaining: 1.08s\n",
      "971:\tlearn: 1376.4614560\ttotal: 36.3s\tremaining: 1.04s\n",
      "972:\tlearn: 1376.2806720\ttotal: 36.3s\tremaining: 1.01s\n",
      "973:\tlearn: 1376.2045483\ttotal: 36.4s\tremaining: 971ms\n",
      "974:\tlearn: 1376.1544128\ttotal: 36.4s\tremaining: 933ms\n",
      "975:\tlearn: 1376.0650001\ttotal: 36.4s\tremaining: 896ms\n",
      "976:\tlearn: 1375.6971017\ttotal: 36.5s\tremaining: 859ms\n",
      "977:\tlearn: 1375.6639332\ttotal: 36.6s\tremaining: 823ms\n",
      "978:\tlearn: 1375.3871291\ttotal: 36.7s\tremaining: 787ms\n",
      "979:\tlearn: 1375.2742313\ttotal: 36.7s\tremaining: 750ms\n",
      "980:\tlearn: 1375.1886910\ttotal: 36.8s\tremaining: 713ms\n",
      "981:\tlearn: 1375.0004973\ttotal: 36.9s\tremaining: 675ms\n",
      "982:\tlearn: 1374.8400226\ttotal: 36.9s\tremaining: 639ms\n",
      "983:\tlearn: 1374.6640551\ttotal: 37s\tremaining: 601ms\n",
      "984:\tlearn: 1374.6124675\ttotal: 37s\tremaining: 564ms\n",
      "985:\tlearn: 1374.5344047\ttotal: 37.1s\tremaining: 526ms\n",
      "986:\tlearn: 1374.4338945\ttotal: 37.1s\tremaining: 489ms\n",
      "987:\tlearn: 1374.3162254\ttotal: 37.1s\tremaining: 451ms\n",
      "988:\tlearn: 1374.0869406\ttotal: 37.2s\tremaining: 413ms\n",
      "989:\tlearn: 1373.9498656\ttotal: 37.2s\tremaining: 376ms\n",
      "990:\tlearn: 1373.5491316\ttotal: 37.2s\tremaining: 338ms\n",
      "991:\tlearn: 1373.4608693\ttotal: 37.3s\tremaining: 301ms\n",
      "992:\tlearn: 1373.3920674\ttotal: 37.3s\tremaining: 263ms\n",
      "993:\tlearn: 1373.3192973\ttotal: 37.3s\tremaining: 225ms\n",
      "994:\tlearn: 1373.2377744\ttotal: 37.4s\tremaining: 188ms\n",
      "995:\tlearn: 1373.0720181\ttotal: 37.4s\tremaining: 150ms\n",
      "996:\tlearn: 1372.8725341\ttotal: 37.4s\tremaining: 113ms\n",
      "997:\tlearn: 1372.7670710\ttotal: 37.5s\tremaining: 75.1ms\n",
      "998:\tlearn: 1372.5828574\ttotal: 37.5s\tremaining: 37.5ms\n",
      "999:\tlearn: 1372.4504370\ttotal: 37.5s\tremaining: 0us\n",
      "CPU times: user 37.5 s, sys: 246 ms, total: 37.8 s\n",
      "Wall time: 39.9 s\n"
     ]
    },
    {
     "data": {
      "text/plain": [
       "<catboost.core.CatBoostRegressor at 0x7fa9dbce09a0>"
      ]
     },
     "execution_count": 39,
     "metadata": {},
     "output_type": "execute_result"
    }
   ],
   "source": [
    "%%time\n",
    "cat = CatBoostRegressor(depth=10, learning_rate=0.2)\n",
    "cat.fit(features_train_ohe,target_train)"
   ]
  },
  {
   "cell_type": "code",
   "execution_count": 40,
   "metadata": {},
   "outputs": [
    {
     "name": "stdout",
     "output_type": "stream",
     "text": [
      "CPU times: user 210 ms, sys: 0 ns, total: 210 ms\n",
      "Wall time: 212 ms\n"
     ]
    }
   ],
   "source": [
    "%%time\n",
    "pred = cat.predict(features_valid_ohe) "
   ]
  },
  {
   "cell_type": "code",
   "execution_count": 41,
   "metadata": {},
   "outputs": [
    {
     "name": "stdout",
     "output_type": "stream",
     "text": [
      "RMSE: 1647.04\n"
     ]
    }
   ],
   "source": [
    "mse = mean_squared_error(target_valid, pred)\n",
    "rmse = mse**(0.5)\n",
    "print(\"RMSE: %.2f\" % rmse) "
   ]
  },
  {
   "cell_type": "markdown",
   "metadata": {},
   "source": [
    "### Random Forest"
   ]
  },
  {
   "cell_type": "code",
   "execution_count": 42,
   "metadata": {},
   "outputs": [
    {
     "data": {
      "text/plain": [
       "Index(['Price', 'VehicleType', 'RegistrationYear', 'Gearbox', 'Power', 'Model',\n",
       "       'Kilometer', 'FuelType', 'Brand', 'Repaired', 'NumberOfPictures'],\n",
       "      dtype='object')"
      ]
     },
     "execution_count": 42,
     "metadata": {},
     "output_type": "execute_result"
    }
   ],
   "source": [
    "data_to_ohe.columns"
   ]
  },
  {
   "cell_type": "code",
   "execution_count": 43,
   "metadata": {},
   "outputs": [],
   "source": [
    "# порядковое кодирование (для \"деревянных моделей\")\n",
    "encoder = OrdinalEncoder(handle_unknown='use_encoded_value', unknown_value=9999)\n",
    "cat_columns = ['VehicleType', 'RegistrationYear', 'Gearbox', 'Power', 'Model',\n",
    "       'Kilometer', 'FuelType', 'Brand', 'Repaired']\n",
    "encoder.fit(features_train[cat_columns])\n",
    "\n",
    "features_train_ord = features_train.copy()\n",
    "features_valid_ord = features_valid.copy()\n",
    "features_test_ord = features_test.copy()\n",
    "\n",
    "features_train_ord[cat_columns] = encoder.transform(features_train_ord[cat_columns])\n",
    "features_valid_ord[cat_columns] = encoder.transform(features_valid_ord[cat_columns])\n",
    "features_test_ord[cat_columns] = encoder.transform(features_test_ord[cat_columns])"
   ]
  },
  {
   "cell_type": "code",
   "execution_count": 44,
   "metadata": {},
   "outputs": [
    {
     "name": "stdout",
     "output_type": "stream",
     "text": [
      "CPU times: user 23 s, sys: 333 ms, total: 23.3 s\n",
      "Wall time: 23.3 s\n"
     ]
    },
    {
     "data": {
      "text/plain": [
       "RandomForestRegressor(n_jobs=-1, random_state=12345)"
      ]
     },
     "execution_count": 44,
     "metadata": {},
     "output_type": "execute_result"
    }
   ],
   "source": [
    "%%time\n",
    "rfr = RandomForestRegressor(random_state=12345,n_estimators = 100,n_jobs=-1)\n",
    "rfr.fit(features_train_ord, target_train)"
   ]
  },
  {
   "cell_type": "code",
   "execution_count": 45,
   "metadata": {},
   "outputs": [
    {
     "name": "stdout",
     "output_type": "stream",
     "text": [
      "CPU times: user 1.29 s, sys: 466 µs, total: 1.29 s\n",
      "Wall time: 1.3 s\n"
     ]
    }
   ],
   "source": [
    "%%time\n",
    "pred = rfr.predict(features_valid_ord) "
   ]
  },
  {
   "cell_type": "code",
   "execution_count": 46,
   "metadata": {},
   "outputs": [
    {
     "name": "stdout",
     "output_type": "stream",
     "text": [
      "RMSE: 1766.76\n"
     ]
    }
   ],
   "source": [
    "mse = mean_squared_error(target_valid, pred)\n",
    "rmse = mse**(0.5)\n",
    "print(\"RMSE: %.2f\" % rmse) "
   ]
  },
  {
   "cell_type": "markdown",
   "metadata": {},
   "source": [
    "## Анализ моделей"
   ]
  },
  {
   "cell_type": "code",
   "execution_count": 52,
   "metadata": {},
   "outputs": [],
   "source": [
    "result_data = [[\"GBM\", \"13.9 s\", \" 1695.22\"],\n",
    "         [\"Catboost\", \"39.9 s\", \"1647.04\"],\n",
    "         [\"RF\", \"23.3\", \"1766.76\"]]\n",
    "result= pd.DataFrame(result_data, columns=[\"Model\",\"Wall time\", \"RMSE\"])\n",
    "result = result.set_index('Model')"
   ]
  },
  {
   "cell_type": "code",
   "execution_count": 53,
   "metadata": {},
   "outputs": [
    {
     "data": {
      "text/html": [
       "<div>\n",
       "<style scoped>\n",
       "    .dataframe tbody tr th:only-of-type {\n",
       "        vertical-align: middle;\n",
       "    }\n",
       "\n",
       "    .dataframe tbody tr th {\n",
       "        vertical-align: top;\n",
       "    }\n",
       "\n",
       "    .dataframe thead th {\n",
       "        text-align: right;\n",
       "    }\n",
       "</style>\n",
       "<table border=\"1\" class=\"dataframe\">\n",
       "  <thead>\n",
       "    <tr style=\"text-align: right;\">\n",
       "      <th></th>\n",
       "      <th>Wall time</th>\n",
       "      <th>RMSE</th>\n",
       "    </tr>\n",
       "    <tr>\n",
       "      <th>Model</th>\n",
       "      <th></th>\n",
       "      <th></th>\n",
       "    </tr>\n",
       "  </thead>\n",
       "  <tbody>\n",
       "    <tr>\n",
       "      <th>GBM</th>\n",
       "      <td>13.9 s</td>\n",
       "      <td>1695.22</td>\n",
       "    </tr>\n",
       "    <tr>\n",
       "      <th>Catboost</th>\n",
       "      <td>39.9 s</td>\n",
       "      <td>1647.04</td>\n",
       "    </tr>\n",
       "    <tr>\n",
       "      <th>RF</th>\n",
       "      <td>23.3</td>\n",
       "      <td>1766.76</td>\n",
       "    </tr>\n",
       "  </tbody>\n",
       "</table>\n",
       "</div>"
      ],
      "text/plain": [
       "         Wall time      RMSE\n",
       "Model                       \n",
       "GBM         13.9 s   1695.22\n",
       "Catboost    39.9 s   1647.04\n",
       "RF            23.3   1766.76"
      ]
     },
     "execution_count": 53,
     "metadata": {},
     "output_type": "execute_result"
    }
   ],
   "source": [
    "result"
   ]
  },
  {
   "cell_type": "markdown",
   "metadata": {},
   "source": [
    "По результатам работы победила Catboost."
   ]
  },
  {
   "cell_type": "markdown",
   "metadata": {},
   "source": [
    "## Тестирование лучшей модели"
   ]
  },
  {
   "cell_type": "code",
   "execution_count": 49,
   "metadata": {},
   "outputs": [
    {
     "name": "stdout",
     "output_type": "stream",
     "text": [
      "RMSE: 1645.42\n"
     ]
    }
   ],
   "source": [
    "pred = cat.predict(features_test_ohe) \n",
    "mse = mean_squared_error(target_test, pred)\n",
    "rmse = mse**(0.5)\n",
    "print(\"RMSE: %.2f\" % rmse) "
   ]
  },
  {
   "cell_type": "markdown",
   "metadata": {},
   "source": [
    "# Общий вывод"
   ]
  },
  {
   "cell_type": "markdown",
   "metadata": {},
   "source": [
    "В данных много пропущенных значений, почти 30% от полного датасета. Есть аномалии: 0 месяца регистрации, 1930 года и т.д. В данной работе я выбрала дропнуть большинство пропущенных значений. Удалила неинформативные столбцы и дубликаты.\n",
    "    Самый лучший результат по скорости и качеству обучения показала - Catboost."
   ]
  }
 ],
 "metadata": {
  "ExecuteTimeLog": [
   {
    "duration": 395,
    "start_time": "2023-05-20T08:46:47.732Z"
   },
   {
    "duration": 1028,
    "start_time": "2023-05-20T08:46:57.030Z"
   },
   {
    "duration": 19,
    "start_time": "2023-05-20T08:47:05.447Z"
   },
   {
    "duration": 116,
    "start_time": "2023-05-20T08:47:19.604Z"
   },
   {
    "duration": 97,
    "start_time": "2023-05-20T08:47:30.907Z"
   },
   {
    "duration": 108,
    "start_time": "2023-05-20T08:48:47.910Z"
   },
   {
    "duration": 449,
    "start_time": "2023-05-20T14:47:22.085Z"
   },
   {
    "duration": 8,
    "start_time": "2023-05-20T14:48:26.877Z"
   },
   {
    "duration": 7,
    "start_time": "2023-05-20T14:48:53.089Z"
   },
   {
    "duration": 3,
    "start_time": "2023-05-20T14:48:57.068Z"
   },
   {
    "duration": 7,
    "start_time": "2023-05-20T14:49:27.164Z"
   },
   {
    "duration": 7,
    "start_time": "2023-05-20T14:49:36.144Z"
   },
   {
    "duration": 2,
    "start_time": "2023-05-20T14:49:39.581Z"
   },
   {
    "duration": 2900,
    "start_time": "2023-05-20T14:49:39.747Z"
   },
   {
    "duration": 19,
    "start_time": "2023-05-20T14:49:42.649Z"
   },
   {
    "duration": 127,
    "start_time": "2023-05-20T14:49:42.670Z"
   },
   {
    "duration": 124,
    "start_time": "2023-05-20T14:49:42.799Z"
   },
   {
    "duration": 34,
    "start_time": "2023-05-20T14:49:42.924Z"
   },
   {
    "duration": 94,
    "start_time": "2023-05-20T14:49:42.959Z"
   },
   {
    "duration": 56,
    "start_time": "2023-05-20T17:19:32.598Z"
   },
   {
    "duration": 35,
    "start_time": "2023-05-20T17:19:33.407Z"
   },
   {
    "duration": 44,
    "start_time": "2023-05-20T17:20:09.269Z"
   },
   {
    "duration": 48,
    "start_time": "2023-05-20T17:20:45.391Z"
   },
   {
    "duration": 119,
    "start_time": "2023-05-20T18:01:51.579Z"
   },
   {
    "duration": 14,
    "start_time": "2023-05-20T18:04:54.029Z"
   },
   {
    "duration": 5,
    "start_time": "2023-05-20T18:06:21.405Z"
   },
   {
    "duration": 70431,
    "start_time": "2023-05-20T18:06:23.983Z"
   },
   {
    "duration": 296,
    "start_time": "2023-05-20T18:07:40.795Z"
   },
   {
    "duration": 25,
    "start_time": "2023-05-20T18:07:55.607Z"
   },
   {
    "duration": 19,
    "start_time": "2023-05-20T18:07:59.159Z"
   },
   {
    "duration": 24,
    "start_time": "2023-05-20T18:08:01.917Z"
   },
   {
    "duration": 4,
    "start_time": "2023-05-20T18:08:28.675Z"
   },
   {
    "duration": 4,
    "start_time": "2023-05-20T18:08:36.383Z"
   },
   {
    "duration": 135,
    "start_time": "2023-05-20T18:08:42.321Z"
   },
   {
    "duration": 8,
    "start_time": "2023-05-20T18:08:52.084Z"
   },
   {
    "duration": 177,
    "start_time": "2023-05-20T18:11:55.431Z"
   },
   {
    "duration": 149,
    "start_time": "2023-05-20T18:12:05.333Z"
   },
   {
    "duration": 122,
    "start_time": "2023-05-20T18:12:21.055Z"
   },
   {
    "duration": 151,
    "start_time": "2023-05-20T18:12:26.965Z"
   },
   {
    "duration": 102,
    "start_time": "2023-05-20T18:12:27.680Z"
   },
   {
    "duration": 88,
    "start_time": "2023-05-20T18:12:29.259Z"
   },
   {
    "duration": 107,
    "start_time": "2023-05-20T18:17:56.564Z"
   },
   {
    "duration": 47,
    "start_time": "2023-05-20T18:18:19.775Z"
   },
   {
    "duration": 10,
    "start_time": "2023-05-20T18:18:24.494Z"
   },
   {
    "duration": 603,
    "start_time": "2023-05-20T18:18:38.718Z"
   },
   {
    "duration": 144,
    "start_time": "2023-05-20T18:18:43.296Z"
   },
   {
    "duration": 161,
    "start_time": "2023-05-20T18:19:26.473Z"
   },
   {
    "duration": 126,
    "start_time": "2023-05-20T18:19:43.268Z"
   },
   {
    "duration": 59,
    "start_time": "2023-05-20T18:19:53.072Z"
   },
   {
    "duration": 30,
    "start_time": "2023-05-20T18:20:03.375Z"
   },
   {
    "duration": 13,
    "start_time": "2023-05-20T18:20:09.691Z"
   },
   {
    "duration": 26,
    "start_time": "2023-05-20T18:20:15.264Z"
   },
   {
    "duration": 20,
    "start_time": "2023-05-20T18:20:30.523Z"
   },
   {
    "duration": 5,
    "start_time": "2023-05-20T18:20:48.382Z"
   },
   {
    "duration": 77,
    "start_time": "2023-05-20T18:21:38.380Z"
   },
   {
    "duration": 1604,
    "start_time": "2023-05-20T18:21:56.311Z"
   },
   {
    "duration": 2914,
    "start_time": "2023-05-20T18:21:57.917Z"
   },
   {
    "duration": 17,
    "start_time": "2023-05-20T18:22:00.835Z"
   },
   {
    "duration": 170,
    "start_time": "2023-05-20T18:22:00.856Z"
   },
   {
    "duration": 141,
    "start_time": "2023-05-20T18:22:01.028Z"
   },
   {
    "duration": 34,
    "start_time": "2023-05-20T18:22:01.175Z"
   },
   {
    "duration": 67,
    "start_time": "2023-05-20T18:22:01.211Z"
   },
   {
    "duration": 71,
    "start_time": "2023-05-20T18:22:01.280Z"
   },
   {
    "duration": 52,
    "start_time": "2023-05-20T18:22:01.353Z"
   },
   {
    "duration": 69,
    "start_time": "2023-05-20T18:22:01.407Z"
   },
   {
    "duration": 133,
    "start_time": "2023-05-20T18:22:01.478Z"
   },
   {
    "duration": 185,
    "start_time": "2023-05-20T18:22:01.613Z"
   },
   {
    "duration": 93,
    "start_time": "2023-05-20T18:22:01.801Z"
   },
   {
    "duration": 113,
    "start_time": "2023-05-20T18:22:01.896Z"
   },
   {
    "duration": 141,
    "start_time": "2023-05-20T18:22:02.010Z"
   },
   {
    "duration": 102,
    "start_time": "2023-05-20T18:22:02.152Z"
   },
   {
    "duration": 33,
    "start_time": "2023-05-20T18:22:02.256Z"
   },
   {
    "duration": 37,
    "start_time": "2023-05-20T18:22:02.291Z"
   },
   {
    "duration": 91,
    "start_time": "2023-05-20T18:22:02.330Z"
   },
   {
    "duration": 47,
    "start_time": "2023-05-20T18:23:01.899Z"
   },
   {
    "duration": 1504,
    "start_time": "2023-05-20T18:23:11.669Z"
   },
   {
    "duration": 2926,
    "start_time": "2023-05-20T18:23:13.175Z"
   },
   {
    "duration": 18,
    "start_time": "2023-05-20T18:23:16.103Z"
   },
   {
    "duration": 143,
    "start_time": "2023-05-20T18:23:16.123Z"
   },
   {
    "duration": 146,
    "start_time": "2023-05-20T18:23:16.275Z"
   },
   {
    "duration": 58,
    "start_time": "2023-05-20T18:23:16.423Z"
   },
   {
    "duration": 32,
    "start_time": "2023-05-20T18:23:16.482Z"
   },
   {
    "duration": 36,
    "start_time": "2023-05-20T18:23:16.516Z"
   },
   {
    "duration": 50,
    "start_time": "2023-05-20T18:23:16.553Z"
   },
   {
    "duration": 31,
    "start_time": "2023-05-20T18:23:16.604Z"
   },
   {
    "duration": 102,
    "start_time": "2023-05-20T18:23:16.637Z"
   },
   {
    "duration": 173,
    "start_time": "2023-05-20T18:23:16.740Z"
   },
   {
    "duration": 93,
    "start_time": "2023-05-20T18:23:16.915Z"
   },
   {
    "duration": 89,
    "start_time": "2023-05-20T18:23:17.011Z"
   },
   {
    "duration": 83,
    "start_time": "2023-05-20T18:23:17.101Z"
   },
   {
    "duration": 89,
    "start_time": "2023-05-20T18:23:17.186Z"
   },
   {
    "duration": 19,
    "start_time": "2023-05-20T18:23:17.276Z"
   },
   {
    "duration": 9,
    "start_time": "2023-05-20T18:23:17.297Z"
   },
   {
    "duration": 49,
    "start_time": "2023-05-20T18:23:17.307Z"
   },
   {
    "duration": 433,
    "start_time": "2023-05-20T18:23:17.358Z"
   },
   {
    "duration": 6,
    "start_time": "2023-05-20T18:23:35.262Z"
   },
   {
    "duration": 24,
    "start_time": "2023-05-20T18:25:06.398Z"
   },
   {
    "duration": 157,
    "start_time": "2023-05-20T18:28:29.818Z"
   },
   {
    "duration": 3,
    "start_time": "2023-05-20T18:29:54.367Z"
   },
   {
    "duration": 1073,
    "start_time": "2023-05-20T19:07:55.997Z"
   },
   {
    "duration": 798,
    "start_time": "2023-05-20T19:07:57.072Z"
   },
   {
    "duration": 19,
    "start_time": "2023-05-20T19:07:57.872Z"
   },
   {
    "duration": 144,
    "start_time": "2023-05-20T19:07:57.892Z"
   },
   {
    "duration": 146,
    "start_time": "2023-05-20T19:07:58.039Z"
   },
   {
    "duration": 34,
    "start_time": "2023-05-20T19:07:58.187Z"
   },
   {
    "duration": 37,
    "start_time": "2023-05-20T19:07:58.222Z"
   },
   {
    "duration": 51,
    "start_time": "2023-05-20T19:07:58.260Z"
   },
   {
    "duration": 44,
    "start_time": "2023-05-20T19:07:58.312Z"
   },
   {
    "duration": 33,
    "start_time": "2023-05-20T19:07:58.376Z"
   },
   {
    "duration": 111,
    "start_time": "2023-05-20T19:07:58.411Z"
   },
   {
    "duration": 169,
    "start_time": "2023-05-20T19:07:58.523Z"
   },
   {
    "duration": 97,
    "start_time": "2023-05-20T19:07:58.694Z"
   },
   {
    "duration": 98,
    "start_time": "2023-05-20T19:07:58.794Z"
   },
   {
    "duration": 92,
    "start_time": "2023-05-20T19:07:58.894Z"
   },
   {
    "duration": 57,
    "start_time": "2023-05-20T19:07:58.988Z"
   },
   {
    "duration": 31,
    "start_time": "2023-05-20T19:07:59.047Z"
   },
   {
    "duration": 12,
    "start_time": "2023-05-20T19:07:59.079Z"
   },
   {
    "duration": 53,
    "start_time": "2023-05-20T19:07:59.092Z"
   },
   {
    "duration": 460,
    "start_time": "2023-05-20T19:07:59.146Z"
   },
   {
    "duration": 7,
    "start_time": "2023-05-20T19:07:59.608Z"
   },
   {
    "duration": 4,
    "start_time": "2023-05-20T19:07:59.616Z"
   },
   {
    "duration": 91203,
    "start_time": "2023-05-20T19:07:59.621Z"
   },
   {
    "duration": 73,
    "start_time": "2023-05-20T19:40:31.094Z"
   },
   {
    "duration": 54,
    "start_time": "2023-05-20T19:40:31.853Z"
   },
   {
    "duration": 12,
    "start_time": "2023-05-20T19:40:31.986Z"
   },
   {
    "duration": 6,
    "start_time": "2023-05-20T19:40:32.127Z"
   },
   {
    "duration": 39,
    "start_time": "2023-05-20T19:40:32.266Z"
   },
   {
    "duration": 389,
    "start_time": "2023-05-20T19:40:32.386Z"
   },
   {
    "duration": 5,
    "start_time": "2023-05-20T19:40:32.777Z"
   },
   {
    "duration": 3,
    "start_time": "2023-05-20T19:40:32.905Z"
   },
   {
    "duration": 367484,
    "start_time": "2023-05-20T19:40:33.062Z"
   },
   {
    "duration": 8,
    "start_time": "2023-05-20T20:37:55.790Z"
   },
   {
    "duration": 335784,
    "start_time": "2023-05-20T20:39:12.392Z"
   },
   {
    "duration": 16,
    "start_time": "2023-05-20T20:45:30.182Z"
   },
   {
    "duration": 72,
    "start_time": "2023-05-20T20:46:38.868Z"
   },
   {
    "duration": 67,
    "start_time": "2023-05-20T20:46:39.623Z"
   },
   {
    "duration": 17,
    "start_time": "2023-05-20T20:46:39.982Z"
   },
   {
    "duration": 7,
    "start_time": "2023-05-20T20:46:40.372Z"
   },
   {
    "duration": 60,
    "start_time": "2023-05-20T20:46:40.759Z"
   },
   {
    "duration": 440,
    "start_time": "2023-05-20T20:46:41.138Z"
   },
   {
    "duration": 10,
    "start_time": "2023-05-20T20:46:41.596Z"
   },
   {
    "duration": 39,
    "start_time": "2023-05-20T20:46:55.485Z"
   },
   {
    "duration": 33,
    "start_time": "2023-05-20T20:46:55.788Z"
   },
   {
    "duration": 36,
    "start_time": "2023-05-20T20:46:58.915Z"
   },
   {
    "duration": 4,
    "start_time": "2023-05-20T20:49:17.466Z"
   },
   {
    "duration": 849,
    "start_time": "2023-05-20T20:49:17.646Z"
   },
   {
    "duration": 13,
    "start_time": "2023-05-20T20:49:18.498Z"
   },
   {
    "duration": 274,
    "start_time": "2023-05-20T20:49:18.514Z"
   },
   {
    "duration": 250,
    "start_time": "2023-05-20T20:49:18.792Z"
   },
   {
    "duration": 67,
    "start_time": "2023-05-20T20:49:19.044Z"
   },
   {
    "duration": 76,
    "start_time": "2023-05-20T20:49:19.113Z"
   },
   {
    "duration": 65,
    "start_time": "2023-05-20T20:49:19.191Z"
   },
   {
    "duration": 57,
    "start_time": "2023-05-20T20:49:19.275Z"
   },
   {
    "duration": 69,
    "start_time": "2023-05-20T20:49:19.336Z"
   },
   {
    "duration": 133,
    "start_time": "2023-05-20T20:49:19.407Z"
   },
   {
    "duration": 296,
    "start_time": "2023-05-20T20:49:19.542Z"
   },
   {
    "duration": 203,
    "start_time": "2023-05-20T20:49:19.841Z"
   },
   {
    "duration": 190,
    "start_time": "2023-05-20T20:49:20.047Z"
   },
   {
    "duration": 159,
    "start_time": "2023-05-20T20:49:20.239Z"
   },
   {
    "duration": 51,
    "start_time": "2023-05-20T20:49:22.104Z"
   },
   {
    "duration": 15,
    "start_time": "2023-05-20T20:49:23.967Z"
   },
   {
    "duration": 9,
    "start_time": "2023-05-20T20:49:24.488Z"
   },
   {
    "duration": 66,
    "start_time": "2023-05-20T20:49:24.586Z"
   },
   {
    "duration": 604,
    "start_time": "2023-05-20T20:49:24.915Z"
   },
   {
    "duration": 8,
    "start_time": "2023-05-20T20:49:25.523Z"
   },
   {
    "duration": 73,
    "start_time": "2023-05-20T20:53:48.382Z"
   },
   {
    "duration": 15,
    "start_time": "2023-05-20T20:53:48.691Z"
   },
   {
    "duration": 7,
    "start_time": "2023-05-20T20:53:49.088Z"
   },
   {
    "duration": 57,
    "start_time": "2023-05-20T20:53:50.854Z"
   },
   {
    "duration": 6,
    "start_time": "2023-05-20T20:53:53.366Z"
   },
   {
    "duration": 398,
    "start_time": "2023-05-20T20:54:03.211Z"
   },
   {
    "duration": 5,
    "start_time": "2023-05-20T20:54:04.163Z"
   },
   {
    "duration": 12,
    "start_time": "2023-05-20T20:57:39.058Z"
   },
   {
    "duration": 468,
    "start_time": "2023-05-20T20:57:40.710Z"
   },
   {
    "duration": 278,
    "start_time": "2023-05-20T20:57:45.354Z"
   },
   {
    "duration": 228,
    "start_time": "2023-05-20T20:58:45.294Z"
   },
   {
    "duration": 33,
    "start_time": "2023-05-20T21:03:51.266Z"
   },
   {
    "duration": 43,
    "start_time": "2023-05-20T21:03:51.774Z"
   },
   {
    "duration": 6,
    "start_time": "2023-05-20T21:03:52.172Z"
   },
   {
    "duration": 15,
    "start_time": "2023-05-20T21:04:01.051Z"
   },
   {
    "duration": 485,
    "start_time": "2023-05-20T21:04:01.329Z"
   },
   {
    "duration": 303,
    "start_time": "2023-05-20T21:04:01.816Z"
   },
   {
    "duration": 43,
    "start_time": "2023-05-20T21:04:02.326Z"
   },
   {
    "duration": 39,
    "start_time": "2023-05-20T21:04:02.671Z"
   },
   {
    "duration": 5,
    "start_time": "2023-05-20T21:04:02.976Z"
   },
   {
    "duration": 13,
    "start_time": "2023-05-20T21:05:47.167Z"
   },
   {
    "duration": 432,
    "start_time": "2023-05-20T21:05:47.475Z"
   },
   {
    "duration": 286,
    "start_time": "2023-05-20T21:05:47.909Z"
   },
   {
    "duration": 118,
    "start_time": "2023-05-20T21:05:48.197Z"
   },
   {
    "duration": 5,
    "start_time": "2023-05-20T21:06:22.766Z"
   },
   {
    "duration": 274077,
    "start_time": "2023-05-20T21:06:31.915Z"
   },
   {
    "duration": 92,
    "start_time": "2023-05-20T21:11:05.994Z"
   },
   {
    "duration": 0,
    "start_time": "2023-05-20T21:11:06.089Z"
   },
   {
    "duration": 723,
    "start_time": "2023-05-20T21:11:38.469Z"
   },
   {
    "duration": 5,
    "start_time": "2023-05-20T21:12:03.662Z"
   },
   {
    "duration": 31,
    "start_time": "2023-05-20T21:12:41.868Z"
   },
   {
    "duration": 97,
    "start_time": "2023-05-20T21:12:47.357Z"
   },
   {
    "duration": 1211,
    "start_time": "2023-05-20T21:13:07.963Z"
   },
   {
    "duration": 3110,
    "start_time": "2023-05-20T21:13:09.177Z"
   },
   {
    "duration": 19,
    "start_time": "2023-05-20T21:13:12.289Z"
   },
   {
    "duration": 137,
    "start_time": "2023-05-20T21:13:12.309Z"
   },
   {
    "duration": 142,
    "start_time": "2023-05-20T21:13:12.449Z"
   },
   {
    "duration": 33,
    "start_time": "2023-05-20T21:13:12.593Z"
   },
   {
    "duration": 34,
    "start_time": "2023-05-20T21:13:12.627Z"
   },
   {
    "duration": 52,
    "start_time": "2023-05-20T21:13:12.662Z"
   },
   {
    "duration": 37,
    "start_time": "2023-05-20T21:13:12.715Z"
   },
   {
    "duration": 51,
    "start_time": "2023-05-20T21:13:12.754Z"
   },
   {
    "duration": 102,
    "start_time": "2023-05-20T21:13:12.806Z"
   },
   {
    "duration": 178,
    "start_time": "2023-05-20T21:13:12.910Z"
   },
   {
    "duration": 100,
    "start_time": "2023-05-20T21:13:13.089Z"
   },
   {
    "duration": 98,
    "start_time": "2023-05-20T21:13:13.191Z"
   },
   {
    "duration": 99,
    "start_time": "2023-05-20T21:13:13.290Z"
   },
   {
    "duration": 17,
    "start_time": "2023-05-20T21:13:13.391Z"
   },
   {
    "duration": 468,
    "start_time": "2023-05-20T21:13:13.409Z"
   },
   {
    "duration": 326,
    "start_time": "2023-05-20T21:13:13.887Z"
   },
   {
    "duration": 137,
    "start_time": "2023-05-20T21:13:14.215Z"
   },
   {
    "duration": 5,
    "start_time": "2023-05-20T21:13:14.353Z"
   },
   {
    "duration": 4,
    "start_time": "2023-05-20T21:13:14.359Z"
   },
   {
    "duration": 53520,
    "start_time": "2023-05-20T21:13:14.375Z"
   },
   {
    "duration": 817,
    "start_time": "2023-05-20T21:14:07.976Z"
   },
   {
    "duration": 5,
    "start_time": "2023-05-20T21:14:08.795Z"
   },
   {
    "duration": 5,
    "start_time": "2023-05-20T21:15:50.417Z"
   },
   {
    "duration": 4,
    "start_time": "2023-05-20T21:16:56.289Z"
   },
   {
    "duration": 3,
    "start_time": "2023-05-20T21:17:04.658Z"
   },
   {
    "duration": 1142,
    "start_time": "2023-05-21T07:13:12.958Z"
   },
   {
    "duration": 915,
    "start_time": "2023-05-21T07:13:14.102Z"
   },
   {
    "duration": 18,
    "start_time": "2023-05-21T07:13:15.018Z"
   },
   {
    "duration": 135,
    "start_time": "2023-05-21T07:13:15.038Z"
   },
   {
    "duration": 106,
    "start_time": "2023-05-21T07:13:15.176Z"
   },
   {
    "duration": 37,
    "start_time": "2023-05-21T07:13:15.283Z"
   },
   {
    "duration": 27,
    "start_time": "2023-05-21T07:13:15.321Z"
   },
   {
    "duration": 47,
    "start_time": "2023-05-21T07:13:15.349Z"
   },
   {
    "duration": 45,
    "start_time": "2023-05-21T07:13:15.398Z"
   },
   {
    "duration": 35,
    "start_time": "2023-05-21T07:13:15.445Z"
   },
   {
    "duration": 82,
    "start_time": "2023-05-21T07:13:15.481Z"
   },
   {
    "duration": 132,
    "start_time": "2023-05-21T07:13:15.564Z"
   },
   {
    "duration": 75,
    "start_time": "2023-05-21T07:13:15.698Z"
   },
   {
    "duration": 80,
    "start_time": "2023-05-21T07:13:15.786Z"
   },
   {
    "duration": 80,
    "start_time": "2023-05-21T07:13:15.868Z"
   },
   {
    "duration": 19,
    "start_time": "2023-05-21T07:13:15.949Z"
   },
   {
    "duration": 394,
    "start_time": "2023-05-21T07:13:15.971Z"
   },
   {
    "duration": 190,
    "start_time": "2023-05-21T07:13:16.367Z"
   },
   {
    "duration": 92,
    "start_time": "2023-05-21T07:13:16.558Z"
   },
   {
    "duration": 5,
    "start_time": "2023-05-21T07:13:16.652Z"
   },
   {
    "duration": 4,
    "start_time": "2023-05-21T07:13:16.658Z"
   },
   {
    "duration": 1048,
    "start_time": "2023-05-21T07:43:12.704Z"
   },
   {
    "duration": 686,
    "start_time": "2023-05-21T07:43:13.754Z"
   },
   {
    "duration": 18,
    "start_time": "2023-05-21T07:43:14.442Z"
   },
   {
    "duration": 104,
    "start_time": "2023-05-21T07:43:14.461Z"
   },
   {
    "duration": 98,
    "start_time": "2023-05-21T07:43:14.567Z"
   },
   {
    "duration": 33,
    "start_time": "2023-05-21T07:43:14.666Z"
   },
   {
    "duration": 30,
    "start_time": "2023-05-21T07:43:14.700Z"
   },
   {
    "duration": 27,
    "start_time": "2023-05-21T07:43:14.731Z"
   },
   {
    "duration": 38,
    "start_time": "2023-05-21T07:43:14.759Z"
   },
   {
    "duration": 25,
    "start_time": "2023-05-21T07:43:14.798Z"
   },
   {
    "duration": 90,
    "start_time": "2023-05-21T07:43:14.824Z"
   },
   {
    "duration": 128,
    "start_time": "2023-05-21T07:43:14.916Z"
   },
   {
    "duration": 78,
    "start_time": "2023-05-21T07:43:15.045Z"
   },
   {
    "duration": 71,
    "start_time": "2023-05-21T07:43:15.125Z"
   },
   {
    "duration": 59,
    "start_time": "2023-05-21T07:43:15.197Z"
   },
   {
    "duration": 16,
    "start_time": "2023-05-21T07:43:15.257Z"
   },
   {
    "duration": 332,
    "start_time": "2023-05-21T07:43:15.284Z"
   },
   {
    "duration": 187,
    "start_time": "2023-05-21T07:43:15.618Z"
   },
   {
    "duration": 87,
    "start_time": "2023-05-21T07:43:15.807Z"
   },
   {
    "duration": 4,
    "start_time": "2023-05-21T07:43:15.895Z"
   },
   {
    "duration": 8,
    "start_time": "2023-05-21T07:43:15.900Z"
   },
   {
    "duration": 133187,
    "start_time": "2023-05-21T07:43:15.909Z"
   },
   {
    "duration": 10523,
    "start_time": "2023-05-21T07:45:29.097Z"
   },
   {
    "duration": 4,
    "start_time": "2023-05-21T07:45:39.622Z"
   },
   {
    "duration": 3,
    "start_time": "2023-05-21T07:46:12.358Z"
   },
   {
    "duration": 1066,
    "start_time": "2023-05-21T07:48:57.147Z"
   },
   {
    "duration": 739,
    "start_time": "2023-05-21T07:48:58.215Z"
   },
   {
    "duration": 18,
    "start_time": "2023-05-21T07:48:58.955Z"
   },
   {
    "duration": 124,
    "start_time": "2023-05-21T07:48:58.975Z"
   },
   {
    "duration": 121,
    "start_time": "2023-05-21T07:48:59.102Z"
   },
   {
    "duration": 30,
    "start_time": "2023-05-21T07:48:59.224Z"
   },
   {
    "duration": 43,
    "start_time": "2023-05-21T07:48:59.255Z"
   },
   {
    "duration": 31,
    "start_time": "2023-05-21T07:48:59.300Z"
   },
   {
    "duration": 45,
    "start_time": "2023-05-21T07:48:59.332Z"
   },
   {
    "duration": 32,
    "start_time": "2023-05-21T07:48:59.379Z"
   },
   {
    "duration": 96,
    "start_time": "2023-05-21T07:48:59.412Z"
   },
   {
    "duration": 140,
    "start_time": "2023-05-21T07:48:59.509Z"
   },
   {
    "duration": 83,
    "start_time": "2023-05-21T07:48:59.651Z"
   },
   {
    "duration": 78,
    "start_time": "2023-05-21T07:48:59.737Z"
   },
   {
    "duration": 74,
    "start_time": "2023-05-21T07:48:59.816Z"
   },
   {
    "duration": 18,
    "start_time": "2023-05-21T07:48:59.892Z"
   },
   {
    "duration": 361,
    "start_time": "2023-05-21T07:48:59.911Z"
   },
   {
    "duration": 195,
    "start_time": "2023-05-21T07:49:00.273Z"
   },
   {
    "duration": 94,
    "start_time": "2023-05-21T07:49:00.469Z"
   },
   {
    "duration": 4,
    "start_time": "2023-05-21T07:49:00.565Z"
   },
   {
    "duration": 20,
    "start_time": "2023-05-21T07:49:00.584Z"
   },
   {
    "duration": 1043,
    "start_time": "2023-05-21T07:49:20.996Z"
   },
   {
    "duration": 659,
    "start_time": "2023-05-21T07:49:22.042Z"
   },
   {
    "duration": 16,
    "start_time": "2023-05-21T07:49:22.703Z"
   },
   {
    "duration": 112,
    "start_time": "2023-05-21T07:49:22.721Z"
   },
   {
    "duration": 97,
    "start_time": "2023-05-21T07:49:22.835Z"
   },
   {
    "duration": 26,
    "start_time": "2023-05-21T07:49:22.933Z"
   },
   {
    "duration": 36,
    "start_time": "2023-05-21T07:49:22.961Z"
   },
   {
    "duration": 29,
    "start_time": "2023-05-21T07:49:22.998Z"
   },
   {
    "duration": 28,
    "start_time": "2023-05-21T07:49:23.030Z"
   },
   {
    "duration": 39,
    "start_time": "2023-05-21T07:49:23.060Z"
   },
   {
    "duration": 102,
    "start_time": "2023-05-21T07:49:23.100Z"
   },
   {
    "duration": 122,
    "start_time": "2023-05-21T07:49:23.204Z"
   },
   {
    "duration": 80,
    "start_time": "2023-05-21T07:49:23.328Z"
   },
   {
    "duration": 75,
    "start_time": "2023-05-21T07:49:23.410Z"
   },
   {
    "duration": 57,
    "start_time": "2023-05-21T07:49:23.487Z"
   },
   {
    "duration": 16,
    "start_time": "2023-05-21T07:49:23.545Z"
   },
   {
    "duration": 345,
    "start_time": "2023-05-21T07:49:23.562Z"
   },
   {
    "duration": 190,
    "start_time": "2023-05-21T07:49:23.909Z"
   },
   {
    "duration": 92,
    "start_time": "2023-05-21T07:49:24.100Z"
   },
   {
    "duration": 4,
    "start_time": "2023-05-21T07:49:24.193Z"
   },
   {
    "duration": 18,
    "start_time": "2023-05-21T07:49:24.198Z"
   },
   {
    "duration": 160082,
    "start_time": "2023-05-21T07:49:24.218Z"
   },
   {
    "duration": 10737,
    "start_time": "2023-05-21T07:52:04.301Z"
   },
   {
    "duration": 47,
    "start_time": "2023-05-21T07:52:15.039Z"
   },
   {
    "duration": 16,
    "start_time": "2023-05-21T07:59:09.456Z"
   },
   {
    "duration": 3,
    "start_time": "2023-05-21T07:59:17.202Z"
   },
   {
    "duration": 7,
    "start_time": "2023-05-21T07:59:58.868Z"
   },
   {
    "duration": 29,
    "start_time": "2023-05-21T08:00:09.856Z"
   },
   {
    "duration": 194,
    "start_time": "2023-05-21T08:00:22.011Z"
   },
   {
    "duration": 119,
    "start_time": "2023-05-21T08:00:31.259Z"
   },
   {
    "duration": 7,
    "start_time": "2023-05-21T08:00:49.259Z"
   },
   {
    "duration": 8,
    "start_time": "2023-05-21T08:01:12.153Z"
   },
   {
    "duration": 55,
    "start_time": "2023-05-21T08:01:23.604Z"
   },
   {
    "duration": 13,
    "start_time": "2023-05-21T08:01:24.180Z"
   },
   {
    "duration": 316,
    "start_time": "2023-05-21T08:01:24.520Z"
   },
   {
    "duration": 192,
    "start_time": "2023-05-21T08:01:24.838Z"
   },
   {
    "duration": 81,
    "start_time": "2023-05-21T08:01:25.032Z"
   },
   {
    "duration": 4,
    "start_time": "2023-05-21T08:01:25.182Z"
   },
   {
    "duration": 3,
    "start_time": "2023-05-21T08:01:25.380Z"
   },
   {
    "duration": 116644,
    "start_time": "2023-05-21T08:01:28.861Z"
   },
   {
    "duration": 10635,
    "start_time": "2023-05-21T08:03:25.507Z"
   },
   {
    "duration": 6,
    "start_time": "2023-05-21T08:03:36.186Z"
   },
   {
    "duration": 4,
    "start_time": "2023-05-21T08:04:54.300Z"
   },
   {
    "duration": 60,
    "start_time": "2023-05-21T08:09:51.575Z"
   },
   {
    "duration": 16,
    "start_time": "2023-05-21T08:09:55.409Z"
   },
   {
    "duration": 326,
    "start_time": "2023-05-21T08:09:55.696Z"
   },
   {
    "duration": 221,
    "start_time": "2023-05-21T08:09:56.024Z"
   },
   {
    "duration": 91,
    "start_time": "2023-05-21T08:09:56.247Z"
   },
   {
    "duration": 5,
    "start_time": "2023-05-21T08:09:56.359Z"
   },
   {
    "duration": 2,
    "start_time": "2023-05-21T08:09:56.556Z"
   },
   {
    "duration": 148250,
    "start_time": "2023-05-21T08:10:00.055Z"
   },
   {
    "duration": 794,
    "start_time": "2023-05-21T08:12:28.308Z"
   },
   {
    "duration": 5,
    "start_time": "2023-05-21T08:12:29.103Z"
   },
   {
    "duration": 4,
    "start_time": "2023-05-21T11:14:26.095Z"
   },
   {
    "duration": 2,
    "start_time": "2023-05-21T11:14:33.058Z"
   },
   {
    "duration": 23211,
    "start_time": "2023-05-21T11:15:19.005Z"
   },
   {
    "duration": 95,
    "start_time": "2023-05-21T11:16:14.116Z"
   },
   {
    "duration": 4,
    "start_time": "2023-05-21T11:17:05.137Z"
   },
   {
    "duration": 114,
    "start_time": "2023-05-21T12:23:08.973Z"
   },
   {
    "duration": 100,
    "start_time": "2023-05-21T12:23:17.185Z"
   },
   {
    "duration": 1481347,
    "start_time": "2023-05-21T12:24:07.325Z"
   },
   {
    "duration": 14501,
    "start_time": "2023-05-21T12:49:30.118Z"
   },
   {
    "duration": 4,
    "start_time": "2023-05-21T12:51:55.755Z"
   },
   {
    "duration": 15155,
    "start_time": "2023-05-21T12:52:22.260Z"
   },
   {
    "duration": 4,
    "start_time": "2023-05-21T12:52:37.417Z"
   },
   {
    "duration": 10,
    "start_time": "2023-05-21T13:30:09.254Z"
   },
   {
    "duration": 5,
    "start_time": "2023-05-21T13:30:17.212Z"
   },
   {
    "duration": 141085,
    "start_time": "2023-05-21T13:30:20.926Z"
   },
   {
    "duration": 5,
    "start_time": "2023-05-21T13:34:04.008Z"
   },
   {
    "duration": 75893,
    "start_time": "2023-05-21T13:34:04.415Z"
   },
   {
    "duration": 12,
    "start_time": "2023-05-21T13:35:20.310Z"
   },
   {
    "duration": 11,
    "start_time": "2023-05-21T13:35:40.225Z"
   },
   {
    "duration": 3,
    "start_time": "2023-05-21T13:35:47.058Z"
   },
   {
    "duration": 2016418,
    "start_time": "2023-05-21T13:35:47.354Z"
   },
   {
    "duration": 101,
    "start_time": "2023-05-21T14:09:23.774Z"
   },
   {
    "duration": 5,
    "start_time": "2023-05-21T14:14:31.969Z"
   },
   {
    "duration": 5,
    "start_time": "2023-05-21T14:49:16.568Z"
   },
   {
    "duration": 135,
    "start_time": "2023-05-21T14:49:32.274Z"
   },
   {
    "duration": 4,
    "start_time": "2023-05-21T14:49:33.267Z"
   },
   {
    "duration": 3,
    "start_time": "2023-05-21T14:49:49.475Z"
   },
   {
    "duration": 2104064,
    "start_time": "2023-05-21T14:49:50.636Z"
   },
   {
    "duration": 447,
    "start_time": "2023-05-21T15:24:54.702Z"
   },
   {
    "duration": 4,
    "start_time": "2023-05-21T15:24:55.151Z"
   },
   {
    "duration": 4,
    "start_time": "2023-05-21T15:46:37.160Z"
   },
   {
    "duration": 1202,
    "start_time": "2023-05-21T15:52:19.381Z"
   },
   {
    "duration": 774,
    "start_time": "2023-05-21T15:52:20.596Z"
   },
   {
    "duration": 19,
    "start_time": "2023-05-21T15:52:21.372Z"
   },
   {
    "duration": 146,
    "start_time": "2023-05-21T15:52:21.392Z"
   },
   {
    "duration": 115,
    "start_time": "2023-05-21T15:52:21.540Z"
   },
   {
    "duration": 55,
    "start_time": "2023-05-21T15:52:21.656Z"
   },
   {
    "duration": 35,
    "start_time": "2023-05-21T15:52:21.713Z"
   },
   {
    "duration": 54,
    "start_time": "2023-05-21T15:52:21.750Z"
   },
   {
    "duration": 90,
    "start_time": "2023-05-21T15:52:21.806Z"
   },
   {
    "duration": 71,
    "start_time": "2023-05-21T15:52:21.898Z"
   },
   {
    "duration": 100,
    "start_time": "2023-05-21T15:52:21.970Z"
   },
   {
    "duration": 138,
    "start_time": "2023-05-21T15:52:22.071Z"
   },
   {
    "duration": 80,
    "start_time": "2023-05-21T15:52:22.210Z"
   },
   {
    "duration": 123,
    "start_time": "2023-05-21T15:52:22.304Z"
   },
   {
    "duration": 78,
    "start_time": "2023-05-21T15:52:22.429Z"
   },
   {
    "duration": 18,
    "start_time": "2023-05-21T15:52:22.508Z"
   },
   {
    "duration": 370,
    "start_time": "2023-05-21T15:52:22.528Z"
   },
   {
    "duration": 212,
    "start_time": "2023-05-21T15:52:22.903Z"
   },
   {
    "duration": 99,
    "start_time": "2023-05-21T15:52:23.116Z"
   },
   {
    "duration": 4,
    "start_time": "2023-05-21T15:52:23.217Z"
   },
   {
    "duration": 6,
    "start_time": "2023-05-21T15:52:23.223Z"
   },
   {
    "duration": 1200,
    "start_time": "2023-05-21T17:40:31.503Z"
   },
   {
    "duration": 827,
    "start_time": "2023-05-21T17:40:32.705Z"
   },
   {
    "duration": 19,
    "start_time": "2023-05-21T17:40:33.533Z"
   },
   {
    "duration": 110,
    "start_time": "2023-05-21T17:40:33.553Z"
   },
   {
    "duration": 109,
    "start_time": "2023-05-21T17:40:33.665Z"
   },
   {
    "duration": 45,
    "start_time": "2023-05-21T17:40:33.775Z"
   },
   {
    "duration": 30,
    "start_time": "2023-05-21T17:40:33.821Z"
   },
   {
    "duration": 52,
    "start_time": "2023-05-21T17:40:33.853Z"
   },
   {
    "duration": 35,
    "start_time": "2023-05-21T17:40:33.907Z"
   },
   {
    "duration": 27,
    "start_time": "2023-05-21T17:40:33.943Z"
   },
   {
    "duration": 101,
    "start_time": "2023-05-21T17:40:33.972Z"
   },
   {
    "duration": 146,
    "start_time": "2023-05-21T17:40:34.074Z"
   },
   {
    "duration": 95,
    "start_time": "2023-05-21T17:40:34.222Z"
   },
   {
    "duration": 124,
    "start_time": "2023-05-21T17:40:34.319Z"
   },
   {
    "duration": 78,
    "start_time": "2023-05-21T17:40:34.445Z"
   },
   {
    "duration": 18,
    "start_time": "2023-05-21T17:40:34.524Z"
   },
   {
    "duration": 376,
    "start_time": "2023-05-21T17:40:34.543Z"
   },
   {
    "duration": 203,
    "start_time": "2023-05-21T17:40:34.920Z"
   },
   {
    "duration": 96,
    "start_time": "2023-05-21T17:40:35.125Z"
   },
   {
    "duration": 6,
    "start_time": "2023-05-21T17:40:35.222Z"
   },
   {
    "duration": 8,
    "start_time": "2023-05-21T17:40:35.229Z"
   },
   {
    "duration": 1278,
    "start_time": "2023-05-21T17:49:19.704Z"
   },
   {
    "duration": 934,
    "start_time": "2023-05-21T17:49:20.984Z"
   },
   {
    "duration": 23,
    "start_time": "2023-05-21T17:49:21.919Z"
   },
   {
    "duration": 158,
    "start_time": "2023-05-21T17:49:21.945Z"
   },
   {
    "duration": 157,
    "start_time": "2023-05-21T17:49:22.106Z"
   },
   {
    "duration": 38,
    "start_time": "2023-05-21T17:49:22.265Z"
   },
   {
    "duration": 35,
    "start_time": "2023-05-21T17:49:22.305Z"
   },
   {
    "duration": 29,
    "start_time": "2023-05-21T17:49:22.342Z"
   },
   {
    "duration": 48,
    "start_time": "2023-05-21T17:49:22.373Z"
   },
   {
    "duration": 29,
    "start_time": "2023-05-21T17:49:22.423Z"
   },
   {
    "duration": 127,
    "start_time": "2023-05-21T17:49:22.454Z"
   },
   {
    "duration": 242,
    "start_time": "2023-05-21T17:49:22.583Z"
   },
   {
    "duration": 89,
    "start_time": "2023-05-21T17:49:22.827Z"
   },
   {
    "duration": 121,
    "start_time": "2023-05-21T17:49:22.919Z"
   },
   {
    "duration": 76,
    "start_time": "2023-05-21T17:49:23.041Z"
   },
   {
    "duration": 29,
    "start_time": "2023-05-21T17:49:23.119Z"
   },
   {
    "duration": 358,
    "start_time": "2023-05-21T17:49:23.149Z"
   },
   {
    "duration": 221,
    "start_time": "2023-05-21T17:49:23.509Z"
   },
   {
    "duration": 101,
    "start_time": "2023-05-21T17:49:23.731Z"
   },
   {
    "duration": 6,
    "start_time": "2023-05-21T17:49:23.833Z"
   },
   {
    "duration": 13,
    "start_time": "2023-05-21T17:49:23.840Z"
   },
   {
    "duration": 1199,
    "start_time": "2023-05-21T18:41:54.703Z"
   },
   {
    "duration": 896,
    "start_time": "2023-05-21T18:41:55.904Z"
   },
   {
    "duration": 20,
    "start_time": "2023-05-21T18:41:56.801Z"
   },
   {
    "duration": 124,
    "start_time": "2023-05-21T18:41:56.823Z"
   },
   {
    "duration": 151,
    "start_time": "2023-05-21T18:41:56.949Z"
   },
   {
    "duration": 50,
    "start_time": "2023-05-21T18:41:57.101Z"
   },
   {
    "duration": 49,
    "start_time": "2023-05-21T18:41:57.153Z"
   },
   {
    "duration": 45,
    "start_time": "2023-05-21T18:41:57.204Z"
   },
   {
    "duration": 52,
    "start_time": "2023-05-21T18:41:57.251Z"
   },
   {
    "duration": 42,
    "start_time": "2023-05-21T18:41:57.307Z"
   },
   {
    "duration": 151,
    "start_time": "2023-05-21T18:41:57.351Z"
   },
   {
    "duration": 159,
    "start_time": "2023-05-21T18:41:57.504Z"
   },
   {
    "duration": 103,
    "start_time": "2023-05-21T18:41:57.664Z"
   },
   {
    "duration": 94,
    "start_time": "2023-05-21T18:41:57.769Z"
   },
   {
    "duration": 88,
    "start_time": "2023-05-21T18:41:57.864Z"
   },
   {
    "duration": 19,
    "start_time": "2023-05-21T18:41:57.954Z"
   },
   {
    "duration": 418,
    "start_time": "2023-05-21T18:41:57.984Z"
   },
   {
    "duration": 221,
    "start_time": "2023-05-21T18:41:58.404Z"
   },
   {
    "duration": 99,
    "start_time": "2023-05-21T18:41:58.627Z"
   },
   {
    "duration": 4,
    "start_time": "2023-05-21T18:41:58.727Z"
   },
   {
    "duration": 6,
    "start_time": "2023-05-21T18:41:58.733Z"
   },
   {
    "duration": 1145,
    "start_time": "2023-05-21T18:42:25.099Z"
   },
   {
    "duration": 853,
    "start_time": "2023-05-21T18:42:26.247Z"
   },
   {
    "duration": 24,
    "start_time": "2023-05-21T18:42:27.102Z"
   },
   {
    "duration": 132,
    "start_time": "2023-05-21T18:42:27.128Z"
   },
   {
    "duration": 129,
    "start_time": "2023-05-21T18:42:27.261Z"
   },
   {
    "duration": 57,
    "start_time": "2023-05-21T18:42:27.391Z"
   },
   {
    "duration": 49,
    "start_time": "2023-05-21T18:42:27.449Z"
   },
   {
    "duration": 50,
    "start_time": "2023-05-21T18:42:27.500Z"
   },
   {
    "duration": 34,
    "start_time": "2023-05-21T18:42:27.552Z"
   },
   {
    "duration": 40,
    "start_time": "2023-05-21T18:42:27.599Z"
   },
   {
    "duration": 160,
    "start_time": "2023-05-21T18:42:27.640Z"
   },
   {
    "duration": 147,
    "start_time": "2023-05-21T18:42:27.801Z"
   },
   {
    "duration": 93,
    "start_time": "2023-05-21T18:42:27.949Z"
   },
   {
    "duration": 92,
    "start_time": "2023-05-21T18:42:28.044Z"
   },
   {
    "duration": 89,
    "start_time": "2023-05-21T18:42:28.138Z"
   },
   {
    "duration": 20,
    "start_time": "2023-05-21T18:42:28.229Z"
   },
   {
    "duration": 402,
    "start_time": "2023-05-21T18:42:28.250Z"
   },
   {
    "duration": 213,
    "start_time": "2023-05-21T18:42:28.654Z"
   },
   {
    "duration": 106,
    "start_time": "2023-05-21T18:42:28.868Z"
   },
   {
    "duration": 6,
    "start_time": "2023-05-21T18:42:28.976Z"
   },
   {
    "duration": 30,
    "start_time": "2023-05-21T18:42:28.986Z"
   },
   {
    "duration": 1162,
    "start_time": "2023-05-21T18:49:16.975Z"
   },
   {
    "duration": 735,
    "start_time": "2023-05-21T18:49:18.139Z"
   },
   {
    "duration": 26,
    "start_time": "2023-05-21T18:49:18.875Z"
   },
   {
    "duration": 123,
    "start_time": "2023-05-21T18:49:18.902Z"
   },
   {
    "duration": 103,
    "start_time": "2023-05-21T18:49:19.027Z"
   },
   {
    "duration": 26,
    "start_time": "2023-05-21T18:49:19.132Z"
   },
   {
    "duration": 55,
    "start_time": "2023-05-21T18:49:19.159Z"
   },
   {
    "duration": 48,
    "start_time": "2023-05-21T18:49:19.215Z"
   },
   {
    "duration": 55,
    "start_time": "2023-05-21T18:49:19.264Z"
   },
   {
    "duration": 25,
    "start_time": "2023-05-21T18:49:19.321Z"
   },
   {
    "duration": 99,
    "start_time": "2023-05-21T18:49:19.348Z"
   },
   {
    "duration": 150,
    "start_time": "2023-05-21T18:49:19.449Z"
   },
   {
    "duration": 72,
    "start_time": "2023-05-21T18:49:19.600Z"
   },
   {
    "duration": 124,
    "start_time": "2023-05-21T18:49:19.674Z"
   },
   {
    "duration": 72,
    "start_time": "2023-05-21T18:49:19.799Z"
   },
   {
    "duration": 27,
    "start_time": "2023-05-21T18:49:19.872Z"
   },
   {
    "duration": 350,
    "start_time": "2023-05-21T18:49:19.902Z"
   },
   {
    "duration": 193,
    "start_time": "2023-05-21T18:49:20.253Z"
   },
   {
    "duration": 94,
    "start_time": "2023-05-21T18:49:20.447Z"
   },
   {
    "duration": 5,
    "start_time": "2023-05-21T18:49:20.542Z"
   },
   {
    "duration": 19,
    "start_time": "2023-05-21T18:49:20.548Z"
   },
   {
    "duration": 1069,
    "start_time": "2023-05-21T19:29:24.934Z"
   },
   {
    "duration": 827,
    "start_time": "2023-05-21T19:29:26.005Z"
   },
   {
    "duration": 19,
    "start_time": "2023-05-21T19:29:26.833Z"
   },
   {
    "duration": 145,
    "start_time": "2023-05-21T19:29:26.853Z"
   },
   {
    "duration": 128,
    "start_time": "2023-05-21T19:29:27.001Z"
   },
   {
    "duration": 32,
    "start_time": "2023-05-21T19:29:27.130Z"
   },
   {
    "duration": 55,
    "start_time": "2023-05-21T19:29:27.163Z"
   },
   {
    "duration": 33,
    "start_time": "2023-05-21T19:29:27.220Z"
   },
   {
    "duration": 47,
    "start_time": "2023-05-21T19:29:27.254Z"
   },
   {
    "duration": 40,
    "start_time": "2023-05-21T19:29:27.303Z"
   },
   {
    "duration": 93,
    "start_time": "2023-05-21T19:29:27.344Z"
   },
   {
    "duration": 157,
    "start_time": "2023-05-21T19:29:27.438Z"
   },
   {
    "duration": 80,
    "start_time": "2023-05-21T19:29:27.597Z"
   },
   {
    "duration": 79,
    "start_time": "2023-05-21T19:29:27.692Z"
   },
   {
    "duration": 127,
    "start_time": "2023-05-21T19:29:27.773Z"
   },
   {
    "duration": 19,
    "start_time": "2023-05-21T19:29:27.901Z"
   },
   {
    "duration": 385,
    "start_time": "2023-05-21T19:29:27.922Z"
   },
   {
    "duration": 213,
    "start_time": "2023-05-21T19:29:28.309Z"
   },
   {
    "duration": 104,
    "start_time": "2023-05-21T19:29:28.524Z"
   },
   {
    "duration": 4,
    "start_time": "2023-05-21T19:29:28.630Z"
   },
   {
    "duration": 4,
    "start_time": "2023-05-21T19:29:28.635Z"
   },
   {
    "duration": 123855,
    "start_time": "2023-05-21T19:29:28.641Z"
   },
   {
    "duration": 691,
    "start_time": "2023-05-21T19:31:32.497Z"
   },
   {
    "duration": 7,
    "start_time": "2023-05-21T19:31:33.190Z"
   },
   {
    "duration": 171,
    "start_time": "2023-05-21T19:31:33.200Z"
   },
   {
    "duration": 0,
    "start_time": "2023-05-21T19:31:33.372Z"
   },
   {
    "duration": 0,
    "start_time": "2023-05-21T19:31:33.373Z"
   },
   {
    "duration": 0,
    "start_time": "2023-05-21T19:31:33.374Z"
   },
   {
    "duration": 0,
    "start_time": "2023-05-21T19:31:33.395Z"
   },
   {
    "duration": 0,
    "start_time": "2023-05-21T19:31:33.396Z"
   },
   {
    "duration": 0,
    "start_time": "2023-05-21T19:31:33.397Z"
   },
   {
    "duration": 0,
    "start_time": "2023-05-21T19:31:33.398Z"
   },
   {
    "duration": 0,
    "start_time": "2023-05-21T19:31:33.399Z"
   },
   {
    "duration": 8,
    "start_time": "2023-05-21T19:58:06.966Z"
   },
   {
    "duration": 989957,
    "start_time": "2023-05-21T19:58:13.297Z"
   },
   {
    "duration": 8,
    "start_time": "2023-05-21T20:14:43.256Z"
   },
   {
    "duration": 0,
    "start_time": "2023-05-21T20:14:43.265Z"
   },
   {
    "duration": 0,
    "start_time": "2023-05-21T20:14:43.266Z"
   },
   {
    "duration": 0,
    "start_time": "2023-05-21T20:14:43.267Z"
   },
   {
    "duration": 0,
    "start_time": "2023-05-21T20:14:43.267Z"
   },
   {
    "duration": 0,
    "start_time": "2023-05-21T20:14:43.268Z"
   },
   {
    "duration": 0,
    "start_time": "2023-05-21T20:14:43.270Z"
   },
   {
    "duration": 7,
    "start_time": "2023-05-21T20:41:11.249Z"
   },
   {
    "duration": 8,
    "start_time": "2023-05-21T20:42:36.705Z"
   },
   {
    "duration": 3,
    "start_time": "2023-05-21T20:42:46.750Z"
   },
   {
    "duration": 262,
    "start_time": "2023-05-21T20:42:58.647Z"
   },
   {
    "duration": 3,
    "start_time": "2023-05-21T20:43:04.174Z"
   },
   {
    "duration": 8,
    "start_time": "2023-05-21T20:43:05.056Z"
   },
   {
    "duration": 3,
    "start_time": "2023-05-21T20:43:17.549Z"
   },
   {
    "duration": 2031258,
    "start_time": "2023-05-21T20:43:18.441Z"
   },
   {
    "duration": 423,
    "start_time": "2023-05-21T21:17:09.701Z"
   },
   {
    "duration": 4,
    "start_time": "2023-05-21T21:17:10.126Z"
   },
   {
    "duration": 50,
    "start_time": "2023-05-22T05:23:28.610Z"
   },
   {
    "duration": 1384,
    "start_time": "2023-05-22T05:23:32.302Z"
   },
   {
    "duration": 1087,
    "start_time": "2023-05-22T05:23:33.688Z"
   },
   {
    "duration": 27,
    "start_time": "2023-05-22T05:23:34.777Z"
   },
   {
    "duration": 207,
    "start_time": "2023-05-22T05:23:34.807Z"
   },
   {
    "duration": 133,
    "start_time": "2023-05-22T05:23:35.016Z"
   },
   {
    "duration": 33,
    "start_time": "2023-05-22T05:23:35.150Z"
   },
   {
    "duration": 52,
    "start_time": "2023-05-22T05:23:35.185Z"
   },
   {
    "duration": 53,
    "start_time": "2023-05-22T05:23:35.239Z"
   },
   {
    "duration": 55,
    "start_time": "2023-05-22T05:23:35.293Z"
   },
   {
    "duration": 65,
    "start_time": "2023-05-22T05:23:35.350Z"
   },
   {
    "duration": 131,
    "start_time": "2023-05-22T05:23:35.417Z"
   },
   {
    "duration": 475,
    "start_time": "2023-05-22T05:23:35.550Z"
   },
   {
    "duration": 562,
    "start_time": "2023-05-22T05:24:02.223Z"
   },
   {
    "duration": 96,
    "start_time": "2023-05-22T05:24:02.788Z"
   },
   {
    "duration": 98,
    "start_time": "2023-05-22T05:24:07.699Z"
   },
   {
    "duration": 126100,
    "start_time": "2023-05-22T05:24:58.567Z"
   },
   {
    "duration": 1367,
    "start_time": "2023-05-22T05:27:04.669Z"
   },
   {
    "duration": 0,
    "start_time": "2023-05-22T05:27:06.038Z"
   },
   {
    "duration": 4,
    "start_time": "2023-05-22T05:27:13.461Z"
   },
   {
    "duration": 32031,
    "start_time": "2023-05-22T05:27:28.142Z"
   },
   {
    "duration": 302,
    "start_time": "2023-05-22T05:28:13.441Z"
   },
   {
    "duration": 1122,
    "start_time": "2023-05-22T05:28:19.361Z"
   },
   {
    "duration": 23,
    "start_time": "2023-05-22T05:28:28.713Z"
   },
   {
    "duration": 199,
    "start_time": "2023-05-22T05:28:31.768Z"
   },
   {
    "duration": 31,
    "start_time": "2023-05-22T05:28:43.774Z"
   },
   {
    "duration": 39,
    "start_time": "2023-05-22T05:28:52.879Z"
   },
   {
    "duration": 39,
    "start_time": "2023-05-22T05:29:38.881Z"
   },
   {
    "duration": 19,
    "start_time": "2023-05-22T05:29:52.919Z"
   },
   {
    "duration": 26,
    "start_time": "2023-05-22T05:29:59.957Z"
   },
   {
    "duration": 34,
    "start_time": "2023-05-22T05:30:02.469Z"
   },
   {
    "duration": 39,
    "start_time": "2023-05-22T05:30:08.443Z"
   },
   {
    "duration": 34,
    "start_time": "2023-05-22T05:30:08.696Z"
   },
   {
    "duration": 43,
    "start_time": "2023-05-22T05:30:33.367Z"
   },
   {
    "duration": 7,
    "start_time": "2023-05-22T05:30:55.516Z"
   },
   {
    "duration": 812,
    "start_time": "2023-05-22T05:34:03.013Z"
   },
   {
    "duration": 15,
    "start_time": "2023-05-22T05:34:03.827Z"
   },
   {
    "duration": 181,
    "start_time": "2023-05-22T05:34:03.844Z"
   },
   {
    "duration": 122,
    "start_time": "2023-05-22T05:34:04.028Z"
   },
   {
    "duration": 34,
    "start_time": "2023-05-22T05:34:04.152Z"
   },
   {
    "duration": 52,
    "start_time": "2023-05-22T05:34:04.851Z"
   },
   {
    "duration": 46,
    "start_time": "2023-05-22T05:34:05.339Z"
   },
   {
    "duration": 57,
    "start_time": "2023-05-22T05:34:07.048Z"
   },
   {
    "duration": 31,
    "start_time": "2023-05-22T05:34:07.584Z"
   },
   {
    "duration": 20,
    "start_time": "2023-05-22T05:34:08.909Z"
   },
   {
    "duration": 89,
    "start_time": "2023-05-22T05:34:09.990Z"
   },
   {
    "duration": 134,
    "start_time": "2023-05-22T05:34:13.637Z"
   },
   {
    "duration": 427,
    "start_time": "2023-05-22T05:34:38.183Z"
   },
   {
    "duration": 572,
    "start_time": "2023-05-22T05:34:38.761Z"
   },
   {
    "duration": 117,
    "start_time": "2023-05-22T05:34:39.335Z"
   },
   {
    "duration": 107,
    "start_time": "2023-05-22T05:34:41.518Z"
   },
   {
    "duration": 46,
    "start_time": "2023-05-22T05:34:43.106Z"
   },
   {
    "duration": 40,
    "start_time": "2023-05-22T05:34:43.342Z"
   },
   {
    "duration": 51,
    "start_time": "2023-05-22T05:34:45.039Z"
   },
   {
    "duration": 10,
    "start_time": "2023-05-22T05:34:45.990Z"
   },
   {
    "duration": 20,
    "start_time": "2023-05-22T05:35:35.146Z"
   },
   {
    "duration": 27,
    "start_time": "2023-05-22T05:36:29.035Z"
   },
   {
    "duration": 12,
    "start_time": "2023-05-22T05:36:47.738Z"
   },
   {
    "duration": 4,
    "start_time": "2023-05-22T05:37:08.527Z"
   },
   {
    "duration": 31,
    "start_time": "2023-05-22T05:37:49.138Z"
   },
   {
    "duration": 7,
    "start_time": "2023-05-22T05:37:52.369Z"
   },
   {
    "duration": 56,
    "start_time": "2023-05-22T05:38:22.754Z"
   },
   {
    "duration": 57,
    "start_time": "2023-05-22T05:40:16.114Z"
   },
   {
    "duration": 12,
    "start_time": "2023-05-22T05:40:16.860Z"
   },
   {
    "duration": 345,
    "start_time": "2023-05-22T05:40:17.386Z"
   },
   {
    "duration": 213,
    "start_time": "2023-05-22T05:40:18.190Z"
   },
   {
    "duration": 101,
    "start_time": "2023-05-22T05:40:20.150Z"
   },
   {
    "duration": 5,
    "start_time": "2023-05-22T05:40:20.438Z"
   },
   {
    "duration": 1798,
    "start_time": "2023-05-22T05:47:49.324Z"
   },
   {
    "duration": 979,
    "start_time": "2023-05-22T05:47:51.124Z"
   },
   {
    "duration": 35,
    "start_time": "2023-05-22T05:47:52.105Z"
   },
   {
    "duration": 249,
    "start_time": "2023-05-22T05:47:52.146Z"
   },
   {
    "duration": 181,
    "start_time": "2023-05-22T05:47:52.398Z"
   },
   {
    "duration": 55,
    "start_time": "2023-05-22T05:47:52.581Z"
   },
   {
    "duration": 71,
    "start_time": "2023-05-22T05:47:52.637Z"
   },
   {
    "duration": 109,
    "start_time": "2023-05-22T05:47:52.710Z"
   },
   {
    "duration": 79,
    "start_time": "2023-05-22T05:47:52.821Z"
   },
   {
    "duration": 81,
    "start_time": "2023-05-22T05:47:52.903Z"
   },
   {
    "duration": 108,
    "start_time": "2023-05-22T05:47:52.986Z"
   },
   {
    "duration": 148,
    "start_time": "2023-05-22T05:47:53.096Z"
   },
   {
    "duration": 741,
    "start_time": "2023-05-22T05:47:53.246Z"
   },
   {
    "duration": 691,
    "start_time": "2023-05-22T05:47:53.990Z"
   },
   {
    "duration": 170,
    "start_time": "2023-05-22T05:47:54.682Z"
   },
   {
    "duration": 228,
    "start_time": "2023-05-22T05:47:54.855Z"
   },
   {
    "duration": 90,
    "start_time": "2023-05-22T05:47:55.086Z"
   },
   {
    "duration": 74,
    "start_time": "2023-05-22T05:47:55.179Z"
   },
   {
    "duration": 102,
    "start_time": "2023-05-22T05:47:55.259Z"
   },
   {
    "duration": 8,
    "start_time": "2023-05-22T05:47:55.363Z"
   },
   {
    "duration": 67,
    "start_time": "2023-05-22T05:47:55.374Z"
   },
   {
    "duration": 13,
    "start_time": "2023-05-22T05:47:55.443Z"
   },
   {
    "duration": 6,
    "start_time": "2023-05-22T05:47:55.458Z"
   },
   {
    "duration": 68,
    "start_time": "2023-05-22T05:47:55.466Z"
   },
   {
    "duration": 61,
    "start_time": "2023-05-22T05:47:55.535Z"
   },
   {
    "duration": 33,
    "start_time": "2023-05-22T05:47:55.598Z"
   },
   {
    "duration": 356,
    "start_time": "2023-05-22T05:47:55.632Z"
   },
   {
    "duration": 227,
    "start_time": "2023-05-22T05:47:55.990Z"
   },
   {
    "duration": 118,
    "start_time": "2023-05-22T05:47:56.219Z"
   },
   {
    "duration": 6,
    "start_time": "2023-05-22T05:47:56.342Z"
   },
   {
    "duration": 14,
    "start_time": "2023-05-22T05:47:56.349Z"
   },
   {
    "duration": 329979,
    "start_time": "2023-05-22T05:47:56.364Z"
   },
   {
    "duration": 682,
    "start_time": "2023-05-22T05:53:26.346Z"
   },
   {
    "duration": 6,
    "start_time": "2023-05-22T05:53:27.032Z"
   },
   {
    "duration": 410973,
    "start_time": "2023-05-22T05:53:27.040Z"
   },
   {
    "duration": 232,
    "start_time": "2023-05-22T06:00:18.015Z"
   },
   {
    "duration": 17,
    "start_time": "2023-05-22T06:00:18.248Z"
   },
   {
    "duration": 0,
    "start_time": "2023-05-22T06:00:18.267Z"
   },
   {
    "duration": 0,
    "start_time": "2023-05-22T06:00:18.268Z"
   },
   {
    "duration": 0,
    "start_time": "2023-05-22T06:00:18.270Z"
   },
   {
    "duration": 0,
    "start_time": "2023-05-22T06:00:18.271Z"
   },
   {
    "duration": 0,
    "start_time": "2023-05-22T06:00:18.272Z"
   },
   {
    "duration": 12,
    "start_time": "2023-05-22T06:05:26.844Z"
   },
   {
    "duration": 10,
    "start_time": "2023-05-22T06:08:28.845Z"
   },
   {
    "duration": 13,
    "start_time": "2023-05-22T06:09:50.680Z"
   },
   {
    "duration": 11,
    "start_time": "2023-05-22T06:12:10.036Z"
   },
   {
    "duration": 15044,
    "start_time": "2023-05-22T06:12:47.736Z"
   },
   {
    "duration": 434853,
    "start_time": "2023-05-22T06:13:05.260Z"
   },
   {
    "duration": 4,
    "start_time": "2023-05-22T06:20:20.115Z"
   },
   {
    "duration": 47,
    "start_time": "2023-05-22T06:22:21.263Z"
   },
   {
    "duration": 87,
    "start_time": "2023-05-22T06:22:35.097Z"
   },
   {
    "duration": 54943,
    "start_time": "2023-05-22T06:23:12.458Z"
   },
   {
    "duration": 302,
    "start_time": "2023-05-22T06:26:14.267Z"
   },
   {
    "duration": 5,
    "start_time": "2023-05-22T06:26:17.671Z"
   },
   {
    "duration": 169,
    "start_time": "2023-05-22T06:26:22.297Z"
   },
   {
    "duration": 271158,
    "start_time": "2023-05-22T06:26:32.282Z"
   },
   {
    "duration": 2730,
    "start_time": "2023-05-22T06:31:03.443Z"
   },
   {
    "duration": 5,
    "start_time": "2023-05-22T06:31:06.175Z"
   },
   {
    "duration": 13,
    "start_time": "2023-05-22T06:36:40.048Z"
   },
   {
    "duration": 11,
    "start_time": "2023-05-22T06:37:13.757Z"
   },
   {
    "duration": 7,
    "start_time": "2023-05-22T06:37:23.712Z"
   },
   {
    "duration": 8,
    "start_time": "2023-05-22T06:37:25.321Z"
   },
   {
    "duration": 1419,
    "start_time": "2023-05-22T06:46:47.579Z"
   },
   {
    "duration": 861,
    "start_time": "2023-05-22T06:46:49.000Z"
   },
   {
    "duration": 18,
    "start_time": "2023-05-22T06:46:49.863Z"
   },
   {
    "duration": 168,
    "start_time": "2023-05-22T06:46:49.884Z"
   },
   {
    "duration": 126,
    "start_time": "2023-05-22T06:46:50.054Z"
   },
   {
    "duration": 43,
    "start_time": "2023-05-22T06:46:50.182Z"
   },
   {
    "duration": 41,
    "start_time": "2023-05-22T06:46:50.227Z"
   },
   {
    "duration": 54,
    "start_time": "2023-05-22T06:46:50.269Z"
   },
   {
    "duration": 51,
    "start_time": "2023-05-22T06:46:50.325Z"
   },
   {
    "duration": 54,
    "start_time": "2023-05-22T06:46:50.379Z"
   },
   {
    "duration": 71,
    "start_time": "2023-05-22T06:46:50.435Z"
   },
   {
    "duration": 158,
    "start_time": "2023-05-22T06:46:50.508Z"
   },
   {
    "duration": 508,
    "start_time": "2023-05-22T06:46:50.667Z"
   },
   {
    "duration": 605,
    "start_time": "2023-05-22T06:46:51.177Z"
   },
   {
    "duration": 118,
    "start_time": "2023-05-22T06:46:51.784Z"
   },
   {
    "duration": 116,
    "start_time": "2023-05-22T06:46:51.904Z"
   },
   {
    "duration": 71,
    "start_time": "2023-05-22T06:46:52.025Z"
   },
   {
    "duration": 49,
    "start_time": "2023-05-22T06:46:52.099Z"
   },
   {
    "duration": 102,
    "start_time": "2023-05-22T06:46:52.150Z"
   },
   {
    "duration": 11,
    "start_time": "2023-05-22T06:46:52.254Z"
   },
   {
    "duration": 81,
    "start_time": "2023-05-22T06:46:52.267Z"
   },
   {
    "duration": 11,
    "start_time": "2023-05-22T06:46:52.350Z"
   },
   {
    "duration": 5,
    "start_time": "2023-05-22T06:46:52.363Z"
   },
   {
    "duration": 58,
    "start_time": "2023-05-22T06:46:52.369Z"
   },
   {
    "duration": 58,
    "start_time": "2023-05-22T06:46:52.429Z"
   },
   {
    "duration": 13,
    "start_time": "2023-05-22T06:46:52.489Z"
   },
   {
    "duration": 345,
    "start_time": "2023-05-22T06:46:52.525Z"
   },
   {
    "duration": 230,
    "start_time": "2023-05-22T06:46:52.875Z"
   },
   {
    "duration": 106,
    "start_time": "2023-05-22T06:46:53.106Z"
   },
   {
    "duration": 13,
    "start_time": "2023-05-22T06:46:53.214Z"
   },
   {
    "duration": 107,
    "start_time": "2023-05-22T06:46:53.229Z"
   },
   {
    "duration": 0,
    "start_time": "2023-05-22T06:46:53.338Z"
   },
   {
    "duration": 0,
    "start_time": "2023-05-22T06:46:53.339Z"
   },
   {
    "duration": 0,
    "start_time": "2023-05-22T06:46:53.341Z"
   },
   {
    "duration": 0,
    "start_time": "2023-05-22T06:46:53.342Z"
   },
   {
    "duration": 0,
    "start_time": "2023-05-22T06:46:53.343Z"
   },
   {
    "duration": 0,
    "start_time": "2023-05-22T06:46:53.345Z"
   },
   {
    "duration": 0,
    "start_time": "2023-05-22T06:46:53.346Z"
   },
   {
    "duration": 0,
    "start_time": "2023-05-22T06:46:53.348Z"
   },
   {
    "duration": 0,
    "start_time": "2023-05-22T06:46:53.349Z"
   },
   {
    "duration": 0,
    "start_time": "2023-05-22T06:46:53.350Z"
   },
   {
    "duration": 0,
    "start_time": "2023-05-22T06:46:53.352Z"
   },
   {
    "duration": 0,
    "start_time": "2023-05-22T06:46:53.353Z"
   },
   {
    "duration": 0,
    "start_time": "2023-05-22T06:46:53.355Z"
   },
   {
    "duration": 3,
    "start_time": "2023-05-22T06:47:31.761Z"
   },
   {
    "duration": 1601848,
    "start_time": "2023-05-22T06:47:32.979Z"
   },
   {
    "duration": 1729,
    "start_time": "2023-05-22T07:14:14.830Z"
   },
   {
    "duration": 5,
    "start_time": "2023-05-22T07:14:16.561Z"
   },
   {
    "duration": 398872,
    "start_time": "2023-05-22T07:14:16.567Z"
   },
   {
    "duration": 4,
    "start_time": "2023-05-22T07:20:55.440Z"
   },
   {
    "duration": 52138,
    "start_time": "2023-05-22T07:20:55.446Z"
   },
   {
    "duration": 290,
    "start_time": "2023-05-22T07:21:47.586Z"
   },
   {
    "duration": 5,
    "start_time": "2023-05-22T07:21:47.877Z"
   },
   {
    "duration": 256548,
    "start_time": "2023-05-22T07:21:47.883Z"
   },
   {
    "duration": 2804,
    "start_time": "2023-05-22T07:26:04.433Z"
   },
   {
    "duration": 5,
    "start_time": "2023-05-22T07:26:07.238Z"
   },
   {
    "duration": 40,
    "start_time": "2023-05-22T07:26:07.245Z"
   },
   {
    "duration": 56,
    "start_time": "2023-05-22T07:26:07.287Z"
   },
   {
    "duration": 42,
    "start_time": "2023-05-22T07:26:07.345Z"
   },
   {
    "duration": 8,
    "start_time": "2023-05-22T07:37:55.262Z"
   },
   {
    "duration": 10,
    "start_time": "2023-05-22T07:37:55.496Z"
   },
   {
    "duration": 1605,
    "start_time": "2023-05-23T05:56:42.357Z"
   },
   {
    "duration": 1045,
    "start_time": "2023-05-23T05:56:43.964Z"
   },
   {
    "duration": 16,
    "start_time": "2023-05-23T05:56:45.011Z"
   },
   {
    "duration": 179,
    "start_time": "2023-05-23T05:56:45.029Z"
   },
   {
    "duration": 127,
    "start_time": "2023-05-23T05:56:45.892Z"
   },
   {
    "duration": 34,
    "start_time": "2023-05-23T05:56:48.304Z"
   },
   {
    "duration": 34,
    "start_time": "2023-05-23T05:56:48.502Z"
   },
   {
    "duration": 57,
    "start_time": "2023-05-23T05:56:48.709Z"
   },
   {
    "duration": 35,
    "start_time": "2023-05-23T05:56:48.890Z"
   },
   {
    "duration": 40,
    "start_time": "2023-05-23T05:56:49.067Z"
   },
   {
    "duration": 22,
    "start_time": "2023-05-23T05:56:49.438Z"
   },
   {
    "duration": 429,
    "start_time": "2023-05-23T05:56:51.477Z"
   },
   {
    "duration": 539,
    "start_time": "2023-05-23T05:56:52.757Z"
   },
   {
    "duration": 106,
    "start_time": "2023-05-23T05:56:53.391Z"
   },
   {
    "duration": 95,
    "start_time": "2023-05-23T05:56:58.421Z"
   },
   {
    "duration": 2,
    "start_time": "2023-05-23T05:57:07.776Z"
   },
   {
    "duration": 72,
    "start_time": "2023-05-23T05:59:29.460Z"
   },
   {
    "duration": 61,
    "start_time": "2023-05-23T05:59:48.473Z"
   },
   {
    "duration": 31,
    "start_time": "2023-05-23T06:00:58.140Z"
   },
   {
    "duration": 87,
    "start_time": "2023-05-23T06:01:00.587Z"
   },
   {
    "duration": 1412,
    "start_time": "2023-05-23T06:46:38.059Z"
   },
   {
    "duration": 992,
    "start_time": "2023-05-23T06:46:39.473Z"
   },
   {
    "duration": 14,
    "start_time": "2023-05-23T06:46:40.466Z"
   },
   {
    "duration": 122,
    "start_time": "2023-05-23T06:46:40.482Z"
   },
   {
    "duration": 119,
    "start_time": "2023-05-23T06:46:40.605Z"
   },
   {
    "duration": 36,
    "start_time": "2023-05-23T06:46:40.725Z"
   },
   {
    "duration": 42,
    "start_time": "2023-05-23T06:46:40.762Z"
   },
   {
    "duration": 42,
    "start_time": "2023-05-23T06:46:40.805Z"
   },
   {
    "duration": 41,
    "start_time": "2023-05-23T06:46:40.849Z"
   },
   {
    "duration": 30,
    "start_time": "2023-05-23T06:46:40.892Z"
   },
   {
    "duration": 24,
    "start_time": "2023-05-23T06:46:40.923Z"
   },
   {
    "duration": 432,
    "start_time": "2023-05-23T06:46:40.948Z"
   },
   {
    "duration": 525,
    "start_time": "2023-05-23T06:46:41.381Z"
   },
   {
    "duration": 104,
    "start_time": "2023-05-23T06:46:41.908Z"
   },
   {
    "duration": 101,
    "start_time": "2023-05-23T06:46:42.014Z"
   },
   {
    "duration": 45,
    "start_time": "2023-05-23T06:46:42.117Z"
   },
   {
    "duration": 50,
    "start_time": "2023-05-23T06:46:42.164Z"
   },
   {
    "duration": 45,
    "start_time": "2023-05-23T06:46:42.216Z"
   },
   {
    "duration": 7,
    "start_time": "2023-05-23T06:46:42.262Z"
   },
   {
    "duration": 43,
    "start_time": "2023-05-23T06:46:42.323Z"
   },
   {
    "duration": 7,
    "start_time": "2023-05-23T06:46:42.912Z"
   },
   {
    "duration": 4,
    "start_time": "2023-05-23T06:46:43.092Z"
   },
   {
    "duration": 69,
    "start_time": "2023-05-23T06:46:43.495Z"
   },
   {
    "duration": 53,
    "start_time": "2023-05-23T06:46:44.095Z"
   },
   {
    "duration": 21,
    "start_time": "2023-05-23T06:46:47.341Z"
   },
   {
    "duration": 2,
    "start_time": "2023-05-23T06:46:47.795Z"
   },
   {
    "duration": 78,
    "start_time": "2023-05-23T06:46:49.299Z"
   },
   {
    "duration": 45,
    "start_time": "2023-05-23T06:46:58.350Z"
   },
   {
    "duration": 1353,
    "start_time": "2023-05-23T06:50:14.617Z"
   },
   {
    "duration": 1088,
    "start_time": "2023-05-23T06:50:15.972Z"
   },
   {
    "duration": 18,
    "start_time": "2023-05-23T06:50:17.063Z"
   },
   {
    "duration": 135,
    "start_time": "2023-05-23T06:50:17.083Z"
   },
   {
    "duration": 123,
    "start_time": "2023-05-23T06:50:17.220Z"
   },
   {
    "duration": 52,
    "start_time": "2023-05-23T06:50:17.344Z"
   },
   {
    "duration": 33,
    "start_time": "2023-05-23T06:50:17.398Z"
   },
   {
    "duration": 38,
    "start_time": "2023-05-23T06:50:17.433Z"
   },
   {
    "duration": 84,
    "start_time": "2023-05-23T06:50:17.473Z"
   },
   {
    "duration": 72,
    "start_time": "2023-05-23T06:50:17.559Z"
   },
   {
    "duration": 34,
    "start_time": "2023-05-23T06:50:17.633Z"
   },
   {
    "duration": 469,
    "start_time": "2023-05-23T06:50:17.669Z"
   },
   {
    "duration": 570,
    "start_time": "2023-05-23T06:50:18.140Z"
   },
   {
    "duration": 109,
    "start_time": "2023-05-23T06:50:18.712Z"
   },
   {
    "duration": 101,
    "start_time": "2023-05-23T06:50:18.823Z"
   },
   {
    "duration": 40,
    "start_time": "2023-05-23T06:50:21.005Z"
   },
   {
    "duration": 34,
    "start_time": "2023-05-23T06:50:21.155Z"
   },
   {
    "duration": 45,
    "start_time": "2023-05-23T06:50:21.298Z"
   },
   {
    "duration": 6,
    "start_time": "2023-05-23T06:50:21.431Z"
   },
   {
    "duration": 39,
    "start_time": "2023-05-23T06:50:23.065Z"
   },
   {
    "duration": 9,
    "start_time": "2023-05-23T06:50:23.599Z"
   },
   {
    "duration": 5,
    "start_time": "2023-05-23T06:50:24.174Z"
   },
   {
    "duration": 77,
    "start_time": "2023-05-23T06:50:26.258Z"
   },
   {
    "duration": 56,
    "start_time": "2023-05-23T06:50:31.151Z"
   },
   {
    "duration": 142,
    "start_time": "2023-05-23T06:50:52.256Z"
   },
   {
    "duration": 41,
    "start_time": "2023-05-23T06:51:04.048Z"
   },
   {
    "duration": 13,
    "start_time": "2023-05-23T06:51:17.424Z"
   },
   {
    "duration": 25,
    "start_time": "2023-05-23T06:51:23.943Z"
   },
   {
    "duration": 40,
    "start_time": "2023-05-23T06:51:30.264Z"
   },
   {
    "duration": 420,
    "start_time": "2023-05-23T06:51:33.158Z"
   },
   {
    "duration": 4,
    "start_time": "2023-05-23T06:51:37.118Z"
   },
   {
    "duration": 5,
    "start_time": "2023-05-23T06:52:56.014Z"
   },
   {
    "duration": 4,
    "start_time": "2023-05-23T06:58:36.074Z"
   },
   {
    "duration": 10,
    "start_time": "2023-05-23T06:59:29.795Z"
   },
   {
    "duration": 4,
    "start_time": "2023-05-23T07:00:22.276Z"
   },
   {
    "duration": 732,
    "start_time": "2023-05-23T07:00:27.640Z"
   },
   {
    "duration": 1392,
    "start_time": "2023-05-23T07:05:36.158Z"
   },
   {
    "duration": 783,
    "start_time": "2023-05-23T07:05:37.552Z"
   },
   {
    "duration": 15,
    "start_time": "2023-05-23T07:05:38.336Z"
   },
   {
    "duration": 145,
    "start_time": "2023-05-23T07:05:38.353Z"
   },
   {
    "duration": 125,
    "start_time": "2023-05-23T07:05:38.500Z"
   },
   {
    "duration": 30,
    "start_time": "2023-05-23T07:05:38.627Z"
   },
   {
    "duration": 44,
    "start_time": "2023-05-23T07:05:38.658Z"
   },
   {
    "duration": 45,
    "start_time": "2023-05-23T07:05:38.703Z"
   },
   {
    "duration": 30,
    "start_time": "2023-05-23T07:05:38.750Z"
   },
   {
    "duration": 33,
    "start_time": "2023-05-23T07:05:38.782Z"
   },
   {
    "duration": 28,
    "start_time": "2023-05-23T07:05:38.816Z"
   },
   {
    "duration": 423,
    "start_time": "2023-05-23T07:05:38.846Z"
   },
   {
    "duration": 555,
    "start_time": "2023-05-23T07:05:39.271Z"
   },
   {
    "duration": 102,
    "start_time": "2023-05-23T07:05:39.828Z"
   },
   {
    "duration": 101,
    "start_time": "2023-05-23T07:05:39.932Z"
   },
   {
    "duration": 38,
    "start_time": "2023-05-23T07:05:40.035Z"
   },
   {
    "duration": 48,
    "start_time": "2023-05-23T07:05:40.075Z"
   },
   {
    "duration": 46,
    "start_time": "2023-05-23T07:05:40.125Z"
   },
   {
    "duration": 28,
    "start_time": "2023-05-23T07:05:40.173Z"
   },
   {
    "duration": 52,
    "start_time": "2023-05-23T07:05:40.202Z"
   },
   {
    "duration": 10,
    "start_time": "2023-05-23T07:05:40.255Z"
   },
   {
    "duration": 3,
    "start_time": "2023-05-23T07:05:40.266Z"
   },
   {
    "duration": 99,
    "start_time": "2023-05-23T07:05:40.271Z"
   },
   {
    "duration": 57,
    "start_time": "2023-05-23T07:05:40.372Z"
   },
   {
    "duration": 4,
    "start_time": "2023-05-23T07:05:40.431Z"
   },
   {
    "duration": 22,
    "start_time": "2023-05-23T07:05:40.436Z"
   },
   {
    "duration": 16,
    "start_time": "2023-05-23T07:05:40.460Z"
   },
   {
    "duration": 49,
    "start_time": "2023-05-23T07:05:40.478Z"
   },
   {
    "duration": 16,
    "start_time": "2023-05-23T07:05:40.529Z"
   },
   {
    "duration": 48,
    "start_time": "2023-05-23T07:05:40.547Z"
   },
   {
    "duration": 453,
    "start_time": "2023-05-23T07:05:40.596Z"
   },
   {
    "duration": 6,
    "start_time": "2023-05-23T07:05:41.051Z"
   },
   {
    "duration": 8,
    "start_time": "2023-05-23T07:05:41.059Z"
   },
   {
    "duration": 197,
    "start_time": "2023-05-23T07:05:41.068Z"
   },
   {
    "duration": 10,
    "start_time": "2023-05-23T07:05:41.266Z"
   },
   {
    "duration": 0,
    "start_time": "2023-05-23T07:05:41.277Z"
   },
   {
    "duration": 0,
    "start_time": "2023-05-23T07:05:41.278Z"
   },
   {
    "duration": 0,
    "start_time": "2023-05-23T07:05:41.279Z"
   },
   {
    "duration": 0,
    "start_time": "2023-05-23T07:05:41.280Z"
   },
   {
    "duration": 0,
    "start_time": "2023-05-23T07:05:41.281Z"
   },
   {
    "duration": 0,
    "start_time": "2023-05-23T07:05:41.282Z"
   },
   {
    "duration": 0,
    "start_time": "2023-05-23T07:05:41.283Z"
   },
   {
    "duration": 0,
    "start_time": "2023-05-23T07:05:41.284Z"
   },
   {
    "duration": 0,
    "start_time": "2023-05-23T07:05:41.285Z"
   },
   {
    "duration": 0,
    "start_time": "2023-05-23T07:05:41.285Z"
   },
   {
    "duration": 0,
    "start_time": "2023-05-23T07:05:41.287Z"
   },
   {
    "duration": 0,
    "start_time": "2023-05-23T07:05:41.288Z"
   },
   {
    "duration": 0,
    "start_time": "2023-05-23T07:05:41.289Z"
   },
   {
    "duration": 11949,
    "start_time": "2023-05-23T07:06:40.163Z"
   },
   {
    "duration": 1297,
    "start_time": "2023-05-23T07:07:00.611Z"
   },
   {
    "duration": 5,
    "start_time": "2023-05-23T07:07:04.372Z"
   },
   {
    "duration": 3017,
    "start_time": "2023-05-23T07:07:09.586Z"
   },
   {
    "duration": 345071,
    "start_time": "2023-05-23T07:07:17.600Z"
   },
   {
    "duration": 3,
    "start_time": "2023-05-23T07:13:02.673Z"
   },
   {
    "duration": 45838,
    "start_time": "2023-05-23T07:13:02.678Z"
   },
   {
    "duration": 223,
    "start_time": "2023-05-23T07:13:48.518Z"
   },
   {
    "duration": 4,
    "start_time": "2023-05-23T07:13:48.744Z"
   },
   {
    "duration": 4,
    "start_time": "2023-05-23T07:20:56.425Z"
   },
   {
    "duration": 814,
    "start_time": "2023-05-23T07:20:56.844Z"
   },
   {
    "duration": 21562,
    "start_time": "2023-05-23T07:20:58.168Z"
   },
   {
    "duration": 1215,
    "start_time": "2023-05-23T07:21:19.732Z"
   },
   {
    "duration": 4,
    "start_time": "2023-05-23T07:21:20.948Z"
   },
   {
    "duration": 1177,
    "start_time": "2023-05-23T07:23:08.424Z"
   },
   {
    "duration": 193,
    "start_time": "2023-05-23T07:23:17.497Z"
   },
   {
    "duration": 1293,
    "start_time": "2023-05-23T07:23:27.934Z"
   },
   {
    "duration": 200,
    "start_time": "2023-05-23T07:26:08.555Z"
   },
   {
    "duration": 1273,
    "start_time": "2023-05-23T07:26:33.558Z"
   },
   {
    "duration": 1241,
    "start_time": "2023-05-23T07:27:19.179Z"
   },
   {
    "duration": 4,
    "start_time": "2023-05-23T09:08:05.211Z"
   },
   {
    "duration": 7,
    "start_time": "2023-05-23T09:08:05.824Z"
   },
   {
    "duration": 229,
    "start_time": "2023-05-23T09:09:23.791Z"
   },
   {
    "duration": 1371,
    "start_time": "2023-05-23T09:09:35.454Z"
   },
   {
    "duration": 1260,
    "start_time": "2023-05-23T09:09:46.803Z"
   },
   {
    "duration": 5,
    "start_time": "2023-05-23T09:11:05.887Z"
   },
   {
    "duration": 5,
    "start_time": "2023-05-23T09:11:08.368Z"
   },
   {
    "duration": 6,
    "start_time": "2023-05-23T09:11:08.675Z"
   },
   {
    "duration": 1426,
    "start_time": "2023-05-23T09:11:26.481Z"
   },
   {
    "duration": 830,
    "start_time": "2023-05-23T09:11:27.909Z"
   },
   {
    "duration": 17,
    "start_time": "2023-05-23T09:11:28.741Z"
   },
   {
    "duration": 163,
    "start_time": "2023-05-23T09:11:28.760Z"
   },
   {
    "duration": 149,
    "start_time": "2023-05-23T09:11:28.925Z"
   },
   {
    "duration": 37,
    "start_time": "2023-05-23T09:11:29.076Z"
   },
   {
    "duration": 65,
    "start_time": "2023-05-23T09:11:29.115Z"
   },
   {
    "duration": 50,
    "start_time": "2023-05-23T09:11:29.181Z"
   },
   {
    "duration": 45,
    "start_time": "2023-05-23T09:11:29.233Z"
   },
   {
    "duration": 41,
    "start_time": "2023-05-23T09:11:29.279Z"
   },
   {
    "duration": 38,
    "start_time": "2023-05-23T09:11:29.322Z"
   },
   {
    "duration": 453,
    "start_time": "2023-05-23T09:11:29.362Z"
   },
   {
    "duration": 572,
    "start_time": "2023-05-23T09:11:29.816Z"
   },
   {
    "duration": 106,
    "start_time": "2023-05-23T09:11:30.390Z"
   },
   {
    "duration": 98,
    "start_time": "2023-05-23T09:11:30.498Z"
   },
   {
    "duration": 61,
    "start_time": "2023-05-23T09:11:30.598Z"
   },
   {
    "duration": 53,
    "start_time": "2023-05-23T09:11:30.660Z"
   },
   {
    "duration": 60,
    "start_time": "2023-05-23T09:11:30.714Z"
   },
   {
    "duration": 8,
    "start_time": "2023-05-23T09:11:30.776Z"
   },
   {
    "duration": 74,
    "start_time": "2023-05-23T09:11:30.785Z"
   },
   {
    "duration": 8,
    "start_time": "2023-05-23T09:11:30.861Z"
   },
   {
    "duration": 16,
    "start_time": "2023-05-23T09:11:30.871Z"
   },
   {
    "duration": 94,
    "start_time": "2023-05-23T09:11:30.888Z"
   },
   {
    "duration": 55,
    "start_time": "2023-05-23T09:11:30.983Z"
   },
   {
    "duration": 3,
    "start_time": "2023-05-23T09:11:31.039Z"
   },
   {
    "duration": 24,
    "start_time": "2023-05-23T09:11:31.043Z"
   },
   {
    "duration": 17,
    "start_time": "2023-05-23T09:11:31.068Z"
   },
   {
    "duration": 58,
    "start_time": "2023-05-23T09:11:31.087Z"
   },
   {
    "duration": 15,
    "start_time": "2023-05-23T09:11:31.147Z"
   },
   {
    "duration": 53,
    "start_time": "2023-05-23T09:11:31.163Z"
   },
   {
    "duration": 453,
    "start_time": "2023-05-23T09:11:31.218Z"
   },
   {
    "duration": 5,
    "start_time": "2023-05-23T09:11:31.673Z"
   },
   {
    "duration": 29,
    "start_time": "2023-05-23T09:11:31.680Z"
   },
   {
    "duration": 13899,
    "start_time": "2023-05-23T09:11:31.710Z"
   },
   {
    "duration": 1424,
    "start_time": "2023-05-23T09:11:45.610Z"
   },
   {
    "duration": 5,
    "start_time": "2023-05-23T09:11:47.096Z"
   },
   {
    "duration": 308631,
    "start_time": "2023-05-23T09:11:47.103Z"
   },
   {
    "duration": 5,
    "start_time": "2023-05-23T09:16:55.736Z"
   },
   {
    "duration": 39899,
    "start_time": "2023-05-23T09:16:55.742Z"
   },
   {
    "duration": 215,
    "start_time": "2023-05-23T09:17:35.642Z"
   },
   {
    "duration": 4,
    "start_time": "2023-05-23T09:17:35.861Z"
   },
   {
    "duration": 23,
    "start_time": "2023-05-23T09:17:35.866Z"
   },
   {
    "duration": 812,
    "start_time": "2023-05-23T09:17:35.890Z"
   },
   {
    "duration": 23318,
    "start_time": "2023-05-23T09:17:36.704Z"
   },
   {
    "duration": 1300,
    "start_time": "2023-05-23T09:18:00.024Z"
   },
   {
    "duration": 4,
    "start_time": "2023-05-23T09:18:01.326Z"
   },
   {
    "duration": 46,
    "start_time": "2023-05-23T09:18:01.332Z"
   },
   {
    "duration": 57,
    "start_time": "2023-05-23T09:18:01.380Z"
   },
   {
    "duration": 409,
    "start_time": "2023-05-23T09:18:01.439Z"
   },
   {
    "duration": 1364,
    "start_time": "2023-05-23T09:18:01.850Z"
   },
   {
    "duration": 1264,
    "start_time": "2023-05-23T09:18:03.216Z"
   },
   {
    "duration": 5,
    "start_time": "2023-05-23T09:26:29.809Z"
   },
   {
    "duration": 8,
    "start_time": "2023-05-23T09:26:30.438Z"
   },
   {
    "duration": 52,
    "start_time": "2023-05-30T08:23:56.583Z"
   },
   {
    "duration": 7,
    "start_time": "2023-05-30T08:24:12.188Z"
   },
   {
    "duration": 8,
    "start_time": "2023-05-30T08:24:20.638Z"
   }
  ],
  "kernelspec": {
   "display_name": "Python 3 (ipykernel)",
   "language": "python",
   "name": "python3"
  },
  "language_info": {
   "codemirror_mode": {
    "name": "ipython",
    "version": 3
   },
   "file_extension": ".py",
   "mimetype": "text/x-python",
   "name": "python",
   "nbconvert_exporter": "python",
   "pygments_lexer": "ipython3",
   "version": "3.9.7"
  },
  "toc": {
   "base_numbering": 1,
   "nav_menu": {},
   "number_sections": true,
   "sideBar": true,
   "skip_h1_title": true,
   "title_cell": "Table of Contents",
   "title_sidebar": "Contents",
   "toc_cell": false,
   "toc_position": {},
   "toc_section_display": true,
   "toc_window_display": false
  }
 },
 "nbformat": 4,
 "nbformat_minor": 2
}
